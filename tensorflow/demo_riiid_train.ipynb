{
  "nbformat": 4,
  "nbformat_minor": 0,
  "metadata": {
    "accelerator": "GPU",
    "colab": {
      "name": "demo-riiid-train.ipynb",
      "provenance": [],
      "collapsed_sections": [],
      "toc_visible": true,
      "machine_shape": "hm"
    },
    "kernelspec": {
      "display_name": "Python 3",
      "language": "python",
      "name": "python3"
    },
    "language_info": {
      "codemirror_mode": {
        "name": "ipython",
        "version": 3
      },
      "file_extension": ".py",
      "mimetype": "text/x-python",
      "name": "python",
      "nbconvert_exporter": "python",
      "pygments_lexer": "ipython3",
      "version": "3.6.4"
    }
  },
  "cells": [
    {
      "cell_type": "code",
      "metadata": {
        "colab": {
          "base_uri": "https://localhost:8080/"
        },
        "id": "1alPO9cYR8zX",
        "outputId": "74744153-50fa-4ccd-aed9-b2181947ce7d"
      },
      "source": [
        "# Install latest version sklearn (0.23)\n",
        "!pip install -U scikit-learn"
      ],
      "execution_count": null,
      "outputs": [
        {
          "output_type": "stream",
          "text": [
            "Requirement already up-to-date: scikit-learn in /usr/local/lib/python3.6/dist-packages (0.23.2)\n",
            "Requirement already satisfied, skipping upgrade: numpy>=1.13.3 in /usr/local/lib/python3.6/dist-packages (from scikit-learn) (1.19.4)\n",
            "Requirement already satisfied, skipping upgrade: scipy>=0.19.1 in /usr/local/lib/python3.6/dist-packages (from scikit-learn) (1.4.1)\n",
            "Requirement already satisfied, skipping upgrade: joblib>=0.11 in /usr/local/lib/python3.6/dist-packages (from scikit-learn) (1.0.0)\n",
            "Requirement already satisfied, skipping upgrade: threadpoolctl>=2.0.0 in /usr/local/lib/python3.6/dist-packages (from scikit-learn) (2.1.0)\n"
          ],
          "name": "stdout"
        }
      ]
    },
    {
      "cell_type": "code",
      "metadata": {
        "cellView": "both",
        "id": "fl0JGKUzPcs0"
      },
      "source": [
        "# Imports\n",
        "import pandas as pd\n",
        "import numpy as np\n",
        "import os\n",
        "import shutil\n",
        "from collections import Counter\n",
        "import matplotlib.pyplot as plt\n",
        "import time\n",
        "import gc\n",
        "import sys\n",
        "import random\n",
        "import pickle\n",
        "\n",
        "from scipy.stats import iqr\n",
        "from sklearn import preprocessing\n",
        "\n",
        "import datetime\n",
        "import logging\n",
        "\n",
        "# Deep learning\n",
        "import tensorflow as tf\n",
        "import tensorflow.keras.backend as K\n",
        "import tensorflow.keras.layers as L\n",
        "import tensorflow.keras.models as M\n",
        "\n",
        "from IPython.display import display\n",
        "# Set pandas options\n",
        "pd.options.display.max_rows = 2000"
      ],
      "execution_count": null,
      "outputs": []
    },
    {
      "cell_type": "code",
      "metadata": {
        "cellView": "both",
        "id": "TyCCeSTaw6_s"
      },
      "source": [
        "# Global variables \n",
        "THR_E = 100 # interaction threshold of exercises (E) for user\n",
        "BATCH_SIZE = 128\n",
        "\n",
        "AUTO = tf.data.experimental.AUTOTUNE\n",
        "EPOCHS = 200\n",
        "N_SELECT_PER_EPOCH = 100000 # Random select N samples for each epoch from train/val set\n",
        "VAL_EVERY_N_EPOCHS = 5\n",
        "PRINT_EVERY_N_BATCHES = 50 \n",
        "\n",
        "SAVE_DICTS = True"
      ],
      "execution_count": null,
      "outputs": []
    },
    {
      "cell_type": "code",
      "metadata": {
        "id": "XR5Io93kU0RK"
      },
      "source": [
        "# Experiment date and number!\r\n",
        "date = datetime.datetime.today().strftime(\"%d-%b\")\r\n",
        "experiment = \"-riiid-2\"\r\n",
        "OUTPUT_FOLDER = date + experiment \r\n",
        "os.makedirs(OUTPUT_FOLDER, exist_ok=True)"
      ],
      "execution_count": null,
      "outputs": []
    },
    {
      "cell_type": "code",
      "metadata": {
        "id": "fPFvJd9PsbR6"
      },
      "source": [
        "# Selected features\n",
        "selections = [\"E\", \"r\", \"lt\"]\n",
        "assert((selections[0] == \"E\") & (selections[1]==\"r\"))"
      ],
      "execution_count": null,
      "outputs": []
    },
    {
      "cell_type": "code",
      "metadata": {
        "id": "wiHtMtRWAvE8"
      },
      "source": [
        "# Choose model setting\n",
        "ENC_EMB, ENC_DENSE = [0], [] \n",
        "DEC_EMB, DEC_DENSE = [1], [2]"
      ],
      "execution_count": null,
      "outputs": []
    },
    {
      "cell_type": "code",
      "metadata": {
        "cellView": "both",
        "colab": {
          "base_uri": "https://localhost:8080/"
        },
        "id": "yRrlNtCi8QxP",
        "outputId": "6be982ae-4fb5-4b50-f909-7ce73aa87e2c"
      },
      "source": [
        "from google.colab import drive\n",
        "drive.mount('/content/drive', force_remount=True)\n",
        "\n",
        "FOLDER_FEATHER = \"/content/drive/My Drive/kaggle-riiid/feather-files\"\n",
        "PREPROCESS_FILE = \"/content/drive/My\\ Drive/Colab\\ Notebooks/demo-riiid-preprocessing.ipynb\"\n",
        "MODEL_FILE = \"/content/drive/My\\ Drive/Colab\\ Notebooks/demo-riiid-transformer.ipynb\" # https://stackoverflow.com/questions/57464810/how-to-run-a-jupyter-notebook-with-space-in-relative-path-from-another-notebook\n",
        "# MODEL_FILE = \"/content/drive/My\\ Drive/Colab\\ Notebooks/riiid-functional-transformer.ipynb\" # https://stackoverflow.com/questions/57464810/how-to-run-a-jupyter-notebook-with-space-in-relative-path-from-another-notebook\n"
      ],
      "execution_count": null,
      "outputs": [
        {
          "output_type": "stream",
          "text": [
            "Mounted at /content/drive\n"
          ],
          "name": "stdout"
        }
      ]
    },
    {
      "cell_type": "code",
      "metadata": {
        "id": "G2pN4ICUn9tK"
      },
      "source": [
        "# Add functions to preprocess data\n",
        "%run $PREPROCESS_FILE"
      ],
      "execution_count": null,
      "outputs": []
    },
    {
      "cell_type": "code",
      "metadata": {
        "id": "Eoay_2ef1W7r"
      },
      "source": [
        "# Create logger\n",
        "logging = create_logging(OUTPUT_FOLDER)"
      ],
      "execution_count": null,
      "outputs": []
    },
    {
      "cell_type": "code",
      "metadata": {
        "cellView": "both",
        "colab": {
          "base_uri": "https://localhost:8080/",
          "height": 486
        },
        "id": "4aC9MfDSbI0c",
        "outputId": "1903eab9-8510-4565-f7b3-d398358a576d"
      },
      "source": [
        "%%time\n",
        "# Read all dataframes from feather files and print out\n",
        "train = read_df_print(os.path.join(FOLDER_FEATHER, \"train.feather\")) \n",
        "questions = read_df_print(os.path.join(FOLDER_FEATHER, \"questions.feather\"))\n",
        "lectures = read_df_print(os.path.join(FOLDER_FEATHER, \"lectures.feather\"))"
      ],
      "execution_count": null,
      "outputs": [
        {
          "output_type": "stream",
          "text": [
            "(101230332, 10)\n"
          ],
          "name": "stdout"
        },
        {
          "output_type": "display_data",
          "data": {
            "text/html": [
              "<div>\n",
              "<style scoped>\n",
              "    .dataframe tbody tr th:only-of-type {\n",
              "        vertical-align: middle;\n",
              "    }\n",
              "\n",
              "    .dataframe tbody tr th {\n",
              "        vertical-align: top;\n",
              "    }\n",
              "\n",
              "    .dataframe thead th {\n",
              "        text-align: right;\n",
              "    }\n",
              "</style>\n",
              "<table border=\"1\" class=\"dataframe\">\n",
              "  <thead>\n",
              "    <tr style=\"text-align: right;\">\n",
              "      <th></th>\n",
              "      <th>row_id</th>\n",
              "      <th>timestamp</th>\n",
              "      <th>user_id</th>\n",
              "      <th>content_id</th>\n",
              "      <th>content_type_id</th>\n",
              "      <th>task_container_id</th>\n",
              "      <th>user_answer</th>\n",
              "      <th>answered_correctly</th>\n",
              "      <th>prior_question_elapsed_time</th>\n",
              "      <th>prior_question_had_explanation</th>\n",
              "    </tr>\n",
              "  </thead>\n",
              "  <tbody>\n",
              "    <tr>\n",
              "      <th>0</th>\n",
              "      <td>0</td>\n",
              "      <td>0</td>\n",
              "      <td>115</td>\n",
              "      <td>5692</td>\n",
              "      <td>False</td>\n",
              "      <td>1</td>\n",
              "      <td>3</td>\n",
              "      <td>1</td>\n",
              "      <td>NaN</td>\n",
              "      <td>None</td>\n",
              "    </tr>\n",
              "    <tr>\n",
              "      <th>1</th>\n",
              "      <td>1</td>\n",
              "      <td>56943</td>\n",
              "      <td>115</td>\n",
              "      <td>5716</td>\n",
              "      <td>False</td>\n",
              "      <td>2</td>\n",
              "      <td>2</td>\n",
              "      <td>1</td>\n",
              "      <td>37000.0</td>\n",
              "      <td>False</td>\n",
              "    </tr>\n",
              "    <tr>\n",
              "      <th>2</th>\n",
              "      <td>2</td>\n",
              "      <td>118363</td>\n",
              "      <td>115</td>\n",
              "      <td>128</td>\n",
              "      <td>False</td>\n",
              "      <td>0</td>\n",
              "      <td>0</td>\n",
              "      <td>1</td>\n",
              "      <td>55000.0</td>\n",
              "      <td>False</td>\n",
              "    </tr>\n",
              "  </tbody>\n",
              "</table>\n",
              "</div>"
            ],
            "text/plain": [
              "   row_id  ...  prior_question_had_explanation\n",
              "0       0  ...                            None\n",
              "1       1  ...                           False\n",
              "2       2  ...                           False\n",
              "\n",
              "[3 rows x 10 columns]"
            ]
          },
          "metadata": {
            "tags": []
          }
        },
        {
          "output_type": "stream",
          "text": [
            "(13523, 5)\n"
          ],
          "name": "stdout"
        },
        {
          "output_type": "display_data",
          "data": {
            "text/html": [
              "<div>\n",
              "<style scoped>\n",
              "    .dataframe tbody tr th:only-of-type {\n",
              "        vertical-align: middle;\n",
              "    }\n",
              "\n",
              "    .dataframe tbody tr th {\n",
              "        vertical-align: top;\n",
              "    }\n",
              "\n",
              "    .dataframe thead th {\n",
              "        text-align: right;\n",
              "    }\n",
              "</style>\n",
              "<table border=\"1\" class=\"dataframe\">\n",
              "  <thead>\n",
              "    <tr style=\"text-align: right;\">\n",
              "      <th></th>\n",
              "      <th>question_id</th>\n",
              "      <th>bundle_id</th>\n",
              "      <th>correct_answer</th>\n",
              "      <th>part</th>\n",
              "      <th>tags</th>\n",
              "    </tr>\n",
              "  </thead>\n",
              "  <tbody>\n",
              "    <tr>\n",
              "      <th>0</th>\n",
              "      <td>0</td>\n",
              "      <td>0</td>\n",
              "      <td>0</td>\n",
              "      <td>1</td>\n",
              "      <td>51 131 162 38</td>\n",
              "    </tr>\n",
              "    <tr>\n",
              "      <th>1</th>\n",
              "      <td>1</td>\n",
              "      <td>1</td>\n",
              "      <td>1</td>\n",
              "      <td>1</td>\n",
              "      <td>131 36 81</td>\n",
              "    </tr>\n",
              "    <tr>\n",
              "      <th>2</th>\n",
              "      <td>2</td>\n",
              "      <td>2</td>\n",
              "      <td>0</td>\n",
              "      <td>1</td>\n",
              "      <td>131 101 162 92</td>\n",
              "    </tr>\n",
              "  </tbody>\n",
              "</table>\n",
              "</div>"
            ],
            "text/plain": [
              "   question_id  bundle_id  correct_answer  part            tags\n",
              "0            0          0               0     1   51 131 162 38\n",
              "1            1          1               1     1       131 36 81\n",
              "2            2          2               0     1  131 101 162 92"
            ]
          },
          "metadata": {
            "tags": []
          }
        },
        {
          "output_type": "stream",
          "text": [
            "(418, 4)\n"
          ],
          "name": "stdout"
        },
        {
          "output_type": "display_data",
          "data": {
            "text/html": [
              "<div>\n",
              "<style scoped>\n",
              "    .dataframe tbody tr th:only-of-type {\n",
              "        vertical-align: middle;\n",
              "    }\n",
              "\n",
              "    .dataframe tbody tr th {\n",
              "        vertical-align: top;\n",
              "    }\n",
              "\n",
              "    .dataframe thead th {\n",
              "        text-align: right;\n",
              "    }\n",
              "</style>\n",
              "<table border=\"1\" class=\"dataframe\">\n",
              "  <thead>\n",
              "    <tr style=\"text-align: right;\">\n",
              "      <th></th>\n",
              "      <th>lecture_id</th>\n",
              "      <th>tag</th>\n",
              "      <th>part</th>\n",
              "      <th>type_of</th>\n",
              "    </tr>\n",
              "  </thead>\n",
              "  <tbody>\n",
              "    <tr>\n",
              "      <th>0</th>\n",
              "      <td>89</td>\n",
              "      <td>24584</td>\n",
              "      <td>5</td>\n",
              "      <td>concept</td>\n",
              "    </tr>\n",
              "    <tr>\n",
              "      <th>1</th>\n",
              "      <td>100</td>\n",
              "      <td>22243</td>\n",
              "      <td>1</td>\n",
              "      <td>concept</td>\n",
              "    </tr>\n",
              "    <tr>\n",
              "      <th>2</th>\n",
              "      <td>185</td>\n",
              "      <td>7035</td>\n",
              "      <td>6</td>\n",
              "      <td>concept</td>\n",
              "    </tr>\n",
              "  </tbody>\n",
              "</table>\n",
              "</div>"
            ],
            "text/plain": [
              "   lecture_id    tag  part  type_of\n",
              "0          89  24584     5  concept\n",
              "1         100  22243     1  concept\n",
              "2         185   7035     6  concept"
            ]
          },
          "metadata": {
            "tags": []
          }
        },
        {
          "output_type": "stream",
          "text": [
            "CPU times: user 1.69 s, sys: 1.89 s, total: 3.58 s\n",
            "Wall time: 2.58 s\n"
          ],
          "name": "stdout"
        }
      ]
    },
    {
      "cell_type": "code",
      "metadata": {
        "colab": {
          "base_uri": "https://localhost:8080/"
        },
        "id": "ifHkb8aPPhma",
        "outputId": "5306e4df-e87c-49b5-8ee3-a5c0b4f4ba86"
      },
      "source": [
        "# We don't need the lectures for now!\n",
        "train = train.loc[train[\"content_type_id\"]==0]"
      ],
      "execution_count": null,
      "outputs": [
        {
          "output_type": "stream",
          "text": [
            "19-12 17:53 numexpr.utils INFO     NumExpr defaulting to 4 threads.\n"
          ],
          "name": "stderr"
        }
      ]
    },
    {
      "cell_type": "code",
      "metadata": {
        "id": "XqeE-GuynMui"
      },
      "source": [
        "# Save space by deleting some columns\n",
        "del train[\"row_id\"], train[\"user_answer\"]"
      ],
      "execution_count": null,
      "outputs": []
    },
    {
      "cell_type": "code",
      "metadata": {
        "cellView": "both",
        "id": "yjODj3l-Eas9"
      },
      "source": [
        "N_questions, N_parts = questions[\"question_id\"].nunique(), questions[\"part\"].nunique()\n",
        "N_response, N_task, N_lag, N_et = 2, 2, 1440, 301"
      ],
      "execution_count": null,
      "outputs": []
    },
    {
      "cell_type": "code",
      "metadata": {
        "id": "6XAcxLxFhEqt"
      },
      "source": [
        "# %%time \n",
        "# # Split users into multiple parts based on THR_E\n",
        "# train = split_into_more_users(train, ascending=USER_ASCENDING)\n",
        "# print(f\"Number of new_user_ids: {train.new_user_id.nunique()}\")"
      ],
      "execution_count": null,
      "outputs": []
    },
    {
      "cell_type": "code",
      "metadata": {
        "id": "1bp-gBbzHlND"
      },
      "source": [
        "# Seq len of users [sorted same as df]. USED FOR TRAINING\n",
        "seq_len_dict = dict(train[\"user_id\"].value_counts())\n",
        "users = train[\"user_id\"].unique()\n",
        "seq_lens = [seq_len_dict[user] for user in users]"
      ],
      "execution_count": null,
      "outputs": []
    },
    {
      "cell_type": "code",
      "metadata": {
        "id": "kF2zoN0jRqzV"
      },
      "source": [
        "# Train/valid split\r\n",
        "train_len = int(len(users)*0.9)\r\n",
        "val_len = len(users) - train_len\r\n",
        "train_users, val_users = users[:train_len], users[train_len:]\r\n",
        "\r\n",
        "# PROBS of sequence\r\n",
        "seq_len_train, seq_len_val = seq_lens[:train_len], seq_lens[train_len:]\r\n",
        "PROBS_TRAIN = seq_len_train/np.sum(seq_len_train)\r\n",
        "PROBS_VAL = seq_len_val/np.sum(seq_len_val)"
      ],
      "execution_count": null,
      "outputs": []
    },
    {
      "cell_type": "code",
      "metadata": {
        "colab": {
          "base_uri": "https://localhost:8080/"
        },
        "id": "w5pBSw-YFjgZ",
        "outputId": "6f556169-93aa-4a72-f75c-5355ebd38b98"
      },
      "source": [
        "len(users)"
      ],
      "execution_count": null,
      "outputs": [
        {
          "output_type": "execute_result",
          "data": {
            "text/plain": [
              "393656"
            ]
          },
          "metadata": {
            "tags": []
          },
          "execution_count": 17
        }
      ]
    },
    {
      "cell_type": "markdown",
      "metadata": {
        "id": "tWvX2zk-AIBg"
      },
      "source": [
        "## Add all inputs/outputs"
      ]
    },
    {
      "cell_type": "code",
      "metadata": {
        "id": "8P_CP-lACNhq"
      },
      "source": [
        "p_lists, lt_lists, et_lists, tag_lists, task_lists, quantile_transformer_et, lt_cat, quantile_transformer_lt, et_cat, ltc, etc = [], [], [], [], [], [], [], [], [], [],[]"
      ],
      "execution_count": null,
      "outputs": []
    },
    {
      "cell_type": "code",
      "metadata": {
        "cellView": "both",
        "colab": {
          "base_uri": "https://localhost:8080/"
        },
        "id": "aTBlz8gcKwIq",
        "outputId": "4fd13df6-8f71-4261-fc22-636edda5acb0"
      },
      "source": [
        "# Add exercises\n",
        "%time E_lists = return_E()"
      ],
      "execution_count": null,
      "outputs": [
        {
          "output_type": "stream",
          "text": [
            "CPU times: user 24.7 s, sys: 1.31 s, total: 26 s\n",
            "Wall time: 26 s\n"
          ],
          "name": "stdout"
        }
      ]
    },
    {
      "cell_type": "code",
      "metadata": {
        "colab": {
          "base_uri": "https://localhost:8080/"
        },
        "id": "9NhhuL1-QDUT",
        "outputId": "896d13a1-262e-45c7-8a64-3428bc99f4de"
      },
      "source": [
        "# Add results, with or without start token\n",
        "%time r_lists = return_r(add_start_token=False)\n",
        "\n",
        "# delete to make space\n",
        "del train[\"answered_correctly\"]"
      ],
      "execution_count": null,
      "outputs": [
        {
          "output_type": "stream",
          "text": [
            "CPU times: user 23 s, sys: 83.3 ms, total: 23.1 s\n",
            "Wall time: 23.1 s\n"
          ],
          "name": "stdout"
        }
      ]
    },
    {
      "cell_type": "code",
      "metadata": {
        "id": "f7OIGHkzpVYN"
      },
      "source": [
        "if \"ltc\" in selections:\n",
        "    %time ltc = return_ltc()"
      ],
      "execution_count": null,
      "outputs": []
    },
    {
      "cell_type": "code",
      "metadata": {
        "id": "ZFCxAcxx_6Op",
        "colab": {
          "base_uri": "https://localhost:8080/"
        },
        "outputId": "f55260dd-8973-418a-cfa3-a1a9222c0533"
      },
      "source": [
        "if \"lt\" in selections:\n",
        "    %time lt_lists, quantile_transformer_lt = return_lt()"
      ],
      "execution_count": null,
      "outputs": [
        {
          "output_type": "stream",
          "text": [
            "CPU times: user 48 s, sys: 2.57 s, total: 50.5 s\n",
            "Wall time: 50.1 s\n"
          ],
          "name": "stdout"
        }
      ]
    },
    {
      "cell_type": "code",
      "metadata": {
        "id": "I4lfwLZ1UHFE"
      },
      "source": [
        "if \"etc\" in selections:\r\n",
        "    %time etc = return_etc()"
      ],
      "execution_count": null,
      "outputs": []
    },
    {
      "cell_type": "code",
      "metadata": {
        "id": "NRFLPPQ4_6Om"
      },
      "source": [
        "if \"p\" in selections:\n",
        "    %time p_lists = return_p()"
      ],
      "execution_count": null,
      "outputs": []
    },
    {
      "cell_type": "code",
      "metadata": {
        "id": "yEUWCAAXNsl3"
      },
      "source": [
        "if \"et\" in selections:\r\n",
        "    %time et_lists, quantile_transformer_et = return_et()"
      ],
      "execution_count": null,
      "outputs": []
    },
    {
      "cell_type": "code",
      "metadata": {
        "id": "x2pE03BaNqid"
      },
      "source": [
        "if \"tag\" in selections:\n",
        "    %time tag_lists = return_N_highest_tags() # TODO: specify N tags"
      ],
      "execution_count": null,
      "outputs": []
    },
    {
      "cell_type": "code",
      "metadata": {
        "id": "gF9IXoPo8VZW"
      },
      "source": [
        "if \"task\" in selections:\n",
        "    %time task_lists = return_task_binary()"
      ],
      "execution_count": null,
      "outputs": []
    },
    {
      "cell_type": "code",
      "metadata": {
        "id": "FUSTsXKtEX4o"
      },
      "source": [
        "feature_mapping = {\"E\": E_lists, \"r\": r_lists, \"p\": p_lists, \"et\": et_lists, \"lt\": lt_lists, \"tag\": tag_lists, \"task\": task_lists, \"et_std\": et_lists, \"ltc\": ltc, \"etc\": etc}\n",
        "type_mapping = {\"E\": tf.int32, \"r\": tf.int32, \"p\": tf.int32, \"et\": tf.float32, \"et_std\": tf.float32, \"lt\": tf.float32, \"tag\": tf.float32, \"task\": tf.float32, \"ltc\":tf.int32, \"etc\": tf.int32}\n",
        "pad_mapping = {\"E\": N_questions, \"r\": N_response, \"p\": 0, \"et\": 0.0, \"et_std\": 0.0, \"lt\": 1.0, \"tag\": 2.0, \"task\": float(N_task), \"ltc\": N_lag+1, \"etc\": N_et+1}\n",
        "vocab_mapping = {\"E\": N_questions+1, \"r\": N_response+2, \"et\":None, \"p\": N_parts+1, \"lt\": None, \"tag\": 3.0, \"task\": float(N_task+1), \"et_std\": float(300), \"ltc\": N_lag+2, \"etc\": N_et+2}\n",
        "pad_shapes = {\"E\": [THR_E], \"r\": [THR_E+1], \"p\": [THR_E], \"et\": [THR_E], \"et_std\": [THR_E],  \"lt\": [THR_E], \"tag\": [THR_E], \"task\": [THR_E], \"ltc\": [THR_E], \"etc\": [THR_E]}"
      ],
      "execution_count": null,
      "outputs": []
    },
    {
      "cell_type": "code",
      "metadata": {
        "id": "_g8Yp5YRrtXw"
      },
      "source": [
        "def save_as_dict(df, filename):\n",
        "    seq_dict = df.to_dict()\n",
        "    with open(os.path.join(OUTPUT_FOLDER_DICT, filename), 'wb') as handle:\n",
        "      pickle.dump(seq_dict, handle, protocol=pickle.HIGHEST_PROTOCOL)"
      ],
      "execution_count": null,
      "outputs": []
    },
    {
      "cell_type": "code",
      "metadata": {
        "id": "poOMvtlCq1Pl"
      },
      "source": [
        "if SAVE_DICTS:\n",
        "  OUTPUT_FOLDER_DICT = f\"seq-dict-{THR_E}\"\n",
        "  os.makedirs(OUTPUT_FOLDER_DICT, exist_ok=True)\n",
        "\n",
        "  for feature in selections:\n",
        "      feat_df = feature_mapping[feature]\n",
        "      feat_df = feat_df.apply(lambda x: x[-THR_E:]) # Take last THR_E in history \n",
        "      filename = f\"{feature}.pickle\"\n",
        "      save_as_dict(feat_df, filename)\n",
        "  shutil.move(OUTPUT_FOLDER_DICT, OUTPUT_FOLDER)"
      ],
      "execution_count": null,
      "outputs": []
    },
    {
      "cell_type": "code",
      "metadata": {
        "id": "6aQlsiawcO-8"
      },
      "source": [
        "# Add start token!\r\n",
        "r_lists = r_lists.apply(lambda x: [3] + x) # Start token = 3\r\n",
        "feature_mapping[\"r\"] = r_lists"
      ],
      "execution_count": null,
      "outputs": []
    },
    {
      "cell_type": "code",
      "metadata": {
        "id": "gtGXR1IZvyKP"
      },
      "source": [
        "vocab_sizes = [vocab_mapping[select] for select in selections]\n",
        "feature_lists = [feature_mapping[select] for select in selections]"
      ],
      "execution_count": null,
      "outputs": []
    },
    {
      "cell_type": "code",
      "metadata": {
        "id": "ai9vHiP4I1hI"
      },
      "source": [
        "PADDING_VALUES = tuple((pad_mapping[select] for select in selections))\n",
        "OUTPUT_TYPES = tuple((type_mapping[select] for select in selections))\n",
        "PADDED_SHAPES = tuple((pad_shapes[select] for select in selections))"
      ],
      "execution_count": null,
      "outputs": []
    },
    {
      "cell_type": "code",
      "metadata": {
        "id": "sO-UUR-V21KT",
        "colab": {
          "base_uri": "https://localhost:8080/"
        },
        "outputId": "70cdb83c-8f5d-41e8-9fe6-24804e15f316"
      },
      "source": [
        "feature_lists"
      ],
      "execution_count": null,
      "outputs": [
        {
          "output_type": "execute_result",
          "data": {
            "text/plain": [
              "[user_id\n",
              " 115           [5692, 5716, 128, 7860, 7922, 156, 51, 50, 789...\n",
              " 124           [7900, 7876, 175, 1278, 2064, 2063, 2065, 3364...\n",
              " 2746          [5273, 758, 5976, 236, 404, 382, 405, 873, 531...\n",
              " 5382          [5000, 3944, 217, 5844, 5965, 4990, 5235, 6050...\n",
              " 8623          [3915, 4750, 6456, 3968, 6104, 5738, 6435, 549...\n",
              "                                     ...                        \n",
              " 2147470770    [7900, 7876, 175, 1278, 2064, 2065, 2063, 3363...\n",
              " 2147470777    [7900, 7876, 175, 1278, 2065, 2064, 2063, 3365...\n",
              " 2147481750    [4137, 1270, 9261, 8201, 367, 378, 214, 6071, ...\n",
              " 2147482216    [3748, 4765, 5474, 9261, 4665, 5987, 6666, 561...\n",
              " 2147482888    [6147, 4792, 5738, 6102, 4748, 7956, 6435, 928...\n",
              " Name: content_id, Length: 393656, dtype: object, user_id\n",
              " 115           [3, 1, 1, 1, 1, 1, 1, 1, 1, 1, 1, 0, 0, 0, 1, ...\n",
              " 124           [3, 1, 0, 1, 0, 0, 0, 1, 0, 0, 0, 0, 1, 0, 1, ...\n",
              " 2746          [3, 0, 0, 0, 1, 0, 1, 1, 1, 1, 0, 1, 1, 0, 1, ...\n",
              " 5382          [3, 1, 0, 1, 0, 1, 1, 1, 1, 0, 0, 0, 1, 0, 1, ...\n",
              " 8623          [3, 1, 1, 1, 1, 1, 1, 1, 0, 0, 1, 1, 0, 0, 1, ...\n",
              "                                     ...                        \n",
              " 2147470770    [3, 1, 1, 1, 1, 1, 1, 0, 0, 0, 0, 0, 0, 0, 1, ...\n",
              " 2147470777    [3, 0, 1, 0, 1, 1, 0, 0, 1, 1, 0, 0, 1, 0, 1, ...\n",
              " 2147481750    [3, 0, 0, 1, 1, 1, 1, 1, 1, 1, 0, 1, 1, 1, 1, ...\n",
              " 2147482216    [3, 0, 0, 0, 1, 1, 0, 0, 0, 0, 1, 0, 0, 1, 1, ...\n",
              " 2147482888    [3, 1, 1, 1, 0, 1, 1, 0, 0, 0, 0, 1, 0, 0, 1, ...\n",
              " Name: answered_correctly, Length: 393656, dtype: object, user_id\n",
              " 115           [0.0, 0.6711740297698894, 0.6923946880292282, ...\n",
              " 124           [0.0, 0.47747554876649284, 0.43422754862193136...\n",
              " 2746          [0.0, 0.3197724530253404, 0.40823738786183855,...\n",
              " 5382          [0.0, 0.5533717770200567, 0.7804914512983345, ...\n",
              " 8623          [0.0, 0.5424255949316262, 0.493632401334625, 0...\n",
              "                                     ...                        \n",
              " 2147470770    [0.0, 0.3733865337938833, 0.4156178374683341, ...\n",
              " 2147470777    [0.0, 0.39815356901598736, 0.962077706450626, ...\n",
              " 2147481750    [0.0, 0.33960425080035067, 0.24104828330161165...\n",
              " 2147482216    [0.0, 0.4506477544452227, 0.30288909599254427,...\n",
              " 2147482888    [0.0, 0.3159805926303388, 0.34175657591611514,...\n",
              " Name: lt, Length: 393656, dtype: object]"
            ]
          },
          "metadata": {
            "tags": []
          },
          "execution_count": 34
        }
      ]
    },
    {
      "cell_type": "code",
      "metadata": {
        "cellView": "both",
        "id": "POEyvHfcIBws",
        "colab": {
          "base_uri": "https://localhost:8080/"
        },
        "outputId": "ec044e9b-3396-4bec-9350-afb2bde38fa7"
      },
      "source": [
        "try:\n",
        "  del train\n",
        "except Exception as e:\n",
        "  print(\"train already deleted\")\n",
        "gc.collect(), gc.collect()"
      ],
      "execution_count": null,
      "outputs": [
        {
          "output_type": "execute_result",
          "data": {
            "text/plain": [
              "(60, 0)"
            ]
          },
          "metadata": {
            "tags": []
          },
          "execution_count": 35
        }
      ]
    },
    {
      "cell_type": "markdown",
      "metadata": {
        "id": "LzzYXM3bba7p"
      },
      "source": [
        "# Create train/val datasets"
      ]
    },
    {
      "cell_type": "code",
      "metadata": {
        "id": "MJMvNzqIY8QS"
      },
      "source": [
        "# Lists of numpy arrays\r\n",
        "train_list = [features.values[:train_len] for features in feature_lists]\r\n",
        "val_list = [features.values[train_len:] for features in feature_lists]"
      ],
      "execution_count": null,
      "outputs": []
    },
    {
      "cell_type": "code",
      "metadata": {
        "id": "2wkQrxFMtI-s"
      },
      "source": [
        "def select_window_size(*x):\n",
        "    series_len = len(x[0]) # Length of series\n",
        "    if series_len <= THR_E: # Just return the sequence!\n",
        "        return x\n",
        "    else: # Random select from sequence\n",
        "        max_select = series_len - THR_E\n",
        "        random_select = tf.random.uniform(shape=(), minval=0, maxval=max_select, dtype=tf.int32)\n",
        "        x = [i[random_select:random_select+THR_E] for i in x]\n",
        "        x = tuple(x)\n",
        "        return x"
      ],
      "execution_count": null,
      "outputs": []
    },
    {
      "cell_type": "code",
      "metadata": {
        "id": "teDfc5v2UNAp",
        "colab": {
          "base_uri": "https://localhost:8080/"
        },
        "outputId": "bf1d7f5b-4f4e-4a54-e70c-f69dff7428be"
      },
      "source": [
        "train_list"
      ],
      "execution_count": null,
      "outputs": [
        {
          "output_type": "execute_result",
          "data": {
            "text/plain": [
              "[array([list([5692, 5716, 128, 7860, 7922, 156, 51, 50, 7896, 7863, 152, 104, 108, 7900, 7901, 7971, 25, 183, 7926, 7927, 4, 7984, 45, 185, 55, 7876, 6, 172, 7898, 175, 100, 7859, 57, 7948, 151, 167, 7897, 7882, 7962, 1278, 2065, 2064, 2063, 3363, 3365, 3364]),\n",
              "        list([7900, 7876, 175, 1278, 2064, 2063, 2065, 3364, 3365, 3363, 2948, 2947, 2946, 2595, 2593, 2594, 4492, 4120, 4696, 6116, 6173, 6370, 6909, 6910, 6908, 6911, 7218, 7216, 7217, 7219]),\n",
              "        list([5273, 758, 5976, 236, 404, 382, 405, 873, 531, 775, 294, 714, 297, 297, 775, 1295, 10684, 1014, 484]),\n",
              "        ...,\n",
              "        list([4500, 4264, 8201, 214, 378, 3674, 4908, 5387, 4402, 6442, 4501, 3957, 4428, 6094, 4416, 4491, 6443, 6292, 5216, 3878, 5670, 6246, 6130, 6767, 6768, 6765, 6766, 6760, 6757, 6758, 6759, 10071, 10072, 10070, 10073, 6869, 6870, 6871, 6872, 6866, 6867, 6865, 6868, 10080, 10078, 10081, 10079, 6624, 6622, 6623, 6621, 6770, 6769, 6771, 6772]),\n",
              "        list([7900, 7876, 175, 1278, 2065, 2064, 2063, 3364, 3365, 3363, 2947, 2946, 2948, 2593, 2594, 2595, 4492, 4120, 4696, 6116, 6173, 6370, 6909, 6908, 6910, 6911, 7217, 7219, 7216, 7218, 5202, 4146, 6452, 9559, 4734, 5251, 6124, 9804, 6369, 6652, 4464, 8356, 4664, 6034, 5627, 8684, 5371, 5186, 5978, 9625, 4217, 5645, 5581, 9661, 6160, 6451, 5703, 8625, 4331, 4496, 6116, 4217, 5251, 7217, 7216, 7219, 7218, 5581, 4496, 4734, 5186, 6652, 3857, 8790, 4568, 3609, 9259, 9484, 5255, 4740, 4455, 9447, 5391, 3751, 4825, 9771, 4025, 6298, 6318, 9558, 5610, 4215]),\n",
              "        list([7900, 7876, 175, 1278, 2065, 2064, 2063, 3363, 3364, 3365, 2948, 2946, 2947, 2595, 2594, 2593, 4492, 4120, 4696, 6116, 6173, 6370, 6910, 6909, 6908, 6911, 7216, 7219, 7218, 7217])],\n",
              "       dtype=object),\n",
              " array([list([3, 1, 1, 1, 1, 1, 1, 1, 1, 1, 1, 0, 0, 0, 1, 1, 1, 1, 0, 1, 1, 0, 0, 0, 0, 1, 1, 1, 1, 1, 0, 1, 0, 1, 1, 1, 1, 0, 1, 1, 1, 1, 1, 0, 0, 0, 1]),\n",
              "        list([3, 1, 0, 1, 0, 0, 0, 1, 0, 0, 0, 0, 1, 0, 1, 0, 0, 0, 0, 0, 1, 0, 0, 1, 0, 0, 0, 0, 0, 0, 0]),\n",
              "        list([3, 0, 0, 0, 1, 0, 1, 1, 1, 1, 0, 1, 1, 0, 1, 0, 1, 1, 0, 1]),\n",
              "        ...,\n",
              "        list([3, 0, 0, 1, 0, 1, 0, 0, 0, 1, 1, 1, 0, 0, 0, 1, 1, 1, 1, 0, 0, 1, 1, 1, 1, 1, 1, 1, 1, 1, 1, 1, 1, 0, 0, 0, 1, 0, 0, 0, 1, 0, 1, 1, 1, 1, 1, 1, 1, 1, 0, 1, 0, 0, 0, 1]),\n",
              "        list([3, 1, 1, 0, 1, 1, 1, 1, 1, 0, 1, 0, 0, 0, 0, 0, 0, 1, 0, 0, 0, 0, 0, 1, 1, 1, 1, 1, 1, 1, 1, 1, 0, 1, 0, 0, 1, 0, 0, 0, 1, 1, 1, 1, 0, 0, 1, 1, 1, 1, 0, 1, 1, 0, 1, 1, 0, 0, 1, 1, 0, 1, 1, 1, 1, 1, 1, 1, 1, 1, 1, 1, 1, 1, 1, 1, 0, 1, 1, 0, 0, 1, 1, 1, 1, 1, 1, 1, 1, 0, 1, 1, 1]),\n",
              "        list([3, 1, 0, 1, 1, 0, 0, 0, 0, 1, 0, 1, 0, 0, 0, 1, 1, 0, 1, 0, 1, 0, 0, 0, 0, 0, 0, 0, 0, 0, 0])],\n",
              "       dtype=object),\n",
              " array([list([0.0, 0.6711740297698894, 0.6923946880292282, 0.24881961607625325, 0.23454459662537794, 0.29065064938910995, 0.28992358569600013, 0.28145561250489437, 0.2829256304254329, 0.28517328340207315, 0.36081044920823924, 0.3648938798001102, 0.3394641594607973, 0.3813813813813814, 0.355185993607727, 0.3470647816508229, 0.32345551976723896, 0.3000636374643417, 0.29240589960860347, 0.45976628717745477, 0.3197293570074125, 0.30574226882345173, 0.3492826159492826, 0.3473285096342457, 0.27740527073484605, 0.33370154791746326, 0.34923256589923257, 0.3544313579889259, 0.37197582573506693, 0.3318762468488818, 0.2758679129963024, 0.3255375583818555, 0.9231881223766744, 0.48129580246913595, 0.46257493448504683, 0.5223150464687171, 0.5403058875175958, 0.6657116657401733, 0.6510483424059125, 0.9962716097939626, 0.8102541615014239, 0.0, 0.0, 0.8202868220256316, 0.0, 0.0]),\n",
              "        list([0.0, 0.47747554876649284, 0.43422754862193136, 0.3203481945902785, 0.8038183893480139, 0.0, 0.0, 0.7217533907031625, 0.0, 0.0, 0.7298830570202794, 0.0, 0.0, 0.6464875053391801, 0.0, 0.0, 0.5192347847215103, 0.38994502211615695, 0.4419714379391799, 0.2718001840076292, 0.3103890407261194, 0.24075167264872596, 0.4547144547144547, 0.0, 0.0, 0.0, 0.271186014328159, 0.0, 0.0, 0.0]),\n",
              "        list([0.0, 0.3197724530253404, 0.40823738786183855, 0.34244061813500176, 0.29692328787351413, 0.29676507504561805, 0.3357237834849775, 0.7950768597289105, 0.6278875335889252, 0.5953051268691568, 0.42735003657644477, 0.4004227957457355, 0.5911490141336591, 0.8921494154400393, 0.4367906367906368, 0.45720773839140677, 0.3977332432635292, 0.5386872020535386, 0.5058315815564737]),\n",
              "        ...,\n",
              "        list([0.0, 0.4545064545064545, 0.4898922432986018, 0.31132371764350325, 0.24743899131521124, 0.6298105587075681, 0.26792800616213425, 0.27809423478344936, 0.9936517206613368, 0.8939143463955745, 0.47044593089426895, 0.820704524854354, 0.7361728631456295, 0.7853630884472608, 0.6356314597558276, 0.5733601034629333, 0.7473761088613573, 0.8156057375411333, 0.5463165360787929, 0.3404971316394694, 0.4901339643525056, 0.7154589718524145, 0.527301520068247, 0.9811660252451309, 0.0, 0.0, 0.0, 0.8906196017517838, 0.0, 0.0, 0.0, 0.8799068786238645, 0.0, 0.0, 0.0, 0.9359542505735166, 0.0, 0.0, 0.0, 0.9925967869853212, 0.0, 0.0, 0.0, 0.8919756223906209, 0.0, 0.0, 0.0, 0.8371727962469708, 0.0, 0.0, 0.0, 0.8538224216634751, 0.0, 0.0, 0.0]),\n",
              "        list([0.0, 0.43355882004214363, 0.4935034938257626, 0.24131247653147797, 0.7356942852137808, 0.0, 0.0, 0.7942733534468037, 0.0, 0.0, 0.84471316169988, 0.0, 0.0, 0.8040343560861156, 0.0, 0.0, 0.498998998998999, 0.4277227220869512, 0.5184939778488166, 0.27004203406971966, 0.7392127174535835, 0.6613084153278538, 0.877190194674344, 0.0, 0.0, 0.0, 0.8932721895535233, 0.0, 0.0, 0.0, 0.9379043964021917, 0.7114384161436623, 0.6414822547959073, 0.6675284971037961, 0.879176993913216, 0.8698502149141536, 0.7710719405454682, 0.715379173084091, 0.670146174991201, 0.7325014285346177, 0.9779432200636504, 0.7773190157605743, 0.7403988370566041, 0.7504930230760347, 0.8290647984383103, 0.8018160188399815, 0.6539641310753054, 0.7660584701431014, 0.6611469312895417, 0.5950240371781212, 0.9784214542762474, 0.8081192039341677, 0.669162785569435, 0.6267688786267491, 0.7445218094889148, 0.7833504636169265, 0.7803843767285449, 0.73958439088615, 0.7234127436452753, 0.723465937155667, 0.9696085772359684, 0.24144321456286724, 0.28024772740219894, 0.7566748884143042, 0.0, 0.0, 0.0, 0.47078600339469906, 0.2569867164461759, 0.7667592093098999, 0.84667383031399, 0.8011768922328271, 0.9695723268554584, 0.7526047057396013, 0.7571991846191095, 0.7168492290833112, 0.7942607034654624, 0.7870218064476028, 0.777837861422795, 0.7706737770604073, 0.7506315595016689, 0.6580220339467144, 0.9857430748261204, 0.6330436396661562, 0.45768136557610245, 0.6022757916578455, 0.7635076512409845, 0.6522888114278732, 0.7312890354658508, 0.753479856960369, 0.7493303227761777, 0.5631022031705575]),\n",
              "        list([0.0, 0.4018125268125268, 0.38869812524007635, 0.27748356210400554, 0.7354672953543615, 0.0, 0.0, 0.7297632025889342, 0.0, 0.0, 0.756363802963349, 0.0, 0.0, 0.7770738929180487, 0.0, 0.0, 0.27677366022799177, 0.2406695343140807, 0.2402071895153486, 0.24305048552540193, 0.23618791831307323, 0.2366657790912472, 0.7797663334976768, 0.0, 0.0, 0.0, 0.8604502951863593, 0.0, 0.0, 0.0])],\n",
              "       dtype=object)]"
            ]
          },
          "metadata": {
            "tags": []
          },
          "execution_count": 38
        }
      ]
    },
    {
      "cell_type": "code",
      "metadata": {
        "id": "n_uGV6iLARz1"
      },
      "source": [
        "def create_train_dataset(N_training_per_epoch, probs_train):\n",
        "  index = np.random.choice(train_len, N_training_per_epoch, replace=True, p = probs_train) # random indexing (similar to shuffling)\n",
        "  tr_list = [features[index] for features in train_list] # Selecting by index \n",
        "  train_ds = (tf.data.Dataset\n",
        "                  .from_generator(lambda: iter(zip(*tr_list)), output_types=OUTPUT_TYPES)\n",
        "                  .map(select_window_size)\n",
        "                  .padded_batch(batch_size = BATCH_SIZE, padded_shapes = PADDED_SHAPES, padding_values = PADDING_VALUES)\n",
        "                  .prefetch(AUTO)\n",
        "  )\n",
        "  return train_ds"
      ],
      "execution_count": null,
      "outputs": []
    },
    {
      "cell_type": "code",
      "metadata": {
        "id": "MyI8fDf7Ik4A"
      },
      "source": [
        "def create_val_dataset(N_valid_per_epoch, probs_val):\n",
        "  index = np.random.choice(val_len, N_valid_per_epoch, replace=True, p = probs_val) # random indexing (similar to shuffling)\n",
        "  vl_list = [features[index] for features in val_list] # Selecting by index \n",
        "  val_ds = (tf.data.Dataset\n",
        "                  .from_generator(lambda: iter(zip(*vl_list)), output_types=OUTPUT_TYPES)\n",
        "                  .map(select_window_size)\n",
        "                  .padded_batch(batch_size = BATCH_SIZE, padded_shapes = PADDED_SHAPES, padding_values = PADDING_VALUES)\n",
        "                  .cache()\n",
        "                  .prefetch(AUTO)\n",
        "  )\n",
        "  return val_ds"
      ],
      "execution_count": null,
      "outputs": []
    },
    {
      "cell_type": "code",
      "metadata": {
        "id": "oDJudy20sEdg"
      },
      "source": [
        "val_dataset = create_val_dataset(N_SELECT_PER_EPOCH, PROBS_VAL)\r\n",
        "a = iter(val_dataset) # Small check"
      ],
      "execution_count": null,
      "outputs": []
    },
    {
      "cell_type": "code",
      "metadata": {
        "id": "tMsYgAgVJhxq",
        "colab": {
          "base_uri": "https://localhost:8080/"
        },
        "outputId": "5536be33-fe81-49bb-d644-1aa705eb8673"
      },
      "source": [
        "next(a)"
      ],
      "execution_count": null,
      "outputs": [
        {
          "output_type": "execute_result",
          "data": {
            "text/plain": [
              "(<tf.Tensor: shape=(128, 100), dtype=int32, numpy=\n",
              " array([[ 9861,  4852,  4125, ...,  1034,   931,  1142],\n",
              "        [ 7900,  7876,   175, ..., 13523, 13523, 13523],\n",
              "        [ 5592,  8457,  4728, ...,  3968,  9939,  4248],\n",
              "        ...,\n",
              "        [  677,  1280,   446, ...,  1432,  1431,  2172],\n",
              "        [ 6814,  6813,  6816, ...,  3354,  3355,  3356],\n",
              "        [ 1506,  1505,  2541, ...,   237,   721,   650]], dtype=int32)>,\n",
              " <tf.Tensor: shape=(128, 101), dtype=int32, numpy=\n",
              " array([[1, 0, 1, ..., 1, 1, 2],\n",
              "        [3, 1, 1, ..., 2, 2, 2],\n",
              "        [1, 1, 1, ..., 0, 0, 2],\n",
              "        ...,\n",
              "        [1, 1, 1, ..., 1, 1, 2],\n",
              "        [1, 1, 1, ..., 1, 1, 2],\n",
              "        [1, 1, 1, ..., 1, 1, 2]], dtype=int32)>,\n",
              " <tf.Tensor: shape=(128, 100), dtype=float32, numpy=\n",
              " array([[0.7589085 , 0.7807328 , 0.8005964 , ..., 0.71710664, 0.72557086,\n",
              "         0.74492353],\n",
              "        [0.        , 0.8034138 , 0.535701  , ..., 1.        , 1.        ,\n",
              "         1.        ],\n",
              "        [0.537607  , 0.34066024, 0.3166743 , ..., 0.3142106 , 0.63795704,\n",
              "         0.26752526],\n",
              "        ...,\n",
              "        [0.36104655, 0.47221085, 0.50807154, ..., 0.        , 0.        ,\n",
              "         0.7498003 ],\n",
              "        [0.        , 0.        , 0.        , ..., 0.7458192 , 0.        ,\n",
              "         0.        ],\n",
              "        [0.        , 0.        , 0.83898365, ..., 0.45066115, 0.36007664,\n",
              "         0.6188896 ]], dtype=float32)>)"
            ]
          },
          "metadata": {
            "tags": []
          },
          "execution_count": 42
        }
      ]
    },
    {
      "cell_type": "markdown",
      "metadata": {
        "id": "Yz9Fk6sp6sgP"
      },
      "source": [
        "## Get model and set hyperparameters"
      ]
    },
    {
      "cell_type": "code",
      "metadata": {
        "id": "feqp6ENL6sgT"
      },
      "source": [
        "%run $MODEL_FILE"
      ],
      "execution_count": null,
      "outputs": []
    },
    {
      "cell_type": "code",
      "metadata": {
        "id": "hEQBB9KthwmS",
        "colab": {
          "base_uri": "https://localhost:8080/",
          "height": 34
        },
        "outputId": "baab7772-98bb-4e76-f26c-af4f56407de3"
      },
      "source": [
        "shutil.copy('/content/drive/My Drive/Colab Notebooks/demo-riiid-transformer.ipynb', OUTPUT_FOLDER)"
      ],
      "execution_count": null,
      "outputs": [
        {
          "output_type": "execute_result",
          "data": {
            "application/vnd.google.colaboratory.intrinsic+json": {
              "type": "string"
            },
            "text/plain": [
              "'19-Dec-riiid-2/demo-riiid-transformer.ipynb'"
            ]
          },
          "metadata": {
            "tags": []
          },
          "execution_count": 44
        }
      ]
    },
    {
      "cell_type": "code",
      "metadata": {
        "id": "D9IBAuXw6sgY",
        "colab": {
          "base_uri": "https://localhost:8080/"
        },
        "outputId": "7c534928-ac41-45bd-9353-992a1e0297fd"
      },
      "source": [
        "# Hyperparameters main model\n",
        "config = {\"features\": selections, \"n_features\": len(selections), \"vocab_sizes\": vocab_sizes, \n",
        "          \"enc_emb\": ENC_EMB, \"enc_dense\": ENC_DENSE, \"dec_emb\": DEC_EMB, \"dec_dense\": DEC_DENSE, \n",
        "          \"window_size\": THR_E, \"enc_num_layers\": 2, \"dec_num_layers\": 2, \"d_model\": 256, \n",
        "          \"dff\": 512, \"num_heads\": 8, \"dropout_rate\": 0.1, \"pos_encoding\": True,\n",
        "          \"padding_values\": PADDING_VALUES, \"output_types\": OUTPUT_TYPES, \"padded_shapes\": PADDED_SHAPES, \n",
        "          \"quantile_transformer_et\": quantile_transformer_et,  \"quantile_transformer_lt\": quantile_transformer_lt}\n",
        "\n",
        "with open(os.path.join(OUTPUT_FOLDER, \"config.pickle\"), 'wb') as handle:\n",
        "  pickle.dump(config, handle, protocol=pickle.HIGHEST_PROTOCOL)\n",
        "\n",
        "logging.info('config: %s', config)"
      ],
      "execution_count": null,
      "outputs": [
        {
          "output_type": "stream",
          "text": [
            "19-12 17:55 root         INFO     config: {'features': ['E', 'r', 'lt'], 'n_features': 3, 'vocab_sizes': [13524, 4, None], 'enc_emb': [0], 'enc_dense': [], 'dec_emb': [1], 'dec_dense': [2], 'window_size': 100, 'enc_num_layers': 2, 'dec_num_layers': 2, 'd_model': 256, 'dff': 512, 'num_heads': 8, 'dropout_rate': 0.1, 'pos_encoding': True, 'padding_values': (13523, 2, 1.0), 'output_types': (tf.int32, tf.int32, tf.float32), 'padded_shapes': ([100], [101], [100]), 'quantile_transformer_et': [], 'quantile_transformer_lt': QuantileTransformer(random_state=0)}\n"
          ],
          "name": "stderr"
        }
      ]
    },
    {
      "cell_type": "code",
      "metadata": {
        "id": "4gIEWr8V6sgf"
      },
      "source": [
        "transformer = create_model_separate_input(config)\n",
        "# tf.keras.utils.plot_model(transformer, os.path.join(OUTPUT_FOLDER, \"model_plot.png\"), show_shapes=True)"
      ],
      "execution_count": null,
      "outputs": []
    },
    {
      "cell_type": "markdown",
      "metadata": {
        "id": "DiW6F6Rv66fx"
      },
      "source": [
        "## Optimizer"
      ]
    },
    {
      "cell_type": "code",
      "metadata": {
        "id": "uWAf5VTW66fz"
      },
      "source": [
        "class CustomSchedule(tf.keras.optimizers.schedules.LearningRateSchedule):\n",
        "  def __init__(self, d_model, warmup_steps=4000):\n",
        "    super(CustomSchedule, self).__init__()\n",
        "    \n",
        "    self.d_model = d_model\n",
        "    self.d_model = tf.cast(self.d_model, tf.float32)\n",
        "\n",
        "    self.warmup_steps = warmup_steps\n",
        "  def __call__(self, step):\n",
        "    arg1 = tf.math.rsqrt(step)\n",
        "    arg2 = step * (self.warmup_steps ** -1.5)\n",
        "    \n",
        "    return tf.math.rsqrt(self.d_model) * tf.math.minimum(arg1, arg2)"
      ],
      "execution_count": null,
      "outputs": []
    },
    {
      "cell_type": "code",
      "metadata": {
        "id": "VYjhA2aa66f2"
      },
      "source": [
        "learning_rate = CustomSchedule(config[\"d_model\"])\n",
        "optimizer = tf.keras.optimizers.Adam(learning_rate, beta_1=0.9, beta_2=0.999, \n",
        "                                      epsilon=1e-9)"
      ],
      "execution_count": null,
      "outputs": []
    },
    {
      "cell_type": "markdown",
      "metadata": {
        "id": "VVVIhusN66f5"
      },
      "source": [
        "## Loss and metrics"
      ]
    },
    {
      "cell_type": "markdown",
      "metadata": {
        "id": "QdEZ2qRz66f6"
      },
      "source": [
        "Since the target sequences are padded, it is important to apply a padding mask when calculating the loss."
      ]
    },
    {
      "cell_type": "code",
      "metadata": {
        "id": "RNgoEGX666f6"
      },
      "source": [
        "# Loss and metric\n",
        "loss_object = tf.keras.losses.SparseCategoricalCrossentropy(\n",
        "    from_logits=True, reduction='none')\n",
        "\n",
        "accuracy_object = tf.keras.metrics.sparse_categorical_accuracy\n",
        "\n",
        "train_auc= tf.keras.metrics.AUC()\n",
        "val_auc= tf.keras.metrics.AUC()"
      ],
      "execution_count": null,
      "outputs": []
    },
    {
      "cell_type": "code",
      "metadata": {
        "id": "V_Bm57bt66f9"
      },
      "source": [
        "def loss_function(real, pred): # batch_size x seq_size x 1 vs  batch_size x seq_size x 3\n",
        "    mask = tf.math.logical_not(tf.math.equal(tf.squeeze(real), N_response)) # batch_size x seq_size\n",
        "    loss_ = loss_object(real, pred) # batch_size x seq_size\n",
        "    mask = tf.cast(mask, dtype=loss_.dtype)\n",
        "    \n",
        "    loss_ *= mask \n",
        "    loss_ = tf.reduce_sum(loss_)/tf.reduce_sum(mask) #loss becomes one value! (from all batches)\n",
        "    return loss_"
      ],
      "execution_count": null,
      "outputs": []
    },
    {
      "cell_type": "code",
      "metadata": {
        "id": "ahEaU3kN66f_"
      },
      "source": [
        "def metric_function(real, pred, auc_object): # batch_size x seq_size x 1 vs  batch_size x seq_size x 3\n",
        "    # Predict accuracy\n",
        "    mask = tf.math.logical_not(tf.math.equal(tf.squeeze(real), N_response)) # batch_size x seq_size\n",
        "    accuracy = accuracy_object(real, pred) # batch_size x seq_size\n",
        "    mask = tf.cast(mask, dtype=accuracy.dtype)\n",
        "    \n",
        "    accuracy *= mask\n",
        "    accuracy = 100*tf.reduce_sum(accuracy)/tf.reduce_sum(mask)\n",
        "    \n",
        "    # A work-around to predict AUC => is it stable?\n",
        "    pred = tf.nn.softmax(pred)\n",
        "    pred = pred[:,:,1] # pred that answer is correct\n",
        "    real = tf.keras.backend.flatten(real)\n",
        "    pred = tf.keras.backend.flatten(pred)\n",
        "    \n",
        "    idxs = tf.math.logical_not(tf.math.equal(real, N_response))\n",
        "    real = real[idxs]\n",
        "    pred = pred[idxs]\n",
        "    auc = auc_object(real, pred)\n",
        "    return accuracy"
      ],
      "execution_count": null,
      "outputs": []
    },
    {
      "cell_type": "code",
      "metadata": {
        "id": "Cm9x2sLp66gC"
      },
      "source": [
        "train_loss = tf.keras.metrics.Mean(name='train_loss')\n",
        "train_accuracy = tf.keras.metrics.Mean(name='train_accuracy')\n",
        "\n",
        "val_loss = tf.keras.metrics.Mean(name='val_loss')\n",
        "val_accuracy = tf.keras.metrics.Mean(name='val_accuracy')"
      ],
      "execution_count": null,
      "outputs": []
    },
    {
      "cell_type": "markdown",
      "metadata": {
        "id": "aeHumfr7zmMa"
      },
      "source": [
        "## Training and checkpointing"
      ]
    },
    {
      "cell_type": "markdown",
      "metadata": {
        "id": "Fzuf06YZp66w"
      },
      "source": [
        "Create the checkpoint path and the checkpoint manager. This will be used to save checkpoints every `n` epochs."
      ]
    },
    {
      "cell_type": "code",
      "metadata": {
        "id": "hNhuYfllndLZ"
      },
      "source": [
        "checkpoint_path = os.path.join(OUTPUT_FOLDER, \"checkpoints/\")\n",
        "ckpt = tf.train.Checkpoint(transformer=transformer,\n",
        "                           optimizer=optimizer)\n",
        "\n",
        "ckpt_manager = tf.train.CheckpointManager(ckpt, checkpoint_path, max_to_keep=1)\n",
        "\n",
        "# https://stackoverflow.com/questions/62919208/how-to-restore-a-specific-checkpoint-in-tensorflow2-to-implement-early-stopping\n",
        "\n",
        "# # if a checkpoint exists, restore the latest checkpoint.\n",
        "# if ckpt_manager.latest_checkpoint:\n",
        "#   ckpt.restore(ckpt_manager.latest_checkpoint)\n",
        "#   print ('Latest checkpoint restored!!')"
      ],
      "execution_count": null,
      "outputs": []
    },
    {
      "cell_type": "code",
      "metadata": {
        "id": "4nsLZJ6FznKF"
      },
      "source": [
        "@tf.function()\n",
        "def train_step(tar_real, *inputs):\n",
        "    with tf.GradientTape() as tape: \n",
        "        predictions = transformer(inputs, training=True)\n",
        "        tar_real = tf.expand_dims(tar_real, -1) # IMPORTANT! DOESN'T WORK WITHOUT IT. ALWAYS GIVES ERROR INCOMPATIBLE SHAPE. E.G. (32,169) vs. (32,169,3)\n",
        "        \n",
        "        loss = loss_function(tar_real, predictions)\n",
        "        accuracy = metric_function(tar_real, predictions, auc_object = train_auc)\n",
        "    \n",
        "    gradients = tape.gradient(loss, transformer.trainable_variables)    \n",
        "    optimizer.apply_gradients(zip(gradients, transformer.trainable_variables))\n",
        "\n",
        "    train_loss(loss)\n",
        "    train_accuracy(accuracy)\n",
        "\n",
        "@tf.function()\n",
        "def val_step(tar_real, *inputs):\n",
        "    predictions = transformer(inputs, training=False)\n",
        "    tar_real = tf.expand_dims(tar_real, -1) # IMPORTANT! DOESN'T WORK WITHOUT IT. ALWAYS GIVES ERROR INCOMPATIBLE SHAPE. E.G. (32,169) vs. (32,169,3)\n",
        "    \n",
        "    loss = loss_function(tar_real, predictions)\n",
        "    accuracy = metric_function(tar_real, predictions, auc_object = val_auc)\n",
        "\n",
        "    val_loss(loss)\n",
        "    val_accuracy(accuracy)"
      ],
      "execution_count": null,
      "outputs": []
    },
    {
      "cell_type": "code",
      "metadata": {
        "id": "bbvmaKNiznHZ",
        "colab": {
          "base_uri": "https://localhost:8080/"
        },
        "outputId": "f93becb5-e4ee-4886-f9a1-05c0ff8b2469"
      },
      "source": [
        "best_auc = 0\n",
        "for epoch in range(EPOCHS):\n",
        "    train_dataset = create_train_dataset(N_SELECT_PER_EPOCH, PROBS_TRAIN) # create train for each epoch\n",
        "    start = time.time()\n",
        "\n",
        "    train_loss.reset_states()\n",
        "    train_accuracy.reset_states()\n",
        "    train_auc.reset_states()\n",
        "    \n",
        "    val_loss.reset_states()\n",
        "    val_accuracy.reset_states()\n",
        "    val_auc.reset_states()\n",
        "\n",
        "    # Train\n",
        "    for (batch, (features)) in enumerate(train_dataset):\n",
        "        E, tar, rest = features[0], features[1], features[2:] \n",
        "        tar_inp = tar[:, :-1]\n",
        "        tar_real = tar[:, 1:]\n",
        "\n",
        "        inputs = [E, tar_inp] + list(rest)        \n",
        "        train_step(tar_real, inputs)\n",
        "        \n",
        "        if batch % PRINT_EVERY_N_BATCHES == 0:\n",
        "            print ('Epoch {} TRAIN Batch {} Loss {:.4f} Accuracy {:.4f} AUC {:.4f}'.format(\n",
        "              epoch + 1, batch, train_loss.result(), train_accuracy.result(), train_auc.result()))\n",
        "\n",
        "    logging.info('Epoch TRAIN {} Loss {:.4f} Accuracy {:.4f} AUC {:.4f}'.format(epoch + 1, \n",
        "                                                train_loss.result(), \n",
        "                                                train_accuracy.result(),\n",
        "                                                train_auc.result()\n",
        "                                                ))\n",
        "    \n",
        "    # Validate and save model\n",
        "    if (epoch + 1) % VAL_EVERY_N_EPOCHS == 0: \n",
        "      for (batch, (features)) in enumerate(val_dataset):\n",
        "          E, tar, rest = features[0], features[1], features[2:] \n",
        "          tar_inp = tar[:, :-1]\n",
        "          tar_real = tar[:, 1:]\n",
        "\n",
        "          inputs = [E, tar_inp] + list(rest)          \n",
        "          val_step(tar_real, inputs)\n",
        "\n",
        "          if batch % PRINT_EVERY_N_BATCHES == 0:\n",
        "              print ('Epoch {} VAL Batch {} Loss {:.4f} Accuracy {:.4f} AUC {:.4f}'.format(\n",
        "                epoch + 1, batch, val_loss.result(), val_accuracy.result(), val_auc.result()))\n",
        "      \n",
        "      logging.info('Epoch VAL {} Loss {:.4f} Accuracy {:.4f} AUC {:.4f}'.format(epoch + 1, \n",
        "                                          val_loss.result(), \n",
        "                                          val_accuracy.result(),\n",
        "                                          val_auc.result()\n",
        "                                          ))    \n",
        "       \n",
        "      if val_auc.result() > best_auc:\n",
        "          best_auc = val_auc.result()\n",
        "          ckpt_save_path = ckpt_manager.save()\n",
        "          logging.info('Saving checkpoint for epoch {} at {}'.format(epoch+1,\n",
        "                                                            ckpt_save_path))\n",
        "        \n",
        "    print ('Time taken for 1 epoch: {} secs\\n'.format(time.time() - start))"
      ],
      "execution_count": null,
      "outputs": [
        {
          "output_type": "stream",
          "text": [
            "Epoch 1 TRAIN Batch 0 Loss 3.0498 Accuracy 0.1195 AUC 0.4931\n",
            "Epoch 1 TRAIN Batch 50 Loss 1.5463 Accuracy 32.9710 AUC 0.4977\n",
            "Epoch 1 TRAIN Batch 100 Loss 1.1247 Accuracy 47.4041 AUC 0.4969\n",
            "Epoch 1 TRAIN Batch 150 Loss 0.9774 Accuracy 52.5494 AUC 0.4981\n",
            "Epoch 1 TRAIN Batch 200 Loss 0.9001 Accuracy 55.4431 AUC 0.4998\n",
            "Epoch 1 TRAIN Batch 250 Loss 0.8523 Accuracy 57.2810 AUC 0.5012\n",
            "Epoch 1 TRAIN Batch 300 Loss 0.8183 Accuracy 58.7727 AUC 0.5028\n",
            "Epoch 1 TRAIN Batch 350 Loss 0.7936 Accuracy 59.8625 AUC 0.5040\n",
            "Epoch 1 TRAIN Batch 400 Loss 0.7748 Accuracy 60.6998 AUC 0.5052\n",
            "Epoch 1 TRAIN Batch 450 Loss 0.7602 Accuracy 61.3331 AUC 0.5062\n",
            "Epoch 1 TRAIN Batch 500 Loss 0.7481 Accuracy 61.8890 AUC 0.5070\n",
            "Epoch 1 TRAIN Batch 550 Loss 0.7382 Accuracy 62.3381 AUC 0.5078\n",
            "Epoch 1 TRAIN Batch 600 Loss 0.7297 Accuracy 62.7217 AUC 0.5090\n",
            "Epoch 1 TRAIN Batch 650 Loss 0.7222 Accuracy 63.0712 AUC 0.5102\n",
            "Epoch 1 TRAIN Batch 700 Loss 0.7160 Accuracy 63.3531 AUC 0.5115\n",
            "Epoch 1 TRAIN Batch 750 Loss 0.7104 Accuracy 63.6076 AUC 0.5131\n"
          ],
          "name": "stdout"
        },
        {
          "output_type": "stream",
          "text": [
            "19-12 17:57 root         INFO     Epoch TRAIN 1 Loss 0.7074 Accuracy 63.7398 AUC 0.5139\n"
          ],
          "name": "stderr"
        },
        {
          "output_type": "stream",
          "text": [
            "Time taken for 1 epoch: 100.97339701652527 secs\n",
            "\n",
            "Epoch 2 TRAIN Batch 0 Loss 0.6372 Accuracy 66.3282 AUC 0.5442\n",
            "Epoch 2 TRAIN Batch 50 Loss 0.6287 Accuracy 67.3050 AUC 0.5563\n",
            "Epoch 2 TRAIN Batch 100 Loss 0.6288 Accuracy 67.1686 AUC 0.5616\n",
            "Epoch 2 TRAIN Batch 150 Loss 0.6283 Accuracy 67.1415 AUC 0.5662\n",
            "Epoch 2 TRAIN Batch 200 Loss 0.6271 Accuracy 67.1705 AUC 0.5718\n",
            "Epoch 2 TRAIN Batch 250 Loss 0.6255 Accuracy 67.2586 AUC 0.5774\n",
            "Epoch 2 TRAIN Batch 300 Loss 0.6253 Accuracy 67.2521 AUC 0.5796\n",
            "Epoch 2 TRAIN Batch 350 Loss 0.6239 Accuracy 67.3188 AUC 0.5848\n",
            "Epoch 2 TRAIN Batch 400 Loss 0.6225 Accuracy 67.4112 AUC 0.5887\n",
            "Epoch 2 TRAIN Batch 450 Loss 0.6215 Accuracy 67.4711 AUC 0.5921\n",
            "Epoch 2 TRAIN Batch 500 Loss 0.6210 Accuracy 67.4761 AUC 0.5947\n",
            "Epoch 2 TRAIN Batch 550 Loss 0.6202 Accuracy 67.5217 AUC 0.5970\n",
            "Epoch 2 TRAIN Batch 600 Loss 0.6196 Accuracy 67.5543 AUC 0.5987\n",
            "Epoch 2 TRAIN Batch 650 Loss 0.6192 Accuracy 67.5724 AUC 0.6003\n",
            "Epoch 2 TRAIN Batch 700 Loss 0.6187 Accuracy 67.5937 AUC 0.6017\n",
            "Epoch 2 TRAIN Batch 750 Loss 0.6182 Accuracy 67.6277 AUC 0.6030\n"
          ],
          "name": "stdout"
        },
        {
          "output_type": "stream",
          "text": [
            "19-12 17:58 root         INFO     Epoch TRAIN 2 Loss 0.6180 Accuracy 67.6393 AUC 0.6039\n"
          ],
          "name": "stderr"
        },
        {
          "output_type": "stream",
          "text": [
            "Time taken for 1 epoch: 94.63800120353699 secs\n",
            "\n",
            "Epoch 3 TRAIN Batch 0 Loss 0.6199 Accuracy 66.8235 AUC 0.6332\n",
            "Epoch 3 TRAIN Batch 50 Loss 0.6125 Accuracy 67.9109 AUC 0.6205\n",
            "Epoch 3 TRAIN Batch 100 Loss 0.6128 Accuracy 67.9106 AUC 0.6186\n",
            "Epoch 3 TRAIN Batch 150 Loss 0.6125 Accuracy 67.9170 AUC 0.6201\n",
            "Epoch 3 TRAIN Batch 200 Loss 0.6127 Accuracy 67.8962 AUC 0.6204\n",
            "Epoch 3 TRAIN Batch 250 Loss 0.6120 Accuracy 67.9632 AUC 0.6213\n",
            "Epoch 3 TRAIN Batch 300 Loss 0.6114 Accuracy 68.0178 AUC 0.6226\n",
            "Epoch 3 TRAIN Batch 350 Loss 0.6101 Accuracy 68.0792 AUC 0.6264\n",
            "Epoch 3 TRAIN Batch 400 Loss 0.6067 Accuracy 68.2869 AUC 0.6346\n",
            "Epoch 3 TRAIN Batch 450 Loss 0.6026 Accuracy 68.5340 AUC 0.6447\n",
            "Epoch 3 TRAIN Batch 500 Loss 0.5984 Accuracy 68.8058 AUC 0.6543\n",
            "Epoch 3 TRAIN Batch 550 Loss 0.5948 Accuracy 69.0257 AUC 0.6621\n",
            "Epoch 3 TRAIN Batch 600 Loss 0.5915 Accuracy 69.2367 AUC 0.6687\n",
            "Epoch 3 TRAIN Batch 650 Loss 0.5885 Accuracy 69.4243 AUC 0.6747\n",
            "Epoch 3 TRAIN Batch 700 Loss 0.5857 Accuracy 69.6001 AUC 0.6801\n",
            "Epoch 3 TRAIN Batch 750 Loss 0.5833 Accuracy 69.7578 AUC 0.6846\n"
          ],
          "name": "stdout"
        },
        {
          "output_type": "stream",
          "text": [
            "19-12 18:00 root         INFO     Epoch TRAIN 3 Loss 0.5818 Accuracy 69.8514 AUC 0.6871\n"
          ],
          "name": "stderr"
        },
        {
          "output_type": "stream",
          "text": [
            "Time taken for 1 epoch: 93.33846116065979 secs\n",
            "\n",
            "Epoch 4 TRAIN Batch 0 Loss 0.5626 Accuracy 71.1400 AUC 0.7412\n",
            "Epoch 4 TRAIN Batch 50 Loss 0.5480 Accuracy 72.0315 AUC 0.7432\n",
            "Epoch 4 TRAIN Batch 100 Loss 0.5470 Accuracy 72.0734 AUC 0.7437\n",
            "Epoch 4 TRAIN Batch 150 Loss 0.5474 Accuracy 72.0495 AUC 0.7434\n",
            "Epoch 4 TRAIN Batch 200 Loss 0.5470 Accuracy 72.0637 AUC 0.7439\n",
            "Epoch 4 TRAIN Batch 250 Loss 0.5472 Accuracy 72.0363 AUC 0.7439\n",
            "Epoch 4 TRAIN Batch 300 Loss 0.5471 Accuracy 72.0388 AUC 0.7441\n",
            "Epoch 4 TRAIN Batch 350 Loss 0.5473 Accuracy 72.0261 AUC 0.7441\n",
            "Epoch 4 TRAIN Batch 400 Loss 0.5471 Accuracy 72.0434 AUC 0.7443\n",
            "Epoch 4 TRAIN Batch 450 Loss 0.5471 Accuracy 72.0435 AUC 0.7445\n",
            "Epoch 4 TRAIN Batch 500 Loss 0.5470 Accuracy 72.0524 AUC 0.7448\n",
            "Epoch 4 TRAIN Batch 550 Loss 0.5470 Accuracy 72.0539 AUC 0.7448\n",
            "Epoch 4 TRAIN Batch 600 Loss 0.5468 Accuracy 72.0676 AUC 0.7450\n",
            "Epoch 4 TRAIN Batch 650 Loss 0.5469 Accuracy 72.0502 AUC 0.7448\n",
            "Epoch 4 TRAIN Batch 700 Loss 0.5468 Accuracy 72.0609 AUC 0.7449\n",
            "Epoch 4 TRAIN Batch 750 Loss 0.5466 Accuracy 72.0792 AUC 0.7451\n"
          ],
          "name": "stdout"
        },
        {
          "output_type": "stream",
          "text": [
            "19-12 18:01 root         INFO     Epoch TRAIN 4 Loss 0.5466 Accuracy 72.0770 AUC 0.7451\n"
          ],
          "name": "stderr"
        },
        {
          "output_type": "stream",
          "text": [
            "Time taken for 1 epoch: 95.33440446853638 secs\n",
            "\n",
            "Epoch 5 TRAIN Batch 0 Loss 0.5410 Accuracy 72.2250 AUC 0.7523\n",
            "Epoch 5 TRAIN Batch 50 Loss 0.5456 Accuracy 72.1170 AUC 0.7475\n",
            "Epoch 5 TRAIN Batch 100 Loss 0.5455 Accuracy 72.1624 AUC 0.7476\n",
            "Epoch 5 TRAIN Batch 150 Loss 0.5449 Accuracy 72.1909 AUC 0.7476\n",
            "Epoch 5 TRAIN Batch 200 Loss 0.5451 Accuracy 72.1827 AUC 0.7473\n",
            "Epoch 5 TRAIN Batch 250 Loss 0.5453 Accuracy 72.1690 AUC 0.7473\n",
            "Epoch 5 TRAIN Batch 300 Loss 0.5453 Accuracy 72.1623 AUC 0.7471\n",
            "Epoch 5 TRAIN Batch 350 Loss 0.5451 Accuracy 72.1835 AUC 0.7472\n",
            "Epoch 5 TRAIN Batch 400 Loss 0.5449 Accuracy 72.2094 AUC 0.7474\n",
            "Epoch 5 TRAIN Batch 450 Loss 0.5448 Accuracy 72.2129 AUC 0.7476\n",
            "Epoch 5 TRAIN Batch 500 Loss 0.5447 Accuracy 72.2108 AUC 0.7477\n",
            "Epoch 5 TRAIN Batch 550 Loss 0.5449 Accuracy 72.2003 AUC 0.7475\n",
            "Epoch 5 TRAIN Batch 600 Loss 0.5448 Accuracy 72.2114 AUC 0.7475\n",
            "Epoch 5 TRAIN Batch 650 Loss 0.5447 Accuracy 72.2179 AUC 0.7476\n",
            "Epoch 5 TRAIN Batch 700 Loss 0.5446 Accuracy 72.2194 AUC 0.7476\n",
            "Epoch 5 TRAIN Batch 750 Loss 0.5446 Accuracy 72.2215 AUC 0.7476\n"
          ],
          "name": "stdout"
        },
        {
          "output_type": "stream",
          "text": [
            "19-12 18:03 root         INFO     Epoch TRAIN 5 Loss 0.5446 Accuracy 72.2192 AUC 0.7476\n"
          ],
          "name": "stderr"
        },
        {
          "output_type": "stream",
          "text": [
            "Epoch 5 VAL Batch 0 Loss 0.5419 Accuracy 72.1966 AUC 0.7500\n",
            "Epoch 5 VAL Batch 50 Loss 0.5439 Accuracy 72.2245 AUC 0.7497\n",
            "Epoch 5 VAL Batch 100 Loss 0.5425 Accuracy 72.3109 AUC 0.7515\n",
            "Epoch 5 VAL Batch 150 Loss 0.5426 Accuracy 72.3086 AUC 0.7510\n",
            "Epoch 5 VAL Batch 200 Loss 0.5429 Accuracy 72.2886 AUC 0.7510\n",
            "Epoch 5 VAL Batch 250 Loss 0.5426 Accuracy 72.3059 AUC 0.7512\n",
            "Epoch 5 VAL Batch 300 Loss 0.5424 Accuracy 72.3319 AUC 0.7513\n",
            "Epoch 5 VAL Batch 350 Loss 0.5425 Accuracy 72.3218 AUC 0.7514\n",
            "Epoch 5 VAL Batch 400 Loss 0.5423 Accuracy 72.3316 AUC 0.7515\n",
            "Epoch 5 VAL Batch 450 Loss 0.5421 Accuracy 72.3526 AUC 0.7516\n",
            "Epoch 5 VAL Batch 500 Loss 0.5421 Accuracy 72.3515 AUC 0.7515\n",
            "Epoch 5 VAL Batch 550 Loss 0.5421 Accuracy 72.3570 AUC 0.7514\n",
            "Epoch 5 VAL Batch 600 Loss 0.5419 Accuracy 72.3724 AUC 0.7515\n",
            "Epoch 5 VAL Batch 650 Loss 0.5420 Accuracy 72.3644 AUC 0.7515\n",
            "Epoch 5 VAL Batch 700 Loss 0.5420 Accuracy 72.3619 AUC 0.7515\n",
            "Epoch 5 VAL Batch 750 Loss 0.5419 Accuracy 72.3696 AUC 0.7515\n"
          ],
          "name": "stdout"
        },
        {
          "output_type": "stream",
          "text": [
            "19-12 18:04 root         INFO     Epoch VAL 5 Loss 0.5419 Accuracy 72.3711 AUC 0.7516\n",
            "19-12 18:04 root         INFO     Saving checkpoint for epoch 5 at 19-Dec-riiid-2/checkpoints/ckpt-1\n"
          ],
          "name": "stderr"
        },
        {
          "output_type": "stream",
          "text": [
            "Time taken for 1 epoch: 173.9174370765686 secs\n",
            "\n",
            "Epoch 6 TRAIN Batch 0 Loss 0.5414 Accuracy 72.2365 AUC 0.7449\n",
            "Epoch 6 TRAIN Batch 50 Loss 0.5456 Accuracy 72.0914 AUC 0.7467\n",
            "Epoch 6 TRAIN Batch 100 Loss 0.5452 Accuracy 72.1574 AUC 0.7471\n",
            "Epoch 6 TRAIN Batch 150 Loss 0.5450 Accuracy 72.1707 AUC 0.7474\n",
            "Epoch 6 TRAIN Batch 200 Loss 0.5446 Accuracy 72.1736 AUC 0.7481\n",
            "Epoch 6 TRAIN Batch 250 Loss 0.5448 Accuracy 72.1688 AUC 0.7480\n",
            "Epoch 6 TRAIN Batch 300 Loss 0.5448 Accuracy 72.1626 AUC 0.7480\n",
            "Epoch 6 TRAIN Batch 350 Loss 0.5449 Accuracy 72.1585 AUC 0.7479\n",
            "Epoch 6 TRAIN Batch 400 Loss 0.5448 Accuracy 72.1668 AUC 0.7480\n",
            "Epoch 6 TRAIN Batch 450 Loss 0.5449 Accuracy 72.1500 AUC 0.7478\n",
            "Epoch 6 TRAIN Batch 500 Loss 0.5447 Accuracy 72.1686 AUC 0.7479\n",
            "Epoch 6 TRAIN Batch 550 Loss 0.5446 Accuracy 72.1771 AUC 0.7481\n",
            "Epoch 6 TRAIN Batch 600 Loss 0.5443 Accuracy 72.1957 AUC 0.7483\n",
            "Epoch 6 TRAIN Batch 650 Loss 0.5443 Accuracy 72.1947 AUC 0.7482\n",
            "Epoch 6 TRAIN Batch 700 Loss 0.5442 Accuracy 72.2051 AUC 0.7483\n",
            "Epoch 6 TRAIN Batch 750 Loss 0.5442 Accuracy 72.2104 AUC 0.7484\n"
          ],
          "name": "stdout"
        },
        {
          "output_type": "stream",
          "text": [
            "19-12 18:06 root         INFO     Epoch TRAIN 6 Loss 0.5442 Accuracy 72.2077 AUC 0.7484\n"
          ],
          "name": "stderr"
        },
        {
          "output_type": "stream",
          "text": [
            "Time taken for 1 epoch: 90.51084804534912 secs\n",
            "\n",
            "Epoch 7 TRAIN Batch 0 Loss 0.5553 Accuracy 71.2515 AUC 0.7438\n",
            "Epoch 7 TRAIN Batch 50 Loss 0.5420 Accuracy 72.3336 AUC 0.7503\n",
            "Epoch 7 TRAIN Batch 100 Loss 0.5422 Accuracy 72.3510 AUC 0.7510\n",
            "Epoch 7 TRAIN Batch 150 Loss 0.5418 Accuracy 72.3876 AUC 0.7510\n",
            "Epoch 7 TRAIN Batch 200 Loss 0.5425 Accuracy 72.3373 AUC 0.7507\n",
            "Epoch 7 TRAIN Batch 250 Loss 0.5430 Accuracy 72.2973 AUC 0.7504\n",
            "Epoch 7 TRAIN Batch 300 Loss 0.5431 Accuracy 72.3012 AUC 0.7501\n",
            "Epoch 7 TRAIN Batch 350 Loss 0.5433 Accuracy 72.2818 AUC 0.7499\n",
            "Epoch 7 TRAIN Batch 400 Loss 0.5434 Accuracy 72.2722 AUC 0.7498\n",
            "Epoch 7 TRAIN Batch 450 Loss 0.5435 Accuracy 72.2662 AUC 0.7496\n",
            "Epoch 7 TRAIN Batch 500 Loss 0.5435 Accuracy 72.2660 AUC 0.7497\n",
            "Epoch 7 TRAIN Batch 550 Loss 0.5433 Accuracy 72.2886 AUC 0.7498\n",
            "Epoch 7 TRAIN Batch 600 Loss 0.5431 Accuracy 72.2943 AUC 0.7499\n",
            "Epoch 7 TRAIN Batch 650 Loss 0.5430 Accuracy 72.2993 AUC 0.7500\n",
            "Epoch 7 TRAIN Batch 700 Loss 0.5430 Accuracy 72.2942 AUC 0.7500\n",
            "Epoch 7 TRAIN Batch 750 Loss 0.5431 Accuracy 72.2949 AUC 0.7501\n"
          ],
          "name": "stdout"
        },
        {
          "output_type": "stream",
          "text": [
            "19-12 18:07 root         INFO     Epoch TRAIN 7 Loss 0.5431 Accuracy 72.2926 AUC 0.7500\n"
          ],
          "name": "stderr"
        },
        {
          "output_type": "stream",
          "text": [
            "Time taken for 1 epoch: 89.4902777671814 secs\n",
            "\n",
            "Epoch 8 TRAIN Batch 0 Loss 0.5481 Accuracy 71.7853 AUC 0.7505\n",
            "Epoch 8 TRAIN Batch 50 Loss 0.5433 Accuracy 72.2407 AUC 0.7479\n",
            "Epoch 8 TRAIN Batch 100 Loss 0.5425 Accuracy 72.2935 AUC 0.7492\n",
            "Epoch 8 TRAIN Batch 150 Loss 0.5421 Accuracy 72.3334 AUC 0.7499\n",
            "Epoch 8 TRAIN Batch 200 Loss 0.5424 Accuracy 72.3114 AUC 0.7500\n",
            "Epoch 8 TRAIN Batch 250 Loss 0.5426 Accuracy 72.2986 AUC 0.7501\n",
            "Epoch 8 TRAIN Batch 300 Loss 0.5425 Accuracy 72.3028 AUC 0.7501\n",
            "Epoch 8 TRAIN Batch 350 Loss 0.5423 Accuracy 72.3285 AUC 0.7503\n",
            "Epoch 8 TRAIN Batch 400 Loss 0.5424 Accuracy 72.3231 AUC 0.7504\n",
            "Epoch 8 TRAIN Batch 450 Loss 0.5424 Accuracy 72.3265 AUC 0.7503\n",
            "Epoch 8 TRAIN Batch 500 Loss 0.5424 Accuracy 72.3269 AUC 0.7504\n",
            "Epoch 8 TRAIN Batch 550 Loss 0.5422 Accuracy 72.3410 AUC 0.7507\n",
            "Epoch 8 TRAIN Batch 600 Loss 0.5421 Accuracy 72.3535 AUC 0.7509\n",
            "Epoch 8 TRAIN Batch 650 Loss 0.5418 Accuracy 72.3665 AUC 0.7511\n",
            "Epoch 8 TRAIN Batch 700 Loss 0.5417 Accuracy 72.3802 AUC 0.7513\n",
            "Epoch 8 TRAIN Batch 750 Loss 0.5416 Accuracy 72.3835 AUC 0.7514\n"
          ],
          "name": "stdout"
        },
        {
          "output_type": "stream",
          "text": [
            "19-12 18:09 root         INFO     Epoch TRAIN 8 Loss 0.5416 Accuracy 72.3867 AUC 0.7514\n"
          ],
          "name": "stderr"
        },
        {
          "output_type": "stream",
          "text": [
            "Time taken for 1 epoch: 88.76103019714355 secs\n",
            "\n",
            "Epoch 9 TRAIN Batch 0 Loss 0.5654 Accuracy 71.0596 AUC 0.7423\n",
            "Epoch 9 TRAIN Batch 50 Loss 0.5410 Accuracy 72.4650 AUC 0.7515\n",
            "Epoch 9 TRAIN Batch 100 Loss 0.5416 Accuracy 72.3952 AUC 0.7519\n",
            "Epoch 9 TRAIN Batch 150 Loss 0.5416 Accuracy 72.3973 AUC 0.7518\n",
            "Epoch 9 TRAIN Batch 200 Loss 0.5409 Accuracy 72.4475 AUC 0.7526\n",
            "Epoch 9 TRAIN Batch 250 Loss 0.5409 Accuracy 72.4461 AUC 0.7528\n",
            "Epoch 9 TRAIN Batch 300 Loss 0.5405 Accuracy 72.4731 AUC 0.7531\n",
            "Epoch 9 TRAIN Batch 350 Loss 0.5406 Accuracy 72.4747 AUC 0.7531\n",
            "Epoch 9 TRAIN Batch 400 Loss 0.5405 Accuracy 72.4747 AUC 0.7533\n",
            "Epoch 9 TRAIN Batch 450 Loss 0.5404 Accuracy 72.4880 AUC 0.7534\n",
            "Epoch 9 TRAIN Batch 500 Loss 0.5402 Accuracy 72.4917 AUC 0.7534\n",
            "Epoch 9 TRAIN Batch 550 Loss 0.5402 Accuracy 72.4949 AUC 0.7535\n",
            "Epoch 9 TRAIN Batch 600 Loss 0.5402 Accuracy 72.4970 AUC 0.7534\n",
            "Epoch 9 TRAIN Batch 650 Loss 0.5400 Accuracy 72.5152 AUC 0.7535\n",
            "Epoch 9 TRAIN Batch 700 Loss 0.5398 Accuracy 72.5296 AUC 0.7536\n",
            "Epoch 9 TRAIN Batch 750 Loss 0.5399 Accuracy 72.5229 AUC 0.7536\n"
          ],
          "name": "stdout"
        },
        {
          "output_type": "stream",
          "text": [
            "19-12 18:10 root         INFO     Epoch TRAIN 9 Loss 0.5399 Accuracy 72.5239 AUC 0.7537\n"
          ],
          "name": "stderr"
        },
        {
          "output_type": "stream",
          "text": [
            "Time taken for 1 epoch: 86.49185538291931 secs\n",
            "\n",
            "Epoch 10 TRAIN Batch 0 Loss 0.5387 Accuracy 72.4576 AUC 0.7575\n",
            "Epoch 10 TRAIN Batch 50 Loss 0.5392 Accuracy 72.5617 AUC 0.7556\n",
            "Epoch 10 TRAIN Batch 100 Loss 0.5397 Accuracy 72.5010 AUC 0.7543\n",
            "Epoch 10 TRAIN Batch 150 Loss 0.5389 Accuracy 72.5514 AUC 0.7550\n",
            "Epoch 10 TRAIN Batch 200 Loss 0.5388 Accuracy 72.5812 AUC 0.7547\n",
            "Epoch 10 TRAIN Batch 250 Loss 0.5390 Accuracy 72.5821 AUC 0.7542\n",
            "Epoch 10 TRAIN Batch 300 Loss 0.5394 Accuracy 72.5565 AUC 0.7539\n",
            "Epoch 10 TRAIN Batch 350 Loss 0.5394 Accuracy 72.5641 AUC 0.7537\n",
            "Epoch 10 TRAIN Batch 400 Loss 0.5395 Accuracy 72.5517 AUC 0.7537\n",
            "Epoch 10 TRAIN Batch 450 Loss 0.5395 Accuracy 72.5439 AUC 0.7537\n",
            "Epoch 10 TRAIN Batch 500 Loss 0.5395 Accuracy 72.5447 AUC 0.7538\n",
            "Epoch 10 TRAIN Batch 550 Loss 0.5395 Accuracy 72.5369 AUC 0.7538\n",
            "Epoch 10 TRAIN Batch 600 Loss 0.5395 Accuracy 72.5335 AUC 0.7538\n",
            "Epoch 10 TRAIN Batch 650 Loss 0.5395 Accuracy 72.5376 AUC 0.7539\n",
            "Epoch 10 TRAIN Batch 700 Loss 0.5396 Accuracy 72.5298 AUC 0.7538\n",
            "Epoch 10 TRAIN Batch 750 Loss 0.5397 Accuracy 72.5261 AUC 0.7538\n"
          ],
          "name": "stdout"
        },
        {
          "output_type": "stream",
          "text": [
            "19-12 18:12 root         INFO     Epoch TRAIN 10 Loss 0.5397 Accuracy 72.5275 AUC 0.7539\n"
          ],
          "name": "stderr"
        },
        {
          "output_type": "stream",
          "text": [
            "Epoch 10 VAL Batch 0 Loss 0.5397 Accuracy 72.1714 AUC 0.7541\n",
            "Epoch 10 VAL Batch 50 Loss 0.5423 Accuracy 72.1969 AUC 0.7536\n",
            "Epoch 10 VAL Batch 100 Loss 0.5410 Accuracy 72.2942 AUC 0.7552\n",
            "Epoch 10 VAL Batch 150 Loss 0.5411 Accuracy 72.2884 AUC 0.7547\n",
            "Epoch 10 VAL Batch 200 Loss 0.5414 Accuracy 72.2570 AUC 0.7547\n",
            "Epoch 10 VAL Batch 250 Loss 0.5412 Accuracy 72.2743 AUC 0.7550\n",
            "Epoch 10 VAL Batch 300 Loss 0.5409 Accuracy 72.3015 AUC 0.7551\n",
            "Epoch 10 VAL Batch 350 Loss 0.5410 Accuracy 72.3019 AUC 0.7552\n",
            "Epoch 10 VAL Batch 400 Loss 0.5408 Accuracy 72.3166 AUC 0.7553\n",
            "Epoch 10 VAL Batch 450 Loss 0.5405 Accuracy 72.3416 AUC 0.7554\n",
            "Epoch 10 VAL Batch 500 Loss 0.5406 Accuracy 72.3356 AUC 0.7553\n",
            "Epoch 10 VAL Batch 550 Loss 0.5405 Accuracy 72.3365 AUC 0.7553\n",
            "Epoch 10 VAL Batch 600 Loss 0.5404 Accuracy 72.3466 AUC 0.7554\n",
            "Epoch 10 VAL Batch 650 Loss 0.5404 Accuracy 72.3434 AUC 0.7554\n",
            "Epoch 10 VAL Batch 700 Loss 0.5404 Accuracy 72.3399 AUC 0.7554\n",
            "Epoch 10 VAL Batch 750 Loss 0.5403 Accuracy 72.3492 AUC 0.7554\n"
          ],
          "name": "stdout"
        },
        {
          "output_type": "stream",
          "text": [
            "19-12 18:12 root         INFO     Epoch VAL 10 Loss 0.5403 Accuracy 72.3494 AUC 0.7555\n",
            "19-12 18:12 root         INFO     Saving checkpoint for epoch 10 at 19-Dec-riiid-2/checkpoints/ckpt-2\n"
          ],
          "name": "stderr"
        },
        {
          "output_type": "stream",
          "text": [
            "Time taken for 1 epoch: 104.37886261940002 secs\n",
            "\n",
            "Epoch 11 TRAIN Batch 0 Loss 0.5322 Accuracy 72.7979 AUC 0.7562\n",
            "Epoch 11 TRAIN Batch 50 Loss 0.5384 Accuracy 72.5842 AUC 0.7537\n",
            "Epoch 11 TRAIN Batch 100 Loss 0.5384 Accuracy 72.5991 AUC 0.7537\n",
            "Epoch 11 TRAIN Batch 150 Loss 0.5386 Accuracy 72.5717 AUC 0.7541\n",
            "Epoch 11 TRAIN Batch 200 Loss 0.5391 Accuracy 72.5440 AUC 0.7537\n",
            "Epoch 11 TRAIN Batch 250 Loss 0.5389 Accuracy 72.5611 AUC 0.7540\n",
            "Epoch 11 TRAIN Batch 300 Loss 0.5387 Accuracy 72.5901 AUC 0.7543\n",
            "Epoch 11 TRAIN Batch 350 Loss 0.5384 Accuracy 72.6099 AUC 0.7544\n",
            "Epoch 11 TRAIN Batch 400 Loss 0.5388 Accuracy 72.5841 AUC 0.7542\n",
            "Epoch 11 TRAIN Batch 450 Loss 0.5390 Accuracy 72.5659 AUC 0.7541\n",
            "Epoch 11 TRAIN Batch 500 Loss 0.5391 Accuracy 72.5676 AUC 0.7540\n",
            "Epoch 11 TRAIN Batch 550 Loss 0.5391 Accuracy 72.5648 AUC 0.7540\n",
            "Epoch 11 TRAIN Batch 600 Loss 0.5389 Accuracy 72.5796 AUC 0.7541\n",
            "Epoch 11 TRAIN Batch 650 Loss 0.5390 Accuracy 72.5742 AUC 0.7541\n",
            "Epoch 11 TRAIN Batch 700 Loss 0.5389 Accuracy 72.5819 AUC 0.7542\n",
            "Epoch 11 TRAIN Batch 750 Loss 0.5388 Accuracy 72.5918 AUC 0.7543\n"
          ],
          "name": "stdout"
        },
        {
          "output_type": "stream",
          "text": [
            "19-12 18:13 root         INFO     Epoch TRAIN 11 Loss 0.5388 Accuracy 72.5924 AUC 0.7543\n"
          ],
          "name": "stderr"
        },
        {
          "output_type": "stream",
          "text": [
            "Time taken for 1 epoch: 87.05476689338684 secs\n",
            "\n",
            "Epoch 12 TRAIN Batch 0 Loss 0.5346 Accuracy 72.4985 AUC 0.7581\n",
            "Epoch 12 TRAIN Batch 50 Loss 0.5392 Accuracy 72.5174 AUC 0.7546\n",
            "Epoch 12 TRAIN Batch 100 Loss 0.5390 Accuracy 72.5555 AUC 0.7547\n",
            "Epoch 12 TRAIN Batch 150 Loss 0.5386 Accuracy 72.5754 AUC 0.7547\n",
            "Epoch 12 TRAIN Batch 200 Loss 0.5388 Accuracy 72.5799 AUC 0.7544\n",
            "Epoch 12 TRAIN Batch 250 Loss 0.5388 Accuracy 72.5747 AUC 0.7544\n",
            "Epoch 12 TRAIN Batch 300 Loss 0.5384 Accuracy 72.6068 AUC 0.7547\n",
            "Epoch 12 TRAIN Batch 350 Loss 0.5383 Accuracy 72.6233 AUC 0.7548\n",
            "Epoch 12 TRAIN Batch 400 Loss 0.5381 Accuracy 72.6337 AUC 0.7550\n",
            "Epoch 12 TRAIN Batch 450 Loss 0.5382 Accuracy 72.6311 AUC 0.7551\n",
            "Epoch 12 TRAIN Batch 500 Loss 0.5385 Accuracy 72.6126 AUC 0.7550\n",
            "Epoch 12 TRAIN Batch 550 Loss 0.5385 Accuracy 72.6122 AUC 0.7550\n",
            "Epoch 12 TRAIN Batch 600 Loss 0.5386 Accuracy 72.6062 AUC 0.7550\n",
            "Epoch 12 TRAIN Batch 650 Loss 0.5385 Accuracy 72.6059 AUC 0.7550\n",
            "Epoch 12 TRAIN Batch 700 Loss 0.5384 Accuracy 72.6060 AUC 0.7550\n",
            "Epoch 12 TRAIN Batch 750 Loss 0.5384 Accuracy 72.6081 AUC 0.7552\n"
          ],
          "name": "stdout"
        },
        {
          "output_type": "stream",
          "text": [
            "19-12 18:15 root         INFO     Epoch TRAIN 12 Loss 0.5384 Accuracy 72.6096 AUC 0.7552\n"
          ],
          "name": "stderr"
        },
        {
          "output_type": "stream",
          "text": [
            "Time taken for 1 epoch: 87.98752641677856 secs\n",
            "\n",
            "Epoch 13 TRAIN Batch 0 Loss 0.5179 Accuracy 74.4873 AUC 0.7706\n",
            "Epoch 13 TRAIN Batch 50 Loss 0.5389 Accuracy 72.6107 AUC 0.7540\n",
            "Epoch 13 TRAIN Batch 100 Loss 0.5396 Accuracy 72.5479 AUC 0.7539\n",
            "Epoch 13 TRAIN Batch 150 Loss 0.5391 Accuracy 72.5906 AUC 0.7542\n",
            "Epoch 13 TRAIN Batch 200 Loss 0.5385 Accuracy 72.6232 AUC 0.7545\n",
            "Epoch 13 TRAIN Batch 250 Loss 0.5385 Accuracy 72.6275 AUC 0.7546\n",
            "Epoch 13 TRAIN Batch 300 Loss 0.5382 Accuracy 72.6405 AUC 0.7548\n",
            "Epoch 13 TRAIN Batch 350 Loss 0.5384 Accuracy 72.6220 AUC 0.7546\n",
            "Epoch 13 TRAIN Batch 400 Loss 0.5383 Accuracy 72.6364 AUC 0.7548\n",
            "Epoch 13 TRAIN Batch 450 Loss 0.5382 Accuracy 72.6358 AUC 0.7550\n",
            "Epoch 13 TRAIN Batch 500 Loss 0.5382 Accuracy 72.6384 AUC 0.7550\n",
            "Epoch 13 TRAIN Batch 550 Loss 0.5383 Accuracy 72.6210 AUC 0.7550\n",
            "Epoch 13 TRAIN Batch 600 Loss 0.5383 Accuracy 72.6245 AUC 0.7552\n",
            "Epoch 13 TRAIN Batch 650 Loss 0.5381 Accuracy 72.6381 AUC 0.7553\n",
            "Epoch 13 TRAIN Batch 700 Loss 0.5382 Accuracy 72.6383 AUC 0.7553\n",
            "Epoch 13 TRAIN Batch 750 Loss 0.5381 Accuracy 72.6453 AUC 0.7554\n"
          ],
          "name": "stdout"
        },
        {
          "output_type": "stream",
          "text": [
            "19-12 18:16 root         INFO     Epoch TRAIN 13 Loss 0.5383 Accuracy 72.6340 AUC 0.7554\n"
          ],
          "name": "stderr"
        },
        {
          "output_type": "stream",
          "text": [
            "Time taken for 1 epoch: 85.5534086227417 secs\n",
            "\n",
            "Epoch 14 TRAIN Batch 0 Loss 0.5362 Accuracy 72.6593 AUC 0.7562\n",
            "Epoch 14 TRAIN Batch 50 Loss 0.5364 Accuracy 72.8040 AUC 0.7562\n",
            "Epoch 14 TRAIN Batch 100 Loss 0.5371 Accuracy 72.7202 AUC 0.7554\n",
            "Epoch 14 TRAIN Batch 150 Loss 0.5376 Accuracy 72.6606 AUC 0.7552\n",
            "Epoch 14 TRAIN Batch 200 Loss 0.5377 Accuracy 72.6622 AUC 0.7553\n",
            "Epoch 14 TRAIN Batch 250 Loss 0.5380 Accuracy 72.6246 AUC 0.7554\n",
            "Epoch 14 TRAIN Batch 300 Loss 0.5380 Accuracy 72.6353 AUC 0.7554\n",
            "Epoch 14 TRAIN Batch 350 Loss 0.5380 Accuracy 72.6328 AUC 0.7554\n",
            "Epoch 14 TRAIN Batch 400 Loss 0.5380 Accuracy 72.6231 AUC 0.7555\n",
            "Epoch 14 TRAIN Batch 450 Loss 0.5382 Accuracy 72.6045 AUC 0.7555\n",
            "Epoch 14 TRAIN Batch 500 Loss 0.5381 Accuracy 72.6093 AUC 0.7555\n",
            "Epoch 14 TRAIN Batch 550 Loss 0.5380 Accuracy 72.6206 AUC 0.7557\n",
            "Epoch 14 TRAIN Batch 600 Loss 0.5380 Accuracy 72.6273 AUC 0.7558\n",
            "Epoch 14 TRAIN Batch 650 Loss 0.5377 Accuracy 72.6434 AUC 0.7560\n",
            "Epoch 14 TRAIN Batch 700 Loss 0.5377 Accuracy 72.6441 AUC 0.7560\n",
            "Epoch 14 TRAIN Batch 750 Loss 0.5378 Accuracy 72.6391 AUC 0.7560\n"
          ],
          "name": "stdout"
        },
        {
          "output_type": "stream",
          "text": [
            "19-12 18:18 root         INFO     Epoch TRAIN 14 Loss 0.5379 Accuracy 72.6313 AUC 0.7559\n"
          ],
          "name": "stderr"
        },
        {
          "output_type": "stream",
          "text": [
            "Time taken for 1 epoch: 87.79837536811829 secs\n",
            "\n",
            "Epoch 15 TRAIN Batch 0 Loss 0.5430 Accuracy 72.3402 AUC 0.7580\n",
            "Epoch 15 TRAIN Batch 50 Loss 0.5364 Accuracy 72.7934 AUC 0.7556\n",
            "Epoch 15 TRAIN Batch 100 Loss 0.5371 Accuracy 72.7174 AUC 0.7560\n",
            "Epoch 15 TRAIN Batch 150 Loss 0.5369 Accuracy 72.7344 AUC 0.7565\n",
            "Epoch 15 TRAIN Batch 200 Loss 0.5368 Accuracy 72.7292 AUC 0.7568\n",
            "Epoch 15 TRAIN Batch 250 Loss 0.5368 Accuracy 72.7239 AUC 0.7570\n",
            "Epoch 15 TRAIN Batch 300 Loss 0.5368 Accuracy 72.7055 AUC 0.7572\n",
            "Epoch 15 TRAIN Batch 350 Loss 0.5372 Accuracy 72.6721 AUC 0.7569\n",
            "Epoch 15 TRAIN Batch 400 Loss 0.5373 Accuracy 72.6656 AUC 0.7568\n",
            "Epoch 15 TRAIN Batch 450 Loss 0.5371 Accuracy 72.6877 AUC 0.7570\n",
            "Epoch 15 TRAIN Batch 500 Loss 0.5371 Accuracy 72.6905 AUC 0.7569\n",
            "Epoch 15 TRAIN Batch 550 Loss 0.5370 Accuracy 72.7003 AUC 0.7570\n",
            "Epoch 15 TRAIN Batch 600 Loss 0.5371 Accuracy 72.6980 AUC 0.7570\n",
            "Epoch 15 TRAIN Batch 650 Loss 0.5370 Accuracy 72.7045 AUC 0.7570\n",
            "Epoch 15 TRAIN Batch 700 Loss 0.5371 Accuracy 72.7025 AUC 0.7570\n",
            "Epoch 15 TRAIN Batch 750 Loss 0.5370 Accuracy 72.7069 AUC 0.7570\n"
          ],
          "name": "stdout"
        },
        {
          "output_type": "stream",
          "text": [
            "19-12 18:19 root         INFO     Epoch TRAIN 15 Loss 0.5369 Accuracy 72.7196 AUC 0.7571\n"
          ],
          "name": "stderr"
        },
        {
          "output_type": "stream",
          "text": [
            "Epoch 15 VAL Batch 0 Loss 0.5366 Accuracy 72.5656 AUC 0.7557\n",
            "Epoch 15 VAL Batch 50 Loss 0.5387 Accuracy 72.5990 AUC 0.7561\n",
            "Epoch 15 VAL Batch 100 Loss 0.5372 Accuracy 72.7145 AUC 0.7579\n",
            "Epoch 15 VAL Batch 150 Loss 0.5372 Accuracy 72.7160 AUC 0.7574\n",
            "Epoch 15 VAL Batch 200 Loss 0.5375 Accuracy 72.6904 AUC 0.7574\n",
            "Epoch 15 VAL Batch 250 Loss 0.5372 Accuracy 72.7026 AUC 0.7576\n",
            "Epoch 15 VAL Batch 300 Loss 0.5370 Accuracy 72.7299 AUC 0.7578\n",
            "Epoch 15 VAL Batch 350 Loss 0.5371 Accuracy 72.7209 AUC 0.7579\n",
            "Epoch 15 VAL Batch 400 Loss 0.5369 Accuracy 72.7267 AUC 0.7579\n",
            "Epoch 15 VAL Batch 450 Loss 0.5366 Accuracy 72.7571 AUC 0.7581\n",
            "Epoch 15 VAL Batch 500 Loss 0.5367 Accuracy 72.7550 AUC 0.7580\n",
            "Epoch 15 VAL Batch 550 Loss 0.5366 Accuracy 72.7586 AUC 0.7579\n",
            "Epoch 15 VAL Batch 600 Loss 0.5365 Accuracy 72.7708 AUC 0.7580\n",
            "Epoch 15 VAL Batch 650 Loss 0.5365 Accuracy 72.7659 AUC 0.7580\n",
            "Epoch 15 VAL Batch 700 Loss 0.5365 Accuracy 72.7639 AUC 0.7580\n",
            "Epoch 15 VAL Batch 750 Loss 0.5364 Accuracy 72.7717 AUC 0.7581\n"
          ],
          "name": "stdout"
        },
        {
          "output_type": "stream",
          "text": [
            "19-12 18:19 root         INFO     Epoch VAL 15 Loss 0.5364 Accuracy 72.7717 AUC 0.7582\n",
            "19-12 18:19 root         INFO     Saving checkpoint for epoch 15 at 19-Dec-riiid-2/checkpoints/ckpt-3\n"
          ],
          "name": "stderr"
        },
        {
          "output_type": "stream",
          "text": [
            "Time taken for 1 epoch: 105.36280965805054 secs\n",
            "\n",
            "Epoch 16 TRAIN Batch 0 Loss 0.5207 Accuracy 73.8668 AUC 0.7712\n",
            "Epoch 16 TRAIN Batch 50 Loss 0.5371 Accuracy 72.6920 AUC 0.7570\n",
            "Epoch 16 TRAIN Batch 100 Loss 0.5373 Accuracy 72.6876 AUC 0.7578\n",
            "Epoch 16 TRAIN Batch 150 Loss 0.5371 Accuracy 72.7180 AUC 0.7576\n",
            "Epoch 16 TRAIN Batch 200 Loss 0.5373 Accuracy 72.6892 AUC 0.7576\n",
            "Epoch 16 TRAIN Batch 250 Loss 0.5371 Accuracy 72.6991 AUC 0.7576\n",
            "Epoch 16 TRAIN Batch 300 Loss 0.5372 Accuracy 72.6935 AUC 0.7573\n",
            "Epoch 16 TRAIN Batch 350 Loss 0.5372 Accuracy 72.6868 AUC 0.7575\n",
            "Epoch 16 TRAIN Batch 400 Loss 0.5369 Accuracy 72.7149 AUC 0.7574\n",
            "Epoch 16 TRAIN Batch 450 Loss 0.5370 Accuracy 72.7052 AUC 0.7571\n",
            "Epoch 16 TRAIN Batch 500 Loss 0.5368 Accuracy 72.7312 AUC 0.7573\n",
            "Epoch 16 TRAIN Batch 550 Loss 0.5367 Accuracy 72.7405 AUC 0.7572\n",
            "Epoch 16 TRAIN Batch 600 Loss 0.5366 Accuracy 72.7423 AUC 0.7573\n",
            "Epoch 16 TRAIN Batch 650 Loss 0.5367 Accuracy 72.7350 AUC 0.7573\n",
            "Epoch 16 TRAIN Batch 700 Loss 0.5367 Accuracy 72.7327 AUC 0.7573\n",
            "Epoch 16 TRAIN Batch 750 Loss 0.5366 Accuracy 72.7380 AUC 0.7573\n"
          ],
          "name": "stdout"
        },
        {
          "output_type": "stream",
          "text": [
            "19-12 18:21 root         INFO     Epoch TRAIN 16 Loss 0.5366 Accuracy 72.7370 AUC 0.7573\n"
          ],
          "name": "stderr"
        },
        {
          "output_type": "stream",
          "text": [
            "Time taken for 1 epoch: 85.8693060874939 secs\n",
            "\n",
            "Epoch 17 TRAIN Batch 0 Loss 0.5385 Accuracy 72.9883 AUC 0.7670\n",
            "Epoch 17 TRAIN Batch 50 Loss 0.5378 Accuracy 72.6197 AUC 0.7564\n",
            "Epoch 17 TRAIN Batch 100 Loss 0.5361 Accuracy 72.7693 AUC 0.7580\n",
            "Epoch 17 TRAIN Batch 150 Loss 0.5353 Accuracy 72.8167 AUC 0.7582\n",
            "Epoch 17 TRAIN Batch 200 Loss 0.5349 Accuracy 72.8462 AUC 0.7584\n",
            "Epoch 17 TRAIN Batch 250 Loss 0.5353 Accuracy 72.8251 AUC 0.7582\n",
            "Epoch 17 TRAIN Batch 300 Loss 0.5357 Accuracy 72.7949 AUC 0.7580\n",
            "Epoch 17 TRAIN Batch 350 Loss 0.5359 Accuracy 72.7750 AUC 0.7581\n",
            "Epoch 17 TRAIN Batch 400 Loss 0.5355 Accuracy 72.8099 AUC 0.7582\n",
            "Epoch 17 TRAIN Batch 450 Loss 0.5355 Accuracy 72.8122 AUC 0.7582\n",
            "Epoch 17 TRAIN Batch 500 Loss 0.5356 Accuracy 72.8024 AUC 0.7581\n",
            "Epoch 17 TRAIN Batch 550 Loss 0.5357 Accuracy 72.7959 AUC 0.7581\n",
            "Epoch 17 TRAIN Batch 600 Loss 0.5357 Accuracy 72.7936 AUC 0.7581\n",
            "Epoch 17 TRAIN Batch 650 Loss 0.5357 Accuracy 72.7926 AUC 0.7580\n",
            "Epoch 17 TRAIN Batch 700 Loss 0.5356 Accuracy 72.8015 AUC 0.7581\n",
            "Epoch 17 TRAIN Batch 750 Loss 0.5357 Accuracy 72.7941 AUC 0.7582\n"
          ],
          "name": "stdout"
        },
        {
          "output_type": "stream",
          "text": [
            "19-12 18:22 root         INFO     Epoch TRAIN 17 Loss 0.5358 Accuracy 72.7853 AUC 0.7581\n"
          ],
          "name": "stderr"
        },
        {
          "output_type": "stream",
          "text": [
            "Time taken for 1 epoch: 87.1250433921814 secs\n",
            "\n",
            "Epoch 18 TRAIN Batch 0 Loss 0.5454 Accuracy 72.4861 AUC 0.7571\n",
            "Epoch 18 TRAIN Batch 50 Loss 0.5365 Accuracy 72.7528 AUC 0.7573\n",
            "Epoch 18 TRAIN Batch 100 Loss 0.5362 Accuracy 72.7788 AUC 0.7574\n",
            "Epoch 18 TRAIN Batch 150 Loss 0.5365 Accuracy 72.7398 AUC 0.7571\n",
            "Epoch 18 TRAIN Batch 200 Loss 0.5360 Accuracy 72.7815 AUC 0.7579\n",
            "Epoch 18 TRAIN Batch 250 Loss 0.5360 Accuracy 72.7852 AUC 0.7582\n",
            "Epoch 18 TRAIN Batch 300 Loss 0.5358 Accuracy 72.8044 AUC 0.7583\n",
            "Epoch 18 TRAIN Batch 350 Loss 0.5356 Accuracy 72.8211 AUC 0.7584\n",
            "Epoch 18 TRAIN Batch 400 Loss 0.5356 Accuracy 72.8253 AUC 0.7583\n",
            "Epoch 18 TRAIN Batch 450 Loss 0.5356 Accuracy 72.8174 AUC 0.7584\n",
            "Epoch 18 TRAIN Batch 500 Loss 0.5355 Accuracy 72.8291 AUC 0.7586\n",
            "Epoch 18 TRAIN Batch 550 Loss 0.5357 Accuracy 72.8116 AUC 0.7586\n",
            "Epoch 18 TRAIN Batch 600 Loss 0.5356 Accuracy 72.8162 AUC 0.7585\n",
            "Epoch 18 TRAIN Batch 650 Loss 0.5356 Accuracy 72.8135 AUC 0.7586\n",
            "Epoch 18 TRAIN Batch 700 Loss 0.5357 Accuracy 72.8077 AUC 0.7586\n",
            "Epoch 18 TRAIN Batch 750 Loss 0.5357 Accuracy 72.7995 AUC 0.7585\n"
          ],
          "name": "stdout"
        },
        {
          "output_type": "stream",
          "text": [
            "19-12 18:24 root         INFO     Epoch TRAIN 18 Loss 0.5357 Accuracy 72.8021 AUC 0.7585\n"
          ],
          "name": "stderr"
        },
        {
          "output_type": "stream",
          "text": [
            "Time taken for 1 epoch: 85.93545794487 secs\n",
            "\n",
            "Epoch 19 TRAIN Batch 0 Loss 0.5380 Accuracy 72.5930 AUC 0.7512\n",
            "Epoch 19 TRAIN Batch 50 Loss 0.5331 Accuracy 72.9920 AUC 0.7598\n",
            "Epoch 19 TRAIN Batch 100 Loss 0.5348 Accuracy 72.8772 AUC 0.7584\n",
            "Epoch 19 TRAIN Batch 150 Loss 0.5347 Accuracy 72.8715 AUC 0.7589\n",
            "Epoch 19 TRAIN Batch 200 Loss 0.5352 Accuracy 72.8236 AUC 0.7591\n",
            "Epoch 19 TRAIN Batch 250 Loss 0.5349 Accuracy 72.8544 AUC 0.7594\n",
            "Epoch 19 TRAIN Batch 300 Loss 0.5350 Accuracy 72.8476 AUC 0.7593\n",
            "Epoch 19 TRAIN Batch 350 Loss 0.5350 Accuracy 72.8375 AUC 0.7593\n",
            "Epoch 19 TRAIN Batch 400 Loss 0.5351 Accuracy 72.8360 AUC 0.7591\n",
            "Epoch 19 TRAIN Batch 450 Loss 0.5349 Accuracy 72.8500 AUC 0.7591\n",
            "Epoch 19 TRAIN Batch 500 Loss 0.5348 Accuracy 72.8652 AUC 0.7592\n",
            "Epoch 19 TRAIN Batch 550 Loss 0.5348 Accuracy 72.8627 AUC 0.7592\n",
            "Epoch 19 TRAIN Batch 600 Loss 0.5345 Accuracy 72.8876 AUC 0.7592\n",
            "Epoch 19 TRAIN Batch 650 Loss 0.5345 Accuracy 72.8884 AUC 0.7592\n",
            "Epoch 19 TRAIN Batch 700 Loss 0.5345 Accuracy 72.8829 AUC 0.7593\n",
            "Epoch 19 TRAIN Batch 750 Loss 0.5346 Accuracy 72.8795 AUC 0.7594\n"
          ],
          "name": "stdout"
        },
        {
          "output_type": "stream",
          "text": [
            "19-12 18:25 root         INFO     Epoch TRAIN 19 Loss 0.5347 Accuracy 72.8683 AUC 0.7594\n"
          ],
          "name": "stderr"
        },
        {
          "output_type": "stream",
          "text": [
            "Time taken for 1 epoch: 86.99445462226868 secs\n",
            "\n",
            "Epoch 20 TRAIN Batch 0 Loss 0.5346 Accuracy 73.0602 AUC 0.7654\n",
            "Epoch 20 TRAIN Batch 50 Loss 0.5373 Accuracy 72.7236 AUC 0.7575\n",
            "Epoch 20 TRAIN Batch 100 Loss 0.5359 Accuracy 72.8296 AUC 0.7584\n",
            "Epoch 20 TRAIN Batch 150 Loss 0.5364 Accuracy 72.7806 AUC 0.7582\n",
            "Epoch 20 TRAIN Batch 200 Loss 0.5359 Accuracy 72.8159 AUC 0.7586\n",
            "Epoch 20 TRAIN Batch 250 Loss 0.5354 Accuracy 72.8465 AUC 0.7587\n",
            "Epoch 20 TRAIN Batch 300 Loss 0.5352 Accuracy 72.8560 AUC 0.7589\n",
            "Epoch 20 TRAIN Batch 350 Loss 0.5350 Accuracy 72.8748 AUC 0.7590\n",
            "Epoch 20 TRAIN Batch 400 Loss 0.5350 Accuracy 72.8724 AUC 0.7592\n",
            "Epoch 20 TRAIN Batch 450 Loss 0.5351 Accuracy 72.8680 AUC 0.7592\n",
            "Epoch 20 TRAIN Batch 500 Loss 0.5349 Accuracy 72.8811 AUC 0.7592\n",
            "Epoch 20 TRAIN Batch 550 Loss 0.5348 Accuracy 72.8885 AUC 0.7592\n",
            "Epoch 20 TRAIN Batch 600 Loss 0.5348 Accuracy 72.8899 AUC 0.7592\n",
            "Epoch 20 TRAIN Batch 650 Loss 0.5348 Accuracy 72.8890 AUC 0.7592\n",
            "Epoch 20 TRAIN Batch 700 Loss 0.5347 Accuracy 72.8936 AUC 0.7593\n",
            "Epoch 20 TRAIN Batch 750 Loss 0.5348 Accuracy 72.8870 AUC 0.7593\n"
          ],
          "name": "stdout"
        },
        {
          "output_type": "stream",
          "text": [
            "19-12 18:27 root         INFO     Epoch TRAIN 20 Loss 0.5349 Accuracy 72.8830 AUC 0.7592\n"
          ],
          "name": "stderr"
        },
        {
          "output_type": "stream",
          "text": [
            "Epoch 20 VAL Batch 0 Loss 0.5341 Accuracy 72.9682 AUC 0.7588\n",
            "Epoch 20 VAL Batch 50 Loss 0.5361 Accuracy 72.7659 AUC 0.7593\n",
            "Epoch 20 VAL Batch 100 Loss 0.5348 Accuracy 72.8717 AUC 0.7608\n",
            "Epoch 20 VAL Batch 150 Loss 0.5349 Accuracy 72.8928 AUC 0.7604\n",
            "Epoch 20 VAL Batch 200 Loss 0.5351 Accuracy 72.8495 AUC 0.7604\n",
            "Epoch 20 VAL Batch 250 Loss 0.5349 Accuracy 72.8658 AUC 0.7606\n",
            "Epoch 20 VAL Batch 300 Loss 0.5346 Accuracy 72.8916 AUC 0.7608\n",
            "Epoch 20 VAL Batch 350 Loss 0.5347 Accuracy 72.8864 AUC 0.7609\n",
            "Epoch 20 VAL Batch 400 Loss 0.5345 Accuracy 72.8979 AUC 0.7610\n",
            "Epoch 20 VAL Batch 450 Loss 0.5342 Accuracy 72.9283 AUC 0.7611\n",
            "Epoch 20 VAL Batch 500 Loss 0.5343 Accuracy 72.9275 AUC 0.7611\n",
            "Epoch 20 VAL Batch 550 Loss 0.5342 Accuracy 72.9282 AUC 0.7610\n",
            "Epoch 20 VAL Batch 600 Loss 0.5340 Accuracy 72.9442 AUC 0.7611\n",
            "Epoch 20 VAL Batch 650 Loss 0.5341 Accuracy 72.9380 AUC 0.7611\n",
            "Epoch 20 VAL Batch 700 Loss 0.5341 Accuracy 72.9387 AUC 0.7612\n",
            "Epoch 20 VAL Batch 750 Loss 0.5340 Accuracy 72.9449 AUC 0.7612\n"
          ],
          "name": "stdout"
        },
        {
          "output_type": "stream",
          "text": [
            "19-12 18:27 root         INFO     Epoch VAL 20 Loss 0.5340 Accuracy 72.9437 AUC 0.7613\n",
            "19-12 18:27 root         INFO     Saving checkpoint for epoch 20 at 19-Dec-riiid-2/checkpoints/ckpt-4\n"
          ],
          "name": "stderr"
        },
        {
          "output_type": "stream",
          "text": [
            "Time taken for 1 epoch: 103.75478434562683 secs\n",
            "\n",
            "Epoch 21 TRAIN Batch 0 Loss 0.5312 Accuracy 72.7922 AUC 0.7579\n",
            "Epoch 21 TRAIN Batch 50 Loss 0.5349 Accuracy 72.8979 AUC 0.7605\n",
            "Epoch 21 TRAIN Batch 100 Loss 0.5351 Accuracy 72.8639 AUC 0.7597\n",
            "Epoch 21 TRAIN Batch 150 Loss 0.5347 Accuracy 72.8958 AUC 0.7598\n",
            "Epoch 21 TRAIN Batch 200 Loss 0.5348 Accuracy 72.8949 AUC 0.7594\n",
            "Epoch 21 TRAIN Batch 250 Loss 0.5350 Accuracy 72.8816 AUC 0.7594\n",
            "Epoch 21 TRAIN Batch 300 Loss 0.5350 Accuracy 72.8757 AUC 0.7595\n",
            "Epoch 21 TRAIN Batch 350 Loss 0.5350 Accuracy 72.8710 AUC 0.7594\n",
            "Epoch 21 TRAIN Batch 400 Loss 0.5349 Accuracy 72.8818 AUC 0.7595\n",
            "Epoch 21 TRAIN Batch 450 Loss 0.5348 Accuracy 72.8867 AUC 0.7596\n",
            "Epoch 21 TRAIN Batch 500 Loss 0.5347 Accuracy 72.8901 AUC 0.7597\n",
            "Epoch 21 TRAIN Batch 550 Loss 0.5347 Accuracy 72.8897 AUC 0.7597\n",
            "Epoch 21 TRAIN Batch 600 Loss 0.5348 Accuracy 72.8790 AUC 0.7597\n",
            "Epoch 21 TRAIN Batch 650 Loss 0.5347 Accuracy 72.8842 AUC 0.7598\n",
            "Epoch 21 TRAIN Batch 700 Loss 0.5348 Accuracy 72.8816 AUC 0.7598\n",
            "Epoch 21 TRAIN Batch 750 Loss 0.5347 Accuracy 72.8822 AUC 0.7599\n"
          ],
          "name": "stdout"
        },
        {
          "output_type": "stream",
          "text": [
            "19-12 18:28 root         INFO     Epoch TRAIN 21 Loss 0.5346 Accuracy 72.8943 AUC 0.7600\n"
          ],
          "name": "stderr"
        },
        {
          "output_type": "stream",
          "text": [
            "Time taken for 1 epoch: 86.3571388721466 secs\n",
            "\n",
            "Epoch 22 TRAIN Batch 0 Loss 0.5419 Accuracy 72.2379 AUC 0.7515\n",
            "Epoch 22 TRAIN Batch 50 Loss 0.5348 Accuracy 72.8966 AUC 0.7604\n",
            "Epoch 22 TRAIN Batch 100 Loss 0.5339 Accuracy 72.9188 AUC 0.7614\n",
            "Epoch 22 TRAIN Batch 150 Loss 0.5340 Accuracy 72.9192 AUC 0.7614\n",
            "Epoch 22 TRAIN Batch 200 Loss 0.5336 Accuracy 72.9512 AUC 0.7615\n",
            "Epoch 22 TRAIN Batch 250 Loss 0.5335 Accuracy 72.9623 AUC 0.7614\n",
            "Epoch 22 TRAIN Batch 300 Loss 0.5333 Accuracy 72.9751 AUC 0.7614\n",
            "Epoch 22 TRAIN Batch 350 Loss 0.5334 Accuracy 72.9681 AUC 0.7613\n",
            "Epoch 22 TRAIN Batch 400 Loss 0.5333 Accuracy 72.9807 AUC 0.7612\n",
            "Epoch 22 TRAIN Batch 450 Loss 0.5334 Accuracy 72.9740 AUC 0.7610\n",
            "Epoch 22 TRAIN Batch 500 Loss 0.5333 Accuracy 72.9813 AUC 0.7611\n",
            "Epoch 22 TRAIN Batch 550 Loss 0.5335 Accuracy 72.9663 AUC 0.7610\n",
            "Epoch 22 TRAIN Batch 600 Loss 0.5337 Accuracy 72.9540 AUC 0.7610\n",
            "Epoch 22 TRAIN Batch 650 Loss 0.5336 Accuracy 72.9609 AUC 0.7611\n",
            "Epoch 22 TRAIN Batch 700 Loss 0.5336 Accuracy 72.9661 AUC 0.7611\n",
            "Epoch 22 TRAIN Batch 750 Loss 0.5336 Accuracy 72.9692 AUC 0.7611\n"
          ],
          "name": "stdout"
        },
        {
          "output_type": "stream",
          "text": [
            "19-12 18:30 root         INFO     Epoch TRAIN 22 Loss 0.5335 Accuracy 72.9774 AUC 0.7612\n"
          ],
          "name": "stderr"
        },
        {
          "output_type": "stream",
          "text": [
            "Time taken for 1 epoch: 86.41196703910828 secs\n",
            "\n",
            "Epoch 23 TRAIN Batch 0 Loss 0.5359 Accuracy 72.8525 AUC 0.7589\n",
            "Epoch 23 TRAIN Batch 50 Loss 0.5333 Accuracy 73.0179 AUC 0.7612\n",
            "Epoch 23 TRAIN Batch 100 Loss 0.5346 Accuracy 72.8862 AUC 0.7613\n",
            "Epoch 23 TRAIN Batch 150 Loss 0.5347 Accuracy 72.8826 AUC 0.7609\n",
            "Epoch 23 TRAIN Batch 200 Loss 0.5340 Accuracy 72.9459 AUC 0.7614\n",
            "Epoch 23 TRAIN Batch 250 Loss 0.5339 Accuracy 72.9597 AUC 0.7615\n",
            "Epoch 23 TRAIN Batch 300 Loss 0.5336 Accuracy 72.9801 AUC 0.7615\n",
            "Epoch 23 TRAIN Batch 350 Loss 0.5339 Accuracy 72.9562 AUC 0.7613\n",
            "Epoch 23 TRAIN Batch 400 Loss 0.5336 Accuracy 72.9788 AUC 0.7614\n",
            "Epoch 23 TRAIN Batch 450 Loss 0.5336 Accuracy 72.9760 AUC 0.7613\n",
            "Epoch 23 TRAIN Batch 500 Loss 0.5335 Accuracy 72.9865 AUC 0.7613\n",
            "Epoch 23 TRAIN Batch 550 Loss 0.5334 Accuracy 72.9877 AUC 0.7614\n",
            "Epoch 23 TRAIN Batch 600 Loss 0.5335 Accuracy 72.9842 AUC 0.7614\n",
            "Epoch 23 TRAIN Batch 650 Loss 0.5336 Accuracy 72.9745 AUC 0.7614\n",
            "Epoch 23 TRAIN Batch 700 Loss 0.5336 Accuracy 72.9721 AUC 0.7614\n",
            "Epoch 23 TRAIN Batch 750 Loss 0.5336 Accuracy 72.9748 AUC 0.7614\n"
          ],
          "name": "stdout"
        },
        {
          "output_type": "stream",
          "text": [
            "19-12 18:31 root         INFO     Epoch TRAIN 23 Loss 0.5336 Accuracy 72.9752 AUC 0.7614\n"
          ],
          "name": "stderr"
        },
        {
          "output_type": "stream",
          "text": [
            "Time taken for 1 epoch: 86.08971619606018 secs\n",
            "\n",
            "Epoch 24 TRAIN Batch 0 Loss 0.5381 Accuracy 72.6691 AUC 0.7552\n",
            "Epoch 24 TRAIN Batch 50 Loss 0.5338 Accuracy 72.9501 AUC 0.7601\n",
            "Epoch 24 TRAIN Batch 100 Loss 0.5330 Accuracy 72.9864 AUC 0.7609\n",
            "Epoch 24 TRAIN Batch 150 Loss 0.5321 Accuracy 73.0663 AUC 0.7615\n",
            "Epoch 24 TRAIN Batch 200 Loss 0.5319 Accuracy 73.0993 AUC 0.7615\n",
            "Epoch 24 TRAIN Batch 250 Loss 0.5323 Accuracy 73.0610 AUC 0.7616\n",
            "Epoch 24 TRAIN Batch 300 Loss 0.5326 Accuracy 73.0436 AUC 0.7613\n",
            "Epoch 24 TRAIN Batch 350 Loss 0.5327 Accuracy 73.0334 AUC 0.7613\n",
            "Epoch 24 TRAIN Batch 400 Loss 0.5328 Accuracy 73.0247 AUC 0.7614\n",
            "Epoch 24 TRAIN Batch 450 Loss 0.5329 Accuracy 73.0132 AUC 0.7615\n",
            "Epoch 24 TRAIN Batch 500 Loss 0.5329 Accuracy 73.0144 AUC 0.7615\n",
            "Epoch 24 TRAIN Batch 550 Loss 0.5330 Accuracy 73.0078 AUC 0.7615\n",
            "Epoch 24 TRAIN Batch 600 Loss 0.5330 Accuracy 73.0023 AUC 0.7615\n",
            "Epoch 24 TRAIN Batch 650 Loss 0.5330 Accuracy 73.0039 AUC 0.7617\n",
            "Epoch 24 TRAIN Batch 700 Loss 0.5330 Accuracy 73.0097 AUC 0.7617\n",
            "Epoch 24 TRAIN Batch 750 Loss 0.5328 Accuracy 73.0170 AUC 0.7620\n"
          ],
          "name": "stdout"
        },
        {
          "output_type": "stream",
          "text": [
            "19-12 18:33 root         INFO     Epoch TRAIN 24 Loss 0.5328 Accuracy 73.0187 AUC 0.7619\n"
          ],
          "name": "stderr"
        },
        {
          "output_type": "stream",
          "text": [
            "Time taken for 1 epoch: 86.47374677658081 secs\n",
            "\n",
            "Epoch 25 TRAIN Batch 0 Loss 0.5251 Accuracy 73.0081 AUC 0.7587\n",
            "Epoch 25 TRAIN Batch 50 Loss 0.5318 Accuracy 73.1070 AUC 0.7622\n",
            "Epoch 25 TRAIN Batch 100 Loss 0.5323 Accuracy 73.0660 AUC 0.7627\n",
            "Epoch 25 TRAIN Batch 150 Loss 0.5329 Accuracy 73.0312 AUC 0.7623\n",
            "Epoch 25 TRAIN Batch 200 Loss 0.5331 Accuracy 73.0104 AUC 0.7622\n",
            "Epoch 25 TRAIN Batch 250 Loss 0.5332 Accuracy 73.0075 AUC 0.7619\n",
            "Epoch 25 TRAIN Batch 300 Loss 0.5334 Accuracy 72.9811 AUC 0.7619\n",
            "Epoch 25 TRAIN Batch 350 Loss 0.5332 Accuracy 72.9976 AUC 0.7619\n",
            "Epoch 25 TRAIN Batch 400 Loss 0.5331 Accuracy 73.0063 AUC 0.7620\n",
            "Epoch 25 TRAIN Batch 450 Loss 0.5330 Accuracy 73.0099 AUC 0.7620\n",
            "Epoch 25 TRAIN Batch 500 Loss 0.5329 Accuracy 73.0185 AUC 0.7621\n",
            "Epoch 25 TRAIN Batch 550 Loss 0.5326 Accuracy 73.0327 AUC 0.7623\n",
            "Epoch 25 TRAIN Batch 600 Loss 0.5325 Accuracy 73.0374 AUC 0.7624\n",
            "Epoch 25 TRAIN Batch 650 Loss 0.5325 Accuracy 73.0432 AUC 0.7625\n",
            "Epoch 25 TRAIN Batch 700 Loss 0.5326 Accuracy 73.0340 AUC 0.7625\n",
            "Epoch 25 TRAIN Batch 750 Loss 0.5327 Accuracy 73.0317 AUC 0.7624\n"
          ],
          "name": "stdout"
        },
        {
          "output_type": "stream",
          "text": [
            "19-12 18:34 root         INFO     Epoch TRAIN 25 Loss 0.5326 Accuracy 73.0359 AUC 0.7624\n"
          ],
          "name": "stderr"
        },
        {
          "output_type": "stream",
          "text": [
            "Epoch 25 VAL Batch 0 Loss 0.5321 Accuracy 73.0856 AUC 0.7618\n",
            "Epoch 25 VAL Batch 50 Loss 0.5355 Accuracy 72.8643 AUC 0.7615\n",
            "Epoch 25 VAL Batch 100 Loss 0.5341 Accuracy 72.9934 AUC 0.7630\n",
            "Epoch 25 VAL Batch 150 Loss 0.5341 Accuracy 73.0129 AUC 0.7626\n",
            "Epoch 25 VAL Batch 200 Loss 0.5344 Accuracy 72.9626 AUC 0.7626\n",
            "Epoch 25 VAL Batch 250 Loss 0.5342 Accuracy 72.9769 AUC 0.7627\n",
            "Epoch 25 VAL Batch 300 Loss 0.5339 Accuracy 73.0102 AUC 0.7629\n",
            "Epoch 25 VAL Batch 350 Loss 0.5339 Accuracy 73.0098 AUC 0.7631\n",
            "Epoch 25 VAL Batch 400 Loss 0.5338 Accuracy 73.0205 AUC 0.7631\n",
            "Epoch 25 VAL Batch 450 Loss 0.5334 Accuracy 73.0482 AUC 0.7633\n",
            "Epoch 25 VAL Batch 500 Loss 0.5335 Accuracy 73.0407 AUC 0.7632\n",
            "Epoch 25 VAL Batch 550 Loss 0.5335 Accuracy 73.0389 AUC 0.7631\n",
            "Epoch 25 VAL Batch 600 Loss 0.5333 Accuracy 73.0547 AUC 0.7632\n",
            "Epoch 25 VAL Batch 650 Loss 0.5333 Accuracy 73.0491 AUC 0.7632\n",
            "Epoch 25 VAL Batch 700 Loss 0.5333 Accuracy 73.0504 AUC 0.7632\n",
            "Epoch 25 VAL Batch 750 Loss 0.5333 Accuracy 73.0563 AUC 0.7633\n"
          ],
          "name": "stdout"
        },
        {
          "output_type": "stream",
          "text": [
            "19-12 18:35 root         INFO     Epoch VAL 25 Loss 0.5333 Accuracy 73.0579 AUC 0.7633\n",
            "19-12 18:35 root         INFO     Saving checkpoint for epoch 25 at 19-Dec-riiid-2/checkpoints/ckpt-5\n"
          ],
          "name": "stderr"
        },
        {
          "output_type": "stream",
          "text": [
            "Time taken for 1 epoch: 107.35478448867798 secs\n",
            "\n",
            "Epoch 26 TRAIN Batch 0 Loss 0.5400 Accuracy 72.3054 AUC 0.7637\n",
            "Epoch 26 TRAIN Batch 50 Loss 0.5315 Accuracy 73.0832 AUC 0.7635\n",
            "Epoch 26 TRAIN Batch 100 Loss 0.5310 Accuracy 73.1415 AUC 0.7629\n",
            "Epoch 26 TRAIN Batch 150 Loss 0.5307 Accuracy 73.1759 AUC 0.7630\n",
            "Epoch 26 TRAIN Batch 200 Loss 0.5316 Accuracy 73.1099 AUC 0.7625\n",
            "Epoch 26 TRAIN Batch 250 Loss 0.5316 Accuracy 73.1103 AUC 0.7626\n",
            "Epoch 26 TRAIN Batch 300 Loss 0.5316 Accuracy 73.1040 AUC 0.7628\n",
            "Epoch 26 TRAIN Batch 350 Loss 0.5319 Accuracy 73.0741 AUC 0.7627\n",
            "Epoch 26 TRAIN Batch 400 Loss 0.5319 Accuracy 73.0783 AUC 0.7629\n",
            "Epoch 26 TRAIN Batch 450 Loss 0.5321 Accuracy 73.0498 AUC 0.7625\n",
            "Epoch 26 TRAIN Batch 500 Loss 0.5320 Accuracy 73.0604 AUC 0.7627\n",
            "Epoch 26 TRAIN Batch 550 Loss 0.5320 Accuracy 73.0662 AUC 0.7627\n",
            "Epoch 26 TRAIN Batch 600 Loss 0.5320 Accuracy 73.0644 AUC 0.7627\n",
            "Epoch 26 TRAIN Batch 650 Loss 0.5320 Accuracy 73.0620 AUC 0.7627\n",
            "Epoch 26 TRAIN Batch 700 Loss 0.5319 Accuracy 73.0714 AUC 0.7628\n",
            "Epoch 26 TRAIN Batch 750 Loss 0.5319 Accuracy 73.0782 AUC 0.7628\n"
          ],
          "name": "stdout"
        },
        {
          "output_type": "stream",
          "text": [
            "19-12 18:36 root         INFO     Epoch TRAIN 26 Loss 0.5318 Accuracy 73.0823 AUC 0.7629\n"
          ],
          "name": "stderr"
        },
        {
          "output_type": "stream",
          "text": [
            "Time taken for 1 epoch: 88.20794701576233 secs\n",
            "\n",
            "Epoch 27 TRAIN Batch 0 Loss 0.5215 Accuracy 73.8455 AUC 0.7601\n",
            "Epoch 27 TRAIN Batch 50 Loss 0.5328 Accuracy 72.9556 AUC 0.7617\n",
            "Epoch 27 TRAIN Batch 100 Loss 0.5313 Accuracy 73.1167 AUC 0.7632\n",
            "Epoch 27 TRAIN Batch 150 Loss 0.5317 Accuracy 73.1109 AUC 0.7630\n",
            "Epoch 27 TRAIN Batch 200 Loss 0.5320 Accuracy 73.0740 AUC 0.7629\n",
            "Epoch 27 TRAIN Batch 250 Loss 0.5322 Accuracy 73.0575 AUC 0.7628\n",
            "Epoch 27 TRAIN Batch 300 Loss 0.5320 Accuracy 73.0757 AUC 0.7629\n",
            "Epoch 27 TRAIN Batch 350 Loss 0.5320 Accuracy 73.0726 AUC 0.7629\n",
            "Epoch 27 TRAIN Batch 400 Loss 0.5321 Accuracy 73.0688 AUC 0.7628\n",
            "Epoch 27 TRAIN Batch 450 Loss 0.5320 Accuracy 73.0823 AUC 0.7629\n",
            "Epoch 27 TRAIN Batch 500 Loss 0.5318 Accuracy 73.0945 AUC 0.7629\n",
            "Epoch 27 TRAIN Batch 550 Loss 0.5318 Accuracy 73.0938 AUC 0.7629\n",
            "Epoch 27 TRAIN Batch 600 Loss 0.5318 Accuracy 73.0925 AUC 0.7631\n",
            "Epoch 27 TRAIN Batch 650 Loss 0.5318 Accuracy 73.0994 AUC 0.7631\n",
            "Epoch 27 TRAIN Batch 700 Loss 0.5318 Accuracy 73.0885 AUC 0.7631\n",
            "Epoch 27 TRAIN Batch 750 Loss 0.5318 Accuracy 73.0942 AUC 0.7632\n"
          ],
          "name": "stdout"
        },
        {
          "output_type": "stream",
          "text": [
            "19-12 18:37 root         INFO     Epoch TRAIN 27 Loss 0.5317 Accuracy 73.0954 AUC 0.7633\n"
          ],
          "name": "stderr"
        },
        {
          "output_type": "stream",
          "text": [
            "Time taken for 1 epoch: 86.11670851707458 secs\n",
            "\n",
            "Epoch 28 TRAIN Batch 0 Loss 0.5310 Accuracy 73.1827 AUC 0.7729\n",
            "Epoch 28 TRAIN Batch 50 Loss 0.5302 Accuracy 73.2217 AUC 0.7651\n",
            "Epoch 28 TRAIN Batch 100 Loss 0.5307 Accuracy 73.2023 AUC 0.7644\n",
            "Epoch 28 TRAIN Batch 150 Loss 0.5308 Accuracy 73.1601 AUC 0.7642\n",
            "Epoch 28 TRAIN Batch 200 Loss 0.5307 Accuracy 73.1593 AUC 0.7640\n",
            "Epoch 28 TRAIN Batch 250 Loss 0.5314 Accuracy 73.0944 AUC 0.7640\n",
            "Epoch 28 TRAIN Batch 300 Loss 0.5313 Accuracy 73.1006 AUC 0.7642\n",
            "Epoch 28 TRAIN Batch 350 Loss 0.5317 Accuracy 73.0676 AUC 0.7640\n",
            "Epoch 28 TRAIN Batch 400 Loss 0.5319 Accuracy 73.0591 AUC 0.7639\n",
            "Epoch 28 TRAIN Batch 450 Loss 0.5318 Accuracy 73.0632 AUC 0.7639\n",
            "Epoch 28 TRAIN Batch 500 Loss 0.5317 Accuracy 73.0745 AUC 0.7640\n",
            "Epoch 28 TRAIN Batch 550 Loss 0.5317 Accuracy 73.0828 AUC 0.7640\n",
            "Epoch 28 TRAIN Batch 600 Loss 0.5317 Accuracy 73.0821 AUC 0.7640\n",
            "Epoch 28 TRAIN Batch 650 Loss 0.5317 Accuracy 73.0850 AUC 0.7640\n",
            "Epoch 28 TRAIN Batch 700 Loss 0.5317 Accuracy 73.0833 AUC 0.7639\n",
            "Epoch 28 TRAIN Batch 750 Loss 0.5319 Accuracy 73.0744 AUC 0.7639\n"
          ],
          "name": "stdout"
        },
        {
          "output_type": "stream",
          "text": [
            "19-12 18:39 root         INFO     Epoch TRAIN 28 Loss 0.5319 Accuracy 73.0769 AUC 0.7639\n"
          ],
          "name": "stderr"
        },
        {
          "output_type": "stream",
          "text": [
            "Time taken for 1 epoch: 89.69109654426575 secs\n",
            "\n",
            "Epoch 29 TRAIN Batch 0 Loss 0.5291 Accuracy 73.3530 AUC 0.7619\n",
            "Epoch 29 TRAIN Batch 50 Loss 0.5323 Accuracy 72.9975 AUC 0.7631\n",
            "Epoch 29 TRAIN Batch 100 Loss 0.5324 Accuracy 73.0645 AUC 0.7637\n",
            "Epoch 29 TRAIN Batch 150 Loss 0.5320 Accuracy 73.0853 AUC 0.7642\n",
            "Epoch 29 TRAIN Batch 200 Loss 0.5316 Accuracy 73.1230 AUC 0.7639\n",
            "Epoch 29 TRAIN Batch 250 Loss 0.5311 Accuracy 73.1520 AUC 0.7640\n",
            "Epoch 29 TRAIN Batch 300 Loss 0.5313 Accuracy 73.1334 AUC 0.7641\n",
            "Epoch 29 TRAIN Batch 350 Loss 0.5311 Accuracy 73.1362 AUC 0.7643\n",
            "Epoch 29 TRAIN Batch 400 Loss 0.5312 Accuracy 73.1363 AUC 0.7642\n",
            "Epoch 29 TRAIN Batch 450 Loss 0.5312 Accuracy 73.1303 AUC 0.7641\n",
            "Epoch 29 TRAIN Batch 500 Loss 0.5312 Accuracy 73.1314 AUC 0.7642\n",
            "Epoch 29 TRAIN Batch 550 Loss 0.5312 Accuracy 73.1337 AUC 0.7642\n",
            "Epoch 29 TRAIN Batch 600 Loss 0.5312 Accuracy 73.1326 AUC 0.7641\n",
            "Epoch 29 TRAIN Batch 650 Loss 0.5312 Accuracy 73.1357 AUC 0.7642\n",
            "Epoch 29 TRAIN Batch 700 Loss 0.5312 Accuracy 73.1291 AUC 0.7642\n",
            "Epoch 29 TRAIN Batch 750 Loss 0.5311 Accuracy 73.1345 AUC 0.7642\n"
          ],
          "name": "stdout"
        },
        {
          "output_type": "stream",
          "text": [
            "19-12 18:40 root         INFO     Epoch TRAIN 29 Loss 0.5310 Accuracy 73.1423 AUC 0.7644\n"
          ],
          "name": "stderr"
        },
        {
          "output_type": "stream",
          "text": [
            "Time taken for 1 epoch: 92.57727932929993 secs\n",
            "\n",
            "Epoch 30 TRAIN Batch 0 Loss 0.5263 Accuracy 73.0849 AUC 0.7615\n",
            "Epoch 30 TRAIN Batch 50 Loss 0.5309 Accuracy 73.1408 AUC 0.7649\n",
            "Epoch 30 TRAIN Batch 100 Loss 0.5312 Accuracy 73.1346 AUC 0.7644\n",
            "Epoch 30 TRAIN Batch 150 Loss 0.5307 Accuracy 73.1568 AUC 0.7647\n",
            "Epoch 30 TRAIN Batch 200 Loss 0.5310 Accuracy 73.1344 AUC 0.7645\n",
            "Epoch 30 TRAIN Batch 250 Loss 0.5310 Accuracy 73.1383 AUC 0.7645\n",
            "Epoch 30 TRAIN Batch 300 Loss 0.5309 Accuracy 73.1645 AUC 0.7647\n",
            "Epoch 30 TRAIN Batch 350 Loss 0.5308 Accuracy 73.1659 AUC 0.7648\n",
            "Epoch 30 TRAIN Batch 400 Loss 0.5309 Accuracy 73.1620 AUC 0.7646\n",
            "Epoch 30 TRAIN Batch 450 Loss 0.5309 Accuracy 73.1605 AUC 0.7647\n",
            "Epoch 30 TRAIN Batch 500 Loss 0.5310 Accuracy 73.1509 AUC 0.7647\n",
            "Epoch 30 TRAIN Batch 550 Loss 0.5310 Accuracy 73.1521 AUC 0.7647\n",
            "Epoch 30 TRAIN Batch 600 Loss 0.5310 Accuracy 73.1522 AUC 0.7646\n",
            "Epoch 30 TRAIN Batch 650 Loss 0.5310 Accuracy 73.1566 AUC 0.7647\n",
            "Epoch 30 TRAIN Batch 700 Loss 0.5310 Accuracy 73.1528 AUC 0.7647\n",
            "Epoch 30 TRAIN Batch 750 Loss 0.5309 Accuracy 73.1609 AUC 0.7648\n"
          ],
          "name": "stdout"
        },
        {
          "output_type": "stream",
          "text": [
            "19-12 18:42 root         INFO     Epoch TRAIN 30 Loss 0.5310 Accuracy 73.1566 AUC 0.7647\n"
          ],
          "name": "stderr"
        },
        {
          "output_type": "stream",
          "text": [
            "Epoch 30 VAL Batch 0 Loss 0.5297 Accuracy 73.0269 AUC 0.7646\n",
            "Epoch 30 VAL Batch 50 Loss 0.5324 Accuracy 73.0434 AUC 0.7643\n",
            "Epoch 30 VAL Batch 100 Loss 0.5311 Accuracy 73.1746 AUC 0.7657\n",
            "Epoch 30 VAL Batch 150 Loss 0.5312 Accuracy 73.1762 AUC 0.7652\n",
            "Epoch 30 VAL Batch 200 Loss 0.5315 Accuracy 73.1338 AUC 0.7653\n",
            "Epoch 30 VAL Batch 250 Loss 0.5312 Accuracy 73.1575 AUC 0.7655\n",
            "Epoch 30 VAL Batch 300 Loss 0.5309 Accuracy 73.1905 AUC 0.7657\n",
            "Epoch 30 VAL Batch 350 Loss 0.5310 Accuracy 73.1913 AUC 0.7658\n",
            "Epoch 30 VAL Batch 400 Loss 0.5307 Accuracy 73.2032 AUC 0.7659\n",
            "Epoch 30 VAL Batch 450 Loss 0.5304 Accuracy 73.2296 AUC 0.7661\n",
            "Epoch 30 VAL Batch 500 Loss 0.5305 Accuracy 73.2226 AUC 0.7660\n",
            "Epoch 30 VAL Batch 550 Loss 0.5305 Accuracy 73.2233 AUC 0.7659\n",
            "Epoch 30 VAL Batch 600 Loss 0.5302 Accuracy 73.2363 AUC 0.7661\n",
            "Epoch 30 VAL Batch 650 Loss 0.5303 Accuracy 73.2327 AUC 0.7661\n",
            "Epoch 30 VAL Batch 700 Loss 0.5303 Accuracy 73.2327 AUC 0.7661\n",
            "Epoch 30 VAL Batch 750 Loss 0.5302 Accuracy 73.2396 AUC 0.7661\n"
          ],
          "name": "stdout"
        },
        {
          "output_type": "stream",
          "text": [
            "19-12 18:42 root         INFO     Epoch VAL 30 Loss 0.5302 Accuracy 73.2404 AUC 0.7662\n",
            "19-12 18:42 root         INFO     Saving checkpoint for epoch 30 at 19-Dec-riiid-2/checkpoints/ckpt-6\n"
          ],
          "name": "stderr"
        },
        {
          "output_type": "stream",
          "text": [
            "Time taken for 1 epoch: 112.11107349395752 secs\n",
            "\n",
            "Epoch 31 TRAIN Batch 0 Loss 0.5321 Accuracy 72.9882 AUC 0.7669\n",
            "Epoch 31 TRAIN Batch 50 Loss 0.5309 Accuracy 73.1603 AUC 0.7635\n",
            "Epoch 31 TRAIN Batch 100 Loss 0.5311 Accuracy 73.1208 AUC 0.7638\n",
            "Epoch 31 TRAIN Batch 150 Loss 0.5311 Accuracy 73.1360 AUC 0.7638\n",
            "Epoch 31 TRAIN Batch 200 Loss 0.5312 Accuracy 73.1398 AUC 0.7640\n",
            "Epoch 31 TRAIN Batch 250 Loss 0.5310 Accuracy 73.1406 AUC 0.7640\n",
            "Epoch 31 TRAIN Batch 300 Loss 0.5307 Accuracy 73.1632 AUC 0.7645\n",
            "Epoch 31 TRAIN Batch 350 Loss 0.5309 Accuracy 73.1589 AUC 0.7645\n",
            "Epoch 31 TRAIN Batch 400 Loss 0.5305 Accuracy 73.1903 AUC 0.7649\n",
            "Epoch 31 TRAIN Batch 450 Loss 0.5303 Accuracy 73.2070 AUC 0.7652\n",
            "Epoch 31 TRAIN Batch 500 Loss 0.5302 Accuracy 73.2073 AUC 0.7652\n",
            "Epoch 31 TRAIN Batch 550 Loss 0.5301 Accuracy 73.2161 AUC 0.7653\n",
            "Epoch 31 TRAIN Batch 600 Loss 0.5299 Accuracy 73.2258 AUC 0.7654\n",
            "Epoch 31 TRAIN Batch 650 Loss 0.5300 Accuracy 73.2157 AUC 0.7654\n",
            "Epoch 31 TRAIN Batch 700 Loss 0.5299 Accuracy 73.2274 AUC 0.7655\n",
            "Epoch 31 TRAIN Batch 750 Loss 0.5298 Accuracy 73.2341 AUC 0.7656\n"
          ],
          "name": "stdout"
        },
        {
          "output_type": "stream",
          "text": [
            "19-12 18:44 root         INFO     Epoch TRAIN 31 Loss 0.5298 Accuracy 73.2321 AUC 0.7657\n"
          ],
          "name": "stderr"
        },
        {
          "output_type": "stream",
          "text": [
            "Time taken for 1 epoch: 94.66490292549133 secs\n",
            "\n",
            "Epoch 32 TRAIN Batch 0 Loss 0.5379 Accuracy 72.3970 AUC 0.7604\n",
            "Epoch 32 TRAIN Batch 50 Loss 0.5305 Accuracy 73.2292 AUC 0.7659\n",
            "Epoch 32 TRAIN Batch 100 Loss 0.5293 Accuracy 73.2891 AUC 0.7665\n",
            "Epoch 32 TRAIN Batch 150 Loss 0.5301 Accuracy 73.2337 AUC 0.7659\n",
            "Epoch 32 TRAIN Batch 200 Loss 0.5300 Accuracy 73.2355 AUC 0.7660\n",
            "Epoch 32 TRAIN Batch 250 Loss 0.5295 Accuracy 73.2701 AUC 0.7663\n",
            "Epoch 32 TRAIN Batch 300 Loss 0.5294 Accuracy 73.2781 AUC 0.7661\n",
            "Epoch 32 TRAIN Batch 350 Loss 0.5295 Accuracy 73.2695 AUC 0.7663\n",
            "Epoch 32 TRAIN Batch 400 Loss 0.5297 Accuracy 73.2505 AUC 0.7662\n",
            "Epoch 32 TRAIN Batch 450 Loss 0.5297 Accuracy 73.2410 AUC 0.7662\n",
            "Epoch 32 TRAIN Batch 500 Loss 0.5297 Accuracy 73.2432 AUC 0.7661\n",
            "Epoch 32 TRAIN Batch 550 Loss 0.5299 Accuracy 73.2256 AUC 0.7660\n",
            "Epoch 32 TRAIN Batch 600 Loss 0.5298 Accuracy 73.2313 AUC 0.7660\n",
            "Epoch 32 TRAIN Batch 650 Loss 0.5298 Accuracy 73.2332 AUC 0.7660\n",
            "Epoch 32 TRAIN Batch 700 Loss 0.5299 Accuracy 73.2252 AUC 0.7659\n",
            "Epoch 32 TRAIN Batch 750 Loss 0.5299 Accuracy 73.2239 AUC 0.7659\n"
          ],
          "name": "stdout"
        },
        {
          "output_type": "stream",
          "text": [
            "19-12 18:46 root         INFO     Epoch TRAIN 32 Loss 0.5299 Accuracy 73.2263 AUC 0.7660\n"
          ],
          "name": "stderr"
        },
        {
          "output_type": "stream",
          "text": [
            "Time taken for 1 epoch: 94.80634903907776 secs\n",
            "\n",
            "Epoch 33 TRAIN Batch 0 Loss 0.5306 Accuracy 72.9989 AUC 0.7676\n",
            "Epoch 33 TRAIN Batch 50 Loss 0.5291 Accuracy 73.2910 AUC 0.7666\n",
            "Epoch 33 TRAIN Batch 100 Loss 0.5296 Accuracy 73.2490 AUC 0.7658\n",
            "Epoch 33 TRAIN Batch 150 Loss 0.5298 Accuracy 73.2184 AUC 0.7655\n",
            "Epoch 33 TRAIN Batch 200 Loss 0.5296 Accuracy 73.2414 AUC 0.7656\n",
            "Epoch 33 TRAIN Batch 250 Loss 0.5298 Accuracy 73.2265 AUC 0.7655\n",
            "Epoch 33 TRAIN Batch 300 Loss 0.5300 Accuracy 73.2267 AUC 0.7656\n",
            "Epoch 33 TRAIN Batch 350 Loss 0.5295 Accuracy 73.2600 AUC 0.7659\n",
            "Epoch 33 TRAIN Batch 400 Loss 0.5296 Accuracy 73.2567 AUC 0.7660\n",
            "Epoch 33 TRAIN Batch 450 Loss 0.5294 Accuracy 73.2715 AUC 0.7660\n",
            "Epoch 33 TRAIN Batch 500 Loss 0.5295 Accuracy 73.2596 AUC 0.7659\n",
            "Epoch 33 TRAIN Batch 550 Loss 0.5295 Accuracy 73.2566 AUC 0.7660\n",
            "Epoch 33 TRAIN Batch 600 Loss 0.5295 Accuracy 73.2483 AUC 0.7661\n",
            "Epoch 33 TRAIN Batch 650 Loss 0.5295 Accuracy 73.2485 AUC 0.7660\n",
            "Epoch 33 TRAIN Batch 700 Loss 0.5294 Accuracy 73.2590 AUC 0.7660\n",
            "Epoch 33 TRAIN Batch 750 Loss 0.5294 Accuracy 73.2589 AUC 0.7661\n"
          ],
          "name": "stdout"
        },
        {
          "output_type": "stream",
          "text": [
            "19-12 18:47 root         INFO     Epoch TRAIN 33 Loss 0.5295 Accuracy 73.2503 AUC 0.7660\n"
          ],
          "name": "stderr"
        },
        {
          "output_type": "stream",
          "text": [
            "Time taken for 1 epoch: 94.55223536491394 secs\n",
            "\n",
            "Epoch 34 TRAIN Batch 0 Loss 0.5201 Accuracy 74.2537 AUC 0.7681\n",
            "Epoch 34 TRAIN Batch 50 Loss 0.5291 Accuracy 73.2778 AUC 0.7659\n",
            "Epoch 34 TRAIN Batch 100 Loss 0.5279 Accuracy 73.3667 AUC 0.7670\n",
            "Epoch 34 TRAIN Batch 150 Loss 0.5277 Accuracy 73.3862 AUC 0.7674\n",
            "Epoch 34 TRAIN Batch 200 Loss 0.5280 Accuracy 73.3438 AUC 0.7675\n",
            "Epoch 34 TRAIN Batch 250 Loss 0.5287 Accuracy 73.3069 AUC 0.7671\n",
            "Epoch 34 TRAIN Batch 300 Loss 0.5289 Accuracy 73.2967 AUC 0.7668\n",
            "Epoch 34 TRAIN Batch 350 Loss 0.5291 Accuracy 73.2723 AUC 0.7667\n",
            "Epoch 34 TRAIN Batch 400 Loss 0.5291 Accuracy 73.2829 AUC 0.7666\n",
            "Epoch 34 TRAIN Batch 450 Loss 0.5293 Accuracy 73.2715 AUC 0.7664\n",
            "Epoch 34 TRAIN Batch 500 Loss 0.5292 Accuracy 73.2744 AUC 0.7666\n",
            "Epoch 34 TRAIN Batch 550 Loss 0.5291 Accuracy 73.2808 AUC 0.7667\n",
            "Epoch 34 TRAIN Batch 600 Loss 0.5289 Accuracy 73.2915 AUC 0.7669\n",
            "Epoch 34 TRAIN Batch 650 Loss 0.5288 Accuracy 73.2995 AUC 0.7670\n",
            "Epoch 34 TRAIN Batch 700 Loss 0.5289 Accuracy 73.2901 AUC 0.7670\n",
            "Epoch 34 TRAIN Batch 750 Loss 0.5290 Accuracy 73.2832 AUC 0.7669\n"
          ],
          "name": "stdout"
        },
        {
          "output_type": "stream",
          "text": [
            "19-12 18:49 root         INFO     Epoch TRAIN 34 Loss 0.5289 Accuracy 73.2867 AUC 0.7670\n"
          ],
          "name": "stderr"
        },
        {
          "output_type": "stream",
          "text": [
            "Time taken for 1 epoch: 93.04319334030151 secs\n",
            "\n",
            "Epoch 35 TRAIN Batch 0 Loss 0.5228 Accuracy 73.8298 AUC 0.7798\n",
            "Epoch 35 TRAIN Batch 50 Loss 0.5260 Accuracy 73.5093 AUC 0.7680\n",
            "Epoch 35 TRAIN Batch 100 Loss 0.5276 Accuracy 73.3996 AUC 0.7679\n",
            "Epoch 35 TRAIN Batch 150 Loss 0.5280 Accuracy 73.3579 AUC 0.7676\n",
            "Epoch 35 TRAIN Batch 200 Loss 0.5279 Accuracy 73.3537 AUC 0.7679\n",
            "Epoch 35 TRAIN Batch 250 Loss 0.5280 Accuracy 73.3488 AUC 0.7678\n",
            "Epoch 35 TRAIN Batch 300 Loss 0.5282 Accuracy 73.3405 AUC 0.7679\n",
            "Epoch 35 TRAIN Batch 350 Loss 0.5285 Accuracy 73.3090 AUC 0.7676\n",
            "Epoch 35 TRAIN Batch 400 Loss 0.5286 Accuracy 73.3070 AUC 0.7676\n",
            "Epoch 35 TRAIN Batch 450 Loss 0.5285 Accuracy 73.3137 AUC 0.7677\n",
            "Epoch 35 TRAIN Batch 500 Loss 0.5286 Accuracy 73.3062 AUC 0.7678\n",
            "Epoch 35 TRAIN Batch 550 Loss 0.5286 Accuracy 73.3084 AUC 0.7678\n",
            "Epoch 35 TRAIN Batch 600 Loss 0.5286 Accuracy 73.3117 AUC 0.7677\n",
            "Epoch 35 TRAIN Batch 650 Loss 0.5286 Accuracy 73.3101 AUC 0.7677\n",
            "Epoch 35 TRAIN Batch 700 Loss 0.5285 Accuracy 73.3216 AUC 0.7677\n",
            "Epoch 35 TRAIN Batch 750 Loss 0.5286 Accuracy 73.3116 AUC 0.7677\n"
          ],
          "name": "stdout"
        },
        {
          "output_type": "stream",
          "text": [
            "19-12 18:50 root         INFO     Epoch TRAIN 35 Loss 0.5286 Accuracy 73.3108 AUC 0.7676\n"
          ],
          "name": "stderr"
        },
        {
          "output_type": "stream",
          "text": [
            "Epoch 35 VAL Batch 0 Loss 0.5270 Accuracy 73.3792 AUC 0.7689\n",
            "Epoch 35 VAL Batch 50 Loss 0.5308 Accuracy 73.1487 AUC 0.7669\n",
            "Epoch 35 VAL Batch 100 Loss 0.5296 Accuracy 73.2682 AUC 0.7682\n",
            "Epoch 35 VAL Batch 150 Loss 0.5296 Accuracy 73.2677 AUC 0.7678\n",
            "Epoch 35 VAL Batch 200 Loss 0.5299 Accuracy 73.2277 AUC 0.7678\n",
            "Epoch 35 VAL Batch 250 Loss 0.5296 Accuracy 73.2493 AUC 0.7680\n",
            "Epoch 35 VAL Batch 300 Loss 0.5294 Accuracy 73.2766 AUC 0.7682\n",
            "Epoch 35 VAL Batch 350 Loss 0.5294 Accuracy 73.2744 AUC 0.7684\n",
            "Epoch 35 VAL Batch 400 Loss 0.5292 Accuracy 73.2870 AUC 0.7685\n",
            "Epoch 35 VAL Batch 450 Loss 0.5289 Accuracy 73.3136 AUC 0.7686\n",
            "Epoch 35 VAL Batch 500 Loss 0.5290 Accuracy 73.3060 AUC 0.7685\n",
            "Epoch 35 VAL Batch 550 Loss 0.5289 Accuracy 73.3050 AUC 0.7684\n",
            "Epoch 35 VAL Batch 600 Loss 0.5287 Accuracy 73.3213 AUC 0.7686\n",
            "Epoch 35 VAL Batch 650 Loss 0.5288 Accuracy 73.3180 AUC 0.7685\n",
            "Epoch 35 VAL Batch 700 Loss 0.5288 Accuracy 73.3184 AUC 0.7686\n",
            "Epoch 35 VAL Batch 750 Loss 0.5287 Accuracy 73.3266 AUC 0.7686\n"
          ],
          "name": "stdout"
        },
        {
          "output_type": "stream",
          "text": [
            "19-12 18:51 root         INFO     Epoch VAL 35 Loss 0.5287 Accuracy 73.3267 AUC 0.7687\n",
            "19-12 18:51 root         INFO     Saving checkpoint for epoch 35 at 19-Dec-riiid-2/checkpoints/ckpt-7\n"
          ],
          "name": "stderr"
        },
        {
          "output_type": "stream",
          "text": [
            "Time taken for 1 epoch: 112.05591583251953 secs\n",
            "\n",
            "Epoch 36 TRAIN Batch 0 Loss 0.5283 Accuracy 73.4337 AUC 0.7725\n",
            "Epoch 36 TRAIN Batch 50 Loss 0.5287 Accuracy 73.2982 AUC 0.7677\n",
            "Epoch 36 TRAIN Batch 100 Loss 0.5285 Accuracy 73.3009 AUC 0.7678\n",
            "Epoch 36 TRAIN Batch 150 Loss 0.5292 Accuracy 73.2277 AUC 0.7677\n",
            "Epoch 36 TRAIN Batch 200 Loss 0.5288 Accuracy 73.2679 AUC 0.7679\n",
            "Epoch 36 TRAIN Batch 250 Loss 0.5287 Accuracy 73.2743 AUC 0.7678\n",
            "Epoch 36 TRAIN Batch 300 Loss 0.5286 Accuracy 73.2885 AUC 0.7677\n",
            "Epoch 36 TRAIN Batch 350 Loss 0.5285 Accuracy 73.2996 AUC 0.7677\n",
            "Epoch 36 TRAIN Batch 400 Loss 0.5285 Accuracy 73.3031 AUC 0.7677\n",
            "Epoch 36 TRAIN Batch 450 Loss 0.5288 Accuracy 73.2868 AUC 0.7676\n",
            "Epoch 36 TRAIN Batch 500 Loss 0.5287 Accuracy 73.2930 AUC 0.7679\n",
            "Epoch 36 TRAIN Batch 550 Loss 0.5287 Accuracy 73.2964 AUC 0.7680\n",
            "Epoch 36 TRAIN Batch 600 Loss 0.5285 Accuracy 73.3090 AUC 0.7680\n",
            "Epoch 36 TRAIN Batch 650 Loss 0.5285 Accuracy 73.3071 AUC 0.7679\n",
            "Epoch 36 TRAIN Batch 700 Loss 0.5285 Accuracy 73.3102 AUC 0.7679\n",
            "Epoch 36 TRAIN Batch 750 Loss 0.5285 Accuracy 73.3092 AUC 0.7679\n"
          ],
          "name": "stdout"
        },
        {
          "output_type": "stream",
          "text": [
            "19-12 18:52 root         INFO     Epoch TRAIN 36 Loss 0.5285 Accuracy 73.3114 AUC 0.7679\n"
          ],
          "name": "stderr"
        },
        {
          "output_type": "stream",
          "text": [
            "Time taken for 1 epoch: 93.0556275844574 secs\n",
            "\n",
            "Epoch 37 TRAIN Batch 0 Loss 0.5330 Accuracy 73.3392 AUC 0.7660\n",
            "Epoch 37 TRAIN Batch 50 Loss 0.5273 Accuracy 73.4431 AUC 0.7686\n",
            "Epoch 37 TRAIN Batch 100 Loss 0.5277 Accuracy 73.3911 AUC 0.7684\n",
            "Epoch 37 TRAIN Batch 150 Loss 0.5281 Accuracy 73.3584 AUC 0.7679\n",
            "Epoch 37 TRAIN Batch 200 Loss 0.5286 Accuracy 73.3216 AUC 0.7676\n",
            "Epoch 37 TRAIN Batch 250 Loss 0.5284 Accuracy 73.3358 AUC 0.7675\n",
            "Epoch 37 TRAIN Batch 300 Loss 0.5283 Accuracy 73.3369 AUC 0.7677\n",
            "Epoch 37 TRAIN Batch 350 Loss 0.5284 Accuracy 73.3260 AUC 0.7677\n",
            "Epoch 37 TRAIN Batch 400 Loss 0.5285 Accuracy 73.3214 AUC 0.7675\n",
            "Epoch 37 TRAIN Batch 450 Loss 0.5283 Accuracy 73.3310 AUC 0.7676\n",
            "Epoch 37 TRAIN Batch 500 Loss 0.5283 Accuracy 73.3383 AUC 0.7675\n",
            "Epoch 37 TRAIN Batch 550 Loss 0.5282 Accuracy 73.3438 AUC 0.7676\n",
            "Epoch 37 TRAIN Batch 600 Loss 0.5281 Accuracy 73.3482 AUC 0.7676\n",
            "Epoch 37 TRAIN Batch 650 Loss 0.5282 Accuracy 73.3408 AUC 0.7676\n",
            "Epoch 37 TRAIN Batch 700 Loss 0.5281 Accuracy 73.3464 AUC 0.7677\n",
            "Epoch 37 TRAIN Batch 750 Loss 0.5281 Accuracy 73.3526 AUC 0.7678\n"
          ],
          "name": "stdout"
        },
        {
          "output_type": "stream",
          "text": [
            "19-12 18:54 root         INFO     Epoch TRAIN 37 Loss 0.5281 Accuracy 73.3514 AUC 0.7678\n"
          ],
          "name": "stderr"
        },
        {
          "output_type": "stream",
          "text": [
            "Time taken for 1 epoch: 94.04717874526978 secs\n",
            "\n",
            "Epoch 38 TRAIN Batch 0 Loss 0.5502 Accuracy 71.3777 AUC 0.7489\n",
            "Epoch 38 TRAIN Batch 50 Loss 0.5265 Accuracy 73.4534 AUC 0.7679\n",
            "Epoch 38 TRAIN Batch 100 Loss 0.5271 Accuracy 73.4211 AUC 0.7683\n",
            "Epoch 38 TRAIN Batch 150 Loss 0.5275 Accuracy 73.3989 AUC 0.7677\n",
            "Epoch 38 TRAIN Batch 200 Loss 0.5273 Accuracy 73.4140 AUC 0.7678\n",
            "Epoch 38 TRAIN Batch 250 Loss 0.5273 Accuracy 73.4032 AUC 0.7681\n",
            "Epoch 38 TRAIN Batch 300 Loss 0.5273 Accuracy 73.3976 AUC 0.7683\n",
            "Epoch 38 TRAIN Batch 350 Loss 0.5274 Accuracy 73.3990 AUC 0.7683\n",
            "Epoch 38 TRAIN Batch 400 Loss 0.5274 Accuracy 73.3977 AUC 0.7684\n",
            "Epoch 38 TRAIN Batch 450 Loss 0.5275 Accuracy 73.3857 AUC 0.7684\n",
            "Epoch 38 TRAIN Batch 500 Loss 0.5275 Accuracy 73.3883 AUC 0.7686\n",
            "Epoch 38 TRAIN Batch 550 Loss 0.5275 Accuracy 73.3852 AUC 0.7686\n",
            "Epoch 38 TRAIN Batch 600 Loss 0.5275 Accuracy 73.3885 AUC 0.7686\n",
            "Epoch 38 TRAIN Batch 650 Loss 0.5274 Accuracy 73.3951 AUC 0.7686\n",
            "Epoch 38 TRAIN Batch 700 Loss 0.5275 Accuracy 73.3886 AUC 0.7686\n",
            "Epoch 38 TRAIN Batch 750 Loss 0.5275 Accuracy 73.3889 AUC 0.7686\n"
          ],
          "name": "stdout"
        },
        {
          "output_type": "stream",
          "text": [
            "19-12 18:55 root         INFO     Epoch TRAIN 38 Loss 0.5274 Accuracy 73.3903 AUC 0.7686\n"
          ],
          "name": "stderr"
        },
        {
          "output_type": "stream",
          "text": [
            "Time taken for 1 epoch: 93.39341020584106 secs\n",
            "\n",
            "Epoch 39 TRAIN Batch 0 Loss 0.5316 Accuracy 73.0216 AUC 0.7748\n",
            "Epoch 39 TRAIN Batch 50 Loss 0.5258 Accuracy 73.4698 AUC 0.7698\n",
            "Epoch 39 TRAIN Batch 100 Loss 0.5273 Accuracy 73.3862 AUC 0.7687\n",
            "Epoch 39 TRAIN Batch 150 Loss 0.5274 Accuracy 73.3758 AUC 0.7684\n",
            "Epoch 39 TRAIN Batch 200 Loss 0.5279 Accuracy 73.3371 AUC 0.7684\n",
            "Epoch 39 TRAIN Batch 250 Loss 0.5275 Accuracy 73.3690 AUC 0.7685\n",
            "Epoch 39 TRAIN Batch 300 Loss 0.5278 Accuracy 73.3511 AUC 0.7684\n",
            "Epoch 39 TRAIN Batch 350 Loss 0.5275 Accuracy 73.3771 AUC 0.7686\n",
            "Epoch 39 TRAIN Batch 400 Loss 0.5275 Accuracy 73.3730 AUC 0.7686\n",
            "Epoch 39 TRAIN Batch 450 Loss 0.5276 Accuracy 73.3671 AUC 0.7686\n",
            "Epoch 39 TRAIN Batch 500 Loss 0.5274 Accuracy 73.3765 AUC 0.7688\n",
            "Epoch 39 TRAIN Batch 550 Loss 0.5275 Accuracy 73.3715 AUC 0.7688\n",
            "Epoch 39 TRAIN Batch 600 Loss 0.5276 Accuracy 73.3707 AUC 0.7687\n",
            "Epoch 39 TRAIN Batch 650 Loss 0.5274 Accuracy 73.3751 AUC 0.7687\n",
            "Epoch 39 TRAIN Batch 700 Loss 0.5274 Accuracy 73.3827 AUC 0.7687\n",
            "Epoch 39 TRAIN Batch 750 Loss 0.5273 Accuracy 73.3878 AUC 0.7687\n"
          ],
          "name": "stdout"
        },
        {
          "output_type": "stream",
          "text": [
            "19-12 18:57 root         INFO     Epoch TRAIN 39 Loss 0.5272 Accuracy 73.3930 AUC 0.7687\n"
          ],
          "name": "stderr"
        },
        {
          "output_type": "stream",
          "text": [
            "Time taken for 1 epoch: 94.10843682289124 secs\n",
            "\n",
            "Epoch 40 TRAIN Batch 0 Loss 0.5145 Accuracy 74.5906 AUC 0.7710\n",
            "Epoch 40 TRAIN Batch 50 Loss 0.5256 Accuracy 73.4970 AUC 0.7708\n",
            "Epoch 40 TRAIN Batch 100 Loss 0.5263 Accuracy 73.4563 AUC 0.7699\n",
            "Epoch 40 TRAIN Batch 150 Loss 0.5263 Accuracy 73.4445 AUC 0.7698\n",
            "Epoch 40 TRAIN Batch 200 Loss 0.5267 Accuracy 73.4311 AUC 0.7694\n",
            "Epoch 40 TRAIN Batch 250 Loss 0.5270 Accuracy 73.4016 AUC 0.7692\n",
            "Epoch 40 TRAIN Batch 300 Loss 0.5269 Accuracy 73.4163 AUC 0.7694\n",
            "Epoch 40 TRAIN Batch 350 Loss 0.5268 Accuracy 73.4206 AUC 0.7696\n",
            "Epoch 40 TRAIN Batch 400 Loss 0.5266 Accuracy 73.4357 AUC 0.7697\n",
            "Epoch 40 TRAIN Batch 450 Loss 0.5266 Accuracy 73.4270 AUC 0.7697\n",
            "Epoch 40 TRAIN Batch 500 Loss 0.5268 Accuracy 73.4160 AUC 0.7696\n",
            "Epoch 40 TRAIN Batch 550 Loss 0.5268 Accuracy 73.4145 AUC 0.7696\n",
            "Epoch 40 TRAIN Batch 600 Loss 0.5268 Accuracy 73.4149 AUC 0.7696\n",
            "Epoch 40 TRAIN Batch 650 Loss 0.5269 Accuracy 73.4050 AUC 0.7696\n",
            "Epoch 40 TRAIN Batch 700 Loss 0.5269 Accuracy 73.4061 AUC 0.7696\n",
            "Epoch 40 TRAIN Batch 750 Loss 0.5269 Accuracy 73.4060 AUC 0.7697\n"
          ],
          "name": "stdout"
        },
        {
          "output_type": "stream",
          "text": [
            "19-12 18:58 root         INFO     Epoch TRAIN 40 Loss 0.5270 Accuracy 73.3981 AUC 0.7696\n"
          ],
          "name": "stderr"
        },
        {
          "output_type": "stream",
          "text": [
            "Epoch 40 VAL Batch 0 Loss 0.5257 Accuracy 73.7314 AUC 0.7698\n",
            "Epoch 40 VAL Batch 50 Loss 0.5290 Accuracy 73.2506 AUC 0.7684\n",
            "Epoch 40 VAL Batch 100 Loss 0.5279 Accuracy 73.3647 AUC 0.7695\n",
            "Epoch 40 VAL Batch 150 Loss 0.5279 Accuracy 73.3671 AUC 0.7692\n",
            "Epoch 40 VAL Batch 200 Loss 0.5281 Accuracy 73.3405 AUC 0.7692\n",
            "Epoch 40 VAL Batch 250 Loss 0.5279 Accuracy 73.3622 AUC 0.7694\n",
            "Epoch 40 VAL Batch 300 Loss 0.5276 Accuracy 73.3906 AUC 0.7696\n",
            "Epoch 40 VAL Batch 350 Loss 0.5276 Accuracy 73.3931 AUC 0.7698\n",
            "Epoch 40 VAL Batch 400 Loss 0.5274 Accuracy 73.4133 AUC 0.7699\n",
            "Epoch 40 VAL Batch 450 Loss 0.5272 Accuracy 73.4341 AUC 0.7700\n",
            "Epoch 40 VAL Batch 500 Loss 0.5272 Accuracy 73.4239 AUC 0.7699\n",
            "Epoch 40 VAL Batch 550 Loss 0.5272 Accuracy 73.4239 AUC 0.7698\n",
            "Epoch 40 VAL Batch 600 Loss 0.5270 Accuracy 73.4390 AUC 0.7700\n",
            "Epoch 40 VAL Batch 650 Loss 0.5270 Accuracy 73.4355 AUC 0.7700\n",
            "Epoch 40 VAL Batch 700 Loss 0.5270 Accuracy 73.4375 AUC 0.7700\n",
            "Epoch 40 VAL Batch 750 Loss 0.5269 Accuracy 73.4441 AUC 0.7701\n"
          ],
          "name": "stdout"
        },
        {
          "output_type": "stream",
          "text": [
            "19-12 18:59 root         INFO     Epoch VAL 40 Loss 0.5269 Accuracy 73.4455 AUC 0.7701\n",
            "19-12 18:59 root         INFO     Saving checkpoint for epoch 40 at 19-Dec-riiid-2/checkpoints/ckpt-8\n"
          ],
          "name": "stderr"
        },
        {
          "output_type": "stream",
          "text": [
            "Time taken for 1 epoch: 110.40955376625061 secs\n",
            "\n",
            "Epoch 41 TRAIN Batch 0 Loss 0.5233 Accuracy 73.8469 AUC 0.7590\n",
            "Epoch 41 TRAIN Batch 50 Loss 0.5262 Accuracy 73.5243 AUC 0.7701\n",
            "Epoch 41 TRAIN Batch 100 Loss 0.5270 Accuracy 73.4062 AUC 0.7696\n",
            "Epoch 41 TRAIN Batch 150 Loss 0.5274 Accuracy 73.4005 AUC 0.7694\n",
            "Epoch 41 TRAIN Batch 200 Loss 0.5270 Accuracy 73.4196 AUC 0.7697\n",
            "Epoch 41 TRAIN Batch 250 Loss 0.5266 Accuracy 73.4558 AUC 0.7699\n",
            "Epoch 41 TRAIN Batch 300 Loss 0.5266 Accuracy 73.4585 AUC 0.7700\n",
            "Epoch 41 TRAIN Batch 350 Loss 0.5267 Accuracy 73.4459 AUC 0.7702\n",
            "Epoch 41 TRAIN Batch 400 Loss 0.5267 Accuracy 73.4473 AUC 0.7701\n",
            "Epoch 41 TRAIN Batch 450 Loss 0.5266 Accuracy 73.4490 AUC 0.7700\n",
            "Epoch 41 TRAIN Batch 500 Loss 0.5265 Accuracy 73.4522 AUC 0.7700\n",
            "Epoch 41 TRAIN Batch 550 Loss 0.5266 Accuracy 73.4487 AUC 0.7699\n",
            "Epoch 41 TRAIN Batch 600 Loss 0.5265 Accuracy 73.4594 AUC 0.7700\n",
            "Epoch 41 TRAIN Batch 650 Loss 0.5264 Accuracy 73.4570 AUC 0.7700\n",
            "Epoch 41 TRAIN Batch 700 Loss 0.5264 Accuracy 73.4597 AUC 0.7700\n",
            "Epoch 41 TRAIN Batch 750 Loss 0.5265 Accuracy 73.4500 AUC 0.7699\n"
          ],
          "name": "stdout"
        },
        {
          "output_type": "stream",
          "text": [
            "19-12 19:00 root         INFO     Epoch TRAIN 41 Loss 0.5265 Accuracy 73.4582 AUC 0.7699\n"
          ],
          "name": "stderr"
        },
        {
          "output_type": "stream",
          "text": [
            "Time taken for 1 epoch: 93.51211452484131 secs\n",
            "\n",
            "Epoch 42 TRAIN Batch 0 Loss 0.5259 Accuracy 73.7563 AUC 0.7707\n",
            "Epoch 42 TRAIN Batch 50 Loss 0.5260 Accuracy 73.4842 AUC 0.7704\n",
            "Epoch 42 TRAIN Batch 100 Loss 0.5266 Accuracy 73.4364 AUC 0.7698\n",
            "Epoch 42 TRAIN Batch 150 Loss 0.5271 Accuracy 73.3920 AUC 0.7703\n",
            "Epoch 42 TRAIN Batch 200 Loss 0.5267 Accuracy 73.4260 AUC 0.7703\n",
            "Epoch 42 TRAIN Batch 250 Loss 0.5264 Accuracy 73.4460 AUC 0.7703\n",
            "Epoch 42 TRAIN Batch 300 Loss 0.5261 Accuracy 73.4685 AUC 0.7704\n",
            "Epoch 42 TRAIN Batch 350 Loss 0.5258 Accuracy 73.4878 AUC 0.7707\n",
            "Epoch 42 TRAIN Batch 400 Loss 0.5257 Accuracy 73.5005 AUC 0.7706\n",
            "Epoch 42 TRAIN Batch 450 Loss 0.5259 Accuracy 73.4899 AUC 0.7704\n",
            "Epoch 42 TRAIN Batch 500 Loss 0.5259 Accuracy 73.4869 AUC 0.7704\n",
            "Epoch 42 TRAIN Batch 550 Loss 0.5260 Accuracy 73.4836 AUC 0.7705\n",
            "Epoch 42 TRAIN Batch 600 Loss 0.5259 Accuracy 73.4784 AUC 0.7706\n",
            "Epoch 42 TRAIN Batch 650 Loss 0.5260 Accuracy 73.4767 AUC 0.7706\n",
            "Epoch 42 TRAIN Batch 700 Loss 0.5260 Accuracy 73.4830 AUC 0.7706\n",
            "Epoch 42 TRAIN Batch 750 Loss 0.5259 Accuracy 73.4878 AUC 0.7706\n"
          ],
          "name": "stdout"
        },
        {
          "output_type": "stream",
          "text": [
            "19-12 19:02 root         INFO     Epoch TRAIN 42 Loss 0.5259 Accuracy 73.4872 AUC 0.7705\n"
          ],
          "name": "stderr"
        },
        {
          "output_type": "stream",
          "text": [
            "Time taken for 1 epoch: 93.88928747177124 secs\n",
            "\n",
            "Epoch 43 TRAIN Batch 0 Loss 0.5137 Accuracy 74.5921 AUC 0.7857\n",
            "Epoch 43 TRAIN Batch 50 Loss 0.5260 Accuracy 73.4410 AUC 0.7702\n",
            "Epoch 43 TRAIN Batch 100 Loss 0.5252 Accuracy 73.4948 AUC 0.7705\n",
            "Epoch 43 TRAIN Batch 150 Loss 0.5257 Accuracy 73.4743 AUC 0.7704\n",
            "Epoch 43 TRAIN Batch 200 Loss 0.5261 Accuracy 73.4430 AUC 0.7702\n",
            "Epoch 43 TRAIN Batch 250 Loss 0.5262 Accuracy 73.4498 AUC 0.7703\n",
            "Epoch 43 TRAIN Batch 300 Loss 0.5260 Accuracy 73.4667 AUC 0.7704\n",
            "Epoch 43 TRAIN Batch 350 Loss 0.5262 Accuracy 73.4444 AUC 0.7703\n",
            "Epoch 43 TRAIN Batch 400 Loss 0.5261 Accuracy 73.4529 AUC 0.7704\n",
            "Epoch 43 TRAIN Batch 450 Loss 0.5259 Accuracy 73.4692 AUC 0.7706\n",
            "Epoch 43 TRAIN Batch 500 Loss 0.5260 Accuracy 73.4636 AUC 0.7706\n",
            "Epoch 43 TRAIN Batch 550 Loss 0.5257 Accuracy 73.4808 AUC 0.7709\n",
            "Epoch 43 TRAIN Batch 600 Loss 0.5258 Accuracy 73.4751 AUC 0.7708\n",
            "Epoch 43 TRAIN Batch 650 Loss 0.5257 Accuracy 73.4835 AUC 0.7709\n",
            "Epoch 43 TRAIN Batch 700 Loss 0.5258 Accuracy 73.4782 AUC 0.7708\n",
            "Epoch 43 TRAIN Batch 750 Loss 0.5259 Accuracy 73.4713 AUC 0.7708\n"
          ],
          "name": "stdout"
        },
        {
          "output_type": "stream",
          "text": [
            "19-12 19:03 root         INFO     Epoch TRAIN 43 Loss 0.5257 Accuracy 73.4798 AUC 0.7708\n"
          ],
          "name": "stderr"
        },
        {
          "output_type": "stream",
          "text": [
            "Time taken for 1 epoch: 90.30450677871704 secs\n",
            "\n",
            "Epoch 44 TRAIN Batch 0 Loss 0.5127 Accuracy 74.4276 AUC 0.7787\n",
            "Epoch 44 TRAIN Batch 50 Loss 0.5249 Accuracy 73.5667 AUC 0.7701\n",
            "Epoch 44 TRAIN Batch 100 Loss 0.5240 Accuracy 73.6001 AUC 0.7714\n",
            "Epoch 44 TRAIN Batch 150 Loss 0.5241 Accuracy 73.6000 AUC 0.7715\n",
            "Epoch 44 TRAIN Batch 200 Loss 0.5242 Accuracy 73.5989 AUC 0.7718\n",
            "Epoch 44 TRAIN Batch 250 Loss 0.5243 Accuracy 73.5982 AUC 0.7715\n",
            "Epoch 44 TRAIN Batch 300 Loss 0.5244 Accuracy 73.5900 AUC 0.7716\n",
            "Epoch 44 TRAIN Batch 350 Loss 0.5249 Accuracy 73.5584 AUC 0.7715\n",
            "Epoch 44 TRAIN Batch 400 Loss 0.5249 Accuracy 73.5651 AUC 0.7714\n",
            "Epoch 44 TRAIN Batch 450 Loss 0.5250 Accuracy 73.5600 AUC 0.7713\n",
            "Epoch 44 TRAIN Batch 500 Loss 0.5252 Accuracy 73.5425 AUC 0.7712\n",
            "Epoch 44 TRAIN Batch 550 Loss 0.5252 Accuracy 73.5421 AUC 0.7710\n",
            "Epoch 44 TRAIN Batch 600 Loss 0.5252 Accuracy 73.5356 AUC 0.7710\n",
            "Epoch 44 TRAIN Batch 650 Loss 0.5254 Accuracy 73.5243 AUC 0.7710\n",
            "Epoch 44 TRAIN Batch 700 Loss 0.5254 Accuracy 73.5182 AUC 0.7709\n",
            "Epoch 44 TRAIN Batch 750 Loss 0.5253 Accuracy 73.5279 AUC 0.7711\n"
          ],
          "name": "stdout"
        },
        {
          "output_type": "stream",
          "text": [
            "19-12 19:05 root         INFO     Epoch TRAIN 44 Loss 0.5253 Accuracy 73.5291 AUC 0.7711\n"
          ],
          "name": "stderr"
        },
        {
          "output_type": "stream",
          "text": [
            "Time taken for 1 epoch: 86.5054931640625 secs\n",
            "\n",
            "Epoch 45 TRAIN Batch 0 Loss 0.5176 Accuracy 74.2054 AUC 0.7729\n",
            "Epoch 45 TRAIN Batch 50 Loss 0.5238 Accuracy 73.6338 AUC 0.7717\n",
            "Epoch 45 TRAIN Batch 100 Loss 0.5240 Accuracy 73.6151 AUC 0.7717\n",
            "Epoch 45 TRAIN Batch 150 Loss 0.5251 Accuracy 73.5320 AUC 0.7712\n",
            "Epoch 45 TRAIN Batch 200 Loss 0.5250 Accuracy 73.5477 AUC 0.7710\n",
            "Epoch 45 TRAIN Batch 250 Loss 0.5250 Accuracy 73.5522 AUC 0.7711\n",
            "Epoch 45 TRAIN Batch 300 Loss 0.5246 Accuracy 73.5809 AUC 0.7715\n",
            "Epoch 45 TRAIN Batch 350 Loss 0.5246 Accuracy 73.5794 AUC 0.7715\n",
            "Epoch 45 TRAIN Batch 400 Loss 0.5245 Accuracy 73.5828 AUC 0.7716\n",
            "Epoch 45 TRAIN Batch 450 Loss 0.5244 Accuracy 73.5901 AUC 0.7716\n",
            "Epoch 45 TRAIN Batch 500 Loss 0.5244 Accuracy 73.5915 AUC 0.7717\n",
            "Epoch 45 TRAIN Batch 550 Loss 0.5244 Accuracy 73.5830 AUC 0.7716\n",
            "Epoch 45 TRAIN Batch 600 Loss 0.5245 Accuracy 73.5719 AUC 0.7716\n",
            "Epoch 45 TRAIN Batch 650 Loss 0.5245 Accuracy 73.5766 AUC 0.7716\n",
            "Epoch 45 TRAIN Batch 700 Loss 0.5245 Accuracy 73.5718 AUC 0.7716\n",
            "Epoch 45 TRAIN Batch 750 Loss 0.5247 Accuracy 73.5642 AUC 0.7717\n"
          ],
          "name": "stdout"
        },
        {
          "output_type": "stream",
          "text": [
            "19-12 19:06 root         INFO     Epoch TRAIN 45 Loss 0.5246 Accuracy 73.5655 AUC 0.7717\n"
          ],
          "name": "stderr"
        },
        {
          "output_type": "stream",
          "text": [
            "Epoch 45 VAL Batch 0 Loss 0.5238 Accuracy 73.5889 AUC 0.7721\n",
            "Epoch 45 VAL Batch 50 Loss 0.5272 Accuracy 73.4256 AUC 0.7710\n",
            "Epoch 45 VAL Batch 100 Loss 0.5261 Accuracy 73.5329 AUC 0.7722\n",
            "Epoch 45 VAL Batch 150 Loss 0.5261 Accuracy 73.5392 AUC 0.7719\n",
            "Epoch 45 VAL Batch 200 Loss 0.5264 Accuracy 73.5018 AUC 0.7719\n",
            "Epoch 45 VAL Batch 250 Loss 0.5261 Accuracy 73.5185 AUC 0.7721\n",
            "Epoch 45 VAL Batch 300 Loss 0.5258 Accuracy 73.5517 AUC 0.7723\n",
            "Epoch 45 VAL Batch 350 Loss 0.5258 Accuracy 73.5528 AUC 0.7725\n",
            "Epoch 45 VAL Batch 400 Loss 0.5256 Accuracy 73.5657 AUC 0.7726\n",
            "Epoch 45 VAL Batch 450 Loss 0.5253 Accuracy 73.5887 AUC 0.7727\n",
            "Epoch 45 VAL Batch 500 Loss 0.5254 Accuracy 73.5818 AUC 0.7726\n",
            "Epoch 45 VAL Batch 550 Loss 0.5254 Accuracy 73.5848 AUC 0.7725\n",
            "Epoch 45 VAL Batch 600 Loss 0.5251 Accuracy 73.6020 AUC 0.7727\n",
            "Epoch 45 VAL Batch 650 Loss 0.5252 Accuracy 73.5988 AUC 0.7727\n",
            "Epoch 45 VAL Batch 700 Loss 0.5252 Accuracy 73.5973 AUC 0.7727\n",
            "Epoch 45 VAL Batch 750 Loss 0.5251 Accuracy 73.6019 AUC 0.7727\n"
          ],
          "name": "stdout"
        },
        {
          "output_type": "stream",
          "text": [
            "19-12 19:06 root         INFO     Epoch VAL 45 Loss 0.5251 Accuracy 73.6018 AUC 0.7728\n",
            "19-12 19:06 root         INFO     Saving checkpoint for epoch 45 at 19-Dec-riiid-2/checkpoints/ckpt-9\n"
          ],
          "name": "stderr"
        },
        {
          "output_type": "stream",
          "text": [
            "Time taken for 1 epoch: 105.35925841331482 secs\n",
            "\n",
            "Epoch 46 TRAIN Batch 0 Loss 0.5098 Accuracy 74.7124 AUC 0.7814\n",
            "Epoch 46 TRAIN Batch 50 Loss 0.5250 Accuracy 73.5019 AUC 0.7720\n",
            "Epoch 46 TRAIN Batch 100 Loss 0.5231 Accuracy 73.6910 AUC 0.7731\n",
            "Epoch 46 TRAIN Batch 150 Loss 0.5238 Accuracy 73.6231 AUC 0.7725\n",
            "Epoch 46 TRAIN Batch 200 Loss 0.5236 Accuracy 73.6470 AUC 0.7726\n",
            "Epoch 46 TRAIN Batch 250 Loss 0.5236 Accuracy 73.6488 AUC 0.7726\n",
            "Epoch 46 TRAIN Batch 300 Loss 0.5237 Accuracy 73.6446 AUC 0.7726\n",
            "Epoch 46 TRAIN Batch 350 Loss 0.5242 Accuracy 73.6131 AUC 0.7722\n",
            "Epoch 46 TRAIN Batch 400 Loss 0.5244 Accuracy 73.5950 AUC 0.7721\n",
            "Epoch 46 TRAIN Batch 450 Loss 0.5245 Accuracy 73.5883 AUC 0.7720\n",
            "Epoch 46 TRAIN Batch 500 Loss 0.5245 Accuracy 73.5846 AUC 0.7721\n",
            "Epoch 46 TRAIN Batch 550 Loss 0.5244 Accuracy 73.5881 AUC 0.7721\n",
            "Epoch 46 TRAIN Batch 600 Loss 0.5245 Accuracy 73.5759 AUC 0.7721\n",
            "Epoch 46 TRAIN Batch 650 Loss 0.5245 Accuracy 73.5770 AUC 0.7720\n",
            "Epoch 46 TRAIN Batch 700 Loss 0.5245 Accuracy 73.5795 AUC 0.7721\n",
            "Epoch 46 TRAIN Batch 750 Loss 0.5245 Accuracy 73.5836 AUC 0.7721\n"
          ],
          "name": "stdout"
        },
        {
          "output_type": "stream",
          "text": [
            "19-12 19:08 root         INFO     Epoch TRAIN 46 Loss 0.5244 Accuracy 73.5892 AUC 0.7721\n"
          ],
          "name": "stderr"
        },
        {
          "output_type": "stream",
          "text": [
            "Time taken for 1 epoch: 88.81245994567871 secs\n",
            "\n",
            "Epoch 47 TRAIN Batch 0 Loss 0.5309 Accuracy 72.9106 AUC 0.7701\n",
            "Epoch 47 TRAIN Batch 50 Loss 0.5251 Accuracy 73.5327 AUC 0.7727\n",
            "Epoch 47 TRAIN Batch 100 Loss 0.5251 Accuracy 73.5515 AUC 0.7721\n",
            "Epoch 47 TRAIN Batch 150 Loss 0.5244 Accuracy 73.6048 AUC 0.7728\n",
            "Epoch 47 TRAIN Batch 200 Loss 0.5244 Accuracy 73.6100 AUC 0.7726\n",
            "Epoch 47 TRAIN Batch 250 Loss 0.5245 Accuracy 73.5874 AUC 0.7725\n",
            "Epoch 47 TRAIN Batch 300 Loss 0.5242 Accuracy 73.6140 AUC 0.7728\n",
            "Epoch 47 TRAIN Batch 350 Loss 0.5244 Accuracy 73.6070 AUC 0.7726\n",
            "Epoch 47 TRAIN Batch 400 Loss 0.5243 Accuracy 73.6066 AUC 0.7727\n",
            "Epoch 47 TRAIN Batch 450 Loss 0.5244 Accuracy 73.5904 AUC 0.7727\n",
            "Epoch 47 TRAIN Batch 500 Loss 0.5244 Accuracy 73.5851 AUC 0.7726\n",
            "Epoch 47 TRAIN Batch 550 Loss 0.5246 Accuracy 73.5785 AUC 0.7726\n",
            "Epoch 47 TRAIN Batch 600 Loss 0.5245 Accuracy 73.5780 AUC 0.7726\n",
            "Epoch 47 TRAIN Batch 650 Loss 0.5244 Accuracy 73.5833 AUC 0.7726\n",
            "Epoch 47 TRAIN Batch 700 Loss 0.5244 Accuracy 73.5869 AUC 0.7727\n",
            "Epoch 47 TRAIN Batch 750 Loss 0.5244 Accuracy 73.5833 AUC 0.7726\n"
          ],
          "name": "stdout"
        },
        {
          "output_type": "stream",
          "text": [
            "19-12 19:09 root         INFO     Epoch TRAIN 47 Loss 0.5244 Accuracy 73.5841 AUC 0.7726\n"
          ],
          "name": "stderr"
        },
        {
          "output_type": "stream",
          "text": [
            "Time taken for 1 epoch: 88.87035036087036 secs\n",
            "\n",
            "Epoch 48 TRAIN Batch 0 Loss 0.5264 Accuracy 73.4491 AUC 0.7722\n",
            "Epoch 48 TRAIN Batch 50 Loss 0.5260 Accuracy 73.4488 AUC 0.7717\n",
            "Epoch 48 TRAIN Batch 100 Loss 0.5249 Accuracy 73.5677 AUC 0.7720\n",
            "Epoch 48 TRAIN Batch 150 Loss 0.5244 Accuracy 73.6080 AUC 0.7722\n",
            "Epoch 48 TRAIN Batch 200 Loss 0.5239 Accuracy 73.6479 AUC 0.7725\n",
            "Epoch 48 TRAIN Batch 250 Loss 0.5241 Accuracy 73.6206 AUC 0.7725\n",
            "Epoch 48 TRAIN Batch 300 Loss 0.5245 Accuracy 73.5934 AUC 0.7725\n",
            "Epoch 48 TRAIN Batch 350 Loss 0.5243 Accuracy 73.5986 AUC 0.7727\n",
            "Epoch 48 TRAIN Batch 400 Loss 0.5244 Accuracy 73.5938 AUC 0.7727\n",
            "Epoch 48 TRAIN Batch 450 Loss 0.5245 Accuracy 73.5842 AUC 0.7726\n",
            "Epoch 48 TRAIN Batch 500 Loss 0.5242 Accuracy 73.6005 AUC 0.7727\n",
            "Epoch 48 TRAIN Batch 550 Loss 0.5242 Accuracy 73.6023 AUC 0.7727\n",
            "Epoch 48 TRAIN Batch 600 Loss 0.5243 Accuracy 73.6003 AUC 0.7727\n",
            "Epoch 48 TRAIN Batch 650 Loss 0.5244 Accuracy 73.5981 AUC 0.7725\n",
            "Epoch 48 TRAIN Batch 700 Loss 0.5243 Accuracy 73.6087 AUC 0.7726\n",
            "Epoch 48 TRAIN Batch 750 Loss 0.5243 Accuracy 73.6061 AUC 0.7726\n"
          ],
          "name": "stdout"
        },
        {
          "output_type": "stream",
          "text": [
            "19-12 19:11 root         INFO     Epoch TRAIN 48 Loss 0.5243 Accuracy 73.6068 AUC 0.7726\n"
          ],
          "name": "stderr"
        },
        {
          "output_type": "stream",
          "text": [
            "Time taken for 1 epoch: 91.02958703041077 secs\n",
            "\n",
            "Epoch 49 TRAIN Batch 0 Loss 0.5156 Accuracy 74.0637 AUC 0.7756\n",
            "Epoch 49 TRAIN Batch 50 Loss 0.5235 Accuracy 73.6599 AUC 0.7721\n",
            "Epoch 49 TRAIN Batch 100 Loss 0.5239 Accuracy 73.6195 AUC 0.7723\n",
            "Epoch 49 TRAIN Batch 150 Loss 0.5235 Accuracy 73.6545 AUC 0.7733\n",
            "Epoch 49 TRAIN Batch 200 Loss 0.5234 Accuracy 73.6531 AUC 0.7732\n",
            "Epoch 49 TRAIN Batch 250 Loss 0.5236 Accuracy 73.6516 AUC 0.7733\n",
            "Epoch 49 TRAIN Batch 300 Loss 0.5234 Accuracy 73.6648 AUC 0.7732\n",
            "Epoch 49 TRAIN Batch 350 Loss 0.5234 Accuracy 73.6655 AUC 0.7731\n",
            "Epoch 49 TRAIN Batch 400 Loss 0.5234 Accuracy 73.6710 AUC 0.7732\n",
            "Epoch 49 TRAIN Batch 450 Loss 0.5233 Accuracy 73.6753 AUC 0.7733\n",
            "Epoch 49 TRAIN Batch 500 Loss 0.5233 Accuracy 73.6766 AUC 0.7733\n",
            "Epoch 49 TRAIN Batch 550 Loss 0.5233 Accuracy 73.6790 AUC 0.7733\n",
            "Epoch 49 TRAIN Batch 600 Loss 0.5233 Accuracy 73.6822 AUC 0.7733\n",
            "Epoch 49 TRAIN Batch 650 Loss 0.5232 Accuracy 73.6905 AUC 0.7733\n",
            "Epoch 49 TRAIN Batch 700 Loss 0.5231 Accuracy 73.6947 AUC 0.7734\n",
            "Epoch 49 TRAIN Batch 750 Loss 0.5231 Accuracy 73.6900 AUC 0.7733\n"
          ],
          "name": "stdout"
        },
        {
          "output_type": "stream",
          "text": [
            "19-12 19:12 root         INFO     Epoch TRAIN 49 Loss 0.5232 Accuracy 73.6877 AUC 0.7733\n"
          ],
          "name": "stderr"
        },
        {
          "output_type": "stream",
          "text": [
            "Time taken for 1 epoch: 88.70480823516846 secs\n",
            "\n",
            "Epoch 50 TRAIN Batch 0 Loss 0.5349 Accuracy 73.4098 AUC 0.7605\n",
            "Epoch 50 TRAIN Batch 50 Loss 0.5237 Accuracy 73.6586 AUC 0.7731\n",
            "Epoch 50 TRAIN Batch 100 Loss 0.5234 Accuracy 73.6548 AUC 0.7733\n",
            "Epoch 50 TRAIN Batch 150 Loss 0.5232 Accuracy 73.6574 AUC 0.7733\n",
            "Epoch 50 TRAIN Batch 200 Loss 0.5231 Accuracy 73.6724 AUC 0.7734\n",
            "Epoch 50 TRAIN Batch 250 Loss 0.5232 Accuracy 73.6757 AUC 0.7734\n",
            "Epoch 50 TRAIN Batch 300 Loss 0.5233 Accuracy 73.6653 AUC 0.7734\n",
            "Epoch 50 TRAIN Batch 350 Loss 0.5233 Accuracy 73.6710 AUC 0.7735\n",
            "Epoch 50 TRAIN Batch 400 Loss 0.5232 Accuracy 73.6690 AUC 0.7736\n",
            "Epoch 50 TRAIN Batch 450 Loss 0.5232 Accuracy 73.6693 AUC 0.7735\n",
            "Epoch 50 TRAIN Batch 500 Loss 0.5230 Accuracy 73.6782 AUC 0.7736\n",
            "Epoch 50 TRAIN Batch 550 Loss 0.5231 Accuracy 73.6796 AUC 0.7736\n",
            "Epoch 50 TRAIN Batch 600 Loss 0.5230 Accuracy 73.6832 AUC 0.7737\n",
            "Epoch 50 TRAIN Batch 650 Loss 0.5231 Accuracy 73.6777 AUC 0.7737\n",
            "Epoch 50 TRAIN Batch 700 Loss 0.5232 Accuracy 73.6638 AUC 0.7737\n",
            "Epoch 50 TRAIN Batch 750 Loss 0.5231 Accuracy 73.6740 AUC 0.7737\n"
          ],
          "name": "stdout"
        },
        {
          "output_type": "stream",
          "text": [
            "19-12 19:14 root         INFO     Epoch TRAIN 50 Loss 0.5230 Accuracy 73.6757 AUC 0.7737\n"
          ],
          "name": "stderr"
        },
        {
          "output_type": "stream",
          "text": [
            "Epoch 50 VAL Batch 0 Loss 0.5219 Accuracy 73.7063 AUC 0.7736\n",
            "Epoch 50 VAL Batch 50 Loss 0.5251 Accuracy 73.4897 AUC 0.7731\n",
            "Epoch 50 VAL Batch 100 Loss 0.5241 Accuracy 73.6045 AUC 0.7742\n",
            "Epoch 50 VAL Batch 150 Loss 0.5241 Accuracy 73.6009 AUC 0.7738\n",
            "Epoch 50 VAL Batch 200 Loss 0.5244 Accuracy 73.5677 AUC 0.7738\n",
            "Epoch 50 VAL Batch 250 Loss 0.5242 Accuracy 73.5881 AUC 0.7740\n",
            "Epoch 50 VAL Batch 300 Loss 0.5239 Accuracy 73.6242 AUC 0.7742\n",
            "Epoch 50 VAL Batch 350 Loss 0.5239 Accuracy 73.6287 AUC 0.7744\n",
            "Epoch 50 VAL Batch 400 Loss 0.5237 Accuracy 73.6418 AUC 0.7745\n",
            "Epoch 50 VAL Batch 450 Loss 0.5234 Accuracy 73.6653 AUC 0.7746\n",
            "Epoch 50 VAL Batch 500 Loss 0.5235 Accuracy 73.6546 AUC 0.7745\n",
            "Epoch 50 VAL Batch 550 Loss 0.5235 Accuracy 73.6556 AUC 0.7744\n",
            "Epoch 50 VAL Batch 600 Loss 0.5232 Accuracy 73.6719 AUC 0.7746\n",
            "Epoch 50 VAL Batch 650 Loss 0.5233 Accuracy 73.6712 AUC 0.7745\n",
            "Epoch 50 VAL Batch 700 Loss 0.5233 Accuracy 73.6737 AUC 0.7746\n",
            "Epoch 50 VAL Batch 750 Loss 0.5232 Accuracy 73.6810 AUC 0.7746\n"
          ],
          "name": "stdout"
        },
        {
          "output_type": "stream",
          "text": [
            "19-12 19:14 root         INFO     Epoch VAL 50 Loss 0.5232 Accuracy 73.6814 AUC 0.7747\n",
            "19-12 19:14 root         INFO     Saving checkpoint for epoch 50 at 19-Dec-riiid-2/checkpoints/ckpt-10\n"
          ],
          "name": "stderr"
        },
        {
          "output_type": "stream",
          "text": [
            "Time taken for 1 epoch: 107.634117603302 secs\n",
            "\n",
            "Epoch 51 TRAIN Batch 0 Loss 0.5141 Accuracy 74.3371 AUC 0.7833\n",
            "Epoch 51 TRAIN Batch 50 Loss 0.5245 Accuracy 73.5638 AUC 0.7729\n",
            "Epoch 51 TRAIN Batch 100 Loss 0.5252 Accuracy 73.5145 AUC 0.7727\n",
            "Epoch 51 TRAIN Batch 150 Loss 0.5246 Accuracy 73.5626 AUC 0.7732\n",
            "Epoch 51 TRAIN Batch 200 Loss 0.5240 Accuracy 73.5924 AUC 0.7734\n",
            "Epoch 51 TRAIN Batch 250 Loss 0.5237 Accuracy 73.6271 AUC 0.7735\n",
            "Epoch 51 TRAIN Batch 300 Loss 0.5240 Accuracy 73.6010 AUC 0.7734\n",
            "Epoch 51 TRAIN Batch 350 Loss 0.5239 Accuracy 73.6206 AUC 0.7734\n",
            "Epoch 51 TRAIN Batch 400 Loss 0.5238 Accuracy 73.6254 AUC 0.7733\n",
            "Epoch 51 TRAIN Batch 450 Loss 0.5236 Accuracy 73.6331 AUC 0.7733\n",
            "Epoch 51 TRAIN Batch 500 Loss 0.5234 Accuracy 73.6499 AUC 0.7734\n",
            "Epoch 51 TRAIN Batch 550 Loss 0.5233 Accuracy 73.6510 AUC 0.7735\n",
            "Epoch 51 TRAIN Batch 600 Loss 0.5233 Accuracy 73.6485 AUC 0.7735\n",
            "Epoch 51 TRAIN Batch 650 Loss 0.5232 Accuracy 73.6497 AUC 0.7736\n",
            "Epoch 51 TRAIN Batch 700 Loss 0.5231 Accuracy 73.6572 AUC 0.7736\n",
            "Epoch 51 TRAIN Batch 750 Loss 0.5230 Accuracy 73.6626 AUC 0.7737\n"
          ],
          "name": "stdout"
        },
        {
          "output_type": "stream",
          "text": [
            "19-12 19:16 root         INFO     Epoch TRAIN 51 Loss 0.5231 Accuracy 73.6555 AUC 0.7737\n"
          ],
          "name": "stderr"
        },
        {
          "output_type": "stream",
          "text": [
            "Time taken for 1 epoch: 90.90900564193726 secs\n",
            "\n",
            "Epoch 52 TRAIN Batch 0 Loss 0.5289 Accuracy 73.3159 AUC 0.7671\n",
            "Epoch 52 TRAIN Batch 50 Loss 0.5218 Accuracy 73.7746 AUC 0.7746\n",
            "Epoch 52 TRAIN Batch 100 Loss 0.5221 Accuracy 73.7341 AUC 0.7739\n",
            "Epoch 52 TRAIN Batch 150 Loss 0.5229 Accuracy 73.6742 AUC 0.7737\n",
            "Epoch 52 TRAIN Batch 200 Loss 0.5227 Accuracy 73.6726 AUC 0.7739\n",
            "Epoch 52 TRAIN Batch 250 Loss 0.5222 Accuracy 73.7217 AUC 0.7742\n",
            "Epoch 52 TRAIN Batch 300 Loss 0.5224 Accuracy 73.7033 AUC 0.7745\n",
            "Epoch 52 TRAIN Batch 350 Loss 0.5225 Accuracy 73.6938 AUC 0.7744\n",
            "Epoch 52 TRAIN Batch 400 Loss 0.5228 Accuracy 73.6747 AUC 0.7742\n",
            "Epoch 52 TRAIN Batch 450 Loss 0.5228 Accuracy 73.6737 AUC 0.7742\n",
            "Epoch 52 TRAIN Batch 500 Loss 0.5226 Accuracy 73.6971 AUC 0.7743\n",
            "Epoch 52 TRAIN Batch 550 Loss 0.5227 Accuracy 73.6841 AUC 0.7742\n",
            "Epoch 52 TRAIN Batch 600 Loss 0.5226 Accuracy 73.6951 AUC 0.7743\n",
            "Epoch 52 TRAIN Batch 650 Loss 0.5226 Accuracy 73.6967 AUC 0.7744\n",
            "Epoch 52 TRAIN Batch 700 Loss 0.5226 Accuracy 73.6968 AUC 0.7743\n",
            "Epoch 52 TRAIN Batch 750 Loss 0.5225 Accuracy 73.7041 AUC 0.7744\n"
          ],
          "name": "stdout"
        },
        {
          "output_type": "stream",
          "text": [
            "19-12 19:17 root         INFO     Epoch TRAIN 52 Loss 0.5225 Accuracy 73.7110 AUC 0.7744\n"
          ],
          "name": "stderr"
        },
        {
          "output_type": "stream",
          "text": [
            "Time taken for 1 epoch: 89.75163435935974 secs\n",
            "\n",
            "Epoch 53 TRAIN Batch 0 Loss 0.5175 Accuracy 73.7483 AUC 0.7832\n",
            "Epoch 53 TRAIN Batch 50 Loss 0.5256 Accuracy 73.4733 AUC 0.7721\n",
            "Epoch 53 TRAIN Batch 100 Loss 0.5237 Accuracy 73.6176 AUC 0.7737\n",
            "Epoch 53 TRAIN Batch 150 Loss 0.5233 Accuracy 73.6309 AUC 0.7742\n",
            "Epoch 53 TRAIN Batch 200 Loss 0.5233 Accuracy 73.6386 AUC 0.7745\n",
            "Epoch 53 TRAIN Batch 250 Loss 0.5230 Accuracy 73.6527 AUC 0.7748\n",
            "Epoch 53 TRAIN Batch 300 Loss 0.5228 Accuracy 73.6754 AUC 0.7749\n",
            "Epoch 53 TRAIN Batch 350 Loss 0.5227 Accuracy 73.6902 AUC 0.7749\n",
            "Epoch 53 TRAIN Batch 400 Loss 0.5225 Accuracy 73.6956 AUC 0.7750\n",
            "Epoch 53 TRAIN Batch 450 Loss 0.5227 Accuracy 73.6816 AUC 0.7748\n",
            "Epoch 53 TRAIN Batch 500 Loss 0.5227 Accuracy 73.6746 AUC 0.7747\n",
            "Epoch 53 TRAIN Batch 550 Loss 0.5227 Accuracy 73.6761 AUC 0.7747\n",
            "Epoch 53 TRAIN Batch 600 Loss 0.5226 Accuracy 73.6872 AUC 0.7748\n",
            "Epoch 53 TRAIN Batch 650 Loss 0.5226 Accuracy 73.6801 AUC 0.7747\n",
            "Epoch 53 TRAIN Batch 700 Loss 0.5226 Accuracy 73.6878 AUC 0.7747\n",
            "Epoch 53 TRAIN Batch 750 Loss 0.5226 Accuracy 73.6855 AUC 0.7746\n"
          ],
          "name": "stdout"
        },
        {
          "output_type": "stream",
          "text": [
            "19-12 19:19 root         INFO     Epoch TRAIN 53 Loss 0.5225 Accuracy 73.6964 AUC 0.7747\n"
          ],
          "name": "stderr"
        },
        {
          "output_type": "stream",
          "text": [
            "Time taken for 1 epoch: 87.02623987197876 secs\n",
            "\n",
            "Epoch 54 TRAIN Batch 0 Loss 0.5259 Accuracy 73.2107 AUC 0.7775\n",
            "Epoch 54 TRAIN Batch 50 Loss 0.5235 Accuracy 73.6250 AUC 0.7735\n",
            "Epoch 54 TRAIN Batch 100 Loss 0.5227 Accuracy 73.6903 AUC 0.7739\n",
            "Epoch 54 TRAIN Batch 150 Loss 0.5219 Accuracy 73.7602 AUC 0.7744\n",
            "Epoch 54 TRAIN Batch 200 Loss 0.5216 Accuracy 73.7749 AUC 0.7748\n",
            "Epoch 54 TRAIN Batch 250 Loss 0.5217 Accuracy 73.7606 AUC 0.7750\n",
            "Epoch 54 TRAIN Batch 300 Loss 0.5220 Accuracy 73.7445 AUC 0.7748\n",
            "Epoch 54 TRAIN Batch 350 Loss 0.5224 Accuracy 73.7095 AUC 0.7746\n",
            "Epoch 54 TRAIN Batch 400 Loss 0.5222 Accuracy 73.7274 AUC 0.7749\n",
            "Epoch 54 TRAIN Batch 450 Loss 0.5223 Accuracy 73.7202 AUC 0.7749\n",
            "Epoch 54 TRAIN Batch 500 Loss 0.5222 Accuracy 73.7314 AUC 0.7750\n",
            "Epoch 54 TRAIN Batch 550 Loss 0.5221 Accuracy 73.7385 AUC 0.7751\n",
            "Epoch 54 TRAIN Batch 600 Loss 0.5222 Accuracy 73.7378 AUC 0.7751\n",
            "Epoch 54 TRAIN Batch 650 Loss 0.5223 Accuracy 73.7290 AUC 0.7751\n",
            "Epoch 54 TRAIN Batch 700 Loss 0.5222 Accuracy 73.7386 AUC 0.7751\n",
            "Epoch 54 TRAIN Batch 750 Loss 0.5221 Accuracy 73.7417 AUC 0.7752\n"
          ],
          "name": "stdout"
        },
        {
          "output_type": "stream",
          "text": [
            "19-12 19:20 root         INFO     Epoch TRAIN 54 Loss 0.5222 Accuracy 73.7349 AUC 0.7751\n"
          ],
          "name": "stderr"
        },
        {
          "output_type": "stream",
          "text": [
            "Time taken for 1 epoch: 86.00333404541016 secs\n",
            "\n",
            "Epoch 55 TRAIN Batch 0 Loss 0.5314 Accuracy 72.8859 AUC 0.7706\n",
            "Epoch 55 TRAIN Batch 50 Loss 0.5217 Accuracy 73.6976 AUC 0.7754\n",
            "Epoch 55 TRAIN Batch 100 Loss 0.5217 Accuracy 73.7342 AUC 0.7754\n",
            "Epoch 55 TRAIN Batch 150 Loss 0.5219 Accuracy 73.7227 AUC 0.7752\n",
            "Epoch 55 TRAIN Batch 200 Loss 0.5224 Accuracy 73.7120 AUC 0.7750\n",
            "Epoch 55 TRAIN Batch 250 Loss 0.5224 Accuracy 73.7074 AUC 0.7748\n",
            "Epoch 55 TRAIN Batch 300 Loss 0.5220 Accuracy 73.7410 AUC 0.7750\n",
            "Epoch 55 TRAIN Batch 350 Loss 0.5218 Accuracy 73.7528 AUC 0.7750\n",
            "Epoch 55 TRAIN Batch 400 Loss 0.5218 Accuracy 73.7478 AUC 0.7750\n",
            "Epoch 55 TRAIN Batch 450 Loss 0.5218 Accuracy 73.7507 AUC 0.7750\n",
            "Epoch 55 TRAIN Batch 500 Loss 0.5218 Accuracy 73.7435 AUC 0.7750\n",
            "Epoch 55 TRAIN Batch 550 Loss 0.5217 Accuracy 73.7504 AUC 0.7751\n",
            "Epoch 55 TRAIN Batch 600 Loss 0.5217 Accuracy 73.7483 AUC 0.7751\n",
            "Epoch 55 TRAIN Batch 650 Loss 0.5217 Accuracy 73.7494 AUC 0.7751\n",
            "Epoch 55 TRAIN Batch 700 Loss 0.5219 Accuracy 73.7354 AUC 0.7751\n",
            "Epoch 55 TRAIN Batch 750 Loss 0.5218 Accuracy 73.7433 AUC 0.7751\n"
          ],
          "name": "stdout"
        },
        {
          "output_type": "stream",
          "text": [
            "19-12 19:22 root         INFO     Epoch TRAIN 55 Loss 0.5217 Accuracy 73.7491 AUC 0.7751\n"
          ],
          "name": "stderr"
        },
        {
          "output_type": "stream",
          "text": [
            "Epoch 55 VAL Batch 0 Loss 0.5206 Accuracy 73.7147 AUC 0.7752\n",
            "Epoch 55 VAL Batch 50 Loss 0.5237 Accuracy 73.5704 AUC 0.7745\n",
            "Epoch 55 VAL Batch 100 Loss 0.5226 Accuracy 73.6858 AUC 0.7757\n",
            "Epoch 55 VAL Batch 150 Loss 0.5226 Accuracy 73.6866 AUC 0.7754\n",
            "Epoch 55 VAL Batch 200 Loss 0.5229 Accuracy 73.6542 AUC 0.7753\n",
            "Epoch 55 VAL Batch 250 Loss 0.5226 Accuracy 73.6724 AUC 0.7756\n",
            "Epoch 55 VAL Batch 300 Loss 0.5223 Accuracy 73.6999 AUC 0.7758\n",
            "Epoch 55 VAL Batch 350 Loss 0.5223 Accuracy 73.6979 AUC 0.7760\n",
            "Epoch 55 VAL Batch 400 Loss 0.5221 Accuracy 73.7090 AUC 0.7761\n",
            "Epoch 55 VAL Batch 450 Loss 0.5218 Accuracy 73.7313 AUC 0.7762\n",
            "Epoch 55 VAL Batch 500 Loss 0.5219 Accuracy 73.7276 AUC 0.7761\n",
            "Epoch 55 VAL Batch 550 Loss 0.5219 Accuracy 73.7324 AUC 0.7760\n",
            "Epoch 55 VAL Batch 600 Loss 0.5216 Accuracy 73.7472 AUC 0.7762\n",
            "Epoch 55 VAL Batch 650 Loss 0.5217 Accuracy 73.7464 AUC 0.7762\n",
            "Epoch 55 VAL Batch 700 Loss 0.5217 Accuracy 73.7486 AUC 0.7762\n",
            "Epoch 55 VAL Batch 750 Loss 0.5216 Accuracy 73.7531 AUC 0.7762\n"
          ],
          "name": "stdout"
        },
        {
          "output_type": "stream",
          "text": [
            "19-12 19:22 root         INFO     Epoch VAL 55 Loss 0.5216 Accuracy 73.7547 AUC 0.7763\n",
            "19-12 19:22 root         INFO     Saving checkpoint for epoch 55 at 19-Dec-riiid-2/checkpoints/ckpt-11\n"
          ],
          "name": "stderr"
        },
        {
          "output_type": "stream",
          "text": [
            "Time taken for 1 epoch: 104.70090889930725 secs\n",
            "\n",
            "Epoch 56 TRAIN Batch 0 Loss 0.5236 Accuracy 73.6176 AUC 0.7781\n",
            "Epoch 56 TRAIN Batch 50 Loss 0.5238 Accuracy 73.6096 AUC 0.7739\n",
            "Epoch 56 TRAIN Batch 100 Loss 0.5227 Accuracy 73.6799 AUC 0.7753\n",
            "Epoch 56 TRAIN Batch 150 Loss 0.5225 Accuracy 73.6806 AUC 0.7755\n",
            "Epoch 56 TRAIN Batch 200 Loss 0.5226 Accuracy 73.6756 AUC 0.7754\n",
            "Epoch 56 TRAIN Batch 250 Loss 0.5225 Accuracy 73.6878 AUC 0.7754\n",
            "Epoch 56 TRAIN Batch 300 Loss 0.5226 Accuracy 73.6895 AUC 0.7752\n",
            "Epoch 56 TRAIN Batch 350 Loss 0.5225 Accuracy 73.6928 AUC 0.7754\n",
            "Epoch 56 TRAIN Batch 400 Loss 0.5225 Accuracy 73.6908 AUC 0.7754\n",
            "Epoch 56 TRAIN Batch 450 Loss 0.5225 Accuracy 73.6887 AUC 0.7753\n",
            "Epoch 56 TRAIN Batch 500 Loss 0.5224 Accuracy 73.6915 AUC 0.7752\n",
            "Epoch 56 TRAIN Batch 550 Loss 0.5223 Accuracy 73.6982 AUC 0.7752\n",
            "Epoch 56 TRAIN Batch 600 Loss 0.5223 Accuracy 73.7000 AUC 0.7752\n",
            "Epoch 56 TRAIN Batch 650 Loss 0.5222 Accuracy 73.7072 AUC 0.7753\n",
            "Epoch 56 TRAIN Batch 700 Loss 0.5221 Accuracy 73.7164 AUC 0.7755\n",
            "Epoch 56 TRAIN Batch 750 Loss 0.5219 Accuracy 73.7306 AUC 0.7756\n"
          ],
          "name": "stdout"
        },
        {
          "output_type": "stream",
          "text": [
            "19-12 19:23 root         INFO     Epoch TRAIN 56 Loss 0.5219 Accuracy 73.7295 AUC 0.7756\n"
          ],
          "name": "stderr"
        },
        {
          "output_type": "stream",
          "text": [
            "Time taken for 1 epoch: 85.13010215759277 secs\n",
            "\n",
            "Epoch 57 TRAIN Batch 0 Loss 0.5122 Accuracy 74.5974 AUC 0.7807\n",
            "Epoch 57 TRAIN Batch 50 Loss 0.5232 Accuracy 73.6133 AUC 0.7748\n",
            "Epoch 57 TRAIN Batch 100 Loss 0.5218 Accuracy 73.7508 AUC 0.7756\n",
            "Epoch 57 TRAIN Batch 150 Loss 0.5224 Accuracy 73.7012 AUC 0.7753\n",
            "Epoch 57 TRAIN Batch 200 Loss 0.5219 Accuracy 73.7247 AUC 0.7754\n",
            "Epoch 57 TRAIN Batch 250 Loss 0.5217 Accuracy 73.7397 AUC 0.7753\n",
            "Epoch 57 TRAIN Batch 300 Loss 0.5217 Accuracy 73.7452 AUC 0.7754\n",
            "Epoch 57 TRAIN Batch 350 Loss 0.5215 Accuracy 73.7498 AUC 0.7757\n",
            "Epoch 57 TRAIN Batch 400 Loss 0.5214 Accuracy 73.7647 AUC 0.7759\n",
            "Epoch 57 TRAIN Batch 450 Loss 0.5215 Accuracy 73.7558 AUC 0.7760\n",
            "Epoch 57 TRAIN Batch 500 Loss 0.5214 Accuracy 73.7636 AUC 0.7761\n",
            "Epoch 57 TRAIN Batch 550 Loss 0.5213 Accuracy 73.7714 AUC 0.7762\n",
            "Epoch 57 TRAIN Batch 600 Loss 0.5213 Accuracy 73.7706 AUC 0.7762\n",
            "Epoch 57 TRAIN Batch 650 Loss 0.5214 Accuracy 73.7661 AUC 0.7762\n",
            "Epoch 57 TRAIN Batch 700 Loss 0.5213 Accuracy 73.7719 AUC 0.7763\n",
            "Epoch 57 TRAIN Batch 750 Loss 0.5213 Accuracy 73.7699 AUC 0.7763\n"
          ],
          "name": "stdout"
        },
        {
          "output_type": "stream",
          "text": [
            "19-12 19:25 root         INFO     Epoch TRAIN 57 Loss 0.5212 Accuracy 73.7751 AUC 0.7762\n"
          ],
          "name": "stderr"
        },
        {
          "output_type": "stream",
          "text": [
            "Time taken for 1 epoch: 84.78151059150696 secs\n",
            "\n",
            "Epoch 58 TRAIN Batch 0 Loss 0.5172 Accuracy 74.2168 AUC 0.7737\n",
            "Epoch 58 TRAIN Batch 50 Loss 0.5229 Accuracy 73.7259 AUC 0.7744\n",
            "Epoch 58 TRAIN Batch 100 Loss 0.5227 Accuracy 73.7175 AUC 0.7746\n",
            "Epoch 58 TRAIN Batch 150 Loss 0.5224 Accuracy 73.7092 AUC 0.7749\n",
            "Epoch 58 TRAIN Batch 200 Loss 0.5218 Accuracy 73.7687 AUC 0.7752\n",
            "Epoch 58 TRAIN Batch 250 Loss 0.5219 Accuracy 73.7551 AUC 0.7753\n",
            "Epoch 58 TRAIN Batch 300 Loss 0.5217 Accuracy 73.7707 AUC 0.7754\n",
            "Epoch 58 TRAIN Batch 350 Loss 0.5217 Accuracy 73.7624 AUC 0.7755\n",
            "Epoch 58 TRAIN Batch 400 Loss 0.5218 Accuracy 73.7539 AUC 0.7754\n",
            "Epoch 58 TRAIN Batch 450 Loss 0.5221 Accuracy 73.7284 AUC 0.7753\n",
            "Epoch 58 TRAIN Batch 500 Loss 0.5220 Accuracy 73.7351 AUC 0.7754\n",
            "Epoch 58 TRAIN Batch 550 Loss 0.5220 Accuracy 73.7346 AUC 0.7755\n",
            "Epoch 58 TRAIN Batch 600 Loss 0.5219 Accuracy 73.7455 AUC 0.7755\n",
            "Epoch 58 TRAIN Batch 650 Loss 0.5218 Accuracy 73.7514 AUC 0.7756\n",
            "Epoch 58 TRAIN Batch 700 Loss 0.5219 Accuracy 73.7455 AUC 0.7756\n",
            "Epoch 58 TRAIN Batch 750 Loss 0.5218 Accuracy 73.7484 AUC 0.7757\n"
          ],
          "name": "stdout"
        },
        {
          "output_type": "stream",
          "text": [
            "19-12 19:26 root         INFO     Epoch TRAIN 58 Loss 0.5218 Accuracy 73.7539 AUC 0.7757\n"
          ],
          "name": "stderr"
        },
        {
          "output_type": "stream",
          "text": [
            "Time taken for 1 epoch: 84.64114356040955 secs\n",
            "\n",
            "Epoch 59 TRAIN Batch 0 Loss 0.5280 Accuracy 73.5745 AUC 0.7693\n",
            "Epoch 59 TRAIN Batch 50 Loss 0.5231 Accuracy 73.6332 AUC 0.7748\n",
            "Epoch 59 TRAIN Batch 100 Loss 0.5218 Accuracy 73.7054 AUC 0.7760\n",
            "Epoch 59 TRAIN Batch 150 Loss 0.5218 Accuracy 73.7288 AUC 0.7763\n",
            "Epoch 59 TRAIN Batch 200 Loss 0.5219 Accuracy 73.7243 AUC 0.7761\n",
            "Epoch 59 TRAIN Batch 250 Loss 0.5214 Accuracy 73.7684 AUC 0.7763\n",
            "Epoch 59 TRAIN Batch 300 Loss 0.5213 Accuracy 73.7762 AUC 0.7762\n",
            "Epoch 59 TRAIN Batch 350 Loss 0.5214 Accuracy 73.7715 AUC 0.7762\n",
            "Epoch 59 TRAIN Batch 400 Loss 0.5214 Accuracy 73.7627 AUC 0.7760\n",
            "Epoch 59 TRAIN Batch 450 Loss 0.5214 Accuracy 73.7714 AUC 0.7761\n",
            "Epoch 59 TRAIN Batch 500 Loss 0.5214 Accuracy 73.7678 AUC 0.7761\n",
            "Epoch 59 TRAIN Batch 550 Loss 0.5213 Accuracy 73.7827 AUC 0.7762\n",
            "Epoch 59 TRAIN Batch 600 Loss 0.5213 Accuracy 73.7844 AUC 0.7762\n",
            "Epoch 59 TRAIN Batch 650 Loss 0.5212 Accuracy 73.7997 AUC 0.7763\n",
            "Epoch 59 TRAIN Batch 700 Loss 0.5210 Accuracy 73.8022 AUC 0.7763\n",
            "Epoch 59 TRAIN Batch 750 Loss 0.5209 Accuracy 73.8094 AUC 0.7764\n"
          ],
          "name": "stdout"
        },
        {
          "output_type": "stream",
          "text": [
            "19-12 19:28 root         INFO     Epoch TRAIN 59 Loss 0.5209 Accuracy 73.8117 AUC 0.7764\n"
          ],
          "name": "stderr"
        },
        {
          "output_type": "stream",
          "text": [
            "Time taken for 1 epoch: 85.66656875610352 secs\n",
            "\n",
            "Epoch 60 TRAIN Batch 0 Loss 0.5187 Accuracy 73.9734 AUC 0.7798\n",
            "Epoch 60 TRAIN Batch 50 Loss 0.5215 Accuracy 73.7048 AUC 0.7758\n",
            "Epoch 60 TRAIN Batch 100 Loss 0.5202 Accuracy 73.8389 AUC 0.7768\n",
            "Epoch 60 TRAIN Batch 150 Loss 0.5206 Accuracy 73.8092 AUC 0.7768\n",
            "Epoch 60 TRAIN Batch 200 Loss 0.5209 Accuracy 73.8013 AUC 0.7767\n",
            "Epoch 60 TRAIN Batch 250 Loss 0.5209 Accuracy 73.7927 AUC 0.7767\n",
            "Epoch 60 TRAIN Batch 300 Loss 0.5208 Accuracy 73.7956 AUC 0.7768\n",
            "Epoch 60 TRAIN Batch 350 Loss 0.5206 Accuracy 73.8102 AUC 0.7769\n",
            "Epoch 60 TRAIN Batch 400 Loss 0.5205 Accuracy 73.8203 AUC 0.7769\n",
            "Epoch 60 TRAIN Batch 450 Loss 0.5207 Accuracy 73.8170 AUC 0.7768\n",
            "Epoch 60 TRAIN Batch 500 Loss 0.5209 Accuracy 73.8050 AUC 0.7767\n",
            "Epoch 60 TRAIN Batch 550 Loss 0.5210 Accuracy 73.8061 AUC 0.7767\n",
            "Epoch 60 TRAIN Batch 600 Loss 0.5209 Accuracy 73.8055 AUC 0.7766\n",
            "Epoch 60 TRAIN Batch 650 Loss 0.5209 Accuracy 73.8094 AUC 0.7767\n",
            "Epoch 60 TRAIN Batch 700 Loss 0.5209 Accuracy 73.8091 AUC 0.7767\n",
            "Epoch 60 TRAIN Batch 750 Loss 0.5209 Accuracy 73.8070 AUC 0.7767\n"
          ],
          "name": "stdout"
        },
        {
          "output_type": "stream",
          "text": [
            "19-12 19:29 root         INFO     Epoch TRAIN 60 Loss 0.5209 Accuracy 73.8034 AUC 0.7766\n"
          ],
          "name": "stderr"
        },
        {
          "output_type": "stream",
          "text": [
            "Epoch 60 VAL Batch 0 Loss 0.5205 Accuracy 73.4631 AUC 0.7757\n",
            "Epoch 60 VAL Batch 50 Loss 0.5229 Accuracy 73.6552 AUC 0.7760\n",
            "Epoch 60 VAL Batch 100 Loss 0.5217 Accuracy 73.7645 AUC 0.7773\n",
            "Epoch 60 VAL Batch 150 Loss 0.5217 Accuracy 73.7820 AUC 0.7769\n",
            "Epoch 60 VAL Batch 200 Loss 0.5219 Accuracy 73.7521 AUC 0.7769\n",
            "Epoch 60 VAL Batch 250 Loss 0.5217 Accuracy 73.7754 AUC 0.7771\n",
            "Epoch 60 VAL Batch 300 Loss 0.5214 Accuracy 73.8059 AUC 0.7773\n",
            "Epoch 60 VAL Batch 350 Loss 0.5215 Accuracy 73.8040 AUC 0.7775\n",
            "Epoch 60 VAL Batch 400 Loss 0.5213 Accuracy 73.8181 AUC 0.7776\n",
            "Epoch 60 VAL Batch 450 Loss 0.5209 Accuracy 73.8435 AUC 0.7777\n",
            "Epoch 60 VAL Batch 500 Loss 0.5210 Accuracy 73.8330 AUC 0.7776\n",
            "Epoch 60 VAL Batch 550 Loss 0.5210 Accuracy 73.8347 AUC 0.7775\n",
            "Epoch 60 VAL Batch 600 Loss 0.5208 Accuracy 73.8509 AUC 0.7777\n",
            "Epoch 60 VAL Batch 650 Loss 0.5208 Accuracy 73.8456 AUC 0.7777\n",
            "Epoch 60 VAL Batch 700 Loss 0.5209 Accuracy 73.8476 AUC 0.7777\n",
            "Epoch 60 VAL Batch 750 Loss 0.5208 Accuracy 73.8523 AUC 0.7777\n"
          ],
          "name": "stdout"
        },
        {
          "output_type": "stream",
          "text": [
            "19-12 19:29 root         INFO     Epoch VAL 60 Loss 0.5208 Accuracy 73.8517 AUC 0.7778\n",
            "19-12 19:29 root         INFO     Saving checkpoint for epoch 60 at 19-Dec-riiid-2/checkpoints/ckpt-12\n"
          ],
          "name": "stderr"
        },
        {
          "output_type": "stream",
          "text": [
            "Time taken for 1 epoch: 102.82454586029053 secs\n",
            "\n",
            "Epoch 61 TRAIN Batch 0 Loss 0.5066 Accuracy 75.0859 AUC 0.7822\n",
            "Epoch 61 TRAIN Batch 50 Loss 0.5207 Accuracy 73.8133 AUC 0.7756\n",
            "Epoch 61 TRAIN Batch 100 Loss 0.5191 Accuracy 73.9307 AUC 0.7769\n",
            "Epoch 61 TRAIN Batch 150 Loss 0.5206 Accuracy 73.8086 AUC 0.7767\n",
            "Epoch 61 TRAIN Batch 200 Loss 0.5206 Accuracy 73.8133 AUC 0.7772\n",
            "Epoch 61 TRAIN Batch 250 Loss 0.5202 Accuracy 73.8468 AUC 0.7776\n",
            "Epoch 61 TRAIN Batch 300 Loss 0.5202 Accuracy 73.8363 AUC 0.7775\n",
            "Epoch 61 TRAIN Batch 350 Loss 0.5206 Accuracy 73.8074 AUC 0.7772\n",
            "Epoch 61 TRAIN Batch 400 Loss 0.5207 Accuracy 73.8116 AUC 0.7772\n",
            "Epoch 61 TRAIN Batch 450 Loss 0.5207 Accuracy 73.8072 AUC 0.7772\n",
            "Epoch 61 TRAIN Batch 500 Loss 0.5207 Accuracy 73.8029 AUC 0.7770\n",
            "Epoch 61 TRAIN Batch 550 Loss 0.5209 Accuracy 73.7879 AUC 0.7770\n",
            "Epoch 61 TRAIN Batch 600 Loss 0.5208 Accuracy 73.7991 AUC 0.7771\n",
            "Epoch 61 TRAIN Batch 650 Loss 0.5207 Accuracy 73.8058 AUC 0.7771\n",
            "Epoch 61 TRAIN Batch 700 Loss 0.5206 Accuracy 73.8179 AUC 0.7771\n",
            "Epoch 61 TRAIN Batch 750 Loss 0.5205 Accuracy 73.8270 AUC 0.7772\n"
          ],
          "name": "stdout"
        },
        {
          "output_type": "stream",
          "text": [
            "19-12 19:31 root         INFO     Epoch TRAIN 61 Loss 0.5205 Accuracy 73.8276 AUC 0.7772\n"
          ],
          "name": "stderr"
        },
        {
          "output_type": "stream",
          "text": [
            "Time taken for 1 epoch: 83.85055494308472 secs\n",
            "\n",
            "Epoch 62 TRAIN Batch 0 Loss 0.5185 Accuracy 73.7557 AUC 0.7816\n",
            "Epoch 62 TRAIN Batch 50 Loss 0.5198 Accuracy 73.8983 AUC 0.7772\n",
            "Epoch 62 TRAIN Batch 100 Loss 0.5201 Accuracy 73.8628 AUC 0.7770\n",
            "Epoch 62 TRAIN Batch 150 Loss 0.5200 Accuracy 73.8655 AUC 0.7772\n",
            "Epoch 62 TRAIN Batch 200 Loss 0.5200 Accuracy 73.8680 AUC 0.7771\n",
            "Epoch 62 TRAIN Batch 250 Loss 0.5200 Accuracy 73.8695 AUC 0.7772\n",
            "Epoch 62 TRAIN Batch 300 Loss 0.5202 Accuracy 73.8596 AUC 0.7771\n",
            "Epoch 62 TRAIN Batch 350 Loss 0.5201 Accuracy 73.8675 AUC 0.7773\n",
            "Epoch 62 TRAIN Batch 400 Loss 0.5200 Accuracy 73.8771 AUC 0.7772\n",
            "Epoch 62 TRAIN Batch 450 Loss 0.5199 Accuracy 73.8796 AUC 0.7773\n",
            "Epoch 62 TRAIN Batch 500 Loss 0.5199 Accuracy 73.8779 AUC 0.7774\n",
            "Epoch 62 TRAIN Batch 550 Loss 0.5199 Accuracy 73.8822 AUC 0.7774\n",
            "Epoch 62 TRAIN Batch 600 Loss 0.5200 Accuracy 73.8734 AUC 0.7775\n",
            "Epoch 62 TRAIN Batch 650 Loss 0.5200 Accuracy 73.8760 AUC 0.7773\n",
            "Epoch 62 TRAIN Batch 700 Loss 0.5199 Accuracy 73.8765 AUC 0.7773\n",
            "Epoch 62 TRAIN Batch 750 Loss 0.5200 Accuracy 73.8658 AUC 0.7773\n"
          ],
          "name": "stdout"
        },
        {
          "output_type": "stream",
          "text": [
            "19-12 19:32 root         INFO     Epoch TRAIN 62 Loss 0.5202 Accuracy 73.8563 AUC 0.7772\n"
          ],
          "name": "stderr"
        },
        {
          "output_type": "stream",
          "text": [
            "Time taken for 1 epoch: 85.30221056938171 secs\n",
            "\n",
            "Epoch 63 TRAIN Batch 0 Loss 0.5114 Accuracy 74.7841 AUC 0.7888\n",
            "Epoch 63 TRAIN Batch 50 Loss 0.5209 Accuracy 73.7748 AUC 0.7776\n",
            "Epoch 63 TRAIN Batch 100 Loss 0.5198 Accuracy 73.8922 AUC 0.7781\n",
            "Epoch 63 TRAIN Batch 150 Loss 0.5201 Accuracy 73.8684 AUC 0.7780\n",
            "Epoch 63 TRAIN Batch 200 Loss 0.5197 Accuracy 73.8873 AUC 0.7781\n",
            "Epoch 63 TRAIN Batch 250 Loss 0.5197 Accuracy 73.8827 AUC 0.7782\n",
            "Epoch 63 TRAIN Batch 300 Loss 0.5198 Accuracy 73.8820 AUC 0.7781\n",
            "Epoch 63 TRAIN Batch 350 Loss 0.5197 Accuracy 73.8894 AUC 0.7782\n",
            "Epoch 63 TRAIN Batch 400 Loss 0.5196 Accuracy 73.8956 AUC 0.7781\n",
            "Epoch 63 TRAIN Batch 450 Loss 0.5196 Accuracy 73.9005 AUC 0.7782\n",
            "Epoch 63 TRAIN Batch 500 Loss 0.5194 Accuracy 73.9048 AUC 0.7783\n",
            "Epoch 63 TRAIN Batch 550 Loss 0.5195 Accuracy 73.9011 AUC 0.7782\n",
            "Epoch 63 TRAIN Batch 600 Loss 0.5196 Accuracy 73.8978 AUC 0.7781\n",
            "Epoch 63 TRAIN Batch 650 Loss 0.5196 Accuracy 73.8946 AUC 0.7781\n",
            "Epoch 63 TRAIN Batch 700 Loss 0.5195 Accuracy 73.8998 AUC 0.7781\n",
            "Epoch 63 TRAIN Batch 750 Loss 0.5194 Accuracy 73.9046 AUC 0.7781\n"
          ],
          "name": "stdout"
        },
        {
          "output_type": "stream",
          "text": [
            "19-12 19:33 root         INFO     Epoch TRAIN 63 Loss 0.5194 Accuracy 73.9038 AUC 0.7781\n"
          ],
          "name": "stderr"
        },
        {
          "output_type": "stream",
          "text": [
            "Time taken for 1 epoch: 84.33439373970032 secs\n",
            "\n",
            "Epoch 64 TRAIN Batch 0 Loss 0.5335 Accuracy 72.3869 AUC 0.7709\n",
            "Epoch 64 TRAIN Batch 50 Loss 0.5192 Accuracy 73.8993 AUC 0.7773\n",
            "Epoch 64 TRAIN Batch 100 Loss 0.5190 Accuracy 73.9034 AUC 0.7775\n",
            "Epoch 64 TRAIN Batch 150 Loss 0.5193 Accuracy 73.9042 AUC 0.7776\n",
            "Epoch 64 TRAIN Batch 200 Loss 0.5197 Accuracy 73.8984 AUC 0.7776\n",
            "Epoch 64 TRAIN Batch 250 Loss 0.5195 Accuracy 73.9062 AUC 0.7777\n",
            "Epoch 64 TRAIN Batch 300 Loss 0.5193 Accuracy 73.9236 AUC 0.7778\n",
            "Epoch 64 TRAIN Batch 350 Loss 0.5192 Accuracy 73.9151 AUC 0.7779\n",
            "Epoch 64 TRAIN Batch 400 Loss 0.5194 Accuracy 73.9121 AUC 0.7779\n",
            "Epoch 64 TRAIN Batch 450 Loss 0.5195 Accuracy 73.9035 AUC 0.7778\n",
            "Epoch 64 TRAIN Batch 500 Loss 0.5197 Accuracy 73.8846 AUC 0.7777\n",
            "Epoch 64 TRAIN Batch 550 Loss 0.5198 Accuracy 73.8824 AUC 0.7777\n",
            "Epoch 64 TRAIN Batch 600 Loss 0.5197 Accuracy 73.8843 AUC 0.7778\n",
            "Epoch 64 TRAIN Batch 650 Loss 0.5196 Accuracy 73.8930 AUC 0.7778\n",
            "Epoch 64 TRAIN Batch 700 Loss 0.5196 Accuracy 73.8909 AUC 0.7778\n",
            "Epoch 64 TRAIN Batch 750 Loss 0.5196 Accuracy 73.8874 AUC 0.7779\n"
          ],
          "name": "stdout"
        },
        {
          "output_type": "stream",
          "text": [
            "19-12 19:35 root         INFO     Epoch TRAIN 64 Loss 0.5195 Accuracy 73.9000 AUC 0.7779\n"
          ],
          "name": "stderr"
        },
        {
          "output_type": "stream",
          "text": [
            "Time taken for 1 epoch: 83.85326170921326 secs\n",
            "\n",
            "Epoch 65 TRAIN Batch 0 Loss 0.5186 Accuracy 74.2380 AUC 0.7790\n",
            "Epoch 65 TRAIN Batch 50 Loss 0.5186 Accuracy 73.9546 AUC 0.7781\n",
            "Epoch 65 TRAIN Batch 100 Loss 0.5186 Accuracy 73.9325 AUC 0.7780\n",
            "Epoch 65 TRAIN Batch 150 Loss 0.5193 Accuracy 73.8915 AUC 0.7777\n",
            "Epoch 65 TRAIN Batch 200 Loss 0.5197 Accuracy 73.8542 AUC 0.7775\n",
            "Epoch 65 TRAIN Batch 250 Loss 0.5198 Accuracy 73.8564 AUC 0.7775\n",
            "Epoch 65 TRAIN Batch 300 Loss 0.5200 Accuracy 73.8499 AUC 0.7773\n",
            "Epoch 65 TRAIN Batch 350 Loss 0.5200 Accuracy 73.8592 AUC 0.7774\n",
            "Epoch 65 TRAIN Batch 400 Loss 0.5199 Accuracy 73.8697 AUC 0.7776\n",
            "Epoch 65 TRAIN Batch 450 Loss 0.5198 Accuracy 73.8820 AUC 0.7777\n",
            "Epoch 65 TRAIN Batch 500 Loss 0.5197 Accuracy 73.8843 AUC 0.7778\n",
            "Epoch 65 TRAIN Batch 550 Loss 0.5197 Accuracy 73.8805 AUC 0.7777\n",
            "Epoch 65 TRAIN Batch 600 Loss 0.5198 Accuracy 73.8745 AUC 0.7777\n",
            "Epoch 65 TRAIN Batch 650 Loss 0.5198 Accuracy 73.8774 AUC 0.7777\n",
            "Epoch 65 TRAIN Batch 700 Loss 0.5197 Accuracy 73.8886 AUC 0.7779\n",
            "Epoch 65 TRAIN Batch 750 Loss 0.5197 Accuracy 73.8863 AUC 0.7779\n"
          ],
          "name": "stdout"
        },
        {
          "output_type": "stream",
          "text": [
            "19-12 19:36 root         INFO     Epoch TRAIN 65 Loss 0.5197 Accuracy 73.8925 AUC 0.7779\n"
          ],
          "name": "stderr"
        },
        {
          "output_type": "stream",
          "text": [
            "Epoch 65 VAL Batch 0 Loss 0.5197 Accuracy 73.6056 AUC 0.7768\n",
            "Epoch 65 VAL Batch 50 Loss 0.5217 Accuracy 73.7013 AUC 0.7771\n",
            "Epoch 65 VAL Batch 100 Loss 0.5206 Accuracy 73.8055 AUC 0.7782\n",
            "Epoch 65 VAL Batch 150 Loss 0.5206 Accuracy 73.8039 AUC 0.7779\n",
            "Epoch 65 VAL Batch 200 Loss 0.5208 Accuracy 73.7687 AUC 0.7779\n",
            "Epoch 65 VAL Batch 250 Loss 0.5206 Accuracy 73.8014 AUC 0.7782\n",
            "Epoch 65 VAL Batch 300 Loss 0.5203 Accuracy 73.8325 AUC 0.7783\n",
            "Epoch 65 VAL Batch 350 Loss 0.5203 Accuracy 73.8267 AUC 0.7785\n",
            "Epoch 65 VAL Batch 400 Loss 0.5201 Accuracy 73.8421 AUC 0.7786\n",
            "Epoch 65 VAL Batch 450 Loss 0.5198 Accuracy 73.8674 AUC 0.7787\n",
            "Epoch 65 VAL Batch 500 Loss 0.5199 Accuracy 73.8606 AUC 0.7786\n",
            "Epoch 65 VAL Batch 550 Loss 0.5199 Accuracy 73.8637 AUC 0.7785\n",
            "Epoch 65 VAL Batch 600 Loss 0.5197 Accuracy 73.8843 AUC 0.7787\n",
            "Epoch 65 VAL Batch 650 Loss 0.5197 Accuracy 73.8808 AUC 0.7787\n",
            "Epoch 65 VAL Batch 700 Loss 0.5197 Accuracy 73.8847 AUC 0.7787\n",
            "Epoch 65 VAL Batch 750 Loss 0.5196 Accuracy 73.8879 AUC 0.7787\n"
          ],
          "name": "stdout"
        },
        {
          "output_type": "stream",
          "text": [
            "19-12 19:37 root         INFO     Epoch VAL 65 Loss 0.5196 Accuracy 73.8876 AUC 0.7788\n",
            "19-12 19:37 root         INFO     Saving checkpoint for epoch 65 at 19-Dec-riiid-2/checkpoints/ckpt-13\n"
          ],
          "name": "stderr"
        },
        {
          "output_type": "stream",
          "text": [
            "Time taken for 1 epoch: 103.23243737220764 secs\n",
            "\n",
            "Epoch 66 TRAIN Batch 0 Loss 0.5244 Accuracy 74.0281 AUC 0.7792\n",
            "Epoch 66 TRAIN Batch 50 Loss 0.5181 Accuracy 73.9994 AUC 0.7787\n",
            "Epoch 66 TRAIN Batch 100 Loss 0.5190 Accuracy 73.9277 AUC 0.7779\n",
            "Epoch 66 TRAIN Batch 150 Loss 0.5194 Accuracy 73.8741 AUC 0.7781\n",
            "Epoch 66 TRAIN Batch 200 Loss 0.5191 Accuracy 73.9037 AUC 0.7784\n",
            "Epoch 66 TRAIN Batch 250 Loss 0.5187 Accuracy 73.9269 AUC 0.7789\n",
            "Epoch 66 TRAIN Batch 300 Loss 0.5190 Accuracy 73.9046 AUC 0.7786\n",
            "Epoch 66 TRAIN Batch 350 Loss 0.5189 Accuracy 73.9133 AUC 0.7788\n",
            "Epoch 66 TRAIN Batch 400 Loss 0.5188 Accuracy 73.9228 AUC 0.7789\n",
            "Epoch 66 TRAIN Batch 450 Loss 0.5189 Accuracy 73.9231 AUC 0.7787\n",
            "Epoch 66 TRAIN Batch 500 Loss 0.5190 Accuracy 73.9240 AUC 0.7787\n",
            "Epoch 66 TRAIN Batch 550 Loss 0.5189 Accuracy 73.9305 AUC 0.7787\n",
            "Epoch 66 TRAIN Batch 600 Loss 0.5190 Accuracy 73.9278 AUC 0.7787\n",
            "Epoch 66 TRAIN Batch 650 Loss 0.5190 Accuracy 73.9215 AUC 0.7786\n",
            "Epoch 66 TRAIN Batch 700 Loss 0.5190 Accuracy 73.9239 AUC 0.7785\n",
            "Epoch 66 TRAIN Batch 750 Loss 0.5190 Accuracy 73.9232 AUC 0.7785\n"
          ],
          "name": "stdout"
        },
        {
          "output_type": "stream",
          "text": [
            "19-12 19:38 root         INFO     Epoch TRAIN 66 Loss 0.5190 Accuracy 73.9236 AUC 0.7785\n"
          ],
          "name": "stderr"
        },
        {
          "output_type": "stream",
          "text": [
            "Time taken for 1 epoch: 88.46351885795593 secs\n",
            "\n",
            "Epoch 67 TRAIN Batch 0 Loss 0.5227 Accuracy 73.4566 AUC 0.7775\n",
            "Epoch 67 TRAIN Batch 50 Loss 0.5215 Accuracy 73.7693 AUC 0.7773\n",
            "Epoch 67 TRAIN Batch 100 Loss 0.5197 Accuracy 73.9095 AUC 0.7782\n",
            "Epoch 67 TRAIN Batch 150 Loss 0.5198 Accuracy 73.8766 AUC 0.7781\n",
            "Epoch 67 TRAIN Batch 200 Loss 0.5194 Accuracy 73.9033 AUC 0.7784\n",
            "Epoch 67 TRAIN Batch 250 Loss 0.5194 Accuracy 73.8991 AUC 0.7785\n",
            "Epoch 67 TRAIN Batch 300 Loss 0.5194 Accuracy 73.8939 AUC 0.7785\n",
            "Epoch 67 TRAIN Batch 350 Loss 0.5194 Accuracy 73.8897 AUC 0.7785\n",
            "Epoch 67 TRAIN Batch 400 Loss 0.5194 Accuracy 73.8916 AUC 0.7786\n",
            "Epoch 67 TRAIN Batch 450 Loss 0.5192 Accuracy 73.9067 AUC 0.7787\n",
            "Epoch 67 TRAIN Batch 500 Loss 0.5190 Accuracy 73.9148 AUC 0.7788\n",
            "Epoch 67 TRAIN Batch 550 Loss 0.5189 Accuracy 73.9158 AUC 0.7788\n",
            "Epoch 67 TRAIN Batch 600 Loss 0.5188 Accuracy 73.9271 AUC 0.7789\n",
            "Epoch 67 TRAIN Batch 650 Loss 0.5187 Accuracy 73.9357 AUC 0.7789\n",
            "Epoch 67 TRAIN Batch 700 Loss 0.5187 Accuracy 73.9337 AUC 0.7789\n",
            "Epoch 67 TRAIN Batch 750 Loss 0.5186 Accuracy 73.9417 AUC 0.7790\n"
          ],
          "name": "stdout"
        },
        {
          "output_type": "stream",
          "text": [
            "19-12 19:40 root         INFO     Epoch TRAIN 67 Loss 0.5187 Accuracy 73.9399 AUC 0.7790\n"
          ],
          "name": "stderr"
        },
        {
          "output_type": "stream",
          "text": [
            "Time taken for 1 epoch: 87.46979641914368 secs\n",
            "\n",
            "Epoch 68 TRAIN Batch 0 Loss 0.5141 Accuracy 73.9692 AUC 0.7762\n",
            "Epoch 68 TRAIN Batch 50 Loss 0.5194 Accuracy 73.9368 AUC 0.7777\n",
            "Epoch 68 TRAIN Batch 100 Loss 0.5193 Accuracy 73.9103 AUC 0.7777\n",
            "Epoch 68 TRAIN Batch 150 Loss 0.5195 Accuracy 73.8876 AUC 0.7781\n",
            "Epoch 68 TRAIN Batch 200 Loss 0.5193 Accuracy 73.9104 AUC 0.7782\n",
            "Epoch 68 TRAIN Batch 250 Loss 0.5192 Accuracy 73.9176 AUC 0.7784\n",
            "Epoch 68 TRAIN Batch 300 Loss 0.5190 Accuracy 73.9405 AUC 0.7783\n",
            "Epoch 68 TRAIN Batch 350 Loss 0.5191 Accuracy 73.9377 AUC 0.7784\n",
            "Epoch 68 TRAIN Batch 400 Loss 0.5191 Accuracy 73.9346 AUC 0.7784\n",
            "Epoch 68 TRAIN Batch 450 Loss 0.5190 Accuracy 73.9446 AUC 0.7785\n",
            "Epoch 68 TRAIN Batch 500 Loss 0.5189 Accuracy 73.9493 AUC 0.7786\n",
            "Epoch 68 TRAIN Batch 550 Loss 0.5190 Accuracy 73.9373 AUC 0.7785\n",
            "Epoch 68 TRAIN Batch 600 Loss 0.5189 Accuracy 73.9398 AUC 0.7786\n",
            "Epoch 68 TRAIN Batch 650 Loss 0.5189 Accuracy 73.9360 AUC 0.7786\n",
            "Epoch 68 TRAIN Batch 700 Loss 0.5190 Accuracy 73.9354 AUC 0.7785\n",
            "Epoch 68 TRAIN Batch 750 Loss 0.5189 Accuracy 73.9383 AUC 0.7786\n"
          ],
          "name": "stdout"
        },
        {
          "output_type": "stream",
          "text": [
            "19-12 19:41 root         INFO     Epoch TRAIN 68 Loss 0.5188 Accuracy 73.9436 AUC 0.7787\n"
          ],
          "name": "stderr"
        },
        {
          "output_type": "stream",
          "text": [
            "Time taken for 1 epoch: 85.1395788192749 secs\n",
            "\n",
            "Epoch 69 TRAIN Batch 0 Loss 0.5220 Accuracy 73.7493 AUC 0.7734\n",
            "Epoch 69 TRAIN Batch 50 Loss 0.5194 Accuracy 73.9431 AUC 0.7783\n",
            "Epoch 69 TRAIN Batch 100 Loss 0.5192 Accuracy 73.9504 AUC 0.7785\n",
            "Epoch 69 TRAIN Batch 150 Loss 0.5185 Accuracy 73.9865 AUC 0.7794\n",
            "Epoch 69 TRAIN Batch 200 Loss 0.5186 Accuracy 73.9665 AUC 0.7794\n",
            "Epoch 69 TRAIN Batch 250 Loss 0.5185 Accuracy 73.9620 AUC 0.7793\n",
            "Epoch 69 TRAIN Batch 300 Loss 0.5185 Accuracy 73.9544 AUC 0.7793\n",
            "Epoch 69 TRAIN Batch 350 Loss 0.5183 Accuracy 73.9593 AUC 0.7794\n",
            "Epoch 69 TRAIN Batch 400 Loss 0.5185 Accuracy 73.9453 AUC 0.7793\n",
            "Epoch 69 TRAIN Batch 450 Loss 0.5184 Accuracy 73.9566 AUC 0.7794\n",
            "Epoch 69 TRAIN Batch 500 Loss 0.5183 Accuracy 73.9673 AUC 0.7793\n",
            "Epoch 69 TRAIN Batch 550 Loss 0.5182 Accuracy 73.9843 AUC 0.7793\n",
            "Epoch 69 TRAIN Batch 600 Loss 0.5183 Accuracy 73.9768 AUC 0.7793\n",
            "Epoch 69 TRAIN Batch 650 Loss 0.5182 Accuracy 73.9803 AUC 0.7794\n",
            "Epoch 69 TRAIN Batch 700 Loss 0.5182 Accuracy 73.9779 AUC 0.7794\n",
            "Epoch 69 TRAIN Batch 750 Loss 0.5180 Accuracy 73.9956 AUC 0.7795\n"
          ],
          "name": "stdout"
        },
        {
          "output_type": "stream",
          "text": [
            "19-12 19:42 root         INFO     Epoch TRAIN 69 Loss 0.5180 Accuracy 73.9940 AUC 0.7794\n"
          ],
          "name": "stderr"
        },
        {
          "output_type": "stream",
          "text": [
            "Time taken for 1 epoch: 87.1222882270813 secs\n",
            "\n",
            "Epoch 70 TRAIN Batch 0 Loss 0.5135 Accuracy 74.0756 AUC 0.7852\n",
            "Epoch 70 TRAIN Batch 50 Loss 0.5187 Accuracy 73.9045 AUC 0.7799\n",
            "Epoch 70 TRAIN Batch 100 Loss 0.5194 Accuracy 73.8782 AUC 0.7790\n",
            "Epoch 70 TRAIN Batch 150 Loss 0.5192 Accuracy 73.8992 AUC 0.7795\n",
            "Epoch 70 TRAIN Batch 200 Loss 0.5188 Accuracy 73.9210 AUC 0.7794\n",
            "Epoch 70 TRAIN Batch 250 Loss 0.5193 Accuracy 73.8834 AUC 0.7790\n",
            "Epoch 70 TRAIN Batch 300 Loss 0.5191 Accuracy 73.8946 AUC 0.7790\n",
            "Epoch 70 TRAIN Batch 350 Loss 0.5193 Accuracy 73.8850 AUC 0.7787\n",
            "Epoch 70 TRAIN Batch 400 Loss 0.5192 Accuracy 73.8892 AUC 0.7787\n",
            "Epoch 70 TRAIN Batch 450 Loss 0.5191 Accuracy 73.8932 AUC 0.7788\n",
            "Epoch 70 TRAIN Batch 500 Loss 0.5189 Accuracy 73.9016 AUC 0.7788\n",
            "Epoch 70 TRAIN Batch 550 Loss 0.5190 Accuracy 73.8996 AUC 0.7788\n",
            "Epoch 70 TRAIN Batch 600 Loss 0.5190 Accuracy 73.8982 AUC 0.7789\n",
            "Epoch 70 TRAIN Batch 650 Loss 0.5189 Accuracy 73.9062 AUC 0.7789\n",
            "Epoch 70 TRAIN Batch 700 Loss 0.5191 Accuracy 73.8970 AUC 0.7788\n",
            "Epoch 70 TRAIN Batch 750 Loss 0.5190 Accuracy 73.8952 AUC 0.7788\n"
          ],
          "name": "stdout"
        },
        {
          "output_type": "stream",
          "text": [
            "19-12 19:44 root         INFO     Epoch TRAIN 70 Loss 0.5189 Accuracy 73.9049 AUC 0.7789\n"
          ],
          "name": "stderr"
        },
        {
          "output_type": "stream",
          "text": [
            "Epoch 70 VAL Batch 0 Loss 0.5188 Accuracy 73.7818 AUC 0.7778\n",
            "Epoch 70 VAL Batch 50 Loss 0.5209 Accuracy 73.7760 AUC 0.7783\n",
            "Epoch 70 VAL Batch 100 Loss 0.5198 Accuracy 73.8833 AUC 0.7794\n",
            "Epoch 70 VAL Batch 150 Loss 0.5197 Accuracy 73.8876 AUC 0.7791\n",
            "Epoch 70 VAL Batch 200 Loss 0.5200 Accuracy 73.8635 AUC 0.7792\n",
            "Epoch 70 VAL Batch 250 Loss 0.5197 Accuracy 73.8913 AUC 0.7794\n",
            "Epoch 70 VAL Batch 300 Loss 0.5194 Accuracy 73.9230 AUC 0.7796\n",
            "Epoch 70 VAL Batch 350 Loss 0.5195 Accuracy 73.9194 AUC 0.7797\n",
            "Epoch 70 VAL Batch 400 Loss 0.5193 Accuracy 73.9301 AUC 0.7798\n",
            "Epoch 70 VAL Batch 450 Loss 0.5190 Accuracy 73.9535 AUC 0.7799\n",
            "Epoch 70 VAL Batch 500 Loss 0.5190 Accuracy 73.9472 AUC 0.7798\n",
            "Epoch 70 VAL Batch 550 Loss 0.5190 Accuracy 73.9479 AUC 0.7797\n",
            "Epoch 70 VAL Batch 600 Loss 0.5188 Accuracy 73.9664 AUC 0.7799\n",
            "Epoch 70 VAL Batch 650 Loss 0.5189 Accuracy 73.9650 AUC 0.7799\n",
            "Epoch 70 VAL Batch 700 Loss 0.5189 Accuracy 73.9670 AUC 0.7799\n",
            "Epoch 70 VAL Batch 750 Loss 0.5188 Accuracy 73.9709 AUC 0.7799\n"
          ],
          "name": "stdout"
        },
        {
          "output_type": "stream",
          "text": [
            "19-12 19:44 root         INFO     Epoch VAL 70 Loss 0.5188 Accuracy 73.9721 AUC 0.7800\n",
            "19-12 19:44 root         INFO     Saving checkpoint for epoch 70 at 19-Dec-riiid-2/checkpoints/ckpt-14\n"
          ],
          "name": "stderr"
        },
        {
          "output_type": "stream",
          "text": [
            "Time taken for 1 epoch: 106.9982545375824 secs\n",
            "\n",
            "Epoch 71 TRAIN Batch 0 Loss 0.5134 Accuracy 74.5156 AUC 0.7834\n",
            "Epoch 71 TRAIN Batch 50 Loss 0.5178 Accuracy 74.0340 AUC 0.7799\n",
            "Epoch 71 TRAIN Batch 100 Loss 0.5178 Accuracy 74.0128 AUC 0.7805\n",
            "Epoch 71 TRAIN Batch 150 Loss 0.5186 Accuracy 73.9524 AUC 0.7798\n",
            "Epoch 71 TRAIN Batch 200 Loss 0.5187 Accuracy 73.9406 AUC 0.7794\n",
            "Epoch 71 TRAIN Batch 250 Loss 0.5183 Accuracy 73.9626 AUC 0.7798\n",
            "Epoch 71 TRAIN Batch 300 Loss 0.5183 Accuracy 73.9575 AUC 0.7799\n",
            "Epoch 71 TRAIN Batch 350 Loss 0.5184 Accuracy 73.9513 AUC 0.7798\n",
            "Epoch 71 TRAIN Batch 400 Loss 0.5186 Accuracy 73.9334 AUC 0.7795\n",
            "Epoch 71 TRAIN Batch 450 Loss 0.5184 Accuracy 73.9478 AUC 0.7794\n",
            "Epoch 71 TRAIN Batch 500 Loss 0.5185 Accuracy 73.9406 AUC 0.7794\n",
            "Epoch 71 TRAIN Batch 550 Loss 0.5185 Accuracy 73.9450 AUC 0.7793\n",
            "Epoch 71 TRAIN Batch 600 Loss 0.5184 Accuracy 73.9477 AUC 0.7794\n",
            "Epoch 71 TRAIN Batch 650 Loss 0.5182 Accuracy 73.9556 AUC 0.7795\n",
            "Epoch 71 TRAIN Batch 700 Loss 0.5182 Accuracy 73.9552 AUC 0.7796\n",
            "Epoch 71 TRAIN Batch 750 Loss 0.5182 Accuracy 73.9519 AUC 0.7795\n"
          ],
          "name": "stdout"
        },
        {
          "output_type": "stream",
          "text": [
            "19-12 19:46 root         INFO     Epoch TRAIN 71 Loss 0.5181 Accuracy 73.9572 AUC 0.7795\n"
          ],
          "name": "stderr"
        },
        {
          "output_type": "stream",
          "text": [
            "Time taken for 1 epoch: 88.56453108787537 secs\n",
            "\n",
            "Epoch 72 TRAIN Batch 0 Loss 0.5115 Accuracy 74.2927 AUC 0.7830\n",
            "Epoch 72 TRAIN Batch 50 Loss 0.5178 Accuracy 74.0190 AUC 0.7794\n",
            "Epoch 72 TRAIN Batch 100 Loss 0.5183 Accuracy 73.9929 AUC 0.7790\n",
            "Epoch 72 TRAIN Batch 150 Loss 0.5180 Accuracy 74.0208 AUC 0.7790\n",
            "Epoch 72 TRAIN Batch 200 Loss 0.5183 Accuracy 73.9993 AUC 0.7789\n",
            "Epoch 72 TRAIN Batch 250 Loss 0.5183 Accuracy 73.9875 AUC 0.7792\n",
            "Epoch 72 TRAIN Batch 300 Loss 0.5185 Accuracy 73.9713 AUC 0.7793\n",
            "Epoch 72 TRAIN Batch 350 Loss 0.5186 Accuracy 73.9525 AUC 0.7793\n",
            "Epoch 72 TRAIN Batch 400 Loss 0.5187 Accuracy 73.9498 AUC 0.7793\n",
            "Epoch 72 TRAIN Batch 450 Loss 0.5186 Accuracy 73.9501 AUC 0.7794\n",
            "Epoch 72 TRAIN Batch 500 Loss 0.5186 Accuracy 73.9502 AUC 0.7794\n",
            "Epoch 72 TRAIN Batch 550 Loss 0.5188 Accuracy 73.9308 AUC 0.7793\n",
            "Epoch 72 TRAIN Batch 600 Loss 0.5187 Accuracy 73.9324 AUC 0.7792\n",
            "Epoch 72 TRAIN Batch 650 Loss 0.5188 Accuracy 73.9253 AUC 0.7791\n",
            "Epoch 72 TRAIN Batch 700 Loss 0.5189 Accuracy 73.9200 AUC 0.7791\n",
            "Epoch 72 TRAIN Batch 750 Loss 0.5187 Accuracy 73.9277 AUC 0.7792\n"
          ],
          "name": "stdout"
        },
        {
          "output_type": "stream",
          "text": [
            "19-12 19:47 root         INFO     Epoch TRAIN 72 Loss 0.5187 Accuracy 73.9269 AUC 0.7792\n"
          ],
          "name": "stderr"
        },
        {
          "output_type": "stream",
          "text": [
            "Time taken for 1 epoch: 87.85631084442139 secs\n",
            "\n",
            "Epoch 73 TRAIN Batch 0 Loss 0.5134 Accuracy 74.4558 AUC 0.7787\n",
            "Epoch 73 TRAIN Batch 50 Loss 0.5176 Accuracy 73.9782 AUC 0.7811\n",
            "Epoch 73 TRAIN Batch 100 Loss 0.5180 Accuracy 73.9512 AUC 0.7803\n",
            "Epoch 73 TRAIN Batch 150 Loss 0.5181 Accuracy 73.9533 AUC 0.7800\n",
            "Epoch 73 TRAIN Batch 200 Loss 0.5179 Accuracy 73.9773 AUC 0.7804\n",
            "Epoch 73 TRAIN Batch 250 Loss 0.5175 Accuracy 74.0113 AUC 0.7807\n",
            "Epoch 73 TRAIN Batch 300 Loss 0.5174 Accuracy 74.0208 AUC 0.7807\n",
            "Epoch 73 TRAIN Batch 350 Loss 0.5179 Accuracy 73.9849 AUC 0.7803\n",
            "Epoch 73 TRAIN Batch 400 Loss 0.5178 Accuracy 73.9872 AUC 0.7803\n",
            "Epoch 73 TRAIN Batch 450 Loss 0.5178 Accuracy 73.9773 AUC 0.7802\n",
            "Epoch 73 TRAIN Batch 500 Loss 0.5178 Accuracy 73.9830 AUC 0.7802\n",
            "Epoch 73 TRAIN Batch 550 Loss 0.5178 Accuracy 73.9850 AUC 0.7803\n",
            "Epoch 73 TRAIN Batch 600 Loss 0.5178 Accuracy 73.9855 AUC 0.7802\n",
            "Epoch 73 TRAIN Batch 650 Loss 0.5178 Accuracy 73.9861 AUC 0.7803\n",
            "Epoch 73 TRAIN Batch 700 Loss 0.5178 Accuracy 73.9834 AUC 0.7802\n",
            "Epoch 73 TRAIN Batch 750 Loss 0.5178 Accuracy 73.9834 AUC 0.7802\n"
          ],
          "name": "stdout"
        },
        {
          "output_type": "stream",
          "text": [
            "19-12 19:49 root         INFO     Epoch TRAIN 73 Loss 0.5178 Accuracy 73.9824 AUC 0.7801\n"
          ],
          "name": "stderr"
        },
        {
          "output_type": "stream",
          "text": [
            "Time taken for 1 epoch: 86.60041999816895 secs\n",
            "\n",
            "Epoch 74 TRAIN Batch 0 Loss 0.5140 Accuracy 74.1592 AUC 0.7784\n",
            "Epoch 74 TRAIN Batch 50 Loss 0.5184 Accuracy 73.8932 AUC 0.7802\n",
            "Epoch 74 TRAIN Batch 100 Loss 0.5181 Accuracy 73.9338 AUC 0.7803\n",
            "Epoch 74 TRAIN Batch 150 Loss 0.5173 Accuracy 74.0197 AUC 0.7806\n",
            "Epoch 74 TRAIN Batch 200 Loss 0.5178 Accuracy 73.9758 AUC 0.7808\n",
            "Epoch 74 TRAIN Batch 250 Loss 0.5179 Accuracy 73.9677 AUC 0.7805\n",
            "Epoch 74 TRAIN Batch 300 Loss 0.5179 Accuracy 73.9651 AUC 0.7804\n",
            "Epoch 74 TRAIN Batch 350 Loss 0.5178 Accuracy 73.9812 AUC 0.7805\n",
            "Epoch 74 TRAIN Batch 400 Loss 0.5179 Accuracy 73.9769 AUC 0.7805\n",
            "Epoch 74 TRAIN Batch 450 Loss 0.5175 Accuracy 74.0022 AUC 0.7806\n",
            "Epoch 74 TRAIN Batch 500 Loss 0.5173 Accuracy 74.0201 AUC 0.7805\n",
            "Epoch 74 TRAIN Batch 550 Loss 0.5173 Accuracy 74.0192 AUC 0.7805\n",
            "Epoch 74 TRAIN Batch 600 Loss 0.5173 Accuracy 74.0195 AUC 0.7805\n",
            "Epoch 74 TRAIN Batch 650 Loss 0.5174 Accuracy 74.0125 AUC 0.7804\n",
            "Epoch 74 TRAIN Batch 700 Loss 0.5175 Accuracy 74.0007 AUC 0.7803\n",
            "Epoch 74 TRAIN Batch 750 Loss 0.5176 Accuracy 73.9996 AUC 0.7803\n"
          ],
          "name": "stdout"
        },
        {
          "output_type": "stream",
          "text": [
            "19-12 19:50 root         INFO     Epoch TRAIN 74 Loss 0.5176 Accuracy 73.9998 AUC 0.7803\n"
          ],
          "name": "stderr"
        },
        {
          "output_type": "stream",
          "text": [
            "Time taken for 1 epoch: 87.14634990692139 secs\n",
            "\n",
            "Epoch 75 TRAIN Batch 0 Loss 0.5265 Accuracy 73.5365 AUC 0.7713\n",
            "Epoch 75 TRAIN Batch 50 Loss 0.5185 Accuracy 73.9425 AUC 0.7792\n",
            "Epoch 75 TRAIN Batch 100 Loss 0.5177 Accuracy 73.9985 AUC 0.7798\n",
            "Epoch 75 TRAIN Batch 150 Loss 0.5177 Accuracy 73.9997 AUC 0.7797\n",
            "Epoch 75 TRAIN Batch 200 Loss 0.5170 Accuracy 74.0495 AUC 0.7805\n",
            "Epoch 75 TRAIN Batch 250 Loss 0.5173 Accuracy 74.0273 AUC 0.7802\n",
            "Epoch 75 TRAIN Batch 300 Loss 0.5173 Accuracy 74.0256 AUC 0.7801\n",
            "Epoch 75 TRAIN Batch 350 Loss 0.5172 Accuracy 74.0371 AUC 0.7802\n",
            "Epoch 75 TRAIN Batch 400 Loss 0.5176 Accuracy 73.9978 AUC 0.7800\n",
            "Epoch 75 TRAIN Batch 450 Loss 0.5178 Accuracy 73.9827 AUC 0.7800\n",
            "Epoch 75 TRAIN Batch 500 Loss 0.5179 Accuracy 73.9770 AUC 0.7799\n",
            "Epoch 75 TRAIN Batch 550 Loss 0.5178 Accuracy 73.9848 AUC 0.7800\n",
            "Epoch 75 TRAIN Batch 600 Loss 0.5177 Accuracy 73.9948 AUC 0.7801\n",
            "Epoch 75 TRAIN Batch 650 Loss 0.5177 Accuracy 73.9848 AUC 0.7801\n",
            "Epoch 75 TRAIN Batch 700 Loss 0.5177 Accuracy 73.9861 AUC 0.7801\n",
            "Epoch 75 TRAIN Batch 750 Loss 0.5176 Accuracy 73.9908 AUC 0.7802\n"
          ],
          "name": "stdout"
        },
        {
          "output_type": "stream",
          "text": [
            "19-12 19:52 root         INFO     Epoch TRAIN 75 Loss 0.5176 Accuracy 73.9919 AUC 0.7802\n"
          ],
          "name": "stderr"
        },
        {
          "output_type": "stream",
          "text": [
            "Epoch 75 VAL Batch 0 Loss 0.5181 Accuracy 73.7902 AUC 0.7783\n",
            "Epoch 75 VAL Batch 50 Loss 0.5203 Accuracy 73.8011 AUC 0.7787\n",
            "Epoch 75 VAL Batch 100 Loss 0.5192 Accuracy 73.9208 AUC 0.7799\n",
            "Epoch 75 VAL Batch 150 Loss 0.5192 Accuracy 73.9313 AUC 0.7797\n",
            "Epoch 75 VAL Batch 200 Loss 0.5194 Accuracy 73.8959 AUC 0.7797\n",
            "Epoch 75 VAL Batch 250 Loss 0.5191 Accuracy 73.9274 AUC 0.7800\n",
            "Epoch 75 VAL Batch 300 Loss 0.5188 Accuracy 73.9579 AUC 0.7801\n",
            "Epoch 75 VAL Batch 350 Loss 0.5189 Accuracy 73.9516 AUC 0.7802\n",
            "Epoch 75 VAL Batch 400 Loss 0.5187 Accuracy 73.9691 AUC 0.7803\n",
            "Epoch 75 VAL Batch 450 Loss 0.5183 Accuracy 73.9964 AUC 0.7805\n",
            "Epoch 75 VAL Batch 500 Loss 0.5184 Accuracy 73.9935 AUC 0.7804\n",
            "Epoch 75 VAL Batch 550 Loss 0.5184 Accuracy 73.9955 AUC 0.7803\n",
            "Epoch 75 VAL Batch 600 Loss 0.5182 Accuracy 74.0120 AUC 0.7805\n",
            "Epoch 75 VAL Batch 650 Loss 0.5182 Accuracy 74.0083 AUC 0.7805\n",
            "Epoch 75 VAL Batch 700 Loss 0.5182 Accuracy 74.0089 AUC 0.7805\n",
            "Epoch 75 VAL Batch 750 Loss 0.5182 Accuracy 74.0119 AUC 0.7805\n"
          ],
          "name": "stdout"
        },
        {
          "output_type": "stream",
          "text": [
            "19-12 19:52 root         INFO     Epoch VAL 75 Loss 0.5182 Accuracy 74.0108 AUC 0.7806\n",
            "19-12 19:52 root         INFO     Saving checkpoint for epoch 75 at 19-Dec-riiid-2/checkpoints/ckpt-15\n"
          ],
          "name": "stderr"
        },
        {
          "output_type": "stream",
          "text": [
            "Time taken for 1 epoch: 108.48183178901672 secs\n",
            "\n",
            "Epoch 76 TRAIN Batch 0 Loss 0.5104 Accuracy 74.7701 AUC 0.7773\n",
            "Epoch 76 TRAIN Batch 50 Loss 0.5194 Accuracy 73.8696 AUC 0.7793\n",
            "Epoch 76 TRAIN Batch 100 Loss 0.5187 Accuracy 73.9304 AUC 0.7797\n",
            "Epoch 76 TRAIN Batch 150 Loss 0.5181 Accuracy 73.9680 AUC 0.7802\n",
            "Epoch 76 TRAIN Batch 200 Loss 0.5178 Accuracy 73.9859 AUC 0.7806\n",
            "Epoch 76 TRAIN Batch 250 Loss 0.5178 Accuracy 73.9855 AUC 0.7805\n",
            "Epoch 76 TRAIN Batch 300 Loss 0.5175 Accuracy 73.9974 AUC 0.7806\n",
            "Epoch 76 TRAIN Batch 350 Loss 0.5175 Accuracy 74.0001 AUC 0.7807\n",
            "Epoch 76 TRAIN Batch 400 Loss 0.5177 Accuracy 73.9912 AUC 0.7806\n",
            "Epoch 76 TRAIN Batch 450 Loss 0.5176 Accuracy 74.0007 AUC 0.7805\n",
            "Epoch 76 TRAIN Batch 500 Loss 0.5174 Accuracy 74.0136 AUC 0.7806\n",
            "Epoch 76 TRAIN Batch 550 Loss 0.5173 Accuracy 74.0205 AUC 0.7807\n",
            "Epoch 76 TRAIN Batch 600 Loss 0.5173 Accuracy 74.0201 AUC 0.7807\n",
            "Epoch 76 TRAIN Batch 650 Loss 0.5172 Accuracy 74.0276 AUC 0.7808\n",
            "Epoch 76 TRAIN Batch 700 Loss 0.5173 Accuracy 74.0283 AUC 0.7808\n",
            "Epoch 76 TRAIN Batch 750 Loss 0.5173 Accuracy 74.0239 AUC 0.7806\n"
          ],
          "name": "stdout"
        },
        {
          "output_type": "stream",
          "text": [
            "19-12 19:53 root         INFO     Epoch TRAIN 76 Loss 0.5173 Accuracy 74.0214 AUC 0.7807\n"
          ],
          "name": "stderr"
        },
        {
          "output_type": "stream",
          "text": [
            "Time taken for 1 epoch: 87.66112732887268 secs\n",
            "\n",
            "Epoch 77 TRAIN Batch 0 Loss 0.5213 Accuracy 73.6514 AUC 0.7867\n",
            "Epoch 77 TRAIN Batch 50 Loss 0.5189 Accuracy 73.8957 AUC 0.7795\n",
            "Epoch 77 TRAIN Batch 100 Loss 0.5189 Accuracy 73.8972 AUC 0.7793\n",
            "Epoch 77 TRAIN Batch 150 Loss 0.5182 Accuracy 73.9389 AUC 0.7804\n",
            "Epoch 77 TRAIN Batch 200 Loss 0.5182 Accuracy 73.9521 AUC 0.7804\n",
            "Epoch 77 TRAIN Batch 250 Loss 0.5176 Accuracy 74.0015 AUC 0.7810\n",
            "Epoch 77 TRAIN Batch 300 Loss 0.5178 Accuracy 73.9872 AUC 0.7810\n",
            "Epoch 77 TRAIN Batch 350 Loss 0.5176 Accuracy 73.9936 AUC 0.7811\n",
            "Epoch 77 TRAIN Batch 400 Loss 0.5178 Accuracy 73.9823 AUC 0.7808\n",
            "Epoch 77 TRAIN Batch 450 Loss 0.5177 Accuracy 73.9833 AUC 0.7808\n",
            "Epoch 77 TRAIN Batch 500 Loss 0.5176 Accuracy 73.9844 AUC 0.7807\n",
            "Epoch 77 TRAIN Batch 550 Loss 0.5176 Accuracy 73.9875 AUC 0.7807\n",
            "Epoch 77 TRAIN Batch 600 Loss 0.5174 Accuracy 73.9969 AUC 0.7808\n",
            "Epoch 77 TRAIN Batch 650 Loss 0.5173 Accuracy 74.0063 AUC 0.7808\n",
            "Epoch 77 TRAIN Batch 700 Loss 0.5173 Accuracy 74.0083 AUC 0.7808\n",
            "Epoch 77 TRAIN Batch 750 Loss 0.5173 Accuracy 74.0184 AUC 0.7808\n"
          ],
          "name": "stdout"
        },
        {
          "output_type": "stream",
          "text": [
            "19-12 19:55 root         INFO     Epoch TRAIN 77 Loss 0.5174 Accuracy 74.0101 AUC 0.7807\n"
          ],
          "name": "stderr"
        },
        {
          "output_type": "stream",
          "text": [
            "Time taken for 1 epoch: 87.68226861953735 secs\n",
            "\n",
            "Epoch 78 TRAIN Batch 0 Loss 0.5415 Accuracy 72.2397 AUC 0.7697\n",
            "Epoch 78 TRAIN Batch 50 Loss 0.5172 Accuracy 73.9574 AUC 0.7806\n",
            "Epoch 78 TRAIN Batch 100 Loss 0.5170 Accuracy 74.0107 AUC 0.7803\n",
            "Epoch 78 TRAIN Batch 150 Loss 0.5166 Accuracy 74.0709 AUC 0.7810\n",
            "Epoch 78 TRAIN Batch 200 Loss 0.5164 Accuracy 74.0814 AUC 0.7812\n",
            "Epoch 78 TRAIN Batch 250 Loss 0.5163 Accuracy 74.0855 AUC 0.7810\n",
            "Epoch 78 TRAIN Batch 300 Loss 0.5161 Accuracy 74.0976 AUC 0.7812\n",
            "Epoch 78 TRAIN Batch 350 Loss 0.5159 Accuracy 74.1129 AUC 0.7813\n",
            "Epoch 78 TRAIN Batch 400 Loss 0.5160 Accuracy 74.1068 AUC 0.7815\n",
            "Epoch 78 TRAIN Batch 450 Loss 0.5161 Accuracy 74.1000 AUC 0.7814\n",
            "Epoch 78 TRAIN Batch 500 Loss 0.5164 Accuracy 74.0823 AUC 0.7812\n",
            "Epoch 78 TRAIN Batch 550 Loss 0.5165 Accuracy 74.0676 AUC 0.7811\n",
            "Epoch 78 TRAIN Batch 600 Loss 0.5165 Accuracy 74.0706 AUC 0.7810\n",
            "Epoch 78 TRAIN Batch 650 Loss 0.5166 Accuracy 74.0640 AUC 0.7810\n",
            "Epoch 78 TRAIN Batch 700 Loss 0.5166 Accuracy 74.0667 AUC 0.7810\n",
            "Epoch 78 TRAIN Batch 750 Loss 0.5166 Accuracy 74.0621 AUC 0.7810\n"
          ],
          "name": "stdout"
        },
        {
          "output_type": "stream",
          "text": [
            "19-12 19:56 root         INFO     Epoch TRAIN 78 Loss 0.5166 Accuracy 74.0640 AUC 0.7810\n"
          ],
          "name": "stderr"
        },
        {
          "output_type": "stream",
          "text": [
            "Time taken for 1 epoch: 86.663165807724 secs\n",
            "\n",
            "Epoch 79 TRAIN Batch 0 Loss 0.5288 Accuracy 72.5951 AUC 0.7790\n",
            "Epoch 79 TRAIN Batch 50 Loss 0.5142 Accuracy 74.1995 AUC 0.7822\n",
            "Epoch 79 TRAIN Batch 100 Loss 0.5146 Accuracy 74.2035 AUC 0.7820\n",
            "Epoch 79 TRAIN Batch 150 Loss 0.5153 Accuracy 74.1607 AUC 0.7819\n",
            "Epoch 79 TRAIN Batch 200 Loss 0.5154 Accuracy 74.1615 AUC 0.7819\n",
            "Epoch 79 TRAIN Batch 250 Loss 0.5154 Accuracy 74.1598 AUC 0.7819\n",
            "Epoch 79 TRAIN Batch 300 Loss 0.5156 Accuracy 74.1377 AUC 0.7818\n",
            "Epoch 79 TRAIN Batch 350 Loss 0.5161 Accuracy 74.0937 AUC 0.7814\n",
            "Epoch 79 TRAIN Batch 400 Loss 0.5160 Accuracy 74.1063 AUC 0.7815\n",
            "Epoch 79 TRAIN Batch 450 Loss 0.5161 Accuracy 74.0975 AUC 0.7814\n",
            "Epoch 79 TRAIN Batch 500 Loss 0.5162 Accuracy 74.0754 AUC 0.7814\n",
            "Epoch 79 TRAIN Batch 550 Loss 0.5164 Accuracy 74.0627 AUC 0.7814\n",
            "Epoch 79 TRAIN Batch 600 Loss 0.5164 Accuracy 74.0625 AUC 0.7814\n",
            "Epoch 79 TRAIN Batch 650 Loss 0.5163 Accuracy 74.0706 AUC 0.7814\n",
            "Epoch 79 TRAIN Batch 700 Loss 0.5164 Accuracy 74.0673 AUC 0.7814\n",
            "Epoch 79 TRAIN Batch 750 Loss 0.5164 Accuracy 74.0691 AUC 0.7814\n"
          ],
          "name": "stdout"
        },
        {
          "output_type": "stream",
          "text": [
            "19-12 19:58 root         INFO     Epoch TRAIN 79 Loss 0.5164 Accuracy 74.0697 AUC 0.7814\n"
          ],
          "name": "stderr"
        },
        {
          "output_type": "stream",
          "text": [
            "Time taken for 1 epoch: 87.66450572013855 secs\n",
            "\n",
            "Epoch 80 TRAIN Batch 0 Loss 0.5276 Accuracy 73.3835 AUC 0.7730\n",
            "Epoch 80 TRAIN Batch 50 Loss 0.5190 Accuracy 73.8675 AUC 0.7810\n",
            "Epoch 80 TRAIN Batch 100 Loss 0.5178 Accuracy 73.9584 AUC 0.7810\n",
            "Epoch 80 TRAIN Batch 150 Loss 0.5180 Accuracy 73.9490 AUC 0.7806\n",
            "Epoch 80 TRAIN Batch 200 Loss 0.5180 Accuracy 73.9502 AUC 0.7807\n",
            "Epoch 80 TRAIN Batch 250 Loss 0.5177 Accuracy 73.9762 AUC 0.7808\n",
            "Epoch 80 TRAIN Batch 300 Loss 0.5176 Accuracy 73.9834 AUC 0.7807\n",
            "Epoch 80 TRAIN Batch 350 Loss 0.5172 Accuracy 74.0159 AUC 0.7809\n",
            "Epoch 80 TRAIN Batch 400 Loss 0.5170 Accuracy 74.0220 AUC 0.7810\n",
            "Epoch 80 TRAIN Batch 450 Loss 0.5169 Accuracy 74.0293 AUC 0.7811\n",
            "Epoch 80 TRAIN Batch 500 Loss 0.5170 Accuracy 74.0267 AUC 0.7810\n",
            "Epoch 80 TRAIN Batch 550 Loss 0.5171 Accuracy 74.0210 AUC 0.7810\n",
            "Epoch 80 TRAIN Batch 600 Loss 0.5169 Accuracy 74.0354 AUC 0.7811\n",
            "Epoch 80 TRAIN Batch 650 Loss 0.5168 Accuracy 74.0411 AUC 0.7812\n",
            "Epoch 80 TRAIN Batch 700 Loss 0.5168 Accuracy 74.0417 AUC 0.7813\n",
            "Epoch 80 TRAIN Batch 750 Loss 0.5167 Accuracy 74.0501 AUC 0.7813\n"
          ],
          "name": "stdout"
        },
        {
          "output_type": "stream",
          "text": [
            "19-12 19:59 root         INFO     Epoch TRAIN 80 Loss 0.5166 Accuracy 74.0581 AUC 0.7814\n"
          ],
          "name": "stderr"
        },
        {
          "output_type": "stream",
          "text": [
            "Epoch 80 VAL Batch 0 Loss 0.5164 Accuracy 74.2766 AUC 0.7805\n",
            "Epoch 80 VAL Batch 50 Loss 0.5196 Accuracy 73.8149 AUC 0.7800\n",
            "Epoch 80 VAL Batch 100 Loss 0.5186 Accuracy 73.9268 AUC 0.7811\n",
            "Epoch 80 VAL Batch 150 Loss 0.5186 Accuracy 73.9301 AUC 0.7808\n",
            "Epoch 80 VAL Batch 200 Loss 0.5188 Accuracy 73.9084 AUC 0.7809\n",
            "Epoch 80 VAL Batch 250 Loss 0.5185 Accuracy 73.9378 AUC 0.7811\n",
            "Epoch 80 VAL Batch 300 Loss 0.5182 Accuracy 73.9679 AUC 0.7813\n",
            "Epoch 80 VAL Batch 350 Loss 0.5183 Accuracy 73.9779 AUC 0.7814\n",
            "Epoch 80 VAL Batch 400 Loss 0.5181 Accuracy 73.9964 AUC 0.7815\n",
            "Epoch 80 VAL Batch 450 Loss 0.5178 Accuracy 74.0203 AUC 0.7816\n",
            "Epoch 80 VAL Batch 500 Loss 0.5178 Accuracy 74.0142 AUC 0.7815\n",
            "Epoch 80 VAL Batch 550 Loss 0.5179 Accuracy 74.0193 AUC 0.7815\n",
            "Epoch 80 VAL Batch 600 Loss 0.5176 Accuracy 74.0376 AUC 0.7816\n",
            "Epoch 80 VAL Batch 650 Loss 0.5177 Accuracy 74.0346 AUC 0.7816\n",
            "Epoch 80 VAL Batch 700 Loss 0.5177 Accuracy 74.0382 AUC 0.7816\n",
            "Epoch 80 VAL Batch 750 Loss 0.5176 Accuracy 74.0427 AUC 0.7816\n"
          ],
          "name": "stdout"
        },
        {
          "output_type": "stream",
          "text": [
            "19-12 19:59 root         INFO     Epoch VAL 80 Loss 0.5176 Accuracy 74.0430 AUC 0.7817\n",
            "19-12 19:59 root         INFO     Saving checkpoint for epoch 80 at 19-Dec-riiid-2/checkpoints/ckpt-16\n"
          ],
          "name": "stderr"
        },
        {
          "output_type": "stream",
          "text": [
            "Time taken for 1 epoch: 106.4826889038086 secs\n",
            "\n",
            "Epoch 81 TRAIN Batch 0 Loss 0.5134 Accuracy 74.3801 AUC 0.7861\n",
            "Epoch 81 TRAIN Batch 50 Loss 0.5159 Accuracy 74.1938 AUC 0.7816\n",
            "Epoch 81 TRAIN Batch 100 Loss 0.5161 Accuracy 74.1291 AUC 0.7821\n",
            "Epoch 81 TRAIN Batch 150 Loss 0.5162 Accuracy 74.1068 AUC 0.7819\n",
            "Epoch 81 TRAIN Batch 200 Loss 0.5164 Accuracy 74.0777 AUC 0.7818\n",
            "Epoch 81 TRAIN Batch 250 Loss 0.5164 Accuracy 74.0662 AUC 0.7816\n",
            "Epoch 81 TRAIN Batch 300 Loss 0.5164 Accuracy 74.0675 AUC 0.7816\n",
            "Epoch 81 TRAIN Batch 350 Loss 0.5166 Accuracy 74.0586 AUC 0.7815\n",
            "Epoch 81 TRAIN Batch 400 Loss 0.5165 Accuracy 74.0547 AUC 0.7815\n",
            "Epoch 81 TRAIN Batch 450 Loss 0.5166 Accuracy 74.0495 AUC 0.7814\n",
            "Epoch 81 TRAIN Batch 500 Loss 0.5164 Accuracy 74.0662 AUC 0.7815\n",
            "Epoch 81 TRAIN Batch 550 Loss 0.5165 Accuracy 74.0579 AUC 0.7815\n",
            "Epoch 81 TRAIN Batch 600 Loss 0.5164 Accuracy 74.0609 AUC 0.7816\n",
            "Epoch 81 TRAIN Batch 650 Loss 0.5164 Accuracy 74.0637 AUC 0.7817\n",
            "Epoch 81 TRAIN Batch 700 Loss 0.5163 Accuracy 74.0677 AUC 0.7817\n",
            "Epoch 81 TRAIN Batch 750 Loss 0.5162 Accuracy 74.0728 AUC 0.7817\n"
          ],
          "name": "stdout"
        },
        {
          "output_type": "stream",
          "text": [
            "19-12 20:01 root         INFO     Epoch TRAIN 81 Loss 0.5162 Accuracy 74.0762 AUC 0.7817\n"
          ],
          "name": "stderr"
        },
        {
          "output_type": "stream",
          "text": [
            "Time taken for 1 epoch: 86.81596040725708 secs\n",
            "\n",
            "Epoch 82 TRAIN Batch 0 Loss 0.5184 Accuracy 74.4030 AUC 0.7787\n",
            "Epoch 82 TRAIN Batch 50 Loss 0.5182 Accuracy 73.9789 AUC 0.7812\n",
            "Epoch 82 TRAIN Batch 100 Loss 0.5170 Accuracy 74.0220 AUC 0.7814\n",
            "Epoch 82 TRAIN Batch 150 Loss 0.5170 Accuracy 74.0396 AUC 0.7813\n",
            "Epoch 82 TRAIN Batch 200 Loss 0.5164 Accuracy 74.0681 AUC 0.7813\n",
            "Epoch 82 TRAIN Batch 250 Loss 0.5165 Accuracy 74.0577 AUC 0.7813\n",
            "Epoch 82 TRAIN Batch 300 Loss 0.5165 Accuracy 74.0546 AUC 0.7814\n",
            "Epoch 82 TRAIN Batch 350 Loss 0.5165 Accuracy 74.0547 AUC 0.7815\n",
            "Epoch 82 TRAIN Batch 400 Loss 0.5165 Accuracy 74.0543 AUC 0.7813\n",
            "Epoch 82 TRAIN Batch 450 Loss 0.5163 Accuracy 74.0669 AUC 0.7815\n",
            "Epoch 82 TRAIN Batch 500 Loss 0.5161 Accuracy 74.0717 AUC 0.7816\n",
            "Epoch 82 TRAIN Batch 550 Loss 0.5161 Accuracy 74.0756 AUC 0.7816\n",
            "Epoch 82 TRAIN Batch 600 Loss 0.5161 Accuracy 74.0803 AUC 0.7816\n",
            "Epoch 82 TRAIN Batch 650 Loss 0.5161 Accuracy 74.0790 AUC 0.7817\n",
            "Epoch 82 TRAIN Batch 700 Loss 0.5162 Accuracy 74.0672 AUC 0.7817\n",
            "Epoch 82 TRAIN Batch 750 Loss 0.5162 Accuracy 74.0690 AUC 0.7817\n"
          ],
          "name": "stdout"
        },
        {
          "output_type": "stream",
          "text": [
            "19-12 20:02 root         INFO     Epoch TRAIN 82 Loss 0.5161 Accuracy 74.0758 AUC 0.7818\n"
          ],
          "name": "stderr"
        },
        {
          "output_type": "stream",
          "text": [
            "Time taken for 1 epoch: 89.77606534957886 secs\n",
            "\n",
            "Epoch 83 TRAIN Batch 0 Loss 0.5309 Accuracy 73.5209 AUC 0.7655\n",
            "Epoch 83 TRAIN Batch 50 Loss 0.5181 Accuracy 74.0121 AUC 0.7809\n",
            "Epoch 83 TRAIN Batch 100 Loss 0.5168 Accuracy 74.0739 AUC 0.7816\n",
            "Epoch 83 TRAIN Batch 150 Loss 0.5166 Accuracy 74.0821 AUC 0.7817\n",
            "Epoch 83 TRAIN Batch 200 Loss 0.5168 Accuracy 74.0589 AUC 0.7817\n",
            "Epoch 83 TRAIN Batch 250 Loss 0.5168 Accuracy 74.0582 AUC 0.7818\n",
            "Epoch 83 TRAIN Batch 300 Loss 0.5169 Accuracy 74.0515 AUC 0.7816\n",
            "Epoch 83 TRAIN Batch 350 Loss 0.5172 Accuracy 74.0285 AUC 0.7815\n",
            "Epoch 83 TRAIN Batch 400 Loss 0.5174 Accuracy 74.0053 AUC 0.7813\n",
            "Epoch 83 TRAIN Batch 450 Loss 0.5173 Accuracy 74.0139 AUC 0.7814\n",
            "Epoch 83 TRAIN Batch 500 Loss 0.5173 Accuracy 74.0114 AUC 0.7814\n",
            "Epoch 83 TRAIN Batch 550 Loss 0.5173 Accuracy 74.0110 AUC 0.7815\n",
            "Epoch 83 TRAIN Batch 600 Loss 0.5173 Accuracy 74.0074 AUC 0.7815\n",
            "Epoch 83 TRAIN Batch 650 Loss 0.5171 Accuracy 74.0128 AUC 0.7815\n",
            "Epoch 83 TRAIN Batch 700 Loss 0.5170 Accuracy 74.0292 AUC 0.7816\n",
            "Epoch 83 TRAIN Batch 750 Loss 0.5169 Accuracy 74.0315 AUC 0.7816\n"
          ],
          "name": "stdout"
        },
        {
          "output_type": "stream",
          "text": [
            "19-12 20:04 root         INFO     Epoch TRAIN 83 Loss 0.5169 Accuracy 74.0287 AUC 0.7815\n"
          ],
          "name": "stderr"
        },
        {
          "output_type": "stream",
          "text": [
            "Time taken for 1 epoch: 88.52271580696106 secs\n",
            "\n",
            "Epoch 84 TRAIN Batch 0 Loss 0.5013 Accuracy 74.9565 AUC 0.7909\n",
            "Epoch 84 TRAIN Batch 50 Loss 0.5150 Accuracy 74.1477 AUC 0.7828\n",
            "Epoch 84 TRAIN Batch 100 Loss 0.5157 Accuracy 74.0965 AUC 0.7818\n",
            "Epoch 84 TRAIN Batch 150 Loss 0.5151 Accuracy 74.1484 AUC 0.7820\n",
            "Epoch 84 TRAIN Batch 200 Loss 0.5154 Accuracy 74.1256 AUC 0.7817\n",
            "Epoch 84 TRAIN Batch 250 Loss 0.5156 Accuracy 74.1088 AUC 0.7816\n",
            "Epoch 84 TRAIN Batch 300 Loss 0.5157 Accuracy 74.0962 AUC 0.7818\n",
            "Epoch 84 TRAIN Batch 350 Loss 0.5157 Accuracy 74.0948 AUC 0.7819\n",
            "Epoch 84 TRAIN Batch 400 Loss 0.5159 Accuracy 74.0830 AUC 0.7818\n",
            "Epoch 84 TRAIN Batch 450 Loss 0.5159 Accuracy 74.0825 AUC 0.7818\n",
            "Epoch 84 TRAIN Batch 500 Loss 0.5158 Accuracy 74.0941 AUC 0.7820\n",
            "Epoch 84 TRAIN Batch 550 Loss 0.5157 Accuracy 74.1055 AUC 0.7822\n",
            "Epoch 84 TRAIN Batch 600 Loss 0.5158 Accuracy 74.0994 AUC 0.7821\n",
            "Epoch 84 TRAIN Batch 650 Loss 0.5158 Accuracy 74.0975 AUC 0.7821\n",
            "Epoch 84 TRAIN Batch 700 Loss 0.5158 Accuracy 74.0971 AUC 0.7820\n",
            "Epoch 84 TRAIN Batch 750 Loss 0.5158 Accuracy 74.1017 AUC 0.7821\n"
          ],
          "name": "stdout"
        },
        {
          "output_type": "stream",
          "text": [
            "19-12 20:05 root         INFO     Epoch TRAIN 84 Loss 0.5159 Accuracy 74.0951 AUC 0.7820\n"
          ],
          "name": "stderr"
        },
        {
          "output_type": "stream",
          "text": [
            "Time taken for 1 epoch: 87.30622696876526 secs\n",
            "\n",
            "Epoch 85 TRAIN Batch 0 Loss 0.5096 Accuracy 74.6544 AUC 0.7808\n",
            "Epoch 85 TRAIN Batch 50 Loss 0.5156 Accuracy 74.0937 AUC 0.7828\n",
            "Epoch 85 TRAIN Batch 100 Loss 0.5169 Accuracy 73.9960 AUC 0.7814\n",
            "Epoch 85 TRAIN Batch 150 Loss 0.5161 Accuracy 74.0468 AUC 0.7818\n",
            "Epoch 85 TRAIN Batch 200 Loss 0.5166 Accuracy 74.0367 AUC 0.7815\n",
            "Epoch 85 TRAIN Batch 250 Loss 0.5162 Accuracy 74.0612 AUC 0.7817\n",
            "Epoch 85 TRAIN Batch 300 Loss 0.5164 Accuracy 74.0568 AUC 0.7816\n",
            "Epoch 85 TRAIN Batch 350 Loss 0.5166 Accuracy 74.0467 AUC 0.7816\n",
            "Epoch 85 TRAIN Batch 400 Loss 0.5165 Accuracy 74.0502 AUC 0.7817\n",
            "Epoch 85 TRAIN Batch 450 Loss 0.5165 Accuracy 74.0504 AUC 0.7816\n",
            "Epoch 85 TRAIN Batch 500 Loss 0.5166 Accuracy 74.0443 AUC 0.7816\n",
            "Epoch 85 TRAIN Batch 550 Loss 0.5166 Accuracy 74.0391 AUC 0.7815\n",
            "Epoch 85 TRAIN Batch 600 Loss 0.5166 Accuracy 74.0385 AUC 0.7816\n",
            "Epoch 85 TRAIN Batch 650 Loss 0.5166 Accuracy 74.0395 AUC 0.7817\n",
            "Epoch 85 TRAIN Batch 700 Loss 0.5167 Accuracy 74.0350 AUC 0.7816\n",
            "Epoch 85 TRAIN Batch 750 Loss 0.5167 Accuracy 74.0326 AUC 0.7817\n"
          ],
          "name": "stdout"
        },
        {
          "output_type": "stream",
          "text": [
            "19-12 20:07 root         INFO     Epoch TRAIN 85 Loss 0.5167 Accuracy 74.0270 AUC 0.7816\n"
          ],
          "name": "stderr"
        },
        {
          "output_type": "stream",
          "text": [
            "Epoch 85 VAL Batch 0 Loss 0.5168 Accuracy 73.9327 AUC 0.7796\n",
            "Epoch 85 VAL Batch 50 Loss 0.5187 Accuracy 73.8524 AUC 0.7801\n",
            "Epoch 85 VAL Batch 100 Loss 0.5178 Accuracy 73.9458 AUC 0.7811\n",
            "Epoch 85 VAL Batch 150 Loss 0.5176 Accuracy 73.9587 AUC 0.7810\n",
            "Epoch 85 VAL Batch 200 Loss 0.5178 Accuracy 73.9301 AUC 0.7810\n",
            "Epoch 85 VAL Batch 250 Loss 0.5176 Accuracy 73.9572 AUC 0.7812\n",
            "Epoch 85 VAL Batch 300 Loss 0.5173 Accuracy 73.9834 AUC 0.7814\n",
            "Epoch 85 VAL Batch 350 Loss 0.5174 Accuracy 73.9868 AUC 0.7815\n",
            "Epoch 85 VAL Batch 400 Loss 0.5172 Accuracy 74.0059 AUC 0.7816\n",
            "Epoch 85 VAL Batch 450 Loss 0.5169 Accuracy 74.0325 AUC 0.7818\n",
            "Epoch 85 VAL Batch 500 Loss 0.5169 Accuracy 74.0266 AUC 0.7817\n",
            "Epoch 85 VAL Batch 550 Loss 0.5170 Accuracy 74.0276 AUC 0.7816\n",
            "Epoch 85 VAL Batch 600 Loss 0.5167 Accuracy 74.0443 AUC 0.7818\n",
            "Epoch 85 VAL Batch 650 Loss 0.5168 Accuracy 74.0400 AUC 0.7817\n",
            "Epoch 85 VAL Batch 700 Loss 0.5168 Accuracy 74.0434 AUC 0.7817\n",
            "Epoch 85 VAL Batch 750 Loss 0.5167 Accuracy 74.0482 AUC 0.7818\n"
          ],
          "name": "stdout"
        },
        {
          "output_type": "stream",
          "text": [
            "19-12 20:07 root         INFO     Epoch VAL 85 Loss 0.5167 Accuracy 74.0484 AUC 0.7818\n",
            "19-12 20:07 root         INFO     Saving checkpoint for epoch 85 at 19-Dec-riiid-2/checkpoints/ckpt-17\n"
          ],
          "name": "stderr"
        },
        {
          "output_type": "stream",
          "text": [
            "Time taken for 1 epoch: 102.64560055732727 secs\n",
            "\n",
            "Epoch 86 TRAIN Batch 0 Loss 0.5146 Accuracy 73.9837 AUC 0.7803\n",
            "Epoch 86 TRAIN Batch 50 Loss 0.5164 Accuracy 74.1259 AUC 0.7821\n",
            "Epoch 86 TRAIN Batch 100 Loss 0.5162 Accuracy 74.1092 AUC 0.7815\n",
            "Epoch 86 TRAIN Batch 150 Loss 0.5157 Accuracy 74.1335 AUC 0.7826\n",
            "Epoch 86 TRAIN Batch 200 Loss 0.5153 Accuracy 74.1616 AUC 0.7824\n",
            "Epoch 86 TRAIN Batch 250 Loss 0.5159 Accuracy 74.1153 AUC 0.7820\n",
            "Epoch 86 TRAIN Batch 300 Loss 0.5160 Accuracy 74.1048 AUC 0.7821\n",
            "Epoch 86 TRAIN Batch 350 Loss 0.5158 Accuracy 74.1168 AUC 0.7824\n",
            "Epoch 86 TRAIN Batch 400 Loss 0.5158 Accuracy 74.1209 AUC 0.7825\n",
            "Epoch 86 TRAIN Batch 450 Loss 0.5157 Accuracy 74.1245 AUC 0.7826\n",
            "Epoch 86 TRAIN Batch 500 Loss 0.5157 Accuracy 74.1242 AUC 0.7826\n",
            "Epoch 86 TRAIN Batch 550 Loss 0.5158 Accuracy 74.1145 AUC 0.7826\n",
            "Epoch 86 TRAIN Batch 600 Loss 0.5158 Accuracy 74.1094 AUC 0.7826\n",
            "Epoch 86 TRAIN Batch 650 Loss 0.5157 Accuracy 74.1186 AUC 0.7826\n",
            "Epoch 86 TRAIN Batch 700 Loss 0.5157 Accuracy 74.1236 AUC 0.7826\n",
            "Epoch 86 TRAIN Batch 750 Loss 0.5158 Accuracy 74.1173 AUC 0.7825\n"
          ],
          "name": "stdout"
        },
        {
          "output_type": "stream",
          "text": [
            "19-12 20:08 root         INFO     Epoch TRAIN 86 Loss 0.5157 Accuracy 74.1236 AUC 0.7825\n"
          ],
          "name": "stderr"
        },
        {
          "output_type": "stream",
          "text": [
            "Time taken for 1 epoch: 85.81628060340881 secs\n",
            "\n",
            "Epoch 87 TRAIN Batch 0 Loss 0.5181 Accuracy 73.9881 AUC 0.7787\n",
            "Epoch 87 TRAIN Batch 50 Loss 0.5157 Accuracy 74.0760 AUC 0.7821\n",
            "Epoch 87 TRAIN Batch 100 Loss 0.5157 Accuracy 74.1090 AUC 0.7823\n",
            "Epoch 87 TRAIN Batch 150 Loss 0.5160 Accuracy 74.0795 AUC 0.7824\n",
            "Epoch 87 TRAIN Batch 200 Loss 0.5158 Accuracy 74.0942 AUC 0.7826\n",
            "Epoch 87 TRAIN Batch 250 Loss 0.5156 Accuracy 74.1029 AUC 0.7828\n",
            "Epoch 87 TRAIN Batch 300 Loss 0.5157 Accuracy 74.0904 AUC 0.7826\n",
            "Epoch 87 TRAIN Batch 350 Loss 0.5157 Accuracy 74.0949 AUC 0.7826\n",
            "Epoch 87 TRAIN Batch 400 Loss 0.5157 Accuracy 74.1040 AUC 0.7826\n",
            "Epoch 87 TRAIN Batch 450 Loss 0.5156 Accuracy 74.1053 AUC 0.7826\n",
            "Epoch 87 TRAIN Batch 500 Loss 0.5154 Accuracy 74.1279 AUC 0.7826\n",
            "Epoch 87 TRAIN Batch 550 Loss 0.5154 Accuracy 74.1280 AUC 0.7826\n",
            "Epoch 87 TRAIN Batch 600 Loss 0.5154 Accuracy 74.1384 AUC 0.7826\n",
            "Epoch 87 TRAIN Batch 650 Loss 0.5155 Accuracy 74.1318 AUC 0.7825\n",
            "Epoch 87 TRAIN Batch 700 Loss 0.5154 Accuracy 74.1363 AUC 0.7826\n",
            "Epoch 87 TRAIN Batch 750 Loss 0.5154 Accuracy 74.1359 AUC 0.7826\n"
          ],
          "name": "stdout"
        },
        {
          "output_type": "stream",
          "text": [
            "19-12 20:10 root         INFO     Epoch TRAIN 87 Loss 0.5154 Accuracy 74.1347 AUC 0.7826\n"
          ],
          "name": "stderr"
        },
        {
          "output_type": "stream",
          "text": [
            "Time taken for 1 epoch: 85.07857084274292 secs\n",
            "\n",
            "Epoch 88 TRAIN Batch 0 Loss 0.5162 Accuracy 74.1911 AUC 0.7798\n",
            "Epoch 88 TRAIN Batch 50 Loss 0.5153 Accuracy 74.1766 AUC 0.7830\n",
            "Epoch 88 TRAIN Batch 100 Loss 0.5154 Accuracy 74.1128 AUC 0.7824\n",
            "Epoch 88 TRAIN Batch 150 Loss 0.5149 Accuracy 74.1626 AUC 0.7825\n",
            "Epoch 88 TRAIN Batch 200 Loss 0.5156 Accuracy 74.1022 AUC 0.7818\n",
            "Epoch 88 TRAIN Batch 250 Loss 0.5154 Accuracy 74.1214 AUC 0.7820\n",
            "Epoch 88 TRAIN Batch 300 Loss 0.5154 Accuracy 74.1359 AUC 0.7820\n",
            "Epoch 88 TRAIN Batch 350 Loss 0.5158 Accuracy 74.1066 AUC 0.7820\n",
            "Epoch 88 TRAIN Batch 400 Loss 0.5159 Accuracy 74.0978 AUC 0.7820\n",
            "Epoch 88 TRAIN Batch 450 Loss 0.5156 Accuracy 74.1091 AUC 0.7822\n",
            "Epoch 88 TRAIN Batch 500 Loss 0.5155 Accuracy 74.1178 AUC 0.7822\n",
            "Epoch 88 TRAIN Batch 550 Loss 0.5154 Accuracy 74.1249 AUC 0.7824\n",
            "Epoch 88 TRAIN Batch 600 Loss 0.5155 Accuracy 74.1143 AUC 0.7823\n",
            "Epoch 88 TRAIN Batch 650 Loss 0.5155 Accuracy 74.1110 AUC 0.7823\n",
            "Epoch 88 TRAIN Batch 700 Loss 0.5154 Accuracy 74.1254 AUC 0.7825\n",
            "Epoch 88 TRAIN Batch 750 Loss 0.5153 Accuracy 74.1298 AUC 0.7826\n"
          ],
          "name": "stdout"
        },
        {
          "output_type": "stream",
          "text": [
            "19-12 20:11 root         INFO     Epoch TRAIN 88 Loss 0.5152 Accuracy 74.1380 AUC 0.7826\n"
          ],
          "name": "stderr"
        },
        {
          "output_type": "stream",
          "text": [
            "Time taken for 1 epoch: 85.52546167373657 secs\n",
            "\n",
            "Epoch 89 TRAIN Batch 0 Loss 0.5107 Accuracy 74.4542 AUC 0.7916\n",
            "Epoch 89 TRAIN Batch 50 Loss 0.5149 Accuracy 74.1508 AUC 0.7834\n",
            "Epoch 89 TRAIN Batch 100 Loss 0.5152 Accuracy 74.1516 AUC 0.7831\n",
            "Epoch 89 TRAIN Batch 150 Loss 0.5153 Accuracy 74.1343 AUC 0.7831\n",
            "Epoch 89 TRAIN Batch 200 Loss 0.5156 Accuracy 74.1013 AUC 0.7827\n",
            "Epoch 89 TRAIN Batch 250 Loss 0.5158 Accuracy 74.0931 AUC 0.7825\n",
            "Epoch 89 TRAIN Batch 300 Loss 0.5157 Accuracy 74.1039 AUC 0.7825\n",
            "Epoch 89 TRAIN Batch 350 Loss 0.5154 Accuracy 74.1247 AUC 0.7827\n",
            "Epoch 89 TRAIN Batch 400 Loss 0.5152 Accuracy 74.1411 AUC 0.7828\n",
            "Epoch 89 TRAIN Batch 450 Loss 0.5150 Accuracy 74.1482 AUC 0.7828\n",
            "Epoch 89 TRAIN Batch 500 Loss 0.5151 Accuracy 74.1432 AUC 0.7828\n",
            "Epoch 89 TRAIN Batch 550 Loss 0.5152 Accuracy 74.1341 AUC 0.7827\n",
            "Epoch 89 TRAIN Batch 600 Loss 0.5151 Accuracy 74.1478 AUC 0.7828\n",
            "Epoch 89 TRAIN Batch 650 Loss 0.5151 Accuracy 74.1461 AUC 0.7828\n",
            "Epoch 89 TRAIN Batch 700 Loss 0.5152 Accuracy 74.1403 AUC 0.7827\n",
            "Epoch 89 TRAIN Batch 750 Loss 0.5153 Accuracy 74.1405 AUC 0.7827\n"
          ],
          "name": "stdout"
        },
        {
          "output_type": "stream",
          "text": [
            "19-12 20:13 root         INFO     Epoch TRAIN 89 Loss 0.5153 Accuracy 74.1363 AUC 0.7826\n"
          ],
          "name": "stderr"
        },
        {
          "output_type": "stream",
          "text": [
            "Time taken for 1 epoch: 85.3056468963623 secs\n",
            "\n",
            "Epoch 90 TRAIN Batch 0 Loss 0.5266 Accuracy 73.1597 AUC 0.7780\n",
            "Epoch 90 TRAIN Batch 50 Loss 0.5145 Accuracy 74.1777 AUC 0.7826\n",
            "Epoch 90 TRAIN Batch 100 Loss 0.5149 Accuracy 74.1882 AUC 0.7828\n",
            "Epoch 90 TRAIN Batch 150 Loss 0.5155 Accuracy 74.1156 AUC 0.7825\n",
            "Epoch 90 TRAIN Batch 200 Loss 0.5155 Accuracy 74.1142 AUC 0.7824\n",
            "Epoch 90 TRAIN Batch 250 Loss 0.5157 Accuracy 74.0978 AUC 0.7824\n",
            "Epoch 90 TRAIN Batch 300 Loss 0.5155 Accuracy 74.1126 AUC 0.7825\n",
            "Epoch 90 TRAIN Batch 350 Loss 0.5149 Accuracy 74.1601 AUC 0.7827\n",
            "Epoch 90 TRAIN Batch 400 Loss 0.5149 Accuracy 74.1649 AUC 0.7828\n",
            "Epoch 90 TRAIN Batch 450 Loss 0.5147 Accuracy 74.1792 AUC 0.7829\n",
            "Epoch 90 TRAIN Batch 500 Loss 0.5148 Accuracy 74.1747 AUC 0.7829\n",
            "Epoch 90 TRAIN Batch 550 Loss 0.5149 Accuracy 74.1736 AUC 0.7828\n",
            "Epoch 90 TRAIN Batch 600 Loss 0.5150 Accuracy 74.1597 AUC 0.7828\n",
            "Epoch 90 TRAIN Batch 650 Loss 0.5150 Accuracy 74.1655 AUC 0.7829\n",
            "Epoch 90 TRAIN Batch 700 Loss 0.5149 Accuracy 74.1633 AUC 0.7829\n",
            "Epoch 90 TRAIN Batch 750 Loss 0.5150 Accuracy 74.1604 AUC 0.7829\n"
          ],
          "name": "stdout"
        },
        {
          "output_type": "stream",
          "text": [
            "19-12 20:14 root         INFO     Epoch TRAIN 90 Loss 0.5149 Accuracy 74.1599 AUC 0.7829\n"
          ],
          "name": "stderr"
        },
        {
          "output_type": "stream",
          "text": [
            "Epoch 90 VAL Batch 0 Loss 0.5175 Accuracy 73.9243 AUC 0.7791\n",
            "Epoch 90 VAL Batch 50 Loss 0.5188 Accuracy 73.8770 AUC 0.7808\n",
            "Epoch 90 VAL Batch 100 Loss 0.5178 Accuracy 73.9724 AUC 0.7818\n",
            "Epoch 90 VAL Batch 150 Loss 0.5177 Accuracy 73.9949 AUC 0.7816\n",
            "Epoch 90 VAL Batch 200 Loss 0.5178 Accuracy 73.9783 AUC 0.7818\n",
            "Epoch 90 VAL Batch 250 Loss 0.5175 Accuracy 74.0030 AUC 0.7820\n",
            "Epoch 90 VAL Batch 300 Loss 0.5172 Accuracy 74.0314 AUC 0.7822\n",
            "Epoch 90 VAL Batch 350 Loss 0.5173 Accuracy 74.0270 AUC 0.7823\n",
            "Epoch 90 VAL Batch 400 Loss 0.5170 Accuracy 74.0470 AUC 0.7824\n",
            "Epoch 90 VAL Batch 450 Loss 0.5167 Accuracy 74.0700 AUC 0.7826\n",
            "Epoch 90 VAL Batch 500 Loss 0.5168 Accuracy 74.0633 AUC 0.7825\n",
            "Epoch 90 VAL Batch 550 Loss 0.5168 Accuracy 74.0660 AUC 0.7824\n",
            "Epoch 90 VAL Batch 600 Loss 0.5166 Accuracy 74.0853 AUC 0.7826\n",
            "Epoch 90 VAL Batch 650 Loss 0.5166 Accuracy 74.0819 AUC 0.7825\n",
            "Epoch 90 VAL Batch 700 Loss 0.5166 Accuracy 74.0857 AUC 0.7826\n",
            "Epoch 90 VAL Batch 750 Loss 0.5165 Accuracy 74.0920 AUC 0.7826\n"
          ],
          "name": "stdout"
        },
        {
          "output_type": "stream",
          "text": [
            "19-12 20:14 root         INFO     Epoch VAL 90 Loss 0.5165 Accuracy 74.0918 AUC 0.7827\n",
            "19-12 20:14 root         INFO     Saving checkpoint for epoch 90 at 19-Dec-riiid-2/checkpoints/ckpt-18\n"
          ],
          "name": "stderr"
        },
        {
          "output_type": "stream",
          "text": [
            "Time taken for 1 epoch: 103.61484909057617 secs\n",
            "\n",
            "Epoch 91 TRAIN Batch 0 Loss 0.5067 Accuracy 75.0677 AUC 0.7833\n",
            "Epoch 91 TRAIN Batch 50 Loss 0.5153 Accuracy 74.0984 AUC 0.7820\n",
            "Epoch 91 TRAIN Batch 100 Loss 0.5147 Accuracy 74.1680 AUC 0.7830\n",
            "Epoch 91 TRAIN Batch 150 Loss 0.5148 Accuracy 74.1503 AUC 0.7827\n",
            "Epoch 91 TRAIN Batch 200 Loss 0.5151 Accuracy 74.1393 AUC 0.7826\n",
            "Epoch 91 TRAIN Batch 250 Loss 0.5149 Accuracy 74.1578 AUC 0.7826\n",
            "Epoch 91 TRAIN Batch 300 Loss 0.5150 Accuracy 74.1397 AUC 0.7827\n",
            "Epoch 91 TRAIN Batch 350 Loss 0.5149 Accuracy 74.1504 AUC 0.7827\n",
            "Epoch 91 TRAIN Batch 400 Loss 0.5147 Accuracy 74.1625 AUC 0.7828\n",
            "Epoch 91 TRAIN Batch 450 Loss 0.5150 Accuracy 74.1410 AUC 0.7827\n",
            "Epoch 91 TRAIN Batch 500 Loss 0.5149 Accuracy 74.1488 AUC 0.7827\n",
            "Epoch 91 TRAIN Batch 550 Loss 0.5149 Accuracy 74.1456 AUC 0.7828\n",
            "Epoch 91 TRAIN Batch 600 Loss 0.5152 Accuracy 74.1288 AUC 0.7827\n",
            "Epoch 91 TRAIN Batch 650 Loss 0.5151 Accuracy 74.1331 AUC 0.7827\n",
            "Epoch 91 TRAIN Batch 700 Loss 0.5152 Accuracy 74.1275 AUC 0.7828\n",
            "Epoch 91 TRAIN Batch 750 Loss 0.5151 Accuracy 74.1308 AUC 0.7827\n"
          ],
          "name": "stdout"
        },
        {
          "output_type": "stream",
          "text": [
            "19-12 20:16 root         INFO     Epoch TRAIN 91 Loss 0.5152 Accuracy 74.1299 AUC 0.7827\n"
          ],
          "name": "stderr"
        },
        {
          "output_type": "stream",
          "text": [
            "Time taken for 1 epoch: 84.74964785575867 secs\n",
            "\n",
            "Epoch 92 TRAIN Batch 0 Loss 0.5196 Accuracy 73.8420 AUC 0.7769\n",
            "Epoch 92 TRAIN Batch 50 Loss 0.5159 Accuracy 74.1192 AUC 0.7824\n",
            "Epoch 92 TRAIN Batch 100 Loss 0.5160 Accuracy 74.0847 AUC 0.7828\n",
            "Epoch 92 TRAIN Batch 150 Loss 0.5161 Accuracy 74.0755 AUC 0.7826\n",
            "Epoch 92 TRAIN Batch 200 Loss 0.5157 Accuracy 74.0898 AUC 0.7830\n",
            "Epoch 92 TRAIN Batch 250 Loss 0.5156 Accuracy 74.0862 AUC 0.7830\n",
            "Epoch 92 TRAIN Batch 300 Loss 0.5154 Accuracy 74.1047 AUC 0.7831\n",
            "Epoch 92 TRAIN Batch 350 Loss 0.5154 Accuracy 74.1035 AUC 0.7830\n",
            "Epoch 92 TRAIN Batch 400 Loss 0.5154 Accuracy 74.1081 AUC 0.7829\n",
            "Epoch 92 TRAIN Batch 450 Loss 0.5153 Accuracy 74.1214 AUC 0.7830\n",
            "Epoch 92 TRAIN Batch 500 Loss 0.5153 Accuracy 74.1196 AUC 0.7830\n",
            "Epoch 92 TRAIN Batch 550 Loss 0.5152 Accuracy 74.1249 AUC 0.7830\n",
            "Epoch 92 TRAIN Batch 600 Loss 0.5152 Accuracy 74.1233 AUC 0.7831\n",
            "Epoch 92 TRAIN Batch 650 Loss 0.5153 Accuracy 74.1166 AUC 0.7830\n",
            "Epoch 92 TRAIN Batch 700 Loss 0.5153 Accuracy 74.1176 AUC 0.7831\n",
            "Epoch 92 TRAIN Batch 750 Loss 0.5153 Accuracy 74.1143 AUC 0.7831\n"
          ],
          "name": "stdout"
        },
        {
          "output_type": "stream",
          "text": [
            "19-12 20:17 root         INFO     Epoch TRAIN 92 Loss 0.5153 Accuracy 74.1183 AUC 0.7831\n"
          ],
          "name": "stderr"
        },
        {
          "output_type": "stream",
          "text": [
            "Time taken for 1 epoch: 84.5838258266449 secs\n",
            "\n",
            "Epoch 93 TRAIN Batch 0 Loss 0.5228 Accuracy 73.2861 AUC 0.7782\n",
            "Epoch 93 TRAIN Batch 50 Loss 0.5151 Accuracy 74.0725 AUC 0.7831\n",
            "Epoch 93 TRAIN Batch 100 Loss 0.5157 Accuracy 74.0354 AUC 0.7829\n",
            "Epoch 93 TRAIN Batch 150 Loss 0.5152 Accuracy 74.0998 AUC 0.7836\n",
            "Epoch 93 TRAIN Batch 200 Loss 0.5150 Accuracy 74.1092 AUC 0.7835\n",
            "Epoch 93 TRAIN Batch 250 Loss 0.5149 Accuracy 74.1175 AUC 0.7835\n",
            "Epoch 93 TRAIN Batch 300 Loss 0.5147 Accuracy 74.1302 AUC 0.7836\n",
            "Epoch 93 TRAIN Batch 350 Loss 0.5146 Accuracy 74.1476 AUC 0.7836\n",
            "Epoch 93 TRAIN Batch 400 Loss 0.5144 Accuracy 74.1716 AUC 0.7837\n",
            "Epoch 93 TRAIN Batch 450 Loss 0.5146 Accuracy 74.1661 AUC 0.7836\n",
            "Epoch 93 TRAIN Batch 500 Loss 0.5145 Accuracy 74.1753 AUC 0.7836\n",
            "Epoch 93 TRAIN Batch 550 Loss 0.5145 Accuracy 74.1732 AUC 0.7836\n",
            "Epoch 93 TRAIN Batch 600 Loss 0.5147 Accuracy 74.1607 AUC 0.7835\n",
            "Epoch 93 TRAIN Batch 650 Loss 0.5146 Accuracy 74.1653 AUC 0.7835\n",
            "Epoch 93 TRAIN Batch 700 Loss 0.5146 Accuracy 74.1643 AUC 0.7834\n",
            "Epoch 93 TRAIN Batch 750 Loss 0.5145 Accuracy 74.1687 AUC 0.7834\n"
          ],
          "name": "stdout"
        },
        {
          "output_type": "stream",
          "text": [
            "19-12 20:19 root         INFO     Epoch TRAIN 93 Loss 0.5146 Accuracy 74.1610 AUC 0.7833\n"
          ],
          "name": "stderr"
        },
        {
          "output_type": "stream",
          "text": [
            "Time taken for 1 epoch: 85.11181259155273 secs\n",
            "\n",
            "Epoch 94 TRAIN Batch 0 Loss 0.5359 Accuracy 72.0979 AUC 0.7755\n",
            "Epoch 94 TRAIN Batch 50 Loss 0.5165 Accuracy 74.0477 AUC 0.7815\n",
            "Epoch 94 TRAIN Batch 100 Loss 0.5156 Accuracy 74.1127 AUC 0.7819\n",
            "Epoch 94 TRAIN Batch 150 Loss 0.5147 Accuracy 74.1723 AUC 0.7828\n",
            "Epoch 94 TRAIN Batch 200 Loss 0.5151 Accuracy 74.1452 AUC 0.7827\n",
            "Epoch 94 TRAIN Batch 250 Loss 0.5153 Accuracy 74.1202 AUC 0.7828\n",
            "Epoch 94 TRAIN Batch 300 Loss 0.5152 Accuracy 74.1129 AUC 0.7827\n",
            "Epoch 94 TRAIN Batch 350 Loss 0.5153 Accuracy 74.1003 AUC 0.7827\n",
            "Epoch 94 TRAIN Batch 400 Loss 0.5151 Accuracy 74.1161 AUC 0.7829\n",
            "Epoch 94 TRAIN Batch 450 Loss 0.5150 Accuracy 74.1173 AUC 0.7830\n",
            "Epoch 94 TRAIN Batch 500 Loss 0.5150 Accuracy 74.1254 AUC 0.7831\n",
            "Epoch 94 TRAIN Batch 550 Loss 0.5150 Accuracy 74.1302 AUC 0.7832\n",
            "Epoch 94 TRAIN Batch 600 Loss 0.5151 Accuracy 74.1253 AUC 0.7831\n",
            "Epoch 94 TRAIN Batch 650 Loss 0.5149 Accuracy 74.1378 AUC 0.7832\n",
            "Epoch 94 TRAIN Batch 700 Loss 0.5149 Accuracy 74.1436 AUC 0.7832\n",
            "Epoch 94 TRAIN Batch 750 Loss 0.5148 Accuracy 74.1543 AUC 0.7833\n"
          ],
          "name": "stdout"
        },
        {
          "output_type": "stream",
          "text": [
            "19-12 20:20 root         INFO     Epoch TRAIN 94 Loss 0.5147 Accuracy 74.1594 AUC 0.7834\n"
          ],
          "name": "stderr"
        },
        {
          "output_type": "stream",
          "text": [
            "Time taken for 1 epoch: 84.70055341720581 secs\n",
            "\n",
            "Epoch 95 TRAIN Batch 0 Loss 0.5164 Accuracy 74.1219 AUC 0.7799\n",
            "Epoch 95 TRAIN Batch 50 Loss 0.5149 Accuracy 74.1728 AUC 0.7840\n",
            "Epoch 95 TRAIN Batch 100 Loss 0.5156 Accuracy 74.0866 AUC 0.7835\n",
            "Epoch 95 TRAIN Batch 150 Loss 0.5151 Accuracy 74.1454 AUC 0.7837\n",
            "Epoch 95 TRAIN Batch 200 Loss 0.5149 Accuracy 74.1551 AUC 0.7837\n",
            "Epoch 95 TRAIN Batch 250 Loss 0.5145 Accuracy 74.1537 AUC 0.7840\n",
            "Epoch 95 TRAIN Batch 300 Loss 0.5147 Accuracy 74.1545 AUC 0.7839\n",
            "Epoch 95 TRAIN Batch 350 Loss 0.5147 Accuracy 74.1494 AUC 0.7838\n",
            "Epoch 95 TRAIN Batch 400 Loss 0.5148 Accuracy 74.1427 AUC 0.7837\n",
            "Epoch 95 TRAIN Batch 450 Loss 0.5149 Accuracy 74.1299 AUC 0.7836\n",
            "Epoch 95 TRAIN Batch 500 Loss 0.5148 Accuracy 74.1428 AUC 0.7836\n",
            "Epoch 95 TRAIN Batch 550 Loss 0.5148 Accuracy 74.1469 AUC 0.7836\n",
            "Epoch 95 TRAIN Batch 600 Loss 0.5148 Accuracy 74.1404 AUC 0.7836\n",
            "Epoch 95 TRAIN Batch 650 Loss 0.5149 Accuracy 74.1331 AUC 0.7835\n",
            "Epoch 95 TRAIN Batch 700 Loss 0.5149 Accuracy 74.1322 AUC 0.7834\n",
            "Epoch 95 TRAIN Batch 750 Loss 0.5149 Accuracy 74.1414 AUC 0.7833\n"
          ],
          "name": "stdout"
        },
        {
          "output_type": "stream",
          "text": [
            "19-12 20:22 root         INFO     Epoch TRAIN 95 Loss 0.5149 Accuracy 74.1389 AUC 0.7833\n"
          ],
          "name": "stderr"
        },
        {
          "output_type": "stream",
          "text": [
            "Epoch 95 VAL Batch 0 Loss 0.5167 Accuracy 74.0082 AUC 0.7802\n",
            "Epoch 95 VAL Batch 50 Loss 0.5179 Accuracy 73.8888 AUC 0.7816\n",
            "Epoch 95 VAL Batch 100 Loss 0.5171 Accuracy 73.9745 AUC 0.7824\n",
            "Epoch 95 VAL Batch 150 Loss 0.5170 Accuracy 73.9812 AUC 0.7821\n",
            "Epoch 95 VAL Batch 200 Loss 0.5172 Accuracy 73.9489 AUC 0.7822\n",
            "Epoch 95 VAL Batch 250 Loss 0.5169 Accuracy 73.9829 AUC 0.7825\n",
            "Epoch 95 VAL Batch 300 Loss 0.5166 Accuracy 74.0143 AUC 0.7827\n",
            "Epoch 95 VAL Batch 350 Loss 0.5167 Accuracy 74.0162 AUC 0.7828\n",
            "Epoch 95 VAL Batch 400 Loss 0.5165 Accuracy 74.0319 AUC 0.7829\n",
            "Epoch 95 VAL Batch 450 Loss 0.5162 Accuracy 74.0577 AUC 0.7830\n",
            "Epoch 95 VAL Batch 500 Loss 0.5162 Accuracy 74.0537 AUC 0.7829\n",
            "Epoch 95 VAL Batch 550 Loss 0.5162 Accuracy 74.0591 AUC 0.7828\n",
            "Epoch 95 VAL Batch 600 Loss 0.5160 Accuracy 74.0781 AUC 0.7830\n",
            "Epoch 95 VAL Batch 650 Loss 0.5161 Accuracy 74.0751 AUC 0.7830\n",
            "Epoch 95 VAL Batch 700 Loss 0.5161 Accuracy 74.0791 AUC 0.7830\n",
            "Epoch 95 VAL Batch 750 Loss 0.5160 Accuracy 74.0848 AUC 0.7830\n"
          ],
          "name": "stdout"
        },
        {
          "output_type": "stream",
          "text": [
            "19-12 20:22 root         INFO     Epoch VAL 95 Loss 0.5160 Accuracy 74.0834 AUC 0.7831\n",
            "19-12 20:22 root         INFO     Saving checkpoint for epoch 95 at 19-Dec-riiid-2/checkpoints/ckpt-19\n"
          ],
          "name": "stderr"
        },
        {
          "output_type": "stream",
          "text": [
            "Time taken for 1 epoch: 101.94909572601318 secs\n",
            "\n",
            "Epoch 96 TRAIN Batch 0 Loss 0.5215 Accuracy 73.1239 AUC 0.7892\n",
            "Epoch 96 TRAIN Batch 50 Loss 0.5155 Accuracy 74.0960 AUC 0.7846\n",
            "Epoch 96 TRAIN Batch 100 Loss 0.5147 Accuracy 74.1659 AUC 0.7844\n",
            "Epoch 96 TRAIN Batch 150 Loss 0.5143 Accuracy 74.2147 AUC 0.7841\n",
            "Epoch 96 TRAIN Batch 200 Loss 0.5146 Accuracy 74.1818 AUC 0.7842\n",
            "Epoch 96 TRAIN Batch 250 Loss 0.5150 Accuracy 74.1504 AUC 0.7838\n",
            "Epoch 96 TRAIN Batch 300 Loss 0.5150 Accuracy 74.1516 AUC 0.7836\n",
            "Epoch 96 TRAIN Batch 350 Loss 0.5147 Accuracy 74.1660 AUC 0.7838\n",
            "Epoch 96 TRAIN Batch 400 Loss 0.5149 Accuracy 74.1606 AUC 0.7838\n",
            "Epoch 96 TRAIN Batch 450 Loss 0.5148 Accuracy 74.1551 AUC 0.7838\n",
            "Epoch 96 TRAIN Batch 500 Loss 0.5148 Accuracy 74.1535 AUC 0.7837\n",
            "Epoch 96 TRAIN Batch 550 Loss 0.5147 Accuracy 74.1655 AUC 0.7838\n",
            "Epoch 96 TRAIN Batch 600 Loss 0.5146 Accuracy 74.1704 AUC 0.7839\n",
            "Epoch 96 TRAIN Batch 650 Loss 0.5146 Accuracy 74.1795 AUC 0.7839\n",
            "Epoch 96 TRAIN Batch 700 Loss 0.5146 Accuracy 74.1772 AUC 0.7839\n",
            "Epoch 96 TRAIN Batch 750 Loss 0.5145 Accuracy 74.1818 AUC 0.7839\n"
          ],
          "name": "stdout"
        },
        {
          "output_type": "stream",
          "text": [
            "19-12 20:23 root         INFO     Epoch TRAIN 96 Loss 0.5146 Accuracy 74.1751 AUC 0.7839\n"
          ],
          "name": "stderr"
        },
        {
          "output_type": "stream",
          "text": [
            "Time taken for 1 epoch: 84.45850276947021 secs\n",
            "\n",
            "Epoch 97 TRAIN Batch 0 Loss 0.5211 Accuracy 73.7031 AUC 0.7799\n",
            "Epoch 97 TRAIN Batch 50 Loss 0.5168 Accuracy 73.9712 AUC 0.7814\n",
            "Epoch 97 TRAIN Batch 100 Loss 0.5165 Accuracy 74.0066 AUC 0.7821\n",
            "Epoch 97 TRAIN Batch 150 Loss 0.5157 Accuracy 74.0724 AUC 0.7824\n",
            "Epoch 97 TRAIN Batch 200 Loss 0.5154 Accuracy 74.0985 AUC 0.7827\n",
            "Epoch 97 TRAIN Batch 250 Loss 0.5152 Accuracy 74.1272 AUC 0.7829\n",
            "Epoch 97 TRAIN Batch 300 Loss 0.5150 Accuracy 74.1416 AUC 0.7833\n",
            "Epoch 97 TRAIN Batch 350 Loss 0.5147 Accuracy 74.1597 AUC 0.7833\n",
            "Epoch 97 TRAIN Batch 400 Loss 0.5146 Accuracy 74.1672 AUC 0.7835\n",
            "Epoch 97 TRAIN Batch 450 Loss 0.5147 Accuracy 74.1585 AUC 0.7835\n",
            "Epoch 97 TRAIN Batch 500 Loss 0.5146 Accuracy 74.1605 AUC 0.7835\n",
            "Epoch 97 TRAIN Batch 550 Loss 0.5147 Accuracy 74.1481 AUC 0.7834\n",
            "Epoch 97 TRAIN Batch 600 Loss 0.5147 Accuracy 74.1485 AUC 0.7834\n",
            "Epoch 97 TRAIN Batch 650 Loss 0.5146 Accuracy 74.1511 AUC 0.7834\n",
            "Epoch 97 TRAIN Batch 700 Loss 0.5146 Accuracy 74.1571 AUC 0.7835\n",
            "Epoch 97 TRAIN Batch 750 Loss 0.5144 Accuracy 74.1646 AUC 0.7836\n"
          ],
          "name": "stdout"
        },
        {
          "output_type": "stream",
          "text": [
            "19-12 20:25 root         INFO     Epoch TRAIN 97 Loss 0.5144 Accuracy 74.1701 AUC 0.7836\n"
          ],
          "name": "stderr"
        },
        {
          "output_type": "stream",
          "text": [
            "Time taken for 1 epoch: 86.47809648513794 secs\n",
            "\n",
            "Epoch 98 TRAIN Batch 0 Loss 0.5062 Accuracy 74.4106 AUC 0.7908\n",
            "Epoch 98 TRAIN Batch 50 Loss 0.5141 Accuracy 74.1957 AUC 0.7832\n",
            "Epoch 98 TRAIN Batch 100 Loss 0.5148 Accuracy 74.1246 AUC 0.7832\n",
            "Epoch 98 TRAIN Batch 150 Loss 0.5148 Accuracy 74.1244 AUC 0.7836\n",
            "Epoch 98 TRAIN Batch 200 Loss 0.5144 Accuracy 74.1439 AUC 0.7837\n",
            "Epoch 98 TRAIN Batch 250 Loss 0.5141 Accuracy 74.1739 AUC 0.7838\n",
            "Epoch 98 TRAIN Batch 300 Loss 0.5146 Accuracy 74.1434 AUC 0.7835\n",
            "Epoch 98 TRAIN Batch 350 Loss 0.5146 Accuracy 74.1450 AUC 0.7835\n",
            "Epoch 98 TRAIN Batch 400 Loss 0.5144 Accuracy 74.1492 AUC 0.7836\n",
            "Epoch 98 TRAIN Batch 450 Loss 0.5144 Accuracy 74.1514 AUC 0.7835\n",
            "Epoch 98 TRAIN Batch 500 Loss 0.5145 Accuracy 74.1514 AUC 0.7836\n",
            "Epoch 98 TRAIN Batch 550 Loss 0.5143 Accuracy 74.1639 AUC 0.7837\n",
            "Epoch 98 TRAIN Batch 600 Loss 0.5144 Accuracy 74.1603 AUC 0.7837\n",
            "Epoch 98 TRAIN Batch 650 Loss 0.5145 Accuracy 74.1530 AUC 0.7836\n",
            "Epoch 98 TRAIN Batch 700 Loss 0.5145 Accuracy 74.1582 AUC 0.7837\n",
            "Epoch 98 TRAIN Batch 750 Loss 0.5145 Accuracy 74.1588 AUC 0.7837\n"
          ],
          "name": "stdout"
        },
        {
          "output_type": "stream",
          "text": [
            "19-12 20:26 root         INFO     Epoch TRAIN 98 Loss 0.5144 Accuracy 74.1656 AUC 0.7837\n"
          ],
          "name": "stderr"
        },
        {
          "output_type": "stream",
          "text": [
            "Time taken for 1 epoch: 85.7199478149414 secs\n",
            "\n",
            "Epoch 99 TRAIN Batch 0 Loss 0.5171 Accuracy 74.2030 AUC 0.7883\n",
            "Epoch 99 TRAIN Batch 50 Loss 0.5149 Accuracy 74.1566 AUC 0.7837\n",
            "Epoch 99 TRAIN Batch 100 Loss 0.5144 Accuracy 74.1647 AUC 0.7843\n",
            "Epoch 99 TRAIN Batch 150 Loss 0.5148 Accuracy 74.1394 AUC 0.7841\n",
            "Epoch 99 TRAIN Batch 200 Loss 0.5148 Accuracy 74.1561 AUC 0.7841\n",
            "Epoch 99 TRAIN Batch 250 Loss 0.5145 Accuracy 74.1739 AUC 0.7842\n",
            "Epoch 99 TRAIN Batch 300 Loss 0.5144 Accuracy 74.1826 AUC 0.7843\n",
            "Epoch 99 TRAIN Batch 350 Loss 0.5144 Accuracy 74.1873 AUC 0.7843\n",
            "Epoch 99 TRAIN Batch 400 Loss 0.5147 Accuracy 74.1625 AUC 0.7841\n",
            "Epoch 99 TRAIN Batch 450 Loss 0.5146 Accuracy 74.1663 AUC 0.7841\n",
            "Epoch 99 TRAIN Batch 500 Loss 0.5145 Accuracy 74.1671 AUC 0.7842\n",
            "Epoch 99 TRAIN Batch 550 Loss 0.5144 Accuracy 74.1738 AUC 0.7842\n",
            "Epoch 99 TRAIN Batch 600 Loss 0.5144 Accuracy 74.1809 AUC 0.7841\n",
            "Epoch 99 TRAIN Batch 650 Loss 0.5145 Accuracy 74.1684 AUC 0.7840\n",
            "Epoch 99 TRAIN Batch 700 Loss 0.5145 Accuracy 74.1728 AUC 0.7841\n",
            "Epoch 99 TRAIN Batch 750 Loss 0.5144 Accuracy 74.1814 AUC 0.7841\n"
          ],
          "name": "stdout"
        },
        {
          "output_type": "stream",
          "text": [
            "19-12 20:28 root         INFO     Epoch TRAIN 99 Loss 0.5144 Accuracy 74.1829 AUC 0.7841\n"
          ],
          "name": "stderr"
        },
        {
          "output_type": "stream",
          "text": [
            "Time taken for 1 epoch: 84.3942391872406 secs\n",
            "\n",
            "Epoch 100 TRAIN Batch 0 Loss 0.4903 Accuracy 76.0577 AUC 0.7937\n",
            "Epoch 100 TRAIN Batch 50 Loss 0.5157 Accuracy 74.1327 AUC 0.7840\n",
            "Epoch 100 TRAIN Batch 100 Loss 0.5145 Accuracy 74.1792 AUC 0.7841\n",
            "Epoch 100 TRAIN Batch 150 Loss 0.5138 Accuracy 74.2380 AUC 0.7843\n",
            "Epoch 100 TRAIN Batch 200 Loss 0.5139 Accuracy 74.2194 AUC 0.7845\n",
            "Epoch 100 TRAIN Batch 250 Loss 0.5140 Accuracy 74.2144 AUC 0.7845\n",
            "Epoch 100 TRAIN Batch 300 Loss 0.5140 Accuracy 74.2098 AUC 0.7845\n",
            "Epoch 100 TRAIN Batch 350 Loss 0.5142 Accuracy 74.1946 AUC 0.7842\n",
            "Epoch 100 TRAIN Batch 400 Loss 0.5141 Accuracy 74.2116 AUC 0.7842\n",
            "Epoch 100 TRAIN Batch 450 Loss 0.5140 Accuracy 74.2099 AUC 0.7843\n",
            "Epoch 100 TRAIN Batch 500 Loss 0.5140 Accuracy 74.2057 AUC 0.7842\n",
            "Epoch 100 TRAIN Batch 550 Loss 0.5141 Accuracy 74.2031 AUC 0.7842\n",
            "Epoch 100 TRAIN Batch 600 Loss 0.5140 Accuracy 74.2103 AUC 0.7842\n",
            "Epoch 100 TRAIN Batch 650 Loss 0.5140 Accuracy 74.2091 AUC 0.7842\n",
            "Epoch 100 TRAIN Batch 700 Loss 0.5139 Accuracy 74.2114 AUC 0.7842\n",
            "Epoch 100 TRAIN Batch 750 Loss 0.5140 Accuracy 74.2083 AUC 0.7841\n"
          ],
          "name": "stdout"
        },
        {
          "output_type": "stream",
          "text": [
            "19-12 20:29 root         INFO     Epoch TRAIN 100 Loss 0.5139 Accuracy 74.2080 AUC 0.7841\n"
          ],
          "name": "stderr"
        },
        {
          "output_type": "stream",
          "text": [
            "Epoch 100 VAL Batch 0 Loss 0.5173 Accuracy 74.1592 AUC 0.7796\n",
            "Epoch 100 VAL Batch 50 Loss 0.5175 Accuracy 73.9236 AUC 0.7819\n",
            "Epoch 100 VAL Batch 100 Loss 0.5166 Accuracy 74.0423 AUC 0.7829\n",
            "Epoch 100 VAL Batch 150 Loss 0.5165 Accuracy 74.0423 AUC 0.7826\n",
            "Epoch 100 VAL Batch 200 Loss 0.5167 Accuracy 74.0212 AUC 0.7828\n",
            "Epoch 100 VAL Batch 250 Loss 0.5164 Accuracy 74.0446 AUC 0.7830\n",
            "Epoch 100 VAL Batch 300 Loss 0.5161 Accuracy 74.0747 AUC 0.7831\n",
            "Epoch 100 VAL Batch 350 Loss 0.5162 Accuracy 74.0779 AUC 0.7833\n",
            "Epoch 100 VAL Batch 400 Loss 0.5159 Accuracy 74.0995 AUC 0.7834\n",
            "Epoch 100 VAL Batch 450 Loss 0.5156 Accuracy 74.1201 AUC 0.7836\n",
            "Epoch 100 VAL Batch 500 Loss 0.5157 Accuracy 74.1158 AUC 0.7835\n",
            "Epoch 100 VAL Batch 550 Loss 0.5157 Accuracy 74.1165 AUC 0.7834\n",
            "Epoch 100 VAL Batch 600 Loss 0.5154 Accuracy 74.1326 AUC 0.7836\n",
            "Epoch 100 VAL Batch 650 Loss 0.5155 Accuracy 74.1292 AUC 0.7835\n",
            "Epoch 100 VAL Batch 700 Loss 0.5155 Accuracy 74.1306 AUC 0.7835\n",
            "Epoch 100 VAL Batch 750 Loss 0.5155 Accuracy 74.1360 AUC 0.7836\n"
          ],
          "name": "stdout"
        },
        {
          "output_type": "stream",
          "text": [
            "19-12 20:29 root         INFO     Epoch VAL 100 Loss 0.5155 Accuracy 74.1356 AUC 0.7836\n",
            "19-12 20:29 root         INFO     Saving checkpoint for epoch 100 at 19-Dec-riiid-2/checkpoints/ckpt-20\n"
          ],
          "name": "stderr"
        },
        {
          "output_type": "stream",
          "text": [
            "Time taken for 1 epoch: 102.90909433364868 secs\n",
            "\n",
            "Epoch 101 TRAIN Batch 0 Loss 0.4956 Accuracy 75.2964 AUC 0.7983\n",
            "Epoch 101 TRAIN Batch 50 Loss 0.5134 Accuracy 74.2555 AUC 0.7841\n",
            "Epoch 101 TRAIN Batch 100 Loss 0.5143 Accuracy 74.2184 AUC 0.7834\n",
            "Epoch 101 TRAIN Batch 150 Loss 0.5135 Accuracy 74.2447 AUC 0.7840\n",
            "Epoch 101 TRAIN Batch 200 Loss 0.5133 Accuracy 74.2439 AUC 0.7841\n",
            "Epoch 101 TRAIN Batch 250 Loss 0.5134 Accuracy 74.2472 AUC 0.7842\n",
            "Epoch 101 TRAIN Batch 300 Loss 0.5137 Accuracy 74.2224 AUC 0.7840\n",
            "Epoch 101 TRAIN Batch 350 Loss 0.5138 Accuracy 74.2162 AUC 0.7842\n",
            "Epoch 101 TRAIN Batch 400 Loss 0.5138 Accuracy 74.2234 AUC 0.7841\n",
            "Epoch 101 TRAIN Batch 450 Loss 0.5138 Accuracy 74.2248 AUC 0.7842\n",
            "Epoch 101 TRAIN Batch 500 Loss 0.5140 Accuracy 74.2044 AUC 0.7840\n",
            "Epoch 101 TRAIN Batch 550 Loss 0.5141 Accuracy 74.1953 AUC 0.7840\n",
            "Epoch 101 TRAIN Batch 600 Loss 0.5140 Accuracy 74.2082 AUC 0.7840\n",
            "Epoch 101 TRAIN Batch 650 Loss 0.5140 Accuracy 74.2038 AUC 0.7839\n",
            "Epoch 101 TRAIN Batch 700 Loss 0.5139 Accuracy 74.2092 AUC 0.7839\n",
            "Epoch 101 TRAIN Batch 750 Loss 0.5140 Accuracy 74.2021 AUC 0.7839\n"
          ],
          "name": "stdout"
        },
        {
          "output_type": "stream",
          "text": [
            "19-12 20:31 root         INFO     Epoch TRAIN 101 Loss 0.5141 Accuracy 74.1887 AUC 0.7838\n"
          ],
          "name": "stderr"
        },
        {
          "output_type": "stream",
          "text": [
            "Time taken for 1 epoch: 84.33571529388428 secs\n",
            "\n",
            "Epoch 102 TRAIN Batch 0 Loss 0.5047 Accuracy 74.9350 AUC 0.7889\n",
            "Epoch 102 TRAIN Batch 50 Loss 0.5148 Accuracy 74.1739 AUC 0.7839\n",
            "Epoch 102 TRAIN Batch 100 Loss 0.5147 Accuracy 74.1571 AUC 0.7839\n",
            "Epoch 102 TRAIN Batch 150 Loss 0.5151 Accuracy 74.1212 AUC 0.7837\n",
            "Epoch 102 TRAIN Batch 200 Loss 0.5151 Accuracy 74.1198 AUC 0.7838\n",
            "Epoch 102 TRAIN Batch 250 Loss 0.5149 Accuracy 74.1343 AUC 0.7839\n",
            "Epoch 102 TRAIN Batch 300 Loss 0.5149 Accuracy 74.1276 AUC 0.7838\n",
            "Epoch 102 TRAIN Batch 350 Loss 0.5147 Accuracy 74.1393 AUC 0.7839\n",
            "Epoch 102 TRAIN Batch 400 Loss 0.5150 Accuracy 74.1126 AUC 0.7837\n",
            "Epoch 102 TRAIN Batch 450 Loss 0.5151 Accuracy 74.1072 AUC 0.7837\n",
            "Epoch 102 TRAIN Batch 500 Loss 0.5150 Accuracy 74.1179 AUC 0.7838\n",
            "Epoch 102 TRAIN Batch 550 Loss 0.5147 Accuracy 74.1358 AUC 0.7839\n",
            "Epoch 102 TRAIN Batch 600 Loss 0.5147 Accuracy 74.1399 AUC 0.7840\n",
            "Epoch 102 TRAIN Batch 650 Loss 0.5146 Accuracy 74.1494 AUC 0.7841\n",
            "Epoch 102 TRAIN Batch 700 Loss 0.5146 Accuracy 74.1459 AUC 0.7841\n",
            "Epoch 102 TRAIN Batch 750 Loss 0.5147 Accuracy 74.1367 AUC 0.7840\n"
          ],
          "name": "stdout"
        },
        {
          "output_type": "stream",
          "text": [
            "19-12 20:32 root         INFO     Epoch TRAIN 102 Loss 0.5147 Accuracy 74.1391 AUC 0.7840\n"
          ],
          "name": "stderr"
        },
        {
          "output_type": "stream",
          "text": [
            "Time taken for 1 epoch: 84.43043398857117 secs\n",
            "\n",
            "Epoch 103 TRAIN Batch 0 Loss 0.5179 Accuracy 73.6691 AUC 0.7854\n",
            "Epoch 103 TRAIN Batch 50 Loss 0.5149 Accuracy 74.1160 AUC 0.7833\n",
            "Epoch 103 TRAIN Batch 100 Loss 0.5140 Accuracy 74.1396 AUC 0.7840\n",
            "Epoch 103 TRAIN Batch 150 Loss 0.5141 Accuracy 74.1420 AUC 0.7843\n",
            "Epoch 103 TRAIN Batch 200 Loss 0.5141 Accuracy 74.1568 AUC 0.7840\n",
            "Epoch 103 TRAIN Batch 250 Loss 0.5143 Accuracy 74.1527 AUC 0.7837\n",
            "Epoch 103 TRAIN Batch 300 Loss 0.5142 Accuracy 74.1666 AUC 0.7838\n",
            "Epoch 103 TRAIN Batch 350 Loss 0.5144 Accuracy 74.1498 AUC 0.7837\n",
            "Epoch 103 TRAIN Batch 400 Loss 0.5141 Accuracy 74.1676 AUC 0.7839\n",
            "Epoch 103 TRAIN Batch 450 Loss 0.5142 Accuracy 74.1597 AUC 0.7839\n",
            "Epoch 103 TRAIN Batch 500 Loss 0.5142 Accuracy 74.1601 AUC 0.7839\n",
            "Epoch 103 TRAIN Batch 550 Loss 0.5142 Accuracy 74.1628 AUC 0.7840\n",
            "Epoch 103 TRAIN Batch 600 Loss 0.5141 Accuracy 74.1677 AUC 0.7841\n",
            "Epoch 103 TRAIN Batch 650 Loss 0.5139 Accuracy 74.1832 AUC 0.7842\n",
            "Epoch 103 TRAIN Batch 700 Loss 0.5139 Accuracy 74.1828 AUC 0.7842\n",
            "Epoch 103 TRAIN Batch 750 Loss 0.5138 Accuracy 74.1856 AUC 0.7842\n"
          ],
          "name": "stdout"
        },
        {
          "output_type": "stream",
          "text": [
            "19-12 20:33 root         INFO     Epoch TRAIN 103 Loss 0.5140 Accuracy 74.1766 AUC 0.7842\n"
          ],
          "name": "stderr"
        },
        {
          "output_type": "stream",
          "text": [
            "Time taken for 1 epoch: 84.48032784461975 secs\n",
            "\n",
            "Epoch 104 TRAIN Batch 0 Loss 0.5178 Accuracy 74.1825 AUC 0.7852\n",
            "Epoch 104 TRAIN Batch 50 Loss 0.5151 Accuracy 74.1122 AUC 0.7835\n",
            "Epoch 104 TRAIN Batch 100 Loss 0.5148 Accuracy 74.1440 AUC 0.7834\n",
            "Epoch 104 TRAIN Batch 150 Loss 0.5135 Accuracy 74.2357 AUC 0.7844\n",
            "Epoch 104 TRAIN Batch 200 Loss 0.5129 Accuracy 74.2721 AUC 0.7846\n",
            "Epoch 104 TRAIN Batch 250 Loss 0.5130 Accuracy 74.2633 AUC 0.7846\n",
            "Epoch 104 TRAIN Batch 300 Loss 0.5133 Accuracy 74.2541 AUC 0.7845\n",
            "Epoch 104 TRAIN Batch 350 Loss 0.5134 Accuracy 74.2379 AUC 0.7846\n",
            "Epoch 104 TRAIN Batch 400 Loss 0.5133 Accuracy 74.2611 AUC 0.7846\n",
            "Epoch 104 TRAIN Batch 450 Loss 0.5133 Accuracy 74.2577 AUC 0.7845\n",
            "Epoch 104 TRAIN Batch 500 Loss 0.5131 Accuracy 74.2711 AUC 0.7847\n",
            "Epoch 104 TRAIN Batch 550 Loss 0.5132 Accuracy 74.2586 AUC 0.7846\n",
            "Epoch 104 TRAIN Batch 600 Loss 0.5134 Accuracy 74.2400 AUC 0.7846\n",
            "Epoch 104 TRAIN Batch 650 Loss 0.5134 Accuracy 74.2399 AUC 0.7846\n",
            "Epoch 104 TRAIN Batch 700 Loss 0.5132 Accuracy 74.2540 AUC 0.7847\n",
            "Epoch 104 TRAIN Batch 750 Loss 0.5133 Accuracy 74.2562 AUC 0.7846\n"
          ],
          "name": "stdout"
        },
        {
          "output_type": "stream",
          "text": [
            "19-12 20:35 root         INFO     Epoch TRAIN 104 Loss 0.5132 Accuracy 74.2652 AUC 0.7847\n"
          ],
          "name": "stderr"
        },
        {
          "output_type": "stream",
          "text": [
            "Time taken for 1 epoch: 86.75794386863708 secs\n",
            "\n",
            "Epoch 105 TRAIN Batch 0 Loss 0.5354 Accuracy 72.9336 AUC 0.7704\n",
            "Epoch 105 TRAIN Batch 50 Loss 0.5145 Accuracy 74.1720 AUC 0.7844\n",
            "Epoch 105 TRAIN Batch 100 Loss 0.5141 Accuracy 74.1984 AUC 0.7849\n",
            "Epoch 105 TRAIN Batch 150 Loss 0.5135 Accuracy 74.2607 AUC 0.7850\n",
            "Epoch 105 TRAIN Batch 200 Loss 0.5133 Accuracy 74.2809 AUC 0.7852\n",
            "Epoch 105 TRAIN Batch 250 Loss 0.5129 Accuracy 74.3079 AUC 0.7853\n",
            "Epoch 105 TRAIN Batch 300 Loss 0.5129 Accuracy 74.2837 AUC 0.7851\n",
            "Epoch 105 TRAIN Batch 350 Loss 0.5127 Accuracy 74.2915 AUC 0.7852\n",
            "Epoch 105 TRAIN Batch 400 Loss 0.5127 Accuracy 74.2878 AUC 0.7851\n",
            "Epoch 105 TRAIN Batch 450 Loss 0.5130 Accuracy 74.2691 AUC 0.7850\n",
            "Epoch 105 TRAIN Batch 500 Loss 0.5133 Accuracy 74.2518 AUC 0.7849\n",
            "Epoch 105 TRAIN Batch 550 Loss 0.5134 Accuracy 74.2447 AUC 0.7849\n",
            "Epoch 105 TRAIN Batch 600 Loss 0.5133 Accuracy 74.2435 AUC 0.7849\n",
            "Epoch 105 TRAIN Batch 650 Loss 0.5134 Accuracy 74.2463 AUC 0.7848\n",
            "Epoch 105 TRAIN Batch 700 Loss 0.5134 Accuracy 74.2445 AUC 0.7849\n",
            "Epoch 105 TRAIN Batch 750 Loss 0.5134 Accuracy 74.2412 AUC 0.7848\n"
          ],
          "name": "stdout"
        },
        {
          "output_type": "stream",
          "text": [
            "19-12 20:36 root         INFO     Epoch TRAIN 105 Loss 0.5134 Accuracy 74.2410 AUC 0.7849\n"
          ],
          "name": "stderr"
        },
        {
          "output_type": "stream",
          "text": [
            "Epoch 105 VAL Batch 0 Loss 0.5156 Accuracy 73.9495 AUC 0.7818\n",
            "Epoch 105 VAL Batch 50 Loss 0.5170 Accuracy 73.9522 AUC 0.7826\n",
            "Epoch 105 VAL Batch 100 Loss 0.5161 Accuracy 74.0638 AUC 0.7836\n",
            "Epoch 105 VAL Batch 150 Loss 0.5160 Accuracy 74.0758 AUC 0.7834\n",
            "Epoch 105 VAL Batch 200 Loss 0.5161 Accuracy 74.0550 AUC 0.7836\n",
            "Epoch 105 VAL Batch 250 Loss 0.5158 Accuracy 74.0809 AUC 0.7838\n",
            "Epoch 105 VAL Batch 300 Loss 0.5155 Accuracy 74.1114 AUC 0.7840\n",
            "Epoch 105 VAL Batch 350 Loss 0.5156 Accuracy 74.1099 AUC 0.7841\n",
            "Epoch 105 VAL Batch 400 Loss 0.5153 Accuracy 74.1325 AUC 0.7842\n",
            "Epoch 105 VAL Batch 450 Loss 0.5150 Accuracy 74.1572 AUC 0.7844\n",
            "Epoch 105 VAL Batch 500 Loss 0.5150 Accuracy 74.1478 AUC 0.7843\n",
            "Epoch 105 VAL Batch 550 Loss 0.5150 Accuracy 74.1526 AUC 0.7842\n",
            "Epoch 105 VAL Batch 600 Loss 0.5148 Accuracy 74.1659 AUC 0.7844\n",
            "Epoch 105 VAL Batch 650 Loss 0.5149 Accuracy 74.1669 AUC 0.7844\n",
            "Epoch 105 VAL Batch 700 Loss 0.5149 Accuracy 74.1698 AUC 0.7844\n",
            "Epoch 105 VAL Batch 750 Loss 0.5148 Accuracy 74.1720 AUC 0.7844\n"
          ],
          "name": "stdout"
        },
        {
          "output_type": "stream",
          "text": [
            "19-12 20:37 root         INFO     Epoch VAL 105 Loss 0.5148 Accuracy 74.1715 AUC 0.7845\n",
            "19-12 20:37 root         INFO     Saving checkpoint for epoch 105 at 19-Dec-riiid-2/checkpoints/ckpt-21\n"
          ],
          "name": "stderr"
        },
        {
          "output_type": "stream",
          "text": [
            "Time taken for 1 epoch: 102.10165238380432 secs\n",
            "\n",
            "Epoch 106 TRAIN Batch 0 Loss 0.5065 Accuracy 75.0126 AUC 0.7872\n",
            "Epoch 106 TRAIN Batch 50 Loss 0.5138 Accuracy 74.2653 AUC 0.7842\n",
            "Epoch 106 TRAIN Batch 100 Loss 0.5147 Accuracy 74.1687 AUC 0.7837\n",
            "Epoch 106 TRAIN Batch 150 Loss 0.5145 Accuracy 74.1758 AUC 0.7835\n",
            "Epoch 106 TRAIN Batch 200 Loss 0.5148 Accuracy 74.1439 AUC 0.7837\n",
            "Epoch 106 TRAIN Batch 250 Loss 0.5146 Accuracy 74.1675 AUC 0.7838\n",
            "Epoch 106 TRAIN Batch 300 Loss 0.5141 Accuracy 74.1924 AUC 0.7842\n",
            "Epoch 106 TRAIN Batch 350 Loss 0.5141 Accuracy 74.2005 AUC 0.7844\n",
            "Epoch 106 TRAIN Batch 400 Loss 0.5142 Accuracy 74.1816 AUC 0.7843\n",
            "Epoch 106 TRAIN Batch 450 Loss 0.5141 Accuracy 74.1888 AUC 0.7843\n",
            "Epoch 106 TRAIN Batch 500 Loss 0.5140 Accuracy 74.1977 AUC 0.7843\n",
            "Epoch 106 TRAIN Batch 550 Loss 0.5139 Accuracy 74.2028 AUC 0.7845\n",
            "Epoch 106 TRAIN Batch 600 Loss 0.5139 Accuracy 74.2065 AUC 0.7845\n",
            "Epoch 106 TRAIN Batch 650 Loss 0.5138 Accuracy 74.2162 AUC 0.7846\n",
            "Epoch 106 TRAIN Batch 700 Loss 0.5139 Accuracy 74.2125 AUC 0.7846\n",
            "Epoch 106 TRAIN Batch 750 Loss 0.5139 Accuracy 74.2068 AUC 0.7847\n"
          ],
          "name": "stdout"
        },
        {
          "output_type": "stream",
          "text": [
            "19-12 20:38 root         INFO     Epoch TRAIN 106 Loss 0.5139 Accuracy 74.2099 AUC 0.7847\n"
          ],
          "name": "stderr"
        },
        {
          "output_type": "stream",
          "text": [
            "Time taken for 1 epoch: 83.65933990478516 secs\n",
            "\n",
            "Epoch 107 TRAIN Batch 0 Loss 0.5052 Accuracy 74.4743 AUC 0.7944\n",
            "Epoch 107 TRAIN Batch 50 Loss 0.5149 Accuracy 74.1444 AUC 0.7839\n",
            "Epoch 107 TRAIN Batch 100 Loss 0.5148 Accuracy 74.1398 AUC 0.7841\n",
            "Epoch 107 TRAIN Batch 150 Loss 0.5139 Accuracy 74.2054 AUC 0.7846\n",
            "Epoch 107 TRAIN Batch 200 Loss 0.5134 Accuracy 74.2482 AUC 0.7848\n",
            "Epoch 107 TRAIN Batch 250 Loss 0.5133 Accuracy 74.2495 AUC 0.7849\n",
            "Epoch 107 TRAIN Batch 300 Loss 0.5130 Accuracy 74.2751 AUC 0.7852\n",
            "Epoch 107 TRAIN Batch 350 Loss 0.5131 Accuracy 74.2700 AUC 0.7852\n",
            "Epoch 107 TRAIN Batch 400 Loss 0.5130 Accuracy 74.2611 AUC 0.7852\n",
            "Epoch 107 TRAIN Batch 450 Loss 0.5131 Accuracy 74.2595 AUC 0.7850\n",
            "Epoch 107 TRAIN Batch 500 Loss 0.5131 Accuracy 74.2503 AUC 0.7851\n",
            "Epoch 107 TRAIN Batch 550 Loss 0.5131 Accuracy 74.2520 AUC 0.7850\n",
            "Epoch 107 TRAIN Batch 600 Loss 0.5131 Accuracy 74.2528 AUC 0.7851\n",
            "Epoch 107 TRAIN Batch 650 Loss 0.5132 Accuracy 74.2433 AUC 0.7850\n",
            "Epoch 107 TRAIN Batch 700 Loss 0.5132 Accuracy 74.2489 AUC 0.7850\n",
            "Epoch 107 TRAIN Batch 750 Loss 0.5132 Accuracy 74.2542 AUC 0.7850\n"
          ],
          "name": "stdout"
        },
        {
          "output_type": "stream",
          "text": [
            "19-12 20:39 root         INFO     Epoch TRAIN 107 Loss 0.5132 Accuracy 74.2524 AUC 0.7850\n"
          ],
          "name": "stderr"
        },
        {
          "output_type": "stream",
          "text": [
            "Time taken for 1 epoch: 85.06709218025208 secs\n",
            "\n",
            "Epoch 108 TRAIN Batch 0 Loss 0.5216 Accuracy 73.5186 AUC 0.7813\n",
            "Epoch 108 TRAIN Batch 50 Loss 0.5145 Accuracy 74.1470 AUC 0.7846\n",
            "Epoch 108 TRAIN Batch 100 Loss 0.5131 Accuracy 74.2540 AUC 0.7850\n",
            "Epoch 108 TRAIN Batch 150 Loss 0.5133 Accuracy 74.2681 AUC 0.7848\n",
            "Epoch 108 TRAIN Batch 200 Loss 0.5133 Accuracy 74.2602 AUC 0.7848\n",
            "Epoch 108 TRAIN Batch 250 Loss 0.5131 Accuracy 74.2645 AUC 0.7850\n",
            "Epoch 108 TRAIN Batch 300 Loss 0.5132 Accuracy 74.2579 AUC 0.7851\n",
            "Epoch 108 TRAIN Batch 350 Loss 0.5132 Accuracy 74.2460 AUC 0.7850\n",
            "Epoch 108 TRAIN Batch 400 Loss 0.5133 Accuracy 74.2367 AUC 0.7848\n",
            "Epoch 108 TRAIN Batch 450 Loss 0.5133 Accuracy 74.2372 AUC 0.7850\n",
            "Epoch 108 TRAIN Batch 500 Loss 0.5132 Accuracy 74.2464 AUC 0.7851\n",
            "Epoch 108 TRAIN Batch 550 Loss 0.5132 Accuracy 74.2407 AUC 0.7850\n",
            "Epoch 108 TRAIN Batch 600 Loss 0.5132 Accuracy 74.2338 AUC 0.7850\n",
            "Epoch 108 TRAIN Batch 650 Loss 0.5132 Accuracy 74.2296 AUC 0.7850\n",
            "Epoch 108 TRAIN Batch 700 Loss 0.5131 Accuracy 74.2341 AUC 0.7851\n",
            "Epoch 108 TRAIN Batch 750 Loss 0.5131 Accuracy 74.2363 AUC 0.7853\n"
          ],
          "name": "stdout"
        },
        {
          "output_type": "stream",
          "text": [
            "19-12 20:41 root         INFO     Epoch TRAIN 108 Loss 0.5131 Accuracy 74.2330 AUC 0.7853\n"
          ],
          "name": "stderr"
        },
        {
          "output_type": "stream",
          "text": [
            "Time taken for 1 epoch: 84.3391695022583 secs\n",
            "\n",
            "Epoch 109 TRAIN Batch 0 Loss 0.5068 Accuracy 74.5482 AUC 0.7900\n",
            "Epoch 109 TRAIN Batch 50 Loss 0.5136 Accuracy 74.1632 AUC 0.7853\n",
            "Epoch 109 TRAIN Batch 100 Loss 0.5134 Accuracy 74.1851 AUC 0.7853\n",
            "Epoch 109 TRAIN Batch 150 Loss 0.5135 Accuracy 74.1669 AUC 0.7852\n",
            "Epoch 109 TRAIN Batch 200 Loss 0.5133 Accuracy 74.1843 AUC 0.7856\n",
            "Epoch 109 TRAIN Batch 250 Loss 0.5131 Accuracy 74.2023 AUC 0.7857\n",
            "Epoch 109 TRAIN Batch 300 Loss 0.5132 Accuracy 74.2052 AUC 0.7856\n",
            "Epoch 109 TRAIN Batch 350 Loss 0.5133 Accuracy 74.2043 AUC 0.7856\n",
            "Epoch 109 TRAIN Batch 400 Loss 0.5131 Accuracy 74.2165 AUC 0.7856\n",
            "Epoch 109 TRAIN Batch 450 Loss 0.5129 Accuracy 74.2345 AUC 0.7857\n",
            "Epoch 109 TRAIN Batch 500 Loss 0.5131 Accuracy 74.2265 AUC 0.7856\n",
            "Epoch 109 TRAIN Batch 550 Loss 0.5131 Accuracy 74.2238 AUC 0.7855\n",
            "Epoch 109 TRAIN Batch 600 Loss 0.5132 Accuracy 74.2230 AUC 0.7855\n",
            "Epoch 109 TRAIN Batch 650 Loss 0.5131 Accuracy 74.2289 AUC 0.7855\n",
            "Epoch 109 TRAIN Batch 700 Loss 0.5131 Accuracy 74.2290 AUC 0.7856\n",
            "Epoch 109 TRAIN Batch 750 Loss 0.5130 Accuracy 74.2355 AUC 0.7857\n"
          ],
          "name": "stdout"
        },
        {
          "output_type": "stream",
          "text": [
            "19-12 20:42 root         INFO     Epoch TRAIN 109 Loss 0.5130 Accuracy 74.2419 AUC 0.7857\n"
          ],
          "name": "stderr"
        },
        {
          "output_type": "stream",
          "text": [
            "Time taken for 1 epoch: 84.15684127807617 secs\n",
            "\n",
            "Epoch 110 TRAIN Batch 0 Loss 0.5204 Accuracy 73.8483 AUC 0.7803\n",
            "Epoch 110 TRAIN Batch 50 Loss 0.5145 Accuracy 74.1665 AUC 0.7838\n",
            "Epoch 110 TRAIN Batch 100 Loss 0.5128 Accuracy 74.2764 AUC 0.7850\n",
            "Epoch 110 TRAIN Batch 150 Loss 0.5136 Accuracy 74.2285 AUC 0.7849\n",
            "Epoch 110 TRAIN Batch 200 Loss 0.5135 Accuracy 74.2271 AUC 0.7850\n",
            "Epoch 110 TRAIN Batch 250 Loss 0.5137 Accuracy 74.2177 AUC 0.7850\n",
            "Epoch 110 TRAIN Batch 300 Loss 0.5137 Accuracy 74.2182 AUC 0.7849\n",
            "Epoch 110 TRAIN Batch 350 Loss 0.5135 Accuracy 74.2225 AUC 0.7851\n",
            "Epoch 110 TRAIN Batch 400 Loss 0.5135 Accuracy 74.2154 AUC 0.7851\n",
            "Epoch 110 TRAIN Batch 450 Loss 0.5135 Accuracy 74.2201 AUC 0.7853\n",
            "Epoch 110 TRAIN Batch 500 Loss 0.5135 Accuracy 74.2159 AUC 0.7852\n",
            "Epoch 110 TRAIN Batch 550 Loss 0.5134 Accuracy 74.2231 AUC 0.7852\n",
            "Epoch 110 TRAIN Batch 600 Loss 0.5134 Accuracy 74.2242 AUC 0.7852\n",
            "Epoch 110 TRAIN Batch 650 Loss 0.5135 Accuracy 74.2191 AUC 0.7852\n",
            "Epoch 110 TRAIN Batch 700 Loss 0.5135 Accuracy 74.2141 AUC 0.7852\n",
            "Epoch 110 TRAIN Batch 750 Loss 0.5135 Accuracy 74.2164 AUC 0.7852\n"
          ],
          "name": "stdout"
        },
        {
          "output_type": "stream",
          "text": [
            "19-12 20:44 root         INFO     Epoch TRAIN 110 Loss 0.5136 Accuracy 74.2127 AUC 0.7852\n"
          ],
          "name": "stderr"
        },
        {
          "output_type": "stream",
          "text": [
            "Epoch 110 VAL Batch 0 Loss 0.5154 Accuracy 74.1089 AUC 0.7816\n",
            "Epoch 110 VAL Batch 50 Loss 0.5162 Accuracy 73.9821 AUC 0.7832\n",
            "Epoch 110 VAL Batch 100 Loss 0.5154 Accuracy 74.0891 AUC 0.7840\n",
            "Epoch 110 VAL Batch 150 Loss 0.5153 Accuracy 74.1109 AUC 0.7838\n",
            "Epoch 110 VAL Batch 200 Loss 0.5155 Accuracy 74.0875 AUC 0.7839\n",
            "Epoch 110 VAL Batch 250 Loss 0.5152 Accuracy 74.1147 AUC 0.7841\n",
            "Epoch 110 VAL Batch 300 Loss 0.5149 Accuracy 74.1400 AUC 0.7843\n",
            "Epoch 110 VAL Batch 350 Loss 0.5150 Accuracy 74.1390 AUC 0.7844\n",
            "Epoch 110 VAL Batch 400 Loss 0.5148 Accuracy 74.1549 AUC 0.7845\n",
            "Epoch 110 VAL Batch 450 Loss 0.5144 Accuracy 74.1785 AUC 0.7846\n",
            "Epoch 110 VAL Batch 500 Loss 0.5145 Accuracy 74.1710 AUC 0.7846\n",
            "Epoch 110 VAL Batch 550 Loss 0.5145 Accuracy 74.1699 AUC 0.7845\n",
            "Epoch 110 VAL Batch 600 Loss 0.5143 Accuracy 74.1858 AUC 0.7847\n",
            "Epoch 110 VAL Batch 650 Loss 0.5143 Accuracy 74.1851 AUC 0.7846\n",
            "Epoch 110 VAL Batch 700 Loss 0.5144 Accuracy 74.1899 AUC 0.7846\n",
            "Epoch 110 VAL Batch 750 Loss 0.5143 Accuracy 74.1906 AUC 0.7847\n"
          ],
          "name": "stdout"
        },
        {
          "output_type": "stream",
          "text": [
            "19-12 20:44 root         INFO     Epoch VAL 110 Loss 0.5143 Accuracy 74.1893 AUC 0.7847\n",
            "19-12 20:44 root         INFO     Saving checkpoint for epoch 110 at 19-Dec-riiid-2/checkpoints/ckpt-22\n"
          ],
          "name": "stderr"
        },
        {
          "output_type": "stream",
          "text": [
            "Time taken for 1 epoch: 101.90766978263855 secs\n",
            "\n",
            "Epoch 111 TRAIN Batch 0 Loss 0.5188 Accuracy 73.6379 AUC 0.7866\n",
            "Epoch 111 TRAIN Batch 50 Loss 0.5127 Accuracy 74.2611 AUC 0.7864\n",
            "Epoch 111 TRAIN Batch 100 Loss 0.5126 Accuracy 74.2654 AUC 0.7861\n",
            "Epoch 111 TRAIN Batch 150 Loss 0.5131 Accuracy 74.2233 AUC 0.7858\n",
            "Epoch 111 TRAIN Batch 200 Loss 0.5124 Accuracy 74.2609 AUC 0.7860\n",
            "Epoch 111 TRAIN Batch 250 Loss 0.5127 Accuracy 74.2527 AUC 0.7859\n",
            "Epoch 111 TRAIN Batch 300 Loss 0.5127 Accuracy 74.2515 AUC 0.7857\n",
            "Epoch 111 TRAIN Batch 350 Loss 0.5122 Accuracy 74.2902 AUC 0.7858\n",
            "Epoch 111 TRAIN Batch 400 Loss 0.5123 Accuracy 74.2860 AUC 0.7858\n",
            "Epoch 111 TRAIN Batch 450 Loss 0.5123 Accuracy 74.2898 AUC 0.7858\n",
            "Epoch 111 TRAIN Batch 500 Loss 0.5124 Accuracy 74.2816 AUC 0.7858\n",
            "Epoch 111 TRAIN Batch 550 Loss 0.5125 Accuracy 74.2700 AUC 0.7857\n",
            "Epoch 111 TRAIN Batch 600 Loss 0.5126 Accuracy 74.2757 AUC 0.7857\n",
            "Epoch 111 TRAIN Batch 650 Loss 0.5125 Accuracy 74.2790 AUC 0.7857\n",
            "Epoch 111 TRAIN Batch 700 Loss 0.5125 Accuracy 74.2811 AUC 0.7858\n",
            "Epoch 111 TRAIN Batch 750 Loss 0.5126 Accuracy 74.2713 AUC 0.7857\n"
          ],
          "name": "stdout"
        },
        {
          "output_type": "stream",
          "text": [
            "19-12 20:45 root         INFO     Epoch TRAIN 111 Loss 0.5125 Accuracy 74.2792 AUC 0.7858\n"
          ],
          "name": "stderr"
        },
        {
          "output_type": "stream",
          "text": [
            "Time taken for 1 epoch: 85.58478164672852 secs\n",
            "\n",
            "Epoch 112 TRAIN Batch 0 Loss 0.5275 Accuracy 73.0969 AUC 0.7725\n",
            "Epoch 112 TRAIN Batch 50 Loss 0.5134 Accuracy 74.2605 AUC 0.7845\n",
            "Epoch 112 TRAIN Batch 100 Loss 0.5131 Accuracy 74.2988 AUC 0.7847\n",
            "Epoch 112 TRAIN Batch 150 Loss 0.5133 Accuracy 74.2772 AUC 0.7850\n",
            "Epoch 112 TRAIN Batch 200 Loss 0.5130 Accuracy 74.2918 AUC 0.7850\n",
            "Epoch 112 TRAIN Batch 250 Loss 0.5128 Accuracy 74.2942 AUC 0.7851\n",
            "Epoch 112 TRAIN Batch 300 Loss 0.5126 Accuracy 74.3047 AUC 0.7853\n",
            "Epoch 112 TRAIN Batch 350 Loss 0.5125 Accuracy 74.3122 AUC 0.7853\n",
            "Epoch 112 TRAIN Batch 400 Loss 0.5125 Accuracy 74.3123 AUC 0.7853\n",
            "Epoch 112 TRAIN Batch 450 Loss 0.5125 Accuracy 74.3108 AUC 0.7854\n",
            "Epoch 112 TRAIN Batch 500 Loss 0.5125 Accuracy 74.3059 AUC 0.7853\n",
            "Epoch 112 TRAIN Batch 550 Loss 0.5123 Accuracy 74.3138 AUC 0.7855\n",
            "Epoch 112 TRAIN Batch 600 Loss 0.5125 Accuracy 74.3015 AUC 0.7854\n",
            "Epoch 112 TRAIN Batch 650 Loss 0.5125 Accuracy 74.3041 AUC 0.7854\n",
            "Epoch 112 TRAIN Batch 700 Loss 0.5126 Accuracy 74.3012 AUC 0.7854\n",
            "Epoch 112 TRAIN Batch 750 Loss 0.5126 Accuracy 74.2984 AUC 0.7853\n"
          ],
          "name": "stdout"
        },
        {
          "output_type": "stream",
          "text": [
            "19-12 20:47 root         INFO     Epoch TRAIN 112 Loss 0.5126 Accuracy 74.2969 AUC 0.7853\n"
          ],
          "name": "stderr"
        },
        {
          "output_type": "stream",
          "text": [
            "Time taken for 1 epoch: 84.7364113330841 secs\n",
            "\n",
            "Epoch 113 TRAIN Batch 0 Loss 0.5093 Accuracy 74.2897 AUC 0.7890\n",
            "Epoch 113 TRAIN Batch 50 Loss 0.5134 Accuracy 74.2139 AUC 0.7860\n",
            "Epoch 113 TRAIN Batch 100 Loss 0.5134 Accuracy 74.2416 AUC 0.7856\n",
            "Epoch 113 TRAIN Batch 150 Loss 0.5137 Accuracy 74.2283 AUC 0.7858\n",
            "Epoch 113 TRAIN Batch 200 Loss 0.5134 Accuracy 74.2424 AUC 0.7857\n",
            "Epoch 113 TRAIN Batch 250 Loss 0.5136 Accuracy 74.2256 AUC 0.7855\n",
            "Epoch 113 TRAIN Batch 300 Loss 0.5133 Accuracy 74.2299 AUC 0.7857\n",
            "Epoch 113 TRAIN Batch 350 Loss 0.5130 Accuracy 74.2520 AUC 0.7858\n",
            "Epoch 113 TRAIN Batch 400 Loss 0.5130 Accuracy 74.2488 AUC 0.7859\n",
            "Epoch 113 TRAIN Batch 450 Loss 0.5129 Accuracy 74.2545 AUC 0.7859\n",
            "Epoch 113 TRAIN Batch 500 Loss 0.5128 Accuracy 74.2688 AUC 0.7859\n",
            "Epoch 113 TRAIN Batch 550 Loss 0.5129 Accuracy 74.2577 AUC 0.7858\n",
            "Epoch 113 TRAIN Batch 600 Loss 0.5128 Accuracy 74.2723 AUC 0.7859\n",
            "Epoch 113 TRAIN Batch 650 Loss 0.5128 Accuracy 74.2783 AUC 0.7858\n",
            "Epoch 113 TRAIN Batch 700 Loss 0.5126 Accuracy 74.2926 AUC 0.7860\n",
            "Epoch 113 TRAIN Batch 750 Loss 0.5125 Accuracy 74.2998 AUC 0.7860\n"
          ],
          "name": "stdout"
        },
        {
          "output_type": "stream",
          "text": [
            "19-12 20:48 root         INFO     Epoch TRAIN 113 Loss 0.5125 Accuracy 74.3021 AUC 0.7859\n"
          ],
          "name": "stderr"
        },
        {
          "output_type": "stream",
          "text": [
            "Time taken for 1 epoch: 87.77921962738037 secs\n",
            "\n",
            "Epoch 114 TRAIN Batch 0 Loss 0.5186 Accuracy 74.0163 AUC 0.7807\n",
            "Epoch 114 TRAIN Batch 50 Loss 0.5108 Accuracy 74.4046 AUC 0.7869\n",
            "Epoch 114 TRAIN Batch 100 Loss 0.5112 Accuracy 74.3765 AUC 0.7860\n",
            "Epoch 114 TRAIN Batch 150 Loss 0.5113 Accuracy 74.3675 AUC 0.7859\n",
            "Epoch 114 TRAIN Batch 200 Loss 0.5115 Accuracy 74.3469 AUC 0.7856\n",
            "Epoch 114 TRAIN Batch 250 Loss 0.5117 Accuracy 74.3343 AUC 0.7859\n",
            "Epoch 114 TRAIN Batch 300 Loss 0.5120 Accuracy 74.3069 AUC 0.7859\n",
            "Epoch 114 TRAIN Batch 350 Loss 0.5121 Accuracy 74.3054 AUC 0.7859\n",
            "Epoch 114 TRAIN Batch 400 Loss 0.5122 Accuracy 74.2952 AUC 0.7859\n",
            "Epoch 114 TRAIN Batch 450 Loss 0.5123 Accuracy 74.2944 AUC 0.7858\n",
            "Epoch 114 TRAIN Batch 500 Loss 0.5123 Accuracy 74.2921 AUC 0.7858\n",
            "Epoch 114 TRAIN Batch 550 Loss 0.5124 Accuracy 74.2915 AUC 0.7858\n",
            "Epoch 114 TRAIN Batch 600 Loss 0.5126 Accuracy 74.2733 AUC 0.7857\n",
            "Epoch 114 TRAIN Batch 650 Loss 0.5125 Accuracy 74.2750 AUC 0.7858\n",
            "Epoch 114 TRAIN Batch 700 Loss 0.5125 Accuracy 74.2743 AUC 0.7859\n",
            "Epoch 114 TRAIN Batch 750 Loss 0.5125 Accuracy 74.2743 AUC 0.7859\n"
          ],
          "name": "stdout"
        },
        {
          "output_type": "stream",
          "text": [
            "19-12 20:50 root         INFO     Epoch TRAIN 114 Loss 0.5126 Accuracy 74.2712 AUC 0.7859\n"
          ],
          "name": "stderr"
        },
        {
          "output_type": "stream",
          "text": [
            "Time taken for 1 epoch: 86.33215761184692 secs\n",
            "\n",
            "Epoch 115 TRAIN Batch 0 Loss 0.5290 Accuracy 73.1685 AUC 0.7814\n",
            "Epoch 115 TRAIN Batch 50 Loss 0.5142 Accuracy 74.1623 AUC 0.7840\n",
            "Epoch 115 TRAIN Batch 100 Loss 0.5124 Accuracy 74.2589 AUC 0.7854\n",
            "Epoch 115 TRAIN Batch 150 Loss 0.5120 Accuracy 74.2926 AUC 0.7858\n",
            "Epoch 115 TRAIN Batch 200 Loss 0.5117 Accuracy 74.3274 AUC 0.7859\n",
            "Epoch 115 TRAIN Batch 250 Loss 0.5115 Accuracy 74.3399 AUC 0.7859\n",
            "Epoch 115 TRAIN Batch 300 Loss 0.5117 Accuracy 74.3219 AUC 0.7859\n",
            "Epoch 115 TRAIN Batch 350 Loss 0.5118 Accuracy 74.3297 AUC 0.7859\n",
            "Epoch 115 TRAIN Batch 400 Loss 0.5119 Accuracy 74.3179 AUC 0.7860\n",
            "Epoch 115 TRAIN Batch 450 Loss 0.5120 Accuracy 74.3089 AUC 0.7861\n",
            "Epoch 115 TRAIN Batch 500 Loss 0.5120 Accuracy 74.3061 AUC 0.7861\n",
            "Epoch 115 TRAIN Batch 550 Loss 0.5119 Accuracy 74.3181 AUC 0.7860\n",
            "Epoch 115 TRAIN Batch 600 Loss 0.5120 Accuracy 74.3122 AUC 0.7860\n",
            "Epoch 115 TRAIN Batch 650 Loss 0.5120 Accuracy 74.3118 AUC 0.7860\n",
            "Epoch 115 TRAIN Batch 700 Loss 0.5119 Accuracy 74.3163 AUC 0.7861\n",
            "Epoch 115 TRAIN Batch 750 Loss 0.5120 Accuracy 74.3118 AUC 0.7861\n"
          ],
          "name": "stdout"
        },
        {
          "output_type": "stream",
          "text": [
            "19-12 20:51 root         INFO     Epoch TRAIN 115 Loss 0.5120 Accuracy 74.3097 AUC 0.7860\n"
          ],
          "name": "stderr"
        },
        {
          "output_type": "stream",
          "text": [
            "Epoch 115 VAL Batch 0 Loss 0.5150 Accuracy 73.9327 AUC 0.7824\n",
            "Epoch 115 VAL Batch 50 Loss 0.5164 Accuracy 74.0261 AUC 0.7834\n",
            "Epoch 115 VAL Batch 100 Loss 0.5154 Accuracy 74.1369 AUC 0.7843\n",
            "Epoch 115 VAL Batch 150 Loss 0.5153 Accuracy 74.1470 AUC 0.7841\n",
            "Epoch 115 VAL Batch 200 Loss 0.5155 Accuracy 74.1138 AUC 0.7843\n",
            "Epoch 115 VAL Batch 250 Loss 0.5152 Accuracy 74.1357 AUC 0.7845\n",
            "Epoch 115 VAL Batch 300 Loss 0.5149 Accuracy 74.1604 AUC 0.7846\n",
            "Epoch 115 VAL Batch 350 Loss 0.5150 Accuracy 74.1571 AUC 0.7848\n",
            "Epoch 115 VAL Batch 400 Loss 0.5148 Accuracy 74.1758 AUC 0.7849\n",
            "Epoch 115 VAL Batch 450 Loss 0.5144 Accuracy 74.1999 AUC 0.7851\n",
            "Epoch 115 VAL Batch 500 Loss 0.5145 Accuracy 74.1956 AUC 0.7850\n",
            "Epoch 115 VAL Batch 550 Loss 0.5145 Accuracy 74.1973 AUC 0.7849\n",
            "Epoch 115 VAL Batch 600 Loss 0.5142 Accuracy 74.2150 AUC 0.7851\n",
            "Epoch 115 VAL Batch 650 Loss 0.5143 Accuracy 74.2119 AUC 0.7851\n",
            "Epoch 115 VAL Batch 700 Loss 0.5143 Accuracy 74.2144 AUC 0.7851\n",
            "Epoch 115 VAL Batch 750 Loss 0.5142 Accuracy 74.2173 AUC 0.7851\n"
          ],
          "name": "stdout"
        },
        {
          "output_type": "stream",
          "text": [
            "19-12 20:51 root         INFO     Epoch VAL 115 Loss 0.5142 Accuracy 74.2187 AUC 0.7852\n",
            "19-12 20:51 root         INFO     Saving checkpoint for epoch 115 at 19-Dec-riiid-2/checkpoints/ckpt-23\n"
          ],
          "name": "stderr"
        },
        {
          "output_type": "stream",
          "text": [
            "Time taken for 1 epoch: 102.44265222549438 secs\n",
            "\n",
            "Epoch 116 TRAIN Batch 0 Loss 0.5084 Accuracy 74.5717 AUC 0.7796\n",
            "Epoch 116 TRAIN Batch 50 Loss 0.5119 Accuracy 74.3241 AUC 0.7860\n",
            "Epoch 116 TRAIN Batch 100 Loss 0.5118 Accuracy 74.3514 AUC 0.7858\n",
            "Epoch 116 TRAIN Batch 150 Loss 0.5118 Accuracy 74.3500 AUC 0.7860\n",
            "Epoch 116 TRAIN Batch 200 Loss 0.5117 Accuracy 74.3755 AUC 0.7861\n",
            "Epoch 116 TRAIN Batch 250 Loss 0.5119 Accuracy 74.3479 AUC 0.7860\n",
            "Epoch 116 TRAIN Batch 300 Loss 0.5124 Accuracy 74.3139 AUC 0.7858\n",
            "Epoch 116 TRAIN Batch 350 Loss 0.5123 Accuracy 74.3039 AUC 0.7859\n",
            "Epoch 116 TRAIN Batch 400 Loss 0.5122 Accuracy 74.3111 AUC 0.7860\n",
            "Epoch 116 TRAIN Batch 450 Loss 0.5122 Accuracy 74.3144 AUC 0.7861\n",
            "Epoch 116 TRAIN Batch 500 Loss 0.5121 Accuracy 74.3139 AUC 0.7861\n",
            "Epoch 116 TRAIN Batch 550 Loss 0.5122 Accuracy 74.3091 AUC 0.7861\n",
            "Epoch 116 TRAIN Batch 600 Loss 0.5122 Accuracy 74.3064 AUC 0.7861\n",
            "Epoch 116 TRAIN Batch 650 Loss 0.5124 Accuracy 74.2958 AUC 0.7860\n",
            "Epoch 116 TRAIN Batch 700 Loss 0.5124 Accuracy 74.2955 AUC 0.7860\n",
            "Epoch 116 TRAIN Batch 750 Loss 0.5123 Accuracy 74.2985 AUC 0.7860\n"
          ],
          "name": "stdout"
        },
        {
          "output_type": "stream",
          "text": [
            "19-12 20:53 root         INFO     Epoch TRAIN 116 Loss 0.5124 Accuracy 74.2990 AUC 0.7860\n"
          ],
          "name": "stderr"
        },
        {
          "output_type": "stream",
          "text": [
            "Time taken for 1 epoch: 84.46640276908875 secs\n",
            "\n",
            "Epoch 117 TRAIN Batch 0 Loss 0.5232 Accuracy 73.8078 AUC 0.7780\n",
            "Epoch 117 TRAIN Batch 50 Loss 0.5133 Accuracy 74.2239 AUC 0.7857\n",
            "Epoch 117 TRAIN Batch 100 Loss 0.5130 Accuracy 74.2464 AUC 0.7858\n",
            "Epoch 117 TRAIN Batch 150 Loss 0.5126 Accuracy 74.2827 AUC 0.7858\n",
            "Epoch 117 TRAIN Batch 200 Loss 0.5127 Accuracy 74.2906 AUC 0.7858\n",
            "Epoch 117 TRAIN Batch 250 Loss 0.5128 Accuracy 74.2637 AUC 0.7858\n",
            "Epoch 117 TRAIN Batch 300 Loss 0.5125 Accuracy 74.2806 AUC 0.7861\n",
            "Epoch 117 TRAIN Batch 350 Loss 0.5125 Accuracy 74.2837 AUC 0.7861\n",
            "Epoch 117 TRAIN Batch 400 Loss 0.5128 Accuracy 74.2626 AUC 0.7859\n",
            "Epoch 117 TRAIN Batch 450 Loss 0.5129 Accuracy 74.2583 AUC 0.7857\n",
            "Epoch 117 TRAIN Batch 500 Loss 0.5128 Accuracy 74.2638 AUC 0.7857\n",
            "Epoch 117 TRAIN Batch 550 Loss 0.5124 Accuracy 74.2895 AUC 0.7860\n",
            "Epoch 117 TRAIN Batch 600 Loss 0.5124 Accuracy 74.2919 AUC 0.7861\n",
            "Epoch 117 TRAIN Batch 650 Loss 0.5125 Accuracy 74.2907 AUC 0.7860\n",
            "Epoch 117 TRAIN Batch 700 Loss 0.5124 Accuracy 74.2909 AUC 0.7860\n",
            "Epoch 117 TRAIN Batch 750 Loss 0.5124 Accuracy 74.2894 AUC 0.7861\n"
          ],
          "name": "stdout"
        },
        {
          "output_type": "stream",
          "text": [
            "19-12 20:54 root         INFO     Epoch TRAIN 117 Loss 0.5123 Accuracy 74.3017 AUC 0.7861\n"
          ],
          "name": "stderr"
        },
        {
          "output_type": "stream",
          "text": [
            "Time taken for 1 epoch: 84.60558533668518 secs\n",
            "\n",
            "Epoch 118 TRAIN Batch 0 Loss 0.5117 Accuracy 74.5794 AUC 0.7877\n",
            "Epoch 118 TRAIN Batch 50 Loss 0.5126 Accuracy 74.2336 AUC 0.7862\n",
            "Epoch 118 TRAIN Batch 100 Loss 0.5130 Accuracy 74.2235 AUC 0.7856\n",
            "Epoch 118 TRAIN Batch 150 Loss 0.5130 Accuracy 74.2400 AUC 0.7857\n",
            "Epoch 118 TRAIN Batch 200 Loss 0.5122 Accuracy 74.2978 AUC 0.7864\n",
            "Epoch 118 TRAIN Batch 250 Loss 0.5121 Accuracy 74.2983 AUC 0.7865\n",
            "Epoch 118 TRAIN Batch 300 Loss 0.5122 Accuracy 74.2938 AUC 0.7867\n",
            "Epoch 118 TRAIN Batch 350 Loss 0.5122 Accuracy 74.2995 AUC 0.7865\n",
            "Epoch 118 TRAIN Batch 400 Loss 0.5121 Accuracy 74.3169 AUC 0.7865\n",
            "Epoch 118 TRAIN Batch 450 Loss 0.5121 Accuracy 74.3174 AUC 0.7864\n",
            "Epoch 118 TRAIN Batch 500 Loss 0.5123 Accuracy 74.2989 AUC 0.7861\n",
            "Epoch 118 TRAIN Batch 550 Loss 0.5123 Accuracy 74.2957 AUC 0.7861\n",
            "Epoch 118 TRAIN Batch 600 Loss 0.5124 Accuracy 74.2852 AUC 0.7860\n",
            "Epoch 118 TRAIN Batch 650 Loss 0.5124 Accuracy 74.2794 AUC 0.7860\n",
            "Epoch 118 TRAIN Batch 700 Loss 0.5123 Accuracy 74.2785 AUC 0.7860\n",
            "Epoch 118 TRAIN Batch 750 Loss 0.5123 Accuracy 74.2791 AUC 0.7859\n"
          ],
          "name": "stdout"
        },
        {
          "output_type": "stream",
          "text": [
            "19-12 20:56 root         INFO     Epoch TRAIN 118 Loss 0.5124 Accuracy 74.2801 AUC 0.7859\n"
          ],
          "name": "stderr"
        },
        {
          "output_type": "stream",
          "text": [
            "Time taken for 1 epoch: 85.89064240455627 secs\n",
            "\n",
            "Epoch 119 TRAIN Batch 0 Loss 0.5155 Accuracy 74.0872 AUC 0.7891\n",
            "Epoch 119 TRAIN Batch 50 Loss 0.5110 Accuracy 74.4222 AUC 0.7860\n",
            "Epoch 119 TRAIN Batch 100 Loss 0.5117 Accuracy 74.3538 AUC 0.7865\n",
            "Epoch 119 TRAIN Batch 150 Loss 0.5117 Accuracy 74.3594 AUC 0.7863\n",
            "Epoch 119 TRAIN Batch 200 Loss 0.5118 Accuracy 74.3457 AUC 0.7864\n",
            "Epoch 119 TRAIN Batch 250 Loss 0.5114 Accuracy 74.3723 AUC 0.7866\n",
            "Epoch 119 TRAIN Batch 300 Loss 0.5115 Accuracy 74.3551 AUC 0.7865\n",
            "Epoch 119 TRAIN Batch 350 Loss 0.5112 Accuracy 74.3798 AUC 0.7866\n",
            "Epoch 119 TRAIN Batch 400 Loss 0.5111 Accuracy 74.3887 AUC 0.7866\n",
            "Epoch 119 TRAIN Batch 450 Loss 0.5112 Accuracy 74.3806 AUC 0.7866\n",
            "Epoch 119 TRAIN Batch 500 Loss 0.5114 Accuracy 74.3732 AUC 0.7866\n",
            "Epoch 119 TRAIN Batch 550 Loss 0.5116 Accuracy 74.3522 AUC 0.7866\n",
            "Epoch 119 TRAIN Batch 600 Loss 0.5116 Accuracy 74.3446 AUC 0.7865\n",
            "Epoch 119 TRAIN Batch 650 Loss 0.5116 Accuracy 74.3443 AUC 0.7865\n",
            "Epoch 119 TRAIN Batch 700 Loss 0.5117 Accuracy 74.3363 AUC 0.7865\n",
            "Epoch 119 TRAIN Batch 750 Loss 0.5116 Accuracy 74.3410 AUC 0.7865\n"
          ],
          "name": "stdout"
        },
        {
          "output_type": "stream",
          "text": [
            "19-12 20:57 root         INFO     Epoch TRAIN 119 Loss 0.5116 Accuracy 74.3410 AUC 0.7865\n"
          ],
          "name": "stderr"
        },
        {
          "output_type": "stream",
          "text": [
            "Time taken for 1 epoch: 84.47979831695557 secs\n",
            "\n",
            "Epoch 120 TRAIN Batch 0 Loss 0.5224 Accuracy 73.5722 AUC 0.7809\n",
            "Epoch 120 TRAIN Batch 50 Loss 0.5115 Accuracy 74.3571 AUC 0.7874\n",
            "Epoch 120 TRAIN Batch 100 Loss 0.5115 Accuracy 74.3493 AUC 0.7869\n",
            "Epoch 120 TRAIN Batch 150 Loss 0.5112 Accuracy 74.3498 AUC 0.7870\n",
            "Epoch 120 TRAIN Batch 200 Loss 0.5116 Accuracy 74.3284 AUC 0.7867\n",
            "Epoch 120 TRAIN Batch 250 Loss 0.5114 Accuracy 74.3497 AUC 0.7870\n",
            "Epoch 120 TRAIN Batch 300 Loss 0.5113 Accuracy 74.3493 AUC 0.7872\n",
            "Epoch 120 TRAIN Batch 350 Loss 0.5118 Accuracy 74.3167 AUC 0.7868\n",
            "Epoch 120 TRAIN Batch 400 Loss 0.5119 Accuracy 74.3093 AUC 0.7867\n",
            "Epoch 120 TRAIN Batch 450 Loss 0.5120 Accuracy 74.2949 AUC 0.7865\n",
            "Epoch 120 TRAIN Batch 500 Loss 0.5119 Accuracy 74.2943 AUC 0.7864\n",
            "Epoch 120 TRAIN Batch 550 Loss 0.5119 Accuracy 74.2952 AUC 0.7865\n",
            "Epoch 120 TRAIN Batch 600 Loss 0.5120 Accuracy 74.2930 AUC 0.7865\n",
            "Epoch 120 TRAIN Batch 650 Loss 0.5121 Accuracy 74.2842 AUC 0.7864\n",
            "Epoch 120 TRAIN Batch 700 Loss 0.5121 Accuracy 74.2887 AUC 0.7864\n",
            "Epoch 120 TRAIN Batch 750 Loss 0.5122 Accuracy 74.2822 AUC 0.7864\n"
          ],
          "name": "stdout"
        },
        {
          "output_type": "stream",
          "text": [
            "19-12 20:59 root         INFO     Epoch TRAIN 120 Loss 0.5122 Accuracy 74.2844 AUC 0.7863\n"
          ],
          "name": "stderr"
        },
        {
          "output_type": "stream",
          "text": [
            "Epoch 120 VAL Batch 0 Loss 0.5153 Accuracy 73.9411 AUC 0.7817\n",
            "Epoch 120 VAL Batch 50 Loss 0.5160 Accuracy 74.0035 AUC 0.7837\n",
            "Epoch 120 VAL Batch 100 Loss 0.5150 Accuracy 74.1161 AUC 0.7846\n",
            "Epoch 120 VAL Batch 150 Loss 0.5149 Accuracy 74.1424 AUC 0.7844\n",
            "Epoch 120 VAL Batch 200 Loss 0.5150 Accuracy 74.1155 AUC 0.7845\n",
            "Epoch 120 VAL Batch 250 Loss 0.5148 Accuracy 74.1360 AUC 0.7848\n",
            "Epoch 120 VAL Batch 300 Loss 0.5145 Accuracy 74.1641 AUC 0.7849\n",
            "Epoch 120 VAL Batch 350 Loss 0.5146 Accuracy 74.1585 AUC 0.7850\n",
            "Epoch 120 VAL Batch 400 Loss 0.5143 Accuracy 74.1780 AUC 0.7851\n",
            "Epoch 120 VAL Batch 450 Loss 0.5140 Accuracy 74.2023 AUC 0.7853\n",
            "Epoch 120 VAL Batch 500 Loss 0.5141 Accuracy 74.1949 AUC 0.7852\n",
            "Epoch 120 VAL Batch 550 Loss 0.5141 Accuracy 74.1957 AUC 0.7851\n",
            "Epoch 120 VAL Batch 600 Loss 0.5139 Accuracy 74.2152 AUC 0.7853\n",
            "Epoch 120 VAL Batch 650 Loss 0.5139 Accuracy 74.2115 AUC 0.7852\n",
            "Epoch 120 VAL Batch 700 Loss 0.5139 Accuracy 74.2167 AUC 0.7853\n",
            "Epoch 120 VAL Batch 750 Loss 0.5139 Accuracy 74.2221 AUC 0.7853\n"
          ],
          "name": "stdout"
        },
        {
          "output_type": "stream",
          "text": [
            "19-12 20:59 root         INFO     Epoch VAL 120 Loss 0.5139 Accuracy 74.2223 AUC 0.7853\n",
            "19-12 20:59 root         INFO     Saving checkpoint for epoch 120 at 19-Dec-riiid-2/checkpoints/ckpt-24\n"
          ],
          "name": "stderr"
        },
        {
          "output_type": "stream",
          "text": [
            "Time taken for 1 epoch: 102.70627450942993 secs\n",
            "\n",
            "Epoch 121 TRAIN Batch 0 Loss 0.5230 Accuracy 73.3256 AUC 0.7796\n",
            "Epoch 121 TRAIN Batch 50 Loss 0.5113 Accuracy 74.3415 AUC 0.7859\n",
            "Epoch 121 TRAIN Batch 100 Loss 0.5105 Accuracy 74.3784 AUC 0.7867\n",
            "Epoch 121 TRAIN Batch 150 Loss 0.5114 Accuracy 74.3351 AUC 0.7864\n",
            "Epoch 121 TRAIN Batch 200 Loss 0.5114 Accuracy 74.3190 AUC 0.7867\n",
            "Epoch 121 TRAIN Batch 250 Loss 0.5118 Accuracy 74.3033 AUC 0.7865\n",
            "Epoch 121 TRAIN Batch 300 Loss 0.5118 Accuracy 74.3131 AUC 0.7866\n",
            "Epoch 121 TRAIN Batch 350 Loss 0.5116 Accuracy 74.3265 AUC 0.7867\n",
            "Epoch 121 TRAIN Batch 400 Loss 0.5115 Accuracy 74.3238 AUC 0.7868\n",
            "Epoch 121 TRAIN Batch 450 Loss 0.5117 Accuracy 74.3134 AUC 0.7866\n",
            "Epoch 121 TRAIN Batch 500 Loss 0.5116 Accuracy 74.3173 AUC 0.7867\n",
            "Epoch 121 TRAIN Batch 550 Loss 0.5116 Accuracy 74.3178 AUC 0.7867\n",
            "Epoch 121 TRAIN Batch 600 Loss 0.5116 Accuracy 74.3156 AUC 0.7867\n",
            "Epoch 121 TRAIN Batch 650 Loss 0.5117 Accuracy 74.3102 AUC 0.7866\n",
            "Epoch 121 TRAIN Batch 700 Loss 0.5116 Accuracy 74.3229 AUC 0.7867\n",
            "Epoch 121 TRAIN Batch 750 Loss 0.5117 Accuracy 74.3127 AUC 0.7866\n"
          ],
          "name": "stdout"
        },
        {
          "output_type": "stream",
          "text": [
            "19-12 21:00 root         INFO     Epoch TRAIN 121 Loss 0.5117 Accuracy 74.3154 AUC 0.7866\n"
          ],
          "name": "stderr"
        },
        {
          "output_type": "stream",
          "text": [
            "Time taken for 1 epoch: 85.44662737846375 secs\n",
            "\n",
            "Epoch 122 TRAIN Batch 0 Loss 0.5052 Accuracy 74.6842 AUC 0.7781\n",
            "Epoch 122 TRAIN Batch 50 Loss 0.5131 Accuracy 74.2282 AUC 0.7851\n",
            "Epoch 122 TRAIN Batch 100 Loss 0.5123 Accuracy 74.3115 AUC 0.7862\n",
            "Epoch 122 TRAIN Batch 150 Loss 0.5126 Accuracy 74.2662 AUC 0.7859\n",
            "Epoch 122 TRAIN Batch 200 Loss 0.5123 Accuracy 74.2789 AUC 0.7861\n",
            "Epoch 122 TRAIN Batch 250 Loss 0.5120 Accuracy 74.2934 AUC 0.7864\n",
            "Epoch 122 TRAIN Batch 300 Loss 0.5119 Accuracy 74.3032 AUC 0.7865\n",
            "Epoch 122 TRAIN Batch 350 Loss 0.5118 Accuracy 74.3150 AUC 0.7864\n",
            "Epoch 122 TRAIN Batch 400 Loss 0.5119 Accuracy 74.3149 AUC 0.7863\n",
            "Epoch 122 TRAIN Batch 450 Loss 0.5119 Accuracy 74.3106 AUC 0.7863\n",
            "Epoch 122 TRAIN Batch 500 Loss 0.5118 Accuracy 74.3129 AUC 0.7863\n",
            "Epoch 122 TRAIN Batch 550 Loss 0.5119 Accuracy 74.3046 AUC 0.7864\n",
            "Epoch 122 TRAIN Batch 600 Loss 0.5120 Accuracy 74.2994 AUC 0.7863\n",
            "Epoch 122 TRAIN Batch 650 Loss 0.5119 Accuracy 74.3062 AUC 0.7863\n",
            "Epoch 122 TRAIN Batch 700 Loss 0.5119 Accuracy 74.3100 AUC 0.7863\n",
            "Epoch 122 TRAIN Batch 750 Loss 0.5117 Accuracy 74.3275 AUC 0.7864\n"
          ],
          "name": "stdout"
        },
        {
          "output_type": "stream",
          "text": [
            "19-12 21:02 root         INFO     Epoch TRAIN 122 Loss 0.5119 Accuracy 74.3129 AUC 0.7863\n"
          ],
          "name": "stderr"
        },
        {
          "output_type": "stream",
          "text": [
            "Time taken for 1 epoch: 84.60334372520447 secs\n",
            "\n",
            "Epoch 123 TRAIN Batch 0 Loss 0.5096 Accuracy 74.8786 AUC 0.7901\n",
            "Epoch 123 TRAIN Batch 50 Loss 0.5121 Accuracy 74.3314 AUC 0.7880\n",
            "Epoch 123 TRAIN Batch 100 Loss 0.5128 Accuracy 74.2571 AUC 0.7873\n",
            "Epoch 123 TRAIN Batch 150 Loss 0.5124 Accuracy 74.2695 AUC 0.7873\n",
            "Epoch 123 TRAIN Batch 200 Loss 0.5122 Accuracy 74.2848 AUC 0.7871\n",
            "Epoch 123 TRAIN Batch 250 Loss 0.5119 Accuracy 74.3151 AUC 0.7872\n",
            "Epoch 123 TRAIN Batch 300 Loss 0.5118 Accuracy 74.3294 AUC 0.7873\n",
            "Epoch 123 TRAIN Batch 350 Loss 0.5118 Accuracy 74.3296 AUC 0.7874\n",
            "Epoch 123 TRAIN Batch 400 Loss 0.5117 Accuracy 74.3325 AUC 0.7874\n",
            "Epoch 123 TRAIN Batch 450 Loss 0.5118 Accuracy 74.3334 AUC 0.7873\n",
            "Epoch 123 TRAIN Batch 500 Loss 0.5116 Accuracy 74.3455 AUC 0.7873\n",
            "Epoch 123 TRAIN Batch 550 Loss 0.5118 Accuracy 74.3314 AUC 0.7871\n",
            "Epoch 123 TRAIN Batch 600 Loss 0.5115 Accuracy 74.3503 AUC 0.7872\n",
            "Epoch 123 TRAIN Batch 650 Loss 0.5115 Accuracy 74.3541 AUC 0.7872\n",
            "Epoch 123 TRAIN Batch 700 Loss 0.5117 Accuracy 74.3302 AUC 0.7871\n",
            "Epoch 123 TRAIN Batch 750 Loss 0.5115 Accuracy 74.3486 AUC 0.7872\n"
          ],
          "name": "stdout"
        },
        {
          "output_type": "stream",
          "text": [
            "19-12 21:03 root         INFO     Epoch TRAIN 123 Loss 0.5114 Accuracy 74.3530 AUC 0.7873\n"
          ],
          "name": "stderr"
        },
        {
          "output_type": "stream",
          "text": [
            "Time taken for 1 epoch: 85.43712520599365 secs\n",
            "\n",
            "Epoch 124 TRAIN Batch 0 Loss 0.5047 Accuracy 74.6430 AUC 0.7926\n",
            "Epoch 124 TRAIN Batch 50 Loss 0.5112 Accuracy 74.3713 AUC 0.7869\n",
            "Epoch 124 TRAIN Batch 100 Loss 0.5112 Accuracy 74.3835 AUC 0.7872\n",
            "Epoch 124 TRAIN Batch 150 Loss 0.5110 Accuracy 74.4097 AUC 0.7874\n",
            "Epoch 124 TRAIN Batch 200 Loss 0.5108 Accuracy 74.4132 AUC 0.7874\n",
            "Epoch 124 TRAIN Batch 250 Loss 0.5105 Accuracy 74.4140 AUC 0.7874\n",
            "Epoch 124 TRAIN Batch 300 Loss 0.5110 Accuracy 74.3739 AUC 0.7871\n",
            "Epoch 124 TRAIN Batch 350 Loss 0.5110 Accuracy 74.3767 AUC 0.7871\n",
            "Epoch 124 TRAIN Batch 400 Loss 0.5112 Accuracy 74.3688 AUC 0.7870\n",
            "Epoch 124 TRAIN Batch 450 Loss 0.5112 Accuracy 74.3672 AUC 0.7870\n",
            "Epoch 124 TRAIN Batch 500 Loss 0.5111 Accuracy 74.3745 AUC 0.7871\n",
            "Epoch 124 TRAIN Batch 550 Loss 0.5111 Accuracy 74.3634 AUC 0.7872\n",
            "Epoch 124 TRAIN Batch 600 Loss 0.5111 Accuracy 74.3695 AUC 0.7872\n",
            "Epoch 124 TRAIN Batch 650 Loss 0.5114 Accuracy 74.3487 AUC 0.7870\n",
            "Epoch 124 TRAIN Batch 700 Loss 0.5114 Accuracy 74.3507 AUC 0.7870\n",
            "Epoch 124 TRAIN Batch 750 Loss 0.5115 Accuracy 74.3448 AUC 0.7869\n"
          ],
          "name": "stdout"
        },
        {
          "output_type": "stream",
          "text": [
            "19-12 21:04 root         INFO     Epoch TRAIN 124 Loss 0.5114 Accuracy 74.3441 AUC 0.7870\n"
          ],
          "name": "stderr"
        },
        {
          "output_type": "stream",
          "text": [
            "Time taken for 1 epoch: 84.87848138809204 secs\n",
            "\n",
            "Epoch 125 TRAIN Batch 0 Loss 0.5078 Accuracy 74.9414 AUC 0.7871\n",
            "Epoch 125 TRAIN Batch 50 Loss 0.5113 Accuracy 74.3223 AUC 0.7871\n",
            "Epoch 125 TRAIN Batch 100 Loss 0.5124 Accuracy 74.2633 AUC 0.7865\n",
            "Epoch 125 TRAIN Batch 150 Loss 0.5122 Accuracy 74.2686 AUC 0.7864\n",
            "Epoch 125 TRAIN Batch 200 Loss 0.5119 Accuracy 74.2760 AUC 0.7867\n",
            "Epoch 125 TRAIN Batch 250 Loss 0.5114 Accuracy 74.3114 AUC 0.7868\n",
            "Epoch 125 TRAIN Batch 300 Loss 0.5118 Accuracy 74.2848 AUC 0.7866\n",
            "Epoch 125 TRAIN Batch 350 Loss 0.5119 Accuracy 74.2922 AUC 0.7865\n",
            "Epoch 125 TRAIN Batch 400 Loss 0.5116 Accuracy 74.3145 AUC 0.7867\n",
            "Epoch 125 TRAIN Batch 450 Loss 0.5116 Accuracy 74.3197 AUC 0.7867\n",
            "Epoch 125 TRAIN Batch 500 Loss 0.5115 Accuracy 74.3259 AUC 0.7868\n",
            "Epoch 125 TRAIN Batch 550 Loss 0.5116 Accuracy 74.3201 AUC 0.7867\n",
            "Epoch 125 TRAIN Batch 600 Loss 0.5116 Accuracy 74.3266 AUC 0.7867\n",
            "Epoch 125 TRAIN Batch 650 Loss 0.5114 Accuracy 74.3378 AUC 0.7868\n",
            "Epoch 125 TRAIN Batch 700 Loss 0.5113 Accuracy 74.3385 AUC 0.7869\n",
            "Epoch 125 TRAIN Batch 750 Loss 0.5113 Accuracy 74.3457 AUC 0.7870\n"
          ],
          "name": "stdout"
        },
        {
          "output_type": "stream",
          "text": [
            "19-12 21:06 root         INFO     Epoch TRAIN 125 Loss 0.5113 Accuracy 74.3444 AUC 0.7870\n"
          ],
          "name": "stderr"
        },
        {
          "output_type": "stream",
          "text": [
            "Epoch 125 VAL Batch 0 Loss 0.5144 Accuracy 74.2347 AUC 0.7828\n",
            "Epoch 125 VAL Batch 50 Loss 0.5161 Accuracy 74.0359 AUC 0.7837\n",
            "Epoch 125 VAL Batch 100 Loss 0.5151 Accuracy 74.1315 AUC 0.7847\n",
            "Epoch 125 VAL Batch 150 Loss 0.5150 Accuracy 74.1403 AUC 0.7845\n",
            "Epoch 125 VAL Batch 200 Loss 0.5151 Accuracy 74.1104 AUC 0.7846\n",
            "Epoch 125 VAL Batch 250 Loss 0.5149 Accuracy 74.1386 AUC 0.7848\n",
            "Epoch 125 VAL Batch 300 Loss 0.5146 Accuracy 74.1619 AUC 0.7850\n",
            "Epoch 125 VAL Batch 350 Loss 0.5147 Accuracy 74.1578 AUC 0.7851\n",
            "Epoch 125 VAL Batch 400 Loss 0.5144 Accuracy 74.1794 AUC 0.7852\n",
            "Epoch 125 VAL Batch 450 Loss 0.5141 Accuracy 74.2058 AUC 0.7854\n",
            "Epoch 125 VAL Batch 500 Loss 0.5142 Accuracy 74.2019 AUC 0.7853\n",
            "Epoch 125 VAL Batch 550 Loss 0.5142 Accuracy 74.2046 AUC 0.7852\n",
            "Epoch 125 VAL Batch 600 Loss 0.5139 Accuracy 74.2243 AUC 0.7854\n",
            "Epoch 125 VAL Batch 650 Loss 0.5139 Accuracy 74.2229 AUC 0.7854\n",
            "Epoch 125 VAL Batch 700 Loss 0.5140 Accuracy 74.2255 AUC 0.7854\n",
            "Epoch 125 VAL Batch 750 Loss 0.5139 Accuracy 74.2302 AUC 0.7854\n"
          ],
          "name": "stdout"
        },
        {
          "output_type": "stream",
          "text": [
            "19-12 21:06 root         INFO     Epoch VAL 125 Loss 0.5139 Accuracy 74.2312 AUC 0.7855\n",
            "19-12 21:06 root         INFO     Saving checkpoint for epoch 125 at 19-Dec-riiid-2/checkpoints/ckpt-25\n"
          ],
          "name": "stderr"
        },
        {
          "output_type": "stream",
          "text": [
            "Time taken for 1 epoch: 102.9191427230835 secs\n",
            "\n",
            "Epoch 126 TRAIN Batch 0 Loss 0.5124 Accuracy 74.1419 AUC 0.7910\n",
            "Epoch 126 TRAIN Batch 50 Loss 0.5125 Accuracy 74.3289 AUC 0.7854\n",
            "Epoch 126 TRAIN Batch 100 Loss 0.5121 Accuracy 74.3121 AUC 0.7863\n",
            "Epoch 126 TRAIN Batch 150 Loss 0.5123 Accuracy 74.3074 AUC 0.7864\n",
            "Epoch 126 TRAIN Batch 200 Loss 0.5120 Accuracy 74.3264 AUC 0.7867\n",
            "Epoch 126 TRAIN Batch 250 Loss 0.5118 Accuracy 74.3353 AUC 0.7870\n",
            "Epoch 126 TRAIN Batch 300 Loss 0.5116 Accuracy 74.3554 AUC 0.7870\n",
            "Epoch 126 TRAIN Batch 350 Loss 0.5116 Accuracy 74.3463 AUC 0.7870\n",
            "Epoch 126 TRAIN Batch 400 Loss 0.5116 Accuracy 74.3423 AUC 0.7871\n",
            "Epoch 126 TRAIN Batch 450 Loss 0.5116 Accuracy 74.3460 AUC 0.7870\n",
            "Epoch 126 TRAIN Batch 500 Loss 0.5113 Accuracy 74.3614 AUC 0.7870\n",
            "Epoch 126 TRAIN Batch 550 Loss 0.5114 Accuracy 74.3607 AUC 0.7870\n",
            "Epoch 126 TRAIN Batch 600 Loss 0.5115 Accuracy 74.3499 AUC 0.7869\n",
            "Epoch 126 TRAIN Batch 650 Loss 0.5113 Accuracy 74.3622 AUC 0.7871\n",
            "Epoch 126 TRAIN Batch 700 Loss 0.5113 Accuracy 74.3602 AUC 0.7872\n",
            "Epoch 126 TRAIN Batch 750 Loss 0.5113 Accuracy 74.3606 AUC 0.7871\n"
          ],
          "name": "stdout"
        },
        {
          "output_type": "stream",
          "text": [
            "19-12 21:08 root         INFO     Epoch TRAIN 126 Loss 0.5113 Accuracy 74.3621 AUC 0.7872\n"
          ],
          "name": "stderr"
        },
        {
          "output_type": "stream",
          "text": [
            "Time taken for 1 epoch: 83.94318699836731 secs\n",
            "\n",
            "Epoch 127 TRAIN Batch 0 Loss 0.5066 Accuracy 74.6621 AUC 0.7894\n",
            "Epoch 127 TRAIN Batch 50 Loss 0.5111 Accuracy 74.3660 AUC 0.7864\n",
            "Epoch 127 TRAIN Batch 100 Loss 0.5110 Accuracy 74.3911 AUC 0.7862\n",
            "Epoch 127 TRAIN Batch 150 Loss 0.5110 Accuracy 74.3968 AUC 0.7866\n",
            "Epoch 127 TRAIN Batch 200 Loss 0.5111 Accuracy 74.3826 AUC 0.7867\n",
            "Epoch 127 TRAIN Batch 250 Loss 0.5116 Accuracy 74.3318 AUC 0.7867\n",
            "Epoch 127 TRAIN Batch 300 Loss 0.5117 Accuracy 74.3327 AUC 0.7867\n",
            "Epoch 127 TRAIN Batch 350 Loss 0.5117 Accuracy 74.3313 AUC 0.7867\n",
            "Epoch 127 TRAIN Batch 400 Loss 0.5115 Accuracy 74.3492 AUC 0.7868\n",
            "Epoch 127 TRAIN Batch 450 Loss 0.5116 Accuracy 74.3356 AUC 0.7867\n",
            "Epoch 127 TRAIN Batch 500 Loss 0.5118 Accuracy 74.3253 AUC 0.7866\n",
            "Epoch 127 TRAIN Batch 550 Loss 0.5117 Accuracy 74.3318 AUC 0.7867\n",
            "Epoch 127 TRAIN Batch 600 Loss 0.5115 Accuracy 74.3504 AUC 0.7869\n",
            "Epoch 127 TRAIN Batch 650 Loss 0.5115 Accuracy 74.3423 AUC 0.7869\n",
            "Epoch 127 TRAIN Batch 700 Loss 0.5115 Accuracy 74.3395 AUC 0.7869\n",
            "Epoch 127 TRAIN Batch 750 Loss 0.5114 Accuracy 74.3485 AUC 0.7869\n"
          ],
          "name": "stdout"
        },
        {
          "output_type": "stream",
          "text": [
            "19-12 21:09 root         INFO     Epoch TRAIN 127 Loss 0.5114 Accuracy 74.3488 AUC 0.7869\n"
          ],
          "name": "stderr"
        },
        {
          "output_type": "stream",
          "text": [
            "Time taken for 1 epoch: 83.95854592323303 secs\n",
            "\n",
            "Epoch 128 TRAIN Batch 0 Loss 0.5235 Accuracy 73.4925 AUC 0.7835\n",
            "Epoch 128 TRAIN Batch 50 Loss 0.5092 Accuracy 74.4976 AUC 0.7883\n",
            "Epoch 128 TRAIN Batch 100 Loss 0.5107 Accuracy 74.3914 AUC 0.7873\n",
            "Epoch 128 TRAIN Batch 150 Loss 0.5109 Accuracy 74.3715 AUC 0.7874\n",
            "Epoch 128 TRAIN Batch 200 Loss 0.5107 Accuracy 74.3815 AUC 0.7876\n",
            "Epoch 128 TRAIN Batch 250 Loss 0.5109 Accuracy 74.3753 AUC 0.7875\n",
            "Epoch 128 TRAIN Batch 300 Loss 0.5108 Accuracy 74.3798 AUC 0.7873\n",
            "Epoch 128 TRAIN Batch 350 Loss 0.5106 Accuracy 74.4032 AUC 0.7874\n",
            "Epoch 128 TRAIN Batch 400 Loss 0.5106 Accuracy 74.4033 AUC 0.7873\n",
            "Epoch 128 TRAIN Batch 450 Loss 0.5105 Accuracy 74.4133 AUC 0.7873\n",
            "Epoch 128 TRAIN Batch 500 Loss 0.5104 Accuracy 74.4124 AUC 0.7874\n",
            "Epoch 128 TRAIN Batch 550 Loss 0.5104 Accuracy 74.4115 AUC 0.7876\n",
            "Epoch 128 TRAIN Batch 600 Loss 0.5103 Accuracy 74.4190 AUC 0.7875\n",
            "Epoch 128 TRAIN Batch 650 Loss 0.5103 Accuracy 74.4214 AUC 0.7875\n",
            "Epoch 128 TRAIN Batch 700 Loss 0.5102 Accuracy 74.4261 AUC 0.7875\n",
            "Epoch 128 TRAIN Batch 750 Loss 0.5103 Accuracy 74.4181 AUC 0.7875\n"
          ],
          "name": "stdout"
        },
        {
          "output_type": "stream",
          "text": [
            "19-12 21:10 root         INFO     Epoch TRAIN 128 Loss 0.5104 Accuracy 74.4065 AUC 0.7875\n"
          ],
          "name": "stderr"
        },
        {
          "output_type": "stream",
          "text": [
            "Time taken for 1 epoch: 85.1557834148407 secs\n",
            "\n",
            "Epoch 129 TRAIN Batch 0 Loss 0.5050 Accuracy 75.1483 AUC 0.7872\n",
            "Epoch 129 TRAIN Batch 50 Loss 0.5097 Accuracy 74.4542 AUC 0.7882\n",
            "Epoch 129 TRAIN Batch 100 Loss 0.5111 Accuracy 74.3329 AUC 0.7869\n",
            "Epoch 129 TRAIN Batch 150 Loss 0.5114 Accuracy 74.3252 AUC 0.7871\n",
            "Epoch 129 TRAIN Batch 200 Loss 0.5118 Accuracy 74.2906 AUC 0.7869\n",
            "Epoch 129 TRAIN Batch 250 Loss 0.5115 Accuracy 74.3172 AUC 0.7870\n",
            "Epoch 129 TRAIN Batch 300 Loss 0.5118 Accuracy 74.3041 AUC 0.7867\n",
            "Epoch 129 TRAIN Batch 350 Loss 0.5116 Accuracy 74.3234 AUC 0.7869\n",
            "Epoch 129 TRAIN Batch 400 Loss 0.5114 Accuracy 74.3283 AUC 0.7869\n",
            "Epoch 129 TRAIN Batch 450 Loss 0.5115 Accuracy 74.3271 AUC 0.7870\n",
            "Epoch 129 TRAIN Batch 500 Loss 0.5112 Accuracy 74.3502 AUC 0.7870\n",
            "Epoch 129 TRAIN Batch 550 Loss 0.5113 Accuracy 74.3433 AUC 0.7870\n",
            "Epoch 129 TRAIN Batch 600 Loss 0.5112 Accuracy 74.3471 AUC 0.7871\n",
            "Epoch 129 TRAIN Batch 650 Loss 0.5109 Accuracy 74.3625 AUC 0.7872\n",
            "Epoch 129 TRAIN Batch 700 Loss 0.5108 Accuracy 74.3716 AUC 0.7872\n",
            "Epoch 129 TRAIN Batch 750 Loss 0.5107 Accuracy 74.3752 AUC 0.7873\n"
          ],
          "name": "stdout"
        },
        {
          "output_type": "stream",
          "text": [
            "19-12 21:12 root         INFO     Epoch TRAIN 129 Loss 0.5108 Accuracy 74.3676 AUC 0.7872\n"
          ],
          "name": "stderr"
        },
        {
          "output_type": "stream",
          "text": [
            "Time taken for 1 epoch: 84.4714994430542 secs\n",
            "\n",
            "Epoch 130 TRAIN Batch 0 Loss 0.5214 Accuracy 73.9690 AUC 0.7764\n",
            "Epoch 130 TRAIN Batch 50 Loss 0.5107 Accuracy 74.3222 AUC 0.7885\n",
            "Epoch 130 TRAIN Batch 100 Loss 0.5102 Accuracy 74.4068 AUC 0.7887\n",
            "Epoch 130 TRAIN Batch 150 Loss 0.5103 Accuracy 74.3925 AUC 0.7885\n",
            "Epoch 130 TRAIN Batch 200 Loss 0.5104 Accuracy 74.3888 AUC 0.7881\n",
            "Epoch 130 TRAIN Batch 250 Loss 0.5100 Accuracy 74.4168 AUC 0.7882\n",
            "Epoch 130 TRAIN Batch 300 Loss 0.5101 Accuracy 74.4205 AUC 0.7881\n",
            "Epoch 130 TRAIN Batch 350 Loss 0.5102 Accuracy 74.4170 AUC 0.7878\n",
            "Epoch 130 TRAIN Batch 400 Loss 0.5103 Accuracy 74.4129 AUC 0.7879\n",
            "Epoch 130 TRAIN Batch 450 Loss 0.5102 Accuracy 74.4229 AUC 0.7879\n",
            "Epoch 130 TRAIN Batch 500 Loss 0.5102 Accuracy 74.4301 AUC 0.7878\n",
            "Epoch 130 TRAIN Batch 550 Loss 0.5103 Accuracy 74.4183 AUC 0.7877\n",
            "Epoch 130 TRAIN Batch 600 Loss 0.5104 Accuracy 74.4140 AUC 0.7877\n",
            "Epoch 130 TRAIN Batch 650 Loss 0.5105 Accuracy 74.4074 AUC 0.7877\n",
            "Epoch 130 TRAIN Batch 700 Loss 0.5105 Accuracy 74.4073 AUC 0.7876\n",
            "Epoch 130 TRAIN Batch 750 Loss 0.5105 Accuracy 74.4002 AUC 0.7876\n"
          ],
          "name": "stdout"
        },
        {
          "output_type": "stream",
          "text": [
            "19-12 21:13 root         INFO     Epoch TRAIN 130 Loss 0.5107 Accuracy 74.3874 AUC 0.7875\n"
          ],
          "name": "stderr"
        },
        {
          "output_type": "stream",
          "text": [
            "Epoch 130 VAL Batch 0 Loss 0.5132 Accuracy 74.0921 AUC 0.7839\n",
            "Epoch 130 VAL Batch 50 Loss 0.5154 Accuracy 74.0299 AUC 0.7845\n",
            "Epoch 130 VAL Batch 100 Loss 0.5145 Accuracy 74.1373 AUC 0.7853\n",
            "Epoch 130 VAL Batch 150 Loss 0.5144 Accuracy 74.1625 AUC 0.7851\n",
            "Epoch 130 VAL Batch 200 Loss 0.5146 Accuracy 74.1289 AUC 0.7852\n",
            "Epoch 130 VAL Batch 250 Loss 0.5142 Accuracy 74.1549 AUC 0.7855\n",
            "Epoch 130 VAL Batch 300 Loss 0.5139 Accuracy 74.1840 AUC 0.7857\n",
            "Epoch 130 VAL Batch 350 Loss 0.5140 Accuracy 74.1816 AUC 0.7858\n",
            "Epoch 130 VAL Batch 400 Loss 0.5138 Accuracy 74.2004 AUC 0.7859\n",
            "Epoch 130 VAL Batch 450 Loss 0.5134 Accuracy 74.2250 AUC 0.7861\n",
            "Epoch 130 VAL Batch 500 Loss 0.5135 Accuracy 74.2224 AUC 0.7860\n",
            "Epoch 130 VAL Batch 550 Loss 0.5135 Accuracy 74.2231 AUC 0.7859\n",
            "Epoch 130 VAL Batch 600 Loss 0.5133 Accuracy 74.2410 AUC 0.7861\n",
            "Epoch 130 VAL Batch 650 Loss 0.5133 Accuracy 74.2384 AUC 0.7861\n",
            "Epoch 130 VAL Batch 700 Loss 0.5133 Accuracy 74.2449 AUC 0.7861\n",
            "Epoch 130 VAL Batch 750 Loss 0.5133 Accuracy 74.2485 AUC 0.7861\n"
          ],
          "name": "stdout"
        },
        {
          "output_type": "stream",
          "text": [
            "19-12 21:14 root         INFO     Epoch VAL 130 Loss 0.5132 Accuracy 74.2484 AUC 0.7862\n",
            "19-12 21:14 root         INFO     Saving checkpoint for epoch 130 at 19-Dec-riiid-2/checkpoints/ckpt-26\n"
          ],
          "name": "stderr"
        },
        {
          "output_type": "stream",
          "text": [
            "Time taken for 1 epoch: 102.22632336616516 secs\n",
            "\n",
            "Epoch 131 TRAIN Batch 0 Loss 0.5186 Accuracy 73.6380 AUC 0.7801\n",
            "Epoch 131 TRAIN Batch 50 Loss 0.5100 Accuracy 74.4515 AUC 0.7877\n",
            "Epoch 131 TRAIN Batch 100 Loss 0.5094 Accuracy 74.4802 AUC 0.7883\n",
            "Epoch 131 TRAIN Batch 150 Loss 0.5104 Accuracy 74.3914 AUC 0.7880\n",
            "Epoch 131 TRAIN Batch 200 Loss 0.5104 Accuracy 74.3900 AUC 0.7880\n",
            "Epoch 131 TRAIN Batch 250 Loss 0.5109 Accuracy 74.3555 AUC 0.7877\n",
            "Epoch 131 TRAIN Batch 300 Loss 0.5112 Accuracy 74.3359 AUC 0.7876\n",
            "Epoch 131 TRAIN Batch 350 Loss 0.5110 Accuracy 74.3610 AUC 0.7875\n",
            "Epoch 131 TRAIN Batch 400 Loss 0.5108 Accuracy 74.3687 AUC 0.7877\n",
            "Epoch 131 TRAIN Batch 450 Loss 0.5109 Accuracy 74.3700 AUC 0.7877\n",
            "Epoch 131 TRAIN Batch 500 Loss 0.5110 Accuracy 74.3686 AUC 0.7877\n",
            "Epoch 131 TRAIN Batch 550 Loss 0.5110 Accuracy 74.3711 AUC 0.7877\n",
            "Epoch 131 TRAIN Batch 600 Loss 0.5110 Accuracy 74.3689 AUC 0.7876\n",
            "Epoch 131 TRAIN Batch 650 Loss 0.5110 Accuracy 74.3704 AUC 0.7876\n",
            "Epoch 131 TRAIN Batch 700 Loss 0.5110 Accuracy 74.3628 AUC 0.7876\n",
            "Epoch 131 TRAIN Batch 750 Loss 0.5109 Accuracy 74.3642 AUC 0.7876\n"
          ],
          "name": "stdout"
        },
        {
          "output_type": "stream",
          "text": [
            "19-12 21:15 root         INFO     Epoch TRAIN 131 Loss 0.5110 Accuracy 74.3626 AUC 0.7876\n"
          ],
          "name": "stderr"
        },
        {
          "output_type": "stream",
          "text": [
            "Time taken for 1 epoch: 85.18788933753967 secs\n",
            "\n",
            "Epoch 132 TRAIN Batch 0 Loss 0.5103 Accuracy 74.2816 AUC 0.7840\n",
            "Epoch 132 TRAIN Batch 50 Loss 0.5122 Accuracy 74.2427 AUC 0.7876\n",
            "Epoch 132 TRAIN Batch 100 Loss 0.5118 Accuracy 74.2912 AUC 0.7874\n",
            "Epoch 132 TRAIN Batch 150 Loss 0.5115 Accuracy 74.3211 AUC 0.7875\n",
            "Epoch 132 TRAIN Batch 200 Loss 0.5114 Accuracy 74.3295 AUC 0.7878\n",
            "Epoch 132 TRAIN Batch 250 Loss 0.5117 Accuracy 74.3145 AUC 0.7874\n",
            "Epoch 132 TRAIN Batch 300 Loss 0.5115 Accuracy 74.3284 AUC 0.7876\n",
            "Epoch 132 TRAIN Batch 350 Loss 0.5115 Accuracy 74.3301 AUC 0.7876\n",
            "Epoch 132 TRAIN Batch 400 Loss 0.5115 Accuracy 74.3262 AUC 0.7874\n",
            "Epoch 132 TRAIN Batch 450 Loss 0.5115 Accuracy 74.3248 AUC 0.7875\n",
            "Epoch 132 TRAIN Batch 500 Loss 0.5114 Accuracy 74.3249 AUC 0.7876\n",
            "Epoch 132 TRAIN Batch 550 Loss 0.5113 Accuracy 74.3405 AUC 0.7876\n",
            "Epoch 132 TRAIN Batch 600 Loss 0.5113 Accuracy 74.3446 AUC 0.7876\n",
            "Epoch 132 TRAIN Batch 650 Loss 0.5113 Accuracy 74.3405 AUC 0.7876\n",
            "Epoch 132 TRAIN Batch 700 Loss 0.5113 Accuracy 74.3427 AUC 0.7877\n",
            "Epoch 132 TRAIN Batch 750 Loss 0.5114 Accuracy 74.3380 AUC 0.7877\n"
          ],
          "name": "stdout"
        },
        {
          "output_type": "stream",
          "text": [
            "19-12 21:16 root         INFO     Epoch TRAIN 132 Loss 0.5114 Accuracy 74.3337 AUC 0.7876\n"
          ],
          "name": "stderr"
        },
        {
          "output_type": "stream",
          "text": [
            "Time taken for 1 epoch: 85.52060461044312 secs\n",
            "\n",
            "Epoch 133 TRAIN Batch 0 Loss 0.5126 Accuracy 74.2601 AUC 0.7895\n",
            "Epoch 133 TRAIN Batch 50 Loss 0.5118 Accuracy 74.2916 AUC 0.7869\n",
            "Epoch 133 TRAIN Batch 100 Loss 0.5103 Accuracy 74.4108 AUC 0.7879\n",
            "Epoch 133 TRAIN Batch 150 Loss 0.5107 Accuracy 74.3888 AUC 0.7875\n",
            "Epoch 133 TRAIN Batch 200 Loss 0.5112 Accuracy 74.3464 AUC 0.7874\n",
            "Epoch 133 TRAIN Batch 250 Loss 0.5111 Accuracy 74.3521 AUC 0.7873\n",
            "Epoch 133 TRAIN Batch 300 Loss 0.5110 Accuracy 74.3513 AUC 0.7875\n",
            "Epoch 133 TRAIN Batch 350 Loss 0.5105 Accuracy 74.3836 AUC 0.7878\n",
            "Epoch 133 TRAIN Batch 400 Loss 0.5107 Accuracy 74.3684 AUC 0.7876\n",
            "Epoch 133 TRAIN Batch 450 Loss 0.5107 Accuracy 74.3722 AUC 0.7876\n",
            "Epoch 133 TRAIN Batch 500 Loss 0.5109 Accuracy 74.3653 AUC 0.7875\n",
            "Epoch 133 TRAIN Batch 550 Loss 0.5107 Accuracy 74.3739 AUC 0.7877\n",
            "Epoch 133 TRAIN Batch 600 Loss 0.5110 Accuracy 74.3511 AUC 0.7875\n",
            "Epoch 133 TRAIN Batch 650 Loss 0.5110 Accuracy 74.3484 AUC 0.7875\n",
            "Epoch 133 TRAIN Batch 700 Loss 0.5110 Accuracy 74.3478 AUC 0.7876\n",
            "Epoch 133 TRAIN Batch 750 Loss 0.5109 Accuracy 74.3567 AUC 0.7876\n"
          ],
          "name": "stdout"
        },
        {
          "output_type": "stream",
          "text": [
            "19-12 21:18 root         INFO     Epoch TRAIN 133 Loss 0.5109 Accuracy 74.3584 AUC 0.7876\n"
          ],
          "name": "stderr"
        },
        {
          "output_type": "stream",
          "text": [
            "Time taken for 1 epoch: 84.52548384666443 secs\n",
            "\n",
            "Epoch 134 TRAIN Batch 0 Loss 0.5125 Accuracy 74.2186 AUC 0.7793\n",
            "Epoch 134 TRAIN Batch 50 Loss 0.5116 Accuracy 74.2986 AUC 0.7866\n",
            "Epoch 134 TRAIN Batch 100 Loss 0.5115 Accuracy 74.3197 AUC 0.7865\n",
            "Epoch 134 TRAIN Batch 150 Loss 0.5115 Accuracy 74.3206 AUC 0.7868\n",
            "Epoch 134 TRAIN Batch 200 Loss 0.5114 Accuracy 74.3319 AUC 0.7873\n",
            "Epoch 134 TRAIN Batch 250 Loss 0.5114 Accuracy 74.3446 AUC 0.7874\n",
            "Epoch 134 TRAIN Batch 300 Loss 0.5112 Accuracy 74.3464 AUC 0.7873\n",
            "Epoch 134 TRAIN Batch 350 Loss 0.5114 Accuracy 74.3278 AUC 0.7873\n",
            "Epoch 134 TRAIN Batch 400 Loss 0.5112 Accuracy 74.3429 AUC 0.7874\n",
            "Epoch 134 TRAIN Batch 450 Loss 0.5113 Accuracy 74.3216 AUC 0.7873\n",
            "Epoch 134 TRAIN Batch 500 Loss 0.5113 Accuracy 74.3218 AUC 0.7873\n",
            "Epoch 134 TRAIN Batch 550 Loss 0.5114 Accuracy 74.3241 AUC 0.7873\n",
            "Epoch 134 TRAIN Batch 600 Loss 0.5115 Accuracy 74.3235 AUC 0.7872\n",
            "Epoch 134 TRAIN Batch 650 Loss 0.5114 Accuracy 74.3296 AUC 0.7873\n",
            "Epoch 134 TRAIN Batch 700 Loss 0.5113 Accuracy 74.3347 AUC 0.7873\n",
            "Epoch 134 TRAIN Batch 750 Loss 0.5113 Accuracy 74.3355 AUC 0.7874\n"
          ],
          "name": "stdout"
        },
        {
          "output_type": "stream",
          "text": [
            "19-12 21:19 root         INFO     Epoch TRAIN 134 Loss 0.5112 Accuracy 74.3395 AUC 0.7874\n"
          ],
          "name": "stderr"
        },
        {
          "output_type": "stream",
          "text": [
            "Time taken for 1 epoch: 83.92350912094116 secs\n",
            "\n",
            "Epoch 135 TRAIN Batch 0 Loss 0.5075 Accuracy 74.5817 AUC 0.7912\n",
            "Epoch 135 TRAIN Batch 50 Loss 0.5117 Accuracy 74.3212 AUC 0.7871\n",
            "Epoch 135 TRAIN Batch 100 Loss 0.5112 Accuracy 74.3449 AUC 0.7877\n",
            "Epoch 135 TRAIN Batch 150 Loss 0.5108 Accuracy 74.3789 AUC 0.7878\n",
            "Epoch 135 TRAIN Batch 200 Loss 0.5107 Accuracy 74.3891 AUC 0.7880\n",
            "Epoch 135 TRAIN Batch 250 Loss 0.5111 Accuracy 74.3669 AUC 0.7876\n",
            "Epoch 135 TRAIN Batch 300 Loss 0.5112 Accuracy 74.3645 AUC 0.7875\n",
            "Epoch 135 TRAIN Batch 350 Loss 0.5110 Accuracy 74.3728 AUC 0.7876\n",
            "Epoch 135 TRAIN Batch 400 Loss 0.5109 Accuracy 74.3783 AUC 0.7877\n",
            "Epoch 135 TRAIN Batch 450 Loss 0.5109 Accuracy 74.3869 AUC 0.7877\n",
            "Epoch 135 TRAIN Batch 500 Loss 0.5108 Accuracy 74.3855 AUC 0.7878\n",
            "Epoch 135 TRAIN Batch 550 Loss 0.5108 Accuracy 74.3905 AUC 0.7877\n",
            "Epoch 135 TRAIN Batch 600 Loss 0.5107 Accuracy 74.3931 AUC 0.7877\n",
            "Epoch 135 TRAIN Batch 650 Loss 0.5106 Accuracy 74.3969 AUC 0.7879\n",
            "Epoch 135 TRAIN Batch 700 Loss 0.5108 Accuracy 74.3805 AUC 0.7877\n",
            "Epoch 135 TRAIN Batch 750 Loss 0.5107 Accuracy 74.3826 AUC 0.7878\n"
          ],
          "name": "stdout"
        },
        {
          "output_type": "stream",
          "text": [
            "19-12 21:21 root         INFO     Epoch TRAIN 135 Loss 0.5107 Accuracy 74.3872 AUC 0.7878\n"
          ],
          "name": "stderr"
        },
        {
          "output_type": "stream",
          "text": [
            "Epoch 135 VAL Batch 0 Loss 0.5142 Accuracy 74.1424 AUC 0.7835\n",
            "Epoch 135 VAL Batch 50 Loss 0.5154 Accuracy 74.1165 AUC 0.7849\n",
            "Epoch 135 VAL Batch 100 Loss 0.5145 Accuracy 74.2118 AUC 0.7857\n",
            "Epoch 135 VAL Batch 150 Loss 0.5143 Accuracy 74.2231 AUC 0.7855\n",
            "Epoch 135 VAL Batch 200 Loss 0.5145 Accuracy 74.1899 AUC 0.7857\n",
            "Epoch 135 VAL Batch 250 Loss 0.5142 Accuracy 74.2184 AUC 0.7859\n",
            "Epoch 135 VAL Batch 300 Loss 0.5139 Accuracy 74.2453 AUC 0.7861\n",
            "Epoch 135 VAL Batch 350 Loss 0.5140 Accuracy 74.2377 AUC 0.7862\n",
            "Epoch 135 VAL Batch 400 Loss 0.5138 Accuracy 74.2536 AUC 0.7863\n",
            "Epoch 135 VAL Batch 450 Loss 0.5134 Accuracy 74.2797 AUC 0.7865\n",
            "Epoch 135 VAL Batch 500 Loss 0.5135 Accuracy 74.2708 AUC 0.7864\n",
            "Epoch 135 VAL Batch 550 Loss 0.5135 Accuracy 74.2729 AUC 0.7863\n",
            "Epoch 135 VAL Batch 600 Loss 0.5132 Accuracy 74.2932 AUC 0.7865\n",
            "Epoch 135 VAL Batch 650 Loss 0.5133 Accuracy 74.2888 AUC 0.7865\n",
            "Epoch 135 VAL Batch 700 Loss 0.5133 Accuracy 74.2924 AUC 0.7865\n",
            "Epoch 135 VAL Batch 750 Loss 0.5132 Accuracy 74.2973 AUC 0.7865\n"
          ],
          "name": "stdout"
        },
        {
          "output_type": "stream",
          "text": [
            "19-12 21:21 root         INFO     Epoch VAL 135 Loss 0.5132 Accuracy 74.2974 AUC 0.7866\n",
            "19-12 21:21 root         INFO     Saving checkpoint for epoch 135 at 19-Dec-riiid-2/checkpoints/ckpt-27\n"
          ],
          "name": "stderr"
        },
        {
          "output_type": "stream",
          "text": [
            "Time taken for 1 epoch: 102.45800399780273 secs\n",
            "\n",
            "Epoch 136 TRAIN Batch 0 Loss 0.5042 Accuracy 75.2199 AUC 0.7874\n",
            "Epoch 136 TRAIN Batch 50 Loss 0.5104 Accuracy 74.4014 AUC 0.7884\n",
            "Epoch 136 TRAIN Batch 100 Loss 0.5103 Accuracy 74.3815 AUC 0.7883\n",
            "Epoch 136 TRAIN Batch 150 Loss 0.5102 Accuracy 74.4009 AUC 0.7880\n",
            "Epoch 136 TRAIN Batch 200 Loss 0.5097 Accuracy 74.4244 AUC 0.7883\n",
            "Epoch 136 TRAIN Batch 250 Loss 0.5100 Accuracy 74.4054 AUC 0.7881\n",
            "Epoch 136 TRAIN Batch 300 Loss 0.5101 Accuracy 74.3999 AUC 0.7882\n",
            "Epoch 136 TRAIN Batch 350 Loss 0.5103 Accuracy 74.3746 AUC 0.7881\n",
            "Epoch 136 TRAIN Batch 400 Loss 0.5103 Accuracy 74.3788 AUC 0.7881\n",
            "Epoch 136 TRAIN Batch 450 Loss 0.5102 Accuracy 74.3829 AUC 0.7880\n",
            "Epoch 136 TRAIN Batch 500 Loss 0.5102 Accuracy 74.3883 AUC 0.7880\n",
            "Epoch 136 TRAIN Batch 550 Loss 0.5103 Accuracy 74.3894 AUC 0.7880\n",
            "Epoch 136 TRAIN Batch 600 Loss 0.5103 Accuracy 74.3891 AUC 0.7880\n",
            "Epoch 136 TRAIN Batch 650 Loss 0.5102 Accuracy 74.3910 AUC 0.7882\n",
            "Epoch 136 TRAIN Batch 700 Loss 0.5102 Accuracy 74.3938 AUC 0.7881\n",
            "Epoch 136 TRAIN Batch 750 Loss 0.5102 Accuracy 74.3973 AUC 0.7881\n"
          ],
          "name": "stdout"
        },
        {
          "output_type": "stream",
          "text": [
            "19-12 21:22 root         INFO     Epoch TRAIN 136 Loss 0.5101 Accuracy 74.4009 AUC 0.7881\n"
          ],
          "name": "stderr"
        },
        {
          "output_type": "stream",
          "text": [
            "Time taken for 1 epoch: 84.65084266662598 secs\n",
            "\n",
            "Epoch 137 TRAIN Batch 0 Loss 0.5105 Accuracy 74.3438 AUC 0.7812\n",
            "Epoch 137 TRAIN Batch 50 Loss 0.5109 Accuracy 74.3171 AUC 0.7879\n",
            "Epoch 137 TRAIN Batch 100 Loss 0.5098 Accuracy 74.4397 AUC 0.7884\n",
            "Epoch 137 TRAIN Batch 150 Loss 0.5100 Accuracy 74.4227 AUC 0.7885\n",
            "Epoch 137 TRAIN Batch 200 Loss 0.5105 Accuracy 74.3805 AUC 0.7884\n",
            "Epoch 137 TRAIN Batch 250 Loss 0.5105 Accuracy 74.3805 AUC 0.7883\n",
            "Epoch 137 TRAIN Batch 300 Loss 0.5104 Accuracy 74.3848 AUC 0.7884\n",
            "Epoch 137 TRAIN Batch 350 Loss 0.5105 Accuracy 74.3804 AUC 0.7882\n",
            "Epoch 137 TRAIN Batch 400 Loss 0.5106 Accuracy 74.3716 AUC 0.7883\n",
            "Epoch 137 TRAIN Batch 450 Loss 0.5106 Accuracy 74.3735 AUC 0.7881\n",
            "Epoch 137 TRAIN Batch 500 Loss 0.5106 Accuracy 74.3760 AUC 0.7881\n",
            "Epoch 137 TRAIN Batch 550 Loss 0.5105 Accuracy 74.3821 AUC 0.7881\n",
            "Epoch 137 TRAIN Batch 600 Loss 0.5104 Accuracy 74.3951 AUC 0.7881\n",
            "Epoch 137 TRAIN Batch 650 Loss 0.5103 Accuracy 74.4094 AUC 0.7881\n",
            "Epoch 137 TRAIN Batch 700 Loss 0.5104 Accuracy 74.3978 AUC 0.7880\n",
            "Epoch 137 TRAIN Batch 750 Loss 0.5104 Accuracy 74.4006 AUC 0.7880\n"
          ],
          "name": "stdout"
        },
        {
          "output_type": "stream",
          "text": [
            "19-12 21:24 root         INFO     Epoch TRAIN 137 Loss 0.5104 Accuracy 74.3959 AUC 0.7880\n"
          ],
          "name": "stderr"
        },
        {
          "output_type": "stream",
          "text": [
            "Time taken for 1 epoch: 85.11593651771545 secs\n",
            "\n",
            "Epoch 138 TRAIN Batch 0 Loss 0.5111 Accuracy 74.1018 AUC 0.7853\n",
            "Epoch 138 TRAIN Batch 50 Loss 0.5119 Accuracy 74.3620 AUC 0.7879\n",
            "Epoch 138 TRAIN Batch 100 Loss 0.5116 Accuracy 74.3691 AUC 0.7878\n",
            "Epoch 138 TRAIN Batch 150 Loss 0.5108 Accuracy 74.4026 AUC 0.7882\n",
            "Epoch 138 TRAIN Batch 200 Loss 0.5109 Accuracy 74.3797 AUC 0.7884\n",
            "Epoch 138 TRAIN Batch 250 Loss 0.5108 Accuracy 74.3812 AUC 0.7884\n",
            "Epoch 138 TRAIN Batch 300 Loss 0.5105 Accuracy 74.3993 AUC 0.7886\n",
            "Epoch 138 TRAIN Batch 350 Loss 0.5108 Accuracy 74.3735 AUC 0.7884\n",
            "Epoch 138 TRAIN Batch 400 Loss 0.5107 Accuracy 74.3819 AUC 0.7884\n",
            "Epoch 138 TRAIN Batch 450 Loss 0.5107 Accuracy 74.3783 AUC 0.7884\n",
            "Epoch 138 TRAIN Batch 500 Loss 0.5110 Accuracy 74.3593 AUC 0.7882\n",
            "Epoch 138 TRAIN Batch 550 Loss 0.5107 Accuracy 74.3777 AUC 0.7883\n",
            "Epoch 138 TRAIN Batch 600 Loss 0.5106 Accuracy 74.3819 AUC 0.7883\n",
            "Epoch 138 TRAIN Batch 650 Loss 0.5106 Accuracy 74.3820 AUC 0.7883\n",
            "Epoch 138 TRAIN Batch 700 Loss 0.5107 Accuracy 74.3745 AUC 0.7884\n",
            "Epoch 138 TRAIN Batch 750 Loss 0.5107 Accuracy 74.3694 AUC 0.7884\n"
          ],
          "name": "stdout"
        },
        {
          "output_type": "stream",
          "text": [
            "19-12 21:25 root         INFO     Epoch TRAIN 138 Loss 0.5106 Accuracy 74.3729 AUC 0.7884\n"
          ],
          "name": "stderr"
        },
        {
          "output_type": "stream",
          "text": [
            "Time taken for 1 epoch: 86.55712151527405 secs\n",
            "\n",
            "Epoch 139 TRAIN Batch 0 Loss 0.5086 Accuracy 74.0586 AUC 0.7890\n",
            "Epoch 139 TRAIN Batch 50 Loss 0.5119 Accuracy 74.2735 AUC 0.7875\n",
            "Epoch 139 TRAIN Batch 100 Loss 0.5109 Accuracy 74.3529 AUC 0.7879\n",
            "Epoch 139 TRAIN Batch 150 Loss 0.5114 Accuracy 74.3341 AUC 0.7874\n",
            "Epoch 139 TRAIN Batch 200 Loss 0.5108 Accuracy 74.3689 AUC 0.7877\n",
            "Epoch 139 TRAIN Batch 250 Loss 0.5105 Accuracy 74.3937 AUC 0.7877\n",
            "Epoch 139 TRAIN Batch 300 Loss 0.5104 Accuracy 74.4079 AUC 0.7877\n",
            "Epoch 139 TRAIN Batch 350 Loss 0.5101 Accuracy 74.4338 AUC 0.7880\n",
            "Epoch 139 TRAIN Batch 400 Loss 0.5101 Accuracy 74.4279 AUC 0.7881\n",
            "Epoch 139 TRAIN Batch 450 Loss 0.5100 Accuracy 74.4342 AUC 0.7882\n",
            "Epoch 139 TRAIN Batch 500 Loss 0.5099 Accuracy 74.4400 AUC 0.7883\n",
            "Epoch 139 TRAIN Batch 550 Loss 0.5101 Accuracy 74.4228 AUC 0.7882\n",
            "Epoch 139 TRAIN Batch 600 Loss 0.5101 Accuracy 74.4225 AUC 0.7883\n",
            "Epoch 139 TRAIN Batch 650 Loss 0.5102 Accuracy 74.4132 AUC 0.7883\n",
            "Epoch 139 TRAIN Batch 700 Loss 0.5101 Accuracy 74.4159 AUC 0.7883\n",
            "Epoch 139 TRAIN Batch 750 Loss 0.5100 Accuracy 74.4269 AUC 0.7885\n"
          ],
          "name": "stdout"
        },
        {
          "output_type": "stream",
          "text": [
            "19-12 21:27 root         INFO     Epoch TRAIN 139 Loss 0.5100 Accuracy 74.4227 AUC 0.7885\n"
          ],
          "name": "stderr"
        },
        {
          "output_type": "stream",
          "text": [
            "Time taken for 1 epoch: 87.67131614685059 secs\n",
            "\n",
            "Epoch 140 TRAIN Batch 0 Loss 0.5028 Accuracy 74.7733 AUC 0.7909\n",
            "Epoch 140 TRAIN Batch 50 Loss 0.5088 Accuracy 74.5204 AUC 0.7883\n",
            "Epoch 140 TRAIN Batch 100 Loss 0.5089 Accuracy 74.5125 AUC 0.7887\n",
            "Epoch 140 TRAIN Batch 150 Loss 0.5093 Accuracy 74.4709 AUC 0.7889\n",
            "Epoch 140 TRAIN Batch 200 Loss 0.5095 Accuracy 74.4499 AUC 0.7888\n",
            "Epoch 140 TRAIN Batch 250 Loss 0.5095 Accuracy 74.4472 AUC 0.7888\n",
            "Epoch 140 TRAIN Batch 300 Loss 0.5095 Accuracy 74.4431 AUC 0.7888\n",
            "Epoch 140 TRAIN Batch 350 Loss 0.5097 Accuracy 74.4208 AUC 0.7888\n",
            "Epoch 140 TRAIN Batch 400 Loss 0.5099 Accuracy 74.4048 AUC 0.7886\n",
            "Epoch 140 TRAIN Batch 450 Loss 0.5096 Accuracy 74.4289 AUC 0.7888\n",
            "Epoch 140 TRAIN Batch 500 Loss 0.5098 Accuracy 74.4179 AUC 0.7887\n",
            "Epoch 140 TRAIN Batch 550 Loss 0.5099 Accuracy 74.4205 AUC 0.7886\n",
            "Epoch 140 TRAIN Batch 600 Loss 0.5099 Accuracy 74.4102 AUC 0.7886\n",
            "Epoch 140 TRAIN Batch 650 Loss 0.5100 Accuracy 74.4067 AUC 0.7885\n",
            "Epoch 140 TRAIN Batch 700 Loss 0.5098 Accuracy 74.4216 AUC 0.7886\n",
            "Epoch 140 TRAIN Batch 750 Loss 0.5098 Accuracy 74.4281 AUC 0.7887\n"
          ],
          "name": "stdout"
        },
        {
          "output_type": "stream",
          "text": [
            "19-12 21:28 root         INFO     Epoch TRAIN 140 Loss 0.5098 Accuracy 74.4313 AUC 0.7888\n"
          ],
          "name": "stderr"
        },
        {
          "output_type": "stream",
          "text": [
            "Epoch 140 VAL Batch 0 Loss 0.5144 Accuracy 74.2179 AUC 0.7830\n",
            "Epoch 140 VAL Batch 50 Loss 0.5149 Accuracy 74.0864 AUC 0.7849\n",
            "Epoch 140 VAL Batch 100 Loss 0.5141 Accuracy 74.1623 AUC 0.7857\n",
            "Epoch 140 VAL Batch 150 Loss 0.5140 Accuracy 74.1778 AUC 0.7855\n",
            "Epoch 140 VAL Batch 200 Loss 0.5141 Accuracy 74.1495 AUC 0.7856\n",
            "Epoch 140 VAL Batch 250 Loss 0.5138 Accuracy 74.1774 AUC 0.7859\n",
            "Epoch 140 VAL Batch 300 Loss 0.5135 Accuracy 74.2046 AUC 0.7860\n",
            "Epoch 140 VAL Batch 350 Loss 0.5136 Accuracy 74.2020 AUC 0.7861\n",
            "Epoch 140 VAL Batch 400 Loss 0.5133 Accuracy 74.2230 AUC 0.7863\n",
            "Epoch 140 VAL Batch 450 Loss 0.5130 Accuracy 74.2475 AUC 0.7865\n",
            "Epoch 140 VAL Batch 500 Loss 0.5131 Accuracy 74.2431 AUC 0.7864\n",
            "Epoch 140 VAL Batch 550 Loss 0.5131 Accuracy 74.2418 AUC 0.7863\n",
            "Epoch 140 VAL Batch 600 Loss 0.5128 Accuracy 74.2589 AUC 0.7865\n",
            "Epoch 140 VAL Batch 650 Loss 0.5129 Accuracy 74.2566 AUC 0.7864\n",
            "Epoch 140 VAL Batch 700 Loss 0.5129 Accuracy 74.2602 AUC 0.7864\n",
            "Epoch 140 VAL Batch 750 Loss 0.5129 Accuracy 74.2657 AUC 0.7865\n"
          ],
          "name": "stdout"
        },
        {
          "output_type": "stream",
          "text": [
            "19-12 21:28 root         INFO     Epoch VAL 140 Loss 0.5128 Accuracy 74.2671 AUC 0.7865\n"
          ],
          "name": "stderr"
        },
        {
          "output_type": "stream",
          "text": [
            "Time taken for 1 epoch: 103.06148910522461 secs\n",
            "\n",
            "Epoch 141 TRAIN Batch 0 Loss 0.5171 Accuracy 74.1729 AUC 0.7805\n",
            "Epoch 141 TRAIN Batch 50 Loss 0.5101 Accuracy 74.3810 AUC 0.7888\n",
            "Epoch 141 TRAIN Batch 100 Loss 0.5094 Accuracy 74.4667 AUC 0.7889\n",
            "Epoch 141 TRAIN Batch 150 Loss 0.5094 Accuracy 74.4824 AUC 0.7886\n",
            "Epoch 141 TRAIN Batch 200 Loss 0.5098 Accuracy 74.4521 AUC 0.7887\n",
            "Epoch 141 TRAIN Batch 250 Loss 0.5102 Accuracy 74.4176 AUC 0.7886\n",
            "Epoch 141 TRAIN Batch 300 Loss 0.5101 Accuracy 74.4192 AUC 0.7887\n",
            "Epoch 141 TRAIN Batch 350 Loss 0.5100 Accuracy 74.4348 AUC 0.7887\n",
            "Epoch 141 TRAIN Batch 400 Loss 0.5101 Accuracy 74.4182 AUC 0.7885\n",
            "Epoch 141 TRAIN Batch 450 Loss 0.5102 Accuracy 74.4030 AUC 0.7884\n",
            "Epoch 141 TRAIN Batch 500 Loss 0.5101 Accuracy 74.4190 AUC 0.7884\n",
            "Epoch 141 TRAIN Batch 550 Loss 0.5100 Accuracy 74.4181 AUC 0.7885\n",
            "Epoch 141 TRAIN Batch 600 Loss 0.5099 Accuracy 74.4242 AUC 0.7885\n",
            "Epoch 141 TRAIN Batch 650 Loss 0.5098 Accuracy 74.4338 AUC 0.7885\n",
            "Epoch 141 TRAIN Batch 700 Loss 0.5098 Accuracy 74.4376 AUC 0.7885\n",
            "Epoch 141 TRAIN Batch 750 Loss 0.5098 Accuracy 74.4390 AUC 0.7885\n"
          ],
          "name": "stdout"
        },
        {
          "output_type": "stream",
          "text": [
            "19-12 21:30 root         INFO     Epoch TRAIN 141 Loss 0.5099 Accuracy 74.4281 AUC 0.7884\n"
          ],
          "name": "stderr"
        },
        {
          "output_type": "stream",
          "text": [
            "Time taken for 1 epoch: 84.95677018165588 secs\n",
            "\n",
            "Epoch 142 TRAIN Batch 0 Loss 0.5084 Accuracy 74.4054 AUC 0.7928\n",
            "Epoch 142 TRAIN Batch 50 Loss 0.5108 Accuracy 74.3842 AUC 0.7875\n",
            "Epoch 142 TRAIN Batch 100 Loss 0.5106 Accuracy 74.3635 AUC 0.7879\n",
            "Epoch 142 TRAIN Batch 150 Loss 0.5107 Accuracy 74.3549 AUC 0.7877\n",
            "Epoch 142 TRAIN Batch 200 Loss 0.5109 Accuracy 74.3408 AUC 0.7875\n",
            "Epoch 142 TRAIN Batch 250 Loss 0.5107 Accuracy 74.3542 AUC 0.7880\n",
            "Epoch 142 TRAIN Batch 300 Loss 0.5107 Accuracy 74.3677 AUC 0.7879\n",
            "Epoch 142 TRAIN Batch 350 Loss 0.5107 Accuracy 74.3626 AUC 0.7879\n",
            "Epoch 142 TRAIN Batch 400 Loss 0.5107 Accuracy 74.3689 AUC 0.7880\n",
            "Epoch 142 TRAIN Batch 450 Loss 0.5106 Accuracy 74.3796 AUC 0.7880\n",
            "Epoch 142 TRAIN Batch 500 Loss 0.5105 Accuracy 74.3880 AUC 0.7882\n",
            "Epoch 142 TRAIN Batch 550 Loss 0.5103 Accuracy 74.3986 AUC 0.7883\n",
            "Epoch 142 TRAIN Batch 600 Loss 0.5101 Accuracy 74.4150 AUC 0.7884\n",
            "Epoch 142 TRAIN Batch 650 Loss 0.5102 Accuracy 74.4125 AUC 0.7884\n",
            "Epoch 142 TRAIN Batch 700 Loss 0.5102 Accuracy 74.4166 AUC 0.7884\n",
            "Epoch 142 TRAIN Batch 750 Loss 0.5101 Accuracy 74.4246 AUC 0.7884\n"
          ],
          "name": "stdout"
        },
        {
          "output_type": "stream",
          "text": [
            "19-12 21:31 root         INFO     Epoch TRAIN 142 Loss 0.5101 Accuracy 74.4203 AUC 0.7884\n"
          ],
          "name": "stderr"
        },
        {
          "output_type": "stream",
          "text": [
            "Time taken for 1 epoch: 85.48289656639099 secs\n",
            "\n",
            "Epoch 143 TRAIN Batch 0 Loss 0.5086 Accuracy 74.5009 AUC 0.7909\n",
            "Epoch 143 TRAIN Batch 50 Loss 0.5110 Accuracy 74.3399 AUC 0.7879\n",
            "Epoch 143 TRAIN Batch 100 Loss 0.5103 Accuracy 74.3796 AUC 0.7887\n",
            "Epoch 143 TRAIN Batch 150 Loss 0.5098 Accuracy 74.4223 AUC 0.7887\n",
            "Epoch 143 TRAIN Batch 200 Loss 0.5097 Accuracy 74.4297 AUC 0.7889\n",
            "Epoch 143 TRAIN Batch 250 Loss 0.5100 Accuracy 74.4045 AUC 0.7888\n",
            "Epoch 143 TRAIN Batch 300 Loss 0.5099 Accuracy 74.4178 AUC 0.7887\n",
            "Epoch 143 TRAIN Batch 350 Loss 0.5097 Accuracy 74.4261 AUC 0.7888\n",
            "Epoch 143 TRAIN Batch 400 Loss 0.5096 Accuracy 74.4308 AUC 0.7889\n",
            "Epoch 143 TRAIN Batch 450 Loss 0.5097 Accuracy 74.4314 AUC 0.7887\n",
            "Epoch 143 TRAIN Batch 500 Loss 0.5097 Accuracy 74.4333 AUC 0.7887\n",
            "Epoch 143 TRAIN Batch 550 Loss 0.5097 Accuracy 74.4325 AUC 0.7887\n",
            "Epoch 143 TRAIN Batch 600 Loss 0.5098 Accuracy 74.4287 AUC 0.7887\n",
            "Epoch 143 TRAIN Batch 650 Loss 0.5098 Accuracy 74.4284 AUC 0.7886\n",
            "Epoch 143 TRAIN Batch 700 Loss 0.5100 Accuracy 74.4206 AUC 0.7886\n",
            "Epoch 143 TRAIN Batch 750 Loss 0.5100 Accuracy 74.4173 AUC 0.7885\n"
          ],
          "name": "stdout"
        },
        {
          "output_type": "stream",
          "text": [
            "19-12 21:33 root         INFO     Epoch TRAIN 143 Loss 0.5100 Accuracy 74.4209 AUC 0.7886\n"
          ],
          "name": "stderr"
        },
        {
          "output_type": "stream",
          "text": [
            "Time taken for 1 epoch: 84.51236963272095 secs\n",
            "\n",
            "Epoch 144 TRAIN Batch 0 Loss 0.4911 Accuracy 75.0935 AUC 0.7983\n",
            "Epoch 144 TRAIN Batch 50 Loss 0.5105 Accuracy 74.3870 AUC 0.7882\n",
            "Epoch 144 TRAIN Batch 100 Loss 0.5096 Accuracy 74.4618 AUC 0.7890\n",
            "Epoch 144 TRAIN Batch 150 Loss 0.5095 Accuracy 74.4965 AUC 0.7889\n",
            "Epoch 144 TRAIN Batch 200 Loss 0.5092 Accuracy 74.5024 AUC 0.7889\n",
            "Epoch 144 TRAIN Batch 250 Loss 0.5092 Accuracy 74.4949 AUC 0.7889\n",
            "Epoch 144 TRAIN Batch 300 Loss 0.5094 Accuracy 74.4776 AUC 0.7888\n",
            "Epoch 144 TRAIN Batch 350 Loss 0.5094 Accuracy 74.4818 AUC 0.7889\n",
            "Epoch 144 TRAIN Batch 400 Loss 0.5096 Accuracy 74.4732 AUC 0.7888\n",
            "Epoch 144 TRAIN Batch 450 Loss 0.5094 Accuracy 74.4839 AUC 0.7888\n",
            "Epoch 144 TRAIN Batch 500 Loss 0.5094 Accuracy 74.4822 AUC 0.7889\n",
            "Epoch 144 TRAIN Batch 550 Loss 0.5094 Accuracy 74.4762 AUC 0.7889\n",
            "Epoch 144 TRAIN Batch 600 Loss 0.5095 Accuracy 74.4753 AUC 0.7889\n",
            "Epoch 144 TRAIN Batch 650 Loss 0.5096 Accuracy 74.4626 AUC 0.7888\n",
            "Epoch 144 TRAIN Batch 700 Loss 0.5096 Accuracy 74.4640 AUC 0.7889\n",
            "Epoch 144 TRAIN Batch 750 Loss 0.5096 Accuracy 74.4592 AUC 0.7889\n"
          ],
          "name": "stdout"
        },
        {
          "output_type": "stream",
          "text": [
            "19-12 21:34 root         INFO     Epoch TRAIN 144 Loss 0.5097 Accuracy 74.4557 AUC 0.7889\n"
          ],
          "name": "stderr"
        },
        {
          "output_type": "stream",
          "text": [
            "Time taken for 1 epoch: 84.74918937683105 secs\n",
            "\n",
            "Epoch 145 TRAIN Batch 0 Loss 0.5185 Accuracy 74.1411 AUC 0.7835\n",
            "Epoch 145 TRAIN Batch 50 Loss 0.5093 Accuracy 74.4593 AUC 0.7894\n",
            "Epoch 145 TRAIN Batch 100 Loss 0.5088 Accuracy 74.4942 AUC 0.7888\n",
            "Epoch 145 TRAIN Batch 150 Loss 0.5086 Accuracy 74.5140 AUC 0.7888\n",
            "Epoch 145 TRAIN Batch 200 Loss 0.5094 Accuracy 74.4407 AUC 0.7885\n",
            "Epoch 145 TRAIN Batch 250 Loss 0.5096 Accuracy 74.4349 AUC 0.7885\n",
            "Epoch 145 TRAIN Batch 300 Loss 0.5094 Accuracy 74.4488 AUC 0.7887\n",
            "Epoch 145 TRAIN Batch 350 Loss 0.5093 Accuracy 74.4603 AUC 0.7887\n",
            "Epoch 145 TRAIN Batch 400 Loss 0.5093 Accuracy 74.4626 AUC 0.7887\n",
            "Epoch 145 TRAIN Batch 450 Loss 0.5095 Accuracy 74.4508 AUC 0.7886\n",
            "Epoch 145 TRAIN Batch 500 Loss 0.5095 Accuracy 74.4496 AUC 0.7886\n",
            "Epoch 145 TRAIN Batch 550 Loss 0.5097 Accuracy 74.4322 AUC 0.7886\n",
            "Epoch 145 TRAIN Batch 600 Loss 0.5098 Accuracy 74.4266 AUC 0.7886\n",
            "Epoch 145 TRAIN Batch 650 Loss 0.5097 Accuracy 74.4313 AUC 0.7886\n",
            "Epoch 145 TRAIN Batch 700 Loss 0.5098 Accuracy 74.4280 AUC 0.7886\n",
            "Epoch 145 TRAIN Batch 750 Loss 0.5098 Accuracy 74.4246 AUC 0.7887\n"
          ],
          "name": "stdout"
        },
        {
          "output_type": "stream",
          "text": [
            "19-12 21:35 root         INFO     Epoch TRAIN 145 Loss 0.5096 Accuracy 74.4361 AUC 0.7887\n"
          ],
          "name": "stderr"
        },
        {
          "output_type": "stream",
          "text": [
            "Epoch 145 VAL Batch 0 Loss 0.5138 Accuracy 74.2179 AUC 0.7843\n",
            "Epoch 145 VAL Batch 50 Loss 0.5149 Accuracy 74.1192 AUC 0.7855\n",
            "Epoch 145 VAL Batch 100 Loss 0.5139 Accuracy 74.2203 AUC 0.7864\n",
            "Epoch 145 VAL Batch 150 Loss 0.5139 Accuracy 74.2433 AUC 0.7862\n",
            "Epoch 145 VAL Batch 200 Loss 0.5140 Accuracy 74.2149 AUC 0.7863\n",
            "Epoch 145 VAL Batch 250 Loss 0.5137 Accuracy 74.2385 AUC 0.7866\n",
            "Epoch 145 VAL Batch 300 Loss 0.5134 Accuracy 74.2653 AUC 0.7867\n",
            "Epoch 145 VAL Batch 350 Loss 0.5135 Accuracy 74.2629 AUC 0.7868\n",
            "Epoch 145 VAL Batch 400 Loss 0.5133 Accuracy 74.2806 AUC 0.7870\n",
            "Epoch 145 VAL Batch 450 Loss 0.5129 Accuracy 74.3075 AUC 0.7871\n",
            "Epoch 145 VAL Batch 500 Loss 0.5130 Accuracy 74.2992 AUC 0.7870\n",
            "Epoch 145 VAL Batch 550 Loss 0.5130 Accuracy 74.3010 AUC 0.7869\n",
            "Epoch 145 VAL Batch 600 Loss 0.5128 Accuracy 74.3167 AUC 0.7871\n",
            "Epoch 145 VAL Batch 650 Loss 0.5128 Accuracy 74.3135 AUC 0.7871\n",
            "Epoch 145 VAL Batch 700 Loss 0.5128 Accuracy 74.3148 AUC 0.7871\n",
            "Epoch 145 VAL Batch 750 Loss 0.5127 Accuracy 74.3201 AUC 0.7871\n"
          ],
          "name": "stdout"
        },
        {
          "output_type": "stream",
          "text": [
            "19-12 21:36 root         INFO     Epoch VAL 145 Loss 0.5127 Accuracy 74.3192 AUC 0.7872\n",
            "19-12 21:36 root         INFO     Saving checkpoint for epoch 145 at 19-Dec-riiid-2/checkpoints/ckpt-28\n"
          ],
          "name": "stderr"
        },
        {
          "output_type": "stream",
          "text": [
            "Time taken for 1 epoch: 102.72383332252502 secs\n",
            "\n",
            "Epoch 146 TRAIN Batch 0 Loss 0.5165 Accuracy 74.3926 AUC 0.7893\n",
            "Epoch 146 TRAIN Batch 50 Loss 0.5088 Accuracy 74.5244 AUC 0.7893\n",
            "Epoch 146 TRAIN Batch 100 Loss 0.5110 Accuracy 74.3597 AUC 0.7881\n",
            "Epoch 146 TRAIN Batch 150 Loss 0.5107 Accuracy 74.3531 AUC 0.7882\n",
            "Epoch 146 TRAIN Batch 200 Loss 0.5100 Accuracy 74.3953 AUC 0.7887\n",
            "Epoch 146 TRAIN Batch 250 Loss 0.5099 Accuracy 74.4023 AUC 0.7886\n",
            "Epoch 146 TRAIN Batch 300 Loss 0.5101 Accuracy 74.3864 AUC 0.7884\n",
            "Epoch 146 TRAIN Batch 350 Loss 0.5101 Accuracy 74.3941 AUC 0.7884\n",
            "Epoch 146 TRAIN Batch 400 Loss 0.5097 Accuracy 74.4217 AUC 0.7887\n",
            "Epoch 146 TRAIN Batch 450 Loss 0.5097 Accuracy 74.4266 AUC 0.7887\n",
            "Epoch 146 TRAIN Batch 500 Loss 0.5098 Accuracy 74.4207 AUC 0.7886\n",
            "Epoch 146 TRAIN Batch 550 Loss 0.5099 Accuracy 74.4176 AUC 0.7887\n",
            "Epoch 146 TRAIN Batch 600 Loss 0.5099 Accuracy 74.4181 AUC 0.7887\n",
            "Epoch 146 TRAIN Batch 650 Loss 0.5100 Accuracy 74.4145 AUC 0.7885\n",
            "Epoch 146 TRAIN Batch 700 Loss 0.5099 Accuracy 74.4184 AUC 0.7886\n",
            "Epoch 146 TRAIN Batch 750 Loss 0.5099 Accuracy 74.4161 AUC 0.7885\n"
          ],
          "name": "stdout"
        },
        {
          "output_type": "stream",
          "text": [
            "19-12 21:37 root         INFO     Epoch TRAIN 146 Loss 0.5098 Accuracy 74.4249 AUC 0.7886\n"
          ],
          "name": "stderr"
        },
        {
          "output_type": "stream",
          "text": [
            "Time taken for 1 epoch: 86.03420233726501 secs\n",
            "\n",
            "Epoch 147 TRAIN Batch 0 Loss 0.5103 Accuracy 74.7211 AUC 0.7908\n",
            "Epoch 147 TRAIN Batch 50 Loss 0.5077 Accuracy 74.5496 AUC 0.7902\n",
            "Epoch 147 TRAIN Batch 100 Loss 0.5090 Accuracy 74.4547 AUC 0.7893\n",
            "Epoch 147 TRAIN Batch 150 Loss 0.5090 Accuracy 74.4817 AUC 0.7892\n",
            "Epoch 147 TRAIN Batch 200 Loss 0.5090 Accuracy 74.4784 AUC 0.7893\n",
            "Epoch 147 TRAIN Batch 250 Loss 0.5091 Accuracy 74.4668 AUC 0.7892\n",
            "Epoch 147 TRAIN Batch 300 Loss 0.5092 Accuracy 74.4601 AUC 0.7893\n",
            "Epoch 147 TRAIN Batch 350 Loss 0.5095 Accuracy 74.4434 AUC 0.7891\n",
            "Epoch 147 TRAIN Batch 400 Loss 0.5094 Accuracy 74.4493 AUC 0.7893\n",
            "Epoch 147 TRAIN Batch 450 Loss 0.5095 Accuracy 74.4488 AUC 0.7891\n",
            "Epoch 147 TRAIN Batch 500 Loss 0.5096 Accuracy 74.4459 AUC 0.7891\n",
            "Epoch 147 TRAIN Batch 550 Loss 0.5095 Accuracy 74.4469 AUC 0.7891\n",
            "Epoch 147 TRAIN Batch 600 Loss 0.5096 Accuracy 74.4397 AUC 0.7891\n",
            "Epoch 147 TRAIN Batch 650 Loss 0.5095 Accuracy 74.4425 AUC 0.7892\n",
            "Epoch 147 TRAIN Batch 700 Loss 0.5095 Accuracy 74.4432 AUC 0.7892\n",
            "Epoch 147 TRAIN Batch 750 Loss 0.5094 Accuracy 74.4475 AUC 0.7892\n"
          ],
          "name": "stdout"
        },
        {
          "output_type": "stream",
          "text": [
            "19-12 21:39 root         INFO     Epoch TRAIN 147 Loss 0.5095 Accuracy 74.4433 AUC 0.7892\n"
          ],
          "name": "stderr"
        },
        {
          "output_type": "stream",
          "text": [
            "Time taken for 1 epoch: 84.72173261642456 secs\n",
            "\n",
            "Epoch 148 TRAIN Batch 0 Loss 0.4948 Accuracy 75.8074 AUC 0.7953\n",
            "Epoch 148 TRAIN Batch 50 Loss 0.5091 Accuracy 74.5334 AUC 0.7894\n",
            "Epoch 148 TRAIN Batch 100 Loss 0.5092 Accuracy 74.5135 AUC 0.7893\n",
            "Epoch 148 TRAIN Batch 150 Loss 0.5095 Accuracy 74.4554 AUC 0.7888\n",
            "Epoch 148 TRAIN Batch 200 Loss 0.5096 Accuracy 74.4350 AUC 0.7889\n",
            "Epoch 148 TRAIN Batch 250 Loss 0.5098 Accuracy 74.4216 AUC 0.7888\n",
            "Epoch 148 TRAIN Batch 300 Loss 0.5093 Accuracy 74.4514 AUC 0.7892\n",
            "Epoch 148 TRAIN Batch 350 Loss 0.5091 Accuracy 74.4765 AUC 0.7894\n",
            "Epoch 148 TRAIN Batch 400 Loss 0.5089 Accuracy 74.4804 AUC 0.7895\n",
            "Epoch 148 TRAIN Batch 450 Loss 0.5090 Accuracy 74.4716 AUC 0.7895\n",
            "Epoch 148 TRAIN Batch 500 Loss 0.5090 Accuracy 74.4701 AUC 0.7895\n",
            "Epoch 148 TRAIN Batch 550 Loss 0.5090 Accuracy 74.4737 AUC 0.7896\n",
            "Epoch 148 TRAIN Batch 600 Loss 0.5090 Accuracy 74.4729 AUC 0.7895\n",
            "Epoch 148 TRAIN Batch 650 Loss 0.5090 Accuracy 74.4768 AUC 0.7894\n",
            "Epoch 148 TRAIN Batch 700 Loss 0.5090 Accuracy 74.4822 AUC 0.7895\n",
            "Epoch 148 TRAIN Batch 750 Loss 0.5089 Accuracy 74.4825 AUC 0.7894\n"
          ],
          "name": "stdout"
        },
        {
          "output_type": "stream",
          "text": [
            "19-12 21:40 root         INFO     Epoch TRAIN 148 Loss 0.5090 Accuracy 74.4773 AUC 0.7894\n"
          ],
          "name": "stderr"
        },
        {
          "output_type": "stream",
          "text": [
            "Time taken for 1 epoch: 84.83566188812256 secs\n",
            "\n",
            "Epoch 149 TRAIN Batch 0 Loss 0.5231 Accuracy 73.7150 AUC 0.7827\n",
            "Epoch 149 TRAIN Batch 50 Loss 0.5112 Accuracy 74.3254 AUC 0.7884\n",
            "Epoch 149 TRAIN Batch 100 Loss 0.5111 Accuracy 74.3303 AUC 0.7882\n",
            "Epoch 149 TRAIN Batch 150 Loss 0.5107 Accuracy 74.3531 AUC 0.7883\n",
            "Epoch 149 TRAIN Batch 200 Loss 0.5106 Accuracy 74.3670 AUC 0.7884\n",
            "Epoch 149 TRAIN Batch 250 Loss 0.5101 Accuracy 74.4025 AUC 0.7887\n",
            "Epoch 149 TRAIN Batch 300 Loss 0.5098 Accuracy 74.4258 AUC 0.7890\n",
            "Epoch 149 TRAIN Batch 350 Loss 0.5098 Accuracy 74.4277 AUC 0.7891\n",
            "Epoch 149 TRAIN Batch 400 Loss 0.5096 Accuracy 74.4309 AUC 0.7891\n",
            "Epoch 149 TRAIN Batch 450 Loss 0.5096 Accuracy 74.4349 AUC 0.7891\n",
            "Epoch 149 TRAIN Batch 500 Loss 0.5098 Accuracy 74.4224 AUC 0.7889\n",
            "Epoch 149 TRAIN Batch 550 Loss 0.5098 Accuracy 74.4258 AUC 0.7890\n",
            "Epoch 149 TRAIN Batch 600 Loss 0.5097 Accuracy 74.4351 AUC 0.7890\n",
            "Epoch 149 TRAIN Batch 650 Loss 0.5096 Accuracy 74.4443 AUC 0.7892\n",
            "Epoch 149 TRAIN Batch 700 Loss 0.5096 Accuracy 74.4353 AUC 0.7891\n",
            "Epoch 149 TRAIN Batch 750 Loss 0.5097 Accuracy 74.4296 AUC 0.7890\n"
          ],
          "name": "stdout"
        },
        {
          "output_type": "stream",
          "text": [
            "19-12 21:41 root         INFO     Epoch TRAIN 149 Loss 0.5096 Accuracy 74.4373 AUC 0.7891\n"
          ],
          "name": "stderr"
        },
        {
          "output_type": "stream",
          "text": [
            "Time taken for 1 epoch: 85.67184829711914 secs\n",
            "\n",
            "Epoch 150 TRAIN Batch 0 Loss 0.5027 Accuracy 74.9856 AUC 0.7913\n",
            "Epoch 150 TRAIN Batch 50 Loss 0.5074 Accuracy 74.5848 AUC 0.7895\n",
            "Epoch 150 TRAIN Batch 100 Loss 0.5087 Accuracy 74.5198 AUC 0.7890\n",
            "Epoch 150 TRAIN Batch 150 Loss 0.5084 Accuracy 74.5397 AUC 0.7893\n",
            "Epoch 150 TRAIN Batch 200 Loss 0.5087 Accuracy 74.4991 AUC 0.7892\n",
            "Epoch 150 TRAIN Batch 250 Loss 0.5090 Accuracy 74.4655 AUC 0.7890\n",
            "Epoch 150 TRAIN Batch 300 Loss 0.5094 Accuracy 74.4405 AUC 0.7888\n",
            "Epoch 150 TRAIN Batch 350 Loss 0.5092 Accuracy 74.4648 AUC 0.7890\n",
            "Epoch 150 TRAIN Batch 400 Loss 0.5091 Accuracy 74.4712 AUC 0.7890\n",
            "Epoch 150 TRAIN Batch 450 Loss 0.5092 Accuracy 74.4583 AUC 0.7889\n",
            "Epoch 150 TRAIN Batch 500 Loss 0.5094 Accuracy 74.4534 AUC 0.7889\n",
            "Epoch 150 TRAIN Batch 550 Loss 0.5093 Accuracy 74.4491 AUC 0.7890\n",
            "Epoch 150 TRAIN Batch 600 Loss 0.5093 Accuracy 74.4563 AUC 0.7890\n",
            "Epoch 150 TRAIN Batch 650 Loss 0.5094 Accuracy 74.4494 AUC 0.7890\n",
            "Epoch 150 TRAIN Batch 700 Loss 0.5095 Accuracy 74.4376 AUC 0.7890\n",
            "Epoch 150 TRAIN Batch 750 Loss 0.5095 Accuracy 74.4378 AUC 0.7890\n"
          ],
          "name": "stdout"
        },
        {
          "output_type": "stream",
          "text": [
            "19-12 21:43 root         INFO     Epoch TRAIN 150 Loss 0.5095 Accuracy 74.4438 AUC 0.7891\n"
          ],
          "name": "stderr"
        },
        {
          "output_type": "stream",
          "text": [
            "Epoch 150 VAL Batch 0 Loss 0.5145 Accuracy 74.1173 AUC 0.7833\n",
            "Epoch 150 VAL Batch 50 Loss 0.5143 Accuracy 74.1632 AUC 0.7860\n",
            "Epoch 150 VAL Batch 100 Loss 0.5133 Accuracy 74.2471 AUC 0.7869\n",
            "Epoch 150 VAL Batch 150 Loss 0.5132 Accuracy 74.2696 AUC 0.7867\n",
            "Epoch 150 VAL Batch 200 Loss 0.5134 Accuracy 74.2400 AUC 0.7868\n",
            "Epoch 150 VAL Batch 250 Loss 0.5131 Accuracy 74.2649 AUC 0.7870\n",
            "Epoch 150 VAL Batch 300 Loss 0.5129 Accuracy 74.2895 AUC 0.7871\n",
            "Epoch 150 VAL Batch 350 Loss 0.5130 Accuracy 74.2909 AUC 0.7872\n",
            "Epoch 150 VAL Batch 400 Loss 0.5127 Accuracy 74.3071 AUC 0.7874\n",
            "Epoch 150 VAL Batch 450 Loss 0.5124 Accuracy 74.3306 AUC 0.7875\n",
            "Epoch 150 VAL Batch 500 Loss 0.5125 Accuracy 74.3249 AUC 0.7874\n",
            "Epoch 150 VAL Batch 550 Loss 0.5125 Accuracy 74.3274 AUC 0.7873\n",
            "Epoch 150 VAL Batch 600 Loss 0.5122 Accuracy 74.3431 AUC 0.7875\n",
            "Epoch 150 VAL Batch 650 Loss 0.5123 Accuracy 74.3394 AUC 0.7875\n",
            "Epoch 150 VAL Batch 700 Loss 0.5123 Accuracy 74.3418 AUC 0.7875\n",
            "Epoch 150 VAL Batch 750 Loss 0.5122 Accuracy 74.3482 AUC 0.7875\n"
          ],
          "name": "stdout"
        },
        {
          "output_type": "stream",
          "text": [
            "19-12 21:43 root         INFO     Epoch VAL 150 Loss 0.5122 Accuracy 74.3487 AUC 0.7876\n",
            "19-12 21:43 root         INFO     Saving checkpoint for epoch 150 at 19-Dec-riiid-2/checkpoints/ckpt-29\n"
          ],
          "name": "stderr"
        },
        {
          "output_type": "stream",
          "text": [
            "Time taken for 1 epoch: 103.03071236610413 secs\n",
            "\n",
            "Epoch 151 TRAIN Batch 0 Loss 0.5052 Accuracy 74.3098 AUC 0.7860\n",
            "Epoch 151 TRAIN Batch 50 Loss 0.5092 Accuracy 74.5204 AUC 0.7886\n",
            "Epoch 151 TRAIN Batch 100 Loss 0.5094 Accuracy 74.4907 AUC 0.7883\n",
            "Epoch 151 TRAIN Batch 150 Loss 0.5090 Accuracy 74.5003 AUC 0.7887\n",
            "Epoch 151 TRAIN Batch 200 Loss 0.5088 Accuracy 74.5145 AUC 0.7890\n",
            "Epoch 151 TRAIN Batch 250 Loss 0.5087 Accuracy 74.5172 AUC 0.7892\n",
            "Epoch 151 TRAIN Batch 300 Loss 0.5087 Accuracy 74.5218 AUC 0.7893\n",
            "Epoch 151 TRAIN Batch 350 Loss 0.5087 Accuracy 74.5174 AUC 0.7893\n",
            "Epoch 151 TRAIN Batch 400 Loss 0.5086 Accuracy 74.5221 AUC 0.7893\n",
            "Epoch 151 TRAIN Batch 450 Loss 0.5085 Accuracy 74.5199 AUC 0.7893\n",
            "Epoch 151 TRAIN Batch 500 Loss 0.5087 Accuracy 74.5067 AUC 0.7892\n",
            "Epoch 151 TRAIN Batch 550 Loss 0.5088 Accuracy 74.5000 AUC 0.7891\n",
            "Epoch 151 TRAIN Batch 600 Loss 0.5087 Accuracy 74.5063 AUC 0.7893\n",
            "Epoch 151 TRAIN Batch 650 Loss 0.5087 Accuracy 74.5008 AUC 0.7892\n",
            "Epoch 151 TRAIN Batch 700 Loss 0.5088 Accuracy 74.4969 AUC 0.7893\n",
            "Epoch 151 TRAIN Batch 750 Loss 0.5087 Accuracy 74.5078 AUC 0.7893\n"
          ],
          "name": "stdout"
        },
        {
          "output_type": "stream",
          "text": [
            "19-12 21:45 root         INFO     Epoch TRAIN 151 Loss 0.5087 Accuracy 74.5030 AUC 0.7893\n"
          ],
          "name": "stderr"
        },
        {
          "output_type": "stream",
          "text": [
            "Time taken for 1 epoch: 87.0503306388855 secs\n",
            "\n",
            "Epoch 152 TRAIN Batch 0 Loss 0.5120 Accuracy 74.0271 AUC 0.7810\n",
            "Epoch 152 TRAIN Batch 50 Loss 0.5105 Accuracy 74.3662 AUC 0.7894\n",
            "Epoch 152 TRAIN Batch 100 Loss 0.5108 Accuracy 74.3407 AUC 0.7889\n",
            "Epoch 152 TRAIN Batch 150 Loss 0.5105 Accuracy 74.3734 AUC 0.7893\n",
            "Epoch 152 TRAIN Batch 200 Loss 0.5105 Accuracy 74.3807 AUC 0.7893\n",
            "Epoch 152 TRAIN Batch 250 Loss 0.5101 Accuracy 74.4048 AUC 0.7894\n",
            "Epoch 152 TRAIN Batch 300 Loss 0.5100 Accuracy 74.4057 AUC 0.7893\n",
            "Epoch 152 TRAIN Batch 350 Loss 0.5102 Accuracy 74.3901 AUC 0.7893\n",
            "Epoch 152 TRAIN Batch 400 Loss 0.5101 Accuracy 74.3925 AUC 0.7892\n",
            "Epoch 152 TRAIN Batch 450 Loss 0.5100 Accuracy 74.4027 AUC 0.7894\n",
            "Epoch 152 TRAIN Batch 500 Loss 0.5100 Accuracy 74.3979 AUC 0.7894\n",
            "Epoch 152 TRAIN Batch 550 Loss 0.5099 Accuracy 74.4053 AUC 0.7894\n",
            "Epoch 152 TRAIN Batch 600 Loss 0.5099 Accuracy 74.4046 AUC 0.7893\n",
            "Epoch 152 TRAIN Batch 650 Loss 0.5101 Accuracy 74.3955 AUC 0.7893\n",
            "Epoch 152 TRAIN Batch 700 Loss 0.5100 Accuracy 74.4029 AUC 0.7893\n",
            "Epoch 152 TRAIN Batch 750 Loss 0.5099 Accuracy 74.4096 AUC 0.7893\n"
          ],
          "name": "stdout"
        },
        {
          "output_type": "stream",
          "text": [
            "19-12 21:46 root         INFO     Epoch TRAIN 152 Loss 0.5099 Accuracy 74.4087 AUC 0.7893\n"
          ],
          "name": "stderr"
        },
        {
          "output_type": "stream",
          "text": [
            "Time taken for 1 epoch: 87.28841400146484 secs\n",
            "\n",
            "Epoch 153 TRAIN Batch 0 Loss 0.5151 Accuracy 73.8885 AUC 0.7852\n",
            "Epoch 153 TRAIN Batch 50 Loss 0.5086 Accuracy 74.5104 AUC 0.7893\n",
            "Epoch 153 TRAIN Batch 100 Loss 0.5083 Accuracy 74.5371 AUC 0.7901\n",
            "Epoch 153 TRAIN Batch 150 Loss 0.5088 Accuracy 74.4815 AUC 0.7896\n",
            "Epoch 153 TRAIN Batch 200 Loss 0.5086 Accuracy 74.4948 AUC 0.7897\n",
            "Epoch 153 TRAIN Batch 250 Loss 0.5087 Accuracy 74.4896 AUC 0.7898\n",
            "Epoch 153 TRAIN Batch 300 Loss 0.5087 Accuracy 74.4868 AUC 0.7895\n",
            "Epoch 153 TRAIN Batch 350 Loss 0.5088 Accuracy 74.4749 AUC 0.7897\n",
            "Epoch 153 TRAIN Batch 400 Loss 0.5087 Accuracy 74.4814 AUC 0.7899\n",
            "Epoch 153 TRAIN Batch 450 Loss 0.5087 Accuracy 74.4852 AUC 0.7898\n",
            "Epoch 153 TRAIN Batch 500 Loss 0.5088 Accuracy 74.4757 AUC 0.7898\n",
            "Epoch 153 TRAIN Batch 550 Loss 0.5089 Accuracy 74.4696 AUC 0.7897\n",
            "Epoch 153 TRAIN Batch 600 Loss 0.5091 Accuracy 74.4560 AUC 0.7896\n",
            "Epoch 153 TRAIN Batch 650 Loss 0.5091 Accuracy 74.4593 AUC 0.7896\n",
            "Epoch 153 TRAIN Batch 700 Loss 0.5090 Accuracy 74.4645 AUC 0.7895\n",
            "Epoch 153 TRAIN Batch 750 Loss 0.5090 Accuracy 74.4670 AUC 0.7895\n"
          ],
          "name": "stdout"
        },
        {
          "output_type": "stream",
          "text": [
            "19-12 21:48 root         INFO     Epoch TRAIN 153 Loss 0.5092 Accuracy 74.4575 AUC 0.7894\n"
          ],
          "name": "stderr"
        },
        {
          "output_type": "stream",
          "text": [
            "Time taken for 1 epoch: 86.99373412132263 secs\n",
            "\n",
            "Epoch 154 TRAIN Batch 0 Loss 0.4850 Accuracy 76.3752 AUC 0.7982\n",
            "Epoch 154 TRAIN Batch 50 Loss 0.5090 Accuracy 74.4412 AUC 0.7896\n",
            "Epoch 154 TRAIN Batch 100 Loss 0.5090 Accuracy 74.4450 AUC 0.7895\n",
            "Epoch 154 TRAIN Batch 150 Loss 0.5089 Accuracy 74.5009 AUC 0.7898\n",
            "Epoch 154 TRAIN Batch 200 Loss 0.5089 Accuracy 74.4909 AUC 0.7897\n",
            "Epoch 154 TRAIN Batch 250 Loss 0.5084 Accuracy 74.5153 AUC 0.7900\n",
            "Epoch 154 TRAIN Batch 300 Loss 0.5083 Accuracy 74.5187 AUC 0.7901\n",
            "Epoch 154 TRAIN Batch 350 Loss 0.5084 Accuracy 74.5139 AUC 0.7900\n",
            "Epoch 154 TRAIN Batch 400 Loss 0.5087 Accuracy 74.4891 AUC 0.7898\n",
            "Epoch 154 TRAIN Batch 450 Loss 0.5087 Accuracy 74.4847 AUC 0.7898\n",
            "Epoch 154 TRAIN Batch 500 Loss 0.5089 Accuracy 74.4762 AUC 0.7896\n",
            "Epoch 154 TRAIN Batch 550 Loss 0.5090 Accuracy 74.4687 AUC 0.7896\n",
            "Epoch 154 TRAIN Batch 600 Loss 0.5090 Accuracy 74.4719 AUC 0.7896\n",
            "Epoch 154 TRAIN Batch 650 Loss 0.5089 Accuracy 74.4776 AUC 0.7896\n",
            "Epoch 154 TRAIN Batch 700 Loss 0.5091 Accuracy 74.4673 AUC 0.7896\n",
            "Epoch 154 TRAIN Batch 750 Loss 0.5091 Accuracy 74.4617 AUC 0.7896\n"
          ],
          "name": "stdout"
        },
        {
          "output_type": "stream",
          "text": [
            "19-12 21:49 root         INFO     Epoch TRAIN 154 Loss 0.5091 Accuracy 74.4589 AUC 0.7895\n"
          ],
          "name": "stderr"
        },
        {
          "output_type": "stream",
          "text": [
            "Time taken for 1 epoch: 86.3967399597168 secs\n",
            "\n",
            "Epoch 155 TRAIN Batch 0 Loss 0.5154 Accuracy 74.5073 AUC 0.7825\n",
            "Epoch 155 TRAIN Batch 50 Loss 0.5085 Accuracy 74.4929 AUC 0.7903\n",
            "Epoch 155 TRAIN Batch 100 Loss 0.5088 Accuracy 74.5001 AUC 0.7896\n",
            "Epoch 155 TRAIN Batch 150 Loss 0.5092 Accuracy 74.4671 AUC 0.7892\n",
            "Epoch 155 TRAIN Batch 200 Loss 0.5085 Accuracy 74.5189 AUC 0.7890\n",
            "Epoch 155 TRAIN Batch 250 Loss 0.5081 Accuracy 74.5374 AUC 0.7893\n",
            "Epoch 155 TRAIN Batch 300 Loss 0.5081 Accuracy 74.5286 AUC 0.7896\n",
            "Epoch 155 TRAIN Batch 350 Loss 0.5082 Accuracy 74.5294 AUC 0.7896\n",
            "Epoch 155 TRAIN Batch 400 Loss 0.5081 Accuracy 74.5364 AUC 0.7898\n",
            "Epoch 155 TRAIN Batch 450 Loss 0.5081 Accuracy 74.5365 AUC 0.7898\n",
            "Epoch 155 TRAIN Batch 500 Loss 0.5079 Accuracy 74.5420 AUC 0.7899\n",
            "Epoch 155 TRAIN Batch 550 Loss 0.5079 Accuracy 74.5484 AUC 0.7900\n",
            "Epoch 155 TRAIN Batch 600 Loss 0.5079 Accuracy 74.5448 AUC 0.7900\n",
            "Epoch 155 TRAIN Batch 650 Loss 0.5081 Accuracy 74.5378 AUC 0.7899\n",
            "Epoch 155 TRAIN Batch 700 Loss 0.5083 Accuracy 74.5204 AUC 0.7898\n",
            "Epoch 155 TRAIN Batch 750 Loss 0.5082 Accuracy 74.5234 AUC 0.7899\n"
          ],
          "name": "stdout"
        },
        {
          "output_type": "stream",
          "text": [
            "19-12 21:50 root         INFO     Epoch TRAIN 155 Loss 0.5083 Accuracy 74.5220 AUC 0.7898\n"
          ],
          "name": "stderr"
        },
        {
          "output_type": "stream",
          "text": [
            "Epoch 155 VAL Batch 0 Loss 0.5147 Accuracy 74.0502 AUC 0.7822\n",
            "Epoch 155 VAL Batch 50 Loss 0.5139 Accuracy 74.1386 AUC 0.7860\n",
            "Epoch 155 VAL Batch 100 Loss 0.5129 Accuracy 74.2361 AUC 0.7869\n",
            "Epoch 155 VAL Batch 150 Loss 0.5128 Accuracy 74.2582 AUC 0.7867\n",
            "Epoch 155 VAL Batch 200 Loss 0.5130 Accuracy 74.2348 AUC 0.7868\n",
            "Epoch 155 VAL Batch 250 Loss 0.5127 Accuracy 74.2611 AUC 0.7870\n",
            "Epoch 155 VAL Batch 300 Loss 0.5124 Accuracy 74.2831 AUC 0.7871\n",
            "Epoch 155 VAL Batch 350 Loss 0.5126 Accuracy 74.2809 AUC 0.7872\n",
            "Epoch 155 VAL Batch 400 Loss 0.5123 Accuracy 74.3041 AUC 0.7874\n",
            "Epoch 155 VAL Batch 450 Loss 0.5120 Accuracy 74.3296 AUC 0.7875\n",
            "Epoch 155 VAL Batch 500 Loss 0.5121 Accuracy 74.3210 AUC 0.7874\n",
            "Epoch 155 VAL Batch 550 Loss 0.5121 Accuracy 74.3203 AUC 0.7873\n",
            "Epoch 155 VAL Batch 600 Loss 0.5118 Accuracy 74.3373 AUC 0.7875\n",
            "Epoch 155 VAL Batch 650 Loss 0.5119 Accuracy 74.3355 AUC 0.7875\n",
            "Epoch 155 VAL Batch 700 Loss 0.5119 Accuracy 74.3383 AUC 0.7875\n",
            "Epoch 155 VAL Batch 750 Loss 0.5118 Accuracy 74.3450 AUC 0.7875\n"
          ],
          "name": "stdout"
        },
        {
          "output_type": "stream",
          "text": [
            "19-12 21:51 root         INFO     Epoch VAL 155 Loss 0.5118 Accuracy 74.3430 AUC 0.7876\n",
            "19-12 21:51 root         INFO     Saving checkpoint for epoch 155 at 19-Dec-riiid-2/checkpoints/ckpt-30\n"
          ],
          "name": "stderr"
        },
        {
          "output_type": "stream",
          "text": [
            "Time taken for 1 epoch: 105.57957196235657 secs\n",
            "\n",
            "Epoch 156 TRAIN Batch 0 Loss 0.5105 Accuracy 74.0275 AUC 0.7925\n",
            "Epoch 156 TRAIN Batch 50 Loss 0.5067 Accuracy 74.5638 AUC 0.7911\n",
            "Epoch 156 TRAIN Batch 100 Loss 0.5081 Accuracy 74.4938 AUC 0.7902\n",
            "Epoch 156 TRAIN Batch 150 Loss 0.5086 Accuracy 74.4708 AUC 0.7902\n",
            "Epoch 156 TRAIN Batch 200 Loss 0.5087 Accuracy 74.4721 AUC 0.7901\n",
            "Epoch 156 TRAIN Batch 250 Loss 0.5086 Accuracy 74.5010 AUC 0.7899\n",
            "Epoch 156 TRAIN Batch 300 Loss 0.5088 Accuracy 74.4852 AUC 0.7899\n",
            "Epoch 156 TRAIN Batch 350 Loss 0.5088 Accuracy 74.4876 AUC 0.7899\n",
            "Epoch 156 TRAIN Batch 400 Loss 0.5089 Accuracy 74.4817 AUC 0.7898\n",
            "Epoch 156 TRAIN Batch 450 Loss 0.5087 Accuracy 74.4841 AUC 0.7899\n",
            "Epoch 156 TRAIN Batch 500 Loss 0.5089 Accuracy 74.4770 AUC 0.7898\n",
            "Epoch 156 TRAIN Batch 550 Loss 0.5090 Accuracy 74.4772 AUC 0.7898\n",
            "Epoch 156 TRAIN Batch 600 Loss 0.5090 Accuracy 74.4677 AUC 0.7897\n",
            "Epoch 156 TRAIN Batch 650 Loss 0.5090 Accuracy 74.4639 AUC 0.7897\n",
            "Epoch 156 TRAIN Batch 700 Loss 0.5090 Accuracy 74.4662 AUC 0.7897\n",
            "Epoch 156 TRAIN Batch 750 Loss 0.5090 Accuracy 74.4628 AUC 0.7897\n"
          ],
          "name": "stdout"
        },
        {
          "output_type": "stream",
          "text": [
            "19-12 21:52 root         INFO     Epoch TRAIN 156 Loss 0.5089 Accuracy 74.4669 AUC 0.7898\n"
          ],
          "name": "stderr"
        },
        {
          "output_type": "stream",
          "text": [
            "Time taken for 1 epoch: 87.68887400627136 secs\n",
            "\n",
            "Epoch 157 TRAIN Batch 0 Loss 0.5139 Accuracy 74.6458 AUC 0.7787\n",
            "Epoch 157 TRAIN Batch 50 Loss 0.5090 Accuracy 74.4846 AUC 0.7897\n",
            "Epoch 157 TRAIN Batch 100 Loss 0.5081 Accuracy 74.5251 AUC 0.7897\n",
            "Epoch 157 TRAIN Batch 150 Loss 0.5091 Accuracy 74.4759 AUC 0.7893\n",
            "Epoch 157 TRAIN Batch 200 Loss 0.5095 Accuracy 74.4429 AUC 0.7893\n",
            "Epoch 157 TRAIN Batch 250 Loss 0.5094 Accuracy 74.4413 AUC 0.7894\n",
            "Epoch 157 TRAIN Batch 300 Loss 0.5092 Accuracy 74.4491 AUC 0.7894\n",
            "Epoch 157 TRAIN Batch 350 Loss 0.5093 Accuracy 74.4464 AUC 0.7894\n",
            "Epoch 157 TRAIN Batch 400 Loss 0.5093 Accuracy 74.4366 AUC 0.7894\n",
            "Epoch 157 TRAIN Batch 450 Loss 0.5093 Accuracy 74.4358 AUC 0.7894\n",
            "Epoch 157 TRAIN Batch 500 Loss 0.5093 Accuracy 74.4375 AUC 0.7893\n",
            "Epoch 157 TRAIN Batch 550 Loss 0.5094 Accuracy 74.4288 AUC 0.7893\n",
            "Epoch 157 TRAIN Batch 600 Loss 0.5094 Accuracy 74.4236 AUC 0.7893\n",
            "Epoch 157 TRAIN Batch 650 Loss 0.5093 Accuracy 74.4284 AUC 0.7893\n",
            "Epoch 157 TRAIN Batch 700 Loss 0.5092 Accuracy 74.4328 AUC 0.7894\n",
            "Epoch 157 TRAIN Batch 750 Loss 0.5092 Accuracy 74.4392 AUC 0.7894\n"
          ],
          "name": "stdout"
        },
        {
          "output_type": "stream",
          "text": [
            "19-12 21:54 root         INFO     Epoch TRAIN 157 Loss 0.5092 Accuracy 74.4432 AUC 0.7895\n"
          ],
          "name": "stderr"
        },
        {
          "output_type": "stream",
          "text": [
            "Time taken for 1 epoch: 87.02526879310608 secs\n",
            "\n",
            "Epoch 158 TRAIN Batch 0 Loss 0.5136 Accuracy 74.4201 AUC 0.7870\n",
            "Epoch 158 TRAIN Batch 50 Loss 0.5101 Accuracy 74.4245 AUC 0.7893\n",
            "Epoch 158 TRAIN Batch 100 Loss 0.5101 Accuracy 74.3693 AUC 0.7894\n",
            "Epoch 158 TRAIN Batch 150 Loss 0.5091 Accuracy 74.4603 AUC 0.7901\n",
            "Epoch 158 TRAIN Batch 200 Loss 0.5093 Accuracy 74.4457 AUC 0.7898\n",
            "Epoch 158 TRAIN Batch 250 Loss 0.5093 Accuracy 74.4524 AUC 0.7897\n",
            "Epoch 158 TRAIN Batch 300 Loss 0.5090 Accuracy 74.4732 AUC 0.7898\n",
            "Epoch 158 TRAIN Batch 350 Loss 0.5091 Accuracy 74.4614 AUC 0.7897\n",
            "Epoch 158 TRAIN Batch 400 Loss 0.5091 Accuracy 74.4538 AUC 0.7897\n",
            "Epoch 158 TRAIN Batch 450 Loss 0.5092 Accuracy 74.4468 AUC 0.7896\n",
            "Epoch 158 TRAIN Batch 500 Loss 0.5093 Accuracy 74.4408 AUC 0.7895\n",
            "Epoch 158 TRAIN Batch 550 Loss 0.5093 Accuracy 74.4386 AUC 0.7895\n",
            "Epoch 158 TRAIN Batch 600 Loss 0.5091 Accuracy 74.4516 AUC 0.7896\n",
            "Epoch 158 TRAIN Batch 650 Loss 0.5091 Accuracy 74.4514 AUC 0.7895\n",
            "Epoch 158 TRAIN Batch 700 Loss 0.5090 Accuracy 74.4567 AUC 0.7897\n",
            "Epoch 158 TRAIN Batch 750 Loss 0.5088 Accuracy 74.4656 AUC 0.7898\n"
          ],
          "name": "stdout"
        },
        {
          "output_type": "stream",
          "text": [
            "19-12 21:55 root         INFO     Epoch TRAIN 158 Loss 0.5088 Accuracy 74.4677 AUC 0.7898\n"
          ],
          "name": "stderr"
        },
        {
          "output_type": "stream",
          "text": [
            "Time taken for 1 epoch: 85.25405716896057 secs\n",
            "\n",
            "Epoch 159 TRAIN Batch 0 Loss 0.5016 Accuracy 74.8405 AUC 0.7926\n",
            "Epoch 159 TRAIN Batch 50 Loss 0.5093 Accuracy 74.4871 AUC 0.7891\n",
            "Epoch 159 TRAIN Batch 100 Loss 0.5097 Accuracy 74.4268 AUC 0.7895\n",
            "Epoch 159 TRAIN Batch 150 Loss 0.5090 Accuracy 74.4867 AUC 0.7899\n",
            "Epoch 159 TRAIN Batch 200 Loss 0.5085 Accuracy 74.5307 AUC 0.7901\n",
            "Epoch 159 TRAIN Batch 250 Loss 0.5086 Accuracy 74.5201 AUC 0.7903\n",
            "Epoch 159 TRAIN Batch 300 Loss 0.5088 Accuracy 74.4867 AUC 0.7903\n",
            "Epoch 159 TRAIN Batch 350 Loss 0.5087 Accuracy 74.4853 AUC 0.7903\n",
            "Epoch 159 TRAIN Batch 400 Loss 0.5085 Accuracy 74.5008 AUC 0.7905\n",
            "Epoch 159 TRAIN Batch 450 Loss 0.5085 Accuracy 74.4985 AUC 0.7904\n",
            "Epoch 159 TRAIN Batch 500 Loss 0.5083 Accuracy 74.5099 AUC 0.7905\n",
            "Epoch 159 TRAIN Batch 550 Loss 0.5082 Accuracy 74.5146 AUC 0.7905\n",
            "Epoch 159 TRAIN Batch 600 Loss 0.5081 Accuracy 74.5258 AUC 0.7906\n",
            "Epoch 159 TRAIN Batch 650 Loss 0.5080 Accuracy 74.5345 AUC 0.7906\n",
            "Epoch 159 TRAIN Batch 700 Loss 0.5079 Accuracy 74.5388 AUC 0.7906\n",
            "Epoch 159 TRAIN Batch 750 Loss 0.5080 Accuracy 74.5341 AUC 0.7906\n"
          ],
          "name": "stdout"
        },
        {
          "output_type": "stream",
          "text": [
            "19-12 21:56 root         INFO     Epoch TRAIN 159 Loss 0.5080 Accuracy 74.5358 AUC 0.7906\n"
          ],
          "name": "stderr"
        },
        {
          "output_type": "stream",
          "text": [
            "Time taken for 1 epoch: 85.85188269615173 secs\n",
            "\n",
            "Epoch 160 TRAIN Batch 0 Loss 0.5265 Accuracy 73.0895 AUC 0.7798\n",
            "Epoch 160 TRAIN Batch 50 Loss 0.5089 Accuracy 74.4778 AUC 0.7903\n",
            "Epoch 160 TRAIN Batch 100 Loss 0.5089 Accuracy 74.4669 AUC 0.7900\n",
            "Epoch 160 TRAIN Batch 150 Loss 0.5092 Accuracy 74.4367 AUC 0.7898\n",
            "Epoch 160 TRAIN Batch 200 Loss 0.5086 Accuracy 74.4714 AUC 0.7899\n",
            "Epoch 160 TRAIN Batch 250 Loss 0.5087 Accuracy 74.4590 AUC 0.7899\n",
            "Epoch 160 TRAIN Batch 300 Loss 0.5087 Accuracy 74.4663 AUC 0.7899\n",
            "Epoch 160 TRAIN Batch 350 Loss 0.5088 Accuracy 74.4559 AUC 0.7899\n",
            "Epoch 160 TRAIN Batch 400 Loss 0.5087 Accuracy 74.4655 AUC 0.7899\n",
            "Epoch 160 TRAIN Batch 450 Loss 0.5086 Accuracy 74.4703 AUC 0.7900\n",
            "Epoch 160 TRAIN Batch 500 Loss 0.5087 Accuracy 74.4644 AUC 0.7899\n",
            "Epoch 160 TRAIN Batch 550 Loss 0.5087 Accuracy 74.4656 AUC 0.7900\n",
            "Epoch 160 TRAIN Batch 600 Loss 0.5087 Accuracy 74.4629 AUC 0.7900\n",
            "Epoch 160 TRAIN Batch 650 Loss 0.5085 Accuracy 74.4831 AUC 0.7902\n",
            "Epoch 160 TRAIN Batch 700 Loss 0.5085 Accuracy 74.4845 AUC 0.7902\n",
            "Epoch 160 TRAIN Batch 750 Loss 0.5084 Accuracy 74.4858 AUC 0.7902\n"
          ],
          "name": "stdout"
        },
        {
          "output_type": "stream",
          "text": [
            "19-12 21:58 root         INFO     Epoch TRAIN 160 Loss 0.5086 Accuracy 74.4700 AUC 0.7901\n"
          ],
          "name": "stderr"
        },
        {
          "output_type": "stream",
          "text": [
            "Epoch 160 VAL Batch 0 Loss 0.5136 Accuracy 74.1173 AUC 0.7835\n",
            "Epoch 160 VAL Batch 50 Loss 0.5132 Accuracy 74.1827 AUC 0.7864\n",
            "Epoch 160 VAL Batch 100 Loss 0.5124 Accuracy 74.2674 AUC 0.7873\n",
            "Epoch 160 VAL Batch 150 Loss 0.5123 Accuracy 74.2630 AUC 0.7871\n",
            "Epoch 160 VAL Batch 200 Loss 0.5125 Accuracy 74.2218 AUC 0.7872\n",
            "Epoch 160 VAL Batch 250 Loss 0.5122 Accuracy 74.2484 AUC 0.7874\n",
            "Epoch 160 VAL Batch 300 Loss 0.5119 Accuracy 74.2784 AUC 0.7875\n",
            "Epoch 160 VAL Batch 350 Loss 0.5120 Accuracy 74.2775 AUC 0.7876\n",
            "Epoch 160 VAL Batch 400 Loss 0.5118 Accuracy 74.2981 AUC 0.7878\n",
            "Epoch 160 VAL Batch 450 Loss 0.5115 Accuracy 74.3237 AUC 0.7879\n",
            "Epoch 160 VAL Batch 500 Loss 0.5115 Accuracy 74.3215 AUC 0.7878\n",
            "Epoch 160 VAL Batch 550 Loss 0.5115 Accuracy 74.3175 AUC 0.7877\n",
            "Epoch 160 VAL Batch 600 Loss 0.5113 Accuracy 74.3334 AUC 0.7879\n",
            "Epoch 160 VAL Batch 650 Loss 0.5113 Accuracy 74.3299 AUC 0.7879\n",
            "Epoch 160 VAL Batch 700 Loss 0.5114 Accuracy 74.3333 AUC 0.7878\n",
            "Epoch 160 VAL Batch 750 Loss 0.5113 Accuracy 74.3374 AUC 0.7879\n"
          ],
          "name": "stdout"
        },
        {
          "output_type": "stream",
          "text": [
            "19-12 21:58 root         INFO     Epoch VAL 160 Loss 0.5113 Accuracy 74.3369 AUC 0.7879\n",
            "19-12 21:58 root         INFO     Saving checkpoint for epoch 160 at 19-Dec-riiid-2/checkpoints/ckpt-31\n"
          ],
          "name": "stderr"
        },
        {
          "output_type": "stream",
          "text": [
            "Time taken for 1 epoch: 105.50158834457397 secs\n",
            "\n",
            "Epoch 161 TRAIN Batch 0 Loss 0.5038 Accuracy 75.3038 AUC 0.7917\n",
            "Epoch 161 TRAIN Batch 50 Loss 0.5095 Accuracy 74.3728 AUC 0.7900\n",
            "Epoch 161 TRAIN Batch 100 Loss 0.5093 Accuracy 74.4273 AUC 0.7898\n",
            "Epoch 161 TRAIN Batch 150 Loss 0.5094 Accuracy 74.4244 AUC 0.7897\n",
            "Epoch 161 TRAIN Batch 200 Loss 0.5091 Accuracy 74.4622 AUC 0.7900\n",
            "Epoch 161 TRAIN Batch 250 Loss 0.5083 Accuracy 74.5215 AUC 0.7903\n",
            "Epoch 161 TRAIN Batch 300 Loss 0.5083 Accuracy 74.5084 AUC 0.7901\n",
            "Epoch 161 TRAIN Batch 350 Loss 0.5085 Accuracy 74.4943 AUC 0.7900\n",
            "Epoch 161 TRAIN Batch 400 Loss 0.5084 Accuracy 74.5052 AUC 0.7901\n",
            "Epoch 161 TRAIN Batch 450 Loss 0.5085 Accuracy 74.4940 AUC 0.7901\n",
            "Epoch 161 TRAIN Batch 500 Loss 0.5084 Accuracy 74.4943 AUC 0.7901\n",
            "Epoch 161 TRAIN Batch 550 Loss 0.5082 Accuracy 74.5079 AUC 0.7903\n",
            "Epoch 161 TRAIN Batch 600 Loss 0.5084 Accuracy 74.4954 AUC 0.7902\n",
            "Epoch 161 TRAIN Batch 650 Loss 0.5085 Accuracy 74.4905 AUC 0.7901\n",
            "Epoch 161 TRAIN Batch 700 Loss 0.5085 Accuracy 74.4893 AUC 0.7901\n",
            "Epoch 161 TRAIN Batch 750 Loss 0.5085 Accuracy 74.4970 AUC 0.7901\n"
          ],
          "name": "stdout"
        },
        {
          "output_type": "stream",
          "text": [
            "19-12 22:00 root         INFO     Epoch TRAIN 161 Loss 0.5084 Accuracy 74.4991 AUC 0.7902\n"
          ],
          "name": "stderr"
        },
        {
          "output_type": "stream",
          "text": [
            "Time taken for 1 epoch: 87.3876211643219 secs\n",
            "\n",
            "Epoch 162 TRAIN Batch 0 Loss 0.4972 Accuracy 75.1245 AUC 0.8021\n",
            "Epoch 162 TRAIN Batch 50 Loss 0.5092 Accuracy 74.4211 AUC 0.7896\n",
            "Epoch 162 TRAIN Batch 100 Loss 0.5086 Accuracy 74.4700 AUC 0.7901\n",
            "Epoch 162 TRAIN Batch 150 Loss 0.5088 Accuracy 74.4638 AUC 0.7902\n",
            "Epoch 162 TRAIN Batch 200 Loss 0.5094 Accuracy 74.4314 AUC 0.7900\n",
            "Epoch 162 TRAIN Batch 250 Loss 0.5096 Accuracy 74.4153 AUC 0.7899\n",
            "Epoch 162 TRAIN Batch 300 Loss 0.5094 Accuracy 74.4276 AUC 0.7898\n",
            "Epoch 162 TRAIN Batch 350 Loss 0.5092 Accuracy 74.4432 AUC 0.7900\n",
            "Epoch 162 TRAIN Batch 400 Loss 0.5090 Accuracy 74.4590 AUC 0.7901\n",
            "Epoch 162 TRAIN Batch 450 Loss 0.5088 Accuracy 74.4805 AUC 0.7901\n",
            "Epoch 162 TRAIN Batch 500 Loss 0.5086 Accuracy 74.4921 AUC 0.7902\n",
            "Epoch 162 TRAIN Batch 550 Loss 0.5086 Accuracy 74.5012 AUC 0.7902\n",
            "Epoch 162 TRAIN Batch 600 Loss 0.5085 Accuracy 74.5110 AUC 0.7903\n",
            "Epoch 162 TRAIN Batch 650 Loss 0.5085 Accuracy 74.5112 AUC 0.7903\n",
            "Epoch 162 TRAIN Batch 700 Loss 0.5084 Accuracy 74.5161 AUC 0.7903\n",
            "Epoch 162 TRAIN Batch 750 Loss 0.5086 Accuracy 74.5051 AUC 0.7903\n"
          ],
          "name": "stdout"
        },
        {
          "output_type": "stream",
          "text": [
            "19-12 22:01 root         INFO     Epoch TRAIN 162 Loss 0.5084 Accuracy 74.5148 AUC 0.7904\n"
          ],
          "name": "stderr"
        },
        {
          "output_type": "stream",
          "text": [
            "Time taken for 1 epoch: 86.93240809440613 secs\n",
            "\n",
            "Epoch 163 TRAIN Batch 0 Loss 0.5094 Accuracy 73.9510 AUC 0.7883\n",
            "Epoch 163 TRAIN Batch 50 Loss 0.5086 Accuracy 74.5138 AUC 0.7895\n",
            "Epoch 163 TRAIN Batch 100 Loss 0.5075 Accuracy 74.5690 AUC 0.7901\n",
            "Epoch 163 TRAIN Batch 150 Loss 0.5087 Accuracy 74.4932 AUC 0.7898\n",
            "Epoch 163 TRAIN Batch 200 Loss 0.5080 Accuracy 74.5350 AUC 0.7904\n",
            "Epoch 163 TRAIN Batch 250 Loss 0.5082 Accuracy 74.5161 AUC 0.7903\n",
            "Epoch 163 TRAIN Batch 300 Loss 0.5081 Accuracy 74.5141 AUC 0.7902\n",
            "Epoch 163 TRAIN Batch 350 Loss 0.5080 Accuracy 74.5319 AUC 0.7903\n",
            "Epoch 163 TRAIN Batch 400 Loss 0.5080 Accuracy 74.5322 AUC 0.7902\n",
            "Epoch 163 TRAIN Batch 450 Loss 0.5082 Accuracy 74.5245 AUC 0.7902\n",
            "Epoch 163 TRAIN Batch 500 Loss 0.5081 Accuracy 74.5304 AUC 0.7903\n",
            "Epoch 163 TRAIN Batch 550 Loss 0.5081 Accuracy 74.5317 AUC 0.7904\n",
            "Epoch 163 TRAIN Batch 600 Loss 0.5083 Accuracy 74.5181 AUC 0.7903\n",
            "Epoch 163 TRAIN Batch 650 Loss 0.5083 Accuracy 74.5152 AUC 0.7903\n",
            "Epoch 163 TRAIN Batch 700 Loss 0.5083 Accuracy 74.5201 AUC 0.7903\n",
            "Epoch 163 TRAIN Batch 750 Loss 0.5084 Accuracy 74.5129 AUC 0.7903\n"
          ],
          "name": "stdout"
        },
        {
          "output_type": "stream",
          "text": [
            "19-12 22:03 root         INFO     Epoch TRAIN 163 Loss 0.5083 Accuracy 74.5156 AUC 0.7902\n"
          ],
          "name": "stderr"
        },
        {
          "output_type": "stream",
          "text": [
            "Time taken for 1 epoch: 86.03528380393982 secs\n",
            "\n",
            "Epoch 164 TRAIN Batch 0 Loss 0.4872 Accuracy 75.8756 AUC 0.7977\n",
            "Epoch 164 TRAIN Batch 50 Loss 0.5077 Accuracy 74.5606 AUC 0.7901\n",
            "Epoch 164 TRAIN Batch 100 Loss 0.5067 Accuracy 74.6137 AUC 0.7911\n",
            "Epoch 164 TRAIN Batch 150 Loss 0.5065 Accuracy 74.6300 AUC 0.7913\n",
            "Epoch 164 TRAIN Batch 200 Loss 0.5074 Accuracy 74.5776 AUC 0.7910\n",
            "Epoch 164 TRAIN Batch 250 Loss 0.5076 Accuracy 74.5611 AUC 0.7910\n",
            "Epoch 164 TRAIN Batch 300 Loss 0.5079 Accuracy 74.5406 AUC 0.7908\n",
            "Epoch 164 TRAIN Batch 350 Loss 0.5079 Accuracy 74.5414 AUC 0.7907\n",
            "Epoch 164 TRAIN Batch 400 Loss 0.5081 Accuracy 74.5273 AUC 0.7906\n",
            "Epoch 164 TRAIN Batch 450 Loss 0.5081 Accuracy 74.5301 AUC 0.7907\n",
            "Epoch 164 TRAIN Batch 500 Loss 0.5081 Accuracy 74.5293 AUC 0.7906\n",
            "Epoch 164 TRAIN Batch 550 Loss 0.5079 Accuracy 74.5385 AUC 0.7907\n",
            "Epoch 164 TRAIN Batch 600 Loss 0.5078 Accuracy 74.5436 AUC 0.7908\n",
            "Epoch 164 TRAIN Batch 650 Loss 0.5079 Accuracy 74.5403 AUC 0.7908\n",
            "Epoch 164 TRAIN Batch 700 Loss 0.5079 Accuracy 74.5409 AUC 0.7908\n",
            "Epoch 164 TRAIN Batch 750 Loss 0.5079 Accuracy 74.5415 AUC 0.7908\n"
          ],
          "name": "stdout"
        },
        {
          "output_type": "stream",
          "text": [
            "19-12 22:04 root         INFO     Epoch TRAIN 164 Loss 0.5079 Accuracy 74.5382 AUC 0.7907\n"
          ],
          "name": "stderr"
        },
        {
          "output_type": "stream",
          "text": [
            "Time taken for 1 epoch: 86.42173075675964 secs\n",
            "\n",
            "Epoch 165 TRAIN Batch 0 Loss 0.5025 Accuracy 75.4992 AUC 0.8002\n",
            "Epoch 165 TRAIN Batch 50 Loss 0.5086 Accuracy 74.5464 AUC 0.7904\n",
            "Epoch 165 TRAIN Batch 100 Loss 0.5088 Accuracy 74.5057 AUC 0.7904\n",
            "Epoch 165 TRAIN Batch 150 Loss 0.5090 Accuracy 74.4898 AUC 0.7900\n",
            "Epoch 165 TRAIN Batch 200 Loss 0.5081 Accuracy 74.5454 AUC 0.7906\n",
            "Epoch 165 TRAIN Batch 250 Loss 0.5081 Accuracy 74.5343 AUC 0.7907\n",
            "Epoch 165 TRAIN Batch 300 Loss 0.5082 Accuracy 74.5341 AUC 0.7907\n",
            "Epoch 165 TRAIN Batch 350 Loss 0.5079 Accuracy 74.5507 AUC 0.7907\n",
            "Epoch 165 TRAIN Batch 400 Loss 0.5077 Accuracy 74.5618 AUC 0.7909\n",
            "Epoch 165 TRAIN Batch 450 Loss 0.5076 Accuracy 74.5694 AUC 0.7910\n",
            "Epoch 165 TRAIN Batch 500 Loss 0.5076 Accuracy 74.5669 AUC 0.7910\n",
            "Epoch 165 TRAIN Batch 550 Loss 0.5076 Accuracy 74.5584 AUC 0.7910\n",
            "Epoch 165 TRAIN Batch 600 Loss 0.5077 Accuracy 74.5501 AUC 0.7909\n",
            "Epoch 165 TRAIN Batch 650 Loss 0.5077 Accuracy 74.5583 AUC 0.7909\n",
            "Epoch 165 TRAIN Batch 700 Loss 0.5077 Accuracy 74.5518 AUC 0.7909\n",
            "Epoch 165 TRAIN Batch 750 Loss 0.5077 Accuracy 74.5480 AUC 0.7909\n"
          ],
          "name": "stdout"
        },
        {
          "output_type": "stream",
          "text": [
            "19-12 22:05 root         INFO     Epoch TRAIN 165 Loss 0.5078 Accuracy 74.5419 AUC 0.7908\n"
          ],
          "name": "stderr"
        },
        {
          "output_type": "stream",
          "text": [
            "Epoch 165 VAL Batch 0 Loss 0.5127 Accuracy 74.0082 AUC 0.7849\n",
            "Epoch 165 VAL Batch 50 Loss 0.5134 Accuracy 74.1760 AUC 0.7866\n",
            "Epoch 165 VAL Batch 100 Loss 0.5125 Accuracy 74.2639 AUC 0.7874\n",
            "Epoch 165 VAL Batch 150 Loss 0.5124 Accuracy 74.2806 AUC 0.7872\n",
            "Epoch 165 VAL Batch 200 Loss 0.5126 Accuracy 74.2462 AUC 0.7873\n",
            "Epoch 165 VAL Batch 250 Loss 0.5123 Accuracy 74.2789 AUC 0.7876\n",
            "Epoch 165 VAL Batch 300 Loss 0.5120 Accuracy 74.3058 AUC 0.7878\n",
            "Epoch 165 VAL Batch 350 Loss 0.5121 Accuracy 74.2994 AUC 0.7878\n",
            "Epoch 165 VAL Batch 400 Loss 0.5119 Accuracy 74.3194 AUC 0.7880\n",
            "Epoch 165 VAL Batch 450 Loss 0.5115 Accuracy 74.3430 AUC 0.7881\n",
            "Epoch 165 VAL Batch 500 Loss 0.5116 Accuracy 74.3354 AUC 0.7880\n",
            "Epoch 165 VAL Batch 550 Loss 0.5116 Accuracy 74.3335 AUC 0.7879\n",
            "Epoch 165 VAL Batch 600 Loss 0.5114 Accuracy 74.3512 AUC 0.7881\n",
            "Epoch 165 VAL Batch 650 Loss 0.5114 Accuracy 74.3508 AUC 0.7881\n",
            "Epoch 165 VAL Batch 700 Loss 0.5115 Accuracy 74.3509 AUC 0.7881\n",
            "Epoch 165 VAL Batch 750 Loss 0.5114 Accuracy 74.3549 AUC 0.7881\n"
          ],
          "name": "stdout"
        },
        {
          "output_type": "stream",
          "text": [
            "19-12 22:06 root         INFO     Epoch VAL 165 Loss 0.5114 Accuracy 74.3547 AUC 0.7882\n",
            "19-12 22:06 root         INFO     Saving checkpoint for epoch 165 at 19-Dec-riiid-2/checkpoints/ckpt-32\n"
          ],
          "name": "stderr"
        },
        {
          "output_type": "stream",
          "text": [
            "Time taken for 1 epoch: 103.54344987869263 secs\n",
            "\n",
            "Epoch 166 TRAIN Batch 0 Loss 0.5230 Accuracy 73.7883 AUC 0.7808\n",
            "Epoch 166 TRAIN Batch 50 Loss 0.5091 Accuracy 74.4779 AUC 0.7897\n",
            "Epoch 166 TRAIN Batch 100 Loss 0.5079 Accuracy 74.5719 AUC 0.7908\n",
            "Epoch 166 TRAIN Batch 150 Loss 0.5079 Accuracy 74.5785 AUC 0.7907\n",
            "Epoch 166 TRAIN Batch 200 Loss 0.5083 Accuracy 74.5393 AUC 0.7905\n",
            "Epoch 166 TRAIN Batch 250 Loss 0.5086 Accuracy 74.5281 AUC 0.7903\n",
            "Epoch 166 TRAIN Batch 300 Loss 0.5082 Accuracy 74.5540 AUC 0.7906\n",
            "Epoch 166 TRAIN Batch 350 Loss 0.5083 Accuracy 74.5398 AUC 0.7905\n",
            "Epoch 166 TRAIN Batch 400 Loss 0.5082 Accuracy 74.5365 AUC 0.7904\n",
            "Epoch 166 TRAIN Batch 450 Loss 0.5083 Accuracy 74.5319 AUC 0.7904\n",
            "Epoch 166 TRAIN Batch 500 Loss 0.5081 Accuracy 74.5506 AUC 0.7905\n",
            "Epoch 166 TRAIN Batch 550 Loss 0.5081 Accuracy 74.5487 AUC 0.7906\n",
            "Epoch 166 TRAIN Batch 600 Loss 0.5082 Accuracy 74.5459 AUC 0.7905\n",
            "Epoch 166 TRAIN Batch 650 Loss 0.5082 Accuracy 74.5397 AUC 0.7905\n",
            "Epoch 166 TRAIN Batch 700 Loss 0.5081 Accuracy 74.5453 AUC 0.7906\n",
            "Epoch 166 TRAIN Batch 750 Loss 0.5081 Accuracy 74.5375 AUC 0.7906\n"
          ],
          "name": "stdout"
        },
        {
          "output_type": "stream",
          "text": [
            "19-12 22:07 root         INFO     Epoch TRAIN 166 Loss 0.5081 Accuracy 74.5370 AUC 0.7905\n"
          ],
          "name": "stderr"
        },
        {
          "output_type": "stream",
          "text": [
            "Time taken for 1 epoch: 86.02251386642456 secs\n",
            "\n",
            "Epoch 167 TRAIN Batch 0 Loss 0.5058 Accuracy 74.5673 AUC 0.7929\n",
            "Epoch 167 TRAIN Batch 50 Loss 0.5082 Accuracy 74.5246 AUC 0.7903\n",
            "Epoch 167 TRAIN Batch 100 Loss 0.5080 Accuracy 74.5406 AUC 0.7906\n",
            "Epoch 167 TRAIN Batch 150 Loss 0.5079 Accuracy 74.5418 AUC 0.7907\n",
            "Epoch 167 TRAIN Batch 200 Loss 0.5083 Accuracy 74.5115 AUC 0.7905\n",
            "Epoch 167 TRAIN Batch 250 Loss 0.5086 Accuracy 74.4905 AUC 0.7903\n",
            "Epoch 167 TRAIN Batch 300 Loss 0.5087 Accuracy 74.4717 AUC 0.7903\n",
            "Epoch 167 TRAIN Batch 350 Loss 0.5086 Accuracy 74.4809 AUC 0.7902\n",
            "Epoch 167 TRAIN Batch 400 Loss 0.5088 Accuracy 74.4678 AUC 0.7901\n",
            "Epoch 167 TRAIN Batch 450 Loss 0.5086 Accuracy 74.4880 AUC 0.7903\n",
            "Epoch 167 TRAIN Batch 500 Loss 0.5084 Accuracy 74.5036 AUC 0.7904\n",
            "Epoch 167 TRAIN Batch 550 Loss 0.5085 Accuracy 74.4970 AUC 0.7903\n",
            "Epoch 167 TRAIN Batch 600 Loss 0.5083 Accuracy 74.5051 AUC 0.7904\n",
            "Epoch 167 TRAIN Batch 650 Loss 0.5084 Accuracy 74.5024 AUC 0.7904\n",
            "Epoch 167 TRAIN Batch 700 Loss 0.5082 Accuracy 74.5165 AUC 0.7904\n",
            "Epoch 167 TRAIN Batch 750 Loss 0.5082 Accuracy 74.5122 AUC 0.7904\n"
          ],
          "name": "stdout"
        },
        {
          "output_type": "stream",
          "text": [
            "19-12 22:09 root         INFO     Epoch TRAIN 167 Loss 0.5082 Accuracy 74.5177 AUC 0.7905\n"
          ],
          "name": "stderr"
        },
        {
          "output_type": "stream",
          "text": [
            "Time taken for 1 epoch: 84.89985775947571 secs\n",
            "\n",
            "Epoch 168 TRAIN Batch 0 Loss 0.5075 Accuracy 74.6259 AUC 0.7890\n",
            "Epoch 168 TRAIN Batch 50 Loss 0.5060 Accuracy 74.6260 AUC 0.7922\n",
            "Epoch 168 TRAIN Batch 100 Loss 0.5064 Accuracy 74.5959 AUC 0.7913\n",
            "Epoch 168 TRAIN Batch 150 Loss 0.5075 Accuracy 74.5266 AUC 0.7909\n",
            "Epoch 168 TRAIN Batch 200 Loss 0.5079 Accuracy 74.4882 AUC 0.7904\n",
            "Epoch 168 TRAIN Batch 250 Loss 0.5078 Accuracy 74.5058 AUC 0.7906\n",
            "Epoch 168 TRAIN Batch 300 Loss 0.5079 Accuracy 74.5123 AUC 0.7906\n",
            "Epoch 168 TRAIN Batch 350 Loss 0.5078 Accuracy 74.5194 AUC 0.7906\n",
            "Epoch 168 TRAIN Batch 400 Loss 0.5077 Accuracy 74.5283 AUC 0.7907\n",
            "Epoch 168 TRAIN Batch 450 Loss 0.5078 Accuracy 74.5242 AUC 0.7907\n",
            "Epoch 168 TRAIN Batch 500 Loss 0.5077 Accuracy 74.5286 AUC 0.7907\n",
            "Epoch 168 TRAIN Batch 550 Loss 0.5078 Accuracy 74.5262 AUC 0.7906\n",
            "Epoch 168 TRAIN Batch 600 Loss 0.5079 Accuracy 74.5191 AUC 0.7906\n",
            "Epoch 168 TRAIN Batch 650 Loss 0.5081 Accuracy 74.5079 AUC 0.7905\n",
            "Epoch 168 TRAIN Batch 700 Loss 0.5080 Accuracy 74.5181 AUC 0.7905\n",
            "Epoch 168 TRAIN Batch 750 Loss 0.5080 Accuracy 74.5213 AUC 0.7906\n"
          ],
          "name": "stdout"
        },
        {
          "output_type": "stream",
          "text": [
            "19-12 22:10 root         INFO     Epoch TRAIN 168 Loss 0.5079 Accuracy 74.5247 AUC 0.7906\n"
          ],
          "name": "stderr"
        },
        {
          "output_type": "stream",
          "text": [
            "Time taken for 1 epoch: 85.20985794067383 secs\n",
            "\n",
            "Epoch 169 TRAIN Batch 0 Loss 0.5176 Accuracy 73.4416 AUC 0.7902\n",
            "Epoch 169 TRAIN Batch 50 Loss 0.5084 Accuracy 74.4748 AUC 0.7901\n",
            "Epoch 169 TRAIN Batch 100 Loss 0.5076 Accuracy 74.5450 AUC 0.7906\n",
            "Epoch 169 TRAIN Batch 150 Loss 0.5072 Accuracy 74.5825 AUC 0.7906\n",
            "Epoch 169 TRAIN Batch 200 Loss 0.5072 Accuracy 74.5941 AUC 0.7908\n",
            "Epoch 169 TRAIN Batch 250 Loss 0.5076 Accuracy 74.5677 AUC 0.7907\n",
            "Epoch 169 TRAIN Batch 300 Loss 0.5077 Accuracy 74.5519 AUC 0.7908\n",
            "Epoch 169 TRAIN Batch 350 Loss 0.5077 Accuracy 74.5560 AUC 0.7907\n",
            "Epoch 169 TRAIN Batch 400 Loss 0.5081 Accuracy 74.5204 AUC 0.7905\n",
            "Epoch 169 TRAIN Batch 450 Loss 0.5080 Accuracy 74.5319 AUC 0.7906\n",
            "Epoch 169 TRAIN Batch 500 Loss 0.5078 Accuracy 74.5452 AUC 0.7907\n",
            "Epoch 169 TRAIN Batch 550 Loss 0.5077 Accuracy 74.5532 AUC 0.7907\n",
            "Epoch 169 TRAIN Batch 600 Loss 0.5077 Accuracy 74.5529 AUC 0.7907\n",
            "Epoch 169 TRAIN Batch 650 Loss 0.5076 Accuracy 74.5598 AUC 0.7908\n",
            "Epoch 169 TRAIN Batch 700 Loss 0.5075 Accuracy 74.5654 AUC 0.7909\n",
            "Epoch 169 TRAIN Batch 750 Loss 0.5074 Accuracy 74.5735 AUC 0.7910\n"
          ],
          "name": "stdout"
        },
        {
          "output_type": "stream",
          "text": [
            "19-12 22:11 root         INFO     Epoch TRAIN 169 Loss 0.5075 Accuracy 74.5709 AUC 0.7910\n"
          ],
          "name": "stderr"
        },
        {
          "output_type": "stream",
          "text": [
            "Time taken for 1 epoch: 85.00755977630615 secs\n",
            "\n",
            "Epoch 170 TRAIN Batch 0 Loss 0.5023 Accuracy 74.6450 AUC 0.7886\n",
            "Epoch 170 TRAIN Batch 50 Loss 0.5080 Accuracy 74.5086 AUC 0.7906\n",
            "Epoch 170 TRAIN Batch 100 Loss 0.5077 Accuracy 74.5296 AUC 0.7909\n",
            "Epoch 170 TRAIN Batch 150 Loss 0.5084 Accuracy 74.5052 AUC 0.7903\n",
            "Epoch 170 TRAIN Batch 200 Loss 0.5078 Accuracy 74.5578 AUC 0.7909\n",
            "Epoch 170 TRAIN Batch 250 Loss 0.5078 Accuracy 74.5445 AUC 0.7911\n",
            "Epoch 170 TRAIN Batch 300 Loss 0.5076 Accuracy 74.5673 AUC 0.7910\n",
            "Epoch 170 TRAIN Batch 350 Loss 0.5075 Accuracy 74.5698 AUC 0.7909\n",
            "Epoch 170 TRAIN Batch 400 Loss 0.5076 Accuracy 74.5614 AUC 0.7909\n",
            "Epoch 170 TRAIN Batch 450 Loss 0.5076 Accuracy 74.5600 AUC 0.7910\n",
            "Epoch 170 TRAIN Batch 500 Loss 0.5077 Accuracy 74.5427 AUC 0.7910\n",
            "Epoch 170 TRAIN Batch 550 Loss 0.5077 Accuracy 74.5504 AUC 0.7911\n",
            "Epoch 170 TRAIN Batch 600 Loss 0.5077 Accuracy 74.5479 AUC 0.7911\n",
            "Epoch 170 TRAIN Batch 650 Loss 0.5078 Accuracy 74.5437 AUC 0.7910\n",
            "Epoch 170 TRAIN Batch 700 Loss 0.5078 Accuracy 74.5378 AUC 0.7910\n",
            "Epoch 170 TRAIN Batch 750 Loss 0.5079 Accuracy 74.5356 AUC 0.7909\n"
          ],
          "name": "stdout"
        },
        {
          "output_type": "stream",
          "text": [
            "19-12 22:13 root         INFO     Epoch TRAIN 170 Loss 0.5078 Accuracy 74.5357 AUC 0.7909\n"
          ],
          "name": "stderr"
        },
        {
          "output_type": "stream",
          "text": [
            "Epoch 170 VAL Batch 0 Loss 0.5134 Accuracy 74.0502 AUC 0.7844\n",
            "Epoch 170 VAL Batch 50 Loss 0.5131 Accuracy 74.2109 AUC 0.7870\n",
            "Epoch 170 VAL Batch 100 Loss 0.5122 Accuracy 74.2864 AUC 0.7878\n",
            "Epoch 170 VAL Batch 150 Loss 0.5122 Accuracy 74.3005 AUC 0.7876\n",
            "Epoch 170 VAL Batch 200 Loss 0.5123 Accuracy 74.2746 AUC 0.7877\n",
            "Epoch 170 VAL Batch 250 Loss 0.5121 Accuracy 74.3049 AUC 0.7879\n",
            "Epoch 170 VAL Batch 300 Loss 0.5118 Accuracy 74.3320 AUC 0.7880\n",
            "Epoch 170 VAL Batch 350 Loss 0.5119 Accuracy 74.3331 AUC 0.7881\n",
            "Epoch 170 VAL Batch 400 Loss 0.5117 Accuracy 74.3518 AUC 0.7882\n",
            "Epoch 170 VAL Batch 450 Loss 0.5113 Accuracy 74.3794 AUC 0.7884\n",
            "Epoch 170 VAL Batch 500 Loss 0.5114 Accuracy 74.3708 AUC 0.7883\n",
            "Epoch 170 VAL Batch 550 Loss 0.5114 Accuracy 74.3659 AUC 0.7882\n",
            "Epoch 170 VAL Batch 600 Loss 0.5112 Accuracy 74.3828 AUC 0.7884\n",
            "Epoch 170 VAL Batch 650 Loss 0.5112 Accuracy 74.3812 AUC 0.7884\n",
            "Epoch 170 VAL Batch 700 Loss 0.5112 Accuracy 74.3839 AUC 0.7884\n",
            "Epoch 170 VAL Batch 750 Loss 0.5112 Accuracy 74.3892 AUC 0.7884\n"
          ],
          "name": "stdout"
        },
        {
          "output_type": "stream",
          "text": [
            "19-12 22:13 root         INFO     Epoch VAL 170 Loss 0.5112 Accuracy 74.3887 AUC 0.7885\n",
            "19-12 22:13 root         INFO     Saving checkpoint for epoch 170 at 19-Dec-riiid-2/checkpoints/ckpt-33\n"
          ],
          "name": "stderr"
        },
        {
          "output_type": "stream",
          "text": [
            "Time taken for 1 epoch: 104.28146123886108 secs\n",
            "\n",
            "Epoch 171 TRAIN Batch 0 Loss 0.5066 Accuracy 74.7507 AUC 0.7911\n",
            "Epoch 171 TRAIN Batch 50 Loss 0.5098 Accuracy 74.4483 AUC 0.7901\n",
            "Epoch 171 TRAIN Batch 100 Loss 0.5086 Accuracy 74.5130 AUC 0.7911\n",
            "Epoch 171 TRAIN Batch 150 Loss 0.5085 Accuracy 74.5177 AUC 0.7910\n",
            "Epoch 171 TRAIN Batch 200 Loss 0.5078 Accuracy 74.5666 AUC 0.7912\n",
            "Epoch 171 TRAIN Batch 250 Loss 0.5079 Accuracy 74.5549 AUC 0.7909\n",
            "Epoch 171 TRAIN Batch 300 Loss 0.5077 Accuracy 74.5620 AUC 0.7912\n",
            "Epoch 171 TRAIN Batch 350 Loss 0.5078 Accuracy 74.5519 AUC 0.7910\n",
            "Epoch 171 TRAIN Batch 400 Loss 0.5077 Accuracy 74.5541 AUC 0.7909\n",
            "Epoch 171 TRAIN Batch 450 Loss 0.5076 Accuracy 74.5636 AUC 0.7910\n",
            "Epoch 171 TRAIN Batch 500 Loss 0.5079 Accuracy 74.5366 AUC 0.7908\n",
            "Epoch 171 TRAIN Batch 550 Loss 0.5079 Accuracy 74.5381 AUC 0.7908\n",
            "Epoch 171 TRAIN Batch 600 Loss 0.5078 Accuracy 74.5390 AUC 0.7908\n",
            "Epoch 171 TRAIN Batch 650 Loss 0.5080 Accuracy 74.5261 AUC 0.7908\n",
            "Epoch 171 TRAIN Batch 700 Loss 0.5078 Accuracy 74.5373 AUC 0.7908\n",
            "Epoch 171 TRAIN Batch 750 Loss 0.5078 Accuracy 74.5365 AUC 0.7908\n"
          ],
          "name": "stdout"
        },
        {
          "output_type": "stream",
          "text": [
            "19-12 22:15 root         INFO     Epoch TRAIN 171 Loss 0.5078 Accuracy 74.5385 AUC 0.7909\n"
          ],
          "name": "stderr"
        },
        {
          "output_type": "stream",
          "text": [
            "Time taken for 1 epoch: 84.97409987449646 secs\n",
            "\n",
            "Epoch 172 TRAIN Batch 0 Loss 0.5071 Accuracy 74.4241 AUC 0.7947\n",
            "Epoch 172 TRAIN Batch 50 Loss 0.5073 Accuracy 74.5631 AUC 0.7915\n",
            "Epoch 172 TRAIN Batch 100 Loss 0.5076 Accuracy 74.5664 AUC 0.7916\n",
            "Epoch 172 TRAIN Batch 150 Loss 0.5080 Accuracy 74.5360 AUC 0.7910\n",
            "Epoch 172 TRAIN Batch 200 Loss 0.5079 Accuracy 74.5618 AUC 0.7912\n",
            "Epoch 172 TRAIN Batch 250 Loss 0.5077 Accuracy 74.5781 AUC 0.7915\n",
            "Epoch 172 TRAIN Batch 300 Loss 0.5078 Accuracy 74.5662 AUC 0.7911\n",
            "Epoch 172 TRAIN Batch 350 Loss 0.5077 Accuracy 74.5652 AUC 0.7912\n",
            "Epoch 172 TRAIN Batch 400 Loss 0.5076 Accuracy 74.5756 AUC 0.7911\n",
            "Epoch 172 TRAIN Batch 450 Loss 0.5076 Accuracy 74.5710 AUC 0.7912\n",
            "Epoch 172 TRAIN Batch 500 Loss 0.5076 Accuracy 74.5764 AUC 0.7912\n",
            "Epoch 172 TRAIN Batch 550 Loss 0.5075 Accuracy 74.5798 AUC 0.7912\n",
            "Epoch 172 TRAIN Batch 600 Loss 0.5077 Accuracy 74.5700 AUC 0.7912\n",
            "Epoch 172 TRAIN Batch 650 Loss 0.5076 Accuracy 74.5717 AUC 0.7912\n",
            "Epoch 172 TRAIN Batch 700 Loss 0.5075 Accuracy 74.5803 AUC 0.7913\n",
            "Epoch 172 TRAIN Batch 750 Loss 0.5075 Accuracy 74.5864 AUC 0.7913\n"
          ],
          "name": "stdout"
        },
        {
          "output_type": "stream",
          "text": [
            "19-12 22:16 root         INFO     Epoch TRAIN 172 Loss 0.5075 Accuracy 74.5867 AUC 0.7913\n"
          ],
          "name": "stderr"
        },
        {
          "output_type": "stream",
          "text": [
            "Time taken for 1 epoch: 84.70166015625 secs\n",
            "\n",
            "Epoch 173 TRAIN Batch 0 Loss 0.5217 Accuracy 73.5455 AUC 0.7850\n",
            "Epoch 173 TRAIN Batch 50 Loss 0.5076 Accuracy 74.5543 AUC 0.7915\n",
            "Epoch 173 TRAIN Batch 100 Loss 0.5085 Accuracy 74.4848 AUC 0.7909\n",
            "Epoch 173 TRAIN Batch 150 Loss 0.5085 Accuracy 74.4722 AUC 0.7907\n",
            "Epoch 173 TRAIN Batch 200 Loss 0.5086 Accuracy 74.4697 AUC 0.7907\n",
            "Epoch 173 TRAIN Batch 250 Loss 0.5087 Accuracy 74.4697 AUC 0.7907\n",
            "Epoch 173 TRAIN Batch 300 Loss 0.5086 Accuracy 74.4829 AUC 0.7906\n",
            "Epoch 173 TRAIN Batch 350 Loss 0.5084 Accuracy 74.4901 AUC 0.7908\n",
            "Epoch 173 TRAIN Batch 400 Loss 0.5083 Accuracy 74.4946 AUC 0.7908\n",
            "Epoch 173 TRAIN Batch 450 Loss 0.5082 Accuracy 74.4978 AUC 0.7909\n",
            "Epoch 173 TRAIN Batch 500 Loss 0.5082 Accuracy 74.5010 AUC 0.7909\n",
            "Epoch 173 TRAIN Batch 550 Loss 0.5082 Accuracy 74.5092 AUC 0.7909\n",
            "Epoch 173 TRAIN Batch 600 Loss 0.5080 Accuracy 74.5241 AUC 0.7910\n",
            "Epoch 173 TRAIN Batch 650 Loss 0.5082 Accuracy 74.5123 AUC 0.7909\n",
            "Epoch 173 TRAIN Batch 700 Loss 0.5082 Accuracy 74.5068 AUC 0.7908\n",
            "Epoch 173 TRAIN Batch 750 Loss 0.5082 Accuracy 74.5073 AUC 0.7907\n"
          ],
          "name": "stdout"
        },
        {
          "output_type": "stream",
          "text": [
            "19-12 22:17 root         INFO     Epoch TRAIN 173 Loss 0.5081 Accuracy 74.5117 AUC 0.7908\n"
          ],
          "name": "stderr"
        },
        {
          "output_type": "stream",
          "text": [
            "Time taken for 1 epoch: 86.30855774879456 secs\n",
            "\n",
            "Epoch 174 TRAIN Batch 0 Loss 0.5004 Accuracy 75.1142 AUC 0.7931\n",
            "Epoch 174 TRAIN Batch 50 Loss 0.5093 Accuracy 74.3994 AUC 0.7900\n",
            "Epoch 174 TRAIN Batch 100 Loss 0.5080 Accuracy 74.4981 AUC 0.7907\n",
            "Epoch 174 TRAIN Batch 150 Loss 0.5076 Accuracy 74.5446 AUC 0.7909\n",
            "Epoch 174 TRAIN Batch 200 Loss 0.5075 Accuracy 74.5564 AUC 0.7908\n",
            "Epoch 174 TRAIN Batch 250 Loss 0.5073 Accuracy 74.5772 AUC 0.7911\n",
            "Epoch 174 TRAIN Batch 300 Loss 0.5071 Accuracy 74.5910 AUC 0.7911\n",
            "Epoch 174 TRAIN Batch 350 Loss 0.5074 Accuracy 74.5786 AUC 0.7909\n",
            "Epoch 174 TRAIN Batch 400 Loss 0.5075 Accuracy 74.5623 AUC 0.7908\n",
            "Epoch 174 TRAIN Batch 450 Loss 0.5076 Accuracy 74.5550 AUC 0.7908\n",
            "Epoch 174 TRAIN Batch 500 Loss 0.5076 Accuracy 74.5490 AUC 0.7909\n",
            "Epoch 174 TRAIN Batch 550 Loss 0.5073 Accuracy 74.5730 AUC 0.7911\n",
            "Epoch 174 TRAIN Batch 600 Loss 0.5072 Accuracy 74.5743 AUC 0.7911\n",
            "Epoch 174 TRAIN Batch 650 Loss 0.5073 Accuracy 74.5732 AUC 0.7911\n",
            "Epoch 174 TRAIN Batch 700 Loss 0.5073 Accuracy 74.5762 AUC 0.7911\n",
            "Epoch 174 TRAIN Batch 750 Loss 0.5074 Accuracy 74.5641 AUC 0.7911\n"
          ],
          "name": "stdout"
        },
        {
          "output_type": "stream",
          "text": [
            "19-12 22:19 root         INFO     Epoch TRAIN 174 Loss 0.5074 Accuracy 74.5642 AUC 0.7911\n"
          ],
          "name": "stderr"
        },
        {
          "output_type": "stream",
          "text": [
            "Time taken for 1 epoch: 84.71060514450073 secs\n",
            "\n",
            "Epoch 175 TRAIN Batch 0 Loss 0.5062 Accuracy 74.8410 AUC 0.7873\n",
            "Epoch 175 TRAIN Batch 50 Loss 0.5072 Accuracy 74.5195 AUC 0.7911\n",
            "Epoch 175 TRAIN Batch 100 Loss 0.5070 Accuracy 74.5548 AUC 0.7914\n",
            "Epoch 175 TRAIN Batch 150 Loss 0.5074 Accuracy 74.5117 AUC 0.7913\n",
            "Epoch 175 TRAIN Batch 200 Loss 0.5075 Accuracy 74.5329 AUC 0.7912\n",
            "Epoch 175 TRAIN Batch 250 Loss 0.5074 Accuracy 74.5502 AUC 0.7912\n",
            "Epoch 175 TRAIN Batch 300 Loss 0.5073 Accuracy 74.5537 AUC 0.7913\n",
            "Epoch 175 TRAIN Batch 350 Loss 0.5074 Accuracy 74.5520 AUC 0.7911\n",
            "Epoch 175 TRAIN Batch 400 Loss 0.5074 Accuracy 74.5502 AUC 0.7911\n",
            "Epoch 175 TRAIN Batch 450 Loss 0.5075 Accuracy 74.5477 AUC 0.7911\n",
            "Epoch 175 TRAIN Batch 500 Loss 0.5074 Accuracy 74.5537 AUC 0.7911\n",
            "Epoch 175 TRAIN Batch 550 Loss 0.5075 Accuracy 74.5451 AUC 0.7911\n",
            "Epoch 175 TRAIN Batch 600 Loss 0.5075 Accuracy 74.5416 AUC 0.7912\n",
            "Epoch 175 TRAIN Batch 650 Loss 0.5076 Accuracy 74.5469 AUC 0.7912\n",
            "Epoch 175 TRAIN Batch 700 Loss 0.5075 Accuracy 74.5483 AUC 0.7912\n",
            "Epoch 175 TRAIN Batch 750 Loss 0.5075 Accuracy 74.5495 AUC 0.7912\n"
          ],
          "name": "stdout"
        },
        {
          "output_type": "stream",
          "text": [
            "19-12 22:20 root         INFO     Epoch TRAIN 175 Loss 0.5076 Accuracy 74.5465 AUC 0.7911\n"
          ],
          "name": "stderr"
        },
        {
          "output_type": "stream",
          "text": [
            "Epoch 175 VAL Batch 0 Loss 0.5142 Accuracy 74.0166 AUC 0.7838\n",
            "Epoch 175 VAL Batch 50 Loss 0.5133 Accuracy 74.1963 AUC 0.7869\n",
            "Epoch 175 VAL Batch 100 Loss 0.5124 Accuracy 74.2889 AUC 0.7877\n",
            "Epoch 175 VAL Batch 150 Loss 0.5123 Accuracy 74.3006 AUC 0.7875\n",
            "Epoch 175 VAL Batch 200 Loss 0.5124 Accuracy 74.2663 AUC 0.7876\n",
            "Epoch 175 VAL Batch 250 Loss 0.5121 Accuracy 74.2955 AUC 0.7879\n",
            "Epoch 175 VAL Batch 300 Loss 0.5118 Accuracy 74.3168 AUC 0.7881\n",
            "Epoch 175 VAL Batch 350 Loss 0.5119 Accuracy 74.3190 AUC 0.7882\n",
            "Epoch 175 VAL Batch 400 Loss 0.5116 Accuracy 74.3391 AUC 0.7883\n",
            "Epoch 175 VAL Batch 450 Loss 0.5113 Accuracy 74.3618 AUC 0.7885\n",
            "Epoch 175 VAL Batch 500 Loss 0.5114 Accuracy 74.3572 AUC 0.7884\n",
            "Epoch 175 VAL Batch 550 Loss 0.5114 Accuracy 74.3539 AUC 0.7883\n",
            "Epoch 175 VAL Batch 600 Loss 0.5112 Accuracy 74.3680 AUC 0.7885\n",
            "Epoch 175 VAL Batch 650 Loss 0.5112 Accuracy 74.3651 AUC 0.7884\n",
            "Epoch 175 VAL Batch 700 Loss 0.5113 Accuracy 74.3674 AUC 0.7884\n",
            "Epoch 175 VAL Batch 750 Loss 0.5112 Accuracy 74.3736 AUC 0.7885\n"
          ],
          "name": "stdout"
        },
        {
          "output_type": "stream",
          "text": [
            "19-12 22:21 root         INFO     Epoch VAL 175 Loss 0.5112 Accuracy 74.3740 AUC 0.7885\n",
            "19-12 22:21 root         INFO     Saving checkpoint for epoch 175 at 19-Dec-riiid-2/checkpoints/ckpt-34\n"
          ],
          "name": "stderr"
        },
        {
          "output_type": "stream",
          "text": [
            "Time taken for 1 epoch: 102.92105007171631 secs\n",
            "\n",
            "Epoch 176 TRAIN Batch 0 Loss 0.4985 Accuracy 75.5643 AUC 0.7948\n",
            "Epoch 176 TRAIN Batch 50 Loss 0.5055 Accuracy 74.7790 AUC 0.7917\n",
            "Epoch 176 TRAIN Batch 100 Loss 0.5062 Accuracy 74.6570 AUC 0.7922\n",
            "Epoch 176 TRAIN Batch 150 Loss 0.5074 Accuracy 74.5896 AUC 0.7916\n",
            "Epoch 176 TRAIN Batch 200 Loss 0.5079 Accuracy 74.5207 AUC 0.7914\n",
            "Epoch 176 TRAIN Batch 250 Loss 0.5079 Accuracy 74.5139 AUC 0.7915\n",
            "Epoch 176 TRAIN Batch 300 Loss 0.5079 Accuracy 74.5218 AUC 0.7914\n",
            "Epoch 176 TRAIN Batch 350 Loss 0.5079 Accuracy 74.5078 AUC 0.7912\n",
            "Epoch 176 TRAIN Batch 400 Loss 0.5078 Accuracy 74.5162 AUC 0.7913\n",
            "Epoch 176 TRAIN Batch 450 Loss 0.5079 Accuracy 74.5180 AUC 0.7914\n",
            "Epoch 176 TRAIN Batch 500 Loss 0.5079 Accuracy 74.5192 AUC 0.7913\n",
            "Epoch 176 TRAIN Batch 550 Loss 0.5078 Accuracy 74.5241 AUC 0.7914\n",
            "Epoch 176 TRAIN Batch 600 Loss 0.5077 Accuracy 74.5354 AUC 0.7914\n",
            "Epoch 176 TRAIN Batch 650 Loss 0.5077 Accuracy 74.5325 AUC 0.7914\n",
            "Epoch 176 TRAIN Batch 700 Loss 0.5077 Accuracy 74.5263 AUC 0.7913\n",
            "Epoch 176 TRAIN Batch 750 Loss 0.5076 Accuracy 74.5372 AUC 0.7914\n"
          ],
          "name": "stdout"
        },
        {
          "output_type": "stream",
          "text": [
            "19-12 22:22 root         INFO     Epoch TRAIN 176 Loss 0.5076 Accuracy 74.5411 AUC 0.7914\n"
          ],
          "name": "stderr"
        },
        {
          "output_type": "stream",
          "text": [
            "Time taken for 1 epoch: 85.15011215209961 secs\n",
            "\n",
            "Epoch 177 TRAIN Batch 0 Loss 0.4949 Accuracy 75.2020 AUC 0.7950\n",
            "Epoch 177 TRAIN Batch 50 Loss 0.5067 Accuracy 74.5834 AUC 0.7914\n",
            "Epoch 177 TRAIN Batch 100 Loss 0.5069 Accuracy 74.5846 AUC 0.7915\n",
            "Epoch 177 TRAIN Batch 150 Loss 0.5079 Accuracy 74.4963 AUC 0.7910\n",
            "Epoch 177 TRAIN Batch 200 Loss 0.5080 Accuracy 74.5004 AUC 0.7909\n",
            "Epoch 177 TRAIN Batch 250 Loss 0.5080 Accuracy 74.4952 AUC 0.7909\n",
            "Epoch 177 TRAIN Batch 300 Loss 0.5080 Accuracy 74.5000 AUC 0.7909\n",
            "Epoch 177 TRAIN Batch 350 Loss 0.5080 Accuracy 74.5035 AUC 0.7908\n",
            "Epoch 177 TRAIN Batch 400 Loss 0.5079 Accuracy 74.5119 AUC 0.7908\n",
            "Epoch 177 TRAIN Batch 450 Loss 0.5079 Accuracy 74.5191 AUC 0.7908\n",
            "Epoch 177 TRAIN Batch 500 Loss 0.5076 Accuracy 74.5358 AUC 0.7909\n",
            "Epoch 177 TRAIN Batch 550 Loss 0.5074 Accuracy 74.5464 AUC 0.7911\n",
            "Epoch 177 TRAIN Batch 600 Loss 0.5074 Accuracy 74.5579 AUC 0.7912\n",
            "Epoch 177 TRAIN Batch 650 Loss 0.5073 Accuracy 74.5642 AUC 0.7912\n",
            "Epoch 177 TRAIN Batch 700 Loss 0.5073 Accuracy 74.5676 AUC 0.7912\n",
            "Epoch 177 TRAIN Batch 750 Loss 0.5073 Accuracy 74.5640 AUC 0.7912\n"
          ],
          "name": "stdout"
        },
        {
          "output_type": "stream",
          "text": [
            "19-12 22:23 root         INFO     Epoch TRAIN 177 Loss 0.5073 Accuracy 74.5646 AUC 0.7912\n"
          ],
          "name": "stderr"
        },
        {
          "output_type": "stream",
          "text": [
            "Time taken for 1 epoch: 85.31350016593933 secs\n",
            "\n",
            "Epoch 178 TRAIN Batch 0 Loss 0.4981 Accuracy 75.6065 AUC 0.7996\n",
            "Epoch 178 TRAIN Batch 50 Loss 0.5050 Accuracy 74.7426 AUC 0.7923\n",
            "Epoch 178 TRAIN Batch 100 Loss 0.5054 Accuracy 74.7021 AUC 0.7922\n",
            "Epoch 178 TRAIN Batch 150 Loss 0.5065 Accuracy 74.5986 AUC 0.7915\n",
            "Epoch 178 TRAIN Batch 200 Loss 0.5068 Accuracy 74.5747 AUC 0.7913\n",
            "Epoch 178 TRAIN Batch 250 Loss 0.5072 Accuracy 74.5517 AUC 0.7910\n",
            "Epoch 178 TRAIN Batch 300 Loss 0.5072 Accuracy 74.5639 AUC 0.7911\n",
            "Epoch 178 TRAIN Batch 350 Loss 0.5073 Accuracy 74.5651 AUC 0.7911\n",
            "Epoch 178 TRAIN Batch 400 Loss 0.5074 Accuracy 74.5552 AUC 0.7911\n",
            "Epoch 178 TRAIN Batch 450 Loss 0.5072 Accuracy 74.5608 AUC 0.7912\n",
            "Epoch 178 TRAIN Batch 500 Loss 0.5072 Accuracy 74.5699 AUC 0.7912\n",
            "Epoch 178 TRAIN Batch 550 Loss 0.5073 Accuracy 74.5666 AUC 0.7912\n",
            "Epoch 178 TRAIN Batch 600 Loss 0.5071 Accuracy 74.5786 AUC 0.7913\n",
            "Epoch 178 TRAIN Batch 650 Loss 0.5072 Accuracy 74.5753 AUC 0.7913\n",
            "Epoch 178 TRAIN Batch 700 Loss 0.5073 Accuracy 74.5693 AUC 0.7912\n",
            "Epoch 178 TRAIN Batch 750 Loss 0.5072 Accuracy 74.5739 AUC 0.7913\n"
          ],
          "name": "stdout"
        },
        {
          "output_type": "stream",
          "text": [
            "19-12 22:25 root         INFO     Epoch TRAIN 178 Loss 0.5073 Accuracy 74.5659 AUC 0.7913\n"
          ],
          "name": "stderr"
        },
        {
          "output_type": "stream",
          "text": [
            "Time taken for 1 epoch: 84.5018675327301 secs\n",
            "\n",
            "Epoch 179 TRAIN Batch 0 Loss 0.5065 Accuracy 74.9980 AUC 0.7902\n",
            "Epoch 179 TRAIN Batch 50 Loss 0.5073 Accuracy 74.5638 AUC 0.7913\n",
            "Epoch 179 TRAIN Batch 100 Loss 0.5074 Accuracy 74.5390 AUC 0.7909\n",
            "Epoch 179 TRAIN Batch 150 Loss 0.5073 Accuracy 74.5697 AUC 0.7910\n",
            "Epoch 179 TRAIN Batch 200 Loss 0.5075 Accuracy 74.5581 AUC 0.7911\n",
            "Epoch 179 TRAIN Batch 250 Loss 0.5075 Accuracy 74.5623 AUC 0.7912\n",
            "Epoch 179 TRAIN Batch 300 Loss 0.5073 Accuracy 74.5730 AUC 0.7915\n",
            "Epoch 179 TRAIN Batch 350 Loss 0.5074 Accuracy 74.5697 AUC 0.7915\n",
            "Epoch 179 TRAIN Batch 400 Loss 0.5072 Accuracy 74.5808 AUC 0.7916\n",
            "Epoch 179 TRAIN Batch 450 Loss 0.5073 Accuracy 74.5720 AUC 0.7916\n",
            "Epoch 179 TRAIN Batch 500 Loss 0.5073 Accuracy 74.5658 AUC 0.7915\n",
            "Epoch 179 TRAIN Batch 550 Loss 0.5073 Accuracy 74.5650 AUC 0.7916\n",
            "Epoch 179 TRAIN Batch 600 Loss 0.5073 Accuracy 74.5673 AUC 0.7916\n",
            "Epoch 179 TRAIN Batch 650 Loss 0.5072 Accuracy 74.5716 AUC 0.7916\n",
            "Epoch 179 TRAIN Batch 700 Loss 0.5072 Accuracy 74.5715 AUC 0.7915\n",
            "Epoch 179 TRAIN Batch 750 Loss 0.5073 Accuracy 74.5653 AUC 0.7914\n"
          ],
          "name": "stdout"
        },
        {
          "output_type": "stream",
          "text": [
            "19-12 22:26 root         INFO     Epoch TRAIN 179 Loss 0.5073 Accuracy 74.5634 AUC 0.7914\n"
          ],
          "name": "stderr"
        },
        {
          "output_type": "stream",
          "text": [
            "Time taken for 1 epoch: 84.40499782562256 secs\n",
            "\n",
            "Epoch 180 TRAIN Batch 0 Loss 0.5075 Accuracy 74.8960 AUC 0.7953\n",
            "Epoch 180 TRAIN Batch 50 Loss 0.5075 Accuracy 74.5806 AUC 0.7917\n",
            "Epoch 180 TRAIN Batch 100 Loss 0.5070 Accuracy 74.6120 AUC 0.7915\n",
            "Epoch 180 TRAIN Batch 150 Loss 0.5070 Accuracy 74.5868 AUC 0.7912\n",
            "Epoch 180 TRAIN Batch 200 Loss 0.5076 Accuracy 74.5499 AUC 0.7910\n",
            "Epoch 180 TRAIN Batch 250 Loss 0.5076 Accuracy 74.5477 AUC 0.7911\n",
            "Epoch 180 TRAIN Batch 300 Loss 0.5076 Accuracy 74.5443 AUC 0.7911\n",
            "Epoch 180 TRAIN Batch 350 Loss 0.5072 Accuracy 74.5637 AUC 0.7914\n",
            "Epoch 180 TRAIN Batch 400 Loss 0.5072 Accuracy 74.5688 AUC 0.7915\n",
            "Epoch 180 TRAIN Batch 450 Loss 0.5070 Accuracy 74.5852 AUC 0.7916\n",
            "Epoch 180 TRAIN Batch 500 Loss 0.5068 Accuracy 74.5963 AUC 0.7917\n",
            "Epoch 180 TRAIN Batch 550 Loss 0.5067 Accuracy 74.6034 AUC 0.7917\n",
            "Epoch 180 TRAIN Batch 600 Loss 0.5066 Accuracy 74.6088 AUC 0.7917\n",
            "Epoch 180 TRAIN Batch 650 Loss 0.5066 Accuracy 74.6016 AUC 0.7917\n",
            "Epoch 180 TRAIN Batch 700 Loss 0.5067 Accuracy 74.5939 AUC 0.7916\n",
            "Epoch 180 TRAIN Batch 750 Loss 0.5068 Accuracy 74.5920 AUC 0.7916\n"
          ],
          "name": "stdout"
        },
        {
          "output_type": "stream",
          "text": [
            "19-12 22:28 root         INFO     Epoch TRAIN 180 Loss 0.5068 Accuracy 74.5941 AUC 0.7916\n"
          ],
          "name": "stderr"
        },
        {
          "output_type": "stream",
          "text": [
            "Epoch 180 VAL Batch 0 Loss 0.5129 Accuracy 74.1760 AUC 0.7851\n",
            "Epoch 180 VAL Batch 50 Loss 0.5129 Accuracy 74.2421 AUC 0.7872\n",
            "Epoch 180 VAL Batch 100 Loss 0.5121 Accuracy 74.3157 AUC 0.7879\n",
            "Epoch 180 VAL Batch 150 Loss 0.5120 Accuracy 74.3202 AUC 0.7877\n",
            "Epoch 180 VAL Batch 200 Loss 0.5121 Accuracy 74.2913 AUC 0.7878\n",
            "Epoch 180 VAL Batch 250 Loss 0.5118 Accuracy 74.3232 AUC 0.7881\n",
            "Epoch 180 VAL Batch 300 Loss 0.5116 Accuracy 74.3491 AUC 0.7882\n",
            "Epoch 180 VAL Batch 350 Loss 0.5117 Accuracy 74.3523 AUC 0.7883\n",
            "Epoch 180 VAL Batch 400 Loss 0.5114 Accuracy 74.3689 AUC 0.7885\n",
            "Epoch 180 VAL Batch 450 Loss 0.5111 Accuracy 74.3976 AUC 0.7886\n",
            "Epoch 180 VAL Batch 500 Loss 0.5111 Accuracy 74.3936 AUC 0.7886\n",
            "Epoch 180 VAL Batch 550 Loss 0.5112 Accuracy 74.3894 AUC 0.7884\n",
            "Epoch 180 VAL Batch 600 Loss 0.5109 Accuracy 74.4069 AUC 0.7886\n",
            "Epoch 180 VAL Batch 650 Loss 0.5110 Accuracy 74.4035 AUC 0.7886\n",
            "Epoch 180 VAL Batch 700 Loss 0.5110 Accuracy 74.4042 AUC 0.7886\n",
            "Epoch 180 VAL Batch 750 Loss 0.5109 Accuracy 74.4096 AUC 0.7886\n"
          ],
          "name": "stdout"
        },
        {
          "output_type": "stream",
          "text": [
            "19-12 22:28 root         INFO     Epoch VAL 180 Loss 0.5109 Accuracy 74.4088 AUC 0.7887\n",
            "19-12 22:28 root         INFO     Saving checkpoint for epoch 180 at 19-Dec-riiid-2/checkpoints/ckpt-35\n"
          ],
          "name": "stderr"
        },
        {
          "output_type": "stream",
          "text": [
            "Time taken for 1 epoch: 103.38123822212219 secs\n",
            "\n",
            "Epoch 181 TRAIN Batch 0 Loss 0.5165 Accuracy 73.5923 AUC 0.7795\n",
            "Epoch 181 TRAIN Batch 50 Loss 0.5055 Accuracy 74.7713 AUC 0.7925\n",
            "Epoch 181 TRAIN Batch 100 Loss 0.5071 Accuracy 74.5829 AUC 0.7912\n",
            "Epoch 181 TRAIN Batch 150 Loss 0.5065 Accuracy 74.6222 AUC 0.7915\n",
            "Epoch 181 TRAIN Batch 200 Loss 0.5068 Accuracy 74.6168 AUC 0.7913\n",
            "Epoch 181 TRAIN Batch 250 Loss 0.5068 Accuracy 74.6087 AUC 0.7913\n",
            "Epoch 181 TRAIN Batch 300 Loss 0.5069 Accuracy 74.6052 AUC 0.7913\n",
            "Epoch 181 TRAIN Batch 350 Loss 0.5069 Accuracy 74.5970 AUC 0.7914\n",
            "Epoch 181 TRAIN Batch 400 Loss 0.5068 Accuracy 74.6034 AUC 0.7917\n",
            "Epoch 181 TRAIN Batch 450 Loss 0.5068 Accuracy 74.6053 AUC 0.7918\n",
            "Epoch 181 TRAIN Batch 500 Loss 0.5068 Accuracy 74.6106 AUC 0.7918\n",
            "Epoch 181 TRAIN Batch 550 Loss 0.5068 Accuracy 74.6080 AUC 0.7919\n",
            "Epoch 181 TRAIN Batch 600 Loss 0.5066 Accuracy 74.6102 AUC 0.7919\n",
            "Epoch 181 TRAIN Batch 650 Loss 0.5068 Accuracy 74.6029 AUC 0.7919\n",
            "Epoch 181 TRAIN Batch 700 Loss 0.5067 Accuracy 74.6102 AUC 0.7919\n",
            "Epoch 181 TRAIN Batch 750 Loss 0.5067 Accuracy 74.6063 AUC 0.7919\n"
          ],
          "name": "stdout"
        },
        {
          "output_type": "stream",
          "text": [
            "19-12 22:29 root         INFO     Epoch TRAIN 181 Loss 0.5067 Accuracy 74.6092 AUC 0.7919\n"
          ],
          "name": "stderr"
        },
        {
          "output_type": "stream",
          "text": [
            "Time taken for 1 epoch: 85.8283634185791 secs\n",
            "\n",
            "Epoch 182 TRAIN Batch 0 Loss 0.4942 Accuracy 75.8336 AUC 0.7949\n",
            "Epoch 182 TRAIN Batch 50 Loss 0.5068 Accuracy 74.6069 AUC 0.7917\n",
            "Epoch 182 TRAIN Batch 100 Loss 0.5069 Accuracy 74.5998 AUC 0.7914\n",
            "Epoch 182 TRAIN Batch 150 Loss 0.5071 Accuracy 74.5771 AUC 0.7915\n",
            "Epoch 182 TRAIN Batch 200 Loss 0.5070 Accuracy 74.5748 AUC 0.7914\n",
            "Epoch 182 TRAIN Batch 250 Loss 0.5070 Accuracy 74.5763 AUC 0.7915\n",
            "Epoch 182 TRAIN Batch 300 Loss 0.5069 Accuracy 74.5880 AUC 0.7915\n",
            "Epoch 182 TRAIN Batch 350 Loss 0.5068 Accuracy 74.5931 AUC 0.7916\n",
            "Epoch 182 TRAIN Batch 400 Loss 0.5071 Accuracy 74.5736 AUC 0.7915\n",
            "Epoch 182 TRAIN Batch 450 Loss 0.5071 Accuracy 74.5735 AUC 0.7915\n",
            "Epoch 182 TRAIN Batch 500 Loss 0.5070 Accuracy 74.5794 AUC 0.7916\n",
            "Epoch 182 TRAIN Batch 550 Loss 0.5071 Accuracy 74.5697 AUC 0.7916\n",
            "Epoch 182 TRAIN Batch 600 Loss 0.5071 Accuracy 74.5756 AUC 0.7917\n",
            "Epoch 182 TRAIN Batch 650 Loss 0.5071 Accuracy 74.5716 AUC 0.7917\n",
            "Epoch 182 TRAIN Batch 700 Loss 0.5070 Accuracy 74.5768 AUC 0.7918\n",
            "Epoch 182 TRAIN Batch 750 Loss 0.5069 Accuracy 74.5828 AUC 0.7918\n"
          ],
          "name": "stdout"
        },
        {
          "output_type": "stream",
          "text": [
            "19-12 22:31 root         INFO     Epoch TRAIN 182 Loss 0.5070 Accuracy 74.5773 AUC 0.7918\n"
          ],
          "name": "stderr"
        },
        {
          "output_type": "stream",
          "text": [
            "Time taken for 1 epoch: 84.93775939941406 secs\n",
            "\n",
            "Epoch 183 TRAIN Batch 0 Loss 0.5233 Accuracy 73.9076 AUC 0.7831\n",
            "Epoch 183 TRAIN Batch 50 Loss 0.5068 Accuracy 74.5952 AUC 0.7918\n",
            "Epoch 183 TRAIN Batch 100 Loss 0.5061 Accuracy 74.6638 AUC 0.7924\n",
            "Epoch 183 TRAIN Batch 150 Loss 0.5065 Accuracy 74.6131 AUC 0.7921\n",
            "Epoch 183 TRAIN Batch 200 Loss 0.5074 Accuracy 74.5366 AUC 0.7915\n",
            "Epoch 183 TRAIN Batch 250 Loss 0.5068 Accuracy 74.5802 AUC 0.7918\n",
            "Epoch 183 TRAIN Batch 300 Loss 0.5070 Accuracy 74.5709 AUC 0.7919\n",
            "Epoch 183 TRAIN Batch 350 Loss 0.5070 Accuracy 74.5622 AUC 0.7918\n",
            "Epoch 183 TRAIN Batch 400 Loss 0.5070 Accuracy 74.5642 AUC 0.7918\n",
            "Epoch 183 TRAIN Batch 450 Loss 0.5069 Accuracy 74.5750 AUC 0.7919\n",
            "Epoch 183 TRAIN Batch 500 Loss 0.5068 Accuracy 74.5889 AUC 0.7919\n",
            "Epoch 183 TRAIN Batch 550 Loss 0.5069 Accuracy 74.5802 AUC 0.7919\n",
            "Epoch 183 TRAIN Batch 600 Loss 0.5070 Accuracy 74.5774 AUC 0.7919\n",
            "Epoch 183 TRAIN Batch 650 Loss 0.5070 Accuracy 74.5737 AUC 0.7919\n",
            "Epoch 183 TRAIN Batch 700 Loss 0.5071 Accuracy 74.5661 AUC 0.7917\n",
            "Epoch 183 TRAIN Batch 750 Loss 0.5070 Accuracy 74.5751 AUC 0.7918\n"
          ],
          "name": "stdout"
        },
        {
          "output_type": "stream",
          "text": [
            "19-12 22:32 root         INFO     Epoch TRAIN 183 Loss 0.5069 Accuracy 74.5812 AUC 0.7919\n"
          ],
          "name": "stderr"
        },
        {
          "output_type": "stream",
          "text": [
            "Time taken for 1 epoch: 85.29223847389221 secs\n",
            "\n",
            "Epoch 184 TRAIN Batch 0 Loss 0.5152 Accuracy 73.4789 AUC 0.7893\n",
            "Epoch 184 TRAIN Batch 50 Loss 0.5061 Accuracy 74.6840 AUC 0.7914\n",
            "Epoch 184 TRAIN Batch 100 Loss 0.5054 Accuracy 74.7382 AUC 0.7920\n",
            "Epoch 184 TRAIN Batch 150 Loss 0.5056 Accuracy 74.7252 AUC 0.7919\n",
            "Epoch 184 TRAIN Batch 200 Loss 0.5058 Accuracy 74.7111 AUC 0.7919\n",
            "Epoch 184 TRAIN Batch 250 Loss 0.5058 Accuracy 74.7145 AUC 0.7919\n",
            "Epoch 184 TRAIN Batch 300 Loss 0.5059 Accuracy 74.7060 AUC 0.7919\n",
            "Epoch 184 TRAIN Batch 350 Loss 0.5060 Accuracy 74.7022 AUC 0.7921\n",
            "Epoch 184 TRAIN Batch 400 Loss 0.5062 Accuracy 74.6855 AUC 0.7920\n",
            "Epoch 184 TRAIN Batch 450 Loss 0.5062 Accuracy 74.6734 AUC 0.7920\n",
            "Epoch 184 TRAIN Batch 500 Loss 0.5063 Accuracy 74.6663 AUC 0.7921\n",
            "Epoch 184 TRAIN Batch 550 Loss 0.5064 Accuracy 74.6632 AUC 0.7921\n",
            "Epoch 184 TRAIN Batch 600 Loss 0.5065 Accuracy 74.6535 AUC 0.7920\n",
            "Epoch 184 TRAIN Batch 650 Loss 0.5065 Accuracy 74.6488 AUC 0.7919\n",
            "Epoch 184 TRAIN Batch 700 Loss 0.5064 Accuracy 74.6473 AUC 0.7920\n",
            "Epoch 184 TRAIN Batch 750 Loss 0.5065 Accuracy 74.6421 AUC 0.7919\n"
          ],
          "name": "stdout"
        },
        {
          "output_type": "stream",
          "text": [
            "19-12 22:34 root         INFO     Epoch TRAIN 184 Loss 0.5064 Accuracy 74.6538 AUC 0.7920\n"
          ],
          "name": "stderr"
        },
        {
          "output_type": "stream",
          "text": [
            "Time taken for 1 epoch: 85.59441876411438 secs\n",
            "\n",
            "Epoch 185 TRAIN Batch 0 Loss 0.5182 Accuracy 73.8698 AUC 0.7795\n",
            "Epoch 185 TRAIN Batch 50 Loss 0.5064 Accuracy 74.6497 AUC 0.7910\n",
            "Epoch 185 TRAIN Batch 100 Loss 0.5065 Accuracy 74.6028 AUC 0.7913\n",
            "Epoch 185 TRAIN Batch 150 Loss 0.5067 Accuracy 74.5993 AUC 0.7914\n",
            "Epoch 185 TRAIN Batch 200 Loss 0.5069 Accuracy 74.5862 AUC 0.7913\n",
            "Epoch 185 TRAIN Batch 250 Loss 0.5064 Accuracy 74.6273 AUC 0.7916\n",
            "Epoch 185 TRAIN Batch 300 Loss 0.5066 Accuracy 74.6234 AUC 0.7916\n",
            "Epoch 185 TRAIN Batch 350 Loss 0.5065 Accuracy 74.6169 AUC 0.7917\n",
            "Epoch 185 TRAIN Batch 400 Loss 0.5064 Accuracy 74.6239 AUC 0.7919\n",
            "Epoch 185 TRAIN Batch 450 Loss 0.5063 Accuracy 74.6320 AUC 0.7920\n",
            "Epoch 185 TRAIN Batch 500 Loss 0.5062 Accuracy 74.6468 AUC 0.7920\n",
            "Epoch 185 TRAIN Batch 550 Loss 0.5063 Accuracy 74.6361 AUC 0.7921\n",
            "Epoch 185 TRAIN Batch 600 Loss 0.5062 Accuracy 74.6464 AUC 0.7922\n",
            "Epoch 185 TRAIN Batch 650 Loss 0.5065 Accuracy 74.6284 AUC 0.7920\n",
            "Epoch 185 TRAIN Batch 700 Loss 0.5064 Accuracy 74.6314 AUC 0.7920\n",
            "Epoch 185 TRAIN Batch 750 Loss 0.5064 Accuracy 74.6341 AUC 0.7921\n"
          ],
          "name": "stdout"
        },
        {
          "output_type": "stream",
          "text": [
            "19-12 22:35 root         INFO     Epoch TRAIN 185 Loss 0.5063 Accuracy 74.6412 AUC 0.7922\n"
          ],
          "name": "stderr"
        },
        {
          "output_type": "stream",
          "text": [
            "Epoch 185 VAL Batch 0 Loss 0.5139 Accuracy 73.9160 AUC 0.7841\n",
            "Epoch 185 VAL Batch 50 Loss 0.5130 Accuracy 74.1830 AUC 0.7874\n",
            "Epoch 185 VAL Batch 100 Loss 0.5122 Accuracy 74.2720 AUC 0.7881\n",
            "Epoch 185 VAL Batch 150 Loss 0.5121 Accuracy 74.2874 AUC 0.7879\n",
            "Epoch 185 VAL Batch 200 Loss 0.5123 Accuracy 74.2613 AUC 0.7880\n",
            "Epoch 185 VAL Batch 250 Loss 0.5120 Accuracy 74.2957 AUC 0.7883\n",
            "Epoch 185 VAL Batch 300 Loss 0.5117 Accuracy 74.3193 AUC 0.7884\n",
            "Epoch 185 VAL Batch 350 Loss 0.5118 Accuracy 74.3237 AUC 0.7885\n",
            "Epoch 185 VAL Batch 400 Loss 0.5115 Accuracy 74.3433 AUC 0.7886\n",
            "Epoch 185 VAL Batch 450 Loss 0.5112 Accuracy 74.3705 AUC 0.7888\n",
            "Epoch 185 VAL Batch 500 Loss 0.5113 Accuracy 74.3623 AUC 0.7887\n",
            "Epoch 185 VAL Batch 550 Loss 0.5113 Accuracy 74.3594 AUC 0.7886\n",
            "Epoch 185 VAL Batch 600 Loss 0.5111 Accuracy 74.3763 AUC 0.7888\n",
            "Epoch 185 VAL Batch 650 Loss 0.5111 Accuracy 74.3730 AUC 0.7888\n",
            "Epoch 185 VAL Batch 700 Loss 0.5111 Accuracy 74.3741 AUC 0.7888\n",
            "Epoch 185 VAL Batch 750 Loss 0.5111 Accuracy 74.3799 AUC 0.7888\n"
          ],
          "name": "stdout"
        },
        {
          "output_type": "stream",
          "text": [
            "19-12 22:35 root         INFO     Epoch VAL 185 Loss 0.5111 Accuracy 74.3809 AUC 0.7888\n",
            "19-12 22:35 root         INFO     Saving checkpoint for epoch 185 at 19-Dec-riiid-2/checkpoints/ckpt-36\n"
          ],
          "name": "stderr"
        },
        {
          "output_type": "stream",
          "text": [
            "Time taken for 1 epoch: 102.78150153160095 secs\n",
            "\n",
            "Epoch 186 TRAIN Batch 0 Loss 0.5206 Accuracy 73.5908 AUC 0.7896\n",
            "Epoch 186 TRAIN Batch 50 Loss 0.5085 Accuracy 74.4326 AUC 0.7912\n",
            "Epoch 186 TRAIN Batch 100 Loss 0.5074 Accuracy 74.5332 AUC 0.7915\n",
            "Epoch 186 TRAIN Batch 150 Loss 0.5066 Accuracy 74.5666 AUC 0.7920\n",
            "Epoch 186 TRAIN Batch 200 Loss 0.5068 Accuracy 74.5609 AUC 0.7919\n",
            "Epoch 186 TRAIN Batch 250 Loss 0.5065 Accuracy 74.5885 AUC 0.7920\n",
            "Epoch 186 TRAIN Batch 300 Loss 0.5067 Accuracy 74.5671 AUC 0.7920\n",
            "Epoch 186 TRAIN Batch 350 Loss 0.5066 Accuracy 74.5793 AUC 0.7919\n",
            "Epoch 186 TRAIN Batch 400 Loss 0.5063 Accuracy 74.6071 AUC 0.7921\n",
            "Epoch 186 TRAIN Batch 450 Loss 0.5064 Accuracy 74.5956 AUC 0.7920\n",
            "Epoch 186 TRAIN Batch 500 Loss 0.5066 Accuracy 74.5881 AUC 0.7920\n",
            "Epoch 186 TRAIN Batch 550 Loss 0.5066 Accuracy 74.5881 AUC 0.7919\n",
            "Epoch 186 TRAIN Batch 600 Loss 0.5067 Accuracy 74.5812 AUC 0.7919\n",
            "Epoch 186 TRAIN Batch 650 Loss 0.5068 Accuracy 74.5744 AUC 0.7918\n",
            "Epoch 186 TRAIN Batch 700 Loss 0.5068 Accuracy 74.5739 AUC 0.7918\n",
            "Epoch 186 TRAIN Batch 750 Loss 0.5068 Accuracy 74.5759 AUC 0.7918\n"
          ],
          "name": "stdout"
        },
        {
          "output_type": "stream",
          "text": [
            "19-12 22:37 root         INFO     Epoch TRAIN 186 Loss 0.5068 Accuracy 74.5775 AUC 0.7918\n"
          ],
          "name": "stderr"
        },
        {
          "output_type": "stream",
          "text": [
            "Time taken for 1 epoch: 85.07782554626465 secs\n",
            "\n",
            "Epoch 187 TRAIN Batch 0 Loss 0.4978 Accuracy 74.8985 AUC 0.7932\n",
            "Epoch 187 TRAIN Batch 50 Loss 0.5066 Accuracy 74.6767 AUC 0.7917\n",
            "Epoch 187 TRAIN Batch 100 Loss 0.5065 Accuracy 74.6375 AUC 0.7921\n",
            "Epoch 187 TRAIN Batch 150 Loss 0.5068 Accuracy 74.6093 AUC 0.7919\n",
            "Epoch 187 TRAIN Batch 200 Loss 0.5065 Accuracy 74.6403 AUC 0.7920\n",
            "Epoch 187 TRAIN Batch 250 Loss 0.5066 Accuracy 74.6248 AUC 0.7918\n",
            "Epoch 187 TRAIN Batch 300 Loss 0.5070 Accuracy 74.5873 AUC 0.7916\n",
            "Epoch 187 TRAIN Batch 350 Loss 0.5067 Accuracy 74.6094 AUC 0.7918\n",
            "Epoch 187 TRAIN Batch 400 Loss 0.5064 Accuracy 74.6204 AUC 0.7918\n",
            "Epoch 187 TRAIN Batch 450 Loss 0.5064 Accuracy 74.6149 AUC 0.7920\n",
            "Epoch 187 TRAIN Batch 500 Loss 0.5063 Accuracy 74.6122 AUC 0.7921\n",
            "Epoch 187 TRAIN Batch 550 Loss 0.5063 Accuracy 74.6105 AUC 0.7921\n",
            "Epoch 187 TRAIN Batch 600 Loss 0.5063 Accuracy 74.6151 AUC 0.7921\n",
            "Epoch 187 TRAIN Batch 650 Loss 0.5063 Accuracy 74.6230 AUC 0.7922\n",
            "Epoch 187 TRAIN Batch 700 Loss 0.5063 Accuracy 74.6243 AUC 0.7921\n",
            "Epoch 187 TRAIN Batch 750 Loss 0.5063 Accuracy 74.6193 AUC 0.7920\n"
          ],
          "name": "stdout"
        },
        {
          "output_type": "stream",
          "text": [
            "19-12 22:38 root         INFO     Epoch TRAIN 187 Loss 0.5064 Accuracy 74.6173 AUC 0.7920\n"
          ],
          "name": "stderr"
        },
        {
          "output_type": "stream",
          "text": [
            "Time taken for 1 epoch: 85.9219696521759 secs\n",
            "\n",
            "Epoch 188 TRAIN Batch 0 Loss 0.5082 Accuracy 74.6137 AUC 0.7847\n",
            "Epoch 188 TRAIN Batch 50 Loss 0.5062 Accuracy 74.6780 AUC 0.7916\n",
            "Epoch 188 TRAIN Batch 100 Loss 0.5053 Accuracy 74.7038 AUC 0.7925\n",
            "Epoch 188 TRAIN Batch 150 Loss 0.5061 Accuracy 74.6562 AUC 0.7922\n",
            "Epoch 188 TRAIN Batch 200 Loss 0.5059 Accuracy 74.6674 AUC 0.7924\n",
            "Epoch 188 TRAIN Batch 250 Loss 0.5066 Accuracy 74.6286 AUC 0.7921\n",
            "Epoch 188 TRAIN Batch 300 Loss 0.5067 Accuracy 74.6145 AUC 0.7920\n",
            "Epoch 188 TRAIN Batch 350 Loss 0.5068 Accuracy 74.6067 AUC 0.7921\n",
            "Epoch 188 TRAIN Batch 400 Loss 0.5068 Accuracy 74.6042 AUC 0.7920\n",
            "Epoch 188 TRAIN Batch 450 Loss 0.5068 Accuracy 74.6037 AUC 0.7920\n",
            "Epoch 188 TRAIN Batch 500 Loss 0.5066 Accuracy 74.6158 AUC 0.7920\n",
            "Epoch 188 TRAIN Batch 550 Loss 0.5064 Accuracy 74.6301 AUC 0.7921\n",
            "Epoch 188 TRAIN Batch 600 Loss 0.5065 Accuracy 74.6267 AUC 0.7922\n",
            "Epoch 188 TRAIN Batch 650 Loss 0.5066 Accuracy 74.6200 AUC 0.7921\n",
            "Epoch 188 TRAIN Batch 700 Loss 0.5067 Accuracy 74.6208 AUC 0.7921\n",
            "Epoch 188 TRAIN Batch 750 Loss 0.5066 Accuracy 74.6205 AUC 0.7922\n"
          ],
          "name": "stdout"
        },
        {
          "output_type": "stream",
          "text": [
            "19-12 22:40 root         INFO     Epoch TRAIN 188 Loss 0.5065 Accuracy 74.6288 AUC 0.7923\n"
          ],
          "name": "stderr"
        },
        {
          "output_type": "stream",
          "text": [
            "Time taken for 1 epoch: 84.7065703868866 secs\n",
            "\n",
            "Epoch 189 TRAIN Batch 0 Loss 0.5080 Accuracy 74.6267 AUC 0.7905\n",
            "Epoch 189 TRAIN Batch 50 Loss 0.5061 Accuracy 74.5548 AUC 0.7933\n",
            "Epoch 189 TRAIN Batch 100 Loss 0.5060 Accuracy 74.5883 AUC 0.7933\n",
            "Epoch 189 TRAIN Batch 150 Loss 0.5064 Accuracy 74.5777 AUC 0.7925\n",
            "Epoch 189 TRAIN Batch 200 Loss 0.5064 Accuracy 74.5895 AUC 0.7926\n",
            "Epoch 189 TRAIN Batch 250 Loss 0.5065 Accuracy 74.6046 AUC 0.7924\n",
            "Epoch 189 TRAIN Batch 300 Loss 0.5067 Accuracy 74.5876 AUC 0.7923\n",
            "Epoch 189 TRAIN Batch 350 Loss 0.5065 Accuracy 74.6109 AUC 0.7921\n",
            "Epoch 189 TRAIN Batch 400 Loss 0.5065 Accuracy 74.6163 AUC 0.7922\n",
            "Epoch 189 TRAIN Batch 450 Loss 0.5064 Accuracy 74.6260 AUC 0.7923\n",
            "Epoch 189 TRAIN Batch 500 Loss 0.5064 Accuracy 74.6337 AUC 0.7922\n",
            "Epoch 189 TRAIN Batch 550 Loss 0.5064 Accuracy 74.6314 AUC 0.7922\n",
            "Epoch 189 TRAIN Batch 600 Loss 0.5061 Accuracy 74.6442 AUC 0.7923\n",
            "Epoch 189 TRAIN Batch 650 Loss 0.5062 Accuracy 74.6407 AUC 0.7923\n",
            "Epoch 189 TRAIN Batch 700 Loss 0.5062 Accuracy 74.6431 AUC 0.7923\n",
            "Epoch 189 TRAIN Batch 750 Loss 0.5062 Accuracy 74.6391 AUC 0.7923\n"
          ],
          "name": "stdout"
        },
        {
          "output_type": "stream",
          "text": [
            "19-12 22:41 root         INFO     Epoch TRAIN 189 Loss 0.5062 Accuracy 74.6340 AUC 0.7922\n"
          ],
          "name": "stderr"
        },
        {
          "output_type": "stream",
          "text": [
            "Time taken for 1 epoch: 85.42981004714966 secs\n",
            "\n",
            "Epoch 190 TRAIN Batch 0 Loss 0.5063 Accuracy 74.9101 AUC 0.7930\n",
            "Epoch 190 TRAIN Batch 50 Loss 0.5048 Accuracy 74.6689 AUC 0.7923\n",
            "Epoch 190 TRAIN Batch 100 Loss 0.5056 Accuracy 74.6408 AUC 0.7926\n",
            "Epoch 190 TRAIN Batch 150 Loss 0.5065 Accuracy 74.5827 AUC 0.7922\n",
            "Epoch 190 TRAIN Batch 200 Loss 0.5066 Accuracy 74.5924 AUC 0.7920\n",
            "Epoch 190 TRAIN Batch 250 Loss 0.5066 Accuracy 74.5953 AUC 0.7918\n",
            "Epoch 190 TRAIN Batch 300 Loss 0.5068 Accuracy 74.5903 AUC 0.7918\n",
            "Epoch 190 TRAIN Batch 350 Loss 0.5067 Accuracy 74.6003 AUC 0.7918\n",
            "Epoch 190 TRAIN Batch 400 Loss 0.5069 Accuracy 74.5881 AUC 0.7918\n",
            "Epoch 190 TRAIN Batch 450 Loss 0.5067 Accuracy 74.6025 AUC 0.7919\n",
            "Epoch 190 TRAIN Batch 500 Loss 0.5067 Accuracy 74.6030 AUC 0.7919\n",
            "Epoch 190 TRAIN Batch 550 Loss 0.5066 Accuracy 74.6024 AUC 0.7920\n",
            "Epoch 190 TRAIN Batch 600 Loss 0.5066 Accuracy 74.6095 AUC 0.7921\n",
            "Epoch 190 TRAIN Batch 650 Loss 0.5065 Accuracy 74.6088 AUC 0.7921\n",
            "Epoch 190 TRAIN Batch 700 Loss 0.5066 Accuracy 74.6055 AUC 0.7922\n",
            "Epoch 190 TRAIN Batch 750 Loss 0.5064 Accuracy 74.6175 AUC 0.7922\n"
          ],
          "name": "stdout"
        },
        {
          "output_type": "stream",
          "text": [
            "19-12 22:43 root         INFO     Epoch TRAIN 190 Loss 0.5064 Accuracy 74.6144 AUC 0.7922\n"
          ],
          "name": "stderr"
        },
        {
          "output_type": "stream",
          "text": [
            "Epoch 190 VAL Batch 0 Loss 0.5139 Accuracy 74.2095 AUC 0.7839\n",
            "Epoch 190 VAL Batch 50 Loss 0.5124 Accuracy 74.2506 AUC 0.7877\n",
            "Epoch 190 VAL Batch 100 Loss 0.5117 Accuracy 74.3310 AUC 0.7885\n",
            "Epoch 190 VAL Batch 150 Loss 0.5116 Accuracy 74.3407 AUC 0.7882\n",
            "Epoch 190 VAL Batch 200 Loss 0.5118 Accuracy 74.2999 AUC 0.7883\n",
            "Epoch 190 VAL Batch 250 Loss 0.5115 Accuracy 74.3277 AUC 0.7885\n",
            "Epoch 190 VAL Batch 300 Loss 0.5112 Accuracy 74.3496 AUC 0.7887\n",
            "Epoch 190 VAL Batch 350 Loss 0.5113 Accuracy 74.3527 AUC 0.7888\n",
            "Epoch 190 VAL Batch 400 Loss 0.5111 Accuracy 74.3711 AUC 0.7889\n",
            "Epoch 190 VAL Batch 450 Loss 0.5107 Accuracy 74.3991 AUC 0.7891\n",
            "Epoch 190 VAL Batch 500 Loss 0.5108 Accuracy 74.3947 AUC 0.7890\n",
            "Epoch 190 VAL Batch 550 Loss 0.5108 Accuracy 74.3958 AUC 0.7889\n",
            "Epoch 190 VAL Batch 600 Loss 0.5106 Accuracy 74.4100 AUC 0.7891\n",
            "Epoch 190 VAL Batch 650 Loss 0.5106 Accuracy 74.4053 AUC 0.7890\n",
            "Epoch 190 VAL Batch 700 Loss 0.5107 Accuracy 74.4094 AUC 0.7890\n",
            "Epoch 190 VAL Batch 750 Loss 0.5106 Accuracy 74.4144 AUC 0.7891\n"
          ],
          "name": "stdout"
        },
        {
          "output_type": "stream",
          "text": [
            "19-12 22:43 root         INFO     Epoch VAL 190 Loss 0.5106 Accuracy 74.4145 AUC 0.7891\n",
            "19-12 22:43 root         INFO     Saving checkpoint for epoch 190 at 19-Dec-riiid-2/checkpoints/ckpt-37\n"
          ],
          "name": "stderr"
        },
        {
          "output_type": "stream",
          "text": [
            "Time taken for 1 epoch: 102.47371101379395 secs\n",
            "\n",
            "Epoch 191 TRAIN Batch 0 Loss 0.5089 Accuracy 74.3645 AUC 0.7900\n",
            "Epoch 191 TRAIN Batch 50 Loss 0.5059 Accuracy 74.6183 AUC 0.7924\n",
            "Epoch 191 TRAIN Batch 100 Loss 0.5057 Accuracy 74.6043 AUC 0.7926\n",
            "Epoch 191 TRAIN Batch 150 Loss 0.5056 Accuracy 74.6329 AUC 0.7926\n",
            "Epoch 191 TRAIN Batch 200 Loss 0.5058 Accuracy 74.6221 AUC 0.7923\n",
            "Epoch 191 TRAIN Batch 250 Loss 0.5058 Accuracy 74.6209 AUC 0.7924\n",
            "Epoch 191 TRAIN Batch 300 Loss 0.5059 Accuracy 74.6171 AUC 0.7922\n",
            "Epoch 191 TRAIN Batch 350 Loss 0.5061 Accuracy 74.6106 AUC 0.7921\n",
            "Epoch 191 TRAIN Batch 400 Loss 0.5062 Accuracy 74.6123 AUC 0.7922\n",
            "Epoch 191 TRAIN Batch 450 Loss 0.5060 Accuracy 74.6276 AUC 0.7923\n",
            "Epoch 191 TRAIN Batch 500 Loss 0.5060 Accuracy 74.6314 AUC 0.7922\n",
            "Epoch 191 TRAIN Batch 550 Loss 0.5060 Accuracy 74.6289 AUC 0.7923\n",
            "Epoch 191 TRAIN Batch 600 Loss 0.5059 Accuracy 74.6407 AUC 0.7922\n",
            "Epoch 191 TRAIN Batch 650 Loss 0.5060 Accuracy 74.6347 AUC 0.7923\n",
            "Epoch 191 TRAIN Batch 700 Loss 0.5060 Accuracy 74.6369 AUC 0.7922\n",
            "Epoch 191 TRAIN Batch 750 Loss 0.5060 Accuracy 74.6378 AUC 0.7923\n"
          ],
          "name": "stdout"
        },
        {
          "output_type": "stream",
          "text": [
            "19-12 22:44 root         INFO     Epoch TRAIN 191 Loss 0.5060 Accuracy 74.6385 AUC 0.7922\n"
          ],
          "name": "stderr"
        },
        {
          "output_type": "stream",
          "text": [
            "Time taken for 1 epoch: 86.56790375709534 secs\n",
            "\n",
            "Epoch 192 TRAIN Batch 0 Loss 0.4936 Accuracy 75.6818 AUC 0.8004\n",
            "Epoch 192 TRAIN Batch 50 Loss 0.5061 Accuracy 74.5925 AUC 0.7920\n",
            "Epoch 192 TRAIN Batch 100 Loss 0.5067 Accuracy 74.5935 AUC 0.7917\n",
            "Epoch 192 TRAIN Batch 150 Loss 0.5072 Accuracy 74.5493 AUC 0.7918\n",
            "Epoch 192 TRAIN Batch 200 Loss 0.5073 Accuracy 74.5526 AUC 0.7919\n",
            "Epoch 192 TRAIN Batch 250 Loss 0.5075 Accuracy 74.5331 AUC 0.7916\n",
            "Epoch 192 TRAIN Batch 300 Loss 0.5075 Accuracy 74.5340 AUC 0.7915\n",
            "Epoch 192 TRAIN Batch 350 Loss 0.5069 Accuracy 74.5746 AUC 0.7920\n",
            "Epoch 192 TRAIN Batch 400 Loss 0.5067 Accuracy 74.5960 AUC 0.7922\n",
            "Epoch 192 TRAIN Batch 450 Loss 0.5069 Accuracy 74.5878 AUC 0.7921\n",
            "Epoch 192 TRAIN Batch 500 Loss 0.5068 Accuracy 74.5910 AUC 0.7920\n",
            "Epoch 192 TRAIN Batch 550 Loss 0.5068 Accuracy 74.5997 AUC 0.7921\n",
            "Epoch 192 TRAIN Batch 600 Loss 0.5065 Accuracy 74.6211 AUC 0.7923\n",
            "Epoch 192 TRAIN Batch 650 Loss 0.5065 Accuracy 74.6180 AUC 0.7923\n",
            "Epoch 192 TRAIN Batch 700 Loss 0.5066 Accuracy 74.6116 AUC 0.7922\n",
            "Epoch 192 TRAIN Batch 750 Loss 0.5065 Accuracy 74.6095 AUC 0.7922\n"
          ],
          "name": "stdout"
        },
        {
          "output_type": "stream",
          "text": [
            "19-12 22:46 root         INFO     Epoch TRAIN 192 Loss 0.5065 Accuracy 74.6101 AUC 0.7922\n"
          ],
          "name": "stderr"
        },
        {
          "output_type": "stream",
          "text": [
            "Time taken for 1 epoch: 84.45811939239502 secs\n",
            "\n",
            "Epoch 193 TRAIN Batch 0 Loss 0.5024 Accuracy 74.6746 AUC 0.7954\n",
            "Epoch 193 TRAIN Batch 50 Loss 0.5070 Accuracy 74.5396 AUC 0.7918\n",
            "Epoch 193 TRAIN Batch 100 Loss 0.5049 Accuracy 74.7252 AUC 0.7929\n",
            "Epoch 193 TRAIN Batch 150 Loss 0.5047 Accuracy 74.7658 AUC 0.7931\n",
            "Epoch 193 TRAIN Batch 200 Loss 0.5054 Accuracy 74.7064 AUC 0.7929\n",
            "Epoch 193 TRAIN Batch 250 Loss 0.5058 Accuracy 74.6647 AUC 0.7929\n",
            "Epoch 193 TRAIN Batch 300 Loss 0.5059 Accuracy 74.6578 AUC 0.7928\n",
            "Epoch 193 TRAIN Batch 350 Loss 0.5059 Accuracy 74.6534 AUC 0.7927\n",
            "Epoch 193 TRAIN Batch 400 Loss 0.5058 Accuracy 74.6472 AUC 0.7926\n",
            "Epoch 193 TRAIN Batch 450 Loss 0.5057 Accuracy 74.6600 AUC 0.7927\n",
            "Epoch 193 TRAIN Batch 500 Loss 0.5057 Accuracy 74.6493 AUC 0.7926\n",
            "Epoch 193 TRAIN Batch 550 Loss 0.5058 Accuracy 74.6445 AUC 0.7927\n",
            "Epoch 193 TRAIN Batch 600 Loss 0.5059 Accuracy 74.6310 AUC 0.7927\n",
            "Epoch 193 TRAIN Batch 650 Loss 0.5058 Accuracy 74.6365 AUC 0.7927\n",
            "Epoch 193 TRAIN Batch 700 Loss 0.5057 Accuracy 74.6452 AUC 0.7928\n",
            "Epoch 193 TRAIN Batch 750 Loss 0.5058 Accuracy 74.6386 AUC 0.7928\n"
          ],
          "name": "stdout"
        },
        {
          "output_type": "stream",
          "text": [
            "19-12 22:47 root         INFO     Epoch TRAIN 193 Loss 0.5059 Accuracy 74.6379 AUC 0.7927\n"
          ],
          "name": "stderr"
        },
        {
          "output_type": "stream",
          "text": [
            "Time taken for 1 epoch: 85.15288972854614 secs\n",
            "\n",
            "Epoch 194 TRAIN Batch 0 Loss 0.5101 Accuracy 74.4907 AUC 0.7939\n",
            "Epoch 194 TRAIN Batch 50 Loss 0.5057 Accuracy 74.6846 AUC 0.7923\n",
            "Epoch 194 TRAIN Batch 100 Loss 0.5063 Accuracy 74.6510 AUC 0.7923\n",
            "Epoch 194 TRAIN Batch 150 Loss 0.5058 Accuracy 74.6514 AUC 0.7927\n",
            "Epoch 194 TRAIN Batch 200 Loss 0.5058 Accuracy 74.6639 AUC 0.7931\n",
            "Epoch 194 TRAIN Batch 250 Loss 0.5058 Accuracy 74.6705 AUC 0.7929\n",
            "Epoch 194 TRAIN Batch 300 Loss 0.5060 Accuracy 74.6608 AUC 0.7928\n",
            "Epoch 194 TRAIN Batch 350 Loss 0.5059 Accuracy 74.6703 AUC 0.7929\n",
            "Epoch 194 TRAIN Batch 400 Loss 0.5057 Accuracy 74.6741 AUC 0.7930\n",
            "Epoch 194 TRAIN Batch 450 Loss 0.5057 Accuracy 74.6709 AUC 0.7931\n",
            "Epoch 194 TRAIN Batch 500 Loss 0.5056 Accuracy 74.6792 AUC 0.7931\n",
            "Epoch 194 TRAIN Batch 550 Loss 0.5056 Accuracy 74.6794 AUC 0.7931\n",
            "Epoch 194 TRAIN Batch 600 Loss 0.5058 Accuracy 74.6698 AUC 0.7930\n",
            "Epoch 194 TRAIN Batch 650 Loss 0.5058 Accuracy 74.6699 AUC 0.7930\n",
            "Epoch 194 TRAIN Batch 700 Loss 0.5057 Accuracy 74.6733 AUC 0.7930\n",
            "Epoch 194 TRAIN Batch 750 Loss 0.5057 Accuracy 74.6765 AUC 0.7930\n"
          ],
          "name": "stdout"
        },
        {
          "output_type": "stream",
          "text": [
            "19-12 22:49 root         INFO     Epoch TRAIN 194 Loss 0.5058 Accuracy 74.6720 AUC 0.7930\n"
          ],
          "name": "stderr"
        },
        {
          "output_type": "stream",
          "text": [
            "Time taken for 1 epoch: 85.2936155796051 secs\n",
            "\n",
            "Epoch 195 TRAIN Batch 0 Loss 0.5001 Accuracy 75.3781 AUC 0.8043\n",
            "Epoch 195 TRAIN Batch 50 Loss 0.5064 Accuracy 74.5778 AUC 0.7934\n",
            "Epoch 195 TRAIN Batch 100 Loss 0.5068 Accuracy 74.5918 AUC 0.7929\n",
            "Epoch 195 TRAIN Batch 150 Loss 0.5057 Accuracy 74.6413 AUC 0.7930\n",
            "Epoch 195 TRAIN Batch 200 Loss 0.5062 Accuracy 74.6089 AUC 0.7928\n",
            "Epoch 195 TRAIN Batch 250 Loss 0.5066 Accuracy 74.5754 AUC 0.7924\n",
            "Epoch 195 TRAIN Batch 300 Loss 0.5065 Accuracy 74.5865 AUC 0.7926\n",
            "Epoch 195 TRAIN Batch 350 Loss 0.5065 Accuracy 74.5933 AUC 0.7926\n",
            "Epoch 195 TRAIN Batch 400 Loss 0.5065 Accuracy 74.5893 AUC 0.7926\n",
            "Epoch 195 TRAIN Batch 450 Loss 0.5062 Accuracy 74.6156 AUC 0.7927\n",
            "Epoch 195 TRAIN Batch 500 Loss 0.5062 Accuracy 74.6139 AUC 0.7927\n",
            "Epoch 195 TRAIN Batch 550 Loss 0.5063 Accuracy 74.6135 AUC 0.7927\n",
            "Epoch 195 TRAIN Batch 600 Loss 0.5062 Accuracy 74.6187 AUC 0.7927\n",
            "Epoch 195 TRAIN Batch 650 Loss 0.5064 Accuracy 74.6142 AUC 0.7926\n",
            "Epoch 195 TRAIN Batch 700 Loss 0.5064 Accuracy 74.6138 AUC 0.7926\n",
            "Epoch 195 TRAIN Batch 750 Loss 0.5063 Accuracy 74.6258 AUC 0.7927\n"
          ],
          "name": "stdout"
        },
        {
          "output_type": "stream",
          "text": [
            "19-12 22:50 root         INFO     Epoch TRAIN 195 Loss 0.5063 Accuracy 74.6254 AUC 0.7927\n"
          ],
          "name": "stderr"
        },
        {
          "output_type": "stream",
          "text": [
            "Epoch 195 VAL Batch 0 Loss 0.5137 Accuracy 74.0166 AUC 0.7836\n",
            "Epoch 195 VAL Batch 50 Loss 0.5121 Accuracy 74.2647 AUC 0.7877\n",
            "Epoch 195 VAL Batch 100 Loss 0.5114 Accuracy 74.3188 AUC 0.7884\n",
            "Epoch 195 VAL Batch 150 Loss 0.5113 Accuracy 74.3316 AUC 0.7882\n",
            "Epoch 195 VAL Batch 200 Loss 0.5114 Accuracy 74.2975 AUC 0.7883\n",
            "Epoch 195 VAL Batch 250 Loss 0.5112 Accuracy 74.3236 AUC 0.7885\n",
            "Epoch 195 VAL Batch 300 Loss 0.5109 Accuracy 74.3482 AUC 0.7887\n",
            "Epoch 195 VAL Batch 350 Loss 0.5110 Accuracy 74.3476 AUC 0.7888\n",
            "Epoch 195 VAL Batch 400 Loss 0.5107 Accuracy 74.3686 AUC 0.7889\n",
            "Epoch 195 VAL Batch 450 Loss 0.5104 Accuracy 74.3910 AUC 0.7891\n",
            "Epoch 195 VAL Batch 500 Loss 0.5105 Accuracy 74.3850 AUC 0.7890\n",
            "Epoch 195 VAL Batch 550 Loss 0.5105 Accuracy 74.3824 AUC 0.7889\n",
            "Epoch 195 VAL Batch 600 Loss 0.5102 Accuracy 74.4006 AUC 0.7891\n",
            "Epoch 195 VAL Batch 650 Loss 0.5103 Accuracy 74.3949 AUC 0.7891\n",
            "Epoch 195 VAL Batch 700 Loss 0.5103 Accuracy 74.3983 AUC 0.7891\n",
            "Epoch 195 VAL Batch 750 Loss 0.5102 Accuracy 74.4011 AUC 0.7891\n"
          ],
          "name": "stdout"
        },
        {
          "output_type": "stream",
          "text": [
            "19-12 22:50 root         INFO     Epoch VAL 195 Loss 0.5102 Accuracy 74.4021 AUC 0.7891\n",
            "19-12 22:50 root         INFO     Saving checkpoint for epoch 195 at 19-Dec-riiid-2/checkpoints/ckpt-38\n"
          ],
          "name": "stderr"
        },
        {
          "output_type": "stream",
          "text": [
            "Time taken for 1 epoch: 103.20169878005981 secs\n",
            "\n",
            "Epoch 196 TRAIN Batch 0 Loss 0.5023 Accuracy 75.0184 AUC 0.7903\n",
            "Epoch 196 TRAIN Batch 50 Loss 0.5065 Accuracy 74.6330 AUC 0.7917\n",
            "Epoch 196 TRAIN Batch 100 Loss 0.5063 Accuracy 74.6325 AUC 0.7921\n",
            "Epoch 196 TRAIN Batch 150 Loss 0.5065 Accuracy 74.6075 AUC 0.7921\n",
            "Epoch 196 TRAIN Batch 200 Loss 0.5062 Accuracy 74.6398 AUC 0.7924\n",
            "Epoch 196 TRAIN Batch 250 Loss 0.5064 Accuracy 74.6272 AUC 0.7924\n",
            "Epoch 196 TRAIN Batch 300 Loss 0.5064 Accuracy 74.6243 AUC 0.7924\n",
            "Epoch 196 TRAIN Batch 350 Loss 0.5064 Accuracy 74.6278 AUC 0.7925\n",
            "Epoch 196 TRAIN Batch 400 Loss 0.5061 Accuracy 74.6413 AUC 0.7927\n",
            "Epoch 196 TRAIN Batch 450 Loss 0.5062 Accuracy 74.6386 AUC 0.7926\n",
            "Epoch 196 TRAIN Batch 500 Loss 0.5062 Accuracy 74.6416 AUC 0.7926\n",
            "Epoch 196 TRAIN Batch 550 Loss 0.5062 Accuracy 74.6430 AUC 0.7926\n",
            "Epoch 196 TRAIN Batch 600 Loss 0.5061 Accuracy 74.6438 AUC 0.7927\n",
            "Epoch 196 TRAIN Batch 650 Loss 0.5060 Accuracy 74.6553 AUC 0.7928\n",
            "Epoch 196 TRAIN Batch 700 Loss 0.5060 Accuracy 74.6598 AUC 0.7928\n",
            "Epoch 196 TRAIN Batch 750 Loss 0.5061 Accuracy 74.6545 AUC 0.7927\n"
          ],
          "name": "stdout"
        },
        {
          "output_type": "stream",
          "text": [
            "19-12 22:52 root         INFO     Epoch TRAIN 196 Loss 0.5061 Accuracy 74.6503 AUC 0.7927\n"
          ],
          "name": "stderr"
        },
        {
          "output_type": "stream",
          "text": [
            "Time taken for 1 epoch: 86.57293176651001 secs\n",
            "\n",
            "Epoch 197 TRAIN Batch 0 Loss 0.4997 Accuracy 75.2001 AUC 0.7971\n",
            "Epoch 197 TRAIN Batch 50 Loss 0.5062 Accuracy 74.6194 AUC 0.7923\n",
            "Epoch 197 TRAIN Batch 100 Loss 0.5060 Accuracy 74.6478 AUC 0.7926\n",
            "Epoch 197 TRAIN Batch 150 Loss 0.5054 Accuracy 74.6747 AUC 0.7930\n",
            "Epoch 197 TRAIN Batch 200 Loss 0.5054 Accuracy 74.6867 AUC 0.7933\n",
            "Epoch 197 TRAIN Batch 250 Loss 0.5055 Accuracy 74.6811 AUC 0.7932\n",
            "Epoch 197 TRAIN Batch 300 Loss 0.5057 Accuracy 74.6682 AUC 0.7932\n",
            "Epoch 197 TRAIN Batch 350 Loss 0.5057 Accuracy 74.6624 AUC 0.7931\n",
            "Epoch 197 TRAIN Batch 400 Loss 0.5059 Accuracy 74.6410 AUC 0.7930\n",
            "Epoch 197 TRAIN Batch 450 Loss 0.5059 Accuracy 74.6412 AUC 0.7930\n",
            "Epoch 197 TRAIN Batch 500 Loss 0.5058 Accuracy 74.6474 AUC 0.7931\n",
            "Epoch 197 TRAIN Batch 550 Loss 0.5058 Accuracy 74.6498 AUC 0.7931\n",
            "Epoch 197 TRAIN Batch 600 Loss 0.5060 Accuracy 74.6348 AUC 0.7929\n",
            "Epoch 197 TRAIN Batch 650 Loss 0.5059 Accuracy 74.6488 AUC 0.7929\n",
            "Epoch 197 TRAIN Batch 700 Loss 0.5059 Accuracy 74.6505 AUC 0.7930\n",
            "Epoch 197 TRAIN Batch 750 Loss 0.5060 Accuracy 74.6432 AUC 0.7929\n"
          ],
          "name": "stdout"
        },
        {
          "output_type": "stream",
          "text": [
            "19-12 22:53 root         INFO     Epoch TRAIN 197 Loss 0.5060 Accuracy 74.6383 AUC 0.7928\n"
          ],
          "name": "stderr"
        },
        {
          "output_type": "stream",
          "text": [
            "Time taken for 1 epoch: 87.09941339492798 secs\n",
            "\n",
            "Epoch 198 TRAIN Batch 0 Loss 0.5131 Accuracy 74.8734 AUC 0.7901\n",
            "Epoch 198 TRAIN Batch 50 Loss 0.5062 Accuracy 74.6324 AUC 0.7924\n",
            "Epoch 198 TRAIN Batch 100 Loss 0.5052 Accuracy 74.7054 AUC 0.7928\n",
            "Epoch 198 TRAIN Batch 150 Loss 0.5054 Accuracy 74.6735 AUC 0.7930\n",
            "Epoch 198 TRAIN Batch 200 Loss 0.5053 Accuracy 74.6733 AUC 0.7933\n",
            "Epoch 198 TRAIN Batch 250 Loss 0.5059 Accuracy 74.6385 AUC 0.7931\n",
            "Epoch 198 TRAIN Batch 300 Loss 0.5060 Accuracy 74.6285 AUC 0.7930\n",
            "Epoch 198 TRAIN Batch 350 Loss 0.5057 Accuracy 74.6434 AUC 0.7931\n",
            "Epoch 198 TRAIN Batch 400 Loss 0.5056 Accuracy 74.6492 AUC 0.7932\n",
            "Epoch 198 TRAIN Batch 450 Loss 0.5056 Accuracy 74.6510 AUC 0.7932\n",
            "Epoch 198 TRAIN Batch 500 Loss 0.5056 Accuracy 74.6531 AUC 0.7932\n",
            "Epoch 198 TRAIN Batch 550 Loss 0.5056 Accuracy 74.6571 AUC 0.7932\n",
            "Epoch 198 TRAIN Batch 600 Loss 0.5055 Accuracy 74.6684 AUC 0.7933\n",
            "Epoch 198 TRAIN Batch 650 Loss 0.5056 Accuracy 74.6584 AUC 0.7932\n",
            "Epoch 198 TRAIN Batch 700 Loss 0.5056 Accuracy 74.6579 AUC 0.7933\n",
            "Epoch 198 TRAIN Batch 750 Loss 0.5057 Accuracy 74.6550 AUC 0.7932\n"
          ],
          "name": "stdout"
        },
        {
          "output_type": "stream",
          "text": [
            "19-12 22:55 root         INFO     Epoch TRAIN 198 Loss 0.5057 Accuracy 74.6594 AUC 0.7933\n"
          ],
          "name": "stderr"
        },
        {
          "output_type": "stream",
          "text": [
            "Time taken for 1 epoch: 85.37245655059814 secs\n",
            "\n",
            "Epoch 199 TRAIN Batch 0 Loss 0.5175 Accuracy 74.0168 AUC 0.7833\n",
            "Epoch 199 TRAIN Batch 50 Loss 0.5043 Accuracy 74.7599 AUC 0.7932\n",
            "Epoch 199 TRAIN Batch 100 Loss 0.5046 Accuracy 74.7098 AUC 0.7938\n",
            "Epoch 199 TRAIN Batch 150 Loss 0.5050 Accuracy 74.6921 AUC 0.7933\n",
            "Epoch 199 TRAIN Batch 200 Loss 0.5048 Accuracy 74.7208 AUC 0.7933\n",
            "Epoch 199 TRAIN Batch 250 Loss 0.5048 Accuracy 74.7092 AUC 0.7934\n",
            "Epoch 199 TRAIN Batch 300 Loss 0.5049 Accuracy 74.7003 AUC 0.7932\n",
            "Epoch 199 TRAIN Batch 350 Loss 0.5052 Accuracy 74.6856 AUC 0.7932\n",
            "Epoch 199 TRAIN Batch 400 Loss 0.5054 Accuracy 74.6709 AUC 0.7931\n",
            "Epoch 199 TRAIN Batch 450 Loss 0.5053 Accuracy 74.6771 AUC 0.7929\n",
            "Epoch 199 TRAIN Batch 500 Loss 0.5053 Accuracy 74.6810 AUC 0.7930\n",
            "Epoch 199 TRAIN Batch 550 Loss 0.5054 Accuracy 74.6710 AUC 0.7929\n",
            "Epoch 199 TRAIN Batch 600 Loss 0.5053 Accuracy 74.6735 AUC 0.7930\n",
            "Epoch 199 TRAIN Batch 650 Loss 0.5054 Accuracy 74.6702 AUC 0.7930\n",
            "Epoch 199 TRAIN Batch 700 Loss 0.5056 Accuracy 74.6594 AUC 0.7929\n",
            "Epoch 199 TRAIN Batch 750 Loss 0.5055 Accuracy 74.6609 AUC 0.7929\n"
          ],
          "name": "stdout"
        },
        {
          "output_type": "stream",
          "text": [
            "19-12 22:56 root         INFO     Epoch TRAIN 199 Loss 0.5056 Accuracy 74.6581 AUC 0.7929\n"
          ],
          "name": "stderr"
        },
        {
          "output_type": "stream",
          "text": [
            "Time taken for 1 epoch: 85.14265275001526 secs\n",
            "\n",
            "Epoch 200 TRAIN Batch 0 Loss 0.5235 Accuracy 73.4271 AUC 0.7748\n",
            "Epoch 200 TRAIN Batch 50 Loss 0.5089 Accuracy 74.4427 AUC 0.7907\n",
            "Epoch 200 TRAIN Batch 100 Loss 0.5075 Accuracy 74.5450 AUC 0.7917\n",
            "Epoch 200 TRAIN Batch 150 Loss 0.5065 Accuracy 74.6170 AUC 0.7926\n",
            "Epoch 200 TRAIN Batch 200 Loss 0.5065 Accuracy 74.6142 AUC 0.7928\n",
            "Epoch 200 TRAIN Batch 250 Loss 0.5067 Accuracy 74.5940 AUC 0.7926\n",
            "Epoch 200 TRAIN Batch 300 Loss 0.5064 Accuracy 74.6122 AUC 0.7927\n",
            "Epoch 200 TRAIN Batch 350 Loss 0.5062 Accuracy 74.6293 AUC 0.7928\n",
            "Epoch 200 TRAIN Batch 400 Loss 0.5061 Accuracy 74.6298 AUC 0.7928\n",
            "Epoch 200 TRAIN Batch 450 Loss 0.5061 Accuracy 74.6299 AUC 0.7928\n",
            "Epoch 200 TRAIN Batch 500 Loss 0.5062 Accuracy 74.6292 AUC 0.7926\n",
            "Epoch 200 TRAIN Batch 550 Loss 0.5061 Accuracy 74.6302 AUC 0.7926\n",
            "Epoch 200 TRAIN Batch 600 Loss 0.5061 Accuracy 74.6325 AUC 0.7926\n",
            "Epoch 200 TRAIN Batch 650 Loss 0.5062 Accuracy 74.6271 AUC 0.7926\n",
            "Epoch 200 TRAIN Batch 700 Loss 0.5062 Accuracy 74.6249 AUC 0.7927\n",
            "Epoch 200 TRAIN Batch 750 Loss 0.5061 Accuracy 74.6314 AUC 0.7927\n"
          ],
          "name": "stdout"
        },
        {
          "output_type": "stream",
          "text": [
            "19-12 22:57 root         INFO     Epoch TRAIN 200 Loss 0.5062 Accuracy 74.6264 AUC 0.7926\n"
          ],
          "name": "stderr"
        },
        {
          "output_type": "stream",
          "text": [
            "Epoch 200 VAL Batch 0 Loss 0.5134 Accuracy 74.2934 AUC 0.7846\n",
            "Epoch 200 VAL Batch 50 Loss 0.5128 Accuracy 74.2732 AUC 0.7876\n",
            "Epoch 200 VAL Batch 100 Loss 0.5120 Accuracy 74.3172 AUC 0.7883\n",
            "Epoch 200 VAL Batch 150 Loss 0.5119 Accuracy 74.3308 AUC 0.7882\n",
            "Epoch 200 VAL Batch 200 Loss 0.5120 Accuracy 74.3087 AUC 0.7883\n",
            "Epoch 200 VAL Batch 250 Loss 0.5117 Accuracy 74.3332 AUC 0.7885\n",
            "Epoch 200 VAL Batch 300 Loss 0.5114 Accuracy 74.3560 AUC 0.7887\n",
            "Epoch 200 VAL Batch 350 Loss 0.5115 Accuracy 74.3567 AUC 0.7888\n",
            "Epoch 200 VAL Batch 400 Loss 0.5112 Accuracy 74.3735 AUC 0.7890\n",
            "Epoch 200 VAL Batch 450 Loss 0.5109 Accuracy 74.4000 AUC 0.7891\n",
            "Epoch 200 VAL Batch 500 Loss 0.5109 Accuracy 74.3978 AUC 0.7891\n",
            "Epoch 200 VAL Batch 550 Loss 0.5110 Accuracy 74.3962 AUC 0.7889\n",
            "Epoch 200 VAL Batch 600 Loss 0.5107 Accuracy 74.4129 AUC 0.7891\n",
            "Epoch 200 VAL Batch 650 Loss 0.5108 Accuracy 74.4073 AUC 0.7891\n",
            "Epoch 200 VAL Batch 700 Loss 0.5108 Accuracy 74.4084 AUC 0.7891\n",
            "Epoch 200 VAL Batch 750 Loss 0.5108 Accuracy 74.4117 AUC 0.7891\n"
          ],
          "name": "stdout"
        },
        {
          "output_type": "stream",
          "text": [
            "19-12 22:58 root         INFO     Epoch VAL 200 Loss 0.5108 Accuracy 74.4116 AUC 0.7891\n"
          ],
          "name": "stderr"
        },
        {
          "output_type": "stream",
          "text": [
            "Time taken for 1 epoch: 102.58798742294312 secs\n",
            "\n"
          ],
          "name": "stdout"
        }
      ]
    },
    {
      "cell_type": "code",
      "metadata": {
        "id": "Y4vnYx13H1gX",
        "colab": {
          "base_uri": "https://localhost:8080/"
        },
        "outputId": "bf5a789d-8ba0-446b-c3ce-5b53a3105a5f"
      },
      "source": [
        "from IPython.display import FileLink, FileLinks\n",
        "FileLinks(OUTPUT_FOLDER) #lists all downloadable files on server"
      ],
      "execution_count": null,
      "outputs": [
        {
          "output_type": "execute_result",
          "data": {
            "text/html": [
              "19-Dec-riiid-2/<br>\n",
              "&nbsp;&nbsp;<a href='19-Dec-riiid-2/logger.log' target='_blank'>logger.log</a><br>\n",
              "&nbsp;&nbsp;<a href='19-Dec-riiid-2/config.pickle' target='_blank'>config.pickle</a><br>\n",
              "&nbsp;&nbsp;<a href='19-Dec-riiid-2/demo-riiid-transformer.ipynb' target='_blank'>demo-riiid-transformer.ipynb</a><br>\n",
              "19-Dec-riiid-2/checkpoints/<br>\n",
              "&nbsp;&nbsp;<a href='19-Dec-riiid-2/checkpoints/checkpoint' target='_blank'>checkpoint</a><br>\n",
              "&nbsp;&nbsp;<a href='19-Dec-riiid-2/checkpoints/ckpt-38.index' target='_blank'>ckpt-38.index</a><br>\n",
              "&nbsp;&nbsp;<a href='19-Dec-riiid-2/checkpoints/ckpt-38.data-00000-of-00001' target='_blank'>ckpt-38.data-00000-of-00001</a><br>\n",
              "19-Dec-riiid-2/seq-dict-100/<br>\n",
              "&nbsp;&nbsp;<a href='19-Dec-riiid-2/seq-dict-100/lt.pickle' target='_blank'>lt.pickle</a><br>\n",
              "&nbsp;&nbsp;<a href='19-Dec-riiid-2/seq-dict-100/r.pickle' target='_blank'>r.pickle</a><br>\n",
              "&nbsp;&nbsp;<a href='19-Dec-riiid-2/seq-dict-100/E.pickle' target='_blank'>E.pickle</a><br>"
            ],
            "text/plain": [
              "19-Dec-riiid-2/\n",
              "  logger.log\n",
              "  config.pickle\n",
              "  demo-riiid-transformer.ipynb\n",
              "19-Dec-riiid-2/checkpoints/\n",
              "  checkpoint\n",
              "  ckpt-38.index\n",
              "  ckpt-38.data-00000-of-00001\n",
              "19-Dec-riiid-2/seq-dict-100/\n",
              "  lt.pickle\n",
              "  r.pickle\n",
              "  E.pickle"
            ]
          },
          "metadata": {
            "tags": []
          },
          "execution_count": 56
        }
      ]
    },
    {
      "cell_type": "markdown",
      "metadata": {
        "id": "Y_rWpnRgyiyC"
      },
      "source": [
        "## Add output to Drive"
      ]
    },
    {
      "cell_type": "code",
      "metadata": {
        "id": "Ph8Un94HsahC"
      },
      "source": [
        "OUTPUT_DRIVE = \"/content/drive/My Drive/kaggle-riiid/subs\""
      ],
      "execution_count": null,
      "outputs": []
    },
    {
      "cell_type": "code",
      "metadata": {
        "id": "eglhQhuZsqyw",
        "colab": {
          "base_uri": "https://localhost:8080/"
        },
        "outputId": "7ef177a9-3639-45c4-a58a-ab6ba1231c52"
      },
      "source": [
        "# https://stackoverflow.com/questions/15034151/copy-directory-contents-into-a-directory-with-python\n",
        "from distutils.dir_util import copy_tree\n",
        "copy_tree(OUTPUT_FOLDER, os.path.join(OUTPUT_DRIVE, OUTPUT_FOLDER))"
      ],
      "execution_count": null,
      "outputs": [
        {
          "output_type": "execute_result",
          "data": {
            "text/plain": [
              "['/content/drive/My Drive/kaggle-riiid/subs/19-Dec-riiid-2/checkpoints/checkpoint',\n",
              " '/content/drive/My Drive/kaggle-riiid/subs/19-Dec-riiid-2/checkpoints/ckpt-38.index',\n",
              " '/content/drive/My Drive/kaggle-riiid/subs/19-Dec-riiid-2/checkpoints/ckpt-38.data-00000-of-00001',\n",
              " '/content/drive/My Drive/kaggle-riiid/subs/19-Dec-riiid-2/logger.log',\n",
              " '/content/drive/My Drive/kaggle-riiid/subs/19-Dec-riiid-2/config.pickle',\n",
              " '/content/drive/My Drive/kaggle-riiid/subs/19-Dec-riiid-2/seq-dict-100/lt.pickle',\n",
              " '/content/drive/My Drive/kaggle-riiid/subs/19-Dec-riiid-2/seq-dict-100/r.pickle',\n",
              " '/content/drive/My Drive/kaggle-riiid/subs/19-Dec-riiid-2/seq-dict-100/E.pickle',\n",
              " '/content/drive/My Drive/kaggle-riiid/subs/19-Dec-riiid-2/demo-riiid-transformer.ipynb']"
            ]
          },
          "metadata": {
            "tags": []
          },
          "execution_count": 58
        }
      ]
    },
    {
      "cell_type": "markdown",
      "metadata": {
        "id": "-Lzwa2GGzqAT"
      },
      "source": [
        "## Add output to Kaggle"
      ]
    },
    {
      "cell_type": "code",
      "metadata": {
        "id": "TOu1E5Xop-57"
      },
      "source": [
        "KAGGLE_JSON = \"/content/drive/My\\ Drive/kaggle-riiid/kaggle.json\"\n",
        "!mkdir -p ~/.kaggle\n",
        "!cp $KAGGLE_JSON ~/.kaggle/\n",
        "!chmod 600 ~/.kaggle/kaggle.json"
      ],
      "execution_count": null,
      "outputs": []
    },
    {
      "cell_type": "code",
      "metadata": {
        "id": "V0N2cmXLygls",
        "colab": {
          "base_uri": "https://localhost:8080/"
        },
        "outputId": "d664efb0-fb30-4d87-862e-54f99c37a7fe"
      },
      "source": [
        "!kaggle datasets init -p {OUTPUT_FOLDER}"
      ],
      "execution_count": null,
      "outputs": [
        {
          "output_type": "stream",
          "text": [
            "Data package template written to: 19-Dec-riiid-2/dataset-metadata.json\n"
          ],
          "name": "stdout"
        }
      ]
    },
    {
      "cell_type": "code",
      "metadata": {
        "id": "zbCedVa7z5M-",
        "colab": {
          "base_uri": "https://localhost:8080/"
        },
        "outputId": "8daddfe5-3a6b-439a-ff8d-caeac988b0a5"
      },
      "source": [
        "import json\n",
        "\n",
        "with open(f'{OUTPUT_FOLDER}/dataset-metadata.json', 'r+') as f:\n",
        "    data = json.load(f)\n",
        "    data['title'] = OUTPUT_FOLDER\n",
        "    data['id'] = f'rafiko1/{OUTPUT_FOLDER}'\n",
        "    f.seek(0)\n",
        "    json.dump(data, f, indent=4)\n",
        "    f.truncate()\n",
        "\n",
        "!cat {OUTPUT_FOLDER}/dataset-metadata.json"
      ],
      "execution_count": null,
      "outputs": [
        {
          "output_type": "stream",
          "text": [
            "{\n",
            "    \"licenses\": [\n",
            "        {\n",
            "            \"name\": \"CC0-1.0\"\n",
            "        }\n",
            "    ],\n",
            "    \"id\": \"rafiko1/19-Dec-riiid-2\",\n",
            "    \"title\": \"19-Dec-riiid-2\"\n",
            "}"
          ],
          "name": "stdout"
        }
      ]
    },
    {
      "cell_type": "code",
      "metadata": {
        "id": "QiYmcZ0r0hoh",
        "colab": {
          "base_uri": "https://localhost:8080/"
        },
        "outputId": "373fc62e-1609-49c7-ffcc-79506d4a090a"
      },
      "source": [
        "!kaggle datasets create -p {OUTPUT_FOLDER} -q -r zip "
      ],
      "execution_count": null,
      "outputs": [
        {
          "output_type": "stream",
          "text": [
            "Warning: Looks like you're using an outdated API Version, please consider updating (server 1.5.10 / client 1.5.4)\n",
            "Your private Dataset is being created. Please check progress at https://www.kaggle.com/rafiko1/19-Dec-riiid-2\n"
          ],
          "name": "stdout"
        }
      ]
    },
    {
      "cell_type": "code",
      "metadata": {
        "id": "xfFKlQG5KL09",
        "colab": {
          "base_uri": "https://localhost:8080/"
        },
        "outputId": "7375e897-f9fa-40c6-a1ad-235e6e0b3002"
      },
      "source": [
        "os.listdir(OUTPUT_FOLDER)"
      ],
      "execution_count": null,
      "outputs": [
        {
          "output_type": "execute_result",
          "data": {
            "text/plain": [
              "['checkpoints',\n",
              " 'logger.log',\n",
              " 'dataset-metadata.json',\n",
              " 'config.pickle',\n",
              " 'seq-dict-100',\n",
              " 'demo-riiid-transformer.ipynb']"
            ]
          },
          "metadata": {
            "tags": []
          },
          "execution_count": 63
        }
      ]
    },
    {
      "cell_type": "markdown",
      "metadata": {
        "id": "RqQ1fIsLwkGE"
      },
      "source": [
        "## Summary\n",
        "\n",
        "In this tutorial, you learned about positional encoding, multi-head attention, the importance of masking and how to create a transformer.\n",
        "\n",
        "Try using a different dataset to train the transformer. You can also create the base transformer or transformer XL by changing the hyperparameters above. You can also use the layers defined here to create [BERT](https://arxiv.org/abs/1810.04805) and train state of the art models. Futhermore, you can implement beam search to get better predictions."
      ]
    },
    {
      "cell_type": "markdown",
      "metadata": {
        "id": "Ob_U1TjRE6A-"
      },
      "source": [
        "# Older code"
      ]
    },
    {
      "cell_type": "code",
      "metadata": {
        "id": "jCPtV7asE7w_"
      },
      "source": [
        "# # From https://stanford.edu/~shervine/blog/keras-how-to-generate-data-on-the-fly\n",
        "# class DataGenerator(keras.utils.Sequence):\n",
        "#     'Generates data for Keras'\n",
        "#     def __init__(self, df, shuffle=True):\n",
        "#         'Initialization'\n",
        "        \n",
        "#         self.df = df\n",
        "#         self.users = self.df[\"user_id\"].nunique()\n",
        "#         self.batch_size = BATCH_SIZE\n",
        "#         self.shuffle = shuffle\n",
        "#         self.on_epoch_end()\n",
        "\n",
        "#     def __len__(self):\n",
        "#         'Denotes the number of batches per epoch'\n",
        "#         return int(np.floor(len(self.list_IDs) / self.batch_size))\n",
        "\n",
        "#     def __getitem__(self, index):\n",
        "#         'Generate one batch of data'\n",
        "#         # Generate indexes of the batch\n",
        "#         indexes = self.indexes[index*self.batch_size:(index+1)*self.batch_size]\n",
        "\n",
        "#         # Find list of IDs\n",
        "#         list_IDs_temp = [self.list_IDs[k] for k in indexes]\n",
        "\n",
        "#         # Generate data\n",
        "#         X, y = self.__data_generation(list_IDs_temp)\n",
        "\n",
        "#         return X, y\n",
        "\n",
        "#     def on_epoch_end(self):\n",
        "#         'Updates indexes after each epoch'\n",
        "#         self.indexes = np.arange(len(self.list_IDs))\n",
        "#         if self.shuffle == True:\n",
        "#             np.random.shuffle(self.indexes)\n",
        "\n",
        "#     def __data_generation(self, list_IDs_temp):\n",
        "#         'Generates data containing batch_size samples' # X : (n_samples, *dim, n_channels)\n",
        "#         # Initialization\n",
        "#         X = np.empty((self.batch_size, *self.dim, self.n_channels))\n",
        "#         y = np.empty((self.batch_size), dtype=int)\n",
        "\n",
        "#         # Generate data\n",
        "#         for i, ID in enumerate(list_IDs_temp):\n",
        "#             # Store sample\n",
        "#             X[i,] = np.load('data/' + ID + '.npy')\n",
        "\n",
        "#             # Store class\n",
        "#             y[i] = self.labels[ID]\n",
        "\n",
        "#         return X, keras.utils.to_categorical(y, num_classes=self.n_classes)"
      ],
      "execution_count": null,
      "outputs": []
    },
    {
      "cell_type": "code",
      "metadata": {
        "id": "UrylowI_ThEY"
      },
      "source": [
        "# def save_dict(seq_dict, filename):\n",
        "#     with open(os.path.join(OUTPUT_FOLDER, filename), 'wb') as handle:\n",
        "#       pickle.dump(seq_dict, handle, protocol=pickle.HIGHEST_PROTOCOL)"
      ],
      "execution_count": null,
      "outputs": []
    },
    {
      "cell_type": "code",
      "metadata": {
        "id": "TTwScXwCThEY"
      },
      "source": [
        "# # Save last N dict to memory\n",
        "# E_dict = E_lists.apply(lambda x: x[-200:]).to_dict()\n",
        "# r_dict = r_lists.apply(lambda x: x[-200:]).to_dict()\n",
        "# et_dict = et_lists.apply(lambda x: x[-200:]).to_dict()"
      ],
      "execution_count": null,
      "outputs": []
    },
    {
      "cell_type": "code",
      "metadata": {
        "id": "AbXwrK5eThEY"
      },
      "source": [
        "# save_dict(E_dict, \"E.pkl\")\n",
        "# save_dict(r_dict, \"r.pkl\")\n",
        "# save_dict(et_dict, \"et.pkl\")"
      ],
      "execution_count": null,
      "outputs": []
    }
  ]
}