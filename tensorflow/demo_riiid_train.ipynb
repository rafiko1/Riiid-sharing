{
  "nbformat": 4,
  "nbformat_minor": 0,
  "metadata": {
    "accelerator": "GPU",
    "colab": {
      "name": "demo-riiid-train.ipynb",
      "provenance": [],
      "collapsed_sections": [
        "RqQ1fIsLwkGE",
        "Ob_U1TjRE6A-"
      ],
      "toc_visible": true,
      "machine_shape": "hm"
    },
    "kernelspec": {
      "display_name": "Python 3",
      "language": "python",
      "name": "python3"
    },
    "language_info": {
      "codemirror_mode": {
        "name": "ipython",
        "version": 3
      },
      "file_extension": ".py",
      "mimetype": "text/x-python",
      "name": "python",
      "nbconvert_exporter": "python",
      "pygments_lexer": "ipython3",
      "version": "3.6.4"
    }
  },
  "cells": [
    {
      "cell_type": "code",
      "metadata": {
        "colab": {
          "base_uri": "https://localhost:8080/"
        },
        "id": "1alPO9cYR8zX",
        "outputId": "6386aed4-837e-4d94-9fba-03bfbda63224"
      },
      "source": [
        "# Install latest version sklearn (0.23)\n",
        "!pip install -U scikit-learn"
      ],
      "execution_count": null,
      "outputs": [
        {
          "output_type": "stream",
          "text": [
            "Collecting scikit-learn\n",
            "\u001b[?25l  Downloading https://files.pythonhosted.org/packages/30/aa/db462d385c56905b731403885454188683f63c86ea68900f6f7e7558b5fa/scikit_learn-0.24.0-cp36-cp36m-manylinux2010_x86_64.whl (22.2MB)\n",
            "\u001b[K     |████████████████████████████████| 22.2MB 1.2MB/s \n",
            "\u001b[?25hRequirement already satisfied, skipping upgrade: joblib>=0.11 in /usr/local/lib/python3.6/dist-packages (from scikit-learn) (1.0.0)\n",
            "Requirement already satisfied, skipping upgrade: scipy>=0.19.1 in /usr/local/lib/python3.6/dist-packages (from scikit-learn) (1.4.1)\n",
            "Requirement already satisfied, skipping upgrade: numpy>=1.13.3 in /usr/local/lib/python3.6/dist-packages (from scikit-learn) (1.19.4)\n",
            "Collecting threadpoolctl>=2.0.0\n",
            "  Downloading https://files.pythonhosted.org/packages/f7/12/ec3f2e203afa394a149911729357aa48affc59c20e2c1c8297a60f33f133/threadpoolctl-2.1.0-py3-none-any.whl\n",
            "Installing collected packages: threadpoolctl, scikit-learn\n",
            "  Found existing installation: scikit-learn 0.22.2.post1\n",
            "    Uninstalling scikit-learn-0.22.2.post1:\n",
            "      Successfully uninstalled scikit-learn-0.22.2.post1\n",
            "Successfully installed scikit-learn-0.24.0 threadpoolctl-2.1.0\n"
          ],
          "name": "stdout"
        }
      ]
    },
    {
      "cell_type": "code",
      "metadata": {
        "cellView": "both",
        "id": "fl0JGKUzPcs0"
      },
      "source": [
        "# Imports\n",
        "import pandas as pd\n",
        "import numpy as np\n",
        "import os\n",
        "import shutil\n",
        "from collections import Counter\n",
        "import matplotlib.pyplot as plt\n",
        "import time\n",
        "import gc\n",
        "import sys\n",
        "import random\n",
        "import pickle\n",
        "\n",
        "from scipy.stats import iqr\n",
        "from sklearn import preprocessing\n",
        "\n",
        "import datetime\n",
        "import logging\n",
        "\n",
        "# Deep learning\n",
        "import tensorflow as tf\n",
        "import tensorflow.keras.backend as K\n",
        "import tensorflow.keras.layers as L\n",
        "import tensorflow.keras.models as M\n",
        "\n",
        "from IPython.display import display\n",
        "# Set pandas options\n",
        "pd.options.display.max_rows = 2000"
      ],
      "execution_count": null,
      "outputs": []
    },
    {
      "cell_type": "code",
      "metadata": {
        "cellView": "both",
        "id": "TyCCeSTaw6_s"
      },
      "source": [
        "# Global variables \n",
        "THR_E = 100 # interaction threshold of exercises (E) for user\n",
        "BATCH_SIZE = 128\n",
        "\n",
        "AUTO = tf.data.experimental.AUTOTUNE\n",
        "EPOCHS = 150\n",
        "N_SELECT_PER_EPOCH = 100000 # Random select N samples for each epoch from train/val set\n",
        "VAL_EVERY_N_EPOCHS = 5\n",
        "PRINT_EVERY_N_BATCHES = 50 \n",
        "\n",
        "SAVE_DICTS = True"
      ],
      "execution_count": null,
      "outputs": []
    },
    {
      "cell_type": "code",
      "metadata": {
        "id": "4M-mWBNVcaQ7"
      },
      "source": [
        "# SEED THE EXPERIMENTS\r\n",
        "np.random.seed(18)"
      ],
      "execution_count": null,
      "outputs": []
    },
    {
      "cell_type": "code",
      "metadata": {
        "id": "XR5Io93kU0RK"
      },
      "source": [
        "# Experiment date and number!\r\n",
        "date = datetime.datetime.today().strftime(\"%d-%b\")\r\n",
        "experiment = \"-riiid-2\"\r\n",
        "OUTPUT_FOLDER = date + experiment \r\n",
        "os.makedirs(OUTPUT_FOLDER, exist_ok=True)"
      ],
      "execution_count": null,
      "outputs": []
    },
    {
      "cell_type": "code",
      "metadata": {
        "id": "fPFvJd9PsbR6"
      },
      "source": [
        "# Selected features\n",
        "selections = [\"E\", \"r\", \"ltc\",  \"etc\",  \"ra\", \"at\", \"ca\", \"p\", \"ex\"]\n",
        "assert((selections[0] == \"E\") & (selections[1]==\"r\"))"
      ],
      "execution_count": null,
      "outputs": []
    },
    {
      "cell_type": "code",
      "metadata": {
        "id": "wiHtMtRWAvE8"
      },
      "source": [
        "# Choose model setting\n",
        "ENC_EMB, ENC_DENSE = [0, 5, 6, 7], [] \n",
        "DEC_EMB, DEC_DENSE = [1, 2, 3, 4, 8], []"
      ],
      "execution_count": null,
      "outputs": []
    },
    {
      "cell_type": "code",
      "metadata": {
        "cellView": "both",
        "colab": {
          "base_uri": "https://localhost:8080/"
        },
        "id": "yRrlNtCi8QxP",
        "outputId": "28208d28-51e1-4fe5-db1f-4a9fbf561828"
      },
      "source": [
        "from google.colab import drive\n",
        "drive.mount('/content/drive', force_remount=True)\n",
        "\n",
        "FOLDER_FEATHER = \"/content/drive/My Drive/kaggle-riiid/feather-files\"\n",
        "PREPROCESS_FILE = \"/content/drive/My\\ Drive/Colab\\ Notebooks/demo-riiid-preprocessing.ipynb\"\n",
        "MODEL_FILE = \"/content/drive/My\\ Drive/Colab\\ Notebooks/demo-riiid-transformer.ipynb\" # https://stackoverflow.com/questions/57464810/how-to-run-a-jupyter-notebook-with-space-in-relative-path-from-another-notebook\n",
        "# MODEL_FILE = \"/content/drive/My\\ Drive/Colab\\ Notebooks/riiid-functional-transformer.ipynb\" # https://stackoverflow.com/questions/57464810/how-to-run-a-jupyter-notebook-with-space-in-relative-path-from-another-notebook\n"
      ],
      "execution_count": null,
      "outputs": [
        {
          "output_type": "stream",
          "text": [
            "Mounted at /content/drive\n"
          ],
          "name": "stdout"
        }
      ]
    },
    {
      "cell_type": "code",
      "metadata": {
        "id": "G2pN4ICUn9tK"
      },
      "source": [
        "# Add functions to preprocess data\n",
        "%run $PREPROCESS_FILE"
      ],
      "execution_count": null,
      "outputs": []
    },
    {
      "cell_type": "code",
      "metadata": {
        "id": "Eoay_2ef1W7r"
      },
      "source": [
        "# Create logger\n",
        "logging = create_logging(OUTPUT_FOLDER)"
      ],
      "execution_count": null,
      "outputs": []
    },
    {
      "cell_type": "code",
      "metadata": {
        "cellView": "both",
        "colab": {
          "base_uri": "https://localhost:8080/",
          "height": 486
        },
        "id": "4aC9MfDSbI0c",
        "outputId": "010e4bf0-7a09-4b82-c3fc-afa275296b73"
      },
      "source": [
        "%%time\n",
        "# Read all dataframes from feather files and print out\n",
        "train = read_df_print(os.path.join(FOLDER_FEATHER, \"train.feather\")) \n",
        "questions = read_df_print(os.path.join(FOLDER_FEATHER, \"questions.feather\"))\n",
        "lectures = read_df_print(os.path.join(FOLDER_FEATHER, \"lectures.feather\"))"
      ],
      "execution_count": null,
      "outputs": [
        {
          "output_type": "stream",
          "text": [
            "(101230332, 10)\n"
          ],
          "name": "stdout"
        },
        {
          "output_type": "display_data",
          "data": {
            "text/html": [
              "<div>\n",
              "<style scoped>\n",
              "    .dataframe tbody tr th:only-of-type {\n",
              "        vertical-align: middle;\n",
              "    }\n",
              "\n",
              "    .dataframe tbody tr th {\n",
              "        vertical-align: top;\n",
              "    }\n",
              "\n",
              "    .dataframe thead th {\n",
              "        text-align: right;\n",
              "    }\n",
              "</style>\n",
              "<table border=\"1\" class=\"dataframe\">\n",
              "  <thead>\n",
              "    <tr style=\"text-align: right;\">\n",
              "      <th></th>\n",
              "      <th>row_id</th>\n",
              "      <th>timestamp</th>\n",
              "      <th>user_id</th>\n",
              "      <th>content_id</th>\n",
              "      <th>content_type_id</th>\n",
              "      <th>task_container_id</th>\n",
              "      <th>user_answer</th>\n",
              "      <th>answered_correctly</th>\n",
              "      <th>prior_question_elapsed_time</th>\n",
              "      <th>prior_question_had_explanation</th>\n",
              "    </tr>\n",
              "  </thead>\n",
              "  <tbody>\n",
              "    <tr>\n",
              "      <th>0</th>\n",
              "      <td>0</td>\n",
              "      <td>0</td>\n",
              "      <td>115</td>\n",
              "      <td>5692</td>\n",
              "      <td>False</td>\n",
              "      <td>1</td>\n",
              "      <td>3</td>\n",
              "      <td>1</td>\n",
              "      <td>NaN</td>\n",
              "      <td>None</td>\n",
              "    </tr>\n",
              "    <tr>\n",
              "      <th>1</th>\n",
              "      <td>1</td>\n",
              "      <td>56943</td>\n",
              "      <td>115</td>\n",
              "      <td>5716</td>\n",
              "      <td>False</td>\n",
              "      <td>2</td>\n",
              "      <td>2</td>\n",
              "      <td>1</td>\n",
              "      <td>37000.0</td>\n",
              "      <td>False</td>\n",
              "    </tr>\n",
              "    <tr>\n",
              "      <th>2</th>\n",
              "      <td>2</td>\n",
              "      <td>118363</td>\n",
              "      <td>115</td>\n",
              "      <td>128</td>\n",
              "      <td>False</td>\n",
              "      <td>0</td>\n",
              "      <td>0</td>\n",
              "      <td>1</td>\n",
              "      <td>55000.0</td>\n",
              "      <td>False</td>\n",
              "    </tr>\n",
              "  </tbody>\n",
              "</table>\n",
              "</div>"
            ],
            "text/plain": [
              "   row_id  ...  prior_question_had_explanation\n",
              "0       0  ...                            None\n",
              "1       1  ...                           False\n",
              "2       2  ...                           False\n",
              "\n",
              "[3 rows x 10 columns]"
            ]
          },
          "metadata": {
            "tags": []
          }
        },
        {
          "output_type": "stream",
          "text": [
            "(13523, 5)\n"
          ],
          "name": "stdout"
        },
        {
          "output_type": "display_data",
          "data": {
            "text/html": [
              "<div>\n",
              "<style scoped>\n",
              "    .dataframe tbody tr th:only-of-type {\n",
              "        vertical-align: middle;\n",
              "    }\n",
              "\n",
              "    .dataframe tbody tr th {\n",
              "        vertical-align: top;\n",
              "    }\n",
              "\n",
              "    .dataframe thead th {\n",
              "        text-align: right;\n",
              "    }\n",
              "</style>\n",
              "<table border=\"1\" class=\"dataframe\">\n",
              "  <thead>\n",
              "    <tr style=\"text-align: right;\">\n",
              "      <th></th>\n",
              "      <th>question_id</th>\n",
              "      <th>bundle_id</th>\n",
              "      <th>correct_answer</th>\n",
              "      <th>part</th>\n",
              "      <th>tags</th>\n",
              "    </tr>\n",
              "  </thead>\n",
              "  <tbody>\n",
              "    <tr>\n",
              "      <th>0</th>\n",
              "      <td>0</td>\n",
              "      <td>0</td>\n",
              "      <td>0</td>\n",
              "      <td>1</td>\n",
              "      <td>51 131 162 38</td>\n",
              "    </tr>\n",
              "    <tr>\n",
              "      <th>1</th>\n",
              "      <td>1</td>\n",
              "      <td>1</td>\n",
              "      <td>1</td>\n",
              "      <td>1</td>\n",
              "      <td>131 36 81</td>\n",
              "    </tr>\n",
              "    <tr>\n",
              "      <th>2</th>\n",
              "      <td>2</td>\n",
              "      <td>2</td>\n",
              "      <td>0</td>\n",
              "      <td>1</td>\n",
              "      <td>131 101 162 92</td>\n",
              "    </tr>\n",
              "  </tbody>\n",
              "</table>\n",
              "</div>"
            ],
            "text/plain": [
              "   question_id  bundle_id  correct_answer  part            tags\n",
              "0            0          0               0     1   51 131 162 38\n",
              "1            1          1               1     1       131 36 81\n",
              "2            2          2               0     1  131 101 162 92"
            ]
          },
          "metadata": {
            "tags": []
          }
        },
        {
          "output_type": "stream",
          "text": [
            "(418, 4)\n"
          ],
          "name": "stdout"
        },
        {
          "output_type": "display_data",
          "data": {
            "text/html": [
              "<div>\n",
              "<style scoped>\n",
              "    .dataframe tbody tr th:only-of-type {\n",
              "        vertical-align: middle;\n",
              "    }\n",
              "\n",
              "    .dataframe tbody tr th {\n",
              "        vertical-align: top;\n",
              "    }\n",
              "\n",
              "    .dataframe thead th {\n",
              "        text-align: right;\n",
              "    }\n",
              "</style>\n",
              "<table border=\"1\" class=\"dataframe\">\n",
              "  <thead>\n",
              "    <tr style=\"text-align: right;\">\n",
              "      <th></th>\n",
              "      <th>lecture_id</th>\n",
              "      <th>tag</th>\n",
              "      <th>part</th>\n",
              "      <th>type_of</th>\n",
              "    </tr>\n",
              "  </thead>\n",
              "  <tbody>\n",
              "    <tr>\n",
              "      <th>0</th>\n",
              "      <td>89</td>\n",
              "      <td>24584</td>\n",
              "      <td>5</td>\n",
              "      <td>concept</td>\n",
              "    </tr>\n",
              "    <tr>\n",
              "      <th>1</th>\n",
              "      <td>100</td>\n",
              "      <td>22243</td>\n",
              "      <td>1</td>\n",
              "      <td>concept</td>\n",
              "    </tr>\n",
              "    <tr>\n",
              "      <th>2</th>\n",
              "      <td>185</td>\n",
              "      <td>7035</td>\n",
              "      <td>6</td>\n",
              "      <td>concept</td>\n",
              "    </tr>\n",
              "  </tbody>\n",
              "</table>\n",
              "</div>"
            ],
            "text/plain": [
              "   lecture_id    tag  part  type_of\n",
              "0          89  24584     5  concept\n",
              "1         100  22243     1  concept\n",
              "2         185   7035     6  concept"
            ]
          },
          "metadata": {
            "tags": []
          }
        },
        {
          "output_type": "stream",
          "text": [
            "CPU times: user 1.64 s, sys: 2.06 s, total: 3.7 s\n",
            "Wall time: 29.8 s\n"
          ],
          "name": "stdout"
        }
      ]
    },
    {
      "cell_type": "code",
      "metadata": {
        "colab": {
          "base_uri": "https://localhost:8080/"
        },
        "id": "ifHkb8aPPhma",
        "outputId": "460fe509-7715-4c46-9f5b-b035a84f05af"
      },
      "source": [
        "# We don't need the lectures for now!\n",
        "train = train.loc[train[\"content_type_id\"]==0]"
      ],
      "execution_count": null,
      "outputs": [
        {
          "output_type": "stream",
          "text": [
            "23-12 22:46 numexpr.utils INFO     NumExpr defaulting to 4 threads.\n"
          ],
          "name": "stderr"
        }
      ]
    },
    {
      "cell_type": "code",
      "metadata": {
        "id": "XqeE-GuynMui"
      },
      "source": [
        "# Save space by deleting some columns\n",
        "del train[\"user_answer\"]"
      ],
      "execution_count": null,
      "outputs": []
    },
    {
      "cell_type": "code",
      "metadata": {
        "cellView": "both",
        "id": "yjODj3l-Eas9"
      },
      "source": [
        "N_questions, N_parts = questions[\"question_id\"].nunique(), questions[\"part\"].nunique()\n",
        "N_response, N_task, N_lag, N_et, N_groups, N_avg, N_attempt = 2, 2, 1440, 301, 10, 101, 8"
      ],
      "execution_count": null,
      "outputs": []
    },
    {
      "cell_type": "code",
      "metadata": {
        "id": "6XAcxLxFhEqt"
      },
      "source": [
        "# %%time \n",
        "# # Split users into multiple parts based on THR_E\n",
        "# train = split_into_more_users(train, ascending=USER_ASCENDING)\n",
        "# print(f\"Number of new_user_ids: {train.new_user_id.nunique()}\")"
      ],
      "execution_count": null,
      "outputs": []
    },
    {
      "cell_type": "code",
      "metadata": {
        "id": "1bp-gBbzHlND"
      },
      "source": [
        "# Seq len of users [sorted same as df]. USED FOR TRAINING\n",
        "seq_len_dict = dict(train[\"user_id\"].value_counts())\n",
        "users = train[\"user_id\"].unique()\n",
        "seq_lens = [seq_len_dict[user] for user in users]"
      ],
      "execution_count": null,
      "outputs": []
    },
    {
      "cell_type": "code",
      "metadata": {
        "id": "kF2zoN0jRqzV"
      },
      "source": [
        "# Train/valid split\r\n",
        "train_len = int(len(users)*0.9)\r\n",
        "val_len = len(users) - train_len\r\n",
        "train_users, val_users = users[:train_len], users[train_len:]\r\n",
        "\r\n",
        "# PROBS of sequence\r\n",
        "seq_len_train, seq_len_val = seq_lens[:train_len], seq_lens[train_len:]\r\n",
        "PROBS_TRAIN = seq_len_train/np.sum(seq_len_train)\r\n",
        "PROBS_VAL = seq_len_val/np.sum(seq_len_val)"
      ],
      "execution_count": null,
      "outputs": []
    },
    {
      "cell_type": "code",
      "metadata": {
        "colab": {
          "base_uri": "https://localhost:8080/"
        },
        "id": "w5pBSw-YFjgZ",
        "outputId": "80b93470-7150-45da-9f78-7e8de2946bd3"
      },
      "source": [
        "len(users)"
      ],
      "execution_count": null,
      "outputs": [
        {
          "output_type": "execute_result",
          "data": {
            "text/plain": [
              "393656"
            ]
          },
          "metadata": {
            "tags": []
          },
          "execution_count": 18
        }
      ]
    },
    {
      "cell_type": "code",
      "metadata": {
        "colab": {
          "base_uri": "https://localhost:8080/"
        },
        "id": "VhH7a4bGQDjZ",
        "outputId": "8f9666ed-87b7-4db8-c42b-b8f41a143bd2"
      },
      "source": [
        "train[\"prior_question_had_explanation\"].isnull().sum() # Less than users - why?"
      ],
      "execution_count": null,
      "outputs": [
        {
          "output_type": "execute_result",
          "data": {
            "text/plain": [
              "392506"
            ]
          },
          "metadata": {
            "tags": []
          },
          "execution_count": 19
        }
      ]
    },
    {
      "cell_type": "markdown",
      "metadata": {
        "id": "tWvX2zk-AIBg"
      },
      "source": [
        "## Add all inputs/outputs"
      ]
    },
    {
      "cell_type": "code",
      "metadata": {
        "id": "8P_CP-lACNhq"
      },
      "source": [
        "p_lists, lt_lists, et_lists, tag_lists, task_lists, quantile_transformer_et, lt_cat, quantile_transformer_lt, et_cat, ltc, etc, ex, etg, ra, ca, at  = [], [], [], [], [], [], [], [], [], [],[], [], [], [], [], []"
      ],
      "execution_count": null,
      "outputs": []
    },
    {
      "cell_type": "code",
      "metadata": {
        "cellView": "both",
        "colab": {
          "base_uri": "https://localhost:8080/"
        },
        "id": "aTBlz8gcKwIq",
        "outputId": "b88d162d-8f6d-4681-bfe7-7929b9f7f16b"
      },
      "source": [
        "# Add exercises\n",
        "%time E_lists = return_E()"
      ],
      "execution_count": null,
      "outputs": [
        {
          "output_type": "stream",
          "text": [
            "CPU times: user 26.2 s, sys: 1.27 s, total: 27.4 s\n",
            "Wall time: 27.4 s\n"
          ],
          "name": "stdout"
        }
      ]
    },
    {
      "cell_type": "code",
      "metadata": {
        "colab": {
          "base_uri": "https://localhost:8080/"
        },
        "id": "9NhhuL1-QDUT",
        "outputId": "21ebc912-3578-4228-ba68-c7d2deffd0a8"
      },
      "source": [
        "# Add results, with or without start token\n",
        "%time r_lists = return_r(add_start_token=False)"
      ],
      "execution_count": null,
      "outputs": [
        {
          "output_type": "stream",
          "text": [
            "CPU times: user 24.6 s, sys: 112 ms, total: 24.7 s\n",
            "Wall time: 24.7 s\n"
          ],
          "name": "stdout"
        }
      ]
    },
    {
      "cell_type": "code",
      "metadata": {
        "colab": {
          "base_uri": "https://localhost:8080/"
        },
        "id": "uA-ropTQLh81",
        "outputId": "cbd9026f-6b55-4da5-a4d4-60516e07ea42"
      },
      "source": [
        "if \"ca\" in selections:\r\n",
        "    %time ca = return_ca()"
      ],
      "execution_count": null,
      "outputs": [
        {
          "output_type": "stream",
          "text": [
            "CPU times: user 27.2 s, sys: 1.75 s, total: 28.9 s\n",
            "Wall time: 28.7 s\n"
          ],
          "name": "stdout"
        }
      ]
    },
    {
      "cell_type": "code",
      "metadata": {
        "id": "lQw0mNR3QJy3",
        "colab": {
          "base_uri": "https://localhost:8080/"
        },
        "outputId": "94c0f66d-2111-4a88-d7c9-31d7dd7f41de"
      },
      "source": [
        "if \"at\" in selections:\r\n",
        "    %time at = return_attempt()"
      ],
      "execution_count": null,
      "outputs": [
        {
          "output_type": "stream",
          "text": [
            "CPU times: user 1min 3s, sys: 6.66 s, total: 1min 9s\n",
            "Wall time: 1min 9s\n"
          ],
          "name": "stdout"
        }
      ]
    },
    {
      "cell_type": "code",
      "metadata": {
        "id": "BgJckHd9R47p",
        "colab": {
          "base_uri": "https://localhost:8080/"
        },
        "outputId": "8a3a9b94-74a7-4f84-e093-04606ac62068"
      },
      "source": [
        "if \"ra\" in selections:\r\n",
        "    %time ra = return_r_avg()"
      ],
      "execution_count": null,
      "outputs": [
        {
          "output_type": "stream",
          "text": [
            "CPU times: user 35.8 s, sys: 606 ms, total: 36.4 s\n",
            "Wall time: 35.4 s\n"
          ],
          "name": "stdout"
        }
      ]
    },
    {
      "cell_type": "code",
      "metadata": {
        "id": "gCZ0-bcyNAxi",
        "colab": {
          "base_uri": "https://localhost:8080/"
        },
        "outputId": "1e6bd8f5-36d2-41bf-e403-276640b96124"
      },
      "source": [
        "if \"ex\" in selections:\r\n",
        "    %time ex = return_ex()"
      ],
      "execution_count": null,
      "outputs": [
        {
          "output_type": "stream",
          "text": [
            "CPU times: user 39.7 s, sys: 248 ms, total: 39.9 s\n",
            "Wall time: 39.9 s\n"
          ],
          "name": "stdout"
        }
      ]
    },
    {
      "cell_type": "code",
      "metadata": {
        "id": "YrREQHH1RR84"
      },
      "source": [
        "bins = list(range(30)) + [32, 35, 40, 48, 60, 80, 120, 299, 300]\r\n",
        "if \"etg\" in selections:\r\n",
        "    %time etg = return_etg(bins)\r\n",
        "    # %time etg = return_etg(N_groups)\r\n"
      ],
      "execution_count": null,
      "outputs": []
    },
    {
      "cell_type": "code",
      "metadata": {
        "id": "f7OIGHkzpVYN",
        "colab": {
          "base_uri": "https://localhost:8080/"
        },
        "outputId": "01eb5d7d-d8a4-423e-a2ca-f3b4aca3fdba"
      },
      "source": [
        "if \"ltc\" in selections:\n",
        "    %time ltc = return_ltc()"
      ],
      "execution_count": null,
      "outputs": [
        {
          "output_type": "stream",
          "text": [
            "CPU times: user 29.5 s, sys: 255 ms, total: 29.8 s\n",
            "Wall time: 28.7 s\n"
          ],
          "name": "stdout"
        }
      ]
    },
    {
      "cell_type": "code",
      "metadata": {
        "id": "ZFCxAcxx_6Op"
      },
      "source": [
        "if \"lt\" in selections:\n",
        "    %time lt_lists, quantile_transformer_lt = return_lt()"
      ],
      "execution_count": null,
      "outputs": []
    },
    {
      "cell_type": "code",
      "metadata": {
        "id": "I4lfwLZ1UHFE",
        "colab": {
          "base_uri": "https://localhost:8080/"
        },
        "outputId": "a342de18-be96-428b-cc4d-56a8f110a2a8"
      },
      "source": [
        "if \"etc\" in selections:\r\n",
        "    %time etc = return_etc()"
      ],
      "execution_count": null,
      "outputs": [
        {
          "output_type": "stream",
          "text": [
            "CPU times: user 29 s, sys: 145 ms, total: 29.2 s\n",
            "Wall time: 28.8 s\n"
          ],
          "name": "stdout"
        }
      ]
    },
    {
      "cell_type": "code",
      "metadata": {
        "id": "NRFLPPQ4_6Om",
        "colab": {
          "base_uri": "https://localhost:8080/"
        },
        "outputId": "fc0c9cc1-c4fc-410c-8121-13bdb3fc1316"
      },
      "source": [
        "if \"p\" in selections:\n",
        "    %time p_lists = return_p()"
      ],
      "execution_count": null,
      "outputs": [
        {
          "output_type": "stream",
          "text": [
            "CPU times: user 23 s, sys: 135 ms, total: 23.1 s\n",
            "Wall time: 23.1 s\n"
          ],
          "name": "stdout"
        }
      ]
    },
    {
      "cell_type": "code",
      "metadata": {
        "id": "yEUWCAAXNsl3"
      },
      "source": [
        "if \"et\" in selections:\r\n",
        "    %time et_lists, quantile_transformer_et = return_et()"
      ],
      "execution_count": null,
      "outputs": []
    },
    {
      "cell_type": "code",
      "metadata": {
        "id": "x2pE03BaNqid"
      },
      "source": [
        "if \"tag\" in selections:\n",
        "    %time tag_lists = return_N_highest_tags() # TODO: specify N tags"
      ],
      "execution_count": null,
      "outputs": []
    },
    {
      "cell_type": "code",
      "metadata": {
        "id": "gF9IXoPo8VZW"
      },
      "source": [
        "if \"task\" in selections:\n",
        "    %time task_lists = return_task_binary()"
      ],
      "execution_count": null,
      "outputs": []
    },
    {
      "cell_type": "code",
      "metadata": {
        "id": "FUSTsXKtEX4o"
      },
      "source": [
        "feature_mapping = {\"E\": E_lists, \"r\": r_lists, \"p\": p_lists, \"et\": et_lists, \"lt\": lt_lists, \"tag\": tag_lists, \"task\": task_lists, \"et_std\": et_lists, \"ltc\": ltc, \"etc\": etc, \"ex\": ex, \"etg\": etg, \"ra\": ra, \"at\": at, \"ca\": ca}\n",
        "type_mapping = {\"E\": tf.int32, \"r\": tf.int32, \"p\": tf.int32, \"et\": tf.float32, \"et_std\": tf.float32, \"lt\": tf.float32, \"tag\": tf.float32, \"task\": tf.float32, \"ltc\":tf.int32, \"etc\": tf.int32, \"ex\": tf.int32, \"etg\": tf.int32, \"ra\": tf.int32, \"at\": tf.int32, \"ca\": tf.int32}\n",
        "pad_mapping = {\"E\": N_questions, \"r\": N_response, \"p\": 0, \"et\": 0.0, \"et_std\": 0.0, \"lt\": 1.0, \"tag\": 2.0, \"task\": float(N_task), \"ltc\": N_lag+1, \"etc\": N_et+1, \"ex\": 2, \"etg\": len(bins)+1, \"ra\": N_avg+1, \"at\": N_attempt, \"ca\": N_avg+1}\n",
        "vocab_mapping = {\"E\": N_questions+1, \"r\": N_response+2, \"et\":None, \"p\": N_parts+1, \"lt\": None, \"tag\": 3.0, \"task\": float(N_task+1), \"et_std\": float(300), \"ltc\": N_lag+2, \"etc\": N_et+2, \"ex\": 4, \"etg\": len(bins)+2, \"ra\": N_avg+2, \"at\": N_attempt+1, \"ca\": N_avg+2}\n",
        "pad_shapes = {\"E\": [THR_E], \"r\": [THR_E+1], \"p\": [THR_E], \"et\": [THR_E], \"et_std\": [THR_E],  \"lt\": [THR_E], \"tag\": [THR_E], \"task\": [THR_E], \"ltc\": [THR_E], \"etc\": [THR_E], \"ex\": [THR_E], \"etg\": [THR_E], \"ra\": [THR_E], \"at\": [THR_E], \"ca\": [THR_E]}"
      ],
      "execution_count": null,
      "outputs": []
    },
    {
      "cell_type": "code",
      "metadata": {
        "id": "_g8Yp5YRrtXw"
      },
      "source": [
        "def save_as_dict(df, filename):\n",
        "    seq_dict = df.to_dict()\n",
        "    with open(os.path.join(OUTPUT_FOLDER_DICT, filename), 'wb') as handle:\n",
        "      pickle.dump(seq_dict, handle, protocol=pickle.HIGHEST_PROTOCOL)"
      ],
      "execution_count": null,
      "outputs": []
    },
    {
      "cell_type": "code",
      "metadata": {
        "id": "poOMvtlCq1Pl"
      },
      "source": [
        "if SAVE_DICTS:\n",
        "  OUTPUT_FOLDER_DICT = f\"seq-dict-{THR_E}\"\n",
        "  os.makedirs(OUTPUT_FOLDER_DICT, exist_ok=True)\n",
        "\n",
        "  for feature in selections:\n",
        "      feat_df = feature_mapping[feature]\n",
        "      feat_df = feat_df.apply(lambda x: x[-THR_E:]) # Take last THR_E in history \n",
        "      filename = f\"{feature}.pickle\"\n",
        "      save_as_dict(feat_df, filename)\n",
        "  shutil.move(OUTPUT_FOLDER_DICT, OUTPUT_FOLDER)"
      ],
      "execution_count": null,
      "outputs": []
    },
    {
      "cell_type": "code",
      "metadata": {
        "id": "6aQlsiawcO-8"
      },
      "source": [
        "# Add start token!\r\n",
        "\r\n",
        "# Answers\r\n",
        "r_lists = r_lists.apply(lambda x: [3] + x) # Start token = 3\r\n",
        "feature_mapping[\"r\"] = r_lists\r\n",
        "\r\n",
        "# Running answers\r\n",
        "ra = ra.apply(lambda x: [N_avg] + x[:-1]) # Start token = 101\r\n",
        "feature_mapping[\"ra\"] = ra"
      ],
      "execution_count": null,
      "outputs": []
    },
    {
      "cell_type": "code",
      "metadata": {
        "id": "gtGXR1IZvyKP"
      },
      "source": [
        "vocab_sizes = [vocab_mapping[select] for select in selections]\n",
        "feature_lists = [feature_mapping[select] for select in selections]"
      ],
      "execution_count": null,
      "outputs": []
    },
    {
      "cell_type": "code",
      "metadata": {
        "id": "ai9vHiP4I1hI"
      },
      "source": [
        "PADDING_VALUES = tuple((pad_mapping[select] for select in selections))\n",
        "OUTPUT_TYPES = tuple((type_mapping[select] for select in selections))\n",
        "PADDED_SHAPES = tuple((pad_shapes[select] for select in selections))"
      ],
      "execution_count": null,
      "outputs": []
    },
    {
      "cell_type": "code",
      "metadata": {
        "id": "sO-UUR-V21KT",
        "colab": {
          "base_uri": "https://localhost:8080/"
        },
        "outputId": "aaccada5-c741-4989-fc18-43732a8c2f24"
      },
      "source": [
        "feature_lists"
      ],
      "execution_count": null,
      "outputs": [
        {
          "output_type": "execute_result",
          "data": {
            "text/plain": [
              "[user_id\n",
              " 115           [5692, 5716, 128, 7860, 7922, 156, 51, 50, 789...\n",
              " 124           [7900, 7876, 175, 1278, 2064, 2063, 2065, 3364...\n",
              " 2746          [5273, 758, 5976, 236, 404, 382, 405, 873, 531...\n",
              " 5382          [5000, 3944, 217, 5844, 5965, 4990, 5235, 6050...\n",
              " 8623          [3915, 4750, 6456, 3968, 6104, 5738, 6435, 549...\n",
              "                                     ...                        \n",
              " 2147470770    [7900, 7876, 175, 1278, 2064, 2065, 2063, 3363...\n",
              " 2147470777    [7900, 7876, 175, 1278, 2065, 2064, 2063, 3365...\n",
              " 2147481750    [4137, 1270, 9261, 8201, 367, 378, 214, 6071, ...\n",
              " 2147482216    [3748, 4765, 5474, 9261, 4665, 5987, 6666, 561...\n",
              " 2147482888    [6147, 4792, 5738, 6102, 4748, 7956, 6435, 928...\n",
              " Name: content_id, Length: 393656, dtype: object, user_id\n",
              " 115           [3, 1, 1, 1, 1, 1, 1, 1, 1, 1, 1, 0, 0, 0, 1, ...\n",
              " 124           [3, 1, 0, 1, 0, 0, 0, 1, 0, 0, 0, 0, 1, 0, 1, ...\n",
              " 2746          [3, 0, 0, 0, 1, 0, 1, 1, 1, 1, 0, 1, 1, 0, 1, ...\n",
              " 5382          [3, 1, 0, 1, 0, 1, 1, 1, 1, 0, 0, 0, 1, 0, 1, ...\n",
              " 8623          [3, 1, 1, 1, 1, 1, 1, 1, 0, 0, 1, 1, 0, 0, 1, ...\n",
              "                                     ...                        \n",
              " 2147470770    [3, 1, 1, 1, 1, 1, 1, 0, 0, 0, 0, 0, 0, 0, 1, ...\n",
              " 2147470777    [3, 0, 1, 0, 1, 1, 0, 0, 1, 1, 0, 0, 1, 0, 1, ...\n",
              " 2147481750    [3, 0, 0, 1, 1, 1, 1, 1, 1, 1, 0, 1, 1, 1, 1, ...\n",
              " 2147482216    [3, 0, 0, 0, 1, 1, 0, 0, 0, 0, 1, 0, 0, 1, 1, ...\n",
              " 2147482888    [3, 1, 1, 1, 0, 1, 1, 0, 0, 0, 0, 1, 0, 0, 1, ...\n",
              " Name: answered_correctly, Length: 393656, dtype: object, user_id\n",
              " 115           [1440, 1, 1, 0, 0, 0, 0, 0, 0, 0, 0, 0, 0, 0, ...\n",
              " 124           [1440, 1, 0, 0, 2, 0, 0, 1, 0, 0, 1, 0, 0, 1, ...\n",
              " 2746          [1440, 0, 0, 0, 0, 0, 0, 2, 1, 1, 0, 0, 1, 4, ...\n",
              " 5382          [1440, 1, 2, 0, 0, 0, 2, 1, 0, 1, 1, 67, 6, 4,...\n",
              " 8623          [1440, 1, 1, 1, 1, 1, 1, 0, 0, 0, 1, 782, 1, 1...\n",
              "                                     ...                        \n",
              " 2147470770    [1440, 0, 0, 0, 1, 0, 0, 1, 0, 0, 1, 0, 0, 1, ...\n",
              " 2147470777    [1440, 0, 317, 0, 2, 0, 0, 2, 0, 0, 1, 0, 0, 1...\n",
              " 2147481750    [1440, 0, 0, 0, 0, 0, 0, 0, 0, 0, 1, 0, 1, 1, ...\n",
              " 2147482216    [1440, 1, 0, 0, 0, 1, 0, 0, 4, 1, 1, 1, 1, 1, ...\n",
              " 2147482888    [1440, 0, 0, 0, 0, 0, 1, 1439, 1, 1, 7, 1, 1, ...\n",
              " Name: ltc, Length: 393656, dtype: object, user_id\n",
              " 115           [301, 37, 55, 19, 11, 5, 17, 17, 16, 16, 17, 2...\n",
              " 124           [301, 26, 29, 26, 18, 18, 18, 33, 33, 33, 21, ...\n",
              " 2746          [301, 28, 17, 24, 20, 16, 16, 19, 18, 18, 20, ...\n",
              " 5382          [301, 24, 35, 88, 18, 12, 5, 92, 70, 14, 79, 6...\n",
              " 8623          [301, 16, 33, 30, 40, 35, 30, 29, 15, 19, 14, ...\n",
              "                                     ...                        \n",
              " 2147470770    [301, 21, 22, 26, 16, 16, 16, 25, 25, 25, 24, ...\n",
              " 2147470777    [301, 23, 23, 23, 17, 17, 17, 26, 26, 26, 18, ...\n",
              " 2147481750    [301, 19, 18, 8, 21, 15, 15, 18, 17, 14, 22, 2...\n",
              " 2147482216    [301, 38, 27, 17, 9, 12, 28, 22, 25, 15, 19, 1...\n",
              " 2147482888    [301, 15, 18, 21, 21, 16, 20, 41, 41, 30, 18, ...\n",
              " Name: etc, Length: 393656, dtype: object, user_id\n",
              " 115           [101, 100, 100, 100, 100, 100, 100, 100, 100, ...\n",
              " 124           [101, 100, 50, 67, 50, 40, 33, 43, 38, 33, 30,...\n",
              " 2746          [101, 0, 0, 0, 25, 20, 33, 43, 50, 56, 50, 55,...\n",
              " 5382          [101, 100, 50, 67, 50, 60, 67, 71, 75, 67, 60,...\n",
              " 8623          [101, 100, 100, 100, 100, 100, 100, 100, 88, 7...\n",
              "                                     ...                        \n",
              " 2147470770    [101, 100, 100, 100, 100, 100, 100, 86, 75, 67...\n",
              " 2147470777    [101, 0, 50, 33, 50, 60, 50, 43, 50, 56, 50, 4...\n",
              " 2147481750    [101, 0, 0, 33, 50, 60, 67, 71, 75, 78, 70, 73...\n",
              " 2147482216    [101, 0, 0, 0, 25, 40, 33, 29, 25, 22, 30, 27,...\n",
              " 2147482888    [101, 100, 100, 100, 75, 80, 83, 71, 62, 56, 5...\n",
              " Name: ra, Length: 393656, dtype: object, user_id\n",
              " 115           [0, 0, 0, 0, 0, 0, 0, 0, 0, 0, 0, 0, 0, 0, 0, ...\n",
              " 124           [0, 0, 0, 0, 0, 0, 0, 0, 0, 0, 0, 0, 0, 0, 0, ...\n",
              " 2746          [0, 0, 0, 0, 0, 0, 0, 0, 0, 0, 0, 0, 0, 1, 1, ...\n",
              " 5382          [0, 0, 0, 0, 0, 0, 0, 0, 0, 0, 0, 0, 0, 0, 0, ...\n",
              " 8623          [0, 0, 0, 0, 0, 0, 0, 0, 0, 0, 0, 0, 0, 0, 0, ...\n",
              "                                     ...                        \n",
              " 2147470770    [0, 0, 0, 0, 0, 0, 0, 0, 0, 0, 0, 0, 0, 0, 0, ...\n",
              " 2147470777    [0, 0, 0, 0, 0, 0, 0, 0, 0, 0, 0, 0, 0, 0, 0, ...\n",
              " 2147481750    [0, 0, 0, 0, 0, 0, 0, 0, 0, 0, 0, 0, 0, 0, 0, ...\n",
              " 2147482216    [0, 0, 0, 0, 0, 0, 0, 0, 0, 0, 0, 0, 0, 0, 0, ...\n",
              " 2147482888    [0, 0, 0, 0, 0, 0, 0, 0, 0, 0, 0, 0, 0, 0, 0, ...\n",
              " Name: attempt, Length: 393656, dtype: object, user_id\n",
              " 115           [75, 73, 97, 95, 95, 93, 93, 92, 94, 90, 88, 8...\n",
              " 124           [83, 42, 36, 65, 64, 16, 63, 55, 30, 28, 22, 2...\n",
              " 2746          [70, 72, 43, 66, 69, 83, 59, 63, 72, 65, 87, 7...\n",
              " 5382          [47, 56, 67, 54, 55, 61, 58, 61, 57, 36, 54, 8...\n",
              " 8623          [79, 57, 43, 48, 48, 32, 29, 31, 27, 22, 37, 7...\n",
              "                                     ...                        \n",
              " 2147470770    [83, 42, 36, 65, 64, 63, 16, 28, 55, 30, 21, 2...\n",
              " 2147470777    [83, 42, 36, 65, 63, 64, 16, 30, 28, 55, 24, 2...\n",
              " 2147481750    [68, 85, 71, 57, 77, 92, 82, 66, 59, 34, 58, 5...\n",
              " 2147482216    [60, 81, 49, 71, 57, 57, 79, 57, 45, 63, 89, 7...\n",
              " 2147482888    [79, 67, 32, 27, 61, 96, 29, 53, 57, 68, 94, 5...\n",
              " Name: ca, Length: 393656, dtype: object, user_id\n",
              " 115           [5, 5, 1, 1, 1, 1, 1, 1, 1, 1, 1, 1, 1, 1, 1, ...\n",
              " 124           [1, 1, 1, 2, 3, 3, 3, 4, 4, 4, 4, 4, 4, 4, 4, ...\n",
              " 2746          [5, 2, 5, 2, 2, 2, 2, 2, 2, 2, 2, 2, 2, 2, 2, ...\n",
              " 5382          [5, 5, 2, 5, 5, 5, 5, 5, 5, 5, 5, 1, 1, 1, 1, ...\n",
              " 8623          [5, 5, 5, 5, 5, 5, 5, 5, 5, 5, 5, 2, 2, 2, 2, ...\n",
              "                                     ...                        \n",
              " 2147470770    [1, 1, 1, 2, 3, 3, 3, 4, 4, 4, 4, 4, 4, 4, 4, ...\n",
              " 2147470777    [1, 1, 1, 2, 3, 3, 3, 4, 4, 4, 4, 4, 4, 4, 4, ...\n",
              " 2147481750    [5, 2, 5, 5, 2, 2, 2, 5, 5, 5, 5, 5, 5, 5, 5, ...\n",
              " 2147482216    [5, 5, 5, 5, 5, 5, 5, 5, 2, 2, 2, 2, 2, 2, 2, ...\n",
              " 2147482888    [5, 5, 5, 5, 5, 1, 5, 5, 5, 5, 5, 5, 5, 5, 5, ...\n",
              " Name: part, Length: 393656, dtype: object, user_id\n",
              " 115           [3, False, False, False, False, False, False, ...\n",
              " 124           [3, False, False, False, False, False, False, ...\n",
              " 2746          [3, False, False, False, False, False, False, ...\n",
              " 5382          [3, False, False, False, False, False, False, ...\n",
              " 8623          [3, False, False, False, False, False, False, ...\n",
              "                                     ...                        \n",
              " 2147470770    [3, False, False, False, False, False, False, ...\n",
              " 2147470777    [3, False, False, False, False, False, False, ...\n",
              " 2147481750    [3, False, False, False, False, False, False, ...\n",
              " 2147482216    [3, False, False, False, False, False, False, ...\n",
              " 2147482888    [3, False, False, False, False, False, False, ...\n",
              " Name: ex, Length: 393656, dtype: object]"
            ]
          },
          "metadata": {
            "tags": []
          },
          "execution_count": 41
        }
      ]
    },
    {
      "cell_type": "code",
      "metadata": {
        "cellView": "both",
        "id": "POEyvHfcIBws",
        "colab": {
          "base_uri": "https://localhost:8080/"
        },
        "outputId": "f5bd868e-19da-46da-a0ae-c140509e7de3"
      },
      "source": [
        "try:\n",
        "  del train\n",
        "except Exception as e:\n",
        "  print(\"train already deleted\")\n",
        "gc.collect(), gc.collect()"
      ],
      "execution_count": null,
      "outputs": [
        {
          "output_type": "execute_result",
          "data": {
            "text/plain": [
              "(60, 0)"
            ]
          },
          "metadata": {
            "tags": []
          },
          "execution_count": 42
        }
      ]
    },
    {
      "cell_type": "markdown",
      "metadata": {
        "id": "LzzYXM3bba7p"
      },
      "source": [
        "# Create train/val datasets"
      ]
    },
    {
      "cell_type": "code",
      "metadata": {
        "id": "MJMvNzqIY8QS"
      },
      "source": [
        "# Lists of numpy arrays\r\n",
        "train_list = [features.values[:train_len] for features in feature_lists]\r\n",
        "val_list = [features.values[train_len:] for features in feature_lists]"
      ],
      "execution_count": null,
      "outputs": []
    },
    {
      "cell_type": "code",
      "metadata": {
        "id": "2wkQrxFMtI-s"
      },
      "source": [
        "def select_window_size(*x):\n",
        "    series_len = len(x[0]) # Length of series\n",
        "    if series_len <= THR_E: # Just return the sequence!\n",
        "        return x\n",
        "    else: # Random select from sequence\n",
        "        max_select = series_len - THR_E\n",
        "        random_select = tf.random.uniform(shape=(), minval=0, maxval=max_select, dtype=tf.int32)\n",
        "        x = [i[random_select:random_select+THR_E] for i in x]\n",
        "        x = tuple(x)\n",
        "        return x"
      ],
      "execution_count": null,
      "outputs": []
    },
    {
      "cell_type": "code",
      "metadata": {
        "id": "teDfc5v2UNAp",
        "colab": {
          "base_uri": "https://localhost:8080/"
        },
        "outputId": "217613b9-4ac5-4a3c-c80f-1bf9e93612ac"
      },
      "source": [
        "train_list"
      ],
      "execution_count": null,
      "outputs": [
        {
          "output_type": "execute_result",
          "data": {
            "text/plain": [
              "[array([list([5692, 5716, 128, 7860, 7922, 156, 51, 50, 7896, 7863, 152, 104, 108, 7900, 7901, 7971, 25, 183, 7926, 7927, 4, 7984, 45, 185, 55, 7876, 6, 172, 7898, 175, 100, 7859, 57, 7948, 151, 167, 7897, 7882, 7962, 1278, 2065, 2064, 2063, 3363, 3365, 3364]),\n",
              "        list([7900, 7876, 175, 1278, 2064, 2063, 2065, 3364, 3365, 3363, 2948, 2947, 2946, 2595, 2593, 2594, 4492, 4120, 4696, 6116, 6173, 6370, 6909, 6910, 6908, 6911, 7218, 7216, 7217, 7219]),\n",
              "        list([5273, 758, 5976, 236, 404, 382, 405, 873, 531, 775, 294, 714, 297, 297, 775, 1295, 10684, 1014, 484]),\n",
              "        ...,\n",
              "        list([4500, 4264, 8201, 214, 378, 3674, 4908, 5387, 4402, 6442, 4501, 3957, 4428, 6094, 4416, 4491, 6443, 6292, 5216, 3878, 5670, 6246, 6130, 6767, 6768, 6765, 6766, 6760, 6757, 6758, 6759, 10071, 10072, 10070, 10073, 6869, 6870, 6871, 6872, 6866, 6867, 6865, 6868, 10080, 10078, 10081, 10079, 6624, 6622, 6623, 6621, 6770, 6769, 6771, 6772]),\n",
              "        list([7900, 7876, 175, 1278, 2065, 2064, 2063, 3364, 3365, 3363, 2947, 2946, 2948, 2593, 2594, 2595, 4492, 4120, 4696, 6116, 6173, 6370, 6909, 6908, 6910, 6911, 7217, 7219, 7216, 7218, 5202, 4146, 6452, 9559, 4734, 5251, 6124, 9804, 6369, 6652, 4464, 8356, 4664, 6034, 5627, 8684, 5371, 5186, 5978, 9625, 4217, 5645, 5581, 9661, 6160, 6451, 5703, 8625, 4331, 4496, 6116, 4217, 5251, 7217, 7216, 7219, 7218, 5581, 4496, 4734, 5186, 6652, 3857, 8790, 4568, 3609, 9259, 9484, 5255, 4740, 4455, 9447, 5391, 3751, 4825, 9771, 4025, 6298, 6318, 9558, 5610, 4215]),\n",
              "        list([7900, 7876, 175, 1278, 2065, 2064, 2063, 3363, 3364, 3365, 2948, 2946, 2947, 2595, 2594, 2593, 4492, 4120, 4696, 6116, 6173, 6370, 6910, 6909, 6908, 6911, 7216, 7219, 7218, 7217])],\n",
              "       dtype=object),\n",
              " array([list([3, 1, 1, 1, 1, 1, 1, 1, 1, 1, 1, 0, 0, 0, 1, 1, 1, 1, 0, 1, 1, 0, 0, 0, 0, 1, 1, 1, 1, 1, 0, 1, 0, 1, 1, 1, 1, 0, 1, 1, 1, 1, 1, 0, 0, 0, 1]),\n",
              "        list([3, 1, 0, 1, 0, 0, 0, 1, 0, 0, 0, 0, 1, 0, 1, 0, 0, 0, 0, 0, 1, 0, 0, 1, 0, 0, 0, 0, 0, 0, 0]),\n",
              "        list([3, 0, 0, 0, 1, 0, 1, 1, 1, 1, 0, 1, 1, 0, 1, 0, 1, 1, 0, 1]),\n",
              "        ...,\n",
              "        list([3, 0, 0, 1, 0, 1, 0, 0, 0, 1, 1, 1, 0, 0, 0, 1, 1, 1, 1, 0, 0, 1, 1, 1, 1, 1, 1, 1, 1, 1, 1, 1, 1, 0, 0, 0, 1, 0, 0, 0, 1, 0, 1, 1, 1, 1, 1, 1, 1, 1, 0, 1, 0, 0, 0, 1]),\n",
              "        list([3, 1, 1, 0, 1, 1, 1, 1, 1, 0, 1, 0, 0, 0, 0, 0, 0, 1, 0, 0, 0, 0, 0, 1, 1, 1, 1, 1, 1, 1, 1, 1, 0, 1, 0, 0, 1, 0, 0, 0, 1, 1, 1, 1, 0, 0, 1, 1, 1, 1, 0, 1, 1, 0, 1, 1, 0, 0, 1, 1, 0, 1, 1, 1, 1, 1, 1, 1, 1, 1, 1, 1, 1, 1, 1, 1, 0, 1, 1, 0, 0, 1, 1, 1, 1, 1, 1, 1, 1, 0, 1, 1, 1]),\n",
              "        list([3, 1, 0, 1, 1, 0, 0, 0, 0, 1, 0, 1, 0, 0, 0, 1, 1, 0, 1, 0, 1, 0, 0, 0, 0, 0, 0, 0, 0, 0, 0])],\n",
              "       dtype=object),\n",
              " array([list([1440, 1, 1, 0, 0, 0, 0, 0, 0, 0, 0, 0, 0, 0, 0, 0, 0, 0, 0, 1, 0, 0, 0, 0, 0, 0, 0, 0, 0, 0, 0, 0, 8, 1, 1, 1, 1, 1, 1, 1439, 2, 0, 0, 2, 0, 0]),\n",
              "        list([1440, 1, 0, 0, 2, 0, 0, 1, 0, 0, 1, 0, 0, 1, 0, 0, 1, 0, 0, 0, 0, 0, 1, 0, 0, 0, 0, 0, 0, 0]),\n",
              "        list([1440, 0, 0, 0, 0, 0, 0, 2, 1, 1, 0, 0, 1, 4, 0, 1, 0, 1, 1]),\n",
              "        ...,\n",
              "        list([1440, 1, 1, 0, 0, 1, 0, 0, 1439, 4, 1, 2, 1, 2, 1, 1, 1, 2, 1, 0, 1, 1, 1, 1418, 0, 0, 0, 4, 0, 0, 0, 3, 0, 0, 0, 15, 0, 0, 0, 1439, 0, 0, 0, 4, 0, 0, 0, 2, 0, 0, 0, 3, 0, 0, 0]),\n",
              "        list([1440, 0, 1, 0, 1, 0, 0, 2, 0, 0, 2, 0, 0, 2, 0, 0, 1, 0, 1, 0, 1, 1, 3, 0, 0, 0, 4, 0, 0, 0, 17, 1, 1, 1, 3, 3, 1, 1, 1, 1, 1257, 2, 1, 1, 2, 2, 1, 1, 1, 1, 1286, 2, 1, 1, 1, 2, 2, 1, 1, 1, 681, 0, 0, 1, 0, 0, 0, 1, 0, 1, 2, 2, 680, 1, 1, 1, 2, 2, 2, 1, 1, 1, 1439, 1, 1, 1, 1, 1, 1, 1, 1, 1]),\n",
              "        list([1440, 0, 0, 0, 1, 0, 0, 1, 0, 0, 1, 0, 0, 2, 0, 0, 0, 0, 0, 0, 0, 0, 2, 0, 0, 0, 3, 0, 0, 0])],\n",
              "       dtype=object),\n",
              " array([list([301, 37, 55, 19, 11, 5, 17, 17, 16, 16, 17, 22, 23, 21, 24, 22, 21, 20, 18, 17, 29, 20, 19, 21, 22, 16, 20, 22, 22, 23, 20, 15, 20, 20, 22, 19, 17, 20, 17, 21, 17, 17, 17, 14, 14, 14]),\n",
              "        list([301, 26, 29, 26, 18, 18, 18, 33, 33, 33, 21, 21, 21, 22, 22, 22, 15, 32, 23, 27, 14, 17, 7, 7, 7, 7, 6, 6, 6, 6]),\n",
              "        list([301, 28, 17, 24, 20, 16, 16, 19, 18, 18, 20, 13, 13, 16, 15, 16, 17, 19, 20]),\n",
              "        ...,\n",
              "        list([301, 28, 26, 32, 18, 10, 47, 14, 15, 30, 2, 14, 76, 28, 46, 31, 31, 53, 58, 18, 10, 20, 1, 17, 17, 17, 17, 39, 39, 39, 39, 29, 29, 29, 29, 31, 31, 31, 31, 57, 57, 57, 57, 24, 24, 24, 24, 25, 25, 25, 25, 31, 31, 31, 31]),\n",
              "        list([301, 22, 26, 31, 7, 7, 7, 24, 24, 24, 32, 32, 32, 47, 47, 47, 34, 32, 26, 33, 14, 72, 52, 52, 52, 52, 50, 50, 50, 50, 62, 28, 24, 26, 33, 32, 17, 59, 32, 20, 39, 62, 42, 22, 37, 67, 37, 8, 47, 18, 20, 42, 14, 21, 16, 44, 43, 39, 28, 24, 26, 5, 3, 7, 7, 7, 7, 18, 20, 4, 41, 12, 9, 23, 33, 32, 34, 71, 45, 25, 32, 42, 27, 17, 27, 10, 27, 56, 23, 30, 25, 40]),\n",
              "        list([301, 22, 22, 23, 14, 14, 14, 24, 24, 24, 22, 22, 22, 26, 26, 26, 29, 14, 8, 7, 8, 5, 6, 6, 6, 6, 22, 22, 22, 22])],\n",
              "       dtype=object),\n",
              " array([list([101, 100, 100, 100, 100, 100, 100, 100, 100, 100, 100, 91, 83, 77, 79, 80, 81, 82, 78, 79, 80, 76, 73, 70, 67, 68, 69, 70, 71, 72, 70, 71, 69, 70, 71, 71, 72, 70, 71, 72, 72, 73, 74, 72, 70, 69]),\n",
              "        list([101, 100, 50, 67, 50, 40, 33, 43, 38, 33, 30, 27, 33, 31, 36, 33, 31, 29, 28, 26, 30, 29, 27, 30, 29, 28, 27, 26, 25, 24]),\n",
              "        list([101, 0, 0, 0, 25, 20, 33, 43, 50, 56, 50, 55, 58, 54, 57, 53, 56, 59, 56]),\n",
              "        ...,\n",
              "        list([101, 0, 0, 33, 25, 40, 33, 29, 25, 33, 40, 45, 42, 38, 36, 40, 44, 47, 50, 47, 45, 48, 50, 52, 54, 56, 58, 59, 61, 62, 63, 65, 66, 64, 62, 60, 61, 59, 58, 56, 58, 56, 57, 58, 59, 60, 61, 62, 62, 63, 62, 63, 62, 60, 59]),\n",
              "        list([101, 100, 100, 67, 75, 80, 83, 86, 88, 78, 80, 73, 67, 62, 57, 53, 50, 53, 50, 47, 45, 43, 41, 43, 46, 48, 50, 52, 54, 55, 57, 58, 56, 58, 56, 54, 56, 54, 53, 51, 52, 54, 55, 56, 55, 53, 54, 55, 56, 57, 56, 57, 58, 57, 57, 58, 57, 56, 57, 58, 57, 57, 58, 59, 59, 60, 61, 61, 62, 62, 63, 63, 64, 64, 65, 65, 64, 65, 65, 65, 64, 64, 65, 65, 65, 66, 66, 67, 67, 66, 67, 67]),\n",
              "        list([101, 100, 50, 67, 75, 60, 50, 43, 38, 44, 40, 45, 42, 38, 36, 40, 44, 41, 44, 42, 45, 43, 41, 39, 38, 36, 35, 33, 32, 31])],\n",
              "       dtype=object),\n",
              " array([list([0, 0, 0, 0, 0, 0, 0, 0, 0, 0, 0, 0, 0, 0, 0, 0, 0, 0, 0, 0, 0, 0, 0, 0, 0, 0, 0, 0, 0, 0, 0, 0, 0, 0, 0, 0, 0, 0, 0, 0, 0, 0, 0, 0, 0, 0]),\n",
              "        list([0, 0, 0, 0, 0, 0, 0, 0, 0, 0, 0, 0, 0, 0, 0, 0, 0, 0, 0, 0, 0, 0, 0, 0, 0, 0, 0, 0, 0, 0]),\n",
              "        list([0, 0, 0, 0, 0, 0, 0, 0, 0, 0, 0, 0, 0, 1, 1, 0, 0, 0, 0]),\n",
              "        ...,\n",
              "        list([0, 0, 0, 0, 0, 0, 0, 0, 0, 0, 0, 0, 0, 0, 0, 0, 0, 0, 0, 0, 0, 0, 0, 0, 0, 0, 0, 0, 0, 0, 0, 0, 0, 0, 0, 0, 0, 0, 0, 0, 0, 0, 0, 0, 0, 0, 0, 0, 0, 0, 0, 0, 0, 0, 0]),\n",
              "        list([0, 0, 0, 0, 0, 0, 0, 0, 0, 0, 0, 0, 0, 0, 0, 0, 0, 0, 0, 0, 0, 0, 0, 0, 0, 0, 0, 0, 0, 0, 0, 0, 0, 0, 0, 0, 0, 0, 0, 0, 0, 0, 0, 0, 0, 0, 0, 0, 0, 0, 0, 0, 0, 0, 0, 0, 0, 0, 0, 0, 1, 1, 1, 1, 1, 1, 1, 1, 1, 1, 1, 1, 0, 0, 0, 0, 0, 0, 0, 0, 0, 0, 0, 0, 0, 0, 0, 0, 0, 0, 0, 0]),\n",
              "        list([0, 0, 0, 0, 0, 0, 0, 0, 0, 0, 0, 0, 0, 0, 0, 0, 0, 0, 0, 0, 0, 0, 0, 0, 0, 0, 0, 0, 0, 0])],\n",
              "       dtype=object),\n",
              " array([list([75, 73, 97, 95, 95, 93, 93, 92, 94, 90, 88, 88, 85, 83, 85, 80, 78, 73, 77, 73, 61, 68, 69, 61, 60, 42, 47, 46, 54, 36, 35, 38, 90, 96, 93, 95, 86, 84, 98, 65, 63, 64, 16, 28, 30, 55]),\n",
              "        list([83, 42, 36, 65, 64, 16, 63, 55, 30, 28, 22, 24, 21, 47, 56, 43, 46, 28, 55, 28, 30, 31, 61, 83, 42, 45, 61, 42, 50, 27]),\n",
              "        list([70, 72, 43, 66, 69, 83, 59, 63, 72, 65, 87, 76, 85, 85, 65, 83, 86, 83, 74]),\n",
              "        ...,\n",
              "        list([59, 72, 57, 82, 92, 70, 54, 53, 68, 63, 66, 49, 63, 62, 75, 58, 54, 59, 64, 20, 61, 53, 46, 77, 64, 85, 65, 62, 80, 81, 77, 91, 26, 58, 28, 53, 38, 27, 65, 75, 71, 50, 75, 81, 88, 75, 31, 65, 84, 70, 76, 58, 81, 77, 71]),\n",
              "        list([83, 42, 36, 65, 63, 64, 16, 55, 30, 28, 24, 21, 22, 56, 43, 47, 46, 28, 55, 28, 30, 31, 61, 42, 83, 45, 50, 27, 42, 61, 53, 67, 67, 40, 65, 80, 65, 78, 70, 72, 56, 52, 75, 64, 47, 59, 75, 64, 76, 39, 66, 61, 57, 76, 66, 59, 37, 70, 73, 59, 28, 66, 80, 50, 42, 27, 61, 57, 59, 65, 64, 72, 46, 55, 60, 75, 45, 82, 75, 60, 60, 73, 85, 82, 81, 44, 68, 86, 59, 86, 72, 72]),\n",
              "        list([83, 42, 36, 65, 63, 64, 16, 28, 55, 30, 22, 21, 24, 47, 43, 56, 46, 28, 55, 28, 30, 31, 83, 61, 42, 45, 42, 27, 61, 50])],\n",
              "       dtype=object),\n",
              " array([list([5, 5, 1, 1, 1, 1, 1, 1, 1, 1, 1, 1, 1, 1, 1, 1, 1, 1, 1, 1, 1, 1, 1, 1, 1, 1, 1, 1, 1, 1, 1, 1, 1, 1, 1, 1, 1, 1, 1, 2, 3, 3, 3, 4, 4, 4]),\n",
              "        list([1, 1, 1, 2, 3, 3, 3, 4, 4, 4, 4, 4, 4, 4, 4, 4, 5, 5, 5, 5, 5, 5, 6, 6, 6, 6, 7, 7, 7, 7]),\n",
              "        list([5, 2, 5, 2, 2, 2, 2, 2, 2, 2, 2, 2, 2, 2, 2, 2, 2, 2, 2]),\n",
              "        ...,\n",
              "        list([5, 5, 5, 2, 2, 5, 5, 5, 5, 5, 5, 5, 5, 5, 5, 5, 5, 5, 5, 5, 5, 5, 5, 6, 6, 6, 6, 6, 6, 6, 6, 6, 6, 6, 6, 6, 6, 6, 6, 6, 6, 6, 6, 6, 6, 6, 6, 6, 6, 6, 6, 6, 6, 6, 6]),\n",
              "        list([1, 1, 1, 2, 3, 3, 3, 4, 4, 4, 4, 4, 4, 4, 4, 4, 5, 5, 5, 5, 5, 5, 6, 6, 6, 6, 7, 7, 7, 7, 5, 5, 5, 5, 5, 5, 5, 5, 5, 5, 5, 5, 5, 5, 5, 5, 5, 5, 5, 5, 5, 5, 5, 5, 5, 5, 5, 5, 5, 5, 5, 5, 5, 7, 7, 7, 7, 5, 5, 5, 5, 5, 5, 5, 5, 5, 5, 5, 5, 5, 5, 5, 5, 5, 5, 5, 5, 5, 5, 5, 5, 5]),\n",
              "        list([1, 1, 1, 2, 3, 3, 3, 4, 4, 4, 4, 4, 4, 4, 4, 4, 5, 5, 5, 5, 5, 5, 6, 6, 6, 6, 7, 7, 7, 7])],\n",
              "       dtype=object),\n",
              " array([list([3, False, False, False, False, False, False, False, False, False, False, False, False, False, False, False, False, False, False, False, False, False, False, False, False, False, False, False, False, False, False, False, False, True, True, True, True, True, True, False, False, False, False, False, False, False]),\n",
              "        list([3, False, False, False, False, False, False, False, False, False, False, False, False, False, False, False, False, False, False, False, False, False, False, False, False, False, False, False, False, False]),\n",
              "        list([3, False, False, False, False, False, False, False, True, True, True, True, True, True, True, True, True, True, True]),\n",
              "        ...,\n",
              "        list([3, False, False, False, False, False, False, False, False, True, True, True, True, True, True, True, True, True, True, True, True, True, True, True, True, True, True, True, True, True, True, True, True, True, True, True, True, True, True, True, True, True, True, True, True, True, True, True, True, True, True, True, True, True, True]),\n",
              "        list([3, False, False, False, False, False, False, False, False, False, False, False, False, False, False, False, False, False, False, False, False, False, False, False, False, False, False, False, False, False, False, True, True, True, True, True, True, True, True, True, True, True, True, True, True, True, True, True, True, True, True, True, True, True, True, True, True, True, True, True, True, True, True, True, True, True, True, True, True, True, True, True, True, True, True, True, True, True, True, True, True, True, True, True, True, True, True, True, True, True, True, True]),\n",
              "        list([3, False, False, False, False, False, False, False, False, False, False, False, False, False, False, False, False, False, False, False, False, False, False, False, False, False, False, False, False, False])],\n",
              "       dtype=object)]"
            ]
          },
          "metadata": {
            "tags": []
          },
          "execution_count": 45
        }
      ]
    },
    {
      "cell_type": "code",
      "metadata": {
        "id": "n_uGV6iLARz1"
      },
      "source": [
        "def create_train_dataset(N_training_per_epoch, probs_train):\n",
        "  index = np.random.choice(train_len, N_training_per_epoch, replace=True, p = probs_train) # random indexing (similar to shuffling)\n",
        "  tr_list = [features[index] for features in train_list] # Selecting by index \n",
        "  train_ds = (tf.data.Dataset\n",
        "                  .from_generator(lambda: iter(zip(*tr_list)), output_types=OUTPUT_TYPES)\n",
        "                  .map(select_window_size)\n",
        "                  .padded_batch(batch_size = BATCH_SIZE, padded_shapes = PADDED_SHAPES, padding_values = PADDING_VALUES)\n",
        "                  .prefetch(AUTO)\n",
        "  )\n",
        "  return train_ds"
      ],
      "execution_count": null,
      "outputs": []
    },
    {
      "cell_type": "code",
      "metadata": {
        "id": "MyI8fDf7Ik4A"
      },
      "source": [
        "def create_val_dataset(N_valid_per_epoch, probs_val):\n",
        "  index = np.random.choice(val_len, N_valid_per_epoch, replace=True, p = probs_val) # random indexing (similar to shuffling)\n",
        "  vl_list = [features[index] for features in val_list] # Selecting by index \n",
        "  val_ds = (tf.data.Dataset\n",
        "                  .from_generator(lambda: iter(zip(*vl_list)), output_types=OUTPUT_TYPES)\n",
        "                  .map(select_window_size)\n",
        "                  .padded_batch(batch_size = BATCH_SIZE, padded_shapes = PADDED_SHAPES, padding_values = PADDING_VALUES)\n",
        "                  .cache()\n",
        "                  .prefetch(AUTO)\n",
        "  )\n",
        "  return val_ds"
      ],
      "execution_count": null,
      "outputs": []
    },
    {
      "cell_type": "code",
      "metadata": {
        "id": "oDJudy20sEdg"
      },
      "source": [
        "val_dataset = create_val_dataset(N_SELECT_PER_EPOCH, PROBS_VAL)\r\n",
        "a = iter(val_dataset) # Small check"
      ],
      "execution_count": null,
      "outputs": []
    },
    {
      "cell_type": "code",
      "metadata": {
        "id": "tMsYgAgVJhxq",
        "colab": {
          "base_uri": "https://localhost:8080/"
        },
        "outputId": "508ef972-ced2-4312-ccc5-f1a12d09201b"
      },
      "source": [
        "next(a)"
      ],
      "execution_count": null,
      "outputs": [
        {
          "output_type": "execute_result",
          "data": {
            "text/plain": [
              "(<tf.Tensor: shape=(128, 100), dtype=int32, numpy=\n",
              " array([[10478, 10647, 10463, ..., 10681, 10628, 10439],\n",
              "        [ 3711,  3595,  3968, ..., 13523, 13523, 13523],\n",
              "        [ 5132,  4866,  5050, ...,  7972,   114,  7898],\n",
              "        ...,\n",
              "        [ 7900,  7876,   175, ...,  9518,  4983,  4768],\n",
              "        [ 6910,  6908,  6911, ...,  7952, 10407,  7933],\n",
              "        [ 4979,  4702,  6670, ...,  3961,  5043,  4421]], dtype=int32)>,\n",
              " <tf.Tensor: shape=(128, 101), dtype=int32, numpy=\n",
              " array([[1, 1, 1, ..., 1, 1, 2],\n",
              "        [3, 1, 0, ..., 2, 2, 2],\n",
              "        [1, 0, 0, ..., 1, 1, 2],\n",
              "        ...,\n",
              "        [3, 1, 1, ..., 1, 1, 2],\n",
              "        [1, 1, 0, ..., 1, 1, 2],\n",
              "        [1, 1, 0, ..., 0, 0, 2]], dtype=int32)>,\n",
              " <tf.Tensor: shape=(128, 100), dtype=int32, numpy=\n",
              " array([[   1,    0,    0, ...,    1,    0,    0],\n",
              "        [1440,    0,    1, ..., 1441, 1441, 1441],\n",
              "        [   1,    0,    0, ...,    1,    1,    2],\n",
              "        ...,\n",
              "        [1440,    0,    0, ...,    0,    0,    1],\n",
              "        [   0,    0,    0, ...,    0,    1,    1],\n",
              "        [   1,    2,    1, ...,    2,    2,    1]], dtype=int32)>,\n",
              " <tf.Tensor: shape=(128, 100), dtype=int32, numpy=\n",
              " array([[ 44,  20,  18, ...,  22,  25,  19],\n",
              "        [301,  40,  20, ..., 302, 302, 302],\n",
              "        [ 10,  31,  26, ...,  20,  21,  22],\n",
              "        ...,\n",
              "        [301,  18,  18, ...,  31,  10,   5],\n",
              "        [ 27,  27,  27, ...,  22,  12,  25],\n",
              "        [ 26,  21,  20, ...,  17,  26,  19]], dtype=int32)>,\n",
              " <tf.Tensor: shape=(128, 100), dtype=int32, numpy=\n",
              " array([[ 71,  71,  71, ...,  71,  71,  71],\n",
              "        [101, 100,  50, ..., 102, 102, 102],\n",
              "        [ 62,  56,  50, ...,  71,  72,  72],\n",
              "        ...,\n",
              "        [101, 100, 100, ...,  60,  60,  61],\n",
              "        [ 48,  50,  48, ...,  78,  78,  78],\n",
              "        [ 48,  48,  48, ...,  49,  49,  49]], dtype=int32)>,\n",
              " <tf.Tensor: shape=(128, 100), dtype=int32, numpy=\n",
              " array([[0, 0, 0, ..., 0, 0, 0],\n",
              "        [0, 0, 0, ..., 8, 8, 8],\n",
              "        [0, 0, 0, ..., 0, 0, 0],\n",
              "        ...,\n",
              "        [0, 0, 0, ..., 0, 0, 0],\n",
              "        [0, 0, 0, ..., 0, 0, 0],\n",
              "        [0, 0, 0, ..., 0, 0, 0]], dtype=int32)>,\n",
              " <tf.Tensor: shape=(128, 100), dtype=int32, numpy=\n",
              " array([[ 86,  87,  81, ...,  78,  95,  98],\n",
              "        [ 74,  84,  48, ..., 102, 102, 102],\n",
              "        [ 50,  38,  41, ...,  71,  67,  54],\n",
              "        ...,\n",
              "        [ 83,  42,  36, ...,  85,  84,  64],\n",
              "        [ 83,  42,  45, ...,  98,  77,  70],\n",
              "        [ 69,  56,  67, ...,  60,  36,  55]], dtype=int32)>,\n",
              " <tf.Tensor: shape=(128, 100), dtype=int32, numpy=\n",
              " array([[1, 1, 1, ..., 1, 1, 1],\n",
              "        [5, 5, 5, ..., 0, 0, 0],\n",
              "        [5, 5, 5, ..., 1, 1, 1],\n",
              "        ...,\n",
              "        [1, 1, 1, ..., 5, 5, 5],\n",
              "        [6, 6, 6, ..., 1, 1, 1],\n",
              "        [5, 5, 5, ..., 5, 5, 5]], dtype=int32)>,\n",
              " <tf.Tensor: shape=(128, 100), dtype=int32, numpy=\n",
              " array([[1, 1, 1, ..., 1, 1, 1],\n",
              "        [3, 0, 0, ..., 2, 2, 2],\n",
              "        [0, 0, 0, ..., 1, 1, 1],\n",
              "        ...,\n",
              "        [3, 0, 0, ..., 1, 1, 1],\n",
              "        [0, 0, 0, ..., 1, 1, 1],\n",
              "        [1, 1, 1, ..., 1, 1, 1]], dtype=int32)>)"
            ]
          },
          "metadata": {
            "tags": []
          },
          "execution_count": 49
        }
      ]
    },
    {
      "cell_type": "markdown",
      "metadata": {
        "id": "Yz9Fk6sp6sgP"
      },
      "source": [
        "## Get model and set hyperparameters"
      ]
    },
    {
      "cell_type": "code",
      "metadata": {
        "id": "feqp6ENL6sgT"
      },
      "source": [
        "%run $MODEL_FILE"
      ],
      "execution_count": null,
      "outputs": []
    },
    {
      "cell_type": "code",
      "metadata": {
        "id": "hEQBB9KthwmS",
        "colab": {
          "base_uri": "https://localhost:8080/",
          "height": 34
        },
        "outputId": "82bb43bf-761e-4986-e82d-a3dd21cb5c4b"
      },
      "source": [
        "shutil.copy('/content/drive/My Drive/Colab Notebooks/demo-riiid-transformer.ipynb', OUTPUT_FOLDER)"
      ],
      "execution_count": null,
      "outputs": [
        {
          "output_type": "execute_result",
          "data": {
            "application/vnd.google.colaboratory.intrinsic+json": {
              "type": "string"
            },
            "text/plain": [
              "'23-Dec-riiid-2/demo-riiid-transformer.ipynb'"
            ]
          },
          "metadata": {
            "tags": []
          },
          "execution_count": 51
        }
      ]
    },
    {
      "cell_type": "code",
      "metadata": {
        "id": "D9IBAuXw6sgY",
        "colab": {
          "base_uri": "https://localhost:8080/"
        },
        "outputId": "7cc1083e-ec86-4be7-e5fe-68c14ce94d12"
      },
      "source": [
        "# Hyperparameters main model\n",
        "config = {\"features\": selections, \"n_features\": len(selections), \"vocab_sizes\": vocab_sizes, \n",
        "          \"enc_emb\": ENC_EMB, \"enc_dense\": ENC_DENSE, \"dec_emb\": DEC_EMB, \"dec_dense\": DEC_DENSE, \n",
        "          \"window_size\": THR_E, \"enc_num_layers\": 2, \"dec_num_layers\": 2, \"d_model\": 256, \n",
        "          \"dff\": 512, \"num_heads\": 8, \"dropout_rate\": 0.1, \"pos_encoding\": True,\n",
        "          \"padding_values\": PADDING_VALUES, \"output_types\": OUTPUT_TYPES, \"padded_shapes\": PADDED_SHAPES, \n",
        "          \"quantile_transformer_et\": quantile_transformer_et,  \"quantile_transformer_lt\": quantile_transformer_lt}\n",
        "\n",
        "with open(os.path.join(OUTPUT_FOLDER, \"config.pickle\"), 'wb') as handle:\n",
        "  pickle.dump(config, handle, protocol=pickle.HIGHEST_PROTOCOL)\n",
        "\n",
        "logging.info('config: %s', config)"
      ],
      "execution_count": null,
      "outputs": [
        {
          "output_type": "stream",
          "text": [
            "23-12 22:52 root         INFO     config: {'features': ['E', 'r', 'ltc', 'etc', 'ra', 'at', 'ca', 'p', 'ex'], 'n_features': 9, 'vocab_sizes': [13524, 4, 1442, 303, 103, 9, 103, 8, 4], 'enc_emb': [0, 5, 6, 7], 'enc_dense': [], 'dec_emb': [1, 2, 3, 4, 8], 'dec_dense': [], 'window_size': 100, 'enc_num_layers': 2, 'dec_num_layers': 2, 'd_model': 256, 'dff': 512, 'num_heads': 8, 'dropout_rate': 0.1, 'pos_encoding': True, 'padding_values': (13523, 2, 1441, 302, 102, 8, 102, 0, 2), 'output_types': (tf.int32, tf.int32, tf.int32, tf.int32, tf.int32, tf.int32, tf.int32, tf.int32, tf.int32), 'padded_shapes': ([100], [101], [100], [100], [100], [100], [100], [100], [100]), 'quantile_transformer_et': [], 'quantile_transformer_lt': []}\n"
          ],
          "name": "stderr"
        }
      ]
    },
    {
      "cell_type": "code",
      "metadata": {
        "id": "4gIEWr8V6sgf"
      },
      "source": [
        "transformer = create_model_separate_input(config)\n",
        "# tf.keras.utils.plot_model(transformer, os.path.join(OUTPUT_FOLDER, \"model_plot.png\"), show_shapes=True)"
      ],
      "execution_count": null,
      "outputs": []
    },
    {
      "cell_type": "markdown",
      "metadata": {
        "id": "DiW6F6Rv66fx"
      },
      "source": [
        "## Optimizer"
      ]
    },
    {
      "cell_type": "code",
      "metadata": {
        "id": "uWAf5VTW66fz"
      },
      "source": [
        "class CustomSchedule(tf.keras.optimizers.schedules.LearningRateSchedule):\n",
        "  def __init__(self, d_model, warmup_steps=4000):\n",
        "    super(CustomSchedule, self).__init__()\n",
        "    \n",
        "    self.d_model = d_model\n",
        "    self.d_model = tf.cast(self.d_model, tf.float32)\n",
        "\n",
        "    self.warmup_steps = warmup_steps\n",
        "  def __call__(self, step):\n",
        "    arg1 = tf.math.rsqrt(step)\n",
        "    arg2 = step * (self.warmup_steps ** -1.5)\n",
        "    \n",
        "    return tf.math.rsqrt(self.d_model) * tf.math.minimum(arg1, arg2)"
      ],
      "execution_count": null,
      "outputs": []
    },
    {
      "cell_type": "code",
      "metadata": {
        "id": "VYjhA2aa66f2"
      },
      "source": [
        "learning_rate = CustomSchedule(config[\"d_model\"])\n",
        "optimizer = tf.keras.optimizers.Adam(learning_rate, beta_1=0.9, beta_2=0.999, \n",
        "                                      epsilon=1e-9)"
      ],
      "execution_count": null,
      "outputs": []
    },
    {
      "cell_type": "markdown",
      "metadata": {
        "id": "VVVIhusN66f5"
      },
      "source": [
        "## Loss and metrics"
      ]
    },
    {
      "cell_type": "markdown",
      "metadata": {
        "id": "QdEZ2qRz66f6"
      },
      "source": [
        "Since the target sequences are padded, it is important to apply a padding mask when calculating the loss."
      ]
    },
    {
      "cell_type": "code",
      "metadata": {
        "id": "RNgoEGX666f6"
      },
      "source": [
        "# Loss and metric\n",
        "loss_object = tf.keras.losses.SparseCategoricalCrossentropy(\n",
        "    from_logits=True, reduction='none')\n",
        "\n",
        "accuracy_object = tf.keras.metrics.sparse_categorical_accuracy\n",
        "\n",
        "train_auc= tf.keras.metrics.AUC()\n",
        "val_auc= tf.keras.metrics.AUC()"
      ],
      "execution_count": null,
      "outputs": []
    },
    {
      "cell_type": "code",
      "metadata": {
        "id": "V_Bm57bt66f9"
      },
      "source": [
        "def loss_function(real, pred): # batch_size x seq_size x 1 vs  batch_size x seq_size x 3\n",
        "    mask = tf.math.logical_not(tf.math.equal(tf.squeeze(real), N_response)) # batch_size x seq_size\n",
        "    loss_ = loss_object(real, pred) # batch_size x seq_size\n",
        "    mask = tf.cast(mask, dtype=loss_.dtype)\n",
        "    \n",
        "    loss_ *= mask \n",
        "    loss_ = tf.reduce_sum(loss_)/tf.reduce_sum(mask) #loss becomes one value! (from all batches)\n",
        "    return loss_"
      ],
      "execution_count": null,
      "outputs": []
    },
    {
      "cell_type": "code",
      "metadata": {
        "id": "ahEaU3kN66f_"
      },
      "source": [
        "def metric_function(real, pred, auc_object): # batch_size x seq_size x 1 vs  batch_size x seq_size x 3\n",
        "    # Predict accuracy\n",
        "    mask = tf.math.logical_not(tf.math.equal(tf.squeeze(real), N_response)) # batch_size x seq_size\n",
        "    accuracy = accuracy_object(real, pred) # batch_size x seq_size\n",
        "    mask = tf.cast(mask, dtype=accuracy.dtype)\n",
        "    \n",
        "    accuracy *= mask\n",
        "    accuracy = 100*tf.reduce_sum(accuracy)/tf.reduce_sum(mask)\n",
        "    \n",
        "    # A work-around to predict AUC => is it stable?\n",
        "    pred = tf.nn.softmax(pred)\n",
        "    pred = pred[:,:,1] # pred that answer is correct\n",
        "    real = tf.keras.backend.flatten(real)\n",
        "    pred = tf.keras.backend.flatten(pred)\n",
        "    \n",
        "    idxs = tf.math.logical_not(tf.math.equal(real, N_response))\n",
        "    real = real[idxs]\n",
        "    pred = pred[idxs]\n",
        "    auc = auc_object(real, pred)\n",
        "    return accuracy"
      ],
      "execution_count": null,
      "outputs": []
    },
    {
      "cell_type": "code",
      "metadata": {
        "id": "Cm9x2sLp66gC"
      },
      "source": [
        "train_loss = tf.keras.metrics.Mean(name='train_loss')\n",
        "train_accuracy = tf.keras.metrics.Mean(name='train_accuracy')\n",
        "\n",
        "val_loss = tf.keras.metrics.Mean(name='val_loss')\n",
        "val_accuracy = tf.keras.metrics.Mean(name='val_accuracy')"
      ],
      "execution_count": null,
      "outputs": []
    },
    {
      "cell_type": "markdown",
      "metadata": {
        "id": "aeHumfr7zmMa"
      },
      "source": [
        "## Training and checkpointing"
      ]
    },
    {
      "cell_type": "markdown",
      "metadata": {
        "id": "Fzuf06YZp66w"
      },
      "source": [
        "Create the checkpoint path and the checkpoint manager. This will be used to save checkpoints every `n` epochs."
      ]
    },
    {
      "cell_type": "code",
      "metadata": {
        "id": "hNhuYfllndLZ"
      },
      "source": [
        "checkpoint_path = os.path.join(OUTPUT_FOLDER, \"checkpoints/\")\n",
        "ckpt = tf.train.Checkpoint(transformer=transformer,\n",
        "                           optimizer=optimizer)\n",
        "\n",
        "ckpt_manager = tf.train.CheckpointManager(ckpt, checkpoint_path, max_to_keep=1)\n",
        "\n",
        "# https://stackoverflow.com/questions/62919208/how-to-restore-a-specific-checkpoint-in-tensorflow2-to-implement-early-stopping\n",
        "\n",
        "# # if a checkpoint exists, restore the latest checkpoint.\n",
        "# if ckpt_manager.latest_checkpoint:\n",
        "#   ckpt.restore(ckpt_manager.latest_checkpoint)\n",
        "#   print ('Latest checkpoint restored!!')"
      ],
      "execution_count": null,
      "outputs": []
    },
    {
      "cell_type": "code",
      "metadata": {
        "id": "4nsLZJ6FznKF"
      },
      "source": [
        "@tf.function()\n",
        "def train_step(tar_real, *inputs):\n",
        "    with tf.GradientTape() as tape: \n",
        "        predictions = transformer(inputs, training=True)\n",
        "        tar_real = tf.expand_dims(tar_real, -1) # IMPORTANT! DOESN'T WORK WITHOUT IT. ALWAYS GIVES ERROR INCOMPATIBLE SHAPE. E.G. (32,169) vs. (32,169,3)\n",
        "        \n",
        "        loss = loss_function(tar_real, predictions)\n",
        "        accuracy = metric_function(tar_real, predictions, auc_object = train_auc)\n",
        "    \n",
        "    gradients = tape.gradient(loss, transformer.trainable_variables)    \n",
        "    optimizer.apply_gradients(zip(gradients, transformer.trainable_variables))\n",
        "\n",
        "    train_loss(loss)\n",
        "    train_accuracy(accuracy)\n",
        "\n",
        "@tf.function()\n",
        "def val_step(tar_real, *inputs):\n",
        "    predictions = transformer(inputs, training=False)\n",
        "    tar_real = tf.expand_dims(tar_real, -1) # IMPORTANT! DOESN'T WORK WITHOUT IT. ALWAYS GIVES ERROR INCOMPATIBLE SHAPE. E.G. (32,169) vs. (32,169,3)\n",
        "    \n",
        "    loss = loss_function(tar_real, predictions)\n",
        "    accuracy = metric_function(tar_real, predictions, auc_object = val_auc)\n",
        "\n",
        "    val_loss(loss)\n",
        "    val_accuracy(accuracy)"
      ],
      "execution_count": null,
      "outputs": []
    },
    {
      "cell_type": "code",
      "metadata": {
        "id": "bbvmaKNiznHZ",
        "colab": {
          "base_uri": "https://localhost:8080/",
          "height": 1000
        },
        "outputId": "e236507d-8217-4d3d-8159-fc75d9dfd38d"
      },
      "source": [
        "best_auc = 0\n",
        "for epoch in range(EPOCHS):\n",
        "    train_dataset = create_train_dataset(N_SELECT_PER_EPOCH, PROBS_TRAIN) # create train for each epoch\n",
        "    start = time.time()\n",
        "\n",
        "    train_loss.reset_states()\n",
        "    train_accuracy.reset_states()\n",
        "    train_auc.reset_states()\n",
        "    \n",
        "    val_loss.reset_states()\n",
        "    val_accuracy.reset_states()\n",
        "    val_auc.reset_states()\n",
        "\n",
        "    # Train\n",
        "    for (batch, (features)) in enumerate(train_dataset):\n",
        "        E, tar, rest = features[0], features[1], features[2:] \n",
        "        tar_inp = tar[:, :-1]\n",
        "        tar_real = tar[:, 1:]\n",
        "\n",
        "        inputs = [E, tar_inp] + list(rest)        \n",
        "        train_step(tar_real, inputs)\n",
        "        \n",
        "        if batch % PRINT_EVERY_N_BATCHES == 0:\n",
        "            print ('Epoch {} TRAIN Batch {} Loss {:.4f} Accuracy {:.4f} AUC {:.4f}'.format(\n",
        "              epoch + 1, batch, train_loss.result(), train_accuracy.result(), train_auc.result()))\n",
        "\n",
        "    logging.info('Epoch TRAIN {} Loss {:.4f} Accuracy {:.4f} AUC {:.4f}'.format(epoch + 1, \n",
        "                                                train_loss.result(), \n",
        "                                                train_accuracy.result(),\n",
        "                                                train_auc.result()\n",
        "                                                ))\n",
        "    \n",
        "    # Validate and save model\n",
        "    if (epoch + 1) % VAL_EVERY_N_EPOCHS == 0: \n",
        "      for (batch, (features)) in enumerate(val_dataset):\n",
        "          E, tar, rest = features[0], features[1], features[2:] \n",
        "          tar_inp = tar[:, :-1]\n",
        "          tar_real = tar[:, 1:]\n",
        "\n",
        "          inputs = [E, tar_inp] + list(rest)          \n",
        "          val_step(tar_real, inputs)\n",
        "\n",
        "          if batch % PRINT_EVERY_N_BATCHES == 0:\n",
        "              print ('Epoch {} VAL Batch {} Loss {:.4f} Accuracy {:.4f} AUC {:.4f}'.format(\n",
        "                epoch + 1, batch, val_loss.result(), val_accuracy.result(), val_auc.result()))\n",
        "      \n",
        "      logging.info('Epoch VAL {} Loss {:.4f} Accuracy {:.4f} AUC {:.4f}'.format(epoch + 1, \n",
        "                                          val_loss.result(), \n",
        "                                          val_accuracy.result(),\n",
        "                                          val_auc.result()\n",
        "                                          ))    \n",
        "       \n",
        "      if val_auc.result() > best_auc:\n",
        "          best_auc = val_auc.result()\n",
        "          ckpt_save_path = ckpt_manager.save()\n",
        "          logging.info('Saving checkpoint for epoch {} at {}'.format(epoch+1,\n",
        "                                                            ckpt_save_path))\n",
        "        \n",
        "    print ('Time taken for 1 epoch: {} secs\\n'.format(time.time() - start))"
      ],
      "execution_count": null,
      "outputs": [
        {
          "output_type": "stream",
          "text": [
            "Epoch 1 TRAIN Batch 0 Loss 1.2360 Accuracy 35.9787 AUC 0.4951\n",
            "Epoch 1 TRAIN Batch 50 Loss 0.8490 Accuracy 54.8736 AUC 0.4977\n",
            "Epoch 1 TRAIN Batch 100 Loss 0.7745 Accuracy 58.5356 AUC 0.4987\n",
            "Epoch 1 TRAIN Batch 150 Loss 0.7417 Accuracy 60.0956 AUC 0.5001\n",
            "Epoch 1 TRAIN Batch 200 Loss 0.7215 Accuracy 61.2533 AUC 0.5020\n",
            "Epoch 1 TRAIN Batch 250 Loss 0.7074 Accuracy 62.1335 AUC 0.5039\n",
            "Epoch 1 TRAIN Batch 300 Loss 0.6972 Accuracy 62.7753 AUC 0.5058\n",
            "Epoch 1 TRAIN Batch 350 Loss 0.6890 Accuracy 63.3117 AUC 0.5084\n",
            "Epoch 1 TRAIN Batch 400 Loss 0.6824 Accuracy 63.7331 AUC 0.5117\n",
            "Epoch 1 TRAIN Batch 450 Loss 0.6764 Accuracy 64.1155 AUC 0.5166\n",
            "Epoch 1 TRAIN Batch 500 Loss 0.6711 Accuracy 64.4019 AUC 0.5236\n",
            "Epoch 1 TRAIN Batch 550 Loss 0.6664 Accuracy 64.6466 AUC 0.5310\n",
            "Epoch 1 TRAIN Batch 600 Loss 0.6623 Accuracy 64.8558 AUC 0.5379\n",
            "Epoch 1 TRAIN Batch 650 Loss 0.6585 Accuracy 65.0806 AUC 0.5442\n",
            "Epoch 1 TRAIN Batch 700 Loss 0.6553 Accuracy 65.2591 AUC 0.5500\n",
            "Epoch 1 TRAIN Batch 750 Loss 0.6524 Accuracy 65.4226 AUC 0.5550\n"
          ],
          "name": "stdout"
        },
        {
          "output_type": "stream",
          "text": [
            "23-12 22:56 root         INFO     Epoch TRAIN 1 Loss 0.6509 Accuracy 65.5019 AUC 0.5576\n"
          ],
          "name": "stderr"
        },
        {
          "output_type": "stream",
          "text": [
            "Time taken for 1 epoch: 236.8526327610016 secs\n",
            "\n",
            "Epoch 2 TRAIN Batch 0 Loss 0.6145 Accuracy 67.0415 AUC 0.6324\n",
            "Epoch 2 TRAIN Batch 50 Loss 0.6113 Accuracy 67.6698 AUC 0.6287\n",
            "Epoch 2 TRAIN Batch 100 Loss 0.6094 Accuracy 67.8605 AUC 0.6308\n",
            "Epoch 2 TRAIN Batch 150 Loss 0.6094 Accuracy 67.8228 AUC 0.6328\n",
            "Epoch 2 TRAIN Batch 200 Loss 0.6092 Accuracy 67.8242 AUC 0.6340\n",
            "Epoch 2 TRAIN Batch 250 Loss 0.6077 Accuracy 67.9108 AUC 0.6375\n",
            "Epoch 2 TRAIN Batch 300 Loss 0.6049 Accuracy 68.0826 AUC 0.6439\n",
            "Epoch 2 TRAIN Batch 350 Loss 0.6001 Accuracy 68.4175 AUC 0.6547\n",
            "Epoch 2 TRAIN Batch 400 Loss 0.5944 Accuracy 68.8299 AUC 0.6664\n",
            "Epoch 2 TRAIN Batch 450 Loss 0.5891 Accuracy 69.2013 AUC 0.6766\n",
            "Epoch 2 TRAIN Batch 500 Loss 0.5841 Accuracy 69.5480 AUC 0.6853\n",
            "Epoch 2 TRAIN Batch 550 Loss 0.5801 Accuracy 69.8256 AUC 0.6925\n",
            "Epoch 2 TRAIN Batch 600 Loss 0.5766 Accuracy 70.0771 AUC 0.6985\n",
            "Epoch 2 TRAIN Batch 650 Loss 0.5732 Accuracy 70.3152 AUC 0.7038\n",
            "Epoch 2 TRAIN Batch 700 Loss 0.5705 Accuracy 70.5020 AUC 0.7082\n",
            "Epoch 2 TRAIN Batch 750 Loss 0.5681 Accuracy 70.6703 AUC 0.7121\n"
          ],
          "name": "stdout"
        },
        {
          "output_type": "stream",
          "text": [
            "23-12 23:00 root         INFO     Epoch TRAIN 2 Loss 0.5668 Accuracy 70.7585 AUC 0.7141\n"
          ],
          "name": "stderr"
        },
        {
          "output_type": "stream",
          "text": [
            "Time taken for 1 epoch: 226.1633861064911 secs\n",
            "\n",
            "Epoch 3 TRAIN Batch 0 Loss 0.5363 Accuracy 72.7470 AUC 0.7604\n",
            "Epoch 3 TRAIN Batch 50 Loss 0.5371 Accuracy 72.8030 AUC 0.7600\n",
            "Epoch 3 TRAIN Batch 100 Loss 0.5358 Accuracy 72.8778 AUC 0.7609\n",
            "Epoch 3 TRAIN Batch 150 Loss 0.5352 Accuracy 72.9305 AUC 0.7613\n",
            "Epoch 3 TRAIN Batch 200 Loss 0.5348 Accuracy 72.9690 AUC 0.7617\n",
            "Epoch 3 TRAIN Batch 250 Loss 0.5345 Accuracy 72.9868 AUC 0.7618\n",
            "Epoch 3 TRAIN Batch 300 Loss 0.5339 Accuracy 73.0375 AUC 0.7621\n",
            "Epoch 3 TRAIN Batch 350 Loss 0.5340 Accuracy 73.0368 AUC 0.7620\n",
            "Epoch 3 TRAIN Batch 400 Loss 0.5335 Accuracy 73.0732 AUC 0.7622\n",
            "Epoch 3 TRAIN Batch 450 Loss 0.5333 Accuracy 73.0921 AUC 0.7623\n",
            "Epoch 3 TRAIN Batch 500 Loss 0.5332 Accuracy 73.1043 AUC 0.7626\n",
            "Epoch 3 TRAIN Batch 550 Loss 0.5332 Accuracy 73.0962 AUC 0.7626\n",
            "Epoch 3 TRAIN Batch 600 Loss 0.5332 Accuracy 73.0903 AUC 0.7627\n",
            "Epoch 3 TRAIN Batch 650 Loss 0.5333 Accuracy 73.0777 AUC 0.7626\n",
            "Epoch 3 TRAIN Batch 700 Loss 0.5330 Accuracy 73.0958 AUC 0.7629\n",
            "Epoch 3 TRAIN Batch 750 Loss 0.5330 Accuracy 73.0964 AUC 0.7630\n"
          ],
          "name": "stdout"
        },
        {
          "output_type": "stream",
          "text": [
            "23-12 23:04 root         INFO     Epoch TRAIN 3 Loss 0.5328 Accuracy 73.1082 AUC 0.7631\n"
          ],
          "name": "stderr"
        },
        {
          "output_type": "stream",
          "text": [
            "Time taken for 1 epoch: 222.17368125915527 secs\n",
            "\n",
            "Epoch 4 TRAIN Batch 0 Loss 0.5307 Accuracy 73.2986 AUC 0.7715\n",
            "Epoch 4 TRAIN Batch 50 Loss 0.5337 Accuracy 73.0572 AUC 0.7634\n",
            "Epoch 4 TRAIN Batch 100 Loss 0.5331 Accuracy 73.0996 AUC 0.7638\n",
            "Epoch 4 TRAIN Batch 150 Loss 0.5320 Accuracy 73.1699 AUC 0.7645\n",
            "Epoch 4 TRAIN Batch 200 Loss 0.5316 Accuracy 73.1951 AUC 0.7648\n",
            "Epoch 4 TRAIN Batch 250 Loss 0.5320 Accuracy 73.1653 AUC 0.7644\n",
            "Epoch 4 TRAIN Batch 300 Loss 0.5314 Accuracy 73.2052 AUC 0.7649\n",
            "Epoch 4 TRAIN Batch 350 Loss 0.5311 Accuracy 73.2175 AUC 0.7650\n",
            "Epoch 4 TRAIN Batch 400 Loss 0.5312 Accuracy 73.2085 AUC 0.7650\n",
            "Epoch 4 TRAIN Batch 450 Loss 0.5314 Accuracy 73.1947 AUC 0.7651\n",
            "Epoch 4 TRAIN Batch 500 Loss 0.5310 Accuracy 73.2180 AUC 0.7654\n",
            "Epoch 4 TRAIN Batch 550 Loss 0.5307 Accuracy 73.2421 AUC 0.7656\n",
            "Epoch 4 TRAIN Batch 600 Loss 0.5306 Accuracy 73.2474 AUC 0.7657\n",
            "Epoch 4 TRAIN Batch 650 Loss 0.5305 Accuracy 73.2496 AUC 0.7658\n",
            "Epoch 4 TRAIN Batch 700 Loss 0.5306 Accuracy 73.2403 AUC 0.7659\n",
            "Epoch 4 TRAIN Batch 750 Loss 0.5305 Accuracy 73.2502 AUC 0.7660\n"
          ],
          "name": "stdout"
        },
        {
          "output_type": "stream",
          "text": [
            "23-12 23:07 root         INFO     Epoch TRAIN 4 Loss 0.5304 Accuracy 73.2529 AUC 0.7660\n"
          ],
          "name": "stderr"
        },
        {
          "output_type": "stream",
          "text": [
            "Time taken for 1 epoch: 221.62048649787903 secs\n",
            "\n",
            "Epoch 5 TRAIN Batch 0 Loss 0.5317 Accuracy 73.2725 AUC 0.7680\n",
            "Epoch 5 TRAIN Batch 50 Loss 0.5298 Accuracy 73.2734 AUC 0.7663\n",
            "Epoch 5 TRAIN Batch 100 Loss 0.5281 Accuracy 73.4093 AUC 0.7674\n",
            "Epoch 5 TRAIN Batch 150 Loss 0.5275 Accuracy 73.4368 AUC 0.7678\n",
            "Epoch 5 TRAIN Batch 200 Loss 0.5274 Accuracy 73.4414 AUC 0.7681\n",
            "Epoch 5 TRAIN Batch 250 Loss 0.5278 Accuracy 73.4051 AUC 0.7681\n",
            "Epoch 5 TRAIN Batch 300 Loss 0.5278 Accuracy 73.4065 AUC 0.7684\n",
            "Epoch 5 TRAIN Batch 350 Loss 0.5278 Accuracy 73.4000 AUC 0.7684\n",
            "Epoch 5 TRAIN Batch 400 Loss 0.5278 Accuracy 73.3957 AUC 0.7684\n",
            "Epoch 5 TRAIN Batch 450 Loss 0.5278 Accuracy 73.3986 AUC 0.7686\n",
            "Epoch 5 TRAIN Batch 500 Loss 0.5277 Accuracy 73.3993 AUC 0.7686\n",
            "Epoch 5 TRAIN Batch 550 Loss 0.5276 Accuracy 73.4128 AUC 0.7687\n",
            "Epoch 5 TRAIN Batch 600 Loss 0.5276 Accuracy 73.4081 AUC 0.7687\n",
            "Epoch 5 TRAIN Batch 650 Loss 0.5276 Accuracy 73.4056 AUC 0.7688\n",
            "Epoch 5 TRAIN Batch 700 Loss 0.5274 Accuracy 73.4121 AUC 0.7688\n",
            "Epoch 5 TRAIN Batch 750 Loss 0.5273 Accuracy 73.4201 AUC 0.7689\n"
          ],
          "name": "stdout"
        },
        {
          "output_type": "stream",
          "text": [
            "23-12 23:11 root         INFO     Epoch TRAIN 5 Loss 0.5273 Accuracy 73.4248 AUC 0.7690\n"
          ],
          "name": "stderr"
        },
        {
          "output_type": "stream",
          "text": [
            "Epoch 5 VAL Batch 0 Loss 0.5271 Accuracy 73.8795 AUC 0.7666\n",
            "Epoch 5 VAL Batch 50 Loss 0.5255 Accuracy 73.5685 AUC 0.7722\n",
            "Epoch 5 VAL Batch 100 Loss 0.5256 Accuracy 73.5225 AUC 0.7731\n",
            "Epoch 5 VAL Batch 150 Loss 0.5249 Accuracy 73.5790 AUC 0.7734\n",
            "Epoch 5 VAL Batch 200 Loss 0.5248 Accuracy 73.5902 AUC 0.7734\n",
            "Epoch 5 VAL Batch 250 Loss 0.5248 Accuracy 73.5779 AUC 0.7734\n",
            "Epoch 5 VAL Batch 300 Loss 0.5246 Accuracy 73.5996 AUC 0.7735\n",
            "Epoch 5 VAL Batch 350 Loss 0.5246 Accuracy 73.6004 AUC 0.7735\n",
            "Epoch 5 VAL Batch 400 Loss 0.5246 Accuracy 73.6014 AUC 0.7734\n",
            "Epoch 5 VAL Batch 450 Loss 0.5245 Accuracy 73.6065 AUC 0.7734\n",
            "Epoch 5 VAL Batch 500 Loss 0.5244 Accuracy 73.6086 AUC 0.7734\n",
            "Epoch 5 VAL Batch 550 Loss 0.5245 Accuracy 73.6042 AUC 0.7735\n",
            "Epoch 5 VAL Batch 600 Loss 0.5247 Accuracy 73.5946 AUC 0.7734\n",
            "Epoch 5 VAL Batch 650 Loss 0.5246 Accuracy 73.6026 AUC 0.7734\n",
            "Epoch 5 VAL Batch 700 Loss 0.5247 Accuracy 73.5977 AUC 0.7734\n",
            "Epoch 5 VAL Batch 750 Loss 0.5247 Accuracy 73.5966 AUC 0.7734\n"
          ],
          "name": "stdout"
        },
        {
          "output_type": "stream",
          "text": [
            "23-12 23:14 root         INFO     Epoch VAL 5 Loss 0.5247 Accuracy 73.5928 AUC 0.7734\n",
            "23-12 23:14 root         INFO     Saving checkpoint for epoch 5 at 23-Dec-riiid-2/checkpoints/ckpt-1\n"
          ],
          "name": "stderr"
        },
        {
          "output_type": "stream",
          "text": [
            "Time taken for 1 epoch: 418.94866275787354 secs\n",
            "\n",
            "Epoch 6 TRAIN Batch 0 Loss 0.5322 Accuracy 72.6029 AUC 0.7665\n",
            "Epoch 6 TRAIN Batch 50 Loss 0.5260 Accuracy 73.5179 AUC 0.7700\n",
            "Epoch 6 TRAIN Batch 100 Loss 0.5255 Accuracy 73.5578 AUC 0.7704\n",
            "Epoch 6 TRAIN Batch 150 Loss 0.5259 Accuracy 73.4851 AUC 0.7707\n",
            "Epoch 6 TRAIN Batch 200 Loss 0.5255 Accuracy 73.5137 AUC 0.7710\n",
            "Epoch 6 TRAIN Batch 250 Loss 0.5257 Accuracy 73.4967 AUC 0.7710\n",
            "Epoch 6 TRAIN Batch 300 Loss 0.5255 Accuracy 73.5188 AUC 0.7713\n",
            "Epoch 6 TRAIN Batch 350 Loss 0.5258 Accuracy 73.5007 AUC 0.7711\n",
            "Epoch 6 TRAIN Batch 400 Loss 0.5255 Accuracy 73.5256 AUC 0.7713\n",
            "Epoch 6 TRAIN Batch 450 Loss 0.5253 Accuracy 73.5428 AUC 0.7714\n",
            "Epoch 6 TRAIN Batch 500 Loss 0.5254 Accuracy 73.5382 AUC 0.7714\n",
            "Epoch 6 TRAIN Batch 550 Loss 0.5253 Accuracy 73.5390 AUC 0.7714\n",
            "Epoch 6 TRAIN Batch 600 Loss 0.5252 Accuracy 73.5488 AUC 0.7715\n",
            "Epoch 6 TRAIN Batch 650 Loss 0.5251 Accuracy 73.5576 AUC 0.7716\n",
            "Epoch 6 TRAIN Batch 700 Loss 0.5250 Accuracy 73.5582 AUC 0.7718\n",
            "Epoch 6 TRAIN Batch 750 Loss 0.5250 Accuracy 73.5605 AUC 0.7719\n"
          ],
          "name": "stdout"
        },
        {
          "output_type": "stream",
          "text": [
            "23-12 23:18 root         INFO     Epoch TRAIN 6 Loss 0.5249 Accuracy 73.5662 AUC 0.7720\n"
          ],
          "name": "stderr"
        },
        {
          "output_type": "stream",
          "text": [
            "Time taken for 1 epoch: 216.72609162330627 secs\n",
            "\n",
            "Epoch 7 TRAIN Batch 0 Loss 0.5271 Accuracy 73.4691 AUC 0.7729\n",
            "Epoch 7 TRAIN Batch 50 Loss 0.5236 Accuracy 73.6855 AUC 0.7732\n",
            "Epoch 7 TRAIN Batch 100 Loss 0.5242 Accuracy 73.6479 AUC 0.7728\n",
            "Epoch 7 TRAIN Batch 150 Loss 0.5236 Accuracy 73.6745 AUC 0.7733\n",
            "Epoch 7 TRAIN Batch 200 Loss 0.5235 Accuracy 73.6918 AUC 0.7734\n",
            "Epoch 7 TRAIN Batch 250 Loss 0.5236 Accuracy 73.7001 AUC 0.7736\n",
            "Epoch 7 TRAIN Batch 300 Loss 0.5233 Accuracy 73.7084 AUC 0.7738\n",
            "Epoch 7 TRAIN Batch 350 Loss 0.5230 Accuracy 73.7295 AUC 0.7742\n",
            "Epoch 7 TRAIN Batch 400 Loss 0.5230 Accuracy 73.7228 AUC 0.7742\n",
            "Epoch 7 TRAIN Batch 450 Loss 0.5230 Accuracy 73.7228 AUC 0.7743\n",
            "Epoch 7 TRAIN Batch 500 Loss 0.5230 Accuracy 73.7270 AUC 0.7743\n",
            "Epoch 7 TRAIN Batch 550 Loss 0.5229 Accuracy 73.7282 AUC 0.7744\n",
            "Epoch 7 TRAIN Batch 600 Loss 0.5228 Accuracy 73.7320 AUC 0.7745\n",
            "Epoch 7 TRAIN Batch 650 Loss 0.5228 Accuracy 73.7338 AUC 0.7745\n",
            "Epoch 7 TRAIN Batch 700 Loss 0.5227 Accuracy 73.7365 AUC 0.7745\n",
            "Epoch 7 TRAIN Batch 750 Loss 0.5227 Accuracy 73.7394 AUC 0.7745\n"
          ],
          "name": "stdout"
        },
        {
          "output_type": "stream",
          "text": [
            "23-12 23:22 root         INFO     Epoch TRAIN 7 Loss 0.5226 Accuracy 73.7417 AUC 0.7746\n"
          ],
          "name": "stderr"
        },
        {
          "output_type": "stream",
          "text": [
            "Time taken for 1 epoch: 220.2097098827362 secs\n",
            "\n",
            "Epoch 8 TRAIN Batch 0 Loss 0.5275 Accuracy 73.7345 AUC 0.7624\n",
            "Epoch 8 TRAIN Batch 50 Loss 0.5215 Accuracy 73.8298 AUC 0.7761\n",
            "Epoch 8 TRAIN Batch 100 Loss 0.5220 Accuracy 73.7512 AUC 0.7764\n",
            "Epoch 8 TRAIN Batch 150 Loss 0.5218 Accuracy 73.7663 AUC 0.7761\n",
            "Epoch 8 TRAIN Batch 200 Loss 0.5219 Accuracy 73.7626 AUC 0.7757\n",
            "Epoch 8 TRAIN Batch 250 Loss 0.5219 Accuracy 73.7549 AUC 0.7760\n",
            "Epoch 8 TRAIN Batch 300 Loss 0.5218 Accuracy 73.7565 AUC 0.7761\n",
            "Epoch 8 TRAIN Batch 350 Loss 0.5215 Accuracy 73.7755 AUC 0.7763\n",
            "Epoch 8 TRAIN Batch 400 Loss 0.5213 Accuracy 73.7869 AUC 0.7765\n",
            "Epoch 8 TRAIN Batch 450 Loss 0.5213 Accuracy 73.7897 AUC 0.7765\n",
            "Epoch 8 TRAIN Batch 500 Loss 0.5214 Accuracy 73.7799 AUC 0.7764\n",
            "Epoch 8 TRAIN Batch 550 Loss 0.5214 Accuracy 73.7773 AUC 0.7765\n",
            "Epoch 8 TRAIN Batch 600 Loss 0.5215 Accuracy 73.7712 AUC 0.7764\n",
            "Epoch 8 TRAIN Batch 650 Loss 0.5215 Accuracy 73.7738 AUC 0.7764\n",
            "Epoch 8 TRAIN Batch 700 Loss 0.5214 Accuracy 73.7759 AUC 0.7764\n",
            "Epoch 8 TRAIN Batch 750 Loss 0.5213 Accuracy 73.7750 AUC 0.7765\n"
          ],
          "name": "stdout"
        },
        {
          "output_type": "stream",
          "text": [
            "23-12 23:25 root         INFO     Epoch TRAIN 8 Loss 0.5213 Accuracy 73.7772 AUC 0.7766\n"
          ],
          "name": "stderr"
        },
        {
          "output_type": "stream",
          "text": [
            "Time taken for 1 epoch: 216.25833678245544 secs\n",
            "\n",
            "Epoch 9 TRAIN Batch 0 Loss 0.5209 Accuracy 73.6583 AUC 0.7833\n",
            "Epoch 9 TRAIN Batch 50 Loss 0.5219 Accuracy 73.6508 AUC 0.7774\n",
            "Epoch 9 TRAIN Batch 100 Loss 0.5219 Accuracy 73.6865 AUC 0.7766\n",
            "Epoch 9 TRAIN Batch 150 Loss 0.5214 Accuracy 73.7296 AUC 0.7768\n",
            "Epoch 9 TRAIN Batch 200 Loss 0.5209 Accuracy 73.7701 AUC 0.7770\n",
            "Epoch 9 TRAIN Batch 250 Loss 0.5206 Accuracy 73.7968 AUC 0.7773\n",
            "Epoch 9 TRAIN Batch 300 Loss 0.5207 Accuracy 73.7955 AUC 0.7773\n",
            "Epoch 9 TRAIN Batch 350 Loss 0.5206 Accuracy 73.8002 AUC 0.7774\n",
            "Epoch 9 TRAIN Batch 400 Loss 0.5205 Accuracy 73.8211 AUC 0.7774\n",
            "Epoch 9 TRAIN Batch 450 Loss 0.5203 Accuracy 73.8446 AUC 0.7776\n",
            "Epoch 9 TRAIN Batch 500 Loss 0.5201 Accuracy 73.8512 AUC 0.7775\n",
            "Epoch 9 TRAIN Batch 550 Loss 0.5200 Accuracy 73.8600 AUC 0.7777\n",
            "Epoch 9 TRAIN Batch 600 Loss 0.5201 Accuracy 73.8608 AUC 0.7776\n",
            "Epoch 9 TRAIN Batch 650 Loss 0.5201 Accuracy 73.8548 AUC 0.7778\n",
            "Epoch 9 TRAIN Batch 700 Loss 0.5201 Accuracy 73.8580 AUC 0.7778\n",
            "Epoch 9 TRAIN Batch 750 Loss 0.5200 Accuracy 73.8646 AUC 0.7778\n"
          ],
          "name": "stdout"
        },
        {
          "output_type": "stream",
          "text": [
            "23-12 23:29 root         INFO     Epoch TRAIN 9 Loss 0.5201 Accuracy 73.8559 AUC 0.7777\n"
          ],
          "name": "stderr"
        },
        {
          "output_type": "stream",
          "text": [
            "Time taken for 1 epoch: 219.02686524391174 secs\n",
            "\n",
            "Epoch 10 TRAIN Batch 0 Loss 0.5083 Accuracy 74.7366 AUC 0.7885\n",
            "Epoch 10 TRAIN Batch 50 Loss 0.5202 Accuracy 73.8549 AUC 0.7774\n",
            "Epoch 10 TRAIN Batch 100 Loss 0.5194 Accuracy 73.9097 AUC 0.7781\n",
            "Epoch 10 TRAIN Batch 150 Loss 0.5195 Accuracy 73.8875 AUC 0.7783\n",
            "Epoch 10 TRAIN Batch 200 Loss 0.5196 Accuracy 73.8899 AUC 0.7780\n",
            "Epoch 10 TRAIN Batch 250 Loss 0.5193 Accuracy 73.9114 AUC 0.7782\n",
            "Epoch 10 TRAIN Batch 300 Loss 0.5194 Accuracy 73.9150 AUC 0.7782\n",
            "Epoch 10 TRAIN Batch 350 Loss 0.5195 Accuracy 73.9010 AUC 0.7783\n",
            "Epoch 10 TRAIN Batch 400 Loss 0.5194 Accuracy 73.9050 AUC 0.7784\n",
            "Epoch 10 TRAIN Batch 450 Loss 0.5194 Accuracy 73.8969 AUC 0.7785\n",
            "Epoch 10 TRAIN Batch 500 Loss 0.5193 Accuracy 73.8990 AUC 0.7786\n",
            "Epoch 10 TRAIN Batch 550 Loss 0.5193 Accuracy 73.8995 AUC 0.7786\n",
            "Epoch 10 TRAIN Batch 600 Loss 0.5192 Accuracy 73.9057 AUC 0.7787\n",
            "Epoch 10 TRAIN Batch 650 Loss 0.5192 Accuracy 73.9010 AUC 0.7786\n",
            "Epoch 10 TRAIN Batch 700 Loss 0.5192 Accuracy 73.8988 AUC 0.7787\n",
            "Epoch 10 TRAIN Batch 750 Loss 0.5190 Accuracy 73.9145 AUC 0.7789\n"
          ],
          "name": "stdout"
        },
        {
          "output_type": "stream",
          "text": [
            "23-12 23:33 root         INFO     Epoch TRAIN 10 Loss 0.5190 Accuracy 73.9119 AUC 0.7789\n"
          ],
          "name": "stderr"
        },
        {
          "output_type": "stream",
          "text": [
            "Epoch 10 VAL Batch 0 Loss 0.5216 Accuracy 74.3720 AUC 0.7756\n",
            "Epoch 10 VAL Batch 50 Loss 0.5195 Accuracy 73.9630 AUC 0.7804\n",
            "Epoch 10 VAL Batch 100 Loss 0.5195 Accuracy 73.9184 AUC 0.7814\n",
            "Epoch 10 VAL Batch 150 Loss 0.5187 Accuracy 73.9835 AUC 0.7817\n",
            "Epoch 10 VAL Batch 200 Loss 0.5186 Accuracy 74.0015 AUC 0.7817\n",
            "Epoch 10 VAL Batch 250 Loss 0.5186 Accuracy 73.9871 AUC 0.7817\n",
            "Epoch 10 VAL Batch 300 Loss 0.5184 Accuracy 74.0068 AUC 0.7819\n",
            "Epoch 10 VAL Batch 350 Loss 0.5184 Accuracy 74.0031 AUC 0.7817\n",
            "Epoch 10 VAL Batch 400 Loss 0.5184 Accuracy 74.0082 AUC 0.7817\n",
            "Epoch 10 VAL Batch 450 Loss 0.5183 Accuracy 74.0109 AUC 0.7816\n",
            "Epoch 10 VAL Batch 500 Loss 0.5183 Accuracy 74.0124 AUC 0.7817\n",
            "Epoch 10 VAL Batch 550 Loss 0.5184 Accuracy 74.0097 AUC 0.7817\n",
            "Epoch 10 VAL Batch 600 Loss 0.5185 Accuracy 74.0009 AUC 0.7817\n",
            "Epoch 10 VAL Batch 650 Loss 0.5185 Accuracy 74.0073 AUC 0.7816\n",
            "Epoch 10 VAL Batch 700 Loss 0.5185 Accuracy 74.0035 AUC 0.7816\n",
            "Epoch 10 VAL Batch 750 Loss 0.5186 Accuracy 74.0020 AUC 0.7817\n"
          ],
          "name": "stdout"
        },
        {
          "output_type": "stream",
          "text": [
            "23-12 23:33 root         INFO     Epoch VAL 10 Loss 0.5186 Accuracy 73.9990 AUC 0.7816\n",
            "23-12 23:33 root         INFO     Saving checkpoint for epoch 10 at 23-Dec-riiid-2/checkpoints/ckpt-2\n"
          ],
          "name": "stderr"
        },
        {
          "output_type": "stream",
          "text": [
            "Time taken for 1 epoch: 249.47285890579224 secs\n",
            "\n",
            "Epoch 11 TRAIN Batch 0 Loss 0.4994 Accuracy 75.3394 AUC 0.7851\n",
            "Epoch 11 TRAIN Batch 50 Loss 0.5188 Accuracy 73.9416 AUC 0.7795\n",
            "Epoch 11 TRAIN Batch 100 Loss 0.5186 Accuracy 73.9822 AUC 0.7796\n",
            "Epoch 11 TRAIN Batch 150 Loss 0.5187 Accuracy 73.9743 AUC 0.7795\n",
            "Epoch 11 TRAIN Batch 200 Loss 0.5185 Accuracy 73.9709 AUC 0.7797\n",
            "Epoch 11 TRAIN Batch 250 Loss 0.5180 Accuracy 73.9955 AUC 0.7803\n",
            "Epoch 11 TRAIN Batch 300 Loss 0.5183 Accuracy 73.9731 AUC 0.7800\n",
            "Epoch 11 TRAIN Batch 350 Loss 0.5180 Accuracy 73.9921 AUC 0.7802\n",
            "Epoch 11 TRAIN Batch 400 Loss 0.5183 Accuracy 73.9659 AUC 0.7800\n",
            "Epoch 11 TRAIN Batch 450 Loss 0.5184 Accuracy 73.9620 AUC 0.7799\n",
            "Epoch 11 TRAIN Batch 500 Loss 0.5182 Accuracy 73.9749 AUC 0.7800\n",
            "Epoch 11 TRAIN Batch 550 Loss 0.5182 Accuracy 73.9734 AUC 0.7799\n",
            "Epoch 11 TRAIN Batch 600 Loss 0.5181 Accuracy 73.9758 AUC 0.7800\n",
            "Epoch 11 TRAIN Batch 650 Loss 0.5181 Accuracy 73.9762 AUC 0.7800\n",
            "Epoch 11 TRAIN Batch 700 Loss 0.5181 Accuracy 73.9810 AUC 0.7800\n",
            "Epoch 11 TRAIN Batch 750 Loss 0.5181 Accuracy 73.9765 AUC 0.7800\n"
          ],
          "name": "stdout"
        },
        {
          "output_type": "stream",
          "text": [
            "23-12 23:37 root         INFO     Epoch TRAIN 11 Loss 0.5181 Accuracy 73.9712 AUC 0.7800\n"
          ],
          "name": "stderr"
        },
        {
          "output_type": "stream",
          "text": [
            "Time taken for 1 epoch: 218.97125363349915 secs\n",
            "\n",
            "Epoch 12 TRAIN Batch 0 Loss 0.5233 Accuracy 73.7823 AUC 0.7754\n",
            "Epoch 12 TRAIN Batch 50 Loss 0.5174 Accuracy 73.9588 AUC 0.7797\n",
            "Epoch 12 TRAIN Batch 100 Loss 0.5171 Accuracy 74.0339 AUC 0.7801\n",
            "Epoch 12 TRAIN Batch 150 Loss 0.5182 Accuracy 73.9623 AUC 0.7796\n",
            "Epoch 12 TRAIN Batch 200 Loss 0.5181 Accuracy 73.9649 AUC 0.7799\n",
            "Epoch 12 TRAIN Batch 250 Loss 0.5182 Accuracy 73.9508 AUC 0.7801\n",
            "Epoch 12 TRAIN Batch 300 Loss 0.5183 Accuracy 73.9460 AUC 0.7799\n",
            "Epoch 12 TRAIN Batch 350 Loss 0.5181 Accuracy 73.9547 AUC 0.7800\n",
            "Epoch 12 TRAIN Batch 400 Loss 0.5180 Accuracy 73.9585 AUC 0.7801\n",
            "Epoch 12 TRAIN Batch 450 Loss 0.5177 Accuracy 73.9802 AUC 0.7804\n",
            "Epoch 12 TRAIN Batch 500 Loss 0.5176 Accuracy 73.9916 AUC 0.7804\n",
            "Epoch 12 TRAIN Batch 550 Loss 0.5175 Accuracy 74.0025 AUC 0.7804\n",
            "Epoch 12 TRAIN Batch 600 Loss 0.5177 Accuracy 73.9876 AUC 0.7803\n",
            "Epoch 12 TRAIN Batch 650 Loss 0.5175 Accuracy 74.0009 AUC 0.7805\n",
            "Epoch 12 TRAIN Batch 700 Loss 0.5174 Accuracy 74.0090 AUC 0.7806\n",
            "Epoch 12 TRAIN Batch 750 Loss 0.5172 Accuracy 74.0265 AUC 0.7808\n"
          ],
          "name": "stdout"
        },
        {
          "output_type": "stream",
          "text": [
            "23-12 23:40 root         INFO     Epoch TRAIN 12 Loss 0.5172 Accuracy 74.0251 AUC 0.7808\n"
          ],
          "name": "stderr"
        },
        {
          "output_type": "stream",
          "text": [
            "Time taken for 1 epoch: 218.56112265586853 secs\n",
            "\n",
            "Epoch 13 TRAIN Batch 0 Loss 0.5170 Accuracy 73.6278 AUC 0.7865\n",
            "Epoch 13 TRAIN Batch 50 Loss 0.5171 Accuracy 73.9576 AUC 0.7819\n",
            "Epoch 13 TRAIN Batch 100 Loss 0.5183 Accuracy 73.9146 AUC 0.7809\n",
            "Epoch 13 TRAIN Batch 150 Loss 0.5182 Accuracy 73.9393 AUC 0.7808\n",
            "Epoch 13 TRAIN Batch 200 Loss 0.5175 Accuracy 73.9897 AUC 0.7813\n",
            "Epoch 13 TRAIN Batch 250 Loss 0.5172 Accuracy 74.0109 AUC 0.7815\n",
            "Epoch 13 TRAIN Batch 300 Loss 0.5173 Accuracy 74.0039 AUC 0.7812\n",
            "Epoch 13 TRAIN Batch 350 Loss 0.5175 Accuracy 73.9829 AUC 0.7812\n",
            "Epoch 13 TRAIN Batch 400 Loss 0.5173 Accuracy 73.9966 AUC 0.7813\n",
            "Epoch 13 TRAIN Batch 450 Loss 0.5170 Accuracy 74.0233 AUC 0.7815\n",
            "Epoch 13 TRAIN Batch 500 Loss 0.5171 Accuracy 74.0164 AUC 0.7814\n",
            "Epoch 13 TRAIN Batch 550 Loss 0.5170 Accuracy 74.0189 AUC 0.7815\n",
            "Epoch 13 TRAIN Batch 600 Loss 0.5170 Accuracy 74.0204 AUC 0.7815\n",
            "Epoch 13 TRAIN Batch 650 Loss 0.5172 Accuracy 74.0095 AUC 0.7814\n",
            "Epoch 13 TRAIN Batch 700 Loss 0.5171 Accuracy 74.0156 AUC 0.7814\n",
            "Epoch 13 TRAIN Batch 750 Loss 0.5172 Accuracy 74.0102 AUC 0.7814\n"
          ],
          "name": "stdout"
        },
        {
          "output_type": "stream",
          "text": [
            "23-12 23:44 root         INFO     Epoch TRAIN 13 Loss 0.5170 Accuracy 74.0198 AUC 0.7814\n"
          ],
          "name": "stderr"
        },
        {
          "output_type": "stream",
          "text": [
            "Time taken for 1 epoch: 217.86069750785828 secs\n",
            "\n",
            "Epoch 14 TRAIN Batch 0 Loss 0.5012 Accuracy 75.2757 AUC 0.7930\n",
            "Epoch 14 TRAIN Batch 50 Loss 0.5143 Accuracy 74.2482 AUC 0.7834\n",
            "Epoch 14 TRAIN Batch 100 Loss 0.5151 Accuracy 74.1754 AUC 0.7829\n",
            "Epoch 14 TRAIN Batch 150 Loss 0.5154 Accuracy 74.1665 AUC 0.7824\n",
            "Epoch 14 TRAIN Batch 200 Loss 0.5152 Accuracy 74.1707 AUC 0.7827\n",
            "Epoch 14 TRAIN Batch 250 Loss 0.5153 Accuracy 74.1623 AUC 0.7826\n",
            "Epoch 14 TRAIN Batch 300 Loss 0.5150 Accuracy 74.1780 AUC 0.7825\n",
            "Epoch 14 TRAIN Batch 350 Loss 0.5153 Accuracy 74.1540 AUC 0.7823\n",
            "Epoch 14 TRAIN Batch 400 Loss 0.5153 Accuracy 74.1484 AUC 0.7823\n",
            "Epoch 14 TRAIN Batch 450 Loss 0.5154 Accuracy 74.1423 AUC 0.7823\n",
            "Epoch 14 TRAIN Batch 500 Loss 0.5155 Accuracy 74.1424 AUC 0.7822\n",
            "Epoch 14 TRAIN Batch 550 Loss 0.5153 Accuracy 74.1559 AUC 0.7823\n",
            "Epoch 14 TRAIN Batch 600 Loss 0.5152 Accuracy 74.1617 AUC 0.7824\n",
            "Epoch 14 TRAIN Batch 650 Loss 0.5152 Accuracy 74.1631 AUC 0.7824\n",
            "Epoch 14 TRAIN Batch 700 Loss 0.5153 Accuracy 74.1578 AUC 0.7824\n",
            "Epoch 14 TRAIN Batch 750 Loss 0.5153 Accuracy 74.1547 AUC 0.7824\n"
          ],
          "name": "stdout"
        },
        {
          "output_type": "stream",
          "text": [
            "23-12 23:48 root         INFO     Epoch TRAIN 14 Loss 0.5153 Accuracy 74.1540 AUC 0.7825\n"
          ],
          "name": "stderr"
        },
        {
          "output_type": "stream",
          "text": [
            "Time taken for 1 epoch: 216.57605242729187 secs\n",
            "\n",
            "Epoch 15 TRAIN Batch 0 Loss 0.5071 Accuracy 74.7769 AUC 0.7928\n",
            "Epoch 15 TRAIN Batch 50 Loss 0.5159 Accuracy 74.0428 AUC 0.7825\n",
            "Epoch 15 TRAIN Batch 100 Loss 0.5150 Accuracy 74.1256 AUC 0.7829\n",
            "Epoch 15 TRAIN Batch 150 Loss 0.5154 Accuracy 74.1356 AUC 0.7820\n",
            "Epoch 15 TRAIN Batch 200 Loss 0.5154 Accuracy 74.1411 AUC 0.7822\n",
            "Epoch 15 TRAIN Batch 250 Loss 0.5152 Accuracy 74.1536 AUC 0.7824\n",
            "Epoch 15 TRAIN Batch 300 Loss 0.5155 Accuracy 74.1379 AUC 0.7824\n",
            "Epoch 15 TRAIN Batch 350 Loss 0.5151 Accuracy 74.1574 AUC 0.7826\n",
            "Epoch 15 TRAIN Batch 400 Loss 0.5150 Accuracy 74.1557 AUC 0.7828\n",
            "Epoch 15 TRAIN Batch 450 Loss 0.5149 Accuracy 74.1635 AUC 0.7829\n",
            "Epoch 15 TRAIN Batch 500 Loss 0.5151 Accuracy 74.1514 AUC 0.7829\n",
            "Epoch 15 TRAIN Batch 550 Loss 0.5153 Accuracy 74.1320 AUC 0.7827\n",
            "Epoch 15 TRAIN Batch 600 Loss 0.5152 Accuracy 74.1373 AUC 0.7827\n",
            "Epoch 15 TRAIN Batch 650 Loss 0.5152 Accuracy 74.1410 AUC 0.7827\n",
            "Epoch 15 TRAIN Batch 700 Loss 0.5152 Accuracy 74.1409 AUC 0.7828\n",
            "Epoch 15 TRAIN Batch 750 Loss 0.5152 Accuracy 74.1346 AUC 0.7828\n"
          ],
          "name": "stdout"
        },
        {
          "output_type": "stream",
          "text": [
            "23-12 23:51 root         INFO     Epoch TRAIN 15 Loss 0.5153 Accuracy 74.1336 AUC 0.7828\n"
          ],
          "name": "stderr"
        },
        {
          "output_type": "stream",
          "text": [
            "Epoch 15 VAL Batch 0 Loss 0.5187 Accuracy 74.1750 AUC 0.7779\n",
            "Epoch 15 VAL Batch 50 Loss 0.5162 Accuracy 74.1345 AUC 0.7837\n",
            "Epoch 15 VAL Batch 100 Loss 0.5163 Accuracy 74.0913 AUC 0.7845\n",
            "Epoch 15 VAL Batch 150 Loss 0.5154 Accuracy 74.1504 AUC 0.7849\n",
            "Epoch 15 VAL Batch 200 Loss 0.5153 Accuracy 74.1620 AUC 0.7849\n",
            "Epoch 15 VAL Batch 250 Loss 0.5154 Accuracy 74.1584 AUC 0.7849\n",
            "Epoch 15 VAL Batch 300 Loss 0.5152 Accuracy 74.1762 AUC 0.7850\n",
            "Epoch 15 VAL Batch 350 Loss 0.5152 Accuracy 74.1711 AUC 0.7849\n",
            "Epoch 15 VAL Batch 400 Loss 0.5151 Accuracy 74.1743 AUC 0.7849\n",
            "Epoch 15 VAL Batch 450 Loss 0.5151 Accuracy 74.1792 AUC 0.7848\n",
            "Epoch 15 VAL Batch 500 Loss 0.5150 Accuracy 74.1833 AUC 0.7849\n",
            "Epoch 15 VAL Batch 550 Loss 0.5151 Accuracy 74.1792 AUC 0.7849\n",
            "Epoch 15 VAL Batch 600 Loss 0.5152 Accuracy 74.1670 AUC 0.7849\n",
            "Epoch 15 VAL Batch 650 Loss 0.5152 Accuracy 74.1733 AUC 0.7848\n",
            "Epoch 15 VAL Batch 700 Loss 0.5153 Accuracy 74.1691 AUC 0.7848\n",
            "Epoch 15 VAL Batch 750 Loss 0.5153 Accuracy 74.1690 AUC 0.7848\n"
          ],
          "name": "stdout"
        },
        {
          "output_type": "stream",
          "text": [
            "23-12 23:52 root         INFO     Epoch VAL 15 Loss 0.5153 Accuracy 74.1684 AUC 0.7848\n",
            "23-12 23:52 root         INFO     Saving checkpoint for epoch 15 at 23-Dec-riiid-2/checkpoints/ckpt-3\n"
          ],
          "name": "stderr"
        },
        {
          "output_type": "stream",
          "text": [
            "Time taken for 1 epoch: 247.21316289901733 secs\n",
            "\n",
            "Epoch 16 TRAIN Batch 0 Loss 0.5261 Accuracy 73.3073 AUC 0.7769\n",
            "Epoch 16 TRAIN Batch 50 Loss 0.5180 Accuracy 73.9269 AUC 0.7808\n",
            "Epoch 16 TRAIN Batch 100 Loss 0.5169 Accuracy 74.0081 AUC 0.7821\n",
            "Epoch 16 TRAIN Batch 150 Loss 0.5159 Accuracy 74.0607 AUC 0.7829\n",
            "Epoch 16 TRAIN Batch 200 Loss 0.5155 Accuracy 74.1134 AUC 0.7832\n",
            "Epoch 16 TRAIN Batch 250 Loss 0.5154 Accuracy 74.1319 AUC 0.7832\n",
            "Epoch 16 TRAIN Batch 300 Loss 0.5153 Accuracy 74.1375 AUC 0.7832\n",
            "Epoch 16 TRAIN Batch 350 Loss 0.5150 Accuracy 74.1755 AUC 0.7834\n",
            "Epoch 16 TRAIN Batch 400 Loss 0.5149 Accuracy 74.1711 AUC 0.7834\n",
            "Epoch 16 TRAIN Batch 450 Loss 0.5147 Accuracy 74.1836 AUC 0.7836\n",
            "Epoch 16 TRAIN Batch 500 Loss 0.5148 Accuracy 74.1775 AUC 0.7835\n",
            "Epoch 16 TRAIN Batch 550 Loss 0.5149 Accuracy 74.1729 AUC 0.7835\n",
            "Epoch 16 TRAIN Batch 600 Loss 0.5148 Accuracy 74.1711 AUC 0.7836\n",
            "Epoch 16 TRAIN Batch 650 Loss 0.5149 Accuracy 74.1668 AUC 0.7835\n",
            "Epoch 16 TRAIN Batch 700 Loss 0.5150 Accuracy 74.1593 AUC 0.7835\n",
            "Epoch 16 TRAIN Batch 750 Loss 0.5151 Accuracy 74.1501 AUC 0.7834\n"
          ],
          "name": "stdout"
        },
        {
          "output_type": "stream",
          "text": [
            "23-12 23:55 root         INFO     Epoch TRAIN 16 Loss 0.5151 Accuracy 74.1538 AUC 0.7834\n"
          ],
          "name": "stderr"
        },
        {
          "output_type": "stream",
          "text": [
            "Time taken for 1 epoch: 228.60018038749695 secs\n",
            "\n",
            "Epoch 17 TRAIN Batch 0 Loss 0.5136 Accuracy 73.8594 AUC 0.7850\n",
            "Epoch 17 TRAIN Batch 50 Loss 0.5183 Accuracy 73.8844 AUC 0.7812\n",
            "Epoch 17 TRAIN Batch 100 Loss 0.5166 Accuracy 74.0262 AUC 0.7818\n",
            "Epoch 17 TRAIN Batch 150 Loss 0.5162 Accuracy 74.0693 AUC 0.7821\n",
            "Epoch 17 TRAIN Batch 200 Loss 0.5156 Accuracy 74.1109 AUC 0.7825\n",
            "Epoch 17 TRAIN Batch 250 Loss 0.5152 Accuracy 74.1459 AUC 0.7830\n",
            "Epoch 17 TRAIN Batch 300 Loss 0.5148 Accuracy 74.1710 AUC 0.7832\n",
            "Epoch 17 TRAIN Batch 350 Loss 0.5145 Accuracy 74.1891 AUC 0.7835\n",
            "Epoch 17 TRAIN Batch 400 Loss 0.5146 Accuracy 74.1772 AUC 0.7834\n",
            "Epoch 17 TRAIN Batch 450 Loss 0.5145 Accuracy 74.1899 AUC 0.7836\n",
            "Epoch 17 TRAIN Batch 500 Loss 0.5145 Accuracy 74.1838 AUC 0.7837\n",
            "Epoch 17 TRAIN Batch 550 Loss 0.5144 Accuracy 74.1819 AUC 0.7838\n",
            "Epoch 17 TRAIN Batch 600 Loss 0.5143 Accuracy 74.1837 AUC 0.7839\n",
            "Epoch 17 TRAIN Batch 650 Loss 0.5144 Accuracy 74.1839 AUC 0.7839\n",
            "Epoch 17 TRAIN Batch 700 Loss 0.5143 Accuracy 74.1881 AUC 0.7838\n",
            "Epoch 17 TRAIN Batch 750 Loss 0.5141 Accuracy 74.2044 AUC 0.7839\n"
          ],
          "name": "stdout"
        },
        {
          "output_type": "stream",
          "text": [
            "23-12 23:59 root         INFO     Epoch TRAIN 17 Loss 0.5140 Accuracy 74.2130 AUC 0.7840\n"
          ],
          "name": "stderr"
        },
        {
          "output_type": "stream",
          "text": [
            "Time taken for 1 epoch: 232.85785293579102 secs\n",
            "\n",
            "Epoch 18 TRAIN Batch 0 Loss 0.5207 Accuracy 74.2752 AUC 0.7801\n",
            "Epoch 18 TRAIN Batch 50 Loss 0.5135 Accuracy 74.2386 AUC 0.7849\n",
            "Epoch 18 TRAIN Batch 100 Loss 0.5138 Accuracy 74.2201 AUC 0.7844\n",
            "Epoch 18 TRAIN Batch 150 Loss 0.5140 Accuracy 74.1852 AUC 0.7841\n",
            "Epoch 18 TRAIN Batch 200 Loss 0.5147 Accuracy 74.1338 AUC 0.7837\n",
            "Epoch 18 TRAIN Batch 250 Loss 0.5143 Accuracy 74.1583 AUC 0.7839\n",
            "Epoch 18 TRAIN Batch 300 Loss 0.5147 Accuracy 74.1395 AUC 0.7837\n",
            "Epoch 18 TRAIN Batch 350 Loss 0.5145 Accuracy 74.1580 AUC 0.7840\n",
            "Epoch 18 TRAIN Batch 400 Loss 0.5146 Accuracy 74.1509 AUC 0.7841\n",
            "Epoch 18 TRAIN Batch 450 Loss 0.5144 Accuracy 74.1659 AUC 0.7843\n",
            "Epoch 18 TRAIN Batch 500 Loss 0.5142 Accuracy 74.1840 AUC 0.7844\n",
            "Epoch 18 TRAIN Batch 550 Loss 0.5141 Accuracy 74.1933 AUC 0.7844\n",
            "Epoch 18 TRAIN Batch 600 Loss 0.5141 Accuracy 74.1936 AUC 0.7844\n",
            "Epoch 18 TRAIN Batch 650 Loss 0.5140 Accuracy 74.2027 AUC 0.7845\n",
            "Epoch 18 TRAIN Batch 700 Loss 0.5139 Accuracy 74.2178 AUC 0.7845\n",
            "Epoch 18 TRAIN Batch 750 Loss 0.5137 Accuracy 74.2306 AUC 0.7846\n"
          ],
          "name": "stdout"
        },
        {
          "output_type": "stream",
          "text": [
            "24-12 00:03 root         INFO     Epoch TRAIN 18 Loss 0.5136 Accuracy 74.2420 AUC 0.7847\n"
          ],
          "name": "stderr"
        },
        {
          "output_type": "stream",
          "text": [
            "Time taken for 1 epoch: 235.38106489181519 secs\n",
            "\n",
            "Epoch 19 TRAIN Batch 0 Loss 0.5197 Accuracy 74.0558 AUC 0.7821\n",
            "Epoch 19 TRAIN Batch 50 Loss 0.5140 Accuracy 74.2388 AUC 0.7844\n",
            "Epoch 19 TRAIN Batch 100 Loss 0.5144 Accuracy 74.1815 AUC 0.7845\n",
            "Epoch 19 TRAIN Batch 150 Loss 0.5144 Accuracy 74.1861 AUC 0.7846\n",
            "Epoch 19 TRAIN Batch 200 Loss 0.5140 Accuracy 74.2253 AUC 0.7849\n",
            "Epoch 19 TRAIN Batch 250 Loss 0.5137 Accuracy 74.2410 AUC 0.7850\n",
            "Epoch 19 TRAIN Batch 300 Loss 0.5138 Accuracy 74.2329 AUC 0.7850\n",
            "Epoch 19 TRAIN Batch 350 Loss 0.5138 Accuracy 74.2339 AUC 0.7849\n",
            "Epoch 19 TRAIN Batch 400 Loss 0.5139 Accuracy 74.2374 AUC 0.7848\n",
            "Epoch 19 TRAIN Batch 450 Loss 0.5137 Accuracy 74.2470 AUC 0.7851\n",
            "Epoch 19 TRAIN Batch 500 Loss 0.5136 Accuracy 74.2513 AUC 0.7850\n",
            "Epoch 19 TRAIN Batch 550 Loss 0.5136 Accuracy 74.2500 AUC 0.7850\n",
            "Epoch 19 TRAIN Batch 600 Loss 0.5135 Accuracy 74.2577 AUC 0.7851\n",
            "Epoch 19 TRAIN Batch 650 Loss 0.5137 Accuracy 74.2460 AUC 0.7851\n",
            "Epoch 19 TRAIN Batch 700 Loss 0.5136 Accuracy 74.2491 AUC 0.7852\n",
            "Epoch 19 TRAIN Batch 750 Loss 0.5136 Accuracy 74.2501 AUC 0.7851\n"
          ],
          "name": "stdout"
        },
        {
          "output_type": "stream",
          "text": [
            "24-12 00:07 root         INFO     Epoch TRAIN 19 Loss 0.5136 Accuracy 74.2437 AUC 0.7852\n"
          ],
          "name": "stderr"
        },
        {
          "output_type": "stream",
          "text": [
            "Time taken for 1 epoch: 236.0461175441742 secs\n",
            "\n",
            "Epoch 20 TRAIN Batch 0 Loss 0.5075 Accuracy 74.6100 AUC 0.7921\n",
            "Epoch 20 TRAIN Batch 50 Loss 0.5109 Accuracy 74.4894 AUC 0.7864\n",
            "Epoch 20 TRAIN Batch 100 Loss 0.5130 Accuracy 74.3470 AUC 0.7850\n",
            "Epoch 20 TRAIN Batch 150 Loss 0.5131 Accuracy 74.3084 AUC 0.7854\n",
            "Epoch 20 TRAIN Batch 200 Loss 0.5126 Accuracy 74.3317 AUC 0.7856\n",
            "Epoch 20 TRAIN Batch 250 Loss 0.5128 Accuracy 74.3133 AUC 0.7856\n",
            "Epoch 20 TRAIN Batch 300 Loss 0.5134 Accuracy 74.2640 AUC 0.7853\n",
            "Epoch 20 TRAIN Batch 350 Loss 0.5132 Accuracy 74.2660 AUC 0.7854\n",
            "Epoch 20 TRAIN Batch 400 Loss 0.5133 Accuracy 74.2530 AUC 0.7854\n",
            "Epoch 20 TRAIN Batch 450 Loss 0.5133 Accuracy 74.2591 AUC 0.7855\n",
            "Epoch 20 TRAIN Batch 500 Loss 0.5132 Accuracy 74.2777 AUC 0.7854\n",
            "Epoch 20 TRAIN Batch 550 Loss 0.5131 Accuracy 74.2735 AUC 0.7855\n",
            "Epoch 20 TRAIN Batch 600 Loss 0.5130 Accuracy 74.2813 AUC 0.7856\n",
            "Epoch 20 TRAIN Batch 650 Loss 0.5129 Accuracy 74.2870 AUC 0.7856\n",
            "Epoch 20 TRAIN Batch 700 Loss 0.5129 Accuracy 74.2909 AUC 0.7857\n",
            "Epoch 20 TRAIN Batch 750 Loss 0.5130 Accuracy 74.2784 AUC 0.7856\n"
          ],
          "name": "stdout"
        },
        {
          "output_type": "stream",
          "text": [
            "24-12 00:11 root         INFO     Epoch TRAIN 20 Loss 0.5130 Accuracy 74.2822 AUC 0.7856\n"
          ],
          "name": "stderr"
        },
        {
          "output_type": "stream",
          "text": [
            "Epoch 20 VAL Batch 0 Loss 0.5173 Accuracy 74.3556 AUC 0.7781\n",
            "Epoch 20 VAL Batch 50 Loss 0.5136 Accuracy 74.2364 AUC 0.7856\n",
            "Epoch 20 VAL Batch 100 Loss 0.5138 Accuracy 74.2194 AUC 0.7864\n",
            "Epoch 20 VAL Batch 150 Loss 0.5129 Accuracy 74.2741 AUC 0.7868\n",
            "Epoch 20 VAL Batch 200 Loss 0.5129 Accuracy 74.2940 AUC 0.7867\n",
            "Epoch 20 VAL Batch 250 Loss 0.5129 Accuracy 74.2826 AUC 0.7868\n",
            "Epoch 20 VAL Batch 300 Loss 0.5126 Accuracy 74.3015 AUC 0.7869\n",
            "Epoch 20 VAL Batch 350 Loss 0.5127 Accuracy 74.2955 AUC 0.7868\n",
            "Epoch 20 VAL Batch 400 Loss 0.5127 Accuracy 74.2984 AUC 0.7868\n",
            "Epoch 20 VAL Batch 450 Loss 0.5126 Accuracy 74.2992 AUC 0.7867\n",
            "Epoch 20 VAL Batch 500 Loss 0.5125 Accuracy 74.3012 AUC 0.7867\n",
            "Epoch 20 VAL Batch 550 Loss 0.5126 Accuracy 74.3003 AUC 0.7868\n",
            "Epoch 20 VAL Batch 600 Loss 0.5128 Accuracy 74.2910 AUC 0.7867\n",
            "Epoch 20 VAL Batch 650 Loss 0.5128 Accuracy 74.2958 AUC 0.7867\n",
            "Epoch 20 VAL Batch 700 Loss 0.5128 Accuracy 74.2911 AUC 0.7867\n",
            "Epoch 20 VAL Batch 750 Loss 0.5129 Accuracy 74.2886 AUC 0.7867\n"
          ],
          "name": "stdout"
        },
        {
          "output_type": "stream",
          "text": [
            "24-12 00:12 root         INFO     Epoch VAL 20 Loss 0.5129 Accuracy 74.2854 AUC 0.7867\n",
            "24-12 00:12 root         INFO     Saving checkpoint for epoch 20 at 23-Dec-riiid-2/checkpoints/ckpt-4\n"
          ],
          "name": "stderr"
        },
        {
          "output_type": "stream",
          "text": [
            "Time taken for 1 epoch: 264.08363461494446 secs\n",
            "\n",
            "Epoch 21 TRAIN Batch 0 Loss 0.5060 Accuracy 74.7254 AUC 0.7862\n",
            "Epoch 21 TRAIN Batch 50 Loss 0.5118 Accuracy 74.3295 AUC 0.7867\n",
            "Epoch 21 TRAIN Batch 100 Loss 0.5128 Accuracy 74.2865 AUC 0.7859\n",
            "Epoch 21 TRAIN Batch 150 Loss 0.5129 Accuracy 74.3058 AUC 0.7858\n",
            "Epoch 21 TRAIN Batch 200 Loss 0.5128 Accuracy 74.2937 AUC 0.7858\n",
            "Epoch 21 TRAIN Batch 250 Loss 0.5128 Accuracy 74.2894 AUC 0.7857\n",
            "Epoch 21 TRAIN Batch 300 Loss 0.5125 Accuracy 74.3024 AUC 0.7859\n",
            "Epoch 21 TRAIN Batch 350 Loss 0.5124 Accuracy 74.3057 AUC 0.7860\n",
            "Epoch 21 TRAIN Batch 400 Loss 0.5124 Accuracy 74.3139 AUC 0.7861\n",
            "Epoch 21 TRAIN Batch 450 Loss 0.5123 Accuracy 74.3168 AUC 0.7861\n",
            "Epoch 21 TRAIN Batch 500 Loss 0.5123 Accuracy 74.3322 AUC 0.7861\n",
            "Epoch 21 TRAIN Batch 550 Loss 0.5123 Accuracy 74.3251 AUC 0.7860\n",
            "Epoch 21 TRAIN Batch 600 Loss 0.5124 Accuracy 74.3156 AUC 0.7861\n",
            "Epoch 21 TRAIN Batch 650 Loss 0.5124 Accuracy 74.3126 AUC 0.7861\n",
            "Epoch 21 TRAIN Batch 700 Loss 0.5125 Accuracy 74.3079 AUC 0.7860\n",
            "Epoch 21 TRAIN Batch 750 Loss 0.5126 Accuracy 74.3021 AUC 0.7860\n"
          ],
          "name": "stdout"
        },
        {
          "output_type": "stream",
          "text": [
            "24-12 00:16 root         INFO     Epoch TRAIN 21 Loss 0.5124 Accuracy 74.3159 AUC 0.7860\n"
          ],
          "name": "stderr"
        },
        {
          "output_type": "stream",
          "text": [
            "Time taken for 1 epoch: 234.5469274520874 secs\n",
            "\n",
            "Epoch 22 TRAIN Batch 0 Loss 0.5282 Accuracy 73.1418 AUC 0.7739\n",
            "Epoch 22 TRAIN Batch 50 Loss 0.5119 Accuracy 74.3706 AUC 0.7876\n",
            "Epoch 22 TRAIN Batch 100 Loss 0.5120 Accuracy 74.3535 AUC 0.7873\n",
            "Epoch 22 TRAIN Batch 150 Loss 0.5121 Accuracy 74.3464 AUC 0.7870\n",
            "Epoch 22 TRAIN Batch 200 Loss 0.5127 Accuracy 74.3117 AUC 0.7866\n",
            "Epoch 22 TRAIN Batch 250 Loss 0.5123 Accuracy 74.3323 AUC 0.7868\n",
            "Epoch 22 TRAIN Batch 300 Loss 0.5125 Accuracy 74.3159 AUC 0.7866\n",
            "Epoch 22 TRAIN Batch 350 Loss 0.5124 Accuracy 74.3210 AUC 0.7866\n",
            "Epoch 22 TRAIN Batch 400 Loss 0.5122 Accuracy 74.3361 AUC 0.7866\n",
            "Epoch 22 TRAIN Batch 450 Loss 0.5120 Accuracy 74.3519 AUC 0.7867\n",
            "Epoch 22 TRAIN Batch 500 Loss 0.5119 Accuracy 74.3604 AUC 0.7867\n",
            "Epoch 22 TRAIN Batch 550 Loss 0.5120 Accuracy 74.3568 AUC 0.7866\n",
            "Epoch 22 TRAIN Batch 600 Loss 0.5120 Accuracy 74.3560 AUC 0.7866\n",
            "Epoch 22 TRAIN Batch 650 Loss 0.5122 Accuracy 74.3425 AUC 0.7864\n",
            "Epoch 22 TRAIN Batch 700 Loss 0.5122 Accuracy 74.3424 AUC 0.7864\n",
            "Epoch 22 TRAIN Batch 750 Loss 0.5122 Accuracy 74.3391 AUC 0.7864\n"
          ],
          "name": "stdout"
        },
        {
          "output_type": "stream",
          "text": [
            "24-12 00:19 root         INFO     Epoch TRAIN 22 Loss 0.5121 Accuracy 74.3457 AUC 0.7864\n"
          ],
          "name": "stderr"
        },
        {
          "output_type": "stream",
          "text": [
            "Time taken for 1 epoch: 235.92300295829773 secs\n",
            "\n",
            "Epoch 23 TRAIN Batch 0 Loss 0.5030 Accuracy 75.3546 AUC 0.7872\n",
            "Epoch 23 TRAIN Batch 50 Loss 0.5113 Accuracy 74.4085 AUC 0.7864\n",
            "Epoch 23 TRAIN Batch 100 Loss 0.5123 Accuracy 74.2907 AUC 0.7865\n",
            "Epoch 23 TRAIN Batch 150 Loss 0.5120 Accuracy 74.3346 AUC 0.7865\n",
            "Epoch 23 TRAIN Batch 200 Loss 0.5125 Accuracy 74.3039 AUC 0.7859\n",
            "Epoch 23 TRAIN Batch 250 Loss 0.5121 Accuracy 74.3116 AUC 0.7862\n",
            "Epoch 23 TRAIN Batch 300 Loss 0.5124 Accuracy 74.2979 AUC 0.7860\n",
            "Epoch 23 TRAIN Batch 350 Loss 0.5125 Accuracy 74.2868 AUC 0.7858\n",
            "Epoch 23 TRAIN Batch 400 Loss 0.5123 Accuracy 74.3025 AUC 0.7861\n",
            "Epoch 23 TRAIN Batch 450 Loss 0.5121 Accuracy 74.3156 AUC 0.7862\n",
            "Epoch 23 TRAIN Batch 500 Loss 0.5122 Accuracy 74.3144 AUC 0.7863\n",
            "Epoch 23 TRAIN Batch 550 Loss 0.5122 Accuracy 74.3130 AUC 0.7863\n",
            "Epoch 23 TRAIN Batch 600 Loss 0.5120 Accuracy 74.3259 AUC 0.7864\n",
            "Epoch 23 TRAIN Batch 650 Loss 0.5120 Accuracy 74.3254 AUC 0.7864\n",
            "Epoch 23 TRAIN Batch 700 Loss 0.5119 Accuracy 74.3336 AUC 0.7864\n",
            "Epoch 23 TRAIN Batch 750 Loss 0.5119 Accuracy 74.3384 AUC 0.7865\n"
          ],
          "name": "stdout"
        },
        {
          "output_type": "stream",
          "text": [
            "24-12 00:23 root         INFO     Epoch TRAIN 23 Loss 0.5119 Accuracy 74.3407 AUC 0.7866\n"
          ],
          "name": "stderr"
        },
        {
          "output_type": "stream",
          "text": [
            "Time taken for 1 epoch: 232.3384780883789 secs\n",
            "\n",
            "Epoch 24 TRAIN Batch 0 Loss 0.5051 Accuracy 75.0876 AUC 0.7867\n",
            "Epoch 24 TRAIN Batch 50 Loss 0.5119 Accuracy 74.4308 AUC 0.7857\n",
            "Epoch 24 TRAIN Batch 100 Loss 0.5113 Accuracy 74.4285 AUC 0.7866\n",
            "Epoch 24 TRAIN Batch 150 Loss 0.5115 Accuracy 74.4179 AUC 0.7868\n",
            "Epoch 24 TRAIN Batch 200 Loss 0.5118 Accuracy 74.3694 AUC 0.7870\n",
            "Epoch 24 TRAIN Batch 250 Loss 0.5115 Accuracy 74.3835 AUC 0.7873\n",
            "Epoch 24 TRAIN Batch 300 Loss 0.5114 Accuracy 74.3894 AUC 0.7870\n",
            "Epoch 24 TRAIN Batch 350 Loss 0.5115 Accuracy 74.3798 AUC 0.7871\n",
            "Epoch 24 TRAIN Batch 400 Loss 0.5113 Accuracy 74.3937 AUC 0.7873\n",
            "Epoch 24 TRAIN Batch 450 Loss 0.5114 Accuracy 74.3806 AUC 0.7871\n",
            "Epoch 24 TRAIN Batch 500 Loss 0.5115 Accuracy 74.3782 AUC 0.7871\n",
            "Epoch 24 TRAIN Batch 550 Loss 0.5113 Accuracy 74.3967 AUC 0.7873\n",
            "Epoch 24 TRAIN Batch 600 Loss 0.5113 Accuracy 74.3988 AUC 0.7872\n",
            "Epoch 24 TRAIN Batch 650 Loss 0.5114 Accuracy 74.3873 AUC 0.7872\n",
            "Epoch 24 TRAIN Batch 700 Loss 0.5113 Accuracy 74.3859 AUC 0.7872\n",
            "Epoch 24 TRAIN Batch 750 Loss 0.5113 Accuracy 74.3871 AUC 0.7872\n"
          ],
          "name": "stdout"
        },
        {
          "output_type": "stream",
          "text": [
            "24-12 00:27 root         INFO     Epoch TRAIN 24 Loss 0.5114 Accuracy 74.3811 AUC 0.7872\n"
          ],
          "name": "stderr"
        },
        {
          "output_type": "stream",
          "text": [
            "Time taken for 1 epoch: 228.17202425003052 secs\n",
            "\n",
            "Epoch 25 TRAIN Batch 0 Loss 0.5308 Accuracy 73.1233 AUC 0.7749\n",
            "Epoch 25 TRAIN Batch 50 Loss 0.5105 Accuracy 74.4089 AUC 0.7872\n",
            "Epoch 25 TRAIN Batch 100 Loss 0.5114 Accuracy 74.3590 AUC 0.7872\n",
            "Epoch 25 TRAIN Batch 150 Loss 0.5115 Accuracy 74.3376 AUC 0.7871\n",
            "Epoch 25 TRAIN Batch 200 Loss 0.5115 Accuracy 74.3448 AUC 0.7872\n",
            "Epoch 25 TRAIN Batch 250 Loss 0.5113 Accuracy 74.3621 AUC 0.7875\n",
            "Epoch 25 TRAIN Batch 300 Loss 0.5112 Accuracy 74.3776 AUC 0.7876\n",
            "Epoch 25 TRAIN Batch 350 Loss 0.5112 Accuracy 74.3711 AUC 0.7874\n",
            "Epoch 25 TRAIN Batch 400 Loss 0.5113 Accuracy 74.3624 AUC 0.7875\n",
            "Epoch 25 TRAIN Batch 450 Loss 0.5112 Accuracy 74.3737 AUC 0.7876\n",
            "Epoch 25 TRAIN Batch 500 Loss 0.5111 Accuracy 74.3807 AUC 0.7876\n",
            "Epoch 25 TRAIN Batch 550 Loss 0.5112 Accuracy 74.3760 AUC 0.7876\n",
            "Epoch 25 TRAIN Batch 600 Loss 0.5113 Accuracy 74.3697 AUC 0.7876\n",
            "Epoch 25 TRAIN Batch 650 Loss 0.5113 Accuracy 74.3636 AUC 0.7875\n",
            "Epoch 25 TRAIN Batch 700 Loss 0.5113 Accuracy 74.3703 AUC 0.7875\n",
            "Epoch 25 TRAIN Batch 750 Loss 0.5114 Accuracy 74.3660 AUC 0.7875\n"
          ],
          "name": "stdout"
        },
        {
          "output_type": "stream",
          "text": [
            "24-12 00:31 root         INFO     Epoch TRAIN 25 Loss 0.5113 Accuracy 74.3672 AUC 0.7875\n"
          ],
          "name": "stderr"
        },
        {
          "output_type": "stream",
          "text": [
            "Epoch 25 VAL Batch 0 Loss 0.5166 Accuracy 74.4131 AUC 0.7799\n",
            "Epoch 25 VAL Batch 50 Loss 0.5121 Accuracy 74.3460 AUC 0.7872\n",
            "Epoch 25 VAL Batch 100 Loss 0.5122 Accuracy 74.3202 AUC 0.7880\n",
            "Epoch 25 VAL Batch 150 Loss 0.5113 Accuracy 74.3920 AUC 0.7885\n",
            "Epoch 25 VAL Batch 200 Loss 0.5113 Accuracy 74.3979 AUC 0.7884\n",
            "Epoch 25 VAL Batch 250 Loss 0.5113 Accuracy 74.3736 AUC 0.7884\n",
            "Epoch 25 VAL Batch 300 Loss 0.5111 Accuracy 74.3930 AUC 0.7885\n",
            "Epoch 25 VAL Batch 350 Loss 0.5111 Accuracy 74.3878 AUC 0.7884\n",
            "Epoch 25 VAL Batch 400 Loss 0.5111 Accuracy 74.3923 AUC 0.7884\n",
            "Epoch 25 VAL Batch 450 Loss 0.5111 Accuracy 74.3958 AUC 0.7883\n",
            "Epoch 25 VAL Batch 500 Loss 0.5110 Accuracy 74.3987 AUC 0.7883\n",
            "Epoch 25 VAL Batch 550 Loss 0.5111 Accuracy 74.3973 AUC 0.7884\n",
            "Epoch 25 VAL Batch 600 Loss 0.5112 Accuracy 74.3860 AUC 0.7883\n",
            "Epoch 25 VAL Batch 650 Loss 0.5112 Accuracy 74.3928 AUC 0.7883\n",
            "Epoch 25 VAL Batch 700 Loss 0.5113 Accuracy 74.3834 AUC 0.7883\n",
            "Epoch 25 VAL Batch 750 Loss 0.5113 Accuracy 74.3820 AUC 0.7883\n"
          ],
          "name": "stdout"
        },
        {
          "output_type": "stream",
          "text": [
            "24-12 00:31 root         INFO     Epoch VAL 25 Loss 0.5113 Accuracy 74.3789 AUC 0.7883\n",
            "24-12 00:31 root         INFO     Saving checkpoint for epoch 25 at 23-Dec-riiid-2/checkpoints/ckpt-5\n"
          ],
          "name": "stderr"
        },
        {
          "output_type": "stream",
          "text": [
            "Time taken for 1 epoch: 254.28844738006592 secs\n",
            "\n",
            "Epoch 26 TRAIN Batch 0 Loss 0.5107 Accuracy 74.7412 AUC 0.7935\n",
            "Epoch 26 TRAIN Batch 50 Loss 0.5107 Accuracy 74.4108 AUC 0.7880\n",
            "Epoch 26 TRAIN Batch 100 Loss 0.5104 Accuracy 74.4659 AUC 0.7882\n",
            "Epoch 26 TRAIN Batch 150 Loss 0.5108 Accuracy 74.4269 AUC 0.7882\n",
            "Epoch 26 TRAIN Batch 200 Loss 0.5107 Accuracy 74.4373 AUC 0.7882\n",
            "Epoch 26 TRAIN Batch 250 Loss 0.5105 Accuracy 74.4442 AUC 0.7884\n",
            "Epoch 26 TRAIN Batch 300 Loss 0.5103 Accuracy 74.4525 AUC 0.7885\n",
            "Epoch 26 TRAIN Batch 350 Loss 0.5103 Accuracy 74.4625 AUC 0.7885\n",
            "Epoch 26 TRAIN Batch 400 Loss 0.5101 Accuracy 74.4729 AUC 0.7886\n",
            "Epoch 26 TRAIN Batch 450 Loss 0.5101 Accuracy 74.4738 AUC 0.7886\n",
            "Epoch 26 TRAIN Batch 500 Loss 0.5102 Accuracy 74.4617 AUC 0.7884\n",
            "Epoch 26 TRAIN Batch 550 Loss 0.5101 Accuracy 74.4677 AUC 0.7885\n",
            "Epoch 26 TRAIN Batch 600 Loss 0.5102 Accuracy 74.4648 AUC 0.7884\n",
            "Epoch 26 TRAIN Batch 650 Loss 0.5101 Accuracy 74.4697 AUC 0.7884\n",
            "Epoch 26 TRAIN Batch 700 Loss 0.5102 Accuracy 74.4613 AUC 0.7884\n",
            "Epoch 26 TRAIN Batch 750 Loss 0.5104 Accuracy 74.4483 AUC 0.7882\n"
          ],
          "name": "stdout"
        },
        {
          "output_type": "stream",
          "text": [
            "24-12 00:35 root         INFO     Epoch TRAIN 26 Loss 0.5104 Accuracy 74.4442 AUC 0.7882\n"
          ],
          "name": "stderr"
        },
        {
          "output_type": "stream",
          "text": [
            "Time taken for 1 epoch: 226.26600551605225 secs\n",
            "\n",
            "Epoch 27 TRAIN Batch 0 Loss 0.5023 Accuracy 74.7950 AUC 0.7926\n",
            "Epoch 27 TRAIN Batch 50 Loss 0.5094 Accuracy 74.5125 AUC 0.7884\n",
            "Epoch 27 TRAIN Batch 100 Loss 0.5101 Accuracy 74.4602 AUC 0.7882\n",
            "Epoch 27 TRAIN Batch 150 Loss 0.5102 Accuracy 74.4457 AUC 0.7883\n",
            "Epoch 27 TRAIN Batch 200 Loss 0.5103 Accuracy 74.4406 AUC 0.7886\n",
            "Epoch 27 TRAIN Batch 250 Loss 0.5104 Accuracy 74.4273 AUC 0.7881\n",
            "Epoch 27 TRAIN Batch 300 Loss 0.5107 Accuracy 74.4120 AUC 0.7880\n",
            "Epoch 27 TRAIN Batch 350 Loss 0.5104 Accuracy 74.4254 AUC 0.7881\n",
            "Epoch 27 TRAIN Batch 400 Loss 0.5107 Accuracy 74.4106 AUC 0.7879\n",
            "Epoch 27 TRAIN Batch 450 Loss 0.5107 Accuracy 74.4126 AUC 0.7878\n",
            "Epoch 27 TRAIN Batch 500 Loss 0.5109 Accuracy 74.4047 AUC 0.7877\n",
            "Epoch 27 TRAIN Batch 550 Loss 0.5108 Accuracy 74.4123 AUC 0.7877\n",
            "Epoch 27 TRAIN Batch 600 Loss 0.5108 Accuracy 74.4106 AUC 0.7877\n",
            "Epoch 27 TRAIN Batch 650 Loss 0.5106 Accuracy 74.4256 AUC 0.7878\n",
            "Epoch 27 TRAIN Batch 700 Loss 0.5106 Accuracy 74.4299 AUC 0.7879\n",
            "Epoch 27 TRAIN Batch 750 Loss 0.5107 Accuracy 74.4236 AUC 0.7879\n"
          ],
          "name": "stdout"
        },
        {
          "output_type": "stream",
          "text": [
            "24-12 00:39 root         INFO     Epoch TRAIN 27 Loss 0.5106 Accuracy 74.4276 AUC 0.7880\n"
          ],
          "name": "stderr"
        },
        {
          "output_type": "stream",
          "text": [
            "Time taken for 1 epoch: 226.63668632507324 secs\n",
            "\n",
            "Epoch 28 TRAIN Batch 0 Loss 0.5107 Accuracy 74.3438 AUC 0.7821\n",
            "Epoch 28 TRAIN Batch 50 Loss 0.5088 Accuracy 74.5058 AUC 0.7892\n",
            "Epoch 28 TRAIN Batch 100 Loss 0.5097 Accuracy 74.4659 AUC 0.7884\n",
            "Epoch 28 TRAIN Batch 150 Loss 0.5101 Accuracy 74.4534 AUC 0.7881\n",
            "Epoch 28 TRAIN Batch 200 Loss 0.5101 Accuracy 74.4477 AUC 0.7881\n",
            "Epoch 28 TRAIN Batch 250 Loss 0.5104 Accuracy 74.4367 AUC 0.7880\n",
            "Epoch 28 TRAIN Batch 300 Loss 0.5103 Accuracy 74.4452 AUC 0.7881\n",
            "Epoch 28 TRAIN Batch 350 Loss 0.5102 Accuracy 74.4594 AUC 0.7881\n",
            "Epoch 28 TRAIN Batch 400 Loss 0.5101 Accuracy 74.4636 AUC 0.7881\n",
            "Epoch 28 TRAIN Batch 450 Loss 0.5100 Accuracy 74.4747 AUC 0.7883\n",
            "Epoch 28 TRAIN Batch 500 Loss 0.5101 Accuracy 74.4612 AUC 0.7883\n",
            "Epoch 28 TRAIN Batch 550 Loss 0.5100 Accuracy 74.4639 AUC 0.7884\n",
            "Epoch 28 TRAIN Batch 600 Loss 0.5100 Accuracy 74.4619 AUC 0.7884\n",
            "Epoch 28 TRAIN Batch 650 Loss 0.5099 Accuracy 74.4649 AUC 0.7885\n",
            "Epoch 28 TRAIN Batch 700 Loss 0.5099 Accuracy 74.4690 AUC 0.7885\n",
            "Epoch 28 TRAIN Batch 750 Loss 0.5100 Accuracy 74.4570 AUC 0.7885\n"
          ],
          "name": "stdout"
        },
        {
          "output_type": "stream",
          "text": [
            "24-12 00:43 root         INFO     Epoch TRAIN 28 Loss 0.5100 Accuracy 74.4556 AUC 0.7885\n"
          ],
          "name": "stderr"
        },
        {
          "output_type": "stream",
          "text": [
            "Time taken for 1 epoch: 226.79410791397095 secs\n",
            "\n",
            "Epoch 29 TRAIN Batch 0 Loss 0.5092 Accuracy 74.6617 AUC 0.7970\n",
            "Epoch 29 TRAIN Batch 50 Loss 0.5115 Accuracy 74.3124 AUC 0.7889\n",
            "Epoch 29 TRAIN Batch 100 Loss 0.5108 Accuracy 74.4056 AUC 0.7890\n",
            "Epoch 29 TRAIN Batch 150 Loss 0.5099 Accuracy 74.4511 AUC 0.7896\n",
            "Epoch 29 TRAIN Batch 200 Loss 0.5094 Accuracy 74.4902 AUC 0.7896\n",
            "Epoch 29 TRAIN Batch 250 Loss 0.5093 Accuracy 74.5194 AUC 0.7897\n",
            "Epoch 29 TRAIN Batch 300 Loss 0.5096 Accuracy 74.4836 AUC 0.7895\n",
            "Epoch 29 TRAIN Batch 350 Loss 0.5096 Accuracy 74.4816 AUC 0.7892\n",
            "Epoch 29 TRAIN Batch 400 Loss 0.5096 Accuracy 74.4795 AUC 0.7892\n",
            "Epoch 29 TRAIN Batch 450 Loss 0.5098 Accuracy 74.4691 AUC 0.7891\n",
            "Epoch 29 TRAIN Batch 500 Loss 0.5096 Accuracy 74.4881 AUC 0.7891\n",
            "Epoch 29 TRAIN Batch 550 Loss 0.5097 Accuracy 74.4797 AUC 0.7891\n",
            "Epoch 29 TRAIN Batch 600 Loss 0.5096 Accuracy 74.4925 AUC 0.7891\n",
            "Epoch 29 TRAIN Batch 650 Loss 0.5095 Accuracy 74.4954 AUC 0.7891\n",
            "Epoch 29 TRAIN Batch 700 Loss 0.5095 Accuracy 74.4967 AUC 0.7891\n",
            "Epoch 29 TRAIN Batch 750 Loss 0.5096 Accuracy 74.4860 AUC 0.7890\n"
          ],
          "name": "stdout"
        },
        {
          "output_type": "stream",
          "text": [
            "24-12 00:47 root         INFO     Epoch TRAIN 29 Loss 0.5097 Accuracy 74.4839 AUC 0.7890\n"
          ],
          "name": "stderr"
        },
        {
          "output_type": "stream",
          "text": [
            "Time taken for 1 epoch: 233.43411946296692 secs\n",
            "\n",
            "Epoch 30 TRAIN Batch 0 Loss 0.5018 Accuracy 75.3200 AUC 0.7952\n",
            "Epoch 30 TRAIN Batch 50 Loss 0.5093 Accuracy 74.5413 AUC 0.7899\n",
            "Epoch 30 TRAIN Batch 100 Loss 0.5089 Accuracy 74.5443 AUC 0.7895\n",
            "Epoch 30 TRAIN Batch 150 Loss 0.5088 Accuracy 74.5617 AUC 0.7893\n",
            "Epoch 30 TRAIN Batch 200 Loss 0.5088 Accuracy 74.5609 AUC 0.7893\n",
            "Epoch 30 TRAIN Batch 250 Loss 0.5090 Accuracy 74.5423 AUC 0.7893\n",
            "Epoch 30 TRAIN Batch 300 Loss 0.5090 Accuracy 74.5342 AUC 0.7893\n",
            "Epoch 30 TRAIN Batch 350 Loss 0.5088 Accuracy 74.5455 AUC 0.7893\n",
            "Epoch 30 TRAIN Batch 400 Loss 0.5091 Accuracy 74.5196 AUC 0.7891\n",
            "Epoch 30 TRAIN Batch 450 Loss 0.5093 Accuracy 74.5063 AUC 0.7890\n",
            "Epoch 30 TRAIN Batch 500 Loss 0.5090 Accuracy 74.5233 AUC 0.7892\n",
            "Epoch 30 TRAIN Batch 550 Loss 0.5092 Accuracy 74.5066 AUC 0.7891\n",
            "Epoch 30 TRAIN Batch 600 Loss 0.5092 Accuracy 74.5017 AUC 0.7892\n",
            "Epoch 30 TRAIN Batch 650 Loss 0.5092 Accuracy 74.5069 AUC 0.7892\n",
            "Epoch 30 TRAIN Batch 700 Loss 0.5092 Accuracy 74.5074 AUC 0.7893\n",
            "Epoch 30 TRAIN Batch 750 Loss 0.5093 Accuracy 74.5033 AUC 0.7893\n"
          ],
          "name": "stdout"
        },
        {
          "output_type": "stream",
          "text": [
            "24-12 00:50 root         INFO     Epoch TRAIN 30 Loss 0.5093 Accuracy 74.5026 AUC 0.7893\n"
          ],
          "name": "stderr"
        },
        {
          "output_type": "stream",
          "text": [
            "Epoch 30 VAL Batch 0 Loss 0.5167 Accuracy 74.3967 AUC 0.7814\n",
            "Epoch 30 VAL Batch 50 Loss 0.5120 Accuracy 74.2605 AUC 0.7884\n",
            "Epoch 30 VAL Batch 100 Loss 0.5120 Accuracy 74.2479 AUC 0.7892\n",
            "Epoch 30 VAL Batch 150 Loss 0.5111 Accuracy 74.3168 AUC 0.7897\n",
            "Epoch 30 VAL Batch 200 Loss 0.5111 Accuracy 74.3221 AUC 0.7897\n",
            "Epoch 30 VAL Batch 250 Loss 0.5111 Accuracy 74.3017 AUC 0.7897\n",
            "Epoch 30 VAL Batch 300 Loss 0.5109 Accuracy 74.3259 AUC 0.7898\n",
            "Epoch 30 VAL Batch 350 Loss 0.5109 Accuracy 74.3260 AUC 0.7898\n",
            "Epoch 30 VAL Batch 400 Loss 0.5109 Accuracy 74.3340 AUC 0.7897\n",
            "Epoch 30 VAL Batch 450 Loss 0.5108 Accuracy 74.3326 AUC 0.7896\n",
            "Epoch 30 VAL Batch 500 Loss 0.5108 Accuracy 74.3325 AUC 0.7896\n",
            "Epoch 30 VAL Batch 550 Loss 0.5109 Accuracy 74.3343 AUC 0.7897\n",
            "Epoch 30 VAL Batch 600 Loss 0.5110 Accuracy 74.3274 AUC 0.7897\n",
            "Epoch 30 VAL Batch 650 Loss 0.5110 Accuracy 74.3341 AUC 0.7896\n",
            "Epoch 30 VAL Batch 700 Loss 0.5110 Accuracy 74.3300 AUC 0.7896\n",
            "Epoch 30 VAL Batch 750 Loss 0.5111 Accuracy 74.3310 AUC 0.7896\n"
          ],
          "name": "stdout"
        },
        {
          "output_type": "stream",
          "text": [
            "24-12 00:51 root         INFO     Epoch VAL 30 Loss 0.5111 Accuracy 74.3290 AUC 0.7896\n",
            "24-12 00:51 root         INFO     Saving checkpoint for epoch 30 at 23-Dec-riiid-2/checkpoints/ckpt-6\n"
          ],
          "name": "stderr"
        },
        {
          "output_type": "stream",
          "text": [
            "Time taken for 1 epoch: 260.05016565322876 secs\n",
            "\n",
            "Epoch 31 TRAIN Batch 0 Loss 0.5227 Accuracy 73.1669 AUC 0.7770\n",
            "Epoch 31 TRAIN Batch 50 Loss 0.5097 Accuracy 74.4603 AUC 0.7890\n",
            "Epoch 31 TRAIN Batch 100 Loss 0.5094 Accuracy 74.5017 AUC 0.7892\n",
            "Epoch 31 TRAIN Batch 150 Loss 0.5099 Accuracy 74.4564 AUC 0.7890\n",
            "Epoch 31 TRAIN Batch 200 Loss 0.5097 Accuracy 74.4717 AUC 0.7893\n",
            "Epoch 31 TRAIN Batch 250 Loss 0.5088 Accuracy 74.5428 AUC 0.7898\n",
            "Epoch 31 TRAIN Batch 300 Loss 0.5087 Accuracy 74.5372 AUC 0.7900\n",
            "Epoch 31 TRAIN Batch 350 Loss 0.5092 Accuracy 74.5101 AUC 0.7896\n",
            "Epoch 31 TRAIN Batch 400 Loss 0.5095 Accuracy 74.4915 AUC 0.7896\n",
            "Epoch 31 TRAIN Batch 450 Loss 0.5099 Accuracy 74.4543 AUC 0.7894\n",
            "Epoch 31 TRAIN Batch 500 Loss 0.5098 Accuracy 74.4556 AUC 0.7893\n",
            "Epoch 31 TRAIN Batch 550 Loss 0.5097 Accuracy 74.4636 AUC 0.7894\n",
            "Epoch 31 TRAIN Batch 600 Loss 0.5096 Accuracy 74.4706 AUC 0.7895\n",
            "Epoch 31 TRAIN Batch 650 Loss 0.5097 Accuracy 74.4614 AUC 0.7894\n",
            "Epoch 31 TRAIN Batch 700 Loss 0.5095 Accuracy 74.4761 AUC 0.7895\n",
            "Epoch 31 TRAIN Batch 750 Loss 0.5095 Accuracy 74.4804 AUC 0.7894\n"
          ],
          "name": "stdout"
        },
        {
          "output_type": "stream",
          "text": [
            "24-12 00:55 root         INFO     Epoch TRAIN 31 Loss 0.5095 Accuracy 74.4828 AUC 0.7895\n"
          ],
          "name": "stderr"
        },
        {
          "output_type": "stream",
          "text": [
            "Time taken for 1 epoch: 233.9950532913208 secs\n",
            "\n",
            "Epoch 32 TRAIN Batch 0 Loss 0.5062 Accuracy 74.9115 AUC 0.7926\n",
            "Epoch 32 TRAIN Batch 50 Loss 0.5094 Accuracy 74.4908 AUC 0.7886\n",
            "Epoch 32 TRAIN Batch 100 Loss 0.5093 Accuracy 74.5113 AUC 0.7881\n",
            "Epoch 32 TRAIN Batch 150 Loss 0.5097 Accuracy 74.4706 AUC 0.7881\n",
            "Epoch 32 TRAIN Batch 200 Loss 0.5094 Accuracy 74.4801 AUC 0.7884\n",
            "Epoch 32 TRAIN Batch 250 Loss 0.5092 Accuracy 74.5012 AUC 0.7885\n",
            "Epoch 32 TRAIN Batch 300 Loss 0.5091 Accuracy 74.4991 AUC 0.7888\n",
            "Epoch 32 TRAIN Batch 350 Loss 0.5091 Accuracy 74.5111 AUC 0.7890\n",
            "Epoch 32 TRAIN Batch 400 Loss 0.5092 Accuracy 74.4972 AUC 0.7890\n",
            "Epoch 32 TRAIN Batch 450 Loss 0.5093 Accuracy 74.4865 AUC 0.7889\n",
            "Epoch 32 TRAIN Batch 500 Loss 0.5092 Accuracy 74.4946 AUC 0.7891\n",
            "Epoch 32 TRAIN Batch 550 Loss 0.5093 Accuracy 74.4831 AUC 0.7891\n",
            "Epoch 32 TRAIN Batch 600 Loss 0.5093 Accuracy 74.4930 AUC 0.7891\n",
            "Epoch 32 TRAIN Batch 650 Loss 0.5093 Accuracy 74.4941 AUC 0.7892\n",
            "Epoch 32 TRAIN Batch 700 Loss 0.5093 Accuracy 74.4928 AUC 0.7892\n",
            "Epoch 32 TRAIN Batch 750 Loss 0.5093 Accuracy 74.4877 AUC 0.7893\n"
          ],
          "name": "stdout"
        },
        {
          "output_type": "stream",
          "text": [
            "24-12 00:59 root         INFO     Epoch TRAIN 32 Loss 0.5092 Accuracy 74.4884 AUC 0.7893\n"
          ],
          "name": "stderr"
        },
        {
          "output_type": "stream",
          "text": [
            "Time taken for 1 epoch: 236.19212079048157 secs\n",
            "\n",
            "Epoch 33 TRAIN Batch 0 Loss 0.5051 Accuracy 74.4190 AUC 0.7899\n",
            "Epoch 33 TRAIN Batch 50 Loss 0.5091 Accuracy 74.5106 AUC 0.7896\n",
            "Epoch 33 TRAIN Batch 100 Loss 0.5092 Accuracy 74.4849 AUC 0.7895\n",
            "Epoch 33 TRAIN Batch 150 Loss 0.5090 Accuracy 74.5002 AUC 0.7893\n",
            "Epoch 33 TRAIN Batch 200 Loss 0.5094 Accuracy 74.4893 AUC 0.7892\n",
            "Epoch 33 TRAIN Batch 250 Loss 0.5089 Accuracy 74.5096 AUC 0.7895\n",
            "Epoch 33 TRAIN Batch 300 Loss 0.5089 Accuracy 74.5112 AUC 0.7895\n",
            "Epoch 33 TRAIN Batch 350 Loss 0.5089 Accuracy 74.5139 AUC 0.7896\n",
            "Epoch 33 TRAIN Batch 400 Loss 0.5090 Accuracy 74.4994 AUC 0.7896\n",
            "Epoch 33 TRAIN Batch 450 Loss 0.5092 Accuracy 74.4829 AUC 0.7894\n",
            "Epoch 33 TRAIN Batch 500 Loss 0.5092 Accuracy 74.4842 AUC 0.7895\n",
            "Epoch 33 TRAIN Batch 550 Loss 0.5093 Accuracy 74.4747 AUC 0.7894\n",
            "Epoch 33 TRAIN Batch 600 Loss 0.5093 Accuracy 74.4731 AUC 0.7893\n",
            "Epoch 33 TRAIN Batch 650 Loss 0.5092 Accuracy 74.4781 AUC 0.7894\n",
            "Epoch 33 TRAIN Batch 700 Loss 0.5093 Accuracy 74.4750 AUC 0.7894\n",
            "Epoch 33 TRAIN Batch 750 Loss 0.5093 Accuracy 74.4722 AUC 0.7894\n"
          ],
          "name": "stdout"
        },
        {
          "output_type": "stream",
          "text": [
            "24-12 01:03 root         INFO     Epoch TRAIN 33 Loss 0.5093 Accuracy 74.4758 AUC 0.7894\n"
          ],
          "name": "stderr"
        },
        {
          "output_type": "stream",
          "text": [
            "Time taken for 1 epoch: 239.5229480266571 secs\n",
            "\n",
            "Epoch 34 TRAIN Batch 0 Loss 0.5190 Accuracy 73.8732 AUC 0.7869\n",
            "Epoch 34 TRAIN Batch 50 Loss 0.5112 Accuracy 74.3271 AUC 0.7899\n",
            "Epoch 34 TRAIN Batch 100 Loss 0.5099 Accuracy 74.4328 AUC 0.7900\n",
            "Epoch 34 TRAIN Batch 150 Loss 0.5099 Accuracy 74.4344 AUC 0.7897\n",
            "Epoch 34 TRAIN Batch 200 Loss 0.5094 Accuracy 74.4713 AUC 0.7899\n",
            "Epoch 34 TRAIN Batch 250 Loss 0.5092 Accuracy 74.4811 AUC 0.7901\n",
            "Epoch 34 TRAIN Batch 300 Loss 0.5091 Accuracy 74.4936 AUC 0.7901\n",
            "Epoch 34 TRAIN Batch 350 Loss 0.5092 Accuracy 74.4901 AUC 0.7899\n",
            "Epoch 34 TRAIN Batch 400 Loss 0.5093 Accuracy 74.4871 AUC 0.7898\n",
            "Epoch 34 TRAIN Batch 450 Loss 0.5092 Accuracy 74.4972 AUC 0.7898\n",
            "Epoch 34 TRAIN Batch 500 Loss 0.5091 Accuracy 74.5019 AUC 0.7899\n",
            "Epoch 34 TRAIN Batch 550 Loss 0.5093 Accuracy 74.4952 AUC 0.7898\n",
            "Epoch 34 TRAIN Batch 600 Loss 0.5091 Accuracy 74.5108 AUC 0.7900\n",
            "Epoch 34 TRAIN Batch 650 Loss 0.5090 Accuracy 74.5116 AUC 0.7900\n",
            "Epoch 34 TRAIN Batch 700 Loss 0.5090 Accuracy 74.5101 AUC 0.7899\n",
            "Epoch 34 TRAIN Batch 750 Loss 0.5091 Accuracy 74.5106 AUC 0.7898\n"
          ],
          "name": "stdout"
        },
        {
          "output_type": "stream",
          "text": [
            "24-12 01:07 root         INFO     Epoch TRAIN 34 Loss 0.5090 Accuracy 74.5125 AUC 0.7898\n"
          ],
          "name": "stderr"
        },
        {
          "output_type": "stream",
          "text": [
            "Time taken for 1 epoch: 239.44094944000244 secs\n",
            "\n",
            "Epoch 35 TRAIN Batch 0 Loss 0.5095 Accuracy 74.7114 AUC 0.7905\n",
            "Epoch 35 TRAIN Batch 50 Loss 0.5090 Accuracy 74.4618 AUC 0.7899\n",
            "Epoch 35 TRAIN Batch 100 Loss 0.5094 Accuracy 74.4543 AUC 0.7901\n",
            "Epoch 35 TRAIN Batch 150 Loss 0.5094 Accuracy 74.4592 AUC 0.7900\n",
            "Epoch 35 TRAIN Batch 200 Loss 0.5091 Accuracy 74.4672 AUC 0.7901\n",
            "Epoch 35 TRAIN Batch 250 Loss 0.5095 Accuracy 74.4604 AUC 0.7900\n",
            "Epoch 35 TRAIN Batch 300 Loss 0.5089 Accuracy 74.5092 AUC 0.7903\n",
            "Epoch 35 TRAIN Batch 350 Loss 0.5087 Accuracy 74.5229 AUC 0.7903\n",
            "Epoch 35 TRAIN Batch 400 Loss 0.5085 Accuracy 74.5452 AUC 0.7903\n",
            "Epoch 35 TRAIN Batch 450 Loss 0.5082 Accuracy 74.5622 AUC 0.7905\n",
            "Epoch 35 TRAIN Batch 500 Loss 0.5083 Accuracy 74.5574 AUC 0.7904\n",
            "Epoch 35 TRAIN Batch 550 Loss 0.5083 Accuracy 74.5523 AUC 0.7904\n",
            "Epoch 35 TRAIN Batch 600 Loss 0.5081 Accuracy 74.5702 AUC 0.7905\n",
            "Epoch 35 TRAIN Batch 650 Loss 0.5083 Accuracy 74.5568 AUC 0.7904\n",
            "Epoch 35 TRAIN Batch 700 Loss 0.5082 Accuracy 74.5589 AUC 0.7904\n",
            "Epoch 35 TRAIN Batch 750 Loss 0.5083 Accuracy 74.5543 AUC 0.7904\n"
          ],
          "name": "stdout"
        },
        {
          "output_type": "stream",
          "text": [
            "24-12 01:11 root         INFO     Epoch TRAIN 35 Loss 0.5083 Accuracy 74.5497 AUC 0.7903\n"
          ],
          "name": "stderr"
        },
        {
          "output_type": "stream",
          "text": [
            "Epoch 35 VAL Batch 0 Loss 0.5127 Accuracy 74.4459 AUC 0.7840\n",
            "Epoch 35 VAL Batch 50 Loss 0.5101 Accuracy 74.4569 AUC 0.7894\n",
            "Epoch 35 VAL Batch 100 Loss 0.5102 Accuracy 74.4317 AUC 0.7903\n",
            "Epoch 35 VAL Batch 150 Loss 0.5093 Accuracy 74.5044 AUC 0.7907\n",
            "Epoch 35 VAL Batch 200 Loss 0.5093 Accuracy 74.5175 AUC 0.7907\n",
            "Epoch 35 VAL Batch 250 Loss 0.5094 Accuracy 74.4907 AUC 0.7907\n",
            "Epoch 35 VAL Batch 300 Loss 0.5091 Accuracy 74.5042 AUC 0.7908\n",
            "Epoch 35 VAL Batch 350 Loss 0.5091 Accuracy 74.5044 AUC 0.7907\n",
            "Epoch 35 VAL Batch 400 Loss 0.5091 Accuracy 74.5133 AUC 0.7907\n",
            "Epoch 35 VAL Batch 450 Loss 0.5090 Accuracy 74.5175 AUC 0.7906\n",
            "Epoch 35 VAL Batch 500 Loss 0.5090 Accuracy 74.5234 AUC 0.7906\n",
            "Epoch 35 VAL Batch 550 Loss 0.5091 Accuracy 74.5227 AUC 0.7907\n",
            "Epoch 35 VAL Batch 600 Loss 0.5092 Accuracy 74.5167 AUC 0.7906\n",
            "Epoch 35 VAL Batch 650 Loss 0.5092 Accuracy 74.5215 AUC 0.7906\n",
            "Epoch 35 VAL Batch 700 Loss 0.5092 Accuracy 74.5166 AUC 0.7906\n",
            "Epoch 35 VAL Batch 750 Loss 0.5093 Accuracy 74.5159 AUC 0.7906\n"
          ],
          "name": "stdout"
        },
        {
          "output_type": "stream",
          "text": [
            "24-12 01:11 root         INFO     Epoch VAL 35 Loss 0.5093 Accuracy 74.5127 AUC 0.7906\n",
            "24-12 01:11 root         INFO     Saving checkpoint for epoch 35 at 23-Dec-riiid-2/checkpoints/ckpt-7\n"
          ],
          "name": "stderr"
        },
        {
          "output_type": "stream",
          "text": [
            "Time taken for 1 epoch: 265.3089032173157 secs\n",
            "\n",
            "Epoch 36 TRAIN Batch 0 Loss 0.5031 Accuracy 74.6935 AUC 0.7888\n",
            "Epoch 36 TRAIN Batch 50 Loss 0.5065 Accuracy 74.6654 AUC 0.7899\n",
            "Epoch 36 TRAIN Batch 100 Loss 0.5071 Accuracy 74.6056 AUC 0.7902\n",
            "Epoch 36 TRAIN Batch 150 Loss 0.5076 Accuracy 74.5778 AUC 0.7904\n",
            "Epoch 36 TRAIN Batch 200 Loss 0.5079 Accuracy 74.5643 AUC 0.7901\n",
            "Epoch 36 TRAIN Batch 250 Loss 0.5081 Accuracy 74.5560 AUC 0.7902\n",
            "Epoch 36 TRAIN Batch 300 Loss 0.5082 Accuracy 74.5442 AUC 0.7902\n",
            "Epoch 36 TRAIN Batch 350 Loss 0.5085 Accuracy 74.5282 AUC 0.7901\n",
            "Epoch 36 TRAIN Batch 400 Loss 0.5083 Accuracy 74.5391 AUC 0.7903\n",
            "Epoch 36 TRAIN Batch 450 Loss 0.5084 Accuracy 74.5350 AUC 0.7903\n",
            "Epoch 36 TRAIN Batch 500 Loss 0.5084 Accuracy 74.5368 AUC 0.7903\n",
            "Epoch 36 TRAIN Batch 550 Loss 0.5084 Accuracy 74.5413 AUC 0.7904\n",
            "Epoch 36 TRAIN Batch 600 Loss 0.5084 Accuracy 74.5421 AUC 0.7904\n",
            "Epoch 36 TRAIN Batch 650 Loss 0.5085 Accuracy 74.5297 AUC 0.7903\n",
            "Epoch 36 TRAIN Batch 700 Loss 0.5085 Accuracy 74.5330 AUC 0.7904\n",
            "Epoch 36 TRAIN Batch 750 Loss 0.5084 Accuracy 74.5356 AUC 0.7904\n"
          ],
          "name": "stdout"
        },
        {
          "output_type": "stream",
          "text": [
            "24-12 01:15 root         INFO     Epoch TRAIN 36 Loss 0.5085 Accuracy 74.5308 AUC 0.7904\n"
          ],
          "name": "stderr"
        },
        {
          "output_type": "stream",
          "text": [
            "Time taken for 1 epoch: 234.65339040756226 secs\n",
            "\n",
            "Epoch 37 TRAIN Batch 0 Loss 0.5133 Accuracy 74.5497 AUC 0.7895\n",
            "Epoch 37 TRAIN Batch 50 Loss 0.5099 Accuracy 74.4426 AUC 0.7896\n",
            "Epoch 37 TRAIN Batch 100 Loss 0.5092 Accuracy 74.4820 AUC 0.7898\n",
            "Epoch 37 TRAIN Batch 150 Loss 0.5091 Accuracy 74.5084 AUC 0.7900\n",
            "Epoch 37 TRAIN Batch 200 Loss 0.5086 Accuracy 74.5324 AUC 0.7900\n",
            "Epoch 37 TRAIN Batch 250 Loss 0.5085 Accuracy 74.5471 AUC 0.7902\n",
            "Epoch 37 TRAIN Batch 300 Loss 0.5082 Accuracy 74.5537 AUC 0.7904\n",
            "Epoch 37 TRAIN Batch 350 Loss 0.5082 Accuracy 74.5529 AUC 0.7902\n",
            "Epoch 37 TRAIN Batch 400 Loss 0.5082 Accuracy 74.5540 AUC 0.7902\n",
            "Epoch 37 TRAIN Batch 450 Loss 0.5083 Accuracy 74.5546 AUC 0.7901\n",
            "Epoch 37 TRAIN Batch 500 Loss 0.5083 Accuracy 74.5560 AUC 0.7901\n",
            "Epoch 37 TRAIN Batch 550 Loss 0.5083 Accuracy 74.5605 AUC 0.7901\n",
            "Epoch 37 TRAIN Batch 600 Loss 0.5084 Accuracy 74.5543 AUC 0.7901\n",
            "Epoch 37 TRAIN Batch 650 Loss 0.5084 Accuracy 74.5489 AUC 0.7901\n",
            "Epoch 37 TRAIN Batch 700 Loss 0.5085 Accuracy 74.5405 AUC 0.7900\n",
            "Epoch 37 TRAIN Batch 750 Loss 0.5083 Accuracy 74.5516 AUC 0.7901\n"
          ],
          "name": "stdout"
        },
        {
          "output_type": "stream",
          "text": [
            "24-12 01:19 root         INFO     Epoch TRAIN 37 Loss 0.5084 Accuracy 74.5492 AUC 0.7900\n"
          ],
          "name": "stderr"
        },
        {
          "output_type": "stream",
          "text": [
            "Time taken for 1 epoch: 232.27933645248413 secs\n",
            "\n",
            "Epoch 38 TRAIN Batch 0 Loss 0.5175 Accuracy 74.0744 AUC 0.7827\n",
            "Epoch 38 TRAIN Batch 50 Loss 0.5059 Accuracy 74.7112 AUC 0.7909\n",
            "Epoch 38 TRAIN Batch 100 Loss 0.5067 Accuracy 74.6595 AUC 0.7911\n",
            "Epoch 38 TRAIN Batch 150 Loss 0.5067 Accuracy 74.6504 AUC 0.7911\n",
            "Epoch 38 TRAIN Batch 200 Loss 0.5073 Accuracy 74.6027 AUC 0.7910\n",
            "Epoch 38 TRAIN Batch 250 Loss 0.5070 Accuracy 74.6119 AUC 0.7911\n",
            "Epoch 38 TRAIN Batch 300 Loss 0.5073 Accuracy 74.6037 AUC 0.7908\n",
            "Epoch 38 TRAIN Batch 350 Loss 0.5073 Accuracy 74.6071 AUC 0.7909\n",
            "Epoch 38 TRAIN Batch 400 Loss 0.5075 Accuracy 74.6039 AUC 0.7909\n",
            "Epoch 38 TRAIN Batch 450 Loss 0.5076 Accuracy 74.5991 AUC 0.7908\n",
            "Epoch 38 TRAIN Batch 500 Loss 0.5076 Accuracy 74.6040 AUC 0.7909\n",
            "Epoch 38 TRAIN Batch 550 Loss 0.5076 Accuracy 74.6015 AUC 0.7909\n",
            "Epoch 38 TRAIN Batch 600 Loss 0.5075 Accuracy 74.6068 AUC 0.7910\n",
            "Epoch 38 TRAIN Batch 650 Loss 0.5075 Accuracy 74.6032 AUC 0.7910\n",
            "Epoch 38 TRAIN Batch 700 Loss 0.5076 Accuracy 74.6004 AUC 0.7910\n",
            "Epoch 38 TRAIN Batch 750 Loss 0.5076 Accuracy 74.5985 AUC 0.7910\n"
          ],
          "name": "stdout"
        },
        {
          "output_type": "stream",
          "text": [
            "24-12 01:23 root         INFO     Epoch TRAIN 38 Loss 0.5075 Accuracy 74.6046 AUC 0.7911\n"
          ],
          "name": "stderr"
        },
        {
          "output_type": "stream",
          "text": [
            "Time taken for 1 epoch: 235.66524839401245 secs\n",
            "\n",
            "Epoch 39 TRAIN Batch 0 Loss 0.5183 Accuracy 73.8400 AUC 0.7851\n",
            "Epoch 39 TRAIN Batch 50 Loss 0.5073 Accuracy 74.5837 AUC 0.7906\n",
            "Epoch 39 TRAIN Batch 100 Loss 0.5090 Accuracy 74.4984 AUC 0.7897\n",
            "Epoch 39 TRAIN Batch 150 Loss 0.5091 Accuracy 74.4776 AUC 0.7900\n",
            "Epoch 39 TRAIN Batch 200 Loss 0.5088 Accuracy 74.4982 AUC 0.7902\n",
            "Epoch 39 TRAIN Batch 250 Loss 0.5086 Accuracy 74.5135 AUC 0.7902\n",
            "Epoch 39 TRAIN Batch 300 Loss 0.5084 Accuracy 74.5332 AUC 0.7902\n",
            "Epoch 39 TRAIN Batch 350 Loss 0.5083 Accuracy 74.5417 AUC 0.7905\n",
            "Epoch 39 TRAIN Batch 400 Loss 0.5083 Accuracy 74.5460 AUC 0.7905\n",
            "Epoch 39 TRAIN Batch 450 Loss 0.5083 Accuracy 74.5459 AUC 0.7905\n",
            "Epoch 39 TRAIN Batch 500 Loss 0.5082 Accuracy 74.5434 AUC 0.7905\n",
            "Epoch 39 TRAIN Batch 550 Loss 0.5080 Accuracy 74.5625 AUC 0.7907\n",
            "Epoch 39 TRAIN Batch 600 Loss 0.5080 Accuracy 74.5588 AUC 0.7907\n",
            "Epoch 39 TRAIN Batch 650 Loss 0.5080 Accuracy 74.5573 AUC 0.7907\n",
            "Epoch 39 TRAIN Batch 700 Loss 0.5081 Accuracy 74.5576 AUC 0.7907\n",
            "Epoch 39 TRAIN Batch 750 Loss 0.5082 Accuracy 74.5501 AUC 0.7907\n"
          ],
          "name": "stdout"
        },
        {
          "output_type": "stream",
          "text": [
            "24-12 01:27 root         INFO     Epoch TRAIN 39 Loss 0.5082 Accuracy 74.5506 AUC 0.7907\n"
          ],
          "name": "stderr"
        },
        {
          "output_type": "stream",
          "text": [
            "Time taken for 1 epoch: 236.7322859764099 secs\n",
            "\n",
            "Epoch 40 TRAIN Batch 0 Loss 0.4919 Accuracy 75.8010 AUC 0.8016\n",
            "Epoch 40 TRAIN Batch 50 Loss 0.5086 Accuracy 74.4983 AUC 0.7899\n",
            "Epoch 40 TRAIN Batch 100 Loss 0.5088 Accuracy 74.4648 AUC 0.7902\n",
            "Epoch 40 TRAIN Batch 150 Loss 0.5081 Accuracy 74.5258 AUC 0.7908\n",
            "Epoch 40 TRAIN Batch 200 Loss 0.5082 Accuracy 74.5218 AUC 0.7909\n",
            "Epoch 40 TRAIN Batch 250 Loss 0.5084 Accuracy 74.5097 AUC 0.7908\n",
            "Epoch 40 TRAIN Batch 300 Loss 0.5085 Accuracy 74.5049 AUC 0.7906\n",
            "Epoch 40 TRAIN Batch 350 Loss 0.5087 Accuracy 74.4990 AUC 0.7906\n",
            "Epoch 40 TRAIN Batch 400 Loss 0.5089 Accuracy 74.4857 AUC 0.7905\n",
            "Epoch 40 TRAIN Batch 450 Loss 0.5087 Accuracy 74.5005 AUC 0.7906\n",
            "Epoch 40 TRAIN Batch 500 Loss 0.5087 Accuracy 74.5000 AUC 0.7905\n",
            "Epoch 40 TRAIN Batch 550 Loss 0.5084 Accuracy 74.5244 AUC 0.7907\n",
            "Epoch 40 TRAIN Batch 600 Loss 0.5084 Accuracy 74.5274 AUC 0.7908\n",
            "Epoch 40 TRAIN Batch 650 Loss 0.5082 Accuracy 74.5395 AUC 0.7908\n",
            "Epoch 40 TRAIN Batch 700 Loss 0.5081 Accuracy 74.5453 AUC 0.7909\n",
            "Epoch 40 TRAIN Batch 750 Loss 0.5080 Accuracy 74.5522 AUC 0.7909\n"
          ],
          "name": "stdout"
        },
        {
          "output_type": "stream",
          "text": [
            "24-12 01:31 root         INFO     Epoch TRAIN 40 Loss 0.5079 Accuracy 74.5532 AUC 0.7909\n"
          ],
          "name": "stderr"
        },
        {
          "output_type": "stream",
          "text": [
            "Epoch 40 VAL Batch 0 Loss 0.5137 Accuracy 74.8974 AUC 0.7830\n",
            "Epoch 40 VAL Batch 50 Loss 0.5099 Accuracy 74.5048 AUC 0.7900\n",
            "Epoch 40 VAL Batch 100 Loss 0.5101 Accuracy 74.4613 AUC 0.7906\n",
            "Epoch 40 VAL Batch 150 Loss 0.5092 Accuracy 74.5310 AUC 0.7910\n",
            "Epoch 40 VAL Batch 200 Loss 0.5091 Accuracy 74.5411 AUC 0.7910\n",
            "Epoch 40 VAL Batch 250 Loss 0.5092 Accuracy 74.5113 AUC 0.7910\n",
            "Epoch 40 VAL Batch 300 Loss 0.5089 Accuracy 74.5292 AUC 0.7912\n",
            "Epoch 40 VAL Batch 350 Loss 0.5089 Accuracy 74.5261 AUC 0.7911\n",
            "Epoch 40 VAL Batch 400 Loss 0.5089 Accuracy 74.5328 AUC 0.7911\n",
            "Epoch 40 VAL Batch 450 Loss 0.5089 Accuracy 74.5420 AUC 0.7910\n",
            "Epoch 40 VAL Batch 500 Loss 0.5088 Accuracy 74.5442 AUC 0.7910\n",
            "Epoch 40 VAL Batch 550 Loss 0.5089 Accuracy 74.5442 AUC 0.7911\n",
            "Epoch 40 VAL Batch 600 Loss 0.5090 Accuracy 74.5351 AUC 0.7910\n",
            "Epoch 40 VAL Batch 650 Loss 0.5090 Accuracy 74.5397 AUC 0.7910\n",
            "Epoch 40 VAL Batch 700 Loss 0.5091 Accuracy 74.5346 AUC 0.7910\n",
            "Epoch 40 VAL Batch 750 Loss 0.5091 Accuracy 74.5345 AUC 0.7910\n"
          ],
          "name": "stdout"
        },
        {
          "output_type": "stream",
          "text": [
            "24-12 01:31 root         INFO     Epoch VAL 40 Loss 0.5091 Accuracy 74.5302 AUC 0.7910\n",
            "24-12 01:31 root         INFO     Saving checkpoint for epoch 40 at 23-Dec-riiid-2/checkpoints/ckpt-8\n"
          ],
          "name": "stderr"
        },
        {
          "output_type": "stream",
          "text": [
            "Time taken for 1 epoch: 260.92000818252563 secs\n",
            "\n",
            "Epoch 41 TRAIN Batch 0 Loss 0.5012 Accuracy 74.9674 AUC 0.7926\n",
            "Epoch 41 TRAIN Batch 50 Loss 0.5085 Accuracy 74.5025 AUC 0.7907\n",
            "Epoch 41 TRAIN Batch 100 Loss 0.5073 Accuracy 74.5701 AUC 0.7911\n",
            "Epoch 41 TRAIN Batch 150 Loss 0.5078 Accuracy 74.5510 AUC 0.7909\n",
            "Epoch 41 TRAIN Batch 200 Loss 0.5071 Accuracy 74.6117 AUC 0.7912\n",
            "Epoch 41 TRAIN Batch 250 Loss 0.5073 Accuracy 74.5953 AUC 0.7911\n",
            "Epoch 41 TRAIN Batch 300 Loss 0.5074 Accuracy 74.5832 AUC 0.7911\n",
            "Epoch 41 TRAIN Batch 350 Loss 0.5076 Accuracy 74.5764 AUC 0.7911\n",
            "Epoch 41 TRAIN Batch 400 Loss 0.5074 Accuracy 74.5848 AUC 0.7912\n",
            "Epoch 41 TRAIN Batch 450 Loss 0.5074 Accuracy 74.5846 AUC 0.7912\n",
            "Epoch 41 TRAIN Batch 500 Loss 0.5074 Accuracy 74.5858 AUC 0.7912\n",
            "Epoch 41 TRAIN Batch 550 Loss 0.5076 Accuracy 74.5725 AUC 0.7912\n",
            "Epoch 41 TRAIN Batch 600 Loss 0.5076 Accuracy 74.5714 AUC 0.7912\n",
            "Epoch 41 TRAIN Batch 650 Loss 0.5076 Accuracy 74.5770 AUC 0.7912\n",
            "Epoch 41 TRAIN Batch 700 Loss 0.5077 Accuracy 74.5760 AUC 0.7911\n",
            "Epoch 41 TRAIN Batch 750 Loss 0.5076 Accuracy 74.5830 AUC 0.7913\n"
          ],
          "name": "stdout"
        },
        {
          "output_type": "stream",
          "text": [
            "24-12 01:35 root         INFO     Epoch TRAIN 41 Loss 0.5076 Accuracy 74.5796 AUC 0.7912\n"
          ],
          "name": "stderr"
        },
        {
          "output_type": "stream",
          "text": [
            "Time taken for 1 epoch: 234.47662329673767 secs\n",
            "\n",
            "Epoch 42 TRAIN Batch 0 Loss 0.5075 Accuracy 74.2390 AUC 0.7897\n",
            "Epoch 42 TRAIN Batch 50 Loss 0.5054 Accuracy 74.7574 AUC 0.7915\n",
            "Epoch 42 TRAIN Batch 100 Loss 0.5069 Accuracy 74.6485 AUC 0.7912\n",
            "Epoch 42 TRAIN Batch 150 Loss 0.5068 Accuracy 74.6561 AUC 0.7914\n",
            "Epoch 42 TRAIN Batch 200 Loss 0.5072 Accuracy 74.6103 AUC 0.7911\n",
            "Epoch 42 TRAIN Batch 250 Loss 0.5072 Accuracy 74.6162 AUC 0.7911\n",
            "Epoch 42 TRAIN Batch 300 Loss 0.5074 Accuracy 74.6038 AUC 0.7911\n",
            "Epoch 42 TRAIN Batch 350 Loss 0.5072 Accuracy 74.6186 AUC 0.7912\n",
            "Epoch 42 TRAIN Batch 400 Loss 0.5072 Accuracy 74.6133 AUC 0.7913\n",
            "Epoch 42 TRAIN Batch 450 Loss 0.5072 Accuracy 74.6111 AUC 0.7914\n",
            "Epoch 42 TRAIN Batch 500 Loss 0.5071 Accuracy 74.6158 AUC 0.7915\n",
            "Epoch 42 TRAIN Batch 550 Loss 0.5074 Accuracy 74.5925 AUC 0.7913\n",
            "Epoch 42 TRAIN Batch 600 Loss 0.5074 Accuracy 74.5891 AUC 0.7913\n",
            "Epoch 42 TRAIN Batch 650 Loss 0.5074 Accuracy 74.5903 AUC 0.7913\n",
            "Epoch 42 TRAIN Batch 700 Loss 0.5074 Accuracy 74.5899 AUC 0.7913\n",
            "Epoch 42 TRAIN Batch 750 Loss 0.5073 Accuracy 74.5990 AUC 0.7913\n"
          ],
          "name": "stdout"
        },
        {
          "output_type": "stream",
          "text": [
            "24-12 01:39 root         INFO     Epoch TRAIN 42 Loss 0.5072 Accuracy 74.6025 AUC 0.7913\n"
          ],
          "name": "stderr"
        },
        {
          "output_type": "stream",
          "text": [
            "Time taken for 1 epoch: 233.87748503684998 secs\n",
            "\n",
            "Epoch 43 TRAIN Batch 0 Loss 0.5070 Accuracy 74.7512 AUC 0.7906\n",
            "Epoch 43 TRAIN Batch 50 Loss 0.5089 Accuracy 74.4776 AUC 0.7907\n",
            "Epoch 43 TRAIN Batch 100 Loss 0.5083 Accuracy 74.5388 AUC 0.7912\n",
            "Epoch 43 TRAIN Batch 150 Loss 0.5080 Accuracy 74.5725 AUC 0.7916\n",
            "Epoch 43 TRAIN Batch 200 Loss 0.5076 Accuracy 74.5926 AUC 0.7918\n",
            "Epoch 43 TRAIN Batch 250 Loss 0.5080 Accuracy 74.5606 AUC 0.7915\n",
            "Epoch 43 TRAIN Batch 300 Loss 0.5076 Accuracy 74.5841 AUC 0.7917\n",
            "Epoch 43 TRAIN Batch 350 Loss 0.5074 Accuracy 74.6027 AUC 0.7916\n",
            "Epoch 43 TRAIN Batch 400 Loss 0.5074 Accuracy 74.5934 AUC 0.7916\n",
            "Epoch 43 TRAIN Batch 450 Loss 0.5073 Accuracy 74.5969 AUC 0.7916\n",
            "Epoch 43 TRAIN Batch 500 Loss 0.5073 Accuracy 74.5931 AUC 0.7916\n",
            "Epoch 43 TRAIN Batch 550 Loss 0.5074 Accuracy 74.5897 AUC 0.7916\n",
            "Epoch 43 TRAIN Batch 600 Loss 0.5074 Accuracy 74.5849 AUC 0.7915\n",
            "Epoch 43 TRAIN Batch 650 Loss 0.5075 Accuracy 74.5731 AUC 0.7915\n",
            "Epoch 43 TRAIN Batch 700 Loss 0.5077 Accuracy 74.5616 AUC 0.7914\n",
            "Epoch 43 TRAIN Batch 750 Loss 0.5076 Accuracy 74.5678 AUC 0.7914\n"
          ],
          "name": "stdout"
        },
        {
          "output_type": "stream",
          "text": [
            "24-12 01:43 root         INFO     Epoch TRAIN 43 Loss 0.5077 Accuracy 74.5586 AUC 0.7914\n"
          ],
          "name": "stderr"
        },
        {
          "output_type": "stream",
          "text": [
            "Time taken for 1 epoch: 230.22388696670532 secs\n",
            "\n",
            "Epoch 44 TRAIN Batch 0 Loss 0.4970 Accuracy 75.2067 AUC 0.7956\n",
            "Epoch 44 TRAIN Batch 50 Loss 0.5079 Accuracy 74.5685 AUC 0.7908\n",
            "Epoch 44 TRAIN Batch 100 Loss 0.5082 Accuracy 74.5418 AUC 0.7915\n",
            "Epoch 44 TRAIN Batch 150 Loss 0.5082 Accuracy 74.5324 AUC 0.7914\n",
            "Epoch 44 TRAIN Batch 200 Loss 0.5076 Accuracy 74.5706 AUC 0.7916\n",
            "Epoch 44 TRAIN Batch 250 Loss 0.5078 Accuracy 74.5567 AUC 0.7914\n",
            "Epoch 44 TRAIN Batch 300 Loss 0.5079 Accuracy 74.5604 AUC 0.7913\n",
            "Epoch 44 TRAIN Batch 350 Loss 0.5080 Accuracy 74.5516 AUC 0.7913\n",
            "Epoch 44 TRAIN Batch 400 Loss 0.5078 Accuracy 74.5607 AUC 0.7914\n",
            "Epoch 44 TRAIN Batch 450 Loss 0.5079 Accuracy 74.5553 AUC 0.7913\n",
            "Epoch 44 TRAIN Batch 500 Loss 0.5076 Accuracy 74.5787 AUC 0.7914\n",
            "Epoch 44 TRAIN Batch 550 Loss 0.5074 Accuracy 74.5953 AUC 0.7915\n",
            "Epoch 44 TRAIN Batch 600 Loss 0.5073 Accuracy 74.6028 AUC 0.7915\n",
            "Epoch 44 TRAIN Batch 650 Loss 0.5072 Accuracy 74.6110 AUC 0.7915\n",
            "Epoch 44 TRAIN Batch 700 Loss 0.5071 Accuracy 74.6190 AUC 0.7916\n",
            "Epoch 44 TRAIN Batch 750 Loss 0.5072 Accuracy 74.6174 AUC 0.7915\n"
          ],
          "name": "stdout"
        },
        {
          "output_type": "stream",
          "text": [
            "24-12 01:47 root         INFO     Epoch TRAIN 44 Loss 0.5072 Accuracy 74.6143 AUC 0.7915\n"
          ],
          "name": "stderr"
        },
        {
          "output_type": "stream",
          "text": [
            "Time taken for 1 epoch: 229.03384232521057 secs\n",
            "\n",
            "Epoch 45 TRAIN Batch 0 Loss 0.5054 Accuracy 74.5469 AUC 0.7896\n",
            "Epoch 45 TRAIN Batch 50 Loss 0.5037 Accuracy 74.7984 AUC 0.7935\n",
            "Epoch 45 TRAIN Batch 100 Loss 0.5056 Accuracy 74.6886 AUC 0.7923\n",
            "Epoch 45 TRAIN Batch 150 Loss 0.5067 Accuracy 74.6265 AUC 0.7917\n",
            "Epoch 45 TRAIN Batch 200 Loss 0.5067 Accuracy 74.6383 AUC 0.7917\n",
            "Epoch 45 TRAIN Batch 250 Loss 0.5066 Accuracy 74.6490 AUC 0.7918\n",
            "Epoch 45 TRAIN Batch 300 Loss 0.5071 Accuracy 74.6235 AUC 0.7915\n",
            "Epoch 45 TRAIN Batch 350 Loss 0.5073 Accuracy 74.6072 AUC 0.7914\n",
            "Epoch 45 TRAIN Batch 400 Loss 0.5073 Accuracy 74.6089 AUC 0.7913\n",
            "Epoch 45 TRAIN Batch 450 Loss 0.5072 Accuracy 74.6211 AUC 0.7914\n",
            "Epoch 45 TRAIN Batch 500 Loss 0.5070 Accuracy 74.6313 AUC 0.7914\n",
            "Epoch 45 TRAIN Batch 550 Loss 0.5070 Accuracy 74.6326 AUC 0.7914\n",
            "Epoch 45 TRAIN Batch 600 Loss 0.5069 Accuracy 74.6494 AUC 0.7915\n",
            "Epoch 45 TRAIN Batch 650 Loss 0.5069 Accuracy 74.6448 AUC 0.7916\n",
            "Epoch 45 TRAIN Batch 700 Loss 0.5069 Accuracy 74.6421 AUC 0.7916\n",
            "Epoch 45 TRAIN Batch 750 Loss 0.5069 Accuracy 74.6427 AUC 0.7916\n"
          ],
          "name": "stdout"
        },
        {
          "output_type": "stream",
          "text": [
            "24-12 01:50 root         INFO     Epoch TRAIN 45 Loss 0.5069 Accuracy 74.6435 AUC 0.7916\n"
          ],
          "name": "stderr"
        },
        {
          "output_type": "stream",
          "text": [
            "Epoch 45 VAL Batch 0 Loss 0.5140 Accuracy 74.4049 AUC 0.7826\n",
            "Epoch 45 VAL Batch 50 Loss 0.5090 Accuracy 74.5356 AUC 0.7907\n",
            "Epoch 45 VAL Batch 100 Loss 0.5093 Accuracy 74.5138 AUC 0.7914\n",
            "Epoch 45 VAL Batch 150 Loss 0.5084 Accuracy 74.5767 AUC 0.7917\n",
            "Epoch 45 VAL Batch 200 Loss 0.5084 Accuracy 74.5832 AUC 0.7917\n",
            "Epoch 45 VAL Batch 250 Loss 0.5084 Accuracy 74.5582 AUC 0.7917\n",
            "Epoch 45 VAL Batch 300 Loss 0.5082 Accuracy 74.5796 AUC 0.7918\n",
            "Epoch 45 VAL Batch 350 Loss 0.5082 Accuracy 74.5743 AUC 0.7917\n",
            "Epoch 45 VAL Batch 400 Loss 0.5082 Accuracy 74.5750 AUC 0.7917\n",
            "Epoch 45 VAL Batch 450 Loss 0.5081 Accuracy 74.5808 AUC 0.7916\n",
            "Epoch 45 VAL Batch 500 Loss 0.5080 Accuracy 74.5859 AUC 0.7916\n",
            "Epoch 45 VAL Batch 550 Loss 0.5081 Accuracy 74.5810 AUC 0.7917\n",
            "Epoch 45 VAL Batch 600 Loss 0.5083 Accuracy 74.5734 AUC 0.7916\n",
            "Epoch 45 VAL Batch 650 Loss 0.5083 Accuracy 74.5802 AUC 0.7916\n",
            "Epoch 45 VAL Batch 700 Loss 0.5083 Accuracy 74.5734 AUC 0.7916\n",
            "Epoch 45 VAL Batch 750 Loss 0.5083 Accuracy 74.5731 AUC 0.7916\n"
          ],
          "name": "stdout"
        },
        {
          "output_type": "stream",
          "text": [
            "24-12 01:51 root         INFO     Epoch VAL 45 Loss 0.5084 Accuracy 74.5690 AUC 0.7916\n",
            "24-12 01:51 root         INFO     Saving checkpoint for epoch 45 at 23-Dec-riiid-2/checkpoints/ckpt-9\n"
          ],
          "name": "stderr"
        },
        {
          "output_type": "stream",
          "text": [
            "Time taken for 1 epoch: 252.15042686462402 secs\n",
            "\n",
            "Epoch 46 TRAIN Batch 0 Loss 0.5144 Accuracy 74.3282 AUC 0.7873\n",
            "Epoch 46 TRAIN Batch 50 Loss 0.5083 Accuracy 74.5261 AUC 0.7905\n",
            "Epoch 46 TRAIN Batch 100 Loss 0.5068 Accuracy 74.6289 AUC 0.7918\n",
            "Epoch 46 TRAIN Batch 150 Loss 0.5067 Accuracy 74.6509 AUC 0.7916\n",
            "Epoch 46 TRAIN Batch 200 Loss 0.5066 Accuracy 74.6592 AUC 0.7917\n",
            "Epoch 46 TRAIN Batch 250 Loss 0.5065 Accuracy 74.6703 AUC 0.7918\n",
            "Epoch 46 TRAIN Batch 300 Loss 0.5065 Accuracy 74.6724 AUC 0.7917\n",
            "Epoch 46 TRAIN Batch 350 Loss 0.5065 Accuracy 74.6672 AUC 0.7917\n",
            "Epoch 46 TRAIN Batch 400 Loss 0.5068 Accuracy 74.6457 AUC 0.7915\n",
            "Epoch 46 TRAIN Batch 450 Loss 0.5068 Accuracy 74.6441 AUC 0.7915\n",
            "Epoch 46 TRAIN Batch 500 Loss 0.5067 Accuracy 74.6410 AUC 0.7916\n",
            "Epoch 46 TRAIN Batch 550 Loss 0.5067 Accuracy 74.6423 AUC 0.7916\n",
            "Epoch 46 TRAIN Batch 600 Loss 0.5068 Accuracy 74.6388 AUC 0.7916\n",
            "Epoch 46 TRAIN Batch 650 Loss 0.5071 Accuracy 74.6142 AUC 0.7914\n",
            "Epoch 46 TRAIN Batch 700 Loss 0.5069 Accuracy 74.6235 AUC 0.7915\n",
            "Epoch 46 TRAIN Batch 750 Loss 0.5070 Accuracy 74.6209 AUC 0.7915\n"
          ],
          "name": "stdout"
        },
        {
          "output_type": "stream",
          "text": [
            "24-12 01:55 root         INFO     Epoch TRAIN 46 Loss 0.5069 Accuracy 74.6250 AUC 0.7915\n"
          ],
          "name": "stderr"
        },
        {
          "output_type": "stream",
          "text": [
            "Time taken for 1 epoch: 227.87431383132935 secs\n",
            "\n",
            "Epoch 47 TRAIN Batch 0 Loss 0.5065 Accuracy 74.6282 AUC 0.7878\n",
            "Epoch 47 TRAIN Batch 50 Loss 0.5076 Accuracy 74.5944 AUC 0.7910\n",
            "Epoch 47 TRAIN Batch 100 Loss 0.5076 Accuracy 74.5829 AUC 0.7914\n",
            "Epoch 47 TRAIN Batch 150 Loss 0.5072 Accuracy 74.6014 AUC 0.7912\n",
            "Epoch 47 TRAIN Batch 200 Loss 0.5071 Accuracy 74.6064 AUC 0.7916\n",
            "Epoch 47 TRAIN Batch 250 Loss 0.5071 Accuracy 74.6099 AUC 0.7915\n",
            "Epoch 47 TRAIN Batch 300 Loss 0.5069 Accuracy 74.6219 AUC 0.7915\n",
            "Epoch 47 TRAIN Batch 350 Loss 0.5071 Accuracy 74.6093 AUC 0.7916\n",
            "Epoch 47 TRAIN Batch 400 Loss 0.5071 Accuracy 74.6031 AUC 0.7917\n",
            "Epoch 47 TRAIN Batch 450 Loss 0.5070 Accuracy 74.6072 AUC 0.7917\n",
            "Epoch 47 TRAIN Batch 500 Loss 0.5068 Accuracy 74.6205 AUC 0.7917\n",
            "Epoch 47 TRAIN Batch 550 Loss 0.5068 Accuracy 74.6196 AUC 0.7918\n",
            "Epoch 47 TRAIN Batch 600 Loss 0.5068 Accuracy 74.6186 AUC 0.7918\n",
            "Epoch 47 TRAIN Batch 650 Loss 0.5070 Accuracy 74.6069 AUC 0.7917\n",
            "Epoch 47 TRAIN Batch 700 Loss 0.5069 Accuracy 74.6139 AUC 0.7917\n",
            "Epoch 47 TRAIN Batch 750 Loss 0.5068 Accuracy 74.6178 AUC 0.7917\n"
          ],
          "name": "stdout"
        },
        {
          "output_type": "stream",
          "text": [
            "24-12 01:58 root         INFO     Epoch TRAIN 47 Loss 0.5069 Accuracy 74.6161 AUC 0.7917\n"
          ],
          "name": "stderr"
        },
        {
          "output_type": "stream",
          "text": [
            "Time taken for 1 epoch: 226.2269926071167 secs\n",
            "\n",
            "Epoch 48 TRAIN Batch 0 Loss 0.5122 Accuracy 73.8633 AUC 0.7923\n",
            "Epoch 48 TRAIN Batch 50 Loss 0.5067 Accuracy 74.6215 AUC 0.7917\n",
            "Epoch 48 TRAIN Batch 100 Loss 0.5065 Accuracy 74.6261 AUC 0.7920\n",
            "Epoch 48 TRAIN Batch 150 Loss 0.5061 Accuracy 74.6570 AUC 0.7922\n",
            "Epoch 48 TRAIN Batch 200 Loss 0.5069 Accuracy 74.6103 AUC 0.7920\n",
            "Epoch 48 TRAIN Batch 250 Loss 0.5069 Accuracy 74.6203 AUC 0.7920\n",
            "Epoch 48 TRAIN Batch 300 Loss 0.5065 Accuracy 74.6608 AUC 0.7922\n",
            "Epoch 48 TRAIN Batch 350 Loss 0.5067 Accuracy 74.6479 AUC 0.7921\n",
            "Epoch 48 TRAIN Batch 400 Loss 0.5066 Accuracy 74.6435 AUC 0.7921\n",
            "Epoch 48 TRAIN Batch 450 Loss 0.5065 Accuracy 74.6503 AUC 0.7922\n",
            "Epoch 48 TRAIN Batch 500 Loss 0.5065 Accuracy 74.6537 AUC 0.7923\n",
            "Epoch 48 TRAIN Batch 550 Loss 0.5067 Accuracy 74.6487 AUC 0.7922\n",
            "Epoch 48 TRAIN Batch 600 Loss 0.5067 Accuracy 74.6514 AUC 0.7921\n",
            "Epoch 48 TRAIN Batch 650 Loss 0.5067 Accuracy 74.6471 AUC 0.7922\n",
            "Epoch 48 TRAIN Batch 700 Loss 0.5067 Accuracy 74.6440 AUC 0.7920\n",
            "Epoch 48 TRAIN Batch 750 Loss 0.5065 Accuracy 74.6551 AUC 0.7922\n"
          ],
          "name": "stdout"
        },
        {
          "output_type": "stream",
          "text": [
            "24-12 02:02 root         INFO     Epoch TRAIN 48 Loss 0.5066 Accuracy 74.6490 AUC 0.7921\n"
          ],
          "name": "stderr"
        },
        {
          "output_type": "stream",
          "text": [
            "Time taken for 1 epoch: 222.94897890090942 secs\n",
            "\n",
            "Epoch 49 TRAIN Batch 0 Loss 0.5123 Accuracy 74.5009 AUC 0.7940\n",
            "Epoch 49 TRAIN Batch 50 Loss 0.5077 Accuracy 74.5527 AUC 0.7914\n",
            "Epoch 49 TRAIN Batch 100 Loss 0.5057 Accuracy 74.6673 AUC 0.7921\n",
            "Epoch 49 TRAIN Batch 150 Loss 0.5064 Accuracy 74.6323 AUC 0.7920\n",
            "Epoch 49 TRAIN Batch 200 Loss 0.5063 Accuracy 74.6241 AUC 0.7924\n",
            "Epoch 49 TRAIN Batch 250 Loss 0.5062 Accuracy 74.6350 AUC 0.7924\n",
            "Epoch 49 TRAIN Batch 300 Loss 0.5066 Accuracy 74.6124 AUC 0.7921\n",
            "Epoch 49 TRAIN Batch 350 Loss 0.5067 Accuracy 74.6115 AUC 0.7918\n",
            "Epoch 49 TRAIN Batch 400 Loss 0.5067 Accuracy 74.6231 AUC 0.7918\n",
            "Epoch 49 TRAIN Batch 450 Loss 0.5066 Accuracy 74.6304 AUC 0.7918\n",
            "Epoch 49 TRAIN Batch 500 Loss 0.5067 Accuracy 74.6264 AUC 0.7918\n",
            "Epoch 49 TRAIN Batch 550 Loss 0.5067 Accuracy 74.6304 AUC 0.7918\n",
            "Epoch 49 TRAIN Batch 600 Loss 0.5066 Accuracy 74.6403 AUC 0.7918\n",
            "Epoch 49 TRAIN Batch 650 Loss 0.5065 Accuracy 74.6523 AUC 0.7919\n",
            "Epoch 49 TRAIN Batch 700 Loss 0.5066 Accuracy 74.6444 AUC 0.7918\n",
            "Epoch 49 TRAIN Batch 750 Loss 0.5066 Accuracy 74.6430 AUC 0.7919\n"
          ],
          "name": "stdout"
        },
        {
          "output_type": "stream",
          "text": [
            "24-12 02:06 root         INFO     Epoch TRAIN 49 Loss 0.5066 Accuracy 74.6443 AUC 0.7919\n"
          ],
          "name": "stderr"
        },
        {
          "output_type": "stream",
          "text": [
            "Time taken for 1 epoch: 225.1409854888916 secs\n",
            "\n",
            "Epoch 50 TRAIN Batch 0 Loss 0.4968 Accuracy 75.2040 AUC 0.7998\n",
            "Epoch 50 TRAIN Batch 50 Loss 0.5056 Accuracy 74.7154 AUC 0.7928\n",
            "Epoch 50 TRAIN Batch 100 Loss 0.5066 Accuracy 74.6257 AUC 0.7923\n",
            "Epoch 50 TRAIN Batch 150 Loss 0.5074 Accuracy 74.5592 AUC 0.7918\n",
            "Epoch 50 TRAIN Batch 200 Loss 0.5066 Accuracy 74.6193 AUC 0.7921\n",
            "Epoch 50 TRAIN Batch 250 Loss 0.5066 Accuracy 74.6280 AUC 0.7919\n",
            "Epoch 50 TRAIN Batch 300 Loss 0.5068 Accuracy 74.6200 AUC 0.7919\n",
            "Epoch 50 TRAIN Batch 350 Loss 0.5069 Accuracy 74.6104 AUC 0.7919\n",
            "Epoch 50 TRAIN Batch 400 Loss 0.5068 Accuracy 74.6250 AUC 0.7920\n",
            "Epoch 50 TRAIN Batch 450 Loss 0.5067 Accuracy 74.6341 AUC 0.7920\n",
            "Epoch 50 TRAIN Batch 500 Loss 0.5069 Accuracy 74.6197 AUC 0.7918\n",
            "Epoch 50 TRAIN Batch 550 Loss 0.5067 Accuracy 74.6328 AUC 0.7919\n",
            "Epoch 50 TRAIN Batch 600 Loss 0.5068 Accuracy 74.6272 AUC 0.7919\n",
            "Epoch 50 TRAIN Batch 650 Loss 0.5069 Accuracy 74.6264 AUC 0.7919\n",
            "Epoch 50 TRAIN Batch 700 Loss 0.5069 Accuracy 74.6208 AUC 0.7919\n",
            "Epoch 50 TRAIN Batch 750 Loss 0.5068 Accuracy 74.6254 AUC 0.7919\n"
          ],
          "name": "stdout"
        },
        {
          "output_type": "stream",
          "text": [
            "24-12 02:10 root         INFO     Epoch TRAIN 50 Loss 0.5068 Accuracy 74.6261 AUC 0.7920\n"
          ],
          "name": "stderr"
        },
        {
          "output_type": "stream",
          "text": [
            "Epoch 50 VAL Batch 0 Loss 0.5124 Accuracy 74.8399 AUC 0.7841\n",
            "Epoch 50 VAL Batch 50 Loss 0.5083 Accuracy 74.5605 AUC 0.7910\n",
            "Epoch 50 VAL Batch 100 Loss 0.5085 Accuracy 74.5243 AUC 0.7917\n",
            "Epoch 50 VAL Batch 150 Loss 0.5076 Accuracy 74.5963 AUC 0.7921\n",
            "Epoch 50 VAL Batch 200 Loss 0.5075 Accuracy 74.6137 AUC 0.7921\n",
            "Epoch 50 VAL Batch 250 Loss 0.5076 Accuracy 74.5932 AUC 0.7921\n",
            "Epoch 50 VAL Batch 300 Loss 0.5073 Accuracy 74.6091 AUC 0.7922\n",
            "Epoch 50 VAL Batch 350 Loss 0.5073 Accuracy 74.6011 AUC 0.7922\n",
            "Epoch 50 VAL Batch 400 Loss 0.5073 Accuracy 74.6038 AUC 0.7922\n",
            "Epoch 50 VAL Batch 450 Loss 0.5073 Accuracy 74.6085 AUC 0.7921\n",
            "Epoch 50 VAL Batch 500 Loss 0.5072 Accuracy 74.6122 AUC 0.7921\n",
            "Epoch 50 VAL Batch 550 Loss 0.5072 Accuracy 74.6102 AUC 0.7922\n",
            "Epoch 50 VAL Batch 600 Loss 0.5074 Accuracy 74.5996 AUC 0.7921\n",
            "Epoch 50 VAL Batch 650 Loss 0.5074 Accuracy 74.6084 AUC 0.7921\n",
            "Epoch 50 VAL Batch 700 Loss 0.5074 Accuracy 74.5999 AUC 0.7921\n",
            "Epoch 50 VAL Batch 750 Loss 0.5074 Accuracy 74.6001 AUC 0.7921\n"
          ],
          "name": "stdout"
        },
        {
          "output_type": "stream",
          "text": [
            "24-12 02:10 root         INFO     Epoch VAL 50 Loss 0.5075 Accuracy 74.5969 AUC 0.7921\n",
            "24-12 02:10 root         INFO     Saving checkpoint for epoch 50 at 23-Dec-riiid-2/checkpoints/ckpt-10\n"
          ],
          "name": "stderr"
        },
        {
          "output_type": "stream",
          "text": [
            "Time taken for 1 epoch: 252.8899154663086 secs\n",
            "\n",
            "Epoch 51 TRAIN Batch 0 Loss 0.5026 Accuracy 74.8397 AUC 0.7847\n",
            "Epoch 51 TRAIN Batch 50 Loss 0.5046 Accuracy 74.7370 AUC 0.7931\n",
            "Epoch 51 TRAIN Batch 100 Loss 0.5061 Accuracy 74.6767 AUC 0.7923\n",
            "Epoch 51 TRAIN Batch 150 Loss 0.5069 Accuracy 74.6193 AUC 0.7918\n",
            "Epoch 51 TRAIN Batch 200 Loss 0.5070 Accuracy 74.6069 AUC 0.7917\n",
            "Epoch 51 TRAIN Batch 250 Loss 0.5070 Accuracy 74.6038 AUC 0.7918\n",
            "Epoch 51 TRAIN Batch 300 Loss 0.5066 Accuracy 74.6264 AUC 0.7922\n",
            "Epoch 51 TRAIN Batch 350 Loss 0.5065 Accuracy 74.6266 AUC 0.7923\n",
            "Epoch 51 TRAIN Batch 400 Loss 0.5062 Accuracy 74.6586 AUC 0.7925\n",
            "Epoch 51 TRAIN Batch 450 Loss 0.5061 Accuracy 74.6677 AUC 0.7925\n",
            "Epoch 51 TRAIN Batch 500 Loss 0.5061 Accuracy 74.6708 AUC 0.7925\n",
            "Epoch 51 TRAIN Batch 550 Loss 0.5061 Accuracy 74.6694 AUC 0.7925\n",
            "Epoch 51 TRAIN Batch 600 Loss 0.5061 Accuracy 74.6749 AUC 0.7925\n",
            "Epoch 51 TRAIN Batch 650 Loss 0.5061 Accuracy 74.6688 AUC 0.7924\n",
            "Epoch 51 TRAIN Batch 700 Loss 0.5062 Accuracy 74.6680 AUC 0.7924\n",
            "Epoch 51 TRAIN Batch 750 Loss 0.5061 Accuracy 74.6752 AUC 0.7924\n"
          ],
          "name": "stdout"
        },
        {
          "output_type": "stream",
          "text": [
            "24-12 02:14 root         INFO     Epoch TRAIN 51 Loss 0.5062 Accuracy 74.6722 AUC 0.7923\n"
          ],
          "name": "stderr"
        },
        {
          "output_type": "stream",
          "text": [
            "Time taken for 1 epoch: 227.93416500091553 secs\n",
            "\n",
            "Epoch 52 TRAIN Batch 0 Loss 0.5062 Accuracy 74.9510 AUC 0.7960\n",
            "Epoch 52 TRAIN Batch 50 Loss 0.5061 Accuracy 74.6572 AUC 0.7922\n",
            "Epoch 52 TRAIN Batch 100 Loss 0.5058 Accuracy 74.6584 AUC 0.7928\n",
            "Epoch 52 TRAIN Batch 150 Loss 0.5056 Accuracy 74.6760 AUC 0.7927\n",
            "Epoch 52 TRAIN Batch 200 Loss 0.5057 Accuracy 74.6732 AUC 0.7927\n",
            "Epoch 52 TRAIN Batch 250 Loss 0.5056 Accuracy 74.6843 AUC 0.7927\n",
            "Epoch 52 TRAIN Batch 300 Loss 0.5056 Accuracy 74.6872 AUC 0.7927\n",
            "Epoch 52 TRAIN Batch 350 Loss 0.5055 Accuracy 74.6876 AUC 0.7927\n",
            "Epoch 52 TRAIN Batch 400 Loss 0.5055 Accuracy 74.6912 AUC 0.7927\n",
            "Epoch 52 TRAIN Batch 450 Loss 0.5056 Accuracy 74.6754 AUC 0.7927\n",
            "Epoch 52 TRAIN Batch 500 Loss 0.5058 Accuracy 74.6611 AUC 0.7926\n",
            "Epoch 52 TRAIN Batch 550 Loss 0.5058 Accuracy 74.6735 AUC 0.7926\n",
            "Epoch 52 TRAIN Batch 600 Loss 0.5059 Accuracy 74.6631 AUC 0.7924\n",
            "Epoch 52 TRAIN Batch 650 Loss 0.5060 Accuracy 74.6646 AUC 0.7924\n",
            "Epoch 52 TRAIN Batch 700 Loss 0.5060 Accuracy 74.6654 AUC 0.7924\n",
            "Epoch 52 TRAIN Batch 750 Loss 0.5061 Accuracy 74.6585 AUC 0.7924\n"
          ],
          "name": "stdout"
        },
        {
          "output_type": "stream",
          "text": [
            "24-12 02:18 root         INFO     Epoch TRAIN 52 Loss 0.5062 Accuracy 74.6534 AUC 0.7924\n"
          ],
          "name": "stderr"
        },
        {
          "output_type": "stream",
          "text": [
            "Time taken for 1 epoch: 227.97222590446472 secs\n",
            "\n",
            "Epoch 53 TRAIN Batch 0 Loss 0.5131 Accuracy 74.5006 AUC 0.7832\n",
            "Epoch 53 TRAIN Batch 50 Loss 0.5084 Accuracy 74.5516 AUC 0.7914\n",
            "Epoch 53 TRAIN Batch 100 Loss 0.5069 Accuracy 74.6486 AUC 0.7922\n",
            "Epoch 53 TRAIN Batch 150 Loss 0.5069 Accuracy 74.6139 AUC 0.7922\n",
            "Epoch 53 TRAIN Batch 200 Loss 0.5070 Accuracy 74.6067 AUC 0.7922\n",
            "Epoch 53 TRAIN Batch 250 Loss 0.5067 Accuracy 74.6165 AUC 0.7924\n",
            "Epoch 53 TRAIN Batch 300 Loss 0.5066 Accuracy 74.6378 AUC 0.7925\n",
            "Epoch 53 TRAIN Batch 350 Loss 0.5063 Accuracy 74.6539 AUC 0.7927\n",
            "Epoch 53 TRAIN Batch 400 Loss 0.5061 Accuracy 74.6665 AUC 0.7927\n",
            "Epoch 53 TRAIN Batch 450 Loss 0.5062 Accuracy 74.6649 AUC 0.7926\n",
            "Epoch 53 TRAIN Batch 500 Loss 0.5063 Accuracy 74.6600 AUC 0.7926\n",
            "Epoch 53 TRAIN Batch 550 Loss 0.5062 Accuracy 74.6596 AUC 0.7925\n",
            "Epoch 53 TRAIN Batch 600 Loss 0.5061 Accuracy 74.6662 AUC 0.7926\n",
            "Epoch 53 TRAIN Batch 650 Loss 0.5061 Accuracy 74.6727 AUC 0.7925\n",
            "Epoch 53 TRAIN Batch 700 Loss 0.5061 Accuracy 74.6741 AUC 0.7926\n",
            "Epoch 53 TRAIN Batch 750 Loss 0.5062 Accuracy 74.6634 AUC 0.7925\n"
          ],
          "name": "stdout"
        },
        {
          "output_type": "stream",
          "text": [
            "24-12 02:22 root         INFO     Epoch TRAIN 53 Loss 0.5062 Accuracy 74.6586 AUC 0.7925\n"
          ],
          "name": "stderr"
        },
        {
          "output_type": "stream",
          "text": [
            "Time taken for 1 epoch: 224.03685188293457 secs\n",
            "\n",
            "Epoch 54 TRAIN Batch 0 Loss 0.5076 Accuracy 74.5658 AUC 0.7925\n",
            "Epoch 54 TRAIN Batch 50 Loss 0.5058 Accuracy 74.6619 AUC 0.7933\n",
            "Epoch 54 TRAIN Batch 100 Loss 0.5052 Accuracy 74.7457 AUC 0.7929\n",
            "Epoch 54 TRAIN Batch 150 Loss 0.5056 Accuracy 74.6966 AUC 0.7926\n",
            "Epoch 54 TRAIN Batch 200 Loss 0.5057 Accuracy 74.7015 AUC 0.7924\n",
            "Epoch 54 TRAIN Batch 250 Loss 0.5057 Accuracy 74.7071 AUC 0.7926\n",
            "Epoch 54 TRAIN Batch 300 Loss 0.5055 Accuracy 74.7222 AUC 0.7927\n",
            "Epoch 54 TRAIN Batch 350 Loss 0.5055 Accuracy 74.7139 AUC 0.7927\n",
            "Epoch 54 TRAIN Batch 400 Loss 0.5057 Accuracy 74.7062 AUC 0.7926\n",
            "Epoch 54 TRAIN Batch 450 Loss 0.5059 Accuracy 74.6835 AUC 0.7925\n",
            "Epoch 54 TRAIN Batch 500 Loss 0.5058 Accuracy 74.7005 AUC 0.7927\n",
            "Epoch 54 TRAIN Batch 550 Loss 0.5056 Accuracy 74.7104 AUC 0.7928\n",
            "Epoch 54 TRAIN Batch 600 Loss 0.5055 Accuracy 74.7191 AUC 0.7929\n",
            "Epoch 54 TRAIN Batch 650 Loss 0.5056 Accuracy 74.7147 AUC 0.7929\n",
            "Epoch 54 TRAIN Batch 700 Loss 0.5056 Accuracy 74.7101 AUC 0.7928\n",
            "Epoch 54 TRAIN Batch 750 Loss 0.5056 Accuracy 74.7081 AUC 0.7928\n"
          ],
          "name": "stdout"
        },
        {
          "output_type": "stream",
          "text": [
            "24-12 02:25 root         INFO     Epoch TRAIN 54 Loss 0.5054 Accuracy 74.7178 AUC 0.7928\n"
          ],
          "name": "stderr"
        },
        {
          "output_type": "stream",
          "text": [
            "Time taken for 1 epoch: 225.2307198047638 secs\n",
            "\n",
            "Epoch 55 TRAIN Batch 0 Loss 0.4838 Accuracy 76.1571 AUC 0.8075\n",
            "Epoch 55 TRAIN Batch 50 Loss 0.5081 Accuracy 74.5125 AUC 0.7916\n",
            "Epoch 55 TRAIN Batch 100 Loss 0.5068 Accuracy 74.5976 AUC 0.7926\n",
            "Epoch 55 TRAIN Batch 150 Loss 0.5065 Accuracy 74.6434 AUC 0.7930\n",
            "Epoch 55 TRAIN Batch 200 Loss 0.5063 Accuracy 74.6711 AUC 0.7931\n",
            "Epoch 55 TRAIN Batch 250 Loss 0.5063 Accuracy 74.6674 AUC 0.7933\n",
            "Epoch 55 TRAIN Batch 300 Loss 0.5065 Accuracy 74.6483 AUC 0.7930\n",
            "Epoch 55 TRAIN Batch 350 Loss 0.5061 Accuracy 74.6723 AUC 0.7931\n",
            "Epoch 55 TRAIN Batch 400 Loss 0.5061 Accuracy 74.6744 AUC 0.7932\n",
            "Epoch 55 TRAIN Batch 450 Loss 0.5061 Accuracy 74.6745 AUC 0.7931\n",
            "Epoch 55 TRAIN Batch 500 Loss 0.5059 Accuracy 74.6869 AUC 0.7931\n",
            "Epoch 55 TRAIN Batch 550 Loss 0.5058 Accuracy 74.6958 AUC 0.7932\n",
            "Epoch 55 TRAIN Batch 600 Loss 0.5058 Accuracy 74.6912 AUC 0.7932\n",
            "Epoch 55 TRAIN Batch 650 Loss 0.5057 Accuracy 74.6970 AUC 0.7932\n",
            "Epoch 55 TRAIN Batch 700 Loss 0.5057 Accuracy 74.6982 AUC 0.7932\n",
            "Epoch 55 TRAIN Batch 750 Loss 0.5057 Accuracy 74.7026 AUC 0.7932\n"
          ],
          "name": "stdout"
        },
        {
          "output_type": "stream",
          "text": [
            "24-12 02:29 root         INFO     Epoch TRAIN 55 Loss 0.5057 Accuracy 74.6982 AUC 0.7931\n"
          ],
          "name": "stderr"
        },
        {
          "output_type": "stream",
          "text": [
            "Epoch 55 VAL Batch 0 Loss 0.5128 Accuracy 74.5608 AUC 0.7841\n",
            "Epoch 55 VAL Batch 50 Loss 0.5088 Accuracy 74.5945 AUC 0.7913\n",
            "Epoch 55 VAL Batch 100 Loss 0.5089 Accuracy 74.5382 AUC 0.7920\n",
            "Epoch 55 VAL Batch 150 Loss 0.5080 Accuracy 74.6077 AUC 0.7925\n",
            "Epoch 55 VAL Batch 200 Loss 0.5079 Accuracy 74.6260 AUC 0.7925\n",
            "Epoch 55 VAL Batch 250 Loss 0.5079 Accuracy 74.6051 AUC 0.7925\n",
            "Epoch 55 VAL Batch 300 Loss 0.5077 Accuracy 74.6218 AUC 0.7926\n",
            "Epoch 55 VAL Batch 350 Loss 0.5077 Accuracy 74.6160 AUC 0.7926\n",
            "Epoch 55 VAL Batch 400 Loss 0.5077 Accuracy 74.6195 AUC 0.7925\n",
            "Epoch 55 VAL Batch 450 Loss 0.5077 Accuracy 74.6296 AUC 0.7924\n",
            "Epoch 55 VAL Batch 500 Loss 0.5076 Accuracy 74.6298 AUC 0.7924\n",
            "Epoch 55 VAL Batch 550 Loss 0.5077 Accuracy 74.6261 AUC 0.7925\n",
            "Epoch 55 VAL Batch 600 Loss 0.5078 Accuracy 74.6178 AUC 0.7925\n",
            "Epoch 55 VAL Batch 650 Loss 0.5078 Accuracy 74.6236 AUC 0.7924\n",
            "Epoch 55 VAL Batch 700 Loss 0.5078 Accuracy 74.6158 AUC 0.7924\n",
            "Epoch 55 VAL Batch 750 Loss 0.5079 Accuracy 74.6140 AUC 0.7924\n"
          ],
          "name": "stdout"
        },
        {
          "output_type": "stream",
          "text": [
            "24-12 02:29 root         INFO     Epoch VAL 55 Loss 0.5079 Accuracy 74.6114 AUC 0.7924\n",
            "24-12 02:29 root         INFO     Saving checkpoint for epoch 55 at 23-Dec-riiid-2/checkpoints/ckpt-11\n"
          ],
          "name": "stderr"
        },
        {
          "output_type": "stream",
          "text": [
            "Time taken for 1 epoch: 248.68318462371826 secs\n",
            "\n",
            "Epoch 56 TRAIN Batch 0 Loss 0.4979 Accuracy 74.6486 AUC 0.7962\n",
            "Epoch 56 TRAIN Batch 50 Loss 0.5040 Accuracy 74.8105 AUC 0.7935\n",
            "Epoch 56 TRAIN Batch 100 Loss 0.5047 Accuracy 74.7476 AUC 0.7930\n",
            "Epoch 56 TRAIN Batch 150 Loss 0.5058 Accuracy 74.6565 AUC 0.7929\n",
            "Epoch 56 TRAIN Batch 200 Loss 0.5055 Accuracy 74.6838 AUC 0.7930\n",
            "Epoch 56 TRAIN Batch 250 Loss 0.5051 Accuracy 74.7024 AUC 0.7931\n",
            "Epoch 56 TRAIN Batch 300 Loss 0.5050 Accuracy 74.7141 AUC 0.7932\n",
            "Epoch 56 TRAIN Batch 350 Loss 0.5052 Accuracy 74.7019 AUC 0.7932\n",
            "Epoch 56 TRAIN Batch 400 Loss 0.5052 Accuracy 74.6949 AUC 0.7933\n",
            "Epoch 56 TRAIN Batch 450 Loss 0.5054 Accuracy 74.6789 AUC 0.7931\n",
            "Epoch 56 TRAIN Batch 500 Loss 0.5054 Accuracy 74.6847 AUC 0.7931\n",
            "Epoch 56 TRAIN Batch 550 Loss 0.5054 Accuracy 74.6842 AUC 0.7931\n",
            "Epoch 56 TRAIN Batch 600 Loss 0.5055 Accuracy 74.6799 AUC 0.7931\n",
            "Epoch 56 TRAIN Batch 650 Loss 0.5055 Accuracy 74.6865 AUC 0.7932\n",
            "Epoch 56 TRAIN Batch 700 Loss 0.5053 Accuracy 74.6994 AUC 0.7933\n",
            "Epoch 56 TRAIN Batch 750 Loss 0.5053 Accuracy 74.7040 AUC 0.7933\n"
          ],
          "name": "stdout"
        },
        {
          "output_type": "stream",
          "text": [
            "24-12 02:33 root         INFO     Epoch TRAIN 56 Loss 0.5054 Accuracy 74.6988 AUC 0.7933\n"
          ],
          "name": "stderr"
        },
        {
          "output_type": "stream",
          "text": [
            "Time taken for 1 epoch: 221.56920790672302 secs\n",
            "\n",
            "Epoch 57 TRAIN Batch 0 Loss 0.4995 Accuracy 75.0544 AUC 0.7921\n",
            "Epoch 57 TRAIN Batch 50 Loss 0.5047 Accuracy 74.6880 AUC 0.7928\n",
            "Epoch 57 TRAIN Batch 100 Loss 0.5055 Accuracy 74.6732 AUC 0.7928\n",
            "Epoch 57 TRAIN Batch 150 Loss 0.5057 Accuracy 74.6739 AUC 0.7927\n",
            "Epoch 57 TRAIN Batch 200 Loss 0.5060 Accuracy 74.6428 AUC 0.7925\n",
            "Epoch 57 TRAIN Batch 250 Loss 0.5059 Accuracy 74.6548 AUC 0.7925\n",
            "Epoch 57 TRAIN Batch 300 Loss 0.5056 Accuracy 74.6754 AUC 0.7928\n",
            "Epoch 57 TRAIN Batch 350 Loss 0.5057 Accuracy 74.6792 AUC 0.7929\n",
            "Epoch 57 TRAIN Batch 400 Loss 0.5056 Accuracy 74.6861 AUC 0.7928\n",
            "Epoch 57 TRAIN Batch 450 Loss 0.5058 Accuracy 74.6702 AUC 0.7927\n",
            "Epoch 57 TRAIN Batch 500 Loss 0.5058 Accuracy 74.6697 AUC 0.7927\n",
            "Epoch 57 TRAIN Batch 550 Loss 0.5060 Accuracy 74.6602 AUC 0.7926\n",
            "Epoch 57 TRAIN Batch 600 Loss 0.5059 Accuracy 74.6602 AUC 0.7927\n",
            "Epoch 57 TRAIN Batch 650 Loss 0.5058 Accuracy 74.6649 AUC 0.7928\n",
            "Epoch 57 TRAIN Batch 700 Loss 0.5058 Accuracy 74.6663 AUC 0.7928\n",
            "Epoch 57 TRAIN Batch 750 Loss 0.5057 Accuracy 74.6694 AUC 0.7928\n"
          ],
          "name": "stdout"
        },
        {
          "output_type": "stream",
          "text": [
            "24-12 02:37 root         INFO     Epoch TRAIN 57 Loss 0.5058 Accuracy 74.6627 AUC 0.7928\n"
          ],
          "name": "stderr"
        },
        {
          "output_type": "stream",
          "text": [
            "Time taken for 1 epoch: 220.3048334121704 secs\n",
            "\n",
            "Epoch 58 TRAIN Batch 0 Loss 0.4898 Accuracy 75.7105 AUC 0.8058\n",
            "Epoch 58 TRAIN Batch 50 Loss 0.5049 Accuracy 74.7776 AUC 0.7922\n",
            "Epoch 58 TRAIN Batch 100 Loss 0.5058 Accuracy 74.7047 AUC 0.7925\n",
            "Epoch 58 TRAIN Batch 150 Loss 0.5057 Accuracy 74.7007 AUC 0.7923\n",
            "Epoch 58 TRAIN Batch 200 Loss 0.5054 Accuracy 74.7306 AUC 0.7924\n",
            "Epoch 58 TRAIN Batch 250 Loss 0.5058 Accuracy 74.6965 AUC 0.7922\n",
            "Epoch 58 TRAIN Batch 300 Loss 0.5059 Accuracy 74.6937 AUC 0.7923\n",
            "Epoch 58 TRAIN Batch 350 Loss 0.5059 Accuracy 74.6852 AUC 0.7924\n",
            "Epoch 58 TRAIN Batch 400 Loss 0.5057 Accuracy 74.6958 AUC 0.7926\n",
            "Epoch 58 TRAIN Batch 450 Loss 0.5057 Accuracy 74.6978 AUC 0.7928\n",
            "Epoch 58 TRAIN Batch 500 Loss 0.5055 Accuracy 74.7136 AUC 0.7930\n",
            "Epoch 58 TRAIN Batch 550 Loss 0.5053 Accuracy 74.7228 AUC 0.7931\n",
            "Epoch 58 TRAIN Batch 600 Loss 0.5053 Accuracy 74.7128 AUC 0.7931\n",
            "Epoch 58 TRAIN Batch 650 Loss 0.5052 Accuracy 74.7268 AUC 0.7933\n",
            "Epoch 58 TRAIN Batch 700 Loss 0.5051 Accuracy 74.7278 AUC 0.7933\n",
            "Epoch 58 TRAIN Batch 750 Loss 0.5051 Accuracy 74.7286 AUC 0.7933\n"
          ],
          "name": "stdout"
        },
        {
          "output_type": "stream",
          "text": [
            "24-12 02:40 root         INFO     Epoch TRAIN 58 Loss 0.5052 Accuracy 74.7260 AUC 0.7934\n"
          ],
          "name": "stderr"
        },
        {
          "output_type": "stream",
          "text": [
            "Time taken for 1 epoch: 221.22278308868408 secs\n",
            "\n",
            "Epoch 59 TRAIN Batch 0 Loss 0.5030 Accuracy 74.6533 AUC 0.7968\n",
            "Epoch 59 TRAIN Batch 50 Loss 0.5066 Accuracy 74.5989 AUC 0.7926\n",
            "Epoch 59 TRAIN Batch 100 Loss 0.5054 Accuracy 74.6760 AUC 0.7933\n",
            "Epoch 59 TRAIN Batch 150 Loss 0.5061 Accuracy 74.6305 AUC 0.7931\n",
            "Epoch 59 TRAIN Batch 200 Loss 0.5055 Accuracy 74.6776 AUC 0.7933\n",
            "Epoch 59 TRAIN Batch 250 Loss 0.5054 Accuracy 74.6948 AUC 0.7933\n",
            "Epoch 59 TRAIN Batch 300 Loss 0.5054 Accuracy 74.6974 AUC 0.7934\n",
            "Epoch 59 TRAIN Batch 350 Loss 0.5053 Accuracy 74.7085 AUC 0.7933\n",
            "Epoch 59 TRAIN Batch 400 Loss 0.5053 Accuracy 74.7211 AUC 0.7933\n",
            "Epoch 59 TRAIN Batch 450 Loss 0.5051 Accuracy 74.7309 AUC 0.7934\n",
            "Epoch 59 TRAIN Batch 500 Loss 0.5049 Accuracy 74.7357 AUC 0.7936\n",
            "Epoch 59 TRAIN Batch 550 Loss 0.5049 Accuracy 74.7335 AUC 0.7936\n",
            "Epoch 59 TRAIN Batch 600 Loss 0.5050 Accuracy 74.7277 AUC 0.7936\n",
            "Epoch 59 TRAIN Batch 650 Loss 0.5050 Accuracy 74.7365 AUC 0.7936\n",
            "Epoch 59 TRAIN Batch 700 Loss 0.5051 Accuracy 74.7277 AUC 0.7935\n",
            "Epoch 59 TRAIN Batch 750 Loss 0.5052 Accuracy 74.7171 AUC 0.7934\n"
          ],
          "name": "stdout"
        },
        {
          "output_type": "stream",
          "text": [
            "24-12 02:44 root         INFO     Epoch TRAIN 59 Loss 0.5052 Accuracy 74.7172 AUC 0.7934\n"
          ],
          "name": "stderr"
        },
        {
          "output_type": "stream",
          "text": [
            "Time taken for 1 epoch: 223.46189165115356 secs\n",
            "\n",
            "Epoch 60 TRAIN Batch 0 Loss 0.5104 Accuracy 74.3149 AUC 0.7818\n",
            "Epoch 60 TRAIN Batch 50 Loss 0.5056 Accuracy 74.6876 AUC 0.7929\n",
            "Epoch 60 TRAIN Batch 100 Loss 0.5057 Accuracy 74.6795 AUC 0.7929\n",
            "Epoch 60 TRAIN Batch 150 Loss 0.5049 Accuracy 74.7221 AUC 0.7932\n",
            "Epoch 60 TRAIN Batch 200 Loss 0.5050 Accuracy 74.7154 AUC 0.7934\n",
            "Epoch 60 TRAIN Batch 250 Loss 0.5051 Accuracy 74.7067 AUC 0.7934\n",
            "Epoch 60 TRAIN Batch 300 Loss 0.5055 Accuracy 74.6724 AUC 0.7931\n",
            "Epoch 60 TRAIN Batch 350 Loss 0.5057 Accuracy 74.6660 AUC 0.7929\n",
            "Epoch 60 TRAIN Batch 400 Loss 0.5052 Accuracy 74.6889 AUC 0.7931\n",
            "Epoch 60 TRAIN Batch 450 Loss 0.5053 Accuracy 74.6824 AUC 0.7930\n",
            "Epoch 60 TRAIN Batch 500 Loss 0.5053 Accuracy 74.6874 AUC 0.7931\n",
            "Epoch 60 TRAIN Batch 550 Loss 0.5055 Accuracy 74.6700 AUC 0.7930\n",
            "Epoch 60 TRAIN Batch 600 Loss 0.5055 Accuracy 74.6724 AUC 0.7930\n",
            "Epoch 60 TRAIN Batch 650 Loss 0.5056 Accuracy 74.6655 AUC 0.7929\n",
            "Epoch 60 TRAIN Batch 700 Loss 0.5055 Accuracy 74.6729 AUC 0.7930\n",
            "Epoch 60 TRAIN Batch 750 Loss 0.5056 Accuracy 74.6678 AUC 0.7931\n"
          ],
          "name": "stdout"
        },
        {
          "output_type": "stream",
          "text": [
            "24-12 02:48 root         INFO     Epoch TRAIN 60 Loss 0.5055 Accuracy 74.6718 AUC 0.7931\n"
          ],
          "name": "stderr"
        },
        {
          "output_type": "stream",
          "text": [
            "Epoch 60 VAL Batch 0 Loss 0.5114 Accuracy 74.7660 AUC 0.7854\n",
            "Epoch 60 VAL Batch 50 Loss 0.5081 Accuracy 74.5789 AUC 0.7914\n",
            "Epoch 60 VAL Batch 100 Loss 0.5083 Accuracy 74.5206 AUC 0.7920\n",
            "Epoch 60 VAL Batch 150 Loss 0.5073 Accuracy 74.5995 AUC 0.7926\n",
            "Epoch 60 VAL Batch 200 Loss 0.5072 Accuracy 74.6123 AUC 0.7926\n",
            "Epoch 60 VAL Batch 250 Loss 0.5073 Accuracy 74.5897 AUC 0.7926\n",
            "Epoch 60 VAL Batch 300 Loss 0.5070 Accuracy 74.6098 AUC 0.7927\n",
            "Epoch 60 VAL Batch 350 Loss 0.5070 Accuracy 74.6055 AUC 0.7926\n",
            "Epoch 60 VAL Batch 400 Loss 0.5070 Accuracy 74.6093 AUC 0.7926\n",
            "Epoch 60 VAL Batch 450 Loss 0.5070 Accuracy 74.6172 AUC 0.7925\n",
            "Epoch 60 VAL Batch 500 Loss 0.5069 Accuracy 74.6188 AUC 0.7925\n",
            "Epoch 60 VAL Batch 550 Loss 0.5070 Accuracy 74.6175 AUC 0.7926\n",
            "Epoch 60 VAL Batch 600 Loss 0.5071 Accuracy 74.6106 AUC 0.7926\n",
            "Epoch 60 VAL Batch 650 Loss 0.5071 Accuracy 74.6159 AUC 0.7925\n",
            "Epoch 60 VAL Batch 700 Loss 0.5071 Accuracy 74.6086 AUC 0.7925\n",
            "Epoch 60 VAL Batch 750 Loss 0.5072 Accuracy 74.6096 AUC 0.7926\n"
          ],
          "name": "stdout"
        },
        {
          "output_type": "stream",
          "text": [
            "24-12 02:48 root         INFO     Epoch VAL 60 Loss 0.5072 Accuracy 74.6059 AUC 0.7925\n",
            "24-12 02:48 root         INFO     Saving checkpoint for epoch 60 at 23-Dec-riiid-2/checkpoints/ckpt-12\n"
          ],
          "name": "stderr"
        },
        {
          "output_type": "stream",
          "text": [
            "Time taken for 1 epoch: 250.94319486618042 secs\n",
            "\n",
            "Epoch 61 TRAIN Batch 0 Loss 0.4980 Accuracy 75.7107 AUC 0.7983\n",
            "Epoch 61 TRAIN Batch 50 Loss 0.5065 Accuracy 74.5928 AUC 0.7925\n",
            "Epoch 61 TRAIN Batch 100 Loss 0.5056 Accuracy 74.6739 AUC 0.7931\n",
            "Epoch 61 TRAIN Batch 150 Loss 0.5056 Accuracy 74.6847 AUC 0.7931\n",
            "Epoch 61 TRAIN Batch 200 Loss 0.5054 Accuracy 74.7034 AUC 0.7930\n",
            "Epoch 61 TRAIN Batch 250 Loss 0.5053 Accuracy 74.7093 AUC 0.7933\n",
            "Epoch 61 TRAIN Batch 300 Loss 0.5052 Accuracy 74.7209 AUC 0.7934\n",
            "Epoch 61 TRAIN Batch 350 Loss 0.5050 Accuracy 74.7393 AUC 0.7936\n",
            "Epoch 61 TRAIN Batch 400 Loss 0.5049 Accuracy 74.7466 AUC 0.7935\n",
            "Epoch 61 TRAIN Batch 450 Loss 0.5049 Accuracy 74.7466 AUC 0.7935\n",
            "Epoch 61 TRAIN Batch 500 Loss 0.5051 Accuracy 74.7342 AUC 0.7934\n",
            "Epoch 61 TRAIN Batch 550 Loss 0.5050 Accuracy 74.7400 AUC 0.7936\n",
            "Epoch 61 TRAIN Batch 600 Loss 0.5049 Accuracy 74.7394 AUC 0.7936\n",
            "Epoch 61 TRAIN Batch 650 Loss 0.5049 Accuracy 74.7413 AUC 0.7937\n",
            "Epoch 61 TRAIN Batch 700 Loss 0.5049 Accuracy 74.7341 AUC 0.7937\n",
            "Epoch 61 TRAIN Batch 750 Loss 0.5049 Accuracy 74.7352 AUC 0.7937\n"
          ],
          "name": "stdout"
        },
        {
          "output_type": "stream",
          "text": [
            "24-12 02:52 root         INFO     Epoch TRAIN 61 Loss 0.5050 Accuracy 74.7295 AUC 0.7936\n"
          ],
          "name": "stderr"
        },
        {
          "output_type": "stream",
          "text": [
            "Time taken for 1 epoch: 221.24133324623108 secs\n",
            "\n",
            "Epoch 62 TRAIN Batch 0 Loss 0.5084 Accuracy 74.4101 AUC 0.7875\n",
            "Epoch 62 TRAIN Batch 50 Loss 0.5059 Accuracy 74.6684 AUC 0.7917\n",
            "Epoch 62 TRAIN Batch 100 Loss 0.5051 Accuracy 74.7254 AUC 0.7924\n",
            "Epoch 62 TRAIN Batch 150 Loss 0.5048 Accuracy 74.7563 AUC 0.7930\n",
            "Epoch 62 TRAIN Batch 200 Loss 0.5050 Accuracy 74.7440 AUC 0.7931\n",
            "Epoch 62 TRAIN Batch 250 Loss 0.5051 Accuracy 74.7401 AUC 0.7930\n",
            "Epoch 62 TRAIN Batch 300 Loss 0.5051 Accuracy 74.7312 AUC 0.7931\n",
            "Epoch 62 TRAIN Batch 350 Loss 0.5050 Accuracy 74.7379 AUC 0.7933\n",
            "Epoch 62 TRAIN Batch 400 Loss 0.5050 Accuracy 74.7354 AUC 0.7934\n",
            "Epoch 62 TRAIN Batch 450 Loss 0.5049 Accuracy 74.7459 AUC 0.7935\n",
            "Epoch 62 TRAIN Batch 500 Loss 0.5048 Accuracy 74.7403 AUC 0.7935\n",
            "Epoch 62 TRAIN Batch 550 Loss 0.5048 Accuracy 74.7416 AUC 0.7935\n",
            "Epoch 62 TRAIN Batch 600 Loss 0.5047 Accuracy 74.7494 AUC 0.7936\n",
            "Epoch 62 TRAIN Batch 650 Loss 0.5048 Accuracy 74.7437 AUC 0.7935\n",
            "Epoch 62 TRAIN Batch 700 Loss 0.5046 Accuracy 74.7508 AUC 0.7936\n",
            "Epoch 62 TRAIN Batch 750 Loss 0.5046 Accuracy 74.7477 AUC 0.7936\n"
          ],
          "name": "stdout"
        },
        {
          "output_type": "stream",
          "text": [
            "24-12 02:56 root         INFO     Epoch TRAIN 62 Loss 0.5048 Accuracy 74.7381 AUC 0.7936\n"
          ],
          "name": "stderr"
        },
        {
          "output_type": "stream",
          "text": [
            "Time taken for 1 epoch: 217.90170192718506 secs\n",
            "\n",
            "Epoch 63 TRAIN Batch 0 Loss 0.4931 Accuracy 75.7242 AUC 0.8003\n",
            "Epoch 63 TRAIN Batch 50 Loss 0.5029 Accuracy 74.8743 AUC 0.7949\n",
            "Epoch 63 TRAIN Batch 100 Loss 0.5048 Accuracy 74.7236 AUC 0.7941\n",
            "Epoch 63 TRAIN Batch 150 Loss 0.5045 Accuracy 74.7333 AUC 0.7941\n",
            "Epoch 63 TRAIN Batch 200 Loss 0.5043 Accuracy 74.7522 AUC 0.7938\n",
            "Epoch 63 TRAIN Batch 250 Loss 0.5045 Accuracy 74.7436 AUC 0.7937\n",
            "Epoch 63 TRAIN Batch 300 Loss 0.5043 Accuracy 74.7520 AUC 0.7938\n",
            "Epoch 63 TRAIN Batch 350 Loss 0.5045 Accuracy 74.7431 AUC 0.7938\n",
            "Epoch 63 TRAIN Batch 400 Loss 0.5045 Accuracy 74.7394 AUC 0.7938\n",
            "Epoch 63 TRAIN Batch 450 Loss 0.5048 Accuracy 74.7313 AUC 0.7936\n",
            "Epoch 63 TRAIN Batch 500 Loss 0.5048 Accuracy 74.7300 AUC 0.7936\n",
            "Epoch 63 TRAIN Batch 550 Loss 0.5046 Accuracy 74.7452 AUC 0.7937\n",
            "Epoch 63 TRAIN Batch 600 Loss 0.5046 Accuracy 74.7469 AUC 0.7937\n",
            "Epoch 63 TRAIN Batch 650 Loss 0.5046 Accuracy 74.7462 AUC 0.7937\n",
            "Epoch 63 TRAIN Batch 700 Loss 0.5045 Accuracy 74.7520 AUC 0.7937\n",
            "Epoch 63 TRAIN Batch 750 Loss 0.5046 Accuracy 74.7497 AUC 0.7938\n"
          ],
          "name": "stdout"
        },
        {
          "output_type": "stream",
          "text": [
            "24-12 02:59 root         INFO     Epoch TRAIN 63 Loss 0.5045 Accuracy 74.7533 AUC 0.7938\n"
          ],
          "name": "stderr"
        },
        {
          "output_type": "stream",
          "text": [
            "Time taken for 1 epoch: 220.2537293434143 secs\n",
            "\n",
            "Epoch 64 TRAIN Batch 0 Loss 0.5168 Accuracy 73.5538 AUC 0.7860\n",
            "Epoch 64 TRAIN Batch 50 Loss 0.5045 Accuracy 74.7918 AUC 0.7935\n",
            "Epoch 64 TRAIN Batch 100 Loss 0.5049 Accuracy 74.7266 AUC 0.7936\n",
            "Epoch 64 TRAIN Batch 150 Loss 0.5052 Accuracy 74.7127 AUC 0.7934\n",
            "Epoch 64 TRAIN Batch 200 Loss 0.5054 Accuracy 74.6769 AUC 0.7933\n",
            "Epoch 64 TRAIN Batch 250 Loss 0.5052 Accuracy 74.6944 AUC 0.7935\n",
            "Epoch 64 TRAIN Batch 300 Loss 0.5051 Accuracy 74.7045 AUC 0.7937\n",
            "Epoch 64 TRAIN Batch 350 Loss 0.5050 Accuracy 74.6980 AUC 0.7938\n",
            "Epoch 64 TRAIN Batch 400 Loss 0.5051 Accuracy 74.6938 AUC 0.7937\n",
            "Epoch 64 TRAIN Batch 450 Loss 0.5052 Accuracy 74.6892 AUC 0.7936\n",
            "Epoch 64 TRAIN Batch 500 Loss 0.5051 Accuracy 74.6965 AUC 0.7936\n",
            "Epoch 64 TRAIN Batch 550 Loss 0.5050 Accuracy 74.7078 AUC 0.7937\n",
            "Epoch 64 TRAIN Batch 600 Loss 0.5048 Accuracy 74.7231 AUC 0.7937\n",
            "Epoch 64 TRAIN Batch 650 Loss 0.5048 Accuracy 74.7176 AUC 0.7937\n",
            "Epoch 64 TRAIN Batch 700 Loss 0.5048 Accuracy 74.7206 AUC 0.7937\n",
            "Epoch 64 TRAIN Batch 750 Loss 0.5048 Accuracy 74.7153 AUC 0.7937\n"
          ],
          "name": "stdout"
        },
        {
          "output_type": "stream",
          "text": [
            "24-12 03:03 root         INFO     Epoch TRAIN 64 Loss 0.5048 Accuracy 74.7157 AUC 0.7937\n"
          ],
          "name": "stderr"
        },
        {
          "output_type": "stream",
          "text": [
            "Time taken for 1 epoch: 220.54114484786987 secs\n",
            "\n",
            "Epoch 65 TRAIN Batch 0 Loss 0.4976 Accuracy 74.9650 AUC 0.7988\n",
            "Epoch 65 TRAIN Batch 50 Loss 0.5056 Accuracy 74.6794 AUC 0.7936\n",
            "Epoch 65 TRAIN Batch 100 Loss 0.5065 Accuracy 74.5718 AUC 0.7930\n",
            "Epoch 65 TRAIN Batch 150 Loss 0.5053 Accuracy 74.6699 AUC 0.7934\n",
            "Epoch 65 TRAIN Batch 200 Loss 0.5055 Accuracy 74.6680 AUC 0.7932\n",
            "Epoch 65 TRAIN Batch 250 Loss 0.5053 Accuracy 74.6926 AUC 0.7934\n",
            "Epoch 65 TRAIN Batch 300 Loss 0.5053 Accuracy 74.6885 AUC 0.7933\n",
            "Epoch 65 TRAIN Batch 350 Loss 0.5051 Accuracy 74.7168 AUC 0.7933\n",
            "Epoch 65 TRAIN Batch 400 Loss 0.5052 Accuracy 74.7058 AUC 0.7934\n",
            "Epoch 65 TRAIN Batch 450 Loss 0.5051 Accuracy 74.7149 AUC 0.7934\n",
            "Epoch 65 TRAIN Batch 500 Loss 0.5049 Accuracy 74.7222 AUC 0.7935\n",
            "Epoch 65 TRAIN Batch 550 Loss 0.5050 Accuracy 74.7152 AUC 0.7935\n",
            "Epoch 65 TRAIN Batch 600 Loss 0.5049 Accuracy 74.7256 AUC 0.7936\n",
            "Epoch 65 TRAIN Batch 650 Loss 0.5050 Accuracy 74.7204 AUC 0.7935\n",
            "Epoch 65 TRAIN Batch 700 Loss 0.5049 Accuracy 74.7325 AUC 0.7936\n",
            "Epoch 65 TRAIN Batch 750 Loss 0.5049 Accuracy 74.7319 AUC 0.7936\n"
          ],
          "name": "stdout"
        },
        {
          "output_type": "stream",
          "text": [
            "24-12 03:07 root         INFO     Epoch TRAIN 65 Loss 0.5048 Accuracy 74.7331 AUC 0.7938\n"
          ],
          "name": "stderr"
        },
        {
          "output_type": "stream",
          "text": [
            "Epoch 65 VAL Batch 0 Loss 0.5124 Accuracy 74.6347 AUC 0.7841\n",
            "Epoch 65 VAL Batch 50 Loss 0.5077 Accuracy 74.6164 AUC 0.7917\n",
            "Epoch 65 VAL Batch 100 Loss 0.5078 Accuracy 74.5749 AUC 0.7925\n",
            "Epoch 65 VAL Batch 150 Loss 0.5068 Accuracy 74.6429 AUC 0.7930\n",
            "Epoch 65 VAL Batch 200 Loss 0.5067 Accuracy 74.6553 AUC 0.7930\n",
            "Epoch 65 VAL Batch 250 Loss 0.5068 Accuracy 74.6313 AUC 0.7929\n",
            "Epoch 65 VAL Batch 300 Loss 0.5066 Accuracy 74.6488 AUC 0.7930\n",
            "Epoch 65 VAL Batch 350 Loss 0.5065 Accuracy 74.6460 AUC 0.7930\n",
            "Epoch 65 VAL Batch 400 Loss 0.5065 Accuracy 74.6462 AUC 0.7930\n",
            "Epoch 65 VAL Batch 450 Loss 0.5065 Accuracy 74.6546 AUC 0.7929\n",
            "Epoch 65 VAL Batch 500 Loss 0.5064 Accuracy 74.6558 AUC 0.7929\n",
            "Epoch 65 VAL Batch 550 Loss 0.5065 Accuracy 74.6525 AUC 0.7930\n",
            "Epoch 65 VAL Batch 600 Loss 0.5066 Accuracy 74.6424 AUC 0.7929\n",
            "Epoch 65 VAL Batch 650 Loss 0.5066 Accuracy 74.6484 AUC 0.7929\n",
            "Epoch 65 VAL Batch 700 Loss 0.5067 Accuracy 74.6433 AUC 0.7929\n",
            "Epoch 65 VAL Batch 750 Loss 0.5067 Accuracy 74.6417 AUC 0.7929\n"
          ],
          "name": "stdout"
        },
        {
          "output_type": "stream",
          "text": [
            "24-12 03:07 root         INFO     Epoch VAL 65 Loss 0.5067 Accuracy 74.6398 AUC 0.7929\n",
            "24-12 03:07 root         INFO     Saving checkpoint for epoch 65 at 23-Dec-riiid-2/checkpoints/ckpt-13\n"
          ],
          "name": "stderr"
        },
        {
          "output_type": "stream",
          "text": [
            "Time taken for 1 epoch: 248.20391368865967 secs\n",
            "\n",
            "Epoch 66 TRAIN Batch 0 Loss 0.5190 Accuracy 74.0825 AUC 0.7844\n",
            "Epoch 66 TRAIN Batch 50 Loss 0.5042 Accuracy 74.7591 AUC 0.7938\n",
            "Epoch 66 TRAIN Batch 100 Loss 0.5036 Accuracy 74.8010 AUC 0.7940\n",
            "Epoch 66 TRAIN Batch 150 Loss 0.5032 Accuracy 74.8359 AUC 0.7941\n",
            "Epoch 66 TRAIN Batch 200 Loss 0.5039 Accuracy 74.7924 AUC 0.7939\n",
            "Epoch 66 TRAIN Batch 250 Loss 0.5039 Accuracy 74.7941 AUC 0.7939\n",
            "Epoch 66 TRAIN Batch 300 Loss 0.5041 Accuracy 74.7863 AUC 0.7940\n",
            "Epoch 66 TRAIN Batch 350 Loss 0.5045 Accuracy 74.7729 AUC 0.7938\n",
            "Epoch 66 TRAIN Batch 400 Loss 0.5044 Accuracy 74.7734 AUC 0.7938\n",
            "Epoch 66 TRAIN Batch 450 Loss 0.5044 Accuracy 74.7671 AUC 0.7938\n",
            "Epoch 66 TRAIN Batch 500 Loss 0.5045 Accuracy 74.7580 AUC 0.7938\n",
            "Epoch 66 TRAIN Batch 550 Loss 0.5044 Accuracy 74.7652 AUC 0.7939\n",
            "Epoch 66 TRAIN Batch 600 Loss 0.5045 Accuracy 74.7619 AUC 0.7939\n",
            "Epoch 66 TRAIN Batch 650 Loss 0.5045 Accuracy 74.7607 AUC 0.7938\n",
            "Epoch 66 TRAIN Batch 700 Loss 0.5043 Accuracy 74.7772 AUC 0.7941\n",
            "Epoch 66 TRAIN Batch 750 Loss 0.5043 Accuracy 74.7803 AUC 0.7941\n"
          ],
          "name": "stdout"
        },
        {
          "output_type": "stream",
          "text": [
            "24-12 03:11 root         INFO     Epoch TRAIN 66 Loss 0.5043 Accuracy 74.7788 AUC 0.7941\n"
          ],
          "name": "stderr"
        },
        {
          "output_type": "stream",
          "text": [
            "Time taken for 1 epoch: 221.78313851356506 secs\n",
            "\n",
            "Epoch 67 TRAIN Batch 0 Loss 0.4989 Accuracy 74.9836 AUC 0.7940\n",
            "Epoch 67 TRAIN Batch 50 Loss 0.5061 Accuracy 74.6298 AUC 0.7923\n",
            "Epoch 67 TRAIN Batch 100 Loss 0.5053 Accuracy 74.7073 AUC 0.7931\n",
            "Epoch 67 TRAIN Batch 150 Loss 0.5044 Accuracy 74.7640 AUC 0.7936\n",
            "Epoch 67 TRAIN Batch 200 Loss 0.5040 Accuracy 74.7958 AUC 0.7944\n",
            "Epoch 67 TRAIN Batch 250 Loss 0.5040 Accuracy 74.7938 AUC 0.7943\n",
            "Epoch 67 TRAIN Batch 300 Loss 0.5040 Accuracy 74.7906 AUC 0.7941\n",
            "Epoch 67 TRAIN Batch 350 Loss 0.5043 Accuracy 74.7791 AUC 0.7942\n",
            "Epoch 67 TRAIN Batch 400 Loss 0.5045 Accuracy 74.7511 AUC 0.7940\n",
            "Epoch 67 TRAIN Batch 450 Loss 0.5046 Accuracy 74.7421 AUC 0.7941\n",
            "Epoch 67 TRAIN Batch 500 Loss 0.5045 Accuracy 74.7545 AUC 0.7941\n",
            "Epoch 67 TRAIN Batch 550 Loss 0.5046 Accuracy 74.7498 AUC 0.7941\n",
            "Epoch 67 TRAIN Batch 600 Loss 0.5044 Accuracy 74.7634 AUC 0.7942\n",
            "Epoch 67 TRAIN Batch 650 Loss 0.5044 Accuracy 74.7640 AUC 0.7942\n",
            "Epoch 67 TRAIN Batch 700 Loss 0.5043 Accuracy 74.7725 AUC 0.7942\n",
            "Epoch 67 TRAIN Batch 750 Loss 0.5043 Accuracy 74.7713 AUC 0.7942\n"
          ],
          "name": "stdout"
        },
        {
          "output_type": "stream",
          "text": [
            "24-12 03:15 root         INFO     Epoch TRAIN 67 Loss 0.5044 Accuracy 74.7651 AUC 0.7941\n"
          ],
          "name": "stderr"
        },
        {
          "output_type": "stream",
          "text": [
            "Time taken for 1 epoch: 221.40769815444946 secs\n",
            "\n",
            "Epoch 68 TRAIN Batch 0 Loss 0.5043 Accuracy 74.9017 AUC 0.7983\n",
            "Epoch 68 TRAIN Batch 50 Loss 0.5055 Accuracy 74.6954 AUC 0.7931\n",
            "Epoch 68 TRAIN Batch 100 Loss 0.5054 Accuracy 74.6877 AUC 0.7933\n",
            "Epoch 68 TRAIN Batch 150 Loss 0.5053 Accuracy 74.7080 AUC 0.7936\n",
            "Epoch 68 TRAIN Batch 200 Loss 0.5053 Accuracy 74.6983 AUC 0.7931\n",
            "Epoch 68 TRAIN Batch 250 Loss 0.5052 Accuracy 74.7175 AUC 0.7934\n",
            "Epoch 68 TRAIN Batch 300 Loss 0.5054 Accuracy 74.7010 AUC 0.7934\n",
            "Epoch 68 TRAIN Batch 350 Loss 0.5052 Accuracy 74.7195 AUC 0.7934\n",
            "Epoch 68 TRAIN Batch 400 Loss 0.5052 Accuracy 74.7212 AUC 0.7933\n",
            "Epoch 68 TRAIN Batch 450 Loss 0.5052 Accuracy 74.7113 AUC 0.7935\n",
            "Epoch 68 TRAIN Batch 500 Loss 0.5050 Accuracy 74.7216 AUC 0.7936\n",
            "Epoch 68 TRAIN Batch 550 Loss 0.5051 Accuracy 74.7182 AUC 0.7936\n",
            "Epoch 68 TRAIN Batch 600 Loss 0.5051 Accuracy 74.7200 AUC 0.7936\n",
            "Epoch 68 TRAIN Batch 650 Loss 0.5050 Accuracy 74.7197 AUC 0.7936\n",
            "Epoch 68 TRAIN Batch 700 Loss 0.5050 Accuracy 74.7220 AUC 0.7937\n",
            "Epoch 68 TRAIN Batch 750 Loss 0.5050 Accuracy 74.7199 AUC 0.7936\n"
          ],
          "name": "stdout"
        },
        {
          "output_type": "stream",
          "text": [
            "24-12 03:18 root         INFO     Epoch TRAIN 68 Loss 0.5050 Accuracy 74.7178 AUC 0.7937\n"
          ],
          "name": "stderr"
        },
        {
          "output_type": "stream",
          "text": [
            "Time taken for 1 epoch: 220.2546923160553 secs\n",
            "\n",
            "Epoch 69 TRAIN Batch 0 Loss 0.5020 Accuracy 74.9273 AUC 0.7945\n",
            "Epoch 69 TRAIN Batch 50 Loss 0.5039 Accuracy 74.8010 AUC 0.7941\n",
            "Epoch 69 TRAIN Batch 100 Loss 0.5038 Accuracy 74.7640 AUC 0.7946\n",
            "Epoch 69 TRAIN Batch 150 Loss 0.5040 Accuracy 74.7456 AUC 0.7945\n",
            "Epoch 69 TRAIN Batch 200 Loss 0.5041 Accuracy 74.7383 AUC 0.7947\n",
            "Epoch 69 TRAIN Batch 250 Loss 0.5042 Accuracy 74.7565 AUC 0.7946\n",
            "Epoch 69 TRAIN Batch 300 Loss 0.5039 Accuracy 74.7871 AUC 0.7945\n",
            "Epoch 69 TRAIN Batch 350 Loss 0.5041 Accuracy 74.7799 AUC 0.7944\n",
            "Epoch 69 TRAIN Batch 400 Loss 0.5037 Accuracy 74.8033 AUC 0.7946\n",
            "Epoch 69 TRAIN Batch 450 Loss 0.5037 Accuracy 74.8086 AUC 0.7946\n",
            "Epoch 69 TRAIN Batch 500 Loss 0.5038 Accuracy 74.8039 AUC 0.7945\n",
            "Epoch 69 TRAIN Batch 550 Loss 0.5038 Accuracy 74.7965 AUC 0.7944\n",
            "Epoch 69 TRAIN Batch 600 Loss 0.5039 Accuracy 74.7920 AUC 0.7944\n",
            "Epoch 69 TRAIN Batch 650 Loss 0.5040 Accuracy 74.7824 AUC 0.7944\n",
            "Epoch 69 TRAIN Batch 700 Loss 0.5042 Accuracy 74.7728 AUC 0.7943\n",
            "Epoch 69 TRAIN Batch 750 Loss 0.5042 Accuracy 74.7691 AUC 0.7942\n"
          ],
          "name": "stdout"
        },
        {
          "output_type": "stream",
          "text": [
            "24-12 03:22 root         INFO     Epoch TRAIN 69 Loss 0.5041 Accuracy 74.7716 AUC 0.7943\n"
          ],
          "name": "stderr"
        },
        {
          "output_type": "stream",
          "text": [
            "Time taken for 1 epoch: 221.25967478752136 secs\n",
            "\n",
            "Epoch 70 TRAIN Batch 0 Loss 0.5122 Accuracy 73.9627 AUC 0.7882\n",
            "Epoch 70 TRAIN Batch 50 Loss 0.5045 Accuracy 74.7553 AUC 0.7945\n",
            "Epoch 70 TRAIN Batch 100 Loss 0.5046 Accuracy 74.7718 AUC 0.7941\n",
            "Epoch 70 TRAIN Batch 150 Loss 0.5041 Accuracy 74.7966 AUC 0.7943\n",
            "Epoch 70 TRAIN Batch 200 Loss 0.5041 Accuracy 74.8112 AUC 0.7942\n",
            "Epoch 70 TRAIN Batch 250 Loss 0.5040 Accuracy 74.8202 AUC 0.7943\n",
            "Epoch 70 TRAIN Batch 300 Loss 0.5042 Accuracy 74.8030 AUC 0.7941\n",
            "Epoch 70 TRAIN Batch 350 Loss 0.5043 Accuracy 74.7896 AUC 0.7939\n",
            "Epoch 70 TRAIN Batch 400 Loss 0.5047 Accuracy 74.7642 AUC 0.7938\n",
            "Epoch 70 TRAIN Batch 450 Loss 0.5045 Accuracy 74.7696 AUC 0.7939\n",
            "Epoch 70 TRAIN Batch 500 Loss 0.5045 Accuracy 74.7720 AUC 0.7939\n",
            "Epoch 70 TRAIN Batch 550 Loss 0.5048 Accuracy 74.7535 AUC 0.7938\n",
            "Epoch 70 TRAIN Batch 600 Loss 0.5047 Accuracy 74.7587 AUC 0.7938\n",
            "Epoch 70 TRAIN Batch 650 Loss 0.5048 Accuracy 74.7525 AUC 0.7937\n",
            "Epoch 70 TRAIN Batch 700 Loss 0.5049 Accuracy 74.7429 AUC 0.7937\n",
            "Epoch 70 TRAIN Batch 750 Loss 0.5048 Accuracy 74.7518 AUC 0.7937\n"
          ],
          "name": "stdout"
        },
        {
          "output_type": "stream",
          "text": [
            "24-12 03:26 root         INFO     Epoch TRAIN 70 Loss 0.5047 Accuracy 74.7554 AUC 0.7938\n"
          ],
          "name": "stderr"
        },
        {
          "output_type": "stream",
          "text": [
            "Epoch 70 VAL Batch 0 Loss 0.5124 Accuracy 74.7907 AUC 0.7843\n",
            "Epoch 70 VAL Batch 50 Loss 0.5080 Accuracy 74.6356 AUC 0.7919\n",
            "Epoch 70 VAL Batch 100 Loss 0.5081 Accuracy 74.5696 AUC 0.7926\n",
            "Epoch 70 VAL Batch 150 Loss 0.5071 Accuracy 74.6420 AUC 0.7931\n",
            "Epoch 70 VAL Batch 200 Loss 0.5071 Accuracy 74.6511 AUC 0.7931\n",
            "Epoch 70 VAL Batch 250 Loss 0.5072 Accuracy 74.6264 AUC 0.7930\n",
            "Epoch 70 VAL Batch 300 Loss 0.5069 Accuracy 74.6428 AUC 0.7932\n",
            "Epoch 70 VAL Batch 350 Loss 0.5069 Accuracy 74.6376 AUC 0.7931\n",
            "Epoch 70 VAL Batch 400 Loss 0.5069 Accuracy 74.6411 AUC 0.7931\n",
            "Epoch 70 VAL Batch 450 Loss 0.5068 Accuracy 74.6480 AUC 0.7930\n",
            "Epoch 70 VAL Batch 500 Loss 0.5067 Accuracy 74.6507 AUC 0.7930\n",
            "Epoch 70 VAL Batch 550 Loss 0.5068 Accuracy 74.6476 AUC 0.7931\n",
            "Epoch 70 VAL Batch 600 Loss 0.5069 Accuracy 74.6390 AUC 0.7931\n",
            "Epoch 70 VAL Batch 650 Loss 0.5070 Accuracy 74.6420 AUC 0.7930\n",
            "Epoch 70 VAL Batch 700 Loss 0.5070 Accuracy 74.6357 AUC 0.7930\n",
            "Epoch 70 VAL Batch 750 Loss 0.5070 Accuracy 74.6330 AUC 0.7930\n"
          ],
          "name": "stdout"
        },
        {
          "output_type": "stream",
          "text": [
            "24-12 03:26 root         INFO     Epoch VAL 70 Loss 0.5070 Accuracy 74.6308 AUC 0.7930\n",
            "24-12 03:26 root         INFO     Saving checkpoint for epoch 70 at 23-Dec-riiid-2/checkpoints/ckpt-14\n"
          ],
          "name": "stderr"
        },
        {
          "output_type": "stream",
          "text": [
            "Time taken for 1 epoch: 245.7526412010193 secs\n",
            "\n",
            "Epoch 71 TRAIN Batch 0 Loss 0.5104 Accuracy 74.2945 AUC 0.7929\n",
            "Epoch 71 TRAIN Batch 50 Loss 0.5023 Accuracy 74.8634 AUC 0.7952\n",
            "Epoch 71 TRAIN Batch 100 Loss 0.5025 Accuracy 74.8367 AUC 0.7952\n",
            "Epoch 71 TRAIN Batch 150 Loss 0.5033 Accuracy 74.7947 AUC 0.7948\n",
            "Epoch 71 TRAIN Batch 200 Loss 0.5037 Accuracy 74.7715 AUC 0.7947\n",
            "Epoch 71 TRAIN Batch 250 Loss 0.5040 Accuracy 74.7490 AUC 0.7947\n",
            "Epoch 71 TRAIN Batch 300 Loss 0.5034 Accuracy 74.7911 AUC 0.7949\n",
            "Epoch 71 TRAIN Batch 350 Loss 0.5034 Accuracy 74.7955 AUC 0.7950\n",
            "Epoch 71 TRAIN Batch 400 Loss 0.5035 Accuracy 74.7858 AUC 0.7948\n",
            "Epoch 71 TRAIN Batch 450 Loss 0.5037 Accuracy 74.7738 AUC 0.7947\n",
            "Epoch 71 TRAIN Batch 500 Loss 0.5039 Accuracy 74.7641 AUC 0.7946\n",
            "Epoch 71 TRAIN Batch 550 Loss 0.5041 Accuracy 74.7509 AUC 0.7946\n",
            "Epoch 71 TRAIN Batch 600 Loss 0.5041 Accuracy 74.7512 AUC 0.7945\n",
            "Epoch 71 TRAIN Batch 650 Loss 0.5041 Accuracy 74.7521 AUC 0.7944\n",
            "Epoch 71 TRAIN Batch 700 Loss 0.5042 Accuracy 74.7383 AUC 0.7944\n",
            "Epoch 71 TRAIN Batch 750 Loss 0.5042 Accuracy 74.7403 AUC 0.7943\n"
          ],
          "name": "stdout"
        },
        {
          "output_type": "stream",
          "text": [
            "24-12 03:30 root         INFO     Epoch TRAIN 71 Loss 0.5042 Accuracy 74.7481 AUC 0.7943\n"
          ],
          "name": "stderr"
        },
        {
          "output_type": "stream",
          "text": [
            "Time taken for 1 epoch: 223.79935455322266 secs\n",
            "\n",
            "Epoch 72 TRAIN Batch 0 Loss 0.4994 Accuracy 75.4273 AUC 0.7972\n",
            "Epoch 72 TRAIN Batch 50 Loss 0.5022 Accuracy 74.8988 AUC 0.7959\n",
            "Epoch 72 TRAIN Batch 100 Loss 0.5034 Accuracy 74.8459 AUC 0.7955\n",
            "Epoch 72 TRAIN Batch 150 Loss 0.5034 Accuracy 74.8519 AUC 0.7952\n",
            "Epoch 72 TRAIN Batch 200 Loss 0.5031 Accuracy 74.8814 AUC 0.7955\n",
            "Epoch 72 TRAIN Batch 250 Loss 0.5033 Accuracy 74.8613 AUC 0.7951\n",
            "Epoch 72 TRAIN Batch 300 Loss 0.5033 Accuracy 74.8558 AUC 0.7951\n",
            "Epoch 72 TRAIN Batch 350 Loss 0.5037 Accuracy 74.8261 AUC 0.7948\n",
            "Epoch 72 TRAIN Batch 400 Loss 0.5038 Accuracy 74.8153 AUC 0.7946\n",
            "Epoch 72 TRAIN Batch 450 Loss 0.5040 Accuracy 74.7955 AUC 0.7945\n",
            "Epoch 72 TRAIN Batch 500 Loss 0.5040 Accuracy 74.7937 AUC 0.7945\n",
            "Epoch 72 TRAIN Batch 550 Loss 0.5038 Accuracy 74.7981 AUC 0.7945\n",
            "Epoch 72 TRAIN Batch 600 Loss 0.5038 Accuracy 74.8033 AUC 0.7946\n",
            "Epoch 72 TRAIN Batch 650 Loss 0.5039 Accuracy 74.7945 AUC 0.7944\n",
            "Epoch 72 TRAIN Batch 700 Loss 0.5039 Accuracy 74.7985 AUC 0.7944\n",
            "Epoch 72 TRAIN Batch 750 Loss 0.5038 Accuracy 74.8008 AUC 0.7946\n"
          ],
          "name": "stdout"
        },
        {
          "output_type": "stream",
          "text": [
            "24-12 03:34 root         INFO     Epoch TRAIN 72 Loss 0.5037 Accuracy 74.8083 AUC 0.7946\n"
          ],
          "name": "stderr"
        },
        {
          "output_type": "stream",
          "text": [
            "Time taken for 1 epoch: 223.4934401512146 secs\n",
            "\n",
            "Epoch 73 TRAIN Batch 0 Loss 0.5001 Accuracy 74.9895 AUC 0.7977\n",
            "Epoch 73 TRAIN Batch 50 Loss 0.5049 Accuracy 74.7236 AUC 0.7924\n",
            "Epoch 73 TRAIN Batch 100 Loss 0.5044 Accuracy 74.7689 AUC 0.7931\n",
            "Epoch 73 TRAIN Batch 150 Loss 0.5044 Accuracy 74.7692 AUC 0.7936\n",
            "Epoch 73 TRAIN Batch 200 Loss 0.5046 Accuracy 74.7562 AUC 0.7935\n",
            "Epoch 73 TRAIN Batch 250 Loss 0.5046 Accuracy 74.7634 AUC 0.7938\n",
            "Epoch 73 TRAIN Batch 300 Loss 0.5048 Accuracy 74.7540 AUC 0.7938\n",
            "Epoch 73 TRAIN Batch 350 Loss 0.5045 Accuracy 74.7699 AUC 0.7941\n",
            "Epoch 73 TRAIN Batch 400 Loss 0.5048 Accuracy 74.7513 AUC 0.7939\n",
            "Epoch 73 TRAIN Batch 450 Loss 0.5048 Accuracy 74.7516 AUC 0.7940\n",
            "Epoch 73 TRAIN Batch 500 Loss 0.5047 Accuracy 74.7576 AUC 0.7940\n",
            "Epoch 73 TRAIN Batch 550 Loss 0.5045 Accuracy 74.7766 AUC 0.7941\n",
            "Epoch 73 TRAIN Batch 600 Loss 0.5043 Accuracy 74.7884 AUC 0.7943\n",
            "Epoch 73 TRAIN Batch 650 Loss 0.5041 Accuracy 74.7972 AUC 0.7944\n",
            "Epoch 73 TRAIN Batch 700 Loss 0.5041 Accuracy 74.7934 AUC 0.7944\n",
            "Epoch 73 TRAIN Batch 750 Loss 0.5042 Accuracy 74.7855 AUC 0.7943\n"
          ],
          "name": "stdout"
        },
        {
          "output_type": "stream",
          "text": [
            "24-12 03:37 root         INFO     Epoch TRAIN 73 Loss 0.5043 Accuracy 74.7796 AUC 0.7943\n"
          ],
          "name": "stderr"
        },
        {
          "output_type": "stream",
          "text": [
            "Time taken for 1 epoch: 220.09622263908386 secs\n",
            "\n",
            "Epoch 74 TRAIN Batch 0 Loss 0.5036 Accuracy 75.0830 AUC 0.7909\n",
            "Epoch 74 TRAIN Batch 50 Loss 0.5048 Accuracy 74.7269 AUC 0.7933\n",
            "Epoch 74 TRAIN Batch 100 Loss 0.5043 Accuracy 74.7606 AUC 0.7939\n",
            "Epoch 74 TRAIN Batch 150 Loss 0.5035 Accuracy 74.8249 AUC 0.7945\n",
            "Epoch 74 TRAIN Batch 200 Loss 0.5033 Accuracy 74.8460 AUC 0.7947\n",
            "Epoch 74 TRAIN Batch 250 Loss 0.5038 Accuracy 74.7983 AUC 0.7944\n",
            "Epoch 74 TRAIN Batch 300 Loss 0.5039 Accuracy 74.7954 AUC 0.7943\n",
            "Epoch 74 TRAIN Batch 350 Loss 0.5037 Accuracy 74.8047 AUC 0.7945\n",
            "Epoch 74 TRAIN Batch 400 Loss 0.5036 Accuracy 74.8119 AUC 0.7945\n",
            "Epoch 74 TRAIN Batch 450 Loss 0.5037 Accuracy 74.8040 AUC 0.7944\n",
            "Epoch 74 TRAIN Batch 500 Loss 0.5038 Accuracy 74.7979 AUC 0.7945\n",
            "Epoch 74 TRAIN Batch 550 Loss 0.5039 Accuracy 74.7885 AUC 0.7944\n",
            "Epoch 74 TRAIN Batch 600 Loss 0.5039 Accuracy 74.7879 AUC 0.7944\n",
            "Epoch 74 TRAIN Batch 650 Loss 0.5040 Accuracy 74.7842 AUC 0.7944\n",
            "Epoch 74 TRAIN Batch 700 Loss 0.5038 Accuracy 74.7937 AUC 0.7945\n",
            "Epoch 74 TRAIN Batch 750 Loss 0.5039 Accuracy 74.7920 AUC 0.7944\n"
          ],
          "name": "stdout"
        },
        {
          "output_type": "stream",
          "text": [
            "24-12 03:41 root         INFO     Epoch TRAIN 74 Loss 0.5038 Accuracy 74.7950 AUC 0.7945\n"
          ],
          "name": "stderr"
        },
        {
          "output_type": "stream",
          "text": [
            "Time taken for 1 epoch: 220.70747876167297 secs\n",
            "\n",
            "Epoch 75 TRAIN Batch 0 Loss 0.5075 Accuracy 74.1819 AUC 0.7928\n",
            "Epoch 75 TRAIN Batch 50 Loss 0.5049 Accuracy 74.6694 AUC 0.7940\n",
            "Epoch 75 TRAIN Batch 100 Loss 0.5045 Accuracy 74.7004 AUC 0.7948\n",
            "Epoch 75 TRAIN Batch 150 Loss 0.5045 Accuracy 74.7128 AUC 0.7943\n",
            "Epoch 75 TRAIN Batch 200 Loss 0.5049 Accuracy 74.6729 AUC 0.7942\n",
            "Epoch 75 TRAIN Batch 250 Loss 0.5048 Accuracy 74.6870 AUC 0.7943\n",
            "Epoch 75 TRAIN Batch 300 Loss 0.5048 Accuracy 74.6979 AUC 0.7944\n",
            "Epoch 75 TRAIN Batch 350 Loss 0.5047 Accuracy 74.7148 AUC 0.7945\n",
            "Epoch 75 TRAIN Batch 400 Loss 0.5047 Accuracy 74.7230 AUC 0.7944\n",
            "Epoch 75 TRAIN Batch 450 Loss 0.5045 Accuracy 74.7311 AUC 0.7945\n",
            "Epoch 75 TRAIN Batch 500 Loss 0.5044 Accuracy 74.7379 AUC 0.7946\n",
            "Epoch 75 TRAIN Batch 550 Loss 0.5043 Accuracy 74.7441 AUC 0.7946\n",
            "Epoch 75 TRAIN Batch 600 Loss 0.5043 Accuracy 74.7443 AUC 0.7945\n",
            "Epoch 75 TRAIN Batch 650 Loss 0.5042 Accuracy 74.7501 AUC 0.7945\n",
            "Epoch 75 TRAIN Batch 700 Loss 0.5042 Accuracy 74.7514 AUC 0.7945\n",
            "Epoch 75 TRAIN Batch 750 Loss 0.5042 Accuracy 74.7459 AUC 0.7945\n"
          ],
          "name": "stdout"
        },
        {
          "output_type": "stream",
          "text": [
            "24-12 03:45 root         INFO     Epoch TRAIN 75 Loss 0.5043 Accuracy 74.7402 AUC 0.7945\n"
          ],
          "name": "stderr"
        },
        {
          "output_type": "stream",
          "text": [
            "Epoch 75 VAL Batch 0 Loss 0.5118 Accuracy 74.7578 AUC 0.7848\n",
            "Epoch 75 VAL Batch 50 Loss 0.5076 Accuracy 74.6462 AUC 0.7921\n",
            "Epoch 75 VAL Batch 100 Loss 0.5076 Accuracy 74.5776 AUC 0.7929\n",
            "Epoch 75 VAL Batch 150 Loss 0.5067 Accuracy 74.6411 AUC 0.7933\n",
            "Epoch 75 VAL Batch 200 Loss 0.5066 Accuracy 74.6604 AUC 0.7933\n",
            "Epoch 75 VAL Batch 250 Loss 0.5066 Accuracy 74.6337 AUC 0.7933\n",
            "Epoch 75 VAL Batch 300 Loss 0.5064 Accuracy 74.6522 AUC 0.7934\n",
            "Epoch 75 VAL Batch 350 Loss 0.5064 Accuracy 74.6505 AUC 0.7933\n",
            "Epoch 75 VAL Batch 400 Loss 0.5064 Accuracy 74.6525 AUC 0.7933\n",
            "Epoch 75 VAL Batch 450 Loss 0.5064 Accuracy 74.6552 AUC 0.7931\n",
            "Epoch 75 VAL Batch 500 Loss 0.5063 Accuracy 74.6573 AUC 0.7932\n",
            "Epoch 75 VAL Batch 550 Loss 0.5064 Accuracy 74.6576 AUC 0.7932\n",
            "Epoch 75 VAL Batch 600 Loss 0.5066 Accuracy 74.6505 AUC 0.7932\n",
            "Epoch 75 VAL Batch 650 Loss 0.5066 Accuracy 74.6560 AUC 0.7931\n",
            "Epoch 75 VAL Batch 700 Loss 0.5066 Accuracy 74.6502 AUC 0.7931\n",
            "Epoch 75 VAL Batch 750 Loss 0.5066 Accuracy 74.6503 AUC 0.7932\n"
          ],
          "name": "stdout"
        },
        {
          "output_type": "stream",
          "text": [
            "24-12 03:45 root         INFO     Epoch VAL 75 Loss 0.5067 Accuracy 74.6481 AUC 0.7931\n",
            "24-12 03:45 root         INFO     Saving checkpoint for epoch 75 at 23-Dec-riiid-2/checkpoints/ckpt-15\n"
          ],
          "name": "stderr"
        },
        {
          "output_type": "stream",
          "text": [
            "Time taken for 1 epoch: 248.17226433753967 secs\n",
            "\n",
            "Epoch 76 TRAIN Batch 0 Loss 0.4877 Accuracy 75.7874 AUC 0.8091\n",
            "Epoch 76 TRAIN Batch 50 Loss 0.5026 Accuracy 74.9088 AUC 0.7959\n",
            "Epoch 76 TRAIN Batch 100 Loss 0.5038 Accuracy 74.8441 AUC 0.7945\n",
            "Epoch 76 TRAIN Batch 150 Loss 0.5033 Accuracy 74.8645 AUC 0.7949\n",
            "Epoch 76 TRAIN Batch 200 Loss 0.5033 Accuracy 74.8675 AUC 0.7949\n",
            "Epoch 76 TRAIN Batch 250 Loss 0.5040 Accuracy 74.7898 AUC 0.7948\n",
            "Epoch 76 TRAIN Batch 300 Loss 0.5039 Accuracy 74.7895 AUC 0.7949\n",
            "Epoch 76 TRAIN Batch 350 Loss 0.5038 Accuracy 74.7890 AUC 0.7949\n",
            "Epoch 76 TRAIN Batch 400 Loss 0.5038 Accuracy 74.7921 AUC 0.7949\n",
            "Epoch 76 TRAIN Batch 450 Loss 0.5037 Accuracy 74.8005 AUC 0.7949\n",
            "Epoch 76 TRAIN Batch 500 Loss 0.5036 Accuracy 74.8156 AUC 0.7950\n",
            "Epoch 76 TRAIN Batch 550 Loss 0.5036 Accuracy 74.8143 AUC 0.7950\n",
            "Epoch 76 TRAIN Batch 600 Loss 0.5037 Accuracy 74.8060 AUC 0.7951\n",
            "Epoch 76 TRAIN Batch 650 Loss 0.5036 Accuracy 74.8097 AUC 0.7951\n",
            "Epoch 76 TRAIN Batch 700 Loss 0.5037 Accuracy 74.7978 AUC 0.7951\n",
            "Epoch 76 TRAIN Batch 750 Loss 0.5039 Accuracy 74.7889 AUC 0.7949\n"
          ],
          "name": "stdout"
        },
        {
          "output_type": "stream",
          "text": [
            "24-12 03:49 root         INFO     Epoch TRAIN 76 Loss 0.5039 Accuracy 74.7910 AUC 0.7950\n"
          ],
          "name": "stderr"
        },
        {
          "output_type": "stream",
          "text": [
            "Time taken for 1 epoch: 226.17798924446106 secs\n",
            "\n",
            "Epoch 77 TRAIN Batch 0 Loss 0.5052 Accuracy 75.1809 AUC 0.7974\n",
            "Epoch 77 TRAIN Batch 50 Loss 0.5031 Accuracy 74.8590 AUC 0.7951\n",
            "Epoch 77 TRAIN Batch 100 Loss 0.5032 Accuracy 74.8524 AUC 0.7951\n",
            "Epoch 77 TRAIN Batch 150 Loss 0.5032 Accuracy 74.8602 AUC 0.7949\n",
            "Epoch 77 TRAIN Batch 200 Loss 0.5035 Accuracy 74.8460 AUC 0.7949\n",
            "Epoch 77 TRAIN Batch 250 Loss 0.5031 Accuracy 74.8546 AUC 0.7952\n",
            "Epoch 77 TRAIN Batch 300 Loss 0.5034 Accuracy 74.8401 AUC 0.7950\n",
            "Epoch 77 TRAIN Batch 350 Loss 0.5035 Accuracy 74.8360 AUC 0.7950\n",
            "Epoch 77 TRAIN Batch 400 Loss 0.5035 Accuracy 74.8340 AUC 0.7949\n",
            "Epoch 77 TRAIN Batch 450 Loss 0.5035 Accuracy 74.8307 AUC 0.7949\n",
            "Epoch 77 TRAIN Batch 500 Loss 0.5036 Accuracy 74.8274 AUC 0.7949\n",
            "Epoch 77 TRAIN Batch 550 Loss 0.5036 Accuracy 74.8218 AUC 0.7949\n",
            "Epoch 77 TRAIN Batch 600 Loss 0.5036 Accuracy 74.8167 AUC 0.7949\n",
            "Epoch 77 TRAIN Batch 650 Loss 0.5035 Accuracy 74.8204 AUC 0.7949\n",
            "Epoch 77 TRAIN Batch 700 Loss 0.5034 Accuracy 74.8220 AUC 0.7949\n",
            "Epoch 77 TRAIN Batch 750 Loss 0.5036 Accuracy 74.8099 AUC 0.7948\n"
          ],
          "name": "stdout"
        },
        {
          "output_type": "stream",
          "text": [
            "24-12 03:52 root         INFO     Epoch TRAIN 77 Loss 0.5035 Accuracy 74.8165 AUC 0.7949\n"
          ],
          "name": "stderr"
        },
        {
          "output_type": "stream",
          "text": [
            "Time taken for 1 epoch: 221.26060342788696 secs\n",
            "\n",
            "Epoch 78 TRAIN Batch 0 Loss 0.5133 Accuracy 73.8480 AUC 0.7878\n",
            "Epoch 78 TRAIN Batch 50 Loss 0.5058 Accuracy 74.6108 AUC 0.7937\n",
            "Epoch 78 TRAIN Batch 100 Loss 0.5042 Accuracy 74.7061 AUC 0.7945\n",
            "Epoch 78 TRAIN Batch 150 Loss 0.5043 Accuracy 74.7341 AUC 0.7945\n",
            "Epoch 78 TRAIN Batch 200 Loss 0.5046 Accuracy 74.7249 AUC 0.7944\n",
            "Epoch 78 TRAIN Batch 250 Loss 0.5044 Accuracy 74.7374 AUC 0.7946\n",
            "Epoch 78 TRAIN Batch 300 Loss 0.5043 Accuracy 74.7480 AUC 0.7946\n",
            "Epoch 78 TRAIN Batch 350 Loss 0.5042 Accuracy 74.7596 AUC 0.7946\n",
            "Epoch 78 TRAIN Batch 400 Loss 0.5040 Accuracy 74.7773 AUC 0.7947\n",
            "Epoch 78 TRAIN Batch 450 Loss 0.5038 Accuracy 74.7859 AUC 0.7948\n",
            "Epoch 78 TRAIN Batch 500 Loss 0.5039 Accuracy 74.7841 AUC 0.7948\n",
            "Epoch 78 TRAIN Batch 550 Loss 0.5039 Accuracy 74.7856 AUC 0.7950\n",
            "Epoch 78 TRAIN Batch 600 Loss 0.5038 Accuracy 74.7946 AUC 0.7949\n",
            "Epoch 78 TRAIN Batch 650 Loss 0.5037 Accuracy 74.8008 AUC 0.7949\n",
            "Epoch 78 TRAIN Batch 700 Loss 0.5037 Accuracy 74.8066 AUC 0.7949\n",
            "Epoch 78 TRAIN Batch 750 Loss 0.5036 Accuracy 74.8131 AUC 0.7949\n"
          ],
          "name": "stdout"
        },
        {
          "output_type": "stream",
          "text": [
            "24-12 03:56 root         INFO     Epoch TRAIN 78 Loss 0.5037 Accuracy 74.8094 AUC 0.7949\n"
          ],
          "name": "stderr"
        },
        {
          "output_type": "stream",
          "text": [
            "Time taken for 1 epoch: 227.33363580703735 secs\n",
            "\n",
            "Epoch 79 TRAIN Batch 0 Loss 0.5098 Accuracy 74.1353 AUC 0.7855\n",
            "Epoch 79 TRAIN Batch 50 Loss 0.5024 Accuracy 74.8773 AUC 0.7955\n",
            "Epoch 79 TRAIN Batch 100 Loss 0.5036 Accuracy 74.8212 AUC 0.7949\n",
            "Epoch 79 TRAIN Batch 150 Loss 0.5035 Accuracy 74.8240 AUC 0.7947\n",
            "Epoch 79 TRAIN Batch 200 Loss 0.5032 Accuracy 74.8475 AUC 0.7950\n",
            "Epoch 79 TRAIN Batch 250 Loss 0.5031 Accuracy 74.8498 AUC 0.7951\n",
            "Epoch 79 TRAIN Batch 300 Loss 0.5032 Accuracy 74.8279 AUC 0.7952\n",
            "Epoch 79 TRAIN Batch 350 Loss 0.5031 Accuracy 74.8331 AUC 0.7952\n",
            "Epoch 79 TRAIN Batch 400 Loss 0.5032 Accuracy 74.8211 AUC 0.7952\n",
            "Epoch 79 TRAIN Batch 450 Loss 0.5032 Accuracy 74.8215 AUC 0.7953\n",
            "Epoch 79 TRAIN Batch 500 Loss 0.5032 Accuracy 74.8185 AUC 0.7953\n",
            "Epoch 79 TRAIN Batch 550 Loss 0.5033 Accuracy 74.8161 AUC 0.7952\n",
            "Epoch 79 TRAIN Batch 600 Loss 0.5032 Accuracy 74.8195 AUC 0.7952\n",
            "Epoch 79 TRAIN Batch 650 Loss 0.5034 Accuracy 74.8109 AUC 0.7952\n",
            "Epoch 79 TRAIN Batch 700 Loss 0.5034 Accuracy 74.8174 AUC 0.7952\n",
            "Epoch 79 TRAIN Batch 750 Loss 0.5034 Accuracy 74.8147 AUC 0.7952\n"
          ],
          "name": "stdout"
        },
        {
          "output_type": "stream",
          "text": [
            "24-12 04:00 root         INFO     Epoch TRAIN 79 Loss 0.5033 Accuracy 74.8228 AUC 0.7952\n"
          ],
          "name": "stderr"
        },
        {
          "output_type": "stream",
          "text": [
            "Time taken for 1 epoch: 234.47540736198425 secs\n",
            "\n",
            "Epoch 80 TRAIN Batch 0 Loss 0.5063 Accuracy 74.4852 AUC 0.7891\n",
            "Epoch 80 TRAIN Batch 50 Loss 0.5020 Accuracy 74.8605 AUC 0.7957\n",
            "Epoch 80 TRAIN Batch 100 Loss 0.5031 Accuracy 74.8090 AUC 0.7952\n",
            "Epoch 80 TRAIN Batch 150 Loss 0.5033 Accuracy 74.8073 AUC 0.7950\n",
            "Epoch 80 TRAIN Batch 200 Loss 0.5031 Accuracy 74.8300 AUC 0.7949\n",
            "Epoch 80 TRAIN Batch 250 Loss 0.5034 Accuracy 74.8131 AUC 0.7950\n",
            "Epoch 80 TRAIN Batch 300 Loss 0.5032 Accuracy 74.8257 AUC 0.7951\n",
            "Epoch 80 TRAIN Batch 350 Loss 0.5032 Accuracy 74.8179 AUC 0.7952\n",
            "Epoch 80 TRAIN Batch 400 Loss 0.5032 Accuracy 74.8210 AUC 0.7952\n",
            "Epoch 80 TRAIN Batch 450 Loss 0.5029 Accuracy 74.8395 AUC 0.7954\n",
            "Epoch 80 TRAIN Batch 500 Loss 0.5028 Accuracy 74.8490 AUC 0.7954\n",
            "Epoch 80 TRAIN Batch 550 Loss 0.5029 Accuracy 74.8428 AUC 0.7953\n",
            "Epoch 80 TRAIN Batch 600 Loss 0.5030 Accuracy 74.8376 AUC 0.7953\n",
            "Epoch 80 TRAIN Batch 650 Loss 0.5031 Accuracy 74.8325 AUC 0.7952\n",
            "Epoch 80 TRAIN Batch 700 Loss 0.5031 Accuracy 74.8353 AUC 0.7952\n",
            "Epoch 80 TRAIN Batch 750 Loss 0.5031 Accuracy 74.8345 AUC 0.7952\n"
          ],
          "name": "stdout"
        },
        {
          "output_type": "stream",
          "text": [
            "24-12 04:04 root         INFO     Epoch TRAIN 80 Loss 0.5031 Accuracy 74.8349 AUC 0.7952\n"
          ],
          "name": "stderr"
        },
        {
          "output_type": "stream",
          "text": [
            "Epoch 80 VAL Batch 0 Loss 0.5111 Accuracy 74.7825 AUC 0.7855\n",
            "Epoch 80 VAL Batch 50 Loss 0.5072 Accuracy 74.6569 AUC 0.7925\n",
            "Epoch 80 VAL Batch 100 Loss 0.5074 Accuracy 74.6087 AUC 0.7931\n",
            "Epoch 80 VAL Batch 150 Loss 0.5064 Accuracy 74.6680 AUC 0.7935\n",
            "Epoch 80 VAL Batch 200 Loss 0.5064 Accuracy 74.6841 AUC 0.7935\n",
            "Epoch 80 VAL Batch 250 Loss 0.5064 Accuracy 74.6598 AUC 0.7935\n",
            "Epoch 80 VAL Batch 300 Loss 0.5062 Accuracy 74.6739 AUC 0.7936\n",
            "Epoch 80 VAL Batch 350 Loss 0.5062 Accuracy 74.6692 AUC 0.7935\n",
            "Epoch 80 VAL Batch 400 Loss 0.5062 Accuracy 74.6727 AUC 0.7935\n",
            "Epoch 80 VAL Batch 450 Loss 0.5062 Accuracy 74.6785 AUC 0.7934\n",
            "Epoch 80 VAL Batch 500 Loss 0.5061 Accuracy 74.6776 AUC 0.7934\n",
            "Epoch 80 VAL Batch 550 Loss 0.5062 Accuracy 74.6767 AUC 0.7935\n",
            "Epoch 80 VAL Batch 600 Loss 0.5063 Accuracy 74.6679 AUC 0.7934\n",
            "Epoch 80 VAL Batch 650 Loss 0.5063 Accuracy 74.6738 AUC 0.7934\n",
            "Epoch 80 VAL Batch 700 Loss 0.5063 Accuracy 74.6674 AUC 0.7934\n",
            "Epoch 80 VAL Batch 750 Loss 0.5064 Accuracy 74.6649 AUC 0.7934\n"
          ],
          "name": "stdout"
        },
        {
          "output_type": "stream",
          "text": [
            "24-12 04:05 root         INFO     Epoch VAL 80 Loss 0.5064 Accuracy 74.6627 AUC 0.7934\n",
            "24-12 04:05 root         INFO     Saving checkpoint for epoch 80 at 23-Dec-riiid-2/checkpoints/ckpt-16\n"
          ],
          "name": "stderr"
        },
        {
          "output_type": "stream",
          "text": [
            "Time taken for 1 epoch: 262.6531889438629 secs\n",
            "\n",
            "Epoch 81 TRAIN Batch 0 Loss 0.5177 Accuracy 74.1007 AUC 0.7846\n",
            "Epoch 81 TRAIN Batch 50 Loss 0.5052 Accuracy 74.7789 AUC 0.7932\n",
            "Epoch 81 TRAIN Batch 100 Loss 0.5045 Accuracy 74.7707 AUC 0.7945\n",
            "Epoch 81 TRAIN Batch 150 Loss 0.5043 Accuracy 74.7820 AUC 0.7947\n",
            "Epoch 81 TRAIN Batch 200 Loss 0.5043 Accuracy 74.7758 AUC 0.7946\n",
            "Epoch 81 TRAIN Batch 250 Loss 0.5042 Accuracy 74.7942 AUC 0.7948\n",
            "Epoch 81 TRAIN Batch 300 Loss 0.5040 Accuracy 74.7976 AUC 0.7950\n",
            "Epoch 81 TRAIN Batch 350 Loss 0.5036 Accuracy 74.8087 AUC 0.7951\n",
            "Epoch 81 TRAIN Batch 400 Loss 0.5035 Accuracy 74.8131 AUC 0.7951\n",
            "Epoch 81 TRAIN Batch 450 Loss 0.5036 Accuracy 74.8182 AUC 0.7952\n",
            "Epoch 81 TRAIN Batch 500 Loss 0.5036 Accuracy 74.8141 AUC 0.7952\n",
            "Epoch 81 TRAIN Batch 550 Loss 0.5036 Accuracy 74.8182 AUC 0.7951\n",
            "Epoch 81 TRAIN Batch 600 Loss 0.5035 Accuracy 74.8230 AUC 0.7952\n",
            "Epoch 81 TRAIN Batch 650 Loss 0.5035 Accuracy 74.8222 AUC 0.7953\n",
            "Epoch 81 TRAIN Batch 700 Loss 0.5035 Accuracy 74.8265 AUC 0.7953\n",
            "Epoch 81 TRAIN Batch 750 Loss 0.5035 Accuracy 74.8173 AUC 0.7953\n"
          ],
          "name": "stdout"
        },
        {
          "output_type": "stream",
          "text": [
            "24-12 04:09 root         INFO     Epoch TRAIN 81 Loss 0.5036 Accuracy 74.8121 AUC 0.7952\n"
          ],
          "name": "stderr"
        },
        {
          "output_type": "stream",
          "text": [
            "Time taken for 1 epoch: 238.75699543952942 secs\n",
            "\n",
            "Epoch 82 TRAIN Batch 0 Loss 0.5003 Accuracy 75.4878 AUC 0.7978\n",
            "Epoch 82 TRAIN Batch 50 Loss 0.5023 Accuracy 74.9246 AUC 0.7946\n",
            "Epoch 82 TRAIN Batch 100 Loss 0.5012 Accuracy 74.9590 AUC 0.7963\n",
            "Epoch 82 TRAIN Batch 150 Loss 0.5020 Accuracy 74.8980 AUC 0.7956\n",
            "Epoch 82 TRAIN Batch 200 Loss 0.5018 Accuracy 74.9387 AUC 0.7956\n",
            "Epoch 82 TRAIN Batch 250 Loss 0.5022 Accuracy 74.9114 AUC 0.7955\n",
            "Epoch 82 TRAIN Batch 300 Loss 0.5024 Accuracy 74.8893 AUC 0.7956\n",
            "Epoch 82 TRAIN Batch 350 Loss 0.5022 Accuracy 74.8974 AUC 0.7957\n",
            "Epoch 82 TRAIN Batch 400 Loss 0.5022 Accuracy 74.8983 AUC 0.7957\n",
            "Epoch 82 TRAIN Batch 450 Loss 0.5024 Accuracy 74.8865 AUC 0.7956\n",
            "Epoch 82 TRAIN Batch 500 Loss 0.5023 Accuracy 74.8891 AUC 0.7956\n",
            "Epoch 82 TRAIN Batch 550 Loss 0.5024 Accuracy 74.8857 AUC 0.7955\n",
            "Epoch 82 TRAIN Batch 600 Loss 0.5023 Accuracy 74.8908 AUC 0.7956\n",
            "Epoch 82 TRAIN Batch 650 Loss 0.5024 Accuracy 74.8829 AUC 0.7956\n",
            "Epoch 82 TRAIN Batch 700 Loss 0.5023 Accuracy 74.8833 AUC 0.7956\n",
            "Epoch 82 TRAIN Batch 750 Loss 0.5023 Accuracy 74.8846 AUC 0.7957\n"
          ],
          "name": "stdout"
        },
        {
          "output_type": "stream",
          "text": [
            "24-12 04:12 root         INFO     Epoch TRAIN 82 Loss 0.5023 Accuracy 74.8868 AUC 0.7957\n"
          ],
          "name": "stderr"
        },
        {
          "output_type": "stream",
          "text": [
            "Time taken for 1 epoch: 234.59404850006104 secs\n",
            "\n",
            "Epoch 83 TRAIN Batch 0 Loss 0.5115 Accuracy 74.3857 AUC 0.7912\n",
            "Epoch 83 TRAIN Batch 50 Loss 0.5045 Accuracy 74.7420 AUC 0.7941\n",
            "Epoch 83 TRAIN Batch 100 Loss 0.5043 Accuracy 74.7769 AUC 0.7945\n",
            "Epoch 83 TRAIN Batch 150 Loss 0.5041 Accuracy 74.7816 AUC 0.7948\n",
            "Epoch 83 TRAIN Batch 200 Loss 0.5040 Accuracy 74.7926 AUC 0.7949\n",
            "Epoch 83 TRAIN Batch 250 Loss 0.5033 Accuracy 74.8250 AUC 0.7952\n",
            "Epoch 83 TRAIN Batch 300 Loss 0.5034 Accuracy 74.8219 AUC 0.7953\n",
            "Epoch 83 TRAIN Batch 350 Loss 0.5034 Accuracy 74.8162 AUC 0.7953\n",
            "Epoch 83 TRAIN Batch 400 Loss 0.5035 Accuracy 74.8089 AUC 0.7952\n",
            "Epoch 83 TRAIN Batch 450 Loss 0.5035 Accuracy 74.8128 AUC 0.7951\n",
            "Epoch 83 TRAIN Batch 500 Loss 0.5035 Accuracy 74.8156 AUC 0.7950\n",
            "Epoch 83 TRAIN Batch 550 Loss 0.5035 Accuracy 74.8065 AUC 0.7950\n",
            "Epoch 83 TRAIN Batch 600 Loss 0.5035 Accuracy 74.8069 AUC 0.7950\n",
            "Epoch 83 TRAIN Batch 650 Loss 0.5035 Accuracy 74.8049 AUC 0.7951\n",
            "Epoch 83 TRAIN Batch 700 Loss 0.5035 Accuracy 74.7984 AUC 0.7950\n",
            "Epoch 83 TRAIN Batch 750 Loss 0.5034 Accuracy 74.8079 AUC 0.7952\n"
          ],
          "name": "stdout"
        },
        {
          "output_type": "stream",
          "text": [
            "24-12 04:16 root         INFO     Epoch TRAIN 83 Loss 0.5034 Accuracy 74.8098 AUC 0.7952\n"
          ],
          "name": "stderr"
        },
        {
          "output_type": "stream",
          "text": [
            "Time taken for 1 epoch: 236.30878448486328 secs\n",
            "\n",
            "Epoch 84 TRAIN Batch 0 Loss 0.5195 Accuracy 73.2761 AUC 0.7845\n",
            "Epoch 84 TRAIN Batch 50 Loss 0.5044 Accuracy 74.6909 AUC 0.7950\n",
            "Epoch 84 TRAIN Batch 100 Loss 0.5036 Accuracy 74.7468 AUC 0.7952\n",
            "Epoch 84 TRAIN Batch 150 Loss 0.5036 Accuracy 74.7649 AUC 0.7950\n",
            "Epoch 84 TRAIN Batch 200 Loss 0.5033 Accuracy 74.8022 AUC 0.7950\n",
            "Epoch 84 TRAIN Batch 250 Loss 0.5035 Accuracy 74.7850 AUC 0.7950\n",
            "Epoch 84 TRAIN Batch 300 Loss 0.5034 Accuracy 74.7991 AUC 0.7950\n",
            "Epoch 84 TRAIN Batch 350 Loss 0.5034 Accuracy 74.7983 AUC 0.7950\n",
            "Epoch 84 TRAIN Batch 400 Loss 0.5036 Accuracy 74.7883 AUC 0.7950\n",
            "Epoch 84 TRAIN Batch 450 Loss 0.5035 Accuracy 74.8032 AUC 0.7951\n",
            "Epoch 84 TRAIN Batch 500 Loss 0.5034 Accuracy 74.8075 AUC 0.7952\n",
            "Epoch 84 TRAIN Batch 550 Loss 0.5035 Accuracy 74.8062 AUC 0.7953\n",
            "Epoch 84 TRAIN Batch 600 Loss 0.5035 Accuracy 74.8077 AUC 0.7953\n",
            "Epoch 84 TRAIN Batch 650 Loss 0.5035 Accuracy 74.8134 AUC 0.7953\n",
            "Epoch 84 TRAIN Batch 700 Loss 0.5036 Accuracy 74.8142 AUC 0.7953\n",
            "Epoch 84 TRAIN Batch 750 Loss 0.5035 Accuracy 74.8119 AUC 0.7953\n"
          ],
          "name": "stdout"
        },
        {
          "output_type": "stream",
          "text": [
            "24-12 04:20 root         INFO     Epoch TRAIN 84 Loss 0.5035 Accuracy 74.8124 AUC 0.7953\n"
          ],
          "name": "stderr"
        },
        {
          "output_type": "stream",
          "text": [
            "Time taken for 1 epoch: 236.94853973388672 secs\n",
            "\n",
            "Epoch 85 TRAIN Batch 0 Loss 0.5136 Accuracy 74.4229 AUC 0.7865\n",
            "Epoch 85 TRAIN Batch 50 Loss 0.5026 Accuracy 74.8511 AUC 0.7953\n",
            "Epoch 85 TRAIN Batch 100 Loss 0.5022 Accuracy 74.8935 AUC 0.7957\n",
            "Epoch 85 TRAIN Batch 150 Loss 0.5030 Accuracy 74.8372 AUC 0.7954\n",
            "Epoch 85 TRAIN Batch 200 Loss 0.5035 Accuracy 74.7808 AUC 0.7951\n",
            "Epoch 85 TRAIN Batch 250 Loss 0.5036 Accuracy 74.7903 AUC 0.7950\n",
            "Epoch 85 TRAIN Batch 300 Loss 0.5034 Accuracy 74.8160 AUC 0.7949\n",
            "Epoch 85 TRAIN Batch 350 Loss 0.5031 Accuracy 74.8466 AUC 0.7951\n",
            "Epoch 85 TRAIN Batch 400 Loss 0.5031 Accuracy 74.8491 AUC 0.7951\n",
            "Epoch 85 TRAIN Batch 450 Loss 0.5031 Accuracy 74.8430 AUC 0.7951\n",
            "Epoch 85 TRAIN Batch 500 Loss 0.5032 Accuracy 74.8364 AUC 0.7950\n",
            "Epoch 85 TRAIN Batch 550 Loss 0.5034 Accuracy 74.8258 AUC 0.7949\n",
            "Epoch 85 TRAIN Batch 600 Loss 0.5035 Accuracy 74.8171 AUC 0.7950\n",
            "Epoch 85 TRAIN Batch 650 Loss 0.5035 Accuracy 74.8154 AUC 0.7950\n",
            "Epoch 85 TRAIN Batch 700 Loss 0.5034 Accuracy 74.8204 AUC 0.7951\n",
            "Epoch 85 TRAIN Batch 750 Loss 0.5033 Accuracy 74.8215 AUC 0.7951\n"
          ],
          "name": "stdout"
        },
        {
          "output_type": "stream",
          "text": [
            "24-12 04:24 root         INFO     Epoch TRAIN 85 Loss 0.5034 Accuracy 74.8167 AUC 0.7951\n"
          ],
          "name": "stderr"
        },
        {
          "output_type": "stream",
          "text": [
            "Epoch 85 VAL Batch 0 Loss 0.5111 Accuracy 74.6347 AUC 0.7851\n",
            "Epoch 85 VAL Batch 50 Loss 0.5073 Accuracy 74.6727 AUC 0.7923\n",
            "Epoch 85 VAL Batch 100 Loss 0.5073 Accuracy 74.5988 AUC 0.7931\n",
            "Epoch 85 VAL Batch 150 Loss 0.5063 Accuracy 74.6651 AUC 0.7936\n",
            "Epoch 85 VAL Batch 200 Loss 0.5062 Accuracy 74.6852 AUC 0.7935\n",
            "Epoch 85 VAL Batch 250 Loss 0.5063 Accuracy 74.6644 AUC 0.7935\n",
            "Epoch 85 VAL Batch 300 Loss 0.5061 Accuracy 74.6820 AUC 0.7936\n",
            "Epoch 85 VAL Batch 350 Loss 0.5060 Accuracy 74.6812 AUC 0.7936\n",
            "Epoch 85 VAL Batch 400 Loss 0.5060 Accuracy 74.6856 AUC 0.7935\n",
            "Epoch 85 VAL Batch 450 Loss 0.5060 Accuracy 74.6880 AUC 0.7934\n",
            "Epoch 85 VAL Batch 500 Loss 0.5059 Accuracy 74.6883 AUC 0.7935\n",
            "Epoch 85 VAL Batch 550 Loss 0.5059 Accuracy 74.6884 AUC 0.7935\n",
            "Epoch 85 VAL Batch 600 Loss 0.5061 Accuracy 74.6782 AUC 0.7935\n",
            "Epoch 85 VAL Batch 650 Loss 0.5061 Accuracy 74.6846 AUC 0.7935\n",
            "Epoch 85 VAL Batch 700 Loss 0.5061 Accuracy 74.6777 AUC 0.7934\n",
            "Epoch 85 VAL Batch 750 Loss 0.5061 Accuracy 74.6787 AUC 0.7935\n"
          ],
          "name": "stdout"
        },
        {
          "output_type": "stream",
          "text": [
            "24-12 04:25 root         INFO     Epoch VAL 85 Loss 0.5062 Accuracy 74.6768 AUC 0.7935\n",
            "24-12 04:25 root         INFO     Saving checkpoint for epoch 85 at 23-Dec-riiid-2/checkpoints/ckpt-17\n"
          ],
          "name": "stderr"
        },
        {
          "output_type": "stream",
          "text": [
            "Time taken for 1 epoch: 264.74472427368164 secs\n",
            "\n",
            "Epoch 86 TRAIN Batch 0 Loss 0.5064 Accuracy 74.4015 AUC 0.7948\n",
            "Epoch 86 TRAIN Batch 50 Loss 0.5023 Accuracy 74.9158 AUC 0.7959\n",
            "Epoch 86 TRAIN Batch 100 Loss 0.5020 Accuracy 74.9175 AUC 0.7961\n",
            "Epoch 86 TRAIN Batch 150 Loss 0.5030 Accuracy 74.8531 AUC 0.7955\n",
            "Epoch 86 TRAIN Batch 200 Loss 0.5028 Accuracy 74.8785 AUC 0.7957\n",
            "Epoch 86 TRAIN Batch 250 Loss 0.5029 Accuracy 74.8524 AUC 0.7955\n",
            "Epoch 86 TRAIN Batch 300 Loss 0.5027 Accuracy 74.8592 AUC 0.7956\n",
            "Epoch 86 TRAIN Batch 350 Loss 0.5028 Accuracy 74.8508 AUC 0.7956\n",
            "Epoch 86 TRAIN Batch 400 Loss 0.5027 Accuracy 74.8579 AUC 0.7957\n",
            "Epoch 86 TRAIN Batch 450 Loss 0.5026 Accuracy 74.8620 AUC 0.7957\n",
            "Epoch 86 TRAIN Batch 500 Loss 0.5026 Accuracy 74.8551 AUC 0.7957\n",
            "Epoch 86 TRAIN Batch 550 Loss 0.5028 Accuracy 74.8442 AUC 0.7956\n",
            "Epoch 86 TRAIN Batch 600 Loss 0.5028 Accuracy 74.8454 AUC 0.7956\n",
            "Epoch 86 TRAIN Batch 650 Loss 0.5028 Accuracy 74.8447 AUC 0.7955\n",
            "Epoch 86 TRAIN Batch 700 Loss 0.5028 Accuracy 74.8426 AUC 0.7955\n",
            "Epoch 86 TRAIN Batch 750 Loss 0.5027 Accuracy 74.8531 AUC 0.7956\n"
          ],
          "name": "stdout"
        },
        {
          "output_type": "stream",
          "text": [
            "24-12 04:29 root         INFO     Epoch TRAIN 86 Loss 0.5027 Accuracy 74.8518 AUC 0.7955\n"
          ],
          "name": "stderr"
        },
        {
          "output_type": "stream",
          "text": [
            "Time taken for 1 epoch: 237.17583084106445 secs\n",
            "\n",
            "Epoch 87 TRAIN Batch 0 Loss 0.5034 Accuracy 74.9672 AUC 0.7998\n",
            "Epoch 87 TRAIN Batch 50 Loss 0.5041 Accuracy 74.7413 AUC 0.7953\n",
            "Epoch 87 TRAIN Batch 100 Loss 0.5042 Accuracy 74.7414 AUC 0.7953\n",
            "Epoch 87 TRAIN Batch 150 Loss 0.5033 Accuracy 74.8144 AUC 0.7959\n",
            "Epoch 87 TRAIN Batch 200 Loss 0.5030 Accuracy 74.8312 AUC 0.7959\n",
            "Epoch 87 TRAIN Batch 250 Loss 0.5028 Accuracy 74.8471 AUC 0.7958\n",
            "Epoch 87 TRAIN Batch 300 Loss 0.5027 Accuracy 74.8456 AUC 0.7960\n",
            "Epoch 87 TRAIN Batch 350 Loss 0.5025 Accuracy 74.8778 AUC 0.7959\n",
            "Epoch 87 TRAIN Batch 400 Loss 0.5026 Accuracy 74.8670 AUC 0.7959\n",
            "Epoch 87 TRAIN Batch 450 Loss 0.5026 Accuracy 74.8651 AUC 0.7959\n",
            "Epoch 87 TRAIN Batch 500 Loss 0.5026 Accuracy 74.8581 AUC 0.7959\n",
            "Epoch 87 TRAIN Batch 550 Loss 0.5026 Accuracy 74.8695 AUC 0.7958\n",
            "Epoch 87 TRAIN Batch 600 Loss 0.5026 Accuracy 74.8676 AUC 0.7958\n",
            "Epoch 87 TRAIN Batch 650 Loss 0.5027 Accuracy 74.8584 AUC 0.7959\n",
            "Epoch 87 TRAIN Batch 700 Loss 0.5026 Accuracy 74.8601 AUC 0.7959\n",
            "Epoch 87 TRAIN Batch 750 Loss 0.5027 Accuracy 74.8509 AUC 0.7958\n"
          ],
          "name": "stdout"
        },
        {
          "output_type": "stream",
          "text": [
            "24-12 04:33 root         INFO     Epoch TRAIN 87 Loss 0.5027 Accuracy 74.8485 AUC 0.7958\n"
          ],
          "name": "stderr"
        },
        {
          "output_type": "stream",
          "text": [
            "Time taken for 1 epoch: 238.3864550590515 secs\n",
            "\n",
            "Epoch 88 TRAIN Batch 0 Loss 0.5004 Accuracy 75.1620 AUC 0.7980\n",
            "Epoch 88 TRAIN Batch 50 Loss 0.5028 Accuracy 74.8596 AUC 0.7954\n",
            "Epoch 88 TRAIN Batch 100 Loss 0.5027 Accuracy 74.8761 AUC 0.7955\n",
            "Epoch 88 TRAIN Batch 150 Loss 0.5033 Accuracy 74.8248 AUC 0.7952\n",
            "Epoch 88 TRAIN Batch 200 Loss 0.5033 Accuracy 74.8382 AUC 0.7955\n",
            "Epoch 88 TRAIN Batch 250 Loss 0.5036 Accuracy 74.7977 AUC 0.7953\n",
            "Epoch 88 TRAIN Batch 300 Loss 0.5032 Accuracy 74.8195 AUC 0.7954\n",
            "Epoch 88 TRAIN Batch 350 Loss 0.5032 Accuracy 74.8145 AUC 0.7955\n",
            "Epoch 88 TRAIN Batch 400 Loss 0.5032 Accuracy 74.8123 AUC 0.7954\n",
            "Epoch 88 TRAIN Batch 450 Loss 0.5031 Accuracy 74.8263 AUC 0.7955\n",
            "Epoch 88 TRAIN Batch 500 Loss 0.5030 Accuracy 74.8265 AUC 0.7955\n",
            "Epoch 88 TRAIN Batch 550 Loss 0.5031 Accuracy 74.8273 AUC 0.7955\n",
            "Epoch 88 TRAIN Batch 600 Loss 0.5031 Accuracy 74.8241 AUC 0.7955\n",
            "Epoch 88 TRAIN Batch 650 Loss 0.5031 Accuracy 74.8197 AUC 0.7954\n",
            "Epoch 88 TRAIN Batch 700 Loss 0.5032 Accuracy 74.8167 AUC 0.7954\n",
            "Epoch 88 TRAIN Batch 750 Loss 0.5034 Accuracy 74.8031 AUC 0.7953\n"
          ],
          "name": "stdout"
        },
        {
          "output_type": "stream",
          "text": [
            "24-12 04:37 root         INFO     Epoch TRAIN 88 Loss 0.5033 Accuracy 74.8083 AUC 0.7954\n"
          ],
          "name": "stderr"
        },
        {
          "output_type": "stream",
          "text": [
            "Time taken for 1 epoch: 236.57306385040283 secs\n",
            "\n",
            "Epoch 89 TRAIN Batch 0 Loss 0.5058 Accuracy 74.6961 AUC 0.7937\n",
            "Epoch 89 TRAIN Batch 50 Loss 0.5025 Accuracy 74.9740 AUC 0.7966\n",
            "Epoch 89 TRAIN Batch 100 Loss 0.5027 Accuracy 74.9063 AUC 0.7959\n",
            "Epoch 89 TRAIN Batch 150 Loss 0.5030 Accuracy 74.8560 AUC 0.7956\n",
            "Epoch 89 TRAIN Batch 200 Loss 0.5030 Accuracy 74.8518 AUC 0.7957\n",
            "Epoch 89 TRAIN Batch 250 Loss 0.5027 Accuracy 74.8615 AUC 0.7959\n",
            "Epoch 89 TRAIN Batch 300 Loss 0.5028 Accuracy 74.8442 AUC 0.7957\n",
            "Epoch 89 TRAIN Batch 350 Loss 0.5029 Accuracy 74.8392 AUC 0.7956\n",
            "Epoch 89 TRAIN Batch 400 Loss 0.5031 Accuracy 74.8310 AUC 0.7955\n",
            "Epoch 89 TRAIN Batch 450 Loss 0.5031 Accuracy 74.8241 AUC 0.7956\n",
            "Epoch 89 TRAIN Batch 500 Loss 0.5029 Accuracy 74.8404 AUC 0.7957\n",
            "Epoch 89 TRAIN Batch 550 Loss 0.5031 Accuracy 74.8323 AUC 0.7956\n",
            "Epoch 89 TRAIN Batch 600 Loss 0.5031 Accuracy 74.8304 AUC 0.7957\n",
            "Epoch 89 TRAIN Batch 650 Loss 0.5030 Accuracy 74.8336 AUC 0.7956\n",
            "Epoch 89 TRAIN Batch 700 Loss 0.5029 Accuracy 74.8386 AUC 0.7957\n",
            "Epoch 89 TRAIN Batch 750 Loss 0.5029 Accuracy 74.8393 AUC 0.7958\n"
          ],
          "name": "stdout"
        },
        {
          "output_type": "stream",
          "text": [
            "24-12 04:41 root         INFO     Epoch TRAIN 89 Loss 0.5028 Accuracy 74.8461 AUC 0.7959\n"
          ],
          "name": "stderr"
        },
        {
          "output_type": "stream",
          "text": [
            "Time taken for 1 epoch: 235.72607350349426 secs\n",
            "\n",
            "Epoch 90 TRAIN Batch 0 Loss 0.4934 Accuracy 75.6230 AUC 0.8011\n",
            "Epoch 90 TRAIN Batch 50 Loss 0.5035 Accuracy 74.7798 AUC 0.7958\n",
            "Epoch 90 TRAIN Batch 100 Loss 0.5033 Accuracy 74.8035 AUC 0.7958\n",
            "Epoch 90 TRAIN Batch 150 Loss 0.5037 Accuracy 74.8005 AUC 0.7956\n",
            "Epoch 90 TRAIN Batch 200 Loss 0.5032 Accuracy 74.8198 AUC 0.7957\n",
            "Epoch 90 TRAIN Batch 250 Loss 0.5031 Accuracy 74.8331 AUC 0.7957\n",
            "Epoch 90 TRAIN Batch 300 Loss 0.5030 Accuracy 74.8332 AUC 0.7957\n",
            "Epoch 90 TRAIN Batch 350 Loss 0.5030 Accuracy 74.8298 AUC 0.7958\n",
            "Epoch 90 TRAIN Batch 400 Loss 0.5030 Accuracy 74.8318 AUC 0.7958\n",
            "Epoch 90 TRAIN Batch 450 Loss 0.5030 Accuracy 74.8313 AUC 0.7958\n",
            "Epoch 90 TRAIN Batch 500 Loss 0.5029 Accuracy 74.8351 AUC 0.7958\n",
            "Epoch 90 TRAIN Batch 550 Loss 0.5029 Accuracy 74.8319 AUC 0.7958\n",
            "Epoch 90 TRAIN Batch 600 Loss 0.5028 Accuracy 74.8432 AUC 0.7958\n",
            "Epoch 90 TRAIN Batch 650 Loss 0.5029 Accuracy 74.8365 AUC 0.7959\n",
            "Epoch 90 TRAIN Batch 700 Loss 0.5028 Accuracy 74.8417 AUC 0.7959\n",
            "Epoch 90 TRAIN Batch 750 Loss 0.5027 Accuracy 74.8442 AUC 0.7960\n"
          ],
          "name": "stdout"
        },
        {
          "output_type": "stream",
          "text": [
            "24-12 04:44 root         INFO     Epoch TRAIN 90 Loss 0.5027 Accuracy 74.8440 AUC 0.7960\n"
          ],
          "name": "stderr"
        },
        {
          "output_type": "stream",
          "text": [
            "Epoch 90 VAL Batch 0 Loss 0.5097 Accuracy 74.8071 AUC 0.7868\n",
            "Epoch 90 VAL Batch 50 Loss 0.5075 Accuracy 74.6637 AUC 0.7924\n",
            "Epoch 90 VAL Batch 100 Loss 0.5076 Accuracy 74.6105 AUC 0.7932\n",
            "Epoch 90 VAL Batch 150 Loss 0.5067 Accuracy 74.6918 AUC 0.7937\n",
            "Epoch 90 VAL Batch 200 Loss 0.5066 Accuracy 74.7051 AUC 0.7936\n",
            "Epoch 90 VAL Batch 250 Loss 0.5067 Accuracy 74.6802 AUC 0.7936\n",
            "Epoch 90 VAL Batch 300 Loss 0.5065 Accuracy 74.6954 AUC 0.7937\n",
            "Epoch 90 VAL Batch 350 Loss 0.5064 Accuracy 74.6880 AUC 0.7936\n",
            "Epoch 90 VAL Batch 400 Loss 0.5064 Accuracy 74.6890 AUC 0.7936\n",
            "Epoch 90 VAL Batch 450 Loss 0.5064 Accuracy 74.6963 AUC 0.7935\n",
            "Epoch 90 VAL Batch 500 Loss 0.5063 Accuracy 74.6987 AUC 0.7935\n",
            "Epoch 90 VAL Batch 550 Loss 0.5064 Accuracy 74.6966 AUC 0.7936\n",
            "Epoch 90 VAL Batch 600 Loss 0.5065 Accuracy 74.6888 AUC 0.7936\n",
            "Epoch 90 VAL Batch 650 Loss 0.5065 Accuracy 74.6936 AUC 0.7935\n",
            "Epoch 90 VAL Batch 700 Loss 0.5066 Accuracy 74.6879 AUC 0.7935\n",
            "Epoch 90 VAL Batch 750 Loss 0.5066 Accuracy 74.6870 AUC 0.7935\n"
          ],
          "name": "stdout"
        },
        {
          "output_type": "stream",
          "text": [
            "24-12 04:45 root         INFO     Epoch VAL 90 Loss 0.5066 Accuracy 74.6839 AUC 0.7935\n",
            "24-12 04:45 root         INFO     Saving checkpoint for epoch 90 at 23-Dec-riiid-2/checkpoints/ckpt-18\n"
          ],
          "name": "stderr"
        },
        {
          "output_type": "stream",
          "text": [
            "Time taken for 1 epoch: 260.8010964393616 secs\n",
            "\n",
            "Epoch 91 TRAIN Batch 0 Loss 0.5044 Accuracy 74.9270 AUC 0.7904\n",
            "Epoch 91 TRAIN Batch 50 Loss 0.5031 Accuracy 74.8569 AUC 0.7940\n",
            "Epoch 91 TRAIN Batch 100 Loss 0.5034 Accuracy 74.8134 AUC 0.7945\n",
            "Epoch 91 TRAIN Batch 150 Loss 0.5030 Accuracy 74.8432 AUC 0.7950\n",
            "Epoch 91 TRAIN Batch 200 Loss 0.5027 Accuracy 74.8378 AUC 0.7954\n",
            "Epoch 91 TRAIN Batch 250 Loss 0.5029 Accuracy 74.8339 AUC 0.7954\n",
            "Epoch 91 TRAIN Batch 300 Loss 0.5028 Accuracy 74.8300 AUC 0.7954\n",
            "Epoch 91 TRAIN Batch 350 Loss 0.5030 Accuracy 74.8205 AUC 0.7953\n",
            "Epoch 91 TRAIN Batch 400 Loss 0.5028 Accuracy 74.8400 AUC 0.7954\n",
            "Epoch 91 TRAIN Batch 450 Loss 0.5029 Accuracy 74.8330 AUC 0.7953\n",
            "Epoch 91 TRAIN Batch 500 Loss 0.5031 Accuracy 74.8252 AUC 0.7953\n",
            "Epoch 91 TRAIN Batch 550 Loss 0.5030 Accuracy 74.8311 AUC 0.7954\n",
            "Epoch 91 TRAIN Batch 600 Loss 0.5032 Accuracy 74.8219 AUC 0.7954\n",
            "Epoch 91 TRAIN Batch 650 Loss 0.5031 Accuracy 74.8253 AUC 0.7955\n",
            "Epoch 91 TRAIN Batch 700 Loss 0.5031 Accuracy 74.8228 AUC 0.7955\n",
            "Epoch 91 TRAIN Batch 750 Loss 0.5029 Accuracy 74.8340 AUC 0.7957\n"
          ],
          "name": "stdout"
        },
        {
          "output_type": "stream",
          "text": [
            "24-12 04:49 root         INFO     Epoch TRAIN 91 Loss 0.5030 Accuracy 74.8305 AUC 0.7956\n"
          ],
          "name": "stderr"
        },
        {
          "output_type": "stream",
          "text": [
            "Time taken for 1 epoch: 230.8249442577362 secs\n",
            "\n",
            "Epoch 92 TRAIN Batch 0 Loss 0.5081 Accuracy 74.5226 AUC 0.7969\n",
            "Epoch 92 TRAIN Batch 50 Loss 0.5021 Accuracy 74.9318 AUC 0.7964\n",
            "Epoch 92 TRAIN Batch 100 Loss 0.5015 Accuracy 74.9657 AUC 0.7965\n",
            "Epoch 92 TRAIN Batch 150 Loss 0.5018 Accuracy 74.9499 AUC 0.7964\n",
            "Epoch 92 TRAIN Batch 200 Loss 0.5020 Accuracy 74.9240 AUC 0.7963\n",
            "Epoch 92 TRAIN Batch 250 Loss 0.5027 Accuracy 74.8675 AUC 0.7959\n",
            "Epoch 92 TRAIN Batch 300 Loss 0.5024 Accuracy 74.8851 AUC 0.7960\n",
            "Epoch 92 TRAIN Batch 350 Loss 0.5021 Accuracy 74.8951 AUC 0.7960\n",
            "Epoch 92 TRAIN Batch 400 Loss 0.5020 Accuracy 74.8946 AUC 0.7960\n",
            "Epoch 92 TRAIN Batch 450 Loss 0.5023 Accuracy 74.8766 AUC 0.7960\n",
            "Epoch 92 TRAIN Batch 500 Loss 0.5023 Accuracy 74.8713 AUC 0.7960\n",
            "Epoch 92 TRAIN Batch 550 Loss 0.5024 Accuracy 74.8701 AUC 0.7959\n",
            "Epoch 92 TRAIN Batch 600 Loss 0.5022 Accuracy 74.8817 AUC 0.7960\n",
            "Epoch 92 TRAIN Batch 650 Loss 0.5022 Accuracy 74.8845 AUC 0.7962\n",
            "Epoch 92 TRAIN Batch 700 Loss 0.5022 Accuracy 74.8877 AUC 0.7961\n",
            "Epoch 92 TRAIN Batch 750 Loss 0.5021 Accuracy 74.8944 AUC 0.7961\n"
          ],
          "name": "stdout"
        },
        {
          "output_type": "stream",
          "text": [
            "24-12 04:53 root         INFO     Epoch TRAIN 92 Loss 0.5020 Accuracy 74.8980 AUC 0.7961\n"
          ],
          "name": "stderr"
        },
        {
          "output_type": "stream",
          "text": [
            "Time taken for 1 epoch: 233.38855957984924 secs\n",
            "\n",
            "Epoch 93 TRAIN Batch 0 Loss 0.4992 Accuracy 74.8896 AUC 0.8011\n",
            "Epoch 93 TRAIN Batch 50 Loss 0.5020 Accuracy 74.8942 AUC 0.7964\n",
            "Epoch 93 TRAIN Batch 100 Loss 0.5021 Accuracy 74.9073 AUC 0.7965\n",
            "Epoch 93 TRAIN Batch 150 Loss 0.5016 Accuracy 74.9485 AUC 0.7968\n",
            "Epoch 93 TRAIN Batch 200 Loss 0.5019 Accuracy 74.9196 AUC 0.7967\n",
            "Epoch 93 TRAIN Batch 250 Loss 0.5017 Accuracy 74.9209 AUC 0.7965\n",
            "Epoch 93 TRAIN Batch 300 Loss 0.5021 Accuracy 74.8871 AUC 0.7963\n",
            "Epoch 93 TRAIN Batch 350 Loss 0.5021 Accuracy 74.8887 AUC 0.7963\n",
            "Epoch 93 TRAIN Batch 400 Loss 0.5021 Accuracy 74.8806 AUC 0.7963\n",
            "Epoch 93 TRAIN Batch 450 Loss 0.5020 Accuracy 74.8884 AUC 0.7963\n",
            "Epoch 93 TRAIN Batch 500 Loss 0.5019 Accuracy 74.8980 AUC 0.7964\n",
            "Epoch 93 TRAIN Batch 550 Loss 0.5019 Accuracy 74.8967 AUC 0.7963\n",
            "Epoch 93 TRAIN Batch 600 Loss 0.5019 Accuracy 74.8992 AUC 0.7963\n",
            "Epoch 93 TRAIN Batch 650 Loss 0.5018 Accuracy 74.9025 AUC 0.7963\n",
            "Epoch 93 TRAIN Batch 700 Loss 0.5019 Accuracy 74.9028 AUC 0.7962\n",
            "Epoch 93 TRAIN Batch 750 Loss 0.5020 Accuracy 74.8976 AUC 0.7962\n"
          ],
          "name": "stdout"
        },
        {
          "output_type": "stream",
          "text": [
            "24-12 04:56 root         INFO     Epoch TRAIN 93 Loss 0.5019 Accuracy 74.9035 AUC 0.7963\n"
          ],
          "name": "stderr"
        },
        {
          "output_type": "stream",
          "text": [
            "Time taken for 1 epoch: 229.08112835884094 secs\n",
            "\n",
            "Epoch 94 TRAIN Batch 0 Loss 0.4955 Accuracy 75.5412 AUC 0.7985\n",
            "Epoch 94 TRAIN Batch 50 Loss 0.5024 Accuracy 74.8942 AUC 0.7967\n",
            "Epoch 94 TRAIN Batch 100 Loss 0.5018 Accuracy 74.9307 AUC 0.7970\n",
            "Epoch 94 TRAIN Batch 150 Loss 0.5017 Accuracy 74.9188 AUC 0.7973\n",
            "Epoch 94 TRAIN Batch 200 Loss 0.5015 Accuracy 74.9260 AUC 0.7973\n",
            "Epoch 94 TRAIN Batch 250 Loss 0.5016 Accuracy 74.9328 AUC 0.7968\n",
            "Epoch 94 TRAIN Batch 300 Loss 0.5018 Accuracy 74.9168 AUC 0.7966\n",
            "Epoch 94 TRAIN Batch 350 Loss 0.5018 Accuracy 74.9189 AUC 0.7966\n",
            "Epoch 94 TRAIN Batch 400 Loss 0.5018 Accuracy 74.9149 AUC 0.7967\n",
            "Epoch 94 TRAIN Batch 450 Loss 0.5017 Accuracy 74.9205 AUC 0.7967\n",
            "Epoch 94 TRAIN Batch 500 Loss 0.5018 Accuracy 74.9149 AUC 0.7967\n",
            "Epoch 94 TRAIN Batch 550 Loss 0.5018 Accuracy 74.9071 AUC 0.7966\n",
            "Epoch 94 TRAIN Batch 600 Loss 0.5017 Accuracy 74.9205 AUC 0.7966\n",
            "Epoch 94 TRAIN Batch 650 Loss 0.5017 Accuracy 74.9156 AUC 0.7965\n",
            "Epoch 94 TRAIN Batch 700 Loss 0.5018 Accuracy 74.9112 AUC 0.7965\n",
            "Epoch 94 TRAIN Batch 750 Loss 0.5018 Accuracy 74.9137 AUC 0.7965\n"
          ],
          "name": "stdout"
        },
        {
          "output_type": "stream",
          "text": [
            "24-12 05:00 root         INFO     Epoch TRAIN 94 Loss 0.5018 Accuracy 74.9090 AUC 0.7964\n"
          ],
          "name": "stderr"
        },
        {
          "output_type": "stream",
          "text": [
            "Time taken for 1 epoch: 231.97538089752197 secs\n",
            "\n",
            "Epoch 95 TRAIN Batch 0 Loss 0.5100 Accuracy 74.1225 AUC 0.7924\n",
            "Epoch 95 TRAIN Batch 50 Loss 0.5027 Accuracy 74.8909 AUC 0.7964\n",
            "Epoch 95 TRAIN Batch 100 Loss 0.5030 Accuracy 74.8444 AUC 0.7964\n",
            "Epoch 95 TRAIN Batch 150 Loss 0.5032 Accuracy 74.8460 AUC 0.7958\n",
            "Epoch 95 TRAIN Batch 200 Loss 0.5027 Accuracy 74.8708 AUC 0.7963\n",
            "Epoch 95 TRAIN Batch 250 Loss 0.5025 Accuracy 74.8754 AUC 0.7965\n",
            "Epoch 95 TRAIN Batch 300 Loss 0.5026 Accuracy 74.8724 AUC 0.7966\n",
            "Epoch 95 TRAIN Batch 350 Loss 0.5028 Accuracy 74.8640 AUC 0.7963\n",
            "Epoch 95 TRAIN Batch 400 Loss 0.5026 Accuracy 74.8765 AUC 0.7963\n",
            "Epoch 95 TRAIN Batch 450 Loss 0.5026 Accuracy 74.8755 AUC 0.7963\n",
            "Epoch 95 TRAIN Batch 500 Loss 0.5024 Accuracy 74.8885 AUC 0.7963\n",
            "Epoch 95 TRAIN Batch 550 Loss 0.5024 Accuracy 74.8855 AUC 0.7964\n",
            "Epoch 95 TRAIN Batch 600 Loss 0.5025 Accuracy 74.8807 AUC 0.7963\n",
            "Epoch 95 TRAIN Batch 650 Loss 0.5025 Accuracy 74.8805 AUC 0.7963\n",
            "Epoch 95 TRAIN Batch 700 Loss 0.5026 Accuracy 74.8742 AUC 0.7964\n",
            "Epoch 95 TRAIN Batch 750 Loss 0.5024 Accuracy 74.8815 AUC 0.7964\n"
          ],
          "name": "stdout"
        },
        {
          "output_type": "stream",
          "text": [
            "24-12 05:04 root         INFO     Epoch TRAIN 95 Loss 0.5025 Accuracy 74.8797 AUC 0.7964\n"
          ],
          "name": "stderr"
        },
        {
          "output_type": "stream",
          "text": [
            "Epoch 95 VAL Batch 0 Loss 0.5110 Accuracy 74.9220 AUC 0.7855\n",
            "Epoch 95 VAL Batch 50 Loss 0.5072 Accuracy 74.6826 AUC 0.7926\n",
            "Epoch 95 VAL Batch 100 Loss 0.5074 Accuracy 74.6259 AUC 0.7934\n",
            "Epoch 95 VAL Batch 150 Loss 0.5064 Accuracy 74.6897 AUC 0.7938\n",
            "Epoch 95 VAL Batch 200 Loss 0.5064 Accuracy 74.7055 AUC 0.7937\n",
            "Epoch 95 VAL Batch 250 Loss 0.5064 Accuracy 74.6813 AUC 0.7937\n",
            "Epoch 95 VAL Batch 300 Loss 0.5062 Accuracy 74.6970 AUC 0.7938\n",
            "Epoch 95 VAL Batch 350 Loss 0.5062 Accuracy 74.6896 AUC 0.7938\n",
            "Epoch 95 VAL Batch 400 Loss 0.5062 Accuracy 74.6951 AUC 0.7938\n",
            "Epoch 95 VAL Batch 450 Loss 0.5061 Accuracy 74.7015 AUC 0.7936\n",
            "Epoch 95 VAL Batch 500 Loss 0.5060 Accuracy 74.7053 AUC 0.7937\n",
            "Epoch 95 VAL Batch 550 Loss 0.5061 Accuracy 74.7040 AUC 0.7938\n",
            "Epoch 95 VAL Batch 600 Loss 0.5062 Accuracy 74.6970 AUC 0.7937\n",
            "Epoch 95 VAL Batch 650 Loss 0.5063 Accuracy 74.7024 AUC 0.7937\n",
            "Epoch 95 VAL Batch 700 Loss 0.5063 Accuracy 74.6984 AUC 0.7937\n",
            "Epoch 95 VAL Batch 750 Loss 0.5063 Accuracy 74.6985 AUC 0.7937\n"
          ],
          "name": "stdout"
        },
        {
          "output_type": "stream",
          "text": [
            "24-12 05:05 root         INFO     Epoch VAL 95 Loss 0.5063 Accuracy 74.6957 AUC 0.7937\n",
            "24-12 05:05 root         INFO     Saving checkpoint for epoch 95 at 23-Dec-riiid-2/checkpoints/ckpt-19\n"
          ],
          "name": "stderr"
        },
        {
          "output_type": "stream",
          "text": [
            "Time taken for 1 epoch: 258.49024748802185 secs\n",
            "\n",
            "Epoch 96 TRAIN Batch 0 Loss 0.5028 Accuracy 74.4454 AUC 0.7983\n",
            "Epoch 96 TRAIN Batch 50 Loss 0.5018 Accuracy 74.9464 AUC 0.7966\n",
            "Epoch 96 TRAIN Batch 100 Loss 0.5028 Accuracy 74.8564 AUC 0.7961\n",
            "Epoch 96 TRAIN Batch 150 Loss 0.5020 Accuracy 74.8961 AUC 0.7965\n",
            "Epoch 96 TRAIN Batch 200 Loss 0.5020 Accuracy 74.9023 AUC 0.7964\n",
            "Epoch 96 TRAIN Batch 250 Loss 0.5020 Accuracy 74.8954 AUC 0.7965\n",
            "Epoch 96 TRAIN Batch 300 Loss 0.5024 Accuracy 74.8664 AUC 0.7962\n",
            "Epoch 96 TRAIN Batch 350 Loss 0.5026 Accuracy 74.8442 AUC 0.7960\n",
            "Epoch 96 TRAIN Batch 400 Loss 0.5024 Accuracy 74.8596 AUC 0.7962\n",
            "Epoch 96 TRAIN Batch 450 Loss 0.5025 Accuracy 74.8457 AUC 0.7961\n",
            "Epoch 96 TRAIN Batch 500 Loss 0.5024 Accuracy 74.8577 AUC 0.7962\n",
            "Epoch 96 TRAIN Batch 550 Loss 0.5025 Accuracy 74.8604 AUC 0.7961\n",
            "Epoch 96 TRAIN Batch 600 Loss 0.5023 Accuracy 74.8725 AUC 0.7962\n",
            "Epoch 96 TRAIN Batch 650 Loss 0.5023 Accuracy 74.8744 AUC 0.7961\n",
            "Epoch 96 TRAIN Batch 700 Loss 0.5024 Accuracy 74.8628 AUC 0.7960\n",
            "Epoch 96 TRAIN Batch 750 Loss 0.5024 Accuracy 74.8654 AUC 0.7960\n"
          ],
          "name": "stdout"
        },
        {
          "output_type": "stream",
          "text": [
            "24-12 05:09 root         INFO     Epoch TRAIN 96 Loss 0.5024 Accuracy 74.8672 AUC 0.7960\n"
          ],
          "name": "stderr"
        },
        {
          "output_type": "stream",
          "text": [
            "Time taken for 1 epoch: 229.0831434726715 secs\n",
            "\n",
            "Epoch 97 TRAIN Batch 0 Loss 0.5109 Accuracy 74.1559 AUC 0.8028\n",
            "Epoch 97 TRAIN Batch 50 Loss 0.5033 Accuracy 74.7496 AUC 0.7958\n",
            "Epoch 97 TRAIN Batch 100 Loss 0.5026 Accuracy 74.8266 AUC 0.7958\n",
            "Epoch 97 TRAIN Batch 150 Loss 0.5019 Accuracy 74.8836 AUC 0.7961\n",
            "Epoch 97 TRAIN Batch 200 Loss 0.5021 Accuracy 74.8730 AUC 0.7961\n",
            "Epoch 97 TRAIN Batch 250 Loss 0.5024 Accuracy 74.8538 AUC 0.7960\n",
            "Epoch 97 TRAIN Batch 300 Loss 0.5022 Accuracy 74.8648 AUC 0.7962\n",
            "Epoch 97 TRAIN Batch 350 Loss 0.5024 Accuracy 74.8566 AUC 0.7961\n",
            "Epoch 97 TRAIN Batch 400 Loss 0.5023 Accuracy 74.8680 AUC 0.7961\n",
            "Epoch 97 TRAIN Batch 450 Loss 0.5025 Accuracy 74.8594 AUC 0.7961\n",
            "Epoch 97 TRAIN Batch 500 Loss 0.5026 Accuracy 74.8549 AUC 0.7960\n",
            "Epoch 97 TRAIN Batch 550 Loss 0.5026 Accuracy 74.8535 AUC 0.7960\n",
            "Epoch 97 TRAIN Batch 600 Loss 0.5026 Accuracy 74.8558 AUC 0.7960\n",
            "Epoch 97 TRAIN Batch 650 Loss 0.5025 Accuracy 74.8618 AUC 0.7961\n",
            "Epoch 97 TRAIN Batch 700 Loss 0.5025 Accuracy 74.8573 AUC 0.7961\n",
            "Epoch 97 TRAIN Batch 750 Loss 0.5025 Accuracy 74.8629 AUC 0.7961\n"
          ],
          "name": "stdout"
        },
        {
          "output_type": "stream",
          "text": [
            "24-12 05:12 root         INFO     Epoch TRAIN 97 Loss 0.5025 Accuracy 74.8614 AUC 0.7961\n"
          ],
          "name": "stderr"
        },
        {
          "output_type": "stream",
          "text": [
            "Time taken for 1 epoch: 229.8153612613678 secs\n",
            "\n",
            "Epoch 98 TRAIN Batch 0 Loss 0.4915 Accuracy 75.3435 AUC 0.8077\n",
            "Epoch 98 TRAIN Batch 50 Loss 0.5031 Accuracy 74.8315 AUC 0.7954\n",
            "Epoch 98 TRAIN Batch 100 Loss 0.5033 Accuracy 74.7993 AUC 0.7957\n",
            "Epoch 98 TRAIN Batch 150 Loss 0.5039 Accuracy 74.7683 AUC 0.7951\n",
            "Epoch 98 TRAIN Batch 200 Loss 0.5036 Accuracy 74.7955 AUC 0.7951\n",
            "Epoch 98 TRAIN Batch 250 Loss 0.5038 Accuracy 74.7741 AUC 0.7951\n",
            "Epoch 98 TRAIN Batch 300 Loss 0.5037 Accuracy 74.7865 AUC 0.7952\n",
            "Epoch 98 TRAIN Batch 350 Loss 0.5034 Accuracy 74.8037 AUC 0.7954\n",
            "Epoch 98 TRAIN Batch 400 Loss 0.5033 Accuracy 74.8095 AUC 0.7954\n",
            "Epoch 98 TRAIN Batch 450 Loss 0.5032 Accuracy 74.8255 AUC 0.7954\n",
            "Epoch 98 TRAIN Batch 500 Loss 0.5031 Accuracy 74.8282 AUC 0.7956\n",
            "Epoch 98 TRAIN Batch 550 Loss 0.5029 Accuracy 74.8413 AUC 0.7957\n",
            "Epoch 98 TRAIN Batch 600 Loss 0.5028 Accuracy 74.8501 AUC 0.7959\n",
            "Epoch 98 TRAIN Batch 650 Loss 0.5027 Accuracy 74.8503 AUC 0.7959\n",
            "Epoch 98 TRAIN Batch 700 Loss 0.5025 Accuracy 74.8683 AUC 0.7960\n",
            "Epoch 98 TRAIN Batch 750 Loss 0.5026 Accuracy 74.8649 AUC 0.7960\n"
          ],
          "name": "stdout"
        },
        {
          "output_type": "stream",
          "text": [
            "24-12 05:16 root         INFO     Epoch TRAIN 98 Loss 0.5026 Accuracy 74.8601 AUC 0.7959\n"
          ],
          "name": "stderr"
        },
        {
          "output_type": "stream",
          "text": [
            "Time taken for 1 epoch: 229.22467160224915 secs\n",
            "\n",
            "Epoch 99 TRAIN Batch 0 Loss 0.4880 Accuracy 75.7122 AUC 0.8028\n",
            "Epoch 99 TRAIN Batch 50 Loss 0.5015 Accuracy 74.8879 AUC 0.7966\n",
            "Epoch 99 TRAIN Batch 100 Loss 0.5021 Accuracy 74.8699 AUC 0.7964\n",
            "Epoch 99 TRAIN Batch 150 Loss 0.5029 Accuracy 74.8391 AUC 0.7956\n",
            "Epoch 99 TRAIN Batch 200 Loss 0.5025 Accuracy 74.8652 AUC 0.7959\n",
            "Epoch 99 TRAIN Batch 250 Loss 0.5027 Accuracy 74.8601 AUC 0.7960\n",
            "Epoch 99 TRAIN Batch 300 Loss 0.5026 Accuracy 74.8584 AUC 0.7961\n",
            "Epoch 99 TRAIN Batch 350 Loss 0.5025 Accuracy 74.8602 AUC 0.7961\n",
            "Epoch 99 TRAIN Batch 400 Loss 0.5025 Accuracy 74.8656 AUC 0.7961\n",
            "Epoch 99 TRAIN Batch 450 Loss 0.5027 Accuracy 74.8491 AUC 0.7960\n",
            "Epoch 99 TRAIN Batch 500 Loss 0.5026 Accuracy 74.8546 AUC 0.7959\n",
            "Epoch 99 TRAIN Batch 550 Loss 0.5025 Accuracy 74.8594 AUC 0.7960\n",
            "Epoch 99 TRAIN Batch 600 Loss 0.5026 Accuracy 74.8571 AUC 0.7960\n",
            "Epoch 99 TRAIN Batch 650 Loss 0.5024 Accuracy 74.8621 AUC 0.7961\n",
            "Epoch 99 TRAIN Batch 700 Loss 0.5025 Accuracy 74.8603 AUC 0.7961\n",
            "Epoch 99 TRAIN Batch 750 Loss 0.5024 Accuracy 74.8664 AUC 0.7961\n"
          ],
          "name": "stdout"
        },
        {
          "output_type": "stream",
          "text": [
            "24-12 05:20 root         INFO     Epoch TRAIN 99 Loss 0.5024 Accuracy 74.8680 AUC 0.7961\n"
          ],
          "name": "stderr"
        },
        {
          "output_type": "stream",
          "text": [
            "Time taken for 1 epoch: 230.10177516937256 secs\n",
            "\n",
            "Epoch 100 TRAIN Batch 0 Loss 0.5026 Accuracy 74.8073 AUC 0.7969\n",
            "Epoch 100 TRAIN Batch 50 Loss 0.5009 Accuracy 74.9853 AUC 0.7980\n",
            "Epoch 100 TRAIN Batch 100 Loss 0.5017 Accuracy 74.9316 AUC 0.7967\n",
            "Epoch 100 TRAIN Batch 150 Loss 0.5022 Accuracy 74.9074 AUC 0.7969\n",
            "Epoch 100 TRAIN Batch 200 Loss 0.5020 Accuracy 74.9119 AUC 0.7969\n",
            "Epoch 100 TRAIN Batch 250 Loss 0.5021 Accuracy 74.9140 AUC 0.7967\n",
            "Epoch 100 TRAIN Batch 300 Loss 0.5019 Accuracy 74.9312 AUC 0.7967\n",
            "Epoch 100 TRAIN Batch 350 Loss 0.5021 Accuracy 74.9173 AUC 0.7966\n",
            "Epoch 100 TRAIN Batch 400 Loss 0.5019 Accuracy 74.9297 AUC 0.7966\n",
            "Epoch 100 TRAIN Batch 450 Loss 0.5020 Accuracy 74.9234 AUC 0.7965\n",
            "Epoch 100 TRAIN Batch 500 Loss 0.5019 Accuracy 74.9299 AUC 0.7966\n",
            "Epoch 100 TRAIN Batch 550 Loss 0.5019 Accuracy 74.9291 AUC 0.7966\n",
            "Epoch 100 TRAIN Batch 600 Loss 0.5018 Accuracy 74.9304 AUC 0.7967\n",
            "Epoch 100 TRAIN Batch 650 Loss 0.5019 Accuracy 74.9252 AUC 0.7966\n",
            "Epoch 100 TRAIN Batch 700 Loss 0.5019 Accuracy 74.9233 AUC 0.7966\n",
            "Epoch 100 TRAIN Batch 750 Loss 0.5018 Accuracy 74.9229 AUC 0.7966\n"
          ],
          "name": "stdout"
        },
        {
          "output_type": "stream",
          "text": [
            "24-12 05:24 root         INFO     Epoch TRAIN 100 Loss 0.5018 Accuracy 74.9232 AUC 0.7967\n"
          ],
          "name": "stderr"
        },
        {
          "output_type": "stream",
          "text": [
            "Epoch 100 VAL Batch 0 Loss 0.5106 Accuracy 74.8317 AUC 0.7862\n",
            "Epoch 100 VAL Batch 50 Loss 0.5072 Accuracy 74.6860 AUC 0.7927\n",
            "Epoch 100 VAL Batch 100 Loss 0.5073 Accuracy 74.6223 AUC 0.7934\n",
            "Epoch 100 VAL Batch 150 Loss 0.5063 Accuracy 74.6937 AUC 0.7938\n",
            "Epoch 100 VAL Batch 200 Loss 0.5063 Accuracy 74.7160 AUC 0.7938\n",
            "Epoch 100 VAL Batch 250 Loss 0.5063 Accuracy 74.6920 AUC 0.7938\n",
            "Epoch 100 VAL Batch 300 Loss 0.5061 Accuracy 74.7110 AUC 0.7939\n",
            "Epoch 100 VAL Batch 350 Loss 0.5060 Accuracy 74.7090 AUC 0.7939\n",
            "Epoch 100 VAL Batch 400 Loss 0.5060 Accuracy 74.7139 AUC 0.7938\n",
            "Epoch 100 VAL Batch 450 Loss 0.5060 Accuracy 74.7206 AUC 0.7937\n",
            "Epoch 100 VAL Batch 500 Loss 0.5058 Accuracy 74.7224 AUC 0.7938\n",
            "Epoch 100 VAL Batch 550 Loss 0.5059 Accuracy 74.7201 AUC 0.7939\n",
            "Epoch 100 VAL Batch 600 Loss 0.5060 Accuracy 74.7129 AUC 0.7939\n",
            "Epoch 100 VAL Batch 650 Loss 0.5061 Accuracy 74.7162 AUC 0.7938\n",
            "Epoch 100 VAL Batch 700 Loss 0.5061 Accuracy 74.7111 AUC 0.7938\n",
            "Epoch 100 VAL Batch 750 Loss 0.5061 Accuracy 74.7104 AUC 0.7938\n"
          ],
          "name": "stdout"
        },
        {
          "output_type": "stream",
          "text": [
            "24-12 05:24 root         INFO     Epoch VAL 100 Loss 0.5062 Accuracy 74.7081 AUC 0.7938\n",
            "24-12 05:24 root         INFO     Saving checkpoint for epoch 100 at 23-Dec-riiid-2/checkpoints/ckpt-20\n"
          ],
          "name": "stderr"
        },
        {
          "output_type": "stream",
          "text": [
            "Time taken for 1 epoch: 256.0729978084564 secs\n",
            "\n",
            "Epoch 101 TRAIN Batch 0 Loss 0.5163 Accuracy 73.7408 AUC 0.7874\n",
            "Epoch 101 TRAIN Batch 50 Loss 0.5030 Accuracy 74.8011 AUC 0.7964\n",
            "Epoch 101 TRAIN Batch 100 Loss 0.5028 Accuracy 74.8371 AUC 0.7962\n",
            "Epoch 101 TRAIN Batch 150 Loss 0.5034 Accuracy 74.7987 AUC 0.7959\n",
            "Epoch 101 TRAIN Batch 200 Loss 0.5026 Accuracy 74.8484 AUC 0.7964\n",
            "Epoch 101 TRAIN Batch 250 Loss 0.5026 Accuracy 74.8572 AUC 0.7963\n",
            "Epoch 101 TRAIN Batch 300 Loss 0.5025 Accuracy 74.8584 AUC 0.7965\n",
            "Epoch 101 TRAIN Batch 350 Loss 0.5024 Accuracy 74.8658 AUC 0.7964\n",
            "Epoch 101 TRAIN Batch 400 Loss 0.5022 Accuracy 74.8870 AUC 0.7966\n",
            "Epoch 101 TRAIN Batch 450 Loss 0.5023 Accuracy 74.8797 AUC 0.7965\n",
            "Epoch 101 TRAIN Batch 500 Loss 0.5022 Accuracy 74.8870 AUC 0.7965\n",
            "Epoch 101 TRAIN Batch 550 Loss 0.5022 Accuracy 74.8913 AUC 0.7965\n",
            "Epoch 101 TRAIN Batch 600 Loss 0.5019 Accuracy 74.9088 AUC 0.7966\n",
            "Epoch 101 TRAIN Batch 650 Loss 0.5021 Accuracy 74.8976 AUC 0.7965\n",
            "Epoch 101 TRAIN Batch 700 Loss 0.5023 Accuracy 74.8821 AUC 0.7964\n",
            "Epoch 101 TRAIN Batch 750 Loss 0.5021 Accuracy 74.8895 AUC 0.7965\n"
          ],
          "name": "stdout"
        },
        {
          "output_type": "stream",
          "text": [
            "24-12 05:28 root         INFO     Epoch TRAIN 101 Loss 0.5022 Accuracy 74.8787 AUC 0.7965\n"
          ],
          "name": "stderr"
        },
        {
          "output_type": "stream",
          "text": [
            "Time taken for 1 epoch: 226.7586145401001 secs\n",
            "\n",
            "Epoch 102 TRAIN Batch 0 Loss 0.5047 Accuracy 74.6633 AUC 0.7934\n",
            "Epoch 102 TRAIN Batch 50 Loss 0.5023 Accuracy 74.8613 AUC 0.7955\n",
            "Epoch 102 TRAIN Batch 100 Loss 0.5024 Accuracy 74.8579 AUC 0.7960\n",
            "Epoch 102 TRAIN Batch 150 Loss 0.5018 Accuracy 74.8954 AUC 0.7963\n",
            "Epoch 102 TRAIN Batch 200 Loss 0.5017 Accuracy 74.9065 AUC 0.7962\n",
            "Epoch 102 TRAIN Batch 250 Loss 0.5016 Accuracy 74.9218 AUC 0.7964\n",
            "Epoch 102 TRAIN Batch 300 Loss 0.5017 Accuracy 74.9120 AUC 0.7963\n",
            "Epoch 102 TRAIN Batch 350 Loss 0.5014 Accuracy 74.9305 AUC 0.7965\n",
            "Epoch 102 TRAIN Batch 400 Loss 0.5016 Accuracy 74.9192 AUC 0.7965\n",
            "Epoch 102 TRAIN Batch 450 Loss 0.5015 Accuracy 74.9222 AUC 0.7966\n",
            "Epoch 102 TRAIN Batch 500 Loss 0.5016 Accuracy 74.9150 AUC 0.7966\n",
            "Epoch 102 TRAIN Batch 550 Loss 0.5014 Accuracy 74.9247 AUC 0.7968\n",
            "Epoch 102 TRAIN Batch 600 Loss 0.5015 Accuracy 74.9182 AUC 0.7967\n",
            "Epoch 102 TRAIN Batch 650 Loss 0.5016 Accuracy 74.9173 AUC 0.7967\n",
            "Epoch 102 TRAIN Batch 700 Loss 0.5017 Accuracy 74.9130 AUC 0.7966\n",
            "Epoch 102 TRAIN Batch 750 Loss 0.5017 Accuracy 74.9100 AUC 0.7966\n"
          ],
          "name": "stdout"
        },
        {
          "output_type": "stream",
          "text": [
            "24-12 05:32 root         INFO     Epoch TRAIN 102 Loss 0.5017 Accuracy 74.9080 AUC 0.7966\n"
          ],
          "name": "stderr"
        },
        {
          "output_type": "stream",
          "text": [
            "Time taken for 1 epoch: 227.14414262771606 secs\n",
            "\n",
            "Epoch 103 TRAIN Batch 0 Loss 0.5051 Accuracy 74.9328 AUC 0.7946\n",
            "Epoch 103 TRAIN Batch 50 Loss 0.5006 Accuracy 74.9617 AUC 0.7972\n",
            "Epoch 103 TRAIN Batch 100 Loss 0.5017 Accuracy 74.8601 AUC 0.7970\n",
            "Epoch 103 TRAIN Batch 150 Loss 0.5011 Accuracy 74.9135 AUC 0.7974\n",
            "Epoch 103 TRAIN Batch 200 Loss 0.5014 Accuracy 74.9102 AUC 0.7972\n",
            "Epoch 103 TRAIN Batch 250 Loss 0.5021 Accuracy 74.8661 AUC 0.7968\n",
            "Epoch 103 TRAIN Batch 300 Loss 0.5021 Accuracy 74.8568 AUC 0.7968\n",
            "Epoch 103 TRAIN Batch 350 Loss 0.5019 Accuracy 74.8697 AUC 0.7969\n",
            "Epoch 103 TRAIN Batch 400 Loss 0.5019 Accuracy 74.8687 AUC 0.7969\n",
            "Epoch 103 TRAIN Batch 450 Loss 0.5018 Accuracy 74.8814 AUC 0.7968\n",
            "Epoch 103 TRAIN Batch 500 Loss 0.5020 Accuracy 74.8715 AUC 0.7967\n",
            "Epoch 103 TRAIN Batch 550 Loss 0.5019 Accuracy 74.8795 AUC 0.7968\n",
            "Epoch 103 TRAIN Batch 600 Loss 0.5020 Accuracy 74.8727 AUC 0.7967\n",
            "Epoch 103 TRAIN Batch 650 Loss 0.5021 Accuracy 74.8752 AUC 0.7968\n",
            "Epoch 103 TRAIN Batch 700 Loss 0.5021 Accuracy 74.8757 AUC 0.7968\n",
            "Epoch 103 TRAIN Batch 750 Loss 0.5020 Accuracy 74.8761 AUC 0.7967\n"
          ],
          "name": "stdout"
        },
        {
          "output_type": "stream",
          "text": [
            "24-12 05:36 root         INFO     Epoch TRAIN 103 Loss 0.5020 Accuracy 74.8784 AUC 0.7967\n"
          ],
          "name": "stderr"
        },
        {
          "output_type": "stream",
          "text": [
            "Time taken for 1 epoch: 230.242107629776 secs\n",
            "\n",
            "Epoch 104 TRAIN Batch 0 Loss 0.5062 Accuracy 74.8108 AUC 0.7916\n",
            "Epoch 104 TRAIN Batch 50 Loss 0.5040 Accuracy 74.7913 AUC 0.7939\n",
            "Epoch 104 TRAIN Batch 100 Loss 0.5030 Accuracy 74.8337 AUC 0.7953\n",
            "Epoch 104 TRAIN Batch 150 Loss 0.5026 Accuracy 74.8562 AUC 0.7958\n",
            "Epoch 104 TRAIN Batch 200 Loss 0.5027 Accuracy 74.8520 AUC 0.7960\n",
            "Epoch 104 TRAIN Batch 250 Loss 0.5028 Accuracy 74.8574 AUC 0.7961\n",
            "Epoch 104 TRAIN Batch 300 Loss 0.5024 Accuracy 74.8860 AUC 0.7964\n",
            "Epoch 104 TRAIN Batch 350 Loss 0.5023 Accuracy 74.8896 AUC 0.7965\n",
            "Epoch 104 TRAIN Batch 400 Loss 0.5023 Accuracy 74.8856 AUC 0.7964\n",
            "Epoch 104 TRAIN Batch 450 Loss 0.5022 Accuracy 74.8819 AUC 0.7964\n",
            "Epoch 104 TRAIN Batch 500 Loss 0.5023 Accuracy 74.8783 AUC 0.7964\n",
            "Epoch 104 TRAIN Batch 550 Loss 0.5023 Accuracy 74.8716 AUC 0.7963\n",
            "Epoch 104 TRAIN Batch 600 Loss 0.5024 Accuracy 74.8672 AUC 0.7963\n",
            "Epoch 104 TRAIN Batch 650 Loss 0.5023 Accuracy 74.8762 AUC 0.7963\n",
            "Epoch 104 TRAIN Batch 700 Loss 0.5023 Accuracy 74.8758 AUC 0.7964\n",
            "Epoch 104 TRAIN Batch 750 Loss 0.5023 Accuracy 74.8766 AUC 0.7964\n"
          ],
          "name": "stdout"
        },
        {
          "output_type": "stream",
          "text": [
            "24-12 05:39 root         INFO     Epoch TRAIN 104 Loss 0.5023 Accuracy 74.8789 AUC 0.7965\n"
          ],
          "name": "stderr"
        },
        {
          "output_type": "stream",
          "text": [
            "Time taken for 1 epoch: 228.14833164215088 secs\n",
            "\n",
            "Epoch 105 TRAIN Batch 0 Loss 0.5124 Accuracy 73.9112 AUC 0.7902\n",
            "Epoch 105 TRAIN Batch 50 Loss 0.5015 Accuracy 74.8618 AUC 0.7975\n",
            "Epoch 105 TRAIN Batch 100 Loss 0.5007 Accuracy 74.9273 AUC 0.7975\n",
            "Epoch 105 TRAIN Batch 150 Loss 0.5010 Accuracy 74.9172 AUC 0.7971\n",
            "Epoch 105 TRAIN Batch 200 Loss 0.5012 Accuracy 74.9204 AUC 0.7969\n",
            "Epoch 105 TRAIN Batch 250 Loss 0.5015 Accuracy 74.8937 AUC 0.7969\n",
            "Epoch 105 TRAIN Batch 300 Loss 0.5019 Accuracy 74.8728 AUC 0.7965\n",
            "Epoch 105 TRAIN Batch 350 Loss 0.5019 Accuracy 74.8789 AUC 0.7965\n",
            "Epoch 105 TRAIN Batch 400 Loss 0.5018 Accuracy 74.8868 AUC 0.7965\n",
            "Epoch 105 TRAIN Batch 450 Loss 0.5019 Accuracy 74.8848 AUC 0.7965\n",
            "Epoch 105 TRAIN Batch 500 Loss 0.5019 Accuracy 74.8835 AUC 0.7965\n",
            "Epoch 105 TRAIN Batch 550 Loss 0.5020 Accuracy 74.8830 AUC 0.7964\n",
            "Epoch 105 TRAIN Batch 600 Loss 0.5020 Accuracy 74.8847 AUC 0.7964\n",
            "Epoch 105 TRAIN Batch 650 Loss 0.5022 Accuracy 74.8706 AUC 0.7964\n",
            "Epoch 105 TRAIN Batch 700 Loss 0.5021 Accuracy 74.8747 AUC 0.7965\n",
            "Epoch 105 TRAIN Batch 750 Loss 0.5021 Accuracy 74.8701 AUC 0.7965\n"
          ],
          "name": "stdout"
        },
        {
          "output_type": "stream",
          "text": [
            "24-12 05:43 root         INFO     Epoch TRAIN 105 Loss 0.5020 Accuracy 74.8796 AUC 0.7966\n"
          ],
          "name": "stderr"
        },
        {
          "output_type": "stream",
          "text": [
            "Epoch 105 VAL Batch 0 Loss 0.5102 Accuracy 74.9138 AUC 0.7862\n",
            "Epoch 105 VAL Batch 50 Loss 0.5071 Accuracy 74.6829 AUC 0.7924\n",
            "Epoch 105 VAL Batch 100 Loss 0.5072 Accuracy 74.6181 AUC 0.7931\n",
            "Epoch 105 VAL Batch 150 Loss 0.5063 Accuracy 74.6956 AUC 0.7936\n",
            "Epoch 105 VAL Batch 200 Loss 0.5063 Accuracy 74.7099 AUC 0.7935\n",
            "Epoch 105 VAL Batch 250 Loss 0.5063 Accuracy 74.6923 AUC 0.7935\n",
            "Epoch 105 VAL Batch 300 Loss 0.5061 Accuracy 74.7042 AUC 0.7936\n",
            "Epoch 105 VAL Batch 350 Loss 0.5061 Accuracy 74.6973 AUC 0.7936\n",
            "Epoch 105 VAL Batch 400 Loss 0.5060 Accuracy 74.7029 AUC 0.7935\n",
            "Epoch 105 VAL Batch 450 Loss 0.5060 Accuracy 74.7093 AUC 0.7934\n",
            "Epoch 105 VAL Batch 500 Loss 0.5059 Accuracy 74.7095 AUC 0.7935\n",
            "Epoch 105 VAL Batch 550 Loss 0.5060 Accuracy 74.7055 AUC 0.7936\n",
            "Epoch 105 VAL Batch 600 Loss 0.5061 Accuracy 74.6965 AUC 0.7936\n",
            "Epoch 105 VAL Batch 650 Loss 0.5061 Accuracy 74.7012 AUC 0.7935\n",
            "Epoch 105 VAL Batch 700 Loss 0.5062 Accuracy 74.6933 AUC 0.7935\n",
            "Epoch 105 VAL Batch 750 Loss 0.5062 Accuracy 74.6929 AUC 0.7935\n"
          ],
          "name": "stdout"
        },
        {
          "output_type": "stream",
          "text": [
            "24-12 05:44 root         INFO     Epoch VAL 105 Loss 0.5062 Accuracy 74.6896 AUC 0.7935\n"
          ],
          "name": "stderr"
        },
        {
          "output_type": "stream",
          "text": [
            "Time taken for 1 epoch: 252.8570122718811 secs\n",
            "\n",
            "Epoch 106 TRAIN Batch 0 Loss 0.5024 Accuracy 74.7234 AUC 0.7960\n",
            "Epoch 106 TRAIN Batch 50 Loss 0.5023 Accuracy 74.8436 AUC 0.7963\n",
            "Epoch 106 TRAIN Batch 100 Loss 0.5014 Accuracy 74.9285 AUC 0.7964\n",
            "Epoch 106 TRAIN Batch 150 Loss 0.5014 Accuracy 74.9340 AUC 0.7967\n",
            "Epoch 106 TRAIN Batch 200 Loss 0.5011 Accuracy 74.9610 AUC 0.7970\n",
            "Epoch 106 TRAIN Batch 250 Loss 0.5009 Accuracy 74.9748 AUC 0.7971\n",
            "Epoch 106 TRAIN Batch 300 Loss 0.5012 Accuracy 74.9687 AUC 0.7968\n",
            "Epoch 106 TRAIN Batch 350 Loss 0.5013 Accuracy 74.9609 AUC 0.7969\n",
            "Epoch 106 TRAIN Batch 400 Loss 0.5011 Accuracy 74.9710 AUC 0.7969\n",
            "Epoch 106 TRAIN Batch 450 Loss 0.5010 Accuracy 74.9786 AUC 0.7970\n",
            "Epoch 106 TRAIN Batch 500 Loss 0.5009 Accuracy 74.9817 AUC 0.7970\n",
            "Epoch 106 TRAIN Batch 550 Loss 0.5012 Accuracy 74.9627 AUC 0.7970\n",
            "Epoch 106 TRAIN Batch 600 Loss 0.5013 Accuracy 74.9585 AUC 0.7970\n",
            "Epoch 106 TRAIN Batch 650 Loss 0.5011 Accuracy 74.9677 AUC 0.7971\n",
            "Epoch 106 TRAIN Batch 700 Loss 0.5011 Accuracy 74.9687 AUC 0.7972\n",
            "Epoch 106 TRAIN Batch 750 Loss 0.5011 Accuracy 74.9654 AUC 0.7972\n"
          ],
          "name": "stdout"
        },
        {
          "output_type": "stream",
          "text": [
            "24-12 05:48 root         INFO     Epoch TRAIN 106 Loss 0.5011 Accuracy 74.9649 AUC 0.7972\n"
          ],
          "name": "stderr"
        },
        {
          "output_type": "stream",
          "text": [
            "Time taken for 1 epoch: 228.94140672683716 secs\n",
            "\n",
            "Epoch 107 TRAIN Batch 0 Loss 0.5059 Accuracy 74.5373 AUC 0.7970\n",
            "Epoch 107 TRAIN Batch 50 Loss 0.5012 Accuracy 74.9697 AUC 0.7972\n",
            "Epoch 107 TRAIN Batch 100 Loss 0.5017 Accuracy 74.9046 AUC 0.7965\n",
            "Epoch 107 TRAIN Batch 150 Loss 0.5016 Accuracy 74.9054 AUC 0.7965\n",
            "Epoch 107 TRAIN Batch 200 Loss 0.5018 Accuracy 74.9000 AUC 0.7965\n",
            "Epoch 107 TRAIN Batch 250 Loss 0.5021 Accuracy 74.8779 AUC 0.7962\n",
            "Epoch 107 TRAIN Batch 300 Loss 0.5018 Accuracy 74.9047 AUC 0.7964\n",
            "Epoch 107 TRAIN Batch 350 Loss 0.5016 Accuracy 74.9194 AUC 0.7966\n",
            "Epoch 107 TRAIN Batch 400 Loss 0.5016 Accuracy 74.9237 AUC 0.7966\n",
            "Epoch 107 TRAIN Batch 450 Loss 0.5016 Accuracy 74.9209 AUC 0.7966\n",
            "Epoch 107 TRAIN Batch 500 Loss 0.5015 Accuracy 74.9234 AUC 0.7967\n",
            "Epoch 107 TRAIN Batch 550 Loss 0.5017 Accuracy 74.9189 AUC 0.7967\n",
            "Epoch 107 TRAIN Batch 600 Loss 0.5017 Accuracy 74.9173 AUC 0.7967\n",
            "Epoch 107 TRAIN Batch 650 Loss 0.5018 Accuracy 74.9132 AUC 0.7967\n",
            "Epoch 107 TRAIN Batch 700 Loss 0.5016 Accuracy 74.9267 AUC 0.7968\n",
            "Epoch 107 TRAIN Batch 750 Loss 0.5016 Accuracy 74.9305 AUC 0.7968\n"
          ],
          "name": "stdout"
        },
        {
          "output_type": "stream",
          "text": [
            "24-12 05:51 root         INFO     Epoch TRAIN 107 Loss 0.5015 Accuracy 74.9382 AUC 0.7969\n"
          ],
          "name": "stderr"
        },
        {
          "output_type": "stream",
          "text": [
            "Time taken for 1 epoch: 232.15094017982483 secs\n",
            "\n",
            "Epoch 108 TRAIN Batch 0 Loss 0.4801 Accuracy 76.3693 AUC 0.8118\n",
            "Epoch 108 TRAIN Batch 50 Loss 0.5002 Accuracy 75.0111 AUC 0.7974\n",
            "Epoch 108 TRAIN Batch 100 Loss 0.4999 Accuracy 75.0522 AUC 0.7977\n",
            "Epoch 108 TRAIN Batch 150 Loss 0.5010 Accuracy 74.9646 AUC 0.7974\n",
            "Epoch 108 TRAIN Batch 200 Loss 0.5010 Accuracy 74.9739 AUC 0.7974\n",
            "Epoch 108 TRAIN Batch 250 Loss 0.5009 Accuracy 74.9841 AUC 0.7974\n",
            "Epoch 108 TRAIN Batch 300 Loss 0.5013 Accuracy 74.9575 AUC 0.7972\n",
            "Epoch 108 TRAIN Batch 350 Loss 0.5014 Accuracy 74.9465 AUC 0.7972\n",
            "Epoch 108 TRAIN Batch 400 Loss 0.5016 Accuracy 74.9223 AUC 0.7970\n",
            "Epoch 108 TRAIN Batch 450 Loss 0.5014 Accuracy 74.9331 AUC 0.7970\n",
            "Epoch 108 TRAIN Batch 500 Loss 0.5013 Accuracy 74.9401 AUC 0.7971\n",
            "Epoch 108 TRAIN Batch 550 Loss 0.5013 Accuracy 74.9385 AUC 0.7971\n",
            "Epoch 108 TRAIN Batch 600 Loss 0.5015 Accuracy 74.9241 AUC 0.7970\n",
            "Epoch 108 TRAIN Batch 650 Loss 0.5015 Accuracy 74.9198 AUC 0.7970\n",
            "Epoch 108 TRAIN Batch 700 Loss 0.5016 Accuracy 74.9202 AUC 0.7970\n",
            "Epoch 108 TRAIN Batch 750 Loss 0.5015 Accuracy 74.9311 AUC 0.7970\n"
          ],
          "name": "stdout"
        },
        {
          "output_type": "stream",
          "text": [
            "24-12 05:55 root         INFO     Epoch TRAIN 108 Loss 0.5015 Accuracy 74.9319 AUC 0.7970\n"
          ],
          "name": "stderr"
        },
        {
          "output_type": "stream",
          "text": [
            "Time taken for 1 epoch: 236.99996304512024 secs\n",
            "\n",
            "Epoch 109 TRAIN Batch 0 Loss 0.4997 Accuracy 74.8124 AUC 0.8015\n",
            "Epoch 109 TRAIN Batch 50 Loss 0.4995 Accuracy 75.0118 AUC 0.7981\n",
            "Epoch 109 TRAIN Batch 100 Loss 0.5010 Accuracy 74.9530 AUC 0.7972\n",
            "Epoch 109 TRAIN Batch 150 Loss 0.5010 Accuracy 74.9626 AUC 0.7973\n",
            "Epoch 109 TRAIN Batch 200 Loss 0.5007 Accuracy 74.9929 AUC 0.7975\n",
            "Epoch 109 TRAIN Batch 250 Loss 0.5014 Accuracy 74.9519 AUC 0.7973\n",
            "Epoch 109 TRAIN Batch 300 Loss 0.5017 Accuracy 74.9286 AUC 0.7972\n",
            "Epoch 109 TRAIN Batch 350 Loss 0.5016 Accuracy 74.9250 AUC 0.7972\n",
            "Epoch 109 TRAIN Batch 400 Loss 0.5017 Accuracy 74.9184 AUC 0.7971\n",
            "Epoch 109 TRAIN Batch 450 Loss 0.5017 Accuracy 74.9144 AUC 0.7970\n",
            "Epoch 109 TRAIN Batch 500 Loss 0.5019 Accuracy 74.9060 AUC 0.7968\n",
            "Epoch 109 TRAIN Batch 550 Loss 0.5019 Accuracy 74.9049 AUC 0.7967\n",
            "Epoch 109 TRAIN Batch 600 Loss 0.5019 Accuracy 74.9068 AUC 0.7967\n",
            "Epoch 109 TRAIN Batch 650 Loss 0.5019 Accuracy 74.9059 AUC 0.7967\n",
            "Epoch 109 TRAIN Batch 700 Loss 0.5018 Accuracy 74.9140 AUC 0.7967\n",
            "Epoch 109 TRAIN Batch 750 Loss 0.5019 Accuracy 74.9077 AUC 0.7967\n"
          ],
          "name": "stdout"
        },
        {
          "output_type": "stream",
          "text": [
            "24-12 05:59 root         INFO     Epoch TRAIN 109 Loss 0.5019 Accuracy 74.9079 AUC 0.7967\n"
          ],
          "name": "stderr"
        },
        {
          "output_type": "stream",
          "text": [
            "Time taken for 1 epoch: 236.18813514709473 secs\n",
            "\n",
            "Epoch 110 TRAIN Batch 0 Loss 0.5074 Accuracy 74.4091 AUC 0.7958\n",
            "Epoch 110 TRAIN Batch 50 Loss 0.5007 Accuracy 75.0392 AUC 0.7984\n",
            "Epoch 110 TRAIN Batch 100 Loss 0.5002 Accuracy 75.0460 AUC 0.7983\n",
            "Epoch 110 TRAIN Batch 150 Loss 0.5006 Accuracy 75.0005 AUC 0.7975\n",
            "Epoch 110 TRAIN Batch 200 Loss 0.5009 Accuracy 74.9829 AUC 0.7974\n",
            "Epoch 110 TRAIN Batch 250 Loss 0.5012 Accuracy 74.9596 AUC 0.7972\n",
            "Epoch 110 TRAIN Batch 300 Loss 0.5015 Accuracy 74.9479 AUC 0.7969\n",
            "Epoch 110 TRAIN Batch 350 Loss 0.5014 Accuracy 74.9475 AUC 0.7971\n",
            "Epoch 110 TRAIN Batch 400 Loss 0.5014 Accuracy 74.9427 AUC 0.7972\n",
            "Epoch 110 TRAIN Batch 450 Loss 0.5012 Accuracy 74.9489 AUC 0.7973\n",
            "Epoch 110 TRAIN Batch 500 Loss 0.5012 Accuracy 74.9475 AUC 0.7973\n",
            "Epoch 110 TRAIN Batch 550 Loss 0.5013 Accuracy 74.9347 AUC 0.7972\n",
            "Epoch 110 TRAIN Batch 600 Loss 0.5013 Accuracy 74.9300 AUC 0.7972\n",
            "Epoch 110 TRAIN Batch 650 Loss 0.5014 Accuracy 74.9261 AUC 0.7972\n",
            "Epoch 110 TRAIN Batch 700 Loss 0.5016 Accuracy 74.9191 AUC 0.7971\n",
            "Epoch 110 TRAIN Batch 750 Loss 0.5015 Accuracy 74.9223 AUC 0.7971\n"
          ],
          "name": "stdout"
        },
        {
          "output_type": "stream",
          "text": [
            "24-12 06:03 root         INFO     Epoch TRAIN 110 Loss 0.5015 Accuracy 74.9245 AUC 0.7972\n"
          ],
          "name": "stderr"
        },
        {
          "output_type": "stream",
          "text": [
            "Epoch 110 VAL Batch 0 Loss 0.5103 Accuracy 74.9466 AUC 0.7867\n",
            "Epoch 110 VAL Batch 50 Loss 0.5074 Accuracy 74.7214 AUC 0.7928\n",
            "Epoch 110 VAL Batch 100 Loss 0.5075 Accuracy 74.6534 AUC 0.7935\n",
            "Epoch 110 VAL Batch 150 Loss 0.5066 Accuracy 74.7135 AUC 0.7939\n",
            "Epoch 110 VAL Batch 200 Loss 0.5066 Accuracy 74.7259 AUC 0.7938\n",
            "Epoch 110 VAL Batch 250 Loss 0.5067 Accuracy 74.6968 AUC 0.7938\n",
            "Epoch 110 VAL Batch 300 Loss 0.5065 Accuracy 74.7145 AUC 0.7939\n",
            "Epoch 110 VAL Batch 350 Loss 0.5065 Accuracy 74.7091 AUC 0.7938\n",
            "Epoch 110 VAL Batch 400 Loss 0.5064 Accuracy 74.7149 AUC 0.7938\n",
            "Epoch 110 VAL Batch 450 Loss 0.5064 Accuracy 74.7224 AUC 0.7937\n",
            "Epoch 110 VAL Batch 500 Loss 0.5063 Accuracy 74.7226 AUC 0.7937\n",
            "Epoch 110 VAL Batch 550 Loss 0.5064 Accuracy 74.7219 AUC 0.7938\n",
            "Epoch 110 VAL Batch 600 Loss 0.5065 Accuracy 74.7146 AUC 0.7938\n",
            "Epoch 110 VAL Batch 650 Loss 0.5065 Accuracy 74.7187 AUC 0.7937\n",
            "Epoch 110 VAL Batch 700 Loss 0.5066 Accuracy 74.7142 AUC 0.7937\n",
            "Epoch 110 VAL Batch 750 Loss 0.5066 Accuracy 74.7134 AUC 0.7938\n"
          ],
          "name": "stdout"
        },
        {
          "output_type": "stream",
          "text": [
            "24-12 06:04 root         INFO     Epoch VAL 110 Loss 0.5066 Accuracy 74.7104 AUC 0.7937\n"
          ],
          "name": "stderr"
        },
        {
          "output_type": "stream",
          "text": [
            "Time taken for 1 epoch: 264.5315206050873 secs\n",
            "\n",
            "Epoch 111 TRAIN Batch 0 Loss 0.5084 Accuracy 74.2893 AUC 0.7920\n",
            "Epoch 111 TRAIN Batch 50 Loss 0.5001 Accuracy 74.9826 AUC 0.7983\n",
            "Epoch 111 TRAIN Batch 100 Loss 0.5009 Accuracy 74.9320 AUC 0.7976\n",
            "Epoch 111 TRAIN Batch 150 Loss 0.5015 Accuracy 74.9096 AUC 0.7972\n",
            "Epoch 111 TRAIN Batch 200 Loss 0.5020 Accuracy 74.8700 AUC 0.7972\n",
            "Epoch 111 TRAIN Batch 250 Loss 0.5017 Accuracy 74.8902 AUC 0.7973\n",
            "Epoch 111 TRAIN Batch 300 Loss 0.5016 Accuracy 74.8929 AUC 0.7971\n",
            "Epoch 111 TRAIN Batch 350 Loss 0.5018 Accuracy 74.8984 AUC 0.7970\n",
            "Epoch 111 TRAIN Batch 400 Loss 0.5017 Accuracy 74.9154 AUC 0.7971\n",
            "Epoch 111 TRAIN Batch 450 Loss 0.5017 Accuracy 74.9095 AUC 0.7971\n",
            "Epoch 111 TRAIN Batch 500 Loss 0.5018 Accuracy 74.9021 AUC 0.7970\n",
            "Epoch 111 TRAIN Batch 550 Loss 0.5018 Accuracy 74.9019 AUC 0.7970\n",
            "Epoch 111 TRAIN Batch 600 Loss 0.5018 Accuracy 74.8967 AUC 0.7970\n",
            "Epoch 111 TRAIN Batch 650 Loss 0.5017 Accuracy 74.9012 AUC 0.7970\n",
            "Epoch 111 TRAIN Batch 700 Loss 0.5017 Accuracy 74.9055 AUC 0.7970\n",
            "Epoch 111 TRAIN Batch 750 Loss 0.5016 Accuracy 74.9087 AUC 0.7970\n"
          ],
          "name": "stdout"
        },
        {
          "output_type": "stream",
          "text": [
            "24-12 06:08 root         INFO     Epoch TRAIN 111 Loss 0.5016 Accuracy 74.9040 AUC 0.7969\n"
          ],
          "name": "stderr"
        },
        {
          "output_type": "stream",
          "text": [
            "Time taken for 1 epoch: 239.04180431365967 secs\n",
            "\n",
            "Epoch 112 TRAIN Batch 0 Loss 0.4985 Accuracy 74.7184 AUC 0.8006\n",
            "Epoch 112 TRAIN Batch 50 Loss 0.5034 Accuracy 74.7244 AUC 0.7963\n",
            "Epoch 112 TRAIN Batch 100 Loss 0.5024 Accuracy 74.8208 AUC 0.7961\n",
            "Epoch 112 TRAIN Batch 150 Loss 0.5023 Accuracy 74.8279 AUC 0.7963\n",
            "Epoch 112 TRAIN Batch 200 Loss 0.5020 Accuracy 74.8534 AUC 0.7966\n",
            "Epoch 112 TRAIN Batch 250 Loss 0.5015 Accuracy 74.8809 AUC 0.7967\n",
            "Epoch 112 TRAIN Batch 300 Loss 0.5014 Accuracy 74.9043 AUC 0.7970\n",
            "Epoch 112 TRAIN Batch 350 Loss 0.5011 Accuracy 74.9242 AUC 0.7971\n",
            "Epoch 112 TRAIN Batch 400 Loss 0.5009 Accuracy 74.9468 AUC 0.7972\n",
            "Epoch 112 TRAIN Batch 450 Loss 0.5009 Accuracy 74.9683 AUC 0.7972\n",
            "Epoch 112 TRAIN Batch 500 Loss 0.5013 Accuracy 74.9359 AUC 0.7969\n",
            "Epoch 112 TRAIN Batch 550 Loss 0.5013 Accuracy 74.9372 AUC 0.7970\n",
            "Epoch 112 TRAIN Batch 600 Loss 0.5013 Accuracy 74.9388 AUC 0.7971\n",
            "Epoch 112 TRAIN Batch 650 Loss 0.5011 Accuracy 74.9466 AUC 0.7972\n",
            "Epoch 112 TRAIN Batch 700 Loss 0.5012 Accuracy 74.9415 AUC 0.7971\n",
            "Epoch 112 TRAIN Batch 750 Loss 0.5012 Accuracy 74.9404 AUC 0.7971\n"
          ],
          "name": "stdout"
        },
        {
          "output_type": "stream",
          "text": [
            "24-12 06:12 root         INFO     Epoch TRAIN 112 Loss 0.5012 Accuracy 74.9382 AUC 0.7971\n"
          ],
          "name": "stderr"
        },
        {
          "output_type": "stream",
          "text": [
            "Time taken for 1 epoch: 239.98412537574768 secs\n",
            "\n",
            "Epoch 113 TRAIN Batch 0 Loss 0.4930 Accuracy 75.5772 AUC 0.7941\n",
            "Epoch 113 TRAIN Batch 50 Loss 0.5012 Accuracy 74.9640 AUC 0.7986\n",
            "Epoch 113 TRAIN Batch 100 Loss 0.5015 Accuracy 74.9452 AUC 0.7978\n",
            "Epoch 113 TRAIN Batch 150 Loss 0.5022 Accuracy 74.8832 AUC 0.7973\n",
            "Epoch 113 TRAIN Batch 200 Loss 0.5013 Accuracy 74.9447 AUC 0.7978\n",
            "Epoch 113 TRAIN Batch 250 Loss 0.5006 Accuracy 74.9933 AUC 0.7979\n",
            "Epoch 113 TRAIN Batch 300 Loss 0.5012 Accuracy 74.9473 AUC 0.7975\n",
            "Epoch 113 TRAIN Batch 350 Loss 0.5010 Accuracy 74.9624 AUC 0.7974\n",
            "Epoch 113 TRAIN Batch 400 Loss 0.5009 Accuracy 74.9708 AUC 0.7974\n",
            "Epoch 113 TRAIN Batch 450 Loss 0.5006 Accuracy 74.9905 AUC 0.7975\n",
            "Epoch 113 TRAIN Batch 500 Loss 0.5005 Accuracy 74.9933 AUC 0.7975\n",
            "Epoch 113 TRAIN Batch 550 Loss 0.5005 Accuracy 74.9920 AUC 0.7975\n",
            "Epoch 113 TRAIN Batch 600 Loss 0.5006 Accuracy 74.9869 AUC 0.7974\n",
            "Epoch 113 TRAIN Batch 650 Loss 0.5007 Accuracy 74.9727 AUC 0.7974\n",
            "Epoch 113 TRAIN Batch 700 Loss 0.5009 Accuracy 74.9573 AUC 0.7973\n",
            "Epoch 113 TRAIN Batch 750 Loss 0.5010 Accuracy 74.9487 AUC 0.7973\n"
          ],
          "name": "stdout"
        },
        {
          "output_type": "stream",
          "text": [
            "24-12 06:16 root         INFO     Epoch TRAIN 113 Loss 0.5012 Accuracy 74.9370 AUC 0.7972\n"
          ],
          "name": "stderr"
        },
        {
          "output_type": "stream",
          "text": [
            "Time taken for 1 epoch: 240.8537380695343 secs\n",
            "\n",
            "Epoch 114 TRAIN Batch 0 Loss 0.4952 Accuracy 75.4773 AUC 0.8018\n",
            "Epoch 114 TRAIN Batch 50 Loss 0.4987 Accuracy 75.1592 AUC 0.7986\n",
            "Epoch 114 TRAIN Batch 100 Loss 0.5002 Accuracy 75.0212 AUC 0.7978\n",
            "Epoch 114 TRAIN Batch 150 Loss 0.5012 Accuracy 74.9623 AUC 0.7969\n",
            "Epoch 114 TRAIN Batch 200 Loss 0.5013 Accuracy 74.9437 AUC 0.7969\n",
            "Epoch 114 TRAIN Batch 250 Loss 0.5013 Accuracy 74.9387 AUC 0.7970\n",
            "Epoch 114 TRAIN Batch 300 Loss 0.5011 Accuracy 74.9420 AUC 0.7972\n",
            "Epoch 114 TRAIN Batch 350 Loss 0.5013 Accuracy 74.9222 AUC 0.7969\n",
            "Epoch 114 TRAIN Batch 400 Loss 0.5012 Accuracy 74.9279 AUC 0.7968\n",
            "Epoch 114 TRAIN Batch 450 Loss 0.5012 Accuracy 74.9365 AUC 0.7969\n",
            "Epoch 114 TRAIN Batch 500 Loss 0.5014 Accuracy 74.9315 AUC 0.7969\n",
            "Epoch 114 TRAIN Batch 550 Loss 0.5014 Accuracy 74.9316 AUC 0.7969\n",
            "Epoch 114 TRAIN Batch 600 Loss 0.5010 Accuracy 74.9534 AUC 0.7971\n",
            "Epoch 114 TRAIN Batch 650 Loss 0.5011 Accuracy 74.9425 AUC 0.7971\n",
            "Epoch 114 TRAIN Batch 700 Loss 0.5013 Accuracy 74.9261 AUC 0.7970\n",
            "Epoch 114 TRAIN Batch 750 Loss 0.5013 Accuracy 74.9260 AUC 0.7971\n"
          ],
          "name": "stdout"
        },
        {
          "output_type": "stream",
          "text": [
            "24-12 06:20 root         INFO     Epoch TRAIN 114 Loss 0.5012 Accuracy 74.9345 AUC 0.7971\n"
          ],
          "name": "stderr"
        },
        {
          "output_type": "stream",
          "text": [
            "Time taken for 1 epoch: 240.785297870636 secs\n",
            "\n",
            "Epoch 115 TRAIN Batch 0 Loss 0.4886 Accuracy 75.7149 AUC 0.7970\n",
            "Epoch 115 TRAIN Batch 50 Loss 0.5002 Accuracy 74.9943 AUC 0.7970\n",
            "Epoch 115 TRAIN Batch 100 Loss 0.5013 Accuracy 74.9273 AUC 0.7972\n",
            "Epoch 115 TRAIN Batch 150 Loss 0.5014 Accuracy 74.9321 AUC 0.7973\n",
            "Epoch 115 TRAIN Batch 200 Loss 0.5017 Accuracy 74.9108 AUC 0.7972\n",
            "Epoch 115 TRAIN Batch 250 Loss 0.5015 Accuracy 74.9262 AUC 0.7972\n",
            "Epoch 115 TRAIN Batch 300 Loss 0.5015 Accuracy 74.9272 AUC 0.7971\n",
            "Epoch 115 TRAIN Batch 350 Loss 0.5015 Accuracy 74.9329 AUC 0.7971\n",
            "Epoch 115 TRAIN Batch 400 Loss 0.5015 Accuracy 74.9190 AUC 0.7970\n",
            "Epoch 115 TRAIN Batch 450 Loss 0.5015 Accuracy 74.9197 AUC 0.7970\n",
            "Epoch 115 TRAIN Batch 500 Loss 0.5015 Accuracy 74.9171 AUC 0.7970\n",
            "Epoch 115 TRAIN Batch 550 Loss 0.5016 Accuracy 74.9197 AUC 0.7970\n",
            "Epoch 115 TRAIN Batch 600 Loss 0.5015 Accuracy 74.9185 AUC 0.7971\n",
            "Epoch 115 TRAIN Batch 650 Loss 0.5015 Accuracy 74.9187 AUC 0.7970\n",
            "Epoch 115 TRAIN Batch 700 Loss 0.5015 Accuracy 74.9222 AUC 0.7970\n",
            "Epoch 115 TRAIN Batch 750 Loss 0.5014 Accuracy 74.9279 AUC 0.7971\n"
          ],
          "name": "stdout"
        },
        {
          "output_type": "stream",
          "text": [
            "24-12 06:24 root         INFO     Epoch TRAIN 115 Loss 0.5013 Accuracy 74.9334 AUC 0.7971\n"
          ],
          "name": "stderr"
        },
        {
          "output_type": "stream",
          "text": [
            "Epoch 115 VAL Batch 0 Loss 0.5095 Accuracy 74.7743 AUC 0.7876\n",
            "Epoch 115 VAL Batch 50 Loss 0.5075 Accuracy 74.6218 AUC 0.7927\n",
            "Epoch 115 VAL Batch 100 Loss 0.5076 Accuracy 74.5763 AUC 0.7934\n",
            "Epoch 115 VAL Batch 150 Loss 0.5067 Accuracy 74.6463 AUC 0.7939\n",
            "Epoch 115 VAL Batch 200 Loss 0.5066 Accuracy 74.6599 AUC 0.7938\n",
            "Epoch 115 VAL Batch 250 Loss 0.5067 Accuracy 74.6345 AUC 0.7938\n",
            "Epoch 115 VAL Batch 300 Loss 0.5064 Accuracy 74.6540 AUC 0.7939\n",
            "Epoch 115 VAL Batch 350 Loss 0.5064 Accuracy 74.6514 AUC 0.7939\n",
            "Epoch 115 VAL Batch 400 Loss 0.5064 Accuracy 74.6534 AUC 0.7938\n",
            "Epoch 115 VAL Batch 450 Loss 0.5064 Accuracy 74.6559 AUC 0.7937\n",
            "Epoch 115 VAL Batch 500 Loss 0.5063 Accuracy 74.6569 AUC 0.7938\n",
            "Epoch 115 VAL Batch 550 Loss 0.5064 Accuracy 74.6588 AUC 0.7938\n",
            "Epoch 115 VAL Batch 600 Loss 0.5065 Accuracy 74.6510 AUC 0.7938\n",
            "Epoch 115 VAL Batch 650 Loss 0.5065 Accuracy 74.6562 AUC 0.7937\n",
            "Epoch 115 VAL Batch 700 Loss 0.5066 Accuracy 74.6509 AUC 0.7937\n",
            "Epoch 115 VAL Batch 750 Loss 0.5066 Accuracy 74.6493 AUC 0.7938\n"
          ],
          "name": "stdout"
        },
        {
          "output_type": "stream",
          "text": [
            "24-12 06:24 root         INFO     Epoch VAL 115 Loss 0.5066 Accuracy 74.6463 AUC 0.7937\n"
          ],
          "name": "stderr"
        },
        {
          "output_type": "stream",
          "text": [
            "Time taken for 1 epoch: 265.2556483745575 secs\n",
            "\n",
            "Epoch 116 TRAIN Batch 0 Loss 0.5075 Accuracy 74.5602 AUC 0.7916\n",
            "Epoch 116 TRAIN Batch 50 Loss 0.5028 Accuracy 74.8246 AUC 0.7962\n",
            "Epoch 116 TRAIN Batch 100 Loss 0.5010 Accuracy 74.9576 AUC 0.7970\n",
            "Epoch 116 TRAIN Batch 150 Loss 0.5008 Accuracy 74.9504 AUC 0.7975\n",
            "Epoch 116 TRAIN Batch 200 Loss 0.5011 Accuracy 74.9457 AUC 0.7974\n",
            "Epoch 116 TRAIN Batch 250 Loss 0.5014 Accuracy 74.9282 AUC 0.7971\n",
            "Epoch 116 TRAIN Batch 300 Loss 0.5015 Accuracy 74.9158 AUC 0.7971\n",
            "Epoch 116 TRAIN Batch 350 Loss 0.5012 Accuracy 74.9411 AUC 0.7972\n",
            "Epoch 116 TRAIN Batch 400 Loss 0.5011 Accuracy 74.9370 AUC 0.7971\n",
            "Epoch 116 TRAIN Batch 450 Loss 0.5009 Accuracy 74.9556 AUC 0.7971\n",
            "Epoch 116 TRAIN Batch 500 Loss 0.5009 Accuracy 74.9611 AUC 0.7972\n",
            "Epoch 116 TRAIN Batch 550 Loss 0.5010 Accuracy 74.9610 AUC 0.7973\n",
            "Epoch 116 TRAIN Batch 600 Loss 0.5009 Accuracy 74.9683 AUC 0.7973\n",
            "Epoch 116 TRAIN Batch 650 Loss 0.5009 Accuracy 74.9666 AUC 0.7973\n",
            "Epoch 116 TRAIN Batch 700 Loss 0.5009 Accuracy 74.9709 AUC 0.7973\n",
            "Epoch 116 TRAIN Batch 750 Loss 0.5009 Accuracy 74.9763 AUC 0.7974\n"
          ],
          "name": "stdout"
        },
        {
          "output_type": "stream",
          "text": [
            "24-12 06:28 root         INFO     Epoch TRAIN 116 Loss 0.5008 Accuracy 74.9795 AUC 0.7975\n"
          ],
          "name": "stderr"
        },
        {
          "output_type": "stream",
          "text": [
            "Time taken for 1 epoch: 238.9632065296173 secs\n",
            "\n",
            "Epoch 117 TRAIN Batch 0 Loss 0.4890 Accuracy 75.9426 AUC 0.8016\n",
            "Epoch 117 TRAIN Batch 50 Loss 0.5029 Accuracy 74.8689 AUC 0.7969\n",
            "Epoch 117 TRAIN Batch 100 Loss 0.5014 Accuracy 74.9360 AUC 0.7972\n",
            "Epoch 117 TRAIN Batch 150 Loss 0.5015 Accuracy 74.9338 AUC 0.7971\n",
            "Epoch 117 TRAIN Batch 200 Loss 0.5016 Accuracy 74.9229 AUC 0.7971\n",
            "Epoch 117 TRAIN Batch 250 Loss 0.5013 Accuracy 74.9406 AUC 0.7973\n",
            "Epoch 117 TRAIN Batch 300 Loss 0.5014 Accuracy 74.9240 AUC 0.7971\n",
            "Epoch 117 TRAIN Batch 350 Loss 0.5012 Accuracy 74.9391 AUC 0.7974\n",
            "Epoch 117 TRAIN Batch 400 Loss 0.5011 Accuracy 74.9444 AUC 0.7973\n",
            "Epoch 117 TRAIN Batch 450 Loss 0.5013 Accuracy 74.9282 AUC 0.7973\n",
            "Epoch 117 TRAIN Batch 500 Loss 0.5011 Accuracy 74.9408 AUC 0.7973\n",
            "Epoch 117 TRAIN Batch 550 Loss 0.5011 Accuracy 74.9396 AUC 0.7974\n",
            "Epoch 117 TRAIN Batch 600 Loss 0.5011 Accuracy 74.9473 AUC 0.7974\n",
            "Epoch 117 TRAIN Batch 650 Loss 0.5012 Accuracy 74.9380 AUC 0.7974\n",
            "Epoch 117 TRAIN Batch 700 Loss 0.5011 Accuracy 74.9390 AUC 0.7974\n",
            "Epoch 117 TRAIN Batch 750 Loss 0.5012 Accuracy 74.9365 AUC 0.7973\n"
          ],
          "name": "stdout"
        },
        {
          "output_type": "stream",
          "text": [
            "24-12 06:32 root         INFO     Epoch TRAIN 117 Loss 0.5012 Accuracy 74.9347 AUC 0.7973\n"
          ],
          "name": "stderr"
        },
        {
          "output_type": "stream",
          "text": [
            "Time taken for 1 epoch: 239.57475066184998 secs\n",
            "\n",
            "Epoch 118 TRAIN Batch 0 Loss 0.5012 Accuracy 75.1447 AUC 0.7951\n",
            "Epoch 118 TRAIN Batch 50 Loss 0.5010 Accuracy 74.9301 AUC 0.7973\n",
            "Epoch 118 TRAIN Batch 100 Loss 0.5013 Accuracy 74.9358 AUC 0.7971\n",
            "Epoch 118 TRAIN Batch 150 Loss 0.5010 Accuracy 74.9395 AUC 0.7971\n",
            "Epoch 118 TRAIN Batch 200 Loss 0.5011 Accuracy 74.9368 AUC 0.7970\n",
            "Epoch 118 TRAIN Batch 250 Loss 0.5012 Accuracy 74.9393 AUC 0.7971\n",
            "Epoch 118 TRAIN Batch 300 Loss 0.5014 Accuracy 74.9241 AUC 0.7969\n",
            "Epoch 118 TRAIN Batch 350 Loss 0.5013 Accuracy 74.9251 AUC 0.7971\n",
            "Epoch 118 TRAIN Batch 400 Loss 0.5014 Accuracy 74.9171 AUC 0.7971\n",
            "Epoch 118 TRAIN Batch 450 Loss 0.5013 Accuracy 74.9229 AUC 0.7971\n",
            "Epoch 118 TRAIN Batch 500 Loss 0.5013 Accuracy 74.9280 AUC 0.7971\n",
            "Epoch 118 TRAIN Batch 550 Loss 0.5013 Accuracy 74.9271 AUC 0.7971\n",
            "Epoch 118 TRAIN Batch 600 Loss 0.5013 Accuracy 74.9330 AUC 0.7971\n",
            "Epoch 118 TRAIN Batch 650 Loss 0.5011 Accuracy 74.9418 AUC 0.7972\n",
            "Epoch 118 TRAIN Batch 700 Loss 0.5011 Accuracy 74.9449 AUC 0.7971\n",
            "Epoch 118 TRAIN Batch 750 Loss 0.5011 Accuracy 74.9460 AUC 0.7971\n"
          ],
          "name": "stdout"
        },
        {
          "output_type": "stream",
          "text": [
            "24-12 06:36 root         INFO     Epoch TRAIN 118 Loss 0.5012 Accuracy 74.9350 AUC 0.7971\n"
          ],
          "name": "stderr"
        },
        {
          "output_type": "stream",
          "text": [
            "Time taken for 1 epoch: 239.60118794441223 secs\n",
            "\n",
            "Epoch 119 TRAIN Batch 0 Loss 0.4989 Accuracy 75.2036 AUC 0.7939\n",
            "Epoch 119 TRAIN Batch 50 Loss 0.5030 Accuracy 74.8017 AUC 0.7971\n",
            "Epoch 119 TRAIN Batch 100 Loss 0.5028 Accuracy 74.8296 AUC 0.7966\n",
            "Epoch 119 TRAIN Batch 150 Loss 0.5024 Accuracy 74.8507 AUC 0.7965\n",
            "Epoch 119 TRAIN Batch 200 Loss 0.5023 Accuracy 74.8671 AUC 0.7966\n",
            "Epoch 119 TRAIN Batch 250 Loss 0.5022 Accuracy 74.8815 AUC 0.7967\n",
            "Epoch 119 TRAIN Batch 300 Loss 0.5021 Accuracy 74.8930 AUC 0.7968\n",
            "Epoch 119 TRAIN Batch 350 Loss 0.5018 Accuracy 74.9038 AUC 0.7969\n",
            "Epoch 119 TRAIN Batch 400 Loss 0.5018 Accuracy 74.9003 AUC 0.7969\n",
            "Epoch 119 TRAIN Batch 450 Loss 0.5016 Accuracy 74.9162 AUC 0.7970\n",
            "Epoch 119 TRAIN Batch 500 Loss 0.5015 Accuracy 74.9192 AUC 0.7971\n",
            "Epoch 119 TRAIN Batch 550 Loss 0.5014 Accuracy 74.9346 AUC 0.7972\n",
            "Epoch 119 TRAIN Batch 600 Loss 0.5015 Accuracy 74.9262 AUC 0.7972\n",
            "Epoch 119 TRAIN Batch 650 Loss 0.5015 Accuracy 74.9203 AUC 0.7972\n",
            "Epoch 119 TRAIN Batch 700 Loss 0.5015 Accuracy 74.9159 AUC 0.7972\n",
            "Epoch 119 TRAIN Batch 750 Loss 0.5014 Accuracy 74.9221 AUC 0.7972\n"
          ],
          "name": "stdout"
        },
        {
          "output_type": "stream",
          "text": [
            "24-12 06:40 root         INFO     Epoch TRAIN 119 Loss 0.5014 Accuracy 74.9246 AUC 0.7972\n"
          ],
          "name": "stderr"
        },
        {
          "output_type": "stream",
          "text": [
            "Time taken for 1 epoch: 240.9913125038147 secs\n",
            "\n",
            "Epoch 120 TRAIN Batch 0 Loss 0.4911 Accuracy 76.0113 AUC 0.7977\n",
            "Epoch 120 TRAIN Batch 50 Loss 0.5028 Accuracy 74.8546 AUC 0.7978\n",
            "Epoch 120 TRAIN Batch 100 Loss 0.5030 Accuracy 74.7965 AUC 0.7969\n",
            "Epoch 120 TRAIN Batch 150 Loss 0.5021 Accuracy 74.8477 AUC 0.7970\n",
            "Epoch 120 TRAIN Batch 200 Loss 0.5017 Accuracy 74.8781 AUC 0.7974\n",
            "Epoch 120 TRAIN Batch 250 Loss 0.5017 Accuracy 74.8870 AUC 0.7972\n",
            "Epoch 120 TRAIN Batch 300 Loss 0.5019 Accuracy 74.8773 AUC 0.7972\n",
            "Epoch 120 TRAIN Batch 350 Loss 0.5014 Accuracy 74.9087 AUC 0.7975\n",
            "Epoch 120 TRAIN Batch 400 Loss 0.5015 Accuracy 74.8958 AUC 0.7973\n",
            "Epoch 120 TRAIN Batch 450 Loss 0.5014 Accuracy 74.8996 AUC 0.7974\n",
            "Epoch 120 TRAIN Batch 500 Loss 0.5013 Accuracy 74.9083 AUC 0.7975\n",
            "Epoch 120 TRAIN Batch 550 Loss 0.5013 Accuracy 74.9115 AUC 0.7975\n",
            "Epoch 120 TRAIN Batch 600 Loss 0.5012 Accuracy 74.9165 AUC 0.7975\n",
            "Epoch 120 TRAIN Batch 650 Loss 0.5012 Accuracy 74.9175 AUC 0.7975\n",
            "Epoch 120 TRAIN Batch 700 Loss 0.5011 Accuracy 74.9170 AUC 0.7975\n",
            "Epoch 120 TRAIN Batch 750 Loss 0.5011 Accuracy 74.9151 AUC 0.7975\n"
          ],
          "name": "stdout"
        },
        {
          "output_type": "stream",
          "text": [
            "24-12 06:44 root         INFO     Epoch TRAIN 120 Loss 0.5011 Accuracy 74.9171 AUC 0.7975\n"
          ],
          "name": "stderr"
        },
        {
          "output_type": "stream",
          "text": [
            "Epoch 120 VAL Batch 0 Loss 0.5104 Accuracy 74.9877 AUC 0.7862\n",
            "Epoch 120 VAL Batch 50 Loss 0.5067 Accuracy 74.6998 AUC 0.7930\n",
            "Epoch 120 VAL Batch 100 Loss 0.5068 Accuracy 74.6398 AUC 0.7936\n",
            "Epoch 120 VAL Batch 150 Loss 0.5059 Accuracy 74.7134 AUC 0.7941\n",
            "Epoch 120 VAL Batch 200 Loss 0.5059 Accuracy 74.7247 AUC 0.7940\n",
            "Epoch 120 VAL Batch 250 Loss 0.5059 Accuracy 74.7014 AUC 0.7940\n",
            "Epoch 120 VAL Batch 300 Loss 0.5057 Accuracy 74.7171 AUC 0.7941\n",
            "Epoch 120 VAL Batch 350 Loss 0.5057 Accuracy 74.7146 AUC 0.7940\n",
            "Epoch 120 VAL Batch 400 Loss 0.5057 Accuracy 74.7197 AUC 0.7940\n",
            "Epoch 120 VAL Batch 450 Loss 0.5056 Accuracy 74.7270 AUC 0.7939\n",
            "Epoch 120 VAL Batch 500 Loss 0.5055 Accuracy 74.7277 AUC 0.7939\n",
            "Epoch 120 VAL Batch 550 Loss 0.5056 Accuracy 74.7287 AUC 0.7940\n",
            "Epoch 120 VAL Batch 600 Loss 0.5057 Accuracy 74.7206 AUC 0.7940\n",
            "Epoch 120 VAL Batch 650 Loss 0.5057 Accuracy 74.7241 AUC 0.7939\n",
            "Epoch 120 VAL Batch 700 Loss 0.5058 Accuracy 74.7182 AUC 0.7939\n",
            "Epoch 120 VAL Batch 750 Loss 0.5058 Accuracy 74.7151 AUC 0.7939\n"
          ],
          "name": "stdout"
        },
        {
          "output_type": "stream",
          "text": [
            "24-12 06:45 root         INFO     Epoch VAL 120 Loss 0.5059 Accuracy 74.7100 AUC 0.7939\n",
            "24-12 06:45 root         INFO     Saving checkpoint for epoch 120 at 23-Dec-riiid-2/checkpoints/ckpt-21\n"
          ],
          "name": "stderr"
        },
        {
          "output_type": "stream",
          "text": [
            "Time taken for 1 epoch: 266.48108291625977 secs\n",
            "\n",
            "Epoch 121 TRAIN Batch 0 Loss 0.4953 Accuracy 75.2529 AUC 0.7962\n",
            "Epoch 121 TRAIN Batch 50 Loss 0.5016 Accuracy 74.8991 AUC 0.7969\n",
            "Epoch 121 TRAIN Batch 100 Loss 0.5015 Accuracy 74.9291 AUC 0.7972\n",
            "Epoch 121 TRAIN Batch 150 Loss 0.5011 Accuracy 74.9727 AUC 0.7975\n",
            "Epoch 121 TRAIN Batch 200 Loss 0.5007 Accuracy 75.0032 AUC 0.7977\n",
            "Epoch 121 TRAIN Batch 250 Loss 0.5007 Accuracy 74.9810 AUC 0.7977\n",
            "Epoch 121 TRAIN Batch 300 Loss 0.5007 Accuracy 74.9868 AUC 0.7977\n",
            "Epoch 121 TRAIN Batch 350 Loss 0.5009 Accuracy 74.9652 AUC 0.7976\n",
            "Epoch 121 TRAIN Batch 400 Loss 0.5009 Accuracy 74.9648 AUC 0.7976\n",
            "Epoch 121 TRAIN Batch 450 Loss 0.5009 Accuracy 74.9681 AUC 0.7976\n",
            "Epoch 121 TRAIN Batch 500 Loss 0.5010 Accuracy 74.9639 AUC 0.7976\n",
            "Epoch 121 TRAIN Batch 550 Loss 0.5008 Accuracy 74.9732 AUC 0.7976\n",
            "Epoch 121 TRAIN Batch 600 Loss 0.5009 Accuracy 74.9658 AUC 0.7976\n",
            "Epoch 121 TRAIN Batch 650 Loss 0.5009 Accuracy 74.9615 AUC 0.7976\n",
            "Epoch 121 TRAIN Batch 700 Loss 0.5008 Accuracy 74.9647 AUC 0.7977\n",
            "Epoch 121 TRAIN Batch 750 Loss 0.5008 Accuracy 74.9633 AUC 0.7977\n"
          ],
          "name": "stdout"
        },
        {
          "output_type": "stream",
          "text": [
            "24-12 06:49 root         INFO     Epoch TRAIN 121 Loss 0.5007 Accuracy 74.9688 AUC 0.7977\n"
          ],
          "name": "stderr"
        },
        {
          "output_type": "stream",
          "text": [
            "Time taken for 1 epoch: 237.0300407409668 secs\n",
            "\n",
            "Epoch 122 TRAIN Batch 0 Loss 0.5061 Accuracy 74.5487 AUC 0.7924\n",
            "Epoch 122 TRAIN Batch 50 Loss 0.5006 Accuracy 74.9907 AUC 0.7983\n",
            "Epoch 122 TRAIN Batch 100 Loss 0.4995 Accuracy 75.0728 AUC 0.7983\n",
            "Epoch 122 TRAIN Batch 150 Loss 0.4992 Accuracy 75.0989 AUC 0.7983\n",
            "Epoch 122 TRAIN Batch 200 Loss 0.4996 Accuracy 75.0525 AUC 0.7981\n",
            "Epoch 122 TRAIN Batch 250 Loss 0.4997 Accuracy 75.0260 AUC 0.7980\n",
            "Epoch 122 TRAIN Batch 300 Loss 0.5000 Accuracy 75.0070 AUC 0.7978\n",
            "Epoch 122 TRAIN Batch 350 Loss 0.4999 Accuracy 75.0061 AUC 0.7980\n",
            "Epoch 122 TRAIN Batch 400 Loss 0.4998 Accuracy 75.0109 AUC 0.7980\n",
            "Epoch 122 TRAIN Batch 450 Loss 0.4997 Accuracy 75.0224 AUC 0.7981\n",
            "Epoch 122 TRAIN Batch 500 Loss 0.4997 Accuracy 75.0224 AUC 0.7980\n",
            "Epoch 122 TRAIN Batch 550 Loss 0.4998 Accuracy 75.0190 AUC 0.7980\n",
            "Epoch 122 TRAIN Batch 600 Loss 0.4998 Accuracy 75.0157 AUC 0.7980\n",
            "Epoch 122 TRAIN Batch 650 Loss 0.4999 Accuracy 75.0072 AUC 0.7979\n",
            "Epoch 122 TRAIN Batch 700 Loss 0.5001 Accuracy 74.9960 AUC 0.7979\n",
            "Epoch 122 TRAIN Batch 750 Loss 0.5002 Accuracy 74.9906 AUC 0.7979\n"
          ],
          "name": "stdout"
        },
        {
          "output_type": "stream",
          "text": [
            "24-12 06:53 root         INFO     Epoch TRAIN 122 Loss 0.5002 Accuracy 74.9874 AUC 0.7979\n"
          ],
          "name": "stderr"
        },
        {
          "output_type": "stream",
          "text": [
            "Time taken for 1 epoch: 237.22896552085876 secs\n",
            "\n",
            "Epoch 123 TRAIN Batch 0 Loss 0.5066 Accuracy 74.0908 AUC 0.7912\n",
            "Epoch 123 TRAIN Batch 50 Loss 0.5013 Accuracy 74.9322 AUC 0.7977\n",
            "Epoch 123 TRAIN Batch 100 Loss 0.5004 Accuracy 74.9959 AUC 0.7982\n",
            "Epoch 123 TRAIN Batch 150 Loss 0.5003 Accuracy 74.9893 AUC 0.7980\n",
            "Epoch 123 TRAIN Batch 200 Loss 0.5002 Accuracy 74.9865 AUC 0.7979\n",
            "Epoch 123 TRAIN Batch 250 Loss 0.5001 Accuracy 75.0030 AUC 0.7981\n",
            "Epoch 123 TRAIN Batch 300 Loss 0.5002 Accuracy 74.9990 AUC 0.7979\n",
            "Epoch 123 TRAIN Batch 350 Loss 0.5002 Accuracy 74.9924 AUC 0.7979\n",
            "Epoch 123 TRAIN Batch 400 Loss 0.5003 Accuracy 74.9857 AUC 0.7978\n",
            "Epoch 123 TRAIN Batch 450 Loss 0.5003 Accuracy 74.9822 AUC 0.7977\n",
            "Epoch 123 TRAIN Batch 500 Loss 0.5003 Accuracy 74.9796 AUC 0.7978\n",
            "Epoch 123 TRAIN Batch 550 Loss 0.5003 Accuracy 74.9886 AUC 0.7978\n",
            "Epoch 123 TRAIN Batch 600 Loss 0.5003 Accuracy 74.9921 AUC 0.7978\n",
            "Epoch 123 TRAIN Batch 650 Loss 0.5004 Accuracy 74.9878 AUC 0.7977\n",
            "Epoch 123 TRAIN Batch 700 Loss 0.5005 Accuracy 74.9796 AUC 0.7976\n",
            "Epoch 123 TRAIN Batch 750 Loss 0.5005 Accuracy 74.9823 AUC 0.7976\n"
          ],
          "name": "stdout"
        },
        {
          "output_type": "stream",
          "text": [
            "24-12 06:56 root         INFO     Epoch TRAIN 123 Loss 0.5006 Accuracy 74.9738 AUC 0.7976\n"
          ],
          "name": "stderr"
        },
        {
          "output_type": "stream",
          "text": [
            "Time taken for 1 epoch: 235.4119746685028 secs\n",
            "\n",
            "Epoch 124 TRAIN Batch 0 Loss 0.5007 Accuracy 75.1991 AUC 0.7978\n",
            "Epoch 124 TRAIN Batch 50 Loss 0.5005 Accuracy 74.9969 AUC 0.7977\n",
            "Epoch 124 TRAIN Batch 100 Loss 0.5005 Accuracy 75.0125 AUC 0.7978\n",
            "Epoch 124 TRAIN Batch 150 Loss 0.5009 Accuracy 74.9887 AUC 0.7976\n",
            "Epoch 124 TRAIN Batch 200 Loss 0.4999 Accuracy 75.0593 AUC 0.7985\n",
            "Epoch 124 TRAIN Batch 250 Loss 0.4993 Accuracy 75.1014 AUC 0.7986\n",
            "Epoch 124 TRAIN Batch 300 Loss 0.4992 Accuracy 75.1082 AUC 0.7987\n",
            "Epoch 124 TRAIN Batch 350 Loss 0.4993 Accuracy 75.0907 AUC 0.7985\n",
            "Epoch 124 TRAIN Batch 400 Loss 0.4994 Accuracy 75.0802 AUC 0.7986\n",
            "Epoch 124 TRAIN Batch 450 Loss 0.4995 Accuracy 75.0686 AUC 0.7984\n",
            "Epoch 124 TRAIN Batch 500 Loss 0.4995 Accuracy 75.0684 AUC 0.7983\n",
            "Epoch 124 TRAIN Batch 550 Loss 0.4996 Accuracy 75.0633 AUC 0.7983\n",
            "Epoch 124 TRAIN Batch 600 Loss 0.4997 Accuracy 75.0599 AUC 0.7982\n",
            "Epoch 124 TRAIN Batch 650 Loss 0.4997 Accuracy 75.0540 AUC 0.7982\n",
            "Epoch 124 TRAIN Batch 700 Loss 0.5000 Accuracy 75.0371 AUC 0.7980\n",
            "Epoch 124 TRAIN Batch 750 Loss 0.4999 Accuracy 75.0440 AUC 0.7981\n"
          ],
          "name": "stdout"
        },
        {
          "output_type": "stream",
          "text": [
            "24-12 07:00 root         INFO     Epoch TRAIN 124 Loss 0.4999 Accuracy 75.0429 AUC 0.7981\n"
          ],
          "name": "stderr"
        },
        {
          "output_type": "stream",
          "text": [
            "Time taken for 1 epoch: 236.95370936393738 secs\n",
            "\n",
            "Epoch 125 TRAIN Batch 0 Loss 0.5109 Accuracy 74.4137 AUC 0.7881\n",
            "Epoch 125 TRAIN Batch 50 Loss 0.5013 Accuracy 74.9402 AUC 0.7967\n",
            "Epoch 125 TRAIN Batch 100 Loss 0.5004 Accuracy 74.9924 AUC 0.7972\n",
            "Epoch 125 TRAIN Batch 150 Loss 0.4998 Accuracy 75.0157 AUC 0.7981\n",
            "Epoch 125 TRAIN Batch 200 Loss 0.4998 Accuracy 75.0258 AUC 0.7981\n",
            "Epoch 125 TRAIN Batch 250 Loss 0.4999 Accuracy 75.0163 AUC 0.7981\n",
            "Epoch 125 TRAIN Batch 300 Loss 0.5004 Accuracy 74.9883 AUC 0.7978\n",
            "Epoch 125 TRAIN Batch 350 Loss 0.5004 Accuracy 74.9917 AUC 0.7977\n",
            "Epoch 125 TRAIN Batch 400 Loss 0.5005 Accuracy 74.9827 AUC 0.7977\n",
            "Epoch 125 TRAIN Batch 450 Loss 0.5003 Accuracy 74.9945 AUC 0.7979\n",
            "Epoch 125 TRAIN Batch 500 Loss 0.5004 Accuracy 74.9827 AUC 0.7977\n",
            "Epoch 125 TRAIN Batch 550 Loss 0.5005 Accuracy 74.9726 AUC 0.7976\n",
            "Epoch 125 TRAIN Batch 600 Loss 0.5005 Accuracy 74.9665 AUC 0.7976\n",
            "Epoch 125 TRAIN Batch 650 Loss 0.5006 Accuracy 74.9617 AUC 0.7975\n",
            "Epoch 125 TRAIN Batch 700 Loss 0.5006 Accuracy 74.9647 AUC 0.7975\n",
            "Epoch 125 TRAIN Batch 750 Loss 0.5007 Accuracy 74.9590 AUC 0.7975\n"
          ],
          "name": "stdout"
        },
        {
          "output_type": "stream",
          "text": [
            "24-12 07:04 root         INFO     Epoch TRAIN 125 Loss 0.5008 Accuracy 74.9568 AUC 0.7974\n"
          ],
          "name": "stderr"
        },
        {
          "output_type": "stream",
          "text": [
            "Epoch 125 VAL Batch 0 Loss 0.5092 Accuracy 74.8646 AUC 0.7870\n",
            "Epoch 125 VAL Batch 50 Loss 0.5070 Accuracy 74.6597 AUC 0.7927\n",
            "Epoch 125 VAL Batch 100 Loss 0.5072 Accuracy 74.6260 AUC 0.7934\n",
            "Epoch 125 VAL Batch 150 Loss 0.5062 Accuracy 74.7057 AUC 0.7939\n",
            "Epoch 125 VAL Batch 200 Loss 0.5062 Accuracy 74.7152 AUC 0.7937\n",
            "Epoch 125 VAL Batch 250 Loss 0.5063 Accuracy 74.6889 AUC 0.7937\n",
            "Epoch 125 VAL Batch 300 Loss 0.5061 Accuracy 74.7107 AUC 0.7938\n",
            "Epoch 125 VAL Batch 350 Loss 0.5061 Accuracy 74.7102 AUC 0.7938\n",
            "Epoch 125 VAL Batch 400 Loss 0.5061 Accuracy 74.7148 AUC 0.7937\n",
            "Epoch 125 VAL Batch 450 Loss 0.5060 Accuracy 74.7201 AUC 0.7936\n",
            "Epoch 125 VAL Batch 500 Loss 0.5059 Accuracy 74.7231 AUC 0.7937\n",
            "Epoch 125 VAL Batch 550 Loss 0.5060 Accuracy 74.7209 AUC 0.7937\n",
            "Epoch 125 VAL Batch 600 Loss 0.5061 Accuracy 74.7119 AUC 0.7937\n",
            "Epoch 125 VAL Batch 650 Loss 0.5062 Accuracy 74.7124 AUC 0.7937\n",
            "Epoch 125 VAL Batch 700 Loss 0.5062 Accuracy 74.7076 AUC 0.7936\n",
            "Epoch 125 VAL Batch 750 Loss 0.5062 Accuracy 74.7080 AUC 0.7937\n"
          ],
          "name": "stdout"
        },
        {
          "output_type": "stream",
          "text": [
            "24-12 07:05 root         INFO     Epoch VAL 125 Loss 0.5062 Accuracy 74.7047 AUC 0.7937\n"
          ],
          "name": "stderr"
        },
        {
          "output_type": "stream",
          "text": [
            "Time taken for 1 epoch: 259.26732325553894 secs\n",
            "\n",
            "Epoch 126 TRAIN Batch 0 Loss 0.5096 Accuracy 74.4561 AUC 0.7989\n",
            "Epoch 126 TRAIN Batch 50 Loss 0.5017 Accuracy 74.8996 AUC 0.7970\n",
            "Epoch 126 TRAIN Batch 100 Loss 0.5005 Accuracy 74.9650 AUC 0.7980\n",
            "Epoch 126 TRAIN Batch 150 Loss 0.5002 Accuracy 74.9834 AUC 0.7983\n",
            "Epoch 126 TRAIN Batch 200 Loss 0.4999 Accuracy 75.0222 AUC 0.7984\n",
            "Epoch 126 TRAIN Batch 250 Loss 0.4998 Accuracy 75.0227 AUC 0.7985\n",
            "Epoch 126 TRAIN Batch 300 Loss 0.5000 Accuracy 75.0137 AUC 0.7984\n",
            "Epoch 126 TRAIN Batch 350 Loss 0.5002 Accuracy 75.0021 AUC 0.7983\n",
            "Epoch 126 TRAIN Batch 400 Loss 0.5002 Accuracy 75.0044 AUC 0.7982\n",
            "Epoch 126 TRAIN Batch 450 Loss 0.5003 Accuracy 74.9972 AUC 0.7981\n",
            "Epoch 126 TRAIN Batch 500 Loss 0.5004 Accuracy 74.9895 AUC 0.7980\n",
            "Epoch 126 TRAIN Batch 550 Loss 0.5003 Accuracy 74.9996 AUC 0.7982\n",
            "Epoch 126 TRAIN Batch 600 Loss 0.5003 Accuracy 74.9912 AUC 0.7981\n",
            "Epoch 126 TRAIN Batch 650 Loss 0.5003 Accuracy 74.9917 AUC 0.7981\n",
            "Epoch 126 TRAIN Batch 700 Loss 0.5003 Accuracy 74.9867 AUC 0.7981\n",
            "Epoch 126 TRAIN Batch 750 Loss 0.5004 Accuracy 74.9838 AUC 0.7981\n"
          ],
          "name": "stdout"
        },
        {
          "output_type": "stream",
          "text": [
            "24-12 07:09 root         INFO     Epoch TRAIN 126 Loss 0.5005 Accuracy 74.9818 AUC 0.7980\n"
          ],
          "name": "stderr"
        },
        {
          "output_type": "stream",
          "text": [
            "Time taken for 1 epoch: 235.99174523353577 secs\n",
            "\n",
            "Epoch 127 TRAIN Batch 0 Loss 0.4836 Accuracy 76.2132 AUC 0.8133\n",
            "Epoch 127 TRAIN Batch 50 Loss 0.5021 Accuracy 74.7908 AUC 0.7985\n",
            "Epoch 127 TRAIN Batch 100 Loss 0.5021 Accuracy 74.8641 AUC 0.7978\n",
            "Epoch 127 TRAIN Batch 150 Loss 0.5019 Accuracy 74.8738 AUC 0.7975\n",
            "Epoch 127 TRAIN Batch 200 Loss 0.5016 Accuracy 74.8926 AUC 0.7976\n",
            "Epoch 127 TRAIN Batch 250 Loss 0.5015 Accuracy 74.9093 AUC 0.7975\n",
            "Epoch 127 TRAIN Batch 300 Loss 0.5013 Accuracy 74.9193 AUC 0.7975\n",
            "Epoch 127 TRAIN Batch 350 Loss 0.5008 Accuracy 74.9517 AUC 0.7977\n",
            "Epoch 127 TRAIN Batch 400 Loss 0.5007 Accuracy 74.9582 AUC 0.7979\n",
            "Epoch 127 TRAIN Batch 450 Loss 0.5006 Accuracy 74.9601 AUC 0.7978\n",
            "Epoch 127 TRAIN Batch 500 Loss 0.5005 Accuracy 74.9685 AUC 0.7979\n",
            "Epoch 127 TRAIN Batch 550 Loss 0.5006 Accuracy 74.9554 AUC 0.7978\n",
            "Epoch 127 TRAIN Batch 600 Loss 0.5005 Accuracy 74.9650 AUC 0.7979\n",
            "Epoch 127 TRAIN Batch 650 Loss 0.5006 Accuracy 74.9630 AUC 0.7979\n",
            "Epoch 127 TRAIN Batch 700 Loss 0.5006 Accuracy 74.9592 AUC 0.7978\n",
            "Epoch 127 TRAIN Batch 750 Loss 0.5007 Accuracy 74.9548 AUC 0.7978\n"
          ],
          "name": "stdout"
        },
        {
          "output_type": "stream",
          "text": [
            "24-12 07:13 root         INFO     Epoch TRAIN 127 Loss 0.5005 Accuracy 74.9667 AUC 0.7979\n"
          ],
          "name": "stderr"
        },
        {
          "output_type": "stream",
          "text": [
            "Time taken for 1 epoch: 233.07123589515686 secs\n",
            "\n",
            "Epoch 128 TRAIN Batch 0 Loss 0.4938 Accuracy 75.2109 AUC 0.7972\n",
            "Epoch 128 TRAIN Batch 50 Loss 0.5008 Accuracy 74.8991 AUC 0.7982\n",
            "Epoch 128 TRAIN Batch 100 Loss 0.4999 Accuracy 74.9953 AUC 0.7986\n",
            "Epoch 128 TRAIN Batch 150 Loss 0.5002 Accuracy 74.9949 AUC 0.7983\n",
            "Epoch 128 TRAIN Batch 200 Loss 0.5002 Accuracy 74.9932 AUC 0.7982\n",
            "Epoch 128 TRAIN Batch 250 Loss 0.4999 Accuracy 75.0085 AUC 0.7981\n",
            "Epoch 128 TRAIN Batch 300 Loss 0.5004 Accuracy 74.9858 AUC 0.7979\n",
            "Epoch 128 TRAIN Batch 350 Loss 0.5004 Accuracy 74.9894 AUC 0.7979\n",
            "Epoch 128 TRAIN Batch 400 Loss 0.5005 Accuracy 74.9836 AUC 0.7979\n",
            "Epoch 128 TRAIN Batch 450 Loss 0.5005 Accuracy 74.9834 AUC 0.7979\n",
            "Epoch 128 TRAIN Batch 500 Loss 0.5004 Accuracy 74.9803 AUC 0.7980\n",
            "Epoch 128 TRAIN Batch 550 Loss 0.5006 Accuracy 74.9669 AUC 0.7980\n",
            "Epoch 128 TRAIN Batch 600 Loss 0.5005 Accuracy 74.9732 AUC 0.7980\n",
            "Epoch 128 TRAIN Batch 650 Loss 0.5005 Accuracy 74.9793 AUC 0.7981\n",
            "Epoch 128 TRAIN Batch 700 Loss 0.5005 Accuracy 74.9730 AUC 0.7980\n",
            "Epoch 128 TRAIN Batch 750 Loss 0.5006 Accuracy 74.9701 AUC 0.7979\n"
          ],
          "name": "stdout"
        },
        {
          "output_type": "stream",
          "text": [
            "24-12 07:16 root         INFO     Epoch TRAIN 128 Loss 0.5006 Accuracy 74.9692 AUC 0.7979\n"
          ],
          "name": "stderr"
        },
        {
          "output_type": "stream",
          "text": [
            "Time taken for 1 epoch: 235.46797728538513 secs\n",
            "\n",
            "Epoch 129 TRAIN Batch 0 Loss 0.5022 Accuracy 74.7127 AUC 0.7985\n",
            "Epoch 129 TRAIN Batch 50 Loss 0.4983 Accuracy 75.1446 AUC 0.7992\n",
            "Epoch 129 TRAIN Batch 100 Loss 0.5001 Accuracy 75.0117 AUC 0.7980\n",
            "Epoch 129 TRAIN Batch 150 Loss 0.4999 Accuracy 75.0416 AUC 0.7980\n",
            "Epoch 129 TRAIN Batch 200 Loss 0.4995 Accuracy 75.0747 AUC 0.7983\n",
            "Epoch 129 TRAIN Batch 250 Loss 0.4996 Accuracy 75.0576 AUC 0.7982\n",
            "Epoch 129 TRAIN Batch 300 Loss 0.5003 Accuracy 74.9974 AUC 0.7979\n",
            "Epoch 129 TRAIN Batch 350 Loss 0.5003 Accuracy 74.9966 AUC 0.7980\n",
            "Epoch 129 TRAIN Batch 400 Loss 0.5003 Accuracy 74.9948 AUC 0.7980\n",
            "Epoch 129 TRAIN Batch 450 Loss 0.5007 Accuracy 74.9747 AUC 0.7978\n",
            "Epoch 129 TRAIN Batch 500 Loss 0.5005 Accuracy 74.9875 AUC 0.7980\n",
            "Epoch 129 TRAIN Batch 550 Loss 0.5004 Accuracy 74.9944 AUC 0.7979\n",
            "Epoch 129 TRAIN Batch 600 Loss 0.5004 Accuracy 74.9953 AUC 0.7980\n",
            "Epoch 129 TRAIN Batch 650 Loss 0.5005 Accuracy 74.9880 AUC 0.7979\n",
            "Epoch 129 TRAIN Batch 700 Loss 0.5006 Accuracy 74.9837 AUC 0.7979\n",
            "Epoch 129 TRAIN Batch 750 Loss 0.5005 Accuracy 74.9915 AUC 0.7980\n"
          ],
          "name": "stdout"
        },
        {
          "output_type": "stream",
          "text": [
            "24-12 07:20 root         INFO     Epoch TRAIN 129 Loss 0.5004 Accuracy 74.9938 AUC 0.7980\n"
          ],
          "name": "stderr"
        },
        {
          "output_type": "stream",
          "text": [
            "Time taken for 1 epoch: 233.93783164024353 secs\n",
            "\n",
            "Epoch 130 TRAIN Batch 0 Loss 0.5043 Accuracy 74.7919 AUC 0.8007\n",
            "Epoch 130 TRAIN Batch 50 Loss 0.5008 Accuracy 74.9725 AUC 0.7980\n",
            "Epoch 130 TRAIN Batch 100 Loss 0.5006 Accuracy 74.9681 AUC 0.7980\n",
            "Epoch 130 TRAIN Batch 150 Loss 0.5006 Accuracy 74.9739 AUC 0.7982\n",
            "Epoch 130 TRAIN Batch 200 Loss 0.5001 Accuracy 75.0190 AUC 0.7985\n",
            "Epoch 130 TRAIN Batch 250 Loss 0.5004 Accuracy 75.0040 AUC 0.7981\n",
            "Epoch 130 TRAIN Batch 300 Loss 0.5006 Accuracy 74.9912 AUC 0.7981\n",
            "Epoch 130 TRAIN Batch 350 Loss 0.5006 Accuracy 74.9841 AUC 0.7980\n",
            "Epoch 130 TRAIN Batch 400 Loss 0.5006 Accuracy 74.9707 AUC 0.7980\n",
            "Epoch 130 TRAIN Batch 450 Loss 0.5006 Accuracy 74.9731 AUC 0.7981\n",
            "Epoch 130 TRAIN Batch 500 Loss 0.5005 Accuracy 74.9819 AUC 0.7981\n",
            "Epoch 130 TRAIN Batch 550 Loss 0.5004 Accuracy 74.9894 AUC 0.7982\n",
            "Epoch 130 TRAIN Batch 600 Loss 0.5004 Accuracy 74.9913 AUC 0.7981\n",
            "Epoch 130 TRAIN Batch 650 Loss 0.5004 Accuracy 74.9893 AUC 0.7981\n",
            "Epoch 130 TRAIN Batch 700 Loss 0.5005 Accuracy 74.9852 AUC 0.7981\n",
            "Epoch 130 TRAIN Batch 750 Loss 0.5006 Accuracy 74.9748 AUC 0.7980\n"
          ],
          "name": "stdout"
        },
        {
          "output_type": "stream",
          "text": [
            "24-12 07:24 root         INFO     Epoch TRAIN 130 Loss 0.5006 Accuracy 74.9756 AUC 0.7979\n"
          ],
          "name": "stderr"
        },
        {
          "output_type": "stream",
          "text": [
            "Epoch 130 VAL Batch 0 Loss 0.5123 Accuracy 74.5362 AUC 0.7848\n",
            "Epoch 130 VAL Batch 50 Loss 0.5073 Accuracy 74.6888 AUC 0.7927\n",
            "Epoch 130 VAL Batch 100 Loss 0.5074 Accuracy 74.6488 AUC 0.7935\n",
            "Epoch 130 VAL Batch 150 Loss 0.5065 Accuracy 74.7171 AUC 0.7939\n",
            "Epoch 130 VAL Batch 200 Loss 0.5065 Accuracy 74.7277 AUC 0.7938\n",
            "Epoch 130 VAL Batch 250 Loss 0.5065 Accuracy 74.7044 AUC 0.7938\n",
            "Epoch 130 VAL Batch 300 Loss 0.5063 Accuracy 74.7234 AUC 0.7939\n",
            "Epoch 130 VAL Batch 350 Loss 0.5063 Accuracy 74.7209 AUC 0.7938\n",
            "Epoch 130 VAL Batch 400 Loss 0.5062 Accuracy 74.7259 AUC 0.7938\n",
            "Epoch 130 VAL Batch 450 Loss 0.5062 Accuracy 74.7316 AUC 0.7937\n",
            "Epoch 130 VAL Batch 500 Loss 0.5061 Accuracy 74.7354 AUC 0.7938\n",
            "Epoch 130 VAL Batch 550 Loss 0.5062 Accuracy 74.7341 AUC 0.7939\n",
            "Epoch 130 VAL Batch 600 Loss 0.5063 Accuracy 74.7273 AUC 0.7938\n",
            "Epoch 130 VAL Batch 650 Loss 0.5063 Accuracy 74.7307 AUC 0.7938\n",
            "Epoch 130 VAL Batch 700 Loss 0.5064 Accuracy 74.7232 AUC 0.7938\n",
            "Epoch 130 VAL Batch 750 Loss 0.5064 Accuracy 74.7231 AUC 0.7938\n"
          ],
          "name": "stdout"
        },
        {
          "output_type": "stream",
          "text": [
            "24-12 07:25 root         INFO     Epoch VAL 130 Loss 0.5064 Accuracy 74.7202 AUC 0.7938\n"
          ],
          "name": "stderr"
        },
        {
          "output_type": "stream",
          "text": [
            "Time taken for 1 epoch: 265.84779167175293 secs\n",
            "\n",
            "Epoch 131 TRAIN Batch 0 Loss 0.5099 Accuracy 74.5329 AUC 0.7942\n",
            "Epoch 131 TRAIN Batch 50 Loss 0.5000 Accuracy 75.0308 AUC 0.7978\n",
            "Epoch 131 TRAIN Batch 100 Loss 0.5000 Accuracy 75.0129 AUC 0.7978\n"
          ],
          "name": "stdout"
        },
        {
          "output_type": "error",
          "ename": "KeyboardInterrupt",
          "evalue": "ignored",
          "traceback": [
            "\u001b[0;31m---------------------------------------------------------------------------\u001b[0m",
            "\u001b[0;31mKeyboardInterrupt\u001b[0m                         Traceback (most recent call last)",
            "\u001b[0;32m<ipython-input-62-d59b71d0b893>\u001b[0m in \u001b[0;36m<module>\u001b[0;34m()\u001b[0m\n\u001b[1;32m     13\u001b[0m \u001b[0;34m\u001b[0m\u001b[0m\n\u001b[1;32m     14\u001b[0m     \u001b[0;31m# Train\u001b[0m\u001b[0;34m\u001b[0m\u001b[0;34m\u001b[0m\u001b[0;34m\u001b[0m\u001b[0m\n\u001b[0;32m---> 15\u001b[0;31m     \u001b[0;32mfor\u001b[0m \u001b[0;34m(\u001b[0m\u001b[0mbatch\u001b[0m\u001b[0;34m,\u001b[0m \u001b[0;34m(\u001b[0m\u001b[0mfeatures\u001b[0m\u001b[0;34m)\u001b[0m\u001b[0;34m)\u001b[0m \u001b[0;32min\u001b[0m \u001b[0menumerate\u001b[0m\u001b[0;34m(\u001b[0m\u001b[0mtrain_dataset\u001b[0m\u001b[0;34m)\u001b[0m\u001b[0;34m:\u001b[0m\u001b[0;34m\u001b[0m\u001b[0;34m\u001b[0m\u001b[0m\n\u001b[0m\u001b[1;32m     16\u001b[0m         \u001b[0mE\u001b[0m\u001b[0;34m,\u001b[0m \u001b[0mtar\u001b[0m\u001b[0;34m,\u001b[0m \u001b[0mrest\u001b[0m \u001b[0;34m=\u001b[0m \u001b[0mfeatures\u001b[0m\u001b[0;34m[\u001b[0m\u001b[0;36m0\u001b[0m\u001b[0;34m]\u001b[0m\u001b[0;34m,\u001b[0m \u001b[0mfeatures\u001b[0m\u001b[0;34m[\u001b[0m\u001b[0;36m1\u001b[0m\u001b[0;34m]\u001b[0m\u001b[0;34m,\u001b[0m \u001b[0mfeatures\u001b[0m\u001b[0;34m[\u001b[0m\u001b[0;36m2\u001b[0m\u001b[0;34m:\u001b[0m\u001b[0;34m]\u001b[0m\u001b[0;34m\u001b[0m\u001b[0;34m\u001b[0m\u001b[0m\n\u001b[1;32m     17\u001b[0m         \u001b[0mtar_inp\u001b[0m \u001b[0;34m=\u001b[0m \u001b[0mtar\u001b[0m\u001b[0;34m[\u001b[0m\u001b[0;34m:\u001b[0m\u001b[0;34m,\u001b[0m \u001b[0;34m:\u001b[0m\u001b[0;34m-\u001b[0m\u001b[0;36m1\u001b[0m\u001b[0;34m]\u001b[0m\u001b[0;34m\u001b[0m\u001b[0;34m\u001b[0m\u001b[0m\n",
            "\u001b[0;32m/usr/local/lib/python3.6/dist-packages/tensorflow/python/data/ops/iterator_ops.py\u001b[0m in \u001b[0;36m__next__\u001b[0;34m(self)\u001b[0m\n\u001b[1;32m    745\u001b[0m   \u001b[0;32mdef\u001b[0m \u001b[0m__next__\u001b[0m\u001b[0;34m(\u001b[0m\u001b[0mself\u001b[0m\u001b[0;34m)\u001b[0m\u001b[0;34m:\u001b[0m\u001b[0;34m\u001b[0m\u001b[0;34m\u001b[0m\u001b[0m\n\u001b[1;32m    746\u001b[0m     \u001b[0;32mtry\u001b[0m\u001b[0;34m:\u001b[0m\u001b[0;34m\u001b[0m\u001b[0;34m\u001b[0m\u001b[0m\n\u001b[0;32m--> 747\u001b[0;31m       \u001b[0;32mreturn\u001b[0m \u001b[0mself\u001b[0m\u001b[0;34m.\u001b[0m\u001b[0m_next_internal\u001b[0m\u001b[0;34m(\u001b[0m\u001b[0;34m)\u001b[0m\u001b[0;34m\u001b[0m\u001b[0;34m\u001b[0m\u001b[0m\n\u001b[0m\u001b[1;32m    748\u001b[0m     \u001b[0;32mexcept\u001b[0m \u001b[0merrors\u001b[0m\u001b[0;34m.\u001b[0m\u001b[0mOutOfRangeError\u001b[0m\u001b[0;34m:\u001b[0m\u001b[0;34m\u001b[0m\u001b[0;34m\u001b[0m\u001b[0m\n\u001b[1;32m    749\u001b[0m       \u001b[0;32mraise\u001b[0m \u001b[0mStopIteration\u001b[0m\u001b[0;34m\u001b[0m\u001b[0;34m\u001b[0m\u001b[0m\n",
            "\u001b[0;32m/usr/local/lib/python3.6/dist-packages/tensorflow/python/data/ops/iterator_ops.py\u001b[0m in \u001b[0;36m_next_internal\u001b[0;34m(self)\u001b[0m\n\u001b[1;32m    731\u001b[0m           \u001b[0mself\u001b[0m\u001b[0;34m.\u001b[0m\u001b[0m_iterator_resource\u001b[0m\u001b[0;34m,\u001b[0m\u001b[0;34m\u001b[0m\u001b[0;34m\u001b[0m\u001b[0m\n\u001b[1;32m    732\u001b[0m           \u001b[0moutput_types\u001b[0m\u001b[0;34m=\u001b[0m\u001b[0mself\u001b[0m\u001b[0;34m.\u001b[0m\u001b[0m_flat_output_types\u001b[0m\u001b[0;34m,\u001b[0m\u001b[0;34m\u001b[0m\u001b[0;34m\u001b[0m\u001b[0m\n\u001b[0;32m--> 733\u001b[0;31m           output_shapes=self._flat_output_shapes)\n\u001b[0m\u001b[1;32m    734\u001b[0m \u001b[0;34m\u001b[0m\u001b[0m\n\u001b[1;32m    735\u001b[0m       \u001b[0;32mtry\u001b[0m\u001b[0;34m:\u001b[0m\u001b[0;34m\u001b[0m\u001b[0;34m\u001b[0m\u001b[0m\n",
            "\u001b[0;32m/usr/local/lib/python3.6/dist-packages/tensorflow/python/ops/gen_dataset_ops.py\u001b[0m in \u001b[0;36miterator_get_next\u001b[0;34m(iterator, output_types, output_shapes, name)\u001b[0m\n\u001b[1;32m   2574\u001b[0m       _result = pywrap_tfe.TFE_Py_FastPathExecute(\n\u001b[1;32m   2575\u001b[0m         \u001b[0m_ctx\u001b[0m\u001b[0;34m,\u001b[0m \u001b[0;34m\"IteratorGetNext\"\u001b[0m\u001b[0;34m,\u001b[0m \u001b[0mname\u001b[0m\u001b[0;34m,\u001b[0m \u001b[0miterator\u001b[0m\u001b[0;34m,\u001b[0m \u001b[0;34m\"output_types\"\u001b[0m\u001b[0;34m,\u001b[0m \u001b[0moutput_types\u001b[0m\u001b[0;34m,\u001b[0m\u001b[0;34m\u001b[0m\u001b[0;34m\u001b[0m\u001b[0m\n\u001b[0;32m-> 2576\u001b[0;31m         \"output_shapes\", output_shapes)\n\u001b[0m\u001b[1;32m   2577\u001b[0m       \u001b[0;32mreturn\u001b[0m \u001b[0m_result\u001b[0m\u001b[0;34m\u001b[0m\u001b[0;34m\u001b[0m\u001b[0m\n\u001b[1;32m   2578\u001b[0m     \u001b[0;32mexcept\u001b[0m \u001b[0m_core\u001b[0m\u001b[0;34m.\u001b[0m\u001b[0m_NotOkStatusException\u001b[0m \u001b[0;32mas\u001b[0m \u001b[0me\u001b[0m\u001b[0;34m:\u001b[0m\u001b[0;34m\u001b[0m\u001b[0;34m\u001b[0m\u001b[0m\n",
            "\u001b[0;31mKeyboardInterrupt\u001b[0m: "
          ]
        }
      ]
    },
    {
      "cell_type": "code",
      "metadata": {
        "id": "Y4vnYx13H1gX",
        "colab": {
          "base_uri": "https://localhost:8080/",
          "height": 328
        },
        "outputId": "dd58a435-ae22-4a3c-ffa6-12c5842e70b4"
      },
      "source": [
        "from IPython.display import FileLink, FileLinks\n",
        "FileLinks(OUTPUT_FOLDER) #lists all downloadable files on server"
      ],
      "execution_count": null,
      "outputs": [
        {
          "output_type": "execute_result",
          "data": {
            "text/html": [
              "23-Dec-riiid-2/<br>\n",
              "&nbsp;&nbsp;<a href='23-Dec-riiid-2/logger.log' target='_blank'>logger.log</a><br>\n",
              "&nbsp;&nbsp;<a href='23-Dec-riiid-2/demo-riiid-transformer.ipynb' target='_blank'>demo-riiid-transformer.ipynb</a><br>\n",
              "&nbsp;&nbsp;<a href='23-Dec-riiid-2/config.pickle' target='_blank'>config.pickle</a><br>\n",
              "23-Dec-riiid-2/checkpoints/<br>\n",
              "&nbsp;&nbsp;<a href='23-Dec-riiid-2/checkpoints/ckpt-21.data-00000-of-00001' target='_blank'>ckpt-21.data-00000-of-00001</a><br>\n",
              "&nbsp;&nbsp;<a href='23-Dec-riiid-2/checkpoints/checkpoint' target='_blank'>checkpoint</a><br>\n",
              "&nbsp;&nbsp;<a href='23-Dec-riiid-2/checkpoints/ckpt-21.index' target='_blank'>ckpt-21.index</a><br>\n",
              "23-Dec-riiid-2/seq-dict-100/<br>\n",
              "&nbsp;&nbsp;<a href='23-Dec-riiid-2/seq-dict-100/r.pickle' target='_blank'>r.pickle</a><br>\n",
              "&nbsp;&nbsp;<a href='23-Dec-riiid-2/seq-dict-100/at.pickle' target='_blank'>at.pickle</a><br>\n",
              "&nbsp;&nbsp;<a href='23-Dec-riiid-2/seq-dict-100/p.pickle' target='_blank'>p.pickle</a><br>\n",
              "&nbsp;&nbsp;<a href='23-Dec-riiid-2/seq-dict-100/ltc.pickle' target='_blank'>ltc.pickle</a><br>\n",
              "&nbsp;&nbsp;<a href='23-Dec-riiid-2/seq-dict-100/ex.pickle' target='_blank'>ex.pickle</a><br>\n",
              "&nbsp;&nbsp;<a href='23-Dec-riiid-2/seq-dict-100/etc.pickle' target='_blank'>etc.pickle</a><br>\n",
              "&nbsp;&nbsp;<a href='23-Dec-riiid-2/seq-dict-100/ra.pickle' target='_blank'>ra.pickle</a><br>\n",
              "&nbsp;&nbsp;<a href='23-Dec-riiid-2/seq-dict-100/E.pickle' target='_blank'>E.pickle</a><br>\n",
              "&nbsp;&nbsp;<a href='23-Dec-riiid-2/seq-dict-100/ca.pickle' target='_blank'>ca.pickle</a><br>"
            ],
            "text/plain": [
              "23-Dec-riiid-2/\n",
              "  logger.log\n",
              "  demo-riiid-transformer.ipynb\n",
              "  config.pickle\n",
              "23-Dec-riiid-2/checkpoints/\n",
              "  ckpt-21.data-00000-of-00001\n",
              "  checkpoint\n",
              "  ckpt-21.index\n",
              "23-Dec-riiid-2/seq-dict-100/\n",
              "  r.pickle\n",
              "  at.pickle\n",
              "  p.pickle\n",
              "  ltc.pickle\n",
              "  ex.pickle\n",
              "  etc.pickle\n",
              "  ra.pickle\n",
              "  E.pickle\n",
              "  ca.pickle"
            ]
          },
          "metadata": {
            "tags": []
          },
          "execution_count": 63
        }
      ]
    },
    {
      "cell_type": "code",
      "metadata": {
        "id": "xfFKlQG5KL09",
        "colab": {
          "base_uri": "https://localhost:8080/"
        },
        "outputId": "94b507dd-0848-46cd-866f-ded5496f548f"
      },
      "source": [
        "os.listdir(OUTPUT_FOLDER)"
      ],
      "execution_count": null,
      "outputs": [
        {
          "output_type": "execute_result",
          "data": {
            "text/plain": [
              "['logger.log',\n",
              " 'checkpoints',\n",
              " 'seq-dict-100',\n",
              " 'dataset-metadata.json',\n",
              " 'demo-riiid-transformer.ipynb',\n",
              " 'config.pickle']"
            ]
          },
          "metadata": {
            "tags": []
          },
          "execution_count": 70
        }
      ]
    },
    {
      "cell_type": "markdown",
      "metadata": {
        "id": "RqQ1fIsLwkGE"
      },
      "source": [
        "## Summary\n",
        "\n",
        "In this tutorial, you learned about positional encoding, multi-head attention, the importance of masking and how to create a transformer.\n",
        "\n",
        "Try using a different dataset to train the transformer. You can also create the base transformer or transformer XL by changing the hyperparameters above. You can also use the layers defined here to create [BERT](https://arxiv.org/abs/1810.04805) and train state of the art models. Futhermore, you can implement beam search to get better predictions."
      ]
    },
    {
      "cell_type": "markdown",
      "metadata": {
        "id": "Ob_U1TjRE6A-"
      },
      "source": [
        "# Older code"
      ]
    },
    {
      "cell_type": "code",
      "metadata": {
        "id": "jCPtV7asE7w_"
      },
      "source": [
        "# # From https://stanford.edu/~shervine/blog/keras-how-to-generate-data-on-the-fly\n",
        "# class DataGenerator(keras.utils.Sequence):\n",
        "#     'Generates data for Keras'\n",
        "#     def __init__(self, df, shuffle=True):\n",
        "#         'Initialization'\n",
        "        \n",
        "#         self.df = df\n",
        "#         self.users = self.df[\"user_id\"].nunique()\n",
        "#         self.batch_size = BATCH_SIZE\n",
        "#         self.shuffle = shuffle\n",
        "#         self.on_epoch_end()\n",
        "\n",
        "#     def __len__(self):\n",
        "#         'Denotes the number of batches per epoch'\n",
        "#         return int(np.floor(len(self.list_IDs) / self.batch_size))\n",
        "\n",
        "#     def __getitem__(self, index):\n",
        "#         'Generate one batch of data'\n",
        "#         # Generate indexes of the batch\n",
        "#         indexes = self.indexes[index*self.batch_size:(index+1)*self.batch_size]\n",
        "\n",
        "#         # Find list of IDs\n",
        "#         list_IDs_temp = [self.list_IDs[k] for k in indexes]\n",
        "\n",
        "#         # Generate data\n",
        "#         X, y = self.__data_generation(list_IDs_temp)\n",
        "\n",
        "#         return X, y\n",
        "\n",
        "#     def on_epoch_end(self):\n",
        "#         'Updates indexes after each epoch'\n",
        "#         self.indexes = np.arange(len(self.list_IDs))\n",
        "#         if self.shuffle == True:\n",
        "#             np.random.shuffle(self.indexes)\n",
        "\n",
        "#     def __data_generation(self, list_IDs_temp):\n",
        "#         'Generates data containing batch_size samples' # X : (n_samples, *dim, n_channels)\n",
        "#         # Initialization\n",
        "#         X = np.empty((self.batch_size, *self.dim, self.n_channels))\n",
        "#         y = np.empty((self.batch_size), dtype=int)\n",
        "\n",
        "#         # Generate data\n",
        "#         for i, ID in enumerate(list_IDs_temp):\n",
        "#             # Store sample\n",
        "#             X[i,] = np.load('data/' + ID + '.npy')\n",
        "\n",
        "#             # Store class\n",
        "#             y[i] = self.labels[ID]\n",
        "\n",
        "#         return X, keras.utils.to_categorical(y, num_classes=self.n_classes)"
      ],
      "execution_count": null,
      "outputs": []
    },
    {
      "cell_type": "code",
      "metadata": {
        "id": "UrylowI_ThEY"
      },
      "source": [
        "# def save_dict(seq_dict, filename):\n",
        "#     with open(os.path.join(OUTPUT_FOLDER, filename), 'wb') as handle:\n",
        "#       pickle.dump(seq_dict, handle, protocol=pickle.HIGHEST_PROTOCOL)"
      ],
      "execution_count": null,
      "outputs": []
    },
    {
      "cell_type": "code",
      "metadata": {
        "id": "TTwScXwCThEY"
      },
      "source": [
        "# # Save last N dict to memory\n",
        "# E_dict = E_lists.apply(lambda x: x[-200:]).to_dict()\n",
        "# r_dict = r_lists.apply(lambda x: x[-200:]).to_dict()\n",
        "# et_dict = et_lists.apply(lambda x: x[-200:]).to_dict()"
      ],
      "execution_count": null,
      "outputs": []
    },
    {
      "cell_type": "code",
      "metadata": {
        "id": "AbXwrK5eThEY"
      },
      "source": [
        "# save_dict(E_dict, \"E.pkl\")\n",
        "# save_dict(r_dict, \"r.pkl\")\n",
        "# save_dict(et_dict, \"et.pkl\")"
      ],
      "execution_count": null,
      "outputs": []
    }
  ]
}
