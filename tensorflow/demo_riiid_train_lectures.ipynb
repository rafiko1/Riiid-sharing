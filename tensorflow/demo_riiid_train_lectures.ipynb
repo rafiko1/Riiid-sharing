{
  "nbformat": 4,
  "nbformat_minor": 0,
  "metadata": {
    "colab": {
      "name": "Copy of demo-riiid-train-lectures.ipynb",
      "provenance": [],
      "collapsed_sections": [],
      "machine_shape": "hm"
    },
    "kernelspec": {
      "display_name": "Python 3",
      "language": "python",
      "name": "python3"
    },
    "language_info": {
      "codemirror_mode": {
        "name": "ipython",
        "version": 3
      },
      "file_extension": ".py",
      "mimetype": "text/x-python",
      "name": "python",
      "nbconvert_exporter": "python",
      "pygments_lexer": "ipython3",
      "version": "3.6.4"
    }
  },
  "cells": [
    {
      "cell_type": "code",
      "metadata": {
        "colab": {
          "base_uri": "https://localhost:8080/"
        },
        "id": "1alPO9cYR8zX",
        "outputId": "abb4a183-2f30-4c70-9d79-0056887ab39b"
      },
      "source": [
        "# Install latest version sklearn (0.23)\n",
        "!pip install -U scikit-learn"
      ],
      "execution_count": null,
      "outputs": [
        {
          "output_type": "stream",
          "text": [
            "Collecting scikit-learn\n",
            "\u001b[?25l  Downloading https://files.pythonhosted.org/packages/30/aa/db462d385c56905b731403885454188683f63c86ea68900f6f7e7558b5fa/scikit_learn-0.24.0-cp36-cp36m-manylinux2010_x86_64.whl (22.2MB)\n",
            "\u001b[K     |████████████████████████████████| 22.2MB 5.4MB/s \n",
            "\u001b[?25hRequirement already satisfied, skipping upgrade: numpy>=1.13.3 in /usr/local/lib/python3.6/dist-packages (from scikit-learn) (1.19.4)\n",
            "Requirement already satisfied, skipping upgrade: joblib>=0.11 in /usr/local/lib/python3.6/dist-packages (from scikit-learn) (1.0.0)\n",
            "Collecting threadpoolctl>=2.0.0\n",
            "  Downloading https://files.pythonhosted.org/packages/f7/12/ec3f2e203afa394a149911729357aa48affc59c20e2c1c8297a60f33f133/threadpoolctl-2.1.0-py3-none-any.whl\n",
            "Requirement already satisfied, skipping upgrade: scipy>=0.19.1 in /usr/local/lib/python3.6/dist-packages (from scikit-learn) (1.4.1)\n",
            "Installing collected packages: threadpoolctl, scikit-learn\n",
            "  Found existing installation: scikit-learn 0.22.2.post1\n",
            "    Uninstalling scikit-learn-0.22.2.post1:\n",
            "      Successfully uninstalled scikit-learn-0.22.2.post1\n",
            "Successfully installed scikit-learn-0.24.0 threadpoolctl-2.1.0\n"
          ],
          "name": "stdout"
        }
      ]
    },
    {
      "cell_type": "code",
      "metadata": {
        "cellView": "both",
        "id": "fl0JGKUzPcs0"
      },
      "source": [
        "# Imports\n",
        "import pandas as pd\n",
        "import numpy as np\n",
        "import os\n",
        "import shutil\n",
        "from collections import Counter\n",
        "import matplotlib.pyplot as plt\n",
        "import time\n",
        "import gc\n",
        "import sys\n",
        "import random\n",
        "import pickle\n",
        "\n",
        "from scipy.stats import iqr\n",
        "from sklearn import preprocessing\n",
        "\n",
        "import datetime\n",
        "import logging\n",
        "\n",
        "# Deep learning\n",
        "import tensorflow as tf\n",
        "import tensorflow.keras.backend as K\n",
        "import tensorflow.keras.layers as L\n",
        "import tensorflow.keras.models as M\n",
        "\n",
        "from IPython.display import display\n",
        "# Set pandas options\n",
        "pd.options.display.max_rows = 2000"
      ],
      "execution_count": null,
      "outputs": []
    },
    {
      "cell_type": "code",
      "metadata": {
        "cellView": "both",
        "id": "TyCCeSTaw6_s"
      },
      "source": [
        "# Global variables \n",
        "THR_E = 100 # interaction threshold of exercises (E) for user\n",
        "BATCH_SIZE = 128\n",
        "TRAIN_FRACTION = 0.95\n",
        "\n",
        "AUTO = tf.data.experimental.AUTOTUNE\n",
        "EPOCHS = 160\n",
        "N_SELECT_PER_EPOCH = 100000 # Random select N samples for each epoch from train/val set\n",
        "VAL_EVERY_N_EPOCHS = 5\n",
        "PRINT_EVERY_N_BATCHES = 50 \n",
        "\n",
        "SAVE_DICTS = True"
      ],
      "execution_count": null,
      "outputs": []
    },
    {
      "cell_type": "code",
      "metadata": {
        "id": "4M-mWBNVcaQ7"
      },
      "source": [
        "# SEED THE EXPERIMENTS\r\n",
        "np.random.seed(18)"
      ],
      "execution_count": null,
      "outputs": []
    },
    {
      "cell_type": "code",
      "metadata": {
        "id": "XR5Io93kU0RK"
      },
      "source": [
        "# Experiment date and number!\r\n",
        "date = datetime.datetime.today().strftime(\"%d-%b\")\r\n",
        "experiment = \"-riiid-1\"\r\n",
        "OUTPUT_FOLDER = date + experiment \r\n",
        "os.makedirs(OUTPUT_FOLDER, exist_ok=True)"
      ],
      "execution_count": null,
      "outputs": []
    },
    {
      "cell_type": "code",
      "metadata": {
        "id": "fPFvJd9PsbR6"
      },
      "source": [
        "# Selected features\n",
        "selections = [\"E\", \"r\", \"etc\", \"ltg\", \"at\", \"ra\"]\n",
        "assert((selections[0] == \"E\") & (selections[1]==\"r\"))"
      ],
      "execution_count": null,
      "outputs": []
    },
    {
      "cell_type": "code",
      "metadata": {
        "id": "wiHtMtRWAvE8"
      },
      "source": [
        "# Choose model setting\n",
        "ENC_EMB, ENC_DENSE = [0, 4], [] \n",
        "DEC_EMB, DEC_DENSE = [1, 2, 3, 5], []"
      ],
      "execution_count": null,
      "outputs": []
    },
    {
      "cell_type": "code",
      "metadata": {
        "cellView": "both",
        "colab": {
          "base_uri": "https://localhost:8080/"
        },
        "id": "yRrlNtCi8QxP",
        "outputId": "4562a960-6a0f-4ea7-99d1-5a5bc992a620"
      },
      "source": [
        "from google.colab import drive\n",
        "drive.mount('/content/drive', force_remount=True)\n",
        "\n",
        "FOLDER_FEATHER = \"/content/drive/My Drive/kaggle-riiid/feather-files\"\n",
        "PREPROCESS_FILE = \"/content/drive/My\\ Drive/Colab\\ Notebooks/demo-riiid-preprocessing.ipynb\"\n",
        "MODEL_FILE = \"/content/drive/My\\ Drive/Colab\\ Notebooks/demo-riiid-transformer.ipynb\" # https://stackoverflow.com/questions/57464810/how-to-run-a-jupyter-notebook-with-space-in-relative-path-from-another-notebook\n",
        "# MODEL_FILE = \"/content/drive/My\\ Drive/Colab\\ Notebooks/riiid-functional-transformer.ipynb\" # https://stackoverflow.com/questions/57464810/how-to-run-a-jupyter-notebook-with-space-in-relative-path-from-another-notebook\n"
      ],
      "execution_count": null,
      "outputs": [
        {
          "output_type": "stream",
          "text": [
            "Mounted at /content/drive\n"
          ],
          "name": "stdout"
        }
      ]
    },
    {
      "cell_type": "code",
      "metadata": {
        "id": "G2pN4ICUn9tK"
      },
      "source": [
        "# Add functions to preprocess data\n",
        "%run $PREPROCESS_FILE"
      ],
      "execution_count": null,
      "outputs": []
    },
    {
      "cell_type": "code",
      "metadata": {
        "id": "Eoay_2ef1W7r"
      },
      "source": [
        "# Create logger\n",
        "logging = create_logging(OUTPUT_FOLDER)"
      ],
      "execution_count": null,
      "outputs": []
    },
    {
      "cell_type": "code",
      "metadata": {
        "cellView": "both",
        "colab": {
          "base_uri": "https://localhost:8080/",
          "height": 480
        },
        "id": "4aC9MfDSbI0c",
        "outputId": "b4053055-a941-4a9d-e481-def7635b29db"
      },
      "source": [
        "%%time\n",
        "# Read all dataframes from feather files and print out\n",
        "train = read_df_print(os.path.join(FOLDER_FEATHER, \"train.feather\")) \n",
        "questions = read_df_print(os.path.join(FOLDER_FEATHER, \"questions.feather\"))\n",
        "lectures = read_df_print(os.path.join(FOLDER_FEATHER, \"lectures.feather\"))"
      ],
      "execution_count": null,
      "outputs": [
        {
          "output_type": "stream",
          "text": [
            "(101230332, 10)\n"
          ],
          "name": "stdout"
        },
        {
          "output_type": "display_data",
          "data": {
            "text/html": [
              "<div>\n",
              "<style scoped>\n",
              "    .dataframe tbody tr th:only-of-type {\n",
              "        vertical-align: middle;\n",
              "    }\n",
              "\n",
              "    .dataframe tbody tr th {\n",
              "        vertical-align: top;\n",
              "    }\n",
              "\n",
              "    .dataframe thead th {\n",
              "        text-align: right;\n",
              "    }\n",
              "</style>\n",
              "<table border=\"1\" class=\"dataframe\">\n",
              "  <thead>\n",
              "    <tr style=\"text-align: right;\">\n",
              "      <th></th>\n",
              "      <th>row_id</th>\n",
              "      <th>timestamp</th>\n",
              "      <th>user_id</th>\n",
              "      <th>content_id</th>\n",
              "      <th>content_type_id</th>\n",
              "      <th>task_container_id</th>\n",
              "      <th>user_answer</th>\n",
              "      <th>answered_correctly</th>\n",
              "      <th>prior_question_elapsed_time</th>\n",
              "      <th>prior_question_had_explanation</th>\n",
              "    </tr>\n",
              "  </thead>\n",
              "  <tbody>\n",
              "    <tr>\n",
              "      <th>0</th>\n",
              "      <td>0</td>\n",
              "      <td>0</td>\n",
              "      <td>115</td>\n",
              "      <td>5692</td>\n",
              "      <td>False</td>\n",
              "      <td>1</td>\n",
              "      <td>3</td>\n",
              "      <td>1</td>\n",
              "      <td>NaN</td>\n",
              "      <td>None</td>\n",
              "    </tr>\n",
              "    <tr>\n",
              "      <th>1</th>\n",
              "      <td>1</td>\n",
              "      <td>56943</td>\n",
              "      <td>115</td>\n",
              "      <td>5716</td>\n",
              "      <td>False</td>\n",
              "      <td>2</td>\n",
              "      <td>2</td>\n",
              "      <td>1</td>\n",
              "      <td>37000.0</td>\n",
              "      <td>False</td>\n",
              "    </tr>\n",
              "    <tr>\n",
              "      <th>2</th>\n",
              "      <td>2</td>\n",
              "      <td>118363</td>\n",
              "      <td>115</td>\n",
              "      <td>128</td>\n",
              "      <td>False</td>\n",
              "      <td>0</td>\n",
              "      <td>0</td>\n",
              "      <td>1</td>\n",
              "      <td>55000.0</td>\n",
              "      <td>False</td>\n",
              "    </tr>\n",
              "  </tbody>\n",
              "</table>\n",
              "</div>"
            ],
            "text/plain": [
              "   row_id  ...  prior_question_had_explanation\n",
              "0       0  ...                            None\n",
              "1       1  ...                           False\n",
              "2       2  ...                           False\n",
              "\n",
              "[3 rows x 10 columns]"
            ]
          },
          "metadata": {
            "tags": []
          }
        },
        {
          "output_type": "stream",
          "text": [
            "(13523, 5)\n"
          ],
          "name": "stdout"
        },
        {
          "output_type": "display_data",
          "data": {
            "text/html": [
              "<div>\n",
              "<style scoped>\n",
              "    .dataframe tbody tr th:only-of-type {\n",
              "        vertical-align: middle;\n",
              "    }\n",
              "\n",
              "    .dataframe tbody tr th {\n",
              "        vertical-align: top;\n",
              "    }\n",
              "\n",
              "    .dataframe thead th {\n",
              "        text-align: right;\n",
              "    }\n",
              "</style>\n",
              "<table border=\"1\" class=\"dataframe\">\n",
              "  <thead>\n",
              "    <tr style=\"text-align: right;\">\n",
              "      <th></th>\n",
              "      <th>question_id</th>\n",
              "      <th>bundle_id</th>\n",
              "      <th>correct_answer</th>\n",
              "      <th>part</th>\n",
              "      <th>tags</th>\n",
              "    </tr>\n",
              "  </thead>\n",
              "  <tbody>\n",
              "    <tr>\n",
              "      <th>0</th>\n",
              "      <td>0</td>\n",
              "      <td>0</td>\n",
              "      <td>0</td>\n",
              "      <td>1</td>\n",
              "      <td>51 131 162 38</td>\n",
              "    </tr>\n",
              "    <tr>\n",
              "      <th>1</th>\n",
              "      <td>1</td>\n",
              "      <td>1</td>\n",
              "      <td>1</td>\n",
              "      <td>1</td>\n",
              "      <td>131 36 81</td>\n",
              "    </tr>\n",
              "    <tr>\n",
              "      <th>2</th>\n",
              "      <td>2</td>\n",
              "      <td>2</td>\n",
              "      <td>0</td>\n",
              "      <td>1</td>\n",
              "      <td>131 101 162 92</td>\n",
              "    </tr>\n",
              "  </tbody>\n",
              "</table>\n",
              "</div>"
            ],
            "text/plain": [
              "   question_id  bundle_id  correct_answer  part            tags\n",
              "0            0          0               0     1   51 131 162 38\n",
              "1            1          1               1     1       131 36 81\n",
              "2            2          2               0     1  131 101 162 92"
            ]
          },
          "metadata": {
            "tags": []
          }
        },
        {
          "output_type": "stream",
          "text": [
            "(418, 4)\n"
          ],
          "name": "stdout"
        },
        {
          "output_type": "display_data",
          "data": {
            "text/html": [
              "<div>\n",
              "<style scoped>\n",
              "    .dataframe tbody tr th:only-of-type {\n",
              "        vertical-align: middle;\n",
              "    }\n",
              "\n",
              "    .dataframe tbody tr th {\n",
              "        vertical-align: top;\n",
              "    }\n",
              "\n",
              "    .dataframe thead th {\n",
              "        text-align: right;\n",
              "    }\n",
              "</style>\n",
              "<table border=\"1\" class=\"dataframe\">\n",
              "  <thead>\n",
              "    <tr style=\"text-align: right;\">\n",
              "      <th></th>\n",
              "      <th>lecture_id</th>\n",
              "      <th>tag</th>\n",
              "      <th>part</th>\n",
              "      <th>type_of</th>\n",
              "    </tr>\n",
              "  </thead>\n",
              "  <tbody>\n",
              "    <tr>\n",
              "      <th>0</th>\n",
              "      <td>89</td>\n",
              "      <td>24584</td>\n",
              "      <td>5</td>\n",
              "      <td>concept</td>\n",
              "    </tr>\n",
              "    <tr>\n",
              "      <th>1</th>\n",
              "      <td>100</td>\n",
              "      <td>22243</td>\n",
              "      <td>1</td>\n",
              "      <td>concept</td>\n",
              "    </tr>\n",
              "    <tr>\n",
              "      <th>2</th>\n",
              "      <td>185</td>\n",
              "      <td>7035</td>\n",
              "      <td>6</td>\n",
              "      <td>concept</td>\n",
              "    </tr>\n",
              "  </tbody>\n",
              "</table>\n",
              "</div>"
            ],
            "text/plain": [
              "   lecture_id    tag  part  type_of\n",
              "0          89  24584     5  concept\n",
              "1         100  22243     1  concept\n",
              "2         185   7035     6  concept"
            ]
          },
          "metadata": {
            "tags": []
          }
        },
        {
          "output_type": "stream",
          "text": [
            "CPU times: user 1.76 s, sys: 2.62 s, total: 4.38 s\n",
            "Wall time: 22.5 s\n"
          ],
          "name": "stdout"
        }
      ]
    },
    {
      "cell_type": "code",
      "metadata": {
        "colab": {
          "base_uri": "https://localhost:8080/"
        },
        "id": "PrxymFQ6jkrL",
        "outputId": "c026e25c-4a18-41f0-ede0-cacc276ebca3"
      },
      "source": [
        "train[\"content_type_id\"].sum()"
      ],
      "execution_count": null,
      "outputs": [
        {
          "output_type": "execute_result",
          "data": {
            "text/plain": [
              "1959032"
            ]
          },
          "metadata": {
            "tags": []
          },
          "execution_count": 12
        }
      ]
    },
    {
      "cell_type": "code",
      "metadata": {
        "colab": {
          "base_uri": "https://localhost:8080/"
        },
        "id": "QVl0BMwrisLS",
        "outputId": "3d8d3e6b-6d7d-4e97-b2fc-4237d96173f5"
      },
      "source": [
        "# train.loc[train[\"content_type_id\"]==1, \"content_id\"].value_counts()"
      ],
      "execution_count": null,
      "outputs": [
        {
          "output_type": "execute_result",
          "data": {
            "text/plain": [
              "1959032"
            ]
          },
          "metadata": {
            "tags": []
          },
          "execution_count": 37
        }
      ]
    },
    {
      "cell_type": "code",
      "metadata": {
        "id": "QO0pLMQji_I5"
      },
      "source": [
        ""
      ],
      "execution_count": null,
      "outputs": []
    },
    {
      "cell_type": "code",
      "metadata": {
        "id": "nKCkG5SuiEnQ"
      },
      "source": [
        "# Preprocess for lectures\n",
        "if (\"v\" in selections) or (\"l\" in selections):\n",
        "  lectures[\"lecture_id\"] = pd.Categorical(lectures[\"lecture_id\"])\n",
        "  lectures[\"lec_id\"] = lectures[\"lecture_id\"].cat.codes\n",
        "  lec_map = dict(zip(lectures[\"lecture_id\"], lectures[\"lec_id\"]))\n",
        "\n",
        "  train.loc[train[\"content_type_id\"]==1, \"content_id\"] = train.loc[train[\"content_type_id\"]==1, \"content_id\"].map(lec_map)\n",
        "# train[\"v\"] = train[\"content_type_id\"].shift(1).fillna(0).astype(np.int8)\n",
        "# train[\"vc\"] = train.groupby(\"user_id\")[\"v\"].cumsum()"
      ],
      "execution_count": null,
      "outputs": []
    },
    {
      "cell_type": "code",
      "metadata": {
        "id": "ifHkb8aPPhma",
        "colab": {
          "base_uri": "https://localhost:8080/"
        },
        "outputId": "a30b0ba7-4463-4648-f9ae-088c1950faee"
      },
      "source": [
        "# We don't need the lectures now!\n",
        "train = train.loc[train[\"content_type_id\"]==0]"
      ],
      "execution_count": null,
      "outputs": [
        {
          "output_type": "stream",
          "text": [
            "27-12 15:27 numexpr.utils INFO     NumExpr defaulting to 4 threads.\n"
          ],
          "name": "stderr"
        }
      ]
    },
    {
      "cell_type": "code",
      "metadata": {
        "id": "XqeE-GuynMui"
      },
      "source": [
        "# Save space by deleting some columns\n",
        "del train[\"user_answer\"]"
      ],
      "execution_count": null,
      "outputs": []
    },
    {
      "cell_type": "code",
      "metadata": {
        "cellView": "both",
        "id": "yjODj3l-Eas9"
      },
      "source": [
        "N_questions, N_parts = questions[\"question_id\"].nunique(), questions[\"part\"].nunique()\n",
        "N_response, N_task, N_lag, N_et, N_groups, N_attempt, N_avg, N_ltg = 2, 2, 1440, 301, 10, 8, 101, 400 # N_avg = 100 for regular?"
      ],
      "execution_count": null,
      "outputs": []
    },
    {
      "cell_type": "code",
      "metadata": {
        "id": "1bp-gBbzHlND"
      },
      "source": [
        "# Seq len of users [sorted same as df]. USED FOR TRAINING\n",
        "seq_len_dict = dict(train[\"user_id\"].value_counts())\n",
        "users = train[\"user_id\"].unique()\n",
        "seq_lens = [seq_len_dict[user] for user in users]"
      ],
      "execution_count": null,
      "outputs": []
    },
    {
      "cell_type": "code",
      "metadata": {
        "id": "kF2zoN0jRqzV"
      },
      "source": [
        "# Train/valid split\r\n",
        "train_len = int(len(users)*TRAIN_FRACTION)\r\n",
        "val_len = len(users) - train_len\r\n",
        "train_users, val_users = users[:train_len], users[train_len:]\r\n",
        "\r\n",
        "# PROBS of sequence\r\n",
        "seq_len_train, seq_len_val = seq_lens[:train_len], seq_lens[train_len:]\r\n",
        "PROBS_TRAIN = seq_len_train/np.sum(seq_len_train)\r\n",
        "PROBS_VAL = seq_len_val/np.sum(seq_len_val)"
      ],
      "execution_count": null,
      "outputs": []
    },
    {
      "cell_type": "code",
      "metadata": {
        "id": "w5pBSw-YFjgZ",
        "colab": {
          "base_uri": "https://localhost:8080/"
        },
        "outputId": "0af02747-b5fc-4e4d-ba59-64dd2c4ec245"
      },
      "source": [
        "len(train_users), len(val_users)"
      ],
      "execution_count": null,
      "outputs": [
        {
          "output_type": "execute_result",
          "data": {
            "text/plain": [
              "(373973, 19683)"
            ]
          },
          "metadata": {
            "tags": []
          },
          "execution_count": 19
        }
      ]
    },
    {
      "cell_type": "code",
      "metadata": {
        "id": "VhH7a4bGQDjZ",
        "colab": {
          "base_uri": "https://localhost:8080/"
        },
        "outputId": "6a78876d-a54b-41e8-f669-f649c2ec6b24"
      },
      "source": [
        "train[\"prior_question_had_explanation\"].isnull().sum() # Less than users - why?"
      ],
      "execution_count": null,
      "outputs": [
        {
          "output_type": "execute_result",
          "data": {
            "text/plain": [
              "392506"
            ]
          },
          "metadata": {
            "tags": []
          },
          "execution_count": 20
        }
      ]
    },
    {
      "cell_type": "markdown",
      "metadata": {
        "id": "tWvX2zk-AIBg"
      },
      "source": [
        "## Add all inputs/outputs"
      ]
    },
    {
      "cell_type": "code",
      "metadata": {
        "id": "8P_CP-lACNhq"
      },
      "source": [
        "p_lists, lt_lists, et_lists, tag_lists, task_lists, quantile_transformer_et, lt_cat, quantile_transformer_lt, et_cat, ltc, etc, ex, etg, ra, ca, at, r_dup, ltg, v_lists  = [], [], [], [], [], [], [], [], [], [],[], [], [], [], [], [], [], [], []"
      ],
      "execution_count": null,
      "outputs": []
    },
    {
      "cell_type": "code",
      "metadata": {
        "colab": {
          "base_uri": "https://localhost:8080/"
        },
        "id": "LqqgBFwxvMI6",
        "outputId": "6e257dfe-9769-493c-afae-223932633365"
      },
      "source": [
        "# Lag time grouped\r\n",
        "if \"ltg\" in selections:\r\n",
        "    %time ltg, N_ltg = return_ltg(N_ltg)"
      ],
      "execution_count": null,
      "outputs": [
        {
          "output_type": "stream",
          "text": [
            "CPU times: user 39.8 s, sys: 111 ms, total: 40 s\n",
            "Wall time: 39.3 s\n"
          ],
          "name": "stdout"
        }
      ]
    },
    {
      "cell_type": "code",
      "metadata": {
        "cellView": "both",
        "colab": {
          "base_uri": "https://localhost:8080/"
        },
        "id": "aTBlz8gcKwIq",
        "outputId": "168fcbad-236a-4820-ce66-8d89485c0105"
      },
      "source": [
        "# Add exercises\n",
        "%time E_lists = return_E()"
      ],
      "execution_count": null,
      "outputs": [
        {
          "output_type": "stream",
          "text": [
            "CPU times: user 25.4 s, sys: 1.3 s, total: 26.7 s\n",
            "Wall time: 26.7 s\n"
          ],
          "name": "stdout"
        }
      ]
    },
    {
      "cell_type": "code",
      "metadata": {
        "colab": {
          "base_uri": "https://localhost:8080/"
        },
        "id": "9NhhuL1-QDUT",
        "outputId": "4cfe61ee-ba77-418e-a835-8463f519444b"
      },
      "source": [
        "# Add results, with or without start token\n",
        "%time r_lists = return_r(add_start_token=True)"
      ],
      "execution_count": null,
      "outputs": [
        {
          "output_type": "stream",
          "text": [
            "CPU times: user 26.5 s, sys: 442 ms, total: 26.9 s\n",
            "Wall time: 26.9 s\n"
          ],
          "name": "stdout"
        }
      ]
    },
    {
      "cell_type": "code",
      "metadata": {
        "id": "SPdWyPhjpzrS"
      },
      "source": [
        "if \"v\" in selections:\r\n",
        "    %time v_lists = return_v()"
      ],
      "execution_count": null,
      "outputs": []
    },
    {
      "cell_type": "code",
      "metadata": {
        "id": "1hp6pkC62ZRw"
      },
      "source": [
        "if \"r_dup\" in selections:\r\n",
        "   %time r_dup = r_lists.apply(lambda x: x[:-1])"
      ],
      "execution_count": null,
      "outputs": []
    },
    {
      "cell_type": "code",
      "metadata": {
        "id": "uA-ropTQLh81"
      },
      "source": [
        "if \"ca\" in selections:\r\n",
        "    %time ca = return_ca()"
      ],
      "execution_count": null,
      "outputs": []
    },
    {
      "cell_type": "code",
      "metadata": {
        "id": "lQw0mNR3QJy3",
        "colab": {
          "base_uri": "https://localhost:8080/"
        },
        "outputId": "44cff7a8-ae9e-414f-c9f3-6c92e4c2df1d"
      },
      "source": [
        "if \"at\" in selections:\r\n",
        "    %time at = return_attempt()"
      ],
      "execution_count": null,
      "outputs": [
        {
          "output_type": "stream",
          "text": [
            "CPU times: user 59.3 s, sys: 7.23 s, total: 1min 6s\n",
            "Wall time: 1min 6s\n"
          ],
          "name": "stdout"
        }
      ]
    },
    {
      "cell_type": "code",
      "metadata": {
        "id": "BgJckHd9R47p",
        "colab": {
          "base_uri": "https://localhost:8080/"
        },
        "outputId": "4f3d6458-9167-4428-8923-784b7441634a"
      },
      "source": [
        "if \"ra\" in selections:\r\n",
        "    %time ra = return_r_avg(add_start_token=True, N_avg = N_avg)"
      ],
      "execution_count": null,
      "outputs": [
        {
          "output_type": "stream",
          "text": [
            "CPU times: user 40.7 s, sys: 829 ms, total: 41.5 s\n",
            "Wall time: 40.5 s\n"
          ],
          "name": "stdout"
        }
      ]
    },
    {
      "cell_type": "code",
      "metadata": {
        "id": "gCZ0-bcyNAxi"
      },
      "source": [
        "if \"ex\" in selections:\r\n",
        "    %time ex = return_ex()"
      ],
      "execution_count": null,
      "outputs": []
    },
    {
      "cell_type": "code",
      "metadata": {
        "id": "YrREQHH1RR84"
      },
      "source": [
        "bins = list(range(30)) + [32, 35, 40, 48, 60, 80, 120, 299, 300]\r\n",
        "if \"etg\" in selections:\r\n",
        "    %time etg = return_etg(bins)\r\n",
        "    # %time etg = return_etg(N_groups)\r\n"
      ],
      "execution_count": null,
      "outputs": []
    },
    {
      "cell_type": "code",
      "metadata": {
        "id": "f7OIGHkzpVYN"
      },
      "source": [
        "if \"ltc\" in selections:\n",
        "    %time ltc = return_ltc()"
      ],
      "execution_count": null,
      "outputs": []
    },
    {
      "cell_type": "code",
      "metadata": {
        "id": "ZFCxAcxx_6Op"
      },
      "source": [
        "if \"lt\" in selections:\n",
        "    %time lt_lists, quantile_transformer_lt = return_lt()"
      ],
      "execution_count": null,
      "outputs": []
    },
    {
      "cell_type": "code",
      "metadata": {
        "id": "I4lfwLZ1UHFE",
        "colab": {
          "base_uri": "https://localhost:8080/"
        },
        "outputId": "628f9978-59c8-4ebd-8047-0cbe75bdd428"
      },
      "source": [
        "if \"etc\" in selections:\r\n",
        "    %time etc = return_etc(zero_task=True)"
      ],
      "execution_count": null,
      "outputs": [
        {
          "output_type": "stream",
          "text": [
            "CPU times: user 39.5 s, sys: 746 ms, total: 40.2 s\n",
            "Wall time: 39.9 s\n"
          ],
          "name": "stdout"
        }
      ]
    },
    {
      "cell_type": "code",
      "metadata": {
        "id": "NRFLPPQ4_6Om"
      },
      "source": [
        "if \"p\" in selections:\n",
        "    %time p_lists = return_p()"
      ],
      "execution_count": null,
      "outputs": []
    },
    {
      "cell_type": "code",
      "metadata": {
        "id": "yEUWCAAXNsl3"
      },
      "source": [
        "if \"et\" in selections:\r\n",
        "    %time et_lists, quantile_transformer_et = return_et()"
      ],
      "execution_count": null,
      "outputs": []
    },
    {
      "cell_type": "code",
      "metadata": {
        "id": "x2pE03BaNqid"
      },
      "source": [
        "if \"tag\" in selections:\n",
        "    %time tag_lists = return_N_highest_tags() # TODO: specify N tags"
      ],
      "execution_count": null,
      "outputs": []
    },
    {
      "cell_type": "code",
      "metadata": {
        "id": "gF9IXoPo8VZW"
      },
      "source": [
        "if \"task\" in selections:\n",
        "    %time task_lists = return_task_binary()"
      ],
      "execution_count": null,
      "outputs": []
    },
    {
      "cell_type": "code",
      "metadata": {
        "id": "FUSTsXKtEX4o"
      },
      "source": [
        "feature_mapping = {\"E\": E_lists, \"r\": r_lists, \"p\": p_lists, \"et\": et_lists, \"lt\": lt_lists, \"tag\": tag_lists, \"task\": task_lists, \"et_std\": et_lists, \"ltc\": ltc, \"etc\": etc, \"ex\": ex, \"etg\": etg, \"ra\": ra, \"at\": at, \"ca\": ca, \"r_dup\": r_dup, \"v\": v_lists, \"ltg\": ltg}\n",
        "type_mapping = {\"E\": tf.int32, \"r\": tf.int32, \"p\": tf.int32, \"et\": tf.float32, \"et_std\": tf.float32, \"lt\": tf.float32, \"tag\": tf.float32, \"task\": tf.float32, \"ltc\":tf.int32, \"etc\": tf.int32, \"ex\": tf.int32, \"etg\": tf.int32, \"ra\": tf.int32, \"at\": tf.int32, \"ca\": tf.int32, \"r_dup\": tf.int32, \"v\": tf.int32, \"ltg\": tf.int32}\n",
        "pad_mapping = {\"E\": N_questions, \"r\": N_response, \"p\": 0, \"et\": 0.5, \"et_std\": 0.0, \"lt\": 0.5, \"tag\": 2.0, \"task\": float(N_task), \"ltc\": N_lag+1, \"etc\": N_et+1, \"ex\": 2, \"etg\": len(bins)+1, \"ra\": N_avg+1, \"at\": N_attempt, \"ca\": N_avg+1, \"r_dup\": N_response, \"v\": N_response, \"ltg\": N_ltg+1}\n",
        "vocab_mapping = {\"E\": N_questions+1, \"r\": N_response+2, \"et\":None, \"p\": N_parts+1, \"lt\": None, \"tag\": 3.0, \"task\": float(N_task+1), \"et_std\": float(300), \"ltc\": N_lag+2, \"etc\": N_et+2, \"ex\": 4, \"etg\": len(bins)+2, \"ra\": N_avg+2, \"at\": N_attempt+1, \"ca\": N_avg+2, \"r_dup\": N_response+2, \"v\": N_response+1, \"ltg\": N_ltg+2}\n",
        "pad_shapes = {\"E\": [THR_E], \"r\": [THR_E+1], \"p\": [THR_E], \"et\": [THR_E], \"et_std\": [THR_E],  \"lt\": [THR_E], \"tag\": [THR_E], \"task\": [THR_E], \"ltc\": [THR_E], \"etc\": [THR_E], \"ex\": [THR_E], \"etg\": [THR_E], \"ra\": [THR_E], \"at\": [THR_E], \"ca\": [THR_E], \"r_dup\": [THR_E], \"v\": [THR_E], \"ltg\": [THR_E]}"
      ],
      "execution_count": null,
      "outputs": []
    },
    {
      "cell_type": "code",
      "metadata": {
        "id": "_g8Yp5YRrtXw"
      },
      "source": [
        "def save_as_dict(df, filename):\n",
        "    seq_dict = df.to_dict()\n",
        "    with open(os.path.join(OUTPUT_FOLDER_DICT, filename), 'wb') as handle:\n",
        "      pickle.dump(seq_dict, handle, protocol=pickle.HIGHEST_PROTOCOL)"
      ],
      "execution_count": null,
      "outputs": []
    },
    {
      "cell_type": "code",
      "metadata": {
        "id": "poOMvtlCq1Pl"
      },
      "source": [
        "if SAVE_DICTS:\n",
        "  OUTPUT_FOLDER_DICT = f\"seq-dict-{THR_E}\"\n",
        "  os.makedirs(OUTPUT_FOLDER_DICT, exist_ok=True)\n",
        "\n",
        "  for feature in selections:\n",
        "      feat_df = feature_mapping[feature]\n",
        "      feat_df = feat_df.apply(lambda x: x[-THR_E:]) # Take last THR_E in history \n",
        "      filename = f\"{feature}.pickle\"\n",
        "      save_as_dict(feat_df, filename)\n",
        "  shutil.move(OUTPUT_FOLDER_DICT, OUTPUT_FOLDER)"
      ],
      "execution_count": null,
      "outputs": []
    },
    {
      "cell_type": "code",
      "metadata": {
        "id": "ipaNyd2L4E3f"
      },
      "source": [
        "# # Add start token!\r\n",
        "# # Answers\r\n",
        "# r_lists = r_lists.apply(lambda x: [3] + x) # Start token = 3\r\n",
        "# feature_mapping[\"r\"] = r_lists"
      ],
      "execution_count": null,
      "outputs": []
    },
    {
      "cell_type": "code",
      "metadata": {
        "id": "6aQlsiawcO-8"
      },
      "source": [
        "# # Running answers\r\n",
        "# if \"ra\" in selections:\r\n",
        "#     ra = ra.apply(lambda x: [N_avg] + x[:-1]) # Start token = 101\r\n",
        "#     feature_mapping[\"ra\"] = ra"
      ],
      "execution_count": null,
      "outputs": []
    },
    {
      "cell_type": "code",
      "metadata": {
        "id": "gtGXR1IZvyKP"
      },
      "source": [
        "vocab_sizes = [vocab_mapping[select] for select in selections]\n",
        "feature_lists = [feature_mapping[select] for select in selections]"
      ],
      "execution_count": null,
      "outputs": []
    },
    {
      "cell_type": "code",
      "metadata": {
        "id": "ai9vHiP4I1hI"
      },
      "source": [
        "PADDING_VALUES = tuple((pad_mapping[select] for select in selections))\n",
        "OUTPUT_TYPES = tuple((type_mapping[select] for select in selections))\n",
        "PADDED_SHAPES = tuple((pad_shapes[select] for select in selections))"
      ],
      "execution_count": null,
      "outputs": []
    },
    {
      "cell_type": "code",
      "metadata": {
        "id": "sO-UUR-V21KT",
        "colab": {
          "base_uri": "https://localhost:8080/"
        },
        "outputId": "2e50ed19-3ec4-4342-9916-719e73ad87a1"
      },
      "source": [
        "feature_lists"
      ],
      "execution_count": null,
      "outputs": [
        {
          "output_type": "execute_result",
          "data": {
            "text/plain": [
              "[user_id\n",
              " 115           [5692, 5716, 128, 7860, 7922, 156, 51, 50, 789...\n",
              " 124           [7900, 7876, 175, 1278, 2064, 2063, 2065, 3364...\n",
              " 2746          [5273, 758, 5976, 236, 404, 382, 405, 873, 531...\n",
              " 5382          [5000, 3944, 217, 5844, 5965, 4990, 5235, 6050...\n",
              " 8623          [3915, 4750, 6456, 3968, 6104, 5738, 6435, 549...\n",
              "                                     ...                        \n",
              " 2147470770    [7900, 7876, 175, 1278, 2064, 2065, 2063, 3363...\n",
              " 2147470777    [7900, 7876, 175, 1278, 2065, 2064, 2063, 3365...\n",
              " 2147481750    [4137, 1270, 9261, 8201, 367, 378, 214, 6071, ...\n",
              " 2147482216    [3748, 4765, 5474, 9261, 4665, 5987, 6666, 561...\n",
              " 2147482888    [6147, 4792, 5738, 6102, 4748, 7956, 6435, 928...\n",
              " Name: content_id, Length: 393656, dtype: object, user_id\n",
              " 115           [3, 1, 1, 1, 1, 1, 1, 1, 1, 1, 1, 0, 0, 0, 1, ...\n",
              " 124           [3, 1, 0, 1, 0, 0, 0, 1, 0, 0, 0, 0, 1, 0, 1, ...\n",
              " 2746          [3, 0, 0, 0, 1, 0, 1, 1, 1, 1, 0, 1, 1, 0, 1, ...\n",
              " 5382          [3, 1, 0, 1, 0, 1, 1, 1, 1, 0, 0, 0, 1, 0, 1, ...\n",
              " 8623          [3, 1, 1, 1, 1, 1, 1, 1, 0, 0, 1, 1, 0, 0, 1, ...\n",
              "                                     ...                        \n",
              " 2147470770    [3, 1, 1, 1, 1, 1, 1, 0, 0, 0, 0, 0, 0, 0, 1, ...\n",
              " 2147470777    [3, 0, 1, 0, 1, 1, 0, 0, 1, 1, 0, 0, 1, 0, 1, ...\n",
              " 2147481750    [3, 0, 0, 1, 1, 1, 1, 1, 1, 1, 0, 1, 1, 1, 1, ...\n",
              " 2147482216    [3, 0, 0, 0, 1, 1, 0, 0, 0, 0, 1, 0, 0, 1, 1, ...\n",
              " 2147482888    [3, 1, 1, 1, 0, 1, 1, 0, 0, 0, 0, 1, 0, 0, 1, ...\n",
              " Name: answered_correctly, Length: 393656, dtype: object, user_id\n",
              " 115           [301, 37, 55, 19, 11, 5, 17, 17, 16, 16, 17, 2...\n",
              " 124           [301, 26, 29, 26, 18, 0, 0, 33, 0, 0, 21, 0, 0...\n",
              " 2746          [301, 28, 17, 24, 20, 16, 16, 19, 18, 18, 20, ...\n",
              " 5382          [301, 24, 35, 88, 18, 12, 5, 92, 70, 14, 79, 6...\n",
              " 8623          [301, 16, 33, 30, 40, 35, 30, 29, 15, 19, 14, ...\n",
              "                                     ...                        \n",
              " 2147470770    [301, 21, 22, 26, 16, 0, 0, 25, 0, 0, 24, 0, 0...\n",
              " 2147470777    [301, 23, 23, 23, 17, 0, 0, 26, 0, 0, 18, 0, 0...\n",
              " 2147481750    [301, 19, 18, 8, 21, 15, 15, 18, 17, 14, 22, 2...\n",
              " 2147482216    [301, 38, 27, 17, 9, 12, 28, 22, 25, 15, 19, 1...\n",
              " 2147482888    [301, 15, 18, 21, 21, 16, 20, 41, 41, 30, 18, ...\n",
              " Name: etc, Length: 393656, dtype: object, user_id\n",
              " 115           [173, 49, 53, 5, 1, 11, 11, 10, 10, 11, 16, 17...\n",
              " 124           [173, 25, 21, 14, 92, 0, 0, 61, 0, 0, 64, 0, 0...\n",
              " 2746          [173, 14, 19, 15, 12, 12, 15, 88, 41, 37, 21, ...\n",
              " 5382          [173, 32, 83, 14, 7, 1, 86, 66, 10, 76, 64, 15...\n",
              " 8623          [173, 31, 26, 36, 31, 26, 24, 11, 14, 10, 33, ...\n",
              "                                     ...                        \n",
              " 2147470770    [173, 17, 20, 10, 70, 0, 0, 69, 0, 0, 45, 0, 0...\n",
              " 2147470777    [173, 19, 157, 12, 99, 0, 0, 94, 0, 0, 57, 0, ...\n",
              " 2147481750    [173, 15, 3, 16, 10, 10, 16, 12, 9, 17, 67, 14...\n",
              " 2147482216    [173, 23, 12, 4, 7, 22, 17, 20, 129, 51, 39, 4...\n",
              " 2147482888    [173, 13, 15, 16, 11, 15, 35, 168, 30, 48, 139...\n",
              " Name: ltg, Length: 393656, dtype: object, user_id\n",
              " 115           [0, 0, 0, 0, 0, 0, 0, 0, 0, 0, 0, 0, 0, 0, 0, ...\n",
              " 124           [0, 0, 0, 0, 0, 0, 0, 0, 0, 0, 0, 0, 0, 0, 0, ...\n",
              " 2746          [0, 0, 0, 0, 0, 0, 0, 0, 0, 0, 0, 0, 0, 1, 1, ...\n",
              " 5382          [0, 0, 0, 0, 0, 0, 0, 0, 0, 0, 0, 0, 0, 0, 0, ...\n",
              " 8623          [0, 0, 0, 0, 0, 0, 0, 0, 0, 0, 0, 0, 0, 0, 0, ...\n",
              "                                     ...                        \n",
              " 2147470770    [0, 0, 0, 0, 0, 0, 0, 0, 0, 0, 0, 0, 0, 0, 0, ...\n",
              " 2147470777    [0, 0, 0, 0, 0, 0, 0, 0, 0, 0, 0, 0, 0, 0, 0, ...\n",
              " 2147481750    [0, 0, 0, 0, 0, 0, 0, 0, 0, 0, 0, 0, 0, 0, 0, ...\n",
              " 2147482216    [0, 0, 0, 0, 0, 0, 0, 0, 0, 0, 0, 0, 0, 0, 0, ...\n",
              " 2147482888    [0, 0, 0, 0, 0, 0, 0, 0, 0, 0, 0, 0, 0, 0, 0, ...\n",
              " Name: attempt, Length: 393656, dtype: object, user_id\n",
              " 115           [101, 100, 100, 100, 100, 100, 100, 100, 100, ...\n",
              " 124           [101, 100, 50, 67, 50, 40, 33, 43, 38, 33, 30,...\n",
              " 2746          [101, 0, 0, 0, 25, 20, 33, 43, 50, 56, 50, 55,...\n",
              " 5382          [101, 100, 50, 67, 50, 60, 67, 71, 75, 67, 60,...\n",
              " 8623          [101, 100, 100, 100, 100, 100, 100, 100, 88, 7...\n",
              "                                     ...                        \n",
              " 2147470770    [101, 100, 100, 100, 100, 100, 100, 86, 75, 67...\n",
              " 2147470777    [101, 0, 50, 33, 50, 60, 50, 43, 50, 56, 50, 4...\n",
              " 2147481750    [101, 0, 0, 33, 50, 60, 67, 71, 75, 78, 70, 73...\n",
              " 2147482216    [101, 0, 0, 0, 25, 40, 33, 29, 25, 22, 30, 27,...\n",
              " 2147482888    [101, 100, 100, 100, 75, 80, 83, 71, 62, 56, 5...\n",
              " Name: ra, Length: 393656, dtype: object]"
            ]
          },
          "metadata": {
            "tags": []
          },
          "execution_count": 73
        }
      ]
    },
    {
      "cell_type": "code",
      "metadata": {
        "cellView": "both",
        "id": "POEyvHfcIBws",
        "colab": {
          "base_uri": "https://localhost:8080/"
        },
        "outputId": "917fb98f-4e6b-4b91-c03c-ed52b0af90be"
      },
      "source": [
        "try:\n",
        "  del train\n",
        "except Exception as e:\n",
        "  print(\"train already deleted\")\n",
        "gc.collect(), gc.collect()"
      ],
      "execution_count": null,
      "outputs": [
        {
          "output_type": "stream",
          "text": [
            "train already deleted\n"
          ],
          "name": "stdout"
        },
        {
          "output_type": "execute_result",
          "data": {
            "text/plain": [
              "(7740, 0)"
            ]
          },
          "metadata": {
            "tags": []
          },
          "execution_count": 74
        }
      ]
    },
    {
      "cell_type": "markdown",
      "metadata": {
        "id": "LzzYXM3bba7p"
      },
      "source": [
        "# Create train/val datasets"
      ]
    },
    {
      "cell_type": "code",
      "metadata": {
        "id": "MJMvNzqIY8QS"
      },
      "source": [
        "# Lists of numpy arrays\r\n",
        "train_list = [features.values[:train_len] for features in feature_lists]\r\n",
        "val_list = [features.values[train_len:] for features in feature_lists]"
      ],
      "execution_count": null,
      "outputs": []
    },
    {
      "cell_type": "code",
      "metadata": {
        "id": "2wkQrxFMtI-s"
      },
      "source": [
        "def select_window_size(*x):\n",
        "    series_len = len(x[0]) # Length of series\n",
        "    if series_len <= THR_E: # Just return the sequence!\n",
        "        return x\n",
        "    else: # Random select from sequence\n",
        "        max_select = series_len - THR_E\n",
        "        random_select = tf.random.uniform(shape=(), minval=0, maxval=max_select, dtype=tf.int32)\n",
        "        x = [i[random_select:random_select+THR_E] for i in x]\n",
        "        x = tuple(x)\n",
        "        return x"
      ],
      "execution_count": null,
      "outputs": []
    },
    {
      "cell_type": "code",
      "metadata": {
        "id": "teDfc5v2UNAp",
        "colab": {
          "base_uri": "https://localhost:8080/"
        },
        "outputId": "88865738-d104-41f6-fcdd-c19111268442"
      },
      "source": [
        "train_list"
      ],
      "execution_count": null,
      "outputs": [
        {
          "output_type": "execute_result",
          "data": {
            "text/plain": [
              "[array([list([5692, 5716, 128, 7860, 7922, 156, 51, 50, 7896, 7863, 152, 104, 108, 7900, 7901, 7971, 25, 183, 7926, 7927, 4, 7984, 45, 185, 55, 7876, 6, 172, 7898, 175, 100, 7859, 57, 7948, 151, 167, 7897, 7882, 7962, 1278, 2065, 2064, 2063, 3363, 3365, 3364]),\n",
              "        list([7900, 7876, 175, 1278, 2064, 2063, 2065, 3364, 3365, 3363, 2948, 2947, 2946, 2595, 2593, 2594, 4492, 4120, 4696, 6116, 6173, 6370, 6909, 6910, 6908, 6911, 7218, 7216, 7217, 7219]),\n",
              "        list([5273, 758, 5976, 236, 404, 382, 405, 873, 531, 775, 294, 714, 297, 297, 775, 1295, 10684, 1014, 484]),\n",
              "        ...,\n",
              "        list([7900, 7876, 175, 1278, 2064, 2063, 2065, 3364, 3365, 3363, 2947, 2948, 2946, 2593, 2595, 2594, 4492, 4120, 4696, 6116, 6173, 6370, 6878, 6880, 6879, 6877, 7219, 7218, 7217, 7216, 6106, 4755, 9313, 3586, 4476, 6432, 5845, 9094, 6191, 5437]),\n",
              "        list([7900, 7876, 175, 1278, 2064, 2063, 2065, 3364, 3363, 3365, 2946, 2948, 2947, 2594, 2595, 2593, 4492, 4120, 4696, 6116, 6173, 6370, 6879, 6880, 6877, 6878, 7219, 7218, 7216, 7217]),\n",
              "        list([7900, 7876, 175, 1278, 2065, 2064, 2063, 3363, 3364, 3365, 2947, 2948, 2946, 2593, 2594, 2595, 4492, 4120, 4696, 6116, 6173, 6370, 6878, 6877, 6880, 6879, 7217, 7218, 7216, 7219])],\n",
              "       dtype=object),\n",
              " array([list([3, 1, 1, 1, 1, 1, 1, 1, 1, 1, 1, 0, 0, 0, 1, 1, 1, 1, 0, 1, 1, 0, 0, 0, 0, 1, 1, 1, 1, 1, 0, 1, 0, 1, 1, 1, 1, 0, 1, 1, 1, 1, 1, 0, 0, 0, 1]),\n",
              "        list([3, 1, 0, 1, 0, 0, 0, 1, 0, 0, 0, 0, 1, 0, 1, 0, 0, 0, 0, 0, 1, 0, 0, 1, 0, 0, 0, 0, 0, 0, 0]),\n",
              "        list([3, 0, 0, 0, 1, 0, 1, 1, 1, 1, 0, 1, 1, 0, 1, 0, 1, 1, 0, 1]),\n",
              "        ...,\n",
              "        list([3, 1, 0, 0, 1, 0, 0, 0, 0, 0, 1, 0, 0, 0, 0, 0, 1, 0, 0, 0, 0, 0, 0, 1, 1, 0, 0, 0, 1, 1, 1, 0, 1, 1, 1, 0, 1, 1, 1, 1, 0]),\n",
              "        list([3, 0, 0, 0, 0, 1, 1, 0, 1, 0, 0, 0, 1, 0, 0, 0, 0, 1, 0, 0, 0, 0, 0, 1, 1, 0, 1, 0, 0, 0, 1]),\n",
              "        list([3, 1, 0, 0, 0, 0, 1, 0, 0, 1, 0, 0, 0, 0, 0, 1, 0, 1, 0, 1, 0, 0, 1, 1, 1, 0, 0, 0, 1, 1, 0])],\n",
              "       dtype=object),\n",
              " array([list([301, 37, 55, 19, 11, 5, 17, 17, 16, 16, 17, 22, 23, 21, 24, 22, 21, 20, 18, 17, 29, 20, 19, 21, 22, 16, 20, 22, 22, 23, 20, 15, 20, 20, 22, 19, 17, 20, 17, 21, 17, 0, 0, 14, 0, 0]),\n",
              "        list([301, 26, 29, 26, 18, 0, 0, 33, 0, 0, 21, 0, 0, 22, 0, 0, 15, 32, 23, 27, 14, 17, 7, 0, 0, 0, 6, 0, 0, 0]),\n",
              "        list([301, 28, 17, 24, 20, 16, 16, 19, 18, 18, 20, 13, 13, 16, 15, 16, 17, 19, 20]),\n",
              "        ...,\n",
              "        list([301, 19, 28, 25, 13, 0, 0, 22, 0, 0, 12, 0, 0, 2, 0, 0, 1, 44, 13, 68, 25, 48, 21, 0, 0, 0, 36, 0, 0, 0, 60, 88, 18, 34, 10, 13, 19, 5, 11, 9]),\n",
              "        list([301, 27, 20, 13, 16, 0, 0, 47, 0, 0, 19, 0, 0, 14, 0, 0, 19, 26, 15, 18, 17, 30, 16, 0, 0, 0, 24, 0, 0, 0]),\n",
              "        list([301, 18, 18, 20, 17, 0, 0, 22, 0, 0, 17, 0, 0, 15, 0, 0, 24, 25, 21, 9, 7, 10, 11, 0, 0, 0, 26, 0, 0, 0])],\n",
              "       dtype=object),\n",
              " array([list([173, 49, 53, 5, 1, 11, 11, 10, 10, 11, 16, 17, 15, 18, 16, 15, 14, 12, 11, 23, 14, 12, 16, 15, 10, 15, 16, 16, 17, 14, 9, 14, 141, 25, 23, 29, 31, 48, 45, 170, 95, 0, 0, 99, 0, 0]),\n",
              "        list([173, 25, 21, 14, 92, 0, 0, 61, 0, 0, 64, 0, 0, 44, 0, 0, 28, 18, 22, 9, 13, 2, 23, 0, 0, 0, 9, 0, 0, 0]),\n",
              "        list([173, 14, 19, 15, 12, 12, 15, 88, 41, 37, 21, 19, 36, 128, 22, 23, 19, 30, 27]),\n",
              "        ...,\n",
              "        list([173, 24, 19, 8, 61, 0, 0, 32, 0, 0, 1, 0, 0, 0, 0, 0, 39, 8, 63, 20, 43, 16, 110, 0, 0, 0, 128, 0, 0, 0, 171, 22, 33, 9, 16, 21, 4, 9, 8, 16]),\n",
              "        list([173, 16, 8, 11, 109, 0, 0, 50, 0, 0, 36, 0, 0, 52, 0, 0, 21, 10, 13, 12, 25, 11, 86, 0, 0, 0, 108, 0, 0, 0]),\n",
              "        list([173, 13, 15, 11, 60, 0, 0, 46, 0, 0, 39, 0, 0, 68, 0, 0, 20, 16, 3, 1, 4, 6, 92, 0, 0, 0, 118, 0, 0, 0])],\n",
              "       dtype=object),\n",
              " array([list([0, 0, 0, 0, 0, 0, 0, 0, 0, 0, 0, 0, 0, 0, 0, 0, 0, 0, 0, 0, 0, 0, 0, 0, 0, 0, 0, 0, 0, 0, 0, 0, 0, 0, 0, 0, 0, 0, 0, 0, 0, 0, 0, 0, 0, 0]),\n",
              "        list([0, 0, 0, 0, 0, 0, 0, 0, 0, 0, 0, 0, 0, 0, 0, 0, 0, 0, 0, 0, 0, 0, 0, 0, 0, 0, 0, 0, 0, 0]),\n",
              "        list([0, 0, 0, 0, 0, 0, 0, 0, 0, 0, 0, 0, 0, 1, 1, 0, 0, 0, 0]),\n",
              "        ...,\n",
              "        list([0, 0, 0, 0, 0, 0, 0, 0, 0, 0, 0, 0, 0, 0, 0, 0, 0, 0, 0, 0, 0, 0, 0, 0, 0, 0, 0, 0, 0, 0, 0, 0, 0, 0, 0, 0, 0, 0, 0, 0]),\n",
              "        list([0, 0, 0, 0, 0, 0, 0, 0, 0, 0, 0, 0, 0, 0, 0, 0, 0, 0, 0, 0, 0, 0, 0, 0, 0, 0, 0, 0, 0, 0]),\n",
              "        list([0, 0, 0, 0, 0, 0, 0, 0, 0, 0, 0, 0, 0, 0, 0, 0, 0, 0, 0, 0, 0, 0, 0, 0, 0, 0, 0, 0, 0, 0])],\n",
              "       dtype=object),\n",
              " array([list([101, 100, 100, 100, 100, 100, 100, 100, 100, 100, 100, 91, 83, 77, 79, 80, 81, 82, 78, 79, 80, 76, 73, 70, 67, 68, 69, 70, 71, 72, 70, 71, 69, 70, 71, 71, 72, 70, 71, 72, 72, 73, 74, 72, 70, 69]),\n",
              "        list([101, 100, 50, 67, 50, 40, 33, 43, 38, 33, 30, 27, 33, 31, 36, 33, 31, 29, 28, 26, 30, 29, 27, 30, 29, 28, 27, 26, 25, 24]),\n",
              "        list([101, 0, 0, 0, 25, 20, 33, 43, 50, 56, 50, 55, 58, 54, 57, 53, 56, 59, 56]),\n",
              "        ...,\n",
              "        list([101, 100, 50, 33, 50, 40, 33, 29, 25, 22, 30, 27, 25, 23, 21, 20, 25, 24, 22, 21, 20, 19, 18, 22, 25, 24, 23, 22, 25, 28, 30, 29, 31, 33, 35, 34, 36, 38, 39, 41]),\n",
              "        list([101, 0, 0, 0, 0, 20, 33, 29, 38, 33, 30, 27, 33, 31, 29, 27, 25, 29, 28, 26, 25, 24, 23, 26, 29, 28, 31, 30, 29, 28]),\n",
              "        list([101, 100, 50, 33, 25, 20, 33, 29, 25, 33, 30, 27, 25, 23, 21, 27, 25, 29, 28, 32, 30, 29, 32, 35, 38, 36, 35, 33, 36, 38])],\n",
              "       dtype=object)]"
            ]
          },
          "metadata": {
            "tags": []
          },
          "execution_count": 77
        }
      ]
    },
    {
      "cell_type": "code",
      "metadata": {
        "id": "n_uGV6iLARz1"
      },
      "source": [
        "def create_train_dataset(N_training_per_epoch, probs_train):\n",
        "  index = np.random.choice(train_len, N_training_per_epoch, replace=True, p = probs_train) # random indexing (similar to shuffling)\n",
        "  tr_list = [features[index] for features in train_list] # Selecting by index \n",
        "  train_ds = (tf.data.Dataset\n",
        "                  .from_generator(lambda: iter(zip(*tr_list)), output_types=OUTPUT_TYPES)\n",
        "                  .map(select_window_size)\n",
        "                  .padded_batch(batch_size = BATCH_SIZE, padded_shapes = PADDED_SHAPES, padding_values = PADDING_VALUES)\n",
        "                  .prefetch(AUTO)\n",
        "  )\n",
        "  return train_ds"
      ],
      "execution_count": null,
      "outputs": []
    },
    {
      "cell_type": "code",
      "metadata": {
        "id": "MyI8fDf7Ik4A"
      },
      "source": [
        "def create_val_dataset(N_valid_per_epoch, probs_val):\n",
        "  index = np.random.choice(val_len, N_valid_per_epoch, replace=True, p = probs_val) # random indexing (similar to shuffling)\n",
        "  vl_list = [features[index] for features in val_list] # Selecting by index \n",
        "  val_ds = (tf.data.Dataset\n",
        "                  .from_generator(lambda: iter(zip(*vl_list)), output_types=OUTPUT_TYPES)\n",
        "                  .map(select_window_size)\n",
        "                  .padded_batch(batch_size = BATCH_SIZE, padded_shapes = PADDED_SHAPES, padding_values = PADDING_VALUES)\n",
        "                  .cache()\n",
        "                  .prefetch(AUTO)\n",
        "  )\n",
        "  return val_ds"
      ],
      "execution_count": null,
      "outputs": []
    },
    {
      "cell_type": "code",
      "metadata": {
        "id": "oDJudy20sEdg"
      },
      "source": [
        "val_dataset = create_val_dataset(N_SELECT_PER_EPOCH, PROBS_VAL)\r\n",
        "a = iter(val_dataset) # Small check"
      ],
      "execution_count": null,
      "outputs": []
    },
    {
      "cell_type": "code",
      "metadata": {
        "id": "tMsYgAgVJhxq",
        "colab": {
          "base_uri": "https://localhost:8080/"
        },
        "outputId": "a68a4e9e-df6c-4d7a-d9cd-8242f4fbb39a"
      },
      "source": [
        "next(a)"
      ],
      "execution_count": null,
      "outputs": [
        {
          "output_type": "execute_result",
          "data": {
            "text/plain": [
              "(<tf.Tensor: shape=(128, 100), dtype=int32, numpy=\n",
              " array([[   41, 10617,     5, ...,  5252,  4410,  9468],\n",
              "        [ 4758,  5689,  5241, ..., 10540, 10584,     9],\n",
              "        [ 3379,  3380,  3378, ...,  8868,  6276,  4416],\n",
              "        ...,\n",
              "        [ 4190,  4020,  6145, ...,  2182,  2184,  2064],\n",
              "        [ 7898,   112,   457, ...,  3510,  3512,  3511],\n",
              "        [ 4476,  4633,  9484, ...,  1071,   846,   923]], dtype=int32)>,\n",
              " <tf.Tensor: shape=(128, 101), dtype=int32, numpy=\n",
              " array([[1, 1, 1, ..., 1, 1, 2],\n",
              "        [0, 0, 1, ..., 1, 1, 2],\n",
              "        [1, 1, 0, ..., 1, 1, 2],\n",
              "        ...,\n",
              "        [0, 0, 1, ..., 1, 0, 2],\n",
              "        [1, 0, 1, ..., 0, 1, 2],\n",
              "        [1, 1, 1, ..., 1, 1, 2]], dtype=int32)>,\n",
              " <tf.Tensor: shape=(128, 100), dtype=int32, numpy=\n",
              " array([[37, 20, 22, ..., 27, 14, 25],\n",
              "        [31, 21, 21, ..., 15, 20, 19],\n",
              "        [47,  0,  0, ..., 70, 30, 33],\n",
              "        ...,\n",
              "        [29, 20, 42, ...,  0,  0, 35],\n",
              "        [15, 24, 29, ..., 20,  0,  0],\n",
              "        [ 2,  2,  9, ..., 23, 11, 21]], dtype=int32)>,\n",
              " <tf.Tensor: shape=(128, 100), dtype=int32, numpy=\n",
              " array([[159,  20,  34, ...,  13,  24,  21],\n",
              "        [141,  21,  14, ...,  68,  52,  82],\n",
              "        [112,   0,   0, ...,  33, 149,  29],\n",
              "        ...,\n",
              "        [ 33,  51,  19, ...,   0,   0, 103],\n",
              "        [ 30,  36,  69, ...,  86,   0,   0],\n",
              "        [  1,  21,  28, ...,  19,  27,  26]], dtype=int32)>,\n",
              " <tf.Tensor: shape=(128, 100), dtype=int32, numpy=\n",
              " array([[0, 0, 0, ..., 0, 0, 0],\n",
              "        [1, 1, 1, ..., 0, 0, 0],\n",
              "        [0, 0, 0, ..., 0, 0, 0],\n",
              "        ...,\n",
              "        [0, 0, 0, ..., 0, 0, 0],\n",
              "        [0, 0, 0, ..., 0, 0, 0],\n",
              "        [1, 0, 0, ..., 0, 0, 0]], dtype=int32)>,\n",
              " <tf.Tensor: shape=(128, 100), dtype=int32, numpy=\n",
              " array([[74, 74, 74, ..., 74, 74, 74],\n",
              "        [45, 44, 45, ..., 45, 45, 45],\n",
              "        [74, 74, 74, ..., 75, 75, 75],\n",
              "        ...,\n",
              "        [61, 58, 60, ..., 60, 60, 60],\n",
              "        [67, 65, 66, ..., 77, 77, 77],\n",
              "        [66, 66, 66, ..., 71, 71, 71]], dtype=int32)>)"
            ]
          },
          "metadata": {
            "tags": []
          },
          "execution_count": 81
        }
      ]
    },
    {
      "cell_type": "markdown",
      "metadata": {
        "id": "Yz9Fk6sp6sgP"
      },
      "source": [
        "## Get model and set hyperparameters"
      ]
    },
    {
      "cell_type": "code",
      "metadata": {
        "id": "feqp6ENL6sgT"
      },
      "source": [
        "%run $MODEL_FILE"
      ],
      "execution_count": null,
      "outputs": []
    },
    {
      "cell_type": "code",
      "metadata": {
        "id": "hEQBB9KthwmS",
        "colab": {
          "base_uri": "https://localhost:8080/",
          "height": 35
        },
        "outputId": "b332ddee-5ceb-404e-90ed-045aa2bc7473"
      },
      "source": [
        "shutil.copy('/content/drive/My Drive/Colab Notebooks/demo-riiid-transformer.ipynb', OUTPUT_FOLDER)"
      ],
      "execution_count": null,
      "outputs": [
        {
          "output_type": "execute_result",
          "data": {
            "application/vnd.google.colaboratory.intrinsic+json": {
              "type": "string"
            },
            "text/plain": [
              "'27-Dec-riiid-1/demo-riiid-transformer.ipynb'"
            ]
          },
          "metadata": {
            "tags": []
          },
          "execution_count": 83
        }
      ]
    },
    {
      "cell_type": "code",
      "metadata": {
        "id": "D9IBAuXw6sgY",
        "colab": {
          "base_uri": "https://localhost:8080/"
        },
        "outputId": "dc575d32-f1b0-4082-f086-0947f36687c8"
      },
      "source": [
        "# Hyperparameters main model\n",
        "config = {\"features\": selections, \"n_features\": len(selections), \"vocab_sizes\": vocab_sizes, \n",
        "          \"enc_emb\": ENC_EMB, \"enc_dense\": ENC_DENSE, \"dec_emb\": DEC_EMB, \"dec_dense\": DEC_DENSE, \n",
        "          \"window_size\": THR_E, \"enc_num_layers\": 2, \"dec_num_layers\": 2, \"d_model\": 256, \n",
        "          \"dff\": 512, \"num_heads\": 8, \"dropout_rate\": 0.1, \"pos_encoding\": True,\n",
        "          \"padding_values\": PADDING_VALUES, \"output_types\": OUTPUT_TYPES, \"padded_shapes\": PADDED_SHAPES, \n",
        "          \"quantile_transformer_et\": quantile_transformer_et,  \"quantile_transformer_lt\": quantile_transformer_lt}\n",
        "\n",
        "with open(os.path.join(OUTPUT_FOLDER, \"config.pickle\"), 'wb') as handle:\n",
        "  pickle.dump(config, handle, protocol=pickle.HIGHEST_PROTOCOL)\n",
        "\n",
        "logging.info('config: %s', config)"
      ],
      "execution_count": null,
      "outputs": [
        {
          "output_type": "stream",
          "text": [
            "27-12 15:35 root         INFO     config: {'features': ['E', 'r', 'etc', 'ltg', 'at', 'ra'], 'n_features': 6, 'vocab_sizes': [13524, 4, 303, 175, 9, 103], 'enc_emb': [0, 4], 'enc_dense': [], 'dec_emb': [1, 2, 3, 5], 'dec_dense': [], 'window_size': 100, 'enc_num_layers': 2, 'dec_num_layers': 2, 'd_model': 256, 'dff': 512, 'num_heads': 8, 'dropout_rate': 0.1, 'pos_encoding': True, 'padding_values': (13523, 2, 302, 174, 8, 102), 'output_types': (tf.int32, tf.int32, tf.int32, tf.int32, tf.int32, tf.int32), 'padded_shapes': ([100], [101], [100], [100], [100], [100]), 'quantile_transformer_et': [], 'quantile_transformer_lt': []}\n"
          ],
          "name": "stderr"
        }
      ]
    },
    {
      "cell_type": "code",
      "metadata": {
        "id": "4gIEWr8V6sgf"
      },
      "source": [
        "transformer = create_model_separate_input(config)\n",
        "# tf.keras.utils.plot_model(transformer, os.path.join(OUTPUT_FOLDER, \"model_plot.png\"), show_shapes=True)"
      ],
      "execution_count": null,
      "outputs": []
    },
    {
      "cell_type": "markdown",
      "metadata": {
        "id": "DiW6F6Rv66fx"
      },
      "source": [
        "## Optimizer"
      ]
    },
    {
      "cell_type": "code",
      "metadata": {
        "id": "uWAf5VTW66fz"
      },
      "source": [
        "class CustomSchedule(tf.keras.optimizers.schedules.LearningRateSchedule):\n",
        "  def __init__(self, d_model, warmup_steps=4000):\n",
        "    super(CustomSchedule, self).__init__()\n",
        "    \n",
        "    self.d_model = d_model\n",
        "    self.d_model = tf.cast(self.d_model, tf.float32)\n",
        "\n",
        "    self.warmup_steps = warmup_steps\n",
        "  def __call__(self, step):\n",
        "    arg1 = tf.math.rsqrt(step)\n",
        "    arg2 = step * (self.warmup_steps ** -1.5)\n",
        "    \n",
        "    return tf.math.rsqrt(self.d_model) * tf.math.minimum(arg1, arg2)"
      ],
      "execution_count": null,
      "outputs": []
    },
    {
      "cell_type": "code",
      "metadata": {
        "id": "VYjhA2aa66f2"
      },
      "source": [
        "learning_rate = CustomSchedule(config[\"d_model\"])\n",
        "optimizer = tf.keras.optimizers.Adam(learning_rate, beta_1=0.9, beta_2=0.999, \n",
        "                                      epsilon=1e-9)"
      ],
      "execution_count": null,
      "outputs": []
    },
    {
      "cell_type": "markdown",
      "metadata": {
        "id": "VVVIhusN66f5"
      },
      "source": [
        "## Loss and metrics"
      ]
    },
    {
      "cell_type": "markdown",
      "metadata": {
        "id": "QdEZ2qRz66f6"
      },
      "source": [
        "Since the target sequences are padded, it is important to apply a padding mask when calculating the loss."
      ]
    },
    {
      "cell_type": "code",
      "metadata": {
        "id": "RNgoEGX666f6"
      },
      "source": [
        "# Loss and metric\n",
        "loss_object = tf.keras.losses.SparseCategoricalCrossentropy(\n",
        "    from_logits=True, reduction='none')\n",
        "\n",
        "accuracy_object = tf.keras.metrics.sparse_categorical_accuracy\n",
        "\n",
        "train_auc= tf.keras.metrics.AUC()\n",
        "val_auc= tf.keras.metrics.AUC()"
      ],
      "execution_count": null,
      "outputs": []
    },
    {
      "cell_type": "code",
      "metadata": {
        "id": "V_Bm57bt66f9"
      },
      "source": [
        "def loss_function(real, pred): # batch_size x seq_size x 1 vs  batch_size x seq_size x 3\n",
        "    mask = tf.math.logical_not(tf.math.equal(tf.squeeze(real), N_response)) # batch_size x seq_size\n",
        "    loss_ = loss_object(real, pred) # batch_size x seq_size\n",
        "    mask = tf.cast(mask, dtype=loss_.dtype)\n",
        "    \n",
        "    loss_ *= mask \n",
        "    loss_ = tf.reduce_sum(loss_)/tf.reduce_sum(mask) #loss becomes one value! (from all batches)\n",
        "    return loss_"
      ],
      "execution_count": null,
      "outputs": []
    },
    {
      "cell_type": "code",
      "metadata": {
        "id": "ahEaU3kN66f_"
      },
      "source": [
        "def metric_function(real, pred, auc_object): # batch_size x seq_size x 1 vs  batch_size x seq_size x 3\n",
        "    # Predict accuracy\n",
        "    mask = tf.math.logical_not(tf.math.equal(tf.squeeze(real), N_response)) # batch_size x seq_size\n",
        "    accuracy = accuracy_object(real, pred) # batch_size x seq_size\n",
        "    mask = tf.cast(mask, dtype=accuracy.dtype)\n",
        "    \n",
        "    accuracy *= mask\n",
        "    accuracy = 100*tf.reduce_sum(accuracy)/tf.reduce_sum(mask)\n",
        "    \n",
        "    # A work-around to predict AUC => is it stable?\n",
        "    pred = tf.nn.softmax(pred)\n",
        "    pred = pred[:,:,1] # pred that answer is correct\n",
        "    real = tf.keras.backend.flatten(real)\n",
        "    pred = tf.keras.backend.flatten(pred)\n",
        "    \n",
        "    idxs = tf.math.logical_not(tf.math.equal(real, N_response))\n",
        "    real = real[idxs]\n",
        "    pred = pred[idxs]\n",
        "    auc = auc_object(real, pred)\n",
        "    return accuracy"
      ],
      "execution_count": null,
      "outputs": []
    },
    {
      "cell_type": "code",
      "metadata": {
        "id": "Cm9x2sLp66gC"
      },
      "source": [
        "train_loss = tf.keras.metrics.Mean(name='train_loss')\n",
        "train_accuracy = tf.keras.metrics.Mean(name='train_accuracy')\n",
        "\n",
        "val_loss = tf.keras.metrics.Mean(name='val_loss')\n",
        "val_accuracy = tf.keras.metrics.Mean(name='val_accuracy')"
      ],
      "execution_count": null,
      "outputs": []
    },
    {
      "cell_type": "markdown",
      "metadata": {
        "id": "aeHumfr7zmMa"
      },
      "source": [
        "## Training and checkpointing"
      ]
    },
    {
      "cell_type": "markdown",
      "metadata": {
        "id": "Fzuf06YZp66w"
      },
      "source": [
        "Create the checkpoint path and the checkpoint manager. This will be used to save checkpoints every `n` epochs."
      ]
    },
    {
      "cell_type": "code",
      "metadata": {
        "id": "hNhuYfllndLZ"
      },
      "source": [
        "checkpoint_path = os.path.join(OUTPUT_FOLDER, \"checkpoints/\")\n",
        "ckpt = tf.train.Checkpoint(transformer=transformer,\n",
        "                           optimizer=optimizer)\n",
        "\n",
        "ckpt_manager = tf.train.CheckpointManager(ckpt, checkpoint_path, max_to_keep=1)\n",
        "\n",
        "# https://stackoverflow.com/questions/62919208/how-to-restore-a-specific-checkpoint-in-tensorflow2-to-implement-early-stopping\n",
        "\n",
        "# # if a checkpoint exists, restore the latest checkpoint.\n",
        "# if ckpt_manager.latest_checkpoint:\n",
        "#   ckpt.restore(ckpt_manager.latest_checkpoint)\n",
        "#   print ('Latest checkpoint restored!!')"
      ],
      "execution_count": null,
      "outputs": []
    },
    {
      "cell_type": "code",
      "metadata": {
        "id": "4nsLZJ6FznKF"
      },
      "source": [
        "@tf.function()\n",
        "def train_step(tar_real, *inputs):\n",
        "    with tf.GradientTape() as tape: \n",
        "        predictions = transformer(inputs, training=True)\n",
        "        tar_real = tf.expand_dims(tar_real, -1) # IMPORTANT! DOESN'T WORK WITHOUT IT. ALWAYS GIVES ERROR INCOMPATIBLE SHAPE. E.G. (32,169) vs. (32,169,3)\n",
        "        \n",
        "        loss = loss_function(tar_real, predictions)\n",
        "        accuracy = metric_function(tar_real, predictions, auc_object = train_auc)\n",
        "    \n",
        "    gradients = tape.gradient(loss, transformer.trainable_variables)    \n",
        "    optimizer.apply_gradients(zip(gradients, transformer.trainable_variables))\n",
        "\n",
        "    train_loss(loss)\n",
        "    train_accuracy(accuracy)\n",
        "\n",
        "@tf.function()\n",
        "def val_step(tar_real, *inputs):\n",
        "    predictions = transformer(inputs, training=False)\n",
        "    tar_real = tf.expand_dims(tar_real, -1) # IMPORTANT! DOESN'T WORK WITHOUT IT. ALWAYS GIVES ERROR INCOMPATIBLE SHAPE. E.G. (32,169) vs. (32,169,3)\n",
        "    \n",
        "    loss = loss_function(tar_real, predictions)\n",
        "    accuracy = metric_function(tar_real, predictions, auc_object = val_auc)\n",
        "\n",
        "    val_loss(loss)\n",
        "    val_accuracy(accuracy)"
      ],
      "execution_count": null,
      "outputs": []
    },
    {
      "cell_type": "code",
      "metadata": {
        "id": "bbvmaKNiznHZ",
        "colab": {
          "base_uri": "https://localhost:8080/",
          "height": 1000
        },
        "outputId": "cdbd4ce4-a505-40d8-8a6e-23752727608b"
      },
      "source": [
        "best_auc = 0\n",
        "for epoch in range(EPOCHS):\n",
        "    train_dataset = create_train_dataset(N_SELECT_PER_EPOCH, PROBS_TRAIN) # create train for each epoch\n",
        "    start = time.time()\n",
        "\n",
        "    train_loss.reset_states()\n",
        "    train_accuracy.reset_states()\n",
        "    train_auc.reset_states()\n",
        "    \n",
        "    val_loss.reset_states()\n",
        "    val_accuracy.reset_states()\n",
        "    val_auc.reset_states()\n",
        "\n",
        "    # Train\n",
        "    for (batch, (features)) in enumerate(train_dataset):\n",
        "        E, tar, rest = features[0], features[1], features[2:] \n",
        "        tar_inp = tar[:, :-1]\n",
        "        tar_real = tar[:, 1:]\n",
        "\n",
        "        inputs = [E, tar_inp] + list(rest)        \n",
        "        train_step(tar_real, inputs)\n",
        "        \n",
        "        if batch % PRINT_EVERY_N_BATCHES == 0:\n",
        "            print ('Epoch {} TRAIN Batch {} Loss {:.4f} Accuracy {:.4f} AUC {:.4f}'.format(\n",
        "              epoch + 1, batch, train_loss.result(), train_accuracy.result(), train_auc.result()))\n",
        "\n",
        "    logging.info('Epoch TRAIN {} Loss {:.4f} Accuracy {:.4f} AUC {:.4f}'.format(epoch + 1, \n",
        "                                                train_loss.result(), \n",
        "                                                train_accuracy.result(),\n",
        "                                                train_auc.result()\n",
        "                                                ))\n",
        "    \n",
        "    # Validate and save model\n",
        "    if (epoch + 1) % VAL_EVERY_N_EPOCHS == 0: \n",
        "      for (batch, (features)) in enumerate(val_dataset):\n",
        "          E, tar, rest = features[0], features[1], features[2:] \n",
        "          tar_inp = tar[:, :-1]\n",
        "          tar_real = tar[:, 1:]\n",
        "\n",
        "          inputs = [E, tar_inp] + list(rest)          \n",
        "          val_step(tar_real, inputs)\n",
        "\n",
        "          if batch % PRINT_EVERY_N_BATCHES == 0:\n",
        "              print ('Epoch {} VAL Batch {} Loss {:.4f} Accuracy {:.4f} AUC {:.4f}'.format(\n",
        "                epoch + 1, batch, val_loss.result(), val_accuracy.result(), val_auc.result()))\n",
        "      \n",
        "      logging.info('Epoch VAL {} Loss {:.4f} Accuracy {:.4f} AUC {:.4f}'.format(epoch + 1, \n",
        "                                          val_loss.result(), \n",
        "                                          val_accuracy.result(),\n",
        "                                          val_auc.result()\n",
        "                                          ))    \n",
        "       \n",
        "      if val_auc.result() > best_auc:\n",
        "          best_auc = val_auc.result()\n",
        "          ckpt_save_path = ckpt_manager.save()\n",
        "          logging.info('Saving checkpoint for epoch {} at {}'.format(epoch+1,\n",
        "                                                            ckpt_save_path))\n",
        "        \n",
        "    print ('Time taken for 1 epoch: {} secs\\n'.format(time.time() - start))"
      ],
      "execution_count": null,
      "outputs": [
        {
          "output_type": "stream",
          "text": [
            "Epoch 1 TRAIN Batch 0 Loss 0.9299 Accuracy 63.7076 AUC 0.5083\n",
            "Epoch 1 TRAIN Batch 50 Loss 0.7663 Accuracy 61.8310 AUC 0.5053\n",
            "Epoch 1 TRAIN Batch 100 Loss 0.7218 Accuracy 62.6180 AUC 0.5039\n",
            "Epoch 1 TRAIN Batch 150 Loss 0.7012 Accuracy 63.3085 AUC 0.5056\n",
            "Epoch 1 TRAIN Batch 200 Loss 0.6885 Accuracy 63.8791 AUC 0.5076\n",
            "Epoch 1 TRAIN Batch 250 Loss 0.6795 Accuracy 64.3067 AUC 0.5109\n",
            "Epoch 1 TRAIN Batch 300 Loss 0.6724 Accuracy 64.6960 AUC 0.5150\n",
            "Epoch 1 TRAIN Batch 350 Loss 0.6661 Accuracy 65.0000 AUC 0.5232\n",
            "Epoch 1 TRAIN Batch 400 Loss 0.6606 Accuracy 65.2510 AUC 0.5326\n",
            "Epoch 1 TRAIN Batch 450 Loss 0.6561 Accuracy 65.4574 AUC 0.5410\n",
            "Epoch 1 TRAIN Batch 500 Loss 0.6521 Accuracy 65.6529 AUC 0.5487\n",
            "Epoch 1 TRAIN Batch 550 Loss 0.6491 Accuracy 65.7869 AUC 0.5545\n",
            "Epoch 1 TRAIN Batch 600 Loss 0.6462 Accuracy 65.9305 AUC 0.5605\n",
            "Epoch 1 TRAIN Batch 650 Loss 0.6436 Accuracy 66.0594 AUC 0.5658\n",
            "Epoch 1 TRAIN Batch 700 Loss 0.6411 Accuracy 66.1915 AUC 0.5705\n",
            "Epoch 1 TRAIN Batch 750 Loss 0.6390 Accuracy 66.3026 AUC 0.5747\n"
          ],
          "name": "stdout"
        },
        {
          "output_type": "stream",
          "text": [
            "27-12 15:38 root         INFO     Epoch TRAIN 1 Loss 0.6379 Accuracy 66.3547 AUC 0.5767\n"
          ],
          "name": "stderr"
        },
        {
          "output_type": "stream",
          "text": [
            "Time taken for 1 epoch: 169.53773474693298 secs\n",
            "\n",
            "Epoch 2 TRAIN Batch 0 Loss 0.6087 Accuracy 68.1979 AUC 0.6357\n",
            "Epoch 2 TRAIN Batch 50 Loss 0.6092 Accuracy 67.7044 AUC 0.6340\n",
            "Epoch 2 TRAIN Batch 100 Loss 0.6077 Accuracy 67.7520 AUC 0.6393\n",
            "Epoch 2 TRAIN Batch 150 Loss 0.6070 Accuracy 67.7711 AUC 0.6405\n",
            "Epoch 2 TRAIN Batch 200 Loss 0.6065 Accuracy 67.7716 AUC 0.6420\n",
            "Epoch 2 TRAIN Batch 250 Loss 0.6059 Accuracy 67.7867 AUC 0.6431\n",
            "Epoch 2 TRAIN Batch 300 Loss 0.6051 Accuracy 67.8252 AUC 0.6449\n",
            "Epoch 2 TRAIN Batch 350 Loss 0.6048 Accuracy 67.8075 AUC 0.6460\n",
            "Epoch 2 TRAIN Batch 400 Loss 0.6043 Accuracy 67.8277 AUC 0.6471\n",
            "Epoch 2 TRAIN Batch 450 Loss 0.6040 Accuracy 67.8404 AUC 0.6475\n",
            "Epoch 2 TRAIN Batch 500 Loss 0.6037 Accuracy 67.8544 AUC 0.6483\n",
            "Epoch 2 TRAIN Batch 550 Loss 0.6033 Accuracy 67.8724 AUC 0.6492\n",
            "Epoch 2 TRAIN Batch 600 Loss 0.6027 Accuracy 67.9133 AUC 0.6501\n",
            "Epoch 2 TRAIN Batch 650 Loss 0.6015 Accuracy 67.9882 AUC 0.6527\n",
            "Epoch 2 TRAIN Batch 700 Loss 0.5981 Accuracy 68.2474 AUC 0.6595\n",
            "Epoch 2 TRAIN Batch 750 Loss 0.5945 Accuracy 68.5216 AUC 0.6668\n"
          ],
          "name": "stdout"
        },
        {
          "output_type": "stream",
          "text": [
            "27-12 15:41 root         INFO     Epoch TRAIN 2 Loss 0.5922 Accuracy 68.6873 AUC 0.6709\n"
          ],
          "name": "stderr"
        },
        {
          "output_type": "stream",
          "text": [
            "Time taken for 1 epoch: 164.4950349330902 secs\n",
            "\n",
            "Epoch 3 TRAIN Batch 0 Loss 0.5387 Accuracy 72.8545 AUC 0.7614\n",
            "Epoch 3 TRAIN Batch 50 Loss 0.5360 Accuracy 72.8684 AUC 0.7596\n",
            "Epoch 3 TRAIN Batch 100 Loss 0.5348 Accuracy 72.8971 AUC 0.7610\n",
            "Epoch 3 TRAIN Batch 150 Loss 0.5338 Accuracy 72.9727 AUC 0.7622\n",
            "Epoch 3 TRAIN Batch 200 Loss 0.5334 Accuracy 72.9866 AUC 0.7626\n",
            "Epoch 3 TRAIN Batch 250 Loss 0.5333 Accuracy 72.9909 AUC 0.7629\n",
            "Epoch 3 TRAIN Batch 300 Loss 0.5328 Accuracy 73.0282 AUC 0.7632\n",
            "Epoch 3 TRAIN Batch 350 Loss 0.5325 Accuracy 73.0505 AUC 0.7635\n",
            "Epoch 3 TRAIN Batch 400 Loss 0.5326 Accuracy 73.0374 AUC 0.7635\n",
            "Epoch 3 TRAIN Batch 450 Loss 0.5323 Accuracy 73.0571 AUC 0.7638\n",
            "Epoch 3 TRAIN Batch 500 Loss 0.5321 Accuracy 73.0729 AUC 0.7641\n",
            "Epoch 3 TRAIN Batch 550 Loss 0.5318 Accuracy 73.0929 AUC 0.7644\n",
            "Epoch 3 TRAIN Batch 600 Loss 0.5318 Accuracy 73.0858 AUC 0.7646\n",
            "Epoch 3 TRAIN Batch 650 Loss 0.5316 Accuracy 73.1011 AUC 0.7648\n",
            "Epoch 3 TRAIN Batch 700 Loss 0.5313 Accuracy 73.1216 AUC 0.7651\n",
            "Epoch 3 TRAIN Batch 750 Loss 0.5311 Accuracy 73.1356 AUC 0.7654\n"
          ],
          "name": "stdout"
        },
        {
          "output_type": "stream",
          "text": [
            "27-12 15:43 root         INFO     Epoch TRAIN 3 Loss 0.5310 Accuracy 73.1448 AUC 0.7655\n"
          ],
          "name": "stderr"
        },
        {
          "output_type": "stream",
          "text": [
            "Time taken for 1 epoch: 162.76895022392273 secs\n",
            "\n",
            "Epoch 4 TRAIN Batch 0 Loss 0.5309 Accuracy 73.2095 AUC 0.7646\n",
            "Epoch 4 TRAIN Batch 50 Loss 0.5293 Accuracy 73.1700 AUC 0.7686\n",
            "Epoch 4 TRAIN Batch 100 Loss 0.5288 Accuracy 73.2518 AUC 0.7689\n",
            "Epoch 4 TRAIN Batch 150 Loss 0.5280 Accuracy 73.2901 AUC 0.7694\n",
            "Epoch 4 TRAIN Batch 200 Loss 0.5275 Accuracy 73.3293 AUC 0.7695\n",
            "Epoch 4 TRAIN Batch 250 Loss 0.5278 Accuracy 73.3152 AUC 0.7693\n",
            "Epoch 4 TRAIN Batch 300 Loss 0.5277 Accuracy 73.3215 AUC 0.7695\n",
            "Epoch 4 TRAIN Batch 350 Loss 0.5277 Accuracy 73.3171 AUC 0.7695\n",
            "Epoch 4 TRAIN Batch 400 Loss 0.5274 Accuracy 73.3397 AUC 0.7697\n",
            "Epoch 4 TRAIN Batch 450 Loss 0.5276 Accuracy 73.3236 AUC 0.7695\n",
            "Epoch 4 TRAIN Batch 500 Loss 0.5275 Accuracy 73.3299 AUC 0.7696\n",
            "Epoch 4 TRAIN Batch 550 Loss 0.5274 Accuracy 73.3311 AUC 0.7698\n",
            "Epoch 4 TRAIN Batch 600 Loss 0.5273 Accuracy 73.3392 AUC 0.7699\n",
            "Epoch 4 TRAIN Batch 650 Loss 0.5272 Accuracy 73.3483 AUC 0.7700\n",
            "Epoch 4 TRAIN Batch 700 Loss 0.5270 Accuracy 73.3605 AUC 0.7702\n",
            "Epoch 4 TRAIN Batch 750 Loss 0.5270 Accuracy 73.3621 AUC 0.7702\n"
          ],
          "name": "stdout"
        },
        {
          "output_type": "stream",
          "text": [
            "27-12 15:46 root         INFO     Epoch TRAIN 4 Loss 0.5270 Accuracy 73.3639 AUC 0.7702\n"
          ],
          "name": "stderr"
        },
        {
          "output_type": "stream",
          "text": [
            "Time taken for 1 epoch: 164.99949383735657 secs\n",
            "\n",
            "Epoch 5 TRAIN Batch 0 Loss 0.5438 Accuracy 72.1796 AUC 0.7636\n",
            "Epoch 5 TRAIN Batch 50 Loss 0.5267 Accuracy 73.4004 AUC 0.7706\n",
            "Epoch 5 TRAIN Batch 100 Loss 0.5257 Accuracy 73.4433 AUC 0.7711\n",
            "Epoch 5 TRAIN Batch 150 Loss 0.5257 Accuracy 73.4463 AUC 0.7714\n",
            "Epoch 5 TRAIN Batch 200 Loss 0.5257 Accuracy 73.4365 AUC 0.7713\n",
            "Epoch 5 TRAIN Batch 250 Loss 0.5252 Accuracy 73.4840 AUC 0.7717\n",
            "Epoch 5 TRAIN Batch 300 Loss 0.5254 Accuracy 73.4683 AUC 0.7718\n",
            "Epoch 5 TRAIN Batch 350 Loss 0.5255 Accuracy 73.4466 AUC 0.7718\n",
            "Epoch 5 TRAIN Batch 400 Loss 0.5256 Accuracy 73.4373 AUC 0.7719\n",
            "Epoch 5 TRAIN Batch 450 Loss 0.5258 Accuracy 73.4183 AUC 0.7718\n",
            "Epoch 5 TRAIN Batch 500 Loss 0.5259 Accuracy 73.4167 AUC 0.7718\n",
            "Epoch 5 TRAIN Batch 550 Loss 0.5259 Accuracy 73.4100 AUC 0.7717\n",
            "Epoch 5 TRAIN Batch 600 Loss 0.5258 Accuracy 73.4209 AUC 0.7718\n",
            "Epoch 5 TRAIN Batch 650 Loss 0.5257 Accuracy 73.4273 AUC 0.7719\n",
            "Epoch 5 TRAIN Batch 700 Loss 0.5257 Accuracy 73.4348 AUC 0.7720\n",
            "Epoch 5 TRAIN Batch 750 Loss 0.5255 Accuracy 73.4510 AUC 0.7720\n"
          ],
          "name": "stdout"
        },
        {
          "output_type": "stream",
          "text": [
            "27-12 15:49 root         INFO     Epoch TRAIN 5 Loss 0.5255 Accuracy 73.4558 AUC 0.7721\n"
          ],
          "name": "stderr"
        },
        {
          "output_type": "stream",
          "text": [
            "Epoch 5 VAL Batch 0 Loss 0.5168 Accuracy 74.1563 AUC 0.7732\n",
            "Epoch 5 VAL Batch 50 Loss 0.5223 Accuracy 73.8074 AUC 0.7746\n",
            "Epoch 5 VAL Batch 100 Loss 0.5210 Accuracy 73.8847 AUC 0.7756\n",
            "Epoch 5 VAL Batch 150 Loss 0.5209 Accuracy 73.8844 AUC 0.7757\n",
            "Epoch 5 VAL Batch 200 Loss 0.5210 Accuracy 73.8789 AUC 0.7757\n",
            "Epoch 5 VAL Batch 250 Loss 0.5213 Accuracy 73.8403 AUC 0.7757\n",
            "Epoch 5 VAL Batch 300 Loss 0.5219 Accuracy 73.8013 AUC 0.7755\n",
            "Epoch 5 VAL Batch 350 Loss 0.5221 Accuracy 73.7733 AUC 0.7755\n",
            "Epoch 5 VAL Batch 400 Loss 0.5222 Accuracy 73.7668 AUC 0.7754\n",
            "Epoch 5 VAL Batch 450 Loss 0.5222 Accuracy 73.7693 AUC 0.7753\n",
            "Epoch 5 VAL Batch 500 Loss 0.5222 Accuracy 73.7753 AUC 0.7754\n",
            "Epoch 5 VAL Batch 550 Loss 0.5222 Accuracy 73.7734 AUC 0.7753\n",
            "Epoch 5 VAL Batch 600 Loss 0.5221 Accuracy 73.7829 AUC 0.7753\n",
            "Epoch 5 VAL Batch 650 Loss 0.5222 Accuracy 73.7745 AUC 0.7753\n",
            "Epoch 5 VAL Batch 700 Loss 0.5222 Accuracy 73.7782 AUC 0.7754\n",
            "Epoch 5 VAL Batch 750 Loss 0.5223 Accuracy 73.7709 AUC 0.7754\n"
          ],
          "name": "stdout"
        },
        {
          "output_type": "stream",
          "text": [
            "27-12 15:51 root         INFO     Epoch VAL 5 Loss 0.5224 Accuracy 73.7610 AUC 0.7753\n",
            "27-12 15:51 root         INFO     Saving checkpoint for epoch 5 at 27-Dec-riiid-1/checkpoints/ckpt-1\n"
          ],
          "name": "stderr"
        },
        {
          "output_type": "stream",
          "text": [
            "Time taken for 1 epoch: 309.8752875328064 secs\n",
            "\n",
            "Epoch 6 TRAIN Batch 0 Loss 0.5248 Accuracy 73.1547 AUC 0.7738\n",
            "Epoch 6 TRAIN Batch 50 Loss 0.5244 Accuracy 73.5066 AUC 0.7735\n",
            "Epoch 6 TRAIN Batch 100 Loss 0.5243 Accuracy 73.5240 AUC 0.7735\n",
            "Epoch 6 TRAIN Batch 150 Loss 0.5247 Accuracy 73.4859 AUC 0.7733\n",
            "Epoch 6 TRAIN Batch 200 Loss 0.5244 Accuracy 73.5179 AUC 0.7736\n",
            "Epoch 6 TRAIN Batch 250 Loss 0.5239 Accuracy 73.5664 AUC 0.7742\n",
            "Epoch 6 TRAIN Batch 300 Loss 0.5234 Accuracy 73.6002 AUC 0.7745\n",
            "Epoch 6 TRAIN Batch 350 Loss 0.5237 Accuracy 73.5758 AUC 0.7743\n",
            "Epoch 6 TRAIN Batch 400 Loss 0.5238 Accuracy 73.5765 AUC 0.7742\n",
            "Epoch 6 TRAIN Batch 450 Loss 0.5236 Accuracy 73.5931 AUC 0.7744\n",
            "Epoch 6 TRAIN Batch 500 Loss 0.5233 Accuracy 73.6153 AUC 0.7746\n",
            "Epoch 6 TRAIN Batch 550 Loss 0.5234 Accuracy 73.6105 AUC 0.7746\n",
            "Epoch 6 TRAIN Batch 600 Loss 0.5233 Accuracy 73.6164 AUC 0.7746\n",
            "Epoch 6 TRAIN Batch 650 Loss 0.5232 Accuracy 73.6169 AUC 0.7746\n",
            "Epoch 6 TRAIN Batch 700 Loss 0.5230 Accuracy 73.6303 AUC 0.7749\n",
            "Epoch 6 TRAIN Batch 750 Loss 0.5229 Accuracy 73.6328 AUC 0.7750\n"
          ],
          "name": "stdout"
        },
        {
          "output_type": "stream",
          "text": [
            "27-12 15:54 root         INFO     Epoch TRAIN 6 Loss 0.5227 Accuracy 73.6490 AUC 0.7752\n"
          ],
          "name": "stderr"
        },
        {
          "output_type": "stream",
          "text": [
            "Time taken for 1 epoch: 162.35676527023315 secs\n",
            "\n",
            "Epoch 7 TRAIN Batch 0 Loss 0.5172 Accuracy 73.8390 AUC 0.7789\n",
            "Epoch 7 TRAIN Batch 50 Loss 0.5215 Accuracy 73.6905 AUC 0.7771\n",
            "Epoch 7 TRAIN Batch 100 Loss 0.5211 Accuracy 73.7245 AUC 0.7765\n",
            "Epoch 7 TRAIN Batch 150 Loss 0.5216 Accuracy 73.7092 AUC 0.7762\n",
            "Epoch 7 TRAIN Batch 200 Loss 0.5216 Accuracy 73.7076 AUC 0.7761\n",
            "Epoch 7 TRAIN Batch 250 Loss 0.5213 Accuracy 73.7181 AUC 0.7762\n",
            "Epoch 7 TRAIN Batch 300 Loss 0.5212 Accuracy 73.7278 AUC 0.7764\n",
            "Epoch 7 TRAIN Batch 350 Loss 0.5212 Accuracy 73.7240 AUC 0.7765\n",
            "Epoch 7 TRAIN Batch 400 Loss 0.5213 Accuracy 73.7130 AUC 0.7765\n",
            "Epoch 7 TRAIN Batch 450 Loss 0.5210 Accuracy 73.7396 AUC 0.7768\n",
            "Epoch 7 TRAIN Batch 500 Loss 0.5209 Accuracy 73.7467 AUC 0.7770\n",
            "Epoch 7 TRAIN Batch 550 Loss 0.5208 Accuracy 73.7475 AUC 0.7771\n",
            "Epoch 7 TRAIN Batch 600 Loss 0.5209 Accuracy 73.7400 AUC 0.7771\n",
            "Epoch 7 TRAIN Batch 650 Loss 0.5206 Accuracy 73.7528 AUC 0.7772\n",
            "Epoch 7 TRAIN Batch 700 Loss 0.5207 Accuracy 73.7519 AUC 0.7773\n",
            "Epoch 7 TRAIN Batch 750 Loss 0.5206 Accuracy 73.7557 AUC 0.7773\n"
          ],
          "name": "stdout"
        },
        {
          "output_type": "stream",
          "text": [
            "27-12 15:57 root         INFO     Epoch TRAIN 7 Loss 0.5204 Accuracy 73.7624 AUC 0.7774\n"
          ],
          "name": "stderr"
        },
        {
          "output_type": "stream",
          "text": [
            "Time taken for 1 epoch: 163.55307507514954 secs\n",
            "\n",
            "Epoch 8 TRAIN Batch 0 Loss 0.5227 Accuracy 73.8117 AUC 0.7748\n",
            "Epoch 8 TRAIN Batch 50 Loss 0.5209 Accuracy 73.7005 AUC 0.7787\n",
            "Epoch 8 TRAIN Batch 100 Loss 0.5212 Accuracy 73.6820 AUC 0.7780\n",
            "Epoch 8 TRAIN Batch 150 Loss 0.5202 Accuracy 73.7444 AUC 0.7782\n",
            "Epoch 8 TRAIN Batch 200 Loss 0.5195 Accuracy 73.7881 AUC 0.7788\n",
            "Epoch 8 TRAIN Batch 250 Loss 0.5194 Accuracy 73.7949 AUC 0.7788\n",
            "Epoch 8 TRAIN Batch 300 Loss 0.5191 Accuracy 73.8214 AUC 0.7789\n",
            "Epoch 8 TRAIN Batch 350 Loss 0.5194 Accuracy 73.8032 AUC 0.7788\n",
            "Epoch 8 TRAIN Batch 400 Loss 0.5192 Accuracy 73.8185 AUC 0.7789\n",
            "Epoch 8 TRAIN Batch 450 Loss 0.5190 Accuracy 73.8327 AUC 0.7790\n",
            "Epoch 8 TRAIN Batch 500 Loss 0.5191 Accuracy 73.8302 AUC 0.7790\n",
            "Epoch 8 TRAIN Batch 550 Loss 0.5191 Accuracy 73.8262 AUC 0.7790\n",
            "Epoch 8 TRAIN Batch 600 Loss 0.5192 Accuracy 73.8209 AUC 0.7790\n",
            "Epoch 8 TRAIN Batch 650 Loss 0.5190 Accuracy 73.8311 AUC 0.7792\n",
            "Epoch 8 TRAIN Batch 700 Loss 0.5190 Accuracy 73.8367 AUC 0.7793\n",
            "Epoch 8 TRAIN Batch 750 Loss 0.5189 Accuracy 73.8380 AUC 0.7794\n"
          ],
          "name": "stdout"
        },
        {
          "output_type": "stream",
          "text": [
            "27-12 15:59 root         INFO     Epoch TRAIN 8 Loss 0.5189 Accuracy 73.8381 AUC 0.7794\n"
          ],
          "name": "stderr"
        },
        {
          "output_type": "stream",
          "text": [
            "Time taken for 1 epoch: 161.91881465911865 secs\n",
            "\n",
            "Epoch 9 TRAIN Batch 0 Loss 0.5237 Accuracy 73.3996 AUC 0.7742\n",
            "Epoch 9 TRAIN Batch 50 Loss 0.5178 Accuracy 73.9253 AUC 0.7806\n",
            "Epoch 9 TRAIN Batch 100 Loss 0.5173 Accuracy 73.9380 AUC 0.7802\n",
            "Epoch 9 TRAIN Batch 150 Loss 0.5175 Accuracy 73.9296 AUC 0.7802\n",
            "Epoch 9 TRAIN Batch 200 Loss 0.5174 Accuracy 73.9270 AUC 0.7805\n",
            "Epoch 9 TRAIN Batch 250 Loss 0.5172 Accuracy 73.9457 AUC 0.7803\n",
            "Epoch 9 TRAIN Batch 300 Loss 0.5173 Accuracy 73.9315 AUC 0.7802\n",
            "Epoch 9 TRAIN Batch 350 Loss 0.5172 Accuracy 73.9418 AUC 0.7804\n",
            "Epoch 9 TRAIN Batch 400 Loss 0.5172 Accuracy 73.9460 AUC 0.7805\n",
            "Epoch 9 TRAIN Batch 450 Loss 0.5174 Accuracy 73.9314 AUC 0.7805\n",
            "Epoch 9 TRAIN Batch 500 Loss 0.5174 Accuracy 73.9338 AUC 0.7806\n",
            "Epoch 9 TRAIN Batch 550 Loss 0.5175 Accuracy 73.9222 AUC 0.7806\n",
            "Epoch 9 TRAIN Batch 600 Loss 0.5175 Accuracy 73.9213 AUC 0.7807\n",
            "Epoch 9 TRAIN Batch 650 Loss 0.5176 Accuracy 73.9222 AUC 0.7807\n",
            "Epoch 9 TRAIN Batch 700 Loss 0.5176 Accuracy 73.9167 AUC 0.7807\n",
            "Epoch 9 TRAIN Batch 750 Loss 0.5176 Accuracy 73.9179 AUC 0.7808\n"
          ],
          "name": "stdout"
        },
        {
          "output_type": "stream",
          "text": [
            "27-12 16:02 root         INFO     Epoch TRAIN 9 Loss 0.5175 Accuracy 73.9228 AUC 0.7808\n"
          ],
          "name": "stderr"
        },
        {
          "output_type": "stream",
          "text": [
            "Time taken for 1 epoch: 161.8934075832367 secs\n",
            "\n",
            "Epoch 10 TRAIN Batch 0 Loss 0.5379 Accuracy 72.5178 AUC 0.7682\n",
            "Epoch 10 TRAIN Batch 50 Loss 0.5173 Accuracy 73.9165 AUC 0.7812\n",
            "Epoch 10 TRAIN Batch 100 Loss 0.5159 Accuracy 74.0498 AUC 0.7816\n",
            "Epoch 10 TRAIN Batch 150 Loss 0.5160 Accuracy 74.0270 AUC 0.7816\n",
            "Epoch 10 TRAIN Batch 200 Loss 0.5162 Accuracy 74.0078 AUC 0.7817\n",
            "Epoch 10 TRAIN Batch 250 Loss 0.5168 Accuracy 73.9555 AUC 0.7813\n",
            "Epoch 10 TRAIN Batch 300 Loss 0.5171 Accuracy 73.9323 AUC 0.7812\n",
            "Epoch 10 TRAIN Batch 350 Loss 0.5167 Accuracy 73.9558 AUC 0.7814\n",
            "Epoch 10 TRAIN Batch 400 Loss 0.5169 Accuracy 73.9527 AUC 0.7813\n",
            "Epoch 10 TRAIN Batch 450 Loss 0.5168 Accuracy 73.9541 AUC 0.7815\n",
            "Epoch 10 TRAIN Batch 500 Loss 0.5170 Accuracy 73.9354 AUC 0.7816\n",
            "Epoch 10 TRAIN Batch 550 Loss 0.5169 Accuracy 73.9436 AUC 0.7816\n",
            "Epoch 10 TRAIN Batch 600 Loss 0.5170 Accuracy 73.9421 AUC 0.7816\n",
            "Epoch 10 TRAIN Batch 650 Loss 0.5169 Accuracy 73.9440 AUC 0.7816\n",
            "Epoch 10 TRAIN Batch 700 Loss 0.5169 Accuracy 73.9514 AUC 0.7816\n",
            "Epoch 10 TRAIN Batch 750 Loss 0.5168 Accuracy 73.9563 AUC 0.7817\n"
          ],
          "name": "stdout"
        },
        {
          "output_type": "stream",
          "text": [
            "27-12 16:05 root         INFO     Epoch TRAIN 10 Loss 0.5168 Accuracy 73.9542 AUC 0.7817\n"
          ],
          "name": "stderr"
        },
        {
          "output_type": "stream",
          "text": [
            "Epoch 10 VAL Batch 0 Loss 0.5060 Accuracy 74.3070 AUC 0.7837\n",
            "Epoch 10 VAL Batch 50 Loss 0.5129 Accuracy 74.2494 AUC 0.7841\n",
            "Epoch 10 VAL Batch 100 Loss 0.5116 Accuracy 74.3071 AUC 0.7851\n",
            "Epoch 10 VAL Batch 150 Loss 0.5115 Accuracy 74.3157 AUC 0.7852\n",
            "Epoch 10 VAL Batch 200 Loss 0.5116 Accuracy 74.3077 AUC 0.7852\n",
            "Epoch 10 VAL Batch 250 Loss 0.5119 Accuracy 74.2735 AUC 0.7852\n",
            "Epoch 10 VAL Batch 300 Loss 0.5125 Accuracy 74.2357 AUC 0.7850\n",
            "Epoch 10 VAL Batch 350 Loss 0.5127 Accuracy 74.2143 AUC 0.7849\n",
            "Epoch 10 VAL Batch 400 Loss 0.5129 Accuracy 74.2015 AUC 0.7848\n",
            "Epoch 10 VAL Batch 450 Loss 0.5129 Accuracy 74.2078 AUC 0.7847\n",
            "Epoch 10 VAL Batch 500 Loss 0.5128 Accuracy 74.2150 AUC 0.7848\n",
            "Epoch 10 VAL Batch 550 Loss 0.5129 Accuracy 74.2114 AUC 0.7847\n",
            "Epoch 10 VAL Batch 600 Loss 0.5128 Accuracy 74.2206 AUC 0.7847\n",
            "Epoch 10 VAL Batch 650 Loss 0.5129 Accuracy 74.2111 AUC 0.7847\n",
            "Epoch 10 VAL Batch 700 Loss 0.5128 Accuracy 74.2170 AUC 0.7848\n",
            "Epoch 10 VAL Batch 750 Loss 0.5129 Accuracy 74.2098 AUC 0.7848\n"
          ],
          "name": "stdout"
        },
        {
          "output_type": "stream",
          "text": [
            "27-12 16:05 root         INFO     Epoch VAL 10 Loss 0.5131 Accuracy 74.1988 AUC 0.7847\n",
            "27-12 16:05 root         INFO     Saving checkpoint for epoch 10 at 27-Dec-riiid-1/checkpoints/ckpt-2\n"
          ],
          "name": "stderr"
        },
        {
          "output_type": "stream",
          "text": [
            "Time taken for 1 epoch: 194.27462887763977 secs\n",
            "\n",
            "Epoch 11 TRAIN Batch 0 Loss 0.5131 Accuracy 74.2023 AUC 0.7939\n",
            "Epoch 11 TRAIN Batch 50 Loss 0.5168 Accuracy 73.9977 AUC 0.7823\n",
            "Epoch 11 TRAIN Batch 100 Loss 0.5180 Accuracy 73.8740 AUC 0.7815\n",
            "Epoch 11 TRAIN Batch 150 Loss 0.5175 Accuracy 73.8884 AUC 0.7818\n",
            "Epoch 11 TRAIN Batch 200 Loss 0.5172 Accuracy 73.9009 AUC 0.7820\n",
            "Epoch 11 TRAIN Batch 250 Loss 0.5171 Accuracy 73.9173 AUC 0.7822\n",
            "Epoch 11 TRAIN Batch 300 Loss 0.5170 Accuracy 73.9246 AUC 0.7822\n",
            "Epoch 11 TRAIN Batch 350 Loss 0.5168 Accuracy 73.9396 AUC 0.7822\n",
            "Epoch 11 TRAIN Batch 400 Loss 0.5168 Accuracy 73.9367 AUC 0.7822\n",
            "Epoch 11 TRAIN Batch 450 Loss 0.5166 Accuracy 73.9471 AUC 0.7822\n",
            "Epoch 11 TRAIN Batch 500 Loss 0.5165 Accuracy 73.9554 AUC 0.7823\n",
            "Epoch 11 TRAIN Batch 550 Loss 0.5164 Accuracy 73.9648 AUC 0.7822\n",
            "Epoch 11 TRAIN Batch 600 Loss 0.5164 Accuracy 73.9687 AUC 0.7823\n",
            "Epoch 11 TRAIN Batch 650 Loss 0.5161 Accuracy 73.9877 AUC 0.7825\n",
            "Epoch 11 TRAIN Batch 700 Loss 0.5160 Accuracy 73.9900 AUC 0.7825\n",
            "Epoch 11 TRAIN Batch 750 Loss 0.5160 Accuracy 73.9951 AUC 0.7826\n"
          ],
          "name": "stdout"
        },
        {
          "output_type": "stream",
          "text": [
            "27-12 16:08 root         INFO     Epoch TRAIN 11 Loss 0.5160 Accuracy 73.9954 AUC 0.7826\n"
          ],
          "name": "stderr"
        },
        {
          "output_type": "stream",
          "text": [
            "Time taken for 1 epoch: 161.86760258674622 secs\n",
            "\n",
            "Epoch 12 TRAIN Batch 0 Loss 0.5217 Accuracy 74.1088 AUC 0.7773\n",
            "Epoch 12 TRAIN Batch 50 Loss 0.5159 Accuracy 74.0324 AUC 0.7826\n",
            "Epoch 12 TRAIN Batch 100 Loss 0.5160 Accuracy 74.0261 AUC 0.7828\n",
            "Epoch 12 TRAIN Batch 150 Loss 0.5159 Accuracy 74.0073 AUC 0.7832\n",
            "Epoch 12 TRAIN Batch 200 Loss 0.5153 Accuracy 74.0484 AUC 0.7832\n",
            "Epoch 12 TRAIN Batch 250 Loss 0.5159 Accuracy 74.0102 AUC 0.7828\n",
            "Epoch 12 TRAIN Batch 300 Loss 0.5157 Accuracy 74.0175 AUC 0.7829\n",
            "Epoch 12 TRAIN Batch 350 Loss 0.5158 Accuracy 74.0008 AUC 0.7829\n",
            "Epoch 12 TRAIN Batch 400 Loss 0.5156 Accuracy 74.0245 AUC 0.7829\n",
            "Epoch 12 TRAIN Batch 450 Loss 0.5153 Accuracy 74.0476 AUC 0.7832\n",
            "Epoch 12 TRAIN Batch 500 Loss 0.5153 Accuracy 74.0483 AUC 0.7833\n",
            "Epoch 12 TRAIN Batch 550 Loss 0.5153 Accuracy 74.0507 AUC 0.7833\n",
            "Epoch 12 TRAIN Batch 600 Loss 0.5151 Accuracy 74.0673 AUC 0.7835\n",
            "Epoch 12 TRAIN Batch 650 Loss 0.5150 Accuracy 74.0743 AUC 0.7837\n",
            "Epoch 12 TRAIN Batch 700 Loss 0.5150 Accuracy 74.0742 AUC 0.7837\n",
            "Epoch 12 TRAIN Batch 750 Loss 0.5150 Accuracy 74.0723 AUC 0.7838\n"
          ],
          "name": "stdout"
        },
        {
          "output_type": "stream",
          "text": [
            "27-12 16:11 root         INFO     Epoch TRAIN 12 Loss 0.5149 Accuracy 74.0746 AUC 0.7839\n"
          ],
          "name": "stderr"
        },
        {
          "output_type": "stream",
          "text": [
            "Time taken for 1 epoch: 161.29209685325623 secs\n",
            "\n",
            "Epoch 13 TRAIN Batch 0 Loss 0.5276 Accuracy 72.9450 AUC 0.7797\n",
            "Epoch 13 TRAIN Batch 50 Loss 0.5151 Accuracy 73.9763 AUC 0.7849\n",
            "Epoch 13 TRAIN Batch 100 Loss 0.5146 Accuracy 74.0634 AUC 0.7846\n",
            "Epoch 13 TRAIN Batch 150 Loss 0.5148 Accuracy 74.0830 AUC 0.7847\n",
            "Epoch 13 TRAIN Batch 200 Loss 0.5144 Accuracy 74.1187 AUC 0.7844\n",
            "Epoch 13 TRAIN Batch 250 Loss 0.5141 Accuracy 74.1288 AUC 0.7846\n",
            "Epoch 13 TRAIN Batch 300 Loss 0.5139 Accuracy 74.1436 AUC 0.7850\n",
            "Epoch 13 TRAIN Batch 350 Loss 0.5137 Accuracy 74.1540 AUC 0.7852\n",
            "Epoch 13 TRAIN Batch 400 Loss 0.5138 Accuracy 74.1450 AUC 0.7851\n",
            "Epoch 13 TRAIN Batch 450 Loss 0.5135 Accuracy 74.1625 AUC 0.7853\n",
            "Epoch 13 TRAIN Batch 500 Loss 0.5134 Accuracy 74.1611 AUC 0.7854\n",
            "Epoch 13 TRAIN Batch 550 Loss 0.5133 Accuracy 74.1671 AUC 0.7854\n",
            "Epoch 13 TRAIN Batch 600 Loss 0.5136 Accuracy 74.1516 AUC 0.7852\n",
            "Epoch 13 TRAIN Batch 650 Loss 0.5135 Accuracy 74.1559 AUC 0.7853\n",
            "Epoch 13 TRAIN Batch 700 Loss 0.5135 Accuracy 74.1569 AUC 0.7853\n",
            "Epoch 13 TRAIN Batch 750 Loss 0.5136 Accuracy 74.1488 AUC 0.7854\n"
          ],
          "name": "stdout"
        },
        {
          "output_type": "stream",
          "text": [
            "27-12 16:13 root         INFO     Epoch TRAIN 13 Loss 0.5136 Accuracy 74.1481 AUC 0.7853\n"
          ],
          "name": "stderr"
        },
        {
          "output_type": "stream",
          "text": [
            "Time taken for 1 epoch: 161.64748620986938 secs\n",
            "\n",
            "Epoch 14 TRAIN Batch 0 Loss 0.4923 Accuracy 75.8361 AUC 0.7940\n",
            "Epoch 14 TRAIN Batch 50 Loss 0.5136 Accuracy 74.1386 AUC 0.7861\n",
            "Epoch 14 TRAIN Batch 100 Loss 0.5134 Accuracy 74.1361 AUC 0.7854\n",
            "Epoch 14 TRAIN Batch 150 Loss 0.5133 Accuracy 74.1570 AUC 0.7858\n",
            "Epoch 14 TRAIN Batch 200 Loss 0.5135 Accuracy 74.1342 AUC 0.7856\n",
            "Epoch 14 TRAIN Batch 250 Loss 0.5137 Accuracy 74.1281 AUC 0.7856\n",
            "Epoch 14 TRAIN Batch 300 Loss 0.5134 Accuracy 74.1483 AUC 0.7857\n",
            "Epoch 14 TRAIN Batch 350 Loss 0.5131 Accuracy 74.1718 AUC 0.7858\n",
            "Epoch 14 TRAIN Batch 400 Loss 0.5132 Accuracy 74.1653 AUC 0.7857\n",
            "Epoch 14 TRAIN Batch 450 Loss 0.5133 Accuracy 74.1595 AUC 0.7857\n",
            "Epoch 14 TRAIN Batch 500 Loss 0.5133 Accuracy 74.1559 AUC 0.7856\n",
            "Epoch 14 TRAIN Batch 550 Loss 0.5133 Accuracy 74.1595 AUC 0.7857\n",
            "Epoch 14 TRAIN Batch 600 Loss 0.5132 Accuracy 74.1661 AUC 0.7857\n",
            "Epoch 14 TRAIN Batch 650 Loss 0.5132 Accuracy 74.1653 AUC 0.7857\n",
            "Epoch 14 TRAIN Batch 700 Loss 0.5133 Accuracy 74.1522 AUC 0.7857\n",
            "Epoch 14 TRAIN Batch 750 Loss 0.5132 Accuracy 74.1659 AUC 0.7858\n"
          ],
          "name": "stdout"
        },
        {
          "output_type": "stream",
          "text": [
            "27-12 16:16 root         INFO     Epoch TRAIN 14 Loss 0.5131 Accuracy 74.1741 AUC 0.7859\n"
          ],
          "name": "stderr"
        },
        {
          "output_type": "stream",
          "text": [
            "Time taken for 1 epoch: 161.12863397598267 secs\n",
            "\n",
            "Epoch 15 TRAIN Batch 0 Loss 0.5192 Accuracy 73.7264 AUC 0.7803\n",
            "Epoch 15 TRAIN Batch 50 Loss 0.5126 Accuracy 74.1571 AUC 0.7852\n",
            "Epoch 15 TRAIN Batch 100 Loss 0.5124 Accuracy 74.1958 AUC 0.7862\n",
            "Epoch 15 TRAIN Batch 150 Loss 0.5118 Accuracy 74.2396 AUC 0.7867\n",
            "Epoch 15 TRAIN Batch 200 Loss 0.5116 Accuracy 74.2486 AUC 0.7868\n",
            "Epoch 15 TRAIN Batch 250 Loss 0.5118 Accuracy 74.2429 AUC 0.7866\n",
            "Epoch 15 TRAIN Batch 300 Loss 0.5121 Accuracy 74.2126 AUC 0.7865\n",
            "Epoch 15 TRAIN Batch 350 Loss 0.5121 Accuracy 74.2215 AUC 0.7866\n",
            "Epoch 15 TRAIN Batch 400 Loss 0.5121 Accuracy 74.2154 AUC 0.7866\n",
            "Epoch 15 TRAIN Batch 450 Loss 0.5121 Accuracy 74.2093 AUC 0.7865\n",
            "Epoch 15 TRAIN Batch 500 Loss 0.5122 Accuracy 74.2052 AUC 0.7864\n",
            "Epoch 15 TRAIN Batch 550 Loss 0.5121 Accuracy 74.2145 AUC 0.7866\n",
            "Epoch 15 TRAIN Batch 600 Loss 0.5120 Accuracy 74.2190 AUC 0.7867\n",
            "Epoch 15 TRAIN Batch 650 Loss 0.5119 Accuracy 74.2255 AUC 0.7868\n",
            "Epoch 15 TRAIN Batch 700 Loss 0.5120 Accuracy 74.2228 AUC 0.7868\n",
            "Epoch 15 TRAIN Batch 750 Loss 0.5120 Accuracy 74.2290 AUC 0.7868\n"
          ],
          "name": "stdout"
        },
        {
          "output_type": "stream",
          "text": [
            "27-12 16:19 root         INFO     Epoch TRAIN 15 Loss 0.5119 Accuracy 74.2315 AUC 0.7869\n"
          ],
          "name": "stderr"
        },
        {
          "output_type": "stream",
          "text": [
            "Epoch 15 VAL Batch 0 Loss 0.5029 Accuracy 74.4326 AUC 0.7878\n",
            "Epoch 15 VAL Batch 50 Loss 0.5093 Accuracy 74.4304 AUC 0.7881\n",
            "Epoch 15 VAL Batch 100 Loss 0.5079 Accuracy 74.5024 AUC 0.7892\n",
            "Epoch 15 VAL Batch 150 Loss 0.5078 Accuracy 74.5135 AUC 0.7892\n",
            "Epoch 15 VAL Batch 200 Loss 0.5079 Accuracy 74.4979 AUC 0.7892\n",
            "Epoch 15 VAL Batch 250 Loss 0.5082 Accuracy 74.4594 AUC 0.7892\n",
            "Epoch 15 VAL Batch 300 Loss 0.5088 Accuracy 74.4230 AUC 0.7890\n",
            "Epoch 15 VAL Batch 350 Loss 0.5090 Accuracy 74.3986 AUC 0.7889\n",
            "Epoch 15 VAL Batch 400 Loss 0.5092 Accuracy 74.3859 AUC 0.7888\n",
            "Epoch 15 VAL Batch 450 Loss 0.5092 Accuracy 74.3927 AUC 0.7887\n",
            "Epoch 15 VAL Batch 500 Loss 0.5091 Accuracy 74.3992 AUC 0.7888\n",
            "Epoch 15 VAL Batch 550 Loss 0.5092 Accuracy 74.3948 AUC 0.7886\n",
            "Epoch 15 VAL Batch 600 Loss 0.5091 Accuracy 74.4083 AUC 0.7888\n",
            "Epoch 15 VAL Batch 650 Loss 0.5092 Accuracy 74.3961 AUC 0.7887\n",
            "Epoch 15 VAL Batch 700 Loss 0.5091 Accuracy 74.3989 AUC 0.7887\n",
            "Epoch 15 VAL Batch 750 Loss 0.5093 Accuracy 74.3898 AUC 0.7887\n"
          ],
          "name": "stdout"
        },
        {
          "output_type": "stream",
          "text": [
            "27-12 16:19 root         INFO     Epoch VAL 15 Loss 0.5094 Accuracy 74.3786 AUC 0.7887\n",
            "27-12 16:19 root         INFO     Saving checkpoint for epoch 15 at 27-Dec-riiid-1/checkpoints/ckpt-3\n"
          ],
          "name": "stderr"
        },
        {
          "output_type": "stream",
          "text": [
            "Time taken for 1 epoch: 194.09588885307312 secs\n",
            "\n",
            "Epoch 16 TRAIN Batch 0 Loss 0.5184 Accuracy 74.1676 AUC 0.7864\n",
            "Epoch 16 TRAIN Batch 50 Loss 0.5097 Accuracy 74.3520 AUC 0.7884\n",
            "Epoch 16 TRAIN Batch 100 Loss 0.5110 Accuracy 74.3059 AUC 0.7877\n",
            "Epoch 16 TRAIN Batch 150 Loss 0.5103 Accuracy 74.3409 AUC 0.7880\n",
            "Epoch 16 TRAIN Batch 200 Loss 0.5102 Accuracy 74.3476 AUC 0.7882\n",
            "Epoch 16 TRAIN Batch 250 Loss 0.5106 Accuracy 74.3164 AUC 0.7879\n",
            "Epoch 16 TRAIN Batch 300 Loss 0.5106 Accuracy 74.3221 AUC 0.7879\n",
            "Epoch 16 TRAIN Batch 350 Loss 0.5105 Accuracy 74.3130 AUC 0.7877\n",
            "Epoch 16 TRAIN Batch 400 Loss 0.5105 Accuracy 74.3157 AUC 0.7877\n",
            "Epoch 16 TRAIN Batch 450 Loss 0.5106 Accuracy 74.3039 AUC 0.7877\n",
            "Epoch 16 TRAIN Batch 500 Loss 0.5108 Accuracy 74.2868 AUC 0.7876\n",
            "Epoch 16 TRAIN Batch 550 Loss 0.5109 Accuracy 74.2816 AUC 0.7876\n",
            "Epoch 16 TRAIN Batch 600 Loss 0.5108 Accuracy 74.2870 AUC 0.7876\n",
            "Epoch 16 TRAIN Batch 650 Loss 0.5109 Accuracy 74.2820 AUC 0.7876\n",
            "Epoch 16 TRAIN Batch 700 Loss 0.5107 Accuracy 74.2925 AUC 0.7877\n",
            "Epoch 16 TRAIN Batch 750 Loss 0.5108 Accuracy 74.2919 AUC 0.7876\n"
          ],
          "name": "stdout"
        },
        {
          "output_type": "stream",
          "text": [
            "27-12 16:22 root         INFO     Epoch TRAIN 16 Loss 0.5108 Accuracy 74.2882 AUC 0.7876\n"
          ],
          "name": "stderr"
        },
        {
          "output_type": "stream",
          "text": [
            "Time taken for 1 epoch: 160.8742082118988 secs\n",
            "\n",
            "Epoch 17 TRAIN Batch 0 Loss 0.5185 Accuracy 74.0840 AUC 0.7726\n",
            "Epoch 17 TRAIN Batch 50 Loss 0.5106 Accuracy 74.3524 AUC 0.7858\n",
            "Epoch 17 TRAIN Batch 100 Loss 0.5108 Accuracy 74.3119 AUC 0.7869\n",
            "Epoch 17 TRAIN Batch 150 Loss 0.5108 Accuracy 74.2929 AUC 0.7875\n",
            "Epoch 17 TRAIN Batch 200 Loss 0.5102 Accuracy 74.3229 AUC 0.7882\n",
            "Epoch 17 TRAIN Batch 250 Loss 0.5101 Accuracy 74.3315 AUC 0.7882\n",
            "Epoch 17 TRAIN Batch 300 Loss 0.5104 Accuracy 74.3174 AUC 0.7882\n",
            "Epoch 17 TRAIN Batch 350 Loss 0.5104 Accuracy 74.3200 AUC 0.7880\n",
            "Epoch 17 TRAIN Batch 400 Loss 0.5107 Accuracy 74.2969 AUC 0.7878\n",
            "Epoch 17 TRAIN Batch 450 Loss 0.5105 Accuracy 74.3082 AUC 0.7879\n",
            "Epoch 17 TRAIN Batch 500 Loss 0.5105 Accuracy 74.3052 AUC 0.7880\n",
            "Epoch 17 TRAIN Batch 550 Loss 0.5104 Accuracy 74.3054 AUC 0.7881\n",
            "Epoch 17 TRAIN Batch 600 Loss 0.5104 Accuracy 74.2969 AUC 0.7881\n",
            "Epoch 17 TRAIN Batch 650 Loss 0.5104 Accuracy 74.2980 AUC 0.7881\n",
            "Epoch 17 TRAIN Batch 700 Loss 0.5105 Accuracy 74.2947 AUC 0.7882\n",
            "Epoch 17 TRAIN Batch 750 Loss 0.5104 Accuracy 74.3008 AUC 0.7883\n"
          ],
          "name": "stdout"
        },
        {
          "output_type": "stream",
          "text": [
            "27-12 16:25 root         INFO     Epoch TRAIN 17 Loss 0.5104 Accuracy 74.3004 AUC 0.7883\n"
          ],
          "name": "stderr"
        },
        {
          "output_type": "stream",
          "text": [
            "Time taken for 1 epoch: 155.9807484149933 secs\n",
            "\n",
            "Epoch 18 TRAIN Batch 0 Loss 0.5130 Accuracy 74.2062 AUC 0.7904\n",
            "Epoch 18 TRAIN Batch 50 Loss 0.5097 Accuracy 74.3907 AUC 0.7889\n",
            "Epoch 18 TRAIN Batch 100 Loss 0.5101 Accuracy 74.3385 AUC 0.7887\n",
            "Epoch 18 TRAIN Batch 150 Loss 0.5104 Accuracy 74.2912 AUC 0.7886\n",
            "Epoch 18 TRAIN Batch 200 Loss 0.5101 Accuracy 74.3081 AUC 0.7888\n",
            "Epoch 18 TRAIN Batch 250 Loss 0.5101 Accuracy 74.3087 AUC 0.7889\n",
            "Epoch 18 TRAIN Batch 300 Loss 0.5101 Accuracy 74.3117 AUC 0.7888\n",
            "Epoch 18 TRAIN Batch 350 Loss 0.5099 Accuracy 74.3216 AUC 0.7888\n",
            "Epoch 18 TRAIN Batch 400 Loss 0.5098 Accuracy 74.3335 AUC 0.7889\n",
            "Epoch 18 TRAIN Batch 450 Loss 0.5099 Accuracy 74.3341 AUC 0.7889\n",
            "Epoch 18 TRAIN Batch 500 Loss 0.5098 Accuracy 74.3395 AUC 0.7890\n",
            "Epoch 18 TRAIN Batch 550 Loss 0.5098 Accuracy 74.3497 AUC 0.7891\n",
            "Epoch 18 TRAIN Batch 600 Loss 0.5097 Accuracy 74.3582 AUC 0.7891\n",
            "Epoch 18 TRAIN Batch 650 Loss 0.5096 Accuracy 74.3695 AUC 0.7892\n",
            "Epoch 18 TRAIN Batch 700 Loss 0.5096 Accuracy 74.3702 AUC 0.7892\n",
            "Epoch 18 TRAIN Batch 750 Loss 0.5096 Accuracy 74.3676 AUC 0.7892\n"
          ],
          "name": "stdout"
        },
        {
          "output_type": "stream",
          "text": [
            "27-12 16:27 root         INFO     Epoch TRAIN 18 Loss 0.5096 Accuracy 74.3609 AUC 0.7893\n"
          ],
          "name": "stderr"
        },
        {
          "output_type": "stream",
          "text": [
            "Time taken for 1 epoch: 159.84934663772583 secs\n",
            "\n",
            "Epoch 19 TRAIN Batch 0 Loss 0.5029 Accuracy 75.1828 AUC 0.7847\n",
            "Epoch 19 TRAIN Batch 50 Loss 0.5101 Accuracy 74.3576 AUC 0.7899\n",
            "Epoch 19 TRAIN Batch 100 Loss 0.5099 Accuracy 74.3691 AUC 0.7896\n",
            "Epoch 19 TRAIN Batch 150 Loss 0.5096 Accuracy 74.3734 AUC 0.7897\n",
            "Epoch 19 TRAIN Batch 200 Loss 0.5096 Accuracy 74.3651 AUC 0.7897\n",
            "Epoch 19 TRAIN Batch 250 Loss 0.5094 Accuracy 74.3806 AUC 0.7897\n",
            "Epoch 19 TRAIN Batch 300 Loss 0.5097 Accuracy 74.3621 AUC 0.7895\n",
            "Epoch 19 TRAIN Batch 350 Loss 0.5096 Accuracy 74.3592 AUC 0.7894\n",
            "Epoch 19 TRAIN Batch 400 Loss 0.5097 Accuracy 74.3538 AUC 0.7894\n",
            "Epoch 19 TRAIN Batch 450 Loss 0.5095 Accuracy 74.3615 AUC 0.7894\n",
            "Epoch 19 TRAIN Batch 500 Loss 0.5097 Accuracy 74.3458 AUC 0.7893\n",
            "Epoch 19 TRAIN Batch 550 Loss 0.5097 Accuracy 74.3447 AUC 0.7893\n",
            "Epoch 19 TRAIN Batch 600 Loss 0.5099 Accuracy 74.3352 AUC 0.7892\n",
            "Epoch 19 TRAIN Batch 650 Loss 0.5098 Accuracy 74.3443 AUC 0.7893\n",
            "Epoch 19 TRAIN Batch 700 Loss 0.5097 Accuracy 74.3476 AUC 0.7894\n",
            "Epoch 19 TRAIN Batch 750 Loss 0.5097 Accuracy 74.3442 AUC 0.7894\n"
          ],
          "name": "stdout"
        },
        {
          "output_type": "stream",
          "text": [
            "27-12 16:30 root         INFO     Epoch TRAIN 19 Loss 0.5097 Accuracy 74.3492 AUC 0.7895\n"
          ],
          "name": "stderr"
        },
        {
          "output_type": "stream",
          "text": [
            "Time taken for 1 epoch: 162.25955605506897 secs\n",
            "\n",
            "Epoch 20 TRAIN Batch 0 Loss 0.5004 Accuracy 75.1462 AUC 0.7955\n",
            "Epoch 20 TRAIN Batch 50 Loss 0.5076 Accuracy 74.5335 AUC 0.7903\n",
            "Epoch 20 TRAIN Batch 100 Loss 0.5084 Accuracy 74.4639 AUC 0.7905\n",
            "Epoch 20 TRAIN Batch 150 Loss 0.5090 Accuracy 74.4058 AUC 0.7904\n",
            "Epoch 20 TRAIN Batch 200 Loss 0.5088 Accuracy 74.4311 AUC 0.7902\n",
            "Epoch 20 TRAIN Batch 250 Loss 0.5089 Accuracy 74.4266 AUC 0.7900\n",
            "Epoch 20 TRAIN Batch 300 Loss 0.5089 Accuracy 74.4283 AUC 0.7901\n",
            "Epoch 20 TRAIN Batch 350 Loss 0.5090 Accuracy 74.4189 AUC 0.7900\n",
            "Epoch 20 TRAIN Batch 400 Loss 0.5088 Accuracy 74.4255 AUC 0.7900\n",
            "Epoch 20 TRAIN Batch 450 Loss 0.5089 Accuracy 74.4131 AUC 0.7900\n",
            "Epoch 20 TRAIN Batch 500 Loss 0.5088 Accuracy 74.4077 AUC 0.7901\n",
            "Epoch 20 TRAIN Batch 550 Loss 0.5089 Accuracy 74.4038 AUC 0.7902\n",
            "Epoch 20 TRAIN Batch 600 Loss 0.5090 Accuracy 74.3926 AUC 0.7901\n",
            "Epoch 20 TRAIN Batch 650 Loss 0.5090 Accuracy 74.3926 AUC 0.7902\n",
            "Epoch 20 TRAIN Batch 700 Loss 0.5089 Accuracy 74.3965 AUC 0.7902\n",
            "Epoch 20 TRAIN Batch 750 Loss 0.5088 Accuracy 74.3931 AUC 0.7903\n"
          ],
          "name": "stdout"
        },
        {
          "output_type": "stream",
          "text": [
            "27-12 16:33 root         INFO     Epoch TRAIN 20 Loss 0.5089 Accuracy 74.3823 AUC 0.7902\n"
          ],
          "name": "stderr"
        },
        {
          "output_type": "stream",
          "text": [
            "Epoch 20 VAL Batch 0 Loss 0.5024 Accuracy 74.3991 AUC 0.7892\n",
            "Epoch 20 VAL Batch 50 Loss 0.5069 Accuracy 74.5558 AUC 0.7914\n",
            "Epoch 20 VAL Batch 100 Loss 0.5056 Accuracy 74.6440 AUC 0.7923\n",
            "Epoch 20 VAL Batch 150 Loss 0.5055 Accuracy 74.6484 AUC 0.7923\n",
            "Epoch 20 VAL Batch 200 Loss 0.5056 Accuracy 74.6443 AUC 0.7924\n",
            "Epoch 20 VAL Batch 250 Loss 0.5059 Accuracy 74.6131 AUC 0.7924\n",
            "Epoch 20 VAL Batch 300 Loss 0.5064 Accuracy 74.5804 AUC 0.7922\n",
            "Epoch 20 VAL Batch 350 Loss 0.5066 Accuracy 74.5575 AUC 0.7922\n",
            "Epoch 20 VAL Batch 400 Loss 0.5068 Accuracy 74.5453 AUC 0.7920\n",
            "Epoch 20 VAL Batch 450 Loss 0.5068 Accuracy 74.5487 AUC 0.7920\n",
            "Epoch 20 VAL Batch 500 Loss 0.5067 Accuracy 74.5517 AUC 0.7920\n",
            "Epoch 20 VAL Batch 550 Loss 0.5068 Accuracy 74.5521 AUC 0.7919\n",
            "Epoch 20 VAL Batch 600 Loss 0.5066 Accuracy 74.5631 AUC 0.7920\n",
            "Epoch 20 VAL Batch 650 Loss 0.5068 Accuracy 74.5513 AUC 0.7920\n",
            "Epoch 20 VAL Batch 700 Loss 0.5067 Accuracy 74.5527 AUC 0.7921\n",
            "Epoch 20 VAL Batch 750 Loss 0.5068 Accuracy 74.5458 AUC 0.7920\n"
          ],
          "name": "stdout"
        },
        {
          "output_type": "stream",
          "text": [
            "27-12 16:33 root         INFO     Epoch VAL 20 Loss 0.5069 Accuracy 74.5350 AUC 0.7920\n",
            "27-12 16:33 root         INFO     Saving checkpoint for epoch 20 at 27-Dec-riiid-1/checkpoints/ckpt-4\n"
          ],
          "name": "stderr"
        },
        {
          "output_type": "stream",
          "text": [
            "Time taken for 1 epoch: 194.78851985931396 secs\n",
            "\n",
            "Epoch 21 TRAIN Batch 0 Loss 0.5018 Accuracy 75.3170 AUC 0.7940\n",
            "Epoch 21 TRAIN Batch 50 Loss 0.5097 Accuracy 74.3188 AUC 0.7903\n",
            "Epoch 21 TRAIN Batch 100 Loss 0.5094 Accuracy 74.3296 AUC 0.7897\n",
            "Epoch 21 TRAIN Batch 150 Loss 0.5102 Accuracy 74.2958 AUC 0.7894\n",
            "Epoch 21 TRAIN Batch 200 Loss 0.5097 Accuracy 74.3433 AUC 0.7898\n",
            "Epoch 21 TRAIN Batch 250 Loss 0.5091 Accuracy 74.3902 AUC 0.7902\n",
            "Epoch 21 TRAIN Batch 300 Loss 0.5086 Accuracy 74.4305 AUC 0.7906\n",
            "Epoch 21 TRAIN Batch 350 Loss 0.5084 Accuracy 74.4396 AUC 0.7907\n",
            "Epoch 21 TRAIN Batch 400 Loss 0.5081 Accuracy 74.4628 AUC 0.7909\n",
            "Epoch 21 TRAIN Batch 450 Loss 0.5082 Accuracy 74.4555 AUC 0.7908\n",
            "Epoch 21 TRAIN Batch 500 Loss 0.5082 Accuracy 74.4546 AUC 0.7908\n",
            "Epoch 21 TRAIN Batch 550 Loss 0.5081 Accuracy 74.4643 AUC 0.7910\n",
            "Epoch 21 TRAIN Batch 600 Loss 0.5080 Accuracy 74.4675 AUC 0.7910\n",
            "Epoch 21 TRAIN Batch 650 Loss 0.5080 Accuracy 74.4606 AUC 0.7909\n",
            "Epoch 21 TRAIN Batch 700 Loss 0.5081 Accuracy 74.4549 AUC 0.7909\n",
            "Epoch 21 TRAIN Batch 750 Loss 0.5080 Accuracy 74.4598 AUC 0.7910\n"
          ],
          "name": "stdout"
        },
        {
          "output_type": "stream",
          "text": [
            "27-12 16:36 root         INFO     Epoch TRAIN 21 Loss 0.5080 Accuracy 74.4585 AUC 0.7910\n"
          ],
          "name": "stderr"
        },
        {
          "output_type": "stream",
          "text": [
            "Time taken for 1 epoch: 159.6430048942566 secs\n",
            "\n",
            "Epoch 22 TRAIN Batch 0 Loss 0.5182 Accuracy 73.2872 AUC 0.7887\n",
            "Epoch 22 TRAIN Batch 50 Loss 0.5100 Accuracy 74.3141 AUC 0.7904\n",
            "Epoch 22 TRAIN Batch 100 Loss 0.5088 Accuracy 74.4045 AUC 0.7902\n",
            "Epoch 22 TRAIN Batch 150 Loss 0.5083 Accuracy 74.4347 AUC 0.7910\n",
            "Epoch 22 TRAIN Batch 200 Loss 0.5082 Accuracy 74.4201 AUC 0.7910\n",
            "Epoch 22 TRAIN Batch 250 Loss 0.5083 Accuracy 74.4005 AUC 0.7908\n",
            "Epoch 22 TRAIN Batch 300 Loss 0.5081 Accuracy 74.4211 AUC 0.7909\n",
            "Epoch 22 TRAIN Batch 350 Loss 0.5079 Accuracy 74.4261 AUC 0.7911\n",
            "Epoch 22 TRAIN Batch 400 Loss 0.5078 Accuracy 74.4243 AUC 0.7911\n",
            "Epoch 22 TRAIN Batch 450 Loss 0.5078 Accuracy 74.4212 AUC 0.7911\n",
            "Epoch 22 TRAIN Batch 500 Loss 0.5077 Accuracy 74.4314 AUC 0.7912\n",
            "Epoch 22 TRAIN Batch 550 Loss 0.5075 Accuracy 74.4465 AUC 0.7914\n",
            "Epoch 22 TRAIN Batch 600 Loss 0.5075 Accuracy 74.4501 AUC 0.7913\n",
            "Epoch 22 TRAIN Batch 650 Loss 0.5074 Accuracy 74.4561 AUC 0.7914\n",
            "Epoch 22 TRAIN Batch 700 Loss 0.5073 Accuracy 74.4606 AUC 0.7915\n",
            "Epoch 22 TRAIN Batch 750 Loss 0.5074 Accuracy 74.4588 AUC 0.7915\n"
          ],
          "name": "stdout"
        },
        {
          "output_type": "stream",
          "text": [
            "27-12 16:38 root         INFO     Epoch TRAIN 22 Loss 0.5074 Accuracy 74.4561 AUC 0.7915\n"
          ],
          "name": "stderr"
        },
        {
          "output_type": "stream",
          "text": [
            "Time taken for 1 epoch: 157.89826893806458 secs\n",
            "\n",
            "Epoch 23 TRAIN Batch 0 Loss 0.5066 Accuracy 74.5208 AUC 0.7918\n",
            "Epoch 23 TRAIN Batch 50 Loss 0.5089 Accuracy 74.3930 AUC 0.7914\n",
            "Epoch 23 TRAIN Batch 100 Loss 0.5091 Accuracy 74.3802 AUC 0.7912\n",
            "Epoch 23 TRAIN Batch 150 Loss 0.5088 Accuracy 74.3842 AUC 0.7915\n",
            "Epoch 23 TRAIN Batch 200 Loss 0.5085 Accuracy 74.4060 AUC 0.7914\n",
            "Epoch 23 TRAIN Batch 250 Loss 0.5084 Accuracy 74.4144 AUC 0.7915\n",
            "Epoch 23 TRAIN Batch 300 Loss 0.5081 Accuracy 74.4291 AUC 0.7916\n",
            "Epoch 23 TRAIN Batch 350 Loss 0.5080 Accuracy 74.4358 AUC 0.7916\n",
            "Epoch 23 TRAIN Batch 400 Loss 0.5079 Accuracy 74.4462 AUC 0.7917\n",
            "Epoch 23 TRAIN Batch 450 Loss 0.5078 Accuracy 74.4600 AUC 0.7917\n",
            "Epoch 23 TRAIN Batch 500 Loss 0.5077 Accuracy 74.4638 AUC 0.7917\n",
            "Epoch 23 TRAIN Batch 550 Loss 0.5074 Accuracy 74.4870 AUC 0.7919\n",
            "Epoch 23 TRAIN Batch 600 Loss 0.5074 Accuracy 74.4842 AUC 0.7919\n",
            "Epoch 23 TRAIN Batch 650 Loss 0.5073 Accuracy 74.4898 AUC 0.7920\n",
            "Epoch 23 TRAIN Batch 700 Loss 0.5074 Accuracy 74.4836 AUC 0.7920\n",
            "Epoch 23 TRAIN Batch 750 Loss 0.5074 Accuracy 74.4792 AUC 0.7920\n"
          ],
          "name": "stdout"
        },
        {
          "output_type": "stream",
          "text": [
            "27-12 16:41 root         INFO     Epoch TRAIN 23 Loss 0.5074 Accuracy 74.4740 AUC 0.7920\n"
          ],
          "name": "stderr"
        },
        {
          "output_type": "stream",
          "text": [
            "Time taken for 1 epoch: 158.75972867012024 secs\n",
            "\n",
            "Epoch 24 TRAIN Batch 0 Loss 0.5236 Accuracy 73.1837 AUC 0.7792\n",
            "Epoch 24 TRAIN Batch 50 Loss 0.5071 Accuracy 74.4142 AUC 0.7923\n",
            "Epoch 24 TRAIN Batch 100 Loss 0.5065 Accuracy 74.4838 AUC 0.7932\n",
            "Epoch 24 TRAIN Batch 150 Loss 0.5061 Accuracy 74.5324 AUC 0.7932\n",
            "Epoch 24 TRAIN Batch 200 Loss 0.5065 Accuracy 74.4973 AUC 0.7925\n",
            "Epoch 24 TRAIN Batch 250 Loss 0.5058 Accuracy 74.5546 AUC 0.7930\n",
            "Epoch 24 TRAIN Batch 300 Loss 0.5057 Accuracy 74.5751 AUC 0.7930\n",
            "Epoch 24 TRAIN Batch 350 Loss 0.5057 Accuracy 74.5835 AUC 0.7930\n",
            "Epoch 24 TRAIN Batch 400 Loss 0.5057 Accuracy 74.5891 AUC 0.7931\n",
            "Epoch 24 TRAIN Batch 450 Loss 0.5059 Accuracy 74.5746 AUC 0.7929\n",
            "Epoch 24 TRAIN Batch 500 Loss 0.5059 Accuracy 74.5703 AUC 0.7928\n",
            "Epoch 24 TRAIN Batch 550 Loss 0.5058 Accuracy 74.5737 AUC 0.7929\n",
            "Epoch 24 TRAIN Batch 600 Loss 0.5060 Accuracy 74.5626 AUC 0.7928\n",
            "Epoch 24 TRAIN Batch 650 Loss 0.5059 Accuracy 74.5665 AUC 0.7929\n",
            "Epoch 24 TRAIN Batch 700 Loss 0.5059 Accuracy 74.5724 AUC 0.7929\n",
            "Epoch 24 TRAIN Batch 750 Loss 0.5059 Accuracy 74.5656 AUC 0.7929\n"
          ],
          "name": "stdout"
        },
        {
          "output_type": "stream",
          "text": [
            "27-12 16:44 root         INFO     Epoch TRAIN 24 Loss 0.5061 Accuracy 74.5507 AUC 0.7928\n"
          ],
          "name": "stderr"
        },
        {
          "output_type": "stream",
          "text": [
            "Time taken for 1 epoch: 158.47692394256592 secs\n",
            "\n",
            "Epoch 25 TRAIN Batch 0 Loss 0.4921 Accuracy 75.5608 AUC 0.8005\n",
            "Epoch 25 TRAIN Batch 50 Loss 0.5049 Accuracy 74.5909 AUC 0.7929\n",
            "Epoch 25 TRAIN Batch 100 Loss 0.5057 Accuracy 74.5848 AUC 0.7930\n",
            "Epoch 25 TRAIN Batch 150 Loss 0.5050 Accuracy 74.6348 AUC 0.7934\n",
            "Epoch 25 TRAIN Batch 200 Loss 0.5051 Accuracy 74.6223 AUC 0.7932\n",
            "Epoch 25 TRAIN Batch 250 Loss 0.5049 Accuracy 74.6402 AUC 0.7935\n",
            "Epoch 25 TRAIN Batch 300 Loss 0.5049 Accuracy 74.6578 AUC 0.7936\n",
            "Epoch 25 TRAIN Batch 350 Loss 0.5049 Accuracy 74.6592 AUC 0.7936\n",
            "Epoch 25 TRAIN Batch 400 Loss 0.5051 Accuracy 74.6512 AUC 0.7935\n",
            "Epoch 25 TRAIN Batch 450 Loss 0.5051 Accuracy 74.6466 AUC 0.7935\n",
            "Epoch 25 TRAIN Batch 500 Loss 0.5052 Accuracy 74.6385 AUC 0.7934\n",
            "Epoch 25 TRAIN Batch 550 Loss 0.5052 Accuracy 74.6367 AUC 0.7934\n",
            "Epoch 25 TRAIN Batch 600 Loss 0.5052 Accuracy 74.6316 AUC 0.7934\n",
            "Epoch 25 TRAIN Batch 650 Loss 0.5052 Accuracy 74.6335 AUC 0.7933\n",
            "Epoch 25 TRAIN Batch 700 Loss 0.5053 Accuracy 74.6257 AUC 0.7934\n",
            "Epoch 25 TRAIN Batch 750 Loss 0.5052 Accuracy 74.6282 AUC 0.7934\n"
          ],
          "name": "stdout"
        },
        {
          "output_type": "stream",
          "text": [
            "27-12 16:46 root         INFO     Epoch TRAIN 25 Loss 0.5051 Accuracy 74.6340 AUC 0.7935\n"
          ],
          "name": "stderr"
        },
        {
          "output_type": "stream",
          "text": [
            "Epoch 25 VAL Batch 0 Loss 0.5002 Accuracy 74.8011 AUC 0.7916\n",
            "Epoch 25 VAL Batch 50 Loss 0.5052 Accuracy 74.6869 AUC 0.7937\n",
            "Epoch 25 VAL Batch 100 Loss 0.5036 Accuracy 74.7820 AUC 0.7948\n",
            "Epoch 25 VAL Batch 150 Loss 0.5034 Accuracy 74.7966 AUC 0.7949\n",
            "Epoch 25 VAL Batch 200 Loss 0.5035 Accuracy 74.8032 AUC 0.7950\n",
            "Epoch 25 VAL Batch 250 Loss 0.5038 Accuracy 74.7663 AUC 0.7949\n",
            "Epoch 25 VAL Batch 300 Loss 0.5043 Accuracy 74.7386 AUC 0.7948\n",
            "Epoch 25 VAL Batch 350 Loss 0.5045 Accuracy 74.7151 AUC 0.7948\n",
            "Epoch 25 VAL Batch 400 Loss 0.5047 Accuracy 74.7077 AUC 0.7946\n",
            "Epoch 25 VAL Batch 450 Loss 0.5047 Accuracy 74.7074 AUC 0.7945\n",
            "Epoch 25 VAL Batch 500 Loss 0.5047 Accuracy 74.7078 AUC 0.7946\n",
            "Epoch 25 VAL Batch 550 Loss 0.5047 Accuracy 74.7110 AUC 0.7945\n",
            "Epoch 25 VAL Batch 600 Loss 0.5046 Accuracy 74.7231 AUC 0.7946\n",
            "Epoch 25 VAL Batch 650 Loss 0.5047 Accuracy 74.7123 AUC 0.7945\n",
            "Epoch 25 VAL Batch 700 Loss 0.5047 Accuracy 74.7167 AUC 0.7946\n",
            "Epoch 25 VAL Batch 750 Loss 0.5048 Accuracy 74.7102 AUC 0.7946\n"
          ],
          "name": "stdout"
        },
        {
          "output_type": "stream",
          "text": [
            "27-12 16:47 root         INFO     Epoch VAL 25 Loss 0.5049 Accuracy 74.7003 AUC 0.7945\n",
            "27-12 16:47 root         INFO     Saving checkpoint for epoch 25 at 27-Dec-riiid-1/checkpoints/ckpt-5\n"
          ],
          "name": "stderr"
        },
        {
          "output_type": "stream",
          "text": [
            "Time taken for 1 epoch: 186.68894243240356 secs\n",
            "\n",
            "Epoch 26 TRAIN Batch 0 Loss 0.5072 Accuracy 74.7820 AUC 0.7906\n",
            "Epoch 26 TRAIN Batch 50 Loss 0.5051 Accuracy 74.6207 AUC 0.7925\n",
            "Epoch 26 TRAIN Batch 100 Loss 0.5053 Accuracy 74.5826 AUC 0.7932\n",
            "Epoch 26 TRAIN Batch 150 Loss 0.5051 Accuracy 74.5882 AUC 0.7934\n",
            "Epoch 26 TRAIN Batch 200 Loss 0.5051 Accuracy 74.6213 AUC 0.7936\n",
            "Epoch 26 TRAIN Batch 250 Loss 0.5054 Accuracy 74.5885 AUC 0.7934\n",
            "Epoch 26 TRAIN Batch 300 Loss 0.5057 Accuracy 74.5700 AUC 0.7934\n",
            "Epoch 26 TRAIN Batch 350 Loss 0.5056 Accuracy 74.5700 AUC 0.7933\n",
            "Epoch 26 TRAIN Batch 400 Loss 0.5056 Accuracy 74.5702 AUC 0.7934\n",
            "Epoch 26 TRAIN Batch 450 Loss 0.5057 Accuracy 74.5607 AUC 0.7933\n",
            "Epoch 26 TRAIN Batch 500 Loss 0.5054 Accuracy 74.5824 AUC 0.7935\n",
            "Epoch 26 TRAIN Batch 550 Loss 0.5054 Accuracy 74.5908 AUC 0.7936\n",
            "Epoch 26 TRAIN Batch 600 Loss 0.5054 Accuracy 74.5906 AUC 0.7936\n",
            "Epoch 26 TRAIN Batch 650 Loss 0.5055 Accuracy 74.5877 AUC 0.7936\n",
            "Epoch 26 TRAIN Batch 700 Loss 0.5055 Accuracy 74.5853 AUC 0.7937\n",
            "Epoch 26 TRAIN Batch 750 Loss 0.5055 Accuracy 74.5862 AUC 0.7936\n"
          ],
          "name": "stdout"
        },
        {
          "output_type": "stream",
          "text": [
            "27-12 16:50 root         INFO     Epoch TRAIN 26 Loss 0.5055 Accuracy 74.5870 AUC 0.7936\n"
          ],
          "name": "stderr"
        },
        {
          "output_type": "stream",
          "text": [
            "Time taken for 1 epoch: 155.76826190948486 secs\n",
            "\n",
            "Epoch 27 TRAIN Batch 0 Loss 0.4976 Accuracy 75.2403 AUC 0.7982\n",
            "Epoch 27 TRAIN Batch 50 Loss 0.5068 Accuracy 74.5198 AUC 0.7921\n",
            "Epoch 27 TRAIN Batch 100 Loss 0.5054 Accuracy 74.5698 AUC 0.7936\n",
            "Epoch 27 TRAIN Batch 150 Loss 0.5054 Accuracy 74.5754 AUC 0.7935\n",
            "Epoch 27 TRAIN Batch 200 Loss 0.5052 Accuracy 74.5942 AUC 0.7938\n",
            "Epoch 27 TRAIN Batch 250 Loss 0.5053 Accuracy 74.5908 AUC 0.7938\n",
            "Epoch 27 TRAIN Batch 300 Loss 0.5056 Accuracy 74.5597 AUC 0.7936\n",
            "Epoch 27 TRAIN Batch 350 Loss 0.5055 Accuracy 74.5757 AUC 0.7939\n",
            "Epoch 27 TRAIN Batch 400 Loss 0.5054 Accuracy 74.5730 AUC 0.7938\n",
            "Epoch 27 TRAIN Batch 450 Loss 0.5052 Accuracy 74.5885 AUC 0.7938\n",
            "Epoch 27 TRAIN Batch 500 Loss 0.5053 Accuracy 74.5820 AUC 0.7937\n",
            "Epoch 27 TRAIN Batch 550 Loss 0.5052 Accuracy 74.5939 AUC 0.7938\n",
            "Epoch 27 TRAIN Batch 600 Loss 0.5052 Accuracy 74.5886 AUC 0.7938\n",
            "Epoch 27 TRAIN Batch 650 Loss 0.5053 Accuracy 74.5857 AUC 0.7937\n",
            "Epoch 27 TRAIN Batch 700 Loss 0.5053 Accuracy 74.5836 AUC 0.7937\n",
            "Epoch 27 TRAIN Batch 750 Loss 0.5052 Accuracy 74.5960 AUC 0.7937\n"
          ],
          "name": "stdout"
        },
        {
          "output_type": "stream",
          "text": [
            "27-12 16:52 root         INFO     Epoch TRAIN 27 Loss 0.5051 Accuracy 74.6017 AUC 0.7938\n"
          ],
          "name": "stderr"
        },
        {
          "output_type": "stream",
          "text": [
            "Time taken for 1 epoch: 154.53439807891846 secs\n",
            "\n",
            "Epoch 28 TRAIN Batch 0 Loss 0.5129 Accuracy 74.8720 AUC 0.7912\n",
            "Epoch 28 TRAIN Batch 50 Loss 0.5050 Accuracy 74.6452 AUC 0.7938\n",
            "Epoch 28 TRAIN Batch 100 Loss 0.5048 Accuracy 74.6442 AUC 0.7938\n",
            "Epoch 28 TRAIN Batch 150 Loss 0.5047 Accuracy 74.6230 AUC 0.7936\n",
            "Epoch 28 TRAIN Batch 200 Loss 0.5049 Accuracy 74.6147 AUC 0.7935\n",
            "Epoch 28 TRAIN Batch 250 Loss 0.5050 Accuracy 74.6169 AUC 0.7937\n",
            "Epoch 28 TRAIN Batch 300 Loss 0.5053 Accuracy 74.5887 AUC 0.7934\n",
            "Epoch 28 TRAIN Batch 350 Loss 0.5053 Accuracy 74.5775 AUC 0.7934\n",
            "Epoch 28 TRAIN Batch 400 Loss 0.5055 Accuracy 74.5658 AUC 0.7935\n",
            "Epoch 28 TRAIN Batch 450 Loss 0.5055 Accuracy 74.5676 AUC 0.7936\n",
            "Epoch 28 TRAIN Batch 500 Loss 0.5057 Accuracy 74.5541 AUC 0.7936\n",
            "Epoch 28 TRAIN Batch 550 Loss 0.5055 Accuracy 74.5651 AUC 0.7937\n",
            "Epoch 28 TRAIN Batch 600 Loss 0.5054 Accuracy 74.5715 AUC 0.7937\n",
            "Epoch 28 TRAIN Batch 650 Loss 0.5053 Accuracy 74.5781 AUC 0.7938\n",
            "Epoch 28 TRAIN Batch 700 Loss 0.5052 Accuracy 74.5832 AUC 0.7939\n",
            "Epoch 28 TRAIN Batch 750 Loss 0.5053 Accuracy 74.5818 AUC 0.7938\n"
          ],
          "name": "stdout"
        },
        {
          "output_type": "stream",
          "text": [
            "27-12 16:55 root         INFO     Epoch TRAIN 28 Loss 0.5053 Accuracy 74.5812 AUC 0.7939\n"
          ],
          "name": "stderr"
        },
        {
          "output_type": "stream",
          "text": [
            "Time taken for 1 epoch: 158.05629467964172 secs\n",
            "\n",
            "Epoch 29 TRAIN Batch 0 Loss 0.5026 Accuracy 74.8771 AUC 0.7954\n",
            "Epoch 29 TRAIN Batch 50 Loss 0.5051 Accuracy 74.5557 AUC 0.7931\n",
            "Epoch 29 TRAIN Batch 100 Loss 0.5049 Accuracy 74.6030 AUC 0.7935\n",
            "Epoch 29 TRAIN Batch 150 Loss 0.5054 Accuracy 74.5448 AUC 0.7938\n",
            "Epoch 29 TRAIN Batch 200 Loss 0.5055 Accuracy 74.5414 AUC 0.7938\n",
            "Epoch 29 TRAIN Batch 250 Loss 0.5047 Accuracy 74.5862 AUC 0.7941\n",
            "Epoch 29 TRAIN Batch 300 Loss 0.5045 Accuracy 74.6152 AUC 0.7941\n",
            "Epoch 29 TRAIN Batch 350 Loss 0.5044 Accuracy 74.6365 AUC 0.7942\n",
            "Epoch 29 TRAIN Batch 400 Loss 0.5044 Accuracy 74.6376 AUC 0.7943\n",
            "Epoch 29 TRAIN Batch 450 Loss 0.5043 Accuracy 74.6437 AUC 0.7945\n",
            "Epoch 29 TRAIN Batch 500 Loss 0.5042 Accuracy 74.6465 AUC 0.7945\n",
            "Epoch 29 TRAIN Batch 550 Loss 0.5041 Accuracy 74.6517 AUC 0.7946\n",
            "Epoch 29 TRAIN Batch 600 Loss 0.5043 Accuracy 74.6380 AUC 0.7946\n",
            "Epoch 29 TRAIN Batch 650 Loss 0.5042 Accuracy 74.6492 AUC 0.7946\n",
            "Epoch 29 TRAIN Batch 700 Loss 0.5042 Accuracy 74.6458 AUC 0.7947\n",
            "Epoch 29 TRAIN Batch 750 Loss 0.5042 Accuracy 74.6505 AUC 0.7947\n"
          ],
          "name": "stdout"
        },
        {
          "output_type": "stream",
          "text": [
            "27-12 16:57 root         INFO     Epoch TRAIN 29 Loss 0.5042 Accuracy 74.6465 AUC 0.7946\n"
          ],
          "name": "stderr"
        },
        {
          "output_type": "stream",
          "text": [
            "Time taken for 1 epoch: 158.4314694404602 secs\n",
            "\n",
            "Epoch 30 TRAIN Batch 0 Loss 0.5033 Accuracy 74.5333 AUC 0.8017\n",
            "Epoch 30 TRAIN Batch 50 Loss 0.5041 Accuracy 74.6223 AUC 0.7941\n",
            "Epoch 30 TRAIN Batch 100 Loss 0.5039 Accuracy 74.6398 AUC 0.7943\n",
            "Epoch 30 TRAIN Batch 150 Loss 0.5037 Accuracy 74.6863 AUC 0.7945\n",
            "Epoch 30 TRAIN Batch 200 Loss 0.5035 Accuracy 74.6951 AUC 0.7949\n",
            "Epoch 30 TRAIN Batch 250 Loss 0.5039 Accuracy 74.6690 AUC 0.7948\n",
            "Epoch 30 TRAIN Batch 300 Loss 0.5039 Accuracy 74.6631 AUC 0.7948\n",
            "Epoch 30 TRAIN Batch 350 Loss 0.5038 Accuracy 74.6666 AUC 0.7950\n",
            "Epoch 30 TRAIN Batch 400 Loss 0.5040 Accuracy 74.6547 AUC 0.7948\n",
            "Epoch 30 TRAIN Batch 450 Loss 0.5041 Accuracy 74.6520 AUC 0.7946\n",
            "Epoch 30 TRAIN Batch 500 Loss 0.5038 Accuracy 74.6751 AUC 0.7948\n",
            "Epoch 30 TRAIN Batch 550 Loss 0.5039 Accuracy 74.6734 AUC 0.7948\n",
            "Epoch 30 TRAIN Batch 600 Loss 0.5038 Accuracy 74.6783 AUC 0.7948\n",
            "Epoch 30 TRAIN Batch 650 Loss 0.5039 Accuracy 74.6752 AUC 0.7947\n",
            "Epoch 30 TRAIN Batch 700 Loss 0.5038 Accuracy 74.6805 AUC 0.7948\n",
            "Epoch 30 TRAIN Batch 750 Loss 0.5038 Accuracy 74.6770 AUC 0.7948\n"
          ],
          "name": "stdout"
        },
        {
          "output_type": "stream",
          "text": [
            "27-12 17:00 root         INFO     Epoch TRAIN 30 Loss 0.5038 Accuracy 74.6771 AUC 0.7948\n"
          ],
          "name": "stderr"
        },
        {
          "output_type": "stream",
          "text": [
            "Epoch 30 VAL Batch 0 Loss 0.4990 Accuracy 74.8848 AUC 0.7923\n",
            "Epoch 30 VAL Batch 50 Loss 0.5024 Accuracy 74.7791 AUC 0.7955\n",
            "Epoch 30 VAL Batch 100 Loss 0.5011 Accuracy 74.8547 AUC 0.7964\n",
            "Epoch 30 VAL Batch 150 Loss 0.5010 Accuracy 74.8498 AUC 0.7965\n",
            "Epoch 30 VAL Batch 200 Loss 0.5010 Accuracy 74.8523 AUC 0.7966\n",
            "Epoch 30 VAL Batch 250 Loss 0.5013 Accuracy 74.8170 AUC 0.7965\n",
            "Epoch 30 VAL Batch 300 Loss 0.5019 Accuracy 74.7816 AUC 0.7963\n",
            "Epoch 30 VAL Batch 350 Loss 0.5021 Accuracy 74.7657 AUC 0.7963\n",
            "Epoch 30 VAL Batch 400 Loss 0.5022 Accuracy 74.7549 AUC 0.7961\n",
            "Epoch 30 VAL Batch 450 Loss 0.5023 Accuracy 74.7597 AUC 0.7961\n",
            "Epoch 30 VAL Batch 500 Loss 0.5022 Accuracy 74.7596 AUC 0.7961\n",
            "Epoch 30 VAL Batch 550 Loss 0.5023 Accuracy 74.7629 AUC 0.7960\n",
            "Epoch 30 VAL Batch 600 Loss 0.5022 Accuracy 74.7758 AUC 0.7961\n",
            "Epoch 30 VAL Batch 650 Loss 0.5023 Accuracy 74.7678 AUC 0.7960\n",
            "Epoch 30 VAL Batch 700 Loss 0.5022 Accuracy 74.7737 AUC 0.7961\n",
            "Epoch 30 VAL Batch 750 Loss 0.5023 Accuracy 74.7680 AUC 0.7961\n"
          ],
          "name": "stdout"
        },
        {
          "output_type": "stream",
          "text": [
            "27-12 17:01 root         INFO     Epoch VAL 30 Loss 0.5025 Accuracy 74.7564 AUC 0.7961\n",
            "27-12 17:01 root         INFO     Saving checkpoint for epoch 30 at 27-Dec-riiid-1/checkpoints/ckpt-6\n"
          ],
          "name": "stderr"
        },
        {
          "output_type": "stream",
          "text": [
            "Time taken for 1 epoch: 190.07868099212646 secs\n",
            "\n",
            "Epoch 31 TRAIN Batch 0 Loss 0.5095 Accuracy 74.6200 AUC 0.7841\n",
            "Epoch 31 TRAIN Batch 50 Loss 0.5047 Accuracy 74.5740 AUC 0.7940\n",
            "Epoch 31 TRAIN Batch 100 Loss 0.5041 Accuracy 74.6176 AUC 0.7944\n",
            "Epoch 31 TRAIN Batch 150 Loss 0.5042 Accuracy 74.6420 AUC 0.7946\n",
            "Epoch 31 TRAIN Batch 200 Loss 0.5042 Accuracy 74.6529 AUC 0.7948\n",
            "Epoch 31 TRAIN Batch 250 Loss 0.5039 Accuracy 74.6703 AUC 0.7951\n",
            "Epoch 31 TRAIN Batch 300 Loss 0.5046 Accuracy 74.6151 AUC 0.7948\n",
            "Epoch 31 TRAIN Batch 350 Loss 0.5046 Accuracy 74.6267 AUC 0.7949\n",
            "Epoch 31 TRAIN Batch 400 Loss 0.5046 Accuracy 74.6286 AUC 0.7951\n",
            "Epoch 31 TRAIN Batch 450 Loss 0.5046 Accuracy 74.6332 AUC 0.7950\n",
            "Epoch 31 TRAIN Batch 500 Loss 0.5045 Accuracy 74.6419 AUC 0.7950\n",
            "Epoch 31 TRAIN Batch 550 Loss 0.5045 Accuracy 74.6415 AUC 0.7951\n",
            "Epoch 31 TRAIN Batch 600 Loss 0.5045 Accuracy 74.6374 AUC 0.7951\n",
            "Epoch 31 TRAIN Batch 650 Loss 0.5042 Accuracy 74.6579 AUC 0.7953\n",
            "Epoch 31 TRAIN Batch 700 Loss 0.5043 Accuracy 74.6539 AUC 0.7952\n",
            "Epoch 31 TRAIN Batch 750 Loss 0.5044 Accuracy 74.6476 AUC 0.7952\n"
          ],
          "name": "stdout"
        },
        {
          "output_type": "stream",
          "text": [
            "27-12 17:03 root         INFO     Epoch TRAIN 31 Loss 0.5045 Accuracy 74.6388 AUC 0.7951\n"
          ],
          "name": "stderr"
        },
        {
          "output_type": "stream",
          "text": [
            "Time taken for 1 epoch: 158.1236596107483 secs\n",
            "\n",
            "Epoch 32 TRAIN Batch 0 Loss 0.4917 Accuracy 75.6529 AUC 0.8081\n",
            "Epoch 32 TRAIN Batch 50 Loss 0.5049 Accuracy 74.5723 AUC 0.7944\n",
            "Epoch 32 TRAIN Batch 100 Loss 0.5048 Accuracy 74.6100 AUC 0.7945\n",
            "Epoch 32 TRAIN Batch 150 Loss 0.5039 Accuracy 74.6789 AUC 0.7952\n",
            "Epoch 32 TRAIN Batch 200 Loss 0.5039 Accuracy 74.6711 AUC 0.7951\n",
            "Epoch 32 TRAIN Batch 250 Loss 0.5037 Accuracy 74.6857 AUC 0.7952\n",
            "Epoch 32 TRAIN Batch 300 Loss 0.5038 Accuracy 74.6759 AUC 0.7951\n",
            "Epoch 32 TRAIN Batch 350 Loss 0.5037 Accuracy 74.6785 AUC 0.7953\n",
            "Epoch 32 TRAIN Batch 400 Loss 0.5037 Accuracy 74.6743 AUC 0.7953\n",
            "Epoch 32 TRAIN Batch 450 Loss 0.5037 Accuracy 74.6693 AUC 0.7953\n",
            "Epoch 32 TRAIN Batch 500 Loss 0.5037 Accuracy 74.6713 AUC 0.7953\n",
            "Epoch 32 TRAIN Batch 550 Loss 0.5039 Accuracy 74.6633 AUC 0.7953\n",
            "Epoch 32 TRAIN Batch 600 Loss 0.5039 Accuracy 74.6549 AUC 0.7952\n",
            "Epoch 32 TRAIN Batch 650 Loss 0.5039 Accuracy 74.6629 AUC 0.7953\n",
            "Epoch 32 TRAIN Batch 700 Loss 0.5038 Accuracy 74.6690 AUC 0.7953\n",
            "Epoch 32 TRAIN Batch 750 Loss 0.5039 Accuracy 74.6608 AUC 0.7953\n"
          ],
          "name": "stdout"
        },
        {
          "output_type": "stream",
          "text": [
            "27-12 17:06 root         INFO     Epoch TRAIN 32 Loss 0.5041 Accuracy 74.6519 AUC 0.7953\n"
          ],
          "name": "stderr"
        },
        {
          "output_type": "stream",
          "text": [
            "Time taken for 1 epoch: 157.5105254650116 secs\n",
            "\n",
            "Epoch 33 TRAIN Batch 0 Loss 0.5044 Accuracy 74.5951 AUC 0.7947\n",
            "Epoch 33 TRAIN Batch 50 Loss 0.5033 Accuracy 74.7038 AUC 0.7964\n",
            "Epoch 33 TRAIN Batch 100 Loss 0.5037 Accuracy 74.6652 AUC 0.7961\n",
            "Epoch 33 TRAIN Batch 150 Loss 0.5043 Accuracy 74.6256 AUC 0.7956\n",
            "Epoch 33 TRAIN Batch 200 Loss 0.5045 Accuracy 74.6051 AUC 0.7955\n",
            "Epoch 33 TRAIN Batch 250 Loss 0.5040 Accuracy 74.6401 AUC 0.7955\n",
            "Epoch 33 TRAIN Batch 300 Loss 0.5036 Accuracy 74.6594 AUC 0.7957\n",
            "Epoch 33 TRAIN Batch 350 Loss 0.5036 Accuracy 74.6580 AUC 0.7957\n",
            "Epoch 33 TRAIN Batch 400 Loss 0.5034 Accuracy 74.6840 AUC 0.7959\n",
            "Epoch 33 TRAIN Batch 450 Loss 0.5036 Accuracy 74.6684 AUC 0.7958\n",
            "Epoch 33 TRAIN Batch 500 Loss 0.5036 Accuracy 74.6704 AUC 0.7958\n",
            "Epoch 33 TRAIN Batch 550 Loss 0.5035 Accuracy 74.6781 AUC 0.7958\n",
            "Epoch 33 TRAIN Batch 600 Loss 0.5034 Accuracy 74.6856 AUC 0.7958\n",
            "Epoch 33 TRAIN Batch 650 Loss 0.5034 Accuracy 74.6840 AUC 0.7958\n",
            "Epoch 33 TRAIN Batch 700 Loss 0.5035 Accuracy 74.6799 AUC 0.7958\n",
            "Epoch 33 TRAIN Batch 750 Loss 0.5035 Accuracy 74.6819 AUC 0.7957\n"
          ],
          "name": "stdout"
        },
        {
          "output_type": "stream",
          "text": [
            "27-12 17:08 root         INFO     Epoch TRAIN 33 Loss 0.5035 Accuracy 74.6870 AUC 0.7957\n"
          ],
          "name": "stderr"
        },
        {
          "output_type": "stream",
          "text": [
            "Time taken for 1 epoch: 160.74697709083557 secs\n",
            "\n",
            "Epoch 34 TRAIN Batch 0 Loss 0.5023 Accuracy 74.8976 AUC 0.7972\n",
            "Epoch 34 TRAIN Batch 50 Loss 0.5040 Accuracy 74.6502 AUC 0.7956\n",
            "Epoch 34 TRAIN Batch 100 Loss 0.5035 Accuracy 74.6961 AUC 0.7953\n",
            "Epoch 34 TRAIN Batch 150 Loss 0.5036 Accuracy 74.6765 AUC 0.7957\n",
            "Epoch 34 TRAIN Batch 200 Loss 0.5034 Accuracy 74.6893 AUC 0.7960\n",
            "Epoch 34 TRAIN Batch 250 Loss 0.5034 Accuracy 74.6889 AUC 0.7959\n",
            "Epoch 34 TRAIN Batch 300 Loss 0.5035 Accuracy 74.6823 AUC 0.7959\n",
            "Epoch 34 TRAIN Batch 350 Loss 0.5035 Accuracy 74.6746 AUC 0.7958\n",
            "Epoch 34 TRAIN Batch 400 Loss 0.5034 Accuracy 74.6769 AUC 0.7958\n",
            "Epoch 34 TRAIN Batch 450 Loss 0.5032 Accuracy 74.6895 AUC 0.7958\n",
            "Epoch 34 TRAIN Batch 500 Loss 0.5031 Accuracy 74.7003 AUC 0.7959\n",
            "Epoch 34 TRAIN Batch 550 Loss 0.5031 Accuracy 74.6960 AUC 0.7959\n",
            "Epoch 34 TRAIN Batch 600 Loss 0.5031 Accuracy 74.6974 AUC 0.7960\n",
            "Epoch 34 TRAIN Batch 650 Loss 0.5031 Accuracy 74.7065 AUC 0.7960\n",
            "Epoch 34 TRAIN Batch 700 Loss 0.5030 Accuracy 74.7087 AUC 0.7960\n",
            "Epoch 34 TRAIN Batch 750 Loss 0.5030 Accuracy 74.7101 AUC 0.7960\n"
          ],
          "name": "stdout"
        },
        {
          "output_type": "stream",
          "text": [
            "27-12 17:11 root         INFO     Epoch TRAIN 34 Loss 0.5030 Accuracy 74.7131 AUC 0.7961\n"
          ],
          "name": "stderr"
        },
        {
          "output_type": "stream",
          "text": [
            "Time taken for 1 epoch: 160.7190580368042 secs\n",
            "\n",
            "Epoch 35 TRAIN Batch 0 Loss 0.5151 Accuracy 73.3224 AUC 0.7883\n",
            "Epoch 35 TRAIN Batch 50 Loss 0.5033 Accuracy 74.6642 AUC 0.7967\n",
            "Epoch 35 TRAIN Batch 100 Loss 0.5039 Accuracy 74.6320 AUC 0.7962\n",
            "Epoch 35 TRAIN Batch 150 Loss 0.5035 Accuracy 74.6693 AUC 0.7962\n",
            "Epoch 35 TRAIN Batch 200 Loss 0.5030 Accuracy 74.7070 AUC 0.7963\n",
            "Epoch 35 TRAIN Batch 250 Loss 0.5028 Accuracy 74.7192 AUC 0.7964\n",
            "Epoch 35 TRAIN Batch 300 Loss 0.5030 Accuracy 74.7026 AUC 0.7963\n",
            "Epoch 35 TRAIN Batch 350 Loss 0.5033 Accuracy 74.6830 AUC 0.7960\n",
            "Epoch 35 TRAIN Batch 400 Loss 0.5029 Accuracy 74.7141 AUC 0.7963\n",
            "Epoch 35 TRAIN Batch 450 Loss 0.5029 Accuracy 74.7144 AUC 0.7963\n",
            "Epoch 35 TRAIN Batch 500 Loss 0.5028 Accuracy 74.7254 AUC 0.7964\n",
            "Epoch 35 TRAIN Batch 550 Loss 0.5027 Accuracy 74.7364 AUC 0.7965\n",
            "Epoch 35 TRAIN Batch 600 Loss 0.5027 Accuracy 74.7333 AUC 0.7964\n",
            "Epoch 35 TRAIN Batch 650 Loss 0.5028 Accuracy 74.7261 AUC 0.7964\n",
            "Epoch 35 TRAIN Batch 700 Loss 0.5027 Accuracy 74.7308 AUC 0.7964\n",
            "Epoch 35 TRAIN Batch 750 Loss 0.5026 Accuracy 74.7361 AUC 0.7964\n"
          ],
          "name": "stdout"
        },
        {
          "output_type": "stream",
          "text": [
            "27-12 17:14 root         INFO     Epoch TRAIN 35 Loss 0.5025 Accuracy 74.7407 AUC 0.7965\n"
          ],
          "name": "stderr"
        },
        {
          "output_type": "stream",
          "text": [
            "Epoch 35 VAL Batch 0 Loss 0.4987 Accuracy 74.9937 AUC 0.7937\n",
            "Epoch 35 VAL Batch 50 Loss 0.5028 Accuracy 74.8392 AUC 0.7965\n",
            "Epoch 35 VAL Batch 100 Loss 0.5012 Accuracy 74.8912 AUC 0.7975\n",
            "Epoch 35 VAL Batch 150 Loss 0.5010 Accuracy 74.9069 AUC 0.7976\n",
            "Epoch 35 VAL Batch 200 Loss 0.5010 Accuracy 74.9108 AUC 0.7977\n",
            "Epoch 35 VAL Batch 250 Loss 0.5014 Accuracy 74.8728 AUC 0.7977\n",
            "Epoch 35 VAL Batch 300 Loss 0.5019 Accuracy 74.8361 AUC 0.7975\n",
            "Epoch 35 VAL Batch 350 Loss 0.5022 Accuracy 74.8099 AUC 0.7974\n",
            "Epoch 35 VAL Batch 400 Loss 0.5023 Accuracy 74.7998 AUC 0.7973\n",
            "Epoch 35 VAL Batch 450 Loss 0.5023 Accuracy 74.8035 AUC 0.7972\n",
            "Epoch 35 VAL Batch 500 Loss 0.5023 Accuracy 74.8047 AUC 0.7973\n",
            "Epoch 35 VAL Batch 550 Loss 0.5023 Accuracy 74.8069 AUC 0.7972\n",
            "Epoch 35 VAL Batch 600 Loss 0.5022 Accuracy 74.8212 AUC 0.7973\n",
            "Epoch 35 VAL Batch 650 Loss 0.5023 Accuracy 74.8131 AUC 0.7972\n",
            "Epoch 35 VAL Batch 700 Loss 0.5022 Accuracy 74.8167 AUC 0.7973\n",
            "Epoch 35 VAL Batch 750 Loss 0.5023 Accuracy 74.8121 AUC 0.7973\n"
          ],
          "name": "stdout"
        },
        {
          "output_type": "stream",
          "text": [
            "27-12 17:14 root         INFO     Epoch VAL 35 Loss 0.5024 Accuracy 74.7994 AUC 0.7972\n",
            "27-12 17:14 root         INFO     Saving checkpoint for epoch 35 at 27-Dec-riiid-1/checkpoints/ckpt-7\n"
          ],
          "name": "stderr"
        },
        {
          "output_type": "stream",
          "text": [
            "Time taken for 1 epoch: 192.14699125289917 secs\n",
            "\n",
            "Epoch 36 TRAIN Batch 0 Loss 0.4995 Accuracy 75.2911 AUC 0.7912\n",
            "Epoch 36 TRAIN Batch 50 Loss 0.5036 Accuracy 74.6857 AUC 0.7959\n",
            "Epoch 36 TRAIN Batch 100 Loss 0.5023 Accuracy 74.7804 AUC 0.7965\n",
            "Epoch 36 TRAIN Batch 150 Loss 0.5023 Accuracy 74.7807 AUC 0.7965\n",
            "Epoch 36 TRAIN Batch 200 Loss 0.5022 Accuracy 74.7731 AUC 0.7965\n",
            "Epoch 36 TRAIN Batch 250 Loss 0.5024 Accuracy 74.7593 AUC 0.7963\n",
            "Epoch 36 TRAIN Batch 300 Loss 0.5027 Accuracy 74.7399 AUC 0.7962\n",
            "Epoch 36 TRAIN Batch 350 Loss 0.5025 Accuracy 74.7441 AUC 0.7963\n",
            "Epoch 36 TRAIN Batch 400 Loss 0.5025 Accuracy 74.7369 AUC 0.7963\n",
            "Epoch 36 TRAIN Batch 450 Loss 0.5025 Accuracy 74.7406 AUC 0.7964\n",
            "Epoch 36 TRAIN Batch 500 Loss 0.5026 Accuracy 74.7333 AUC 0.7964\n",
            "Epoch 36 TRAIN Batch 550 Loss 0.5027 Accuracy 74.7302 AUC 0.7963\n",
            "Epoch 36 TRAIN Batch 600 Loss 0.5028 Accuracy 74.7263 AUC 0.7963\n",
            "Epoch 36 TRAIN Batch 650 Loss 0.5027 Accuracy 74.7344 AUC 0.7962\n",
            "Epoch 36 TRAIN Batch 700 Loss 0.5027 Accuracy 74.7287 AUC 0.7961\n",
            "Epoch 36 TRAIN Batch 750 Loss 0.5026 Accuracy 74.7342 AUC 0.7962\n"
          ],
          "name": "stdout"
        },
        {
          "output_type": "stream",
          "text": [
            "27-12 17:17 root         INFO     Epoch TRAIN 36 Loss 0.5026 Accuracy 74.7398 AUC 0.7962\n"
          ],
          "name": "stderr"
        },
        {
          "output_type": "stream",
          "text": [
            "Time taken for 1 epoch: 154.6530156135559 secs\n",
            "\n",
            "Epoch 37 TRAIN Batch 0 Loss 0.4979 Accuracy 75.2948 AUC 0.7980\n",
            "Epoch 37 TRAIN Batch 50 Loss 0.5021 Accuracy 74.7790 AUC 0.7965\n",
            "Epoch 37 TRAIN Batch 100 Loss 0.5033 Accuracy 74.6832 AUC 0.7959\n",
            "Epoch 37 TRAIN Batch 150 Loss 0.5031 Accuracy 74.6772 AUC 0.7961\n",
            "Epoch 37 TRAIN Batch 200 Loss 0.5036 Accuracy 74.6386 AUC 0.7961\n",
            "Epoch 37 TRAIN Batch 250 Loss 0.5036 Accuracy 74.6470 AUC 0.7961\n",
            "Epoch 37 TRAIN Batch 300 Loss 0.5032 Accuracy 74.6749 AUC 0.7964\n",
            "Epoch 37 TRAIN Batch 350 Loss 0.5032 Accuracy 74.6808 AUC 0.7963\n",
            "Epoch 37 TRAIN Batch 400 Loss 0.5030 Accuracy 74.6975 AUC 0.7964\n",
            "Epoch 37 TRAIN Batch 450 Loss 0.5031 Accuracy 74.6910 AUC 0.7964\n",
            "Epoch 37 TRAIN Batch 500 Loss 0.5030 Accuracy 74.7032 AUC 0.7964\n",
            "Epoch 37 TRAIN Batch 550 Loss 0.5030 Accuracy 74.7085 AUC 0.7965\n",
            "Epoch 37 TRAIN Batch 600 Loss 0.5031 Accuracy 74.6988 AUC 0.7963\n",
            "Epoch 37 TRAIN Batch 650 Loss 0.5029 Accuracy 74.7040 AUC 0.7964\n",
            "Epoch 37 TRAIN Batch 700 Loss 0.5029 Accuracy 74.7115 AUC 0.7964\n",
            "Epoch 37 TRAIN Batch 750 Loss 0.5028 Accuracy 74.7195 AUC 0.7965\n"
          ],
          "name": "stdout"
        },
        {
          "output_type": "stream",
          "text": [
            "27-12 17:20 root         INFO     Epoch TRAIN 37 Loss 0.5027 Accuracy 74.7211 AUC 0.7965\n"
          ],
          "name": "stderr"
        },
        {
          "output_type": "stream",
          "text": [
            "Time taken for 1 epoch: 155.48720383644104 secs\n",
            "\n",
            "Epoch 38 TRAIN Batch 0 Loss 0.5005 Accuracy 74.7407 AUC 0.8020\n",
            "Epoch 38 TRAIN Batch 50 Loss 0.5022 Accuracy 74.8178 AUC 0.7975\n",
            "Epoch 38 TRAIN Batch 100 Loss 0.5028 Accuracy 74.7731 AUC 0.7968\n",
            "Epoch 38 TRAIN Batch 150 Loss 0.5030 Accuracy 74.7394 AUC 0.7963\n",
            "Epoch 38 TRAIN Batch 200 Loss 0.5028 Accuracy 74.7572 AUC 0.7965\n",
            "Epoch 38 TRAIN Batch 250 Loss 0.5022 Accuracy 74.7891 AUC 0.7968\n",
            "Epoch 38 TRAIN Batch 300 Loss 0.5021 Accuracy 74.8024 AUC 0.7968\n",
            "Epoch 38 TRAIN Batch 350 Loss 0.5018 Accuracy 74.8128 AUC 0.7969\n",
            "Epoch 38 TRAIN Batch 400 Loss 0.5019 Accuracy 74.8085 AUC 0.7969\n",
            "Epoch 38 TRAIN Batch 450 Loss 0.5018 Accuracy 74.8097 AUC 0.7969\n",
            "Epoch 38 TRAIN Batch 500 Loss 0.5018 Accuracy 74.8082 AUC 0.7970\n",
            "Epoch 38 TRAIN Batch 550 Loss 0.5019 Accuracy 74.7965 AUC 0.7970\n",
            "Epoch 38 TRAIN Batch 600 Loss 0.5019 Accuracy 74.7929 AUC 0.7970\n",
            "Epoch 38 TRAIN Batch 650 Loss 0.5019 Accuracy 74.7899 AUC 0.7970\n",
            "Epoch 38 TRAIN Batch 700 Loss 0.5020 Accuracy 74.7866 AUC 0.7970\n",
            "Epoch 38 TRAIN Batch 750 Loss 0.5019 Accuracy 74.7915 AUC 0.7970\n"
          ],
          "name": "stdout"
        },
        {
          "output_type": "stream",
          "text": [
            "27-12 17:22 root         INFO     Epoch TRAIN 38 Loss 0.5019 Accuracy 74.7921 AUC 0.7970\n"
          ],
          "name": "stderr"
        },
        {
          "output_type": "stream",
          "text": [
            "Time taken for 1 epoch: 154.75156426429749 secs\n",
            "\n",
            "Epoch 39 TRAIN Batch 0 Loss 0.4967 Accuracy 74.8173 AUC 0.8001\n",
            "Epoch 39 TRAIN Batch 50 Loss 0.5005 Accuracy 74.8669 AUC 0.7978\n",
            "Epoch 39 TRAIN Batch 100 Loss 0.5010 Accuracy 74.8499 AUC 0.7973\n",
            "Epoch 39 TRAIN Batch 150 Loss 0.5019 Accuracy 74.7640 AUC 0.7971\n",
            "Epoch 39 TRAIN Batch 200 Loss 0.5021 Accuracy 74.7538 AUC 0.7969\n",
            "Epoch 39 TRAIN Batch 250 Loss 0.5022 Accuracy 74.7484 AUC 0.7970\n",
            "Epoch 39 TRAIN Batch 300 Loss 0.5023 Accuracy 74.7546 AUC 0.7970\n",
            "Epoch 39 TRAIN Batch 350 Loss 0.5024 Accuracy 74.7616 AUC 0.7968\n",
            "Epoch 39 TRAIN Batch 400 Loss 0.5024 Accuracy 74.7649 AUC 0.7969\n",
            "Epoch 39 TRAIN Batch 450 Loss 0.5025 Accuracy 74.7509 AUC 0.7967\n",
            "Epoch 39 TRAIN Batch 500 Loss 0.5026 Accuracy 74.7430 AUC 0.7966\n",
            "Epoch 39 TRAIN Batch 550 Loss 0.5024 Accuracy 74.7519 AUC 0.7967\n",
            "Epoch 39 TRAIN Batch 600 Loss 0.5025 Accuracy 74.7452 AUC 0.7967\n",
            "Epoch 39 TRAIN Batch 650 Loss 0.5026 Accuracy 74.7344 AUC 0.7968\n",
            "Epoch 39 TRAIN Batch 700 Loss 0.5025 Accuracy 74.7344 AUC 0.7968\n",
            "Epoch 39 TRAIN Batch 750 Loss 0.5026 Accuracy 74.7381 AUC 0.7969\n"
          ],
          "name": "stdout"
        },
        {
          "output_type": "stream",
          "text": [
            "27-12 17:25 root         INFO     Epoch TRAIN 39 Loss 0.5026 Accuracy 74.7387 AUC 0.7969\n"
          ],
          "name": "stderr"
        },
        {
          "output_type": "stream",
          "text": [
            "Time taken for 1 epoch: 155.81135249137878 secs\n",
            "\n",
            "Epoch 40 TRAIN Batch 0 Loss 0.5014 Accuracy 74.9534 AUC 0.7970\n",
            "Epoch 40 TRAIN Batch 50 Loss 0.5002 Accuracy 74.8564 AUC 0.7975\n",
            "Epoch 40 TRAIN Batch 100 Loss 0.4996 Accuracy 74.9096 AUC 0.7982\n",
            "Epoch 40 TRAIN Batch 150 Loss 0.5010 Accuracy 74.8437 AUC 0.7973\n",
            "Epoch 40 TRAIN Batch 200 Loss 0.5013 Accuracy 74.8161 AUC 0.7973\n",
            "Epoch 40 TRAIN Batch 250 Loss 0.5010 Accuracy 74.8408 AUC 0.7974\n",
            "Epoch 40 TRAIN Batch 300 Loss 0.5011 Accuracy 74.8328 AUC 0.7973\n",
            "Epoch 40 TRAIN Batch 350 Loss 0.5011 Accuracy 74.8264 AUC 0.7974\n",
            "Epoch 40 TRAIN Batch 400 Loss 0.5011 Accuracy 74.8264 AUC 0.7974\n",
            "Epoch 40 TRAIN Batch 450 Loss 0.5013 Accuracy 74.8203 AUC 0.7974\n",
            "Epoch 40 TRAIN Batch 500 Loss 0.5014 Accuracy 74.8163 AUC 0.7974\n",
            "Epoch 40 TRAIN Batch 550 Loss 0.5012 Accuracy 74.8331 AUC 0.7975\n",
            "Epoch 40 TRAIN Batch 600 Loss 0.5012 Accuracy 74.8296 AUC 0.7975\n",
            "Epoch 40 TRAIN Batch 650 Loss 0.5014 Accuracy 74.8187 AUC 0.7974\n",
            "Epoch 40 TRAIN Batch 700 Loss 0.5016 Accuracy 74.8039 AUC 0.7972\n",
            "Epoch 40 TRAIN Batch 750 Loss 0.5017 Accuracy 74.7992 AUC 0.7971\n"
          ],
          "name": "stdout"
        },
        {
          "output_type": "stream",
          "text": [
            "27-12 17:27 root         INFO     Epoch TRAIN 40 Loss 0.5017 Accuracy 74.7980 AUC 0.7971\n"
          ],
          "name": "stderr"
        },
        {
          "output_type": "stream",
          "text": [
            "Epoch 40 VAL Batch 0 Loss 0.4976 Accuracy 74.8011 AUC 0.7935\n",
            "Epoch 40 VAL Batch 50 Loss 0.5007 Accuracy 74.8945 AUC 0.7974\n",
            "Epoch 40 VAL Batch 100 Loss 0.4993 Accuracy 74.9797 AUC 0.7984\n",
            "Epoch 40 VAL Batch 150 Loss 0.4992 Accuracy 74.9967 AUC 0.7984\n",
            "Epoch 40 VAL Batch 200 Loss 0.4992 Accuracy 74.9964 AUC 0.7985\n",
            "Epoch 40 VAL Batch 250 Loss 0.4996 Accuracy 74.9555 AUC 0.7985\n",
            "Epoch 40 VAL Batch 300 Loss 0.5001 Accuracy 74.9208 AUC 0.7983\n",
            "Epoch 40 VAL Batch 350 Loss 0.5003 Accuracy 74.9021 AUC 0.7983\n",
            "Epoch 40 VAL Batch 400 Loss 0.5005 Accuracy 74.8948 AUC 0.7981\n",
            "Epoch 40 VAL Batch 450 Loss 0.5005 Accuracy 74.8990 AUC 0.7981\n",
            "Epoch 40 VAL Batch 500 Loss 0.5005 Accuracy 74.8979 AUC 0.7981\n",
            "Epoch 40 VAL Batch 550 Loss 0.5006 Accuracy 74.8956 AUC 0.7980\n",
            "Epoch 40 VAL Batch 600 Loss 0.5004 Accuracy 74.9077 AUC 0.7981\n",
            "Epoch 40 VAL Batch 650 Loss 0.5006 Accuracy 74.8987 AUC 0.7980\n",
            "Epoch 40 VAL Batch 700 Loss 0.5005 Accuracy 74.9015 AUC 0.7981\n",
            "Epoch 40 VAL Batch 750 Loss 0.5006 Accuracy 74.8978 AUC 0.7981\n"
          ],
          "name": "stdout"
        },
        {
          "output_type": "stream",
          "text": [
            "27-12 17:28 root         INFO     Epoch VAL 40 Loss 0.5007 Accuracy 74.8869 AUC 0.7980\n",
            "27-12 17:28 root         INFO     Saving checkpoint for epoch 40 at 27-Dec-riiid-1/checkpoints/ckpt-8\n"
          ],
          "name": "stderr"
        },
        {
          "output_type": "stream",
          "text": [
            "Time taken for 1 epoch: 186.968852519989 secs\n",
            "\n",
            "Epoch 41 TRAIN Batch 0 Loss 0.4936 Accuracy 75.2904 AUC 0.7947\n",
            "Epoch 41 TRAIN Batch 50 Loss 0.5011 Accuracy 74.8058 AUC 0.7973\n",
            "Epoch 41 TRAIN Batch 100 Loss 0.5007 Accuracy 74.8577 AUC 0.7981\n",
            "Epoch 41 TRAIN Batch 150 Loss 0.5012 Accuracy 74.8181 AUC 0.7976\n",
            "Epoch 41 TRAIN Batch 200 Loss 0.5013 Accuracy 74.8222 AUC 0.7974\n",
            "Epoch 41 TRAIN Batch 250 Loss 0.5015 Accuracy 74.7932 AUC 0.7974\n",
            "Epoch 41 TRAIN Batch 300 Loss 0.5012 Accuracy 74.8202 AUC 0.7976\n",
            "Epoch 41 TRAIN Batch 350 Loss 0.5011 Accuracy 74.8329 AUC 0.7978\n",
            "Epoch 41 TRAIN Batch 400 Loss 0.5010 Accuracy 74.8384 AUC 0.7978\n",
            "Epoch 41 TRAIN Batch 450 Loss 0.5010 Accuracy 74.8349 AUC 0.7979\n",
            "Epoch 41 TRAIN Batch 500 Loss 0.5011 Accuracy 74.8273 AUC 0.7978\n",
            "Epoch 41 TRAIN Batch 550 Loss 0.5010 Accuracy 74.8301 AUC 0.7977\n",
            "Epoch 41 TRAIN Batch 600 Loss 0.5009 Accuracy 74.8391 AUC 0.7978\n",
            "Epoch 41 TRAIN Batch 650 Loss 0.5010 Accuracy 74.8318 AUC 0.7977\n",
            "Epoch 41 TRAIN Batch 700 Loss 0.5011 Accuracy 74.8262 AUC 0.7978\n",
            "Epoch 41 TRAIN Batch 750 Loss 0.5011 Accuracy 74.8297 AUC 0.7978\n"
          ],
          "name": "stdout"
        },
        {
          "output_type": "stream",
          "text": [
            "27-12 17:30 root         INFO     Epoch TRAIN 41 Loss 0.5012 Accuracy 74.8229 AUC 0.7977\n"
          ],
          "name": "stderr"
        },
        {
          "output_type": "stream",
          "text": [
            "Time taken for 1 epoch: 155.59013867378235 secs\n",
            "\n",
            "Epoch 42 TRAIN Batch 0 Loss 0.5007 Accuracy 74.7397 AUC 0.8040\n",
            "Epoch 42 TRAIN Batch 50 Loss 0.5021 Accuracy 74.7690 AUC 0.7971\n",
            "Epoch 42 TRAIN Batch 100 Loss 0.5020 Accuracy 74.7648 AUC 0.7970\n",
            "Epoch 42 TRAIN Batch 150 Loss 0.5017 Accuracy 74.7978 AUC 0.7975\n",
            "Epoch 42 TRAIN Batch 200 Loss 0.5022 Accuracy 74.7611 AUC 0.7973\n",
            "Epoch 42 TRAIN Batch 250 Loss 0.5020 Accuracy 74.7680 AUC 0.7972\n",
            "Epoch 42 TRAIN Batch 300 Loss 0.5021 Accuracy 74.7549 AUC 0.7971\n",
            "Epoch 42 TRAIN Batch 350 Loss 0.5018 Accuracy 74.7690 AUC 0.7973\n",
            "Epoch 42 TRAIN Batch 400 Loss 0.5016 Accuracy 74.7847 AUC 0.7974\n",
            "Epoch 42 TRAIN Batch 450 Loss 0.5015 Accuracy 74.7910 AUC 0.7974\n",
            "Epoch 42 TRAIN Batch 500 Loss 0.5014 Accuracy 74.7987 AUC 0.7975\n",
            "Epoch 42 TRAIN Batch 550 Loss 0.5015 Accuracy 74.7977 AUC 0.7974\n",
            "Epoch 42 TRAIN Batch 600 Loss 0.5016 Accuracy 74.7871 AUC 0.7974\n",
            "Epoch 42 TRAIN Batch 650 Loss 0.5016 Accuracy 74.7918 AUC 0.7974\n",
            "Epoch 42 TRAIN Batch 700 Loss 0.5016 Accuracy 74.7896 AUC 0.7974\n",
            "Epoch 42 TRAIN Batch 750 Loss 0.5016 Accuracy 74.7911 AUC 0.7974\n"
          ],
          "name": "stdout"
        },
        {
          "output_type": "stream",
          "text": [
            "27-12 17:33 root         INFO     Epoch TRAIN 42 Loss 0.5014 Accuracy 74.7998 AUC 0.7975\n"
          ],
          "name": "stderr"
        },
        {
          "output_type": "stream",
          "text": [
            "Time taken for 1 epoch: 154.54281330108643 secs\n",
            "\n",
            "Epoch 43 TRAIN Batch 0 Loss 0.5054 Accuracy 74.5724 AUC 0.7942\n",
            "Epoch 43 TRAIN Batch 50 Loss 0.4997 Accuracy 74.9216 AUC 0.7981\n",
            "Epoch 43 TRAIN Batch 100 Loss 0.5011 Accuracy 74.8257 AUC 0.7976\n",
            "Epoch 43 TRAIN Batch 150 Loss 0.5017 Accuracy 74.7591 AUC 0.7975\n",
            "Epoch 43 TRAIN Batch 200 Loss 0.5014 Accuracy 74.8052 AUC 0.7975\n",
            "Epoch 43 TRAIN Batch 250 Loss 0.5014 Accuracy 74.7958 AUC 0.7974\n",
            "Epoch 43 TRAIN Batch 300 Loss 0.5014 Accuracy 74.8006 AUC 0.7974\n",
            "Epoch 43 TRAIN Batch 350 Loss 0.5012 Accuracy 74.8106 AUC 0.7975\n",
            "Epoch 43 TRAIN Batch 400 Loss 0.5011 Accuracy 74.8170 AUC 0.7976\n",
            "Epoch 43 TRAIN Batch 450 Loss 0.5010 Accuracy 74.8202 AUC 0.7977\n",
            "Epoch 43 TRAIN Batch 500 Loss 0.5009 Accuracy 74.8295 AUC 0.7976\n",
            "Epoch 43 TRAIN Batch 550 Loss 0.5011 Accuracy 74.8091 AUC 0.7976\n",
            "Epoch 43 TRAIN Batch 600 Loss 0.5012 Accuracy 74.8062 AUC 0.7976\n",
            "Epoch 43 TRAIN Batch 650 Loss 0.5010 Accuracy 74.8176 AUC 0.7976\n",
            "Epoch 43 TRAIN Batch 700 Loss 0.5012 Accuracy 74.8084 AUC 0.7976\n",
            "Epoch 43 TRAIN Batch 750 Loss 0.5012 Accuracy 74.8077 AUC 0.7976\n"
          ],
          "name": "stdout"
        },
        {
          "output_type": "stream",
          "text": [
            "27-12 17:36 root         INFO     Epoch TRAIN 43 Loss 0.5014 Accuracy 74.8014 AUC 0.7976\n"
          ],
          "name": "stderr"
        },
        {
          "output_type": "stream",
          "text": [
            "Time taken for 1 epoch: 156.62013292312622 secs\n",
            "\n",
            "Epoch 44 TRAIN Batch 0 Loss 0.5070 Accuracy 74.5641 AUC 0.7974\n",
            "Epoch 44 TRAIN Batch 50 Loss 0.5002 Accuracy 74.8798 AUC 0.7986\n",
            "Epoch 44 TRAIN Batch 100 Loss 0.5003 Accuracy 74.8593 AUC 0.7984\n",
            "Epoch 44 TRAIN Batch 150 Loss 0.5016 Accuracy 74.7613 AUC 0.7979\n",
            "Epoch 44 TRAIN Batch 200 Loss 0.5017 Accuracy 74.7733 AUC 0.7981\n",
            "Epoch 44 TRAIN Batch 250 Loss 0.5015 Accuracy 74.7883 AUC 0.7982\n",
            "Epoch 44 TRAIN Batch 300 Loss 0.5010 Accuracy 74.8171 AUC 0.7984\n",
            "Epoch 44 TRAIN Batch 350 Loss 0.5012 Accuracy 74.8039 AUC 0.7981\n",
            "Epoch 44 TRAIN Batch 400 Loss 0.5014 Accuracy 74.7926 AUC 0.7980\n",
            "Epoch 44 TRAIN Batch 450 Loss 0.5013 Accuracy 74.7970 AUC 0.7981\n",
            "Epoch 44 TRAIN Batch 500 Loss 0.5012 Accuracy 74.8018 AUC 0.7981\n",
            "Epoch 44 TRAIN Batch 550 Loss 0.5013 Accuracy 74.8030 AUC 0.7980\n",
            "Epoch 44 TRAIN Batch 600 Loss 0.5012 Accuracy 74.8067 AUC 0.7980\n",
            "Epoch 44 TRAIN Batch 650 Loss 0.5010 Accuracy 74.8145 AUC 0.7981\n",
            "Epoch 44 TRAIN Batch 700 Loss 0.5008 Accuracy 74.8294 AUC 0.7981\n",
            "Epoch 44 TRAIN Batch 750 Loss 0.5009 Accuracy 74.8227 AUC 0.7981\n"
          ],
          "name": "stdout"
        },
        {
          "output_type": "stream",
          "text": [
            "27-12 17:38 root         INFO     Epoch TRAIN 44 Loss 0.5009 Accuracy 74.8271 AUC 0.7981\n"
          ],
          "name": "stderr"
        },
        {
          "output_type": "stream",
          "text": [
            "Time taken for 1 epoch: 157.23765778541565 secs\n",
            "\n",
            "Epoch 45 TRAIN Batch 0 Loss 0.4929 Accuracy 75.4023 AUC 0.8028\n",
            "Epoch 45 TRAIN Batch 50 Loss 0.5007 Accuracy 74.8368 AUC 0.7985\n",
            "Epoch 45 TRAIN Batch 100 Loss 0.5009 Accuracy 74.8374 AUC 0.7982\n",
            "Epoch 45 TRAIN Batch 150 Loss 0.5011 Accuracy 74.8196 AUC 0.7980\n",
            "Epoch 45 TRAIN Batch 200 Loss 0.5009 Accuracy 74.8295 AUC 0.7983\n",
            "Epoch 45 TRAIN Batch 250 Loss 0.5009 Accuracy 74.8223 AUC 0.7981\n",
            "Epoch 45 TRAIN Batch 300 Loss 0.5009 Accuracy 74.8170 AUC 0.7982\n",
            "Epoch 45 TRAIN Batch 350 Loss 0.5007 Accuracy 74.8364 AUC 0.7983\n",
            "Epoch 45 TRAIN Batch 400 Loss 0.5009 Accuracy 74.8378 AUC 0.7983\n",
            "Epoch 45 TRAIN Batch 450 Loss 0.5008 Accuracy 74.8463 AUC 0.7983\n",
            "Epoch 45 TRAIN Batch 500 Loss 0.5007 Accuracy 74.8501 AUC 0.7983\n",
            "Epoch 45 TRAIN Batch 550 Loss 0.5005 Accuracy 74.8583 AUC 0.7985\n",
            "Epoch 45 TRAIN Batch 600 Loss 0.5005 Accuracy 74.8645 AUC 0.7985\n",
            "Epoch 45 TRAIN Batch 650 Loss 0.5005 Accuracy 74.8633 AUC 0.7986\n",
            "Epoch 45 TRAIN Batch 700 Loss 0.5005 Accuracy 74.8617 AUC 0.7987\n",
            "Epoch 45 TRAIN Batch 750 Loss 0.5005 Accuracy 74.8597 AUC 0.7986\n"
          ],
          "name": "stdout"
        },
        {
          "output_type": "stream",
          "text": [
            "27-12 17:41 root         INFO     Epoch TRAIN 45 Loss 0.5005 Accuracy 74.8611 AUC 0.7986\n"
          ],
          "name": "stderr"
        },
        {
          "output_type": "stream",
          "text": [
            "Epoch 45 VAL Batch 0 Loss 0.4952 Accuracy 75.2533 AUC 0.7968\n",
            "Epoch 45 VAL Batch 50 Loss 0.5010 Accuracy 74.9381 AUC 0.7979\n",
            "Epoch 45 VAL Batch 100 Loss 0.4995 Accuracy 75.0398 AUC 0.7989\n",
            "Epoch 45 VAL Batch 150 Loss 0.4994 Accuracy 75.0286 AUC 0.7990\n",
            "Epoch 45 VAL Batch 200 Loss 0.4994 Accuracy 75.0384 AUC 0.7991\n",
            "Epoch 45 VAL Batch 250 Loss 0.4997 Accuracy 75.0014 AUC 0.7991\n",
            "Epoch 45 VAL Batch 300 Loss 0.5003 Accuracy 74.9634 AUC 0.7989\n",
            "Epoch 45 VAL Batch 350 Loss 0.5004 Accuracy 74.9453 AUC 0.7989\n",
            "Epoch 45 VAL Batch 400 Loss 0.5006 Accuracy 74.9326 AUC 0.7987\n",
            "Epoch 45 VAL Batch 450 Loss 0.5007 Accuracy 74.9358 AUC 0.7986\n",
            "Epoch 45 VAL Batch 500 Loss 0.5006 Accuracy 74.9353 AUC 0.7987\n",
            "Epoch 45 VAL Batch 550 Loss 0.5007 Accuracy 74.9349 AUC 0.7986\n",
            "Epoch 45 VAL Batch 600 Loss 0.5005 Accuracy 74.9448 AUC 0.7987\n",
            "Epoch 45 VAL Batch 650 Loss 0.5007 Accuracy 74.9373 AUC 0.7986\n",
            "Epoch 45 VAL Batch 700 Loss 0.5006 Accuracy 74.9407 AUC 0.7987\n",
            "Epoch 45 VAL Batch 750 Loss 0.5007 Accuracy 74.9384 AUC 0.7987\n"
          ],
          "name": "stdout"
        },
        {
          "output_type": "stream",
          "text": [
            "27-12 17:41 root         INFO     Epoch VAL 45 Loss 0.5008 Accuracy 74.9277 AUC 0.7986\n",
            "27-12 17:41 root         INFO     Saving checkpoint for epoch 45 at 27-Dec-riiid-1/checkpoints/ckpt-9\n"
          ],
          "name": "stderr"
        },
        {
          "output_type": "stream",
          "text": [
            "Time taken for 1 epoch: 189.0735309123993 secs\n",
            "\n",
            "Epoch 46 TRAIN Batch 0 Loss 0.5009 Accuracy 74.9501 AUC 0.7926\n",
            "Epoch 46 TRAIN Batch 50 Loss 0.4991 Accuracy 75.0056 AUC 0.7997\n",
            "Epoch 46 TRAIN Batch 100 Loss 0.5011 Accuracy 74.8571 AUC 0.7982\n",
            "Epoch 46 TRAIN Batch 150 Loss 0.5010 Accuracy 74.8615 AUC 0.7984\n",
            "Epoch 46 TRAIN Batch 200 Loss 0.5004 Accuracy 74.8829 AUC 0.7989\n",
            "Epoch 46 TRAIN Batch 250 Loss 0.5005 Accuracy 74.8712 AUC 0.7989\n",
            "Epoch 46 TRAIN Batch 300 Loss 0.5005 Accuracy 74.8762 AUC 0.7988\n",
            "Epoch 46 TRAIN Batch 350 Loss 0.5007 Accuracy 74.8549 AUC 0.7986\n",
            "Epoch 46 TRAIN Batch 400 Loss 0.5007 Accuracy 74.8540 AUC 0.7986\n",
            "Epoch 46 TRAIN Batch 450 Loss 0.5005 Accuracy 74.8564 AUC 0.7986\n",
            "Epoch 46 TRAIN Batch 500 Loss 0.5006 Accuracy 74.8642 AUC 0.7986\n",
            "Epoch 46 TRAIN Batch 550 Loss 0.5005 Accuracy 74.8667 AUC 0.7986\n",
            "Epoch 46 TRAIN Batch 600 Loss 0.5003 Accuracy 74.8782 AUC 0.7986\n",
            "Epoch 46 TRAIN Batch 650 Loss 0.5003 Accuracy 74.8769 AUC 0.7986\n",
            "Epoch 46 TRAIN Batch 700 Loss 0.5002 Accuracy 74.8892 AUC 0.7986\n",
            "Epoch 46 TRAIN Batch 750 Loss 0.5003 Accuracy 74.8820 AUC 0.7986\n"
          ],
          "name": "stdout"
        },
        {
          "output_type": "stream",
          "text": [
            "27-12 17:44 root         INFO     Epoch TRAIN 46 Loss 0.5002 Accuracy 74.8860 AUC 0.7986\n"
          ],
          "name": "stderr"
        },
        {
          "output_type": "stream",
          "text": [
            "Time taken for 1 epoch: 155.87880086898804 secs\n",
            "\n",
            "Epoch 47 TRAIN Batch 0 Loss 0.5134 Accuracy 73.8984 AUC 0.7906\n",
            "Epoch 47 TRAIN Batch 50 Loss 0.5012 Accuracy 74.8258 AUC 0.7982\n",
            "Epoch 47 TRAIN Batch 100 Loss 0.5000 Accuracy 74.8968 AUC 0.7990\n",
            "Epoch 47 TRAIN Batch 150 Loss 0.4992 Accuracy 74.9438 AUC 0.7995\n",
            "Epoch 47 TRAIN Batch 200 Loss 0.4995 Accuracy 74.9282 AUC 0.7995\n",
            "Epoch 47 TRAIN Batch 250 Loss 0.4999 Accuracy 74.8968 AUC 0.7990\n",
            "Epoch 47 TRAIN Batch 300 Loss 0.5002 Accuracy 74.8828 AUC 0.7988\n",
            "Epoch 47 TRAIN Batch 350 Loss 0.5004 Accuracy 74.8705 AUC 0.7987\n",
            "Epoch 47 TRAIN Batch 400 Loss 0.5004 Accuracy 74.8700 AUC 0.7988\n",
            "Epoch 47 TRAIN Batch 450 Loss 0.5005 Accuracy 74.8669 AUC 0.7988\n",
            "Epoch 47 TRAIN Batch 500 Loss 0.5005 Accuracy 74.8643 AUC 0.7986\n",
            "Epoch 47 TRAIN Batch 550 Loss 0.5005 Accuracy 74.8688 AUC 0.7987\n",
            "Epoch 47 TRAIN Batch 600 Loss 0.5004 Accuracy 74.8752 AUC 0.7987\n",
            "Epoch 47 TRAIN Batch 650 Loss 0.5004 Accuracy 74.8746 AUC 0.7986\n",
            "Epoch 47 TRAIN Batch 700 Loss 0.5005 Accuracy 74.8670 AUC 0.7986\n",
            "Epoch 47 TRAIN Batch 750 Loss 0.5004 Accuracy 74.8736 AUC 0.7987\n"
          ],
          "name": "stdout"
        },
        {
          "output_type": "stream",
          "text": [
            "27-12 17:47 root         INFO     Epoch TRAIN 47 Loss 0.5004 Accuracy 74.8780 AUC 0.7987\n"
          ],
          "name": "stderr"
        },
        {
          "output_type": "stream",
          "text": [
            "Time taken for 1 epoch: 154.98937821388245 secs\n",
            "\n",
            "Epoch 48 TRAIN Batch 0 Loss 0.4997 Accuracy 74.6389 AUC 0.7993\n",
            "Epoch 48 TRAIN Batch 50 Loss 0.5018 Accuracy 74.7058 AUC 0.7984\n",
            "Epoch 48 TRAIN Batch 100 Loss 0.5010 Accuracy 74.7909 AUC 0.7985\n",
            "Epoch 48 TRAIN Batch 150 Loss 0.5001 Accuracy 74.8648 AUC 0.7986\n",
            "Epoch 48 TRAIN Batch 200 Loss 0.5000 Accuracy 74.8721 AUC 0.7990\n",
            "Epoch 48 TRAIN Batch 250 Loss 0.4996 Accuracy 74.8924 AUC 0.7990\n",
            "Epoch 48 TRAIN Batch 300 Loss 0.4997 Accuracy 74.9001 AUC 0.7990\n",
            "Epoch 48 TRAIN Batch 350 Loss 0.4998 Accuracy 74.8848 AUC 0.7990\n",
            "Epoch 48 TRAIN Batch 400 Loss 0.5000 Accuracy 74.8845 AUC 0.7989\n",
            "Epoch 48 TRAIN Batch 450 Loss 0.5002 Accuracy 74.8711 AUC 0.7987\n",
            "Epoch 48 TRAIN Batch 500 Loss 0.5003 Accuracy 74.8644 AUC 0.7987\n",
            "Epoch 48 TRAIN Batch 550 Loss 0.5003 Accuracy 74.8656 AUC 0.7987\n",
            "Epoch 48 TRAIN Batch 600 Loss 0.5003 Accuracy 74.8681 AUC 0.7987\n",
            "Epoch 48 TRAIN Batch 650 Loss 0.5003 Accuracy 74.8681 AUC 0.7988\n",
            "Epoch 48 TRAIN Batch 700 Loss 0.5003 Accuracy 74.8637 AUC 0.7987\n",
            "Epoch 48 TRAIN Batch 750 Loss 0.5003 Accuracy 74.8618 AUC 0.7987\n"
          ],
          "name": "stdout"
        },
        {
          "output_type": "stream",
          "text": [
            "27-12 17:49 root         INFO     Epoch TRAIN 48 Loss 0.5004 Accuracy 74.8600 AUC 0.7987\n"
          ],
          "name": "stderr"
        },
        {
          "output_type": "stream",
          "text": [
            "Time taken for 1 epoch: 155.37429428100586 secs\n",
            "\n",
            "Epoch 49 TRAIN Batch 0 Loss 0.5090 Accuracy 73.9178 AUC 0.7849\n",
            "Epoch 49 TRAIN Batch 50 Loss 0.4999 Accuracy 74.9062 AUC 0.7994\n",
            "Epoch 49 TRAIN Batch 100 Loss 0.5002 Accuracy 74.8586 AUC 0.7992\n",
            "Epoch 49 TRAIN Batch 150 Loss 0.5003 Accuracy 74.8601 AUC 0.7990\n",
            "Epoch 49 TRAIN Batch 200 Loss 0.5001 Accuracy 74.8622 AUC 0.7991\n",
            "Epoch 49 TRAIN Batch 250 Loss 0.5001 Accuracy 74.8693 AUC 0.7991\n",
            "Epoch 49 TRAIN Batch 300 Loss 0.5001 Accuracy 74.8630 AUC 0.7993\n",
            "Epoch 49 TRAIN Batch 350 Loss 0.5000 Accuracy 74.8737 AUC 0.7993\n",
            "Epoch 49 TRAIN Batch 400 Loss 0.5000 Accuracy 74.8755 AUC 0.7993\n",
            "Epoch 49 TRAIN Batch 450 Loss 0.5001 Accuracy 74.8702 AUC 0.7992\n",
            "Epoch 49 TRAIN Batch 500 Loss 0.5001 Accuracy 74.8693 AUC 0.7991\n",
            "Epoch 49 TRAIN Batch 550 Loss 0.5003 Accuracy 74.8553 AUC 0.7991\n",
            "Epoch 49 TRAIN Batch 600 Loss 0.5002 Accuracy 74.8624 AUC 0.7991\n",
            "Epoch 49 TRAIN Batch 650 Loss 0.5002 Accuracy 74.8677 AUC 0.7992\n",
            "Epoch 49 TRAIN Batch 700 Loss 0.5001 Accuracy 74.8706 AUC 0.7992\n",
            "Epoch 49 TRAIN Batch 750 Loss 0.5002 Accuracy 74.8643 AUC 0.7990\n"
          ],
          "name": "stdout"
        },
        {
          "output_type": "stream",
          "text": [
            "27-12 17:52 root         INFO     Epoch TRAIN 49 Loss 0.5002 Accuracy 74.8631 AUC 0.7990\n"
          ],
          "name": "stderr"
        },
        {
          "output_type": "stream",
          "text": [
            "Time taken for 1 epoch: 154.41133403778076 secs\n",
            "\n",
            "Epoch 50 TRAIN Batch 0 Loss 0.4915 Accuracy 75.5748 AUC 0.7984\n",
            "Epoch 50 TRAIN Batch 50 Loss 0.4990 Accuracy 74.9892 AUC 0.7999\n",
            "Epoch 50 TRAIN Batch 100 Loss 0.4992 Accuracy 74.9594 AUC 0.7995\n",
            "Epoch 50 TRAIN Batch 150 Loss 0.4993 Accuracy 74.9692 AUC 0.7996\n",
            "Epoch 50 TRAIN Batch 200 Loss 0.4994 Accuracy 74.9463 AUC 0.7993\n",
            "Epoch 50 TRAIN Batch 250 Loss 0.4995 Accuracy 74.9276 AUC 0.7993\n",
            "Epoch 50 TRAIN Batch 300 Loss 0.4994 Accuracy 74.9250 AUC 0.7993\n",
            "Epoch 50 TRAIN Batch 350 Loss 0.4997 Accuracy 74.9093 AUC 0.7992\n",
            "Epoch 50 TRAIN Batch 400 Loss 0.4998 Accuracy 74.9046 AUC 0.7992\n",
            "Epoch 50 TRAIN Batch 450 Loss 0.4997 Accuracy 74.9122 AUC 0.7994\n",
            "Epoch 50 TRAIN Batch 500 Loss 0.4998 Accuracy 74.9000 AUC 0.7994\n",
            "Epoch 50 TRAIN Batch 550 Loss 0.4998 Accuracy 74.8994 AUC 0.7994\n",
            "Epoch 50 TRAIN Batch 600 Loss 0.4999 Accuracy 74.8935 AUC 0.7994\n",
            "Epoch 50 TRAIN Batch 650 Loss 0.4999 Accuracy 74.8945 AUC 0.7993\n",
            "Epoch 50 TRAIN Batch 700 Loss 0.4999 Accuracy 74.8916 AUC 0.7993\n",
            "Epoch 50 TRAIN Batch 750 Loss 0.4999 Accuracy 74.8901 AUC 0.7992\n"
          ],
          "name": "stdout"
        },
        {
          "output_type": "stream",
          "text": [
            "27-12 17:54 root         INFO     Epoch TRAIN 50 Loss 0.4999 Accuracy 74.8913 AUC 0.7992\n"
          ],
          "name": "stderr"
        },
        {
          "output_type": "stream",
          "text": [
            "Epoch 50 VAL Batch 0 Loss 0.4950 Accuracy 74.9937 AUC 0.7966\n",
            "Epoch 50 VAL Batch 50 Loss 0.4996 Accuracy 74.9385 AUC 0.7985\n",
            "Epoch 50 VAL Batch 100 Loss 0.4983 Accuracy 75.0353 AUC 0.7994\n",
            "Epoch 50 VAL Batch 150 Loss 0.4981 Accuracy 75.0395 AUC 0.7995\n",
            "Epoch 50 VAL Batch 200 Loss 0.4981 Accuracy 75.0483 AUC 0.7996\n",
            "Epoch 50 VAL Batch 250 Loss 0.4985 Accuracy 75.0133 AUC 0.7995\n",
            "Epoch 50 VAL Batch 300 Loss 0.4990 Accuracy 74.9751 AUC 0.7993\n",
            "Epoch 50 VAL Batch 350 Loss 0.4992 Accuracy 74.9537 AUC 0.7993\n",
            "Epoch 50 VAL Batch 400 Loss 0.4994 Accuracy 74.9419 AUC 0.7992\n",
            "Epoch 50 VAL Batch 450 Loss 0.4994 Accuracy 74.9448 AUC 0.7991\n",
            "Epoch 50 VAL Batch 500 Loss 0.4994 Accuracy 74.9456 AUC 0.7992\n",
            "Epoch 50 VAL Batch 550 Loss 0.4995 Accuracy 74.9461 AUC 0.7990\n",
            "Epoch 50 VAL Batch 600 Loss 0.4993 Accuracy 74.9551 AUC 0.7991\n",
            "Epoch 50 VAL Batch 650 Loss 0.4995 Accuracy 74.9470 AUC 0.7990\n",
            "Epoch 50 VAL Batch 700 Loss 0.4994 Accuracy 74.9520 AUC 0.7992\n",
            "Epoch 50 VAL Batch 750 Loss 0.4995 Accuracy 74.9459 AUC 0.7992\n"
          ],
          "name": "stdout"
        },
        {
          "output_type": "stream",
          "text": [
            "27-12 17:55 root         INFO     Epoch VAL 50 Loss 0.4996 Accuracy 74.9357 AUC 0.7991\n",
            "27-12 17:55 root         INFO     Saving checkpoint for epoch 50 at 27-Dec-riiid-1/checkpoints/ckpt-10\n"
          ],
          "name": "stderr"
        },
        {
          "output_type": "stream",
          "text": [
            "Time taken for 1 epoch: 186.31190419197083 secs\n",
            "\n",
            "Epoch 51 TRAIN Batch 0 Loss 0.5025 Accuracy 74.9584 AUC 0.7909\n",
            "Epoch 51 TRAIN Batch 50 Loss 0.5009 Accuracy 74.8574 AUC 0.7988\n",
            "Epoch 51 TRAIN Batch 100 Loss 0.5004 Accuracy 74.8774 AUC 0.7989\n",
            "Epoch 51 TRAIN Batch 150 Loss 0.5007 Accuracy 74.8553 AUC 0.7988\n",
            "Epoch 51 TRAIN Batch 200 Loss 0.5005 Accuracy 74.8603 AUC 0.7989\n",
            "Epoch 51 TRAIN Batch 250 Loss 0.5009 Accuracy 74.8325 AUC 0.7987\n",
            "Epoch 51 TRAIN Batch 300 Loss 0.5009 Accuracy 74.8263 AUC 0.7984\n",
            "Epoch 51 TRAIN Batch 350 Loss 0.5009 Accuracy 74.8251 AUC 0.7984\n",
            "Epoch 51 TRAIN Batch 400 Loss 0.5009 Accuracy 74.8224 AUC 0.7984\n",
            "Epoch 51 TRAIN Batch 450 Loss 0.5007 Accuracy 74.8281 AUC 0.7986\n",
            "Epoch 51 TRAIN Batch 500 Loss 0.5007 Accuracy 74.8256 AUC 0.7985\n",
            "Epoch 51 TRAIN Batch 550 Loss 0.5005 Accuracy 74.8327 AUC 0.7986\n",
            "Epoch 51 TRAIN Batch 600 Loss 0.5005 Accuracy 74.8357 AUC 0.7986\n",
            "Epoch 51 TRAIN Batch 650 Loss 0.5006 Accuracy 74.8315 AUC 0.7986\n",
            "Epoch 51 TRAIN Batch 700 Loss 0.5006 Accuracy 74.8284 AUC 0.7985\n",
            "Epoch 51 TRAIN Batch 750 Loss 0.5005 Accuracy 74.8391 AUC 0.7986\n"
          ],
          "name": "stdout"
        },
        {
          "output_type": "stream",
          "text": [
            "27-12 17:57 root         INFO     Epoch TRAIN 51 Loss 0.5004 Accuracy 74.8480 AUC 0.7987\n"
          ],
          "name": "stderr"
        },
        {
          "output_type": "stream",
          "text": [
            "Time taken for 1 epoch: 151.82076144218445 secs\n",
            "\n",
            "Epoch 52 TRAIN Batch 0 Loss 0.5087 Accuracy 73.9629 AUC 0.7894\n",
            "Epoch 52 TRAIN Batch 50 Loss 0.5015 Accuracy 74.7693 AUC 0.7982\n",
            "Epoch 52 TRAIN Batch 100 Loss 0.5004 Accuracy 74.8590 AUC 0.7984\n",
            "Epoch 52 TRAIN Batch 150 Loss 0.4996 Accuracy 74.9511 AUC 0.7987\n",
            "Epoch 52 TRAIN Batch 200 Loss 0.5002 Accuracy 74.8859 AUC 0.7986\n",
            "Epoch 52 TRAIN Batch 250 Loss 0.5000 Accuracy 74.8838 AUC 0.7987\n",
            "Epoch 52 TRAIN Batch 300 Loss 0.4998 Accuracy 74.8927 AUC 0.7988\n",
            "Epoch 52 TRAIN Batch 350 Loss 0.4998 Accuracy 74.8903 AUC 0.7989\n",
            "Epoch 52 TRAIN Batch 400 Loss 0.5000 Accuracy 74.8793 AUC 0.7988\n",
            "Epoch 52 TRAIN Batch 450 Loss 0.5001 Accuracy 74.8725 AUC 0.7988\n",
            "Epoch 52 TRAIN Batch 500 Loss 0.5001 Accuracy 74.8714 AUC 0.7987\n",
            "Epoch 52 TRAIN Batch 550 Loss 0.5000 Accuracy 74.8843 AUC 0.7989\n",
            "Epoch 52 TRAIN Batch 600 Loss 0.5000 Accuracy 74.8798 AUC 0.7989\n",
            "Epoch 52 TRAIN Batch 650 Loss 0.4999 Accuracy 74.8787 AUC 0.7990\n",
            "Epoch 52 TRAIN Batch 700 Loss 0.4999 Accuracy 74.8760 AUC 0.7989\n",
            "Epoch 52 TRAIN Batch 750 Loss 0.4999 Accuracy 74.8801 AUC 0.7989\n"
          ],
          "name": "stdout"
        },
        {
          "output_type": "stream",
          "text": [
            "27-12 18:00 root         INFO     Epoch TRAIN 52 Loss 0.4999 Accuracy 74.8745 AUC 0.7990\n"
          ],
          "name": "stderr"
        },
        {
          "output_type": "stream",
          "text": [
            "Time taken for 1 epoch: 152.6384880542755 secs\n",
            "\n",
            "Epoch 53 TRAIN Batch 0 Loss 0.4845 Accuracy 76.0636 AUC 0.8037\n",
            "Epoch 53 TRAIN Batch 50 Loss 0.5008 Accuracy 74.8058 AUC 0.7982\n",
            "Epoch 53 TRAIN Batch 100 Loss 0.5012 Accuracy 74.7851 AUC 0.7983\n",
            "Epoch 53 TRAIN Batch 150 Loss 0.5007 Accuracy 74.8248 AUC 0.7984\n",
            "Epoch 53 TRAIN Batch 200 Loss 0.5004 Accuracy 74.8562 AUC 0.7985\n",
            "Epoch 53 TRAIN Batch 250 Loss 0.5001 Accuracy 74.8811 AUC 0.7987\n",
            "Epoch 53 TRAIN Batch 300 Loss 0.5003 Accuracy 74.8725 AUC 0.7987\n",
            "Epoch 53 TRAIN Batch 350 Loss 0.4999 Accuracy 74.9023 AUC 0.7989\n",
            "Epoch 53 TRAIN Batch 400 Loss 0.5000 Accuracy 74.9010 AUC 0.7989\n",
            "Epoch 53 TRAIN Batch 450 Loss 0.4999 Accuracy 74.9103 AUC 0.7989\n",
            "Epoch 53 TRAIN Batch 500 Loss 0.4999 Accuracy 74.9084 AUC 0.7990\n",
            "Epoch 53 TRAIN Batch 550 Loss 0.4999 Accuracy 74.9095 AUC 0.7990\n",
            "Epoch 53 TRAIN Batch 600 Loss 0.4999 Accuracy 74.9087 AUC 0.7990\n",
            "Epoch 53 TRAIN Batch 650 Loss 0.4999 Accuracy 74.9076 AUC 0.7990\n",
            "Epoch 53 TRAIN Batch 700 Loss 0.4999 Accuracy 74.9041 AUC 0.7990\n",
            "Epoch 53 TRAIN Batch 750 Loss 0.4998 Accuracy 74.9107 AUC 0.7991\n"
          ],
          "name": "stdout"
        },
        {
          "output_type": "stream",
          "text": [
            "27-12 18:02 root         INFO     Epoch TRAIN 53 Loss 0.4998 Accuracy 74.9107 AUC 0.7991\n"
          ],
          "name": "stderr"
        },
        {
          "output_type": "stream",
          "text": [
            "Time taken for 1 epoch: 151.4392728805542 secs\n",
            "\n",
            "Epoch 54 TRAIN Batch 0 Loss 0.5040 Accuracy 74.8722 AUC 0.7986\n",
            "Epoch 54 TRAIN Batch 50 Loss 0.4985 Accuracy 74.9982 AUC 0.8005\n",
            "Epoch 54 TRAIN Batch 100 Loss 0.4980 Accuracy 75.0238 AUC 0.8007\n",
            "Epoch 54 TRAIN Batch 150 Loss 0.4981 Accuracy 75.0095 AUC 0.8005\n",
            "Epoch 54 TRAIN Batch 200 Loss 0.4988 Accuracy 74.9688 AUC 0.7997\n",
            "Epoch 54 TRAIN Batch 250 Loss 0.4997 Accuracy 74.9074 AUC 0.7992\n",
            "Epoch 54 TRAIN Batch 300 Loss 0.4999 Accuracy 74.8894 AUC 0.7991\n",
            "Epoch 54 TRAIN Batch 350 Loss 0.5001 Accuracy 74.8791 AUC 0.7989\n",
            "Epoch 54 TRAIN Batch 400 Loss 0.5000 Accuracy 74.8836 AUC 0.7990\n",
            "Epoch 54 TRAIN Batch 450 Loss 0.5000 Accuracy 74.8841 AUC 0.7990\n",
            "Epoch 54 TRAIN Batch 500 Loss 0.5000 Accuracy 74.8921 AUC 0.7991\n",
            "Epoch 54 TRAIN Batch 550 Loss 0.4999 Accuracy 74.8984 AUC 0.7992\n",
            "Epoch 54 TRAIN Batch 600 Loss 0.5001 Accuracy 74.8903 AUC 0.7992\n",
            "Epoch 54 TRAIN Batch 650 Loss 0.4999 Accuracy 74.8983 AUC 0.7993\n",
            "Epoch 54 TRAIN Batch 700 Loss 0.4999 Accuracy 74.8935 AUC 0.7992\n",
            "Epoch 54 TRAIN Batch 750 Loss 0.4999 Accuracy 74.8950 AUC 0.7992\n"
          ],
          "name": "stdout"
        },
        {
          "output_type": "stream",
          "text": [
            "27-12 18:05 root         INFO     Epoch TRAIN 54 Loss 0.4999 Accuracy 74.8927 AUC 0.7993\n"
          ],
          "name": "stderr"
        },
        {
          "output_type": "stream",
          "text": [
            "Time taken for 1 epoch: 152.7918164730072 secs\n",
            "\n",
            "Epoch 55 TRAIN Batch 0 Loss 0.4992 Accuracy 74.9626 AUC 0.8008\n",
            "Epoch 55 TRAIN Batch 50 Loss 0.4982 Accuracy 75.0004 AUC 0.8004\n",
            "Epoch 55 TRAIN Batch 100 Loss 0.4993 Accuracy 74.9188 AUC 0.7998\n",
            "Epoch 55 TRAIN Batch 150 Loss 0.4998 Accuracy 74.8816 AUC 0.7995\n",
            "Epoch 55 TRAIN Batch 200 Loss 0.4998 Accuracy 74.9038 AUC 0.7996\n",
            "Epoch 55 TRAIN Batch 250 Loss 0.4991 Accuracy 74.9608 AUC 0.8000\n",
            "Epoch 55 TRAIN Batch 300 Loss 0.4993 Accuracy 74.9483 AUC 0.7998\n",
            "Epoch 55 TRAIN Batch 350 Loss 0.4995 Accuracy 74.9287 AUC 0.7997\n",
            "Epoch 55 TRAIN Batch 400 Loss 0.4996 Accuracy 74.9229 AUC 0.7995\n",
            "Epoch 55 TRAIN Batch 450 Loss 0.4997 Accuracy 74.9092 AUC 0.7995\n",
            "Epoch 55 TRAIN Batch 500 Loss 0.4999 Accuracy 74.8974 AUC 0.7993\n",
            "Epoch 55 TRAIN Batch 550 Loss 0.4998 Accuracy 74.9074 AUC 0.7994\n",
            "Epoch 55 TRAIN Batch 600 Loss 0.4998 Accuracy 74.9083 AUC 0.7994\n",
            "Epoch 55 TRAIN Batch 650 Loss 0.4995 Accuracy 74.9333 AUC 0.7996\n",
            "Epoch 55 TRAIN Batch 700 Loss 0.4994 Accuracy 74.9343 AUC 0.7995\n",
            "Epoch 55 TRAIN Batch 750 Loss 0.4994 Accuracy 74.9375 AUC 0.7996\n"
          ],
          "name": "stdout"
        },
        {
          "output_type": "stream",
          "text": [
            "27-12 18:08 root         INFO     Epoch TRAIN 55 Loss 0.4994 Accuracy 74.9334 AUC 0.7996\n"
          ],
          "name": "stderr"
        },
        {
          "output_type": "stream",
          "text": [
            "Epoch 55 VAL Batch 0 Loss 0.4947 Accuracy 75.1863 AUC 0.7966\n",
            "Epoch 55 VAL Batch 50 Loss 0.4988 Accuracy 75.0142 AUC 0.7991\n",
            "Epoch 55 VAL Batch 100 Loss 0.4975 Accuracy 75.0960 AUC 0.8000\n",
            "Epoch 55 VAL Batch 150 Loss 0.4974 Accuracy 75.0981 AUC 0.8001\n",
            "Epoch 55 VAL Batch 200 Loss 0.4974 Accuracy 75.1033 AUC 0.8002\n",
            "Epoch 55 VAL Batch 250 Loss 0.4977 Accuracy 75.0716 AUC 0.8002\n",
            "Epoch 55 VAL Batch 300 Loss 0.4983 Accuracy 75.0308 AUC 0.8000\n",
            "Epoch 55 VAL Batch 350 Loss 0.4985 Accuracy 75.0110 AUC 0.8000\n",
            "Epoch 55 VAL Batch 400 Loss 0.4986 Accuracy 75.0005 AUC 0.7998\n",
            "Epoch 55 VAL Batch 450 Loss 0.4986 Accuracy 75.0012 AUC 0.7997\n",
            "Epoch 55 VAL Batch 500 Loss 0.4986 Accuracy 74.9993 AUC 0.7998\n",
            "Epoch 55 VAL Batch 550 Loss 0.4987 Accuracy 74.9986 AUC 0.7997\n",
            "Epoch 55 VAL Batch 600 Loss 0.4986 Accuracy 75.0098 AUC 0.7998\n",
            "Epoch 55 VAL Batch 650 Loss 0.4987 Accuracy 75.0005 AUC 0.7996\n",
            "Epoch 55 VAL Batch 700 Loss 0.4986 Accuracy 75.0036 AUC 0.7998\n",
            "Epoch 55 VAL Batch 750 Loss 0.4987 Accuracy 74.9982 AUC 0.7998\n"
          ],
          "name": "stdout"
        },
        {
          "output_type": "stream",
          "text": [
            "27-12 18:08 root         INFO     Epoch VAL 55 Loss 0.4989 Accuracy 74.9889 AUC 0.7997\n",
            "27-12 18:08 root         INFO     Saving checkpoint for epoch 55 at 27-Dec-riiid-1/checkpoints/ckpt-11\n"
          ],
          "name": "stderr"
        },
        {
          "output_type": "stream",
          "text": [
            "Time taken for 1 epoch: 184.52321934700012 secs\n",
            "\n",
            "Epoch 56 TRAIN Batch 0 Loss 0.4798 Accuracy 76.1013 AUC 0.8125\n",
            "Epoch 56 TRAIN Batch 50 Loss 0.5003 Accuracy 74.8805 AUC 0.7994\n",
            "Epoch 56 TRAIN Batch 100 Loss 0.4987 Accuracy 74.9906 AUC 0.8000\n",
            "Epoch 56 TRAIN Batch 150 Loss 0.4988 Accuracy 74.9872 AUC 0.7998\n",
            "Epoch 56 TRAIN Batch 200 Loss 0.4985 Accuracy 74.9914 AUC 0.8000\n",
            "Epoch 56 TRAIN Batch 250 Loss 0.4985 Accuracy 75.0003 AUC 0.8001\n",
            "Epoch 56 TRAIN Batch 300 Loss 0.4989 Accuracy 74.9613 AUC 0.8001\n",
            "Epoch 56 TRAIN Batch 350 Loss 0.4990 Accuracy 74.9518 AUC 0.7999\n",
            "Epoch 56 TRAIN Batch 400 Loss 0.4991 Accuracy 74.9380 AUC 0.8000\n",
            "Epoch 56 TRAIN Batch 450 Loss 0.4993 Accuracy 74.9252 AUC 0.7999\n",
            "Epoch 56 TRAIN Batch 500 Loss 0.4991 Accuracy 74.9406 AUC 0.8000\n",
            "Epoch 56 TRAIN Batch 550 Loss 0.4991 Accuracy 74.9404 AUC 0.8000\n",
            "Epoch 56 TRAIN Batch 600 Loss 0.4992 Accuracy 74.9357 AUC 0.8000\n",
            "Epoch 56 TRAIN Batch 650 Loss 0.4992 Accuracy 74.9425 AUC 0.7998\n",
            "Epoch 56 TRAIN Batch 700 Loss 0.4992 Accuracy 74.9421 AUC 0.7998\n",
            "Epoch 56 TRAIN Batch 750 Loss 0.4992 Accuracy 74.9424 AUC 0.7998\n"
          ],
          "name": "stdout"
        },
        {
          "output_type": "stream",
          "text": [
            "27-12 18:11 root         INFO     Epoch TRAIN 56 Loss 0.4991 Accuracy 74.9488 AUC 0.7999\n"
          ],
          "name": "stderr"
        },
        {
          "output_type": "stream",
          "text": [
            "Time taken for 1 epoch: 152.96333527565002 secs\n",
            "\n",
            "Epoch 57 TRAIN Batch 0 Loss 0.4911 Accuracy 75.5196 AUC 0.8051\n",
            "Epoch 57 TRAIN Batch 50 Loss 0.4984 Accuracy 74.9189 AUC 0.8002\n",
            "Epoch 57 TRAIN Batch 100 Loss 0.4974 Accuracy 75.0352 AUC 0.8007\n",
            "Epoch 57 TRAIN Batch 150 Loss 0.4980 Accuracy 74.9906 AUC 0.8001\n",
            "Epoch 57 TRAIN Batch 200 Loss 0.4981 Accuracy 74.9864 AUC 0.7999\n",
            "Epoch 57 TRAIN Batch 250 Loss 0.4982 Accuracy 74.9918 AUC 0.7999\n",
            "Epoch 57 TRAIN Batch 300 Loss 0.4987 Accuracy 74.9617 AUC 0.7996\n",
            "Epoch 57 TRAIN Batch 350 Loss 0.4986 Accuracy 74.9633 AUC 0.7995\n",
            "Epoch 57 TRAIN Batch 400 Loss 0.4987 Accuracy 74.9501 AUC 0.7996\n",
            "Epoch 57 TRAIN Batch 450 Loss 0.4987 Accuracy 74.9560 AUC 0.7996\n",
            "Epoch 57 TRAIN Batch 500 Loss 0.4987 Accuracy 74.9643 AUC 0.7999\n",
            "Epoch 57 TRAIN Batch 550 Loss 0.4987 Accuracy 74.9588 AUC 0.7999\n",
            "Epoch 57 TRAIN Batch 600 Loss 0.4989 Accuracy 74.9516 AUC 0.7998\n",
            "Epoch 57 TRAIN Batch 650 Loss 0.4990 Accuracy 74.9425 AUC 0.7997\n",
            "Epoch 57 TRAIN Batch 700 Loss 0.4990 Accuracy 74.9458 AUC 0.7997\n",
            "Epoch 57 TRAIN Batch 750 Loss 0.4991 Accuracy 74.9348 AUC 0.7996\n"
          ],
          "name": "stdout"
        },
        {
          "output_type": "stream",
          "text": [
            "27-12 18:13 root         INFO     Epoch TRAIN 57 Loss 0.4991 Accuracy 74.9330 AUC 0.7996\n"
          ],
          "name": "stderr"
        },
        {
          "output_type": "stream",
          "text": [
            "Time taken for 1 epoch: 152.52444982528687 secs\n",
            "\n",
            "Epoch 58 TRAIN Batch 0 Loss 0.4914 Accuracy 75.3018 AUC 0.8002\n",
            "Epoch 58 TRAIN Batch 50 Loss 0.4989 Accuracy 74.9726 AUC 0.8006\n",
            "Epoch 58 TRAIN Batch 100 Loss 0.4999 Accuracy 74.9092 AUC 0.7997\n",
            "Epoch 58 TRAIN Batch 150 Loss 0.5000 Accuracy 74.8998 AUC 0.7995\n",
            "Epoch 58 TRAIN Batch 200 Loss 0.4997 Accuracy 74.9153 AUC 0.7996\n",
            "Epoch 58 TRAIN Batch 250 Loss 0.5000 Accuracy 74.8966 AUC 0.7995\n",
            "Epoch 58 TRAIN Batch 300 Loss 0.4997 Accuracy 74.9149 AUC 0.7994\n",
            "Epoch 58 TRAIN Batch 350 Loss 0.4997 Accuracy 74.9066 AUC 0.7994\n",
            "Epoch 58 TRAIN Batch 400 Loss 0.4999 Accuracy 74.8914 AUC 0.7993\n",
            "Epoch 58 TRAIN Batch 450 Loss 0.4996 Accuracy 74.9052 AUC 0.7995\n",
            "Epoch 58 TRAIN Batch 500 Loss 0.4996 Accuracy 74.9088 AUC 0.7995\n",
            "Epoch 58 TRAIN Batch 550 Loss 0.4995 Accuracy 74.9198 AUC 0.7996\n",
            "Epoch 58 TRAIN Batch 600 Loss 0.4996 Accuracy 74.9114 AUC 0.7995\n",
            "Epoch 58 TRAIN Batch 650 Loss 0.4997 Accuracy 74.9104 AUC 0.7996\n",
            "Epoch 58 TRAIN Batch 700 Loss 0.4996 Accuracy 74.9096 AUC 0.7996\n",
            "Epoch 58 TRAIN Batch 750 Loss 0.4996 Accuracy 74.9069 AUC 0.7996\n"
          ],
          "name": "stdout"
        },
        {
          "output_type": "stream",
          "text": [
            "27-12 18:16 root         INFO     Epoch TRAIN 58 Loss 0.4996 Accuracy 74.9073 AUC 0.7995\n"
          ],
          "name": "stderr"
        },
        {
          "output_type": "stream",
          "text": [
            "Time taken for 1 epoch: 151.93785429000854 secs\n",
            "\n",
            "Epoch 59 TRAIN Batch 0 Loss 0.5072 Accuracy 74.0099 AUC 0.7974\n",
            "Epoch 59 TRAIN Batch 50 Loss 0.4991 Accuracy 74.8702 AUC 0.7998\n",
            "Epoch 59 TRAIN Batch 100 Loss 0.4991 Accuracy 74.8966 AUC 0.7998\n",
            "Epoch 59 TRAIN Batch 150 Loss 0.4992 Accuracy 74.9018 AUC 0.7997\n",
            "Epoch 59 TRAIN Batch 200 Loss 0.4990 Accuracy 74.9213 AUC 0.7996\n",
            "Epoch 59 TRAIN Batch 250 Loss 0.4989 Accuracy 74.9356 AUC 0.8000\n",
            "Epoch 59 TRAIN Batch 300 Loss 0.4989 Accuracy 74.9428 AUC 0.8000\n",
            "Epoch 59 TRAIN Batch 350 Loss 0.4988 Accuracy 74.9413 AUC 0.8000\n",
            "Epoch 59 TRAIN Batch 400 Loss 0.4990 Accuracy 74.9299 AUC 0.7999\n",
            "Epoch 59 TRAIN Batch 450 Loss 0.4991 Accuracy 74.9255 AUC 0.7998\n",
            "Epoch 59 TRAIN Batch 500 Loss 0.4991 Accuracy 74.9291 AUC 0.7999\n",
            "Epoch 59 TRAIN Batch 550 Loss 0.4991 Accuracy 74.9340 AUC 0.7999\n",
            "Epoch 59 TRAIN Batch 600 Loss 0.4991 Accuracy 74.9345 AUC 0.7999\n",
            "Epoch 59 TRAIN Batch 650 Loss 0.4991 Accuracy 74.9377 AUC 0.7999\n",
            "Epoch 59 TRAIN Batch 700 Loss 0.4992 Accuracy 74.9304 AUC 0.7998\n",
            "Epoch 59 TRAIN Batch 750 Loss 0.4993 Accuracy 74.9270 AUC 0.7998\n"
          ],
          "name": "stdout"
        },
        {
          "output_type": "stream",
          "text": [
            "27-12 18:18 root         INFO     Epoch TRAIN 59 Loss 0.4993 Accuracy 74.9272 AUC 0.7998\n"
          ],
          "name": "stderr"
        },
        {
          "output_type": "stream",
          "text": [
            "Time taken for 1 epoch: 151.14725708961487 secs\n",
            "\n",
            "Epoch 60 TRAIN Batch 0 Loss 0.4954 Accuracy 75.6220 AUC 0.7966\n",
            "Epoch 60 TRAIN Batch 50 Loss 0.4999 Accuracy 74.8472 AUC 0.8006\n",
            "Epoch 60 TRAIN Batch 100 Loss 0.5011 Accuracy 74.7483 AUC 0.8001\n",
            "Epoch 60 TRAIN Batch 150 Loss 0.5010 Accuracy 74.7732 AUC 0.7998\n",
            "Epoch 60 TRAIN Batch 200 Loss 0.5006 Accuracy 74.8166 AUC 0.7998\n",
            "Epoch 60 TRAIN Batch 250 Loss 0.5007 Accuracy 74.8156 AUC 0.7998\n",
            "Epoch 60 TRAIN Batch 300 Loss 0.5006 Accuracy 74.8268 AUC 0.7998\n",
            "Epoch 60 TRAIN Batch 350 Loss 0.5004 Accuracy 74.8231 AUC 0.7997\n",
            "Epoch 60 TRAIN Batch 400 Loss 0.5003 Accuracy 74.8224 AUC 0.7996\n",
            "Epoch 60 TRAIN Batch 450 Loss 0.5001 Accuracy 74.8404 AUC 0.7998\n",
            "Epoch 60 TRAIN Batch 500 Loss 0.5001 Accuracy 74.8390 AUC 0.7996\n",
            "Epoch 60 TRAIN Batch 550 Loss 0.5001 Accuracy 74.8410 AUC 0.7996\n",
            "Epoch 60 TRAIN Batch 600 Loss 0.5000 Accuracy 74.8503 AUC 0.7996\n",
            "Epoch 60 TRAIN Batch 650 Loss 0.5000 Accuracy 74.8546 AUC 0.7995\n",
            "Epoch 60 TRAIN Batch 700 Loss 0.4999 Accuracy 74.8556 AUC 0.7995\n",
            "Epoch 60 TRAIN Batch 750 Loss 0.4997 Accuracy 74.8710 AUC 0.7996\n"
          ],
          "name": "stdout"
        },
        {
          "output_type": "stream",
          "text": [
            "27-12 18:21 root         INFO     Epoch TRAIN 60 Loss 0.4997 Accuracy 74.8694 AUC 0.7996\n"
          ],
          "name": "stderr"
        },
        {
          "output_type": "stream",
          "text": [
            "Epoch 60 VAL Batch 0 Loss 0.4934 Accuracy 75.1110 AUC 0.7975\n",
            "Epoch 60 VAL Batch 50 Loss 0.4983 Accuracy 75.0290 AUC 0.7994\n",
            "Epoch 60 VAL Batch 100 Loss 0.4969 Accuracy 75.1041 AUC 0.8004\n",
            "Epoch 60 VAL Batch 150 Loss 0.4967 Accuracy 75.1061 AUC 0.8005\n",
            "Epoch 60 VAL Batch 200 Loss 0.4967 Accuracy 75.1068 AUC 0.8006\n",
            "Epoch 60 VAL Batch 250 Loss 0.4970 Accuracy 75.0728 AUC 0.8006\n",
            "Epoch 60 VAL Batch 300 Loss 0.4976 Accuracy 75.0355 AUC 0.8004\n",
            "Epoch 60 VAL Batch 350 Loss 0.4978 Accuracy 75.0142 AUC 0.8004\n",
            "Epoch 60 VAL Batch 400 Loss 0.4979 Accuracy 75.0032 AUC 0.8002\n",
            "Epoch 60 VAL Batch 450 Loss 0.4979 Accuracy 75.0050 AUC 0.8002\n",
            "Epoch 60 VAL Batch 500 Loss 0.4979 Accuracy 75.0052 AUC 0.8003\n",
            "Epoch 60 VAL Batch 550 Loss 0.4980 Accuracy 75.0081 AUC 0.8001\n",
            "Epoch 60 VAL Batch 600 Loss 0.4978 Accuracy 75.0189 AUC 0.8002\n",
            "Epoch 60 VAL Batch 650 Loss 0.4980 Accuracy 75.0103 AUC 0.8001\n",
            "Epoch 60 VAL Batch 700 Loss 0.4979 Accuracy 75.0146 AUC 0.8003\n",
            "Epoch 60 VAL Batch 750 Loss 0.4979 Accuracy 75.0080 AUC 0.8003\n"
          ],
          "name": "stdout"
        },
        {
          "output_type": "stream",
          "text": [
            "27-12 18:21 root         INFO     Epoch VAL 60 Loss 0.4981 Accuracy 74.9994 AUC 0.8002\n",
            "27-12 18:21 root         INFO     Saving checkpoint for epoch 60 at 27-Dec-riiid-1/checkpoints/ckpt-12\n"
          ],
          "name": "stderr"
        },
        {
          "output_type": "stream",
          "text": [
            "Time taken for 1 epoch: 184.83983278274536 secs\n",
            "\n",
            "Epoch 61 TRAIN Batch 0 Loss 0.5157 Accuracy 73.4287 AUC 0.7899\n",
            "Epoch 61 TRAIN Batch 50 Loss 0.4990 Accuracy 74.9038 AUC 0.8007\n",
            "Epoch 61 TRAIN Batch 100 Loss 0.4986 Accuracy 74.9425 AUC 0.8007\n",
            "Epoch 61 TRAIN Batch 150 Loss 0.4987 Accuracy 74.9545 AUC 0.8005\n",
            "Epoch 61 TRAIN Batch 200 Loss 0.4987 Accuracy 74.9338 AUC 0.8005\n",
            "Epoch 61 TRAIN Batch 250 Loss 0.4987 Accuracy 74.9236 AUC 0.8004\n",
            "Epoch 61 TRAIN Batch 300 Loss 0.4986 Accuracy 74.9318 AUC 0.8004\n",
            "Epoch 61 TRAIN Batch 350 Loss 0.4985 Accuracy 74.9492 AUC 0.8005\n",
            "Epoch 61 TRAIN Batch 400 Loss 0.4985 Accuracy 74.9555 AUC 0.8006\n",
            "Epoch 61 TRAIN Batch 450 Loss 0.4983 Accuracy 74.9738 AUC 0.8006\n",
            "Epoch 61 TRAIN Batch 500 Loss 0.4982 Accuracy 74.9744 AUC 0.8005\n",
            "Epoch 61 TRAIN Batch 550 Loss 0.4984 Accuracy 74.9703 AUC 0.8005\n",
            "Epoch 61 TRAIN Batch 600 Loss 0.4982 Accuracy 74.9883 AUC 0.8005\n",
            "Epoch 61 TRAIN Batch 650 Loss 0.4984 Accuracy 74.9795 AUC 0.8004\n",
            "Epoch 61 TRAIN Batch 700 Loss 0.4985 Accuracy 74.9749 AUC 0.8004\n",
            "Epoch 61 TRAIN Batch 750 Loss 0.4985 Accuracy 74.9744 AUC 0.8004\n"
          ],
          "name": "stdout"
        },
        {
          "output_type": "stream",
          "text": [
            "27-12 18:24 root         INFO     Epoch TRAIN 61 Loss 0.4984 Accuracy 74.9778 AUC 0.8003\n"
          ],
          "name": "stderr"
        },
        {
          "output_type": "stream",
          "text": [
            "Time taken for 1 epoch: 151.91797304153442 secs\n",
            "\n",
            "Epoch 62 TRAIN Batch 0 Loss 0.5122 Accuracy 73.7439 AUC 0.7992\n",
            "Epoch 62 TRAIN Batch 50 Loss 0.4991 Accuracy 74.9071 AUC 0.7996\n",
            "Epoch 62 TRAIN Batch 100 Loss 0.4982 Accuracy 74.9852 AUC 0.8008\n",
            "Epoch 62 TRAIN Batch 150 Loss 0.4984 Accuracy 74.9814 AUC 0.8007\n",
            "Epoch 62 TRAIN Batch 200 Loss 0.4985 Accuracy 74.9781 AUC 0.8006\n",
            "Epoch 62 TRAIN Batch 250 Loss 0.4988 Accuracy 74.9516 AUC 0.8003\n",
            "Epoch 62 TRAIN Batch 300 Loss 0.4990 Accuracy 74.9333 AUC 0.8002\n",
            "Epoch 62 TRAIN Batch 350 Loss 0.4990 Accuracy 74.9343 AUC 0.8002\n",
            "Epoch 62 TRAIN Batch 400 Loss 0.4989 Accuracy 74.9380 AUC 0.8001\n",
            "Epoch 62 TRAIN Batch 450 Loss 0.4988 Accuracy 74.9508 AUC 0.8002\n",
            "Epoch 62 TRAIN Batch 500 Loss 0.4986 Accuracy 74.9610 AUC 0.8003\n",
            "Epoch 62 TRAIN Batch 550 Loss 0.4985 Accuracy 74.9680 AUC 0.8003\n",
            "Epoch 62 TRAIN Batch 600 Loss 0.4985 Accuracy 74.9696 AUC 0.8003\n",
            "Epoch 62 TRAIN Batch 650 Loss 0.4985 Accuracy 74.9741 AUC 0.8003\n",
            "Epoch 62 TRAIN Batch 700 Loss 0.4985 Accuracy 74.9736 AUC 0.8003\n",
            "Epoch 62 TRAIN Batch 750 Loss 0.4985 Accuracy 74.9740 AUC 0.8003\n"
          ],
          "name": "stdout"
        },
        {
          "output_type": "stream",
          "text": [
            "27-12 18:26 root         INFO     Epoch TRAIN 62 Loss 0.4986 Accuracy 74.9667 AUC 0.8002\n"
          ],
          "name": "stderr"
        },
        {
          "output_type": "stream",
          "text": [
            "Time taken for 1 epoch: 152.4336724281311 secs\n",
            "\n",
            "Epoch 63 TRAIN Batch 0 Loss 0.5267 Accuracy 72.9975 AUC 0.7882\n",
            "Epoch 63 TRAIN Batch 50 Loss 0.4989 Accuracy 74.9778 AUC 0.8008\n",
            "Epoch 63 TRAIN Batch 100 Loss 0.4977 Accuracy 75.0310 AUC 0.8014\n",
            "Epoch 63 TRAIN Batch 150 Loss 0.4978 Accuracy 75.0414 AUC 0.8012\n",
            "Epoch 63 TRAIN Batch 200 Loss 0.4976 Accuracy 75.0646 AUC 0.8014\n",
            "Epoch 63 TRAIN Batch 250 Loss 0.4976 Accuracy 75.0543 AUC 0.8014\n",
            "Epoch 63 TRAIN Batch 300 Loss 0.4978 Accuracy 75.0425 AUC 0.8012\n",
            "Epoch 63 TRAIN Batch 350 Loss 0.4981 Accuracy 75.0103 AUC 0.8009\n",
            "Epoch 63 TRAIN Batch 400 Loss 0.4982 Accuracy 74.9975 AUC 0.8008\n",
            "Epoch 63 TRAIN Batch 450 Loss 0.4982 Accuracy 74.9996 AUC 0.8008\n",
            "Epoch 63 TRAIN Batch 500 Loss 0.4984 Accuracy 74.9817 AUC 0.8008\n",
            "Epoch 63 TRAIN Batch 550 Loss 0.4983 Accuracy 74.9879 AUC 0.8008\n",
            "Epoch 63 TRAIN Batch 600 Loss 0.4984 Accuracy 74.9853 AUC 0.8008\n",
            "Epoch 63 TRAIN Batch 650 Loss 0.4984 Accuracy 74.9758 AUC 0.8007\n",
            "Epoch 63 TRAIN Batch 700 Loss 0.4986 Accuracy 74.9685 AUC 0.8005\n",
            "Epoch 63 TRAIN Batch 750 Loss 0.4986 Accuracy 74.9658 AUC 0.8005\n"
          ],
          "name": "stdout"
        },
        {
          "output_type": "stream",
          "text": [
            "27-12 18:29 root         INFO     Epoch TRAIN 63 Loss 0.4985 Accuracy 74.9719 AUC 0.8006\n"
          ],
          "name": "stderr"
        },
        {
          "output_type": "stream",
          "text": [
            "Time taken for 1 epoch: 152.39775252342224 secs\n",
            "\n",
            "Epoch 64 TRAIN Batch 0 Loss 0.5202 Accuracy 73.4667 AUC 0.7873\n",
            "Epoch 64 TRAIN Batch 50 Loss 0.4966 Accuracy 75.0861 AUC 0.8016\n",
            "Epoch 64 TRAIN Batch 100 Loss 0.4969 Accuracy 75.0810 AUC 0.8013\n",
            "Epoch 64 TRAIN Batch 150 Loss 0.4971 Accuracy 75.0598 AUC 0.8010\n",
            "Epoch 64 TRAIN Batch 200 Loss 0.4977 Accuracy 75.0123 AUC 0.8007\n",
            "Epoch 64 TRAIN Batch 250 Loss 0.4979 Accuracy 74.9944 AUC 0.8006\n",
            "Epoch 64 TRAIN Batch 300 Loss 0.4982 Accuracy 74.9783 AUC 0.8004\n",
            "Epoch 64 TRAIN Batch 350 Loss 0.4982 Accuracy 74.9734 AUC 0.8004\n",
            "Epoch 64 TRAIN Batch 400 Loss 0.4982 Accuracy 74.9792 AUC 0.8004\n",
            "Epoch 64 TRAIN Batch 450 Loss 0.4983 Accuracy 74.9799 AUC 0.8005\n",
            "Epoch 64 TRAIN Batch 500 Loss 0.4982 Accuracy 74.9837 AUC 0.8005\n",
            "Epoch 64 TRAIN Batch 550 Loss 0.4981 Accuracy 74.9898 AUC 0.8006\n",
            "Epoch 64 TRAIN Batch 600 Loss 0.4984 Accuracy 74.9779 AUC 0.8005\n",
            "Epoch 64 TRAIN Batch 650 Loss 0.4983 Accuracy 74.9852 AUC 0.8006\n",
            "Epoch 64 TRAIN Batch 700 Loss 0.4982 Accuracy 74.9939 AUC 0.8006\n",
            "Epoch 64 TRAIN Batch 750 Loss 0.4983 Accuracy 74.9894 AUC 0.8007\n"
          ],
          "name": "stdout"
        },
        {
          "output_type": "stream",
          "text": [
            "27-12 18:31 root         INFO     Epoch TRAIN 64 Loss 0.4983 Accuracy 74.9889 AUC 0.8006\n"
          ],
          "name": "stderr"
        },
        {
          "output_type": "stream",
          "text": [
            "Time taken for 1 epoch: 152.35779237747192 secs\n",
            "\n",
            "Epoch 65 TRAIN Batch 0 Loss 0.5125 Accuracy 73.9775 AUC 0.7893\n",
            "Epoch 65 TRAIN Batch 50 Loss 0.4985 Accuracy 74.9876 AUC 0.7994\n",
            "Epoch 65 TRAIN Batch 100 Loss 0.4985 Accuracy 74.9646 AUC 0.7998\n",
            "Epoch 65 TRAIN Batch 150 Loss 0.4982 Accuracy 74.9728 AUC 0.8002\n",
            "Epoch 65 TRAIN Batch 200 Loss 0.4983 Accuracy 74.9654 AUC 0.8000\n",
            "Epoch 65 TRAIN Batch 250 Loss 0.4981 Accuracy 74.9779 AUC 0.8002\n",
            "Epoch 65 TRAIN Batch 300 Loss 0.4983 Accuracy 74.9570 AUC 0.8002\n",
            "Epoch 65 TRAIN Batch 350 Loss 0.4984 Accuracy 74.9663 AUC 0.8004\n",
            "Epoch 65 TRAIN Batch 400 Loss 0.4983 Accuracy 74.9624 AUC 0.8004\n",
            "Epoch 65 TRAIN Batch 450 Loss 0.4984 Accuracy 74.9668 AUC 0.8004\n",
            "Epoch 65 TRAIN Batch 500 Loss 0.4984 Accuracy 74.9667 AUC 0.8004\n",
            "Epoch 65 TRAIN Batch 550 Loss 0.4982 Accuracy 74.9790 AUC 0.8004\n",
            "Epoch 65 TRAIN Batch 600 Loss 0.4980 Accuracy 74.9829 AUC 0.8005\n",
            "Epoch 65 TRAIN Batch 650 Loss 0.4981 Accuracy 74.9810 AUC 0.8005\n",
            "Epoch 65 TRAIN Batch 700 Loss 0.4981 Accuracy 74.9839 AUC 0.8005\n",
            "Epoch 65 TRAIN Batch 750 Loss 0.4981 Accuracy 74.9798 AUC 0.8006\n"
          ],
          "name": "stdout"
        },
        {
          "output_type": "stream",
          "text": [
            "27-12 18:34 root         INFO     Epoch TRAIN 65 Loss 0.4981 Accuracy 74.9792 AUC 0.8005\n"
          ],
          "name": "stderr"
        },
        {
          "output_type": "stream",
          "text": [
            "Epoch 65 VAL Batch 0 Loss 0.4948 Accuracy 75.1863 AUC 0.7965\n",
            "Epoch 65 VAL Batch 50 Loss 0.4985 Accuracy 75.0674 AUC 0.7997\n",
            "Epoch 65 VAL Batch 100 Loss 0.4970 Accuracy 75.1332 AUC 0.8008\n",
            "Epoch 65 VAL Batch 150 Loss 0.4969 Accuracy 75.1356 AUC 0.8007\n",
            "Epoch 65 VAL Batch 200 Loss 0.4969 Accuracy 75.1283 AUC 0.8009\n",
            "Epoch 65 VAL Batch 250 Loss 0.4972 Accuracy 75.0893 AUC 0.8009\n",
            "Epoch 65 VAL Batch 300 Loss 0.4978 Accuracy 75.0510 AUC 0.8007\n",
            "Epoch 65 VAL Batch 350 Loss 0.4980 Accuracy 75.0283 AUC 0.8007\n",
            "Epoch 65 VAL Batch 400 Loss 0.4981 Accuracy 75.0210 AUC 0.8005\n",
            "Epoch 65 VAL Batch 450 Loss 0.4982 Accuracy 75.0236 AUC 0.8005\n",
            "Epoch 65 VAL Batch 500 Loss 0.4981 Accuracy 75.0240 AUC 0.8005\n",
            "Epoch 65 VAL Batch 550 Loss 0.4982 Accuracy 75.0302 AUC 0.8004\n",
            "Epoch 65 VAL Batch 600 Loss 0.4980 Accuracy 75.0427 AUC 0.8005\n",
            "Epoch 65 VAL Batch 650 Loss 0.4982 Accuracy 75.0318 AUC 0.8004\n",
            "Epoch 65 VAL Batch 700 Loss 0.4981 Accuracy 75.0356 AUC 0.8005\n",
            "Epoch 65 VAL Batch 750 Loss 0.4981 Accuracy 75.0316 AUC 0.8005\n"
          ],
          "name": "stdout"
        },
        {
          "output_type": "stream",
          "text": [
            "27-12 18:35 root         INFO     Epoch VAL 65 Loss 0.4983 Accuracy 75.0220 AUC 0.8005\n",
            "27-12 18:35 root         INFO     Saving checkpoint for epoch 65 at 27-Dec-riiid-1/checkpoints/ckpt-13\n"
          ],
          "name": "stderr"
        },
        {
          "output_type": "stream",
          "text": [
            "Time taken for 1 epoch: 184.28698420524597 secs\n",
            "\n",
            "Epoch 66 TRAIN Batch 0 Loss 0.4975 Accuracy 75.1313 AUC 0.7993\n",
            "Epoch 66 TRAIN Batch 50 Loss 0.4973 Accuracy 75.0360 AUC 0.8012\n",
            "Epoch 66 TRAIN Batch 100 Loss 0.4975 Accuracy 75.0416 AUC 0.8015\n",
            "Epoch 66 TRAIN Batch 150 Loss 0.4975 Accuracy 75.0323 AUC 0.8013\n",
            "Epoch 66 TRAIN Batch 200 Loss 0.4972 Accuracy 75.0361 AUC 0.8014\n",
            "Epoch 66 TRAIN Batch 250 Loss 0.4975 Accuracy 75.0383 AUC 0.8013\n",
            "Epoch 66 TRAIN Batch 300 Loss 0.4973 Accuracy 75.0583 AUC 0.8014\n",
            "Epoch 66 TRAIN Batch 350 Loss 0.4972 Accuracy 75.0728 AUC 0.8014\n",
            "Epoch 66 TRAIN Batch 400 Loss 0.4973 Accuracy 75.0580 AUC 0.8013\n",
            "Epoch 66 TRAIN Batch 450 Loss 0.4975 Accuracy 75.0428 AUC 0.8011\n",
            "Epoch 66 TRAIN Batch 500 Loss 0.4977 Accuracy 75.0280 AUC 0.8011\n",
            "Epoch 66 TRAIN Batch 550 Loss 0.4977 Accuracy 75.0245 AUC 0.8011\n",
            "Epoch 66 TRAIN Batch 600 Loss 0.4979 Accuracy 75.0139 AUC 0.8009\n",
            "Epoch 66 TRAIN Batch 650 Loss 0.4980 Accuracy 75.0041 AUC 0.8009\n",
            "Epoch 66 TRAIN Batch 700 Loss 0.4979 Accuracy 75.0092 AUC 0.8009\n",
            "Epoch 66 TRAIN Batch 750 Loss 0.4978 Accuracy 75.0160 AUC 0.8009\n"
          ],
          "name": "stdout"
        },
        {
          "output_type": "stream",
          "text": [
            "27-12 18:37 root         INFO     Epoch TRAIN 66 Loss 0.4978 Accuracy 75.0151 AUC 0.8008\n"
          ],
          "name": "stderr"
        },
        {
          "output_type": "stream",
          "text": [
            "Time taken for 1 epoch: 152.09863185882568 secs\n",
            "\n",
            "Epoch 67 TRAIN Batch 0 Loss 0.4947 Accuracy 74.9244 AUC 0.8060\n",
            "Epoch 67 TRAIN Batch 50 Loss 0.4963 Accuracy 75.1258 AUC 0.8020\n",
            "Epoch 67 TRAIN Batch 100 Loss 0.4973 Accuracy 75.0576 AUC 0.8010\n",
            "Epoch 67 TRAIN Batch 150 Loss 0.4978 Accuracy 75.0328 AUC 0.8008\n",
            "Epoch 67 TRAIN Batch 200 Loss 0.4982 Accuracy 75.0049 AUC 0.8005\n",
            "Epoch 67 TRAIN Batch 250 Loss 0.4987 Accuracy 74.9569 AUC 0.8005\n",
            "Epoch 67 TRAIN Batch 300 Loss 0.4982 Accuracy 74.9790 AUC 0.8007\n",
            "Epoch 67 TRAIN Batch 350 Loss 0.4982 Accuracy 74.9748 AUC 0.8006\n",
            "Epoch 67 TRAIN Batch 400 Loss 0.4984 Accuracy 74.9679 AUC 0.8005\n",
            "Epoch 67 TRAIN Batch 450 Loss 0.4985 Accuracy 74.9585 AUC 0.8005\n",
            "Epoch 67 TRAIN Batch 500 Loss 0.4982 Accuracy 74.9841 AUC 0.8007\n",
            "Epoch 67 TRAIN Batch 550 Loss 0.4984 Accuracy 74.9761 AUC 0.8006\n",
            "Epoch 67 TRAIN Batch 600 Loss 0.4983 Accuracy 74.9808 AUC 0.8006\n",
            "Epoch 67 TRAIN Batch 650 Loss 0.4983 Accuracy 74.9788 AUC 0.8006\n",
            "Epoch 67 TRAIN Batch 700 Loss 0.4983 Accuracy 74.9742 AUC 0.8006\n",
            "Epoch 67 TRAIN Batch 750 Loss 0.4983 Accuracy 74.9773 AUC 0.8006\n"
          ],
          "name": "stdout"
        },
        {
          "output_type": "stream",
          "text": [
            "27-12 18:40 root         INFO     Epoch TRAIN 67 Loss 0.4983 Accuracy 74.9779 AUC 0.8007\n"
          ],
          "name": "stderr"
        },
        {
          "output_type": "stream",
          "text": [
            "Time taken for 1 epoch: 151.61426663398743 secs\n",
            "\n",
            "Epoch 68 TRAIN Batch 0 Loss 0.5014 Accuracy 74.4751 AUC 0.8053\n",
            "Epoch 68 TRAIN Batch 50 Loss 0.5001 Accuracy 74.8487 AUC 0.7995\n",
            "Epoch 68 TRAIN Batch 100 Loss 0.4992 Accuracy 74.8779 AUC 0.8004\n",
            "Epoch 68 TRAIN Batch 150 Loss 0.4978 Accuracy 74.9700 AUC 0.8008\n",
            "Epoch 68 TRAIN Batch 200 Loss 0.4978 Accuracy 74.9893 AUC 0.8008\n",
            "Epoch 68 TRAIN Batch 250 Loss 0.4980 Accuracy 74.9715 AUC 0.8007\n",
            "Epoch 68 TRAIN Batch 300 Loss 0.4983 Accuracy 74.9452 AUC 0.8006\n",
            "Epoch 68 TRAIN Batch 350 Loss 0.4983 Accuracy 74.9507 AUC 0.8005\n",
            "Epoch 68 TRAIN Batch 400 Loss 0.4985 Accuracy 74.9420 AUC 0.8004\n",
            "Epoch 68 TRAIN Batch 450 Loss 0.4984 Accuracy 74.9552 AUC 0.8005\n",
            "Epoch 68 TRAIN Batch 500 Loss 0.4984 Accuracy 74.9599 AUC 0.8005\n",
            "Epoch 68 TRAIN Batch 550 Loss 0.4983 Accuracy 74.9657 AUC 0.8005\n",
            "Epoch 68 TRAIN Batch 600 Loss 0.4982 Accuracy 74.9706 AUC 0.8004\n",
            "Epoch 68 TRAIN Batch 650 Loss 0.4982 Accuracy 74.9664 AUC 0.8005\n",
            "Epoch 68 TRAIN Batch 700 Loss 0.4983 Accuracy 74.9589 AUC 0.8004\n",
            "Epoch 68 TRAIN Batch 750 Loss 0.4983 Accuracy 74.9631 AUC 0.8005\n"
          ],
          "name": "stdout"
        },
        {
          "output_type": "stream",
          "text": [
            "27-12 18:42 root         INFO     Epoch TRAIN 68 Loss 0.4983 Accuracy 74.9640 AUC 0.8005\n"
          ],
          "name": "stderr"
        },
        {
          "output_type": "stream",
          "text": [
            "Time taken for 1 epoch: 151.18952345848083 secs\n",
            "\n",
            "Epoch 69 TRAIN Batch 0 Loss 0.4984 Accuracy 75.0042 AUC 0.8051\n",
            "Epoch 69 TRAIN Batch 50 Loss 0.4987 Accuracy 74.9899 AUC 0.8010\n",
            "Epoch 69 TRAIN Batch 100 Loss 0.4976 Accuracy 75.0336 AUC 0.8013\n",
            "Epoch 69 TRAIN Batch 150 Loss 0.4978 Accuracy 75.0132 AUC 0.8011\n",
            "Epoch 69 TRAIN Batch 200 Loss 0.4979 Accuracy 75.0088 AUC 0.8010\n",
            "Epoch 69 TRAIN Batch 250 Loss 0.4977 Accuracy 75.0293 AUC 0.8014\n",
            "Epoch 69 TRAIN Batch 300 Loss 0.4972 Accuracy 75.0635 AUC 0.8016\n",
            "Epoch 69 TRAIN Batch 350 Loss 0.4974 Accuracy 75.0490 AUC 0.8015\n",
            "Epoch 69 TRAIN Batch 400 Loss 0.4974 Accuracy 75.0483 AUC 0.8014\n",
            "Epoch 69 TRAIN Batch 450 Loss 0.4973 Accuracy 75.0492 AUC 0.8015\n",
            "Epoch 69 TRAIN Batch 500 Loss 0.4974 Accuracy 75.0466 AUC 0.8015\n",
            "Epoch 69 TRAIN Batch 550 Loss 0.4974 Accuracy 75.0468 AUC 0.8014\n",
            "Epoch 69 TRAIN Batch 600 Loss 0.4973 Accuracy 75.0523 AUC 0.8015\n",
            "Epoch 69 TRAIN Batch 650 Loss 0.4974 Accuracy 75.0458 AUC 0.8014\n",
            "Epoch 69 TRAIN Batch 700 Loss 0.4975 Accuracy 75.0365 AUC 0.8014\n",
            "Epoch 69 TRAIN Batch 750 Loss 0.4977 Accuracy 75.0223 AUC 0.8013\n"
          ],
          "name": "stdout"
        },
        {
          "output_type": "stream",
          "text": [
            "27-12 18:45 root         INFO     Epoch TRAIN 69 Loss 0.4978 Accuracy 75.0154 AUC 0.8013\n"
          ],
          "name": "stderr"
        },
        {
          "output_type": "stream",
          "text": [
            "Time taken for 1 epoch: 153.9400634765625 secs\n",
            "\n",
            "Epoch 70 TRAIN Batch 0 Loss 0.5051 Accuracy 74.7390 AUC 0.7963\n",
            "Epoch 70 TRAIN Batch 50 Loss 0.4969 Accuracy 75.0548 AUC 0.8017\n",
            "Epoch 70 TRAIN Batch 100 Loss 0.4971 Accuracy 75.0285 AUC 0.8022\n",
            "Epoch 70 TRAIN Batch 150 Loss 0.4980 Accuracy 74.9888 AUC 0.8011\n",
            "Epoch 70 TRAIN Batch 200 Loss 0.4979 Accuracy 74.9924 AUC 0.8009\n",
            "Epoch 70 TRAIN Batch 250 Loss 0.4980 Accuracy 74.9941 AUC 0.8008\n",
            "Epoch 70 TRAIN Batch 300 Loss 0.4977 Accuracy 75.0146 AUC 0.8010\n",
            "Epoch 70 TRAIN Batch 350 Loss 0.4976 Accuracy 75.0232 AUC 0.8011\n",
            "Epoch 70 TRAIN Batch 400 Loss 0.4974 Accuracy 75.0379 AUC 0.8012\n",
            "Epoch 70 TRAIN Batch 450 Loss 0.4974 Accuracy 75.0385 AUC 0.8012\n",
            "Epoch 70 TRAIN Batch 500 Loss 0.4972 Accuracy 75.0475 AUC 0.8014\n",
            "Epoch 70 TRAIN Batch 550 Loss 0.4974 Accuracy 75.0356 AUC 0.8013\n",
            "Epoch 70 TRAIN Batch 600 Loss 0.4973 Accuracy 75.0464 AUC 0.8013\n",
            "Epoch 70 TRAIN Batch 650 Loss 0.4972 Accuracy 75.0498 AUC 0.8013\n",
            "Epoch 70 TRAIN Batch 700 Loss 0.4972 Accuracy 75.0517 AUC 0.8013\n",
            "Epoch 70 TRAIN Batch 750 Loss 0.4974 Accuracy 75.0334 AUC 0.8012\n"
          ],
          "name": "stdout"
        },
        {
          "output_type": "stream",
          "text": [
            "27-12 18:47 root         INFO     Epoch TRAIN 70 Loss 0.4973 Accuracy 75.0376 AUC 0.8013\n"
          ],
          "name": "stderr"
        },
        {
          "output_type": "stream",
          "text": [
            "Epoch 70 VAL Batch 0 Loss 0.4932 Accuracy 75.1445 AUC 0.7981\n",
            "Epoch 70 VAL Batch 50 Loss 0.4977 Accuracy 75.0574 AUC 0.8001\n",
            "Epoch 70 VAL Batch 100 Loss 0.4962 Accuracy 75.1485 AUC 0.8012\n",
            "Epoch 70 VAL Batch 150 Loss 0.4961 Accuracy 75.1515 AUC 0.8012\n",
            "Epoch 70 VAL Batch 200 Loss 0.4961 Accuracy 75.1517 AUC 0.8013\n",
            "Epoch 70 VAL Batch 250 Loss 0.4965 Accuracy 75.1161 AUC 0.8013\n",
            "Epoch 70 VAL Batch 300 Loss 0.4970 Accuracy 75.0804 AUC 0.8011\n",
            "Epoch 70 VAL Batch 350 Loss 0.4972 Accuracy 75.0615 AUC 0.8011\n",
            "Epoch 70 VAL Batch 400 Loss 0.4974 Accuracy 75.0555 AUC 0.8009\n",
            "Epoch 70 VAL Batch 450 Loss 0.4974 Accuracy 75.0623 AUC 0.8009\n",
            "Epoch 70 VAL Batch 500 Loss 0.4974 Accuracy 75.0637 AUC 0.8009\n",
            "Epoch 70 VAL Batch 550 Loss 0.4975 Accuracy 75.0613 AUC 0.8008\n",
            "Epoch 70 VAL Batch 600 Loss 0.4973 Accuracy 75.0734 AUC 0.8009\n",
            "Epoch 70 VAL Batch 650 Loss 0.4975 Accuracy 75.0638 AUC 0.8008\n",
            "Epoch 70 VAL Batch 700 Loss 0.4974 Accuracy 75.0686 AUC 0.8009\n",
            "Epoch 70 VAL Batch 750 Loss 0.4974 Accuracy 75.0636 AUC 0.8009\n"
          ],
          "name": "stdout"
        },
        {
          "output_type": "stream",
          "text": [
            "27-12 18:48 root         INFO     Epoch VAL 70 Loss 0.4976 Accuracy 75.0526 AUC 0.8009\n",
            "27-12 18:48 root         INFO     Saving checkpoint for epoch 70 at 27-Dec-riiid-1/checkpoints/ckpt-14\n"
          ],
          "name": "stderr"
        },
        {
          "output_type": "stream",
          "text": [
            "Time taken for 1 epoch: 185.65972089767456 secs\n",
            "\n",
            "Epoch 71 TRAIN Batch 0 Loss 0.4941 Accuracy 75.1990 AUC 0.8082\n",
            "Epoch 71 TRAIN Batch 50 Loss 0.4971 Accuracy 75.0643 AUC 0.8017\n",
            "Epoch 71 TRAIN Batch 100 Loss 0.4979 Accuracy 74.9920 AUC 0.8013\n",
            "Epoch 71 TRAIN Batch 150 Loss 0.4977 Accuracy 75.0099 AUC 0.8014\n",
            "Epoch 71 TRAIN Batch 200 Loss 0.4978 Accuracy 75.0094 AUC 0.8012\n",
            "Epoch 71 TRAIN Batch 250 Loss 0.4977 Accuracy 75.0172 AUC 0.8012\n",
            "Epoch 71 TRAIN Batch 300 Loss 0.4979 Accuracy 75.0073 AUC 0.8012\n",
            "Epoch 71 TRAIN Batch 350 Loss 0.4978 Accuracy 75.0186 AUC 0.8012\n",
            "Epoch 71 TRAIN Batch 400 Loss 0.4979 Accuracy 75.0031 AUC 0.8011\n",
            "Epoch 71 TRAIN Batch 450 Loss 0.4977 Accuracy 75.0142 AUC 0.8011\n",
            "Epoch 71 TRAIN Batch 500 Loss 0.4978 Accuracy 75.0090 AUC 0.8011\n",
            "Epoch 71 TRAIN Batch 550 Loss 0.4978 Accuracy 75.0143 AUC 0.8011\n",
            "Epoch 71 TRAIN Batch 600 Loss 0.4980 Accuracy 75.0011 AUC 0.8010\n",
            "Epoch 71 TRAIN Batch 650 Loss 0.4981 Accuracy 74.9930 AUC 0.8009\n",
            "Epoch 71 TRAIN Batch 700 Loss 0.4980 Accuracy 75.0007 AUC 0.8010\n",
            "Epoch 71 TRAIN Batch 750 Loss 0.4980 Accuracy 74.9972 AUC 0.8010\n"
          ],
          "name": "stdout"
        },
        {
          "output_type": "stream",
          "text": [
            "27-12 18:50 root         INFO     Epoch TRAIN 71 Loss 0.4981 Accuracy 74.9887 AUC 0.8010\n"
          ],
          "name": "stderr"
        },
        {
          "output_type": "stream",
          "text": [
            "Time taken for 1 epoch: 152.4647352695465 secs\n",
            "\n",
            "Epoch 72 TRAIN Batch 0 Loss 0.5045 Accuracy 74.4268 AUC 0.7998\n",
            "Epoch 72 TRAIN Batch 50 Loss 0.5007 Accuracy 74.7897 AUC 0.7998\n",
            "Epoch 72 TRAIN Batch 100 Loss 0.5000 Accuracy 74.8280 AUC 0.8001\n",
            "Epoch 72 TRAIN Batch 150 Loss 0.4989 Accuracy 74.9012 AUC 0.8006\n",
            "Epoch 72 TRAIN Batch 200 Loss 0.4982 Accuracy 74.9434 AUC 0.8011\n",
            "Epoch 72 TRAIN Batch 250 Loss 0.4979 Accuracy 74.9598 AUC 0.8011\n",
            "Epoch 72 TRAIN Batch 300 Loss 0.4977 Accuracy 74.9807 AUC 0.8013\n",
            "Epoch 72 TRAIN Batch 350 Loss 0.4977 Accuracy 74.9978 AUC 0.8012\n",
            "Epoch 72 TRAIN Batch 400 Loss 0.4973 Accuracy 75.0278 AUC 0.8016\n",
            "Epoch 72 TRAIN Batch 450 Loss 0.4971 Accuracy 75.0448 AUC 0.8017\n",
            "Epoch 72 TRAIN Batch 500 Loss 0.4972 Accuracy 75.0414 AUC 0.8017\n",
            "Epoch 72 TRAIN Batch 550 Loss 0.4973 Accuracy 75.0414 AUC 0.8016\n",
            "Epoch 72 TRAIN Batch 600 Loss 0.4972 Accuracy 75.0446 AUC 0.8015\n",
            "Epoch 72 TRAIN Batch 650 Loss 0.4973 Accuracy 75.0383 AUC 0.8015\n",
            "Epoch 72 TRAIN Batch 700 Loss 0.4974 Accuracy 75.0324 AUC 0.8014\n",
            "Epoch 72 TRAIN Batch 750 Loss 0.4975 Accuracy 75.0335 AUC 0.8015\n"
          ],
          "name": "stdout"
        },
        {
          "output_type": "stream",
          "text": [
            "27-12 18:53 root         INFO     Epoch TRAIN 72 Loss 0.4975 Accuracy 75.0288 AUC 0.8015\n"
          ],
          "name": "stderr"
        },
        {
          "output_type": "stream",
          "text": [
            "Time taken for 1 epoch: 152.47782826423645 secs\n",
            "\n",
            "Epoch 73 TRAIN Batch 0 Loss 0.5096 Accuracy 74.2509 AUC 0.7950\n",
            "Epoch 73 TRAIN Batch 50 Loss 0.5003 Accuracy 74.7867 AUC 0.7998\n",
            "Epoch 73 TRAIN Batch 100 Loss 0.4994 Accuracy 74.8932 AUC 0.8002\n",
            "Epoch 73 TRAIN Batch 150 Loss 0.4987 Accuracy 74.9286 AUC 0.8006\n",
            "Epoch 73 TRAIN Batch 200 Loss 0.4981 Accuracy 74.9668 AUC 0.8009\n",
            "Epoch 73 TRAIN Batch 250 Loss 0.4981 Accuracy 74.9627 AUC 0.8010\n",
            "Epoch 73 TRAIN Batch 300 Loss 0.4981 Accuracy 74.9599 AUC 0.8008\n",
            "Epoch 73 TRAIN Batch 350 Loss 0.4980 Accuracy 74.9657 AUC 0.8008\n",
            "Epoch 73 TRAIN Batch 400 Loss 0.4979 Accuracy 74.9721 AUC 0.8009\n",
            "Epoch 73 TRAIN Batch 450 Loss 0.4979 Accuracy 74.9723 AUC 0.8010\n",
            "Epoch 73 TRAIN Batch 500 Loss 0.4980 Accuracy 74.9683 AUC 0.8010\n",
            "Epoch 73 TRAIN Batch 550 Loss 0.4980 Accuracy 74.9645 AUC 0.8011\n",
            "Epoch 73 TRAIN Batch 600 Loss 0.4981 Accuracy 74.9654 AUC 0.8010\n",
            "Epoch 73 TRAIN Batch 650 Loss 0.4981 Accuracy 74.9676 AUC 0.8010\n",
            "Epoch 73 TRAIN Batch 700 Loss 0.4981 Accuracy 74.9638 AUC 0.8010\n",
            "Epoch 73 TRAIN Batch 750 Loss 0.4981 Accuracy 74.9695 AUC 0.8011\n"
          ],
          "name": "stdout"
        },
        {
          "output_type": "stream",
          "text": [
            "27-12 18:55 root         INFO     Epoch TRAIN 73 Loss 0.4979 Accuracy 74.9793 AUC 0.8011\n"
          ],
          "name": "stderr"
        },
        {
          "output_type": "stream",
          "text": [
            "Time taken for 1 epoch: 152.49130988121033 secs\n",
            "\n",
            "Epoch 74 TRAIN Batch 0 Loss 0.4994 Accuracy 74.7890 AUC 0.7999\n",
            "Epoch 74 TRAIN Batch 50 Loss 0.4991 Accuracy 74.9159 AUC 0.8003\n",
            "Epoch 74 TRAIN Batch 100 Loss 0.4996 Accuracy 74.8745 AUC 0.8000\n",
            "Epoch 74 TRAIN Batch 150 Loss 0.4984 Accuracy 74.9679 AUC 0.8009\n",
            "Epoch 74 TRAIN Batch 200 Loss 0.4986 Accuracy 74.9360 AUC 0.8009\n",
            "Epoch 74 TRAIN Batch 250 Loss 0.4985 Accuracy 74.9386 AUC 0.8011\n",
            "Epoch 74 TRAIN Batch 300 Loss 0.4985 Accuracy 74.9399 AUC 0.8010\n",
            "Epoch 74 TRAIN Batch 350 Loss 0.4983 Accuracy 74.9564 AUC 0.8012\n",
            "Epoch 74 TRAIN Batch 400 Loss 0.4982 Accuracy 74.9614 AUC 0.8013\n",
            "Epoch 74 TRAIN Batch 450 Loss 0.4983 Accuracy 74.9567 AUC 0.8012\n",
            "Epoch 74 TRAIN Batch 500 Loss 0.4979 Accuracy 74.9810 AUC 0.8014\n",
            "Epoch 74 TRAIN Batch 550 Loss 0.4979 Accuracy 74.9811 AUC 0.8015\n",
            "Epoch 74 TRAIN Batch 600 Loss 0.4979 Accuracy 74.9824 AUC 0.8015\n",
            "Epoch 74 TRAIN Batch 650 Loss 0.4979 Accuracy 74.9907 AUC 0.8015\n",
            "Epoch 74 TRAIN Batch 700 Loss 0.4978 Accuracy 74.9995 AUC 0.8015\n",
            "Epoch 74 TRAIN Batch 750 Loss 0.4977 Accuracy 75.0162 AUC 0.8016\n"
          ],
          "name": "stdout"
        },
        {
          "output_type": "stream",
          "text": [
            "27-12 18:58 root         INFO     Epoch TRAIN 74 Loss 0.4975 Accuracy 75.0230 AUC 0.8017\n"
          ],
          "name": "stderr"
        },
        {
          "output_type": "stream",
          "text": [
            "Time taken for 1 epoch: 152.54016852378845 secs\n",
            "\n",
            "Epoch 75 TRAIN Batch 0 Loss 0.4949 Accuracy 75.4717 AUC 0.8024\n",
            "Epoch 75 TRAIN Batch 50 Loss 0.4965 Accuracy 75.1518 AUC 0.8014\n",
            "Epoch 75 TRAIN Batch 100 Loss 0.4961 Accuracy 75.1641 AUC 0.8018\n",
            "Epoch 75 TRAIN Batch 150 Loss 0.4969 Accuracy 75.1067 AUC 0.8017\n",
            "Epoch 75 TRAIN Batch 200 Loss 0.4972 Accuracy 75.0787 AUC 0.8015\n",
            "Epoch 75 TRAIN Batch 250 Loss 0.4972 Accuracy 75.0772 AUC 0.8013\n",
            "Epoch 75 TRAIN Batch 300 Loss 0.4970 Accuracy 75.0845 AUC 0.8015\n",
            "Epoch 75 TRAIN Batch 350 Loss 0.4971 Accuracy 75.0683 AUC 0.8014\n",
            "Epoch 75 TRAIN Batch 400 Loss 0.4970 Accuracy 75.0682 AUC 0.8015\n",
            "Epoch 75 TRAIN Batch 450 Loss 0.4971 Accuracy 75.0578 AUC 0.8014\n",
            "Epoch 75 TRAIN Batch 500 Loss 0.4972 Accuracy 75.0467 AUC 0.8013\n",
            "Epoch 75 TRAIN Batch 550 Loss 0.4972 Accuracy 75.0470 AUC 0.8015\n",
            "Epoch 75 TRAIN Batch 600 Loss 0.4972 Accuracy 75.0347 AUC 0.8015\n",
            "Epoch 75 TRAIN Batch 650 Loss 0.4972 Accuracy 75.0354 AUC 0.8016\n",
            "Epoch 75 TRAIN Batch 700 Loss 0.4974 Accuracy 75.0286 AUC 0.8014\n",
            "Epoch 75 TRAIN Batch 750 Loss 0.4974 Accuracy 75.0238 AUC 0.8015\n"
          ],
          "name": "stdout"
        },
        {
          "output_type": "stream",
          "text": [
            "27-12 19:01 root         INFO     Epoch TRAIN 75 Loss 0.4975 Accuracy 75.0176 AUC 0.8014\n"
          ],
          "name": "stderr"
        },
        {
          "output_type": "stream",
          "text": [
            "Epoch 75 VAL Batch 0 Loss 0.4949 Accuracy 75.2701 AUC 0.7967\n",
            "Epoch 75 VAL Batch 50 Loss 0.4973 Accuracy 75.0924 AUC 0.8003\n",
            "Epoch 75 VAL Batch 100 Loss 0.4958 Accuracy 75.1690 AUC 0.8013\n",
            "Epoch 75 VAL Batch 150 Loss 0.4956 Accuracy 75.1726 AUC 0.8014\n",
            "Epoch 75 VAL Batch 200 Loss 0.4956 Accuracy 75.1719 AUC 0.8015\n",
            "Epoch 75 VAL Batch 250 Loss 0.4960 Accuracy 75.1346 AUC 0.8015\n",
            "Epoch 75 VAL Batch 300 Loss 0.4965 Accuracy 75.0968 AUC 0.8013\n",
            "Epoch 75 VAL Batch 350 Loss 0.4967 Accuracy 75.0756 AUC 0.8013\n",
            "Epoch 75 VAL Batch 400 Loss 0.4969 Accuracy 75.0675 AUC 0.8011\n",
            "Epoch 75 VAL Batch 450 Loss 0.4969 Accuracy 75.0699 AUC 0.8010\n",
            "Epoch 75 VAL Batch 500 Loss 0.4969 Accuracy 75.0668 AUC 0.8011\n",
            "Epoch 75 VAL Batch 550 Loss 0.4969 Accuracy 75.0674 AUC 0.8010\n",
            "Epoch 75 VAL Batch 600 Loss 0.4968 Accuracy 75.0806 AUC 0.8011\n",
            "Epoch 75 VAL Batch 650 Loss 0.4970 Accuracy 75.0693 AUC 0.8010\n",
            "Epoch 75 VAL Batch 700 Loss 0.4969 Accuracy 75.0725 AUC 0.8011\n",
            "Epoch 75 VAL Batch 750 Loss 0.4969 Accuracy 75.0667 AUC 0.8011\n"
          ],
          "name": "stdout"
        },
        {
          "output_type": "stream",
          "text": [
            "27-12 19:01 root         INFO     Epoch VAL 75 Loss 0.4971 Accuracy 75.0557 AUC 0.8011\n",
            "27-12 19:01 root         INFO     Saving checkpoint for epoch 75 at 27-Dec-riiid-1/checkpoints/ckpt-15\n"
          ],
          "name": "stderr"
        },
        {
          "output_type": "stream",
          "text": [
            "Time taken for 1 epoch: 185.2787606716156 secs\n",
            "\n",
            "Epoch 76 TRAIN Batch 0 Loss 0.4991 Accuracy 74.4811 AUC 0.7983\n",
            "Epoch 76 TRAIN Batch 50 Loss 0.4969 Accuracy 75.0554 AUC 0.8017\n",
            "Epoch 76 TRAIN Batch 100 Loss 0.4974 Accuracy 75.0240 AUC 0.8018\n",
            "Epoch 76 TRAIN Batch 150 Loss 0.4977 Accuracy 75.0210 AUC 0.8014\n",
            "Epoch 76 TRAIN Batch 200 Loss 0.4972 Accuracy 75.0475 AUC 0.8015\n",
            "Epoch 76 TRAIN Batch 250 Loss 0.4972 Accuracy 75.0498 AUC 0.8016\n",
            "Epoch 76 TRAIN Batch 300 Loss 0.4967 Accuracy 75.0800 AUC 0.8018\n",
            "Epoch 76 TRAIN Batch 350 Loss 0.4967 Accuracy 75.0699 AUC 0.8019\n",
            "Epoch 76 TRAIN Batch 400 Loss 0.4971 Accuracy 75.0484 AUC 0.8017\n",
            "Epoch 76 TRAIN Batch 450 Loss 0.4971 Accuracy 75.0430 AUC 0.8017\n",
            "Epoch 76 TRAIN Batch 500 Loss 0.4975 Accuracy 75.0167 AUC 0.8014\n",
            "Epoch 76 TRAIN Batch 550 Loss 0.4976 Accuracy 75.0078 AUC 0.8015\n",
            "Epoch 76 TRAIN Batch 600 Loss 0.4977 Accuracy 75.0044 AUC 0.8015\n",
            "Epoch 76 TRAIN Batch 650 Loss 0.4977 Accuracy 75.0106 AUC 0.8015\n",
            "Epoch 76 TRAIN Batch 700 Loss 0.4977 Accuracy 75.0115 AUC 0.8015\n",
            "Epoch 76 TRAIN Batch 750 Loss 0.4976 Accuracy 75.0184 AUC 0.8016\n"
          ],
          "name": "stdout"
        },
        {
          "output_type": "stream",
          "text": [
            "27-12 19:04 root         INFO     Epoch TRAIN 76 Loss 0.4975 Accuracy 75.0273 AUC 0.8017\n"
          ],
          "name": "stderr"
        },
        {
          "output_type": "stream",
          "text": [
            "Time taken for 1 epoch: 152.81299781799316 secs\n",
            "\n",
            "Epoch 77 TRAIN Batch 0 Loss 0.4933 Accuracy 74.8611 AUC 0.8061\n",
            "Epoch 77 TRAIN Batch 50 Loss 0.4942 Accuracy 75.2879 AUC 0.8030\n",
            "Epoch 77 TRAIN Batch 100 Loss 0.4956 Accuracy 75.1427 AUC 0.8023\n",
            "Epoch 77 TRAIN Batch 150 Loss 0.4957 Accuracy 75.1369 AUC 0.8024\n",
            "Epoch 77 TRAIN Batch 200 Loss 0.4960 Accuracy 75.1232 AUC 0.8020\n",
            "Epoch 77 TRAIN Batch 250 Loss 0.4963 Accuracy 75.0888 AUC 0.8018\n",
            "Epoch 77 TRAIN Batch 300 Loss 0.4964 Accuracy 75.0817 AUC 0.8018\n",
            "Epoch 77 TRAIN Batch 350 Loss 0.4964 Accuracy 75.0801 AUC 0.8018\n",
            "Epoch 77 TRAIN Batch 400 Loss 0.4967 Accuracy 75.0679 AUC 0.8018\n",
            "Epoch 77 TRAIN Batch 450 Loss 0.4969 Accuracy 75.0569 AUC 0.8017\n",
            "Epoch 77 TRAIN Batch 500 Loss 0.4971 Accuracy 75.0496 AUC 0.8016\n",
            "Epoch 77 TRAIN Batch 550 Loss 0.4969 Accuracy 75.0660 AUC 0.8018\n",
            "Epoch 77 TRAIN Batch 600 Loss 0.4968 Accuracy 75.0684 AUC 0.8018\n",
            "Epoch 77 TRAIN Batch 650 Loss 0.4969 Accuracy 75.0644 AUC 0.8019\n",
            "Epoch 77 TRAIN Batch 700 Loss 0.4969 Accuracy 75.0576 AUC 0.8018\n",
            "Epoch 77 TRAIN Batch 750 Loss 0.4970 Accuracy 75.0559 AUC 0.8018\n"
          ],
          "name": "stdout"
        },
        {
          "output_type": "stream",
          "text": [
            "27-12 19:06 root         INFO     Epoch TRAIN 77 Loss 0.4970 Accuracy 75.0553 AUC 0.8018\n"
          ],
          "name": "stderr"
        },
        {
          "output_type": "stream",
          "text": [
            "Time taken for 1 epoch: 152.1193242073059 secs\n",
            "\n",
            "Epoch 78 TRAIN Batch 0 Loss 0.4993 Accuracy 74.8639 AUC 0.8032\n",
            "Epoch 78 TRAIN Batch 50 Loss 0.4994 Accuracy 74.9509 AUC 0.8006\n",
            "Epoch 78 TRAIN Batch 100 Loss 0.4981 Accuracy 74.9994 AUC 0.8014\n",
            "Epoch 78 TRAIN Batch 150 Loss 0.4976 Accuracy 75.0213 AUC 0.8017\n",
            "Epoch 78 TRAIN Batch 200 Loss 0.4977 Accuracy 75.0197 AUC 0.8015\n",
            "Epoch 78 TRAIN Batch 250 Loss 0.4975 Accuracy 75.0364 AUC 0.8016\n",
            "Epoch 78 TRAIN Batch 300 Loss 0.4975 Accuracy 75.0428 AUC 0.8015\n",
            "Epoch 78 TRAIN Batch 350 Loss 0.4973 Accuracy 75.0397 AUC 0.8016\n",
            "Epoch 78 TRAIN Batch 400 Loss 0.4972 Accuracy 75.0434 AUC 0.8018\n",
            "Epoch 78 TRAIN Batch 450 Loss 0.4972 Accuracy 75.0396 AUC 0.8018\n",
            "Epoch 78 TRAIN Batch 500 Loss 0.4973 Accuracy 75.0307 AUC 0.8017\n",
            "Epoch 78 TRAIN Batch 550 Loss 0.4973 Accuracy 75.0351 AUC 0.8018\n",
            "Epoch 78 TRAIN Batch 600 Loss 0.4972 Accuracy 75.0355 AUC 0.8018\n",
            "Epoch 78 TRAIN Batch 650 Loss 0.4972 Accuracy 75.0373 AUC 0.8018\n",
            "Epoch 78 TRAIN Batch 700 Loss 0.4973 Accuracy 75.0227 AUC 0.8017\n",
            "Epoch 78 TRAIN Batch 750 Loss 0.4974 Accuracy 75.0213 AUC 0.8017\n"
          ],
          "name": "stdout"
        },
        {
          "output_type": "stream",
          "text": [
            "27-12 19:09 root         INFO     Epoch TRAIN 78 Loss 0.4974 Accuracy 75.0234 AUC 0.8017\n"
          ],
          "name": "stderr"
        },
        {
          "output_type": "stream",
          "text": [
            "Time taken for 1 epoch: 152.54778218269348 secs\n",
            "\n",
            "Epoch 79 TRAIN Batch 0 Loss 0.4920 Accuracy 75.4859 AUC 0.8018\n",
            "Epoch 79 TRAIN Batch 50 Loss 0.4957 Accuracy 75.1719 AUC 0.8021\n",
            "Epoch 79 TRAIN Batch 100 Loss 0.4958 Accuracy 75.1317 AUC 0.8019\n",
            "Epoch 79 TRAIN Batch 150 Loss 0.4963 Accuracy 75.0874 AUC 0.8019\n",
            "Epoch 79 TRAIN Batch 200 Loss 0.4967 Accuracy 75.0423 AUC 0.8017\n",
            "Epoch 79 TRAIN Batch 250 Loss 0.4970 Accuracy 75.0305 AUC 0.8017\n",
            "Epoch 79 TRAIN Batch 300 Loss 0.4969 Accuracy 75.0480 AUC 0.8017\n",
            "Epoch 79 TRAIN Batch 350 Loss 0.4970 Accuracy 75.0423 AUC 0.8018\n",
            "Epoch 79 TRAIN Batch 400 Loss 0.4970 Accuracy 75.0429 AUC 0.8018\n",
            "Epoch 79 TRAIN Batch 450 Loss 0.4971 Accuracy 75.0328 AUC 0.8017\n",
            "Epoch 79 TRAIN Batch 500 Loss 0.4969 Accuracy 75.0429 AUC 0.8018\n",
            "Epoch 79 TRAIN Batch 550 Loss 0.4970 Accuracy 75.0328 AUC 0.8017\n",
            "Epoch 79 TRAIN Batch 600 Loss 0.4971 Accuracy 75.0312 AUC 0.8016\n",
            "Epoch 79 TRAIN Batch 650 Loss 0.4970 Accuracy 75.0376 AUC 0.8017\n",
            "Epoch 79 TRAIN Batch 700 Loss 0.4972 Accuracy 75.0301 AUC 0.8017\n",
            "Epoch 79 TRAIN Batch 750 Loss 0.4970 Accuracy 75.0427 AUC 0.8019\n"
          ],
          "name": "stdout"
        },
        {
          "output_type": "stream",
          "text": [
            "27-12 19:11 root         INFO     Epoch TRAIN 79 Loss 0.4969 Accuracy 75.0455 AUC 0.8019\n"
          ],
          "name": "stderr"
        },
        {
          "output_type": "stream",
          "text": [
            "Time taken for 1 epoch: 151.8677933216095 secs\n",
            "\n",
            "Epoch 80 TRAIN Batch 0 Loss 0.4985 Accuracy 74.7682 AUC 0.8008\n",
            "Epoch 80 TRAIN Batch 50 Loss 0.4960 Accuracy 75.1892 AUC 0.8032\n",
            "Epoch 80 TRAIN Batch 100 Loss 0.4966 Accuracy 75.1241 AUC 0.8029\n",
            "Epoch 80 TRAIN Batch 150 Loss 0.4960 Accuracy 75.1653 AUC 0.8030\n",
            "Epoch 80 TRAIN Batch 200 Loss 0.4962 Accuracy 75.1449 AUC 0.8028\n",
            "Epoch 80 TRAIN Batch 250 Loss 0.4961 Accuracy 75.1484 AUC 0.8027\n",
            "Epoch 80 TRAIN Batch 300 Loss 0.4962 Accuracy 75.1335 AUC 0.8026\n",
            "Epoch 80 TRAIN Batch 350 Loss 0.4962 Accuracy 75.1272 AUC 0.8026\n",
            "Epoch 80 TRAIN Batch 400 Loss 0.4965 Accuracy 75.0920 AUC 0.8024\n",
            "Epoch 80 TRAIN Batch 450 Loss 0.4967 Accuracy 75.0811 AUC 0.8024\n",
            "Epoch 80 TRAIN Batch 500 Loss 0.4967 Accuracy 75.0748 AUC 0.8023\n",
            "Epoch 80 TRAIN Batch 550 Loss 0.4968 Accuracy 75.0646 AUC 0.8022\n",
            "Epoch 80 TRAIN Batch 600 Loss 0.4968 Accuracy 75.0704 AUC 0.8022\n",
            "Epoch 80 TRAIN Batch 650 Loss 0.4968 Accuracy 75.0705 AUC 0.8022\n",
            "Epoch 80 TRAIN Batch 700 Loss 0.4969 Accuracy 75.0661 AUC 0.8022\n",
            "Epoch 80 TRAIN Batch 750 Loss 0.4969 Accuracy 75.0609 AUC 0.8021\n"
          ],
          "name": "stdout"
        },
        {
          "output_type": "stream",
          "text": [
            "27-12 19:14 root         INFO     Epoch TRAIN 80 Loss 0.4969 Accuracy 75.0600 AUC 0.8020\n"
          ],
          "name": "stderr"
        },
        {
          "output_type": "stream",
          "text": [
            "Epoch 80 VAL Batch 0 Loss 0.4956 Accuracy 75.2031 AUC 0.7965\n",
            "Epoch 80 VAL Batch 50 Loss 0.4980 Accuracy 75.0859 AUC 0.8005\n",
            "Epoch 80 VAL Batch 100 Loss 0.4965 Accuracy 75.1698 AUC 0.8016\n",
            "Epoch 80 VAL Batch 150 Loss 0.4964 Accuracy 75.1666 AUC 0.8016\n",
            "Epoch 80 VAL Batch 200 Loss 0.4964 Accuracy 75.1742 AUC 0.8017\n",
            "Epoch 80 VAL Batch 250 Loss 0.4967 Accuracy 75.1417 AUC 0.8017\n",
            "Epoch 80 VAL Batch 300 Loss 0.4972 Accuracy 75.1072 AUC 0.8015\n",
            "Epoch 80 VAL Batch 350 Loss 0.4975 Accuracy 75.0872 AUC 0.8015\n",
            "Epoch 80 VAL Batch 400 Loss 0.4976 Accuracy 75.0794 AUC 0.8013\n",
            "Epoch 80 VAL Batch 450 Loss 0.4977 Accuracy 75.0818 AUC 0.8013\n",
            "Epoch 80 VAL Batch 500 Loss 0.4976 Accuracy 75.0835 AUC 0.8013\n",
            "Epoch 80 VAL Batch 550 Loss 0.4977 Accuracy 75.0857 AUC 0.8012\n",
            "Epoch 80 VAL Batch 600 Loss 0.4975 Accuracy 75.1012 AUC 0.8013\n",
            "Epoch 80 VAL Batch 650 Loss 0.4977 Accuracy 75.0916 AUC 0.8012\n",
            "Epoch 80 VAL Batch 700 Loss 0.4976 Accuracy 75.0975 AUC 0.8013\n",
            "Epoch 80 VAL Batch 750 Loss 0.4976 Accuracy 75.0921 AUC 0.8013\n"
          ],
          "name": "stdout"
        },
        {
          "output_type": "stream",
          "text": [
            "27-12 19:14 root         INFO     Epoch VAL 80 Loss 0.4978 Accuracy 75.0830 AUC 0.8013\n",
            "27-12 19:14 root         INFO     Saving checkpoint for epoch 80 at 27-Dec-riiid-1/checkpoints/ckpt-16\n"
          ],
          "name": "stderr"
        },
        {
          "output_type": "stream",
          "text": [
            "Time taken for 1 epoch: 185.81566834449768 secs\n",
            "\n",
            "Epoch 81 TRAIN Batch 0 Loss 0.4954 Accuracy 74.3833 AUC 0.8048\n",
            "Epoch 81 TRAIN Batch 50 Loss 0.4967 Accuracy 75.0622 AUC 0.8014\n",
            "Epoch 81 TRAIN Batch 100 Loss 0.4965 Accuracy 75.0848 AUC 0.8019\n",
            "Epoch 81 TRAIN Batch 150 Loss 0.4965 Accuracy 75.0780 AUC 0.8021\n",
            "Epoch 81 TRAIN Batch 200 Loss 0.4964 Accuracy 75.0916 AUC 0.8022\n",
            "Epoch 81 TRAIN Batch 250 Loss 0.4960 Accuracy 75.1247 AUC 0.8026\n",
            "Epoch 81 TRAIN Batch 300 Loss 0.4958 Accuracy 75.1348 AUC 0.8026\n",
            "Epoch 81 TRAIN Batch 350 Loss 0.4958 Accuracy 75.1364 AUC 0.8028\n",
            "Epoch 81 TRAIN Batch 400 Loss 0.4960 Accuracy 75.1231 AUC 0.8027\n",
            "Epoch 81 TRAIN Batch 450 Loss 0.4963 Accuracy 75.1070 AUC 0.8024\n",
            "Epoch 81 TRAIN Batch 500 Loss 0.4964 Accuracy 75.0960 AUC 0.8024\n",
            "Epoch 81 TRAIN Batch 550 Loss 0.4965 Accuracy 75.0887 AUC 0.8024\n",
            "Epoch 81 TRAIN Batch 600 Loss 0.4965 Accuracy 75.0878 AUC 0.8024\n",
            "Epoch 81 TRAIN Batch 650 Loss 0.4965 Accuracy 75.0815 AUC 0.8024\n",
            "Epoch 81 TRAIN Batch 700 Loss 0.4964 Accuracy 75.0866 AUC 0.8025\n",
            "Epoch 81 TRAIN Batch 750 Loss 0.4965 Accuracy 75.0794 AUC 0.8024\n"
          ],
          "name": "stdout"
        },
        {
          "output_type": "stream",
          "text": [
            "27-12 19:17 root         INFO     Epoch TRAIN 81 Loss 0.4965 Accuracy 75.0841 AUC 0.8024\n"
          ],
          "name": "stderr"
        },
        {
          "output_type": "stream",
          "text": [
            "Time taken for 1 epoch: 152.0889916419983 secs\n",
            "\n",
            "Epoch 82 TRAIN Batch 0 Loss 0.4968 Accuracy 75.3677 AUC 0.8048\n",
            "Epoch 82 TRAIN Batch 50 Loss 0.4967 Accuracy 75.0675 AUC 0.8024\n",
            "Epoch 82 TRAIN Batch 100 Loss 0.4965 Accuracy 75.0655 AUC 0.8022\n",
            "Epoch 82 TRAIN Batch 150 Loss 0.4963 Accuracy 75.1053 AUC 0.8021\n",
            "Epoch 82 TRAIN Batch 200 Loss 0.4966 Accuracy 75.0647 AUC 0.8022\n",
            "Epoch 82 TRAIN Batch 250 Loss 0.4970 Accuracy 75.0417 AUC 0.8018\n",
            "Epoch 82 TRAIN Batch 300 Loss 0.4967 Accuracy 75.0667 AUC 0.8020\n",
            "Epoch 82 TRAIN Batch 350 Loss 0.4966 Accuracy 75.0708 AUC 0.8022\n",
            "Epoch 82 TRAIN Batch 400 Loss 0.4968 Accuracy 75.0491 AUC 0.8021\n",
            "Epoch 82 TRAIN Batch 450 Loss 0.4969 Accuracy 75.0485 AUC 0.8021\n",
            "Epoch 82 TRAIN Batch 500 Loss 0.4970 Accuracy 75.0481 AUC 0.8021\n",
            "Epoch 82 TRAIN Batch 550 Loss 0.4969 Accuracy 75.0548 AUC 0.8021\n",
            "Epoch 82 TRAIN Batch 600 Loss 0.4969 Accuracy 75.0587 AUC 0.8021\n",
            "Epoch 82 TRAIN Batch 650 Loss 0.4968 Accuracy 75.0669 AUC 0.8022\n",
            "Epoch 82 TRAIN Batch 700 Loss 0.4968 Accuracy 75.0642 AUC 0.8022\n",
            "Epoch 82 TRAIN Batch 750 Loss 0.4967 Accuracy 75.0751 AUC 0.8022\n"
          ],
          "name": "stdout"
        },
        {
          "output_type": "stream",
          "text": [
            "27-12 19:19 root         INFO     Epoch TRAIN 82 Loss 0.4966 Accuracy 75.0809 AUC 0.8022\n"
          ],
          "name": "stderr"
        },
        {
          "output_type": "stream",
          "text": [
            "Time taken for 1 epoch: 152.9317328929901 secs\n",
            "\n",
            "Epoch 83 TRAIN Batch 0 Loss 0.5046 Accuracy 74.1757 AUC 0.8043\n",
            "Epoch 83 TRAIN Batch 50 Loss 0.4962 Accuracy 75.1174 AUC 0.8030\n",
            "Epoch 83 TRAIN Batch 100 Loss 0.4956 Accuracy 75.1424 AUC 0.8029\n",
            "Epoch 83 TRAIN Batch 150 Loss 0.4954 Accuracy 75.1545 AUC 0.8029\n",
            "Epoch 83 TRAIN Batch 200 Loss 0.4956 Accuracy 75.1432 AUC 0.8028\n",
            "Epoch 83 TRAIN Batch 250 Loss 0.4961 Accuracy 75.1219 AUC 0.8025\n",
            "Epoch 83 TRAIN Batch 300 Loss 0.4959 Accuracy 75.1388 AUC 0.8027\n",
            "Epoch 83 TRAIN Batch 350 Loss 0.4958 Accuracy 75.1504 AUC 0.8026\n",
            "Epoch 83 TRAIN Batch 400 Loss 0.4958 Accuracy 75.1494 AUC 0.8027\n",
            "Epoch 83 TRAIN Batch 450 Loss 0.4960 Accuracy 75.1284 AUC 0.8026\n",
            "Epoch 83 TRAIN Batch 500 Loss 0.4961 Accuracy 75.1179 AUC 0.8025\n",
            "Epoch 83 TRAIN Batch 550 Loss 0.4964 Accuracy 75.1018 AUC 0.8024\n",
            "Epoch 83 TRAIN Batch 600 Loss 0.4964 Accuracy 75.1006 AUC 0.8025\n",
            "Epoch 83 TRAIN Batch 650 Loss 0.4963 Accuracy 75.1041 AUC 0.8025\n",
            "Epoch 83 TRAIN Batch 700 Loss 0.4962 Accuracy 75.1063 AUC 0.8025\n",
            "Epoch 83 TRAIN Batch 750 Loss 0.4963 Accuracy 75.0998 AUC 0.8025\n"
          ],
          "name": "stdout"
        },
        {
          "output_type": "stream",
          "text": [
            "27-12 19:22 root         INFO     Epoch TRAIN 83 Loss 0.4963 Accuracy 75.1006 AUC 0.8025\n"
          ],
          "name": "stderr"
        },
        {
          "output_type": "stream",
          "text": [
            "Time taken for 1 epoch: 152.05057787895203 secs\n",
            "\n",
            "Epoch 84 TRAIN Batch 0 Loss 0.4956 Accuracy 75.3324 AUC 0.8048\n",
            "Epoch 84 TRAIN Batch 50 Loss 0.4956 Accuracy 75.1780 AUC 0.8030\n",
            "Epoch 84 TRAIN Batch 100 Loss 0.4954 Accuracy 75.1972 AUC 0.8032\n",
            "Epoch 84 TRAIN Batch 150 Loss 0.4954 Accuracy 75.1837 AUC 0.8033\n",
            "Epoch 84 TRAIN Batch 200 Loss 0.4956 Accuracy 75.1452 AUC 0.8031\n",
            "Epoch 84 TRAIN Batch 250 Loss 0.4957 Accuracy 75.1370 AUC 0.8029\n",
            "Epoch 84 TRAIN Batch 300 Loss 0.4958 Accuracy 75.1270 AUC 0.8029\n",
            "Epoch 84 TRAIN Batch 350 Loss 0.4958 Accuracy 75.1258 AUC 0.8027\n",
            "Epoch 84 TRAIN Batch 400 Loss 0.4957 Accuracy 75.1348 AUC 0.8028\n",
            "Epoch 84 TRAIN Batch 450 Loss 0.4959 Accuracy 75.1178 AUC 0.8027\n",
            "Epoch 84 TRAIN Batch 500 Loss 0.4960 Accuracy 75.1143 AUC 0.8027\n",
            "Epoch 84 TRAIN Batch 550 Loss 0.4960 Accuracy 75.1098 AUC 0.8026\n",
            "Epoch 84 TRAIN Batch 600 Loss 0.4961 Accuracy 75.1096 AUC 0.8026\n",
            "Epoch 84 TRAIN Batch 650 Loss 0.4962 Accuracy 75.1001 AUC 0.8026\n",
            "Epoch 84 TRAIN Batch 700 Loss 0.4961 Accuracy 75.1126 AUC 0.8026\n",
            "Epoch 84 TRAIN Batch 750 Loss 0.4961 Accuracy 75.1067 AUC 0.8026\n"
          ],
          "name": "stdout"
        },
        {
          "output_type": "stream",
          "text": [
            "27-12 19:25 root         INFO     Epoch TRAIN 84 Loss 0.4961 Accuracy 75.1017 AUC 0.8026\n"
          ],
          "name": "stderr"
        },
        {
          "output_type": "stream",
          "text": [
            "Time taken for 1 epoch: 152.68257999420166 secs\n",
            "\n",
            "Epoch 85 TRAIN Batch 0 Loss 0.5070 Accuracy 74.3900 AUC 0.7902\n",
            "Epoch 85 TRAIN Batch 50 Loss 0.4976 Accuracy 75.0483 AUC 0.8013\n",
            "Epoch 85 TRAIN Batch 100 Loss 0.4964 Accuracy 75.1307 AUC 0.8024\n",
            "Epoch 85 TRAIN Batch 150 Loss 0.4964 Accuracy 75.1186 AUC 0.8021\n",
            "Epoch 85 TRAIN Batch 200 Loss 0.4965 Accuracy 75.1076 AUC 0.8021\n",
            "Epoch 85 TRAIN Batch 250 Loss 0.4968 Accuracy 75.0774 AUC 0.8019\n",
            "Epoch 85 TRAIN Batch 300 Loss 0.4966 Accuracy 75.0910 AUC 0.8021\n",
            "Epoch 85 TRAIN Batch 350 Loss 0.4967 Accuracy 75.0837 AUC 0.8022\n",
            "Epoch 85 TRAIN Batch 400 Loss 0.4964 Accuracy 75.1039 AUC 0.8024\n",
            "Epoch 85 TRAIN Batch 450 Loss 0.4963 Accuracy 75.1110 AUC 0.8024\n",
            "Epoch 85 TRAIN Batch 500 Loss 0.4963 Accuracy 75.1118 AUC 0.8024\n",
            "Epoch 85 TRAIN Batch 550 Loss 0.4965 Accuracy 75.1035 AUC 0.8024\n",
            "Epoch 85 TRAIN Batch 600 Loss 0.4966 Accuracy 75.0900 AUC 0.8023\n",
            "Epoch 85 TRAIN Batch 650 Loss 0.4967 Accuracy 75.0869 AUC 0.8023\n",
            "Epoch 85 TRAIN Batch 700 Loss 0.4966 Accuracy 75.0917 AUC 0.8023\n",
            "Epoch 85 TRAIN Batch 750 Loss 0.4967 Accuracy 75.0847 AUC 0.8024\n"
          ],
          "name": "stdout"
        },
        {
          "output_type": "stream",
          "text": [
            "27-12 19:27 root         INFO     Epoch TRAIN 85 Loss 0.4967 Accuracy 75.0797 AUC 0.8023\n"
          ],
          "name": "stderr"
        },
        {
          "output_type": "stream",
          "text": [
            "Epoch 85 VAL Batch 0 Loss 0.4951 Accuracy 75.2282 AUC 0.7972\n",
            "Epoch 85 VAL Batch 50 Loss 0.4975 Accuracy 75.1021 AUC 0.8008\n",
            "Epoch 85 VAL Batch 100 Loss 0.4960 Accuracy 75.1920 AUC 0.8018\n",
            "Epoch 85 VAL Batch 150 Loss 0.4959 Accuracy 75.1976 AUC 0.8019\n",
            "Epoch 85 VAL Batch 200 Loss 0.4958 Accuracy 75.2023 AUC 0.8021\n",
            "Epoch 85 VAL Batch 250 Loss 0.4962 Accuracy 75.1663 AUC 0.8020\n",
            "Epoch 85 VAL Batch 300 Loss 0.4967 Accuracy 75.1280 AUC 0.8018\n",
            "Epoch 85 VAL Batch 350 Loss 0.4969 Accuracy 75.1080 AUC 0.8018\n",
            "Epoch 85 VAL Batch 400 Loss 0.4971 Accuracy 75.0989 AUC 0.8016\n",
            "Epoch 85 VAL Batch 450 Loss 0.4971 Accuracy 75.1004 AUC 0.8016\n",
            "Epoch 85 VAL Batch 500 Loss 0.4971 Accuracy 75.0995 AUC 0.8016\n",
            "Epoch 85 VAL Batch 550 Loss 0.4972 Accuracy 75.1020 AUC 0.8015\n",
            "Epoch 85 VAL Batch 600 Loss 0.4970 Accuracy 75.1118 AUC 0.8016\n",
            "Epoch 85 VAL Batch 650 Loss 0.4972 Accuracy 75.1033 AUC 0.8015\n",
            "Epoch 85 VAL Batch 700 Loss 0.4970 Accuracy 75.1071 AUC 0.8016\n",
            "Epoch 85 VAL Batch 750 Loss 0.4971 Accuracy 75.1004 AUC 0.8016\n"
          ],
          "name": "stdout"
        },
        {
          "output_type": "stream",
          "text": [
            "27-12 19:28 root         INFO     Epoch VAL 85 Loss 0.4973 Accuracy 75.0901 AUC 0.8016\n",
            "27-12 19:28 root         INFO     Saving checkpoint for epoch 85 at 27-Dec-riiid-1/checkpoints/ckpt-17\n"
          ],
          "name": "stderr"
        },
        {
          "output_type": "stream",
          "text": [
            "Time taken for 1 epoch: 184.96685147285461 secs\n",
            "\n",
            "Epoch 86 TRAIN Batch 0 Loss 0.5056 Accuracy 74.3530 AUC 0.7959\n",
            "Epoch 86 TRAIN Batch 50 Loss 0.4969 Accuracy 75.0622 AUC 0.8018\n",
            "Epoch 86 TRAIN Batch 100 Loss 0.4967 Accuracy 75.0684 AUC 0.8017\n",
            "Epoch 86 TRAIN Batch 150 Loss 0.4960 Accuracy 75.0938 AUC 0.8023\n",
            "Epoch 86 TRAIN Batch 200 Loss 0.4960 Accuracy 75.1058 AUC 0.8023\n",
            "Epoch 86 TRAIN Batch 250 Loss 0.4963 Accuracy 75.0863 AUC 0.8021\n",
            "Epoch 86 TRAIN Batch 300 Loss 0.4962 Accuracy 75.0808 AUC 0.8022\n",
            "Epoch 86 TRAIN Batch 350 Loss 0.4963 Accuracy 75.0791 AUC 0.8023\n",
            "Epoch 86 TRAIN Batch 400 Loss 0.4965 Accuracy 75.0631 AUC 0.8022\n",
            "Epoch 86 TRAIN Batch 450 Loss 0.4963 Accuracy 75.0848 AUC 0.8024\n",
            "Epoch 86 TRAIN Batch 500 Loss 0.4963 Accuracy 75.0802 AUC 0.8024\n",
            "Epoch 86 TRAIN Batch 550 Loss 0.4964 Accuracy 75.0759 AUC 0.8023\n",
            "Epoch 86 TRAIN Batch 600 Loss 0.4963 Accuracy 75.0827 AUC 0.8023\n",
            "Epoch 86 TRAIN Batch 650 Loss 0.4962 Accuracy 75.0845 AUC 0.8024\n",
            "Epoch 86 TRAIN Batch 700 Loss 0.4962 Accuracy 75.0837 AUC 0.8024\n",
            "Epoch 86 TRAIN Batch 750 Loss 0.4963 Accuracy 75.0751 AUC 0.8024\n"
          ],
          "name": "stdout"
        },
        {
          "output_type": "stream",
          "text": [
            "27-12 19:30 root         INFO     Epoch TRAIN 86 Loss 0.4963 Accuracy 75.0777 AUC 0.8024\n"
          ],
          "name": "stderr"
        },
        {
          "output_type": "stream",
          "text": [
            "Time taken for 1 epoch: 155.98556351661682 secs\n",
            "\n",
            "Epoch 87 TRAIN Batch 0 Loss 0.4990 Accuracy 74.8377 AUC 0.8045\n",
            "Epoch 87 TRAIN Batch 50 Loss 0.4966 Accuracy 75.0434 AUC 0.8020\n",
            "Epoch 87 TRAIN Batch 100 Loss 0.4959 Accuracy 75.1068 AUC 0.8029\n",
            "Epoch 87 TRAIN Batch 150 Loss 0.4956 Accuracy 75.1402 AUC 0.8027\n",
            "Epoch 87 TRAIN Batch 200 Loss 0.4958 Accuracy 75.1269 AUC 0.8027\n",
            "Epoch 87 TRAIN Batch 250 Loss 0.4956 Accuracy 75.1419 AUC 0.8029\n",
            "Epoch 87 TRAIN Batch 300 Loss 0.4956 Accuracy 75.1418 AUC 0.8028\n",
            "Epoch 87 TRAIN Batch 350 Loss 0.4955 Accuracy 75.1469 AUC 0.8029\n",
            "Epoch 87 TRAIN Batch 400 Loss 0.4958 Accuracy 75.1222 AUC 0.8025\n",
            "Epoch 87 TRAIN Batch 450 Loss 0.4958 Accuracy 75.1220 AUC 0.8025\n",
            "Epoch 87 TRAIN Batch 500 Loss 0.4960 Accuracy 75.1070 AUC 0.8024\n",
            "Epoch 87 TRAIN Batch 550 Loss 0.4960 Accuracy 75.1061 AUC 0.8025\n",
            "Epoch 87 TRAIN Batch 600 Loss 0.4959 Accuracy 75.1129 AUC 0.8026\n",
            "Epoch 87 TRAIN Batch 650 Loss 0.4959 Accuracy 75.1052 AUC 0.8026\n",
            "Epoch 87 TRAIN Batch 700 Loss 0.4960 Accuracy 75.0944 AUC 0.8026\n",
            "Epoch 87 TRAIN Batch 750 Loss 0.4960 Accuracy 75.0945 AUC 0.8026\n"
          ],
          "name": "stdout"
        },
        {
          "output_type": "stream",
          "text": [
            "27-12 19:33 root         INFO     Epoch TRAIN 87 Loss 0.4959 Accuracy 75.1017 AUC 0.8027\n"
          ],
          "name": "stderr"
        },
        {
          "output_type": "stream",
          "text": [
            "Time taken for 1 epoch: 152.55694150924683 secs\n",
            "\n",
            "Epoch 88 TRAIN Batch 0 Loss 0.4864 Accuracy 75.6346 AUC 0.8084\n",
            "Epoch 88 TRAIN Batch 50 Loss 0.4975 Accuracy 75.0067 AUC 0.8014\n",
            "Epoch 88 TRAIN Batch 100 Loss 0.4974 Accuracy 74.9863 AUC 0.8014\n",
            "Epoch 88 TRAIN Batch 150 Loss 0.4968 Accuracy 75.0434 AUC 0.8019\n",
            "Epoch 88 TRAIN Batch 200 Loss 0.4961 Accuracy 75.0947 AUC 0.8025\n",
            "Epoch 88 TRAIN Batch 250 Loss 0.4960 Accuracy 75.0975 AUC 0.8025\n",
            "Epoch 88 TRAIN Batch 300 Loss 0.4961 Accuracy 75.0968 AUC 0.8027\n",
            "Epoch 88 TRAIN Batch 350 Loss 0.4959 Accuracy 75.1082 AUC 0.8027\n",
            "Epoch 88 TRAIN Batch 400 Loss 0.4958 Accuracy 75.1163 AUC 0.8028\n",
            "Epoch 88 TRAIN Batch 450 Loss 0.4959 Accuracy 75.1086 AUC 0.8027\n",
            "Epoch 88 TRAIN Batch 500 Loss 0.4960 Accuracy 75.1037 AUC 0.8026\n",
            "Epoch 88 TRAIN Batch 550 Loss 0.4960 Accuracy 75.1024 AUC 0.8026\n",
            "Epoch 88 TRAIN Batch 600 Loss 0.4960 Accuracy 75.0963 AUC 0.8026\n",
            "Epoch 88 TRAIN Batch 650 Loss 0.4962 Accuracy 75.0861 AUC 0.8026\n",
            "Epoch 88 TRAIN Batch 700 Loss 0.4962 Accuracy 75.0786 AUC 0.8026\n",
            "Epoch 88 TRAIN Batch 750 Loss 0.4961 Accuracy 75.0842 AUC 0.8026\n"
          ],
          "name": "stdout"
        },
        {
          "output_type": "stream",
          "text": [
            "27-12 19:35 root         INFO     Epoch TRAIN 88 Loss 0.4960 Accuracy 75.0959 AUC 0.8027\n"
          ],
          "name": "stderr"
        },
        {
          "output_type": "stream",
          "text": [
            "Time taken for 1 epoch: 153.13561367988586 secs\n",
            "\n",
            "Epoch 89 TRAIN Batch 0 Loss 0.5053 Accuracy 74.0507 AUC 0.7999\n",
            "Epoch 89 TRAIN Batch 50 Loss 0.4961 Accuracy 75.0106 AUC 0.8020\n",
            "Epoch 89 TRAIN Batch 100 Loss 0.4963 Accuracy 75.0308 AUC 0.8022\n",
            "Epoch 89 TRAIN Batch 150 Loss 0.4965 Accuracy 75.0365 AUC 0.8024\n",
            "Epoch 89 TRAIN Batch 200 Loss 0.4968 Accuracy 75.0351 AUC 0.8023\n",
            "Epoch 89 TRAIN Batch 250 Loss 0.4968 Accuracy 75.0372 AUC 0.8021\n",
            "Epoch 89 TRAIN Batch 300 Loss 0.4969 Accuracy 75.0215 AUC 0.8020\n",
            "Epoch 89 TRAIN Batch 350 Loss 0.4971 Accuracy 75.0246 AUC 0.8021\n",
            "Epoch 89 TRAIN Batch 400 Loss 0.4968 Accuracy 75.0459 AUC 0.8022\n",
            "Epoch 89 TRAIN Batch 450 Loss 0.4966 Accuracy 75.0613 AUC 0.8023\n",
            "Epoch 89 TRAIN Batch 500 Loss 0.4964 Accuracy 75.0780 AUC 0.8025\n",
            "Epoch 89 TRAIN Batch 550 Loss 0.4964 Accuracy 75.0758 AUC 0.8025\n",
            "Epoch 89 TRAIN Batch 600 Loss 0.4963 Accuracy 75.0835 AUC 0.8025\n",
            "Epoch 89 TRAIN Batch 650 Loss 0.4963 Accuracy 75.0814 AUC 0.8025\n",
            "Epoch 89 TRAIN Batch 700 Loss 0.4963 Accuracy 75.0809 AUC 0.8024\n",
            "Epoch 89 TRAIN Batch 750 Loss 0.4963 Accuracy 75.0767 AUC 0.8024\n"
          ],
          "name": "stdout"
        },
        {
          "output_type": "stream",
          "text": [
            "27-12 19:38 root         INFO     Epoch TRAIN 89 Loss 0.4962 Accuracy 75.0843 AUC 0.8024\n"
          ],
          "name": "stderr"
        },
        {
          "output_type": "stream",
          "text": [
            "Time taken for 1 epoch: 152.86872744560242 secs\n",
            "\n",
            "Epoch 90 TRAIN Batch 0 Loss 0.5132 Accuracy 73.2842 AUC 0.7910\n",
            "Epoch 90 TRAIN Batch 50 Loss 0.4975 Accuracy 74.9504 AUC 0.8012\n",
            "Epoch 90 TRAIN Batch 100 Loss 0.4965 Accuracy 75.0511 AUC 0.8022\n",
            "Epoch 90 TRAIN Batch 150 Loss 0.4961 Accuracy 75.0911 AUC 0.8026\n",
            "Epoch 90 TRAIN Batch 200 Loss 0.4961 Accuracy 75.1007 AUC 0.8025\n",
            "Epoch 90 TRAIN Batch 250 Loss 0.4962 Accuracy 75.0893 AUC 0.8024\n",
            "Epoch 90 TRAIN Batch 300 Loss 0.4967 Accuracy 75.0639 AUC 0.8023\n",
            "Epoch 90 TRAIN Batch 350 Loss 0.4965 Accuracy 75.0757 AUC 0.8025\n",
            "Epoch 90 TRAIN Batch 400 Loss 0.4964 Accuracy 75.0821 AUC 0.8025\n",
            "Epoch 90 TRAIN Batch 450 Loss 0.4965 Accuracy 75.0827 AUC 0.8025\n",
            "Epoch 90 TRAIN Batch 500 Loss 0.4964 Accuracy 75.0773 AUC 0.8026\n",
            "Epoch 90 TRAIN Batch 550 Loss 0.4964 Accuracy 75.0852 AUC 0.8026\n",
            "Epoch 90 TRAIN Batch 600 Loss 0.4963 Accuracy 75.0943 AUC 0.8026\n",
            "Epoch 90 TRAIN Batch 650 Loss 0.4963 Accuracy 75.0962 AUC 0.8026\n",
            "Epoch 90 TRAIN Batch 700 Loss 0.4963 Accuracy 75.0952 AUC 0.8025\n",
            "Epoch 90 TRAIN Batch 750 Loss 0.4964 Accuracy 75.0890 AUC 0.8025\n"
          ],
          "name": "stdout"
        },
        {
          "output_type": "stream",
          "text": [
            "27-12 19:40 root         INFO     Epoch TRAIN 90 Loss 0.4963 Accuracy 75.0906 AUC 0.8025\n"
          ],
          "name": "stderr"
        },
        {
          "output_type": "stream",
          "text": [
            "Epoch 90 VAL Batch 0 Loss 0.4941 Accuracy 75.3622 AUC 0.7980\n",
            "Epoch 90 VAL Batch 50 Loss 0.4973 Accuracy 75.0821 AUC 0.8008\n",
            "Epoch 90 VAL Batch 100 Loss 0.4958 Accuracy 75.1694 AUC 0.8019\n",
            "Epoch 90 VAL Batch 150 Loss 0.4957 Accuracy 75.1702 AUC 0.8019\n",
            "Epoch 90 VAL Batch 200 Loss 0.4957 Accuracy 75.1761 AUC 0.8021\n",
            "Epoch 90 VAL Batch 250 Loss 0.4960 Accuracy 75.1434 AUC 0.8021\n",
            "Epoch 90 VAL Batch 300 Loss 0.4965 Accuracy 75.1054 AUC 0.8019\n",
            "Epoch 90 VAL Batch 350 Loss 0.4967 Accuracy 75.0861 AUC 0.8018\n",
            "Epoch 90 VAL Batch 400 Loss 0.4969 Accuracy 75.0766 AUC 0.8017\n",
            "Epoch 90 VAL Batch 450 Loss 0.4969 Accuracy 75.0802 AUC 0.8016\n",
            "Epoch 90 VAL Batch 500 Loss 0.4969 Accuracy 75.0790 AUC 0.8017\n",
            "Epoch 90 VAL Batch 550 Loss 0.4969 Accuracy 75.0789 AUC 0.8016\n",
            "Epoch 90 VAL Batch 600 Loss 0.4968 Accuracy 75.0876 AUC 0.8017\n",
            "Epoch 90 VAL Batch 650 Loss 0.4970 Accuracy 75.0773 AUC 0.8016\n",
            "Epoch 90 VAL Batch 700 Loss 0.4968 Accuracy 75.0824 AUC 0.8017\n",
            "Epoch 90 VAL Batch 750 Loss 0.4969 Accuracy 75.0777 AUC 0.8017\n"
          ],
          "name": "stdout"
        },
        {
          "output_type": "stream",
          "text": [
            "27-12 19:41 root         INFO     Epoch VAL 90 Loss 0.4971 Accuracy 75.0687 AUC 0.8017\n",
            "27-12 19:41 root         INFO     Saving checkpoint for epoch 90 at 27-Dec-riiid-1/checkpoints/ckpt-18\n"
          ],
          "name": "stderr"
        },
        {
          "output_type": "stream",
          "text": [
            "Time taken for 1 epoch: 186.43798279762268 secs\n",
            "\n",
            "Epoch 91 TRAIN Batch 0 Loss 0.4744 Accuracy 76.7702 AUC 0.8115\n",
            "Epoch 91 TRAIN Batch 50 Loss 0.4956 Accuracy 75.1305 AUC 0.8033\n",
            "Epoch 91 TRAIN Batch 100 Loss 0.4954 Accuracy 75.1512 AUC 0.8034\n",
            "Epoch 91 TRAIN Batch 150 Loss 0.4956 Accuracy 75.1032 AUC 0.8034\n",
            "Epoch 91 TRAIN Batch 200 Loss 0.4954 Accuracy 75.1297 AUC 0.8033\n",
            "Epoch 91 TRAIN Batch 250 Loss 0.4957 Accuracy 75.1006 AUC 0.8032\n",
            "Epoch 91 TRAIN Batch 300 Loss 0.4958 Accuracy 75.0929 AUC 0.8030\n",
            "Epoch 91 TRAIN Batch 350 Loss 0.4959 Accuracy 75.0901 AUC 0.8030\n",
            "Epoch 91 TRAIN Batch 400 Loss 0.4960 Accuracy 75.0768 AUC 0.8029\n",
            "Epoch 91 TRAIN Batch 450 Loss 0.4962 Accuracy 75.0745 AUC 0.8027\n",
            "Epoch 91 TRAIN Batch 500 Loss 0.4962 Accuracy 75.0746 AUC 0.8027\n",
            "Epoch 91 TRAIN Batch 550 Loss 0.4961 Accuracy 75.0778 AUC 0.8028\n",
            "Epoch 91 TRAIN Batch 600 Loss 0.4963 Accuracy 75.0619 AUC 0.8027\n",
            "Epoch 91 TRAIN Batch 650 Loss 0.4964 Accuracy 75.0537 AUC 0.8026\n",
            "Epoch 91 TRAIN Batch 700 Loss 0.4966 Accuracy 75.0442 AUC 0.8025\n",
            "Epoch 91 TRAIN Batch 750 Loss 0.4965 Accuracy 75.0468 AUC 0.8025\n"
          ],
          "name": "stdout"
        },
        {
          "output_type": "stream",
          "text": [
            "27-12 19:44 root         INFO     Epoch TRAIN 91 Loss 0.4966 Accuracy 75.0469 AUC 0.8025\n"
          ],
          "name": "stderr"
        },
        {
          "output_type": "stream",
          "text": [
            "Time taken for 1 epoch: 156.4178330898285 secs\n",
            "\n",
            "Epoch 92 TRAIN Batch 0 Loss 0.5199 Accuracy 73.5014 AUC 0.7945\n",
            "Epoch 92 TRAIN Batch 50 Loss 0.4945 Accuracy 75.2666 AUC 0.8039\n",
            "Epoch 92 TRAIN Batch 100 Loss 0.4963 Accuracy 75.1261 AUC 0.8030\n",
            "Epoch 92 TRAIN Batch 150 Loss 0.4959 Accuracy 75.1579 AUC 0.8031\n",
            "Epoch 92 TRAIN Batch 200 Loss 0.4963 Accuracy 75.1319 AUC 0.8031\n",
            "Epoch 92 TRAIN Batch 250 Loss 0.4962 Accuracy 75.1325 AUC 0.8029\n",
            "Epoch 92 TRAIN Batch 300 Loss 0.4963 Accuracy 75.1178 AUC 0.8028\n",
            "Epoch 92 TRAIN Batch 350 Loss 0.4962 Accuracy 75.1263 AUC 0.8028\n",
            "Epoch 92 TRAIN Batch 400 Loss 0.4962 Accuracy 75.1241 AUC 0.8028\n",
            "Epoch 92 TRAIN Batch 450 Loss 0.4962 Accuracy 75.1168 AUC 0.8028\n",
            "Epoch 92 TRAIN Batch 500 Loss 0.4963 Accuracy 75.1028 AUC 0.8027\n",
            "Epoch 92 TRAIN Batch 550 Loss 0.4962 Accuracy 75.1084 AUC 0.8027\n",
            "Epoch 92 TRAIN Batch 600 Loss 0.4962 Accuracy 75.1101 AUC 0.8027\n",
            "Epoch 92 TRAIN Batch 650 Loss 0.4961 Accuracy 75.1162 AUC 0.8028\n",
            "Epoch 92 TRAIN Batch 700 Loss 0.4961 Accuracy 75.1107 AUC 0.8027\n",
            "Epoch 92 TRAIN Batch 750 Loss 0.4961 Accuracy 75.1079 AUC 0.8027\n"
          ],
          "name": "stdout"
        },
        {
          "output_type": "stream",
          "text": [
            "27-12 19:46 root         INFO     Epoch TRAIN 92 Loss 0.4960 Accuracy 75.1091 AUC 0.8028\n"
          ],
          "name": "stderr"
        },
        {
          "output_type": "stream",
          "text": [
            "Time taken for 1 epoch: 157.76722359657288 secs\n",
            "\n",
            "Epoch 93 TRAIN Batch 0 Loss 0.5015 Accuracy 75.1083 AUC 0.7975\n",
            "Epoch 93 TRAIN Batch 50 Loss 0.4971 Accuracy 75.0245 AUC 0.8030\n",
            "Epoch 93 TRAIN Batch 100 Loss 0.4972 Accuracy 75.0218 AUC 0.8026\n",
            "Epoch 93 TRAIN Batch 150 Loss 0.4967 Accuracy 75.0545 AUC 0.8028\n",
            "Epoch 93 TRAIN Batch 200 Loss 0.4968 Accuracy 75.0421 AUC 0.8029\n",
            "Epoch 93 TRAIN Batch 250 Loss 0.4966 Accuracy 75.0595 AUC 0.8029\n",
            "Epoch 93 TRAIN Batch 300 Loss 0.4968 Accuracy 75.0365 AUC 0.8028\n",
            "Epoch 93 TRAIN Batch 350 Loss 0.4966 Accuracy 75.0563 AUC 0.8029\n",
            "Epoch 93 TRAIN Batch 400 Loss 0.4963 Accuracy 75.0740 AUC 0.8031\n",
            "Epoch 93 TRAIN Batch 450 Loss 0.4963 Accuracy 75.0752 AUC 0.8031\n",
            "Epoch 93 TRAIN Batch 500 Loss 0.4961 Accuracy 75.0854 AUC 0.8033\n",
            "Epoch 93 TRAIN Batch 550 Loss 0.4961 Accuracy 75.0807 AUC 0.8032\n",
            "Epoch 93 TRAIN Batch 600 Loss 0.4960 Accuracy 75.0910 AUC 0.8033\n",
            "Epoch 93 TRAIN Batch 650 Loss 0.4961 Accuracy 75.0855 AUC 0.8032\n",
            "Epoch 93 TRAIN Batch 700 Loss 0.4961 Accuracy 75.0881 AUC 0.8032\n",
            "Epoch 93 TRAIN Batch 750 Loss 0.4961 Accuracy 75.0890 AUC 0.8032\n"
          ],
          "name": "stdout"
        },
        {
          "output_type": "stream",
          "text": [
            "27-12 19:49 root         INFO     Epoch TRAIN 93 Loss 0.4961 Accuracy 75.0930 AUC 0.8032\n"
          ],
          "name": "stderr"
        },
        {
          "output_type": "stream",
          "text": [
            "Time taken for 1 epoch: 156.66690611839294 secs\n",
            "\n",
            "Epoch 94 TRAIN Batch 0 Loss 0.5065 Accuracy 74.1426 AUC 0.7963\n",
            "Epoch 94 TRAIN Batch 50 Loss 0.4968 Accuracy 75.0311 AUC 0.8030\n",
            "Epoch 94 TRAIN Batch 100 Loss 0.4957 Accuracy 75.0906 AUC 0.8034\n",
            "Epoch 94 TRAIN Batch 150 Loss 0.4959 Accuracy 75.0941 AUC 0.8028\n",
            "Epoch 94 TRAIN Batch 200 Loss 0.4958 Accuracy 75.1171 AUC 0.8030\n",
            "Epoch 94 TRAIN Batch 250 Loss 0.4955 Accuracy 75.1353 AUC 0.8031\n",
            "Epoch 94 TRAIN Batch 300 Loss 0.4954 Accuracy 75.1341 AUC 0.8031\n",
            "Epoch 94 TRAIN Batch 350 Loss 0.4959 Accuracy 75.1058 AUC 0.8029\n",
            "Epoch 94 TRAIN Batch 400 Loss 0.4959 Accuracy 75.1053 AUC 0.8029\n",
            "Epoch 94 TRAIN Batch 450 Loss 0.4958 Accuracy 75.1087 AUC 0.8030\n",
            "Epoch 94 TRAIN Batch 500 Loss 0.4957 Accuracy 75.1082 AUC 0.8030\n",
            "Epoch 94 TRAIN Batch 550 Loss 0.4957 Accuracy 75.1057 AUC 0.8030\n",
            "Epoch 94 TRAIN Batch 600 Loss 0.4959 Accuracy 75.0985 AUC 0.8029\n",
            "Epoch 94 TRAIN Batch 650 Loss 0.4959 Accuracy 75.1055 AUC 0.8029\n",
            "Epoch 94 TRAIN Batch 700 Loss 0.4961 Accuracy 75.0928 AUC 0.8028\n",
            "Epoch 94 TRAIN Batch 750 Loss 0.4961 Accuracy 75.0916 AUC 0.8028\n"
          ],
          "name": "stdout"
        },
        {
          "output_type": "stream",
          "text": [
            "27-12 19:51 root         INFO     Epoch TRAIN 94 Loss 0.4960 Accuracy 75.0926 AUC 0.8029\n"
          ],
          "name": "stderr"
        },
        {
          "output_type": "stream",
          "text": [
            "Time taken for 1 epoch: 155.23010563850403 secs\n",
            "\n",
            "Epoch 95 TRAIN Batch 0 Loss 0.4976 Accuracy 75.0475 AUC 0.7998\n",
            "Epoch 95 TRAIN Batch 50 Loss 0.4948 Accuracy 75.1333 AUC 0.8043\n",
            "Epoch 95 TRAIN Batch 100 Loss 0.4936 Accuracy 75.2035 AUC 0.8042\n",
            "Epoch 95 TRAIN Batch 150 Loss 0.4948 Accuracy 75.1467 AUC 0.8037\n",
            "Epoch 95 TRAIN Batch 200 Loss 0.4946 Accuracy 75.1603 AUC 0.8037\n",
            "Epoch 95 TRAIN Batch 250 Loss 0.4951 Accuracy 75.1278 AUC 0.8035\n",
            "Epoch 95 TRAIN Batch 300 Loss 0.4952 Accuracy 75.1314 AUC 0.8034\n",
            "Epoch 95 TRAIN Batch 350 Loss 0.4952 Accuracy 75.1358 AUC 0.8033\n",
            "Epoch 95 TRAIN Batch 400 Loss 0.4953 Accuracy 75.1310 AUC 0.8033\n",
            "Epoch 95 TRAIN Batch 450 Loss 0.4953 Accuracy 75.1334 AUC 0.8035\n",
            "Epoch 95 TRAIN Batch 500 Loss 0.4955 Accuracy 75.1198 AUC 0.8033\n",
            "Epoch 95 TRAIN Batch 550 Loss 0.4955 Accuracy 75.1208 AUC 0.8033\n",
            "Epoch 95 TRAIN Batch 600 Loss 0.4956 Accuracy 75.1131 AUC 0.8032\n",
            "Epoch 95 TRAIN Batch 650 Loss 0.4956 Accuracy 75.1129 AUC 0.8031\n",
            "Epoch 95 TRAIN Batch 700 Loss 0.4957 Accuracy 75.1094 AUC 0.8030\n",
            "Epoch 95 TRAIN Batch 750 Loss 0.4958 Accuracy 75.1058 AUC 0.8031\n"
          ],
          "name": "stdout"
        },
        {
          "output_type": "stream",
          "text": [
            "27-12 19:54 root         INFO     Epoch TRAIN 95 Loss 0.4958 Accuracy 75.1027 AUC 0.8030\n"
          ],
          "name": "stderr"
        },
        {
          "output_type": "stream",
          "text": [
            "Epoch 95 VAL Batch 0 Loss 0.4931 Accuracy 75.0607 AUC 0.7989\n",
            "Epoch 95 VAL Batch 50 Loss 0.4975 Accuracy 75.1035 AUC 0.8008\n",
            "Epoch 95 VAL Batch 100 Loss 0.4960 Accuracy 75.1766 AUC 0.8019\n",
            "Epoch 95 VAL Batch 150 Loss 0.4959 Accuracy 75.1799 AUC 0.8019\n",
            "Epoch 95 VAL Batch 200 Loss 0.4959 Accuracy 75.1779 AUC 0.8020\n",
            "Epoch 95 VAL Batch 250 Loss 0.4962 Accuracy 75.1525 AUC 0.8020\n",
            "Epoch 95 VAL Batch 300 Loss 0.4967 Accuracy 75.1160 AUC 0.8018\n",
            "Epoch 95 VAL Batch 350 Loss 0.4969 Accuracy 75.0970 AUC 0.8018\n",
            "Epoch 95 VAL Batch 400 Loss 0.4971 Accuracy 75.0930 AUC 0.8016\n",
            "Epoch 95 VAL Batch 450 Loss 0.4971 Accuracy 75.0989 AUC 0.8016\n",
            "Epoch 95 VAL Batch 500 Loss 0.4971 Accuracy 75.1002 AUC 0.8016\n",
            "Epoch 95 VAL Batch 550 Loss 0.4972 Accuracy 75.0996 AUC 0.8015\n",
            "Epoch 95 VAL Batch 600 Loss 0.4970 Accuracy 75.1096 AUC 0.8016\n",
            "Epoch 95 VAL Batch 650 Loss 0.4972 Accuracy 75.1002 AUC 0.8015\n",
            "Epoch 95 VAL Batch 700 Loss 0.4971 Accuracy 75.1082 AUC 0.8016\n",
            "Epoch 95 VAL Batch 750 Loss 0.4971 Accuracy 75.1038 AUC 0.8016\n"
          ],
          "name": "stdout"
        },
        {
          "output_type": "stream",
          "text": [
            "27-12 19:55 root         INFO     Epoch VAL 95 Loss 0.4973 Accuracy 75.0940 AUC 0.8016\n"
          ],
          "name": "stderr"
        },
        {
          "output_type": "stream",
          "text": [
            "Time taken for 1 epoch: 186.96574759483337 secs\n",
            "\n",
            "Epoch 96 TRAIN Batch 0 Loss 0.4949 Accuracy 75.0309 AUC 0.8089\n",
            "Epoch 96 TRAIN Batch 50 Loss 0.4955 Accuracy 75.1100 AUC 0.8031\n",
            "Epoch 96 TRAIN Batch 100 Loss 0.4966 Accuracy 75.0632 AUC 0.8024\n",
            "Epoch 96 TRAIN Batch 150 Loss 0.4964 Accuracy 75.0848 AUC 0.8023\n",
            "Epoch 96 TRAIN Batch 200 Loss 0.4962 Accuracy 75.0966 AUC 0.8025\n",
            "Epoch 96 TRAIN Batch 250 Loss 0.4963 Accuracy 75.0846 AUC 0.8026\n",
            "Epoch 96 TRAIN Batch 300 Loss 0.4967 Accuracy 75.0582 AUC 0.8025\n",
            "Epoch 96 TRAIN Batch 350 Loss 0.4963 Accuracy 75.0812 AUC 0.8027\n",
            "Epoch 96 TRAIN Batch 400 Loss 0.4963 Accuracy 75.0827 AUC 0.8027\n",
            "Epoch 96 TRAIN Batch 450 Loss 0.4963 Accuracy 75.0788 AUC 0.8028\n",
            "Epoch 96 TRAIN Batch 500 Loss 0.4966 Accuracy 75.0580 AUC 0.8028\n",
            "Epoch 96 TRAIN Batch 550 Loss 0.4966 Accuracy 75.0578 AUC 0.8028\n",
            "Epoch 96 TRAIN Batch 600 Loss 0.4966 Accuracy 75.0542 AUC 0.8027\n",
            "Epoch 96 TRAIN Batch 650 Loss 0.4967 Accuracy 75.0514 AUC 0.8027\n",
            "Epoch 96 TRAIN Batch 700 Loss 0.4966 Accuracy 75.0570 AUC 0.8027\n",
            "Epoch 96 TRAIN Batch 750 Loss 0.4966 Accuracy 75.0526 AUC 0.8026\n"
          ],
          "name": "stdout"
        },
        {
          "output_type": "stream",
          "text": [
            "27-12 19:57 root         INFO     Epoch TRAIN 96 Loss 0.4965 Accuracy 75.0572 AUC 0.8027\n"
          ],
          "name": "stderr"
        },
        {
          "output_type": "stream",
          "text": [
            "Time taken for 1 epoch: 153.8514745235443 secs\n",
            "\n",
            "Epoch 97 TRAIN Batch 0 Loss 0.4978 Accuracy 74.9959 AUC 0.8021\n",
            "Epoch 97 TRAIN Batch 50 Loss 0.4965 Accuracy 75.0449 AUC 0.8034\n",
            "Epoch 97 TRAIN Batch 100 Loss 0.4962 Accuracy 75.0793 AUC 0.8032\n",
            "Epoch 97 TRAIN Batch 150 Loss 0.4957 Accuracy 75.1223 AUC 0.8034\n",
            "Epoch 97 TRAIN Batch 200 Loss 0.4960 Accuracy 75.0950 AUC 0.8030\n",
            "Epoch 97 TRAIN Batch 250 Loss 0.4962 Accuracy 75.0789 AUC 0.8031\n",
            "Epoch 97 TRAIN Batch 300 Loss 0.4958 Accuracy 75.0991 AUC 0.8034\n",
            "Epoch 97 TRAIN Batch 350 Loss 0.4958 Accuracy 75.1110 AUC 0.8033\n",
            "Epoch 97 TRAIN Batch 400 Loss 0.4959 Accuracy 75.1055 AUC 0.8032\n",
            "Epoch 97 TRAIN Batch 450 Loss 0.4958 Accuracy 75.1082 AUC 0.8032\n",
            "Epoch 97 TRAIN Batch 500 Loss 0.4959 Accuracy 75.1044 AUC 0.8031\n",
            "Epoch 97 TRAIN Batch 550 Loss 0.4959 Accuracy 75.1082 AUC 0.8032\n",
            "Epoch 97 TRAIN Batch 600 Loss 0.4958 Accuracy 75.1157 AUC 0.8034\n",
            "Epoch 97 TRAIN Batch 650 Loss 0.4957 Accuracy 75.1198 AUC 0.8034\n",
            "Epoch 97 TRAIN Batch 700 Loss 0.4957 Accuracy 75.1192 AUC 0.8034\n",
            "Epoch 97 TRAIN Batch 750 Loss 0.4957 Accuracy 75.1192 AUC 0.8034\n"
          ],
          "name": "stdout"
        },
        {
          "output_type": "stream",
          "text": [
            "27-12 20:00 root         INFO     Epoch TRAIN 97 Loss 0.4959 Accuracy 75.1078 AUC 0.8034\n"
          ],
          "name": "stderr"
        },
        {
          "output_type": "stream",
          "text": [
            "Time taken for 1 epoch: 155.83923196792603 secs\n",
            "\n",
            "Epoch 98 TRAIN Batch 0 Loss 0.4916 Accuracy 75.9264 AUC 0.8020\n",
            "Epoch 98 TRAIN Batch 50 Loss 0.4944 Accuracy 75.2398 AUC 0.8042\n",
            "Epoch 98 TRAIN Batch 100 Loss 0.4952 Accuracy 75.1316 AUC 0.8036\n",
            "Epoch 98 TRAIN Batch 150 Loss 0.4959 Accuracy 75.0934 AUC 0.8029\n",
            "Epoch 98 TRAIN Batch 200 Loss 0.4960 Accuracy 75.1056 AUC 0.8029\n",
            "Epoch 98 TRAIN Batch 250 Loss 0.4956 Accuracy 75.1184 AUC 0.8032\n",
            "Epoch 98 TRAIN Batch 300 Loss 0.4955 Accuracy 75.1246 AUC 0.8033\n",
            "Epoch 98 TRAIN Batch 350 Loss 0.4954 Accuracy 75.1482 AUC 0.8034\n",
            "Epoch 98 TRAIN Batch 400 Loss 0.4954 Accuracy 75.1475 AUC 0.8034\n",
            "Epoch 98 TRAIN Batch 450 Loss 0.4955 Accuracy 75.1364 AUC 0.8033\n",
            "Epoch 98 TRAIN Batch 500 Loss 0.4956 Accuracy 75.1339 AUC 0.8033\n",
            "Epoch 98 TRAIN Batch 550 Loss 0.4956 Accuracy 75.1209 AUC 0.8032\n",
            "Epoch 98 TRAIN Batch 600 Loss 0.4955 Accuracy 75.1268 AUC 0.8032\n",
            "Epoch 98 TRAIN Batch 650 Loss 0.4954 Accuracy 75.1308 AUC 0.8032\n",
            "Epoch 98 TRAIN Batch 700 Loss 0.4955 Accuracy 75.1274 AUC 0.8032\n",
            "Epoch 98 TRAIN Batch 750 Loss 0.4956 Accuracy 75.1272 AUC 0.8032\n"
          ],
          "name": "stdout"
        },
        {
          "output_type": "stream",
          "text": [
            "27-12 20:02 root         INFO     Epoch TRAIN 98 Loss 0.4956 Accuracy 75.1238 AUC 0.8031\n"
          ],
          "name": "stderr"
        },
        {
          "output_type": "stream",
          "text": [
            "Time taken for 1 epoch: 153.76683592796326 secs\n",
            "\n",
            "Epoch 99 TRAIN Batch 0 Loss 0.4939 Accuracy 75.2764 AUC 0.8053\n",
            "Epoch 99 TRAIN Batch 50 Loss 0.4952 Accuracy 75.1905 AUC 0.8033\n",
            "Epoch 99 TRAIN Batch 100 Loss 0.4959 Accuracy 75.1268 AUC 0.8032\n",
            "Epoch 99 TRAIN Batch 150 Loss 0.4957 Accuracy 75.1501 AUC 0.8036\n",
            "Epoch 99 TRAIN Batch 200 Loss 0.4956 Accuracy 75.1519 AUC 0.8037\n",
            "Epoch 99 TRAIN Batch 250 Loss 0.4952 Accuracy 75.1681 AUC 0.8037\n",
            "Epoch 99 TRAIN Batch 300 Loss 0.4951 Accuracy 75.1759 AUC 0.8037\n",
            "Epoch 99 TRAIN Batch 350 Loss 0.4951 Accuracy 75.1697 AUC 0.8037\n",
            "Epoch 99 TRAIN Batch 400 Loss 0.4952 Accuracy 75.1640 AUC 0.8036\n",
            "Epoch 99 TRAIN Batch 450 Loss 0.4952 Accuracy 75.1711 AUC 0.8035\n",
            "Epoch 99 TRAIN Batch 500 Loss 0.4952 Accuracy 75.1694 AUC 0.8036\n",
            "Epoch 99 TRAIN Batch 550 Loss 0.4953 Accuracy 75.1628 AUC 0.8035\n",
            "Epoch 99 TRAIN Batch 600 Loss 0.4953 Accuracy 75.1546 AUC 0.8034\n",
            "Epoch 99 TRAIN Batch 650 Loss 0.4954 Accuracy 75.1514 AUC 0.8034\n",
            "Epoch 99 TRAIN Batch 700 Loss 0.4953 Accuracy 75.1559 AUC 0.8034\n",
            "Epoch 99 TRAIN Batch 750 Loss 0.4954 Accuracy 75.1477 AUC 0.8034\n"
          ],
          "name": "stdout"
        },
        {
          "output_type": "stream",
          "text": [
            "27-12 20:05 root         INFO     Epoch TRAIN 99 Loss 0.4955 Accuracy 75.1343 AUC 0.8033\n"
          ],
          "name": "stderr"
        },
        {
          "output_type": "stream",
          "text": [
            "Time taken for 1 epoch: 154.7572238445282 secs\n",
            "\n",
            "Epoch 100 TRAIN Batch 0 Loss 0.4935 Accuracy 75.3674 AUC 0.8072\n",
            "Epoch 100 TRAIN Batch 50 Loss 0.4956 Accuracy 75.1611 AUC 0.8029\n",
            "Epoch 100 TRAIN Batch 100 Loss 0.4961 Accuracy 75.1242 AUC 0.8028\n",
            "Epoch 100 TRAIN Batch 150 Loss 0.4959 Accuracy 75.1434 AUC 0.8031\n",
            "Epoch 100 TRAIN Batch 200 Loss 0.4959 Accuracy 75.1443 AUC 0.8034\n",
            "Epoch 100 TRAIN Batch 250 Loss 0.4962 Accuracy 75.0939 AUC 0.8032\n",
            "Epoch 100 TRAIN Batch 300 Loss 0.4962 Accuracy 75.0946 AUC 0.8032\n",
            "Epoch 100 TRAIN Batch 350 Loss 0.4959 Accuracy 75.1068 AUC 0.8034\n",
            "Epoch 100 TRAIN Batch 400 Loss 0.4958 Accuracy 75.1128 AUC 0.8032\n",
            "Epoch 100 TRAIN Batch 450 Loss 0.4958 Accuracy 75.1115 AUC 0.8033\n",
            "Epoch 100 TRAIN Batch 500 Loss 0.4957 Accuracy 75.1112 AUC 0.8033\n",
            "Epoch 100 TRAIN Batch 550 Loss 0.4957 Accuracy 75.1197 AUC 0.8033\n",
            "Epoch 100 TRAIN Batch 600 Loss 0.4956 Accuracy 75.1204 AUC 0.8033\n",
            "Epoch 100 TRAIN Batch 650 Loss 0.4957 Accuracy 75.1135 AUC 0.8033\n",
            "Epoch 100 TRAIN Batch 700 Loss 0.4958 Accuracy 75.1062 AUC 0.8032\n",
            "Epoch 100 TRAIN Batch 750 Loss 0.4958 Accuracy 75.1063 AUC 0.8032\n"
          ],
          "name": "stdout"
        },
        {
          "output_type": "stream",
          "text": [
            "27-12 20:07 root         INFO     Epoch TRAIN 100 Loss 0.4957 Accuracy 75.1095 AUC 0.8032\n"
          ],
          "name": "stderr"
        },
        {
          "output_type": "stream",
          "text": [
            "Epoch 100 VAL Batch 0 Loss 0.4946 Accuracy 75.2533 AUC 0.7971\n",
            "Epoch 100 VAL Batch 50 Loss 0.4969 Accuracy 75.1424 AUC 0.8010\n",
            "Epoch 100 VAL Batch 100 Loss 0.4952 Accuracy 75.2158 AUC 0.8022\n",
            "Epoch 100 VAL Batch 150 Loss 0.4951 Accuracy 75.2132 AUC 0.8022\n",
            "Epoch 100 VAL Batch 200 Loss 0.4951 Accuracy 75.2089 AUC 0.8024\n",
            "Epoch 100 VAL Batch 250 Loss 0.4955 Accuracy 75.1771 AUC 0.8023\n",
            "Epoch 100 VAL Batch 300 Loss 0.4960 Accuracy 75.1406 AUC 0.8021\n",
            "Epoch 100 VAL Batch 350 Loss 0.4962 Accuracy 75.1159 AUC 0.8021\n",
            "Epoch 100 VAL Batch 400 Loss 0.4964 Accuracy 75.1071 AUC 0.8019\n",
            "Epoch 100 VAL Batch 450 Loss 0.4964 Accuracy 75.1081 AUC 0.8019\n",
            "Epoch 100 VAL Batch 500 Loss 0.4964 Accuracy 75.1065 AUC 0.8019\n",
            "Epoch 100 VAL Batch 550 Loss 0.4965 Accuracy 75.1053 AUC 0.8018\n",
            "Epoch 100 VAL Batch 600 Loss 0.4963 Accuracy 75.1179 AUC 0.8019\n",
            "Epoch 100 VAL Batch 650 Loss 0.4965 Accuracy 75.1080 AUC 0.8018\n",
            "Epoch 100 VAL Batch 700 Loss 0.4964 Accuracy 75.1113 AUC 0.8019\n",
            "Epoch 100 VAL Batch 750 Loss 0.4964 Accuracy 75.1071 AUC 0.8019\n"
          ],
          "name": "stdout"
        },
        {
          "output_type": "stream",
          "text": [
            "27-12 20:08 root         INFO     Epoch VAL 100 Loss 0.4966 Accuracy 75.0974 AUC 0.8019\n",
            "27-12 20:08 root         INFO     Saving checkpoint for epoch 100 at 27-Dec-riiid-1/checkpoints/ckpt-19\n"
          ],
          "name": "stderr"
        },
        {
          "output_type": "stream",
          "text": [
            "Time taken for 1 epoch: 186.17838311195374 secs\n",
            "\n",
            "Epoch 101 TRAIN Batch 0 Loss 0.5002 Accuracy 74.8269 AUC 0.7977\n",
            "Epoch 101 TRAIN Batch 50 Loss 0.4949 Accuracy 75.1788 AUC 0.8043\n",
            "Epoch 101 TRAIN Batch 100 Loss 0.4962 Accuracy 75.0741 AUC 0.8030\n",
            "Epoch 101 TRAIN Batch 150 Loss 0.4955 Accuracy 75.1571 AUC 0.8031\n",
            "Epoch 101 TRAIN Batch 200 Loss 0.4955 Accuracy 75.1464 AUC 0.8032\n",
            "Epoch 101 TRAIN Batch 250 Loss 0.4956 Accuracy 75.1360 AUC 0.8030\n",
            "Epoch 101 TRAIN Batch 300 Loss 0.4955 Accuracy 75.1347 AUC 0.8030\n",
            "Epoch 101 TRAIN Batch 350 Loss 0.4954 Accuracy 75.1361 AUC 0.8030\n",
            "Epoch 101 TRAIN Batch 400 Loss 0.4956 Accuracy 75.1176 AUC 0.8030\n",
            "Epoch 101 TRAIN Batch 450 Loss 0.4957 Accuracy 75.1067 AUC 0.8030\n",
            "Epoch 101 TRAIN Batch 500 Loss 0.4957 Accuracy 75.1057 AUC 0.8031\n",
            "Epoch 101 TRAIN Batch 550 Loss 0.4958 Accuracy 75.1046 AUC 0.8031\n",
            "Epoch 101 TRAIN Batch 600 Loss 0.4956 Accuracy 75.1143 AUC 0.8031\n",
            "Epoch 101 TRAIN Batch 650 Loss 0.4955 Accuracy 75.1231 AUC 0.8032\n",
            "Epoch 101 TRAIN Batch 700 Loss 0.4954 Accuracy 75.1236 AUC 0.8033\n",
            "Epoch 101 TRAIN Batch 750 Loss 0.4955 Accuracy 75.1233 AUC 0.8033\n"
          ],
          "name": "stdout"
        },
        {
          "output_type": "stream",
          "text": [
            "27-12 20:11 root         INFO     Epoch TRAIN 101 Loss 0.4955 Accuracy 75.1265 AUC 0.8033\n"
          ],
          "name": "stderr"
        },
        {
          "output_type": "stream",
          "text": [
            "Time taken for 1 epoch: 153.52292037010193 secs\n",
            "\n",
            "Epoch 102 TRAIN Batch 0 Loss 0.4891 Accuracy 75.3587 AUC 0.8017\n",
            "Epoch 102 TRAIN Batch 50 Loss 0.4954 Accuracy 75.1386 AUC 0.8034\n",
            "Epoch 102 TRAIN Batch 100 Loss 0.4964 Accuracy 75.0539 AUC 0.8028\n",
            "Epoch 102 TRAIN Batch 150 Loss 0.4953 Accuracy 75.1354 AUC 0.8033\n",
            "Epoch 102 TRAIN Batch 200 Loss 0.4950 Accuracy 75.1660 AUC 0.8033\n",
            "Epoch 102 TRAIN Batch 250 Loss 0.4952 Accuracy 75.1348 AUC 0.8032\n",
            "Epoch 102 TRAIN Batch 300 Loss 0.4954 Accuracy 75.1362 AUC 0.8032\n",
            "Epoch 102 TRAIN Batch 350 Loss 0.4956 Accuracy 75.1143 AUC 0.8031\n",
            "Epoch 102 TRAIN Batch 400 Loss 0.4955 Accuracy 75.1286 AUC 0.8031\n",
            "Epoch 102 TRAIN Batch 450 Loss 0.4955 Accuracy 75.1233 AUC 0.8031\n",
            "Epoch 102 TRAIN Batch 500 Loss 0.4956 Accuracy 75.1128 AUC 0.8031\n",
            "Epoch 102 TRAIN Batch 550 Loss 0.4958 Accuracy 75.1024 AUC 0.8031\n",
            "Epoch 102 TRAIN Batch 600 Loss 0.4958 Accuracy 75.0974 AUC 0.8031\n",
            "Epoch 102 TRAIN Batch 650 Loss 0.4958 Accuracy 75.1029 AUC 0.8032\n",
            "Epoch 102 TRAIN Batch 700 Loss 0.4957 Accuracy 75.1058 AUC 0.8032\n",
            "Epoch 102 TRAIN Batch 750 Loss 0.4955 Accuracy 75.1245 AUC 0.8033\n"
          ],
          "name": "stdout"
        },
        {
          "output_type": "stream",
          "text": [
            "27-12 20:13 root         INFO     Epoch TRAIN 102 Loss 0.4955 Accuracy 75.1280 AUC 0.8033\n"
          ],
          "name": "stderr"
        },
        {
          "output_type": "stream",
          "text": [
            "Time taken for 1 epoch: 152.65701031684875 secs\n",
            "\n",
            "Epoch 103 TRAIN Batch 0 Loss 0.4998 Accuracy 75.0764 AUC 0.7970\n",
            "Epoch 103 TRAIN Batch 50 Loss 0.4952 Accuracy 75.2038 AUC 0.8033\n",
            "Epoch 103 TRAIN Batch 100 Loss 0.4948 Accuracy 75.1954 AUC 0.8037\n",
            "Epoch 103 TRAIN Batch 150 Loss 0.4944 Accuracy 75.2250 AUC 0.8042\n",
            "Epoch 103 TRAIN Batch 200 Loss 0.4947 Accuracy 75.2008 AUC 0.8040\n",
            "Epoch 103 TRAIN Batch 250 Loss 0.4950 Accuracy 75.1823 AUC 0.8040\n",
            "Epoch 103 TRAIN Batch 300 Loss 0.4948 Accuracy 75.1942 AUC 0.8042\n",
            "Epoch 103 TRAIN Batch 350 Loss 0.4948 Accuracy 75.1918 AUC 0.8041\n",
            "Epoch 103 TRAIN Batch 400 Loss 0.4949 Accuracy 75.1838 AUC 0.8041\n",
            "Epoch 103 TRAIN Batch 450 Loss 0.4950 Accuracy 75.1728 AUC 0.8040\n",
            "Epoch 103 TRAIN Batch 500 Loss 0.4950 Accuracy 75.1692 AUC 0.8039\n",
            "Epoch 103 TRAIN Batch 550 Loss 0.4950 Accuracy 75.1655 AUC 0.8039\n",
            "Epoch 103 TRAIN Batch 600 Loss 0.4950 Accuracy 75.1609 AUC 0.8039\n",
            "Epoch 103 TRAIN Batch 650 Loss 0.4949 Accuracy 75.1655 AUC 0.8039\n",
            "Epoch 103 TRAIN Batch 700 Loss 0.4950 Accuracy 75.1608 AUC 0.8039\n",
            "Epoch 103 TRAIN Batch 750 Loss 0.4949 Accuracy 75.1696 AUC 0.8039\n"
          ],
          "name": "stdout"
        },
        {
          "output_type": "stream",
          "text": [
            "27-12 20:16 root         INFO     Epoch TRAIN 103 Loss 0.4948 Accuracy 75.1712 AUC 0.8039\n"
          ],
          "name": "stderr"
        },
        {
          "output_type": "stream",
          "text": [
            "Time taken for 1 epoch: 154.8831205368042 secs\n",
            "\n",
            "Epoch 104 TRAIN Batch 0 Loss 0.5024 Accuracy 74.5271 AUC 0.7956\n",
            "Epoch 104 TRAIN Batch 50 Loss 0.4942 Accuracy 75.2281 AUC 0.8038\n",
            "Epoch 104 TRAIN Batch 100 Loss 0.4955 Accuracy 75.1443 AUC 0.8029\n",
            "Epoch 104 TRAIN Batch 150 Loss 0.4953 Accuracy 75.1525 AUC 0.8032\n",
            "Epoch 104 TRAIN Batch 200 Loss 0.4954 Accuracy 75.1491 AUC 0.8034\n",
            "Epoch 104 TRAIN Batch 250 Loss 0.4951 Accuracy 75.1609 AUC 0.8035\n",
            "Epoch 104 TRAIN Batch 300 Loss 0.4954 Accuracy 75.1394 AUC 0.8034\n",
            "Epoch 104 TRAIN Batch 350 Loss 0.4952 Accuracy 75.1519 AUC 0.8035\n",
            "Epoch 104 TRAIN Batch 400 Loss 0.4952 Accuracy 75.1483 AUC 0.8035\n",
            "Epoch 104 TRAIN Batch 450 Loss 0.4953 Accuracy 75.1411 AUC 0.8034\n",
            "Epoch 104 TRAIN Batch 500 Loss 0.4953 Accuracy 75.1421 AUC 0.8034\n",
            "Epoch 104 TRAIN Batch 550 Loss 0.4952 Accuracy 75.1480 AUC 0.8034\n",
            "Epoch 104 TRAIN Batch 600 Loss 0.4952 Accuracy 75.1432 AUC 0.8034\n",
            "Epoch 104 TRAIN Batch 650 Loss 0.4950 Accuracy 75.1524 AUC 0.8035\n",
            "Epoch 104 TRAIN Batch 700 Loss 0.4951 Accuracy 75.1507 AUC 0.8036\n",
            "Epoch 104 TRAIN Batch 750 Loss 0.4952 Accuracy 75.1404 AUC 0.8035\n"
          ],
          "name": "stdout"
        },
        {
          "output_type": "stream",
          "text": [
            "27-12 20:18 root         INFO     Epoch TRAIN 104 Loss 0.4952 Accuracy 75.1367 AUC 0.8035\n"
          ],
          "name": "stderr"
        },
        {
          "output_type": "stream",
          "text": [
            "Time taken for 1 epoch: 150.22380566596985 secs\n",
            "\n",
            "Epoch 105 TRAIN Batch 0 Loss 0.4931 Accuracy 74.9628 AUC 0.7982\n",
            "Epoch 105 TRAIN Batch 50 Loss 0.4946 Accuracy 75.1440 AUC 0.8039\n",
            "Epoch 105 TRAIN Batch 100 Loss 0.4938 Accuracy 75.2405 AUC 0.8047\n",
            "Epoch 105 TRAIN Batch 150 Loss 0.4941 Accuracy 75.2032 AUC 0.8046\n",
            "Epoch 105 TRAIN Batch 200 Loss 0.4943 Accuracy 75.1748 AUC 0.8045\n",
            "Epoch 105 TRAIN Batch 250 Loss 0.4941 Accuracy 75.1901 AUC 0.8046\n",
            "Epoch 105 TRAIN Batch 300 Loss 0.4943 Accuracy 75.1783 AUC 0.8046\n",
            "Epoch 105 TRAIN Batch 350 Loss 0.4942 Accuracy 75.1918 AUC 0.8046\n",
            "Epoch 105 TRAIN Batch 400 Loss 0.4944 Accuracy 75.1829 AUC 0.8043\n",
            "Epoch 105 TRAIN Batch 450 Loss 0.4946 Accuracy 75.1705 AUC 0.8042\n",
            "Epoch 105 TRAIN Batch 500 Loss 0.4946 Accuracy 75.1736 AUC 0.8041\n",
            "Epoch 105 TRAIN Batch 550 Loss 0.4945 Accuracy 75.1885 AUC 0.8042\n",
            "Epoch 105 TRAIN Batch 600 Loss 0.4944 Accuracy 75.1888 AUC 0.8042\n",
            "Epoch 105 TRAIN Batch 650 Loss 0.4945 Accuracy 75.1846 AUC 0.8041\n",
            "Epoch 105 TRAIN Batch 700 Loss 0.4946 Accuracy 75.1716 AUC 0.8040\n",
            "Epoch 105 TRAIN Batch 750 Loss 0.4946 Accuracy 75.1695 AUC 0.8040\n"
          ],
          "name": "stdout"
        },
        {
          "output_type": "stream",
          "text": [
            "27-12 20:21 root         INFO     Epoch TRAIN 105 Loss 0.4945 Accuracy 75.1765 AUC 0.8041\n"
          ],
          "name": "stderr"
        },
        {
          "output_type": "stream",
          "text": [
            "Epoch 105 VAL Batch 0 Loss 0.4951 Accuracy 75.2617 AUC 0.7969\n",
            "Epoch 105 VAL Batch 50 Loss 0.4973 Accuracy 75.1089 AUC 0.8010\n",
            "Epoch 105 VAL Batch 100 Loss 0.4957 Accuracy 75.2123 AUC 0.8021\n",
            "Epoch 105 VAL Batch 150 Loss 0.4956 Accuracy 75.2143 AUC 0.8022\n",
            "Epoch 105 VAL Batch 200 Loss 0.4956 Accuracy 75.2215 AUC 0.8023\n",
            "Epoch 105 VAL Batch 250 Loss 0.4959 Accuracy 75.1881 AUC 0.8023\n",
            "Epoch 105 VAL Batch 300 Loss 0.4964 Accuracy 75.1551 AUC 0.8021\n",
            "Epoch 105 VAL Batch 350 Loss 0.4966 Accuracy 75.1283 AUC 0.8021\n",
            "Epoch 105 VAL Batch 400 Loss 0.4968 Accuracy 75.1187 AUC 0.8019\n",
            "Epoch 105 VAL Batch 450 Loss 0.4968 Accuracy 75.1193 AUC 0.8018\n",
            "Epoch 105 VAL Batch 500 Loss 0.4968 Accuracy 75.1204 AUC 0.8019\n",
            "Epoch 105 VAL Batch 550 Loss 0.4969 Accuracy 75.1204 AUC 0.8018\n",
            "Epoch 105 VAL Batch 600 Loss 0.4967 Accuracy 75.1305 AUC 0.8019\n",
            "Epoch 105 VAL Batch 650 Loss 0.4969 Accuracy 75.1237 AUC 0.8018\n",
            "Epoch 105 VAL Batch 700 Loss 0.4968 Accuracy 75.1287 AUC 0.8019\n",
            "Epoch 105 VAL Batch 750 Loss 0.4968 Accuracy 75.1226 AUC 0.8019\n"
          ],
          "name": "stdout"
        },
        {
          "output_type": "stream",
          "text": [
            "27-12 20:21 root         INFO     Epoch VAL 105 Loss 0.4970 Accuracy 75.1126 AUC 0.8019\n"
          ],
          "name": "stderr"
        },
        {
          "output_type": "stream",
          "text": [
            "Time taken for 1 epoch: 185.6740381717682 secs\n",
            "\n",
            "Epoch 106 TRAIN Batch 0 Loss 0.4869 Accuracy 75.9155 AUC 0.8003\n",
            "Epoch 106 TRAIN Batch 50 Loss 0.4951 Accuracy 75.0422 AUC 0.8044\n",
            "Epoch 106 TRAIN Batch 100 Loss 0.4955 Accuracy 75.0821 AUC 0.8040\n",
            "Epoch 106 TRAIN Batch 150 Loss 0.4964 Accuracy 75.0220 AUC 0.8037\n",
            "Epoch 106 TRAIN Batch 200 Loss 0.4957 Accuracy 75.0684 AUC 0.8041\n",
            "Epoch 106 TRAIN Batch 250 Loss 0.4957 Accuracy 75.0845 AUC 0.8037\n",
            "Epoch 106 TRAIN Batch 300 Loss 0.4956 Accuracy 75.0887 AUC 0.8037\n",
            "Epoch 106 TRAIN Batch 350 Loss 0.4956 Accuracy 75.0850 AUC 0.8037\n",
            "Epoch 106 TRAIN Batch 400 Loss 0.4955 Accuracy 75.0879 AUC 0.8036\n",
            "Epoch 106 TRAIN Batch 450 Loss 0.4954 Accuracy 75.1023 AUC 0.8037\n",
            "Epoch 106 TRAIN Batch 500 Loss 0.4954 Accuracy 75.1006 AUC 0.8037\n",
            "Epoch 106 TRAIN Batch 550 Loss 0.4954 Accuracy 75.1072 AUC 0.8037\n",
            "Epoch 106 TRAIN Batch 600 Loss 0.4955 Accuracy 75.1023 AUC 0.8037\n",
            "Epoch 106 TRAIN Batch 650 Loss 0.4954 Accuracy 75.1053 AUC 0.8038\n",
            "Epoch 106 TRAIN Batch 700 Loss 0.4954 Accuracy 75.1101 AUC 0.8038\n",
            "Epoch 106 TRAIN Batch 750 Loss 0.4954 Accuracy 75.1128 AUC 0.8038\n"
          ],
          "name": "stdout"
        },
        {
          "output_type": "stream",
          "text": [
            "27-12 20:24 root         INFO     Epoch TRAIN 106 Loss 0.4954 Accuracy 75.1109 AUC 0.8038\n"
          ],
          "name": "stderr"
        },
        {
          "output_type": "stream",
          "text": [
            "Time taken for 1 epoch: 153.09364008903503 secs\n",
            "\n",
            "Epoch 107 TRAIN Batch 0 Loss 0.4827 Accuracy 75.6359 AUC 0.8042\n",
            "Epoch 107 TRAIN Batch 50 Loss 0.4942 Accuracy 75.1892 AUC 0.8044\n",
            "Epoch 107 TRAIN Batch 100 Loss 0.4938 Accuracy 75.2267 AUC 0.8049\n",
            "Epoch 107 TRAIN Batch 150 Loss 0.4938 Accuracy 75.2277 AUC 0.8048\n",
            "Epoch 107 TRAIN Batch 200 Loss 0.4941 Accuracy 75.2241 AUC 0.8046\n",
            "Epoch 107 TRAIN Batch 250 Loss 0.4942 Accuracy 75.2177 AUC 0.8046\n",
            "Epoch 107 TRAIN Batch 300 Loss 0.4940 Accuracy 75.2236 AUC 0.8047\n",
            "Epoch 107 TRAIN Batch 350 Loss 0.4941 Accuracy 75.2251 AUC 0.8047\n",
            "Epoch 107 TRAIN Batch 400 Loss 0.4940 Accuracy 75.2397 AUC 0.8048\n",
            "Epoch 107 TRAIN Batch 450 Loss 0.4940 Accuracy 75.2380 AUC 0.8047\n",
            "Epoch 107 TRAIN Batch 500 Loss 0.4942 Accuracy 75.2298 AUC 0.8046\n",
            "Epoch 107 TRAIN Batch 550 Loss 0.4942 Accuracy 75.2231 AUC 0.8046\n",
            "Epoch 107 TRAIN Batch 600 Loss 0.4943 Accuracy 75.2112 AUC 0.8045\n",
            "Epoch 107 TRAIN Batch 650 Loss 0.4944 Accuracy 75.2045 AUC 0.8045\n",
            "Epoch 107 TRAIN Batch 700 Loss 0.4944 Accuracy 75.2035 AUC 0.8045\n",
            "Epoch 107 TRAIN Batch 750 Loss 0.4945 Accuracy 75.1959 AUC 0.8044\n"
          ],
          "name": "stdout"
        },
        {
          "output_type": "stream",
          "text": [
            "27-12 20:26 root         INFO     Epoch TRAIN 107 Loss 0.4946 Accuracy 75.1867 AUC 0.8044\n"
          ],
          "name": "stderr"
        },
        {
          "output_type": "stream",
          "text": [
            "Time taken for 1 epoch: 154.09785270690918 secs\n",
            "\n",
            "Epoch 108 TRAIN Batch 0 Loss 0.4898 Accuracy 75.5473 AUC 0.8122\n",
            "Epoch 108 TRAIN Batch 50 Loss 0.4950 Accuracy 75.2267 AUC 0.8049\n",
            "Epoch 108 TRAIN Batch 100 Loss 0.4947 Accuracy 75.2305 AUC 0.8042\n",
            "Epoch 108 TRAIN Batch 150 Loss 0.4950 Accuracy 75.1992 AUC 0.8040\n",
            "Epoch 108 TRAIN Batch 200 Loss 0.4949 Accuracy 75.1922 AUC 0.8041\n",
            "Epoch 108 TRAIN Batch 250 Loss 0.4952 Accuracy 75.1650 AUC 0.8040\n",
            "Epoch 108 TRAIN Batch 300 Loss 0.4953 Accuracy 75.1503 AUC 0.8039\n",
            "Epoch 108 TRAIN Batch 350 Loss 0.4950 Accuracy 75.1679 AUC 0.8040\n",
            "Epoch 108 TRAIN Batch 400 Loss 0.4951 Accuracy 75.1664 AUC 0.8040\n",
            "Epoch 108 TRAIN Batch 450 Loss 0.4951 Accuracy 75.1618 AUC 0.8039\n",
            "Epoch 108 TRAIN Batch 500 Loss 0.4952 Accuracy 75.1648 AUC 0.8038\n",
            "Epoch 108 TRAIN Batch 550 Loss 0.4952 Accuracy 75.1637 AUC 0.8038\n",
            "Epoch 108 TRAIN Batch 600 Loss 0.4952 Accuracy 75.1645 AUC 0.8037\n",
            "Epoch 108 TRAIN Batch 650 Loss 0.4952 Accuracy 75.1557 AUC 0.8036\n",
            "Epoch 108 TRAIN Batch 700 Loss 0.4952 Accuracy 75.1602 AUC 0.8037\n",
            "Epoch 108 TRAIN Batch 750 Loss 0.4952 Accuracy 75.1588 AUC 0.8036\n"
          ],
          "name": "stdout"
        },
        {
          "output_type": "stream",
          "text": [
            "27-12 20:29 root         INFO     Epoch TRAIN 108 Loss 0.4953 Accuracy 75.1488 AUC 0.8036\n"
          ],
          "name": "stderr"
        },
        {
          "output_type": "stream",
          "text": [
            "Time taken for 1 epoch: 152.8578462600708 secs\n",
            "\n",
            "Epoch 109 TRAIN Batch 0 Loss 0.4908 Accuracy 75.3272 AUC 0.8041\n",
            "Epoch 109 TRAIN Batch 50 Loss 0.4953 Accuracy 75.1075 AUC 0.8029\n",
            "Epoch 109 TRAIN Batch 100 Loss 0.4953 Accuracy 75.1276 AUC 0.8030\n",
            "Epoch 109 TRAIN Batch 150 Loss 0.4959 Accuracy 75.1033 AUC 0.8028\n",
            "Epoch 109 TRAIN Batch 200 Loss 0.4956 Accuracy 75.1287 AUC 0.8031\n",
            "Epoch 109 TRAIN Batch 250 Loss 0.4950 Accuracy 75.1588 AUC 0.8036\n",
            "Epoch 109 TRAIN Batch 300 Loss 0.4953 Accuracy 75.1379 AUC 0.8033\n",
            "Epoch 109 TRAIN Batch 350 Loss 0.4950 Accuracy 75.1528 AUC 0.8034\n",
            "Epoch 109 TRAIN Batch 400 Loss 0.4951 Accuracy 75.1553 AUC 0.8036\n",
            "Epoch 109 TRAIN Batch 450 Loss 0.4951 Accuracy 75.1438 AUC 0.8036\n",
            "Epoch 109 TRAIN Batch 500 Loss 0.4950 Accuracy 75.1566 AUC 0.8037\n",
            "Epoch 109 TRAIN Batch 550 Loss 0.4947 Accuracy 75.1727 AUC 0.8038\n",
            "Epoch 109 TRAIN Batch 600 Loss 0.4949 Accuracy 75.1619 AUC 0.8038\n",
            "Epoch 109 TRAIN Batch 650 Loss 0.4948 Accuracy 75.1688 AUC 0.8038\n",
            "Epoch 109 TRAIN Batch 700 Loss 0.4949 Accuracy 75.1658 AUC 0.8038\n",
            "Epoch 109 TRAIN Batch 750 Loss 0.4949 Accuracy 75.1696 AUC 0.8038\n"
          ],
          "name": "stdout"
        },
        {
          "output_type": "stream",
          "text": [
            "27-12 20:31 root         INFO     Epoch TRAIN 109 Loss 0.4949 Accuracy 75.1664 AUC 0.8038\n"
          ],
          "name": "stderr"
        },
        {
          "output_type": "stream",
          "text": [
            "Time taken for 1 epoch: 153.78069925308228 secs\n",
            "\n",
            "Epoch 110 TRAIN Batch 0 Loss 0.5055 Accuracy 74.8272 AUC 0.7963\n",
            "Epoch 110 TRAIN Batch 50 Loss 0.4948 Accuracy 75.1910 AUC 0.8030\n",
            "Epoch 110 TRAIN Batch 100 Loss 0.4948 Accuracy 75.1740 AUC 0.8035\n",
            "Epoch 110 TRAIN Batch 150 Loss 0.4945 Accuracy 75.1822 AUC 0.8039\n",
            "Epoch 110 TRAIN Batch 200 Loss 0.4946 Accuracy 75.1763 AUC 0.8038\n",
            "Epoch 110 TRAIN Batch 250 Loss 0.4945 Accuracy 75.1907 AUC 0.8041\n",
            "Epoch 110 TRAIN Batch 300 Loss 0.4943 Accuracy 75.1921 AUC 0.8042\n",
            "Epoch 110 TRAIN Batch 350 Loss 0.4942 Accuracy 75.1939 AUC 0.8041\n",
            "Epoch 110 TRAIN Batch 400 Loss 0.4943 Accuracy 75.1886 AUC 0.8041\n",
            "Epoch 110 TRAIN Batch 450 Loss 0.4943 Accuracy 75.1938 AUC 0.8041\n",
            "Epoch 110 TRAIN Batch 500 Loss 0.4943 Accuracy 75.1952 AUC 0.8041\n",
            "Epoch 110 TRAIN Batch 550 Loss 0.4944 Accuracy 75.1840 AUC 0.8040\n",
            "Epoch 110 TRAIN Batch 600 Loss 0.4944 Accuracy 75.1817 AUC 0.8040\n",
            "Epoch 110 TRAIN Batch 650 Loss 0.4945 Accuracy 75.1725 AUC 0.8039\n",
            "Epoch 110 TRAIN Batch 700 Loss 0.4945 Accuracy 75.1728 AUC 0.8039\n",
            "Epoch 110 TRAIN Batch 750 Loss 0.4945 Accuracy 75.1752 AUC 0.8040\n"
          ],
          "name": "stdout"
        },
        {
          "output_type": "stream",
          "text": [
            "27-12 20:34 root         INFO     Epoch TRAIN 110 Loss 0.4945 Accuracy 75.1760 AUC 0.8040\n"
          ],
          "name": "stderr"
        },
        {
          "output_type": "stream",
          "text": [
            "Epoch 110 VAL Batch 0 Loss 0.4951 Accuracy 75.3455 AUC 0.7978\n",
            "Epoch 110 VAL Batch 50 Loss 0.4977 Accuracy 75.1517 AUC 0.8012\n",
            "Epoch 110 VAL Batch 100 Loss 0.4961 Accuracy 75.2160 AUC 0.8022\n",
            "Epoch 110 VAL Batch 150 Loss 0.4959 Accuracy 75.2207 AUC 0.8023\n",
            "Epoch 110 VAL Batch 200 Loss 0.4958 Accuracy 75.2247 AUC 0.8025\n",
            "Epoch 110 VAL Batch 250 Loss 0.4962 Accuracy 75.1915 AUC 0.8025\n",
            "Epoch 110 VAL Batch 300 Loss 0.4967 Accuracy 75.1551 AUC 0.8023\n",
            "Epoch 110 VAL Batch 350 Loss 0.4969 Accuracy 75.1303 AUC 0.8022\n",
            "Epoch 110 VAL Batch 400 Loss 0.4971 Accuracy 75.1205 AUC 0.8021\n",
            "Epoch 110 VAL Batch 450 Loss 0.4971 Accuracy 75.1212 AUC 0.8020\n",
            "Epoch 110 VAL Batch 500 Loss 0.4971 Accuracy 75.1225 AUC 0.8021\n",
            "Epoch 110 VAL Batch 550 Loss 0.4972 Accuracy 75.1229 AUC 0.8019\n",
            "Epoch 110 VAL Batch 600 Loss 0.4970 Accuracy 75.1312 AUC 0.8020\n",
            "Epoch 110 VAL Batch 650 Loss 0.4972 Accuracy 75.1244 AUC 0.8019\n",
            "Epoch 110 VAL Batch 700 Loss 0.4971 Accuracy 75.1305 AUC 0.8021\n",
            "Epoch 110 VAL Batch 750 Loss 0.4971 Accuracy 75.1247 AUC 0.8021\n"
          ],
          "name": "stdout"
        },
        {
          "output_type": "stream",
          "text": [
            "27-12 20:35 root         INFO     Epoch VAL 110 Loss 0.4973 Accuracy 75.1155 AUC 0.8020\n",
            "27-12 20:35 root         INFO     Saving checkpoint for epoch 110 at 27-Dec-riiid-1/checkpoints/ckpt-20\n"
          ],
          "name": "stderr"
        },
        {
          "output_type": "stream",
          "text": [
            "Time taken for 1 epoch: 185.63484072685242 secs\n",
            "\n",
            "Epoch 111 TRAIN Batch 0 Loss 0.5006 Accuracy 74.6548 AUC 0.8009\n",
            "Epoch 111 TRAIN Batch 50 Loss 0.4929 Accuracy 75.2830 AUC 0.8054\n",
            "Epoch 111 TRAIN Batch 100 Loss 0.4929 Accuracy 75.3211 AUC 0.8052\n",
            "Epoch 111 TRAIN Batch 150 Loss 0.4935 Accuracy 75.2720 AUC 0.8046\n",
            "Epoch 111 TRAIN Batch 200 Loss 0.4938 Accuracy 75.2632 AUC 0.8043\n",
            "Epoch 111 TRAIN Batch 250 Loss 0.4939 Accuracy 75.2454 AUC 0.8043\n",
            "Epoch 111 TRAIN Batch 300 Loss 0.4941 Accuracy 75.2360 AUC 0.8044\n",
            "Epoch 111 TRAIN Batch 350 Loss 0.4941 Accuracy 75.2328 AUC 0.8043\n",
            "Epoch 111 TRAIN Batch 400 Loss 0.4942 Accuracy 75.2195 AUC 0.8043\n",
            "Epoch 111 TRAIN Batch 450 Loss 0.4941 Accuracy 75.2278 AUC 0.8044\n",
            "Epoch 111 TRAIN Batch 500 Loss 0.4942 Accuracy 75.2200 AUC 0.8043\n",
            "Epoch 111 TRAIN Batch 550 Loss 0.4942 Accuracy 75.2262 AUC 0.8043\n",
            "Epoch 111 TRAIN Batch 600 Loss 0.4943 Accuracy 75.2174 AUC 0.8043\n",
            "Epoch 111 TRAIN Batch 650 Loss 0.4941 Accuracy 75.2337 AUC 0.8044\n",
            "Epoch 111 TRAIN Batch 700 Loss 0.4941 Accuracy 75.2327 AUC 0.8044\n",
            "Epoch 111 TRAIN Batch 750 Loss 0.4942 Accuracy 75.2214 AUC 0.8044\n"
          ],
          "name": "stdout"
        },
        {
          "output_type": "stream",
          "text": [
            "27-12 20:37 root         INFO     Epoch TRAIN 111 Loss 0.4942 Accuracy 75.2141 AUC 0.8043\n"
          ],
          "name": "stderr"
        },
        {
          "output_type": "stream",
          "text": [
            "Time taken for 1 epoch: 154.3463795185089 secs\n",
            "\n",
            "Epoch 112 TRAIN Batch 0 Loss 0.5001 Accuracy 74.7136 AUC 0.8059\n",
            "Epoch 112 TRAIN Batch 50 Loss 0.4971 Accuracy 75.0122 AUC 0.8021\n",
            "Epoch 112 TRAIN Batch 100 Loss 0.4958 Accuracy 75.0932 AUC 0.8032\n",
            "Epoch 112 TRAIN Batch 150 Loss 0.4951 Accuracy 75.1403 AUC 0.8036\n",
            "Epoch 112 TRAIN Batch 200 Loss 0.4954 Accuracy 75.1027 AUC 0.8035\n",
            "Epoch 112 TRAIN Batch 250 Loss 0.4950 Accuracy 75.1382 AUC 0.8036\n",
            "Epoch 112 TRAIN Batch 300 Loss 0.4951 Accuracy 75.1242 AUC 0.8036\n",
            "Epoch 112 TRAIN Batch 350 Loss 0.4951 Accuracy 75.1281 AUC 0.8036\n",
            "Epoch 112 TRAIN Batch 400 Loss 0.4951 Accuracy 75.1369 AUC 0.8037\n",
            "Epoch 112 TRAIN Batch 450 Loss 0.4951 Accuracy 75.1359 AUC 0.8037\n",
            "Epoch 112 TRAIN Batch 500 Loss 0.4952 Accuracy 75.1312 AUC 0.8037\n",
            "Epoch 112 TRAIN Batch 550 Loss 0.4950 Accuracy 75.1446 AUC 0.8039\n",
            "Epoch 112 TRAIN Batch 600 Loss 0.4952 Accuracy 75.1360 AUC 0.8038\n",
            "Epoch 112 TRAIN Batch 650 Loss 0.4952 Accuracy 75.1309 AUC 0.8037\n",
            "Epoch 112 TRAIN Batch 700 Loss 0.4952 Accuracy 75.1338 AUC 0.8038\n",
            "Epoch 112 TRAIN Batch 750 Loss 0.4951 Accuracy 75.1370 AUC 0.8039\n"
          ],
          "name": "stdout"
        },
        {
          "output_type": "stream",
          "text": [
            "27-12 20:40 root         INFO     Epoch TRAIN 112 Loss 0.4952 Accuracy 75.1343 AUC 0.8038\n"
          ],
          "name": "stderr"
        },
        {
          "output_type": "stream",
          "text": [
            "Time taken for 1 epoch: 153.01302862167358 secs\n",
            "\n",
            "Epoch 113 TRAIN Batch 0 Loss 0.5009 Accuracy 74.9788 AUC 0.8042\n",
            "Epoch 113 TRAIN Batch 50 Loss 0.4947 Accuracy 75.1889 AUC 0.8037\n",
            "Epoch 113 TRAIN Batch 100 Loss 0.4948 Accuracy 75.1473 AUC 0.8039\n",
            "Epoch 113 TRAIN Batch 150 Loss 0.4947 Accuracy 75.1390 AUC 0.8042\n",
            "Epoch 113 TRAIN Batch 200 Loss 0.4947 Accuracy 75.1659 AUC 0.8042\n",
            "Epoch 113 TRAIN Batch 250 Loss 0.4945 Accuracy 75.1856 AUC 0.8042\n",
            "Epoch 113 TRAIN Batch 300 Loss 0.4943 Accuracy 75.2040 AUC 0.8044\n",
            "Epoch 113 TRAIN Batch 350 Loss 0.4944 Accuracy 75.1945 AUC 0.8043\n",
            "Epoch 113 TRAIN Batch 400 Loss 0.4946 Accuracy 75.1754 AUC 0.8042\n",
            "Epoch 113 TRAIN Batch 450 Loss 0.4947 Accuracy 75.1770 AUC 0.8043\n",
            "Epoch 113 TRAIN Batch 500 Loss 0.4946 Accuracy 75.1821 AUC 0.8042\n",
            "Epoch 113 TRAIN Batch 550 Loss 0.4946 Accuracy 75.1828 AUC 0.8041\n",
            "Epoch 113 TRAIN Batch 600 Loss 0.4947 Accuracy 75.1798 AUC 0.8041\n",
            "Epoch 113 TRAIN Batch 650 Loss 0.4947 Accuracy 75.1826 AUC 0.8041\n",
            "Epoch 113 TRAIN Batch 700 Loss 0.4946 Accuracy 75.1899 AUC 0.8042\n",
            "Epoch 113 TRAIN Batch 750 Loss 0.4945 Accuracy 75.1895 AUC 0.8042\n"
          ],
          "name": "stdout"
        },
        {
          "output_type": "stream",
          "text": [
            "27-12 20:42 root         INFO     Epoch TRAIN 113 Loss 0.4946 Accuracy 75.1869 AUC 0.8042\n"
          ],
          "name": "stderr"
        },
        {
          "output_type": "stream",
          "text": [
            "Time taken for 1 epoch: 155.67771410942078 secs\n",
            "\n",
            "Epoch 114 TRAIN Batch 0 Loss 0.4822 Accuracy 75.8635 AUC 0.8106\n",
            "Epoch 114 TRAIN Batch 50 Loss 0.4936 Accuracy 75.2417 AUC 0.8040\n",
            "Epoch 114 TRAIN Batch 100 Loss 0.4940 Accuracy 75.1894 AUC 0.8043\n",
            "Epoch 114 TRAIN Batch 150 Loss 0.4940 Accuracy 75.2016 AUC 0.8042\n",
            "Epoch 114 TRAIN Batch 200 Loss 0.4937 Accuracy 75.2311 AUC 0.8045\n",
            "Epoch 114 TRAIN Batch 250 Loss 0.4938 Accuracy 75.2207 AUC 0.8046\n",
            "Epoch 114 TRAIN Batch 300 Loss 0.4938 Accuracy 75.2181 AUC 0.8046\n",
            "Epoch 114 TRAIN Batch 350 Loss 0.4941 Accuracy 75.1949 AUC 0.8045\n",
            "Epoch 114 TRAIN Batch 400 Loss 0.4944 Accuracy 75.1770 AUC 0.8043\n",
            "Epoch 114 TRAIN Batch 450 Loss 0.4944 Accuracy 75.1751 AUC 0.8044\n",
            "Epoch 114 TRAIN Batch 500 Loss 0.4943 Accuracy 75.1804 AUC 0.8044\n",
            "Epoch 114 TRAIN Batch 550 Loss 0.4945 Accuracy 75.1754 AUC 0.8043\n",
            "Epoch 114 TRAIN Batch 600 Loss 0.4946 Accuracy 75.1601 AUC 0.8042\n",
            "Epoch 114 TRAIN Batch 650 Loss 0.4945 Accuracy 75.1759 AUC 0.8043\n",
            "Epoch 114 TRAIN Batch 700 Loss 0.4944 Accuracy 75.1833 AUC 0.8043\n",
            "Epoch 114 TRAIN Batch 750 Loss 0.4944 Accuracy 75.1837 AUC 0.8043\n"
          ],
          "name": "stdout"
        },
        {
          "output_type": "stream",
          "text": [
            "27-12 20:45 root         INFO     Epoch TRAIN 114 Loss 0.4944 Accuracy 75.1830 AUC 0.8044\n"
          ],
          "name": "stderr"
        },
        {
          "output_type": "stream",
          "text": [
            "Time taken for 1 epoch: 153.279926776886 secs\n",
            "\n",
            "Epoch 115 TRAIN Batch 0 Loss 0.4873 Accuracy 75.6000 AUC 0.8074\n",
            "Epoch 115 TRAIN Batch 50 Loss 0.4930 Accuracy 75.2462 AUC 0.8056\n",
            "Epoch 115 TRAIN Batch 100 Loss 0.4943 Accuracy 75.1587 AUC 0.8050\n",
            "Epoch 115 TRAIN Batch 150 Loss 0.4949 Accuracy 75.1187 AUC 0.8045\n",
            "Epoch 115 TRAIN Batch 200 Loss 0.4942 Accuracy 75.1834 AUC 0.8048\n",
            "Epoch 115 TRAIN Batch 250 Loss 0.4945 Accuracy 75.1755 AUC 0.8045\n",
            "Epoch 115 TRAIN Batch 300 Loss 0.4943 Accuracy 75.1927 AUC 0.8045\n",
            "Epoch 115 TRAIN Batch 350 Loss 0.4944 Accuracy 75.1762 AUC 0.8044\n",
            "Epoch 115 TRAIN Batch 400 Loss 0.4946 Accuracy 75.1692 AUC 0.8042\n",
            "Epoch 115 TRAIN Batch 450 Loss 0.4947 Accuracy 75.1563 AUC 0.8040\n",
            "Epoch 115 TRAIN Batch 500 Loss 0.4946 Accuracy 75.1605 AUC 0.8040\n",
            "Epoch 115 TRAIN Batch 550 Loss 0.4946 Accuracy 75.1629 AUC 0.8039\n",
            "Epoch 115 TRAIN Batch 600 Loss 0.4946 Accuracy 75.1693 AUC 0.8040\n",
            "Epoch 115 TRAIN Batch 650 Loss 0.4946 Accuracy 75.1678 AUC 0.8040\n",
            "Epoch 115 TRAIN Batch 700 Loss 0.4948 Accuracy 75.1554 AUC 0.8040\n",
            "Epoch 115 TRAIN Batch 750 Loss 0.4946 Accuracy 75.1647 AUC 0.8041\n"
          ],
          "name": "stdout"
        },
        {
          "output_type": "stream",
          "text": [
            "27-12 20:47 root         INFO     Epoch TRAIN 115 Loss 0.4947 Accuracy 75.1629 AUC 0.8041\n"
          ],
          "name": "stderr"
        },
        {
          "output_type": "stream",
          "text": [
            "Epoch 115 VAL Batch 0 Loss 0.4928 Accuracy 75.3287 AUC 0.7992\n",
            "Epoch 115 VAL Batch 50 Loss 0.4967 Accuracy 75.0775 AUC 0.8013\n",
            "Epoch 115 VAL Batch 100 Loss 0.4952 Accuracy 75.1803 AUC 0.8024\n",
            "Epoch 115 VAL Batch 150 Loss 0.4951 Accuracy 75.1819 AUC 0.8024\n",
            "Epoch 115 VAL Batch 200 Loss 0.4950 Accuracy 75.1945 AUC 0.8026\n",
            "Epoch 115 VAL Batch 250 Loss 0.4953 Accuracy 75.1600 AUC 0.8026\n",
            "Epoch 115 VAL Batch 300 Loss 0.4958 Accuracy 75.1256 AUC 0.8024\n",
            "Epoch 115 VAL Batch 350 Loss 0.4960 Accuracy 75.1047 AUC 0.8024\n",
            "Epoch 115 VAL Batch 400 Loss 0.4962 Accuracy 75.0927 AUC 0.8022\n",
            "Epoch 115 VAL Batch 450 Loss 0.4962 Accuracy 75.0936 AUC 0.8021\n",
            "Epoch 115 VAL Batch 500 Loss 0.4962 Accuracy 75.0962 AUC 0.8022\n",
            "Epoch 115 VAL Batch 550 Loss 0.4963 Accuracy 75.0958 AUC 0.8021\n",
            "Epoch 115 VAL Batch 600 Loss 0.4961 Accuracy 75.1067 AUC 0.8022\n",
            "Epoch 115 VAL Batch 650 Loss 0.4963 Accuracy 75.0965 AUC 0.8021\n",
            "Epoch 115 VAL Batch 700 Loss 0.4962 Accuracy 75.1020 AUC 0.8022\n",
            "Epoch 115 VAL Batch 750 Loss 0.4963 Accuracy 75.0968 AUC 0.8022\n"
          ],
          "name": "stdout"
        },
        {
          "output_type": "stream",
          "text": [
            "27-12 20:48 root         INFO     Epoch VAL 115 Loss 0.4964 Accuracy 75.0872 AUC 0.8022\n",
            "27-12 20:48 root         INFO     Saving checkpoint for epoch 115 at 27-Dec-riiid-1/checkpoints/ckpt-21\n"
          ],
          "name": "stderr"
        },
        {
          "output_type": "stream",
          "text": [
            "Time taken for 1 epoch: 186.4493498802185 secs\n",
            "\n",
            "Epoch 116 TRAIN Batch 0 Loss 0.4867 Accuracy 75.9394 AUC 0.8024\n",
            "Epoch 116 TRAIN Batch 50 Loss 0.4943 Accuracy 75.1643 AUC 0.8047\n",
            "Epoch 116 TRAIN Batch 100 Loss 0.4946 Accuracy 75.1681 AUC 0.8041\n",
            "Epoch 116 TRAIN Batch 150 Loss 0.4948 Accuracy 75.1572 AUC 0.8041\n",
            "Epoch 116 TRAIN Batch 200 Loss 0.4949 Accuracy 75.1438 AUC 0.8042\n",
            "Epoch 116 TRAIN Batch 250 Loss 0.4949 Accuracy 75.1429 AUC 0.8041\n",
            "Epoch 116 TRAIN Batch 300 Loss 0.4947 Accuracy 75.1575 AUC 0.8041\n",
            "Epoch 116 TRAIN Batch 350 Loss 0.4947 Accuracy 75.1588 AUC 0.8041\n",
            "Epoch 116 TRAIN Batch 400 Loss 0.4946 Accuracy 75.1662 AUC 0.8041\n",
            "Epoch 116 TRAIN Batch 450 Loss 0.4945 Accuracy 75.1751 AUC 0.8042\n",
            "Epoch 116 TRAIN Batch 500 Loss 0.4945 Accuracy 75.1810 AUC 0.8042\n",
            "Epoch 116 TRAIN Batch 550 Loss 0.4944 Accuracy 75.1767 AUC 0.8043\n",
            "Epoch 116 TRAIN Batch 600 Loss 0.4945 Accuracy 75.1779 AUC 0.8043\n",
            "Epoch 116 TRAIN Batch 650 Loss 0.4945 Accuracy 75.1775 AUC 0.8043\n",
            "Epoch 116 TRAIN Batch 700 Loss 0.4946 Accuracy 75.1706 AUC 0.8043\n",
            "Epoch 116 TRAIN Batch 750 Loss 0.4946 Accuracy 75.1796 AUC 0.8043\n"
          ],
          "name": "stdout"
        },
        {
          "output_type": "stream",
          "text": [
            "27-12 20:51 root         INFO     Epoch TRAIN 116 Loss 0.4946 Accuracy 75.1769 AUC 0.8043\n"
          ],
          "name": "stderr"
        },
        {
          "output_type": "stream",
          "text": [
            "Time taken for 1 epoch: 153.38240242004395 secs\n",
            "\n",
            "Epoch 117 TRAIN Batch 0 Loss 0.4960 Accuracy 75.1618 AUC 0.8020\n",
            "Epoch 117 TRAIN Batch 50 Loss 0.4936 Accuracy 75.2020 AUC 0.8047\n",
            "Epoch 117 TRAIN Batch 100 Loss 0.4951 Accuracy 75.1275 AUC 0.8042\n",
            "Epoch 117 TRAIN Batch 150 Loss 0.4951 Accuracy 75.1284 AUC 0.8040\n",
            "Epoch 117 TRAIN Batch 200 Loss 0.4945 Accuracy 75.1835 AUC 0.8043\n",
            "Epoch 117 TRAIN Batch 250 Loss 0.4942 Accuracy 75.2112 AUC 0.8045\n",
            "Epoch 117 TRAIN Batch 300 Loss 0.4944 Accuracy 75.1928 AUC 0.8045\n",
            "Epoch 117 TRAIN Batch 350 Loss 0.4941 Accuracy 75.2156 AUC 0.8047\n",
            "Epoch 117 TRAIN Batch 400 Loss 0.4942 Accuracy 75.2088 AUC 0.8047\n",
            "Epoch 117 TRAIN Batch 450 Loss 0.4942 Accuracy 75.2050 AUC 0.8046\n",
            "Epoch 117 TRAIN Batch 500 Loss 0.4944 Accuracy 75.1901 AUC 0.8045\n",
            "Epoch 117 TRAIN Batch 550 Loss 0.4944 Accuracy 75.1929 AUC 0.8044\n",
            "Epoch 117 TRAIN Batch 600 Loss 0.4943 Accuracy 75.1979 AUC 0.8044\n",
            "Epoch 117 TRAIN Batch 650 Loss 0.4941 Accuracy 75.2048 AUC 0.8045\n",
            "Epoch 117 TRAIN Batch 700 Loss 0.4942 Accuracy 75.2016 AUC 0.8045\n",
            "Epoch 117 TRAIN Batch 750 Loss 0.4943 Accuracy 75.1897 AUC 0.8045\n"
          ],
          "name": "stdout"
        },
        {
          "output_type": "stream",
          "text": [
            "27-12 20:53 root         INFO     Epoch TRAIN 117 Loss 0.4943 Accuracy 75.1925 AUC 0.8045\n"
          ],
          "name": "stderr"
        },
        {
          "output_type": "stream",
          "text": [
            "Time taken for 1 epoch: 153.58086347579956 secs\n",
            "\n",
            "Epoch 118 TRAIN Batch 0 Loss 0.4941 Accuracy 74.8488 AUC 0.8041\n",
            "Epoch 118 TRAIN Batch 50 Loss 0.4953 Accuracy 75.0856 AUC 0.8036\n",
            "Epoch 118 TRAIN Batch 100 Loss 0.4951 Accuracy 75.1130 AUC 0.8040\n",
            "Epoch 118 TRAIN Batch 150 Loss 0.4949 Accuracy 75.1344 AUC 0.8042\n",
            "Epoch 118 TRAIN Batch 200 Loss 0.4942 Accuracy 75.1842 AUC 0.8044\n",
            "Epoch 118 TRAIN Batch 250 Loss 0.4943 Accuracy 75.1954 AUC 0.8044\n",
            "Epoch 118 TRAIN Batch 300 Loss 0.4946 Accuracy 75.1703 AUC 0.8042\n",
            "Epoch 118 TRAIN Batch 350 Loss 0.4948 Accuracy 75.1527 AUC 0.8040\n",
            "Epoch 118 TRAIN Batch 400 Loss 0.4946 Accuracy 75.1683 AUC 0.8042\n",
            "Epoch 118 TRAIN Batch 450 Loss 0.4946 Accuracy 75.1708 AUC 0.8042\n",
            "Epoch 118 TRAIN Batch 500 Loss 0.4946 Accuracy 75.1621 AUC 0.8042\n",
            "Epoch 118 TRAIN Batch 550 Loss 0.4947 Accuracy 75.1551 AUC 0.8041\n",
            "Epoch 118 TRAIN Batch 600 Loss 0.4947 Accuracy 75.1571 AUC 0.8041\n",
            "Epoch 118 TRAIN Batch 650 Loss 0.4948 Accuracy 75.1502 AUC 0.8040\n",
            "Epoch 118 TRAIN Batch 700 Loss 0.4950 Accuracy 75.1407 AUC 0.8040\n",
            "Epoch 118 TRAIN Batch 750 Loss 0.4949 Accuracy 75.1384 AUC 0.8041\n"
          ],
          "name": "stdout"
        },
        {
          "output_type": "stream",
          "text": [
            "27-12 20:56 root         INFO     Epoch TRAIN 118 Loss 0.4950 Accuracy 75.1362 AUC 0.8040\n"
          ],
          "name": "stderr"
        },
        {
          "output_type": "stream",
          "text": [
            "Time taken for 1 epoch: 152.89752888679504 secs\n",
            "\n",
            "Epoch 119 TRAIN Batch 0 Loss 0.4847 Accuracy 75.6019 AUC 0.8076\n",
            "Epoch 119 TRAIN Batch 50 Loss 0.4930 Accuracy 75.2909 AUC 0.8052\n",
            "Epoch 119 TRAIN Batch 100 Loss 0.4929 Accuracy 75.3011 AUC 0.8052\n",
            "Epoch 119 TRAIN Batch 150 Loss 0.4933 Accuracy 75.2677 AUC 0.8048\n",
            "Epoch 119 TRAIN Batch 200 Loss 0.4933 Accuracy 75.2724 AUC 0.8047\n",
            "Epoch 119 TRAIN Batch 250 Loss 0.4935 Accuracy 75.2539 AUC 0.8046\n",
            "Epoch 119 TRAIN Batch 300 Loss 0.4939 Accuracy 75.2288 AUC 0.8045\n",
            "Epoch 119 TRAIN Batch 350 Loss 0.4941 Accuracy 75.2072 AUC 0.8043\n",
            "Epoch 119 TRAIN Batch 400 Loss 0.4940 Accuracy 75.2181 AUC 0.8045\n",
            "Epoch 119 TRAIN Batch 450 Loss 0.4941 Accuracy 75.2144 AUC 0.8044\n",
            "Epoch 119 TRAIN Batch 500 Loss 0.4940 Accuracy 75.2231 AUC 0.8043\n",
            "Epoch 119 TRAIN Batch 550 Loss 0.4940 Accuracy 75.2251 AUC 0.8044\n",
            "Epoch 119 TRAIN Batch 600 Loss 0.4942 Accuracy 75.2089 AUC 0.8043\n",
            "Epoch 119 TRAIN Batch 650 Loss 0.4940 Accuracy 75.2205 AUC 0.8044\n",
            "Epoch 119 TRAIN Batch 700 Loss 0.4940 Accuracy 75.2151 AUC 0.8045\n",
            "Epoch 119 TRAIN Batch 750 Loss 0.4940 Accuracy 75.2162 AUC 0.8045\n"
          ],
          "name": "stdout"
        },
        {
          "output_type": "stream",
          "text": [
            "27-12 20:58 root         INFO     Epoch TRAIN 119 Loss 0.4941 Accuracy 75.2143 AUC 0.8046\n"
          ],
          "name": "stderr"
        },
        {
          "output_type": "stream",
          "text": [
            "Time taken for 1 epoch: 154.9575436115265 secs\n",
            "\n",
            "Epoch 120 TRAIN Batch 0 Loss 0.5178 Accuracy 73.8474 AUC 0.7921\n",
            "Epoch 120 TRAIN Batch 50 Loss 0.4925 Accuracy 75.2861 AUC 0.8047\n",
            "Epoch 120 TRAIN Batch 100 Loss 0.4926 Accuracy 75.2675 AUC 0.8051\n",
            "Epoch 120 TRAIN Batch 150 Loss 0.4929 Accuracy 75.2507 AUC 0.8049\n",
            "Epoch 120 TRAIN Batch 200 Loss 0.4936 Accuracy 75.2077 AUC 0.8048\n",
            "Epoch 120 TRAIN Batch 250 Loss 0.4935 Accuracy 75.2228 AUC 0.8050\n",
            "Epoch 120 TRAIN Batch 300 Loss 0.4932 Accuracy 75.2421 AUC 0.8053\n",
            "Epoch 120 TRAIN Batch 350 Loss 0.4932 Accuracy 75.2421 AUC 0.8054\n",
            "Epoch 120 TRAIN Batch 400 Loss 0.4935 Accuracy 75.2326 AUC 0.8052\n",
            "Epoch 120 TRAIN Batch 450 Loss 0.4937 Accuracy 75.2224 AUC 0.8050\n",
            "Epoch 120 TRAIN Batch 500 Loss 0.4937 Accuracy 75.2232 AUC 0.8050\n",
            "Epoch 120 TRAIN Batch 550 Loss 0.4936 Accuracy 75.2313 AUC 0.8050\n",
            "Epoch 120 TRAIN Batch 600 Loss 0.4935 Accuracy 75.2440 AUC 0.8051\n",
            "Epoch 120 TRAIN Batch 650 Loss 0.4936 Accuracy 75.2301 AUC 0.8051\n",
            "Epoch 120 TRAIN Batch 700 Loss 0.4938 Accuracy 75.2202 AUC 0.8050\n",
            "Epoch 120 TRAIN Batch 750 Loss 0.4939 Accuracy 75.2101 AUC 0.8050\n"
          ],
          "name": "stdout"
        },
        {
          "output_type": "stream",
          "text": [
            "27-12 21:01 root         INFO     Epoch TRAIN 120 Loss 0.4938 Accuracy 75.2163 AUC 0.8050\n"
          ],
          "name": "stderr"
        },
        {
          "output_type": "stream",
          "text": [
            "Epoch 120 VAL Batch 0 Loss 0.4932 Accuracy 75.6051 AUC 0.7984\n",
            "Epoch 120 VAL Batch 50 Loss 0.4968 Accuracy 75.1885 AUC 0.8014\n",
            "Epoch 120 VAL Batch 100 Loss 0.4952 Accuracy 75.2511 AUC 0.8025\n",
            "Epoch 120 VAL Batch 150 Loss 0.4950 Accuracy 75.2436 AUC 0.8026\n",
            "Epoch 120 VAL Batch 200 Loss 0.4950 Accuracy 75.2500 AUC 0.8027\n",
            "Epoch 120 VAL Batch 250 Loss 0.4953 Accuracy 75.2084 AUC 0.8027\n",
            "Epoch 120 VAL Batch 300 Loss 0.4958 Accuracy 75.1689 AUC 0.8025\n",
            "Epoch 120 VAL Batch 350 Loss 0.4960 Accuracy 75.1494 AUC 0.8025\n",
            "Epoch 120 VAL Batch 400 Loss 0.4962 Accuracy 75.1418 AUC 0.8023\n",
            "Epoch 120 VAL Batch 450 Loss 0.4963 Accuracy 75.1408 AUC 0.8023\n",
            "Epoch 120 VAL Batch 500 Loss 0.4962 Accuracy 75.1418 AUC 0.8023\n",
            "Epoch 120 VAL Batch 550 Loss 0.4963 Accuracy 75.1396 AUC 0.8022\n",
            "Epoch 120 VAL Batch 600 Loss 0.4962 Accuracy 75.1514 AUC 0.8023\n",
            "Epoch 120 VAL Batch 650 Loss 0.4963 Accuracy 75.1405 AUC 0.8022\n",
            "Epoch 120 VAL Batch 700 Loss 0.4962 Accuracy 75.1459 AUC 0.8023\n",
            "Epoch 120 VAL Batch 750 Loss 0.4963 Accuracy 75.1417 AUC 0.8023\n"
          ],
          "name": "stdout"
        },
        {
          "output_type": "stream",
          "text": [
            "27-12 21:01 root         INFO     Epoch VAL 120 Loss 0.4964 Accuracy 75.1305 AUC 0.8023\n",
            "27-12 21:01 root         INFO     Saving checkpoint for epoch 120 at 27-Dec-riiid-1/checkpoints/ckpt-22\n"
          ],
          "name": "stderr"
        },
        {
          "output_type": "stream",
          "text": [
            "Time taken for 1 epoch: 185.1288046836853 secs\n",
            "\n",
            "Epoch 121 TRAIN Batch 0 Loss 0.5091 Accuracy 74.2395 AUC 0.7978\n",
            "Epoch 121 TRAIN Batch 50 Loss 0.4928 Accuracy 75.3724 AUC 0.8052\n",
            "Epoch 121 TRAIN Batch 100 Loss 0.4935 Accuracy 75.2854 AUC 0.8048\n",
            "Epoch 121 TRAIN Batch 150 Loss 0.4938 Accuracy 75.2634 AUC 0.8047\n",
            "Epoch 121 TRAIN Batch 200 Loss 0.4940 Accuracy 75.2481 AUC 0.8045\n",
            "Epoch 121 TRAIN Batch 250 Loss 0.4940 Accuracy 75.2354 AUC 0.8046\n",
            "Epoch 121 TRAIN Batch 300 Loss 0.4943 Accuracy 75.2156 AUC 0.8045\n",
            "Epoch 121 TRAIN Batch 350 Loss 0.4942 Accuracy 75.2251 AUC 0.8046\n",
            "Epoch 121 TRAIN Batch 400 Loss 0.4940 Accuracy 75.2353 AUC 0.8047\n",
            "Epoch 121 TRAIN Batch 450 Loss 0.4941 Accuracy 75.2263 AUC 0.8047\n",
            "Epoch 121 TRAIN Batch 500 Loss 0.4939 Accuracy 75.2379 AUC 0.8049\n",
            "Epoch 121 TRAIN Batch 550 Loss 0.4937 Accuracy 75.2463 AUC 0.8049\n",
            "Epoch 121 TRAIN Batch 600 Loss 0.4938 Accuracy 75.2361 AUC 0.8048\n",
            "Epoch 121 TRAIN Batch 650 Loss 0.4939 Accuracy 75.2357 AUC 0.8048\n",
            "Epoch 121 TRAIN Batch 700 Loss 0.4939 Accuracy 75.2322 AUC 0.8048\n",
            "Epoch 121 TRAIN Batch 750 Loss 0.4940 Accuracy 75.2241 AUC 0.8047\n"
          ],
          "name": "stdout"
        },
        {
          "output_type": "stream",
          "text": [
            "27-12 21:04 root         INFO     Epoch TRAIN 121 Loss 0.4939 Accuracy 75.2280 AUC 0.8047\n"
          ],
          "name": "stderr"
        },
        {
          "output_type": "stream",
          "text": [
            "Time taken for 1 epoch: 152.13200688362122 secs\n",
            "\n",
            "Epoch 122 TRAIN Batch 0 Loss 0.4865 Accuracy 76.0859 AUC 0.8055\n",
            "Epoch 122 TRAIN Batch 50 Loss 0.4957 Accuracy 75.1510 AUC 0.8054\n",
            "Epoch 122 TRAIN Batch 100 Loss 0.4950 Accuracy 75.1651 AUC 0.8054\n",
            "Epoch 122 TRAIN Batch 150 Loss 0.4943 Accuracy 75.1971 AUC 0.8053\n",
            "Epoch 122 TRAIN Batch 200 Loss 0.4944 Accuracy 75.1910 AUC 0.8049\n",
            "Epoch 122 TRAIN Batch 250 Loss 0.4944 Accuracy 75.1905 AUC 0.8049\n",
            "Epoch 122 TRAIN Batch 300 Loss 0.4943 Accuracy 75.1839 AUC 0.8049\n",
            "Epoch 122 TRAIN Batch 350 Loss 0.4940 Accuracy 75.1912 AUC 0.8048\n",
            "Epoch 122 TRAIN Batch 400 Loss 0.4941 Accuracy 75.1901 AUC 0.8047\n",
            "Epoch 122 TRAIN Batch 450 Loss 0.4941 Accuracy 75.1910 AUC 0.8046\n",
            "Epoch 122 TRAIN Batch 500 Loss 0.4940 Accuracy 75.1964 AUC 0.8047\n",
            "Epoch 122 TRAIN Batch 550 Loss 0.4941 Accuracy 75.1963 AUC 0.8047\n",
            "Epoch 122 TRAIN Batch 600 Loss 0.4941 Accuracy 75.1951 AUC 0.8047\n",
            "Epoch 122 TRAIN Batch 650 Loss 0.4940 Accuracy 75.2041 AUC 0.8047\n",
            "Epoch 122 TRAIN Batch 700 Loss 0.4941 Accuracy 75.2001 AUC 0.8046\n",
            "Epoch 122 TRAIN Batch 750 Loss 0.4941 Accuracy 75.1991 AUC 0.8047\n"
          ],
          "name": "stdout"
        },
        {
          "output_type": "stream",
          "text": [
            "27-12 21:06 root         INFO     Epoch TRAIN 122 Loss 0.4941 Accuracy 75.1972 AUC 0.8047\n"
          ],
          "name": "stderr"
        },
        {
          "output_type": "stream",
          "text": [
            "Time taken for 1 epoch: 153.41505932807922 secs\n",
            "\n",
            "Epoch 123 TRAIN Batch 0 Loss 0.4894 Accuracy 75.3802 AUC 0.8028\n",
            "Epoch 123 TRAIN Batch 50 Loss 0.4933 Accuracy 75.3045 AUC 0.8048\n",
            "Epoch 123 TRAIN Batch 100 Loss 0.4945 Accuracy 75.1842 AUC 0.8042\n",
            "Epoch 123 TRAIN Batch 150 Loss 0.4939 Accuracy 75.2374 AUC 0.8044\n",
            "Epoch 123 TRAIN Batch 200 Loss 0.4935 Accuracy 75.2694 AUC 0.8046\n",
            "Epoch 123 TRAIN Batch 250 Loss 0.4938 Accuracy 75.2487 AUC 0.8045\n",
            "Epoch 123 TRAIN Batch 300 Loss 0.4936 Accuracy 75.2497 AUC 0.8046\n",
            "Epoch 123 TRAIN Batch 350 Loss 0.4938 Accuracy 75.2312 AUC 0.8045\n",
            "Epoch 123 TRAIN Batch 400 Loss 0.4940 Accuracy 75.2207 AUC 0.8043\n",
            "Epoch 123 TRAIN Batch 450 Loss 0.4939 Accuracy 75.2279 AUC 0.8044\n",
            "Epoch 123 TRAIN Batch 500 Loss 0.4940 Accuracy 75.2252 AUC 0.8045\n",
            "Epoch 123 TRAIN Batch 550 Loss 0.4941 Accuracy 75.2131 AUC 0.8044\n",
            "Epoch 123 TRAIN Batch 600 Loss 0.4940 Accuracy 75.2162 AUC 0.8044\n",
            "Epoch 123 TRAIN Batch 650 Loss 0.4939 Accuracy 75.2198 AUC 0.8045\n",
            "Epoch 123 TRAIN Batch 700 Loss 0.4941 Accuracy 75.2155 AUC 0.8044\n",
            "Epoch 123 TRAIN Batch 750 Loss 0.4941 Accuracy 75.2141 AUC 0.8044\n"
          ],
          "name": "stdout"
        },
        {
          "output_type": "stream",
          "text": [
            "27-12 21:09 root         INFO     Epoch TRAIN 123 Loss 0.4940 Accuracy 75.2180 AUC 0.8044\n"
          ],
          "name": "stderr"
        },
        {
          "output_type": "stream",
          "text": [
            "Time taken for 1 epoch: 152.57286024093628 secs\n",
            "\n",
            "Epoch 124 TRAIN Batch 0 Loss 0.5066 Accuracy 74.0268 AUC 0.7964\n",
            "Epoch 124 TRAIN Batch 50 Loss 0.4967 Accuracy 74.9585 AUC 0.8033\n",
            "Epoch 124 TRAIN Batch 100 Loss 0.4955 Accuracy 75.0455 AUC 0.8042\n",
            "Epoch 124 TRAIN Batch 150 Loss 0.4946 Accuracy 75.1325 AUC 0.8047\n",
            "Epoch 124 TRAIN Batch 200 Loss 0.4952 Accuracy 75.1052 AUC 0.8041\n",
            "Epoch 124 TRAIN Batch 250 Loss 0.4951 Accuracy 75.1193 AUC 0.8043\n",
            "Epoch 124 TRAIN Batch 300 Loss 0.4948 Accuracy 75.1471 AUC 0.8044\n",
            "Epoch 124 TRAIN Batch 350 Loss 0.4948 Accuracy 75.1497 AUC 0.8045\n",
            "Epoch 124 TRAIN Batch 400 Loss 0.4947 Accuracy 75.1603 AUC 0.8046\n",
            "Epoch 124 TRAIN Batch 450 Loss 0.4945 Accuracy 75.1789 AUC 0.8047\n",
            "Epoch 124 TRAIN Batch 500 Loss 0.4943 Accuracy 75.1979 AUC 0.8048\n",
            "Epoch 124 TRAIN Batch 550 Loss 0.4943 Accuracy 75.1959 AUC 0.8048\n",
            "Epoch 124 TRAIN Batch 600 Loss 0.4945 Accuracy 75.1910 AUC 0.8048\n",
            "Epoch 124 TRAIN Batch 650 Loss 0.4945 Accuracy 75.1850 AUC 0.8048\n",
            "Epoch 124 TRAIN Batch 700 Loss 0.4944 Accuracy 75.1899 AUC 0.8048\n",
            "Epoch 124 TRAIN Batch 750 Loss 0.4945 Accuracy 75.1833 AUC 0.8048\n"
          ],
          "name": "stdout"
        },
        {
          "output_type": "stream",
          "text": [
            "27-12 21:12 root         INFO     Epoch TRAIN 124 Loss 0.4945 Accuracy 75.1857 AUC 0.8048\n"
          ],
          "name": "stderr"
        },
        {
          "output_type": "stream",
          "text": [
            "Time taken for 1 epoch: 153.14228558540344 secs\n",
            "\n",
            "Epoch 125 TRAIN Batch 0 Loss 0.4983 Accuracy 75.2491 AUC 0.8050\n",
            "Epoch 125 TRAIN Batch 50 Loss 0.4935 Accuracy 75.2549 AUC 0.8057\n",
            "Epoch 125 TRAIN Batch 100 Loss 0.4928 Accuracy 75.2943 AUC 0.8060\n",
            "Epoch 125 TRAIN Batch 150 Loss 0.4930 Accuracy 75.2818 AUC 0.8056\n",
            "Epoch 125 TRAIN Batch 200 Loss 0.4934 Accuracy 75.2687 AUC 0.8054\n",
            "Epoch 125 TRAIN Batch 250 Loss 0.4936 Accuracy 75.2539 AUC 0.8051\n",
            "Epoch 125 TRAIN Batch 300 Loss 0.4936 Accuracy 75.2536 AUC 0.8052\n",
            "Epoch 125 TRAIN Batch 350 Loss 0.4937 Accuracy 75.2598 AUC 0.8050\n",
            "Epoch 125 TRAIN Batch 400 Loss 0.4936 Accuracy 75.2606 AUC 0.8051\n",
            "Epoch 125 TRAIN Batch 450 Loss 0.4934 Accuracy 75.2562 AUC 0.8051\n",
            "Epoch 125 TRAIN Batch 500 Loss 0.4937 Accuracy 75.2387 AUC 0.8049\n",
            "Epoch 125 TRAIN Batch 550 Loss 0.4937 Accuracy 75.2339 AUC 0.8049\n",
            "Epoch 125 TRAIN Batch 600 Loss 0.4937 Accuracy 75.2358 AUC 0.8049\n",
            "Epoch 125 TRAIN Batch 650 Loss 0.4938 Accuracy 75.2282 AUC 0.8049\n",
            "Epoch 125 TRAIN Batch 700 Loss 0.4938 Accuracy 75.2316 AUC 0.8050\n",
            "Epoch 125 TRAIN Batch 750 Loss 0.4938 Accuracy 75.2281 AUC 0.8049\n"
          ],
          "name": "stdout"
        },
        {
          "output_type": "stream",
          "text": [
            "27-12 21:14 root         INFO     Epoch TRAIN 125 Loss 0.4938 Accuracy 75.2276 AUC 0.8049\n"
          ],
          "name": "stderr"
        },
        {
          "output_type": "stream",
          "text": [
            "Epoch 125 VAL Batch 0 Loss 0.4932 Accuracy 75.2198 AUC 0.7989\n",
            "Epoch 125 VAL Batch 50 Loss 0.4968 Accuracy 75.1477 AUC 0.8016\n",
            "Epoch 125 VAL Batch 100 Loss 0.4952 Accuracy 75.2260 AUC 0.8026\n",
            "Epoch 125 VAL Batch 150 Loss 0.4951 Accuracy 75.2152 AUC 0.8026\n",
            "Epoch 125 VAL Batch 200 Loss 0.4950 Accuracy 75.2173 AUC 0.8028\n",
            "Epoch 125 VAL Batch 250 Loss 0.4954 Accuracy 75.1814 AUC 0.8028\n",
            "Epoch 125 VAL Batch 300 Loss 0.4959 Accuracy 75.1501 AUC 0.8026\n",
            "Epoch 125 VAL Batch 350 Loss 0.4961 Accuracy 75.1284 AUC 0.8026\n",
            "Epoch 125 VAL Batch 400 Loss 0.4963 Accuracy 75.1188 AUC 0.8024\n",
            "Epoch 125 VAL Batch 450 Loss 0.4963 Accuracy 75.1181 AUC 0.8023\n",
            "Epoch 125 VAL Batch 500 Loss 0.4963 Accuracy 75.1156 AUC 0.8024\n",
            "Epoch 125 VAL Batch 550 Loss 0.4964 Accuracy 75.1169 AUC 0.8023\n",
            "Epoch 125 VAL Batch 600 Loss 0.4962 Accuracy 75.1301 AUC 0.8024\n",
            "Epoch 125 VAL Batch 650 Loss 0.4964 Accuracy 75.1185 AUC 0.8022\n",
            "Epoch 125 VAL Batch 700 Loss 0.4963 Accuracy 75.1250 AUC 0.8024\n",
            "Epoch 125 VAL Batch 750 Loss 0.4964 Accuracy 75.1180 AUC 0.8024\n"
          ],
          "name": "stdout"
        },
        {
          "output_type": "stream",
          "text": [
            "27-12 21:15 root         INFO     Epoch VAL 125 Loss 0.4965 Accuracy 75.1080 AUC 0.8024\n",
            "27-12 21:15 root         INFO     Saving checkpoint for epoch 125 at 27-Dec-riiid-1/checkpoints/ckpt-23\n"
          ],
          "name": "stderr"
        },
        {
          "output_type": "stream",
          "text": [
            "Time taken for 1 epoch: 185.8690266609192 secs\n",
            "\n",
            "Epoch 126 TRAIN Batch 0 Loss 0.5066 Accuracy 73.9987 AUC 0.7930\n",
            "Epoch 126 TRAIN Batch 50 Loss 0.4940 Accuracy 75.2060 AUC 0.8032\n",
            "Epoch 126 TRAIN Batch 100 Loss 0.4945 Accuracy 75.1921 AUC 0.8036\n",
            "Epoch 126 TRAIN Batch 150 Loss 0.4944 Accuracy 75.2085 AUC 0.8038\n",
            "Epoch 126 TRAIN Batch 200 Loss 0.4939 Accuracy 75.2354 AUC 0.8044\n",
            "Epoch 126 TRAIN Batch 250 Loss 0.4941 Accuracy 75.2120 AUC 0.8044\n",
            "Epoch 126 TRAIN Batch 300 Loss 0.4941 Accuracy 75.2075 AUC 0.8043\n",
            "Epoch 126 TRAIN Batch 350 Loss 0.4937 Accuracy 75.2426 AUC 0.8044\n",
            "Epoch 126 TRAIN Batch 400 Loss 0.4938 Accuracy 75.2383 AUC 0.8045\n",
            "Epoch 126 TRAIN Batch 450 Loss 0.4939 Accuracy 75.2243 AUC 0.8045\n",
            "Epoch 126 TRAIN Batch 500 Loss 0.4940 Accuracy 75.2196 AUC 0.8045\n",
            "Epoch 126 TRAIN Batch 550 Loss 0.4938 Accuracy 75.2307 AUC 0.8046\n",
            "Epoch 126 TRAIN Batch 600 Loss 0.4937 Accuracy 75.2377 AUC 0.8047\n",
            "Epoch 126 TRAIN Batch 650 Loss 0.4936 Accuracy 75.2437 AUC 0.8048\n",
            "Epoch 126 TRAIN Batch 700 Loss 0.4937 Accuracy 75.2386 AUC 0.8048\n",
            "Epoch 126 TRAIN Batch 750 Loss 0.4936 Accuracy 75.2425 AUC 0.8048\n"
          ],
          "name": "stdout"
        },
        {
          "output_type": "stream",
          "text": [
            "27-12 21:17 root         INFO     Epoch TRAIN 126 Loss 0.4936 Accuracy 75.2366 AUC 0.8048\n"
          ],
          "name": "stderr"
        },
        {
          "output_type": "stream",
          "text": [
            "Time taken for 1 epoch: 153.54619526863098 secs\n",
            "\n",
            "Epoch 127 TRAIN Batch 0 Loss 0.4946 Accuracy 75.1639 AUC 0.8037\n",
            "Epoch 127 TRAIN Batch 50 Loss 0.4943 Accuracy 75.2346 AUC 0.8052\n",
            "Epoch 127 TRAIN Batch 100 Loss 0.4938 Accuracy 75.2216 AUC 0.8048\n",
            "Epoch 127 TRAIN Batch 150 Loss 0.4930 Accuracy 75.2853 AUC 0.8053\n",
            "Epoch 127 TRAIN Batch 200 Loss 0.4935 Accuracy 75.2626 AUC 0.8053\n",
            "Epoch 127 TRAIN Batch 250 Loss 0.4933 Accuracy 75.2800 AUC 0.8053\n",
            "Epoch 127 TRAIN Batch 300 Loss 0.4935 Accuracy 75.2647 AUC 0.8052\n",
            "Epoch 127 TRAIN Batch 350 Loss 0.4936 Accuracy 75.2509 AUC 0.8051\n",
            "Epoch 127 TRAIN Batch 400 Loss 0.4936 Accuracy 75.2530 AUC 0.8051\n",
            "Epoch 127 TRAIN Batch 450 Loss 0.4933 Accuracy 75.2701 AUC 0.8054\n",
            "Epoch 127 TRAIN Batch 500 Loss 0.4934 Accuracy 75.2640 AUC 0.8053\n",
            "Epoch 127 TRAIN Batch 550 Loss 0.4936 Accuracy 75.2505 AUC 0.8052\n",
            "Epoch 127 TRAIN Batch 600 Loss 0.4935 Accuracy 75.2499 AUC 0.8051\n",
            "Epoch 127 TRAIN Batch 650 Loss 0.4936 Accuracy 75.2420 AUC 0.8051\n",
            "Epoch 127 TRAIN Batch 700 Loss 0.4935 Accuracy 75.2483 AUC 0.8052\n",
            "Epoch 127 TRAIN Batch 750 Loss 0.4937 Accuracy 75.2376 AUC 0.8051\n"
          ],
          "name": "stdout"
        },
        {
          "output_type": "stream",
          "text": [
            "27-12 21:20 root         INFO     Epoch TRAIN 127 Loss 0.4937 Accuracy 75.2368 AUC 0.8051\n"
          ],
          "name": "stderr"
        },
        {
          "output_type": "stream",
          "text": [
            "Time taken for 1 epoch: 152.24308443069458 secs\n",
            "\n",
            "Epoch 128 TRAIN Batch 0 Loss 0.5008 Accuracy 74.3302 AUC 0.8022\n",
            "Epoch 128 TRAIN Batch 50 Loss 0.4922 Accuracy 75.3131 AUC 0.8053\n",
            "Epoch 128 TRAIN Batch 100 Loss 0.4927 Accuracy 75.2702 AUC 0.8055\n",
            "Epoch 128 TRAIN Batch 150 Loss 0.4927 Accuracy 75.2664 AUC 0.8055\n",
            "Epoch 128 TRAIN Batch 200 Loss 0.4926 Accuracy 75.2994 AUC 0.8057\n",
            "Epoch 128 TRAIN Batch 250 Loss 0.4928 Accuracy 75.2891 AUC 0.8056\n",
            "Epoch 128 TRAIN Batch 300 Loss 0.4930 Accuracy 75.2753 AUC 0.8054\n",
            "Epoch 128 TRAIN Batch 350 Loss 0.4931 Accuracy 75.2660 AUC 0.8054\n",
            "Epoch 128 TRAIN Batch 400 Loss 0.4934 Accuracy 75.2454 AUC 0.8051\n",
            "Epoch 128 TRAIN Batch 450 Loss 0.4935 Accuracy 75.2394 AUC 0.8051\n",
            "Epoch 128 TRAIN Batch 500 Loss 0.4936 Accuracy 75.2327 AUC 0.8051\n",
            "Epoch 128 TRAIN Batch 550 Loss 0.4935 Accuracy 75.2372 AUC 0.8051\n",
            "Epoch 128 TRAIN Batch 600 Loss 0.4936 Accuracy 75.2347 AUC 0.8051\n",
            "Epoch 128 TRAIN Batch 650 Loss 0.4937 Accuracy 75.2286 AUC 0.8051\n",
            "Epoch 128 TRAIN Batch 700 Loss 0.4938 Accuracy 75.2177 AUC 0.8051\n",
            "Epoch 128 TRAIN Batch 750 Loss 0.4939 Accuracy 75.2129 AUC 0.8051\n"
          ],
          "name": "stdout"
        },
        {
          "output_type": "stream",
          "text": [
            "27-12 21:22 root         INFO     Epoch TRAIN 128 Loss 0.4938 Accuracy 75.2178 AUC 0.8051\n"
          ],
          "name": "stderr"
        },
        {
          "output_type": "stream",
          "text": [
            "Time taken for 1 epoch: 153.01325631141663 secs\n",
            "\n",
            "Epoch 129 TRAIN Batch 0 Loss 0.5044 Accuracy 74.4658 AUC 0.7956\n",
            "Epoch 129 TRAIN Batch 50 Loss 0.4937 Accuracy 75.2743 AUC 0.8051\n",
            "Epoch 129 TRAIN Batch 100 Loss 0.4935 Accuracy 75.2497 AUC 0.8053\n",
            "Epoch 129 TRAIN Batch 150 Loss 0.4933 Accuracy 75.2581 AUC 0.8055\n",
            "Epoch 129 TRAIN Batch 200 Loss 0.4938 Accuracy 75.2282 AUC 0.8052\n",
            "Epoch 129 TRAIN Batch 250 Loss 0.4939 Accuracy 75.2096 AUC 0.8050\n",
            "Epoch 129 TRAIN Batch 300 Loss 0.4937 Accuracy 75.2210 AUC 0.8051\n",
            "Epoch 129 TRAIN Batch 350 Loss 0.4938 Accuracy 75.2173 AUC 0.8050\n",
            "Epoch 129 TRAIN Batch 400 Loss 0.4940 Accuracy 75.1958 AUC 0.8049\n",
            "Epoch 129 TRAIN Batch 450 Loss 0.4940 Accuracy 75.1983 AUC 0.8050\n",
            "Epoch 129 TRAIN Batch 500 Loss 0.4939 Accuracy 75.2023 AUC 0.8050\n",
            "Epoch 129 TRAIN Batch 550 Loss 0.4940 Accuracy 75.1942 AUC 0.8049\n",
            "Epoch 129 TRAIN Batch 600 Loss 0.4941 Accuracy 75.1885 AUC 0.8048\n",
            "Epoch 129 TRAIN Batch 650 Loss 0.4941 Accuracy 75.1905 AUC 0.8048\n",
            "Epoch 129 TRAIN Batch 700 Loss 0.4942 Accuracy 75.1893 AUC 0.8047\n",
            "Epoch 129 TRAIN Batch 750 Loss 0.4942 Accuracy 75.1924 AUC 0.8047\n"
          ],
          "name": "stdout"
        },
        {
          "output_type": "stream",
          "text": [
            "27-12 21:25 root         INFO     Epoch TRAIN 129 Loss 0.4942 Accuracy 75.1932 AUC 0.8047\n"
          ],
          "name": "stderr"
        },
        {
          "output_type": "stream",
          "text": [
            "Time taken for 1 epoch: 151.59224605560303 secs\n",
            "\n",
            "Epoch 130 TRAIN Batch 0 Loss 0.4928 Accuracy 75.3629 AUC 0.7990\n",
            "Epoch 130 TRAIN Batch 50 Loss 0.4930 Accuracy 75.2352 AUC 0.8060\n",
            "Epoch 130 TRAIN Batch 100 Loss 0.4925 Accuracy 75.2976 AUC 0.8062\n",
            "Epoch 130 TRAIN Batch 150 Loss 0.4930 Accuracy 75.2501 AUC 0.8056\n",
            "Epoch 130 TRAIN Batch 200 Loss 0.4931 Accuracy 75.2392 AUC 0.8055\n",
            "Epoch 130 TRAIN Batch 250 Loss 0.4932 Accuracy 75.2279 AUC 0.8055\n",
            "Epoch 130 TRAIN Batch 300 Loss 0.4934 Accuracy 75.2155 AUC 0.8055\n",
            "Epoch 130 TRAIN Batch 350 Loss 0.4936 Accuracy 75.2031 AUC 0.8052\n",
            "Epoch 130 TRAIN Batch 400 Loss 0.4934 Accuracy 75.2281 AUC 0.8052\n",
            "Epoch 130 TRAIN Batch 450 Loss 0.4934 Accuracy 75.2353 AUC 0.8051\n",
            "Epoch 130 TRAIN Batch 500 Loss 0.4934 Accuracy 75.2323 AUC 0.8051\n",
            "Epoch 130 TRAIN Batch 550 Loss 0.4932 Accuracy 75.2475 AUC 0.8053\n",
            "Epoch 130 TRAIN Batch 600 Loss 0.4933 Accuracy 75.2384 AUC 0.8052\n",
            "Epoch 130 TRAIN Batch 650 Loss 0.4932 Accuracy 75.2411 AUC 0.8052\n",
            "Epoch 130 TRAIN Batch 700 Loss 0.4932 Accuracy 75.2467 AUC 0.8052\n",
            "Epoch 130 TRAIN Batch 750 Loss 0.4933 Accuracy 75.2436 AUC 0.8052\n"
          ],
          "name": "stdout"
        },
        {
          "output_type": "stream",
          "text": [
            "27-12 21:27 root         INFO     Epoch TRAIN 130 Loss 0.4933 Accuracy 75.2430 AUC 0.8052\n"
          ],
          "name": "stderr"
        },
        {
          "output_type": "stream",
          "text": [
            "Epoch 130 VAL Batch 0 Loss 0.4932 Accuracy 75.2533 AUC 0.7992\n",
            "Epoch 130 VAL Batch 50 Loss 0.4966 Accuracy 75.1232 AUC 0.8015\n",
            "Epoch 130 VAL Batch 100 Loss 0.4950 Accuracy 75.2029 AUC 0.8026\n",
            "Epoch 130 VAL Batch 150 Loss 0.4949 Accuracy 75.2096 AUC 0.8027\n",
            "Epoch 130 VAL Batch 200 Loss 0.4948 Accuracy 75.2207 AUC 0.8028\n",
            "Epoch 130 VAL Batch 250 Loss 0.4951 Accuracy 75.1839 AUC 0.8028\n",
            "Epoch 130 VAL Batch 300 Loss 0.4957 Accuracy 75.1498 AUC 0.8026\n",
            "Epoch 130 VAL Batch 350 Loss 0.4959 Accuracy 75.1279 AUC 0.8026\n",
            "Epoch 130 VAL Batch 400 Loss 0.4961 Accuracy 75.1146 AUC 0.8024\n",
            "Epoch 130 VAL Batch 450 Loss 0.4961 Accuracy 75.1171 AUC 0.8023\n",
            "Epoch 130 VAL Batch 500 Loss 0.4960 Accuracy 75.1145 AUC 0.8024\n",
            "Epoch 130 VAL Batch 550 Loss 0.4961 Accuracy 75.1163 AUC 0.8023\n",
            "Epoch 130 VAL Batch 600 Loss 0.4960 Accuracy 75.1259 AUC 0.8024\n",
            "Epoch 130 VAL Batch 650 Loss 0.4962 Accuracy 75.1173 AUC 0.8023\n",
            "Epoch 130 VAL Batch 700 Loss 0.4960 Accuracy 75.1273 AUC 0.8024\n",
            "Epoch 130 VAL Batch 750 Loss 0.4961 Accuracy 75.1218 AUC 0.8024\n"
          ],
          "name": "stdout"
        },
        {
          "output_type": "stream",
          "text": [
            "27-12 21:28 root         INFO     Epoch VAL 130 Loss 0.4963 Accuracy 75.1109 AUC 0.8024\n",
            "27-12 21:28 root         INFO     Saving checkpoint for epoch 130 at 27-Dec-riiid-1/checkpoints/ckpt-24\n"
          ],
          "name": "stderr"
        },
        {
          "output_type": "stream",
          "text": [
            "Time taken for 1 epoch: 184.55424070358276 secs\n",
            "\n",
            "Epoch 131 TRAIN Batch 0 Loss 0.4937 Accuracy 74.9709 AUC 0.8037\n",
            "Epoch 131 TRAIN Batch 50 Loss 0.4928 Accuracy 75.2980 AUC 0.8048\n",
            "Epoch 131 TRAIN Batch 100 Loss 0.4927 Accuracy 75.2943 AUC 0.8051\n",
            "Epoch 131 TRAIN Batch 150 Loss 0.4931 Accuracy 75.2861 AUC 0.8049\n",
            "Epoch 131 TRAIN Batch 200 Loss 0.4931 Accuracy 75.2692 AUC 0.8049\n",
            "Epoch 131 TRAIN Batch 250 Loss 0.4928 Accuracy 75.2802 AUC 0.8051\n",
            "Epoch 131 TRAIN Batch 300 Loss 0.4926 Accuracy 75.3029 AUC 0.8055\n",
            "Epoch 131 TRAIN Batch 350 Loss 0.4927 Accuracy 75.2926 AUC 0.8057\n",
            "Epoch 131 TRAIN Batch 400 Loss 0.4929 Accuracy 75.2827 AUC 0.8055\n",
            "Epoch 131 TRAIN Batch 450 Loss 0.4931 Accuracy 75.2595 AUC 0.8054\n",
            "Epoch 131 TRAIN Batch 500 Loss 0.4931 Accuracy 75.2621 AUC 0.8054\n",
            "Epoch 131 TRAIN Batch 550 Loss 0.4932 Accuracy 75.2529 AUC 0.8054\n",
            "Epoch 131 TRAIN Batch 600 Loss 0.4931 Accuracy 75.2591 AUC 0.8054\n",
            "Epoch 131 TRAIN Batch 650 Loss 0.4931 Accuracy 75.2610 AUC 0.8055\n",
            "Epoch 131 TRAIN Batch 700 Loss 0.4931 Accuracy 75.2631 AUC 0.8055\n",
            "Epoch 131 TRAIN Batch 750 Loss 0.4932 Accuracy 75.2532 AUC 0.8055\n"
          ],
          "name": "stdout"
        },
        {
          "output_type": "stream",
          "text": [
            "27-12 21:30 root         INFO     Epoch TRAIN 131 Loss 0.4932 Accuracy 75.2481 AUC 0.8055\n"
          ],
          "name": "stderr"
        },
        {
          "output_type": "stream",
          "text": [
            "Time taken for 1 epoch: 152.20467734336853 secs\n",
            "\n",
            "Epoch 132 TRAIN Batch 0 Loss 0.4867 Accuracy 75.8467 AUC 0.8056\n",
            "Epoch 132 TRAIN Batch 50 Loss 0.4925 Accuracy 75.3613 AUC 0.8059\n",
            "Epoch 132 TRAIN Batch 100 Loss 0.4931 Accuracy 75.2763 AUC 0.8056\n",
            "Epoch 132 TRAIN Batch 150 Loss 0.4936 Accuracy 75.2247 AUC 0.8054\n",
            "Epoch 132 TRAIN Batch 200 Loss 0.4937 Accuracy 75.2181 AUC 0.8054\n",
            "Epoch 132 TRAIN Batch 250 Loss 0.4934 Accuracy 75.2367 AUC 0.8054\n",
            "Epoch 132 TRAIN Batch 300 Loss 0.4932 Accuracy 75.2516 AUC 0.8054\n",
            "Epoch 132 TRAIN Batch 350 Loss 0.4933 Accuracy 75.2430 AUC 0.8054\n",
            "Epoch 132 TRAIN Batch 400 Loss 0.4933 Accuracy 75.2535 AUC 0.8054\n",
            "Epoch 132 TRAIN Batch 450 Loss 0.4933 Accuracy 75.2525 AUC 0.8054\n",
            "Epoch 132 TRAIN Batch 500 Loss 0.4934 Accuracy 75.2396 AUC 0.8053\n",
            "Epoch 132 TRAIN Batch 550 Loss 0.4935 Accuracy 75.2339 AUC 0.8052\n",
            "Epoch 132 TRAIN Batch 600 Loss 0.4935 Accuracy 75.2343 AUC 0.8052\n",
            "Epoch 132 TRAIN Batch 650 Loss 0.4934 Accuracy 75.2386 AUC 0.8052\n",
            "Epoch 132 TRAIN Batch 700 Loss 0.4934 Accuracy 75.2359 AUC 0.8052\n",
            "Epoch 132 TRAIN Batch 750 Loss 0.4934 Accuracy 75.2368 AUC 0.8053\n"
          ],
          "name": "stdout"
        },
        {
          "output_type": "stream",
          "text": [
            "27-12 21:33 root         INFO     Epoch TRAIN 132 Loss 0.4934 Accuracy 75.2428 AUC 0.8053\n"
          ],
          "name": "stderr"
        },
        {
          "output_type": "stream",
          "text": [
            "Time taken for 1 epoch: 152.6461203098297 secs\n",
            "\n",
            "Epoch 133 TRAIN Batch 0 Loss 0.4870 Accuracy 75.8946 AUC 0.8135\n",
            "Epoch 133 TRAIN Batch 50 Loss 0.4938 Accuracy 75.1891 AUC 0.8063\n",
            "Epoch 133 TRAIN Batch 100 Loss 0.4937 Accuracy 75.1887 AUC 0.8062\n",
            "Epoch 133 TRAIN Batch 150 Loss 0.4944 Accuracy 75.1689 AUC 0.8056\n",
            "Epoch 133 TRAIN Batch 200 Loss 0.4940 Accuracy 75.2016 AUC 0.8055\n",
            "Epoch 133 TRAIN Batch 250 Loss 0.4936 Accuracy 75.2366 AUC 0.8058\n",
            "Epoch 133 TRAIN Batch 300 Loss 0.4937 Accuracy 75.2342 AUC 0.8056\n",
            "Epoch 133 TRAIN Batch 350 Loss 0.4938 Accuracy 75.2232 AUC 0.8054\n",
            "Epoch 133 TRAIN Batch 400 Loss 0.4938 Accuracy 75.2233 AUC 0.8054\n",
            "Epoch 133 TRAIN Batch 450 Loss 0.4936 Accuracy 75.2365 AUC 0.8055\n",
            "Epoch 133 TRAIN Batch 500 Loss 0.4936 Accuracy 75.2363 AUC 0.8055\n",
            "Epoch 133 TRAIN Batch 550 Loss 0.4935 Accuracy 75.2440 AUC 0.8055\n",
            "Epoch 133 TRAIN Batch 600 Loss 0.4935 Accuracy 75.2455 AUC 0.8055\n",
            "Epoch 133 TRAIN Batch 650 Loss 0.4935 Accuracy 75.2442 AUC 0.8055\n",
            "Epoch 133 TRAIN Batch 700 Loss 0.4936 Accuracy 75.2332 AUC 0.8054\n",
            "Epoch 133 TRAIN Batch 750 Loss 0.4935 Accuracy 75.2391 AUC 0.8055\n"
          ],
          "name": "stdout"
        },
        {
          "output_type": "stream",
          "text": [
            "27-12 21:36 root         INFO     Epoch TRAIN 133 Loss 0.4934 Accuracy 75.2486 AUC 0.8055\n"
          ],
          "name": "stderr"
        },
        {
          "output_type": "stream",
          "text": [
            "Time taken for 1 epoch: 152.69344425201416 secs\n",
            "\n",
            "Epoch 134 TRAIN Batch 0 Loss 0.4961 Accuracy 75.0548 AUC 0.8075\n",
            "Epoch 134 TRAIN Batch 50 Loss 0.4920 Accuracy 75.4365 AUC 0.8059\n",
            "Epoch 134 TRAIN Batch 100 Loss 0.4930 Accuracy 75.2785 AUC 0.8053\n",
            "Epoch 134 TRAIN Batch 150 Loss 0.4929 Accuracy 75.2862 AUC 0.8053\n",
            "Epoch 134 TRAIN Batch 200 Loss 0.4930 Accuracy 75.2721 AUC 0.8057\n",
            "Epoch 134 TRAIN Batch 250 Loss 0.4928 Accuracy 75.2754 AUC 0.8058\n",
            "Epoch 134 TRAIN Batch 300 Loss 0.4927 Accuracy 75.2834 AUC 0.8060\n",
            "Epoch 134 TRAIN Batch 350 Loss 0.4928 Accuracy 75.2942 AUC 0.8059\n",
            "Epoch 134 TRAIN Batch 400 Loss 0.4928 Accuracy 75.2882 AUC 0.8059\n",
            "Epoch 134 TRAIN Batch 450 Loss 0.4931 Accuracy 75.2735 AUC 0.8057\n",
            "Epoch 134 TRAIN Batch 500 Loss 0.4932 Accuracy 75.2670 AUC 0.8056\n",
            "Epoch 134 TRAIN Batch 550 Loss 0.4931 Accuracy 75.2680 AUC 0.8056\n",
            "Epoch 134 TRAIN Batch 600 Loss 0.4932 Accuracy 75.2616 AUC 0.8056\n",
            "Epoch 134 TRAIN Batch 650 Loss 0.4931 Accuracy 75.2654 AUC 0.8057\n",
            "Epoch 134 TRAIN Batch 700 Loss 0.4930 Accuracy 75.2735 AUC 0.8058\n",
            "Epoch 134 TRAIN Batch 750 Loss 0.4930 Accuracy 75.2700 AUC 0.8057\n"
          ],
          "name": "stdout"
        },
        {
          "output_type": "stream",
          "text": [
            "27-12 21:38 root         INFO     Epoch TRAIN 134 Loss 0.4931 Accuracy 75.2656 AUC 0.8057\n"
          ],
          "name": "stderr"
        },
        {
          "output_type": "stream",
          "text": [
            "Time taken for 1 epoch: 153.0431137084961 secs\n",
            "\n",
            "Epoch 135 TRAIN Batch 0 Loss 0.4662 Accuracy 76.8682 AUC 0.8208\n",
            "Epoch 135 TRAIN Batch 50 Loss 0.4929 Accuracy 75.2539 AUC 0.8058\n",
            "Epoch 135 TRAIN Batch 100 Loss 0.4921 Accuracy 75.2875 AUC 0.8060\n",
            "Epoch 135 TRAIN Batch 150 Loss 0.4930 Accuracy 75.2381 AUC 0.8059\n",
            "Epoch 135 TRAIN Batch 200 Loss 0.4933 Accuracy 75.2223 AUC 0.8057\n",
            "Epoch 135 TRAIN Batch 250 Loss 0.4933 Accuracy 75.2281 AUC 0.8058\n",
            "Epoch 135 TRAIN Batch 300 Loss 0.4930 Accuracy 75.2551 AUC 0.8059\n",
            "Epoch 135 TRAIN Batch 350 Loss 0.4929 Accuracy 75.2730 AUC 0.8060\n",
            "Epoch 135 TRAIN Batch 400 Loss 0.4931 Accuracy 75.2580 AUC 0.8059\n",
            "Epoch 135 TRAIN Batch 450 Loss 0.4933 Accuracy 75.2418 AUC 0.8057\n",
            "Epoch 135 TRAIN Batch 500 Loss 0.4934 Accuracy 75.2384 AUC 0.8057\n",
            "Epoch 135 TRAIN Batch 550 Loss 0.4935 Accuracy 75.2299 AUC 0.8056\n",
            "Epoch 135 TRAIN Batch 600 Loss 0.4935 Accuracy 75.2427 AUC 0.8055\n",
            "Epoch 135 TRAIN Batch 650 Loss 0.4935 Accuracy 75.2409 AUC 0.8054\n",
            "Epoch 135 TRAIN Batch 700 Loss 0.4935 Accuracy 75.2337 AUC 0.8054\n",
            "Epoch 135 TRAIN Batch 750 Loss 0.4935 Accuracy 75.2351 AUC 0.8054\n"
          ],
          "name": "stdout"
        },
        {
          "output_type": "stream",
          "text": [
            "27-12 21:41 root         INFO     Epoch TRAIN 135 Loss 0.4934 Accuracy 75.2425 AUC 0.8055\n"
          ],
          "name": "stderr"
        },
        {
          "output_type": "stream",
          "text": [
            "Epoch 135 VAL Batch 0 Loss 0.4930 Accuracy 75.3120 AUC 0.7989\n",
            "Epoch 135 VAL Batch 50 Loss 0.4967 Accuracy 75.1676 AUC 0.8015\n",
            "Epoch 135 VAL Batch 100 Loss 0.4952 Accuracy 75.2407 AUC 0.8026\n",
            "Epoch 135 VAL Batch 150 Loss 0.4950 Accuracy 75.2397 AUC 0.8027\n",
            "Epoch 135 VAL Batch 200 Loss 0.4949 Accuracy 75.2449 AUC 0.8028\n",
            "Epoch 135 VAL Batch 250 Loss 0.4953 Accuracy 75.2124 AUC 0.8028\n",
            "Epoch 135 VAL Batch 300 Loss 0.4958 Accuracy 75.1821 AUC 0.8026\n",
            "Epoch 135 VAL Batch 350 Loss 0.4960 Accuracy 75.1604 AUC 0.8026\n",
            "Epoch 135 VAL Batch 400 Loss 0.4962 Accuracy 75.1517 AUC 0.8024\n",
            "Epoch 135 VAL Batch 450 Loss 0.4962 Accuracy 75.1511 AUC 0.8023\n",
            "Epoch 135 VAL Batch 500 Loss 0.4961 Accuracy 75.1494 AUC 0.8024\n",
            "Epoch 135 VAL Batch 550 Loss 0.4962 Accuracy 75.1505 AUC 0.8023\n",
            "Epoch 135 VAL Batch 600 Loss 0.4961 Accuracy 75.1613 AUC 0.8024\n",
            "Epoch 135 VAL Batch 650 Loss 0.4962 Accuracy 75.1486 AUC 0.8023\n",
            "Epoch 135 VAL Batch 700 Loss 0.4961 Accuracy 75.1543 AUC 0.8024\n",
            "Epoch 135 VAL Batch 750 Loss 0.4962 Accuracy 75.1490 AUC 0.8024\n"
          ],
          "name": "stdout"
        },
        {
          "output_type": "stream",
          "text": [
            "27-12 21:41 root         INFO     Epoch VAL 135 Loss 0.4963 Accuracy 75.1397 AUC 0.8024\n",
            "27-12 21:41 root         INFO     Saving checkpoint for epoch 135 at 27-Dec-riiid-1/checkpoints/ckpt-25\n"
          ],
          "name": "stderr"
        },
        {
          "output_type": "stream",
          "text": [
            "Time taken for 1 epoch: 183.66752576828003 secs\n",
            "\n",
            "Epoch 136 TRAIN Batch 0 Loss 0.5009 Accuracy 74.2040 AUC 0.8007\n",
            "Epoch 136 TRAIN Batch 50 Loss 0.4922 Accuracy 75.3550 AUC 0.8058\n",
            "Epoch 136 TRAIN Batch 100 Loss 0.4928 Accuracy 75.3108 AUC 0.8056\n",
            "Epoch 136 TRAIN Batch 150 Loss 0.4930 Accuracy 75.2948 AUC 0.8056\n",
            "Epoch 136 TRAIN Batch 200 Loss 0.4931 Accuracy 75.2776 AUC 0.8058\n",
            "Epoch 136 TRAIN Batch 250 Loss 0.4931 Accuracy 75.2716 AUC 0.8057\n",
            "Epoch 136 TRAIN Batch 300 Loss 0.4931 Accuracy 75.2674 AUC 0.8056\n",
            "Epoch 136 TRAIN Batch 350 Loss 0.4930 Accuracy 75.2719 AUC 0.8056\n",
            "Epoch 136 TRAIN Batch 400 Loss 0.4930 Accuracy 75.2695 AUC 0.8056\n",
            "Epoch 136 TRAIN Batch 450 Loss 0.4929 Accuracy 75.2786 AUC 0.8057\n",
            "Epoch 136 TRAIN Batch 500 Loss 0.4928 Accuracy 75.2860 AUC 0.8058\n",
            "Epoch 136 TRAIN Batch 550 Loss 0.4929 Accuracy 75.2782 AUC 0.8057\n",
            "Epoch 136 TRAIN Batch 600 Loss 0.4929 Accuracy 75.2732 AUC 0.8057\n",
            "Epoch 136 TRAIN Batch 650 Loss 0.4930 Accuracy 75.2664 AUC 0.8057\n",
            "Epoch 136 TRAIN Batch 700 Loss 0.4930 Accuracy 75.2646 AUC 0.8057\n",
            "Epoch 136 TRAIN Batch 750 Loss 0.4931 Accuracy 75.2621 AUC 0.8057\n"
          ],
          "name": "stdout"
        },
        {
          "output_type": "stream",
          "text": [
            "27-12 21:44 root         INFO     Epoch TRAIN 136 Loss 0.4930 Accuracy 75.2663 AUC 0.8057\n"
          ],
          "name": "stderr"
        },
        {
          "output_type": "stream",
          "text": [
            "Time taken for 1 epoch: 152.90813159942627 secs\n",
            "\n",
            "Epoch 137 TRAIN Batch 0 Loss 0.5121 Accuracy 74.3414 AUC 0.7948\n",
            "Epoch 137 TRAIN Batch 50 Loss 0.4939 Accuracy 75.1869 AUC 0.8052\n",
            "Epoch 137 TRAIN Batch 100 Loss 0.4947 Accuracy 75.1220 AUC 0.8046\n",
            "Epoch 137 TRAIN Batch 150 Loss 0.4939 Accuracy 75.1972 AUC 0.8053\n",
            "Epoch 137 TRAIN Batch 200 Loss 0.4934 Accuracy 75.2294 AUC 0.8056\n",
            "Epoch 137 TRAIN Batch 250 Loss 0.4935 Accuracy 75.2187 AUC 0.8055\n",
            "Epoch 137 TRAIN Batch 300 Loss 0.4937 Accuracy 75.2070 AUC 0.8055\n",
            "Epoch 137 TRAIN Batch 350 Loss 0.4936 Accuracy 75.2126 AUC 0.8054\n",
            "Epoch 137 TRAIN Batch 400 Loss 0.4935 Accuracy 75.2204 AUC 0.8054\n",
            "Epoch 137 TRAIN Batch 450 Loss 0.4934 Accuracy 75.2296 AUC 0.8055\n",
            "Epoch 137 TRAIN Batch 500 Loss 0.4933 Accuracy 75.2403 AUC 0.8056\n",
            "Epoch 137 TRAIN Batch 550 Loss 0.4935 Accuracy 75.2279 AUC 0.8056\n",
            "Epoch 137 TRAIN Batch 600 Loss 0.4935 Accuracy 75.2286 AUC 0.8055\n",
            "Epoch 137 TRAIN Batch 650 Loss 0.4935 Accuracy 75.2242 AUC 0.8055\n",
            "Epoch 137 TRAIN Batch 700 Loss 0.4935 Accuracy 75.2260 AUC 0.8056\n",
            "Epoch 137 TRAIN Batch 750 Loss 0.4934 Accuracy 75.2310 AUC 0.8056\n"
          ],
          "name": "stdout"
        },
        {
          "output_type": "stream",
          "text": [
            "27-12 21:46 root         INFO     Epoch TRAIN 137 Loss 0.4935 Accuracy 75.2275 AUC 0.8056\n"
          ],
          "name": "stderr"
        },
        {
          "output_type": "stream",
          "text": [
            "Time taken for 1 epoch: 150.39990663528442 secs\n",
            "\n",
            "Epoch 138 TRAIN Batch 0 Loss 0.4928 Accuracy 75.1285 AUC 0.8119\n",
            "Epoch 138 TRAIN Batch 50 Loss 0.4926 Accuracy 75.3231 AUC 0.8059\n",
            "Epoch 138 TRAIN Batch 100 Loss 0.4928 Accuracy 75.3055 AUC 0.8061\n",
            "Epoch 138 TRAIN Batch 150 Loss 0.4933 Accuracy 75.2659 AUC 0.8060\n",
            "Epoch 138 TRAIN Batch 200 Loss 0.4932 Accuracy 75.2478 AUC 0.8060\n",
            "Epoch 138 TRAIN Batch 250 Loss 0.4933 Accuracy 75.2512 AUC 0.8060\n",
            "Epoch 138 TRAIN Batch 300 Loss 0.4932 Accuracy 75.2605 AUC 0.8060\n",
            "Epoch 138 TRAIN Batch 350 Loss 0.4931 Accuracy 75.2553 AUC 0.8060\n",
            "Epoch 138 TRAIN Batch 400 Loss 0.4930 Accuracy 75.2588 AUC 0.8060\n",
            "Epoch 138 TRAIN Batch 450 Loss 0.4932 Accuracy 75.2404 AUC 0.8058\n",
            "Epoch 138 TRAIN Batch 500 Loss 0.4931 Accuracy 75.2450 AUC 0.8058\n",
            "Epoch 138 TRAIN Batch 550 Loss 0.4932 Accuracy 75.2486 AUC 0.8059\n",
            "Epoch 138 TRAIN Batch 600 Loss 0.4930 Accuracy 75.2595 AUC 0.8060\n",
            "Epoch 138 TRAIN Batch 650 Loss 0.4929 Accuracy 75.2665 AUC 0.8060\n",
            "Epoch 138 TRAIN Batch 700 Loss 0.4931 Accuracy 75.2607 AUC 0.8059\n",
            "Epoch 138 TRAIN Batch 750 Loss 0.4930 Accuracy 75.2630 AUC 0.8059\n"
          ],
          "name": "stdout"
        },
        {
          "output_type": "stream",
          "text": [
            "27-12 21:49 root         INFO     Epoch TRAIN 138 Loss 0.4930 Accuracy 75.2614 AUC 0.8059\n"
          ],
          "name": "stderr"
        },
        {
          "output_type": "stream",
          "text": [
            "Time taken for 1 epoch: 151.22639632225037 secs\n",
            "\n",
            "Epoch 139 TRAIN Batch 0 Loss 0.4931 Accuracy 75.0437 AUC 0.8090\n",
            "Epoch 139 TRAIN Batch 50 Loss 0.4925 Accuracy 75.2562 AUC 0.8061\n",
            "Epoch 139 TRAIN Batch 100 Loss 0.4930 Accuracy 75.2406 AUC 0.8058\n",
            "Epoch 139 TRAIN Batch 150 Loss 0.4932 Accuracy 75.2365 AUC 0.8057\n",
            "Epoch 139 TRAIN Batch 200 Loss 0.4929 Accuracy 75.2724 AUC 0.8060\n",
            "Epoch 139 TRAIN Batch 250 Loss 0.4926 Accuracy 75.2922 AUC 0.8061\n",
            "Epoch 139 TRAIN Batch 300 Loss 0.4927 Accuracy 75.2809 AUC 0.8061\n",
            "Epoch 139 TRAIN Batch 350 Loss 0.4924 Accuracy 75.3001 AUC 0.8062\n",
            "Epoch 139 TRAIN Batch 400 Loss 0.4922 Accuracy 75.3140 AUC 0.8062\n",
            "Epoch 139 TRAIN Batch 450 Loss 0.4925 Accuracy 75.2903 AUC 0.8060\n",
            "Epoch 139 TRAIN Batch 500 Loss 0.4926 Accuracy 75.2836 AUC 0.8059\n",
            "Epoch 139 TRAIN Batch 550 Loss 0.4926 Accuracy 75.2811 AUC 0.8059\n",
            "Epoch 139 TRAIN Batch 600 Loss 0.4927 Accuracy 75.2749 AUC 0.8059\n",
            "Epoch 139 TRAIN Batch 650 Loss 0.4928 Accuracy 75.2681 AUC 0.8058\n",
            "Epoch 139 TRAIN Batch 700 Loss 0.4929 Accuracy 75.2654 AUC 0.8057\n",
            "Epoch 139 TRAIN Batch 750 Loss 0.4930 Accuracy 75.2626 AUC 0.8056\n"
          ],
          "name": "stdout"
        },
        {
          "output_type": "stream",
          "text": [
            "27-12 21:51 root         INFO     Epoch TRAIN 139 Loss 0.4930 Accuracy 75.2551 AUC 0.8057\n"
          ],
          "name": "stderr"
        },
        {
          "output_type": "stream",
          "text": [
            "Time taken for 1 epoch: 150.87000155448914 secs\n",
            "\n",
            "Epoch 140 TRAIN Batch 0 Loss 0.5056 Accuracy 74.3206 AUC 0.8048\n",
            "Epoch 140 TRAIN Batch 50 Loss 0.4941 Accuracy 75.2350 AUC 0.8058\n",
            "Epoch 140 TRAIN Batch 100 Loss 0.4922 Accuracy 75.3494 AUC 0.8067\n",
            "Epoch 140 TRAIN Batch 150 Loss 0.4925 Accuracy 75.3376 AUC 0.8062\n",
            "Epoch 140 TRAIN Batch 200 Loss 0.4927 Accuracy 75.3252 AUC 0.8062\n",
            "Epoch 140 TRAIN Batch 250 Loss 0.4928 Accuracy 75.3240 AUC 0.8061\n",
            "Epoch 140 TRAIN Batch 300 Loss 0.4929 Accuracy 75.3036 AUC 0.8060\n",
            "Epoch 140 TRAIN Batch 350 Loss 0.4930 Accuracy 75.2935 AUC 0.8060\n",
            "Epoch 140 TRAIN Batch 400 Loss 0.4931 Accuracy 75.2869 AUC 0.8059\n",
            "Epoch 140 TRAIN Batch 450 Loss 0.4929 Accuracy 75.2999 AUC 0.8060\n",
            "Epoch 140 TRAIN Batch 500 Loss 0.4928 Accuracy 75.3067 AUC 0.8061\n",
            "Epoch 140 TRAIN Batch 550 Loss 0.4929 Accuracy 75.3020 AUC 0.8060\n",
            "Epoch 140 TRAIN Batch 600 Loss 0.4929 Accuracy 75.3011 AUC 0.8060\n",
            "Epoch 140 TRAIN Batch 650 Loss 0.4931 Accuracy 75.2968 AUC 0.8059\n",
            "Epoch 140 TRAIN Batch 700 Loss 0.4930 Accuracy 75.2976 AUC 0.8058\n",
            "Epoch 140 TRAIN Batch 750 Loss 0.4930 Accuracy 75.2988 AUC 0.8058\n"
          ],
          "name": "stdout"
        },
        {
          "output_type": "stream",
          "text": [
            "27-12 21:54 root         INFO     Epoch TRAIN 140 Loss 0.4929 Accuracy 75.2988 AUC 0.8058\n"
          ],
          "name": "stderr"
        },
        {
          "output_type": "stream",
          "text": [
            "Epoch 140 VAL Batch 0 Loss 0.4932 Accuracy 75.5716 AUC 0.7984\n",
            "Epoch 140 VAL Batch 50 Loss 0.4963 Accuracy 75.1460 AUC 0.8014\n",
            "Epoch 140 VAL Batch 100 Loss 0.4949 Accuracy 75.2253 AUC 0.8024\n",
            "Epoch 140 VAL Batch 150 Loss 0.4946 Accuracy 75.2244 AUC 0.8026\n",
            "Epoch 140 VAL Batch 200 Loss 0.4945 Accuracy 75.2242 AUC 0.8027\n",
            "Epoch 140 VAL Batch 250 Loss 0.4949 Accuracy 75.1889 AUC 0.8027\n",
            "Epoch 140 VAL Batch 300 Loss 0.4954 Accuracy 75.1588 AUC 0.8025\n",
            "Epoch 140 VAL Batch 350 Loss 0.4956 Accuracy 75.1369 AUC 0.8025\n",
            "Epoch 140 VAL Batch 400 Loss 0.4958 Accuracy 75.1277 AUC 0.8023\n",
            "Epoch 140 VAL Batch 450 Loss 0.4959 Accuracy 75.1290 AUC 0.8022\n",
            "Epoch 140 VAL Batch 500 Loss 0.4958 Accuracy 75.1294 AUC 0.8023\n",
            "Epoch 140 VAL Batch 550 Loss 0.4959 Accuracy 75.1298 AUC 0.8022\n",
            "Epoch 140 VAL Batch 600 Loss 0.4957 Accuracy 75.1412 AUC 0.8023\n",
            "Epoch 140 VAL Batch 650 Loss 0.4959 Accuracy 75.1321 AUC 0.8021\n",
            "Epoch 140 VAL Batch 700 Loss 0.4958 Accuracy 75.1389 AUC 0.8023\n",
            "Epoch 140 VAL Batch 750 Loss 0.4959 Accuracy 75.1335 AUC 0.8023\n"
          ],
          "name": "stdout"
        },
        {
          "output_type": "stream",
          "text": [
            "27-12 21:54 root         INFO     Epoch VAL 140 Loss 0.4960 Accuracy 75.1237 AUC 0.8022\n"
          ],
          "name": "stderr"
        },
        {
          "output_type": "stream",
          "text": [
            "Time taken for 1 epoch: 185.64080214500427 secs\n",
            "\n",
            "Epoch 141 TRAIN Batch 0 Loss 0.4870 Accuracy 75.6896 AUC 0.8123\n",
            "Epoch 141 TRAIN Batch 50 Loss 0.4926 Accuracy 75.2582 AUC 0.8050\n",
            "Epoch 141 TRAIN Batch 100 Loss 0.4925 Accuracy 75.2938 AUC 0.8057\n",
            "Epoch 141 TRAIN Batch 150 Loss 0.4916 Accuracy 75.3612 AUC 0.8061\n",
            "Epoch 141 TRAIN Batch 200 Loss 0.4922 Accuracy 75.3323 AUC 0.8059\n",
            "Epoch 141 TRAIN Batch 250 Loss 0.4924 Accuracy 75.3251 AUC 0.8056\n",
            "Epoch 141 TRAIN Batch 300 Loss 0.4924 Accuracy 75.3254 AUC 0.8056\n",
            "Epoch 141 TRAIN Batch 350 Loss 0.4926 Accuracy 75.3051 AUC 0.8056\n",
            "Epoch 141 TRAIN Batch 400 Loss 0.4927 Accuracy 75.2962 AUC 0.8056\n",
            "Epoch 141 TRAIN Batch 450 Loss 0.4925 Accuracy 75.2993 AUC 0.8056\n",
            "Epoch 141 TRAIN Batch 500 Loss 0.4927 Accuracy 75.2900 AUC 0.8055\n",
            "Epoch 141 TRAIN Batch 550 Loss 0.4929 Accuracy 75.2740 AUC 0.8055\n",
            "Epoch 141 TRAIN Batch 600 Loss 0.4930 Accuracy 75.2644 AUC 0.8055\n",
            "Epoch 141 TRAIN Batch 650 Loss 0.4931 Accuracy 75.2544 AUC 0.8055\n",
            "Epoch 141 TRAIN Batch 700 Loss 0.4931 Accuracy 75.2522 AUC 0.8054\n",
            "Epoch 141 TRAIN Batch 750 Loss 0.4932 Accuracy 75.2421 AUC 0.8054\n"
          ],
          "name": "stdout"
        },
        {
          "output_type": "stream",
          "text": [
            "27-12 21:57 root         INFO     Epoch TRAIN 141 Loss 0.4932 Accuracy 75.2463 AUC 0.8055\n"
          ],
          "name": "stderr"
        },
        {
          "output_type": "stream",
          "text": [
            "Time taken for 1 epoch: 151.9385039806366 secs\n",
            "\n",
            "Epoch 142 TRAIN Batch 0 Loss 0.5025 Accuracy 74.6275 AUC 0.8050\n",
            "Epoch 142 TRAIN Batch 50 Loss 0.4929 Accuracy 75.2467 AUC 0.8057\n",
            "Epoch 142 TRAIN Batch 100 Loss 0.4921 Accuracy 75.3124 AUC 0.8057\n",
            "Epoch 142 TRAIN Batch 150 Loss 0.4936 Accuracy 75.2242 AUC 0.8051\n",
            "Epoch 142 TRAIN Batch 200 Loss 0.4933 Accuracy 75.2557 AUC 0.8053\n",
            "Epoch 142 TRAIN Batch 250 Loss 0.4932 Accuracy 75.2539 AUC 0.8055\n",
            "Epoch 142 TRAIN Batch 300 Loss 0.4935 Accuracy 75.2368 AUC 0.8054\n",
            "Epoch 142 TRAIN Batch 350 Loss 0.4934 Accuracy 75.2377 AUC 0.8055\n",
            "Epoch 142 TRAIN Batch 400 Loss 0.4931 Accuracy 75.2581 AUC 0.8056\n",
            "Epoch 142 TRAIN Batch 450 Loss 0.4931 Accuracy 75.2563 AUC 0.8057\n",
            "Epoch 142 TRAIN Batch 500 Loss 0.4931 Accuracy 75.2503 AUC 0.8056\n",
            "Epoch 142 TRAIN Batch 550 Loss 0.4930 Accuracy 75.2567 AUC 0.8056\n",
            "Epoch 142 TRAIN Batch 600 Loss 0.4928 Accuracy 75.2670 AUC 0.8057\n",
            "Epoch 142 TRAIN Batch 650 Loss 0.4929 Accuracy 75.2623 AUC 0.8057\n",
            "Epoch 142 TRAIN Batch 700 Loss 0.4930 Accuracy 75.2556 AUC 0.8057\n",
            "Epoch 142 TRAIN Batch 750 Loss 0.4931 Accuracy 75.2486 AUC 0.8056\n"
          ],
          "name": "stdout"
        },
        {
          "output_type": "stream",
          "text": [
            "27-12 21:59 root         INFO     Epoch TRAIN 142 Loss 0.4931 Accuracy 75.2480 AUC 0.8057\n"
          ],
          "name": "stderr"
        },
        {
          "output_type": "stream",
          "text": [
            "Time taken for 1 epoch: 151.66923356056213 secs\n",
            "\n",
            "Epoch 143 TRAIN Batch 0 Loss 0.4862 Accuracy 75.8443 AUC 0.8085\n",
            "Epoch 143 TRAIN Batch 50 Loss 0.4940 Accuracy 75.1928 AUC 0.8049\n",
            "Epoch 143 TRAIN Batch 100 Loss 0.4934 Accuracy 75.2182 AUC 0.8053\n",
            "Epoch 143 TRAIN Batch 150 Loss 0.4933 Accuracy 75.2419 AUC 0.8055\n",
            "Epoch 143 TRAIN Batch 200 Loss 0.4937 Accuracy 75.2188 AUC 0.8054\n",
            "Epoch 143 TRAIN Batch 250 Loss 0.4938 Accuracy 75.2017 AUC 0.8055\n",
            "Epoch 143 TRAIN Batch 300 Loss 0.4939 Accuracy 75.1982 AUC 0.8055\n",
            "Epoch 143 TRAIN Batch 350 Loss 0.4937 Accuracy 75.2079 AUC 0.8055\n",
            "Epoch 143 TRAIN Batch 400 Loss 0.4935 Accuracy 75.2273 AUC 0.8057\n",
            "Epoch 143 TRAIN Batch 450 Loss 0.4933 Accuracy 75.2481 AUC 0.8058\n",
            "Epoch 143 TRAIN Batch 500 Loss 0.4933 Accuracy 75.2366 AUC 0.8057\n",
            "Epoch 143 TRAIN Batch 550 Loss 0.4933 Accuracy 75.2403 AUC 0.8056\n",
            "Epoch 143 TRAIN Batch 600 Loss 0.4933 Accuracy 75.2323 AUC 0.8056\n",
            "Epoch 143 TRAIN Batch 650 Loss 0.4933 Accuracy 75.2336 AUC 0.8057\n",
            "Epoch 143 TRAIN Batch 700 Loss 0.4935 Accuracy 75.2236 AUC 0.8056\n",
            "Epoch 143 TRAIN Batch 750 Loss 0.4936 Accuracy 75.2160 AUC 0.8056\n"
          ],
          "name": "stdout"
        },
        {
          "output_type": "stream",
          "text": [
            "27-12 22:02 root         INFO     Epoch TRAIN 143 Loss 0.4935 Accuracy 75.2218 AUC 0.8056\n"
          ],
          "name": "stderr"
        },
        {
          "output_type": "stream",
          "text": [
            "Time taken for 1 epoch: 151.34899163246155 secs\n",
            "\n",
            "Epoch 144 TRAIN Batch 0 Loss 0.4889 Accuracy 75.5574 AUC 0.8037\n",
            "Epoch 144 TRAIN Batch 50 Loss 0.4918 Accuracy 75.2539 AUC 0.8055\n",
            "Epoch 144 TRAIN Batch 100 Loss 0.4918 Accuracy 75.2723 AUC 0.8057\n",
            "Epoch 144 TRAIN Batch 150 Loss 0.4931 Accuracy 75.2146 AUC 0.8055\n",
            "Epoch 144 TRAIN Batch 200 Loss 0.4927 Accuracy 75.2558 AUC 0.8059\n",
            "Epoch 144 TRAIN Batch 250 Loss 0.4925 Accuracy 75.2741 AUC 0.8062\n",
            "Epoch 144 TRAIN Batch 300 Loss 0.4924 Accuracy 75.2798 AUC 0.8061\n",
            "Epoch 144 TRAIN Batch 350 Loss 0.4928 Accuracy 75.2589 AUC 0.8060\n",
            "Epoch 144 TRAIN Batch 400 Loss 0.4929 Accuracy 75.2499 AUC 0.8060\n",
            "Epoch 144 TRAIN Batch 450 Loss 0.4930 Accuracy 75.2491 AUC 0.8058\n",
            "Epoch 144 TRAIN Batch 500 Loss 0.4929 Accuracy 75.2595 AUC 0.8059\n",
            "Epoch 144 TRAIN Batch 550 Loss 0.4929 Accuracy 75.2663 AUC 0.8060\n",
            "Epoch 144 TRAIN Batch 600 Loss 0.4929 Accuracy 75.2642 AUC 0.8060\n",
            "Epoch 144 TRAIN Batch 650 Loss 0.4928 Accuracy 75.2749 AUC 0.8060\n",
            "Epoch 144 TRAIN Batch 700 Loss 0.4929 Accuracy 75.2709 AUC 0.8059\n",
            "Epoch 144 TRAIN Batch 750 Loss 0.4929 Accuracy 75.2715 AUC 0.8059\n"
          ],
          "name": "stdout"
        },
        {
          "output_type": "stream",
          "text": [
            "27-12 22:04 root         INFO     Epoch TRAIN 144 Loss 0.4929 Accuracy 75.2769 AUC 0.8059\n"
          ],
          "name": "stderr"
        },
        {
          "output_type": "stream",
          "text": [
            "Time taken for 1 epoch: 151.70479011535645 secs\n",
            "\n",
            "Epoch 145 TRAIN Batch 0 Loss 0.4825 Accuracy 76.0857 AUC 0.8077\n",
            "Epoch 145 TRAIN Batch 50 Loss 0.4924 Accuracy 75.3140 AUC 0.8060\n",
            "Epoch 145 TRAIN Batch 100 Loss 0.4930 Accuracy 75.2838 AUC 0.8058\n",
            "Epoch 145 TRAIN Batch 150 Loss 0.4922 Accuracy 75.3373 AUC 0.8061\n",
            "Epoch 145 TRAIN Batch 200 Loss 0.4926 Accuracy 75.3143 AUC 0.8061\n",
            "Epoch 145 TRAIN Batch 250 Loss 0.4925 Accuracy 75.3125 AUC 0.8062\n",
            "Epoch 145 TRAIN Batch 300 Loss 0.4927 Accuracy 75.2986 AUC 0.8061\n",
            "Epoch 145 TRAIN Batch 350 Loss 0.4927 Accuracy 75.2942 AUC 0.8061\n",
            "Epoch 145 TRAIN Batch 400 Loss 0.4926 Accuracy 75.3017 AUC 0.8061\n",
            "Epoch 145 TRAIN Batch 450 Loss 0.4926 Accuracy 75.2939 AUC 0.8061\n",
            "Epoch 145 TRAIN Batch 500 Loss 0.4926 Accuracy 75.2983 AUC 0.8061\n",
            "Epoch 145 TRAIN Batch 550 Loss 0.4927 Accuracy 75.2901 AUC 0.8060\n",
            "Epoch 145 TRAIN Batch 600 Loss 0.4926 Accuracy 75.2895 AUC 0.8061\n",
            "Epoch 145 TRAIN Batch 650 Loss 0.4928 Accuracy 75.2742 AUC 0.8060\n",
            "Epoch 145 TRAIN Batch 700 Loss 0.4928 Accuracy 75.2732 AUC 0.8060\n",
            "Epoch 145 TRAIN Batch 750 Loss 0.4929 Accuracy 75.2662 AUC 0.8059\n"
          ],
          "name": "stdout"
        },
        {
          "output_type": "stream",
          "text": [
            "27-12 22:07 root         INFO     Epoch TRAIN 145 Loss 0.4929 Accuracy 75.2689 AUC 0.8059\n"
          ],
          "name": "stderr"
        },
        {
          "output_type": "stream",
          "text": [
            "Epoch 145 VAL Batch 0 Loss 0.4927 Accuracy 75.5464 AUC 0.7993\n",
            "Epoch 145 VAL Batch 50 Loss 0.4964 Accuracy 75.1118 AUC 0.8015\n",
            "Epoch 145 VAL Batch 100 Loss 0.4949 Accuracy 75.2011 AUC 0.8025\n",
            "Epoch 145 VAL Batch 150 Loss 0.4948 Accuracy 75.2069 AUC 0.8026\n",
            "Epoch 145 VAL Batch 200 Loss 0.4947 Accuracy 75.2273 AUC 0.8028\n",
            "Epoch 145 VAL Batch 250 Loss 0.4950 Accuracy 75.1933 AUC 0.8028\n",
            "Epoch 145 VAL Batch 300 Loss 0.4955 Accuracy 75.1612 AUC 0.8026\n",
            "Epoch 145 VAL Batch 350 Loss 0.4957 Accuracy 75.1414 AUC 0.8026\n",
            "Epoch 145 VAL Batch 400 Loss 0.4959 Accuracy 75.1322 AUC 0.8024\n",
            "Epoch 145 VAL Batch 450 Loss 0.4960 Accuracy 75.1340 AUC 0.8024\n",
            "Epoch 145 VAL Batch 500 Loss 0.4959 Accuracy 75.1349 AUC 0.8024\n",
            "Epoch 145 VAL Batch 550 Loss 0.4960 Accuracy 75.1330 AUC 0.8023\n",
            "Epoch 145 VAL Batch 600 Loss 0.4958 Accuracy 75.1440 AUC 0.8024\n",
            "Epoch 145 VAL Batch 650 Loss 0.4960 Accuracy 75.1328 AUC 0.8023\n",
            "Epoch 145 VAL Batch 700 Loss 0.4959 Accuracy 75.1399 AUC 0.8024\n",
            "Epoch 145 VAL Batch 750 Loss 0.4960 Accuracy 75.1358 AUC 0.8024\n"
          ],
          "name": "stdout"
        },
        {
          "output_type": "stream",
          "text": [
            "27-12 22:08 root         INFO     Epoch VAL 145 Loss 0.4961 Accuracy 75.1265 AUC 0.8024\n"
          ],
          "name": "stderr"
        },
        {
          "output_type": "stream",
          "text": [
            "Time taken for 1 epoch: 183.67710947990417 secs\n",
            "\n",
            "Epoch 146 TRAIN Batch 0 Loss 0.5007 Accuracy 75.1522 AUC 0.8001\n",
            "Epoch 146 TRAIN Batch 50 Loss 0.4932 Accuracy 75.3167 AUC 0.8062\n",
            "Epoch 146 TRAIN Batch 100 Loss 0.4937 Accuracy 75.2391 AUC 0.8057\n",
            "Epoch 146 TRAIN Batch 150 Loss 0.4931 Accuracy 75.2775 AUC 0.8057\n",
            "Epoch 146 TRAIN Batch 200 Loss 0.4929 Accuracy 75.2842 AUC 0.8059\n",
            "Epoch 146 TRAIN Batch 250 Loss 0.4929 Accuracy 75.2722 AUC 0.8059\n",
            "Epoch 146 TRAIN Batch 300 Loss 0.4931 Accuracy 75.2733 AUC 0.8060\n",
            "Epoch 146 TRAIN Batch 350 Loss 0.4931 Accuracy 75.2660 AUC 0.8061\n",
            "Epoch 146 TRAIN Batch 400 Loss 0.4932 Accuracy 75.2594 AUC 0.8059\n",
            "Epoch 146 TRAIN Batch 450 Loss 0.4931 Accuracy 75.2677 AUC 0.8059\n",
            "Epoch 146 TRAIN Batch 500 Loss 0.4930 Accuracy 75.2661 AUC 0.8059\n",
            "Epoch 146 TRAIN Batch 550 Loss 0.4931 Accuracy 75.2629 AUC 0.8059\n",
            "Epoch 146 TRAIN Batch 600 Loss 0.4931 Accuracy 75.2625 AUC 0.8058\n",
            "Epoch 146 TRAIN Batch 650 Loss 0.4930 Accuracy 75.2674 AUC 0.8059\n",
            "Epoch 146 TRAIN Batch 700 Loss 0.4930 Accuracy 75.2647 AUC 0.8058\n",
            "Epoch 146 TRAIN Batch 750 Loss 0.4931 Accuracy 75.2585 AUC 0.8058\n"
          ],
          "name": "stdout"
        },
        {
          "output_type": "stream",
          "text": [
            "27-12 22:10 root         INFO     Epoch TRAIN 146 Loss 0.4930 Accuracy 75.2629 AUC 0.8058\n"
          ],
          "name": "stderr"
        },
        {
          "output_type": "stream",
          "text": [
            "Time taken for 1 epoch: 152.11931228637695 secs\n",
            "\n",
            "Epoch 147 TRAIN Batch 0 Loss 0.5062 Accuracy 74.4012 AUC 0.7963\n",
            "Epoch 147 TRAIN Batch 50 Loss 0.4923 Accuracy 75.3003 AUC 0.8067\n",
            "Epoch 147 TRAIN Batch 100 Loss 0.4931 Accuracy 75.2458 AUC 0.8061\n",
            "Epoch 147 TRAIN Batch 150 Loss 0.4928 Accuracy 75.2724 AUC 0.8059\n",
            "Epoch 147 TRAIN Batch 200 Loss 0.4936 Accuracy 75.1902 AUC 0.8058\n",
            "Epoch 147 TRAIN Batch 250 Loss 0.4936 Accuracy 75.1931 AUC 0.8059\n",
            "Epoch 147 TRAIN Batch 300 Loss 0.4933 Accuracy 75.2198 AUC 0.8063\n",
            "Epoch 147 TRAIN Batch 350 Loss 0.4934 Accuracy 75.2087 AUC 0.8060\n",
            "Epoch 147 TRAIN Batch 400 Loss 0.4935 Accuracy 75.1977 AUC 0.8059\n",
            "Epoch 147 TRAIN Batch 450 Loss 0.4935 Accuracy 75.1967 AUC 0.8059\n",
            "Epoch 147 TRAIN Batch 500 Loss 0.4934 Accuracy 75.2003 AUC 0.8059\n",
            "Epoch 147 TRAIN Batch 550 Loss 0.4933 Accuracy 75.2104 AUC 0.8059\n",
            "Epoch 147 TRAIN Batch 600 Loss 0.4931 Accuracy 75.2324 AUC 0.8060\n",
            "Epoch 147 TRAIN Batch 650 Loss 0.4931 Accuracy 75.2383 AUC 0.8060\n",
            "Epoch 147 TRAIN Batch 700 Loss 0.4931 Accuracy 75.2389 AUC 0.8060\n",
            "Epoch 147 TRAIN Batch 750 Loss 0.4929 Accuracy 75.2515 AUC 0.8061\n"
          ],
          "name": "stdout"
        },
        {
          "output_type": "stream",
          "text": [
            "27-12 22:13 root         INFO     Epoch TRAIN 147 Loss 0.4927 Accuracy 75.2650 AUC 0.8062\n"
          ],
          "name": "stderr"
        },
        {
          "output_type": "stream",
          "text": [
            "Time taken for 1 epoch: 150.92729449272156 secs\n",
            "\n",
            "Epoch 148 TRAIN Batch 0 Loss 0.4923 Accuracy 75.3633 AUC 0.8100\n",
            "Epoch 148 TRAIN Batch 50 Loss 0.4931 Accuracy 75.2853 AUC 0.8065\n",
            "Epoch 148 TRAIN Batch 100 Loss 0.4921 Accuracy 75.3489 AUC 0.8069\n",
            "Epoch 148 TRAIN Batch 150 Loss 0.4921 Accuracy 75.3386 AUC 0.8069\n",
            "Epoch 148 TRAIN Batch 200 Loss 0.4926 Accuracy 75.3190 AUC 0.8063\n",
            "Epoch 148 TRAIN Batch 250 Loss 0.4926 Accuracy 75.3034 AUC 0.8061\n",
            "Epoch 148 TRAIN Batch 300 Loss 0.4925 Accuracy 75.3092 AUC 0.8061\n",
            "Epoch 148 TRAIN Batch 350 Loss 0.4923 Accuracy 75.3217 AUC 0.8062\n",
            "Epoch 148 TRAIN Batch 400 Loss 0.4922 Accuracy 75.3321 AUC 0.8062\n",
            "Epoch 148 TRAIN Batch 450 Loss 0.4923 Accuracy 75.3307 AUC 0.8063\n",
            "Epoch 148 TRAIN Batch 500 Loss 0.4920 Accuracy 75.3558 AUC 0.8064\n",
            "Epoch 148 TRAIN Batch 550 Loss 0.4920 Accuracy 75.3583 AUC 0.8064\n",
            "Epoch 148 TRAIN Batch 600 Loss 0.4919 Accuracy 75.3611 AUC 0.8064\n",
            "Epoch 148 TRAIN Batch 650 Loss 0.4921 Accuracy 75.3423 AUC 0.8064\n",
            "Epoch 148 TRAIN Batch 700 Loss 0.4922 Accuracy 75.3347 AUC 0.8063\n",
            "Epoch 148 TRAIN Batch 750 Loss 0.4922 Accuracy 75.3362 AUC 0.8063\n"
          ],
          "name": "stdout"
        },
        {
          "output_type": "stream",
          "text": [
            "27-12 22:15 root         INFO     Epoch TRAIN 148 Loss 0.4921 Accuracy 75.3374 AUC 0.8063\n"
          ],
          "name": "stderr"
        },
        {
          "output_type": "stream",
          "text": [
            "Time taken for 1 epoch: 147.2473030090332 secs\n",
            "\n",
            "Epoch 149 TRAIN Batch 0 Loss 0.4962 Accuracy 74.8167 AUC 0.8041\n",
            "Epoch 149 TRAIN Batch 50 Loss 0.4936 Accuracy 75.2105 AUC 0.8058\n",
            "Epoch 149 TRAIN Batch 100 Loss 0.4927 Accuracy 75.2525 AUC 0.8064\n",
            "Epoch 149 TRAIN Batch 150 Loss 0.4920 Accuracy 75.3158 AUC 0.8066\n",
            "Epoch 149 TRAIN Batch 200 Loss 0.4916 Accuracy 75.3428 AUC 0.8068\n",
            "Epoch 149 TRAIN Batch 250 Loss 0.4920 Accuracy 75.3244 AUC 0.8064\n",
            "Epoch 149 TRAIN Batch 300 Loss 0.4921 Accuracy 75.3166 AUC 0.8064\n",
            "Epoch 149 TRAIN Batch 350 Loss 0.4923 Accuracy 75.3048 AUC 0.8063\n",
            "Epoch 149 TRAIN Batch 400 Loss 0.4921 Accuracy 75.3248 AUC 0.8065\n",
            "Epoch 149 TRAIN Batch 450 Loss 0.4924 Accuracy 75.3000 AUC 0.8063\n",
            "Epoch 149 TRAIN Batch 500 Loss 0.4923 Accuracy 75.3025 AUC 0.8063\n",
            "Epoch 149 TRAIN Batch 550 Loss 0.4924 Accuracy 75.2943 AUC 0.8063\n",
            "Epoch 149 TRAIN Batch 600 Loss 0.4922 Accuracy 75.3047 AUC 0.8064\n",
            "Epoch 149 TRAIN Batch 650 Loss 0.4922 Accuracy 75.3100 AUC 0.8064\n",
            "Epoch 149 TRAIN Batch 700 Loss 0.4922 Accuracy 75.3118 AUC 0.8064\n",
            "Epoch 149 TRAIN Batch 750 Loss 0.4922 Accuracy 75.3138 AUC 0.8065\n"
          ],
          "name": "stdout"
        },
        {
          "output_type": "stream",
          "text": [
            "27-12 22:18 root         INFO     Epoch TRAIN 149 Loss 0.4922 Accuracy 75.3145 AUC 0.8065\n"
          ],
          "name": "stderr"
        },
        {
          "output_type": "stream",
          "text": [
            "Time taken for 1 epoch: 151.0183460712433 secs\n",
            "\n",
            "Epoch 150 TRAIN Batch 0 Loss 0.5154 Accuracy 73.0628 AUC 0.7915\n",
            "Epoch 150 TRAIN Batch 50 Loss 0.4932 Accuracy 75.2230 AUC 0.8054\n",
            "Epoch 150 TRAIN Batch 100 Loss 0.4933 Accuracy 75.2303 AUC 0.8053\n",
            "Epoch 150 TRAIN Batch 150 Loss 0.4933 Accuracy 75.2449 AUC 0.8052\n",
            "Epoch 150 TRAIN Batch 200 Loss 0.4929 Accuracy 75.2732 AUC 0.8058\n",
            "Epoch 150 TRAIN Batch 250 Loss 0.4929 Accuracy 75.2745 AUC 0.8059\n",
            "Epoch 150 TRAIN Batch 300 Loss 0.4927 Accuracy 75.2786 AUC 0.8059\n",
            "Epoch 150 TRAIN Batch 350 Loss 0.4928 Accuracy 75.2650 AUC 0.8059\n",
            "Epoch 150 TRAIN Batch 400 Loss 0.4930 Accuracy 75.2660 AUC 0.8058\n",
            "Epoch 150 TRAIN Batch 450 Loss 0.4928 Accuracy 75.2774 AUC 0.8059\n",
            "Epoch 150 TRAIN Batch 500 Loss 0.4927 Accuracy 75.2731 AUC 0.8059\n",
            "Epoch 150 TRAIN Batch 550 Loss 0.4926 Accuracy 75.2869 AUC 0.8060\n",
            "Epoch 150 TRAIN Batch 600 Loss 0.4927 Accuracy 75.2752 AUC 0.8059\n",
            "Epoch 150 TRAIN Batch 650 Loss 0.4927 Accuracy 75.2819 AUC 0.8059\n",
            "Epoch 150 TRAIN Batch 700 Loss 0.4926 Accuracy 75.2885 AUC 0.8060\n",
            "Epoch 150 TRAIN Batch 750 Loss 0.4925 Accuracy 75.3001 AUC 0.8061\n"
          ],
          "name": "stdout"
        },
        {
          "output_type": "stream",
          "text": [
            "27-12 22:20 root         INFO     Epoch TRAIN 150 Loss 0.4923 Accuracy 75.3102 AUC 0.8061\n"
          ],
          "name": "stderr"
        },
        {
          "output_type": "stream",
          "text": [
            "Epoch 150 VAL Batch 0 Loss 0.4943 Accuracy 75.4376 AUC 0.7987\n",
            "Epoch 150 VAL Batch 50 Loss 0.4969 Accuracy 75.1462 AUC 0.8015\n",
            "Epoch 150 VAL Batch 100 Loss 0.4953 Accuracy 75.2445 AUC 0.8025\n",
            "Epoch 150 VAL Batch 150 Loss 0.4952 Accuracy 75.2417 AUC 0.8026\n",
            "Epoch 150 VAL Batch 200 Loss 0.4951 Accuracy 75.2460 AUC 0.8028\n",
            "Epoch 150 VAL Batch 250 Loss 0.4955 Accuracy 75.2152 AUC 0.8028\n",
            "Epoch 150 VAL Batch 300 Loss 0.4960 Accuracy 75.1777 AUC 0.8025\n",
            "Epoch 150 VAL Batch 350 Loss 0.4962 Accuracy 75.1524 AUC 0.8025\n",
            "Epoch 150 VAL Batch 400 Loss 0.4964 Accuracy 75.1454 AUC 0.8023\n",
            "Epoch 150 VAL Batch 450 Loss 0.4964 Accuracy 75.1484 AUC 0.8023\n",
            "Epoch 150 VAL Batch 500 Loss 0.4964 Accuracy 75.1467 AUC 0.8023\n",
            "Epoch 150 VAL Batch 550 Loss 0.4965 Accuracy 75.1467 AUC 0.8022\n",
            "Epoch 150 VAL Batch 600 Loss 0.4963 Accuracy 75.1574 AUC 0.8023\n",
            "Epoch 150 VAL Batch 650 Loss 0.4965 Accuracy 75.1467 AUC 0.8022\n",
            "Epoch 150 VAL Batch 700 Loss 0.4964 Accuracy 75.1532 AUC 0.8023\n",
            "Epoch 150 VAL Batch 750 Loss 0.4965 Accuracy 75.1478 AUC 0.8023\n"
          ],
          "name": "stdout"
        },
        {
          "output_type": "stream",
          "text": [
            "27-12 22:21 root         INFO     Epoch VAL 150 Loss 0.4966 Accuracy 75.1379 AUC 0.8023\n"
          ],
          "name": "stderr"
        },
        {
          "output_type": "stream",
          "text": [
            "Time taken for 1 epoch: 183.86889052391052 secs\n",
            "\n",
            "Epoch 151 TRAIN Batch 0 Loss 0.5057 Accuracy 74.7874 AUC 0.7914\n"
          ],
          "name": "stdout"
        },
        {
          "output_type": "error",
          "ename": "KeyboardInterrupt",
          "evalue": "ignored",
          "traceback": [
            "\u001b[0;31m---------------------------------------------------------------------------\u001b[0m",
            "\u001b[0;31mKeyboardInterrupt\u001b[0m                         Traceback (most recent call last)",
            "\u001b[0;32m<ipython-input-94-d59b71d0b893>\u001b[0m in \u001b[0;36m<module>\u001b[0;34m()\u001b[0m\n\u001b[1;32m     19\u001b[0m \u001b[0;34m\u001b[0m\u001b[0m\n\u001b[1;32m     20\u001b[0m         \u001b[0minputs\u001b[0m \u001b[0;34m=\u001b[0m \u001b[0;34m[\u001b[0m\u001b[0mE\u001b[0m\u001b[0;34m,\u001b[0m \u001b[0mtar_inp\u001b[0m\u001b[0;34m]\u001b[0m \u001b[0;34m+\u001b[0m \u001b[0mlist\u001b[0m\u001b[0;34m(\u001b[0m\u001b[0mrest\u001b[0m\u001b[0;34m)\u001b[0m\u001b[0;34m\u001b[0m\u001b[0;34m\u001b[0m\u001b[0m\n\u001b[0;32m---> 21\u001b[0;31m         \u001b[0mtrain_step\u001b[0m\u001b[0;34m(\u001b[0m\u001b[0mtar_real\u001b[0m\u001b[0;34m,\u001b[0m \u001b[0minputs\u001b[0m\u001b[0;34m)\u001b[0m\u001b[0;34m\u001b[0m\u001b[0;34m\u001b[0m\u001b[0m\n\u001b[0m\u001b[1;32m     22\u001b[0m \u001b[0;34m\u001b[0m\u001b[0m\n\u001b[1;32m     23\u001b[0m         \u001b[0;32mif\u001b[0m \u001b[0mbatch\u001b[0m \u001b[0;34m%\u001b[0m \u001b[0mPRINT_EVERY_N_BATCHES\u001b[0m \u001b[0;34m==\u001b[0m \u001b[0;36m0\u001b[0m\u001b[0;34m:\u001b[0m\u001b[0;34m\u001b[0m\u001b[0;34m\u001b[0m\u001b[0m\n",
            "\u001b[0;32m/usr/local/lib/python3.6/dist-packages/tensorflow/python/eager/def_function.py\u001b[0m in \u001b[0;36m__call__\u001b[0;34m(self, *args, **kwds)\u001b[0m\n\u001b[1;32m    826\u001b[0m     \u001b[0mtracing_count\u001b[0m \u001b[0;34m=\u001b[0m \u001b[0mself\u001b[0m\u001b[0;34m.\u001b[0m\u001b[0mexperimental_get_tracing_count\u001b[0m\u001b[0;34m(\u001b[0m\u001b[0;34m)\u001b[0m\u001b[0;34m\u001b[0m\u001b[0;34m\u001b[0m\u001b[0m\n\u001b[1;32m    827\u001b[0m     \u001b[0;32mwith\u001b[0m \u001b[0mtrace\u001b[0m\u001b[0;34m.\u001b[0m\u001b[0mTrace\u001b[0m\u001b[0;34m(\u001b[0m\u001b[0mself\u001b[0m\u001b[0;34m.\u001b[0m\u001b[0m_name\u001b[0m\u001b[0;34m)\u001b[0m \u001b[0;32mas\u001b[0m \u001b[0mtm\u001b[0m\u001b[0;34m:\u001b[0m\u001b[0;34m\u001b[0m\u001b[0;34m\u001b[0m\u001b[0m\n\u001b[0;32m--> 828\u001b[0;31m       \u001b[0mresult\u001b[0m \u001b[0;34m=\u001b[0m \u001b[0mself\u001b[0m\u001b[0;34m.\u001b[0m\u001b[0m_call\u001b[0m\u001b[0;34m(\u001b[0m\u001b[0;34m*\u001b[0m\u001b[0margs\u001b[0m\u001b[0;34m,\u001b[0m \u001b[0;34m**\u001b[0m\u001b[0mkwds\u001b[0m\u001b[0;34m)\u001b[0m\u001b[0;34m\u001b[0m\u001b[0;34m\u001b[0m\u001b[0m\n\u001b[0m\u001b[1;32m    829\u001b[0m       \u001b[0mcompiler\u001b[0m \u001b[0;34m=\u001b[0m \u001b[0;34m\"xla\"\u001b[0m \u001b[0;32mif\u001b[0m \u001b[0mself\u001b[0m\u001b[0;34m.\u001b[0m\u001b[0m_experimental_compile\u001b[0m \u001b[0;32melse\u001b[0m \u001b[0;34m\"nonXla\"\u001b[0m\u001b[0;34m\u001b[0m\u001b[0;34m\u001b[0m\u001b[0m\n\u001b[1;32m    830\u001b[0m       \u001b[0mnew_tracing_count\u001b[0m \u001b[0;34m=\u001b[0m \u001b[0mself\u001b[0m\u001b[0;34m.\u001b[0m\u001b[0mexperimental_get_tracing_count\u001b[0m\u001b[0;34m(\u001b[0m\u001b[0;34m)\u001b[0m\u001b[0;34m\u001b[0m\u001b[0;34m\u001b[0m\u001b[0m\n",
            "\u001b[0;32m/usr/local/lib/python3.6/dist-packages/tensorflow/python/eager/def_function.py\u001b[0m in \u001b[0;36m_call\u001b[0;34m(self, *args, **kwds)\u001b[0m\n\u001b[1;32m    853\u001b[0m       \u001b[0;31m# In this case we have created variables on the first call, so we run the\u001b[0m\u001b[0;34m\u001b[0m\u001b[0;34m\u001b[0m\u001b[0;34m\u001b[0m\u001b[0m\n\u001b[1;32m    854\u001b[0m       \u001b[0;31m# defunned version which is guaranteed to never create variables.\u001b[0m\u001b[0;34m\u001b[0m\u001b[0;34m\u001b[0m\u001b[0;34m\u001b[0m\u001b[0m\n\u001b[0;32m--> 855\u001b[0;31m       \u001b[0;32mreturn\u001b[0m \u001b[0mself\u001b[0m\u001b[0;34m.\u001b[0m\u001b[0m_stateless_fn\u001b[0m\u001b[0;34m(\u001b[0m\u001b[0;34m*\u001b[0m\u001b[0margs\u001b[0m\u001b[0;34m,\u001b[0m \u001b[0;34m**\u001b[0m\u001b[0mkwds\u001b[0m\u001b[0;34m)\u001b[0m  \u001b[0;31m# pylint: disable=not-callable\u001b[0m\u001b[0;34m\u001b[0m\u001b[0;34m\u001b[0m\u001b[0m\n\u001b[0m\u001b[1;32m    856\u001b[0m     \u001b[0;32melif\u001b[0m \u001b[0mself\u001b[0m\u001b[0;34m.\u001b[0m\u001b[0m_stateful_fn\u001b[0m \u001b[0;32mis\u001b[0m \u001b[0;32mnot\u001b[0m \u001b[0;32mNone\u001b[0m\u001b[0;34m:\u001b[0m\u001b[0;34m\u001b[0m\u001b[0;34m\u001b[0m\u001b[0m\n\u001b[1;32m    857\u001b[0m       \u001b[0;31m# Release the lock early so that multiple threads can perform the call\u001b[0m\u001b[0;34m\u001b[0m\u001b[0;34m\u001b[0m\u001b[0;34m\u001b[0m\u001b[0m\n",
            "\u001b[0;32m/usr/local/lib/python3.6/dist-packages/tensorflow/python/eager/function.py\u001b[0m in \u001b[0;36m__call__\u001b[0;34m(self, *args, **kwargs)\u001b[0m\n\u001b[1;32m   2941\u001b[0m        filtered_flat_args) = self._maybe_define_function(args, kwargs)\n\u001b[1;32m   2942\u001b[0m     return graph_function._call_flat(\n\u001b[0;32m-> 2943\u001b[0;31m         filtered_flat_args, captured_inputs=graph_function.captured_inputs)  # pylint: disable=protected-access\n\u001b[0m\u001b[1;32m   2944\u001b[0m \u001b[0;34m\u001b[0m\u001b[0m\n\u001b[1;32m   2945\u001b[0m   \u001b[0;34m@\u001b[0m\u001b[0mproperty\u001b[0m\u001b[0;34m\u001b[0m\u001b[0;34m\u001b[0m\u001b[0m\n",
            "\u001b[0;32m/usr/local/lib/python3.6/dist-packages/tensorflow/python/eager/function.py\u001b[0m in \u001b[0;36m_call_flat\u001b[0;34m(self, args, captured_inputs, cancellation_manager)\u001b[0m\n\u001b[1;32m   1917\u001b[0m       \u001b[0;31m# No tape is watching; skip to running the function.\u001b[0m\u001b[0;34m\u001b[0m\u001b[0;34m\u001b[0m\u001b[0;34m\u001b[0m\u001b[0m\n\u001b[1;32m   1918\u001b[0m       return self._build_call_outputs(self._inference_function.call(\n\u001b[0;32m-> 1919\u001b[0;31m           ctx, args, cancellation_manager=cancellation_manager))\n\u001b[0m\u001b[1;32m   1920\u001b[0m     forward_backward = self._select_forward_and_backward_functions(\n\u001b[1;32m   1921\u001b[0m         \u001b[0margs\u001b[0m\u001b[0;34m,\u001b[0m\u001b[0;34m\u001b[0m\u001b[0;34m\u001b[0m\u001b[0m\n",
            "\u001b[0;32m/usr/local/lib/python3.6/dist-packages/tensorflow/python/eager/function.py\u001b[0m in \u001b[0;36mcall\u001b[0;34m(self, ctx, args, cancellation_manager)\u001b[0m\n\u001b[1;32m    558\u001b[0m               \u001b[0minputs\u001b[0m\u001b[0;34m=\u001b[0m\u001b[0margs\u001b[0m\u001b[0;34m,\u001b[0m\u001b[0;34m\u001b[0m\u001b[0;34m\u001b[0m\u001b[0m\n\u001b[1;32m    559\u001b[0m               \u001b[0mattrs\u001b[0m\u001b[0;34m=\u001b[0m\u001b[0mattrs\u001b[0m\u001b[0;34m,\u001b[0m\u001b[0;34m\u001b[0m\u001b[0;34m\u001b[0m\u001b[0m\n\u001b[0;32m--> 560\u001b[0;31m               ctx=ctx)\n\u001b[0m\u001b[1;32m    561\u001b[0m         \u001b[0;32melse\u001b[0m\u001b[0;34m:\u001b[0m\u001b[0;34m\u001b[0m\u001b[0;34m\u001b[0m\u001b[0m\n\u001b[1;32m    562\u001b[0m           outputs = execute.execute_with_cancellation(\n",
            "\u001b[0;32m/usr/local/lib/python3.6/dist-packages/tensorflow/python/eager/execute.py\u001b[0m in \u001b[0;36mquick_execute\u001b[0;34m(op_name, num_outputs, inputs, attrs, ctx, name)\u001b[0m\n\u001b[1;32m     58\u001b[0m     \u001b[0mctx\u001b[0m\u001b[0;34m.\u001b[0m\u001b[0mensure_initialized\u001b[0m\u001b[0;34m(\u001b[0m\u001b[0;34m)\u001b[0m\u001b[0;34m\u001b[0m\u001b[0;34m\u001b[0m\u001b[0m\n\u001b[1;32m     59\u001b[0m     tensors = pywrap_tfe.TFE_Py_Execute(ctx._handle, device_name, op_name,\n\u001b[0;32m---> 60\u001b[0;31m                                         inputs, attrs, num_outputs)\n\u001b[0m\u001b[1;32m     61\u001b[0m   \u001b[0;32mexcept\u001b[0m \u001b[0mcore\u001b[0m\u001b[0;34m.\u001b[0m\u001b[0m_NotOkStatusException\u001b[0m \u001b[0;32mas\u001b[0m \u001b[0me\u001b[0m\u001b[0;34m:\u001b[0m\u001b[0;34m\u001b[0m\u001b[0;34m\u001b[0m\u001b[0m\n\u001b[1;32m     62\u001b[0m     \u001b[0;32mif\u001b[0m \u001b[0mname\u001b[0m \u001b[0;32mis\u001b[0m \u001b[0;32mnot\u001b[0m \u001b[0;32mNone\u001b[0m\u001b[0;34m:\u001b[0m\u001b[0;34m\u001b[0m\u001b[0;34m\u001b[0m\u001b[0m\n",
            "\u001b[0;31mKeyboardInterrupt\u001b[0m: "
          ]
        }
      ]
    },
    {
      "cell_type": "markdown",
      "metadata": {
        "id": "RqQ1fIsLwkGE"
      },
      "source": [
        "## Summary\n",
        "\n",
        "In this tutorial, you learned about positional encoding, multi-head attention, the importance of masking and how to create a transformer.\n",
        "\n",
        "Try using a different dataset to train the transformer. You can also create the base transformer or transformer XL by changing the hyperparameters above. You can also use the layers defined here to create [BERT](https://arxiv.org/abs/1810.04805) and train state of the art models. Futhermore, you can implement beam search to get better predictions."
      ]
    },
    {
      "cell_type": "markdown",
      "metadata": {
        "id": "Ob_U1TjRE6A-"
      },
      "source": [
        "# Older code"
      ]
    },
    {
      "cell_type": "code",
      "metadata": {
        "id": "jCPtV7asE7w_"
      },
      "source": [
        "# # From https://stanford.edu/~shervine/blog/keras-how-to-generate-data-on-the-fly\n",
        "# class DataGenerator(keras.utils.Sequence):\n",
        "#     'Generates data for Keras'\n",
        "#     def __init__(self, df, shuffle=True):\n",
        "#         'Initialization'\n",
        "        \n",
        "#         self.df = df\n",
        "#         self.users = self.df[\"user_id\"].nunique()\n",
        "#         self.batch_size = BATCH_SIZE\n",
        "#         self.shuffle = shuffle\n",
        "#         self.on_epoch_end()\n",
        "\n",
        "#     def __len__(self):\n",
        "#         'Denotes the number of batches per epoch'\n",
        "#         return int(np.floor(len(self.list_IDs) / self.batch_size))\n",
        "\n",
        "#     def __getitem__(self, index):\n",
        "#         'Generate one batch of data'\n",
        "#         # Generate indexes of the batch\n",
        "#         indexes = self.indexes[index*self.batch_size:(index+1)*self.batch_size]\n",
        "\n",
        "#         # Find list of IDs\n",
        "#         list_IDs_temp = [self.list_IDs[k] for k in indexes]\n",
        "\n",
        "#         # Generate data\n",
        "#         X, y = self.__data_generation(list_IDs_temp)\n",
        "\n",
        "#         return X, y\n",
        "\n",
        "#     def on_epoch_end(self):\n",
        "#         'Updates indexes after each epoch'\n",
        "#         self.indexes = np.arange(len(self.list_IDs))\n",
        "#         if self.shuffle == True:\n",
        "#             np.random.shuffle(self.indexes)\n",
        "\n",
        "#     def __data_generation(self, list_IDs_temp):\n",
        "#         'Generates data containing batch_size samples' # X : (n_samples, *dim, n_channels)\n",
        "#         # Initialization\n",
        "#         X = np.empty((self.batch_size, *self.dim, self.n_channels))\n",
        "#         y = np.empty((self.batch_size), dtype=int)\n",
        "\n",
        "#         # Generate data\n",
        "#         for i, ID in enumerate(list_IDs_temp):\n",
        "#             # Store sample\n",
        "#             X[i,] = np.load('data/' + ID + '.npy')\n",
        "\n",
        "#             # Store class\n",
        "#             y[i] = self.labels[ID]\n",
        "\n",
        "#         return X, keras.utils.to_categorical(y, num_classes=self.n_classes)"
      ],
      "execution_count": null,
      "outputs": []
    },
    {
      "cell_type": "code",
      "metadata": {
        "id": "UrylowI_ThEY"
      },
      "source": [
        "# def save_dict(seq_dict, filename):\n",
        "#     with open(os.path.join(OUTPUT_FOLDER, filename), 'wb') as handle:\n",
        "#       pickle.dump(seq_dict, handle, protocol=pickle.HIGHEST_PROTOCOL)"
      ],
      "execution_count": null,
      "outputs": []
    },
    {
      "cell_type": "code",
      "metadata": {
        "id": "TTwScXwCThEY"
      },
      "source": [
        "# # Save last N dict to memory\n",
        "# E_dict = E_lists.apply(lambda x: x[-200:]).to_dict()\n",
        "# r_dict = r_lists.apply(lambda x: x[-200:]).to_dict()\n",
        "# et_dict = et_lists.apply(lambda x: x[-200:]).to_dict()"
      ],
      "execution_count": null,
      "outputs": []
    },
    {
      "cell_type": "code",
      "metadata": {
        "id": "AbXwrK5eThEY"
      },
      "source": [
        "# save_dict(E_dict, \"E.pkl\")\n",
        "# save_dict(r_dict, \"r.pkl\")\n",
        "# save_dict(et_dict, \"et.pkl\")"
      ],
      "execution_count": null,
      "outputs": []
    }
  ]
}